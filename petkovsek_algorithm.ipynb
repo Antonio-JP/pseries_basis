{
 "cells": [
  {
   "cell_type": "code",
   "execution_count": 1,
   "metadata": {},
   "outputs": [],
   "source": [
    "from psbasis import * # Loading our package\n",
    "\n",
    "%display latex\n",
    "n = PSBasis.n(None)"
   ]
  },
  {
   "cell_type": "markdown",
   "metadata": {},
   "source": [
    "$\\def\\cc{\\mathbb{C}}\\def\\nn{\\mathbb{N}}\\def\\kk{\\mathbb{K}}\\def\\qq{\\mathbb{Q}}\\def\\zz{\\mathbb{Z}}$\n",
    "$\\def\\basis{\\mathfrak{B}}\\def\\ibasis{\\mathfrak{I}}\\def\\pbasis{\\mathfrak{P}}\\def\\bbasis{\\mathfrak{C}}\\def\\hbasis{\\mathfrak{H}}$\n",
    "# Inverse Zeibelger Problem\n",
    "\n",
    "In this notebook we implement Petkovšek's algorithm DefiniteSumsSolutions in Sage using the basis ''ore_algebra'' package by M. Kauers and M. Mezzaroba.\n",
    "\n",
    "The main idea of this algorithm is translating recurrence equations that has no simple solution to a new difference equation which we may can compute a solution after assuming some hypergeometric terms in the original solution.\n",
    "\n",
    "### Input and output\n",
    "\n",
    "The algorithm receives a P-finite equation $L$ and some numbers $a_1,...,a_m \\in \\nn$ and some elements $b_1,...,b_m \\in \\kk$.\n",
    "\n",
    "The algorithm returns another P-finite equation $L'$, such that $(h_n)_{n\\geq 0}$ is a solution of $L'\\cdot h = 0$ if and only if\n",
    "$$L\\cdot\\left(\\sum_{k\\geq0}\\prod_{i=1}^m\\binom{a_in+b_i}{k}h_k\\right) = 0$$\n",
    "\n",
    "## 1. Compatible basis\n",
    "\n",
    "The idea of this algorithm is to change the usual representation of a sequence stablishing a different basis. Usually, for power series $\\kk[[x]]$, we use the _power basis_ $x^n$. However, there are other basis for the power series that, sometimes, help to write and solve a prolem from a new angle.\n",
    "\n",
    "Let $\\basis = \\{P_n\\ :\\ n\\in\\nn\\}$ be a basis over $\\kk$ of the ring of formal power series $\\kk[[x]]$. Although Petkovšek is mainly interested in basis formed by polynomials, we are going to include here also other type of power series basis.\n",
    "\n",
    "* $\\basis$ is said to be a **polynomial basis** if $\\deg(P_n) = n$.\n",
    "* $\\basis$ is said to be an **order basis** if $ord_x(P_n) = x$.\n",
    "* $\\basis$ is **$(A,B)$-compatible** for a linear operator $L$ if for any $n \\in \\nn$\n",
    "  $$L\\cdot P_n = \\sum_{k = -A}^{B} \\alpha_{n,k}P_{n+k},$$\n",
    "  i.e., applying the linear operator $L$ to $P_n$ expands the basis with a finite bound around $P_n$.\n",
    "  \n",
    "Petkovšek is also interested in a particular type of polynomial basis that will prove to be useful for the following results. Here we take the chance to add the definition for orthogonal polynomials.\n",
    "\n",
    "* $\\basis$ is a **factorial basis** if for all $n \\in \\nn$, $P_n | P_{n+1}$. This means, there is $p_n(x) \\in \\kk[x]$ such that $P_{n+1}(x) = P_n(x)p_n(x)$.\n",
    "  - *Remark*: in the particular case of polynomial basis, $p_n(x) = a_nx + b_n$ for some sequences $(a_n)$ and $(b_n)$.\n",
    "* $\\basis$ is a **orthogonal basis** if it is a *polynomial basis* such that for all $n \\in \\nn$ there are $a_n$, $b_n$ and $c_n$ in $\\kk$ such that\n",
    "  $$P_{n+1} = (a_nx + b_n)P_n - c_nP_{n-1}.$$\n",
    "\n",
    "\n",
    "### Example of compatible basis\n",
    "\n",
    "In this section we will see how the usual polynomial basis are compatible with some basic linear operators. We will follow the notation:\n",
    "\n",
    "* $\\pbasis$ will denote the _power basis_ where $P_n = x^n$.\n",
    "* $\\pbasis_{a,b}$ will denote the _general power basis_ where $P_n = (ax + b)^n$.\n",
    "* $\\bbasis$ will denote the _binomial basis_ where $P_n = \\binom{x}{n}$.\n",
    "* $\\bbasis_{a,b}$ will denote the _general binomial basis_ where $P_n = \\binom{ax+b}{n}$.\n",
    "* $\\hbasis$ will denote the basis of orthogonal _Hermite polynomial_ $P_n = H_n$\n",
    "\n",
    "And for the operators we will use:\n",
    "\n",
    "1. $D$ for standard derivation in $\\kk[[x]]$.\n",
    "2. $E$ for the _shift_ operator $x \\rightarrow (x+1)$.\n",
    "3. $Q$ for the _q-shift_ operator $x \\rightarrow (qx)$.\n",
    "4. $X$ for the _multiplication by $x$_ operator.\n",
    "\n",
    "Then it is clear by definition that:\n",
    "* Every polynomial factorial basis is $(0,1)$-compatible with $X$, since $P_n(a_nx + b_n) = P_{n+1}$, so:\n",
    "  $$xP_n = \\frac{1}{a_n}\\left(P_{n+1} - b_nP_n\\right).$$\n",
    "* Every orthogonal basis is $(-1,1)$-compatible with $X$ using the three terms recurrence:\n",
    "  $$xP_n = \\frac{1}{a_n}\\left(c_nP_{n-1} - b_nP_n + P_{n+1}\\right)$$\n",
    "* $\\pbasis_{a,b}$ is $(1,0)$-compatible with $D$:\n",
    "  $$((ax+b)^n)' = an(ax+b)^{n-1}.$$\n",
    "* $\\pbasis$ is $(0,0)$-compatible with $Q$:\n",
    "  $$Q(x^n) = q^n(x^n).$$\n",
    "* $\\pbasis$ is not compatible with $E$: since $(x+1)^n = \\sum_{k=0}^n\\binom{n}{k}x^k$.\n",
    "* $\\bbasis$ is $(1,0)$-compatible with $E$:\n",
    "  $$\\binom{x+1}{n} = \\binom{x}{n} + \\binom{x}{n-1}.$$\n",
    "* $\\bbasis_{a,b}$ is $(a,0)$-compatible with $E$ (as it is shown in Proposition 6 of Petkovšek's paper):\n",
    "  $$\\binom{a(x+1)+b}{n} = \\sum_{i=-a}^0\\binom{a}{-i} \\binom{ax+b}{n+i}.$$\n",
    "* $\\hbasis$ is $(1,0)$-compatible with $D$ since:\n",
    "  $$H_n'(x) = 2nH_{n-1}(x).$$\n",
    "  \n",
    "##### What is it implemented?\n",
    "\n",
    "In the package `psbasis`, we have implemented this system of basis and compatibility. The following classes are available:\n",
    "* `PSBasis`: represents any _power series basis_. This class is abstract.\n",
    "* `PolyBasis`: represents any _polynomial series basis_. This class is abstract.\n",
    "* `FactorialBasis`: represents any _factorial basis_. This class is abstract.\n",
    "* `SFactorialBasis`: a simple implementation of `FactorialBasis`. It is created specifying the sequences $a_n$ and $b_n$ such that $P_{n} = (a_nx + b_n)P_{n+1}$. Using these sequence the compatibility with $X$ is automatically computed.\n",
    "* `OrthogonalBasis`: represents any _orthogonal basis_. It is created specifying the sequences $a_n$, $b_n$ and $c_n$ of the three term recurrence. Using these sequence the compatibility with $X$ is automatically computed.\n",
    "\n",
    "Moreover, several of the examples are implemented in different classes to simplify the input:\n",
    "* `PowerBasis`: represents $\\pbasis_{a,b}$. These constants can be specified when creating the object or the the usual $\\bbasis$ with $a=1$ and $b=0$ is given. It includes the compatibility with $D$.\n",
    "* `BinomialBasis`: represents $\\bbasis_{a,b}$. These constants can be specified when creating the object or the the usual $\\bbasis$ with $a=1$ and $b=0$ is given. It includes automatically the compatibility with $E$.\n",
    "* `HermiteBasis`: represents $\\hbasis$. It includes the compatibility with $D$.\n",
    " "
   ]
  },
  {
   "cell_type": "code",
   "execution_count": 2,
   "metadata": {},
   "outputs": [
    {
     "name": "stdout",
     "output_type": "stream",
     "text": [
      "True\n"
     ]
    },
    {
     "data": {
      "text/html": [
       "<html><script type=\"math/tex; mode=display\">\\newcommand{\\Bold}[1]{\\mathbf{#1}}\\left\\{\\verb|x| : \\left(0, 1, 1, \\verb|<function|\\phantom{\\verb!x!}\\verb|PSBasis.set_compatibility.<locals>.<lambda>|\\phantom{\\verb!x!}\\verb|at|\\phantom{\\verb!x!}\\verb|0x7fed63af5d30>|\\right), \\verb|Id| : \\left(0, 0, 1, \\verb|<function|\\phantom{\\verb!x!}\\verb|PSBasis.set_compatibility.<locals>.<lambda>|\\phantom{\\verb!x!}\\verb|at|\\phantom{\\verb!x!}\\verb|0x7fed63ac1b80>|\\right), \\verb|Dx| : \\left(1, 0, 1, \\verb|<function|\\phantom{\\verb!x!}\\verb|PSBasis.set_compatibility.<locals>.<lambda>|\\phantom{\\verb!x!}\\verb|at|\\phantom{\\verb!x!}\\verb|0x7fed63ac1d30>|\\right)\\right\\}</script></html>"
      ],
      "text/latex": [
       "\\begin{math}\n",
       "\\newcommand{\\Bold}[1]{\\mathbf{#1}}\\left\\{\\verb|x| : \\left(0, 1, 1, \\verb|<function|\\phantom{\\verb!x!}\\verb|PSBasis.set_compatibility.<locals>.<lambda>|\\phantom{\\verb!x!}\\verb|at|\\phantom{\\verb!x!}\\verb|0x7fed63af5d30>|\\right), \\verb|Id| : \\left(0, 0, 1, \\verb|<function|\\phantom{\\verb!x!}\\verb|PSBasis.set_compatibility.<locals>.<lambda>|\\phantom{\\verb!x!}\\verb|at|\\phantom{\\verb!x!}\\verb|0x7fed63ac1b80>|\\right), \\verb|Dx| : \\left(1, 0, 1, \\verb|<function|\\phantom{\\verb!x!}\\verb|PSBasis.set_compatibility.<locals>.<lambda>|\\phantom{\\verb!x!}\\verb|at|\\phantom{\\verb!x!}\\verb|0x7fed63ac1d30>|\\right)\\right\\}\n",
       "\\end{math}"
      ],
      "text/plain": [
       "{'x': (0,\n",
       "  1,\n",
       "  1,\n",
       "  <function PSBasis.set_compatibility.<locals>.<lambda> at 0x7fed63af5d30>),\n",
       " 'Id': (0,\n",
       "  0,\n",
       "  1,\n",
       "  <function PSBasis.set_compatibility.<locals>.<lambda> at 0x7fed63ac1b80>),\n",
       " 'Dx': (1,\n",
       "  0,\n",
       "  1,\n",
       "  <function PSBasis.set_compatibility.<locals>.<lambda> at 0x7fed63ac1d30>)}"
      ]
     },
     "execution_count": 2,
     "metadata": {},
     "output_type": "execute_result"
    }
   ],
   "source": [
    "P = PowerBasis(); x = P.polynomial_ring().gens()[0]\n",
    "print(all(P.element(i) == x^i for i in range(20)))\n",
    "P._PSBasis__compatibility"
   ]
  },
  {
   "cell_type": "markdown",
   "metadata": {},
   "source": [
    "The method ``compatibility(L)`` receives the operator $L$ (either its name or the object in an ``OreAlgebra`` and returns the  compatibility description of the basis with such operator. The output has the following format $(A,B,m,\\alpha_{i,j}(n))$, where:\n",
    "\n",
    "* $A$ is the lower bound of the compatibility condition. See also the method ``lower_bound`` or simply ``A``.\n",
    "* $B$ is the upper bound of the compatibility condition. See also the method ``upper_bound`` or simply ``B``.\n",
    "* $m$ is the number of sections in which the compatibility is divided.\n",
    "* $\\alpha_{i,j}(n)$ are the coefficients of the compatibility such that, for all $n = km + r$:\n",
    "\n",
    "  $$L \\cdot P_n = \\sum_{j=-A}^B \\alpha_{r,j}(k)P_{n+i}.$$\n",
    "  See also the method the method ``compatibility_coefficient`` or simply ``alpha``.\n",
    "  \n",
    "The format for the $\\alpha_{i,j}(n)$ is a method with the three arguments $(i,j,n)$. This can be easier visualize with the method ``compatibility_matrix``, which returns the matrix $\\left(\\alpha_{i,j-A}(n)\\right)_{i=0,...,m-1}^{j=0,...,A+B}$ together with the values of $A$ and $B$."
   ]
  },
  {
   "cell_type": "code",
   "execution_count": 3,
   "metadata": {},
   "outputs": [
    {
     "data": {
      "text/html": [
       "<html><script type=\"math/tex; mode=display\">\\newcommand{\\Bold}[1]{\\mathbf{#1}}\\left(1, 0, \\left(\\begin{array}{rr}\n",
       "n & 0\n",
       "\\end{array}\\right)\\right)</script></html>"
      ],
      "text/latex": [
       "\\begin{math}\n",
       "\\newcommand{\\Bold}[1]{\\mathbf{#1}}\\left(1, 0, \\left(\\begin{array}{rr}\n",
       "n & 0\n",
       "\\end{array}\\right)\\right)\n",
       "\\end{math}"
      ],
      "text/plain": [
       "(1, 0, [n 0])"
      ]
     },
     "execution_count": 3,
     "metadata": {},
     "output_type": "execute_result"
    }
   ],
   "source": [
    "P.compatibility_matrix('Dx')"
   ]
  },
  {
   "cell_type": "code",
   "execution_count": 4,
   "metadata": {},
   "outputs": [
    {
     "name": "stdout",
     "output_type": "stream",
     "text": [
      "[1, x + 1, (x + 1)^2, (x + 1)^3, (x + 1)^4]\n"
     ]
    },
    {
     "data": {
      "text/html": [
       "<html><script type=\"math/tex; mode=display\">\\newcommand{\\Bold}[1]{\\mathbf{#1}}\\left\\{\\verb|x| : \\left(0, 1, 1, \\verb|<function|\\phantom{\\verb!x!}\\verb|PSBasis.set_compatibility.<locals>.<lambda>|\\phantom{\\verb!x!}\\verb|at|\\phantom{\\verb!x!}\\verb|0x7fed63ac1820>|\\right), \\verb|Id| : \\left(0, 0, 1, \\verb|<function|\\phantom{\\verb!x!}\\verb|PSBasis.set_compatibility.<locals>.<lambda>|\\phantom{\\verb!x!}\\verb|at|\\phantom{\\verb!x!}\\verb|0x7fed63af2280>|\\right), \\verb|Dx| : \\left(1, 0, 1, \\verb|<function|\\phantom{\\verb!x!}\\verb|PSBasis.set_compatibility.<locals>.<lambda>|\\phantom{\\verb!x!}\\verb|at|\\phantom{\\verb!x!}\\verb|0x7fed63af2430>|\\right)\\right\\}</script></html>"
      ],
      "text/latex": [
       "\\begin{math}\n",
       "\\newcommand{\\Bold}[1]{\\mathbf{#1}}\\left\\{\\verb|x| : \\left(0, 1, 1, \\verb|<function|\\phantom{\\verb!x!}\\verb|PSBasis.set_compatibility.<locals>.<lambda>|\\phantom{\\verb!x!}\\verb|at|\\phantom{\\verb!x!}\\verb|0x7fed63ac1820>|\\right), \\verb|Id| : \\left(0, 0, 1, \\verb|<function|\\phantom{\\verb!x!}\\verb|PSBasis.set_compatibility.<locals>.<lambda>|\\phantom{\\verb!x!}\\verb|at|\\phantom{\\verb!x!}\\verb|0x7fed63af2280>|\\right), \\verb|Dx| : \\left(1, 0, 1, \\verb|<function|\\phantom{\\verb!x!}\\verb|PSBasis.set_compatibility.<locals>.<lambda>|\\phantom{\\verb!x!}\\verb|at|\\phantom{\\verb!x!}\\verb|0x7fed63af2430>|\\right)\\right\\}\n",
       "\\end{math}"
      ],
      "text/plain": [
       "{'x': (0,\n",
       "  1,\n",
       "  1,\n",
       "  <function PSBasis.set_compatibility.<locals>.<lambda> at 0x7fed63ac1820>),\n",
       " 'Id': (0,\n",
       "  0,\n",
       "  1,\n",
       "  <function PSBasis.set_compatibility.<locals>.<lambda> at 0x7fed63af2280>),\n",
       " 'Dx': (1,\n",
       "  0,\n",
       "  1,\n",
       "  <function PSBasis.set_compatibility.<locals>.<lambda> at 0x7fed63af2430>)}"
      ]
     },
     "execution_count": 4,
     "metadata": {},
     "output_type": "execute_result"
    }
   ],
   "source": [
    "P11 = PowerBasis(1,1)\n",
    "print([P11.element(i).factor() for i in range(5)])\n",
    "P11._PSBasis__compatibility"
   ]
  },
  {
   "cell_type": "code",
   "execution_count": 5,
   "metadata": {},
   "outputs": [
    {
     "name": "stdout",
     "output_type": "stream",
     "text": [
      "True\n"
     ]
    },
    {
     "data": {
      "text/html": [
       "<html><script type=\"math/tex; mode=display\">\\newcommand{\\Bold}[1]{\\mathbf{#1}}\\left\\{\\verb|x| : \\left(0, 1, 1, \\verb|<function|\\phantom{\\verb!x!}\\verb|PSBasis.set_compatibility.<locals>.<lambda>|\\phantom{\\verb!x!}\\verb|at|\\phantom{\\verb!x!}\\verb|0x7fed63af21f0>|\\right), \\verb|E| : \\left(1, 0, 1, \\verb|<function|\\phantom{\\verb!x!}\\verb|PSBasis.set_compatibility.<locals>.<lambda>|\\phantom{\\verb!x!}\\verb|at|\\phantom{\\verb!x!}\\verb|0x7fed63af2160>|\\right)\\right\\}</script></html>"
      ],
      "text/latex": [
       "\\begin{math}\n",
       "\\newcommand{\\Bold}[1]{\\mathbf{#1}}\\left\\{\\verb|x| : \\left(0, 1, 1, \\verb|<function|\\phantom{\\verb!x!}\\verb|PSBasis.set_compatibility.<locals>.<lambda>|\\phantom{\\verb!x!}\\verb|at|\\phantom{\\verb!x!}\\verb|0x7fed63af21f0>|\\right), \\verb|E| : \\left(1, 0, 1, \\verb|<function|\\phantom{\\verb!x!}\\verb|PSBasis.set_compatibility.<locals>.<lambda>|\\phantom{\\verb!x!}\\verb|at|\\phantom{\\verb!x!}\\verb|0x7fed63af2160>|\\right)\\right\\}\n",
       "\\end{math}"
      ],
      "text/plain": [
       "{'x': (0,\n",
       "  1,\n",
       "  1,\n",
       "  <function PSBasis.set_compatibility.<locals>.<lambda> at 0x7fed63af21f0>),\n",
       " 'E': (1,\n",
       "  0,\n",
       "  1,\n",
       "  <function PSBasis.set_compatibility.<locals>.<lambda> at 0x7fed63af2160>)}"
      ]
     },
     "execution_count": 5,
     "metadata": {},
     "output_type": "execute_result"
    }
   ],
   "source": [
    "B = BinomialBasis()\n",
    "print(all(B.element(i) == binomial(x,i) for i in range(20)))\n",
    "B._PSBasis__compatibility"
   ]
  },
  {
   "cell_type": "code",
   "execution_count": 6,
   "metadata": {},
   "outputs": [
    {
     "name": "stdout",
     "output_type": "stream",
     "text": [
      "True\n"
     ]
    },
    {
     "data": {
      "text/html": [
       "<html><script type=\"math/tex; mode=display\">\\newcommand{\\Bold}[1]{\\mathbf{#1}}\\left\\{\\verb|x| : \\left(1, 1, 1, \\verb|<function|\\phantom{\\verb!x!}\\verb|PSBasis.set_compatibility.<locals>.<lambda>|\\phantom{\\verb!x!}\\verb|at|\\phantom{\\verb!x!}\\verb|0x7fed6297ba60>|\\right), \\verb|Dx| : \\left(1, 0, 1, \\verb|<function|\\phantom{\\verb!x!}\\verb|PSBasis.set_compatibility.<locals>.<lambda>|\\phantom{\\verb!x!}\\verb|at|\\phantom{\\verb!x!}\\verb|0x7fed6297bc10>|\\right)\\right\\}</script></html>"
      ],
      "text/latex": [
       "\\begin{math}\n",
       "\\newcommand{\\Bold}[1]{\\mathbf{#1}}\\left\\{\\verb|x| : \\left(1, 1, 1, \\verb|<function|\\phantom{\\verb!x!}\\verb|PSBasis.set_compatibility.<locals>.<lambda>|\\phantom{\\verb!x!}\\verb|at|\\phantom{\\verb!x!}\\verb|0x7fed6297ba60>|\\right), \\verb|Dx| : \\left(1, 0, 1, \\verb|<function|\\phantom{\\verb!x!}\\verb|PSBasis.set_compatibility.<locals>.<lambda>|\\phantom{\\verb!x!}\\verb|at|\\phantom{\\verb!x!}\\verb|0x7fed6297bc10>|\\right)\\right\\}\n",
       "\\end{math}"
      ],
      "text/plain": [
       "{'x': (1,\n",
       "  1,\n",
       "  1,\n",
       "  <function PSBasis.set_compatibility.<locals>.<lambda> at 0x7fed6297ba60>),\n",
       " 'Dx': (1,\n",
       "  0,\n",
       "  1,\n",
       "  <function PSBasis.set_compatibility.<locals>.<lambda> at 0x7fed6297bc10>)}"
      ]
     },
     "execution_count": 6,
     "metadata": {},
     "output_type": "execute_result"
    }
   ],
   "source": [
    "H = HermiteBasis();\n",
    "print(all(H.element(i) == hermite(i,x) for i in range(20)))\n",
    "H._PSBasis__compatibility"
   ]
  },
  {
   "cell_type": "markdown",
   "metadata": {},
   "source": [
    "### Scalar equivalence\n",
    "\n",
    "One basic operation for series of the power series is the scalar multiplication. Let $\\basis$ be a basis of $\\kk[[x]]$ with general term $P_n(x)$ and $(c_n)_{n\\in \\kk}$ be a sequence of constants such that $c_n \\neq 0$. Then the sequence $(c_nP_n(x))_{n\\in \\kk}$ is also a basis of $\\kk[[x]]$. Moreover:\n",
    "\n",
    "**Lemma:** let $\\basis = (P_n(x))_n$ be a basis of $\\kk[[x]]$, $(c_n)_n \\in \\kk^\\nn$ and $L$ a $(A,B)$-compabitle operator with $\\basis$. Let $Q_n(x) = c_nP_n(x)$ and $\\basis' = (Q_n(x))_n$. Then:\n",
    "* If $\\basis$ is factorial, then $\\basis'$ is factorial.\n",
    "* If $\\basis$ is an order basis, then $\\basis'$ is an order basis.\n",
    "* $L$ is $(A,B)$-compatible with $\\basis'$.\n",
    "\n",
    "The first two points need no proof, since $c_n \\in \\kk \\setminus \\{0\\}$, the order and degree are preserved. Moreover, if $P_n(x)$ are polynomials, multiplying by $c_n$ does not change the roots, hence if $\\basis$ is factorial, so is $\\basis'$.\n",
    "\n",
    "Now, assume that the compatibility condition of $L$ with $\\basis$ can be written as:\n",
    "$$L(P_n(x)) = \\sum_{i=-A}^B \\alpha_{n,i}P_{n+i}(x),$$\n",
    "then, using the fact that $L$ is $\\kk$-linear:\n",
    "$$L(c_nP_n(x)) = \\sum_{i=-A}^B (\\alpha_{n,i}\\frac{c_n}{c_{n+i}} (c_{n+i}P_{n+i}(x)).$$\n",
    "\n",
    "##### How is it implemented?\n",
    "\n",
    "In order to obtain a suitable quotient $c_{n}/c_{n+i}$ for all $n$, we require that the sequence $(c_n)_n$ is hypergeometric. This means that these quotients are always rational functions in $i$ and $n$, and allows us to nively represent them into the system.\n",
    "\n",
    "The class ``PSBasis`` defines a generic method ``scalar`` for scalar multiplication that first checks that the input is, indeed, hypergeometric. Depending if the sequence is a rational function or hypergeometric, this method will call either the method\n",
    "``_scalar_basis`` or ``_scalar_hypergeometric``. These functions are specific for each class of the series implemented and return the structure for the new basis.\n",
    "\n",
    "After that, the method ``scalar`` adds all the compatibilities that were computed already for the original basis.\n",
    "\n",
    "We also allow the use of magic python syntax ``*`` with elements that can be casted into rational functions in $n$."
   ]
  },
  {
   "cell_type": "code",
   "execution_count": 7,
   "metadata": {},
   "outputs": [
    {
     "data": {
      "text/html": [
       "<html><script type=\"math/tex; mode=display\">\\newcommand{\\Bold}[1]{\\mathbf{#1}}\\text{Factorial basis }\\left(1,-n + 1\\right): \\left\\{1,x,x^{2} - x,\\ldots\\right\\}</script></html>"
      ],
      "text/latex": [
       "\\begin{math}\n",
       "\\newcommand{\\Bold}[1]{\\mathbf{#1}}\\text{Factorial basis }\\left(1,-n + 1\\right): \\left\\{1,x,x^{2} - x,\\ldots\\right\\}\n",
       "\\end{math}"
      ],
      "text/plain": [
       "Factorial basis: (1, x, x^2 - x, ...)"
      ]
     },
     "metadata": {},
     "output_type": "display_data"
    },
    {
     "data": {
      "text/html": [
       "<html><script type=\"math/tex; mode=display\">\\newcommand{\\Bold}[1]{\\mathbf{#1}}\\left\\{\\verb|x| : \\left(0, 1, 1, \\verb|<function|\\phantom{\\verb!x!}\\verb|PSBasis.set_compatibility.<locals>.<lambda>|\\phantom{\\verb!x!}\\verb|at|\\phantom{\\verb!x!}\\verb|0x7fed62925af0>|\\right), \\verb|E| : \\left(1, 0, 1, \\verb|<function|\\phantom{\\verb!x!}\\verb|PSBasis.__scalar_hyper_extend_compatibilities.<locals>.<lambda>|\\phantom{\\verb!x!}\\verb|at|\\phantom{\\verb!x!}\\verb|0x7fed6292d0d0>|\\right)\\right\\}</script></html>"
      ],
      "text/latex": [
       "\\begin{math}\n",
       "\\newcommand{\\Bold}[1]{\\mathbf{#1}}\\left\\{\\verb|x| : \\left(0, 1, 1, \\verb|<function|\\phantom{\\verb!x!}\\verb|PSBasis.set_compatibility.<locals>.<lambda>|\\phantom{\\verb!x!}\\verb|at|\\phantom{\\verb!x!}\\verb|0x7fed62925af0>|\\right), \\verb|E| : \\left(1, 0, 1, \\verb|<function|\\phantom{\\verb!x!}\\verb|PSBasis.__scalar_hyper_extend_compatibilities.<locals>.<lambda>|\\phantom{\\verb!x!}\\verb|at|\\phantom{\\verb!x!}\\verb|0x7fed6292d0d0>|\\right)\\right\\}\n",
       "\\end{math}"
      ],
      "text/plain": [
       "{'x': (0,\n",
       "  1,\n",
       "  1,\n",
       "  <function PSBasis.set_compatibility.<locals>.<lambda> at 0x7fed62925af0>),\n",
       " 'E': (1,\n",
       "  0,\n",
       "  1,\n",
       "  <function PSBasis.__scalar_hyper_extend_compatibilities.<locals>.<lambda> at 0x7fed6292d0d0>)}"
      ]
     },
     "execution_count": 7,
     "metadata": {},
     "output_type": "execute_result"
    }
   ],
   "source": [
    "monic_B = B.scalar(factorial(n)); show(monic_B)\n",
    "monic_B._PSBasis__compatibility"
   ]
  },
  {
   "cell_type": "code",
   "execution_count": 8,
   "metadata": {},
   "outputs": [
    {
     "data": {
      "text/html": [
       "<html><script type=\"math/tex; mode=display\">\\newcommand{\\Bold}[1]{\\mathbf{#1}}\\mathrm{True}</script></html>"
      ],
      "text/latex": [
       "\\begin{math}\n",
       "\\newcommand{\\Bold}[1]{\\mathbf{#1}}\\mathrm{True}\n",
       "\\end{math}"
      ],
      "text/plain": [
       "True"
      ]
     },
     "execution_count": 8,
     "metadata": {},
     "output_type": "execute_result"
    }
   ],
   "source": [
    "(monic_B/factorial(n))[:10] == B[:10]"
   ]
  },
  {
   "cell_type": "markdown",
   "metadata": {},
   "source": [
    "## 2. From compatible operators to recurrence equations\n",
    "\n",
    "In Proposition 4, Petkovšek proved that, givel a basis $\\basis = \\{P_n\\ :\\ n \\in \\nn\\}$ and a linear operator $L$ which is $(A,B)$-compatible, then it is equivalent, for $y(x) = \\sum_{n\\geq0}c_nP_n$:\n",
    "* $L\\cdot y = 0$.\n",
    "* For all $n \\geq 0$:\n",
    "  $$\\sum_{i=-B}^A \\alpha_{n+i,-i}c_{n+i} = 0,$$\n",
    "  where $c_k = 0$ whenever $k < 0$.\n",
    "  \n",
    "This leads to a recurrence equation for the $c_n$:\n",
    "$$(R_{\\basis}L)\\cdot (c_n) = \\left(\\sum_{i=-B}^A \\alpha_{n+i,-i}S_n^i\\right)(c_n) = 0.$$\n",
    "Hence, whenever the $\\alpha_{n,i}$ are rational functions in $n$, we arrive to a new P-finite recurrence equation.\n",
    "\n",
    "Moreover, in Theorem 1, Petkovšek proved that the map from $L$ to $R_{\\basis}L$ is a ring homomorphism, which alow to simple computations of the recurrence operators. Given $L_1, L_2$ compatible with $\\basis$ and $c \\in \\kk$, then we have:\n",
    "* $R_{\\basis}(cL_1) = cR_{\\basis}(L_1)$.\n",
    "* $R_{\\basis}(L_1+L_2) = R_{\\basis}(L_1) + R_{\\basis}(L_2)$.\n",
    "* $R_{\\basis}(L_1L_2) = R_{\\basis}(L_1)R_{\\basis}(L_2)$.\n",
    "\n",
    "This means that, if we have $L \\in \\kk[O_1,\\dots,O_t]$ where $O_i$ are compatible operators with $\\basis$, then to compute $R_{\\basis}(L)$ we only need to evaluate the polynomial that represents $L$:\n",
    "    $$L = Q(O_1,\\dots,O_t) \\Rightarrow R_{\\basis}(L) = Q(R_{\\basis}(O_1),\\dots,R_{\\basis}(O_t).$$\n",
    "\n",
    "### What is it implemented?\n",
    "\n",
    "In our package `psbasis` we have implemented this isomorphism with several methods:\n",
    "* `recurrence(L)`: this method computes $R_{\\basis}(L)$. This method requires that $L$ is expressed as a polynomial of operators that have been already set. \n",
    "\n",
    "The user can specified further compatibilities by giving the appropriate name for it and the corresponding value of $R_{\\basis}(\\cdot)$ or the values for $(A,B,m,\\alpha_{i,j}(n))$ described previously.\n",
    "* `set_compatibilty(L, R)`: set the compatibility of $L$ to $R$.\n",
    "\n",
    "***REMARK***: the method ``set_compatibility`` only transforms recurrence to compatibilities assuming the value of $m$ is 1 (i.e., only 1 section is allowed). This is because, when we have multiple sections, the map from compatibilities to recurrence is not a isomorphism."
   ]
  },
  {
   "cell_type": "code",
   "execution_count": 9,
   "metadata": {},
   "outputs": [
    {
     "data": {
      "text/html": [
       "<html><script type=\"math/tex; mode=display\">\\newcommand{\\Bold}[1]{\\mathbf{#1}}\\left\\{\\binom{x}{n}\\right\\}_{n\\geq 0}</script></html>"
      ],
      "text/latex": [
       "\\begin{math}\n",
       "\\newcommand{\\Bold}[1]{\\mathbf{#1}}\\left\\{\\binom{x}{n}\\right\\}_{n\\geq 0}\n",
       "\\end{math}"
      ],
      "text/plain": [
       "Binomial basis (x) choose n"
      ]
     },
     "execution_count": 9,
     "metadata": {},
     "output_type": "execute_result"
    }
   ],
   "source": [
    "## Creating the operators we want to see their compatibility\n",
    "OE.<E> = OreAlgebra(QQ[x], ('E', lambda p : p(x=x+1), lambda p : 0));\n",
    "\n",
    "## Recall B is the binomial basis\n",
    "B"
   ]
  },
  {
   "cell_type": "markdown",
   "metadata": {},
   "source": [
    "##### Example 4 from Petkovšek's paper\n",
    "\n",
    "* At example 4.1, Petkovšek considers the operator $L = E - c$, so $y(x) = \\sum_{n \\geq 0} y_n \\binom{x}{n}$ satisfies $y(x+1) - c = 0$ if and only if $L' \\cdot (y_n) = 0$ where $L'$ is the changed operator to the binomial basis:"
   ]
  },
  {
   "cell_type": "code",
   "execution_count": 10,
   "metadata": {},
   "outputs": [
    {
     "data": {
      "text/html": [
       "<html><script type=\"math/tex; mode=display\">\\newcommand{\\Bold}[1]{\\mathbf{#1}}\\mathit{Sn} - 2</script></html>"
      ],
      "text/latex": [
       "\\begin{math}\n",
       "\\newcommand{\\Bold}[1]{\\mathbf{#1}}\\mathit{Sn} - 2\n",
       "\\end{math}"
      ],
      "text/plain": [
       "Sn - 2"
      ]
     },
     "execution_count": 10,
     "metadata": {},
     "output_type": "execute_result"
    }
   ],
   "source": [
    "example4_1 = E - 3; B.recurrence(example4_1)"
   ]
  },
  {
   "cell_type": "markdown",
   "metadata": {},
   "source": [
    "  In general, $L' = S_n - (c-1)$, which in the sequence level has the solution $y_n = y_0(c-1)^n$, obtaining:\n",
    "  $$y(x) = \\sum_{n \\geq 0} \\binom{x}{n}y_0(c-1)^n = y_0c^x$$\n",
    "  \n",
    "* At example 4.2, Petkovšek considers the operator $L = E^2 - 2E + 1$. Then, applying the substitution for a binomial basis we get:"
   ]
  },
  {
   "cell_type": "code",
   "execution_count": 11,
   "metadata": {
    "scrolled": false
   },
   "outputs": [
    {
     "data": {
      "text/html": [
       "<html><script type=\"math/tex; mode=display\">\\newcommand{\\Bold}[1]{\\mathbf{#1}}\\mathit{Sn}^{2}</script></html>"
      ],
      "text/latex": [
       "\\begin{math}\n",
       "\\newcommand{\\Bold}[1]{\\mathbf{#1}}\\mathit{Sn}^{2}\n",
       "\\end{math}"
      ],
      "text/plain": [
       "Sn^2"
      ]
     },
     "execution_count": 11,
     "metadata": {},
     "output_type": "execute_result"
    }
   ],
   "source": [
    "example4_2 = E^2 - 2*E + 1; B.recurrence(example4_2)"
   ]
  },
  {
   "cell_type": "markdown",
   "metadata": {},
   "source": [
    "What does this result mean? Let $y(x) = \\sum_{n\\geq 0} y_n\\binom{x}{n}$. Then we have that $y_{n+2} = 0$ for all $n$, so $y(x) = y_0 + y_1\\binom{x}{1} = y_0 + y_1x$ and, then, all the power series solutions to the difference equation\n",
    "$$y(x+2) - 2y(x+1) + y(x) = 0,$$\n",
    "are the polynomials of degree 1.\n",
    "\n",
    "* At example 4.3, Petkovšek now consider the operator $L = E^2 - E - 1$. Applying the algorithm we get:"
   ]
  },
  {
   "cell_type": "code",
   "execution_count": 12,
   "metadata": {},
   "outputs": [
    {
     "data": {
      "text/html": [
       "<html><script type=\"math/tex; mode=display\">\\newcommand{\\Bold}[1]{\\mathbf{#1}}\\mathit{Sn}^{2} + \\mathit{Sn} - 1</script></html>"
      ],
      "text/latex": [
       "\\begin{math}\n",
       "\\newcommand{\\Bold}[1]{\\mathbf{#1}}\\mathit{Sn}^{2} + \\mathit{Sn} - 1\n",
       "\\end{math}"
      ],
      "text/plain": [
       "Sn^2 + Sn - 1"
      ]
     },
     "execution_count": 12,
     "metadata": {},
     "output_type": "execute_result"
    }
   ],
   "source": [
    "example4_3 = E^2 - E - 1; B.recurrence(example4_3)"
   ]
  },
  {
   "cell_type": "markdown",
   "metadata": {},
   "source": [
    "In this case we are considering a Fibonacci type of function, some $y(x)$ such that $y(x+2) = y(x+1) + y(x)$. If we expand it using the binomial basis, we end up that the sequence of coefficients satisfies the recurrence\n",
    "$$y_{n+2} = y_n - y_{n+1},$$\n",
    "which is a variance of the Fibonacci sequence. In fact, we have:\n",
    "$$y_n = (-1)^n(C_1F_n + C_2F_{n+1}),$$\n",
    "where $F_n$ **is** the Fibonacci sequence $(0,1,1,2,\\dots)$. Let choose $C_1$ and $C_2$ such that $y(0) = 0$ and $y(1) = 1$. Then we have that $0 = y_0 = C_2$ and $1 = y_0 + y_1 = -(C_1 + C_2)$, so $C_1 = -1$ and $C_2 = 0$. Then $y_n = (-1)^nF_n$ and we have:\n",
    "$$y(x) = \\sum_{n \\geq 0} (-1)^nF_n,$$\n",
    "so evaluating the function on an integer $m$ we obtain:\n",
    "$$F_m = \\sum_{n = 0}^m (-1)^nF_n.$$\n",
    "\n",
    "* At example 4.4, Petkovšek takes the P-finite first order recurrence $L = E - (x+1)$. After applying the substitution we get:"
   ]
  },
  {
   "cell_type": "code",
   "execution_count": 13,
   "metadata": {},
   "outputs": [
    {
     "data": {
      "text/html": [
       "<html><script type=\"math/tex; mode=display\">\\newcommand{\\Bold}[1]{\\mathbf{#1}}\\mathit{Sn} + \\left(-n\\right) \\mathit{Sni} - n</script></html>"
      ],
      "text/latex": [
       "\\begin{math}\n",
       "\\newcommand{\\Bold}[1]{\\mathbf{#1}}\\mathit{Sn} + \\left(-n\\right) \\mathit{Sni} - n\n",
       "\\end{math}"
      ],
      "text/plain": [
       "Sn + (-n)*Sni - n"
      ]
     },
     "execution_count": 13,
     "metadata": {},
     "output_type": "execute_result"
    }
   ],
   "source": [
    "example4_4 = E - (x+1); B.recurrence(example4_4)"
   ]
  },
  {
   "cell_type": "markdown",
   "metadata": {},
   "source": [
    "In this case we have a recurrence with the inverse shift, which is equivalent to the recurrence $S_n^2 - n S_n - n$. This recurrence equation has as solution $y_n = n!\\left(C_1 + C_2\\sum_{k=1}^n(-1)^k/k!\\right)$.\n",
    "\n",
    "However in this case for $n = 0$, the original equation (with the right shift operator) provides the equality $y_1 = 0$, so we obtain $C_1 = C_2 = C$ obtaining finally\n",
    "$$y(x) = C\\sum_{n \\geq 0} \\binom{x}{n}n!\\left(1 + \\sum_{k=1}^n \\frac{(-1)^k}{k!}\\right).$$\n",
    "\n",
    "Now, in this case, the original recurrence gives that $y(x+1) = (x+1)y(x)$ (which is the functional equation for the factorial: $y(n) = n!y(0)$). Hence, we find the following identity setting $C=1$:\n",
    "$$m! = \\sum_{n = 0}^m \\binom{m}{n}n!\\left(1 \\sum_{k=1}^n\\frac{(-1)^k}{k!}\\right).$$\n",
    "\n",
    "* Finally in example 4.5, Petkovšek studies the recurrence $L = E^3 - (n^2+6n+10)E^2 + (n+2)(2n+5)E-(n+1)(n+2)$. This recurrence is not so simple anymore."
   ]
  },
  {
   "cell_type": "code",
   "execution_count": 14,
   "metadata": {},
   "outputs": [
    {
     "data": {
      "text/html": [
       "<html><script type=\"math/tex; mode=display\">\\newcommand{\\Bold}[1]{\\mathbf{#1}}\\mathit{Sn}^{3} + \\left(-n^{2} - 6 n - 7\\right) \\mathit{Sn}^{2} + \\left(-2 n^{2} - 8 n - 7\\right) \\mathit{Sn} - n^{2} - 2 n - 1</script></html>"
      ],
      "text/latex": [
       "\\begin{math}\n",
       "\\newcommand{\\Bold}[1]{\\mathbf{#1}}\\mathit{Sn}^{3} + \\left(-n^{2} - 6 n - 7\\right) \\mathit{Sn}^{2} + \\left(-2 n^{2} - 8 n - 7\\right) \\mathit{Sn} - n^{2} - 2 n - 1\n",
       "\\end{math}"
      ],
      "text/plain": [
       "Sn^3 + (-n^2 - 6*n - 7)*Sn^2 + (-2*n^2 - 8*n - 7)*Sn - n^2 - 2*n - 1"
      ]
     },
     "execution_count": 14,
     "metadata": {},
     "output_type": "execute_result"
    }
   ],
   "source": [
    "example4_5 = E^3 - (x^2+6*x+10)*E^2 + (x+2)*(2*x+5)*E-(x+1)*(x+2); \n",
    "B.recurrence(example4_5)"
   ]
  },
  {
   "cell_type": "markdown",
   "metadata": {},
   "source": [
    "## 3. The equivalence of Proposition 2\n",
    "\n",
    "In Proposition 2, Petkovšek provides an equivalent condition, in the case of *polynomial factorial basis*, for an operator $L$ to be $(A,B)$-compatible. Namely, $L$ is $(A,B)$ compatible if and only if:\n",
    "* **C.1.** For all $n \\geq 0$, $\\deg(L\\cdot P_n) \\leq n + B$.\n",
    "* **C.2.** For all $n \\geq A$, $P_{n-A} | L\\cdot P_n$.\n",
    "\n",
    "This proposition will be heavily used to proved compatibility for some operators in the _product basis_ defined below. Hence, a constructive proof is heavily desired. \n",
    "\n",
    "### 3.1 Defining the goals for equivalence\n",
    "\n",
    "A first step to make the result constructive is define exactly what we need to compute. For the compatibility condition is pretty clear: we need to compute the values $A$, $B$, $m$ and $\\alpha_{i,j}(n)$ for arbitrary (symbolic) $n$, $0 \\leq i \\leq m-1$ and $-A \\leq j \\leq B$. \n",
    "\n",
    "For the conditions **C.1** and **C.2**, we need to compute the sections $m$, the bound $B$, the bound $A$ and coefficients $c_{i,j}(n)$ for arbitrary $n$, $0 \\leq i \\leq m-1$ and $0 \\leq j \\leq A+B$ such that, for all $n = km + r$:\n",
    "\n",
    "$$\\frac{L\\cdot P_{n}}{P_{n-A}} = \\sum_{j=0}^{A+B}c_{i,j}(k)x^j.$$\n",
    "\n",
    "### 3.2 Increasing basis\n",
    "\n",
    "The main tool for performing this computation is what we will call the _increasing basis_. Using the fact that we are working with *polynomial factorial basis*, we have that for any $m > n$, $\\deg(P_m/P_n) = m-n$. \n",
    "* We define the $k$*-increasing basis* for $\\basis$ as $\\ibasis_k(\\basis) = \\left\\{I_{k,n}\\right\\}_{n\\geq 0}$ where\n",
    "  $$I_{k,n} = \\frac{P_{k+n}}{P_k}.$$\n",
    "* $\\ibasis_k$ **is a polynomial factorial basis for any** $k \\in \\nn$.\n",
    "\n",
    "  It is clear, as we have already mention, that $\\deg(I_{k,n}) = n$. And, as $\\basis$ is factorial, we also have that:\n",
    "  $$\\frac{I_{k,n+1}}{I_{k,n}} = \\frac{P_{k+n+1}P_k}{P_{k+n}P_k} = \\frac{P_{k+n+1}}{P_{k+n}} = a_{n+k+1}x + b_{n+k+1},$$\n",
    "  finishing the proof. $\\square$\n",
    "  \n",
    "### 3.3 Looking to the equivalence\n",
    "\n",
    "The compatibility condition provides the following identity:\n",
    "$$L(P_n) = \\sum_{i=-A}^B \\alpha_{n,i} P_{n+i},$$\n",
    "so if we divide this identity by $P_{n-A}$, we obtain:\n",
    "$$\\sum_{j=0}^{A+B} c_{n,j}x^j = \\frac{L(P_n)}{P_{n-A}} = \\sum_{i=-A}^B \\alpha_{n,i}I_{n-A,i+A} = \\sum_{j=0}^{A+B} \\alpha_{n,j-A}I_{n-A, j}.$$\n",
    "\n",
    "This implies that the computations for changing from teh compatibility to the conditions **C.1** and **C.2** are simply a change of coordinates between the canonical basis $1,x,x^2,\\ldots$ and the increasing basis at an arbitrary point $n$. The computations needs to be done carefully to carry over the details of the sections, but otherwise, these computations are straightforward.\n",
    "  \n",
    "### What is it implemented?\n",
    "\n",
    "The class `FactorialBasis` provides several methods to compute the equivalence of Proposition 2.\n",
    "\n",
    "* `increasing_polynomial(k,n)`: returns the polynomial $I_{k,n}$ for the current basis. The value for $n$ must be a fixed positive integer and $k$ may take a symbolic value. This method will take care of getting the increasing basis splitted into sections in case the basis is splitted as well.\n",
    "* `increasing_basis(k)`: if possible, returns the object representing the $k$-increasing basis.\n",
    "* `matrix_ItP(k,m)`: returns the matrix $M_{I\\rightarrow P}$ of size $m$ for the $k$-increasing basis that changes coordinates from the increasing basis to the canonical basis.\n",
    "* `matrix_PtI(k,m)`: returns the matrix $M_{P\\rightarrow I}$ of size $m$ for the $k$-increasing basis that changes coordinates from the canonical basis to the increasing basis.\n",
    "* `equiv_DtC(compatibility)`: assuming that the input is a tuple with $(A,B,m,\\alpha_{i,j}(n))$ representing the compatibility of an operator $L$ with such that for all $n = km+r$ or the operator itself, we have that\n",
    "  $$L(P_{n}) = \\sum_{i=-A}^{B} \\alpha_{r,i}(k)P_{n+i}.$$\n",
    "  This method computes the coefficients $c_{i,j}(n)$ for the equivalent condition **C.2** (i.e., the coefficients of the polynomials $L(P_{n})/P_{n-A}$):\n",
    "  $$\\frac{L(P_n(x))}{P_{n-A}(x)} = \\sum_{i = 0}^{A+B+1} c_{r,i}(k)x^k.$$\n",
    "* `equiv_CtD(A,division)`: assuming the input is of the shape of the output of `equiv_DtC` (i.e., a tuple $(A,B,m,c_{i,j}(n))$), we compute the equivalent compatibility condition (splitted in the same number of sections as deteced in the division). The output, then, will be a tuple $(A,B,m,\\alpha_{i,j}(n))$ such that, for all $n = km+r$, we have:\n",
    "  $$L(P_{n}(x)) = \\sum_{i=-A}^B \\alpha_{r,i}(k)P_{n+i}(x).$$\n",
    "* `compatible_division(L)`: this method computes generically the division $L\\cdot P_n/P_{n-m}$ for some $m \\geq A$. If any subclass requires further information for computing this division, we implement that particular version explicitly. The output is a tuple $(A, m, D_{i,j}(n))$ where $A$ is, as usual, the lower bound of the compatibility, $m$, the number of sections and $D_{i,j}(n)$ a function such that:\n",
    "  $$\\frac{L\\cdot P_{km+r}}{P_{km+r-s}} = D_{r,s}(k) \\in \\mathbb{K}[x].$$"
   ]
  },
  {
   "cell_type": "code",
   "execution_count": 15,
   "metadata": {},
   "outputs": [
    {
     "data": {
      "text/html": [
       "<html><script type=\"math/tex; mode=display\">\\newcommand{\\Bold}[1]{\\mathbf{#1}}\\mathrm{True}</script></html>"
      ],
      "text/latex": [
       "\\begin{math}\n",
       "\\newcommand{\\Bold}[1]{\\mathbf{#1}}\\mathrm{True}\n",
       "\\end{math}"
      ],
      "text/plain": [
       "True"
      ]
     },
     "execution_count": 15,
     "metadata": {},
     "output_type": "execute_result"
    }
   ],
   "source": [
    "## Checking how the increasing polynomials are the divisions between elements of the basis\n",
    "all(\n",
    "    all(\n",
    "        all(\n",
    "            basis.element(i+j) \n",
    "            == \n",
    "            basis.element(i)*basis.increasing_polynomial(i,j) \n",
    "            for j in range(20)) \n",
    "        for i in range(4,20))\n",
    "    for basis in [P, P11, B]\n",
    ")"
   ]
  },
  {
   "cell_type": "code",
   "execution_count": 16,
   "metadata": {},
   "outputs": [
    {
     "data": {
      "text/html": [
       "<html><script type=\"math/tex; mode=display\">\\newcommand{\\Bold}[1]{\\mathbf{#1}}\\mathrm{True}</script></html>"
      ],
      "text/latex": [
       "\\begin{math}\n",
       "\\newcommand{\\Bold}[1]{\\mathbf{#1}}\\mathrm{True}\n",
       "\\end{math}"
      ],
      "text/plain": [
       "True"
      ]
     },
     "execution_count": 16,
     "metadata": {},
     "output_type": "execute_result"
    }
   ],
   "source": [
    "## Checking how we get the coefficients c_{n,i}\n",
    "n = B.n(); alpha = [B.alpha(example4_3)(0,i,n) for i in range(-B.A(example4_3), B.B(example4_3)+1)]\n",
    "a,b,m,c = B.equiv_DtC(B.compatibility(example4_3));\n",
    "all(example4_3(QQ[x](B.element(i)))/B.element(i-B.A(example4_3)) \n",
    "    ==\n",
    "    sum(\n",
    "        c(0,j,i)*x^j \n",
    "        for j in range(B.A(example4_3)+B.B(example4_3)+1))\n",
    "    for i in range(4,10)\n",
    "   )"
   ]
  },
  {
   "cell_type": "markdown",
   "metadata": {},
   "source": [
    "## 4. Recurrence in sections\n",
    "\n",
    "In Proposition 8, Petkosev studies how the fact that an operator is compatible with a basis makes that all the sections sequences in that basis satisfies different recurrence relations. The prove of the result is quite technical but the only thing that is important is that, for $m > 0$, if an operator is compatible in the form\n",
    "$$L(P_{km+j}) = \\sum_{i=-A}^B \\alpha_{k,j,i} P_{km+j+i},$$\n",
    "then we can define the recurrence operators for $r,j \\in \\{0,1,\\dots,m-1\\}$:\n",
    "$$L_{r,j} = \\sum_{\\begin{array}{c}-A\\leq i \\leq B\\\\i+j \\equiv r (m)\\end{array}} \\alpha_{k+\\frac{r-i-j}{m},j,i} S_n^{\\frac{r-i-j}{m}}.$$\n",
    "\n",
    "Then with this operators we have that, for $y(x) = \\sum_{k\\geq 0} \\sum_{j=0}^{m-1} c_{km+j}P_{km+j}$, $L(y) = 0$ if and only if for all $r \\in \\{0,\\dots,m-1\\}$ we have:\n",
    "$$\\sum_{j=0}^{m-1} L_{r,j}(c_{km+j})_k = 0.$$\n",
    "\n",
    "### 4.1 Matrix operator\n",
    "\n",
    "If we form now $R_{\\basis}^m(L) = \\left(L_{r,j}\\right)_{r,j=0}^{m-1}$, as an extension of the original map $R$ that we saw in previous sections, then it still have the same properties: it is a ring homomorphism.\n",
    "\n",
    "For any $m > 0$, $L_1, L_2$ compatiblo operators with $\\basis$ and $c \\in \\kk$:\n",
    "* $R_{\\basis}^m(cL_1) = cR_{\\basis}^m(L_1)$.\n",
    "* $R_{\\basis}^m(L_1 + L_2) = R_{\\basis}^m(L_1) + R_{\\basis}^m(L_2)$.\n",
    "* $R_{\\basis}^m(L_1L_2) = R_{\\basis}^m(L_1)R_{\\basis}^m(L_2)$.\n",
    "\n",
    "### What is it implemented?\n",
    "\n",
    "From the compatibility condition that we obtain with method `compatibility`, i.e., a tuple of the form $(A,B,m,\\alpha_{i,j}(n))$, we can always extend this compatibility condition to any number of sections that is divisible by $m$.\n",
    "\n",
    "Let $p = lm$ for some $l \\in \\mathbb{N}$. Consider $r = r_0m + r_1$ with $r \\in \\{0,\\ldots,p-1\\}$ and $r_1\\in \\{0,\\ldots,m-1\\}$. Then we can easily write:\n",
    "\n",
    "$$L\\cdot P_{kp + r} = L\\cdot P_{(kl + r_0)m + r_1}= \\sum_{j=-A}^B \\alpha_{r_1,j}(kl+r_0) P_{kp+r+j}.$$\n",
    "\n",
    "Hence, we have that the new compatibility coefficients are:\n",
    "\n",
    "$$\\tilde{\\alpha}_{r,j}(k) = \\alpha_{r\\%m,j}(kp/m + r//m).$$ \n",
    "\n",
    "This extension is implemented in the method ``compatibility_sections(L, p)`` and returns, if possible, the compatibility tuple $(A,B,p,\\tilde{\\alpha}_{i,j}(n))$.\n",
    "\n",
    "The method ``recurrence`` (described above) accepts an optional parameter ``sections`` that fix the number of sections for getting the recurrence matrix. If given, we extend the compatibility to the given number of sections and then apply the transformation to a matrix of recurrences described before."
   ]
  },
  {
   "cell_type": "code",
   "execution_count": 17,
   "metadata": {},
   "outputs": [
    {
     "data": {
      "text/html": [
       "<html><script type=\"math/tex; mode=display\">\\newcommand{\\Bold}[1]{\\mathbf{#1}}\\left(0, 1, 3, \\verb|<function|\\phantom{\\verb!x!}\\verb|PSBasis.compatibility_sections.<locals>.<lambda>|\\phantom{\\verb!x!}\\verb|at|\\phantom{\\verb!x!}\\verb|0x7fed64fc31f0>|\\right)</script></html>"
      ],
      "text/latex": [
       "\\begin{math}\n",
       "\\newcommand{\\Bold}[1]{\\mathbf{#1}}\\left(0, 1, 3, \\verb|<function|\\phantom{\\verb!x!}\\verb|PSBasis.compatibility_sections.<locals>.<lambda>|\\phantom{\\verb!x!}\\verb|at|\\phantom{\\verb!x!}\\verb|0x7fed64fc31f0>|\\right)\n",
       "\\end{math}"
      ],
      "text/plain": [
       "(0,\n",
       " 1,\n",
       " 3,\n",
       " <function PSBasis.compatibility_sections.<locals>.<lambda> at 0x7fed64fc31f0>)"
      ]
     },
     "execution_count": 17,
     "metadata": {},
     "output_type": "execute_result"
    }
   ],
   "source": [
    "B.compatibility_sections('x', 3)"
   ]
  },
  {
   "cell_type": "code",
   "execution_count": 18,
   "metadata": {},
   "outputs": [
    {
     "data": {
      "text/html": [
       "<html><script type=\"math/tex; mode=display\">\\newcommand{\\Bold}[1]{\\mathbf{#1}}\\left(0, 1, \\left(\\begin{array}{rr}\n",
       "3 n & 3 n + 1 \\\\\n",
       "3 n + 1 & 3 n + 2 \\\\\n",
       "3 n + 2 & 3 n + 3\n",
       "\\end{array}\\right)\\right)</script></html>"
      ],
      "text/latex": [
       "\\begin{math}\n",
       "\\newcommand{\\Bold}[1]{\\mathbf{#1}}\\left(0, 1, \\left(\\begin{array}{rr}\n",
       "3 n & 3 n + 1 \\\\\n",
       "3 n + 1 & 3 n + 2 \\\\\n",
       "3 n + 2 & 3 n + 3\n",
       "\\end{array}\\right)\\right)\n",
       "\\end{math}"
      ],
      "text/plain": [
       "(\n",
       "      [    3*n 3*n + 1]\n",
       "      [3*n + 1 3*n + 2]\n",
       "0, 1, [3*n + 2 3*n + 3]\n",
       ")"
      ]
     },
     "execution_count": 18,
     "metadata": {},
     "output_type": "execute_result"
    }
   ],
   "source": [
    "B.compatibility_matrix('x', 3)"
   ]
  },
  {
   "cell_type": "code",
   "execution_count": 19,
   "metadata": {},
   "outputs": [
    {
     "data": {
      "text/html": [
       "<html><script type=\"math/tex; mode=display\">\\newcommand{\\Bold}[1]{\\mathbf{#1}}n \\mathit{Sni} + n</script></html>"
      ],
      "text/latex": [
       "\\begin{math}\n",
       "\\newcommand{\\Bold}[1]{\\mathbf{#1}}n \\mathit{Sni} + n\n",
       "\\end{math}"
      ],
      "text/plain": [
       "n*Sni + n"
      ]
     },
     "execution_count": 19,
     "metadata": {},
     "output_type": "execute_result"
    }
   ],
   "source": [
    "B.recurrence('x')"
   ]
  },
  {
   "cell_type": "code",
   "execution_count": 20,
   "metadata": {},
   "outputs": [
    {
     "data": {
      "text/html": [
       "<html><script type=\"math/tex; mode=display\">\\newcommand{\\Bold}[1]{\\mathbf{#1}}\\left(\\begin{array}{rrr}\n",
       "3 n & 0 & \\left(3 n\\right) \\mathit{Sni} \\\\\n",
       "3 n + 1 & 3 n + 1 & 0 \\\\\n",
       "0 & 3 n + 2 & 3 n + 2\n",
       "\\end{array}\\right)</script></html>"
      ],
      "text/latex": [
       "\\begin{math}\n",
       "\\newcommand{\\Bold}[1]{\\mathbf{#1}}\\left(\\begin{array}{rrr}\n",
       "3 n & 0 & \\left(3 n\\right) \\mathit{Sni} \\\\\n",
       "3 n + 1 & 3 n + 1 & 0 \\\\\n",
       "0 & 3 n + 2 & 3 n + 2\n",
       "\\end{array}\\right)\n",
       "\\end{math}"
      ],
      "text/plain": [
       "[    3*n       0 3*n*Sni]\n",
       "[3*n + 1 3*n + 1       0]\n",
       "[      0 3*n + 2 3*n + 2]"
      ]
     },
     "execution_count": 20,
     "metadata": {},
     "output_type": "execute_result"
    }
   ],
   "source": [
    "B.recurrence('x', 3)"
   ]
  },
  {
   "cell_type": "markdown",
   "metadata": {},
   "source": [
    "## 5. Product basis\n",
    "\n",
    "Petkovšek works with a type of basis that is composed with products of simpler basis. Namely with binomial basis. Let $\\basis_1,\\dots,\\basis_m$ be basis of $\\kk[[x]]$, we then define the new set:\n",
    "$$Q_{km+r} = \\prod_{i=1}^r P_{k+1}^{(i)} \\prod_{i=r+1}^mP_k^{(i)}.$$\n",
    "\n",
    "It is shown in Theorem 2 that $\\basis = \\prod \\basis_i$ is a factorial basis when all $\\basis_i$ are factorial. This provides that $X$ is $(0,1)$-compatible with $\\basis$. Moreover, he shown that if $L$ is a ring homomorphism over $\\kk[x]$, then $L$ is compatible with $\\basis$. We can show also that if $L$ is a derivation over $\\kk[[x]]$, then $L$ is also compatible with $\\basis$.\n",
    "\n",
    "This is a clear case where the compatibilities and other operations over the Product basis must be splitted into sections. In fact, this can be done in a more generic case (see below the section describing the Sieved Basis). We know show a simple case where all the compatibilities of the factors have exactly one section (just as an illutration on how the reasoning works).\n",
    "\n",
    "### 5.1 Extending compatibility of $X$\n",
    "\n",
    "Extending the compatibility of $X$ is pretty simple since the multiplication of polynomials is commutative. Hence, if we pick $k \\in \\nn$ and $r \\in \\{0,\\dots,m-1\\}$, then we have:\n",
    "$$xQ_{km+r} = \\left(\\prod_{i=1}^{r}P_{k+1}^{(i)}\\right)(xP_{k}^{(r+1)})\\left(\\prod_{i=r+2}^mP_{k}^{(i)}\\right),$$\n",
    "then, using the fact that $xP_k^{(r+1)} = \\alpha_{0,0}^{(r+1)}(k)P_k^{(r+1)} + \\alpha_{0,1}^{(r+1)}(k)P_{k+1}^{(r+1)}$, we have that\n",
    "$$xQ_{km+r} = \\alpha_{0,0}^{(r+1)}(k)Q_{km+r} + \\alpha_{0,1}^{(r+1)}(k)Q_{km+r+1},$$\n",
    "so we can conclude that:\n",
    "$$\\tilde{\\alpha}_{r,j}(k) = \\alpha_{0,i}^{(r+1)}(k).$$\n",
    "\n",
    "### 5.2 Extending compatibility of endomorphisms\n",
    "\n",
    "Let $L$ be an endomorphism of $K[x]$, i.e., $L(PQ) = L(P)L(Q)$ for any pair of polynomials. Then we can follow the prove of compatibility on the product basis:\n",
    "\n",
    "* Proving **C.1**: given $Q_n$, we can expand it in terms of the $j$th factor basis:\n",
    "  $$Q_n = \\sum_{i=0}^nq_{n,i}P_n^{(j)},$$\n",
    "  and applying $L$ to this expression we get\n",
    "  $$L(Q_n) = \\sum_{i=0}^n q_{n,i}\\sum_{k=-A_j}^{B_j} \\alpha_{0,k}^{(j)}(i) P_{i+k},$$j\n",
    "  and a simple scan of that last expression shows that $\\deg(L(Q_n)) \\leq n + B_j$. As this hold for all $j = 1,...,m$, then we can conclude $\\deg(L(Q_n)) \\leq n+\\min(B_j)$. So $B=\\min(B_j : 1 \\leq j \\leq m)$.\n",
    "  \n",
    "  ***REMARK:** This proof only uses that $L$ is compatible with all the factors of $\\basis$.*\n",
    "  \n",
    "* Proving **C.2**: if we apply directly $L$ to the product expression of $Q_n$ for $n = km+r$, we obtain:\n",
    "  $$L(Q_n) = \\left(\\prod_{i=1}^r \\sum_{l=-A_i}^{B_i} \\alpha_{0,l}^{(i)}(k+1)P_{k+1+l}^{(i)}\\right) \\left(\\prod_{i=r+1}^{m} \\sum_{l = A_i}^{B_l} \\alpha_{0,l}^{(i)}(k)P_{k+l}^{(i)}\\right).$$\n",
    "  \n",
    "  If we expand this expression and see the summands, we can see they involve some product of elements from the factor basis. In fact, the minimal index we see in each case is $P_{k-A_i}^{(i)}$. Then, using the fact that all the basis are factorial, we have that for $A = \\max(A_j : 1 \\leq j \\leq m)$, we have:\n",
    "  $$Q_{n-mA} = \\prod_{i=1}^r P_{k-A+1}^{(i)} \\prod_{i=r+1}^mP_{k-A}^{(i)} | L(Q_n).$$\n",
    "  \n",
    "This two points prove that $L$ is $(mA, B)$-compatible with the product basis.\n",
    "\n",
    "##### How is it implemented?\n",
    "\n",
    "In order to get a constructive approach for this prove, we need to recall what we discussed in Section 3: we need to construct the division $L(Q_n)/Q_{n-mA}$. As usual, and for later use, we will consider $n = km+r$ and each of the $r$ cases will be taken separately.\n",
    "\n",
    "If we analyze the quotient we want to study, we realize that:\n",
    "$$\\frac{L \\cdot Q_{km+r}}{Q_{km+r-mA}} = \\prod_{i=1}^r\\left(\\frac{L \\cdot P_{k+1}^{(i)}}{P_{k+1-A}^{(i)}}\\right)\\prod_{i=r+1}^m\\left(\\frac{L \\cdot P_{k}^{(i)}}{P_{k-A}}\\right).$$\n",
    "Each of these quotients can be coputed explicitly using the method ``compatible_division`` for each of the factorial basis, \n",
    "obtaining then that:\n",
    "$$\\frac{L \\cdot Q_{km+r}}{Q_{km+r-mA}} = \\prod_{i=1}^r D_{0,A}^{(i)}(k+1)\\prod_{i=r+1}^{m} D_{0,A}^{(i)}(k) \\in \\mathbb{K}[x].$$\n",
    "\n",
    "Moreover, we can also compute the corresponding *increasing basis* from a fixed $n = km+r$. Hence we can apply the corresponding change of coordinates to get the coefficients $\\alpha_{r,j}(k)$. This provides directly the compatibility tuple desired.\n",
    "\n",
    "* When creating a Product Basis, the user can specify the names of all the endomorphism he wants to compute the compatibility matrix. See the documentation of `ProductBasis?` for further information.\n",
    "\n",
    "### 5.3 Extending compatibility of derivations\n",
    "\n",
    "Let $L$ be a derivation of $K[x]$, i.e., $L(PQ) = L(P)Q + PL(Q)$ for any pair of polynomials. Then we can follow the prove of compatibility on the product basis:\n",
    "\n",
    "* Proving **C.1**: exactly the same proof as for endomorhisms (see the remark above). Then $\\deg(L(Q_n)) \\leq n + B$ where $B = \\min(B_j : 1 \\leq j \\leq m)$.\n",
    "  \n",
    "* Proving **C.2**: if we apply directly $L$ to the product expression of $Q_n$ for $n = km+r$, we obtain a summation of several terms:\n",
    "  $$L(Q_n) = \\sum_{i=1}^r L(P_{k+1}^{(i)})\\frac{Q_n}{P_{k+1}^{(i)}} \\sum_{i=r+1}^m L(P_{k}^{(i)})\\frac{Q_n}{P_{k}^{(i)}}.$$\n",
    "  \n",
    "  Take $A = \\max(A_j : 1 \\leq j \\leq m)$. We will show now that $Q_{n-Am}$ divides $L(Q_n)$ analyzing the divisibility of each of the summands. Let $i \\leq r$:\n",
    "  $$\\frac{L(P_{k+1}^{(i)}Q_n}{Q_{n-mA}P_{k+1}^{(i)}}$$\n",
    "  is a polynomial because the $i$th factor of $Q_{n-mA}$ (which is $P_{k+1-A}$) divides $L(P_{k+1}^{(i)})$ by th compatibility of $L$ with $\\basis_i$. The $i$th factor of $Q_n$ is cancelled by $P_{k+1}^{(i)}$ and all the other factors are cancelled by $Q_{n-mA}$ since all the other basis are factorial.\n",
    "  \n",
    "  We can argue similarly for any $i \\in \\{r+1,\\ldots m\\}$. Hence $Q_{n-mA}$ divides $L(Q_n)$ for all $n \\in \\mathbb{N}$.\n",
    "  \n",
    "This two points prove that $L$ is $(mA, B)$-compatible with the product basis.\n",
    "\n",
    "##### How is it implemented?\n",
    "\n",
    "In order to get a constructive approach for this prove, we need to recall what we discussed in Section 3: we need to construct the division $L(Q_n)/Q_{n-mA}$. As usual, and for later use, we will consider $n = km+r$ and each of the $r$ cases will be taken separately.\n",
    "\n",
    "Following the proof we have written above, the quotient of $L(Q_n)/Q_{n-mA}$ has a very special shape. More precisely:\n",
    "\n",
    "$$\\frac{L \\cdot Q_{km+r}}{Q_{(k-A)m + r}} = \n",
    "\\sum_{i=1}^r \\left(D_{0,A}^{(i)}(k+1)\\prod_{j\\neq i, j = 1}^{r} I_{k+1-A,A}^{(j)} \\prod_{j = r+1}^m I_{k-A,A}^{(j)}\\right) + \n",
    "\\sum_{i=r+1}^m \\left(D_{0,A}^{(i)}(k)\\prod_{j = 1}^{r} I_{k+1-A,A}^{(j)} \\prod_{j\\neq i, j = r+1}^m I_{k-A,A}^{(j)}\\right)$$\n",
    "\n",
    "where $D_{i,j}(k)$ can be computed with the method ``compatible_division`` for each basis and the $I_{i,j}$ can be computed with the method ``increasing_polynomial`` for each basis. This yields a polynomial that can be transformed into a compatibility condition using the ideas of method ``equiv_CtD``.\n",
    "\n",
    "* When creating a Product Basis, the user can specify the names of all the derivations he wants to compute the compatibility matrix. See the documentation of `ProductBasis?` for further information.\n",
    "\n"
   ]
  },
  {
   "cell_type": "markdown",
   "metadata": {},
   "source": [
    "##### Example 6\n",
    "In this example, Petkovšek studied several product of binomial basis and their compatibilities. Here we can see we can extract the same information automatically using our package:"
   ]
  },
  {
   "cell_type": "code",
   "execution_count": 21,
   "metadata": {},
   "outputs": [
    {
     "data": {
      "text/html": [
       "<html><script type=\"math/tex; mode=display\">\\newcommand{\\Bold}[1]{\\mathbf{#1}}\\left(6, 0, \\left(\\begin{array}{rrrrrrr}\n",
       "0 & \\frac{\\frac{4}{9} n - \\frac{2}{3}}{n - 1} & \\frac{\\frac{211}{36} n^{2} - \\frac{187}{18} n + \\frac{10}{3}}{n^{2} - n} & \\frac{\\frac{131}{12} n - \\frac{16}{3}}{n} & \\frac{\\frac{21}{2} n - \\frac{9}{2}}{n} & 6 & 1 \\\\\n",
       "\\frac{-\\frac{4}{27} n^{2} + \\frac{2}{9} n}{n^{2} - 1} & \\frac{\\frac{8}{27} n^{2} - \\frac{28}{27} n + \\frac{8}{9}}{n^{2} - 1} & \\frac{\\frac{20}{9} n^{2} - \\frac{4}{3} n - \\frac{2}{9}}{n^{2} + n} & \\frac{\\frac{131}{18} n^{2} - \\frac{1}{3} n - \\frac{17}{18}}{n^{2} + n} & \\frac{\\frac{17}{2} n + \\frac{7}{2}}{n + 1} & \\frac{4 n + 2}{n + 1} & 1\n",
       "\\end{array}\\right)\\right)</script></html>"
      ],
      "text/latex": [
       "\\begin{math}\n",
       "\\newcommand{\\Bold}[1]{\\mathbf{#1}}\\left(6, 0, \\left(\\begin{array}{rrrrrrr}\n",
       "0 & \\frac{\\frac{4}{9} n - \\frac{2}{3}}{n - 1} & \\frac{\\frac{211}{36} n^{2} - \\frac{187}{18} n + \\frac{10}{3}}{n^{2} - n} & \\frac{\\frac{131}{12} n - \\frac{16}{3}}{n} & \\frac{\\frac{21}{2} n - \\frac{9}{2}}{n} & 6 & 1 \\\\\n",
       "\\frac{-\\frac{4}{27} n^{2} + \\frac{2}{9} n}{n^{2} - 1} & \\frac{\\frac{8}{27} n^{2} - \\frac{28}{27} n + \\frac{8}{9}}{n^{2} - 1} & \\frac{\\frac{20}{9} n^{2} - \\frac{4}{3} n - \\frac{2}{9}}{n^{2} + n} & \\frac{\\frac{131}{18} n^{2} - \\frac{1}{3} n - \\frac{17}{18}}{n^{2} + n} & \\frac{\\frac{17}{2} n + \\frac{7}{2}}{n + 1} & \\frac{4 n + 2}{n + 1} & 1\n",
       "\\end{array}\\right)\\right)\n",
       "\\end{math}"
      ],
      "text/plain": [
       "(\n",
       "      [                                       0                    (4/9*n - 2/3)/(n - 1) (211/36*n^2 - 187/18*n + 10/3)/(n^2 - n)                      (131/12*n - 16/3)/n                         (21/2*n - 9/2)/n                                        6                                        1]\n",
       "6, 0, [           (-4/27*n^2 + 2/9*n)/(n^2 - 1)     (8/27*n^2 - 28/27*n + 8/9)/(n^2 - 1)       (20/9*n^2 - 4/3*n - 2/9)/(n^2 + n)   (131/18*n^2 - 1/3*n - 17/18)/(n^2 + n)                   (17/2*n + 7/2)/(n + 1)                        (4*n + 2)/(n + 1)                                        1]\n",
       ")"
      ]
     },
     "execution_count": 21,
     "metadata": {},
     "output_type": "execute_result"
    }
   ],
   "source": [
    "example_6a = ProductBasis([BinomialBasis(2,0), BinomialBasis(3,0)], ends=['E'])\n",
    "example_6a.compatibility_matrix('E')"
   ]
  },
  {
   "cell_type": "code",
   "execution_count": 22,
   "metadata": {},
   "outputs": [
    {
     "data": {
      "text/html": [
       "<html><script type=\"math/tex; mode=display\">\\newcommand{\\Bold}[1]{\\mathbf{#1}}\\left(6, 0, \\left(\\begin{array}{rrrrrrr}\n",
       "0 & \\frac{\\frac{4}{9} n^{2} - \\frac{50}{9} n + \\frac{154}{9}}{n^{2} - n} & \\frac{\\frac{211}{36} n^{2} + \\frac{55}{6} n + \\frac{791}{36}}{n^{2} - n} & \\frac{\\frac{131}{12} n - \\frac{97}{12}}{n} & \\frac{\\frac{21}{2} n + \\frac{13}{2}}{n} & 6 & 1 \\\\\n",
       "\\frac{-\\frac{4}{27} n^{3} + \\frac{2}{9} n^{2} + \\frac{44}{3} n - \\frac{1694}{27}}{n^{3} - n} & \\frac{\\frac{8}{27} n^{3} - \\frac{116}{27} n^{2} + \\frac{508}{27} n - \\frac{616}{27}}{n^{3} - n} & \\frac{\\frac{20}{9} n^{2} - \\frac{188}{9} n + \\frac{416}{9}}{n^{2} + n} & \\frac{\\frac{131}{18} n^{2} - \\frac{13}{6} n + \\frac{107}{9}}{n^{2} + n} & \\frac{\\frac{17}{2} n - \\frac{15}{2}}{n + 1} & \\frac{4 n + 2}{n + 1} & 1\n",
       "\\end{array}\\right)\\right)</script></html>"
      ],
      "text/latex": [
       "\\begin{math}\n",
       "\\newcommand{\\Bold}[1]{\\mathbf{#1}}\\left(6, 0, \\left(\\begin{array}{rrrrrrr}\n",
       "0 & \\frac{\\frac{4}{9} n^{2} - \\frac{50}{9} n + \\frac{154}{9}}{n^{2} - n} & \\frac{\\frac{211}{36} n^{2} + \\frac{55}{6} n + \\frac{791}{36}}{n^{2} - n} & \\frac{\\frac{131}{12} n - \\frac{97}{12}}{n} & \\frac{\\frac{21}{2} n + \\frac{13}{2}}{n} & 6 & 1 \\\\\n",
       "\\frac{-\\frac{4}{27} n^{3} + \\frac{2}{9} n^{2} + \\frac{44}{3} n - \\frac{1694}{27}}{n^{3} - n} & \\frac{\\frac{8}{27} n^{3} - \\frac{116}{27} n^{2} + \\frac{508}{27} n - \\frac{616}{27}}{n^{3} - n} & \\frac{\\frac{20}{9} n^{2} - \\frac{188}{9} n + \\frac{416}{9}}{n^{2} + n} & \\frac{\\frac{131}{18} n^{2} - \\frac{13}{6} n + \\frac{107}{9}}{n^{2} + n} & \\frac{\\frac{17}{2} n - \\frac{15}{2}}{n + 1} & \\frac{4 n + 2}{n + 1} & 1\n",
       "\\end{array}\\right)\\right)\n",
       "\\end{math}"
      ],
      "text/plain": [
       "(\n",
       "      [                                                    0                  (4/9*n^2 - 50/9*n + 154/9)/(n^2 - n)              (211/36*n^2 + 55/6*n + 791/36)/(n^2 - n)                                  (131/12*n - 97/12)/n                                     (21/2*n + 13/2)/n                                                     6                                                     1]\n",
       "6, 0, [   (-4/27*n^3 + 2/9*n^2 + 44/3*n - 1694/27)/(n^3 - n) (8/27*n^3 - 116/27*n^2 + 508/27*n - 616/27)/(n^3 - n)                (20/9*n^2 - 188/9*n + 416/9)/(n^2 + n)               (131/18*n^2 - 13/6*n + 107/9)/(n^2 + n)                               (17/2*n - 15/2)/(n + 1)                                     (4*n + 2)/(n + 1)                                                     1]\n",
       ")"
      ]
     },
     "execution_count": 22,
     "metadata": {},
     "output_type": "execute_result"
    }
   ],
   "source": [
    "example_6b = ProductBasis([BinomialBasis(2,-1), BinomialBasis(3,4)], ends=['E'])\n",
    "example_6b.compatibility_matrix('E')"
   ]
  },
  {
   "cell_type": "code",
   "execution_count": 23,
   "metadata": {},
   "outputs": [
    {
     "data": {
      "text/html": [
       "<html><script type=\"math/tex; mode=display\">\\newcommand{\\Bold}[1]{\\mathbf{#1}}\\left(8, 0, \\left(\\begin{array}{rrrrrrrrr}\n",
       "1 & \\frac{8 n^{3} - 36 n^{2} + 44 n - 12}{n^{3} - 3 n^{2} + 2 n} & \\frac{28 n^{3} - 112 n^{2} + 128 n - 36}{n^{3} - 3 n^{2} + 2 n} & \\frac{56 n^{2} - 112 n + 40}{n^{2} - n} & \\frac{70 n^{2} - 126 n + 44}{n^{2} - n} & \\frac{56 n - 28}{n} & \\frac{28 n - 12}{n} & 8 & 1 \\\\\n",
       "\\frac{n - 3}{n + 1} & \\frac{8 n - 8}{n + 1} & \\frac{28 n^{3} - 56 n^{2} + 16 n + 4}{n^{3} - n} & \\frac{56 n^{3} - 84 n^{2} + 12 n + 8}{n^{3} - n} & \\frac{70 n^{2} - 14 n - 12}{n^{2} + n} & \\frac{56 n^{2} - 8}{n^{2} + n} & \\frac{28 n + 12}{n + 1} & \\frac{8 n + 4}{n + 1} & 1\n",
       "\\end{array}\\right)\\right)</script></html>"
      ],
      "text/latex": [
       "\\begin{math}\n",
       "\\newcommand{\\Bold}[1]{\\mathbf{#1}}\\left(8, 0, \\left(\\begin{array}{rrrrrrrrr}\n",
       "1 & \\frac{8 n^{3} - 36 n^{2} + 44 n - 12}{n^{3} - 3 n^{2} + 2 n} & \\frac{28 n^{3} - 112 n^{2} + 128 n - 36}{n^{3} - 3 n^{2} + 2 n} & \\frac{56 n^{2} - 112 n + 40}{n^{2} - n} & \\frac{70 n^{2} - 126 n + 44}{n^{2} - n} & \\frac{56 n - 28}{n} & \\frac{28 n - 12}{n} & 8 & 1 \\\\\n",
       "\\frac{n - 3}{n + 1} & \\frac{8 n - 8}{n + 1} & \\frac{28 n^{3} - 56 n^{2} + 16 n + 4}{n^{3} - n} & \\frac{56 n^{3} - 84 n^{2} + 12 n + 8}{n^{3} - n} & \\frac{70 n^{2} - 14 n - 12}{n^{2} + n} & \\frac{56 n^{2} - 8}{n^{2} + n} & \\frac{28 n + 12}{n + 1} & \\frac{8 n + 4}{n + 1} & 1\n",
       "\\end{array}\\right)\\right)\n",
       "\\end{math}"
      ],
      "text/plain": [
       "(\n",
       "      [                                                  1    (8*n^3 - 36*n^2 + 44*n - 12)/(n^3 - 3*n^2 + 2*n) (28*n^3 - 112*n^2 + 128*n - 36)/(n^3 - 3*n^2 + 2*n)                     (56*n^2 - 112*n + 40)/(n^2 - n)                     (70*n^2 - 126*n + 44)/(n^2 - n)                                       (56*n - 28)/n                                       (28*n - 12)/n                                                   8                                                   1]\n",
       "8, 0, [                                    (n - 3)/(n + 1)                                   (8*n - 8)/(n + 1)              (28*n^3 - 56*n^2 + 16*n + 4)/(n^3 - n)              (56*n^3 - 84*n^2 + 12*n + 8)/(n^3 - n)                      (70*n^2 - 14*n - 12)/(n^2 + n)                              (56*n^2 - 8)/(n^2 + n)                                 (28*n + 12)/(n + 1)                                   (8*n + 4)/(n + 1)                                                   1]\n",
       ")"
      ]
     },
     "execution_count": 23,
     "metadata": {},
     "output_type": "execute_result"
    }
   ],
   "source": [
    "example_6c = ProductBasis([BinomialBasis(4,0), BinomialBasis(4,0)], ends=['E'])\n",
    "example_6c.compatibility_matrix('E')"
   ]
  },
  {
   "cell_type": "markdown",
   "metadata": {},
   "source": [
    "## 6. The method ``DefiniteSumSolutions``\n",
    "\n",
    "The method `DefiniteSumSolutions` presented in Petkovšek's paper can be now easily implemented using all the tools described above. This method i implemented in the subpackage ``psbasis.misc``."
   ]
  },
  {
   "cell_type": "code",
   "execution_count": 24,
   "metadata": {
    "scrolled": true
   },
   "outputs": [
    {
     "name": "stdout",
     "output_type": "stream",
     "text": [
      "\n",
      "        Petkovšek's algorithm for transforming operators into recurrence equations.\n",
      "        \n",
      "        This method is the complete execution for the algorithm **DefiniteSumSolutions** described in\n",
      "        :arxiv:`1804.02964v1`. This methods takes an operator `L` and convert the problem\n",
      "        of being solution `L \\cdot y(x) = 0` to a recurrence equation assuming some hypergeometric\n",
      "        terms in the expansion.\n",
      "        \n",
      "        The operator must be a difference operator of `\\mathbb{Q}[x]<E>` where `E: x \\mapsto x+1`. The operator may \n",
      "        belong to a different ring from the package *ore_algebra*, but the generator must have the \n",
      "        behavior previously described.\n",
      "        \n",
      "        This function does not check the nature of the generator, so using this algorithm with different \n",
      "        types of operators may lead to some inconsistent results.\n",
      "        \n",
      "        INPUT:\n",
      "\n",
      "        * ``operator``: difference operator to be transformed.\n",
      "        * ``input``: the coefficients of the binomial coefficients we assume appear in the expansion\n",
      "          of the solutions. This input can be given with the following formats:\n",
      "            - ``a_1,a_2,...,a_m,b_1,b_2,...,b_m``: an unrolled list of `2m` elements.\n",
      "            - ``[a_1,a_2,...,a_m,b_1,b_2,...,b_m]``: a compress list of `2m` elements.\n",
      "            - ``[a_1,...,a_m],[b_1,...,b_m]``: two lists of `m` elements.\n",
      "\n",
      "        OUTPUT:\n",
      "\n",
      "        An operator `\\tilde{L}` such that if a sequence `(c_n)_n` satisfies `L \\cdot (c_n)_n = 0` then \n",
      "        the power series\n",
      "\n",
      "        .. MATH::\n",
      "\n",
      "            y(x) = \\sum_{n \\geq 0}\\prod{i=1}^m c_n\\binom{a_i*x+b_i}{n}\n",
      "\n",
      "        satisfies `L \\cdot y(x) = 0`.\n",
      "\n",
      "        EXAMPLES::\n",
      "\n",
      "            sage: from psbasis import *\n",
      "            sage: R.<x> = QQ[]; OE.<E> = OreAlgebra(R, ('E', lambda p : p(x=x+1), lambda p : 0))\n",
      "            sage: DefiniteSumSolutions((x+1)*E - 2*(2*x+1), 1,1,0,0)\n",
      "            Sn - 1\n",
      "            sage: example_2 = 4*(2*x+3)^2*(4*x+3)*E^2 - 2*(4*x+5)*(20*x^2+50*x+27)*E + 9*(4*x+7)*(x+1)^2\n",
      "            sage: DefiniteSumSolutions(example_2, 1,1,0,0)\n",
      "            (n + 1/2)*Sn - 1/4*n - 1/4\n",
      "    \n"
     ]
    }
   ],
   "source": [
    "print(DefiniteSumSolutions.__doc__)"
   ]
  },
  {
   "cell_type": "markdown",
   "metadata": {},
   "source": [
    "###### Example 7\n",
    "\n",
    "In this example Petkovšek applies the method ``DefiniteSumSolutions`` to several operators obtaining diverse resutls:"
   ]
  },
  {
   "cell_type": "code",
   "execution_count": 25,
   "metadata": {},
   "outputs": [
    {
     "data": {
      "text/html": [
       "<html><script type=\"math/tex; mode=display\">\\newcommand{\\Bold}[1]{\\mathbf{#1}}\\left\\{\\binom{x}{n}\\right\\}_{n\\geq 0}\\left\\{\\binom{x}{n}\\right\\}_{n\\geq 0}</script></html>"
      ],
      "text/latex": [
       "\\begin{math}\n",
       "\\newcommand{\\Bold}[1]{\\mathbf{#1}}\\left\\{\\binom{x}{n}\\right\\}_{n\\geq 0}\\left\\{\\binom{x}{n}\\right\\}_{n\\geq 0}\n",
       "\\end{math}"
      ],
      "text/plain": [
       "ProductBasis\n",
       "\t- Binomial basis (x) choose n\n",
       "\t- Binomial basis (x) choose n"
      ]
     },
     "execution_count": 25,
     "metadata": {},
     "output_type": "execute_result"
    }
   ],
   "source": [
    "example_7_basis = ProductBasis([B, B], ends=['E']);\n",
    "example_7_basis"
   ]
  },
  {
   "cell_type": "code",
   "execution_count": 26,
   "metadata": {},
   "outputs": [
    {
     "data": {
      "text/html": [
       "<html><script type=\"math/tex; mode=display\">\\newcommand{\\Bold}[1]{\\mathbf{#1}}\\left(\\begin{array}{rr}\n",
       "n & n \\mathit{Sni} \\\\\n",
       "n + 1 & n\n",
       "\\end{array}\\right)</script></html>"
      ],
      "text/latex": [
       "\\begin{math}\n",
       "\\newcommand{\\Bold}[1]{\\mathbf{#1}}\\left(\\begin{array}{rr}\n",
       "n & n \\mathit{Sni} \\\\\n",
       "n + 1 & n\n",
       "\\end{array}\\right)\n",
       "\\end{math}"
      ],
      "text/plain": [
       "[    n n*Sni]\n",
       "[n + 1     n]"
      ]
     },
     "execution_count": 26,
     "metadata": {},
     "output_type": "execute_result"
    }
   ],
   "source": [
    "example_7_basis.recurrence('x')"
   ]
  },
  {
   "cell_type": "code",
   "execution_count": 27,
   "metadata": {},
   "outputs": [
    {
     "data": {
      "text/html": [
       "<html><script type=\"math/tex; mode=display\">\\newcommand{\\Bold}[1]{\\mathbf{#1}}\\left(0, 1, \\left(\\begin{array}{rr}\n",
       "n & n + 1 \\\\\n",
       "n & n + 1\n",
       "\\end{array}\\right)\\right)</script></html>"
      ],
      "text/latex": [
       "\\begin{math}\n",
       "\\newcommand{\\Bold}[1]{\\mathbf{#1}}\\left(0, 1, \\left(\\begin{array}{rr}\n",
       "n & n + 1 \\\\\n",
       "n & n + 1\n",
       "\\end{array}\\right)\\right)\n",
       "\\end{math}"
      ],
      "text/plain": [
       "(\n",
       "      [    n n + 1]\n",
       "0, 1, [    n n + 1]\n",
       ")"
      ]
     },
     "execution_count": 27,
     "metadata": {},
     "output_type": "execute_result"
    }
   ],
   "source": [
    "example_7_basis.compatibility_matrix('x')"
   ]
  },
  {
   "cell_type": "code",
   "execution_count": 28,
   "metadata": {},
   "outputs": [
    {
     "data": {
      "text/html": [
       "<html><script type=\"math/tex; mode=display\">\\newcommand{\\Bold}[1]{\\mathbf{#1}}\\left(\\begin{array}{rr}\n",
       "\\mathit{Sn} + 1 & \\frac{2 n + 1}{n + 1} \\\\\n",
       "2 \\mathit{Sn} & \\left(\\frac{n + 1}{n + 2}\\right) \\mathit{Sn} + 1\n",
       "\\end{array}\\right)</script></html>"
      ],
      "text/latex": [
       "\\begin{math}\n",
       "\\newcommand{\\Bold}[1]{\\mathbf{#1}}\\left(\\begin{array}{rr}\n",
       "\\mathit{Sn} + 1 & \\frac{2 n + 1}{n + 1} \\\\\n",
       "2 \\mathit{Sn} & \\left(\\frac{n + 1}{n + 2}\\right) \\mathit{Sn} + 1\n",
       "\\end{array}\\right)\n",
       "\\end{math}"
      ],
      "text/plain": [
       "[                  Sn + 1        (2*n + 1)/(n + 1)]\n",
       "[                    2*Sn ((n + 1)/(n + 2))*Sn + 1]"
      ]
     },
     "execution_count": 28,
     "metadata": {},
     "output_type": "execute_result"
    }
   ],
   "source": [
    "example_7_basis.recurrence('E')"
   ]
  },
  {
   "cell_type": "markdown",
   "metadata": {},
   "source": [
    "###### Example 7.1\n",
    "\n",
    "Here, Petkovšek considered the linear operator $L = (n+1)E - 2(2n+1)$ and applies its algorithm to get a recurrence equation $L'$ such that\n",
    "$$L'(c_k) = 0\\quad \\Rightarrow\\quad L\\left(\\sum_{k \\geq 0} c_k\\binom{n}{k}^2\\right) = 0.$$"
   ]
  },
  {
   "cell_type": "code",
   "execution_count": 29,
   "metadata": {},
   "outputs": [
    {
     "data": {
      "text/html": [
       "<html><script type=\"math/tex; mode=display\">\\newcommand{\\Bold}[1]{\\mathbf{#1}}\\mathit{Sn} - 1</script></html>"
      ],
      "text/latex": [
       "\\begin{math}\n",
       "\\newcommand{\\Bold}[1]{\\mathbf{#1}}\\mathit{Sn} - 1\n",
       "\\end{math}"
      ],
      "text/plain": [
       "Sn - 1"
      ]
     },
     "execution_count": 29,
     "metadata": {},
     "output_type": "execute_result"
    }
   ],
   "source": [
    "example_7_1 = (x+1)*E - 2*(2*x+1);\n",
    "DefiniteSumSolutions(example_7_1, 1,1,0,0)"
   ]
  },
  {
   "cell_type": "markdown",
   "metadata": {},
   "source": [
    "Then we can conclude that the only solution of that form has $c_k = 1$, showing that\n",
    "$$\\left((n+1)E - 2(2x+1)\\right)\\cdot\\left(\\sum_{k\\geq 0} \\binom{n}{k}^2\\right) = 0,$$\n",
    "which makes complete sense, since\n",
    "$$\\sum_{k \\geq 0} \\binom{n}{k}^2 = \\binom{2n}{n}$$\n",
    "is annihilated by $L$.\n",
    "\n",
    "###### Example 7.2\n",
    "\n",
    "In the last example of the paper, Petkovšek studies the following difference operator:\n",
    "    $$L = 4(2n+3)^2(4n+3)E^2 - 2(4n+5)(20n^2+50n+27)E + 9(4n+7)(n+1)^2.$$\n",
    "    \n",
    "Again, we are looking for a new recurrence equation $L'$ such that $L'(c_k) = 0$ implies that $L\\left(\\sum_{k\\geq 0} c_k \\binom{n}{k}^2\\right) = 0$."
   ]
  },
  {
   "cell_type": "code",
   "execution_count": 30,
   "metadata": {
    "scrolled": false
   },
   "outputs": [
    {
     "data": {
      "text/html": [
       "<html><script type=\"math/tex; mode=display\">\\newcommand{\\Bold}[1]{\\mathbf{#1}}\\left(n + \\frac{1}{2}\\right) \\mathit{Sn} - \\frac{1}{4} n - \\frac{1}{4}</script></html>"
      ],
      "text/latex": [
       "\\begin{math}\n",
       "\\newcommand{\\Bold}[1]{\\mathbf{#1}}\\left(n + \\frac{1}{2}\\right) \\mathit{Sn} - \\frac{1}{4} n - \\frac{1}{4}\n",
       "\\end{math}"
      ],
      "text/plain": [
       "(n + 1/2)*Sn - 1/4*n - 1/4"
      ]
     },
     "execution_count": 30,
     "metadata": {},
     "output_type": "execute_result"
    }
   ],
   "source": [
    "example_7_2 = 4*(2*x+3)^2*(4*x+3)*E^2 - 2*(4*x+5)*(20*x^2+50*x+27)*E + 9*(4*x+7)*(x+1)^2;\n",
    "DefiniteSumSolutions(example_7_2, 1,1,0,0)"
   ]
  },
  {
   "cell_type": "markdown",
   "metadata": {},
   "source": [
    "Or, equivalently as a monic operator:\n",
    "$$L' = S_n - \\frac{n+1}{2(2n+1)}.$$\n",
    "\n",
    "Using other tools we can check that $h_k = \\frac{1}{\\binom{2k}{k}}$ is annihilated by $L'$, so we can conclude that the solution $(y_n)_{n\\geq 0} = \\left(\\sum_{k\\geq 0}c_k\\binom{n}{k}\\right)_{n\\geq 0}$ is the sequence\n",
    "$$y_n = \\sum_{k \\geq 0} \\frac{\\binom{x}{n}^2}{\\binom{2k}{k}}.$$"
   ]
  },
  {
   "cell_type": "markdown",
   "metadata": {},
   "source": [
    "## 7. Extending sets to basis with Product basis\n",
    "\n",
    "We may be interested in study recurrence with the kernel $\\binom{x+n}{2n}$:\n",
    "$$\\binom{x+n}{2n} \\longrightarrow \\left\\{1, \\frac{1}{2} x^{2} + \\frac{1}{2} x, \\frac{1}{24} x^{4} + \\frac{1}{12} x^{3} - \\frac{1}{24} x^{2} - \\frac{1}{12} x, \\frac{1}{720} x^{6} + \\frac{1}{240} x^{5} - \\frac{1}{144} x^{4} - \\frac{1}{48} x^{3} + \\frac{1}{180} x^{2} + \\frac{1}{60}x, \\ldots\\right\\}.$$\n",
    "\n",
    "We can see in this example that these elements are always polynomials of even degree. This is clearly not a polynomial basis, since all the odd degrees are missing. However, in each step, we are adding 2 new roots to the polynomials:\n",
    "$$\\frac{\\binom{x+n+1}{2(n+1)}}{\\binom{x+n}{2n}} = \\frac{x^2 + x - n(n+1)}{2(2n^2+3n+1)} \\in \\qq(n)[x],$$\n",
    "which leads, in the step $n$ to add the following two roots:\n",
    "$$n,\\qquad -n-1.$$\n",
    "\n",
    "We can now consider the two factorial basis generated by the root sequences $(n)_{n \\in  \\nn}$ and $(-n-1)_{n\\in \\nn}$:\n",
    "$$(n)_{n\\in \\nn} \\longrightarrow \\left\\{1,\\ x,\\ x(x-1),\\ x(x-1)(x-2),\\ \\ldots\\right\\} = \\{(x)^{\\underline{n}}\\ :\\ n\\in \\nn\\}.$$\n",
    "$$(-n-1)_{n\\in \\nn} \\longrightarrow \\left\\{1,\\ (x+1),\\ (x+1)(x+2),\\ \\ldots\\right\\} = \\{(x+1)^{\\overline{n}}\\ :\\ n\\in \\nn\\}.$$\n",
    "\n",
    "These two type of basis are included in the package in the class ``FallingBasis``:"
   ]
  },
  {
   "cell_type": "code",
   "execution_count": 31,
   "metadata": {},
   "outputs": [
    {
     "data": {
      "text/html": [
       "<html><script type=\"math/tex; mode=display\">\\newcommand{\\Bold}[1]{\\mathbf{#1}}\\left\\{(x)^{\\underline{n}}\\right\\}_{n \\geq 0}</script></html>"
      ],
      "text/latex": [
       "\\begin{math}\n",
       "\\newcommand{\\Bold}[1]{\\mathbf{#1}}\\left\\{(x)^{\\underline{n}}\\right\\}_{n \\geq 0}\n",
       "\\end{math}"
      ],
      "text/plain": [
       "Falling Factorial Basis (1, x, x(x-1),...)"
      ]
     },
     "execution_count": 31,
     "metadata": {},
     "output_type": "execute_result"
    }
   ],
   "source": [
    "b1 = FallingBasis(1,0,1); x = b1[1]; b1"
   ]
  },
  {
   "cell_type": "code",
   "execution_count": 32,
   "metadata": {},
   "outputs": [
    {
     "data": {
      "text/html": [
       "<html><script type=\"math/tex; mode=display\">\\newcommand{\\Bold}[1]{\\mathbf{#1}}\\left\\{(x + 1)^{\\overline{n}}\\right\\}_{n \\geq 0}</script></html>"
      ],
      "text/latex": [
       "\\begin{math}\n",
       "\\newcommand{\\Bold}[1]{\\mathbf{#1}}\\left\\{(x + 1)^{\\overline{n}}\\right\\}_{n \\geq 0}\n",
       "\\end{math}"
      ],
      "text/plain": [
       "Raising Factorial Basis (1, x + 1, x + 1(x + 1+1),...)"
      ]
     },
     "execution_count": 32,
     "metadata": {},
     "output_type": "execute_result"
    }
   ],
   "source": [
    "b2 = FallingBasis(1,1,-1); b2"
   ]
  },
  {
   "cell_type": "markdown",
   "metadata": {},
   "source": [
    "In example 8 of Petkovšek's paper, he looked into the binomial coefficient $\\binom{x+n}{2n}$ and extended it with the odd term $\\binom{x+n}{2n+1}$. We can see that the product basis of the falling and raising factorials are exatly those elements except for scalar factor:"
   ]
  },
  {
   "cell_type": "code",
   "execution_count": 33,
   "metadata": {},
   "outputs": [
    {
     "data": {
      "text/html": [
       "<html><script type=\"math/tex; mode=display\">\\newcommand{\\Bold}[1]{\\mathbf{#1}}\\left[1, 1, 2, 6, 24, 120, 720, 5040, 40320, 362880\\right]</script></html>"
      ],
      "text/latex": [
       "\\begin{math}\n",
       "\\newcommand{\\Bold}[1]{\\mathbf{#1}}\\left[1, 1, 2, 6, 24, 120, 720, 5040, 40320, 362880\\right]\n",
       "\\end{math}"
      ],
      "text/plain": [
       "[1, 1, 2, 6, 24, 120, 720, 5040, 40320, 362880]"
      ]
     },
     "execution_count": 33,
     "metadata": {},
     "output_type": "execute_result"
    }
   ],
   "source": [
    "b1b2 = ProductBasis([b1,b2])\n",
    "def example_8_binomial2k(n):\n",
    "    if(n % 2 == 0):\n",
    "        return binomial(x+n//2, n)\n",
    "    else:\n",
    "        return binomial(x+n//2, n)\n",
    "[b1b2[i]/example_8_binomial2k(i) for i in range(10)]"
   ]
  },
  {
   "cell_type": "markdown",
   "metadata": {},
   "source": [
    "In fact, we can see that the scalar factor is exactly $n!$. Hence, we can get a Factorial basis which elements are exactly the two binomial coefficients Petkovšek was interested:"
   ]
  },
  {
   "cell_type": "code",
   "execution_count": 34,
   "metadata": {},
   "outputs": [
    {
     "data": {
      "text/html": [
       "<html><script type=\"math/tex; mode=display\">\\newcommand{\\Bold}[1]{\\mathbf{#1}}\\mathrm{True}</script></html>"
      ],
      "text/latex": [
       "\\begin{math}\n",
       "\\newcommand{\\Bold}[1]{\\mathbf{#1}}\\mathrm{True}\n",
       "\\end{math}"
      ],
      "text/plain": [
       "True"
      ]
     },
     "execution_count": 34,
     "metadata": {},
     "output_type": "execute_result"
    }
   ],
   "source": [
    "B2 = b1b2/factorial(n)\n",
    "all(B2[i]/example_8_binomial2k(i) == 1 for i in range(50))"
   ]
  },
  {
   "cell_type": "markdown",
   "metadata": {},
   "source": [
    "Since this basis is built as a product of two Factorial basis, we have automatically a compatibility by multiplication by $x$:"
   ]
  },
  {
   "cell_type": "code",
   "execution_count": 35,
   "metadata": {},
   "outputs": [
    {
     "data": {
      "text/html": [
       "<html><script type=\"math/tex; mode=display\">\\newcommand{\\Bold}[1]{\\mathbf{#1}}\\left(\\begin{array}{rr}\n",
       "n & \\left(2 n\\right) \\mathit{Sni} \\\\\n",
       "2 n + 1 & -n - 1\n",
       "\\end{array}\\right)</script></html>"
      ],
      "text/latex": [
       "\\begin{math}\n",
       "\\newcommand{\\Bold}[1]{\\mathbf{#1}}\\left(\\begin{array}{rr}\n",
       "n & \\left(2 n\\right) \\mathit{Sni} \\\\\n",
       "2 n + 1 & -n - 1\n",
       "\\end{array}\\right)\n",
       "\\end{math}"
      ],
      "text/plain": [
       "[      n 2*n*Sni]\n",
       "[2*n + 1  -n - 1]"
      ]
     },
     "execution_count": 35,
     "metadata": {},
     "output_type": "execute_result"
    }
   ],
   "source": [
    "B2.recurrence('x')"
   ]
  },
  {
   "cell_type": "markdown",
   "metadata": {},
   "source": [
    "Here we have an interesting phenomena: the falling factorial basis $(x)^{\\underline n}$ is not compatible with the shift \n",
    "operator $E$ but this operator is compatible with the product basis of the two basis. We can see it from Proposition 3 in Petkovšek's paper, which characterize that a factorial basis $\\basis$ is compatible with $E$ if and only if, for all $k \\in \\nn$ the root sequence of $\\basis$ the following inclusion of multisets holds:\n",
    "$$[\\rho_1 + 1,\\ldots \\rho_k + 1] \\subseteq [\\rho_1,\\rho_2,\\ldots,\\rho_{k+A}],$$\n",
    "and in the particular case of the basis containing the binomial coefficients, we have that for $A = 2$ this\n",
    "condition holds:"
   ]
  },
  {
   "cell_type": "code",
   "execution_count": 36,
   "metadata": {},
   "outputs": [
    {
     "name": "stdout",
     "output_type": "stream",
     "text": [
      "[1, 0, 2, -1, 3, -2, 4, -3, 5, -4]\n",
      "[0, -1, 1, -2, 2, -3, 3, -4, 4, -5, 5, -6]\n"
     ]
    },
    {
     "data": {
      "text/html": [
       "<html><script type=\"math/tex; mode=display\">\\newcommand{\\Bold}[1]{\\mathbf{#1}}\\mathrm{True}</script></html>"
      ],
      "text/latex": [
       "\\begin{math}\n",
       "\\newcommand{\\Bold}[1]{\\mathbf{#1}}\\mathrm{True}\n",
       "\\end{math}"
      ],
      "text/plain": [
       "True"
      ]
     },
     "execution_count": 36,
     "metadata": {},
     "output_type": "execute_result"
    }
   ],
   "source": [
    "print([B2.root_sequence()(i)+1 for i in range(10)])\n",
    "print([B2.root_sequence()(i) for i in range(10+2)])\n",
    "all(\n",
    "    multiset_inclusion(\n",
    "        [B2.root_sequence()(i)+1 for i in range(k)], \n",
    "        [B2.root_sequence()(i) for i in range(k+2)]) \n",
    "    for k in range(20)\n",
    ")"
   ]
  },
  {
   "cell_type": "markdown",
   "metadata": {},
   "source": [
    "We can use this data to try and guess the compatibility cnodition for the shift $E: x \\mapsto x+1$. Namely, we compute the element $P_n(x+1)$ for some values of $n$ in terms of $P_{n-A}(x), \\ldots, P_n(x)$, and then guess a linear recurrence for the possible coefficients of $\\alpha_{i,j}(n)$ for the compatibility condition for a fixed number of sections. Then we get a rational solution for those recurrence and we provde that guess as a possible choice.\n",
    "\n",
    "This procedure is implemented in the method ``guess_compatibility_E`` in the package ``psbasis.misc``. "
   ]
  },
  {
   "cell_type": "code",
   "execution_count": 37,
   "metadata": {},
   "outputs": [
    {
     "data": {
      "text/html": [
       "<html><script type=\"math/tex; mode=display\">\\newcommand{\\Bold}[1]{\\mathbf{#1}}\\left(2, 0, 2, \\verb|<function|\\phantom{\\verb!x!}\\verb|guess_compatibility_E.<locals>.<lambda>|\\phantom{\\verb!x!}\\verb|at|\\phantom{\\verb!x!}\\verb|0x7fed64f9c8b0>|\\right)</script></html>"
      ],
      "text/latex": [
       "\\begin{math}\n",
       "\\newcommand{\\Bold}[1]{\\mathbf{#1}}\\left(2, 0, 2, \\verb|<function|\\phantom{\\verb!x!}\\verb|guess_compatibility_E.<locals>.<lambda>|\\phantom{\\verb!x!}\\verb|at|\\phantom{\\verb!x!}\\verb|0x7fed64f9c8b0>|\\right)\n",
       "\\end{math}"
      ],
      "text/plain": [
       "(2, 0, 2, <function guess_compatibility_E.<locals>.<lambda> at 0x7fed64f9c8b0>)"
      ]
     },
     "execution_count": 37,
     "metadata": {},
     "output_type": "execute_result"
    }
   ],
   "source": [
    "guessed_compatibility = guess_compatibility_E(B2, sections=2)\n",
    "guessed_compatibility"
   ]
  },
  {
   "cell_type": "markdown",
   "metadata": {},
   "source": [
    "The method `check_compatibility` in package `psbasis.misc` allows us to check that the compatibility condition holds for a particular basis up to a certain bound. We can check that, up to $n = 2\\cdot 100$ ($2$ being the number of sections and $100$ being the argument bound in the method), the compatibility condition holds for our basis:"
   ]
  },
  {
   "cell_type": "code",
   "execution_count": 38,
   "metadata": {},
   "outputs": [
    {
     "data": {
      "text/html": [
       "<html><script type=\"math/tex; mode=display\">\\newcommand{\\Bold}[1]{\\mathbf{#1}}\\mathrm{True}</script></html>"
      ],
      "text/latex": [
       "\\begin{math}\n",
       "\\newcommand{\\Bold}[1]{\\mathbf{#1}}\\mathrm{True}\n",
       "\\end{math}"
      ],
      "text/plain": [
       "True"
      ]
     },
     "execution_count": 38,
     "metadata": {},
     "output_type": "execute_result"
    }
   ],
   "source": [
    "check_compatibility(B2, guessed_compatibility, lambda p: p(x=x+1), 100)"
   ]
  },
  {
   "cell_type": "code",
   "execution_count": 39,
   "metadata": {},
   "outputs": [],
   "source": [
    "B2.set_compatibility('E', guessed_compatibility)"
   ]
  },
  {
   "cell_type": "markdown",
   "metadata": {},
   "source": [
    "#### 7.1 Generic binomial basis\n",
    "\n",
    "As a generalization of the previous example, consider the binomial coefficient\n",
    "$$B(a,b,c,m,r;n) = \\binom{ax + bn + c}{mn + r}.$$\n",
    "Can we repeat the computations to create a basis built as a Product basis with compatibilities with $E$ and $x$?\n",
    "\n",
    "The first step is to understand the structure of the elements we are considering. In the previous case, we had that incrementing $n$ by one, we obtained a polynomial with $+2$ on the degree. Or, equivalently:\n",
    "$$\\frac{\\binom{x+n+1}{2n+2}}{\\binom{x+n}{2n}} \\in \\mathbb{K}[x]_{\\leq 2}.$$\n",
    "\n",
    "We compute the same quotient the generic case using the Symbolic ring of Sage and we analize the ouput we receive:"
   ]
  },
  {
   "cell_type": "code",
   "execution_count": 40,
   "metadata": {},
   "outputs": [
    {
     "data": {
      "text/html": [
       "<html><script type=\"math/tex; mode=display\">\\newcommand{\\Bold}[1]{\\mathbf{#1}}\\frac{\\left({\\left(b - m\\right)} n + a x + c - r\\right)! \\left(b n + a x + b + c\\right)! \\left(m n + r\\right)!}{\\left({\\left(b - m\\right)} n + a x + b + c - m - r\\right)! \\left(b n + a x + c\\right)! \\left(m n + m + r\\right)!}</script></html>"
      ],
      "text/latex": [
       "\\begin{math}\n",
       "\\newcommand{\\Bold}[1]{\\mathbf{#1}}\\frac{\\left({\\left(b - m\\right)} n + a x + c - r\\right)! \\left(b n + a x + b + c\\right)! \\left(m n + r\\right)!}{\\left({\\left(b - m\\right)} n + a x + b + c - m - r\\right)! \\left(b n + a x + c\\right)! \\left(m n + m + r\\right)!}\n",
       "\\end{math}"
      ],
      "text/plain": [
       "factorial((b - m)*n + a*x + c - r)*factorial(b*n + a*x + b + c)*factorial(m*n + r)/(factorial((b - m)*n + a*x + b + c - m - r)*factorial(b*n + a*x + c)*factorial(m*n + m + r))"
      ]
     },
     "execution_count": 40,
     "metadata": {},
     "output_type": "execute_result"
    }
   ],
   "source": [
    "a,b,c,m,r = var('a b c m r')\n",
    "exp = binomial(a*x + b*n + c, m*n + r)\n",
    "fexp = (exp(n=n+1)/exp).simplify_full()\n",
    "fexp"
   ]
  },
  {
   "cell_type": "markdown",
   "metadata": {},
   "source": [
    "Wee see here three factors in bot the numerator and the denominator. If we compare them pairwise, we can extract useful information:\n",
    "\n",
    "* **First factor:** we can see with this factor that we require $b \\leq m \\in \\mathbb{N}$ to obtain a polynomial from here:\n",
    "  $$\\frac{((b-m)n + ax+ c -r)!}{((b-m)n+ax+b+c-m-r)!} = \\prod_{i=0}^{m-b-1} ((b-m)n + ax + c - r -i) \\in \\mathbb{K}[x]_{\\leq m-b}$$\n",
    "* **Second factor:** for this case, we see we need $b \\in \\mathbb{N}$ too:\n",
    "  $$\\frac{(bn+ax+b+c)!}{(bn + ax + c)!} = \\prod_{i=1}^b (bn + ax + c + i) \\in \\mathbb{K}[x]_{\\leq b}.$$\n",
    "* **Third factor:** in this case we obtain a rational function in $n$, so it will lead to a polynomial of degree $0$ in $x$:\n",
    "  $$\\frac{(mn+r)!}{(mn + m + r)!} = \\frac{1}{\\prod_{i=1}^m (mn+r+i)}.$$\n",
    "  Moreover, in order to avoid a division by zero, we need to assume that $r \\geq 0$.\n",
    "  \n",
    "Putting everything together, we can see that for the assumptions that we imposed ($a,b,m,r \\in \\mathbb{N}$, $b \\leq m$ and $c \\in \\mathbb{Z}$) the elements in the sequence $B(a,b,c,m,r;n)$ are polynomials of degree $nm$. Mimicing what we did for the first example (which corresponds to $B(1,1,0,2,0;n)$) we should be able to glue togegher $m$ simpler basis knowing the sequence of roots and the leading coefficients.\n",
    "\n",
    "###### 7.1.1 Obtaining the roots and the basic basis\n",
    "\n",
    "If we look again to the first two factors of the quotient $B(a,b,c,m,r;n+1)/B(a,b,c,m,r;n)$ we see two families of roots associated with this sequence:\n",
    "\n",
    "* **From the first factor**: we obtain $m-b$ roots with the following values:\n",
    "  $$\\frac{(m-b)n - c + r + i}{a},\\quad i=0,\\ldots m-b-1.$$\n",
    "  For each particular $i$ we have an increasing sequences of roots:\n",
    "  $$\\frac{-c+r+i}{a}, \\frac{-c+r+i+(m-b)}{a}, \\frac{-c+r+i+2(m-b)}{a}, \\frac{-c+r+i+3(m-b)}{a}, \\ldots$$\n",
    "  which we can easily build using the class ``FallingBasis`` by calling ``FallingBasis(a, c-r-i, (m-b))``.\n",
    "* **From the second factor**: we obtain ow $b$ roots taking the following values:\n",
    "  $$\\frac{-bn-c-i}{a},\\quad i=1,\\ldots b.$$\n",
    "  Now, for each particular $i$, this is a decreasing sequence of roots:\n",
    "  $$\\frac{-c-i}{a}, \\frac{-c-i -b}{a}, \\frac{-c-i -2b}{a}, \\frac{-c-i -3b}{a},\\ldots$$\n",
    "  which, again, can be easily built using the the class ``FallingBsis`` by calling ``FallingBasis(a, c+i, b)``."
   ]
  },
  {
   "cell_type": "code",
   "execution_count": 41,
   "metadata": {},
   "outputs": [],
   "source": [
    "def symbolic_binomial(a,b,c,m,r):\n",
    "    return binomial(a*x+b*n+c, m*n+r)\n",
    "\n",
    "def GeneralizedBinomial_basis(a,b,c,m,r):\n",
    "    ## Chcking the inputs\n",
    "    if(any(not el in ZZ for el in (a,b,c,m,r))):\n",
    "        raise TypeError(\"The coefficients must always be integers\")\n",
    "    if(any(not el >= 0 for el in (b,r))):\n",
    "        raise ValueError(\"The coefficients 'b', and 'r' must be non-negative integers\")\n",
    "    if(any(not el > 0 for el in (a,m))):\n",
    "        raise ValueError(\"The coefficients 'a' and 'm' must be positive integers\")\n",
    "    if(b > m):\n",
    "        raise ValueError(\"The coefficient 'b' must be at most 'm'\")\n",
    "        \n",
    "    ## Basis from the first factor:\n",
    "    F1 = [FallingBasis(a, c-r-i, (m-b)) for i in range(m-b)]\n",
    "    ## Basis from the scond factor:\n",
    "    F2 = [FallingBasis(a, c+i, -b) for i in range(1, b+1)]\n",
    "    \n",
    "    return ProductBasis(F1 + F2)"
   ]
  },
  {
   "cell_type": "markdown",
   "metadata": {},
   "source": [
    "###### 7.1.2 Obtaining the leading coefficients\n",
    "\n",
    "We can prove by induction that the leading coefficient of $B(a,b,c,m,r;n)$ as a polynomial in $x$ is precisely\n",
    "$$\\frac{a^{r+mn}{(r+mn)!}.$$\n",
    "\n",
    "* Let $n = 0$. Then we have:\n",
    "  $$B(a,b,c,m,r;0) = \\binom{ax+c}{r} = \\frac{\\prod_{i=1}^r (ax+c+i)}{r!},$$\n",
    "  so the leading coefficient is, precisely, $a^r/r!$\n",
    "* Let $n \\geq 0$ and assume that the leading coefficient of $B(a,b,c,m,r;n) = \\frac{a^{r+mn}}{(r+mn)!}$. Using the results previously shown on this notebook, we havethat the quotient of the leading coefficients of $B(a,b,c,m,r;n+1)$ and $B(a,b,c,m,r;n)$ is:\n",
    "  * *From the first factor:* $a^{m-b}$.\n",
    "  * *From the second factor:* $a^b$.\n",
    "  * *From the third factor:* $1/\\prod_{i=1}^m(mn+r+i)$,\n",
    "  so putting everything together and using the induction hypothesis we obtain that:\n",
    "  $$\\text{lc}(B(a,b,c,m,r;n+1)) = \\frac{a^{r+mn}}{(r+mn)!}\\frac{a^m}{\\prod_{i=1}^m (mn+r+i)} = \\frac{a^{r+m(n+1))}}{(r+m(n+1))!}.$$\n",
    "  \n",
    "Now, from the Falling basis that we have used to build the roots, we already have a factor $a^{mn}$ in the leading coefficient. Only the $a^r/(r+mn)!$ remains to be included. "
   ]
  },
  {
   "cell_type": "code",
   "execution_count": 42,
   "metadata": {},
   "outputs": [],
   "source": [
    "def GeneralizedBinomial_scalar(a,b,c,m,r):\n",
    "    return a^r/factorial(r+n)"
   ]
  },
  {
   "cell_type": "code",
   "execution_count": 43,
   "metadata": {},
   "outputs": [],
   "source": [
    "def GeneralizedBinomial_wo_compatibilities(a,b,c,m,r):\n",
    "    return GeneralizedBinomial_basis(a,b,c,m,r)*GeneralizedBinomial_scalar(a,b,c,m,r)"
   ]
  },
  {
   "cell_type": "code",
   "execution_count": 44,
   "metadata": {},
   "outputs": [
    {
     "data": {
      "text/html": [
       "<html><script type=\"math/tex; mode=display\">\\newcommand{\\Bold}[1]{\\mathbf{#1}}\\left[\\mathrm{True}, \\mathrm{True}, \\mathrm{True}, \\mathrm{True}, \\mathrm{True}, \\mathrm{True}, \\mathrm{True}, \\mathrm{True}, \\mathrm{True}, \\mathrm{True}\\right]</script></html>"
      ],
      "text/latex": [
       "\\begin{math}\n",
       "\\newcommand{\\Bold}[1]{\\mathbf{#1}}\\left[\\mathrm{True}, \\mathrm{True}, \\mathrm{True}, \\mathrm{True}, \\mathrm{True}, \\mathrm{True}, \\mathrm{True}, \\mathrm{True}, \\mathrm{True}, \\mathrm{True}\\right]\n",
       "\\end{math}"
      ],
      "text/plain": [
       "[True, True, True, True, True, True, True, True, True, True]"
      ]
     },
     "execution_count": 44,
     "metadata": {},
     "output_type": "execute_result"
    }
   ],
   "source": [
    "aux = GeneralizedBinomial_wo_compatibilities(1,1,0,2,0)\n",
    "[aux[i] == B2[i] for i in range(10)]"
   ]
  },
  {
   "cell_type": "markdown",
   "metadata": {},
   "source": [
    "###### 7.1.3 Compatibility with $E$\n",
    "\n",
    "So far, we know several cases where the generalized Binomial basis are compatible with the shift $E:x \\mapsto x+1$. For example, all cases with $b=r=0$ and $m = 1$ (which are the basic binomial coefficients covered in the algorithm `DefiniteSumSolutions`) are compatible with the shift. Also the case with $B(1,1,0,2,0)$ is also compatible (as we guessed in this Section).\n",
    "\n",
    "We are going to study now the general case looking into Proposition 3 of Petkovšek's paper with the root multi-inclusion. Since we have studied the added roots in these generalized Binomial basis, we can study when we have that multiset inclusion and, maybe, even compute explicitly the value for the compatibility bound $A$.\n",
    "\n",
    "As we saw preously, we have two types of roots:\n",
    "\n",
    "* Increasing roots: provided by the first factor. They have the form:\n",
    "  $$\\begin{array}{ccccc}\n",
    "      \\frac{-c+r+i}{a}, &\\frac{-c+r+i+(m-b)}{a}, &\\frac{-c+r+i+2(m-b)}{a}, &\\frac{-c+r+i+3(m-b)}{a}, &\\ldots\\qquad i = 0,\\ldots,m-b-1\\\\\n",
    "      \\downarrow_{+1} & \\downarrow_{+1} & \\downarrow_{+1} & \\downarrow_{+1} & \\\\\n",
    "      \\frac{-c+r+i+a}{a}, &\\frac{-c+r+i+a+(m-b)}{a}, &\\frac{-c+r+i+a+2(m-b)}{a}, &\\frac{-c+r+i+a+3(m-b)}{a}, &\\ldots\\qquad i = 0,\\ldots,m-b-1\n",
    "  \\end{array}$$\n",
    "  Let $\\iota_{i,k} = \\frac{-c+r+i+k(m-b)}{a}$. \n",
    "  The we can order the increasing roots by $t = i + k(m-b)$ (i.e., $\\iota_{i,k} = \\iota{t}$). I this case we have that \n",
    "  $$\\iota_t + 1 = \\iota_{t+a},$$\n",
    "  so the roots after adding 1 will appear later. Moreover, with this notation it is clear that $\\iota_{t+1} + 1 = \\iota_{t+a+1}$, so *the (next root) plus one is the next (root plus one)*.\n",
    "  \n",
    "  In particular, if we write $a = p(m-b) + q$, then we have that $\\iota_{0} + 1 = \\iota_{a} = \\iota_{q,p}$ and all the other roots will appear in sequence after that. We can use then the first $a$ roots to compensate in the decreasing roots.\n",
    "* Decreasing roots: provided by the second factor. These are the main problematic set of roots, since we may be not be able to compensate properly all the root when adding 1. These roots have the form:\n",
    "  $$\\begin{array}{ccccc}\n",
    "      \\frac{-c-i}{a}, &\\frac{-c-i -b}{a}, &\\frac{-c-i -2b}{a}, &\\frac{-c-i -3b}{a},&\\ldots\\\\\n",
    "      \\downarrow_{+1} & \\downarrow_{+1} & \\downarrow_{+1} & \\downarrow_{+1} & \\\\\n",
    "      \\frac{-c-i+a}{a}, &\\frac{-c-i+a-b}{a}, &\\frac{-c-i+a-2b}{a}, &\\frac{-c-i+a-3b}{a},&\\ldots\\\\\n",
    "  \\end{array}$$\n",
    "  Let $\\delta_{i,k} = \\frac{-c-i-kb}{a}$. The we can order the decreasing roots by $t = i+kb$ (i.e., $\\delta_{i,k} = \\delta{t}$). I this case we have that \n",
    "  $$\\delta_t + 1= \\frac{-c-t}{a} + 1 = \\frac{-c-t+a}{a} = \\delta_{t-a},$$\n",
    "  so the roots after adding 1 have already appeared. Moreover, with this notation it is clear that $\\iota_{t+1} + 1 = \\iota_{t-a+1}$, so *the (next root) plus one is the next (root plus one)*.\n",
    "  \n",
    "  In particular, there are $a$ roots that we can not match. Namely, the first $\\delta_{1},\\ldots,\\delta_{a}$ can not be mathced and need to be covered b the increasing roots.\n",
    "  \n",
    "So we have $a$ roots from the increasing roots that needs to match with the first $a$ decreasing roots. We can chec the formulas for both:\n",
    "\n",
    "* Decreasing roots plus one:\n",
    "  $$\\frac{-c-1+a}{a}, \\frac{-c-2+a}{a}, \\frac{-c-3+a}{a}, \\ldots, \\frac{-c}{a}.$$\n",
    "* Increasing roots:\n",
    "  $$\\frac{-c+r}{a}, \\frac{-c+r+1}{a}, \\frac{-c+r+2}{a}, \\ldots, \\frac{-c+r+a-1}{a}.$$\n",
    "  \n",
    "**So we need that $r = 0$**. Otherwise the shift $E$ will not be compatible with the generalized Binomial basis. *I bet that for other $r$ we will get compatibilities with other shifts.*\n",
    "\n",
    "Now for computing the lower bound for compatibility $A$ we need to lok to $a$. Let $a = p(m-b) + q$. Then after moving the root sequence $m$ steps forward, we have added $m-b$ increasing roots and $b$ decreasing roots.  The decreasing roots are not important here, since they will be compensated right away. We only need an $A$ big enough so all increasing roots are included already, i.e., $A = pm$."
   ]
  },
  {
   "cell_type": "code",
   "execution_count": 45,
   "metadata": {},
   "outputs": [],
   "source": [
    "def GeneralizedBinomial_decreasing_roots(a,b,c,m,r):\n",
    "    r'''\n",
    "        Method that returns the set of decreasing roots that has to be compensated by the increasing roots.\n",
    "    '''\n",
    "    return [(-c-j)/a for j in range(1,a+1)]\n",
    "                \n",
    "def GeneralizedBinomial_increasing_roots(a,b,c,m,r):\n",
    "    r'''\n",
    "        Method that returns the increasing roots that can be used to compensate the decreasing basis.\n",
    "    '''\n",
    "    return [(-c+r+j)/a for j in range(a)]"
   ]
  },
  {
   "cell_type": "code",
   "execution_count": 46,
   "metadata": {},
   "outputs": [
    {
     "data": {
      "text/html": [
       "<html><script type=\"math/tex; mode=display\">\\newcommand{\\Bold}[1]{\\mathbf{#1}}\\mathrm{True}</script></html>"
      ],
      "text/latex": [
       "\\begin{math}\n",
       "\\newcommand{\\Bold}[1]{\\mathbf{#1}}\\mathrm{True}\n",
       "\\end{math}"
      ],
      "text/plain": [
       "True"
      ]
     },
     "execution_count": 46,
     "metadata": {},
     "output_type": "execute_result"
    }
   ],
   "source": [
    "a = 3; b = 1; c = 1; m = 2; r = 0\n",
    "p = a//(m-b); A = p*m\n",
    "aux = GeneralizedBinomial_wo_compatibilities(a,b,c,m,r); l = 2\n",
    "all(multiset_inclusion([aux.rho(i)+1 for i in range(l)],[aux.rho(i) for i in range(l+A)]) for l in range(10))"
   ]
  },
  {
   "cell_type": "code",
   "execution_count": 47,
   "metadata": {},
   "outputs": [
    {
     "data": {
      "text/html": [
       "<html><script type=\"math/tex; mode=display\">\\newcommand{\\Bold}[1]{\\mathbf{#1}}\\mathrm{True}</script></html>"
      ],
      "text/latex": [
       "\\begin{math}\n",
       "\\newcommand{\\Bold}[1]{\\mathbf{#1}}\\mathrm{True}\n",
       "\\end{math}"
      ],
      "text/plain": [
       "True"
      ]
     },
     "execution_count": 47,
     "metadata": {},
     "output_type": "execute_result"
    }
   ],
   "source": [
    "guessed_compatibility = guess_compatibility_E(aux, sections=2)\n",
    "check_compatibility(aux, guessed_compatibility, lambda p: p(x=x+1))"
   ]
  },
  {
   "cell_type": "code",
   "execution_count": 48,
   "metadata": {},
   "outputs": [
    {
     "data": {
      "text/html": [
       "<html><script type=\"math/tex; mode=display\">\\newcommand{\\Bold}[1]{\\mathbf{#1}}\\left(\\begin{array}{rr}\n",
       "\\mathit{Sn}^{3} + 5 \\mathit{Sn}^{2} + 6 \\mathit{Sn} + 1 & \\mathit{Sn}^{2} + 4 \\mathit{Sn} + 3 \\\\\n",
       "\\mathit{Sn}^{3} + 4 \\mathit{Sn}^{2} + 3 \\mathit{Sn} & \\mathit{Sn}^{2} + 3 \\mathit{Sn} + 1\n",
       "\\end{array}\\right)</script></html>"
      ],
      "text/latex": [
       "\\begin{math}\n",
       "\\newcommand{\\Bold}[1]{\\mathbf{#1}}\\left(\\begin{array}{rr}\n",
       "\\mathit{Sn}^{3} + 5 \\mathit{Sn}^{2} + 6 \\mathit{Sn} + 1 & \\mathit{Sn}^{2} + 4 \\mathit{Sn} + 3 \\\\\n",
       "\\mathit{Sn}^{3} + 4 \\mathit{Sn}^{2} + 3 \\mathit{Sn} & \\mathit{Sn}^{2} + 3 \\mathit{Sn} + 1\n",
       "\\end{array}\\right)\n",
       "\\end{math}"
      ],
      "text/plain": [
       "[Sn^3 + 5*Sn^2 + 6*Sn + 1          Sn^2 + 4*Sn + 3]\n",
       "[    Sn^3 + 4*Sn^2 + 3*Sn          Sn^2 + 3*Sn + 1]"
      ]
     },
     "execution_count": 48,
     "metadata": {},
     "output_type": "execute_result"
    }
   ],
   "source": [
    "aux.set_compatibility('E', guessed_compatibility)\n",
    "aux.recurrence('E')"
   ]
  },
  {
   "cell_type": "markdown",
   "metadata": {},
   "source": [
    "###### 7.1.4 Compatibility with other shifts\n",
    "\n",
    "Similarly to Proposition 3 from Petkovšek's paper, we can prove the following result:\n",
    "\n",
    "**Proposition:** let $\\basis$ be a factorial basis and $E_\\alpha: x \\mapsto x + \\alpha$. Then $E_\\alpha$ is $(A,0)$-compatible with $\\basis$ if and only if \n",
    "$$[\\rho_0 + \\alpha,\\ldots \\rho_k + \\alpha] \\subseteq [\\rho_0,\\ldots,\\rho_{k+A}]\\ \\text{for }k\\in \\mathbb{N}.$$\n",
    "\n",
    "We can see that the only way a shift $E_\\alpha$ is compatible with $B(a,b,c,m,r)$ is that $\\alpha = p/a$ for some $p \\in \\nn$. Hence, there is a natural shift $\\tilde{E}$ that generates all the compatibilities with shifts. Namely, $\\tilde{E}(x) = x + 1/a$.\n",
    "\n",
    "In this sense, we still need that $r = 0$ in order to have compatibility. In fact, we would have a $(b+1,0)$-compatibility in $m$ sections. We can then proceed as usual with our guessing tool to get the crresponding recurrence.\n",
    "\n",
    "The compatibility with the classical shift $E$ is then trivially obtained as a iteration of $\\tilde{E}$ exactly $a$ times."
   ]
  },
  {
   "cell_type": "code",
   "execution_count": 49,
   "metadata": {},
   "outputs": [
    {
     "data": {
      "text/html": [
       "<html><script type=\"math/tex; mode=display\">\\newcommand{\\Bold}[1]{\\mathbf{#1}}\\mathrm{True}</script></html>"
      ],
      "text/latex": [
       "\\begin{math}\n",
       "\\newcommand{\\Bold}[1]{\\mathbf{#1}}\\mathrm{True}\n",
       "\\end{math}"
      ],
      "text/plain": [
       "True"
      ]
     },
     "execution_count": 49,
     "metadata": {},
     "output_type": "execute_result"
    }
   ],
   "source": [
    "all(multiset_inclusion([aux.rho(i)+(1/a) for i in range(l)],[aux.rho(i) for i in range(l+b+1)]) for l in range(10))"
   ]
  },
  {
   "cell_type": "code",
   "execution_count": 50,
   "metadata": {},
   "outputs": [
    {
     "data": {
      "text/html": [
       "<html><script type=\"math/tex; mode=display\">\\newcommand{\\Bold}[1]{\\mathbf{#1}}\\mathrm{True}</script></html>"
      ],
      "text/latex": [
       "\\begin{math}\n",
       "\\newcommand{\\Bold}[1]{\\mathbf{#1}}\\mathrm{True}\n",
       "\\end{math}"
      ],
      "text/plain": [
       "True"
      ]
     },
     "execution_count": 50,
     "metadata": {},
     "output_type": "execute_result"
    }
   ],
   "source": [
    "guessed_compatibility = guess_compatibility_E(aux, shift=1/a, sections=2)\n",
    "check_compatibility(aux, guessed_compatibility, lambda p: p(x=x+1/a))"
   ]
  },
  {
   "cell_type": "code",
   "execution_count": 52,
   "metadata": {},
   "outputs": [
    {
     "name": "stdout",
     "output_type": "stream",
     "text": [
      "The operator Et is already compatible with this basis -- no changes are done\n"
     ]
    },
    {
     "data": {
      "text/html": [
       "<html><script type=\"math/tex; mode=display\">\\newcommand{\\Bold}[1]{\\mathbf{#1}}\\left(\\begin{array}{rr}\n",
       "\\mathit{Sn} + 1 & 1 \\\\\n",
       "\\mathit{Sn} & 1\n",
       "\\end{array}\\right)</script></html>"
      ],
      "text/latex": [
       "\\begin{math}\n",
       "\\newcommand{\\Bold}[1]{\\mathbf{#1}}\\left(\\begin{array}{rr}\n",
       "\\mathit{Sn} + 1 & 1 \\\\\n",
       "\\mathit{Sn} & 1\n",
       "\\end{array}\\right)\n",
       "\\end{math}"
      ],
      "text/plain": [
       "[Sn + 1      1]\n",
       "[    Sn      1]"
      ]
     },
     "execution_count": 52,
     "metadata": {},
     "output_type": "execute_result"
    }
   ],
   "source": [
    "aux.set_compatibility('Et', guessed_compatibility)\n",
    "aux.recurrence('Et')"
   ]
  },
  {
   "cell_type": "markdown",
   "metadata": {},
   "source": [
    "And we can check that the compatibility of $\\tilde{E}^a$ is exactly the compatibility we computed already for $E$:"
   ]
  },
  {
   "cell_type": "code",
   "execution_count": 54,
   "metadata": {},
   "outputs": [
    {
     "data": {
      "text/html": [
       "<html><script type=\"math/tex; mode=display\">\\newcommand{\\Bold}[1]{\\mathbf{#1}}\\mathrm{True}</script></html>"
      ],
      "text/latex": [
       "\\begin{math}\n",
       "\\newcommand{\\Bold}[1]{\\mathbf{#1}}\\mathrm{True}\n",
       "\\end{math}"
      ],
      "text/plain": [
       "True"
      ]
     },
     "execution_count": 54,
     "metadata": {},
     "output_type": "execute_result"
    }
   ],
   "source": [
    "APR.<Et> = QQ[]\n",
    "aux.compatibility_matrix(Et^a) == aux.compatibility_matrix('E')"
   ]
  },
  {
   "cell_type": "markdown",
   "metadata": {},
   "source": [
    "###### 7.1.5 Final code for generic binomial basis\n",
    "\n",
    "Here we can see the complete method to create these generalized binomial basis:"
   ]
  },
  {
   "cell_type": "code",
   "execution_count": 65,
   "metadata": {},
   "outputs": [],
   "source": [
    "def GeneralizedBinomial(a,b,c,m,r):\n",
    "    r'''\n",
    "        Method to get a basis which includes the general binomial coefficients.\n",
    "        \n",
    "        The binomial coefficients of shape\n",
    "        \n",
    "        .. MATH::\n",
    "        \n",
    "            \\binom{ax+bn+c}{mn+r}\n",
    "            \n",
    "        can be (as a sequence of `n`) polynomials when `c \\in \\mathbb{Z}`, `a,b,m,r \\in \\mathbb{N}` with `a, m > 0`\n",
    "        and `b \\leq m`. However these polynomials have degree `nm`, so they do not form a basis of \\mathbb{K}[[x]]. \n",
    "        This method creates a factorial basis as a :class:`ProductBasis` that contains the specified binomial coefficients\n",
    "        in the corresponding positions of the sequence. The intermediate steps are a possible extension to obtain\n",
    "        every `m` steps all the necessary roots.\n",
    "        \n",
    "        Moreover, when `r=0`, this basis are naturally `(b+1, 0)`-compatible with the shift `\\tilde{E}: x\\mapsto x+(1/a)`.\n",
    "        This method includes that compatibility in the basis after computing it with a guessing procedure (see \n",
    "        :func:`guess_compatibility_E` for further information). Then we also include the compatibility with the classical\n",
    "        shift `E: x\\mapsto x+1` using the compatibility with `\\tilde{E}`.\n",
    "    '''\n",
    "    ## Chcking the inputs\n",
    "    if(any(not el in ZZ for el in (a,b,c,m,r))):\n",
    "        raise TypeError(\"The coefficients must always be integers\")\n",
    "    if(any(not el >= 0 for el in (b,r))):\n",
    "        raise ValueError(\"The coefficients 'b', and 'r' must be non-negative integers\")\n",
    "    if(any(not el > 0 for el in (a,m))):\n",
    "        raise ValueError(\"The coefficients 'a' and 'm' must be positive integers\")\n",
    "    if(b > m):\n",
    "        raise ValueError(\"The coefficient 'b' must be at most 'm'\")\n",
    "        \n",
    "    ## Special case of binomial basis\n",
    "    # TODO: check whether we can add the `r!=0` to the original BinomialBasis\n",
    "    # TODO: check whether we can add the `b!=0` to the original BinomialBasis\n",
    "    if(m == 1 and b == 0 and r == 0):\n",
    "        return BinomialBasis(a,c) \n",
    "    \n",
    "    n = PSBasis.n(None)\n",
    "    \n",
    "    ## Basis for the roots on the first factor:\n",
    "    F1 = [FallingBasis(a, c-r-i, (m-b)) for i in range(m-b)]\n",
    "    ## Basis for the roots on the second factor:\n",
    "    F2 = [FallingBasis(a, c+i, -b) for i in range(1, b+1)]\n",
    "    \n",
    "    basis = ProductBasis(F1 + F2).scalar(a^r/factorial(r+n))\n",
    "    x = basis[1].parent().gens()[0]\n",
    "    \n",
    "    if(r == 0):\n",
    "        guessed_compatibility = guess_compatibility_E(basis, shift=1/a, sections=m)\n",
    "        assert(check_compatibility(basis, guessed_compatibility, lambda p: p(x=x+1/a)))\n",
    "        basis.set_compatibility('Et', guessed_compatibility)\n",
    "        APR = PolynomialRing(QQ, 'Et'); Et = APR.gens()[0]\n",
    "        basis.set_compatibility('E', basis.compatibility(Et^a))\n",
    "        \n",
    "    return basis"
   ]
  },
  {
   "cell_type": "code",
   "execution_count": 66,
   "metadata": {},
   "outputs": [
    {
     "name": "stdout",
     "output_type": "stream",
     "text": [
      "True\n",
      "True\n"
     ]
    },
    {
     "data": {
      "text/html": [
       "<html><script type=\"math/tex; mode=display\">\\newcommand{\\Bold}[1]{\\mathbf{#1}}\\verb|dict_keys(['x',|\\phantom{\\verb!x!}\\verb|'Et',|\\phantom{\\verb!x!}\\verb|'E'])|</script></html>"
      ],
      "text/latex": [
       "\\begin{math}\n",
       "\\newcommand{\\Bold}[1]{\\mathbf{#1}}\\verb|dict_keys(['x',|\\phantom{\\verb!x!}\\verb|'Et',|\\phantom{\\verb!x!}\\verb|'E'])|\n",
       "\\end{math}"
      ],
      "text/plain": [
       "dict_keys(['x', 'Et', 'E'])"
      ]
     },
     "execution_count": 66,
     "metadata": {},
     "output_type": "execute_result"
    }
   ],
   "source": [
    "aux = GeneralizedBinomial(1,1,0,2,0)\n",
    "print(all(aux[i] == B2[i] for i in range(20)))\n",
    "print(aux.compatibility_matrix('E') == B2.compatibility_matrix('E'))\n",
    "aux.compatible_operators()"
   ]
  },
  {
   "cell_type": "markdown",
   "metadata": {},
   "source": [
    "## 8. Sieved basis\n",
    "\n",
    "We are going to condier now another type of generalization of the Product basis. Remember that for a Product basis, we started with a set of basis $\\basis_1,\\ldots,\\basis_m$ and we _interlaced_ them in an appropriate way, namely:\n",
    "    $$P_{qm+r}(x) = \\prod_{i=1}^{r}P_{i,q+1}(x) \\prod_{i=r+1}^{m}P_{i,q}(x).$$\n",
    "    \n",
    "If we consider polynomial basis and we look into the root sequence, we are interlecing the $m$ sequences of roots for each of the factors of our basis. But we could create a new sequence in a very different way. For example, if we have two sequences, we could create the following root sequence:\n",
    "    $$[\\rho_{1,1},\\rho_{1,2},\\rho_{2,1},\\rho_{1,3},\\rho_{1,4},\\rho_{2,2},\\ldots],$$\n",
    "i.e., we take two roots from the first basis and one root from the second basis. We could even mix them even more. In this section we are going to study this type of basis, that will allow us to build more examples automatically.\n",
    "\n",
    "**Definition:** Let $\\basis_0,\\ldots,\\basis_{F-1}$ be factorial basis and $\\mathbf{c} = (\\sigma_0,\\ldots,\\sigma_{m-1}) \\in \\{0,\\ldots, F-1\\}^m$. We define the $\\mathbf{c}$-sieved basis of $(\\basis_0,\\ldots,\\basis_{F-1})$ with the polynomials $Q_n(x)$ defined as follows (taking $n = km + r$):\n",
    "\n",
    "$$Q_n(x) = \\prod_{i=0}^{F-1}P_{e_i(n)}^{(i)}(x)$$,\n",
    "\n",
    "where $e_i(n) = kS_i + s_i(r)$ where:\n",
    "* $s_i(r) = \\#\\{j \\in \\{0,\\ldots,r-1\\ :\\ \\sigma_r = i\\}$,\n",
    "* $S_i = s_i(m)$.\n",
    "\n",
    "This sieved basis do precisely the interlacing of root sequences that we were describing before. Namely, at step $n = km+r$ we add the next root of the basis $\\basis_{\\sigma_r}$. This generalizes the concept of **Product basis** since, when $m = F$ and $\\mathbf{c} = (0,1,\\ldots,F-1)$, we have that the $\\mathbf{c}$-sieved basis of $(\\basis_0,\\ldots,\\basis_{F-1})$ is exactly the Product basis of the basis $\\basis_0,\\ldots,\\basis_{F-1}$.\n",
    "\n",
    "**Lemma:** Let $\\basis_0,\\ldots,\\basis_{F-1}$ be factorial basis and $\\mathbf{c} = (\\sigma_0,\\ldots,\\sigma_{m-1}) \\in \\{0,\\ldots, F-1\\}^m$. The $\\mathbf{c}$-sieved basis of $(\\basis_0,\\ldots,\\basis_{F-1})$ is a factorial basis.\n",
    "\n",
    "*Proof:* let $n = km + r \\geq 1$ and $f = \\sigma_r$. Then, by definition, we have:\n",
    "$$\\frac{Q_{n}(x)}{Q_{n-1}(x)} = \\frac{P_{e_f(n)}^{(f)}(x)}{P_{e_f(n)-1}^{(f)}(x)} \\in \\mathbb{K}[x].$$\n",
    "\n",
    "The last we need to proof that $\\basis$ is a factorial basis is that the degree of the $n$-th element is exaclty $n$. This is equivalent to proof that $\\sum_{i=0}^{F-1} e_i(n) = n$ for all $n$. But this is clear since:\n",
    "* $\\sum_{i = 0}^{F-1} S_i = m$ by definition\n",
    "* $\\sum_{i = 0}^{F-1} s_i(r) = r$ by definition.\n",
    "\n",
    "Hence, putting these two pieces together we obtain for $n = km+r$:\n",
    "$$\\sum_{i=0}^{F-1} e_i(n) = \\sum_{i=0}^{F-1}\\left(kS_i + s_i(r) \\right) = km+r = n.$$\n",
    "\n",
    "**Fixed notation**: for the rest of this section, we will fix the following notation:\n",
    "* $\\basis_i = \\{P_n^{(i)}(x)\\}_n$ for $i = 0,\\ldots,F-1$ are factorial basis.\n",
    "* $\\mathbf{c} = (\\sigma_0,\\ldots,\\sigma_{m-1}) \\in \\{0,\\ldots,F-1\\}^m$\n",
    "* $\\basis$ is the $\\mathbf{c}$-sieved basis of $(\\basis_0,\\ldots,\\basis_{F-1})$."
   ]
  },
  {
   "cell_type": "markdown",
   "metadata": {},
   "source": [
    "### Extending the compatibility of multiplication by $X$\n",
    "\n",
    "Since the basis $\\basis$ is again a factorial basis, it is cler that it is $(0,1)$-compatible with the multiplication by $X$. Here we present how to compute this compatibility from the compatibility conditions of each of the factors $\\basis_i$.\n",
    "\n",
    "Let $\\basis_i$ be (0,1)-compatible with $X$ in $t_i$ sections. Then we have rational functions $\\alpha_{r,j}^{(i)}(k) \\in \\mathbb{K}(k)$ such that, for all $n = kt_i + r$:\n",
    "\n",
    "$$xP_{n}^{(i)}(x) = \\alpha_{r,0}^{(i)}(k)P_{n}^{(i)}(x) + \\alpha_{r,1}^{(i)}(k)P_{n+1}^{(i)}(x).$$\n",
    "\n",
    "Let $t = \\text{lcm}(t_0, \\ldots, t_{F-1})$ and $a_i = t/t_i$. Then $X$ is $(0,1)$-compatible with $\\basis$ in $mt$ sections. Let $n = kmt + r$ and write $r = r_0m + r_1$. Then we have that:\n",
    "\n",
    "$$xQ_n(x) = xQ_{(kt+r_0)m+r_1}(x) = x\\prod_{i=0}^{F-1}P_{e_i(n)}^{(i)}(x) = \n",
    "\\left(\\prod_{i=0,\\ i\\neq\\sigma_{r_1}}^{F-1}P_{e_i(n)}^{(i)}(x)\\right)\\left(xP_{e_{\\sigma_{r_1}}(n)}^{(\\sigma_{r_1})}(x)\\right).$$\n",
    "\n",
    "Using the facts that:\n",
    "* $e_{\\sigma_{r_1}}(n) = S_{\\sigma_{r_1}}(kt + r_0) + s_{\\sigma_{r_1}}(r_1)$,\n",
    "* $e_{\\sigma_{r_1}}(n+1) = e_{\\sigma_{r_1}}(n) + 1$ and,\n",
    "* $S_{\\sigma_{r_1}}r_0 + s_{\\sigma_{r_1}}(r_1) = r_2t_{\\sigma_{r-1}}+ r3$,\n",
    "\n",
    "then we can write:\n",
    "$$xQ_n(x) = \\left(\\prod_{i=0,\\ i\\neq\\sigma_{r_1}}^{F-1}P_{e_i(n)}^{(i)}(x)\\right)\\left(xP_{t_{\\sigma_{r_1}}(a_{\\sigma_{r_1}}k+r_2) + r_3}^{(\\sigma_{r_1})}(x)\\right) = \n",
    "\\alpha_{r_3,0}^{(\\sigma_{r_1})}(a_{\\sigma_{r_1}}k+r_2)Q_n(x) + \\alpha_{r_3,1}^{(\\sigma_{r_1})}(a_{\\sigma_{r-1}}k+r_2)Q_{n+1}(x)$$\n",
    "\n",
    "and we have computed the compatibilty conditions for $\\basis$ taking:\n",
    "\n",
    "$$\\alpha_{r,j}(n) = \\alpha_{r_3,j}^{(\\sigma_{r_1})}\\left(a_{\\sigma_{r-1}}n+r_2\\right) \\in \\mathbb{K}(n)$$"
   ]
  },
  {
   "cell_type": "markdown",
   "metadata": {},
   "source": [
    "### Extending the compatibility of endomorphisms\n",
    "\n",
    "Let $L$ be an endomorphism, i.e., $L(PQ) = L(P)L(Q)$. Then we can compute the compatibility condition in several sections for $\\basis$ if $L$ is compatible with all the basis $\\basis_i$. Suppose that $L$ is $(A_i,B_i)$-compatible in $t_i$ sections with $\\basis_i$.\n",
    "\n",
    "Consider the following computable values:\n",
    "* $t \\in \\mathbb{N}$ be the minimal number such that $t_i$ divides $tS_i$ for all $i = 0,\\ldots, F-1$,\n",
    "* $a_i = tS_i/t_i$,\n",
    "* $A = \\text{max}(\\lceil\\frac{A_i}{S_i}\\rceil\\ i = 0,\\ldots, F-1)$,\n",
    "* $b_i = AS_i - A_i$,\n",
    "* $B = \\text{min}(B_i\\ i = 0,\\ldots, F-1)$.\n",
    "\n",
    "We are going to show that $L$ is $(mA, B)$-compatible in $mt$ sections with $\\basis$. Let $n = kmt + r$ where\n",
    "* $r = r_0m+r_1$ and\n",
    "* $S_ir_0 + s_i(r_) = r_{2,i}t_i + r_{3,i}$ for $i = 0,\\ldots, F-1$.\n",
    "\n",
    "Then we have that:\n",
    "$$\\frac{L\\cdot Q_n(x)}{Q_{n-Am}(x)} = \\prod_{i=0}^{F-1}\\frac{L\\cdot P_{e_i(n)}^{(i)}(x)}{P_{e_i(n)-AS_i}^{(i)}(x)} = \n",
    "\\prod_{i=0}^{F-1}\\frac{L \\cdot P_{S_i(kt + r_0) + s_i(r_1)}^{(i)}(x)}{P_{S_i(kt + r_0) + s_i(r_1) - AS_i}^{(i)}(x)} = \n",
    "\\prod_{i=0}^{F-1}\\frac{L \\cdot P_{(a_ik + r_{2,i})t_i + r_{3,i}}^{(i)}(x)}{P_{(a_ik + r_{2,i})t_i + r_{3,i} - A_i - b_i}^{(i)}(x)} = \n",
    "\\prod_{i=0}^{F-1}D_{r_{3,i},A_i+b_i}^{(i)}(a_ik+r_{2,i}),$$\n",
    "where $D_{*,*}(*)$ are the division polynomials defined in Section 3 with the method ``compatible_division``. Hence we can\n",
    "apply now the idea of ``equiv_CtD`` to compute the final coefficients $\\alpha_{i,j}(k)$ for $\\basis$ since we have expressed\n",
    "the quotient $\\frac{L\\cdot Q_n}{Q_{n-Am}}$ for each $n = kmt + r$."
   ]
  },
  {
   "cell_type": "markdown",
   "metadata": {},
   "source": [
    "### Extending the compatibility of derivations\n",
    "\n",
    "Let $L$ be a derivation, i.e., $L(PQ) = L(P)Q + PL(Q)$. Then we can compute the compatibility condition in several sections for $\\basis$ if $L$ is compatible with all the basis $\\basis_i$. Suppose that $L$ is $(A_i,B_i)$-compatible in $t_i$ sections with $\\basis_i$.\n",
    "\n",
    "Consider the following computable values:\n",
    "* $t \\in \\mathbb{N}$ be the minimal number such that $t_i$ divides $tS_i$ for all $i = 0,\\ldots, F-1$,\n",
    "* $a_i = tS_i/t_i$,\n",
    "* $A = \\text{max}(\\lceil\\frac{A_i}{S_i}\\rceil\\ i = 0,\\ldots, F-1)$,\n",
    "* $b_i = AS_i - A_i$,\n",
    "* $B = \\text{min}(B_i\\ i = 0,\\ldots, F-1)$.\n",
    "\n",
    "We are going to show that $L$ is $(mA, B)$-compatible in $mt$ sections with $\\basis$. Let $n = kmt + r$ where\n",
    "* $r = r_0m+r_1$ and\n",
    "* $S_ir_0 + s_i(r_) = r_{2,i}t_i + r_{3,i}$ for $i = 0,\\ldots, F-1$.\n",
    "\n",
    "Then we have that:\n",
    "$$\\begin{array}{rl}\n",
    "\\displaystyle\\frac{L\\cdot Q_n(x)}{Q_{n-Am}(x)} = & \\displaystyle\\sum_{i=0}^{F-1}\\left(\\frac{L\\cdot P_{e_{i}(n)}^{(i)}(x)\\displaystyle\\prod_{j=0,j\\neq i}^{F-1} P_{e_{j}(n)}^{(j)}(x)}{Q_{n-mA}(x)}\\right) \\\\\n",
    "= & \\displaystyle\\sum_{i=0}^{F-1} \\left(\\frac{L\\cdot P_{e_i(n)}^{(i)}(x)}{P_{e_i(n)-AS_i}^{(i)}(x)}\\displaystyle\\prod_{j=0,j\\neq i}^{F-1}\\frac{P_{e_j(n)}^{(j)}(x)}{P_{e_j(n)-AS_j}^{(j)}(x)}\\right)\\\\\n",
    "= & \\displaystyle\\sum_{i=0}^{F-1} \\left(\\frac{L\\cdot P_{(a_ik+r_{2,i})t_i + r_{3,i}}^{(i)}(x)}{P_{(a_ik+r_{2,i})t_i + r_{3,i} - A_i - b_i}^{(i)}(x)}\\displaystyle\\prod_{j=0,j\\neq i}^{F-1}\\frac{P_{(a_jk+r_{2,j})t_j + r_{3,j}}^{(j)}(x)}{P_{(a_jk+r_{2,j})t_j + r_{3,j} - A_j - b_j}^{(j)}(x)}\\right)\\\\\n",
    "= & \\displaystyle\\sum_{i=0}^{F-1} \\left(D_{r_{3,i},A_i+b_i}^{(i)}(a_ik+r_{2,i})\\displaystyle\\prod_{j=0,j\\neq i}^{F-1} I_{(a_jk+r_{2,j})t_j + r_{3,j} - A_j - b_j, A_j+b_j}^{(j)}\\right),\n",
    "\\end{array}$$\n",
    "where $D_{*,*}(*)$ are the division polynomials defined in Section 3 with the method ``compatible_division`` and $I_{*,*}$ are the increasing polynomials defined in Section 3 with the method ``increasing_polynomial``. Hence we can apply now the idea of `equiv_CtD` to compute the final coefficients $\\alpha_{i,j}(k)$ for $\\basis$ since we have expressed the quotient $\\frac{L\\cdot Q_n}{Q_{n-Am}}$ for each $n = kmt + r$."
   ]
  },
  {
   "cell_type": "markdown",
   "metadata": {},
   "source": [
    "###### Example 8\n",
    "\n",
    "In example 8 of Petkovšek's paper, he looked into a basis built as follows:\n",
    "\n",
    "* $P_{3n}(x) = \\binom{x}{n}\\binom{x+n}{2n}$\n",
    "* $P_{3n+1}(x) = \\binom{x}{n}\\binom{x+n}{2n+1}$\n",
    "* $P_{3n+2}(x) = \\binom{x}{n+1}\\binom{x+n}{2n+1}$\n",
    "\n",
    "Let $\\mathcal{A}_2$ be such basis. This is a clear example of a Sieved basis. In particular, if we consider $\\basis$ the binomial basis and $\\basis_2$ the basis we built in Section 7 to represent the second factor, we then have that Petkovšek's basis is exactly the $(1,0,1)$-sieved basis of $(\\basis,\\basis_2)$."
   ]
  },
  {
   "cell_type": "code",
   "execution_count": 42,
   "metadata": {},
   "outputs": [
    {
     "data": {
      "text/html": [
       "<html><script type=\"math/tex; mode=display\">\\newcommand{\\Bold}[1]{\\mathbf{#1}}\\mathrm{True}</script></html>"
      ],
      "text/latex": [
       "\\begin{math}\n",
       "\\newcommand{\\Bold}[1]{\\mathbf{#1}}\\mathrm{True}\n",
       "\\end{math}"
      ],
      "text/plain": [
       "True"
      ]
     },
     "execution_count": 42,
     "metadata": {},
     "output_type": "execute_result"
    }
   ],
   "source": [
    "def example_8_apery2(n):\n",
    "    k = n//3; r = n%3\n",
    "    if(r == 0): return binomial(x,k)*binomial(x+k,2*k)\n",
    "    elif(r == 1): return binomial(x,k)*binomial(x+k,2*k+1)\n",
    "    else: return binomial(x,k+1)*binomial(x+k,2*k+1)\n",
    "A2 = SievedBasis([B,B2], [1,0,1], ends=['E'])\n",
    "all(A2[i] == example_8_apery2(i) for i in range(50))"
   ]
  },
  {
   "cell_type": "markdown",
   "metadata": {},
   "source": [
    "Since both $\\basis$ and $\\basis_2$ had compatibilities with $X$ and $E$, the basis $\\mathcal{A}_2$ has already defined (using an automatic extension) the compatibilities for those two operators:"
   ]
  },
  {
   "cell_type": "code",
   "execution_count": 43,
   "metadata": {},
   "outputs": [
    {
     "data": {
      "text/html": [
       "<html><script type=\"math/tex; mode=display\">\\newcommand{\\Bold}[1]{\\mathbf{#1}}\\left(0, 1, \\left(\\begin{array}{rr}\n",
       "n & 2 n + 1 \\\\\n",
       "n & n + 1 \\\\\n",
       "-n - 1 & 2 n + 2\n",
       "\\end{array}\\right)\\right)</script></html>"
      ],
      "text/latex": [
       "\\begin{math}\n",
       "\\newcommand{\\Bold}[1]{\\mathbf{#1}}\\left(0, 1, \\left(\\begin{array}{rr}\n",
       "n & 2 n + 1 \\\\\n",
       "n & n + 1 \\\\\n",
       "-n - 1 & 2 n + 2\n",
       "\\end{array}\\right)\\right)\n",
       "\\end{math}"
      ],
      "text/plain": [
       "(\n",
       "      [      n 2*n + 1]\n",
       "      [      n   n + 1]\n",
       "0, 1, [ -n - 1 2*n + 2]\n",
       ")"
      ]
     },
     "execution_count": 43,
     "metadata": {},
     "output_type": "execute_result"
    }
   ],
   "source": [
    "A2.compatibility_matrix('x')"
   ]
  },
  {
   "cell_type": "code",
   "execution_count": 44,
   "metadata": {},
   "outputs": [
    {
     "data": {
      "text/html": [
       "<html><script type=\"math/tex; mode=display\">\\newcommand{\\Bold}[1]{\\mathbf{#1}}\\left(3, 0, \\left(\\begin{array}{rrrr}\n",
       "1 & \\frac{4 n - \\frac{3}{2}}{n} & \\frac{3}{2} & 1 \\\\\n",
       "\\frac{n - \\frac{1}{2}}{n + \\frac{1}{2}} & \\frac{\\frac{1}{2} n}{n + \\frac{1}{2}} & \\frac{\\frac{3}{2} n + \\frac{1}{2}}{n + \\frac{1}{2}} & 1 \\\\\n",
       "0 & 1 & \\frac{3 n + 2}{n + 1} & 1\n",
       "\\end{array}\\right)\\right)</script></html>"
      ],
      "text/latex": [
       "\\begin{math}\n",
       "\\newcommand{\\Bold}[1]{\\mathbf{#1}}\\left(3, 0, \\left(\\begin{array}{rrrr}\n",
       "1 & \\frac{4 n - \\frac{3}{2}}{n} & \\frac{3}{2} & 1 \\\\\n",
       "\\frac{n - \\frac{1}{2}}{n + \\frac{1}{2}} & \\frac{\\frac{1}{2} n}{n + \\frac{1}{2}} & \\frac{\\frac{3}{2} n + \\frac{1}{2}}{n + \\frac{1}{2}} & 1 \\\\\n",
       "0 & 1 & \\frac{3 n + 2}{n + 1} & 1\n",
       "\\end{array}\\right)\\right)\n",
       "\\end{math}"
      ],
      "text/plain": [
       "(\n",
       "      [                      1           (4*n - 3/2)/n                     3/2                       1]\n",
       "      [    (n - 1/2)/(n + 1/2)         1/2*n/(n + 1/2) (3/2*n + 1/2)/(n + 1/2)                       1]\n",
       "3, 0, [                      0                       1       (3*n + 2)/(n + 1)                       1]\n",
       ")"
      ]
     },
     "execution_count": 44,
     "metadata": {},
     "output_type": "execute_result"
    }
   ],
   "source": [
    "A2.compatibility_matrix('E')"
   ]
  },
  {
   "cell_type": "markdown",
   "metadata": {},
   "source": [
    "And now we can go to the linear difference operator from Example 8:\n",
    "$$L = (x+2)^2E^2 - (11x^2 + 3x + 25)E - (x+1)^2,$$\n",
    "and use a similar approach as in the method `DefiniteSumSolutions` to get a recurrence that the sequence $(c_n)_n$ has to satisfy if we assume that $L\\cdot \\left(\\sum_{n\\geq 0}c_n \\binom{x}{n}\\binom{x+n}{2n}\\right) = 0$:"
   ]
  },
  {
   "cell_type": "code",
   "execution_count": 45,
   "metadata": {},
   "outputs": [
    {
     "data": {
      "text/html": [
       "<html><script type=\"math/tex; mode=display\">\\newcommand{\\Bold}[1]{\\mathbf{#1}}\\left(n + 1\\right) \\mathit{Sn} - 4 n - 2</script></html>"
      ],
      "text/latex": [
       "\\begin{math}\n",
       "\\newcommand{\\Bold}[1]{\\mathbf{#1}}\\left(n + 1\\right) \\mathit{Sn} - 4 n - 2\n",
       "\\end{math}"
      ],
      "text/plain": [
       "(n + 1)*Sn - 4*n - 2"
      ]
     },
     "execution_count": 45,
     "metadata": {},
     "output_type": "execute_result"
    }
   ],
   "source": [
    "L = (x+2)^2*E^2 - (11*x^2 + 33*x + 25)*E - (x+1)^2\n",
    "recurrence_matrix = A2.recurrence(L)\n",
    "first_column = [A2.remove_Sni(recurrence_matrix.coefficient((j,0))) for j in range(recurrence_matrix.nrows())]\n",
    "gcrd = first_column[0].gcrd(*first_column[1:])\n",
    "gcrd"
   ]
  },
  {
   "cell_type": "markdown",
   "metadata": {},
   "source": [
    "Here, the sequence $c_n = \\binom{2n}{n}$ is a solution to that recurrence equation. Using the equality\n",
    "$$\\binom{2n}{n}\\binom{x}{n}\\binom{x+n}{2n} = \\binom{x}{n}^2\\binom{x+n}{n},$$\n",
    "we can conclude that the fucntion\n",
    "$$y(x) = \\sum_{n \\geq 0} c_n \\binom{x}{n}\\binom{x+n}{2n} = \\sum_{n\\geq 0} \\binom{x}{n}^2\\binom{x+n}{n},$$\n",
    "is a solution to $L\\cdot y = 0$ and, in particular, the sequence $y_k = y(k)$ (which is the Apéry's $\\zeta(2)$-sequence) satisfies the recurrence:\n",
    "$$(k+2)^2 y_{k+2} - (11k^2 + 33^k+25)y_{k+1} - (k+1)^2y_k = 0.$$"
   ]
  },
  {
   "cell_type": "markdown",
   "metadata": {},
   "source": [
    "###### Example 9\n",
    "\n",
    "Finally in example 9 of Petkovšek's paper, we consider a new basis with the following format:\n",
    "\n",
    "* $P_{4n}(x) = \\binom{x+n}{2n}^2$\n",
    "* $P_{4n+1}(x) = \\binom{x+n}{2n}\\binom{x+n}{2n+1}$\n",
    "* $P_{4n+2}(x) = \\binom{x+n}{2n+1}^2$\n",
    "* $P_{4n+3}(x) = \\binom{x+n}{2n+1}\\binom{x+n+1}{2n+2}$\n",
    "\n",
    "Let $\\mathcal{A}_3$ be this basis. In this case, we have a Product basis of the basis $\\basis_2$ (`B2`in the code) with itself"
   ]
  },
  {
   "cell_type": "code",
   "execution_count": 46,
   "metadata": {},
   "outputs": [
    {
     "data": {
      "text/html": [
       "<html><script type=\"math/tex; mode=display\">\\newcommand{\\Bold}[1]{\\mathbf{#1}}\\mathrm{True}</script></html>"
      ],
      "text/latex": [
       "\\begin{math}\n",
       "\\newcommand{\\Bold}[1]{\\mathbf{#1}}\\mathrm{True}\n",
       "\\end{math}"
      ],
      "text/plain": [
       "True"
      ]
     },
     "execution_count": 46,
     "metadata": {},
     "output_type": "execute_result"
    }
   ],
   "source": [
    "def example_9_apery3(n):\n",
    "    k = n//4; r = n%4\n",
    "    if(r == 0): return binomial(x+k,2*k)^2\n",
    "    elif(r == 1): return binomial(x+k,2*k)*binomial(x+k,2*k+1)\n",
    "    elif(r == 2): return binomial(x+k,2*k+1)^2\n",
    "    else: return binomial(x+k,2*k+1)*binomial(x+k+1,2*k+2)\n",
    "A3 = ProductBasis([B2,B2], ends=['E'])\n",
    "all(A3[i] == example_9_apery3(i) for i in range(50))"
   ]
  },
  {
   "cell_type": "markdown",
   "metadata": {},
   "source": [
    "Since $\\basis_2$ had compatibilities with $X$ and $E$, the basis $\\mathcal{A}_3$ has already defined (using an automatic extension) the compatibilities for those two operators:"
   ]
  },
  {
   "cell_type": "code",
   "execution_count": 47,
   "metadata": {},
   "outputs": [
    {
     "data": {
      "text/html": [
       "<html><script type=\"math/tex; mode=display\">\\newcommand{\\Bold}[1]{\\mathbf{#1}}\\left(0, 1, \\left(\\begin{array}{rr}\n",
       "n & 2 n + 1 \\\\\n",
       "n & 2 n + 1 \\\\\n",
       "-n - 1 & 2 n + 2 \\\\\n",
       "-n - 1 & 2 n + 2\n",
       "\\end{array}\\right)\\right)</script></html>"
      ],
      "text/latex": [
       "\\begin{math}\n",
       "\\newcommand{\\Bold}[1]{\\mathbf{#1}}\\left(0, 1, \\left(\\begin{array}{rr}\n",
       "n & 2 n + 1 \\\\\n",
       "n & 2 n + 1 \\\\\n",
       "-n - 1 & 2 n + 2 \\\\\n",
       "-n - 1 & 2 n + 2\n",
       "\\end{array}\\right)\\right)\n",
       "\\end{math}"
      ],
      "text/plain": [
       "(\n",
       "      [      n 2*n + 1]\n",
       "      [      n 2*n + 1]\n",
       "      [ -n - 1 2*n + 2]\n",
       "0, 1, [ -n - 1 2*n + 2]\n",
       ")"
      ]
     },
     "execution_count": 47,
     "metadata": {},
     "output_type": "execute_result"
    }
   ],
   "source": [
    "A3.compatibility_matrix('x')"
   ]
  },
  {
   "cell_type": "code",
   "execution_count": 48,
   "metadata": {},
   "outputs": [
    {
     "data": {
      "text/html": [
       "<html><script type=\"math/tex; mode=display\">\\newcommand{\\Bold}[1]{\\mathbf{#1}}\\left(4, 0, \\left(\\begin{array}{rrrrr}\n",
       "1 & \\frac{4 n - 1}{n} & \\frac{3 n - 1}{n} & 2 & 1 \\\\\n",
       "\\frac{n - \\frac{1}{2}}{n + \\frac{1}{2}} & \\frac{n - \\frac{1}{2}}{n + \\frac{1}{2}} & \\frac{n}{n + \\frac{1}{2}} & \\frac{2 n + \\frac{1}{2}}{n + \\frac{1}{2}} & 1 \\\\\n",
       "0 & 0 & 1 & 2 & 1 \\\\\n",
       "0 & 1 & \\frac{3 n + \\frac{5}{2}}{n + 1} & \\frac{2 n + \\frac{3}{2}}{n + 1} & 1\n",
       "\\end{array}\\right)\\right)</script></html>"
      ],
      "text/latex": [
       "\\begin{math}\n",
       "\\newcommand{\\Bold}[1]{\\mathbf{#1}}\\left(4, 0, \\left(\\begin{array}{rrrrr}\n",
       "1 & \\frac{4 n - 1}{n} & \\frac{3 n - 1}{n} & 2 & 1 \\\\\n",
       "\\frac{n - \\frac{1}{2}}{n + \\frac{1}{2}} & \\frac{n - \\frac{1}{2}}{n + \\frac{1}{2}} & \\frac{n}{n + \\frac{1}{2}} & \\frac{2 n + \\frac{1}{2}}{n + \\frac{1}{2}} & 1 \\\\\n",
       "0 & 0 & 1 & 2 & 1 \\\\\n",
       "0 & 1 & \\frac{3 n + \\frac{5}{2}}{n + 1} & \\frac{2 n + \\frac{3}{2}}{n + 1} & 1\n",
       "\\end{array}\\right)\\right)\n",
       "\\end{math}"
      ],
      "text/plain": [
       "(\n",
       "      [                    1           (4*n - 1)/n           (3*n - 1)/n                     2                     1]\n",
       "      [  (n - 1/2)/(n + 1/2)   (n - 1/2)/(n + 1/2)           n/(n + 1/2) (2*n + 1/2)/(n + 1/2)                     1]\n",
       "      [                    0                     0                     1                     2                     1]\n",
       "4, 0, [                    0                     1   (3*n + 5/2)/(n + 1)   (2*n + 3/2)/(n + 1)                     1]\n",
       ")"
      ]
     },
     "execution_count": 48,
     "metadata": {},
     "output_type": "execute_result"
    }
   ],
   "source": [
    "A3.compatibility_matrix('E')"
   ]
  },
  {
   "cell_type": "markdown",
   "metadata": {},
   "source": [
    "And now we can go to the linear difference operator from Example 8:\n",
    "$$L = (x+2)^3E^2 - (2x+3)(17x^2+51x+39)E + (x+1)^3,$$\n",
    "and use a similar approach as in the method `DefiniteSumSolutions` to get a recurrence that the sequence $(c_n)_n$ has to satisfy if we assume that $L\\cdot \\left(\\sum_{n\\geq 0}c_n \\binom{x+n}{2n}^2\\right) = 0$:"
   ]
  },
  {
   "cell_type": "code",
   "execution_count": 49,
   "metadata": {},
   "outputs": [
    {
     "data": {
      "text/html": [
       "<html><script type=\"math/tex; mode=display\">\\newcommand{\\Bold}[1]{\\mathbf{#1}}\\left(n^{2} + 2 n + 1\\right) \\mathit{Sn} - 16 n^{2} - 16 n - 4</script></html>"
      ],
      "text/latex": [
       "\\begin{math}\n",
       "\\newcommand{\\Bold}[1]{\\mathbf{#1}}\\left(n^{2} + 2 n + 1\\right) \\mathit{Sn} - 16 n^{2} - 16 n - 4\n",
       "\\end{math}"
      ],
      "text/plain": [
       "(n^2 + 2*n + 1)*Sn - 16*n^2 - 16*n - 4"
      ]
     },
     "execution_count": 49,
     "metadata": {},
     "output_type": "execute_result"
    }
   ],
   "source": [
    "L = (x+2)^3*E^2 - (2*x+3)*(17*x^2+51*x+39)*E + (x+1)^3\n",
    "recurrence_matrix = A3.recurrence(L)\n",
    "first_column = [A3.remove_Sni(recurrence_matrix.coefficient((j,0))) for j in range(recurrence_matrix.nrows())]\n",
    "gcrd = first_column[0].gcrd(*first_column[1:])\n",
    "gcrd"
   ]
  },
  {
   "cell_type": "markdown",
   "metadata": {},
   "source": [
    "In this case the sequence $c_n = \\binom{2n}{n}^2$ satisfies this recurrence equation. Using the same equality as in example 8, we obtain now that :\n",
    "$$y(x) = \\sum_{n\\geq 0} c_n \\binom{x+n}{2n}^2 = \\sum_{n\\geq 0} \\binom{x}{n}^2\\binom{x+n}{n}^2,$$\n",
    "is a solution to $L\\cdot y = 0$ and, in particular, the sequence $y_k = y(k)$ (which is the Apéry's $\\zeta(3)$-sequence) satisfies the recurrence:\n",
    "$$(k+2)^3y_{k+2} - (2k+3)(17k^2+51k+39)y_{k+1} + (k+1)^3y_{k} = 0.$$"
   ]
  },
  {
   "cell_type": "markdown",
   "metadata": {},
   "source": [
    "## 9. Relation with composition (NOT REVIEWED)\n",
    "\n",
    "Let $f(x) \\in K[[x]]$ with $f(0) = 0$ and $f'(0) \\neq 0$. Then it is easy to check that the set $\\{1, f(x), f(x)^2,\\ldots\\}$ is an order basis of $K[[x]]$. Then for any compatible operator $L$ we can find a holonomic $\\tilde{L}$ recurrence operator such that if $g(x) = \\sum c_n x^n$ and $\\tilde{L} \\cdot (c_n) = 0$, then any solution of $L\\cdot y(x) = 0$ is of the form $y(x) = g(f(x))$.\n",
    "\n",
    "Then the question arises naturally: given $f(x)$ a D-finite function, which operators are compatible with its corresponding basis.\n",
    "\n",
    "#### 9.1. The exponential function\n",
    "\n",
    "Let start with a simple function: the exponential $e^x$. The first thing to look at is that the exponential does not satifies the conditions on initial values to be suitable of forming a basis of $K[[x]]$. That is not a problem: we only consider $f(x) = (e^x -1)$.\n",
    "\n",
    "Let $f_n(x) = (e^x-1)^n$, we have clearly that $\\{ f_n\\ :\\ n \\in \\nn\\}$ is a basis of $K[[x]]$. The compatibilities we may find easily are:\n",
    "* $f_1 f_n = f_{n+1}$.\n",
    "* $e^x f_n = (f_1  + 1)f_n = f_{n+1} + f_n$.\n",
    "* $\\partial f_n = n e^x f_{n-1} = nf_n + n f_{n+1}$.\n",
    "\n",
    "**Proposition:** any linear differential operator generated by $e^x$ and $\\partial$ can be expressed as a composition of a D-finite function and the exponential.\n",
    "\n",
    "###### What is it implemented?\n",
    "\n",
    "In the package ``psbasis`` the user may find a subpackage called ``func_basis`` that contains the code for expressing the compatibilities with the exponential basis.\n",
    "\n",
    "In fact, the object ``ExponentialBasis`` has all the previous information available so we can start experimenting with this basis.\n"
   ]
  },
  {
   "cell_type": "code",
   "execution_count": 23,
   "metadata": {},
   "outputs": [],
   "source": [
    "EB = ExponentialBasis(); \n",
    "oE = EB.recurrence('E'); oD = EB.recurrence('Dx');"
   ]
  },
  {
   "cell_type": "markdown",
   "metadata": {},
   "source": [
    "**Equation $(\\partial - e^x)\\cdot y(x) = 0$.**\n",
    "\n",
    "Assume we know that the initial conditions of $y(x)$ are $1,1,2,5,15$. Since the differential equation only involves $\\partial$ and $e^x$, then $y(x) = g(e^x-1)$. \n",
    "\n",
    "Using the compatibility conditions we conclude that the generating sequence of $g(x)$ satisfies the following recurrence:"
   ]
  },
  {
   "cell_type": "code",
   "execution_count": 24,
   "metadata": {},
   "outputs": [
    {
     "data": {
      "text/html": [
       "<html><script type=\"math/tex; mode=display\">\\newcommand{\\Bold}[1]{\\mathbf{#1}}\\left(n + 1\\right) \\mathit{Sn} - \\mathit{Sni} + n - 1</script></html>"
      ],
      "text/plain": [
       "(n + 1)*Sn - Sni + n - 1"
      ]
     },
     "execution_count": 24,
     "metadata": {},
     "output_type": "execute_result"
    }
   ],
   "source": [
    "rec_g = oD - oE; rec_g"
   ]
  },
  {
   "cell_type": "markdown",
   "metadata": {},
   "source": [
    "Using the initial conditions we have directly that the initial conditions for $g(x)$ are $1,1,1,1,1$, and using the equivalence between holonomic recurrence and holonomic functions, we can compute the D-finite differential equation for $g(x)$:"
   ]
  },
  {
   "cell_type": "code",
   "execution_count": 25,
   "metadata": {},
   "outputs": [],
   "source": [
    "def SnSni_toDx(psbasis, operator, toDx):\n",
    "    R = operator.parent(); Sn = R('Sn'); Sni = R('Sni'); n = R.base()('n');\n",
    "    S = OreAlgebra(R.base(), ('Sn', lambda p : p(n=n+1), lambda p : 0));\n",
    "    return S(str(psbasis.reduce_SnSni((Sn**operator.degree(Sni))*operator))).to_D(toDx);\n",
    "\n",
    "def build_DFinite(psbasis, operator, initial):    \n",
    "    RDx = OreAlgebra(PolynomialRing(QQ, 'x'), ('Dx', lambda p : p, lambda p : p.derivative()));\n",
    "    return DFinite.element(SnSni_toDx(psbasis,operator, RDx), initial);"
   ]
  },
  {
   "cell_type": "code",
   "execution_count": 26,
   "metadata": {},
   "outputs": [
    {
     "data": {
      "text/html": [
       "<html><script type=\"math/tex; mode=display\">\\newcommand{\\Bold}[1]{\\mathbf{#1}}\\left\\{\\begin{array}{c}\n",
       "\\left( x^{2} + x \\right) f^{(3)}(x) + \\left( -x^{2} + 3 x + 2 \\right) f''(x) + \\left( -4 x \\right) f'(x) - 2 f(x) = 0,\\\\\n",
       "\\hdashline\n",
       "f(0) = 1, f'(0) = 1, f''(0) = 1, f^{(3)}(0) = 1\\end{array}\\right.</script></html>"
      ],
      "text/plain": [
       "(3:3:8)DD-Function in (DD-Ring over (Univariate Polynomial Ring in x over Rational Field))"
      ]
     },
     "execution_count": 26,
     "metadata": {},
     "output_type": "execute_result"
    }
   ],
   "source": [
    "g = build_DFinite(EB, rec_g, [1,1,1,1]); g"
   ]
  },
  {
   "cell_type": "markdown",
   "metadata": {},
   "source": [
    "Then $y(x)$ was DD-finite (we knew from the differential equation) is the composition of two D-finite functions.\n",
    "\n",
    "**Equation $(\\partial^2 - e^x\\partial + e^{2x})\\cdot y(x) = 0$.**\n",
    "\n",
    "For this example we are going to use the ``sequences`` package, developed in parallel to get the initial conditions of $g(x)$ automatically. "
   ]
  },
  {
   "cell_type": "code",
   "execution_count": 29,
   "metadata": {},
   "outputs": [
    {
     "data": {
      "text/html": [
       "<html><script type=\"math/tex; mode=display\">\\newcommand{\\Bold}[1]{\\mathbf{#1}}\\left\\{\\begin{array}{c}\n",
       "\\left( x^{4} + 2 x^{3} + x^{2} \\right) f^{(6)}(x) + \\left( -x^{4} + 15 x^{3} + 24 x^{2} + 8 x \\right) f^{(5)}(x) + \\left( x^{4} - 14 x^{3} + 61 x^{2} + 72 x + 12 \\right) f^{(4)}(x) + \\left( 16 x^{3} - 48 x^{2} + 68 x + 48 \\right) f^{(3)}(x) + \\left( 72 x^{2} - 24 x + 12 \\right) f''(x) + \\left( 96 x + 24 \\right) f'(x) + \\left( 24 \\right) f(x) = 0,\\\\\n",
       "\\hdashline\n",
       "f(0) = 1, f'(0) = 0, f''(0) = -1, f^{(3)}(0) = 0, f^{(4)}(0) = -1, f^{(5)}(0) = 6, f^{(6)}(0) = -27\\end{array}\\right.</script></html>"
      ],
      "text/plain": [
       "(6:6:24)DD-Function in (DD-Ring over (Univariate Polynomial Ring in x over Rational Field))"
      ]
     },
     "execution_count": 29,
     "metadata": {},
     "output_type": "execute_result"
    }
   ],
   "source": [
    "from sequences import *;\n",
    "y = DDFinite.element([Exp(2*x), - Exp(x), 1], [1,0]);\n",
    "rec_g = oD^2 - oE*oD + oE^2;\n",
    "g = build_DFinite(EB, rec_g, []);\n",
    "seq_g = inverse_faa_f(DDSequence(Exp(x)-1, True), DDSequence(y, True));\n",
    "g = g.change_init_values([seq_g[i] for i in range(4)]);\n",
    "g"
   ]
  },
  {
   "cell_type": "code",
   "execution_count": 30,
   "metadata": {},
   "outputs": [
    {
     "data": {
      "text/html": [
       "<html><script type=\"math/tex; mode=display\">\\newcommand{\\Bold}[1]{\\mathbf{#1}}\\mathrm{True}</script></html>"
      ],
      "text/plain": [
       "True"
      ]
     },
     "execution_count": 30,
     "metadata": {},
     "output_type": "execute_result"
    }
   ],
   "source": [
    "g(Exp(x)-1) == y"
   ]
  }
 ],
 "metadata": {
  "kernelspec": {
   "display_name": "SageMath 9.2",
   "language": "sage",
   "name": "sagemath"
  },
  "language_info": {
   "codemirror_mode": {
    "name": "ipython",
    "version": 3
   },
   "file_extension": ".py",
   "mimetype": "text/x-python",
   "name": "python",
   "nbconvert_exporter": "python",
   "pygments_lexer": "ipython3",
   "version": "3.8.5"
  }
 },
 "nbformat": 4,
 "nbformat_minor": 2
}
