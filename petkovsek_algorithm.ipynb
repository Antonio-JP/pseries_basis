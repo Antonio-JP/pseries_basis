{
 "cells": [
  {
   "cell_type": "code",
   "execution_count": 1,
   "metadata": {},
   "outputs": [],
   "source": [
    "from ajpastor.dd_functions import *\n",
    "from psbasis import * # Loading our package\n",
    "\n",
    "%display latex"
   ]
  },
  {
   "cell_type": "markdown",
   "metadata": {},
   "source": [
    "$\\def\\cc{\\mathbb{C}}\\def\\nn{\\mathbb{N}}\\def\\kk{\\mathbb{K}}\\def\\qq{\\mathbb{Q}}\\def\\zz{\\mathbb{Z}}$\n",
    "$\\def\\basis{\\mathfrak{B}}\\def\\ibasis{\\mathfrak{I}}\\def\\pbasis{\\mathfrak{P}}\\def\\bbasis{\\mathfrak{C}}\\def\\hbasis{\\mathfrak{H}}$\n",
    "# Inverse Zeibelger Problem\n",
    "\n",
    "In this notebook we implement Petkovsek's algorithm DefiniteSumsSolutions in Sage using the basis ''ore_algebra'' package by M. Kauers and M. Mezzaroba.\n",
    "\n",
    "The main idea of this algorithm is translating recurrence equations that has no simple solution to a new difference equation which we may can compute a solution after assuming some hypergeometric terms in the original solution.\n",
    "\n",
    "### Input and output\n",
    "\n",
    "The algorithm receives a P-finite equation $L$ and some numbers $a_1,...,a_m \\in \\nn$ and some elements $b_1,...,b_m \\in \\kk$.\n",
    "\n",
    "The algorithm returns another P-finite equation $L'$, such that $(h_n)_{n\\geq 0}$ is a solution of $L'\\cdot h = 0$ if and only if\n",
    "$$L\\cdot\\left(\\sum_{k\\geq0}\\prod_{i=1}^m\\binom{a_in+b_i}{k}h_k\\right) = 0$$\n",
    "\n",
    "## 1. Compatible basis\n",
    "\n",
    "The idea of this algorithm is to change the usual representation of a sequence stablishing a different basis. Usually, for power series $\\kk[[x]]$, we use the _power basis_ $x^n$. However, there are other basis for the power series that, sometimes, help to write and solve a prolem from a new angle.\n",
    "\n",
    "Let $\\basis = \\{P_n\\ :\\ n\\in\\nn\\}$ be a basis over $\\kk$ of the ring of formal power series $\\kk[[x]]$. Although Petkovsek is mainly interested in basis formed by polynomials, we are going to include here also other type of power series basis.\n",
    "\n",
    "* $\\basis$ is said to be a **polynomial basis** if $\\deg(P_n) = n$.\n",
    "* $\\basis$ is said to be an **order basis** if $ord_x(P_n) = x$.\n",
    "* $\\basis$ is **$(A,B)$-compatible** for a linear operator $L$ if for any $n \\in \\nn$\n",
    "  $$L\\cdot P_n = \\sum_{k = -A}^{B} \\alpha_{n,k}P_{n+k},$$\n",
    "  i.e., applying the linear operator $L$ to $P_n$ expands the basis with a finite bound around $P_n$.\n",
    "  \n",
    "Petkovsek is also interested in a particular type of polynomial basis that will prove to be useful for the following results. Here we take the chance to add the definition for orthogonal polynomials.\n",
    "\n",
    "* $\\basis$ is a **factorial basis** if for all $n \\in \\nn$, $P_n | P_{n+1}$. This means, there is $p_n(x) \\in \\kk[x]$ such that $P_{n+1}(x) = P_n(x)p_n(x)$.\n",
    "  - *Remark*: in the particular case of polynomial basis, $p_n(x) = a_nx + b_n$ for some sequences $(a_n)$ and $(b_n)$.\n",
    "* $\\basis$ is a **orthogonal basis** if it is a *polynomial basis* such that for all $n \\in \\nn$ there are $a_n$, $b_n$ and $c_n$ in $\\kk$ such that\n",
    "  $$P_{n+1} = (a_nx + b_n)P_n - c_nP_{n-1}.$$\n",
    "\n",
    "\n",
    "### Example of compatible basis\n",
    "\n",
    "In this section we will see how the usual polynomial basis are compatible with some basic linear operators. We will follow the notation:\n",
    "\n",
    "* $\\pbasis$ will denote the _power basis_ where $P_n = x^n$.\n",
    "* $\\pbasis_{a,b}$ will denote the _general power basis_ where $P_n = (ax + b)^n$.\n",
    "* $\\bbasis$ will denote the _binomial basis_ where $P_n = \\binom{x}{n}$.\n",
    "* $\\bbasis_{a,b}$ will denote the _general binomial basis_ where $P_n = \\binom{ax+b}{n}$.\n",
    "* $\\hbasis$ will denote the basis of orthogonal _Hermite polynomial_ $P_n = H_n$\n",
    "\n",
    "And for the operators we will use:\n",
    "\n",
    "1. $D$ for standard derivation in $\\kk[[x]]$.\n",
    "2. $E$ for the _shift_ operator $x \\rightarrow (x+1)$.\n",
    "3. $Q$ for the _q-shift_ operator $x \\rightarrow (qx)$.\n",
    "4. $X$ for the _multiplication by $x$_ operator.\n",
    "\n",
    "Then it is clear by definition that:\n",
    "* Every polynomial factorial basis is $(0,1)$-compatible with $X$, since $P_n(a_nx + b_n) = P_{n+1}$, so:\n",
    "  $$xP_n = \\frac{1}{a_n}\\left(P_{n+1} - b_nP_n\\right).$$\n",
    "* Every orthogonal basis is $(-1,1)$-compatible with $X$ using the three terms recurrence:\n",
    "  $$xP_n = \\frac{1}{a_n}\\left(c_nP_{n-1} - b_nP_n + P_{n+1}\\right)$$\n",
    "* $\\pbasis_{a,b}$ is $(1,0)$-compatible with $D$:\n",
    "  $$((ax+b)^n)' = an(ax+b)^{n-1}.$$\n",
    "* $\\pbasis$ is $(0,0)$-compatible with $Q$:\n",
    "  $$Q(x^n) = q^n(x^n).$$\n",
    "* $\\pbasis$ is not compatible with $E$: since $(x+1)^n = \\sum_{k=0}^n\\binom{n}{k}x^k$.\n",
    "* $\\bbasis$ is $(1,0)$-compatible with $E$:\n",
    "  $$\\binom{x+1}{n} = \\binom{x}{n} + \\binom{x}{n-1}.$$\n",
    "* $\\bbasis_{a,b}$ is $(a,0)$-compatible with $E$ (as it is shown in Proposition 6 of Petkovsek's paper):\n",
    "  $$\\binom{a(x+1)+b}{n} = \\sum_{i=-a}^0\\binom{a}{-i} \\binom{ax+b}{n+i}.$$\n",
    "* $\\hbasis$ is $(1,0)$-compatible with $D$ since:\n",
    "  $$H_n'(x) = 2nH_{n-1}(x).$$\n",
    "  \n",
    "##### What is it implemented?\n",
    "\n",
    "In the package `psbasis`, we have implemented this system of basis and compatibility. The following classes are available:\n",
    "* `PSBasis`: represents any _power series basis_. This class is abstract.\n",
    "* `PolyBasis`: represents any _polynomial series basis_. This class is abstract.\n",
    "* `FactorialBasis`: represents any _factorial basis_. This class is abstract.\n",
    "* `SFactorialBasis`: a simple implementation of `FactorialBasis`. It is created specifying the sequences $a_n$ and $b_n$ such that $P_{n} = (a_nx + b_n)P_{n+1}$. Using these sequence the compatibility with $X$ is automatically computed.\n",
    "* `OrthogonalBasis`: represents any _orthogonal basis_. It is created specifying the sequences $a_n$, $b_n$ and $c_n$ of the three term recurrence. Using these sequence the compatibility with $X$ is automatically computed.\n",
    "\n",
    "Moreover, several of the examples are implemented in different classes to simplify the input:\n",
    "* `PowerBasis`: represents $\\pbasis_{a,b}$. These constants can be specified when creating the object or the the usual $\\bbasis$ with $a=1$ and $b=0$ is given. It includes the compatibility with $D$.\n",
    "* `BinomialBasis`: represents $\\bbasis_{a,b}$. These constants can be specified when creating the object or the the usual $\\bbasis$ with $a=1$ and $b=0$ is given. It includes automatically the compatibility with $E$.\n",
    "* `HermiteBasis`: represents $\\hbasis$. It includes the compatibility with $D$.\n",
    " "
   ]
  },
  {
   "cell_type": "code",
   "execution_count": 2,
   "metadata": {},
   "outputs": [
    {
     "name": "stdout",
     "output_type": "stream",
     "text": [
      "True\n"
     ]
    },
    {
     "data": {
      "text/html": [
       "<html><script type=\"math/tex; mode=display\">\\newcommand{\\Bold}[1]{\\mathbf{#1}}\\left\\{\\verb|x| : \\left(0, 1, 1, \\verb|<function|\\phantom{\\verb!x!}\\verb|PSBasis.set_compatibility.<locals>.<lambda>|\\phantom{\\verb!x!}\\verb|at|\\phantom{\\verb!x!}\\verb|0x7f865b293700>|\\right), \\verb|Id| : \\left(0, 0, 1, \\verb|<function|\\phantom{\\verb!x!}\\verb|PSBasis.set_compatibility.<locals>.<lambda>|\\phantom{\\verb!x!}\\verb|at|\\phantom{\\verb!x!}\\verb|0x7f865b3768b0>|\\right), \\verb|Dx| : \\left(1, 0, 1, \\verb|<function|\\phantom{\\verb!x!}\\verb|PSBasis.set_compatibility.<locals>.<lambda>|\\phantom{\\verb!x!}\\verb|at|\\phantom{\\verb!x!}\\verb|0x7f865b376a60>|\\right)\\right\\}</script></html>"
      ],
      "text/latex": [
       "\\begin{math}\n",
       "\\newcommand{\\Bold}[1]{\\mathbf{#1}}\\left\\{\\verb|x| : \\left(0, 1, 1, \\verb|<function|\\phantom{\\verb!x!}\\verb|PSBasis.set_compatibility.<locals>.<lambda>|\\phantom{\\verb!x!}\\verb|at|\\phantom{\\verb!x!}\\verb|0x7f865b293700>|\\right), \\verb|Id| : \\left(0, 0, 1, \\verb|<function|\\phantom{\\verb!x!}\\verb|PSBasis.set_compatibility.<locals>.<lambda>|\\phantom{\\verb!x!}\\verb|at|\\phantom{\\verb!x!}\\verb|0x7f865b3768b0>|\\right), \\verb|Dx| : \\left(1, 0, 1, \\verb|<function|\\phantom{\\verb!x!}\\verb|PSBasis.set_compatibility.<locals>.<lambda>|\\phantom{\\verb!x!}\\verb|at|\\phantom{\\verb!x!}\\verb|0x7f865b376a60>|\\right)\\right\\}\n",
       "\\end{math}"
      ],
      "text/plain": [
       "{'x': (0,\n",
       "  1,\n",
       "  1,\n",
       "  <function PSBasis.set_compatibility.<locals>.<lambda> at 0x7f865b293700>),\n",
       " 'Id': (0,\n",
       "  0,\n",
       "  1,\n",
       "  <function PSBasis.set_compatibility.<locals>.<lambda> at 0x7f865b3768b0>),\n",
       " 'Dx': (1,\n",
       "  0,\n",
       "  1,\n",
       "  <function PSBasis.set_compatibility.<locals>.<lambda> at 0x7f865b376a60>)}"
      ]
     },
     "execution_count": 2,
     "metadata": {},
     "output_type": "execute_result"
    }
   ],
   "source": [
    "P = PowerBasis(); x = P.polynomial_ring().gens()[0]\n",
    "print(all(P.element(i) == x^i for i in range(20)))\n",
    "P._PSBasis__compatibility"
   ]
  },
  {
   "cell_type": "code",
   "execution_count": 3,
   "metadata": {},
   "outputs": [
    {
     "name": "stdout",
     "output_type": "stream",
     "text": [
      "[1, x + 1, (x + 1)^2, (x + 1)^3, (x + 1)^4]\n"
     ]
    },
    {
     "data": {
      "text/html": [
       "<html><script type=\"math/tex; mode=display\">\\newcommand{\\Bold}[1]{\\mathbf{#1}}\\left\\{\\verb|x| : \\left(0, 1, 1, \\verb|<function|\\phantom{\\verb!x!}\\verb|PSBasis.set_compatibility.<locals>.<lambda>|\\phantom{\\verb!x!}\\verb|at|\\phantom{\\verb!x!}\\verb|0x7f865b376550>|\\right), \\verb|Id| : \\left(0, 0, 1, \\verb|<function|\\phantom{\\verb!x!}\\verb|PSBasis.set_compatibility.<locals>.<lambda>|\\phantom{\\verb!x!}\\verb|at|\\phantom{\\verb!x!}\\verb|0x7f865b376700>|\\right), \\verb|Dx| : \\left(1, 0, 1, \\verb|<function|\\phantom{\\verb!x!}\\verb|PSBasis.set_compatibility.<locals>.<lambda>|\\phantom{\\verb!x!}\\verb|at|\\phantom{\\verb!x!}\\verb|0x7f865b3991f0>|\\right)\\right\\}</script></html>"
      ],
      "text/latex": [
       "\\begin{math}\n",
       "\\newcommand{\\Bold}[1]{\\mathbf{#1}}\\left\\{\\verb|x| : \\left(0, 1, 1, \\verb|<function|\\phantom{\\verb!x!}\\verb|PSBasis.set_compatibility.<locals>.<lambda>|\\phantom{\\verb!x!}\\verb|at|\\phantom{\\verb!x!}\\verb|0x7f865b376550>|\\right), \\verb|Id| : \\left(0, 0, 1, \\verb|<function|\\phantom{\\verb!x!}\\verb|PSBasis.set_compatibility.<locals>.<lambda>|\\phantom{\\verb!x!}\\verb|at|\\phantom{\\verb!x!}\\verb|0x7f865b376700>|\\right), \\verb|Dx| : \\left(1, 0, 1, \\verb|<function|\\phantom{\\verb!x!}\\verb|PSBasis.set_compatibility.<locals>.<lambda>|\\phantom{\\verb!x!}\\verb|at|\\phantom{\\verb!x!}\\verb|0x7f865b3991f0>|\\right)\\right\\}\n",
       "\\end{math}"
      ],
      "text/plain": [
       "{'x': (0,\n",
       "  1,\n",
       "  1,\n",
       "  <function PSBasis.set_compatibility.<locals>.<lambda> at 0x7f865b376550>),\n",
       " 'Id': (0,\n",
       "  0,\n",
       "  1,\n",
       "  <function PSBasis.set_compatibility.<locals>.<lambda> at 0x7f865b376700>),\n",
       " 'Dx': (1,\n",
       "  0,\n",
       "  1,\n",
       "  <function PSBasis.set_compatibility.<locals>.<lambda> at 0x7f865b3991f0>)}"
      ]
     },
     "execution_count": 3,
     "metadata": {},
     "output_type": "execute_result"
    }
   ],
   "source": [
    "P11 = PowerBasis(1,1)\n",
    "print([P11.element(i).factor() for i in range(5)])\n",
    "P11._PSBasis__compatibility"
   ]
  },
  {
   "cell_type": "code",
   "execution_count": 4,
   "metadata": {},
   "outputs": [
    {
     "name": "stdout",
     "output_type": "stream",
     "text": [
      "True\n"
     ]
    },
    {
     "data": {
      "text/html": [
       "<html><script type=\"math/tex; mode=display\">\\newcommand{\\Bold}[1]{\\mathbf{#1}}\\left\\{\\verb|x| : \\left(0, 1, 1, \\verb|<function|\\phantom{\\verb!x!}\\verb|PSBasis.set_compatibility.<locals>.<lambda>|\\phantom{\\verb!x!}\\verb|at|\\phantom{\\verb!x!}\\verb|0x7f865b3765e0>|\\right), \\verb|E| : \\left(1, 0, 1, \\verb|<function|\\phantom{\\verb!x!}\\verb|PSBasis.set_compatibility.<locals>.<lambda>|\\phantom{\\verb!x!}\\verb|at|\\phantom{\\verb!x!}\\verb|0x7f865b399040>|\\right)\\right\\}</script></html>"
      ],
      "text/latex": [
       "\\begin{math}\n",
       "\\newcommand{\\Bold}[1]{\\mathbf{#1}}\\left\\{\\verb|x| : \\left(0, 1, 1, \\verb|<function|\\phantom{\\verb!x!}\\verb|PSBasis.set_compatibility.<locals>.<lambda>|\\phantom{\\verb!x!}\\verb|at|\\phantom{\\verb!x!}\\verb|0x7f865b3765e0>|\\right), \\verb|E| : \\left(1, 0, 1, \\verb|<function|\\phantom{\\verb!x!}\\verb|PSBasis.set_compatibility.<locals>.<lambda>|\\phantom{\\verb!x!}\\verb|at|\\phantom{\\verb!x!}\\verb|0x7f865b399040>|\\right)\\right\\}\n",
       "\\end{math}"
      ],
      "text/plain": [
       "{'x': (0,\n",
       "  1,\n",
       "  1,\n",
       "  <function PSBasis.set_compatibility.<locals>.<lambda> at 0x7f865b3765e0>),\n",
       " 'E': (1,\n",
       "  0,\n",
       "  1,\n",
       "  <function PSBasis.set_compatibility.<locals>.<lambda> at 0x7f865b399040>)}"
      ]
     },
     "execution_count": 4,
     "metadata": {},
     "output_type": "execute_result"
    }
   ],
   "source": [
    "B = BinomialBasis()\n",
    "print(all(B.element(i) == binomial(x,i) for i in range(20)))\n",
    "B._PSBasis__compatibility"
   ]
  },
  {
   "cell_type": "code",
   "execution_count": 5,
   "metadata": {},
   "outputs": [
    {
     "name": "stdout",
     "output_type": "stream",
     "text": [
      "True\n"
     ]
    },
    {
     "data": {
      "text/html": [
       "<html><script type=\"math/tex; mode=display\">\\newcommand{\\Bold}[1]{\\mathbf{#1}}\\left\\{\\verb|x| : \\left(1, 1, 1, \\verb|<function|\\phantom{\\verb!x!}\\verb|PSBasis.set_compatibility.<locals>.<lambda>|\\phantom{\\verb!x!}\\verb|at|\\phantom{\\verb!x!}\\verb|0x7f865b399550>|\\right), \\verb|Dx| : \\left(1, 0, 1, \\verb|<function|\\phantom{\\verb!x!}\\verb|PSBasis.set_compatibility.<locals>.<lambda>|\\phantom{\\verb!x!}\\verb|at|\\phantom{\\verb!x!}\\verb|0x7f865b399700>|\\right)\\right\\}</script></html>"
      ],
      "text/latex": [
       "\\begin{math}\n",
       "\\newcommand{\\Bold}[1]{\\mathbf{#1}}\\left\\{\\verb|x| : \\left(1, 1, 1, \\verb|<function|\\phantom{\\verb!x!}\\verb|PSBasis.set_compatibility.<locals>.<lambda>|\\phantom{\\verb!x!}\\verb|at|\\phantom{\\verb!x!}\\verb|0x7f865b399550>|\\right), \\verb|Dx| : \\left(1, 0, 1, \\verb|<function|\\phantom{\\verb!x!}\\verb|PSBasis.set_compatibility.<locals>.<lambda>|\\phantom{\\verb!x!}\\verb|at|\\phantom{\\verb!x!}\\verb|0x7f865b399700>|\\right)\\right\\}\n",
       "\\end{math}"
      ],
      "text/plain": [
       "{'x': (1,\n",
       "  1,\n",
       "  1,\n",
       "  <function PSBasis.set_compatibility.<locals>.<lambda> at 0x7f865b399550>),\n",
       " 'Dx': (1,\n",
       "  0,\n",
       "  1,\n",
       "  <function PSBasis.set_compatibility.<locals>.<lambda> at 0x7f865b399700>)}"
      ]
     },
     "execution_count": 5,
     "metadata": {},
     "output_type": "execute_result"
    }
   ],
   "source": [
    "H = HermiteBasis();\n",
    "print(all(H.element(i) == hermite(i,x) for i in range(20)))\n",
    "H._PSBasis__compatibility"
   ]
  },
  {
   "cell_type": "markdown",
   "metadata": {},
   "source": [
    "### Scalar equivalence\n",
    "\n",
    "One basic operation for series of the power series is the scalar multiplication. Let $\\basis$ be a basis of $\\kk[[x]]$ with general term $P_n(x)$ and $(c_n)_{n\\in \\kk}$ be a sequence of constants such that $c_n \\neq 0$. Then the sequence $(c_nP_n(x))_{n\\in \\kk}$ is also a basis of $\\kk[[x]]$. Moreover:\n",
    "\n",
    "**Lemma:** let $\\basis = (P_n(x))_n$ be a basis of $\\kk[[x]]$, $(c_n)_n \\in \\kk^\\nn$ and $L$ a $(A,B)$-compabitle operator with $\\basis$. Let $Q_n(x) = c_nP_n(x)$ and $\\basis' = (Q_n(x))_n$. Then:\n",
    "* If $\\basis$ is factorial, then $\\basis'$ is factorial.\n",
    "* If $\\basis$ is an order basis, then $\\basis'$ is an order basis.\n",
    "* $L$ is $(A,B)$-compatible with $\\basis'$.\n",
    "\n",
    "The first two points need no proof, since $c_n \\in \\kk \\setminus \\{0\\}$, the order and degree are preserved. Moreover, if $P_n(x)$ are polynomials, multiplying by $c_n$ does not change the roots, hence if $\\basis$ is factorial, so is $\\basis'$.\n",
    "\n",
    "Now, assume that the compatibility condition of $L$ with $\\basis$ can be written as:\n",
    "$$L(P_n(x)) = \\sum_{i=-A}^B \\alpha_{n,i}P_{n+i}(x),$$\n",
    "then, using the fact that $L$ is $\\kk$-linear:\n",
    "$$L(c_nP_n(x)) = \\sum_{i=-A}^B (\\alpha_{n,i}\\frac{c_n}{c_{n+i}} (c_{n+i}P_{n+i}(x)).$$\n",
    "\n",
    "##### How is it implemented?\n",
    "\n",
    "The class ``PSBasis`` provides a method ``scalar`` that receives as input a rational expression in $n$ as the value of $c_n$ and uses it to create a new basis. Specific implementations for ``FactorialBassis``, ``PowerBasis`` and ``OrthoBasis`` are provided since the use of the information changes depending on the type of basis. \n",
    "\n",
    "We also allow the use of magic python syntax ``*`` with elements that can be casted into rational functions in $n$."
   ]
  },
  {
   "cell_type": "code",
   "execution_count": null,
   "metadata": {},
   "outputs": [],
   "source": []
  },
  {
   "cell_type": "markdown",
   "metadata": {},
   "source": [
    "## 2. From compatible operators to recurrence equations\n",
    "\n",
    "In Proposition 4, Petkovsek proved that, givel a basis $\\basis = \\{P_n\\ :\\ n \\in \\nn\\}$ and a linear operator $L$ which is $(A,B)$-compatible, then it is equivalent, for $y(x) = \\sum_{n\\geq0}c_nP_n$:\n",
    "* $L\\cdot y = 0$.\n",
    "* For all $n \\geq 0$:\n",
    "  $$\\sum_{i=-B}^A \\alpha_{n+i,-i}c_{n+i} = 0,$$\n",
    "  where $c_k = 0$ whenever $k < 0$.\n",
    "  \n",
    "This leads to a recurrence equation for the $c_n$:\n",
    "$$(R_{\\basis}L)\\cdot (c_n) = \\left(\\sum_{i=-B}^A \\alpha_{n+i,-i}S_n^i\\right)(c_n) = 0.$$\n",
    "Hence, whenever the $\\alpha_{n,i}$ are rational functions in $n$, we arrive to a new P-finite recurrence equation.\n",
    "\n",
    "In Theorem 1, Petkovsek gave the last piece required for compute these recurrence equations in a simple way. Given $L_1, L_2$ compatible with $\\basis$ and $c \\in \\kk$, then we have:\n",
    "* $R_{\\basis}(cL_1) = cR_{\\basis}(L_1)$.\n",
    "* $R_{\\basis}(L_1+L_2) = R_{\\basis}(L_1) + R_{\\basis}(L_2)$.\n",
    "* $R_{\\basis}(L_1L_2) = R_{\\basis}(L_1)R_{\\basis}(L_2)$.\n",
    "\n",
    "These three properties together with the equivalence from Proposition 4, prove that the map $L \\rightarrow R_{\\basis}(L)$ is a $\\kk$-algebra isomorphism.\n",
    "\n",
    "More important, if we have $L \\in \\kk[O_1,\\dots,O_t]$ where $O_i$ are compatible operators with $\\basis$, then to compute $R_{\\basis}(L)$ we only need to evaluate the polynomial that represents $L$:\n",
    "    $$L = Q(O_1,\\dots,O_t) \\Rightarrow R_{\\basis}(L) = Q(R_{\\basis}(O_1),\\dots,R_{\\basis}(O_t).$$\n",
    "\n",
    "### What is it implemented?\n",
    "\n",
    "In our package `psbasis` we have implemented this isomorphism with several methods:\n",
    "* `recurrence(L)`: this method computes $R_{\\basis}(L)$. This method requires that $L$ is expressed as a polynomial of operators that have been already set. \n",
    "* `get_upper_bound(L)`: computes the value of $B$ in the compatibility definition for $L$. This operator must be compatible with the basis. (Aliases: `B`)\n",
    "* `get_lower_bound(L)`: computes the value of $A$ in the compatibility definition for $L$. This operator must be compatible with the basis. (Aliases: `A`)\n",
    "* `compatibility_coefficient(L, n, i)`: computes the coefficient $\\alpha_{n,i}$ in the compatibility definition for $L$. This operator must be compatible with the basis. (Aliases: `alpha`)\n",
    "\n",
    "The user can specified further generators for the compatible operators giving the appropriate name for it and the corresponding value of $R_{\\basis}(\\cdot)$.\n",
    "* `set_compatibilty(L, R)`: set the compatibility of $L$ to $R$."
   ]
  },
  {
   "cell_type": "code",
   "execution_count": 6,
   "metadata": {},
   "outputs": [
    {
     "data": {
      "text/html": [
       "<html><script type=\"math/tex; mode=display\">\\newcommand{\\Bold}[1]{\\mathbf{#1}}\\left\\{\\binom{x}{n}\\right\\}_{n\\geq 0}</script></html>"
      ],
      "text/latex": [
       "\\begin{math}\n",
       "\\newcommand{\\Bold}[1]{\\mathbf{#1}}\\left\\{\\binom{x}{n}\\right\\}_{n\\geq 0}\n",
       "\\end{math}"
      ],
      "text/plain": [
       "Binomial basis (x) choose n"
      ]
     },
     "execution_count": 6,
     "metadata": {},
     "output_type": "execute_result"
    }
   ],
   "source": [
    "## Creating the operators we want to see their compatibility\n",
    "OE.<E> = OreAlgebra(QQ[x], ('E', lambda p : p(x=x+1), lambda p : 0));\n",
    "\n",
    "## Recall B is the binomial basis\n",
    "B"
   ]
  },
  {
   "cell_type": "markdown",
   "metadata": {},
   "source": [
    "##### Example 4 from Petkovsek's paper\n",
    "\n",
    "* At example 4.1, Petkovsek considers the operator $L = E - c$, so $y(x) = \\sum_{n \\geq 0} y_n \\binom{x}{n}$ satisfies $y(x+1) - c = 0$ if and only if $L' \\cdot (y_n) = 0$ where $L'$ is the changed operator to the binomial basis:"
   ]
  },
  {
   "cell_type": "code",
   "execution_count": 7,
   "metadata": {},
   "outputs": [
    {
     "data": {
      "text/html": [
       "<html><script type=\"math/tex; mode=display\">\\newcommand{\\Bold}[1]{\\mathbf{#1}}\\mathit{Sn} - 2</script></html>"
      ],
      "text/latex": [
       "\\begin{math}\n",
       "\\newcommand{\\Bold}[1]{\\mathbf{#1}}\\mathit{Sn} - 2\n",
       "\\end{math}"
      ],
      "text/plain": [
       "Sn - 2"
      ]
     },
     "execution_count": 7,
     "metadata": {},
     "output_type": "execute_result"
    }
   ],
   "source": [
    "example4_1 = E - 3; B.recurrence(example4_1)"
   ]
  },
  {
   "cell_type": "markdown",
   "metadata": {},
   "source": [
    "  In general, $L' = S_n - (c-1)$, which in the sequence level has the solution $y_n = y_0(c-1)^n$, obtaining:\n",
    "  $$y(x) = \\sum_{n \\geq 0} \\binom{x}{n}y_0(c-1)^n = y_0c^x$$\n",
    "  \n",
    "* At example 4.2, Petkovsek considers the operator $L = E^2 - 2E + 1$. Then, applying the substitution for a binomial basis we get:"
   ]
  },
  {
   "cell_type": "code",
   "execution_count": 8,
   "metadata": {
    "scrolled": false
   },
   "outputs": [
    {
     "data": {
      "text/html": [
       "<html><script type=\"math/tex; mode=display\">\\newcommand{\\Bold}[1]{\\mathbf{#1}}\\mathit{Sn}^{2}</script></html>"
      ],
      "text/latex": [
       "\\begin{math}\n",
       "\\newcommand{\\Bold}[1]{\\mathbf{#1}}\\mathit{Sn}^{2}\n",
       "\\end{math}"
      ],
      "text/plain": [
       "Sn^2"
      ]
     },
     "execution_count": 8,
     "metadata": {},
     "output_type": "execute_result"
    }
   ],
   "source": [
    "example4_2 = E^2 - 2*E + 1; B.recurrence(example4_2)"
   ]
  },
  {
   "cell_type": "markdown",
   "metadata": {},
   "source": [
    "What does this result mean? Let $y(x) = \\sum_{n\\geq 0} y_n\\binom{x}{n}$. Then we have that $y_{n+2} = 0$ for all $n$, so $y(x) = y_0 + y_1\\binom{x}{1} = y_0 + y_1x$ and, then, all the power series solutions to the difference equation\n",
    "$$y(x+2) - 2y(x+1) + y(x) = 0,$$\n",
    "are the polynomials of degree 1.\n",
    "\n",
    "* At example 4.3, Petkovsek now consider the operator $L = E^2 - E - 1$. Applying the algorithm we get:"
   ]
  },
  {
   "cell_type": "code",
   "execution_count": 9,
   "metadata": {},
   "outputs": [
    {
     "data": {
      "text/html": [
       "<html><script type=\"math/tex; mode=display\">\\newcommand{\\Bold}[1]{\\mathbf{#1}}\\mathit{Sn}^{2} + \\mathit{Sn} - 1</script></html>"
      ],
      "text/latex": [
       "\\begin{math}\n",
       "\\newcommand{\\Bold}[1]{\\mathbf{#1}}\\mathit{Sn}^{2} + \\mathit{Sn} - 1\n",
       "\\end{math}"
      ],
      "text/plain": [
       "Sn^2 + Sn - 1"
      ]
     },
     "execution_count": 9,
     "metadata": {},
     "output_type": "execute_result"
    }
   ],
   "source": [
    "example4_3 = E^2 - E - 1; B.recurrence(example4_3)"
   ]
  },
  {
   "cell_type": "markdown",
   "metadata": {},
   "source": [
    "In this case we are considering a Fibonacci type of function, some $y(x)$ such that $y(x+2) = y(x+1) + y(x)$. If we expand it using the binomial basis, we end up that the sequence of coefficients satisfies the recurrence\n",
    "$$y_{n+2} = y_n - y_{n+1},$$\n",
    "which is a variance of the Fibonacci sequence. In fact, we have:\n",
    "$$y_n = (-1)^n(C_1F_n + C_2F_{n+1}),$$\n",
    "where $F_n$ **is** the Fibonacci sequence $(0,1,1,2,\\dots)$. Let choose $C_1$ and $C_2$ such that $y(0) = 0$ and $y(1) = 1$. Then we have that $0 = y_0 = C_2$ and $1 = y_0 + y_1 = -(C_1 + C_2)$, so $C_1 = -1$ and $C_2 = 0$. Then $y_n = (-1)^nF_n$ and we have:\n",
    "$$y(x) = \\sum_{n \\geq 0} (-1)^nF_n,$$\n",
    "so evaluating the function on an integer $m$ we obtain:\n",
    "$$F_m = \\sum_{n = 0}^m (-1)^nF_n.$$\n",
    "\n",
    "* At example 4.4, Petkovsek takes the P-finite first order recurrence $L = E - (x+1)$. After applying the substitution we get:"
   ]
  },
  {
   "cell_type": "code",
   "execution_count": 10,
   "metadata": {},
   "outputs": [
    {
     "data": {
      "text/html": [
       "<html><script type=\"math/tex; mode=display\">\\newcommand{\\Bold}[1]{\\mathbf{#1}}\\mathit{Sn} + \\left(-n\\right) \\mathit{Sni} - n</script></html>"
      ],
      "text/latex": [
       "\\begin{math}\n",
       "\\newcommand{\\Bold}[1]{\\mathbf{#1}}\\mathit{Sn} + \\left(-n\\right) \\mathit{Sni} - n\n",
       "\\end{math}"
      ],
      "text/plain": [
       "Sn + (-n)*Sni - n"
      ]
     },
     "execution_count": 10,
     "metadata": {},
     "output_type": "execute_result"
    }
   ],
   "source": [
    "example4_4 = E - (x+1); B.recurrence(example4_4)"
   ]
  },
  {
   "cell_type": "markdown",
   "metadata": {},
   "source": [
    "In this case we have a recurrence with the inverse shift, which is equivalent to the recurrence $S_n^2 - n S_n - n$. This recurrence equation has as solution $y_n = n!\\left(C_1 + C_2\\sum_{k=1}^n(-1)^k/k!\\right)$.\n",
    "\n",
    "However in this case for $n = 0$, the original equation (with the right shift operator) provides the equality $y_1 = 0$, so we obtain $C_1 = C_2 = C$ obtaining finally\n",
    "$$y(x) = C\\sum_{n \\geq 0} \\binom{x}{n}n!\\left(1 + \\sum_{k=1}^n \\frac{(-1)^k}{k!}\\right).$$\n",
    "\n",
    "Now, in this case, the original recurrence gives that $y(x+1) = (x+1)y(x)$ (which is the functional equation for the factorial: $y(n) = n!y(0)$). Hence, we find the following identity setting $C=1$:\n",
    "$$m! = \\sum_{n = 0}^m \\binom{m}{n}n!\\left(1 \\sum_{k=1}^n\\frac{(-1)^k}{k!}\\right).$$\n",
    "\n",
    "* Finally in example 4.5, Petkovsek studies the recurrence $L = E^3 - (n^2+6n+10)E^2 + (n+2)(2n+5)E-(n+1)(n+2)$. This recurrence is not so simple anymore."
   ]
  },
  {
   "cell_type": "code",
   "execution_count": 11,
   "metadata": {},
   "outputs": [
    {
     "data": {
      "text/html": [
       "<html><script type=\"math/tex; mode=display\">\\newcommand{\\Bold}[1]{\\mathbf{#1}}\\mathit{Sn}^{3} + \\left(-n^{2} - 6 n - 7\\right) \\mathit{Sn}^{2} + \\left(-2 n^{2} - 8 n - 7\\right) \\mathit{Sn} - n^{2} - 2 n - 1</script></html>"
      ],
      "text/latex": [
       "\\begin{math}\n",
       "\\newcommand{\\Bold}[1]{\\mathbf{#1}}\\mathit{Sn}^{3} + \\left(-n^{2} - 6 n - 7\\right) \\mathit{Sn}^{2} + \\left(-2 n^{2} - 8 n - 7\\right) \\mathit{Sn} - n^{2} - 2 n - 1\n",
       "\\end{math}"
      ],
      "text/plain": [
       "Sn^3 + (-n^2 - 6*n - 7)*Sn^2 + (-2*n^2 - 8*n - 7)*Sn - n^2 - 2*n - 1"
      ]
     },
     "execution_count": 11,
     "metadata": {},
     "output_type": "execute_result"
    }
   ],
   "source": [
    "example4_5 = E^3 - (x^2+6*x+10)*E^2 + (x+2)*(2*x+5)*E-(x+1)*(x+2); \n",
    "B.recurrence(example4_5)"
   ]
  },
  {
   "cell_type": "markdown",
   "metadata": {},
   "source": [
    "## 3. The equivalence of Proposition 2\n",
    "\n",
    "In Proposition 2, Petkovsek provides an equivalent condition, in the case of *polynomial factorial basis*, for an operator $L$ to be $(A,B)$-compatible. Namely, $L$ is $(A,B)$ compatible if and only if:\n",
    "* **C.1.** For all $n \\geq 0$, $\\deg(L\\cdot P_n) \\leq n + B$.\n",
    "* **C.2.** For all $n \\geq A$, $P_{n-A} | L\\cdot P_n$.\n",
    "\n",
    "This proposition will be heavily used to proved compatibility for some operators in the _product basis_ defined below. Hence, a constructive proved is heavily desired. \n",
    "\n",
    "### 3.1 Defining the goals for equivalence\n",
    "\n",
    "A first step to make the result constructive is define exactly what we need to compute. For the compatibility condition is pretty clear: we need to compute the values $A$, $B$ and $\\alpha_{n,i}$ for arbitrary (symbolic) $n$ and $-A \\leq i \\leq B$. \n",
    "\n",
    "But what exactly do we need to compute for the conditions **C.1** and **C.2**? For *C.1* we only need to compute the value of $B$. Then, for *C.2* we need to compute first the value of $A$. At this point, as $\\basis$ is a **polynomial factorial basis**, we have that for any $n$:\n",
    "$$\\frac{L(P_n)}{P_{n-A}} = c_{n,0} + \\dots c_{n,A+B}x^{A+B}.$$\n",
    "\n",
    "So we say we have *construct* the conditions **C.1** and **C.2** if we provide a value for $A$ and $B$ and a list of coefficients $c_{n,i}$ for $0 \\leq i \\leq A+B$.\n",
    "\n",
    "### 3.2 Increasing basis\n",
    "\n",
    "The main tool for performing this computation is what we will call the _increasing basis_. Using the fact that we are working with *polynomial factorial basis*, we have that for any $m > n$, $\\deg(P_m/P_n) = m-n$. \n",
    "* We define the $k$*-increasing basis* for $\\basis$ as $\\ibasis_k(\\basis) = \\left\\{I_{k,n}\\right\\}_{n\\geq 0}$ where\n",
    "  $$I_{k,n} = \\frac{P_{k+n}}{P_k}.$$\n",
    "* $\\ibasis_k$ **is a polynomial factorial basis for any** $k \\in \\nn$.\n",
    "\n",
    "  It is clear, as we have already mention, that $\\deg(I_{k,n}) = n$. And, as $\\basis$ is factorial, we also have that:\n",
    "  $$\\frac{I_{k,n+1}}{I_{k,n}} = \\frac{P_{k+n+1}P_k}{P_{k+n}P_k} = \\frac{P_{k+n+1}}{P_{k+n}} = a_{n+k+1}x + b_{n+k+1},$$\n",
    "  finishing the proof. $\\square$\n",
    "  \n",
    "### 3.3 Looking to the equivalence\n",
    "\n",
    "The compatibility condition provides the following identity:\n",
    "$$L(P_n) = \\sum_{i=-A}^B \\alpha_{n,i} P_{n+i},$$\n",
    "so if we divide this identity by $P_{n-A}$, we obtain:\n",
    "$$\\sum_{j=0}^{A+B} c_{n,j}x^j = \\frac{L(P_n)}{P_{n-A}} = \\sum_{i=-A}^B \\alpha_{n,i}I_{n-A,i+A} = \\sum_{j=0}^{A+B} \\alpha_{n,j-A}I_{n-A, j}.$$\n",
    "\n",
    "This means that the computation from the $c_{n,i}$ to the $\\alpha_{n,i}$ *is only a change of coordinates* between the usual power basis and the $(n-A)$-increasing basis for $\\basis$.\n",
    "\n",
    "* For changing from $\\alpha_{n,i}$ to $c_{n,i}$ we need to change from $\\ibasis$ to the usual power basis, so if we build the matrix\n",
    "  $$M_{I\\rightarrow P} = \\left(coeff(I_{n-A,j},i\\right)_{i,j = 0}^{A+B},$$\n",
    "  then we have that:\n",
    "  $$\\pmatrix{c_{n,0}\\cr\\vdots\\cr c_{n, A+B}} = M_{I\\rightarrow P}\\pmatrix{\\alpha_{n,-A}\\cr\\vdots\\cr\\alpha_{n, B}}$$\n",
    "  \n",
    "* For changing from $c_{n,i}$ to $\\alpha_{n,i}$ we need the inverse change of coordinates, so $M_{P \\rightarrow I} = M_{I \\rightarrow P}^{-1}$, we have the analog indentity:\n",
    "  $$\\pmatrix{\\alpha_{n,-A}\\cr\\vdots\\cr\\alpha_{n, B}} = M_{I\\rightarrow P}\\pmatrix{c_{n,0}\\cr\\vdots\\cr c_{n, A+B}}.$$\n",
    "  \n",
    "### What is it implemented?\n",
    "\n",
    "The class `FactorialBasis` provides several methods to compute the equivalence of Proposition 2. However, these methods must be implemented in each subclass to appropriately compute all the steps (since the treatment of indices may vary from class to class). The general behavior is the following:\n",
    "\n",
    "* `increasing_polynomial(k,n)`: returns the polynomial $I_{k,n}$ for the current basis. The value for $n$ must be a fixed positive integer and $k$ may take a symbolic value.\n",
    "* `matrix_ItP(k,m)`: returns the matrix $M_{I\\rightarrow P}$ of size $m$ for the $k$-increasing basis.\n",
    "* `matrix_PtI(k,m)`: returns the matrix $M_{P\\rightarrow I}$ of size $m$ for the $k$-increasing basis.\n",
    "* `equiv_DtC(A,[alpha(n,i-A)])`: assuming that the input represent an operator with \n",
    "  $$L(P_n) = \\sum_{i=-A}^{*} c_{n,i}P_{n+i},$$\n",
    "  this method computes the coefficients $c_{n,i}$ for the equivalent condition **C.2**.\n",
    "* `equiv_CtD(A,[c(n,i)])`: assuming that the input represent an operator with \n",
    "  $$\\frac{L(P_n)}{P_{n-A}} = \\sum_{i=0}^{*} c_{n,i}x^i,$$\n",
    "  this method computes the compatibility coefficients $\\alpha_{n,i}$ for the definition of compatibility.\n",
    "  \n",
    "In the case of simple factorial basis (class `SFactorialBasis`) where we have defined the division $P_{n+1}/P_n = a_{n+1}x+b_{n+1}$, we added an extra method that computes the polynomial $L(P_n)/P_{n-m}$ for any $m \\geq A$.\n",
    "* `compatible_division(L, n, m)`: this method also allows (instead of $m$) another arguments (called `dst`) that represents the value of $n-m$."
   ]
  },
  {
   "cell_type": "code",
   "execution_count": 12,
   "metadata": {},
   "outputs": [
    {
     "data": {
      "text/html": [
       "<html><script type=\"math/tex; mode=display\">\\newcommand{\\Bold}[1]{\\mathbf{#1}}\\mathrm{True}</script></html>"
      ],
      "text/latex": [
       "\\begin{math}\n",
       "\\newcommand{\\Bold}[1]{\\mathbf{#1}}\\mathrm{True}\n",
       "\\end{math}"
      ],
      "text/plain": [
       "True"
      ]
     },
     "execution_count": 12,
     "metadata": {},
     "output_type": "execute_result"
    }
   ],
   "source": [
    "## Checking how the increasing polynomials are the divisions between elements of the basis\n",
    "all(\n",
    "    all(\n",
    "        all(\n",
    "            basis.element(i+j) \n",
    "            == \n",
    "            basis.element(i)*basis.increasing_polynomial(i,j) \n",
    "            for j in range(20)) \n",
    "        for i in range(4,20))\n",
    "    for basis in [P, P11, B]\n",
    ")"
   ]
  },
  {
   "cell_type": "code",
   "execution_count": 13,
   "metadata": {},
   "outputs": [
    {
     "ename": "KeyError",
     "evalue": "'E^2 - E - 1'",
     "output_type": "error",
     "traceback": [
      "\u001b[0;31m---------------------------------------------------------------------------\u001b[0m",
      "\u001b[0;31mKeyError\u001b[0m                                  Traceback (most recent call last)",
      "\u001b[0;32m~/sage/local/lib/python3.8/site-packages/sage/misc/cachefunc.pyx\u001b[0m in \u001b[0;36msage.misc.cachefunc.CachedMethodCaller.__call__ (build/cythonized/sage/misc/cachefunc.c:10304)\u001b[0;34m()\u001b[0m\n\u001b[1;32m   1942\u001b[0m             \u001b[0;32mtry\u001b[0m\u001b[0;34m:\u001b[0m\u001b[0;34m\u001b[0m\u001b[0;34m\u001b[0m\u001b[0m\n\u001b[0;32m-> 1943\u001b[0;31m                 \u001b[0;32mreturn\u001b[0m \u001b[0mcache\u001b[0m\u001b[0;34m[\u001b[0m\u001b[0mk\u001b[0m\u001b[0;34m]\u001b[0m\u001b[0;34m\u001b[0m\u001b[0;34m\u001b[0m\u001b[0m\n\u001b[0m\u001b[1;32m   1944\u001b[0m             \u001b[0;32mexcept\u001b[0m \u001b[0mTypeError\u001b[0m\u001b[0;34m:\u001b[0m  \u001b[0;31m# k is not hashable\u001b[0m\u001b[0;34m\u001b[0m\u001b[0;34m\u001b[0m\u001b[0m\n",
      "\u001b[0;31mKeyError\u001b[0m: ((E^2 - E - 1,), ())",
      "\nDuring handling of the above exception, another exception occurred:\n",
      "\u001b[0;31mKeyError\u001b[0m                                  Traceback (most recent call last)",
      "\u001b[0;32m<ipython-input-13-dc79edd91128>\u001b[0m in \u001b[0;36m<module>\u001b[0;34m\u001b[0m\n\u001b[1;32m      1\u001b[0m \u001b[0;31m## Checking how we get the coefficients c_{n,i}\u001b[0m\u001b[0;34m\u001b[0m\u001b[0;34m\u001b[0m\u001b[0;34m\u001b[0m\u001b[0m\n\u001b[0;32m----> 2\u001b[0;31m \u001b[0mn\u001b[0m \u001b[0;34m=\u001b[0m \u001b[0mB\u001b[0m\u001b[0;34m.\u001b[0m\u001b[0mn\u001b[0m\u001b[0;34m(\u001b[0m\u001b[0;34m)\u001b[0m\u001b[0;34m;\u001b[0m \u001b[0malpha\u001b[0m \u001b[0;34m=\u001b[0m \u001b[0;34m[\u001b[0m\u001b[0mB\u001b[0m\u001b[0;34m.\u001b[0m\u001b[0malpha\u001b[0m\u001b[0;34m(\u001b[0m\u001b[0mexample4_3\u001b[0m\u001b[0;34m)\u001b[0m\u001b[0;34m(\u001b[0m\u001b[0mInteger\u001b[0m\u001b[0;34m(\u001b[0m\u001b[0;36m0\u001b[0m\u001b[0;34m)\u001b[0m\u001b[0;34m,\u001b[0m\u001b[0mi\u001b[0m\u001b[0;34m,\u001b[0m\u001b[0mn\u001b[0m\u001b[0;34m)\u001b[0m \u001b[0;32mfor\u001b[0m \u001b[0mi\u001b[0m \u001b[0;32min\u001b[0m \u001b[0mrange\u001b[0m\u001b[0;34m(\u001b[0m\u001b[0;34m-\u001b[0m\u001b[0mB\u001b[0m\u001b[0;34m.\u001b[0m\u001b[0mA\u001b[0m\u001b[0;34m(\u001b[0m\u001b[0mexample4_3\u001b[0m\u001b[0;34m)\u001b[0m\u001b[0;34m,\u001b[0m \u001b[0mB\u001b[0m\u001b[0;34m.\u001b[0m\u001b[0mB\u001b[0m\u001b[0;34m(\u001b[0m\u001b[0mexample4_3\u001b[0m\u001b[0;34m)\u001b[0m\u001b[0;34m+\u001b[0m\u001b[0mInteger\u001b[0m\u001b[0;34m(\u001b[0m\u001b[0;36m1\u001b[0m\u001b[0;34m)\u001b[0m\u001b[0;34m)\u001b[0m\u001b[0;34m]\u001b[0m\u001b[0;34m\u001b[0m\u001b[0;34m\u001b[0m\u001b[0m\n\u001b[0m\u001b[1;32m      3\u001b[0m \u001b[0mc\u001b[0m \u001b[0;34m=\u001b[0m \u001b[0mB\u001b[0m\u001b[0;34m.\u001b[0m\u001b[0mequiv_DtC\u001b[0m\u001b[0;34m(\u001b[0m\u001b[0mB\u001b[0m\u001b[0;34m.\u001b[0m\u001b[0mA\u001b[0m\u001b[0;34m(\u001b[0m\u001b[0mexample4_3\u001b[0m\u001b[0;34m)\u001b[0m\u001b[0;34m,\u001b[0m \u001b[0;34m*\u001b[0m\u001b[0malpha\u001b[0m\u001b[0;34m)\u001b[0m\u001b[0;34m;\u001b[0m\u001b[0;34m\u001b[0m\u001b[0;34m\u001b[0m\u001b[0m\n\u001b[1;32m      4\u001b[0m all(example4_3(QQ[x](B.element(i)))/B.element(i-B.A(example4_3)) \n\u001b[1;32m      5\u001b[0m     \u001b[0;34m==\u001b[0m\u001b[0;34m\u001b[0m\u001b[0;34m\u001b[0m\u001b[0m\n",
      "\u001b[0;32m<ipython-input-13-dc79edd91128>\u001b[0m in \u001b[0;36m<listcomp>\u001b[0;34m(.0)\u001b[0m\n\u001b[1;32m      1\u001b[0m \u001b[0;31m## Checking how we get the coefficients c_{n,i}\u001b[0m\u001b[0;34m\u001b[0m\u001b[0;34m\u001b[0m\u001b[0;34m\u001b[0m\u001b[0m\n\u001b[0;32m----> 2\u001b[0;31m \u001b[0mn\u001b[0m \u001b[0;34m=\u001b[0m \u001b[0mB\u001b[0m\u001b[0;34m.\u001b[0m\u001b[0mn\u001b[0m\u001b[0;34m(\u001b[0m\u001b[0;34m)\u001b[0m\u001b[0;34m;\u001b[0m \u001b[0malpha\u001b[0m \u001b[0;34m=\u001b[0m \u001b[0;34m[\u001b[0m\u001b[0mB\u001b[0m\u001b[0;34m.\u001b[0m\u001b[0malpha\u001b[0m\u001b[0;34m(\u001b[0m\u001b[0mexample4_3\u001b[0m\u001b[0;34m)\u001b[0m\u001b[0;34m(\u001b[0m\u001b[0mInteger\u001b[0m\u001b[0;34m(\u001b[0m\u001b[0;36m0\u001b[0m\u001b[0;34m)\u001b[0m\u001b[0;34m,\u001b[0m\u001b[0mi\u001b[0m\u001b[0;34m,\u001b[0m\u001b[0mn\u001b[0m\u001b[0;34m)\u001b[0m \u001b[0;32mfor\u001b[0m \u001b[0mi\u001b[0m \u001b[0;32min\u001b[0m \u001b[0mrange\u001b[0m\u001b[0;34m(\u001b[0m\u001b[0;34m-\u001b[0m\u001b[0mB\u001b[0m\u001b[0;34m.\u001b[0m\u001b[0mA\u001b[0m\u001b[0;34m(\u001b[0m\u001b[0mexample4_3\u001b[0m\u001b[0;34m)\u001b[0m\u001b[0;34m,\u001b[0m \u001b[0mB\u001b[0m\u001b[0;34m.\u001b[0m\u001b[0mB\u001b[0m\u001b[0;34m(\u001b[0m\u001b[0mexample4_3\u001b[0m\u001b[0;34m)\u001b[0m\u001b[0;34m+\u001b[0m\u001b[0mInteger\u001b[0m\u001b[0;34m(\u001b[0m\u001b[0;36m1\u001b[0m\u001b[0;34m)\u001b[0m\u001b[0;34m)\u001b[0m\u001b[0;34m]\u001b[0m\u001b[0;34m\u001b[0m\u001b[0;34m\u001b[0m\u001b[0m\n\u001b[0m\u001b[1;32m      3\u001b[0m \u001b[0mc\u001b[0m \u001b[0;34m=\u001b[0m \u001b[0mB\u001b[0m\u001b[0;34m.\u001b[0m\u001b[0mequiv_DtC\u001b[0m\u001b[0;34m(\u001b[0m\u001b[0mB\u001b[0m\u001b[0;34m.\u001b[0m\u001b[0mA\u001b[0m\u001b[0;34m(\u001b[0m\u001b[0mexample4_3\u001b[0m\u001b[0;34m)\u001b[0m\u001b[0;34m,\u001b[0m \u001b[0;34m*\u001b[0m\u001b[0malpha\u001b[0m\u001b[0;34m)\u001b[0m\u001b[0;34m;\u001b[0m\u001b[0;34m\u001b[0m\u001b[0;34m\u001b[0m\u001b[0m\n\u001b[1;32m      4\u001b[0m all(example4_3(QQ[x](B.element(i)))/B.element(i-B.A(example4_3)) \n\u001b[1;32m      5\u001b[0m     \u001b[0;34m==\u001b[0m\u001b[0;34m\u001b[0m\u001b[0;34m\u001b[0m\u001b[0m\n",
      "\u001b[0;32m~/sage/local/lib/python3.8/site-packages/sage/misc/cachefunc.pyx\u001b[0m in \u001b[0;36msage.misc.cachefunc.CachedMethodCaller.__call__ (build/cythonized/sage/misc/cachefunc.c:10438)\u001b[0;34m()\u001b[0m\n\u001b[1;32m   1946\u001b[0m                 \u001b[0;32mreturn\u001b[0m \u001b[0mcache\u001b[0m\u001b[0;34m[\u001b[0m\u001b[0mk\u001b[0m\u001b[0;34m]\u001b[0m\u001b[0;34m\u001b[0m\u001b[0;34m\u001b[0m\u001b[0m\n\u001b[1;32m   1947\u001b[0m         \u001b[0;32mexcept\u001b[0m \u001b[0mKeyError\u001b[0m\u001b[0;34m:\u001b[0m\u001b[0;34m\u001b[0m\u001b[0;34m\u001b[0m\u001b[0m\n\u001b[0;32m-> 1948\u001b[0;31m             \u001b[0mw\u001b[0m \u001b[0;34m=\u001b[0m \u001b[0mself\u001b[0m\u001b[0;34m.\u001b[0m\u001b[0m_instance_call\u001b[0m\u001b[0;34m(\u001b[0m\u001b[0;34m*\u001b[0m\u001b[0margs\u001b[0m\u001b[0;34m,\u001b[0m \u001b[0;34m**\u001b[0m\u001b[0mkwds\u001b[0m\u001b[0;34m)\u001b[0m\u001b[0;34m\u001b[0m\u001b[0;34m\u001b[0m\u001b[0m\n\u001b[0m\u001b[1;32m   1949\u001b[0m             \u001b[0mcache\u001b[0m\u001b[0;34m[\u001b[0m\u001b[0mk\u001b[0m\u001b[0;34m]\u001b[0m \u001b[0;34m=\u001b[0m \u001b[0mw\u001b[0m\u001b[0;34m\u001b[0m\u001b[0;34m\u001b[0m\u001b[0m\n\u001b[1;32m   1950\u001b[0m             \u001b[0;32mreturn\u001b[0m \u001b[0mw\u001b[0m\u001b[0;34m\u001b[0m\u001b[0;34m\u001b[0m\u001b[0m\n",
      "\u001b[0;32m~/sage/local/lib/python3.8/site-packages/sage/misc/cachefunc.pyx\u001b[0m in \u001b[0;36msage.misc.cachefunc.CachedMethodCaller._instance_call (build/cythonized/sage/misc/cachefunc.c:9917)\u001b[0;34m()\u001b[0m\n\u001b[1;32m   1822\u001b[0m             \u001b[0;32mTrue\u001b[0m\u001b[0;34m\u001b[0m\u001b[0;34m\u001b[0m\u001b[0m\n\u001b[1;32m   1823\u001b[0m         \"\"\"\n\u001b[0;32m-> 1824\u001b[0;31m         \u001b[0;32mreturn\u001b[0m \u001b[0mself\u001b[0m\u001b[0;34m.\u001b[0m\u001b[0mf\u001b[0m\u001b[0;34m(\u001b[0m\u001b[0mself\u001b[0m\u001b[0;34m.\u001b[0m\u001b[0m_instance\u001b[0m\u001b[0;34m,\u001b[0m \u001b[0;34m*\u001b[0m\u001b[0margs\u001b[0m\u001b[0;34m,\u001b[0m \u001b[0;34m**\u001b[0m\u001b[0mkwds\u001b[0m\u001b[0;34m)\u001b[0m\u001b[0;34m\u001b[0m\u001b[0;34m\u001b[0m\u001b[0m\n\u001b[0m\u001b[1;32m   1825\u001b[0m \u001b[0;34m\u001b[0m\u001b[0m\n\u001b[1;32m   1826\u001b[0m     \u001b[0mcdef\u001b[0m \u001b[0mfix_args_kwds\u001b[0m\u001b[0;34m(\u001b[0m\u001b[0mself\u001b[0m\u001b[0;34m,\u001b[0m \u001b[0mtuple\u001b[0m \u001b[0margs\u001b[0m\u001b[0;34m,\u001b[0m \u001b[0mdict\u001b[0m \u001b[0mkwds\u001b[0m\u001b[0;34m)\u001b[0m\u001b[0;34m:\u001b[0m\u001b[0;34m\u001b[0m\u001b[0;34m\u001b[0m\u001b[0m\n",
      "\u001b[0;32m~/git/dk15research/petkovsek/psbasis/psbasis.py\u001b[0m in \u001b[0;36mcompatibility_coefficient\u001b[0;34m(self, operator)\u001b[0m\n\u001b[1;32m    940\u001b[0m             \u001b[0;34m*\u001b[0m \u001b[0mThe\u001b[0m \u001b[0mcase\u001b[0m \u001b[0mwhen\u001b[0m \u001b[0mthe\u001b[0m \u001b[0mcompatibility\u001b[0m \u001b[0mrule\u001b[0m \u001b[0;32mis\u001b[0m \u001b[0ma\u001b[0m \u001b[0mmatrix\u001b[0m \u001b[0;32mis\u001b[0m \u001b[0;32mnot\u001b[0m \u001b[0mimplemented\u001b[0m\u001b[0;34m.\u001b[0m\u001b[0;34m\u001b[0m\u001b[0;34m\u001b[0m\u001b[0m\n\u001b[1;32m    941\u001b[0m         '''\n\u001b[0;32m--> 942\u001b[0;31m         \u001b[0;32mreturn\u001b[0m \u001b[0mself\u001b[0m\u001b[0;34m.\u001b[0m\u001b[0mcompatibility\u001b[0m\u001b[0;34m(\u001b[0m\u001b[0moperator\u001b[0m\u001b[0;34m)\u001b[0m\u001b[0;34m[\u001b[0m\u001b[0;36m3\u001b[0m\u001b[0;34m]\u001b[0m\u001b[0;34m\u001b[0m\u001b[0;34m\u001b[0m\u001b[0m\n\u001b[0m\u001b[1;32m    943\u001b[0m \u001b[0;34m\u001b[0m\u001b[0m\n\u001b[1;32m    944\u001b[0m     \u001b[0;32mdef\u001b[0m \u001b[0mscalar\u001b[0m\u001b[0;34m(\u001b[0m\u001b[0mself\u001b[0m\u001b[0;34m,\u001b[0m \u001b[0mfactor\u001b[0m\u001b[0;34m)\u001b[0m\u001b[0;34m:\u001b[0m\u001b[0;34m\u001b[0m\u001b[0;34m\u001b[0m\u001b[0m\n",
      "\u001b[0;32m~/git/dk15research/petkovsek/psbasis/psbasis.py\u001b[0m in \u001b[0;36mcompatibility\u001b[0;34m(self, operator)\u001b[0m\n\u001b[1;32m    738\u001b[0m             \u001b[0mTODO\u001b[0m\u001b[0;34m:\u001b[0m \u001b[0madd\u001b[0m \u001b[0mexamples\u001b[0m\u001b[0;34m\u001b[0m\u001b[0;34m\u001b[0m\u001b[0m\n\u001b[1;32m    739\u001b[0m         '''\n\u001b[0;32m--> 740\u001b[0;31m         \u001b[0;32mreturn\u001b[0m \u001b[0mself\u001b[0m\u001b[0;34m.\u001b[0m\u001b[0m__compatibility\u001b[0m\u001b[0;34m[\u001b[0m\u001b[0mstr\u001b[0m\u001b[0;34m(\u001b[0m\u001b[0moperator\u001b[0m\u001b[0;34m)\u001b[0m\u001b[0;34m]\u001b[0m\u001b[0;34m\u001b[0m\u001b[0;34m\u001b[0m\u001b[0m\n\u001b[0m\u001b[1;32m    741\u001b[0m \u001b[0;34m\u001b[0m\u001b[0m\n\u001b[1;32m    742\u001b[0m     \u001b[0;32mdef\u001b[0m \u001b[0mrecurrence\u001b[0m\u001b[0;34m(\u001b[0m\u001b[0mself\u001b[0m\u001b[0;34m,\u001b[0m \u001b[0moperator\u001b[0m\u001b[0;34m,\u001b[0m \u001b[0msections\u001b[0m\u001b[0;34m=\u001b[0m\u001b[0;32mNone\u001b[0m\u001b[0;34m)\u001b[0m\u001b[0;34m:\u001b[0m\u001b[0;34m\u001b[0m\u001b[0;34m\u001b[0m\u001b[0m\n",
      "\u001b[0;31mKeyError\u001b[0m: 'E^2 - E - 1'"
     ]
    }
   ],
   "source": [
    "## Checking how we get the coefficients c_{n,i}\n",
    "n = B.n(); alpha = [B.alpha(example4_3)(0,i,n) for i in range(-B.A(example4_3), B.B(example4_3)+1)]\n",
    "c = B.equiv_DtC(B.A(example4_3), *alpha);\n",
    "all(example4_3(QQ[x](B.element(i)))/B.element(i-B.A(example4_3)) \n",
    "    ==\n",
    "    sum(\n",
    "        c[j](n=i)*x^j \n",
    "        for j in range(B.A(example4_3)+B.B(example4_3)+1))\n",
    "    for i in range(4,10)\n",
    "   )"
   ]
  },
  {
   "cell_type": "code",
   "execution_count": null,
   "metadata": {},
   "outputs": [],
   "source": [
    "## Checking how we get the coefficients alpha_{n,i}\n",
    "alpha == B.equiv_CtD(B.A(example4_3), *c)"
   ]
  },
  {
   "cell_type": "markdown",
   "metadata": {},
   "source": [
    "## 4. Recurrence in sections\n",
    "\n",
    "In Proposition 8, Petkosev studies how the fact that an operator is compatible with a basis makes that all the sections sequences in that basis satisfies different recurrence relations. The prove of the result is quite technical but the only thing that is important is that, for $m > 0$, if an operator is compatible in the form\n",
    "$$L(P_{km+j}) = \\sum_{i=-A}^B \\alpha_{k,j,i} P_{km+j+i},$$\n",
    "then we can define the recurrence operators for $r,j \\in \\{0,1,\\dots,m-1\\}$:\n",
    "$$L_{r,j} = \\sum_{\\begin{array}{c}-A\\leq i \\leq B\\\\i+j \\equiv r (m)\\end{array}} \\alpha_{k+\\frac{r-i-j}{m},j,i} S_n^{\\frac{r-i-j}{m}}.$$\n",
    "\n",
    "Then with this operators we have that, for $y(x) = \\sum_{k\\geq 0} \\sum_{j=0}^{m-1} c_{km+j}P_{km+j}$, $L(y) = 0$ if and only if for all $r \\in \\{0,\\dots,m-1\\}$ we have:\n",
    "$$\\sum_{j=0}^{m-1} L_{r,j}(c_{km+j})_k = 0.$$\n",
    "\n",
    "### 4.1 Matrix operator\n",
    "\n",
    "If we form now $R_{\\basis}^m(L) = \\left(L_{r,j}\\right)_{r,j=0}^{m-1}$, as an extension of the original map $R$ that we saw in previous sections, then it still have the same properties: it is a ring homomorphism.\n",
    "\n",
    "For any $m > 0$, $L_1, L_2$ compatiblo operators with $\\basis$ and $c \\in \\kk$:\n",
    "* $R_{\\basis}^m(cL_1) = cR_{\\basis}^m(L_1)$.\n",
    "* $R_{\\basis}^m(L_1 + L_2) = R_{\\basis}^m(L_1) + R_{\\basis}^m(L_2)$.\n",
    "* $R_{\\basis}^m(L_1L_2) = R_{\\basis}^m(L_1)R_{\\basis}^m(L_2)$.\n",
    "\n",
    "### What is it implemented?\n",
    "\n",
    "Any `PSBasis` has a method to compute this matrix operator providing either the compatible operator or a list of coefficients $\\alpha_{k,j,i}$. In case an operator is provided, the coefficients $\\alpha_{k,j,i}$ will be computed from their usual compatibility coefficients $\\alpha_{n,i}$. Namely, $\\alpha_{k,j,i} = \\alpha_{km+j,i}$.\n",
    "\n",
    "* `get_compatibility_sections(m, L)`: computes a matrix operator for the sections of the recursions for $L$."
   ]
  },
  {
   "cell_type": "code",
   "execution_count": 14,
   "metadata": {},
   "outputs": [
    {
     "ename": "AttributeError",
     "evalue": "'BinomialBasis' object has no attribute 'get_compatibility_sections'",
     "output_type": "error",
     "traceback": [
      "\u001b[0;31m---------------------------------------------------------------------------\u001b[0m",
      "\u001b[0;31mAttributeError\u001b[0m                            Traceback (most recent call last)",
      "\u001b[0;32m<ipython-input-14-b3ad0aab9f23>\u001b[0m in \u001b[0;36m<module>\u001b[0;34m\u001b[0m\n\u001b[0;32m----> 1\u001b[0;31m \u001b[0mB\u001b[0m\u001b[0;34m.\u001b[0m\u001b[0mget_compatibility_sections\u001b[0m\u001b[0;34m(\u001b[0m\u001b[0mInteger\u001b[0m\u001b[0;34m(\u001b[0m\u001b[0;36m3\u001b[0m\u001b[0;34m)\u001b[0m\u001b[0;34m,\u001b[0m \u001b[0;34m'x'\u001b[0m\u001b[0;34m)\u001b[0m\u001b[0;34m\u001b[0m\u001b[0;34m\u001b[0m\u001b[0m\n\u001b[0m",
      "\u001b[0;31mAttributeError\u001b[0m: 'BinomialBasis' object has no attribute 'get_compatibility_sections'"
     ]
    }
   ],
   "source": [
    "B.get_compatibility_sections(3, 'x')"
   ]
  },
  {
   "cell_type": "markdown",
   "metadata": {},
   "source": [
    "## 5. Product basis\n",
    "\n",
    "Petkovsek works with a type of basis that is composed with products of simpler basis. Namely with binomial basis. To introduce these basis, if $\\basis_1,\\dots,\\basis_m$ are basis of $\\kk[[x]]$, we can define a new basis\n",
    "$$Q_{km+j} = \\prod_{i=1}^j P_{k+1}^{(i)} \\prod_{i=j+1}^mP_k^{(i)}.$$\n",
    "\n",
    "It is shown in Theorem 2 that $\\basis = \\prod \\basis_i$ is a factorial basis when all $\\basis_i$ are factorial. This provides that $X$ is $(0,1)$-compatible with $\\basis$. Moreover, he shown that if $L$ is a ring homomorphism over $\\kk[x]$, then $L$ is compatible with $\\basis$. We can show also that if $L$ is a derivation over $\\kk[[x]]$, then $L$ is also compatible with $\\basis$.\n",
    "\n",
    "It is pretty obvious that any extension of compatibility for a operator $L$ to the product basis should be represented using the matrix operator for as many sections as factors the basis has, since its definition is precisely splitted into those many sections. We will denote by\n",
    "\n",
    "### 5.1 Extending compatibility of $X$\n",
    "\n",
    "Extending the compatibility of $X$ is pretty simple since the multiplication of polynomials is commutative. Hence, if we pick $k \\in \\nn$ and $j \\in \\{0,\\dots,m-1\\}$, then we have:\n",
    "$$xQ_{km+j} = \\left(\\prod_{i=1}^{j}P_{k+1}^{(i)}\\right)(xP_{k}^{(j+1)})\\left(\\prod_{i=j+2}^mP_{k}^{(i)}\\right),$$\n",
    "then, using the fact that $xP_k^{(j+1)} = \\alpha_{k,0}^{(j+1)}P_k^{(j+1)} + \\alpha_{k,1}^{(j+1)}P_{k+1}^{(j+1)}$, we have that\n",
    "$$xQ_{km+j} = \\alpha_{k,0}^{(j+1)}Q_{km+j} + \\alpha_{k,1}^{(j+1)}Q_{km+j+1},$$\n",
    "so we can conclude that:\n",
    "$$\\alpha_{k,j,i} = \\alpha_{k,i}^{(j+1)},$$\n",
    "being able to apply the method `get_compatibility_sections` to compute the matrix for multiplication by $X$.\n",
    "\n",
    "### 5.2 Extending compatibility of endomorphisms\n",
    "\n",
    "Let $L$ be an endomorphism of $K[x]$, i.e., $L(PQ) = L(P)L(Q)$ for any pair of polynomials. Then we can follow the prove of compatibility on the product basis:\n",
    "\n",
    "* Proving **C.1**: given $Q_n$, we can expand it in terms of the $j$th factor basis:\n",
    "  $$Q_n = \\sum_{i=0}^nq_{n,i}P_n^{(j)},$$\n",
    "  and applying $L$ to this expression we get\n",
    "  $$L(Q_n) = \\sum_{i=0}^n \\sum_{k=-A_j}^{B_k} \\alpha_{i,k}^{(j)} P_{i+k},$$\n",
    "  and a simple scan of that last expression shows that $\\deg(L(Q_n)) \\leq n + B_j$. As this old for all $j = 1,...,m$, then we can conclude $\\deg(L(Q_n)) \\leq n+\\min(B_j)$. So $B=\\min(B_j : 1 \\leq j \\leq m)$.\n",
    "  \n",
    "***REMARK:** This proof only uses that $L$ is compoatible with all the factors of $\\basis$.*\n",
    "  \n",
    "* Proving **C.2**: if we apply directly $L$ to the product expression of $Q_n$ for $n = km+j$, we obtain:\n",
    "  $$L(Q_n) = \\left(\\prod_{i=1}^j \\sum_{l=-A_i}^{B_i} \\alpha_{k+1,l}^{(i)}P_{k+1+l}^{(i)}\\right) \\left(\\prod_{i=j+1}^{m} \\sum_{l = A_i}^{B_l} \\alpha_{k, l}^{(i)}P_{k+l}^{(i)}\\right).$$\n",
    "  \n",
    "  If we expand this expression and see the summands, we can see they involve some product of elements from the factor basis. In fact, the minimal index we see in each case is $P_{k-A_i}^{(i)}$. Then, using the fact that all the basis are factorial, we have that for $A = \\max(A_j : 1 \\leq j \\leq m)$, we have:\n",
    "  $$Q_{n-mA} = \\prod_{i=1}^j P_{k-A+1}^{(i)} \\prod_{i=j+1}^mP_{k-A}^{(i)} | L(Q_n).$$\n",
    "  \n",
    "This two points prove that $L$ is $(mA, B)$-compatible with the product basis.\n",
    "\n",
    "##### How is it implemented?\n",
    "\n",
    "In order to get a constructive approach for this prove, we need to recall what we discussed in Section 3: we need to construct the division $L(Q_n)/Q_{n-mA}$. As usual, and for later use, we will consider $n = km+j$ and each of the $j$ cases will be taken separately.\n",
    "\n",
    "If we analyze the quotient we want to study, we realize that:\n",
    "$$\\frac{L(Q_{km+j})}{Q_{km+j-mA}} = \\prod_{i=1}^j\\left(\\frac{L(P_{k+1}^{(i)})}{P_{k+1-A}^{(i)}}\\right)\\prod_{i=j+1}^m\\left(\\frac{L(P_{k}^{(i)})}{P_{k-A}}\\right),$$\n",
    "and each of those factors can be computed explicitly since each of the basis are factorial.\n",
    "\n",
    "Moreover, we can also compute the corresponding *increasing basis* from a fixed $n = km+j$. Hence we can apply the methodology in Section 3 to get the coefficients $\\alpha_{k,j,i}$. Repeating this for $j = 1,\\dots, m$ we are in a position to apply the method `get_compatibility_sections`.\n",
    "\n",
    "* When creating a Product Basis, the user can specify the names of all the endomorphism he wants to compute the compatibility matrix. See the documentation of `ProductBasis?` for further information.\n",
    "\n",
    "### 5.3 Extending compatibility of derivations\n",
    "\n",
    "Let $L$ be a derivation of $K[x]$, i.e., $L(PQ) = L(P)Q + PL(Q)$ for any pair of polynomials. Then we can follow the prove of compatibility on the product basis:\n",
    "\n",
    "* Proving **C.1**: exactly the same proof as for endomorhisms (see the remark above). Then $\\deg(L(Q_n)) \\leq n + B$ where $B = \\min(B_j : 1 \\leq j \\leq m)$.\n",
    "  \n",
    "* Proving **C.2**: if we apply directly $L$ to the product expression of $Q_n$ for $n = km+j$, we obtain a summation of several terms:\n",
    "  $$L(Q_n) = \\sum_{i=1}^j L(P_{k+1}^{(i)})\\frac{Q_n}{P_{k+1}^{(i)}} \\sum_{i=j+1}^m L(P_{k}^{(i)})\\frac{Q_n}{P_{k}^{(i)}},$$\n",
    "  and using the fact that $L$ is compatible with each factor of the basis we obtain:\n",
    "  $$L(Q_n) = \\sum_{i=1}^j \\sum_{l=-A_i}^{B_i}P_{k+1+l}^{(i)}\\frac{Q_n}{P_{k+1}^{(i)}} \\sum_{i=j+1}^m \\sum_{l=-A_i}^{B_i}P_{k+l}^{(i)}\\frac{Q_n}{P_{k}^{(i)}}.$$\n",
    "  \n",
    "  Take $A = \\max(A_j : 1 \\leq j \\leq m)$. We will show now that $Q_{n-Am}$ divides $L(Q_n)$ analyzing the divisibility of each of the summands. Let $i \\leq j$ and $-A_i \\leq l \\leq B-i$:\n",
    "  $$\\frac{P_{k+1+l}^{(i)}Q_n}{Q_{n-mA}P_{k+1}^{(i)}} = \\frac{P_{k+1+l}^{(i)}\\prod_{p=1, p \\neq i}^{j}P_{k+1}^{(p)}\\prod_{p=j+1}^m P_{k}^{(p)}}{P_{k+1-A}^{(i)}\\prod_{p=1, p \\neq i}^{j}P_{k+1-A}^{(p)}\\prod_{p=j+1}^m P_{k-A}^{(p)}}.$$\n",
    "  \n",
    "  Written in this way we can see that each factor of the numerator is divided by its corresponding factor in the denominator since $A \\geq A_i \\geq -l$. Hence each summand is a polynomial concluding that $Q_{n-mA}$ divides $L(Q_n)$.\n",
    "  \n",
    "This two points prove that $L$ is $(mA, B)$-compatible with the product basis.\n",
    "\n",
    "##### How is it implemented?\n",
    "\n",
    "In order to get a constructive approach for this prove, we need to recall what we discussed in Section 3: we need to construct the division $L(Q_n)/Q_{n-mA}$. As usual, and for later use, we will consider $n = km+j$ and each of the $j$ cases will be taken separately.\n",
    "\n",
    "If we analyze the quotient we want to study, we realize that we can express that quotient in terms of the increasing basis of each factor:\n",
    "$$\\frac{L(Q_{km+j})}{Q_{km+j-mA}} = \\left(\\sum_{i=1}^j \\frac{L(P_{k+1}^{(i)})}{P_{k+1-A}^{(i)}} \\prod_{p = 1, p \\neq i}^{j} I_{k+1-A,A}^{(p)} \\prod_{p=j+1}^m I_{k-A, A}^{(p)}\\right) + \\left(\\sum_{i=j+1}^m \\frac{L(P_{k}^{(i)})}{P_{k-A}^{(i)}} \\prod_{p = 1}^{j} I_{k+1-A,A}^{(p)} \\prod_{p=j+1, p \\neq i}^m I_{k-A, A}^{(p)}\\right),$$\n",
    "and each of those elements can be computed explicitly since each of the basis are factorial.\n",
    "\n",
    "Moreover, we can also compute the corresponding *increasing basis* from a fixed $n = km+j$. Hence we can apply the methodology in Section 3 to get the coefficients $\\alpha_{k,j,i}$. Repeating this for $j = 1,\\dots, m$ we are in a position to apply the method `get_compatibility_sections`.\n",
    "\n",
    "* When creating a Product Basis, the user can specify the names of all the derivations he wants to compute the compatibility matrix. See the documentation of `ProductBasis?` for further information.\n",
    "\n",
    "## 6. Final examples from Petkovsek's paper\n",
    "\n",
    "Now we present the final result from Petkovsek's paper putting everything together in one piece of code: the function `DefiniteSumSolutions` that is described in https://arxiv.org/abs/1804.02964v1."
   ]
  },
  {
   "cell_type": "code",
   "execution_count": 15,
   "metadata": {},
   "outputs": [],
   "source": [
    "def DefiniteSumSolutions(operator, *input):\n",
    "    r'''\n",
    "        Petkovsek's algorithm for transforming operators into recurrence equations.\n",
    "        \n",
    "        This method is the complete execution for the algorithm DefiniteSumSolutions described in\n",
    "        https://arxiv.org/abs/1804.02964v1. This methods takes the `operator` and convert the problem\n",
    "        of being solution $operator(y(x)) = 0$ to a recurrence equation assuming some hypergeometric\n",
    "        terms in the expansion.\n",
    "        \n",
    "        The operator must be a difference operator of $QQ[x]<E>$ where $E(x) = x+1$. The operator may \n",
    "        belong to a different ring from the package *ore_algebra*, but the generator must have the \n",
    "        behavior previously described.\n",
    "        \n",
    "        This function does not check the nature of the generator, so using this algorithm with different \n",
    "        types of operators may lead to some inconsistent results.\n",
    "        \n",
    "        INPUT:\n",
    "            - ``operator``: difference operator to be transformed.\n",
    "            - ``input``: the coefficients of the binomial coefficients we assume appear in the expansion\n",
    "            of the solutions. This input can be given with the following formats:\n",
    "                - `a_1,a_2,...,a_m,b_1,b_2,...,b_m`: an unrolled list of $2m$ elements.\n",
    "                - `[a_1,a_2,...,a_m,b_1,b_2,...,b_m]`: a compress list of $2m$ elements.\n",
    "                - `[a_1,...,a_m],[b_1,...,b_m]`: two lists of $m$ elements.\n",
    "    '''\n",
    "    ## Checking the input\n",
    "    if(len(input) == 1 and type(input) in (tuple, list)):\n",
    "        input = input[0];\n",
    "\n",
    "    if(len(input)%2 != 0):\n",
    "        raise TypeError(\"The input must be a even number of elements\");\n",
    "    elif(len(input) !=  2 or any(type(el) not in (list,tuple))):\n",
    "        m = len(input)/2;\n",
    "        a = input[:m]; b = input[m:];\n",
    "    else:\n",
    "        a,b = input; m = len(a);\n",
    "    \n",
    "    if(len(a) != len(b)):\n",
    "        raise TypeError(\"The length of the two arguments must be exactly the same\");\n",
    "        \n",
    "    if(any(el not in ZZ or el <= 0 for el in a)):\n",
    "        raise ValueError(\"The values for `a` must be all positive integers\");\n",
    "    if(any(el not in ZZ for el in b)):\n",
    "        raise ValueError(\"The values for `a` must be all integers\");\n",
    "        \n",
    "    ## Getting the name of the difference operator\n",
    "    E = str(operator.parent().gens()[0]);\n",
    "    \n",
    "    if(m == 1): # Non-product case\n",
    "        return BinomialBasis(a[0],b[0],E=E).recurrence(operator);\n",
    "    \n",
    "    ## Building the appropriate ProductBasis\n",
    "    B = ProductBasis([BinomialBasis(a[i],b[i],E=E) for i in range(m)], ends=[E]);\n",
    "    \n",
    "    ## Getting the compatibility matrix R(operator)\n",
    "    compatibility = B.recurrence(operator);\n",
    "    \n",
    "    ## Cleaning the appearance of Sni\n",
    "    column = [compatibility.coefficient((j,0)) for j in range(m)];\n",
    "    deg = max(el.degree(B.Sni()) for el in column);\n",
    "    column = [B.OSS()(B.reduce_SnSni(B.Sn()**deg * el)) for el in column];\n",
    "    \n",
    "    ## Extrancting the gcrd for the first column\n",
    "    result = column[0].gcrd(*column[1:]);\n",
    "    \n",
    "    return result;"
   ]
  },
  {
   "cell_type": "markdown",
   "metadata": {},
   "source": [
    "##### Example 6\n",
    "In this example, Petkovsek considered the product of the binomial basis with itself and then compute the matrix operators for both $E$ and $X$:"
   ]
  },
  {
   "cell_type": "code",
   "execution_count": 16,
   "metadata": {},
   "outputs": [
    {
     "data": {
      "text/html": [
       "<html><script type=\"math/tex; mode=display\">\\newcommand{\\Bold}[1]{\\mathbf{#1}}\\left\\{\\binom{x}{n}\\right\\}_{n\\geq 0}\\left\\{\\binom{x}{n}\\right\\}_{n\\geq 0}</script></html>"
      ],
      "text/latex": [
       "\\begin{math}\n",
       "\\newcommand{\\Bold}[1]{\\mathbf{#1}}\\left\\{\\binom{x}{n}\\right\\}_{n\\geq 0}\\left\\{\\binom{x}{n}\\right\\}_{n\\geq 0}\n",
       "\\end{math}"
      ],
      "text/plain": [
       "ProductBasis\n",
       "\t- Binomial basis (x) choose n\n",
       "\t- Binomial basis (x) choose n"
      ]
     },
     "execution_count": 16,
     "metadata": {},
     "output_type": "execute_result"
    }
   ],
   "source": [
    "example_6_basis = ProductBasis([B, B], ends=['E']);\n",
    "example_6_basis"
   ]
  },
  {
   "cell_type": "code",
   "execution_count": 17,
   "metadata": {},
   "outputs": [
    {
     "data": {
      "text/html": [
       "<html><script type=\"math/tex; mode=display\">\\newcommand{\\Bold}[1]{\\mathbf{#1}}\\left(\\begin{array}{rr}\n",
       "n & n \\mathit{Sni} \\\\\n",
       "n + 1 & n\n",
       "\\end{array}\\right)</script></html>"
      ],
      "text/latex": [
       "\\begin{math}\n",
       "\\newcommand{\\Bold}[1]{\\mathbf{#1}}\\left(\\begin{array}{rr}\n",
       "n & n \\mathit{Sni} \\\\\n",
       "n + 1 & n\n",
       "\\end{array}\\right)\n",
       "\\end{math}"
      ],
      "text/plain": [
       "[    n n*Sni]\n",
       "[n + 1     n]"
      ]
     },
     "execution_count": 17,
     "metadata": {},
     "output_type": "execute_result"
    }
   ],
   "source": [
    "example_6_basis.recurrence('x')"
   ]
  },
  {
   "cell_type": "code",
   "execution_count": 18,
   "metadata": {},
   "outputs": [
    {
     "data": {
      "text/html": [
       "<html><script type=\"math/tex; mode=display\">\\newcommand{\\Bold}[1]{\\mathbf{#1}}\\left(\\begin{array}{rr}\n",
       "\\mathit{Sn} + 1 & \\frac{2 n + 1}{n + 1} \\\\\n",
       "2 \\mathit{Sn} & \\left(\\frac{n + 1}{n + 2}\\right) \\mathit{Sn} + 1\n",
       "\\end{array}\\right)</script></html>"
      ],
      "text/latex": [
       "\\begin{math}\n",
       "\\newcommand{\\Bold}[1]{\\mathbf{#1}}\\left(\\begin{array}{rr}\n",
       "\\mathit{Sn} + 1 & \\frac{2 n + 1}{n + 1} \\\\\n",
       "2 \\mathit{Sn} & \\left(\\frac{n + 1}{n + 2}\\right) \\mathit{Sn} + 1\n",
       "\\end{array}\\right)\n",
       "\\end{math}"
      ],
      "text/plain": [
       "[                  Sn + 1        (2*n + 1)/(n + 1)]\n",
       "[                    2*Sn ((n + 1)/(n + 2))*Sn + 1]"
      ]
     },
     "execution_count": 18,
     "metadata": {},
     "output_type": "execute_result"
    }
   ],
   "source": [
    "example_6_basis.recurrence('E')"
   ]
  },
  {
   "cell_type": "markdown",
   "metadata": {},
   "source": [
    "###### Example 6.1\n",
    "\n",
    "Then, Petkovsek considered the linear operator $L = (n+1)E - 2(2n+1)$ and applies its algorithm to get a recurrence equation $L'$ such that\n",
    "$$L'(c_k) = 0\\quad \\Rightarrow\\quad L\\left(\\sum_{k \\geq 0} c_k\\binom{n}{k}^2\\right) = 0.$$"
   ]
  },
  {
   "cell_type": "code",
   "execution_count": 19,
   "metadata": {},
   "outputs": [
    {
     "data": {
      "text/html": [
       "<html><script type=\"math/tex; mode=display\">\\newcommand{\\Bold}[1]{\\mathbf{#1}}\\mathit{Sn} - 1</script></html>"
      ],
      "text/latex": [
       "\\begin{math}\n",
       "\\newcommand{\\Bold}[1]{\\mathbf{#1}}\\mathit{Sn} - 1\n",
       "\\end{math}"
      ],
      "text/plain": [
       "Sn - 1"
      ]
     },
     "execution_count": 19,
     "metadata": {},
     "output_type": "execute_result"
    }
   ],
   "source": [
    "example_6_1 = (x+1)*E - 2*(2*x+1);\n",
    "DefiniteSumSolutions(example_6_1, 1,1,0,0)"
   ]
  },
  {
   "cell_type": "markdown",
   "metadata": {},
   "source": [
    "Then we can conclude that the only solution of that form has $c_k = 1$, showing that\n",
    "$$\\left((n+1)E - 2(2x+1)\\right)\\cdot\\left(\\sum_{k\\geq 0} \\binom{n}{k}^2\\right) = 0,$$\n",
    "which makes complete sense, since\n",
    "$$\\sum_{k \\geq 0} \\binom{n}{k}^2 = \\binom{2n}{n}$$\n",
    "is annihilated by $L$.\n",
    "\n",
    "###### Example 6.2\n",
    "\n",
    "In the last example of the paper, Petkovsek studies the following difference operator:\n",
    "    $$L = 4(2n+3)^2(4n+3)E^2 - 2(4n+5)(20n^2+50n+27)E + 9(4n+7)(n+1)^2.$$\n",
    "    \n",
    "Again, we are looking for a new recurrence equation $L'$ such that $L'(c_k) = 0$ implies that $L\\left(\\sum_{k\\geq 0} c_k \\binom{n}{k}^2\\right) = 0$."
   ]
  },
  {
   "cell_type": "code",
   "execution_count": 20,
   "metadata": {
    "scrolled": false
   },
   "outputs": [
    {
     "data": {
      "text/html": [
       "<html><script type=\"math/tex; mode=display\">\\newcommand{\\Bold}[1]{\\mathbf{#1}}\\left(n + \\frac{1}{2}\\right) \\mathit{Sn} - \\frac{1}{4} n - \\frac{1}{4}</script></html>"
      ],
      "text/latex": [
       "\\begin{math}\n",
       "\\newcommand{\\Bold}[1]{\\mathbf{#1}}\\left(n + \\frac{1}{2}\\right) \\mathit{Sn} - \\frac{1}{4} n - \\frac{1}{4}\n",
       "\\end{math}"
      ],
      "text/plain": [
       "(n + 1/2)*Sn - 1/4*n - 1/4"
      ]
     },
     "execution_count": 20,
     "metadata": {},
     "output_type": "execute_result"
    }
   ],
   "source": [
    "example_6_2 = 4*(2*x+3)^2*(4*x+3)*E^2 - 2*(4*x+5)*(20*x^2+50*x+27)*E + 9*(4*x+7)*(x+1)^2;\n",
    "DefiniteSumSolutions(example_6_2, 1,1,0,0)"
   ]
  },
  {
   "cell_type": "markdown",
   "metadata": {},
   "source": [
    "Or, equivalently as a monic operator:\n",
    "$$L' = S_n - \\frac{n+1}{2(2n+1)}.$$\n",
    "\n",
    "Using other tools we can check that $h_k = \\frac{1}{\\binom{2k}{k}}$ is annihilated by $L'$, so we can conclude that the solution $(y_n)_{n\\geq 0} = \\left(\\sum_{k\\geq 0}c_k\\binom{n}{k}\\right)_{n\\geq 0}$ is the sequence\n",
    "$$y_n = \\sum_{k \\geq 0} \\frac{\\binom{x}{n}^2}{\\binom{2k}{k}}.$$"
   ]
  },
  {
   "cell_type": "markdown",
   "metadata": {},
   "source": [
    "## 7. Extending sets to basis with Product basis\n",
    "\n",
    "We may be interested in study recurrence with the kernel $\\binom{x+n}{2n}$:\n",
    "$$\\binom{x+n}{2n} \\longrightarrow \\left\\{1, \\frac{1}{2} x^{2} + \\frac{1}{2} x, \\frac{1}{24} x^{4} + \\frac{1}{12} x^{3} - \\frac{1}{24} x^{2} - \\frac{1}{12} x, \\frac{1}{720} x^{6} + \\frac{1}{240} x^{5} - \\frac{1}{144} x^{4} - \\frac{1}{48} x^{3} + \\frac{1}{180} x^{2} + \\frac{1}{60}x, \\ldots\\right\\}.$$\n",
    "\n",
    "We can see in this example that these elements are always polynomials of even degree. This is clearly not a polynomial basis, since all the odd degrees are missing. However, in each step, we are adding 2 new roots to the polynomials:\n",
    "$$\\frac{\\binom{x+n+1}{2(n+1)}}{\\binom{x+n}{2n}} = \\frac{x^2 + x - n(n+1)}{2(2n^2+3n+1)} \\in \\qq(n)[x],$$\n",
    "which leads, in the step $n$ to add the following two roots:\n",
    "$$n,\\qquad -n-1.$$\n",
    "\n",
    "We can now consider the two factorial basis generated by the root sequences $(n)_{n \\in  \\nn}$ and $(-n-1)_{n\\in \\nn}$:\n",
    "$$(n)_{n\\in \\nn} \\longrightarrow \\left\\{1,\\ x,\\ x(x-1),\\ x(x-1)(x-2),\\ \\ldots\\right\\} = \\{(x)^{\\underline{n}}\\ :\\ n\\in \\nn\\}.$$\n",
    "$$(-n-1)_{n\\in \\nn} \\longrightarrow \\left\\{1,\\ (x+1),\\ (x+1)(x+2),\\ \\ldots\\right\\} = \\{(x+1)^{\\overline{n}}\\ :\\ n\\in \\nn\\}.$$\n",
    "\n",
    "These two type of basis are included in the package in the class ``FallingBasis``:"
   ]
  },
  {
   "cell_type": "code",
   "execution_count": 21,
   "metadata": {},
   "outputs": [
    {
     "data": {
      "text/html": [
       "<html><script type=\"math/tex; mode=display\">\\newcommand{\\Bold}[1]{\\mathbf{#1}}\\left\\{(x)^{\\underline{n}}\\right\\}_{n \\geq 0}</script></html>"
      ],
      "text/latex": [
       "\\begin{math}\n",
       "\\newcommand{\\Bold}[1]{\\mathbf{#1}}\\left\\{(x)^{\\underline{n}}\\right\\}_{n \\geq 0}\n",
       "\\end{math}"
      ],
      "text/plain": [
       "Falling Factorial Basis (1, x, x(x-1),...)"
      ]
     },
     "execution_count": 21,
     "metadata": {},
     "output_type": "execute_result"
    }
   ],
   "source": [
    "b1 = FallingBasis(1,0,1); b1"
   ]
  },
  {
   "cell_type": "code",
   "execution_count": 22,
   "metadata": {},
   "outputs": [
    {
     "data": {
      "text/html": [
       "<html><script type=\"math/tex; mode=display\">\\newcommand{\\Bold}[1]{\\mathbf{#1}}\\left\\{(x + 1)^{\\overline{n}}\\right\\}_{n \\geq 0}</script></html>"
      ],
      "text/latex": [
       "\\begin{math}\n",
       "\\newcommand{\\Bold}[1]{\\mathbf{#1}}\\left\\{(x + 1)^{\\overline{n}}\\right\\}_{n \\geq 0}\n",
       "\\end{math}"
      ],
      "text/plain": [
       "Raising Factorial Basis (1, x + 1, x + 1(x + 1+1),...)"
      ]
     },
     "execution_count": 22,
     "metadata": {},
     "output_type": "execute_result"
    }
   ],
   "source": [
    "b2 = FallingBasis(1,1,-1); b2"
   ]
  },
  {
   "cell_type": "markdown",
   "metadata": {},
   "source": [
    "We can see with our code how this Product basis that we have created is proportional to the basis that we would have got if we would extend the set $\\binom{x+n}{2n}$ with the extra binomial coefficient $\\binom{x+n}{2n+1}$:"
   ]
  },
  {
   "cell_type": "code",
   "execution_count": 23,
   "metadata": {},
   "outputs": [
    {
     "data": {
      "text/html": [
       "<html><script type=\"math/tex; mode=display\">\\newcommand{\\Bold}[1]{\\mathbf{#1}}\\Bold{Q}[n][x]</script></html>"
      ],
      "text/latex": [
       "\\begin{math}\n",
       "\\newcommand{\\Bold}[1]{\\mathbf{#1}}\\Bold{Q}[n][x]\n",
       "\\end{math}"
      ],
      "text/plain": [
       "Univariate Polynomial Ring in x over Univariate Polynomial Ring in n over Rational Field"
      ]
     },
     "execution_count": 23,
     "metadata": {},
     "output_type": "execute_result"
    }
   ],
   "source": [
    "x.parent()"
   ]
  },
  {
   "cell_type": "code",
   "execution_count": 24,
   "metadata": {},
   "outputs": [],
   "source": [
    "B = ProductBasis([b1,b2]).scalar(1/factorial(n))"
   ]
  },
  {
   "cell_type": "code",
   "execution_count": 25,
   "metadata": {},
   "outputs": [
    {
     "data": {
      "text/html": [
       "<html><script type=\"math/tex; mode=display\">\\newcommand{\\Bold}[1]{\\mathbf{#1}}\\left[1, x, \\frac{1}{2} x^{2} + \\frac{1}{2} x, \\frac{1}{6} x^{3} - \\frac{1}{6} x, \\frac{1}{24} x^{4} + \\frac{1}{12} x^{3} - \\frac{1}{24} x^{2} - \\frac{1}{12} x\\right]</script></html>"
      ],
      "text/latex": [
       "\\begin{math}\n",
       "\\newcommand{\\Bold}[1]{\\mathbf{#1}}\\left[1, x, \\frac{1}{2} x^{2} + \\frac{1}{2} x, \\frac{1}{6} x^{3} - \\frac{1}{6} x, \\frac{1}{24} x^{4} + \\frac{1}{12} x^{3} - \\frac{1}{24} x^{2} - \\frac{1}{12} x\\right]\n",
       "\\end{math}"
      ],
      "text/plain": [
       "[1,\n",
       " x,\n",
       " 1/2*x^2 + 1/2*x,\n",
       " 1/6*x^3 - 1/6*x,\n",
       " 1/24*x^4 + 1/12*x^3 - 1/24*x^2 - 1/12*x]"
      ]
     },
     "execution_count": 25,
     "metadata": {},
     "output_type": "execute_result"
    }
   ],
   "source": [
    "B[:5]"
   ]
  },
  {
   "cell_type": "markdown",
   "metadata": {},
   "source": [
    "Since this basis is built as a product of two Factorial basis, we have automatically a compatibility by multiplication by $x$:"
   ]
  },
  {
   "cell_type": "code",
   "execution_count": 26,
   "metadata": {},
   "outputs": [
    {
     "data": {
      "text/html": [
       "<html><script type=\"math/tex; mode=display\">\\newcommand{\\Bold}[1]{\\mathbf{#1}}\\left(\\begin{array}{rr}\n",
       "n & \\left(2 n\\right) \\mathit{Sni} \\\\\n",
       "2 n + 1 & -n - 1\n",
       "\\end{array}\\right)</script></html>"
      ],
      "text/latex": [
       "\\begin{math}\n",
       "\\newcommand{\\Bold}[1]{\\mathbf{#1}}\\left(\\begin{array}{rr}\n",
       "n & \\left(2 n\\right) \\mathit{Sni} \\\\\n",
       "2 n + 1 & -n - 1\n",
       "\\end{array}\\right)\n",
       "\\end{math}"
      ],
      "text/plain": [
       "[      n 2*n*Sni]\n",
       "[2*n + 1  -n - 1]"
      ]
     },
     "execution_count": 26,
     "metadata": {},
     "output_type": "execute_result"
    }
   ],
   "source": [
    "B.recurrence('x')"
   ]
  },
  {
   "cell_type": "markdown",
   "metadata": {},
   "source": [
    "Here we have an interesting phenomena: the falling factorial basis $(x)^{\\underline n}$ is not compatible with the shift \n",
    "operator $E$ but this operator is compatible with the product basis of the two basis. We can see it from Proposition 3 in Petkovsek's paper, which characterize that a factorial basis $\\basis$ is compatible with $E$ if and only if, for all $k \\in \\nn$ the root sequence of $\\basis$ the following inclusion of multisets holds:\n",
    "$$[\\rho_1 + 1,\\ldots \\rho_k + 1] \\subseteq [\\rho_1,\\rho_2,\\ldots,\\rho_{k+A}],$$\n",
    "and in the particular case of the basis containing the binomial coefficients $\\binom{x+n}{2n}$, we have that for $A = 2$ this\n",
    "condition holds:"
   ]
  },
  {
   "cell_type": "code",
   "execution_count": 27,
   "metadata": {},
   "outputs": [
    {
     "name": "stdout",
     "output_type": "stream",
     "text": [
      "[1, 0, 2, -1, 3, -2, 4, -3, 5, -4]\n",
      "[0, -1, 1, -2, 2, -3, 3, -4, 4, -5, 5, -6]\n"
     ]
    },
    {
     "data": {
      "text/html": [
       "<html><script type=\"math/tex; mode=display\">\\newcommand{\\Bold}[1]{\\mathbf{#1}}\\mathrm{True}</script></html>"
      ],
      "text/latex": [
       "\\begin{math}\n",
       "\\newcommand{\\Bold}[1]{\\mathbf{#1}}\\mathrm{True}\n",
       "\\end{math}"
      ],
      "text/plain": [
       "True"
      ]
     },
     "execution_count": 27,
     "metadata": {},
     "output_type": "execute_result"
    }
   ],
   "source": [
    "def multiset_inclusion(l1, l2):\n",
    "    aux = [el for el in l2]\n",
    "    for el in l1:\n",
    "        if(el in aux):\n",
    "            aux.remove(el)\n",
    "        else:\n",
    "            return False\n",
    "    return True\n",
    "        \n",
    "print([B.root_sequence()(i)+1 for i in range(10)])\n",
    "print([B.root_sequence()(i) for i in range(10+2)])\n",
    "all(\n",
    "    multiset_inclusion(\n",
    "        [B.root_sequence()(i)+1 for i in range(k)], \n",
    "        [B.root_sequence()(i) for i in range(k+2)]) \n",
    "    for k in range(20)\n",
    ")"
   ]
  },
  {
   "cell_type": "markdown",
   "metadata": {},
   "source": [
    "## 8. Sieved basis\n",
    "\n",
    "We are going to condier now another type of generalization of the Product basis. Remember that for a Product basis, we started with a set of basis $\\basis_1,\\ldots,\\basis_m$ and we _interlaced_ them in an appropriate way, namely:\n",
    "    $$P_{qm+r}(x) = \\prod_{i=1}^{r}P_{i,q+1}(x) \\prod_{i=r+1}^{m}P_{i,q}(x).$$\n",
    "    \n",
    "If we consider polynomial basis and we look into the root sequence, we are interlecing the $m$ sequences of roots for each of the factors of our basis. But we could create a new sequence in a very different way. For example, if we have two sequences, we could create the following root sequence:\n",
    "    $$[\\rho_{1,1},\\rho_{1,2},\\rho_{2,1},\\rho_{1,3},\\rho_{1,4},\\rho_{2,2},\\ldots],$$\n",
    "i.e., we take two roots from the first basis and one root from the second basis. We could even mix them even more. In this section we are going to study this type of basis, that will allow us to build more examples automatically.\n",
    "\n",
    "**Definition:** let $m \\in \\nn\\setminus\\{0\\}$ and $\\mathbf{c} = (c_1,\\ldots,c_k) \\in \\{1,\\ldots,m\\}^k$. Let $\\basis_1,\\ldots,\\basis_m$ be $m$ basis with general term $P_{i,n}(x)$. We defined the $\\mathbf{c}$-sieved basis of \n",
    "$\\basis_1,\\ldots,\\basis_m$ to be the basis $\\basis$ where:\n",
    "    $$Q_{n}(x) = \\prod_{i=1}^m P_{i,d_i(n)}(x),$$\n",
    "and the vector $\\mathbf{d}(n) = (d_1(n),\\ldots,d_m(n))$ is defined recursively by:\n",
    "* $\\mathbf{d}(0) = (0,\\ldots,0)$.\n",
    "* For $n = qk+r$, $\\mathbf{d}(n) = \\mathbf{d}(n-1)+\\mathbf{e}_{c_r}$.\n",
    "\n",
    "We define the _order of the basis $\\basis_i$_, and denote it by $C(i)$ to the amount of times that $i$ appears in $\\mathbf{c}$.\n",
    "\n",
    "**Lemma:** let $m \\in \\nn\\setminus\\{0\\}$ and $\\mathbf{c} = (c_1,\\ldots,c_k) \\in \\{1,\\ldots,m\\}^k$. Let $\\basis_1,\\ldots,\\basis_m$ be $m$ basis with general term $P_{i,n}(x)$ and $\\basis$ the $\\mathbf{c}$-sieved basis of \n",
    "$\\basis_1,\\ldots,\\basis_m$. \n",
    "1. If all $\\basis_i$ are polynomial basis, then $\\basis$ is a polynomial basis.\n",
    "2. If all $\\basis_i$ are order basis, then $\\basis$ is an order basis.\n",
    "3. If all $\\basis_i$ are factorial basis, then $\\basis$ is a factorial basis.\n",
    "\n",
    "Proving (1) and (2) is trivial since it is clear that $\\deg(Q_n(x)) = d_1(n) + \\ldots + d_m(n) = |\\mathbf{d}(n)|$ and the same happens with the order. Now, proving that $|\\mathbf{d}(n)| = n$ is trivial by its definition.\n",
    "\n",
    "Proving (3) is also trivial, although writing the details may be rather technical. First, let $D(i,r)$ denote the amount of \n",
    "times $c_t = i$ for $1 \\leq t \\leq r$. We can observe that $D(i,r) = C(i)$ for all $r \\geq k$. With this notation we can write\n",
    "more explicitly the value $d_i(n)$:\n",
    "$$d_i(qk+r) = qC(i)+D(i,r).$$\n",
    "Now, for the quotient between one element and the next in the basis:\n",
    "$$\\frac{Q_{qk+r}}{Q_{qk+r-1}} = \\frac{P_{c_r,d(qk+r)}(x)}{P_{c_r,d(qk+r)-1}(x)},$$\n",
    "which, since the basis $\\basis$ is a factorial basis, is a polynomial of degree 1.\n",
    "\n",
    "**_Remark_:** the Product basis of $\\basis_1,\\ldots,\\basis_m$  is the $(1,2,\\ldots,m)$-sieved basis.\n",
    "\n",
    "**_Notation_:** from this point on, we will fix the following notation:\n",
    "* $\\basis_i = (P_{i,n}(x))_{n\\in \\nn}$ are factorial basis.\n",
    "* $\\mathbf{c} = (c_1,\\ldots, c_k) \\in \\{1,\\ldots,m\\}^k$.\n",
    "* $\\basis = (Q_n(x))$ is the $\\mathbf{c}$-sieved basis of $\\basis_1,\\ldots,\\basis_m$.\n",
    "* For any operator $L$ compatible with all basis, we write the compatibility condition as:\n",
    "$$L(P_{i,n}(x)) = \\sum_{j=-A_i}^{B_i} \\alpha_{i,j}(n)P_{i,n+j}(x).$$"
   ]
  },
  {
   "cell_type": "markdown",
   "metadata": {},
   "source": [
    "### Extending the compatibility of multiplication by $X$\n",
    "\n",
    "We have this guaranteed by the fact that $\\basis$ is a factorial basis that this is $(0,1)$-compatible. in fact, the appropriate addaptation from the case of Product basis is enough to get the actual compatibility formula. Let $n = qk+r$, then\n",
    "we have that\n",
    "$$xQ_n(x) = x\\prod_{i=1}^m P_{i,d_i(n)} = \\left(xP_{c_{r+1},d_{c_{r+1}}(n)}(x)\\right) \\prod_{\\begin{matrix}i = 1,\\ldots,m\\\\i \\neq c_{r+1}\\end{matrix}} P_{i,d_i(n)}(x).$$\n",
    "\n",
    "Since $\\basis_{c_{r+1}}$ is a factorial basis, then we have:\n",
    "$$xP_{c_{r+1},d_{c_{r+1}}(n)}(x) = \\alpha_{c_{r+1},0}(d_{c_{r+1}}(n))P_{c_{r+1},d_{c_{r+1}}(n)}(x) + \\alpha_{c_{r+1},1}(d_{c_{r+1}}(n))P_{c_{r+1},d_{c_{r+1}}(n)+1}(x),$$\n",
    "and plugging in this into the whole product, we obtain:\n",
    "$$xQ_n(x) = \\alpha_{c_{r+1},0}(d_{c_{r+1}}(n))Q_n(x) + \\alpha_{c_{r+1},1}(d_{c_{r+1}}(n))Q_{n+1}(x).$$\n",
    "\n",
    "##### How is it implemented?\n",
    "\n",
    "_To be done_"
   ]
  },
  {
   "cell_type": "markdown",
   "metadata": {},
   "source": [
    "### Extending the compatibility of endomorphisms\n",
    "\n",
    "We are going to use Proposition 2 from Petkovsek's paper for proving the compatibility of an endomorphism $L$ for $\\basis$ assuming that $L$ is compatible with all the basis $\\basis_1,\\ldots,\\basis_m$. Hence we need to prove two main conditions:\n",
    "* We can bound the degree of $L(Q_n)$ for all $n$: we do the same proof as in the Product basis. We can expand $Q_n(x)$ in terms of the basis $\\basis_i$ respectively, getting an expression \n",
    "$$Q_n(x) = \\sum_{j=0}^n \\gamma_{i,j}P_{i,j}(x),$$\n",
    "  so applying $L$ to $Q_n(x)$ has an expression of the shape:\n",
    "$$L(Q_n(x)) = \\sum_{j=0}^{n+B_i} \\mu_{i,j}(n)P_{i,j}(x),$$\n",
    "  which bounds the degree of $L(Q_n(x))$ by $n+B_i$ for all $i = 1,\\ldots,m$. Hence, $\\deg(L(Q_n(x))) \\leq n + \\min\\{B_1,\\ldots,B_m\\}$.\n",
    "* We can divide $L(Q_n)$ by an element of the basis $Q_{n-A}$. Consider $A = k\\tilde{A}$ such that $\\tilde{A} \\geq \\frac{A_i}{C(i)}$ for all $i = 1,\\ldots,m$, i.e.:\n",
    "$$\\tilde{A} = \\max\\left\\{\\left\\lceil\\frac{A_i}{C(i)}\\right\\rceil\\ :\\ i=1,\\ldots,m\\right\\}.$$\n",
    "  (_This coindicide with the bound for the product basis, since $C(i) = 1$ in that case_.) Now we can write:\n",
    "$$\\begin{array}{rl}\n",
    "    \\displaystyle\\frac{L(Q_{qk+r}(x))}{Q_{qk+r-A}(x)} & = \\displaystyle\\prod_{i=1}^m\\frac{L(P_{i,d_i(n)}(x))}{P_{i,d_i(n-A)}(x)}\n",
    "\\end{array}.$$\n",
    "\n",
    "  Using the definition of the vector $\\mathbf{d}(n)$, it is clear that $d_i(n+k) = d_i(n)+C(i)$ for all $n\\in \\nn$, hence, since $A = k\\tilde{A}$, we have that:\n",
    "$$P_{i,d_i(n-A)}(x) = P_{i, d_i(n) - C(i)\\tilde{A}}(x),$$\n",
    "  and using the definition of $\\tilde{A}$, we have that $C(i)\\tilde{A} \\geq A_i$, so we have $P_{i,d_i(n-A)}(x)$ divides the corresponding $L(P_{i,d_i(n)}(x))$. This is true for all $i = 1,\\ldots, m$, showing that $Q_{n-A}(x)$ divides $L(Q_{n}(x))$ for all $n \\in \\nn.$\n",
    "  \n",
    "**Conclusion**: the operator $L$ is $(A,B)$-compatible with $\\basis$ for the values $A$ and $B$ defined above.\n",
    "\n",
    "##### How is it implemented?\n",
    "\n",
    "_To be done_"
   ]
  },
  {
   "cell_type": "markdown",
   "metadata": {},
   "source": [
    "### Extending the compatibility of derivations\n",
    "\n",
    "Again, we use Proposition 2 from Petkovsek's paper to prove that we can extend the compatibility of a derivation $L$ compatible with all basis $\\basis_1,\\ldots,\\basis_m$ to the basis $\\basis$. We need to prove the two condition **(C1)** and **(C2)**:\n",
    "* For proving **(C1)**, we do the same proof as in the Product basis or the case of the endomorphisms (see above).\n",
    "* For proving **(C2)**, we need to use the Leibniz rule for the derivation and expand $L(Q_n(x))$ in a sum. Then, for each summand we will check the divisibility condition taking, again, $A = k\\tilde{A}$, as it was chosen for the endomorphisms (see definition above).\n",
    "  First of all, let see how the Leibniz rule splits $L(Q_n(x))$ into a sum:\n",
    "  $$\\begin{array}{rl}L(Q_n(x)) & = L\\left(\\displaystyle\\prod_{i=1}^m P_{i,d_i(n)}(x)\\right) = \\displaystyle\\sum_{i=1}^m \\left(L(P_{i,d_i(n)}(x)) \\displaystyle\\prod_{\\begin{matrix}j=1,\\dots,m\\\\i\\neq j\\end{matrix}} P_{j,d_j(n)}(x)\\right).\\\\\n",
    "  & = \\displaystyle\\sum_{i=1}^m \\displaystyle\\sum_{h=-A_i}^{B_i} \\left(\\alpha_{i,h}(d_i(n))P_{i,d_i(n)+h}(x)\\displaystyle\\prod_{\\begin{matrix}j=1,\\dots,m\\\\i\\neq j\\end{matrix}} P_{j,d_j(n)}(x)\\right)\n",
    "  \\end{array}$$\n",
    "  \n",
    "  Each summand has a polynomial factor. If we divide it by $Q_{n-A}(x)$, and using again that $d_j(n-A) = d_j(n) - C(j)\\tilde{A}$, we have that:\n",
    "  $$\\displaystyle\\frac{\\prod_{j=1}^m P_{j,d_j(n)+\\delta_{j,i}h}(x)}{\\prod_{j=1}^m P_{j,d_j(n)-C(j)\\tilde{A}}(x)} = \\displaystyle\\prod_{j=1}^m\\left(\\displaystyle\\frac{P_{j,d_j(n)+\\delta_{j,i}h}(x)}{P_{j,d_j(n)-C(j)\\tilde{A}}(x)}\\right).$$\n",
    "  \n",
    "  If $i \\neq j$, it is clear that this division is exact, since $C(j)\\tilde{A} \\geq 0$ and $\\basis_j$ is a factorial basis. For the particular case $j = i$, we have the euotient:\n",
    "  $$\\frac{P_{i,d_i(n) + h}(x)}{P_{i,d_i(n)-C(i)\\tilde{A}}(x)}.$$\n",
    "  Since $h \\geq -A_i$ and we have chosen $\\tilde{A}$ is such a way that $C(i)\\tilde{A} \\geq A_i$, hence, we cocnclude that\n",
    "  $$d(n) + h \\geq d_i(n) - C(i)\\tilde{A},$$\n",
    "  and by the fact that $\\basis_i$ is a factorial basis, we conclude that this division is also exact. This happens for every summand in $L(Q_n(x)$, so we conclude that $Q_{n-A}(x)$ divides $L(Q_n(x))$ for all $n \\in \\nn$.\n",
    "  \n",
    "**Conclusion:** the derivation $L$ is $(B,A)$-compatible with $\\basis$ where $A$ and $B$ are described above.\n",
    "\n",
    "\n",
    "##### How is it implemented?\n",
    "\n",
    "_To be done_"
   ]
  },
  {
   "cell_type": "markdown",
   "metadata": {},
   "source": [
    "## 9. Relation with composition\n",
    "\n",
    "Let $f(x) \\in K[[x]]$ with $f(0) = 0$ and $f'(0) \\neq 0$. Then it is easy to check that the set $\\{1, f(x), f(x)^2,\\ldots\\}$ is an order basis of $K[[x]]$. Then for any compatible operator $L$ we can find a holonomic $\\tilde{L}$ recurrence operator such that if $g(x) = \\sum c_n x^n$ and $\\tilde{L} \\cdot (c_n) = 0$, then any solution of $L\\cdot y(x) = 0$ is of the form $y(x) = g(f(x))$.\n",
    "\n",
    "Then the question arises naturally: given $f(x)$ a D-finite function, which operators are compatible with its corresponding basis.\n",
    "\n",
    "#### 9.1. The exponential function\n",
    "\n",
    "Let start with a simple function: the exponential $e^x$. The first thing to look at is that the exponential does not satifies the conditions on initial values to be suitable of forming a basis of $K[[x]]$. That is not a problem: we only consider $f(x) = (e^x -1)$.\n",
    "\n",
    "Let $f_n(x) = (e^x-1)^n$, we have clearly that $\\{ f_n\\ :\\ n \\in \\nn\\}$ is a basis of $K[[x]]$. The compatibilities we may find easily are:\n",
    "* $f_1 f_n = f_{n+1}$.\n",
    "* $e^x f_n = (f_1  + 1)f_n = f_{n+1} + f_n$.\n",
    "* $\\partial f_n = n e^x f_{n-1} = nf_n + n f_{n+1}$.\n",
    "\n",
    "**Proposition:** any linear differential operator generated by $e^x$ and $\\partial$ can be expressed as a composition of a D-finite function and the exponential.\n",
    "\n",
    "###### What is it implemented?\n",
    "\n",
    "In the package ``psbasis`` the user may find a subpackage called ``func_basis`` that contains the code for expressing the compatibilities with the exponential basis.\n",
    "\n",
    "In fact, the object ``ExponentialBasis`` has all the previous information available so we can start experimenting with this basis.\n"
   ]
  },
  {
   "cell_type": "code",
   "execution_count": 23,
   "metadata": {},
   "outputs": [],
   "source": [
    "EB = ExponentialBasis(); \n",
    "oE = EB.recurrence('E'); oD = EB.recurrence('Dx');"
   ]
  },
  {
   "cell_type": "markdown",
   "metadata": {},
   "source": [
    "**Equation $(\\partial - e^x)\\cdot y(x) = 0$.**\n",
    "\n",
    "Assume we know that the initial conditions of $y(x)$ are $1,1,2,5,15$. Since the differential equation only involves $\\partial$ and $e^x$, then $y(x) = g(e^x-1)$. \n",
    "\n",
    "Using the compatibility conditions we conclude that the generating sequence of $g(x)$ satisfies the following recurrence:"
   ]
  },
  {
   "cell_type": "code",
   "execution_count": 24,
   "metadata": {},
   "outputs": [
    {
     "data": {
      "text/html": [
       "<html><script type=\"math/tex; mode=display\">\\newcommand{\\Bold}[1]{\\mathbf{#1}}\\left(n + 1\\right) \\mathit{Sn} - \\mathit{Sni} + n - 1</script></html>"
      ],
      "text/plain": [
       "(n + 1)*Sn - Sni + n - 1"
      ]
     },
     "execution_count": 24,
     "metadata": {},
     "output_type": "execute_result"
    }
   ],
   "source": [
    "rec_g = oD - oE; rec_g"
   ]
  },
  {
   "cell_type": "markdown",
   "metadata": {},
   "source": [
    "Using the initial conditions we have directly that the initial conditions for $g(x)$ are $1,1,1,1,1$, and using the equivalence between holonomic recurrence and holonomic functions, we can compute the D-finite differential equation for $g(x)$:"
   ]
  },
  {
   "cell_type": "code",
   "execution_count": 25,
   "metadata": {},
   "outputs": [],
   "source": [
    "def SnSni_toDx(psbasis, operator, toDx):\n",
    "    R = operator.parent(); Sn = R('Sn'); Sni = R('Sni'); n = R.base()('n');\n",
    "    S = OreAlgebra(R.base(), ('Sn', lambda p : p(n=n+1), lambda p : 0));\n",
    "    return S(str(psbasis.reduce_SnSni((Sn**operator.degree(Sni))*operator))).to_D(toDx);\n",
    "\n",
    "def build_DFinite(psbasis, operator, initial):    \n",
    "    RDx = OreAlgebra(PolynomialRing(QQ, 'x'), ('Dx', lambda p : p, lambda p : p.derivative()));\n",
    "    return DFinite.element(SnSni_toDx(psbasis,operator, RDx), initial);"
   ]
  },
  {
   "cell_type": "code",
   "execution_count": 26,
   "metadata": {},
   "outputs": [
    {
     "data": {
      "text/html": [
       "<html><script type=\"math/tex; mode=display\">\\newcommand{\\Bold}[1]{\\mathbf{#1}}\\left\\{\\begin{array}{c}\n",
       "\\left( x^{2} + x \\right) f^{(3)}(x) + \\left( -x^{2} + 3 x + 2 \\right) f''(x) + \\left( -4 x \\right) f'(x) - 2 f(x) = 0,\\\\\n",
       "\\hdashline\n",
       "f(0) = 1, f'(0) = 1, f''(0) = 1, f^{(3)}(0) = 1\\end{array}\\right.</script></html>"
      ],
      "text/plain": [
       "(3:3:8)DD-Function in (DD-Ring over (Univariate Polynomial Ring in x over Rational Field))"
      ]
     },
     "execution_count": 26,
     "metadata": {},
     "output_type": "execute_result"
    }
   ],
   "source": [
    "g = build_DFinite(EB, rec_g, [1,1,1,1]); g"
   ]
  },
  {
   "cell_type": "markdown",
   "metadata": {},
   "source": [
    "Then $y(x)$ was DD-finite (we knew from the differential equation) is the composition of two D-finite functions.\n",
    "\n",
    "**Equation $(\\partial^2 - e^x\\partial + e^{2x})\\cdot y(x) = 0$.**\n",
    "\n",
    "For this example we are going to use the ``sequences`` package, developed in parallel to get the initial conditions of $g(x)$ automatically. "
   ]
  },
  {
   "cell_type": "code",
   "execution_count": 29,
   "metadata": {},
   "outputs": [
    {
     "data": {
      "text/html": [
       "<html><script type=\"math/tex; mode=display\">\\newcommand{\\Bold}[1]{\\mathbf{#1}}\\left\\{\\begin{array}{c}\n",
       "\\left( x^{4} + 2 x^{3} + x^{2} \\right) f^{(6)}(x) + \\left( -x^{4} + 15 x^{3} + 24 x^{2} + 8 x \\right) f^{(5)}(x) + \\left( x^{4} - 14 x^{3} + 61 x^{2} + 72 x + 12 \\right) f^{(4)}(x) + \\left( 16 x^{3} - 48 x^{2} + 68 x + 48 \\right) f^{(3)}(x) + \\left( 72 x^{2} - 24 x + 12 \\right) f''(x) + \\left( 96 x + 24 \\right) f'(x) + \\left( 24 \\right) f(x) = 0,\\\\\n",
       "\\hdashline\n",
       "f(0) = 1, f'(0) = 0, f''(0) = -1, f^{(3)}(0) = 0, f^{(4)}(0) = -1, f^{(5)}(0) = 6, f^{(6)}(0) = -27\\end{array}\\right.</script></html>"
      ],
      "text/plain": [
       "(6:6:24)DD-Function in (DD-Ring over (Univariate Polynomial Ring in x over Rational Field))"
      ]
     },
     "execution_count": 29,
     "metadata": {},
     "output_type": "execute_result"
    }
   ],
   "source": [
    "from sequences import *;\n",
    "y = DDFinite.element([Exp(2*x), - Exp(x), 1], [1,0]);\n",
    "rec_g = oD^2 - oE*oD + oE^2;\n",
    "g = build_DFinite(EB, rec_g, []);\n",
    "seq_g = inverse_faa_f(DDSequence(Exp(x)-1, True), DDSequence(y, True));\n",
    "g = g.change_init_values([seq_g[i] for i in range(4)]);\n",
    "g"
   ]
  },
  {
   "cell_type": "code",
   "execution_count": 30,
   "metadata": {},
   "outputs": [
    {
     "data": {
      "text/html": [
       "<html><script type=\"math/tex; mode=display\">\\newcommand{\\Bold}[1]{\\mathbf{#1}}\\mathrm{True}</script></html>"
      ],
      "text/plain": [
       "True"
      ]
     },
     "execution_count": 30,
     "metadata": {},
     "output_type": "execute_result"
    }
   ],
   "source": [
    "g(Exp(x)-1) == y"
   ]
  },
  {
   "cell_type": "markdown",
   "metadata": {},
   "source": [
    "## 10. The problems from Marko's email\n",
    "\n",
    "In his lst email, Marko's said that there seems to be an error in the shieved case. In order to show it, he proposed another way to compute the new sequence that will satisfy the P-finite recurrence.\n",
    "\n",
    "Let $P_n(x)$ be the polynomial basis written in the following form:\n",
    "$$P_n(x) = \\sum_{k=0}^n K(n,k) x^k.$$\n",
    "\n",
    "This, if we consider $K(n,k) = 0$ for all $k > n$, can be written as a matrix-vector multiplication:\n",
    "$$\\begin{pmatrix}P_0(x)\\\\P_1(x)\\\\P_2(x)\\\\P_3(x)\\\\\\vdots\\end{pmatrix} = \n",
    "\\begin{pmatrix}\n",
    "K(0,0) & 0 & 0 & 0 & \\ldots\\\\\n",
    "K(1,0) & K(1,1) & 0 & 0 & \\ldots\\\\\n",
    "K(2,0) & K(2,1) & K(2,2) & 0 & \\ldots\\\\\n",
    "K(3,0) & K(3,1) & K(3,2) & K(3,3) & \\ldots\\\\\n",
    "\\vdots&\\vdots&\\vdots&\\vdots&\\ddots\n",
    "\\end{pmatrix} \\begin{pmatrix}1\\\\x\\\\x^2\\\\x^3\\\\\\vdots\\end{pmatrix}.$$\n",
    "\n",
    "We will denoted $K(n,k) = a_{n,k}$ for simplicity: "
   ]
  },
  {
   "cell_type": "code",
   "execution_count": 8,
   "metadata": {},
   "outputs": [
    {
     "data": {
      "text/html": [
       "<html><script type=\"math/tex; mode=display\">\\newcommand{\\Bold}[1]{\\mathbf{#1}}\\left(\\begin{array}{rrrrr}\n",
       "1 & 0 & 0 & 0 & 0 \\\\\n",
       "0 & 1 & 0 & 0 & 0 \\\\\n",
       "0 & -\\frac{1}{2} & \\frac{1}{2} & 0 & 0 \\\\\n",
       "0 & \\frac{1}{3} & -\\frac{1}{2} & \\frac{1}{6} & 0 \\\\\n",
       "0 & -\\frac{1}{4} & \\frac{11}{24} & -\\frac{1}{4} & \\frac{1}{24}\n",
       "\\end{array}\\right)</script></html>"
      ],
      "text/plain": [
       "[    1     0     0     0     0]\n",
       "[    0     1     0     0     0]\n",
       "[    0  -1/2   1/2     0     0]\n",
       "[    0   1/3  -1/2   1/6     0]\n",
       "[    0  -1/4 11/24  -1/4  1/24]"
      ]
     },
     "execution_count": 8,
     "metadata": {},
     "output_type": "execute_result"
    }
   ],
   "source": [
    "B.basis_matrix(5,5)"
   ]
  },
  {
   "cell_type": "code",
   "execution_count": 9,
   "metadata": {},
   "outputs": [
    {
     "data": {
      "text/html": [
       "<html><script type=\"math/tex; mode=display\">\\newcommand{\\Bold}[1]{\\mathbf{#1}}\\left(\\begin{array}{rrrr}\n",
       "1 & 0 & 0 & 0 \\\\\n",
       "0 & 2 & 0 & 0 \\\\\n",
       "-2 & 0 & 4 & 0 \\\\\n",
       "0 & -12 & 0 & 8 \\\\\n",
       "12 & 0 & -48 & 0 \\\\\n",
       "0 & 120 & 0 & -160 \\\\\n",
       "-120 & 0 & 720 & 0 \\\\\n",
       "0 & -1680 & 0 & 3360 \\\\\n",
       "1680 & 0 & -13440 & 0 \\\\\n",
       "0 & 30240 & 0 & -80640\n",
       "\\end{array}\\right)</script></html>"
      ],
      "text/plain": [
       "[     1      0      0      0]\n",
       "[     0      2      0      0]\n",
       "[    -2      0      4      0]\n",
       "[     0    -12      0      8]\n",
       "[    12      0    -48      0]\n",
       "[     0    120      0   -160]\n",
       "[  -120      0    720      0]\n",
       "[     0  -1680      0   3360]\n",
       "[  1680      0 -13440      0]\n",
       "[     0  30240      0 -80640]"
      ]
     },
     "execution_count": 9,
     "metadata": {},
     "output_type": "execute_result"
    }
   ],
   "source": [
    "H.basis_matrix(10,4)"
   ]
  },
  {
   "cell_type": "markdown",
   "metadata": {},
   "source": [
    "In his mail, Marko proposed that, given the element $f(x) = \\sum_{n \\geq 0} \\alpha_n x^n$, solution to a recursive equation, then the rewriting to $f(x) = \\sum_{n \\geq 0} \\beta_n P_n(x)$ can be unrolled knowing the value for $\\alpha_n$ with the following formula:\n",
    "$$\\alpha_n = \\sum_{k = 0}^n b_{n,k}\\beta_k,$$\n",
    "where $b_{n,k}$ are the elements in the inverse of the matrix we have just described:"
   ]
  },
  {
   "cell_type": "code",
   "execution_count": 12,
   "metadata": {},
   "outputs": [
    {
     "data": {
      "text/html": [
       "<html><script type=\"math/tex; mode=display\">\\newcommand{\\Bold}[1]{\\mathbf{#1}}\\left(\\begin{array}{rrrrr}\n",
       "1 & 0 & 0 & 0 & 0 \\\\\n",
       "0 & 1 & 0 & 0 & 0 \\\\\n",
       "0 & 1 & 2 & 0 & 0 \\\\\n",
       "0 & 1 & 6 & 6 & 0 \\\\\n",
       "0 & 1 & 14 & 36 & 24\n",
       "\\end{array}\\right)</script></html>"
      ],
      "text/plain": [
       "[ 1  0  0  0  0]\n",
       "[ 0  1  0  0  0]\n",
       "[ 0  1  2  0  0]\n",
       "[ 0  1  6  6  0]\n",
       "[ 0  1 14 36 24]"
      ]
     },
     "execution_count": 12,
     "metadata": {},
     "output_type": "execute_result"
    }
   ],
   "source": [
    "B.basis_matrix(5,5).inverse()"
   ]
  },
  {
   "cell_type": "markdown",
   "metadata": {},
   "source": [
    "With this formula, we have that:\n",
    "$$\\beta_n = \\frac{1}{b_{n,n}}\\left(\\alpha_n - \\sum_{k=0}^{n-1}b_{n,k}\\beta_k\\right),$$\n",
    "is a recursive formula for computing all the elements of the sequence $(\\beta_0,\\ldots,\\beta_n)$.\n"
   ]
  },
  {
   "cell_type": "code",
   "execution_count": 17,
   "metadata": {},
   "outputs": [],
   "source": [
    "def get_converted_sequence(sequence, basis, bound):\n",
    "    M = basis.basis_matrix(bound,bound).inverse() # b_{i,j}\n",
    "    alpha = sequence[:bound]\n",
    "    result = [alpha[0]/M[0][0]]\n",
    "    for n in range(1, bound):\n",
    "        result += [(alpha[n] - sum([M[n,k]*result[k] for k in range(n)]))/M[n][n]]\n",
    "    return result"
   ]
  },
  {
   "cell_type": "code",
   "execution_count": 18,
   "metadata": {},
   "outputs": [
    {
     "data": {
      "text/html": [
       "<html><script type=\"math/tex; mode=display\">\\newcommand{\\Bold}[1]{\\mathbf{#1}}\\left[1, 1, 0, 0, 0, 0, 0, 0, 0\\right]</script></html>"
      ],
      "text/plain": [
       "[1, 1, 0, 0, 0, 0, 0, 0, 0]"
      ]
     },
     "execution_count": 18,
     "metadata": {},
     "output_type": "execute_result"
    }
   ],
   "source": [
    "get_converted_sequence(10*[1], B, 9)"
   ]
  },
  {
   "cell_type": "markdown",
   "metadata": {},
   "source": [
    "And this is clearly false: the sequence $(1,1,1,\\ldots)$ represents the element $f(x) = 1/(1-x)$ which is not equal to the polynomial of degree 1 described by $1 + \\binom{x}{1} = 1 + x$"
   ]
  },
  {
   "cell_type": "code",
   "execution_count": null,
   "metadata": {},
   "outputs": [],
   "source": []
  }
 ],
 "metadata": {
  "kernelspec": {
   "display_name": "SageMath 9.2",
   "language": "sage",
   "name": "sagemath"
  },
  "language_info": {
   "codemirror_mode": {
    "name": "ipython",
    "version": 3
   },
   "file_extension": ".py",
   "mimetype": "text/x-python",
   "name": "python",
   "nbconvert_exporter": "python",
   "pygments_lexer": "ipython3",
   "version": "3.8.5"
  }
 },
 "nbformat": 4,
 "nbformat_minor": 2
}
