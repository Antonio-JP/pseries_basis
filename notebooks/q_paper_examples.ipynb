{
 "cells": [
  {
   "cell_type": "markdown",
   "id": "d3f17371-578e-4666-b2ec-fdd754592d14",
   "metadata": {},
   "source": [
    "# Examples for paper on $q$-series"
   ]
  },
  {
   "cell_type": "code",
   "execution_count": 66,
   "id": "d7a83e5b-f256-4571-90e1-6d3df837d31e",
   "metadata": {},
   "outputs": [],
   "source": [
    "%display latex\n",
    "import sys\n",
    "sys.path.insert(0, \"..\") # pseries_basis is here\n",
    "from pseries_basis import *\n",
    "from pseries_basis.misc.ore import *"
   ]
  },
  {
   "cell_type": "markdown",
   "id": "5699619d-135e-4260-9b2f-70919508f373",
   "metadata": {
    "jp-MarkdownHeadingCollapsed": true,
    "tags": []
   },
   "source": [
    "## Introduction"
   ]
  },
  {
   "cell_type": "markdown",
   "id": "46b41156-97d0-402b-9598-36d8fe042269",
   "metadata": {},
   "source": [
    "This notebook showcase the examples displayed on the paper \"Factorial Basis Method for $q$-Series Applications\". We do not include explanations on the examples, but simply the code that allows to get the conclusions in the paper."
   ]
  },
  {
   "cell_type": "markdown",
   "id": "ab08d7a8-4583-4278-8faf-5cbc8be94ec9",
   "metadata": {
    "jp-MarkdownHeadingCollapsed": true,
    "tags": []
   },
   "source": [
    "## Example 3.1 ($q$-binomial basis)"
   ]
  },
  {
   "cell_type": "code",
   "execution_count": 2,
   "id": "cc8e2890-1232-4eaa-8cf7-7b936a788e5d",
   "metadata": {},
   "outputs": [
    {
     "data": {
      "text/html": [
       "<html>\\(\\displaystyle \\left\\{B_k(n)\\right\\}\\)</html>"
      ],
      "text/latex": [
       "$\\displaystyle \\left\\{B_k(n)\\right\\}$"
      ],
      "text/plain": [
       "Basis of Sequences over Fraction Field of Univariate Polynomial Ring in q over Rational Field"
      ]
     },
     "execution_count": 2,
     "metadata": {},
     "output_type": "execute_result"
    }
   ],
   "source": [
    "B = QBinomialBasis() # We create the basis with the q-binomial\n",
    "B                    # B_k(n) := \\qbinom{n}{k}."
   ]
  },
  {
   "cell_type": "code",
   "execution_count": 3,
   "id": "2405fe0b-fb55-4159-b8b2-6c52e6618218",
   "metadata": {},
   "outputs": [
    {
     "data": {
      "text/html": [
       "<html>\\(\\displaystyle \\left[\\frac{1}{q - 1}, \\frac{1}{q^{3} - q}, \\frac{1}{q^{5} - q^{2}}, \\frac{1}{q^{7} - q^{3}}, \\frac{1}{q^{9} - q^{4}}\\right]\\)</html>"
      ],
      "text/latex": [
       "$\\displaystyle \\left[\\frac{1}{q - 1}, \\frac{1}{q^{3} - q}, \\frac{1}{q^{5} - q^{2}}, \\frac{1}{q^{7} - q^{3}}, \\frac{1}{q^{9} - q^{4}}\\right]$"
      ],
      "text/plain": [
       "[1/(q - 1), 1/(q^3 - q), 1/(q^5 - q^2), 1/(q^7 - q^3), 1/(q^9 - q^4)]"
      ]
     },
     "metadata": {},
     "output_type": "display_data"
    },
    {
     "data": {
      "text/html": [
       "<html>\\(\\displaystyle \\left[\\frac{-1}{q - 1}, \\frac{-1}{q^{2} - 1}, \\frac{-1}{q^{3} - 1}, \\frac{-1}{q^{4} - 1}, \\frac{-1}{q^{5} - 1}\\right]\\)</html>"
      ],
      "text/latex": [
       "$\\displaystyle \\left[\\frac{-1}{q - 1}, \\frac{-1}{q^{2} - 1}, \\frac{-1}{q^{3} - 1}, \\frac{-1}{q^{4} - 1}, \\frac{-1}{q^{5} - 1}\\right]$"
      ],
      "text/plain": [
       "[-1/(q - 1), -1/(q^2 - 1), -1/(q^3 - 1), -1/(q^4 - 1), -1/(q^5 - 1)]"
      ]
     },
     "metadata": {},
     "output_type": "display_data"
    }
   ],
   "source": [
    "## B_{k+1}(n) = (B.ak(k)q^n + B.ak(k)) B_k(n)\n",
    "show(B.ak[:5])\n",
    "show(B.bk[:5])"
   ]
  },
  {
   "cell_type": "markdown",
   "id": "5f885349-569c-4b16-b9b4-f7221d9e63a3",
   "metadata": {
    "jp-MarkdownHeadingCollapsed": true,
    "tags": []
   },
   "source": [
    "## Example 3.4 and 3.8: $q$-power basis"
   ]
  },
  {
   "cell_type": "code",
   "execution_count": 4,
   "id": "8372b216-f9e6-46fc-a4e5-aec422eeae89",
   "metadata": {},
   "outputs": [
    {
     "data": {
      "text/html": [
       "<html>\\(\\displaystyle \\left\\{B_k(n)\\right\\}\\)</html>"
      ],
      "text/latex": [
       "$\\displaystyle \\left\\{B_k(n)\\right\\}$"
      ],
      "text/plain": [
       "Basis of Sequences over Fraction Field of Univariate Polynomial Ring in q over Rational Field"
      ]
     },
     "execution_count": 4,
     "metadata": {},
     "output_type": "execute_result"
    }
   ],
   "source": [
    "P = QPowerBasis(1) # We create the q-power basis\n",
    "P                  # P_k(n) = q^{kn}"
   ]
  },
  {
   "cell_type": "code",
   "execution_count": 9,
   "id": "8677701b-443d-41fb-b1b2-6a5c4bfb4f43",
   "metadata": {},
   "outputs": [
    {
     "data": {
      "text/html": [
       "<html>\\(\\displaystyle \\text{Compatibility condition with shape (A=0, B=1, t=1):}\\\\L \\cdot P_{k} = \\left( 1 \\right) P_{k+ 1}\\)</html>"
      ],
      "text/latex": [
       "$\\displaystyle \\text{Compatibility condition with shape (A=0, B=1, t=1):}\\\\L \\cdot P_{k} = \\left( 1 \\right) P_{k+ 1}$"
      ],
      "text/plain": [
       "Compatibility condition (0, 1, 1) with following coefficient matrix:\n",
       "[0 1]"
      ]
     },
     "execution_count": 9,
     "metadata": {},
     "output_type": "execute_result"
    }
   ],
   "source": [
    "# Compatibility with multiplication by q^n (example 3.4)\n",
    "P.compatibility(\"q_n\")"
   ]
  },
  {
   "cell_type": "code",
   "execution_count": 8,
   "id": "4eb60d77-8c85-4cb8-be8e-d20d20ff3a38",
   "metadata": {},
   "outputs": [
    {
     "data": {
      "text/html": [
       "<html>\\(\\displaystyle \\mathit{Ski}\\)</html>"
      ],
      "text/latex": [
       "$\\displaystyle \\mathit{Ski}$"
      ],
      "text/plain": [
       "Ski"
      ]
     },
     "execution_count": 8,
     "metadata": {},
     "output_type": "execute_result"
    }
   ],
   "source": [
    "# Recursion operator associated (example 3.4)\n",
    "P.recurrence(\"q_n\") "
   ]
  },
  {
   "cell_type": "code",
   "execution_count": 10,
   "id": "919e479a-c7ee-4fba-b4da-27457d6e3972",
   "metadata": {},
   "outputs": [
    {
     "data": {
      "text/html": [
       "<html>\\(\\displaystyle \\text{Compatibility condition with shape (A=0, B=0, t=1):}\\\\L \\cdot P_{k} = \\left( q_{k} \\right) P_{k}\\)</html>"
      ],
      "text/latex": [
       "$\\displaystyle \\text{Compatibility condition with shape (A=0, B=0, t=1):}\\\\L \\cdot P_{k} = \\left( q_{k} \\right) P_{k}$"
      ],
      "text/plain": [
       "Compatibility condition (0, 0, 1) with following coefficient matrix:\n",
       "[q_k]"
      ]
     },
     "execution_count": 10,
     "metadata": {},
     "output_type": "execute_result"
    }
   ],
   "source": [
    "# Compatibility with shift operator (example 3.8)\n",
    "P.compatibility(\"E\")"
   ]
  },
  {
   "cell_type": "code",
   "execution_count": 11,
   "id": "ef1f44e0-c820-4dee-a54e-9fea5daa28d4",
   "metadata": {},
   "outputs": [
    {
     "data": {
      "text/html": [
       "<html>\\(\\displaystyle q_{k}\\)</html>"
      ],
      "text/latex": [
       "$\\displaystyle q_{k}$"
      ],
      "text/plain": [
       "q_k"
      ]
     },
     "execution_count": 11,
     "metadata": {},
     "output_type": "execute_result"
    }
   ],
   "source": [
    "# Recursion operator associated (example 3.8)\n",
    "P.recurrence(\"E\") "
   ]
  },
  {
   "cell_type": "markdown",
   "id": "c5d76325-c01e-4e94-a783-0a3c072bd40c",
   "metadata": {
    "jp-MarkdownHeadingCollapsed": true,
    "tags": []
   },
   "source": [
    "## Example 3.5 and 3.9: $q$-falling basis"
   ]
  },
  {
   "cell_type": "code",
   "execution_count": 41,
   "id": "4bfaf261-9dac-4ad7-a6b1-f8a65f6e5ab3",
   "metadata": {},
   "outputs": [],
   "source": [
    "# We create the ak and bk sequences\n",
    "R = P.q.parent(); q = P.q # We get the basic field and element for q\n",
    "ak = ConstantSequence(1, R, q=q)\n",
    "bk = QRationalSequence(\"-q_k\", ['q_k'], R, q=q)\n",
    "F = QFactorialBasis(ak, bk, R, q=q)"
   ]
  },
  {
   "cell_type": "code",
   "execution_count": 42,
   "id": "b9ff1bb6-3874-44f7-8fb2-2fc6085b5163",
   "metadata": {},
   "outputs": [
    {
     "data": {
      "text/html": [
       "<html>\\(\\displaystyle \\left[1, q, q^{2}, q^{3}, q^{4}, q^{5}, q^{6}, q^{7}, q^{8}, q^{9}\\right]\\)</html>"
      ],
      "text/latex": [
       "$\\displaystyle \\left[1, q, q^{2}, q^{3}, q^{4}, q^{5}, q^{6}, q^{7}, q^{8}, q^{9}\\right]$"
      ],
      "text/plain": [
       "[1, q, q^2, q^3, q^4, q^5, q^6, q^7, q^8, q^9]"
      ]
     },
     "execution_count": 42,
     "metadata": {},
     "output_type": "execute_result"
    }
   ],
   "source": [
    "F.rho[:10] # Sequence of roots : q^k"
   ]
  },
  {
   "cell_type": "code",
   "execution_count": 43,
   "id": "a712a033-c0a5-4441-8089-9df3a5d603ef",
   "metadata": {},
   "outputs": [
    {
     "data": {
      "text/html": [
       "<html>\\(\\displaystyle \\left[1, 1, 1, 1, 1, 1, 1, 1, 1, 1\\right]\\)</html>"
      ],
      "text/latex": [
       "$\\displaystyle \\left[1, 1, 1, 1, 1, 1, 1, 1, 1, 1\\right]$"
      ],
      "text/plain": [
       "[1, 1, 1, 1, 1, 1, 1, 1, 1, 1]"
      ]
     },
     "execution_count": 43,
     "metadata": {},
     "output_type": "execute_result"
    }
   ],
   "source": [
    "F.lc[:10]  # Sequence of leading coefficients: 1"
   ]
  },
  {
   "cell_type": "code",
   "execution_count": 44,
   "id": "59345431-eafe-49c4-a49b-b197c78e449c",
   "metadata": {},
   "outputs": [
    {
     "data": {
      "text/html": [
       "<html>\\(\\displaystyle \\text{Compatibility condition with shape (A=0, B=1, t=1):}\\\\L \\cdot P_{k} = \\left( q_{k} \\right) P_{k} + \\left( 1 \\right) P_{k+ 1}\\)</html>"
      ],
      "text/latex": [
       "$\\displaystyle \\text{Compatibility condition with shape (A=0, B=1, t=1):}\\\\L \\cdot P_{k} = \\left( q_{k} \\right) P_{k} + \\left( 1 \\right) P_{k+ 1}$"
      ],
      "text/plain": [
       "Compatibility condition (0, 1, 1) with following coefficient matrix:\n",
       "[q_k   1]"
      ]
     },
     "execution_count": 44,
     "metadata": {},
     "output_type": "execute_result"
    }
   ],
   "source": [
    "# Compatibility with multiplication by `q^n` (example 3.5)\n",
    "F.compatibility(\"q_n\")"
   ]
  },
  {
   "cell_type": "code",
   "execution_count": 45,
   "id": "0f545339-6d10-423a-8ecb-4cf35ace6a18",
   "metadata": {},
   "outputs": [
    {
     "data": {
      "text/html": [
       "<html>\\(\\displaystyle \\mathit{Ski} + q_{k}\\)</html>"
      ],
      "text/latex": [
       "$\\displaystyle \\mathit{Ski} + q_{k}$"
      ],
      "text/plain": [
       "Ski + q_k"
      ]
     },
     "execution_count": 45,
     "metadata": {},
     "output_type": "execute_result"
    }
   ],
   "source": [
    "# Recurrence associated with `q^n` (example 3.5)\n",
    "F.recurrence(\"q_n\") "
   ]
  },
  {
   "cell_type": "code",
   "execution_count": 49,
   "id": "514a5d32-bc76-4902-ab12-600204ab0ca9",
   "metadata": {},
   "outputs": [
    {
     "data": {
      "text/html": [
       "<html>\\(\\displaystyle \\left[\\verb|q_n|\\right]\\)</html>"
      ],
      "text/latex": [
       "$\\displaystyle \\left[\\verb|q_n|\\right]$"
      ],
      "text/plain": [
       "['q_n']"
      ]
     },
     "execution_count": 49,
     "metadata": {},
     "output_type": "execute_result"
    }
   ],
   "source": [
    "F.basic_compatibilities()"
   ]
  },
  {
   "cell_type": "code",
   "execution_count": 50,
   "id": "d92a8430-de74-45bc-a64d-ddd66a154e70",
   "metadata": {},
   "outputs": [
    {
     "data": {
      "text/html": [
       "<html>\\(\\displaystyle \\mathrm{False}\\)</html>"
      ],
      "text/latex": [
       "$\\displaystyle \\mathrm{False}$"
      ],
      "text/plain": [
       "False"
      ]
     },
     "execution_count": 50,
     "metadata": {},
     "output_type": "execute_result"
    }
   ],
   "source": [
    "# Compatibility with multiplication by `E` (example 3.9)\n",
    "F.is_compatible(\"E\")"
   ]
  },
  {
   "cell_type": "code",
   "execution_count": 56,
   "id": "fff379f4-21fc-4bb8-ba10-6731cfda33a6",
   "metadata": {},
   "outputs": [
    {
     "data": {
      "text/html": [
       "<html>\\(\\displaystyle \\text{Compatibility condition with shape (A=1, B=0, t=1):}\\\\L \\cdot P_{k} = \\left( \\frac{1}{q} q_{k}^{2} + \\left(\\frac{-1}{q}\\right) q_{k} \\right) P_{k- 1} + \\left( q_{k} \\right) P_{k}\\)</html>"
      ],
      "text/latex": [
       "$\\displaystyle \\text{Compatibility condition with shape (A=1, B=0, t=1):}\\\\L \\cdot P_{k} = \\left( \\frac{1}{q} q_{k}^{2} + \\left(\\frac{-1}{q}\\right) q_{k} \\right) P_{k- 1} + \\left( q_{k} \\right) P_{k}$"
      ],
      "text/plain": [
       "Compatibility condition (1, 0, 1) with following coefficient matrix:\n",
       "[1/q*q_k^2 - 1/q*q_k                 q_k]"
      ]
     },
     "execution_count": 56,
     "metadata": {},
     "output_type": "execute_result"
    }
   ],
   "source": [
    "## We need to add the compatibility by hand:\n",
    "c_0 = QRationalSequence(\"q_k\", ['q_k'], R, q=q)\n",
    "c__1 = QRationalSequence(\"q_k/q * (q_k - 1)\", ['q_k'], R, q=q)\n",
    "c_w_E = Compatibility([[c__1, c_0]], 1,0,1)\n",
    "F.set_homomorphism(\"E\", c_w_E)"
   ]
  },
  {
   "cell_type": "code",
   "execution_count": 59,
   "id": "f8442309-3520-415f-b9be-368ed6abb8ae",
   "metadata": {},
   "outputs": [
    {
     "data": {
      "text/html": [
       "<html>\\(\\displaystyle \\mathrm{True}\\)</html>"
      ],
      "text/latex": [
       "$\\displaystyle \\mathrm{True}$"
      ],
      "text/plain": [
       "True"
      ]
     },
     "execution_count": 59,
     "metadata": {},
     "output_type": "execute_result"
    }
   ],
   "source": [
    "# We can check it is correct\n",
    "check_compatibility(F, \"E\", lambda S : S.shift(), bound=20)"
   ]
  },
  {
   "cell_type": "code",
   "execution_count": 60,
   "id": "9a6c65ed-9f7a-40ae-97b9-4c7bf42f9844",
   "metadata": {},
   "outputs": [
    {
     "data": {
      "text/html": [
       "<html>\\(\\displaystyle \\left(q q_{k}^{2} - q_{k}\\right) \\mathit{Sk} + q_{k}\\)</html>"
      ],
      "text/latex": [
       "$\\displaystyle \\left(q q_{k}^{2} - q_{k}\\right) \\mathit{Sk} + q_{k}$"
      ],
      "text/plain": [
       "(q*q_k^2 - q_k)*Sk + q_k"
      ]
     },
     "execution_count": 60,
     "metadata": {},
     "output_type": "execute_result"
    }
   ],
   "source": [
    "# Recurrence associated with `E` (example 3.9)\n",
    "F.recurrence(\"E\") "
   ]
  },
  {
   "cell_type": "markdown",
   "id": "f8cdb254-8c43-424a-981e-92eb20b3f3b2",
   "metadata": {
    "jp-MarkdownHeadingCollapsed": true,
    "tags": []
   },
   "source": [
    "## Example 3.12 (cf. [4, Theorem 3.3])"
   ]
  },
  {
   "cell_type": "code",
   "execution_count": 70,
   "id": "c3576a28-d028-4831-bc3b-2dc472ad3fed",
   "metadata": {},
   "outputs": [],
   "source": [
    "# Creating data structure to handle variable `z`\n",
    "R = PolynomialRing(QQ, [q, 'z']); q,z = R.gens()\n",
    "F = R.fraction_field()"
   ]
  },
  {
   "cell_type": "code",
   "execution_count": 75,
   "id": "9cc19c9e-9482-469f-9659-a62f33c85f9e",
   "metadata": {},
   "outputs": [],
   "source": [
    "OA, (q_n, E) = get_qshift_algebra(\"q_n\", \"q\", \"E\", 1, True, R) # creating the ore_algebra\n",
    "B = QBinomialBasis(universe=F) # creating the basis with the corresponding base ring"
   ]
  },
  {
   "cell_type": "code",
   "execution_count": 77,
   "id": "e1271214-03c9-426b-8ba4-8bbecf0ea17e",
   "metadata": {},
   "outputs": [
    {
     "data": {
      "text/html": [
       "<html>\\(\\displaystyle E + z q_{n} - 1\\)</html>"
      ],
      "text/latex": [
       "$\\displaystyle E + z q_{n} - 1$"
      ],
      "text/plain": [
       "E + z*q_n - 1"
      ]
     },
     "execution_count": 77,
     "metadata": {},
     "output_type": "execute_result"
    }
   ],
   "source": [
    "# Creating the recurrence\n",
    "rec = E - 1 + z*q_n; rec"
   ]
  },
  {
   "cell_type": "code",
   "execution_count": 80,
   "id": "1b26fc72-35f3-4825-9522-19b7132dd934",
   "metadata": {},
   "outputs": [
    {
     "data": {
      "text/html": [
       "<html>\\(\\displaystyle \\mathit{Sk} + \\left(\\frac{z}{q} q_{k}^{2} + \\left(\\frac{-z}{q}\\right) q_{k}\\right) \\mathit{Ski} + \\left(z + 1\\right) q_{k} - 1\\)</html>"
      ],
      "text/latex": [
       "$\\displaystyle \\mathit{Sk} + \\left(\\frac{z}{q} q_{k}^{2} + \\left(\\frac{-z}{q}\\right) q_{k}\\right) \\mathit{Ski} + \\left(z + 1\\right) q_{k} - 1$"
      ],
      "text/plain": [
       "Sk + (z/q*q_k^2 + ((-z)/q)*q_k)*Ski + (z + 1)*q_k - 1"
      ]
     },
     "execution_count": 80,
     "metadata": {},
     "output_type": "execute_result"
    }
   ],
   "source": [
    "B.recurrence(rec)"
   ]
  },
  {
   "cell_type": "markdown",
   "id": "940e90e7-84aa-4769-997d-0570f46688e4",
   "metadata": {
    "jp-MarkdownHeadingCollapsed": true,
    "tags": []
   },
   "source": [
    "## Example 4.2 (product of $q^{2n}$-factorial bases)"
   ]
  },
  {
   "cell_type": "code",
   "execution_count": 84,
   "id": "f24f13c2-f2b0-43f9-8b31-88b61347ee45",
   "metadata": {},
   "outputs": [],
   "source": [
    "P = QPowerBasis(2)\n",
    "Q = QBinomialBasis(1,0,0,2)"
   ]
  },
  {
   "cell_type": "code",
   "execution_count": 94,
   "id": "db1fcdfe-fda9-4391-a9ff-38fb11bcd1cb",
   "metadata": {},
   "outputs": [
    {
     "data": {
      "text/html": [
       "<html>\\(\\displaystyle \\prod_{(0, 1)}\\left\\{B_k(n)\\right\\}\\left\\{B_k(n)\\right\\}\\)</html>"
      ],
      "text/latex": [
       "$\\displaystyle \\prod_{(0, 1)}\\left\\{B_k(n)\\right\\}\\left\\{B_k(n)\\right\\}$"
      ],
      "text/plain": [
       "Shuffled Basis (0, 1) of the basis:\n",
       "\t- Basis of Sequences over Fraction Field of Univariate Polynomial Ring in q over Rational Field\n",
       "\t- Basis of Sequences over Fraction Field of Univariate Polynomial Ring in q over Rational Field"
      ]
     },
     "execution_count": 94,
     "metadata": {},
     "output_type": "execute_result"
    }
   ],
   "source": [
    "B = ProductBasis([P,Q]);B"
   ]
  },
  {
   "cell_type": "code",
   "execution_count": 96,
   "id": "f72ed1cc-7721-49ab-84d4-8d5ed2614b61",
   "metadata": {},
   "outputs": [
    {
     "data": {
      "text/html": [
       "<html>\\(\\displaystyle \\text{Compatibility condition with shape (A=0, B=1, t=2):}\\\\\\left\\{\\begin{array}{rl} L \\cdot P_{ 2 k + 0 } & = \\left( 1 \\right) P_{ 2 k + 1 } \\\\ L \\cdot P_{ 2 k + 1 } & = \\left( q_{k}^{2} \\right) P_{ 2 k + 1 } + \\left( q^{2} q_{k}^{4} - q_{k}^{2} \\right) P_{ 2 k + 2 } \\\\ \\end{array}\\right.\\)</html>"
      ],
      "text/latex": [
       "$\\displaystyle \\text{Compatibility condition with shape (A=0, B=1, t=2):}\\\\\\left\\{\\begin{array}{rl} L \\cdot P_{ 2 k + 0 } & = \\left( 1 \\right) P_{ 2 k + 1 } \\\\ L \\cdot P_{ 2 k + 1 } & = \\left( q_{k}^{2} \\right) P_{ 2 k + 1 } + \\left( q^{2} q_{k}^{4} - q_{k}^{2} \\right) P_{ 2 k + 2 } \\\\ \\end{array}\\right.$"
      ],
      "text/plain": [
       "Compatibility condition (0, 1, 2) with following coefficient matrix:\n",
       "[                0                 1]\n",
       "[            q_k^2 q^2*q_k^4 - q_k^2]"
      ]
     },
     "execution_count": 96,
     "metadata": {},
     "output_type": "execute_result"
    }
   ],
   "source": [
    "# Compatibility with q^{2n}\n",
    "B.compatibility(\"q_2n\")"
   ]
  },
  {
   "cell_type": "code",
   "execution_count": 97,
   "id": "4696284a-fe14-4e76-ab90-ec4f69dd1366",
   "metadata": {},
   "outputs": [
    {
     "data": {
      "text/html": [
       "<html>\\(\\displaystyle \\text{Compatibility condition with shape (A=2, B=0, t=2):}\\\\\\left\\{\\begin{array}{rl} L \\cdot P_{ 2 k + 0 } & = \\left( q_{k}^{2} \\right) P_{ 2 k - 1 } + \\left( q_{k}^{4} \\right) P_{ 2 k } \\\\ L \\cdot P_{ 2 k + 1 } & = \\left( q_{k}^{4} \\right) P_{ 2 k - 1 } + \\left( q_{k}^{6} - q_{k}^{4} \\right) P_{ 2 k } + \\left( q^{2} q_{k}^{4} \\right) P_{ 2 k + 1 } \\\\ \\end{array}\\right.\\)</html>"
      ],
      "text/latex": [
       "$\\displaystyle \\text{Compatibility condition with shape (A=2, B=0, t=2):}\\\\\\left\\{\\begin{array}{rl} L \\cdot P_{ 2 k + 0 } & = \\left( q_{k}^{2} \\right) P_{ 2 k - 1 } + \\left( q_{k}^{4} \\right) P_{ 2 k } \\\\ L \\cdot P_{ 2 k + 1 } & = \\left( q_{k}^{4} \\right) P_{ 2 k - 1 } + \\left( q_{k}^{6} - q_{k}^{4} \\right) P_{ 2 k } + \\left( q^{2} q_{k}^{4} \\right) P_{ 2 k + 1 } \\\\ \\end{array}\\right.$"
      ],
      "text/plain": [
       "Compatibility condition (2, 0, 2) with following coefficient matrix:\n",
       "[            0         q_k^2         q_k^4]\n",
       "[        q_k^4 q_k^6 - q_k^4     q^2*q_k^4]"
      ]
     },
     "execution_count": 97,
     "metadata": {},
     "output_type": "execute_result"
    }
   ],
   "source": [
    "# Compatibility with E\n",
    "B.compatibility(\"E\")"
   ]
  },
  {
   "cell_type": "code",
   "execution_count": 98,
   "id": "9397e8ed-e1a7-400b-a3a9-9a63a1c953e8",
   "metadata": {},
   "outputs": [
    {
     "data": {
      "text/html": [
       "<html>\\(\\displaystyle \\left(\\begin{array}{rr}\n",
       "0 & \\left(\\frac{1}{q^{2}} q_{k}^{4} + \\left(\\frac{-1}{q^{2}}\\right) q_{k}^{2}\\right) \\mathit{Ski} \\\\\n",
       "1 & q_{k}^{2}\n",
       "\\end{array}\\right)\\)</html>"
      ],
      "text/latex": [
       "$\\displaystyle \\left(\\begin{array}{rr}\n",
       "0 & \\left(\\frac{1}{q^{2}} q_{k}^{4} + \\left(\\frac{-1}{q^{2}}\\right) q_{k}^{2}\\right) \\mathit{Ski} \\\\\n",
       "1 & q_{k}^{2}\n",
       "\\end{array}\\right)$"
      ],
      "text/plain": [
       "[                              0 (1/q^2*q_k^4 - 1/q^2*q_k^2)*Ski]\n",
       "[                              1                           q_k^2]"
      ]
     },
     "execution_count": 98,
     "metadata": {},
     "output_type": "execute_result"
    }
   ],
   "source": [
    "## Showing the recurrence matrices:\n",
    "B.recurrence(\"q_2n\")"
   ]
  },
  {
   "cell_type": "code",
   "execution_count": 99,
   "id": "7bf08fc8-4786-4bc2-bd68-6379cafee69b",
   "metadata": {},
   "outputs": [
    {
     "data": {
      "text/html": [
       "<html>\\(\\displaystyle \\left(\\begin{array}{rr}\n",
       "q_{k}^{4} & q_{k}^{6} - q_{k}^{4} \\\\\n",
       "\\left(q^{2} q_{k}^{2}\\right) \\mathit{Sk} & \\left(q^{4} q_{k}^{4}\\right) \\mathit{Sk} + q^{2} q_{k}^{4}\n",
       "\\end{array}\\right)\\)</html>"
      ],
      "text/latex": [
       "$\\displaystyle \\left(\\begin{array}{rr}\n",
       "q_{k}^{4} & q_{k}^{6} - q_{k}^{4} \\\\\n",
       "\\left(q^{2} q_{k}^{2}\\right) \\mathit{Sk} & \\left(q^{4} q_{k}^{4}\\right) \\mathit{Sk} + q^{2} q_{k}^{4}\n",
       "\\end{array}\\right)$"
      ],
      "text/plain": [
       "[                   q_k^4            q_k^6 - q_k^4]\n",
       "[            q^2*q_k^2*Sk q^4*q_k^4*Sk + q^2*q_k^4]"
      ]
     },
     "execution_count": 99,
     "metadata": {},
     "output_type": "execute_result"
    }
   ],
   "source": [
    "B.recurrence(\"E\")"
   ]
  },
  {
   "cell_type": "markdown",
   "id": "a3864c4b-1a71-4894-9454-0e16bbbb2e56",
   "metadata": {
    "jp-MarkdownHeadingCollapsed": true,
    "tags": []
   },
   "source": [
    "## Example 5.1 (Identity 3.38 of [21])"
   ]
  },
  {
   "cell_type": "code",
   "execution_count": 105,
   "id": "baa6e273-6efa-4e38-94f7-6104acd7478d",
   "metadata": {},
   "outputs": [],
   "source": [
    "# Creating the basic structures for the example\n",
    "R = PolynomialRing(QQ, \"q\"); q = R.0\n",
    "OA, (q_n, E) = get_qshift_algebra(\"q_n\", \"q\", \"E\", 1, True, R) # creating the ore_algebra\n",
    "B = QBinomialBasis()"
   ]
  },
  {
   "cell_type": "code",
   "execution_count": 108,
   "id": "5d4cb8f5-87b5-4e29-9d15-7f965ad49bcb",
   "metadata": {},
   "outputs": [
    {
     "data": {
      "text/html": [
       "<html>\\(\\displaystyle E^{2} + \\left(-q - 1\\right) E - q^{4} q_{n}^{2} + q\\)</html>"
      ],
      "text/latex": [
       "$\\displaystyle E^{2} + \\left(-q - 1\\right) E - q^{4} q_{n}^{2} + q$"
      ],
      "text/plain": [
       "E^2 + (-q - 1)*E - q^4*q_n^2 + q"
      ]
     },
     "execution_count": 108,
     "metadata": {},
     "output_type": "execute_result"
    }
   ],
   "source": [
    "# Operator for a_n\n",
    "rec_an = E^2 - (1+q)*E - (q_n^2*q^4 - q)\n",
    "an = solution(rec_an, [1, 1+q])\n",
    "rec_an"
   ]
  },
  {
   "cell_type": "markdown",
   "id": "ef74457b-0c9d-4e14-9b0e-986117b9b506",
   "metadata": {},
   "source": [
    "#### Computing the recurrence for the inner solution with the $q$-binomial basis"
   ]
  },
  {
   "cell_type": "code",
   "execution_count": 114,
   "id": "f6600902-f00d-4f6b-a0a6-2725d783853e",
   "metadata": {},
   "outputs": [
    {
     "data": {
      "text/html": [
       "<html>\\(\\displaystyle \\mathit{Sk}^{4} + \\left(\\left(q^{3} + q^{2}\\right) q_{k} - q - 1\\right) \\mathit{Sk}^{3} + \\left(\\left(-q^{8} + q^{4}\\right) q_{k}^{2} + \\left(-q^{3} - q^{2}\\right) q_{k} + q\\right) \\mathit{Sk}^{2} + \\left(\\left(-q^{9} - q^{8}\\right) q_{k}^{3} + \\left(q^{7} + q^{6}\\right) q_{k}^{2}\\right) \\mathit{Sk} - q^{8} q_{k}^{4} + \\left(q^{7} + q^{6}\\right) q_{k}^{3} - q^{5} q_{k}^{2}\\)</html>"
      ],
      "text/latex": [
       "$\\displaystyle \\mathit{Sk}^{4} + \\left(\\left(q^{3} + q^{2}\\right) q_{k} - q - 1\\right) \\mathit{Sk}^{3} + \\left(\\left(-q^{8} + q^{4}\\right) q_{k}^{2} + \\left(-q^{3} - q^{2}\\right) q_{k} + q\\right) \\mathit{Sk}^{2} + \\left(\\left(-q^{9} - q^{8}\\right) q_{k}^{3} + \\left(q^{7} + q^{6}\\right) q_{k}^{2}\\right) \\mathit{Sk} - q^{8} q_{k}^{4} + \\left(q^{7} + q^{6}\\right) q_{k}^{3} - q^{5} q_{k}^{2}$"
      ],
      "text/plain": [
       "Sk^4 + ((q^3 + q^2)*q_k - q - 1)*Sk^3 + ((-q^8 + q^4)*q_k^2 + (-q^3 - q^2)*q_k + q)*Sk^2 + ((-q^9 - q^8)*q_k^3 + (q^7 + q^6)*q_k^2)*Sk - q^8*q_k^4 + (q^7 + q^6)*q_k^3 - q^5*q_k^2"
      ]
     },
     "execution_count": 114,
     "metadata": {},
     "output_type": "execute_result"
    }
   ],
   "source": [
    "# Computing the representation w.r.t. QBinomialBasis\n",
    "rec_ak_prime = B.recurrence(rec_an, output=\"ore\")\n",
    "ak_prime = solution(rec_ak_prime, B.inner_init_values(an, 4, rec_ak_prime))\n",
    "rec_ak_prime"
   ]
  },
  {
   "cell_type": "markdown",
   "id": "9e749959-ffd3-49f8-b01e-6afcfe944d9c",
   "metadata": {},
   "source": [
    "#### Checking the guessed recurrence"
   ]
  },
  {
   "cell_type": "code",
   "execution_count": 123,
   "id": "ba7e3672-a9f4-4816-9529-496402954ac0",
   "metadata": {},
   "outputs": [
    {
     "data": {
      "text/html": [
       "<html>\\(\\displaystyle \\mathrm{True}\\)</html>"
      ],
      "text/latex": [
       "$\\displaystyle \\mathrm{True}$"
      ],
      "text/plain": [
       "True"
      ]
     },
     "execution_count": 123,
     "metadata": {},
     "output_type": "execute_result"
    }
   ],
   "source": [
    "## Using qFunctions [1] we can guess and prove a new operator for ak_prime (see equation 5.1) by the following steps in Mathematica:\n",
    "#\n",
    "#<< qFunctions.m",
    "#recAkPrimeApplied := (-q^(5 + 2 k) + q^(6 + 3 k) + q^(7 + 3 k) - q^(8 + 4 k)) a[k] + (q^(6 + 2 k) + q^(7 + 2 k) - q^(8 + 3 k) - q^(9 + 3 k)) a[1 + k] + (q - q^(2 + k) - q^(3 + k) + q^(4 + 2 k) - q^(8 + 2 k)) a[2 + k] + (-1 - q + q^(2 + k) + q^(3 + k)) a[3 + k] + a[4 + k]\n",
    "#list20InitialValues :=  qREToList[recAkPrimeApplied, a[k], {0, {1, q, q^4, q^7, q^12}}, 20]\n",
    "#GuessedRecFromInitialConditions =  GuessqRecurrence[list20, a[k], 2, {2, 4}]\n",
    "#list20InitialValuesFromGuessed =  qREToList[recAkPrimeApplied, a[k], {0, {1, q}}, 20]\n",
    "#list20InitialValues == list20InitialValuesFromGuessed\n",
    "#qREGCD[recAkPrimeApplied, GuessedRecFromInitialConditions, a[k]]\n",
    "#\n",
    "#In sequence, these lines load the qFunctions package, define the rec_ak_prime, list the first 20 sequence elements defined by the recurrence using the first 5 initial terms calculated through factorial basis application, guess a recurrence these initial values satisfies that is of order 2, calculate the 20 initial terms of these using the first two initial conditions already known, check that the two sequences match in the first 20 terms, and finally show that the GCD of the two recurrences is the guessed one. This certifies that the guessed recurrence is the core recurrence. \n",
    "#\n",
    "q_k = rec_ak_prime.parent().base().0; Sk = rec_ak_prime.parent().0\n",
    "guessed_rec_ak_prime = Sk^2 - q^4*q_k^2\n",
    "guessed_ak_prime = solution(guessed_rec_ak_prime, B.inner_init_values(an, 2, rec_ak_prime))\n",
    "\n",
    "ak_prime == guessed_ak_prime # This checks equality for 50 terms of the sequences"
   ]
  },
  {
   "cell_type": "markdown",
   "id": "74d5c1e8-8543-45f1-af3f-319a5b698ec9",
   "metadata": {},
   "source": [
    "#### Obtaining the sequence for the even section"
   ]
  },
  {
   "cell_type": "code",
   "execution_count": 133,
   "id": "08d745fb-9d97-46f3-ac4f-a11b1690de5b",
   "metadata": {},
   "outputs": [
    {
     "data": {
      "text/html": [
       "<html>\\(\\displaystyle \\left(\\begin{array}{rr}\n",
       "\\mathit{Sk}^{2} + \\left(\\left(-q^{8} + q^{4}\\right) q_{k}^{4} + \\left(-q^{3} - q^{2}\\right) q_{k}^{2} + q\\right) \\mathit{Sk} - q^{8} q_{k}^{8} + \\left(q^{7} + q^{6}\\right) q_{k}^{6} - q^{5} q_{k}^{4} & \\left(\\left(q^{3} + q^{2}\\right) q_{k}^{2} - q - 1\\right) \\mathit{Sk} + \\left(-q^{9} - q^{8}\\right) q_{k}^{6} + \\left(q^{7} + q^{6}\\right) q_{k}^{4} \\\\\n",
       "\\left(\\left(q^{4} + q^{3}\\right) q_{k}^{2} - q - 1\\right) \\mathit{Sk}^{2} + \\left(\\left(-q^{12} - q^{11}\\right) q_{k}^{6} + \\left(q^{9} + q^{8}\\right) q_{k}^{4}\\right) \\mathit{Sk} & \\mathit{Sk}^{2} + \\left(\\left(-q^{10} + q^{6}\\right) q_{k}^{4} + \\left(-q^{4} - q^{3}\\right) q_{k}^{2} + q\\right) \\mathit{Sk} - q^{12} q_{k}^{8} + \\left(q^{10} + q^{9}\\right) q_{k}^{6} - q^{7} q_{k}^{4}\n",
       "\\end{array}\\right)\\)</html>"
      ],
      "text/latex": [
       "$\\displaystyle \\left(\\begin{array}{rr}\n",
       "\\mathit{Sk}^{2} + \\left(\\left(-q^{8} + q^{4}\\right) q_{k}^{4} + \\left(-q^{3} - q^{2}\\right) q_{k}^{2} + q\\right) \\mathit{Sk} - q^{8} q_{k}^{8} + \\left(q^{7} + q^{6}\\right) q_{k}^{6} - q^{5} q_{k}^{4} & \\left(\\left(q^{3} + q^{2}\\right) q_{k}^{2} - q - 1\\right) \\mathit{Sk} + \\left(-q^{9} - q^{8}\\right) q_{k}^{6} + \\left(q^{7} + q^{6}\\right) q_{k}^{4} \\\\\n",
       "\\left(\\left(q^{4} + q^{3}\\right) q_{k}^{2} - q - 1\\right) \\mathit{Sk}^{2} + \\left(\\left(-q^{12} - q^{11}\\right) q_{k}^{6} + \\left(q^{9} + q^{8}\\right) q_{k}^{4}\\right) \\mathit{Sk} & \\mathit{Sk}^{2} + \\left(\\left(-q^{10} + q^{6}\\right) q_{k}^{4} + \\left(-q^{4} - q^{3}\\right) q_{k}^{2} + q\\right) \\mathit{Sk} - q^{12} q_{k}^{8} + \\left(q^{10} + q^{9}\\right) q_{k}^{6} - q^{7} q_{k}^{4}\n",
       "\\end{array}\\right)$"
      ],
      "text/plain": [
       "[   Sk^2 + ((-q^8 + q^4)*q_k^4 + (-q^3 - q^2)*q_k^2 + q)*Sk - q^8*q_k^8 + (q^7 + q^6)*q_k^6 - q^5*q_k^4                                ((q^3 + q^2)*q_k^2 - q - 1)*Sk + (-q^9 - q^8)*q_k^6 + (q^7 + q^6)*q_k^4]\n",
       "[                      ((q^4 + q^3)*q_k^2 - q - 1)*Sk^2 + ((-q^12 - q^11)*q_k^6 + (q^9 + q^8)*q_k^4)*Sk Sk^2 + ((-q^10 + q^6)*q_k^4 + (-q^4 - q^3)*q_k^2 + q)*Sk - q^12*q_k^8 + (q^10 + q^9)*q_k^6 - q^7*q_k^4]"
      ]
     },
     "execution_count": 133,
     "metadata": {},
     "output_type": "execute_result"
    }
   ],
   "source": [
    "M = B.recurrence(rec_an, sections=2, output=\"ore\"); M"
   ]
  },
  {
   "cell_type": "code",
   "execution_count": 134,
   "id": "01cf45ef-de19-4e49-a6ef-9079715b5e1f",
   "metadata": {},
   "outputs": [
    {
     "data": {
      "text/html": [
       "<html>\\(\\displaystyle \\mathit{Sk} - q^{4} q_{k}^{4}\\)</html>"
      ],
      "text/latex": [
       "$\\displaystyle \\mathit{Sk} - q^{4} q_{k}^{4}$"
      ],
      "text/plain": [
       "Sk - q^4*q_k^4"
      ]
     },
     "execution_count": 134,
     "metadata": {},
     "output_type": "execute_result"
    }
   ],
   "source": [
    "## Computing common solution to the operators in the first column\n",
    "## This is equivalent to find solutions to the even section\n",
    "rec_ak_second = M[0,0].gcrd(M[1,0]); rec_ak_second"
   ]
  },
  {
   "cell_type": "code",
   "execution_count": 136,
   "id": "795251a6-71f1-4a35-835e-00a4212e55c0",
   "metadata": {},
   "outputs": [
    {
     "data": {
      "text/html": [
       "<html>\\(\\displaystyle \\mathit{Sk} - q^{6} q_{k}^{4}\\)</html>"
      ],
      "text/latex": [
       "$\\displaystyle \\mathit{Sk} - q^{6} q_{k}^{4}$"
      ],
      "text/plain": [
       "Sk - q^6*q_k^4"
      ]
     },
     "execution_count": 136,
     "metadata": {},
     "output_type": "execute_result"
    }
   ],
   "source": [
    "## Computing common solution to the operators in the second column\n",
    "## This is equivalent to find solutions to the odd section\n",
    "M[0,1].gcrd(M[1,1])"
   ]
  },
  {
   "cell_type": "markdown",
   "id": "a5de1b26-0a4d-4a23-8596-c023aa9a94ad",
   "metadata": {
    "jp-MarkdownHeadingCollapsed": true,
    "tags": []
   },
   "source": [
    "## Example 5.2 (Andrews-Alladi-Gordon)"
   ]
  },
  {
   "cell_type": "code",
   "execution_count": 172,
   "id": "2a8cae04-c481-4d8e-94d3-91b5a1d325aa",
   "metadata": {},
   "outputs": [],
   "source": [
    "# Creating the basic structures for the example\n",
    "R = PolynomialRing(QQ, [\"q\",\"a\",\"b\"]); q,a,b = R.gens()\n",
    "F = R.fraction_field()\n",
    "OA, (q_3n, E) = get_qshift_algebra(\"q_3n\", \"q\", \"E\", 3, True, R) # creating the ore_algebra with q^{3n}"
   ]
  },
  {
   "cell_type": "code",
   "execution_count": 173,
   "id": "f0d3895a-3102-495b-b942-55dd2484a841",
   "metadata": {},
   "outputs": [
    {
     "data": {
      "text/html": [
       "<html>\\(\\displaystyle E^{3} + \\left(-q^{6} q_{\\mathit{3n}} - 1\\right) E^{2} + \\left(-q^{12} a b q_{\\mathit{3n}}^{2} + \\left(-q^{7} a - q^{5} b\\right) q_{\\mathit{3n}}\\right) E + q^{12} a b q_{\\mathit{3n}}^{3} - q^{9} a b q_{\\mathit{3n}}^{2}\\)</html>"
      ],
      "text/latex": [
       "$\\displaystyle E^{3} + \\left(-q^{6} q_{\\mathit{3n}} - 1\\right) E^{2} + \\left(-q^{12} a b q_{\\mathit{3n}}^{2} + \\left(-q^{7} a - q^{5} b\\right) q_{\\mathit{3n}}\\right) E + q^{12} a b q_{\\mathit{3n}}^{3} - q^{9} a b q_{\\mathit{3n}}^{2}$"
      ],
      "text/plain": [
       "E^3 + (-q^6*q_3n - 1)*E^2 + (-q^12*a*b*q_3n^2 + (-q^7*a - q^5*b)*q_3n)*E + q^12*a*b*q_3n^3 - q^9*a*b*q_3n^2"
      ]
     },
     "execution_count": 173,
     "metadata": {},
     "output_type": "execute_result"
    }
   ],
   "source": [
    "# Creating the recurrence for G_N (we shift the equation so we have only positive shifts)\n",
    "rec_G_N = E^3 - (1+q_3n*q^6)*E^2 - (b*q_3n*q^5 + a*q_3n*q^7 + a*b*q_3n^2*q^12)*E - (a*b*q_3n^2*q^9 * (1-q_3n*q^3))\n",
    "rec_G_N"
   ]
  },
  {
   "cell_type": "code",
   "execution_count": 174,
   "id": "7e28531a-b97f-4021-bbad-700de0a769da",
   "metadata": {},
   "outputs": [],
   "source": [
    "# Creating the basis C(1,0;0;3)\n",
    "C = QBinomialBasis(1,0,0,3,R)"
   ]
  },
  {
   "cell_type": "code",
   "execution_count": 184,
   "id": "f189775c-adf9-43ac-87ae-8a556fff818d",
   "metadata": {},
   "outputs": [
    {
     "data": {
      "text/html": [
       "<html>\\(\\displaystyle \\mathit{Sk}^{3} + \\left(\\left(-q^{30} a b - q^{27}\\right) q_{k}^{12} + \\left(-q^{16} a - q^{14} b\\right) q_{k}^{6}\\right) \\mathit{Sk}^{2} + \\left(q^{45} a b q_{k}^{24} + \\left(-q^{36} a b - q^{33} a b\\right) q_{k}^{18} + q^{24} a b q_{k}^{12}\\right) \\mathit{Sk}\\)</html>"
      ],
      "text/latex": [
       "$\\displaystyle \\mathit{Sk}^{3} + \\left(\\left(-q^{30} a b - q^{27}\\right) q_{k}^{12} + \\left(-q^{16} a - q^{14} b\\right) q_{k}^{6}\\right) \\mathit{Sk}^{2} + \\left(q^{45} a b q_{k}^{24} + \\left(-q^{36} a b - q^{33} a b\\right) q_{k}^{18} + q^{24} a b q_{k}^{12}\\right) \\mathit{Sk}$"
      ],
      "text/plain": [
       "Sk^3 + ((-q^30*a*b - q^27)*q_k^12 + (-q^16*a - q^14*b)*q_k^6)*Sk^2 + (q^45*a*b*q_k^24 + (-q^36*a*b - q^33*a*b)*q_k^18 + q^24*a*b*q_k^12)*Sk"
      ]
     },
     "execution_count": 184,
     "metadata": {},
     "output_type": "execute_result"
    }
   ],
   "source": [
    "M = C.recurrence(rec_G_N, output=\"ore\", sections=2)\n",
    "rec_dj = M[0,0].gcrd(M[1,0])\n",
    "rec_dj"
   ]
  },
  {
   "cell_type": "markdown",
   "id": "61d5d2b3-83a9-4d86-9ebc-0f7d90af7f6f",
   "metadata": {
    "jp-MarkdownHeadingCollapsed": true,
    "tags": []
   },
   "source": [
    "## Example 5.5 (Theorem 1.4)"
   ]
  },
  {
   "cell_type": "code",
   "execution_count": 187,
   "id": "b79ce60b-4568-42b1-89ed-1e9f0a8122ba",
   "metadata": {},
   "outputs": [],
   "source": [
    "# Creating the basic structures for the example\n",
    "R = PolynomialRing(QQ, [\"q\"]); q = R.0\n",
    "F = R.fraction_field()\n",
    "OA, (q_n, E) = get_qshift_algebra(\"q_n\", \"q\", \"E\", 1, True, R)"
   ]
  },
  {
   "cell_type": "code",
   "execution_count": 192,
   "id": "e22a7e5d-82c2-4eef-a637-235688fa1928",
   "metadata": {},
   "outputs": [],
   "source": [
    "# Creating the recurrences for cn_prime and cn_second\n",
    "rec_ck_i_prime = E^2 - (1+q+q_n^2*q)*E + (q)     # equation (5.11)\n",
    "rec_ck_i_second = E^2 - (1+q+q_n^2*q^2)*E + (q)  # equation (5.12)"
   ]
  },
  {
   "cell_type": "code",
   "execution_count": 193,
   "id": "2796783f-c939-444c-a9a3-9107e35a16f8",
   "metadata": {},
   "outputs": [],
   "source": [
    "# Building the solutions for each value of `i = 1,2` and the two sections (prime and second)\n",
    "ck_1_prime = solution(rec_ck_i_prime, [1,0])\n",
    "ck_2_prime = solution(rec_ck_i_prime, [1,1])\n",
    "ck_1_second = solution(rec_ck_i_second, [1,1])\n",
    "ck_2_second = solution(rec_ck_i_second, [0,-1])"
   ]
  },
  {
   "cell_type": "code",
   "execution_count": 195,
   "id": "3599c722-bd7e-40e8-83b6-b46076fe767b",
   "metadata": {},
   "outputs": [],
   "source": [
    "# Building the q-binomial basis\n",
    "B = QBinomialBasis(universe=R)"
   ]
  },
  {
   "cell_type": "markdown",
   "id": "ffcee54d-7b4a-4d98-b5ea-29e865374c06",
   "metadata": {},
   "source": [
    "#### Case for $c_k'^{(i)}$"
   ]
  },
  {
   "cell_type": "code",
   "execution_count": 202,
   "id": "24557b91-1357-43ae-9309-d4d3cce823f6",
   "metadata": {},
   "outputs": [
    {
     "data": {
      "text/html": [
       "<html>\\(\\displaystyle \\mathit{Sk}^{4} + \\left(-q^{5} q_{k}^{2} + \\left(q^{3} + q^{2}\\right) q_{k} - q - 1\\right) \\mathit{Sk}^{3} + \\left(\\left(-q^{7} - q^{6} - q^{5}\\right) q_{k}^{3} + \\left(2 q^{4} + q^{3}\\right) q_{k}^{2} + \\left(-q^{3} - q^{2}\\right) q_{k} + q\\right) \\mathit{Sk}^{2} + \\left(\\left(-q^{7} - q^{6} - q^{5}\\right) q_{k}^{4} + \\left(q^{5} + 2 q^{4} + q^{3}\\right) q_{k}^{3} - q^{2} q_{k}^{2}\\right) \\mathit{Sk} - q^{5} q_{k}^{5} + \\left(q^{4} + q^{3}\\right) q_{k}^{4} - q^{2} q_{k}^{3}\\)</html>"
      ],
      "text/latex": [
       "$\\displaystyle \\mathit{Sk}^{4} + \\left(-q^{5} q_{k}^{2} + \\left(q^{3} + q^{2}\\right) q_{k} - q - 1\\right) \\mathit{Sk}^{3} + \\left(\\left(-q^{7} - q^{6} - q^{5}\\right) q_{k}^{3} + \\left(2 q^{4} + q^{3}\\right) q_{k}^{2} + \\left(-q^{3} - q^{2}\\right) q_{k} + q\\right) \\mathit{Sk}^{2} + \\left(\\left(-q^{7} - q^{6} - q^{5}\\right) q_{k}^{4} + \\left(q^{5} + 2 q^{4} + q^{3}\\right) q_{k}^{3} - q^{2} q_{k}^{2}\\right) \\mathit{Sk} - q^{5} q_{k}^{5} + \\left(q^{4} + q^{3}\\right) q_{k}^{4} - q^{2} q_{k}^{3}$"
      ],
      "text/plain": [
       "Sk^4 + (-q^5*q_k^2 + (q^3 + q^2)*q_k - q - 1)*Sk^3 + ((-q^7 - q^6 - q^5)*q_k^3 + (2*q^4 + q^3)*q_k^2 + (-q^3 - q^2)*q_k + q)*Sk^2 + ((-q^7 - q^6 - q^5)*q_k^4 + (q^5 + 2*q^4 + q^3)*q_k^3 - q^2*q_k^2)*Sk - q^5*q_k^5 + (q^4 + q^3)*q_k^4 - q^2*q_k^3"
      ]
     },
     "execution_count": 202,
     "metadata": {},
     "output_type": "execute_result"
    }
   ],
   "source": [
    "# Building the recurrence for c_hat_1_prime\n",
    "rec_c_hat_i_prime = B.recurrence(rec_ck_i_prime, output=\"ore\");\n",
    "c_hat_1_prime = solution(rec_c_hat_i_prime, B.inner_init_values(ck_1_prime, 4))\n",
    "c_hat_2_prime = solution(rec_c_hat_i_prime, B.inner_init_values(ck_2_prime, 4))\n",
    "rec_c_hat_i_prime"
   ]
  },
  {
   "cell_type": "code",
   "execution_count": 204,
   "id": "1729efa4-e125-46fd-a681-7c84da15f03a",
   "metadata": {},
   "outputs": [],
   "source": [
    "# Checking the equality with the guessed dFunction recurrence\n",
    "Sk = rec_c_hat_i_prime.parent().0; q_k = rec_c_hat_i_prime.parent().base().0\n",
    "rec_guessed_c_hat_i_prime = Sk^2 - q_k^2*q*Sk - q_k^3*q\n",
    "guessed_c_hat_1_prime = solution(rec_guessed_c_hat_i_prime, B.inner_init_values(ck_1_prime, 2))\n",
    "guessed_c_hat_2_prime = solution(rec_guessed_c_hat_i_prime, B.inner_init_values(ck_2_prime, 2))"
   ]
  },
  {
   "cell_type": "code",
   "execution_count": 205,
   "id": "bb535f28-0f29-4570-95f1-520dc71c8233",
   "metadata": {},
   "outputs": [
    {
     "data": {
      "text/html": [
       "<html>\\(\\displaystyle \\mathrm{True}\\)</html>"
      ],
      "text/latex": [
       "$\\displaystyle \\mathrm{True}$"
      ],
      "text/plain": [
       "True"
      ]
     },
     "execution_count": 205,
     "metadata": {},
     "output_type": "execute_result"
    }
   ],
   "source": [
    "c_hat_1_prime == guessed_c_hat_1_prime ## Checked the first 50 terms"
   ]
  },
  {
   "cell_type": "code",
   "execution_count": 206,
   "id": "279d2d30-3266-45d2-8060-f50fdbb3426e",
   "metadata": {},
   "outputs": [
    {
     "data": {
      "text/html": [
       "<html>\\(\\displaystyle \\mathrm{True}\\)</html>"
      ],
      "text/latex": [
       "$\\displaystyle \\mathrm{True}$"
      ],
      "text/plain": [
       "True"
      ]
     },
     "execution_count": 206,
     "metadata": {},
     "output_type": "execute_result"
    }
   ],
   "source": [
    "c_hat_2_prime == guessed_c_hat_2_prime ## Checked the first 50 terms"
   ]
  },
  {
   "cell_type": "markdown",
   "id": "29b45ecd-cbe4-4ac5-a526-3ffc81cc8b42",
   "metadata": {
    "jp-MarkdownHeadingCollapsed": true,
    "tags": []
   },
   "source": [
    "## Example 5.6 (RR-identity)"
   ]
  },
  {
   "cell_type": "code",
   "execution_count": 147,
   "id": "7e3d2f26-8988-4373-a59c-c176687162bd",
   "metadata": {},
   "outputs": [],
   "source": [
    "# Creating the basic structures for the example\n",
    "R = PolynomialRing(QQ, [\"q\", \"t\"]); q,t = R.gens()\n",
    "F = R.fraction_field()\n",
    "OA, (q_n, E) = get_qshift_algebra(\"q_n\", \"q\", \"E\", 1, True, R) # creating the ore_algebra"
   ]
  },
  {
   "cell_type": "code",
   "execution_count": 155,
   "id": "b6f2646d-5a92-401a-b75d-325a4e72c163",
   "metadata": {},
   "outputs": [
    {
     "data": {
      "text/html": [
       "<html>\\(\\displaystyle E^{2} + \\left(\\left(q^{3} t + q^{2} t\\right) q_{n}^{2} - q t q_{n} - 1\\right) E + q^{3} t^{2} q_{n}^{4} - q^{2} t^{2} q_{n}^{3}\\)</html>"
      ],
      "text/latex": [
       "$\\displaystyle E^{2} + \\left(\\left(q^{3} t + q^{2} t\\right) q_{n}^{2} - q t q_{n} - 1\\right) E + q^{3} t^{2} q_{n}^{4} - q^{2} t^{2} q_{n}^{3}$"
      ],
      "text/plain": [
       "E^2 + ((q^3*t + q^2*t)*q_n^2 - q*t*q_n - 1)*E + q^3*t^2*q_n^4 - q^2*t^2*q_n^3"
      ]
     },
     "execution_count": 155,
     "metadata": {},
     "output_type": "execute_result"
    }
   ],
   "source": [
    "# Creating them recurrence equation for e_n\n",
    "rec_en = E^2 - (1+q_n*q*t-q_n^2*q^2*t - q_n^2*q^3*t)*E - (q_n^3*q^2*(1-q_n*q))*t^2\n",
    "rec_en"
   ]
  },
  {
   "cell_type": "code",
   "execution_count": 156,
   "id": "bef30852-f5f4-4904-b95e-62209d3840cc",
   "metadata": {},
   "outputs": [],
   "source": [
    "# Creating the product basis using the q-binomial and q-power basis.\n",
    "P = QPowerBasis(universe=F)\n",
    "C = QBinomialBasis(universe=F)\n",
    "B = ProductBasis([P, C])"
   ]
  },
  {
   "cell_type": "code",
   "execution_count": 158,
   "id": "62e2742b-ff7f-4551-9ee7-c2326d15d45a",
   "metadata": {},
   "outputs": [
    {
     "data": {
      "text/html": [
       "<html>\\(\\displaystyle \\mathit{Sk} + t\\)</html>"
      ],
      "text/latex": [
       "$\\displaystyle \\mathit{Sk} + t$"
      ],
      "text/plain": [
       "Sk + t"
      ]
     },
     "execution_count": 158,
     "metadata": {},
     "output_type": "execute_result"
    }
   ],
   "source": [
    "# Computing the recurrence for the even section (i.e., q^{nk}qbinom{n,k})\n",
    "M = B.recurrence(rec_en, output=\"ore\")\n",
    "M[0,0].gcrd(M[1,0])"
   ]
  },
  {
   "cell_type": "code",
   "execution_count": null,
   "id": "f8d72f9f-1c10-4a58-a82f-19a96298238e",
   "metadata": {},
   "outputs": [],
   "source": []
  }
 ],
 "metadata": {
  "kernelspec": {
   "display_name": "SageMath 9.7",
   "language": "sage",
   "name": "sagemath"
  },
  "language_info": {
   "codemirror_mode": {
    "name": "ipython",
    "version": 3
   },
   "file_extension": ".py",
   "mimetype": "text/x-python",
   "name": "python",
   "nbconvert_exporter": "python",
   "pygments_lexer": "ipython3",
   "version": "3.10.5"
  }
 },
 "nbformat": 4,
 "nbformat_minor": 5
}
