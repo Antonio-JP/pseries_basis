{
 "cells": [
  {
   "cell_type": "markdown",
   "metadata": {},
   "source": [
    "# **Examples from JSC article**\n",
    "\n",
    "In this notebook we reproduce all the computations done throughout the original article (see [this link]() for the JSC version and [this link](https://arxiv.org/abs/2202.05550) for the arXiV version). This showcase how to use the package `pseries_basis` in practice."
   ]
  },
  {
   "cell_type": "code",
   "execution_count": 1,
   "metadata": {},
   "outputs": [],
   "source": [
    "# Loading the package\n",
    "from pseries_basis import *\n",
    "from ore_algebra import *\n",
    "n = PSBasis.n(PSBasis)"
   ]
  },
  {
   "cell_type": "markdown",
   "metadata": {},
   "source": [
    "### **Examples 5 and 7**\n",
    "\n",
    "In this examples we explored the basic properties of the power basis $\\mathcal{P} = \\langle x^k\\rangle_{k=0}^\\infty$ and the binomial basis $\\mathcal{C} = \\langle\\binom{x}{k}\\rangle_{k=0}^\\infty$.\n",
    "\n",
    "These to basis are easy to get in our package by the classes `PowerBasis` and `BinomialBasis`:"
   ]
  },
  {
   "cell_type": "code",
   "execution_count": 2,
   "metadata": {},
   "outputs": [
    {
     "data": {
      "text/plain": [
       "[1, x, x^2, x^3, x^4, x^5, x^6, x^7, x^8, x^9]"
      ]
     },
     "execution_count": 2,
     "metadata": {},
     "output_type": "execute_result"
    }
   ],
   "source": [
    "P = PowerBasis()\n",
    "P[:10]"
   ]
  },
  {
   "cell_type": "code",
   "execution_count": 3,
   "metadata": {},
   "outputs": [
    {
     "data": {
      "text/plain": [
       "[1, x, 1/2*x^2 - 1/2*x, 1/6*x^3 - 1/2*x^2 + 1/3*x]"
      ]
     },
     "execution_count": 3,
     "metadata": {},
     "output_type": "execute_result"
    }
   ],
   "source": [
    "C = BinomialBasis()\n",
    "C[:4]"
   ]
  },
  {
   "cell_type": "markdown",
   "metadata": {},
   "source": [
    "In example 5, we stated that both sequences are **factorial bases**. This means that the elements in the sequences can be obtained by multiplying the polynomial by a new polynomial of degree 1. \n",
    "\n",
    "**Factorial bases** has their own structure in the package (see [documentation](https://antonio-jp.github.io/pseries_basis/pseries_basis/factorial_basis.html#pseries_basis.factorial_basis.FactorialBasis)) and include plenty of methods related with this feature."
   ]
  },
  {
   "cell_type": "code",
   "execution_count": 4,
   "metadata": {},
   "outputs": [
    {
     "data": {
      "text/plain": [
       "True"
      ]
     },
     "execution_count": 4,
     "metadata": {},
     "output_type": "execute_result"
    }
   ],
   "source": [
    "isinstance(P, FactorialBasis)"
   ]
  },
  {
   "cell_type": "code",
   "execution_count": 5,
   "metadata": {},
   "outputs": [
    {
     "data": {
      "text/plain": [
       "True"
      ]
     },
     "execution_count": 5,
     "metadata": {},
     "output_type": "execute_result"
    }
   ],
   "source": [
    "isinstance(C, FactorialBasis)"
   ]
  },
  {
   "cell_type": "markdown",
   "metadata": {},
   "source": [
    "In Example 7 we showed how the root sequence and leading coefficient sequences defined the bases $\\mathcal{P}$ and $\\mathcal{C}$. These two properties can be obtained from the code using the methods ``root_sequence`` and ``leading_coefficient`` or the attributes ``rho`` and ``cn`` (following the notation from the paper):\n",
    "\n",
    "Root sequence and leading coefficient sequence for $\\mathcal{P}$ using the methods:"
   ]
  },
  {
   "cell_type": "code",
   "execution_count": 6,
   "metadata": {},
   "outputs": [
    {
     "name": "stdout",
     "output_type": "stream",
     "text": [
      "[0, 0, 0, 0, 0, 0, 0, 0, 0, 0]\n",
      "[1, 1, 1, 1, 1, 1, 1, 1, 1, 1]\n"
     ]
    }
   ],
   "source": [
    "rho_P = P.root_sequence()\n",
    "print([rho_P(i) for i in range(10)])\n",
    "cn_P = P.leading_coefficient()\n",
    "print([cn_P(i) for i in range(10)])"
   ]
  },
  {
   "cell_type": "markdown",
   "metadata": {},
   "source": [
    "Root sequence and leading coefficient sequence for $\\mathcal{C}$ using the attributes:"
   ]
  },
  {
   "cell_type": "code",
   "execution_count": 7,
   "metadata": {},
   "outputs": [
    {
     "name": "stdout",
     "output_type": "stream",
     "text": [
      "[0, 1, 2, 3, 4, 5, 6, 7, 8, 9]\n",
      "[1, 1, 1/2, 1/6, 1/24, 1/120, 1/720, 1/5040, 1/40320, 1/362880]\n"
     ]
    }
   ],
   "source": [
    "rho_C = C.rho\n",
    "print([rho_C(i) for i in range(10)])\n",
    "cn_C = C.cn\n",
    "print([cn_C(i) for i in range(10)])"
   ]
  },
  {
   "cell_type": "markdown",
   "metadata": {},
   "source": [
    "### **Example 10**\n",
    "\n",
    "Example 10 shows the basic compatibilities for the power ($\\mathcal{P}$) and binomial ($\\mathcal{C}$) bases of the basic operators $E: x \\mapsto x+1$ and $D = \\partial_x$.\n",
    "\n",
    "In ``pseries_basis``, the compatibilities for default bases are automatically built, but the user can always set up more compatibilities on the go by providing the compatibility equation. \n",
    "\n",
    "The method `compatibility`, after receiving an operator $L$, returns the compatibility in the following format:\n",
    "$$(A, B, m, \\alpha),$$\n",
    "where \n",
    "* $A,B$ are non-negative integers, are the bounds of the compatibility.\n",
    "* $m$ is a positive integer, meaning the number of sections for compatibility.\n",
    "* $\\alpha(j,i,k) = \\alpha_{k,j,i}$ is a three-indexed sequence, are the compatibility coefficients.\n",
    "Such that, for all $k\\in \\mathbb{N}$ and $r \\in \\{0,\\ldots,m-1\\}$ the following identity holds (see definition 50 in the [paper](https://arxiv.org/abs/2202.05550)):\n",
    "$$L P_{km+r}(x) = \\sum_{i=-A}**B \\alpha_{k,j,i} P_{km+r+i}(x).$$\n",
    "\n",
    "**Compatibilities for $\\mathcal{P}$**"
   ]
  },
  {
   "cell_type": "code",
   "execution_count": 8,
   "metadata": {},
   "outputs": [
    {
     "data": {
      "text/plain": [
       "dict_keys(['x', 'Id', 'Dx'])"
      ]
     },
     "execution_count": 8,
     "metadata": {},
     "output_type": "execute_result"
    }
   ],
   "source": [
    "P.compatible_operators()"
   ]
  },
  {
   "cell_type": "markdown",
   "metadata": {},
   "source": [
    "Here we see how the power basis has compatibility with 3 different operators:\n",
    "* Multiplication by $x$\n",
    "* The identity operator $Id$\n",
    "* The standard derivation $\\partial_x$ or $D$.\n",
    "\n",
    "Let us see the compatibility for the standard derivation:"
   ]
  },
  {
   "cell_type": "code",
   "execution_count": 9,
   "metadata": {},
   "outputs": [
    {
     "name": "stdout",
     "output_type": "stream",
     "text": [
      "A=1; B=0; m=1\n",
      "alpha = [n, 0]\n"
     ]
    }
   ],
   "source": [
    "A,B,m,alpha = P.compatibility('Dx')\n",
    "print(f\"{A=}; {B=}; {m=}\")\n",
    "print(f\"alpha = {[alpha(0,i,n) for i in range(-A, B+1)]}\")"
   ]
  },
  {
   "cell_type": "markdown",
   "metadata": {},
   "source": [
    "This means that the following identity holds:\n",
    "$$\\partial_x (x^k) = k(x^{k-1}),$$\n",
    "which is the usual definition of a derivation. We can check this identity up to $k = 100$ using the following code:"
   ]
  },
  {
   "cell_type": "code",
   "execution_count": 10,
   "metadata": {},
   "outputs": [
    {
     "data": {
      "text/plain": [
       "True"
      ]
     },
     "execution_count": 10,
     "metadata": {},
     "output_type": "execute_result"
    }
   ],
   "source": [
    "all(sum(alpha(0, i, k)*P[k+i] for i in range(-A, B+1)) == P[k].derivative() for k in range(A,100))"
   ]
  },
  {
   "cell_type": "markdown",
   "metadata": {},
   "source": [
    "**Compatibilities for $\\mathcal{C}$**"
   ]
  },
  {
   "cell_type": "code",
   "execution_count": 11,
   "metadata": {},
   "outputs": [
    {
     "data": {
      "text/plain": [
       "dict_keys(['x', 'Et', 'E'])"
      ]
     },
     "execution_count": 11,
     "metadata": {},
     "output_type": "execute_result"
    }
   ],
   "source": [
    "C.compatible_operators()"
   ]
  },
  {
   "cell_type": "markdown",
   "metadata": {},
   "source": [
    "In this case, we obtain three different operators:\n",
    "\n",
    "* Multiplication by $x$.\n",
    "* A special shift operator $E_t$ (in this case equivalent to $E$)\n",
    "* The usual shift operator $E: x \\mapsto x+1$.\n",
    "\n",
    "We recommend seeing the [official documentation for the Binomial Basis](https://antonio-jp.github.io/pseries_basis/pseries_basis/factorial_basis.html#pseries_basis.factorial_basis.BinomialBasis) to see how this operator $E_t$ is usually considered.\n",
    "\n",
    "Let us study now the compatibility of $\\mathcal{C}$ with the natural shift $E: x \\mapsto x+1$:"
   ]
  },
  {
   "cell_type": "code",
   "execution_count": 12,
   "metadata": {},
   "outputs": [
    {
     "name": "stdout",
     "output_type": "stream",
     "text": [
      "A=1; B=0; m=1\n",
      "alpha = [1, 1]\n"
     ]
    }
   ],
   "source": [
    "A,B,m,alpha = C.compatibility('E')\n",
    "print(f\"{A=}; {B=}; {m=}\")\n",
    "print(f\"alpha = {[alpha(0,i,n) for i in range(-A, B+1)]}\")"
   ]
  },
  {
   "cell_type": "markdown",
   "metadata": {},
   "source": [
    "which means that the following identity holds:\n",
    "$$ E \\binom{n}{k} = \\binom{x+1}{k} = \\binom{x}{k-1} + \\binom{x}{k},$$\n",
    "which is a [classical identity for the binomials](https://en.wikipedia.org/wiki/Binomial_coefficient#Recursive_formula). We can check this identity up to $k = 100$ using the following code:"
   ]
  },
  {
   "cell_type": "code",
   "execution_count": 13,
   "metadata": {},
   "outputs": [
    {
     "data": {
      "text/plain": [
       "True"
      ]
     },
     "execution_count": 13,
     "metadata": {},
     "output_type": "execute_result"
    }
   ],
   "source": [
    "x = C[1].parent().gens()[0] # getting the value for x for the substitution\n",
    "all(sum(alpha(0, i, k)*C[k+i] for i in range(-A, B+1)) == C[k](x+1) for k in range(A,100))"
   ]
  },
  {
   "cell_type": "markdown",
   "metadata": {},
   "source": [
    "### **Example 23**\n",
    "\n",
    "In Example 23 we compute the equivalent recurrence operators related with different operators for the factorial basis $\\mathcal{P}$ and $\\mathcal{C}$. This recurrence operator can be obtained using the method `recurrence` from a basis. The output of method `recurrence` is an [Ore Operator](https://github.com/mkauers/ore_algebra) in the operators $S_n$ and $S_n^{-1}$ (represented in the code with ``Sn`` and ``Sni``) which are the natural and inverted shift w.r.t. $n$:\n",
    "\n",
    "**Recurrences for $\\mathcal{P}$**"
   ]
  },
  {
   "cell_type": "code",
   "execution_count": 14,
   "metadata": {},
   "outputs": [
    {
     "data": {
      "text/plain": [
       "(n + 1)*Sn"
      ]
     },
     "execution_count": 14,
     "metadata": {},
     "output_type": "execute_result"
    }
   ],
   "source": [
    "P.recurrence('Dx') # recurrence for the derivation"
   ]
  },
  {
   "cell_type": "code",
   "execution_count": 15,
   "metadata": {},
   "outputs": [
    {
     "data": {
      "text/plain": [
       "Sni"
      ]
     },
     "execution_count": 15,
     "metadata": {},
     "output_type": "execute_result"
    }
   ],
   "source": [
    "P.recurrence('x') # recurrence for the multiplication by 'x'"
   ]
  },
  {
   "cell_type": "markdown",
   "metadata": {},
   "source": [
    "**Recurrences for $\\mathcal{C}$**"
   ]
  },
  {
   "cell_type": "code",
   "execution_count": 16,
   "metadata": {},
   "outputs": [
    {
     "data": {
      "text/plain": [
       "Sn + 1"
      ]
     },
     "execution_count": 16,
     "metadata": {},
     "output_type": "execute_result"
    }
   ],
   "source": [
    "C.recurrence('E') # recurrence for shift E: x --> x + 1"
   ]
  },
  {
   "cell_type": "code",
   "execution_count": 17,
   "metadata": {},
   "outputs": [
    {
     "data": {
      "text/plain": [
       "n*Sni + n"
      ]
     },
     "execution_count": 17,
     "metadata": {},
     "output_type": "execute_result"
    }
   ],
   "source": [
    "C.recurrence('x') # recurrence for the multiplication by 'x'"
   ]
  },
  {
   "cell_type": "markdown",
   "metadata": {},
   "source": [
    "### **Example 25**\n",
    "\n",
    "Example 25 is the firs time we use the compatibility ideas to solve some problems or to prove some identities. For doing so, we first consider difference operators in $E$ and $x$ and compute its associated recurrence using the method `recurrence`. Then we analyze the solutions of the original recurrence, the obtained recurrence and draft a conclusion.\n",
    "\n",
    "**Setting up the input operators**\n",
    "\n",
    "The first step is to create the input operators. For doing so, we are going to use the [``ore_algebra``](https://github.com/mkauers/ore_algebra) package:"
   ]
  },
  {
   "cell_type": "code",
   "execution_count": 18,
   "metadata": {},
   "outputs": [],
   "source": [
    "OE = OreAlgebra(QQ[x], ('E', lambda p : p(x=x+1), lambda p : 0))\n",
    "E = OE.gens()[0]; x = OE.base().gens()[0]"
   ]
  },
  {
   "cell_type": "markdown",
   "metadata": {},
   "source": [
    "##### **Example 25.1**\n",
    "\n",
    "The input operator is $L = E - c$ for a fixed constant. We can see we get for different values of $c$ the associated operator $\\tilde{L} = S_n - (c-1)$:"
   ]
  },
  {
   "cell_type": "code",
   "execution_count": 19,
   "metadata": {},
   "outputs": [
    {
     "data": {
      "text/plain": [
       "Sn - 2"
      ]
     },
     "execution_count": 19,
     "metadata": {},
     "output_type": "execute_result"
    }
   ],
   "source": [
    "C.recurrence(E - 3)"
   ]
  },
  {
   "cell_type": "code",
   "execution_count": 20,
   "metadata": {},
   "outputs": [
    {
     "data": {
      "text/plain": [
       "Sn - 9"
      ]
     },
     "execution_count": 20,
     "metadata": {},
     "output_type": "execute_result"
    }
   ],
   "source": [
    "C.recurrence(E - 10)"
   ]
  },
  {
   "cell_type": "code",
   "execution_count": 21,
   "metadata": {},
   "outputs": [
    {
     "data": {
      "text/plain": [
       "Sn + 2"
      ]
     },
     "execution_count": 21,
     "metadata": {},
     "output_type": "execute_result"
    }
   ],
   "source": [
    "C.recurrence(E + 1)"
   ]
  },
  {
   "cell_type": "markdown",
   "metadata": {},
   "source": [
    "The solution to the recursive equation $L = E - c$ is simple: a formal power series $f(x)$ such that $f(n) = pc^n$ for a constant $p$. If we write this formal power series in the form:\n",
    "$$f(x) = \\sum_{k=0}^\\infty a_k \\binom{x}{k},$$\n",
    "then the sequence $a_k$ satisfies the associate recurrence:\n",
    "$$\\tilde{L} a_k = a_{k+1} - (c-1)a_k.$$\n",
    "As we have just mentioned, the solution to this recurrence is $a_k = p(c-1)^k$, so for a fixed $n \\in \\mathbb{N}$ we have shown:\n",
    "$$f(n) = pc^n = \\sum_{k=0}^\\infty p(c-1)^k \\binom{n}{k} = p\\sum_{k=0}^n (c-1)^k \\binom{n}{k},$$\n",
    "or more concisely, for all $c \\in \\mathbb{K}$:\n",
    "$$c^n = \\sum_{k=0}^n (c-1)^k\\binom{n}{k}.$$"
   ]
  },
  {
   "cell_type": "markdown",
   "metadata": {},
   "source": [
    "##### **Example 25.2**\n",
    "\n",
    "In this example we took the operator $L = E^2 - 2E +1$. We can compute easily its associated recurrence operator:"
   ]
  },
  {
   "cell_type": "code",
   "execution_count": 22,
   "metadata": {},
   "outputs": [
    {
     "data": {
      "text/plain": [
       "Sn^2"
      ]
     },
     "execution_count": 22,
     "metadata": {},
     "output_type": "execute_result"
    }
   ],
   "source": [
    "C.recurrence(E**2 - 2*E + 1)"
   ]
  },
  {
   "cell_type": "markdown",
   "metadata": {},
   "source": [
    "The conclusion of this example is quite straightforward, since the solutions to the obtained recurrence are very limited:\n",
    "$$a = (a_0, a_1, 0, 0, 0, \\ldots).$$\n",
    "Using then the equivalence, let $f(x)$ be the solution to $L f(x) = 0$ and let $f(x) = \\sum_{k=0}^\\infty a_k \\binom{x}{n}$. Then, the function $f(x)$ has the form:\n",
    "$$f(x) = a_0 + a_1 \\binom{x}{1} = a_0 + a_1x$$\n",
    "\n",
    "We can check these are always solution to $L f(x) = 0$:\n",
    "$$\\begin{array}{rl}\n",
    "    L f(x) & = (a_0 + a_1(x+2)) - 2(a_0 + a_1(x+1)) + (a_0 + a_1x) \\\\\n",
    "           & = (a_0 - 2 a_0 + a_0) + (a_1 - 2a_1 + a_1)x + (2a_1 - 2a_1) \\\\\n",
    "           & = 0\n",
    "\\end{array}$$"
   ]
  },
  {
   "cell_type": "markdown",
   "metadata": {},
   "source": [
    "##### **Example 25.3**\n",
    "\n",
    "In this example we considered the operator $L = E^ 2 - E - 1$. Using the method `recurrence`, we can obtain again its associated recurrence operator:"
   ]
  },
  {
   "cell_type": "code",
   "execution_count": 23,
   "metadata": {},
   "outputs": [
    {
     "data": {
      "text/plain": [
       "Sn^2 + Sn - 1"
      ]
     },
     "execution_count": 23,
     "metadata": {},
     "output_type": "execute_result"
    }
   ],
   "source": [
    "C.recurrence(E**2 - E - 1)"
   ]
  },
  {
   "cell_type": "markdown",
   "metadata": {},
   "source": [
    "In this case we know a solution for the equation $L f(x) = 0$: a formal power series $f(x) = \\sum_{n\\geq 0} F_n x^n$ where $F_n$ is a sequence of Fibonacci numbers.\n",
    "On the other hand, if we solve the recurrence $\\tilde{L}$, then we obtain solutions of the form:\n",
    "$$a_k = (-1)^n (C_1F_n + C_2F_{n+1}),$$\n",
    "where $C_1$ and $C_2$ are two constants and $F_n$ are again the Fibonacci numbers (i.e., the sequence $0,1,1,2,...$). Hence, putting both solutions together, we obtain that, for all $n \\in \\mathbb{N}$ the following identity holds:\n",
    "$$F_n = \\sum_{k=0}^n (-1)^{k+1}F_k\\binom{n}{k},$$\n",
    "which is a [well-known identity](https://fungrim.org/entry/f95561/) for the Fibonacci numbers.\n",
    "\n",
    "We can easily prove another two identities of the Fibonacci numbers using this technique. Consider the subsequences $G_n = F_{2n}$ and $H_n = F_{3n}$. They satisfies the following recurrences:\n",
    "\n",
    "$$G_{n+2} = 3G_{n+1} - G_n,$$\n",
    "$$H_{n+2} = 3H_{n+1} + H_n.$$\n",
    "\n",
    "Let $L_G$ and $L_H$ be the annihilators for those recurrences. Let us use the method ``recurrence`` to compute their associated recurrences:"
   ]
  },
  {
   "cell_type": "code",
   "execution_count": 24,
   "metadata": {},
   "outputs": [
    {
     "name": "stdout",
     "output_type": "stream",
     "text": [
      "Ass. recurrence for G(n): Sn^2 - Sn - 1\n",
      "Ass. recurrence for H(n): Sn^2 - 2*Sn - 4\n"
     ]
    }
   ],
   "source": [
    "L_G = E**2 - 3*E + 1\n",
    "print(f\"Ass. recurrence for G(n): {C.recurrence(L_G)}\")\n",
    "L_H = E**2 - 4*E - 1\n",
    "print(f\"Ass. recurrence for H(n): {C.recurrence(L_H)}\")"
   ]
  },
  {
   "cell_type": "markdown",
   "metadata": {},
   "source": [
    "The recurrence $\\tilde{L}_G$ is exactly the recurrence for the Fibonacci numbers! Moreover, if we study the recurrence $\\tilde{L}_H$, we can see that the sequence $2^kF_k$ is a solution. Hence, we have shown two other known identities (see [here](https://fungrim.org/entry/ac4d13/) and [here](https://fungrim.org/entry/d454a3/)):\n",
    "$$G_n = F_{2n} = \\sum_{k=0}^n F_k \\binom{n}{k},$$\n",
    "$$H_n = F_{3n} = \\sum_{k=0}^n 2^kF_k \\binom{n}{k}.$$"
   ]
  },
  {
   "cell_type": "markdown",
   "metadata": {},
   "source": [
    "##### **Example 25.4**\n",
    "\n",
    "Now it is time for considering some recurrences $L$ that has some non-constant coefficients. In Example 25.4 we started with the operator of the factorial sequence:\n",
    "$$L = E - (x+1)$$\n",
    "The associated recurrence is the following:"
   ]
  },
  {
   "cell_type": "code",
   "execution_count": 25,
   "metadata": {},
   "outputs": [
    {
     "data": {
      "text/plain": [
       "Sn + (-n)*Sni + (-n)"
      ]
     },
     "execution_count": 25,
     "metadata": {},
     "output_type": "execute_result"
    }
   ],
   "source": [
    "C.recurrence(E - (x+1))"
   ]
  },
  {
   "cell_type": "markdown",
   "metadata": {},
   "source": [
    "This recurrence implies that any solution $c_k$ to $\\tilde{L}$ has $c_1 = 0$. Moreover, if we shift it backwards once we get:"
   ]
  },
  {
   "cell_type": "code",
   "execution_count": 26,
   "metadata": {},
   "outputs": [
    {
     "data": {
      "text/plain": [
       "(-n + 1)*Sni^2 + (-n + 1)*Sni + 1"
      ]
     },
     "execution_count": 26,
     "metadata": {},
     "output_type": "execute_result"
    }
   ],
   "source": [
    "C.reduce_SnSni(C.Sni()*C.recurrence(E - (x+1)))"
   ]
  },
  {
   "cell_type": "markdown",
   "metadata": {},
   "source": [
    "Which means that the solutions $c_k$ satisfy:\n",
    "$$c_k = (n-1)(c_{k-1} + c_{k-2}).$$\n",
    "The general solution to this recurrence is:\n",
    "$$c_k = k!\\left(C_1 \\sum_{l=0}\\frac{(-1)^l}{l!} + C_2\\right).$$\n",
    "\n",
    "If we consider the value $c_1 = 0$, then we obtain $C_2 = 0$. Hence, we obtain:\n",
    "$$n! = \\sum_{k=0}^n k! \\left(\\sum_{l=0}^k\\frac{(-1)^l}{l!}\\right)\\binom{n}{k}.$$"
   ]
  },
  {
   "cell_type": "markdown",
   "metadata": {},
   "source": [
    "##### **Example 25.5**\n",
    "\n",
    "This example is the first where the original recurrence equation has no Liouvillian solution. The input operator is:\n",
    "$$L = E^3 - (x^2 + 6x +10)E^2 + (x+2)(2x+5)E - (x+1)(x+2).$$\n",
    "\n",
    "Again, by using the method `recurrence` we can get the recurrence operator associated with this $L$:"
   ]
  },
  {
   "cell_type": "code",
   "execution_count": 27,
   "metadata": {},
   "outputs": [
    {
     "data": {
      "text/plain": [
       "Sn^3 + (-n^2 - 6*n - 7)*Sn^2 + (-2*n^2 - 8*n - 7)*Sn + (-n^2 - 2*n - 1)"
      ]
     },
     "execution_count": 27,
     "metadata": {},
     "output_type": "execute_result"
    }
   ],
   "source": [
    "C.recurrence(E**3 - (x**2 + 6*x +10)*E**2 + (x+2)*(2*x+5)*E - (x+1)*(x+2))"
   ]
  },
  {
   "cell_type": "markdown",
   "metadata": {},
   "source": [
    "Using other algorithms, we can see that this recurrence has a hypergeometric solution like $c_k = (k!)^2$. Hence, we can describe a non-Liouvillian solution to $L f(x) = 0$, with the explicit formula:\n",
    "$$f(n) = \\sum_{k=0}^n (k!)^2\\binom{n}{k}.$$"
   ]
  },
  {
   "cell_type": "markdown",
   "metadata": {},
   "source": [
    "### **Example 37**\n",
    "\n",
    "In Example 37, we study the first product basis by extending the kernel $\\binom{x}{n}^2$ to a polynomial basis.\n",
    "Product bases can be build in the system by using the class `ProductBasis`. This class will extend the compatibility of all given operators automatically from the original compatibility in the basic bases.\n",
    "\n",
    "However, we need to mention the type of operator we want to extend dividing them into endomorphism and derivations. The method of extension depends on the type of operator (the endomorphism case was shown in Theorem 55 of the [paper](https://arxiv.org/abs/2202.05550)). \n",
    "\n",
    "To build the basis $C_{(1,1),(0,0)}$ the following line suffices:"
   ]
  },
  {
   "cell_type": "code",
   "execution_count": 28,
   "metadata": {},
   "outputs": [
    {
     "data": {
      "text/plain": [
       "ProductBasis\n",
       "\t- Binomial basis (x) choose n\n",
       "\t- Binomial basis (x) choose n"
      ]
     },
     "execution_count": 28,
     "metadata": {},
     "output_type": "execute_result"
    }
   ],
   "source": [
    "C_11_00 = ProductBasis([C, C], ends={'E'})\n",
    "C_11_00"
   ]
  },
  {
   "cell_type": "markdown",
   "metadata": {},
   "source": [
    "**Compatibility with $E$**\n",
    "\n",
    "We can check the compatibility equation for the shift operator:"
   ]
  },
  {
   "cell_type": "code",
   "execution_count": 29,
   "metadata": {},
   "outputs": [
    {
     "name": "stdout",
     "output_type": "stream",
     "text": [
      "A=2; B=0; m=2\n",
      "alpha = \n",
      "[[1, 2, 1], [n/(n + 1), (2*n + 1)/(n + 1), 1]]\n"
     ]
    }
   ],
   "source": [
    "A,B,m,alpha = C_11_00.compatibility('E')\n",
    "print(f\"{A=}; {B=}; {m=}\")\n",
    "print(f\"alpha = \\n{[[alpha(j,i,n) for i in range(-A, B+1)] for j in range(m)]}\")"
   ]
  },
  {
   "cell_type": "markdown",
   "metadata": {},
   "source": [
    "We can see now that the value of $m$ is 2, meaning that the compatibility is defined in two sections: for the elements $2k$ and for the elements $2k+1$.\n",
    "\n",
    "Let us check equation (13) in the [paper](https://arxiv.org/abs/2202.05550). In this equation we are checking compatibility of the even terms $P_{2k}(x)$ (i.e, the first section with $j=0$):"
   ]
  },
  {
   "cell_type": "code",
   "execution_count": 30,
   "metadata": {},
   "outputs": [
    {
     "data": {
      "text/plain": [
       "[1, 2, 1]"
      ]
     },
     "execution_count": 30,
     "metadata": {},
     "output_type": "execute_result"
    }
   ],
   "source": [
    "[alpha(0,i,n) for i in range(-A, B+1)] "
   ]
  },
  {
   "cell_type": "markdown",
   "metadata": {},
   "source": [
    "This means precisely that equation (13) holds:\n",
    "$$P_{2k}(x+1) = 1 P_{2k-2}(x) + 2 P_{2k-1}(x)  + 1 P_{2k}(x).$$"
   ]
  },
  {
   "cell_type": "markdown",
   "metadata": {},
   "source": [
    "We can also check the coefficients from equation (15). Now we are looking for the compatibility for the odd terms $2k+1$, so we need to look to the section with $j=1$:"
   ]
  },
  {
   "cell_type": "code",
   "execution_count": 31,
   "metadata": {},
   "outputs": [
    {
     "data": {
      "text/plain": [
       "(1, (2*n + 1)/(n + 1), n/(n + 1))"
      ]
     },
     "execution_count": 31,
     "metadata": {},
     "output_type": "execute_result"
    }
   ],
   "source": [
    "alpha(1,0,n), alpha(1,-1,n), alpha(1,-2,n)"
   ]
  },
  {
   "cell_type": "markdown",
   "metadata": {},
   "source": [
    "From these coefficients, we can write the recurrence the odd terms of the basis satisfy (which is exactly (15)):\n",
    "$$P_{2k+1}(x+1) = 1 P_{2k-1}(x) + \\frac{2k + 1}{k+1} P_{2k}(x) + \\frac{k}{k+1}P_{2k+1}(x).$$"
   ]
  },
  {
   "cell_type": "markdown",
   "metadata": {},
   "source": [
    "**Compatibility with $X$:**\n",
    "\n",
    "In Example 37 we also shown the formulas for compatibility for th multiplication by $x$. We can see down here that both formulas from the [paper](https://arxiv.org/abs/2202.05550) can be recovered with the following piece of code:"
   ]
  },
  {
   "cell_type": "code",
   "execution_count": 32,
   "metadata": {},
   "outputs": [
    {
     "name": "stdout",
     "output_type": "stream",
     "text": [
      "A=0; B=1; m=2\n",
      "alpha:\n",
      "first section -> [n, n + 1]\n",
      "second section -> [n, n + 1]\n"
     ]
    }
   ],
   "source": [
    "A,B,m,alpha = C_11_00.compatibility('x')\n",
    "print(f\"{A=}; {B=}; {m=}\")\n",
    "print(\"alpha:\")\n",
    "print(f\"first section -> {[alpha(0,i,n) for i in range(-A, B+1)]}\")\n",
    "print(f\"second section -> {[alpha(1,i,n) for i in range(-A, B+1)]}\")"
   ]
  },
  {
   "cell_type": "markdown",
   "metadata": {},
   "source": [
    "In this case we can see that the compatibility formulas in each section are the same:\n",
    "$$xP_{2k}(x) = kP_{2k}(x)  + (k+1)P_{2k+1}(x),$$\n",
    "$$xP_{2k+1}(x) = kP_{2k+1}(x)  + (k+1)P_{2k+2}(x).$$"
   ]
  },
  {
   "cell_type": "markdown",
   "metadata": {},
   "source": [
    "## **Main examples of the paper**\n",
    "\n",
    "This section includes the main examples from the [paper](https://arxiv.org/abs/2202.05550) (i.e., its section 6).\n",
    "\n",
    "### **Example 44**\n",
    "\n",
    "In this example we work with an operator $L$ of order $7$:\n",
    "$$\\begin{array}{rl}\n",
    "L\\ &=\\ (x+8) (27034107689\\, x+247037440535)\\, E^7\\\\\n",
    "&-2 (x+7) (27034107689\\, x^2+707256640479\\, x+3519513987204)\\, E^6\\\\\n",
    "&+(27034107689\\, x^4+1763504948043\\, x^3+29534526868562\\, x^2\\\\\n",
    "&\\qquad\\qquad\\qquad +187161930754966\\, x+404930820118700)\\, E^5\\\\\n",
    "&-4 (121973169216\\, x^4+3928755304511\\, x^3+43197821249228\\, x^2\\\\\n",
    "&\\qquad\\qquad\\qquad +198945697078905\\, x+329021406797184)\\, E^4\\\\\n",
    "&+(2167208392754\\, x^4+45326791213914\\, x^3+347739537911929\\, x^2\\\\\n",
    "&\\qquad\\qquad\\qquad +1165212776491303\\, x+1439937061155596)\\, E^3\\\\\n",
    "&-2 (613023852648\\, x^4+8954947813901\\, x^3+52565810509778\\, x^2\\\\\n",
    "&\\qquad\\qquad\\qquad +141274453841469\\, x+142893654078876)\\, E^2\\\\\n",
    "&-(x+2)^2 (1109455476579\\, x^2+3624719391913\\, x-357803625948)\\, E\\\\\n",
    "&+24 (x+1)^2 (x+2) (8996538731\\, x+29816968829),\n",
    "\\end{array}$$"
   ]
  },
  {
   "cell_type": "code",
   "execution_count": 33,
   "metadata": {},
   "outputs": [],
   "source": [
    "L = sum([\n",
    "    E**7*(x+8)*(27034107689*x+247037440535),\n",
    "    -E**6*2*(x+7)*(27034107689*x**2+707256640479*x+3519513987204),\n",
    "    E**5*(27034107689*x**4+1763504948043*x**3+29534526868562*x**2+187161930754966*x+404930820118700),\n",
    "    -E**4*4*(121973169216*x**4+3928755304511*x**3+43197821249228*x**2+198945697078905*x+329021406797184),\n",
    "    E**3*(2167208392754*x**4+45326791213914*x**3+347739537911929*x**2+1165212776491303*x+1439937061155596),\n",
    "    -E**2*2*(613023852648*x**4+8954947813901*x**3+52565810509778*x**2+141274453841469*x+142893654078876),\n",
    "    -E*(x+2)*2*(1109455476579*x**2 + 3624719391913*x-357803625948),\n",
    "    24*(x+1)*2*(x+2)*(8996538731*x+29816968829),\n",
    "])"
   ]
  },
  {
   "cell_type": "markdown",
   "metadata": {},
   "source": [
    "This operators is built using the multiplication by $x$ and the shift operator $E$ so it is certainly compatible with the binomial basis. We can try to see the compatibility recurrence with this basis:"
   ]
  },
  {
   "cell_type": "code",
   "execution_count": 34,
   "metadata": {},
   "outputs": [
    {
     "data": {
      "text/plain": [
       "(27034107689*n^2 + 1058060671205*n + 10343839877166)*Sn^11 + (-54068215378*n^3 - 3171730280743*n^2 - 60367177203131*n - 375515714076170)*Sn^10 + (27034107689*n^4 + 2250118886445*n^3 + 63454052741427*n^2 + 750829363942371*n + 3216144625438506)*Sn^9 + (-244585707663*n^4 - 11109838955634*n^3 - 178441600717634*n^2 - 1167204758907073*n - 2452622856331934)*Sn^8 + (-762705145354*n^4 - 43913891082374*n^3 - 895087419553786*n^2 - 7794634090787260*n - 24735373253814280)*Sn^7 + (2554281137666*n^4 + 72370982033502*n^3 + 602132612364058*n^2 + 696251233492174*n - 6384359489665008)*Sn^6 + (14239397680488*n^4 + 469982105996824*n^3 + 5650012414735139*n^2 + 29337421015074157*n + 55568959092821460)*Sn^5 + (26715388355284*n^4 + 802568388226576*n^3 + 8795247582305557*n^2 + 41738197001213007*n + 72462258931901420)*Sn^4 + (26280214781962*n^4 + 676777333809862*n^3 + 6306708115151769*n^2 + 25231585803881087*n + 36605027752744940)*Sn^3 + (14432893593006*n^4 + 301499129167768*n^3 + 2248885677882753*n^2 + 7112488344747905*n + 8068906039795188)*Sn^2 + (4154338071791*n^4 + 64981945828907*n^3 + 356348918511658*n^2 + 817119596475472*n + 662229676386912)*Sn + 480302118283*n^4 + 4803021182830*n^3 + 16810574139905*n^2 + 24015105914150*n + 11527250838792"
      ]
     },
     "execution_count": 34,
     "metadata": {},
     "output_type": "execute_result"
    }
   ],
   "source": [
    "C.remove_Sni(C.recurrence(L))"
   ]
  },
  {
   "cell_type": "markdown",
   "metadata": {},
   "source": [
    "In this case, it does not seem to help: we have obtained a recurrence of order 11 and the coefficients are not improving at all its size or complexity (in fact, it seems the degrees of the coefficients are simply increasing). In the paper, we tried the product basis $\\mathcal{C}_{(1,1),(0,0)}$ that we have already built in this notebook.\n",
    "\n",
    "Since it is a product basis, all the compatibilities are now described in 2 sections, and we obtain a matrix of recurrence for each of our basic operators:"
   ]
  },
  {
   "cell_type": "code",
   "execution_count": 35,
   "metadata": {},
   "outputs": [
    {
     "data": {
      "text/plain": [
       "[                Sn + 1      (2*n + 1)/(n + 1)]\n",
       "[                  2*Sn (n + 1)/(n + 2)*Sn + 1]"
      ]
     },
     "execution_count": 35,
     "metadata": {},
     "output_type": "execute_result"
    }
   ],
   "source": [
    "## Equation 32\n",
    "C_11_00.recurrence('E')"
   ]
  },
  {
   "cell_type": "code",
   "execution_count": 36,
   "metadata": {},
   "outputs": [
    {
     "data": {
      "text/plain": [
       "[      n   n*Sni]\n",
       "[(n + 1)       n]"
      ]
     },
     "execution_count": 36,
     "metadata": {},
     "output_type": "execute_result"
    }
   ],
   "source": [
    "## Equation 33\n",
    "C_11_00.recurrence('x')"
   ]
  },
  {
   "cell_type": "markdown",
   "metadata": {},
   "source": [
    "We can then build a recurrence matrix for the operator $L$ by substituing in the operator $L$ the matrices we have just shown. This can be done in the code with the method `recurrence`:"
   ]
  },
  {
   "cell_type": "code",
   "execution_count": 37,
   "metadata": {},
   "outputs": [],
   "source": [
    "M = C_11_00.recurrence(L)\n",
    "L_00 = M[0,0]; L_01 = M[0,1]; L_10 = M[1,0]; L_11 = M[1,1]\n",
    "\n",
    "## Writing the output in text files\n",
    "def write_in_file(operator, file):\n",
    "    with open(file, \"w\") as f:\n",
    "        mons = operator.polynomial().monomials()\n",
    "        coeffs = operator.coefficients()\n",
    "        for i in range(len(mons)):\n",
    "            f.write(f\"({coeffs[i]})*{mons[i]} {'+' if i < len(mons)-1 else ''}\\n\")\n",
    "    return\n",
    "\n",
    "write_in_file(L_00, \"example44/L_00.txt\")\n",
    "write_in_file(L_01, \"example44/L_01.txt\")\n",
    "write_in_file(L_10, \"example44/L_10.txt\")\n",
    "write_in_file(L_11, \"example44/L_11.txt\")"
   ]
  },
  {
   "cell_type": "markdown",
   "metadata": {},
   "source": [
    "Now the variables $L_{ij}$ contains the operators described in equation (34). These operators are quite big, involving rational coefficients. We are going to print them here, but they are also available in the subfolder `example44` of the repository, each one in a `.txt` file with the corresponding name."
   ]
  },
  {
   "cell_type": "code",
   "execution_count": 38,
   "metadata": {},
   "outputs": [
    {
     "data": {
      "text/plain": [
       "(27034107689*n^2 + 841787809693*n + 6544142915370)*Sn^7 + (-54068215378*n^9 - 657558265666*n^8 + 37095713911221*n^7 + 1025489135164547*n^6 + 10691142574920339*n^5 + 57323567313337619*n^4 + 169677116361660226*n^3 + 274018839251402700*n^2 + 220488594955202952*n + 67334168501422560)/(n^6 + 21*n^5 + 175*n^4 + 735*n^3 + 1624*n^2 + 1764*n + 720)*Sn^6 + (27034107689*n^9 - 2967463897532*n^8 - 177910103595067*n^7 - 3564893119708019*n^6 - 35529302717905762*n^5 - 196601860342462371*n^4 - 622714432849619000*n^3 - 1105255334070853214*n^2 - 1004763207156854068*n - 356970548465376240)/(n^5 + 15*n^4 + 85*n^3 + 225*n^2 + 274*n + 120)*Sn^5 + (1972211122835*n^8 + 96501192732394*n^7 + 1682092157093846*n^6 + 14210500613504874*n^5 + 66129117751682725*n^4 + 185086594141542412*n^3 + 326192458089200486*n^2 + 340475299799632436*n + 154217757549581808)/(n^4 + 10*n^3 + 35*n^2 + 50*n + 24)*Sn^4 + (-2972566483581*n^7 + 131524570383853*n^6 + 4516790093123463*n^5 + 46822106744903251*n^4 + 217975963180888146*n^3 + 476905180515170004*n^2 + 456225985899587232*n + 143730146147388840)/(n^3 + 6*n^2 + 11*n + 6)*Sn^3 + (-64025119688979*n^6 - 1638153412759939*n^5 - 15942441014967807*n^4 - 74889750883180693*n^3 - 175540286563968134*n^2 - 187636222252902936*n - 70067612269238120)/(n^2 + 3*n + 2)*Sn^2 + (480302118283*n^4 - 960604236566*n^3 + 480302118283*n^2)*Sni^2 + (51155018697783*n^5 + 361796734446434*n^4 - 657200041893940*n^3 - 8430989579224290*n^2 - 14717175360973787*n - 4840274318725568)/(n + 1)*Sn + (33454229052317*n^4 + 138357323220577*n^3 + 113395793202981*n^2)*Sni + (154844689856629*n^4 + 1445150964718242*n^3 + 4331804856959795*n^2 + 4879573700918617*n + 1708194816390144)"
      ]
     },
     "execution_count": 38,
     "metadata": {},
     "output_type": "execute_result"
    }
   ],
   "source": [
    "L_00"
   ]
  },
  {
   "cell_type": "code",
   "execution_count": 39,
   "metadata": {},
   "outputs": [
    {
     "data": {
      "text/plain": [
       "(432545723024*n^3 + 13924454314467*n^2 + 132865603490137*n + 320663002853130)/(n + 7)*Sn^6 + (-811023230670*n^9 - 37537560577396*n^8 - 701377083344301*n^7 - 7013116159894573*n^6 - 42349048498079901*n^5 - 165298056655884679*n^4 - 430032837083767440*n^3 - 727181990061874632*n^2 - 709111257431946408*n - 288627075154225440)/(n^6 + 21*n^5 + 175*n^4 + 735*n^3 + 1624*n^2 + 1764*n + 720)*Sn^5 + (378477507646*n^9 + 9651817449260*n^8 - 84956276540988*n^7 - 4864102611835212*n^6 - 60612906473043864*n^5 - 359826098431415694*n^4 - 1142268348180551510*n^3 - 1935887247995744282*n^2 - 1598775392345052140*n - 486091649305683600)/(n^5 + 15*n^4 + 85*n^3 + 225*n^2 + 274*n + 120)*Sn^4 + (3985703076428*n^8 + 262554701903936*n^7 + 5600637162681716*n^6 + 57297215815442444*n^5 + 319287470855608696*n^4 + 1004783352889525384*n^3 + 1752288927398484324*n^2 + 1549175301973953672*n + 530815798417018032)/(n^4 + 10*n^3 + 35*n^2 + 50*n + 24)*Sn^3 + (-31542021389162*n^7 - 721177777654596*n^6 - 6018693139602036*n^5 - 22486064555748584*n^4 - 37418257622690546*n^3 - 28680798945992204*n^2 - 28795988890156048*n - 28586340437755128)/(n^3 + 6*n^2 + 11*n + 6)*Sn^2 + (6387467670450*n^4 + 5548687461740*n^3 - 11936155132190*n^2)*Sni^2 + (-43373316999528*n^6 - 1353232357105652*n^5 - 14171397923671520*n^4 - 66467776667670572*n^3 - 147160341914862856*n^2 - 142572019113612368*n - 45630352567628656)/(n^2 + 3*n + 2)*Sn + (93910361922620*n^4 + 618761828669950*n^3 + 1120591029666738*n^2 + 535497921358039*n)*Sni + (145189126994522*n^5 + 1632410816973520*n^4 + 6282481224669842*n^3 + 10377973565952071*n^2 + 7651623153396461*n + 2185904690695248)/(n + 1)"
      ]
     },
     "execution_count": 39,
     "metadata": {},
     "output_type": "execute_result"
    }
   ],
   "source": [
    "L_01"
   ]
  },
  {
   "cell_type": "code",
   "execution_count": 40,
   "metadata": {},
   "outputs": [
    {
     "data": {
      "text/plain": [
       "(432545723024*n^8 + 23224187359483*n^7 + 502488555653728*n^6 + 5710312952201326*n^5 + 37385228150050648*n^4 + 144628664112716707*n^3 + 322468734826398968*n^2 + 377024692155264852*n + 175280329796963040)/(n^6 + 27*n^5 + 295*n^4 + 1665*n^3 + 5104*n^2 + 8028*n + 5040)*Sn^7 + (-811023230670*n^8 - 38348583808066*n^7 - 721497569017449*n^6 - 7055433052082829*n^5 - 39388260638957573*n^4 - 128282198883459653*n^3 - 234900429440449300*n^2 - 213842222388469980*n - 68047095857571936)/(n^5 + 20*n^4 + 155*n^3 + 580*n^2 + 1044*n + 720)*Sn^6 + (378477507646*n^8 + 10219533710729*n^7 - 75115220337905*n^6 - 4953889797557169*n^5 - 62793464992380923*n^4 - 366656549667963608*n^3 - 1094530120869549178*n^2 - 1598526058285630416*n - 890711902164913736)/(n^4 + 14*n^3 + 71*n^2 + 154*n + 120)*Sn^5 + (3985703076428*n^7 + 268533256518578*n^6 + 5881896909629516*n^5 + 60941102732435774*n^4 + 333823647653768120*n^3 + 975936924004828404*n^2 + 1412686020604608428*n + 778778703650949592)/(n^3 + 9*n^2 + 26*n + 24)*Sn^4 + (-31542021389162*n^6 - 768490809738339*n^5 - 6775893526360080*n^4 - 25871325478307721*n^3 - 37467687420736498*n^2 + 141708371008704*n + 27882571850914632)/(n^2 + 5*n + 6)*Sn^3 + (-43373316999528*n^5 - 1418292332604944*n^4 - 15620751208675368*n^3 - 75263429520032880*n^2 - 159024495098275336*n - 115038763030742784)/(n + 2)*Sn^2 + (145189126994522*n^4 + 1850194507465303*n^3 + 7994397618949897*n^2 + 13842634241087293*n + 8121291375670477)*Sn + (6387467670450*n^4 + 21517356637865*n^3 + 15129888967415*n^2)*Sni + (93910361922620*n^4 + 853537733476500*n^3 + 2561847877528260*n^2 + 3043365922438753*n + 1241145416464373)"
      ]
     },
     "execution_count": 40,
     "metadata": {},
     "output_type": "execute_result"
    }
   ],
   "source": [
    "L_10"
   ]
  },
  {
   "cell_type": "code",
   "execution_count": 41,
   "metadata": {},
   "outputs": [
    {
     "data": {
      "text/plain": [
       "(27034107689*n^3 + 868821917382*n^2 + 7385930725063*n + 6544142915370)/(n + 8)*Sn^7 + (-54068215378*n^9 - 657558265666*n^8 + 52234814217061*n^7 + 1681006394079982*n^6 + 21792321065232130*n^5 + 152281425341639860*n^4 + 614728778531456855*n^3 + 1420138223211689168*n^2 + 1720566547214627076*n + 832541752971656640)/(n^6 + 27*n^5 + 295*n^4 + 1665*n^3 + 5104*n^2 + 8028*n + 5040)*Sn^6 + (27034107689*n^9 - 2967463897532*n^8 - 202511141592057*n^7 - 4645599827907501*n^6 - 54208096924525218*n^5 - 360843085732658375*n^4 - 1414637831335674934*n^3 - 3195312180012654656*n^2 - 3789790796103994360*n - 1790989640550298416)/(n^5 + 20*n^4 + 155*n^3 + 580*n^2 + 1044*n + 720)*Sn^5 + (1972211122835*n^8 + 106341607931190*n^7 + 2095782175045238*n^6 + 20209653012424702*n^5 + 104165543301301409*n^4 + 286259251251577612*n^3 + 373705459341213910*n^2 + 127075697605422184*n - 89841864856316632)/(n^4 + 14*n^3 + 71*n^2 + 154*n + 120)*Sn^4 + (-2972566483581*n^7 + 132432748660529*n^6 + 5503857165293235*n^5 + 69842247465825895*n^4 + 419946627592382902*n^3 + 1291165981961987260*n^2 + 1932507654211318632*n + 1097858050884380064)/(n^3 + 9*n^2 + 26*n + 24)*Sn^3 + (-64025119688979*n^6 - 1872567233016091*n^5 - 21281018299239919*n^4 - 120212444240346341*n^3 - 354375298416589790*n^2 - 512551279078975784*n - 282031993001867096)/(n^2 + 5*n + 6)*Sn^2 + (480302118283*n^4 - 480302118283*n^2)*Sni^2 + (51155018697783*n^5 + 442667227042522*n^4 - 602294853114288*n^3 - 13910744650681046*n^2 - 37991533393591443*n - 29599090586711280)/(n + 2)*Sn + (33454229052317*n^4 + 202072047489986*n^3 + 351192452571504*n^2 + 182574634133835*n)*Sni + (154844689856629*n^4 + 1707885163470190*n^3 + 6316768267324179*n^2 + 9265930118560325*n + 4530735002055517)"
      ]
     },
     "execution_count": 41,
     "metadata": {},
     "output_type": "execute_result"
    }
   ],
   "source": [
    "L_11"
   ]
  },
  {
   "cell_type": "markdown",
   "metadata": {},
   "source": [
    "### **Example 45 and 49**\n",
    "\n",
    "In Example 45, we consider the following operator $$L = (x+2)^2E^2 - (11x^2 + 33x+25)E - (x-1)^2.$$\n",
    "\n",
    "Here we are interested in the kernel \n",
    "$$K(x,n) = \\binom{x}{n}\\binom{x+n}{2n}.$$\n",
    "\n",
    "This kernel can not be built as a product basis of two other factorial basis. In Example 49 we described how we can build a basis to have this kernel as its elements: using a *Shuffled basis*. This kernel is composed of two main pieces:\n",
    "$$\\left\\{\\binom{x}{k}\\right\\}_k,\\qquad \\left\\{\\binom{x+k}{2k}, \\binom{x+k}{2k+1}\\right\\}_k.$$\n",
    "\n",
    "The first is the binomial basis (which we have already created in variable `C`). The second piece is more interesting by itself. However, it can be built from the code with the method `GeneralizedBinomial`. This method receives as arguments some values $a,b,c,m,r$ and builds a basis that has the binomial coefficients $$\\binom{ax + bk + c}{mk+r},$$ as its elements. It also incorporates all the default compatibilities. See the [documentation](https://antonio-jp.github.io/pseries_basis/pseries_basis/misc.html#pseries_basis.misc.GeneralizedBinomial) for further information.\n",
    "\n",
    "Then, the basis used for Example 45 is a $(2,1,2)$-shuffled basis of these two bases. We can produce this basis similarly to how we produced a `ProductBasis`: using the class `SievedBasis`:"
   ]
  },
  {
   "cell_type": "code",
   "execution_count": 42,
   "metadata": {},
   "outputs": [],
   "source": [
    "B_45 = SievedBasis([C, GeneralizedBinomial(1,1,0,2,0)], [1,0,1], ends={'E'})"
   ]
  },
  {
   "cell_type": "markdown",
   "metadata": {},
   "source": [
    "Using this basis we can check that every 3 terms we get an element of the kernel, i.e., if we denote the elements of the basis by $P_k(x)$, then:\n",
    "    $$P_{3n}(x) = K(x,n) = \\binom{x}{n}\\binom{x+n}{2n}.$$"
   ]
  },
  {
   "cell_type": "code",
   "execution_count": 43,
   "metadata": {},
   "outputs": [
    {
     "data": {
      "text/plain": [
       "True"
      ]
     },
     "execution_count": 43,
     "metadata": {},
     "output_type": "execute_result"
    }
   ],
   "source": [
    "x = B_45[1].parent().gens()[0]\n",
    "all(B_45[3*i] == binomial(x, i)*binomial(x+i,2*i) for i in range(10))"
   ]
  },
  {
   "cell_type": "markdown",
   "metadata": {},
   "source": [
    "At this point, we can use the method recurrence to obtain a $3\\times 3$ matrix of recurrences associated with the desired basis (by using the method `recurrence`):"
   ]
  },
  {
   "cell_type": "code",
   "execution_count": 44,
   "metadata": {},
   "outputs": [],
   "source": [
    "L = (x+2)^2*E^2 - (11*x^2 + 33*x + 25)*E - (x+1)^2"
   ]
  },
  {
   "cell_type": "markdown",
   "metadata": {},
   "source": [
    "In this problem we are only interested in expressing the solution in the following form:\n",
    "$$y_n = \\sum_{k=0}^n c_k K(n,k),$$\n",
    "so, in terms of the recurrences obtained, we are only concerned with the recurrences obtaines in the first column. All those recurrence must be solved simultaneously by $(c_k)$, which means we can compute the `gcrd` and obtain a simpler recurrence for $(c_k)$:"
   ]
  },
  {
   "cell_type": "code",
   "execution_count": 45,
   "metadata": {},
   "outputs": [
    {
     "data": {
      "text/plain": [
       "(n + 1)*Sn - 4*n - 2"
      ]
     },
     "execution_count": 45,
     "metadata": {},
     "output_type": "execute_result"
    }
   ],
   "source": [
    "M = B_45.recurrence(L)\n",
    "first_column = [B_45.remove_Sni(M[j,0]) for j in range(M.nrows())]\n",
    "gcrd = first_column[0].gcrd(*first_column[1:])\n",
    "gcrd"
   ]
  },
  {
   "cell_type": "markdown",
   "metadata": {},
   "source": [
    "As shown in Example 45, this is the recurrence for the Catalan numbers, hence we obtain:\n",
    "$$y_n = \\sum_{k=0}^n \\binom{2k}{k}\\binom{n}{k}\\binom{n+k}{2k} = \\sum_{k=0}^n \\binom{n}{k}^2 \\binom{n+k}{k}.$$\n",
    "\n",
    "This formula for $y_n$ is known as the Apéry's $\\zeta(2)$-sequence. We have found using this method a closed-form formula to a solution of the original operator\n",
    "$$L = (x+2)^2E^2 - (11x^2 + 33x+25)E - (x-1)^2.$$"
   ]
  },
  {
   "cell_type": "markdown",
   "metadata": {},
   "source": [
    "### **Example 46**\n",
    "\n",
    "Similarly to Example 45, in Example 46 we start with the following operator:\n",
    "$$L = (x + 2)^3E^2 −(2x + 3)(17x^2 + 51x + 39)E + (x + 1)^3,$$\n",
    "and we use the kernel:\n",
    "$$K(x,n) = \\binom{x+n}{2n}^2.$$\n",
    "\n",
    "For this example, we can use a `ProductBasis` using as building blosk the basis created for $\\binom{x+n}{2n}$ that we have seen before in Example 45 that can be created by using `GeneralizedBinomial`:"
   ]
  },
  {
   "cell_type": "code",
   "execution_count": 46,
   "metadata": {},
   "outputs": [],
   "source": [
    "B2 = GeneralizedBinomial(1,1,0,2,0)\n",
    "B_46 = ProductBasis([B2, B2], ends={'E'})"
   ]
  },
  {
   "cell_type": "markdown",
   "metadata": {},
   "source": [
    "Since the generalized binomial has compatibilities in 2 sections, we get that the compatibility of the product basis has exactly 4 sections, meaning that using the method `recurrence` now will provide a $4\\times 4$ matrix. Similarly to Example 45, we are only interested in solutions of the type\n",
    "$$y_n = \\sum_{k=0}^n c_k K(n,k) = \\sum_{k=0}^n c_k \\binom{n+k}{2n}^2,$$\n",
    "so from the matrix obtained for the operator L, we are only interested in the `gcrd` of the first column. Then $(c_k)$ must satisfy this recurrence:"
   ]
  },
  {
   "cell_type": "code",
   "execution_count": 47,
   "metadata": {},
   "outputs": [
    {
     "data": {
      "text/plain": [
       "(n^2 + 2*n + 1)*Sn - 16*n^2 - 16*n - 4"
      ]
     },
     "execution_count": 47,
     "metadata": {},
     "output_type": "execute_result"
    }
   ],
   "source": [
    "L = (x+2)**3*E**2 - (2*x+3)*(17*x**2+51*x+39)*E + (x+1)**3\n",
    "M = B_46.recurrence(L)\n",
    "first_column = [B_46.remove_Sni(M[j,0]) for j in range(M.nrows())]\n",
    "gcrd = first_column[0].gcrd(*first_column[1:])\n",
    "gcrd"
   ]
  },
  {
   "cell_type": "markdown",
   "metadata": {},
   "source": [
    "Using closure properties, we can check that a solution to this recurrence is the square of the catalan numbers $c_k = \\binom{2k}{k}^2$. Hence, putting everything together, we obtain:\n",
    "$$y_n = \\sum_{k=0}^n \\binom{2k}{k}^2 \\binom{n+k}{2k}^2 = \\sum_{k=0}^n \\binom{n}{k}^2\\binom{n+k}{k}^2.$$\n",
    "\n",
    "This sequence is known as the Apéry's $\\zeta(3)$-sequence, meaning we have found a close form for a solution of the operator \n",
    "$$L = (x + 2)^3E^2 −(2x + 3)(17x^2 + 51x + 39)E + (x + 1)^3.$$"
   ]
  },
  {
   "cell_type": "code",
   "execution_count": null,
   "metadata": {},
   "outputs": [],
   "source": []
  }
 ],
 "metadata": {
  "kernelspec": {
   "display_name": "SageMath 9.6",
   "language": "sage",
   "name": "sagemath"
  },
  "language_info": {
   "codemirror_mode": {
    "name": "ipython",
    "version": 3
   },
   "file_extension": ".py",
   "mimetype": "text/x-python",
   "name": "python",
   "nbconvert_exporter": "python",
   "pygments_lexer": "ipython3",
   "version": "3.8.10"
  },
  "vscode": {
   "interpreter": {
    "hash": "3e054866d505417e44d6aad08ac86cbe8bd2f6b08b1762d8d64a3234e0080990"
   }
  }
 },
 "nbformat": 4,
 "nbformat_minor": 4
}
