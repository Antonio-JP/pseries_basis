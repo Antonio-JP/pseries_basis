{
 "cells": [
  {
   "cell_type": "markdown",
   "id": "8a4c8229-16d1-4276-8c27-e2bc87d1dab9",
   "metadata": {
    "tags": []
   },
   "source": [
    "# Examples from (arxiv) Appendix B\n",
    "\n",
    "In this notebook we are going to show the automated computations to produce the results on Appendix B on the arXiv version of [this paper](https://arxiv.org/abs/2202.05550). These examples explored other sequences obtained from OEIS and have several identities we could prove. \n",
    "\n",
    "These examples were taken through exploration from [OEIS](https://oeis.org/). We encourage the reader to see the script `oeis_information_getter.py` in this folder to see the exploration technique and the sequences (which include those shown in this notebook) obtained from this database."
   ]
  },
  {
   "cell_type": "code",
   "execution_count": 1,
   "id": "a19cc201",
   "metadata": {
    "vscode": {
     "languageId": "python"
    }
   },
   "outputs": [],
   "source": [
    "%display latex\n",
    "from alive_progress import alive_bar\n",
    "from pseries_basis import *\n",
    "from pseries_basis.misc.ore import (get_recurrence_algebra, required_init, apply_operator_to_seq)\n",
    "from pseries_basis.misc.io import *\n",
    "from ore_algebra import *\n",
    "# Creating the objects used in the notebook\n",
    "OE, (x, E) = get_recurrence_algebra(\"x\", \"E\")\n",
    "B = BinomialBasis()"
   ]
  },
  {
   "cell_type": "markdown",
   "id": "c83791e2",
   "metadata": {
    "tags": []
   },
   "source": [
    "## The example [A007317](https://oeis.org/A007317) (Example 56)\n",
    "\n",
    "This sequence (the direct binomial transform of the Catalan numbers) starts with the terms $0, 1, 2, 5, 15, 51, 188,\\ldots$ and has the following recurrence:\n",
    "$$(n+2)a_{n+2} = (6n+4)a_{n+1} - 5na_n.$$"
   ]
  },
  {
   "cell_type": "code",
   "execution_count": 2,
   "id": "ebedd238-8e35-4044-b4fb-162fbd6d5c11",
   "metadata": {
    "vscode": {
     "languageId": "python"
    }
   },
   "outputs": [],
   "source": [
    "A007317 = EnhOEISSequence(\"A007317\")\n",
    "L007317 = A007317.dfinite_recurrence()\n",
    "## Removing the offset of the sequence\n",
    "L007317 = L007317.annihilator_of_associate(E**A007317.offsets()[0])\n",
    "A007317_seq = solution(L007317, A007317.first_terms(required_init(L007317)))"
   ]
  },
  {
   "cell_type": "markdown",
   "id": "042705e6",
   "metadata": {},
   "source": [
    "First, we can check that this, indeed the binomial transform of the Catalan numbers. For doing so, we compute a sequence $b_k$ such that:\n",
    "$$a_n = \\sum_{k=0}^n b_k \\binom{n}{k},$$\n",
    "obtaining the following recurrence for $b_n$:"
   ]
  },
  {
   "cell_type": "code",
   "execution_count": 3,
   "id": "cedbba81",
   "metadata": {
    "vscode": {
     "languageId": "python"
    }
   },
   "outputs": [
    {
     "data": {
      "text/html": [
       "<html>\\(\\displaystyle \\left(-x - 3\\right) E^{2} + \\left(3 x + 4\\right) E + 4 x + 2\\)</html>"
      ],
      "text/latex": [
       "$\\displaystyle \\left(-x - 3\\right) E^{2} + \\left(3 x + 4\\right) E + 4 x + 2$"
      ],
      "text/plain": [
       "(-x - 3)*E^2 + (3*x + 4)*E + 4*x + 2"
      ]
     },
     "metadata": {},
     "output_type": "display_data"
    },
    {
     "data": {
      "text/html": [
       "<html>\\(\\displaystyle \\left[1, 1, 2, 5, 14, 42, 132, 429, 1430, 4862\\right]\\)</html>"
      ],
      "text/latex": [
       "$\\displaystyle \\left[1, 1, 2, 5, 14, 42, 132, 429, 1430, 4862\\right]$"
      ],
      "text/plain": [
       "[1, 1, 2, 5, 14, 42, 132, 429, 1430, 4862]"
      ]
     },
     "execution_count": 3,
     "metadata": {},
     "output_type": "execute_result"
    }
   ],
   "source": [
    "equ_b = B.recurrence_orig(L007317); show(equ_b)\n",
    "seq_b = solution(equ_b,B.evaluation_to_self(A007317_seq, required_init(equ_b)))\n",
    "seq_b[:10]"
   ]
  },
  {
   "cell_type": "markdown",
   "id": "9fee9849",
   "metadata": {},
   "source": [
    "On the other hand, the Catalan numbers satisfies the following recurrence:\n"
   ]
  },
  {
   "cell_type": "code",
   "execution_count": 4,
   "id": "3f1a370b",
   "metadata": {
    "vscode": {
     "languageId": "python"
    }
   },
   "outputs": [
    {
     "data": {
      "text/html": [
       "<html>\\(\\displaystyle \\left(x + 2\\right) E - 4 x - 2\\)</html>"
      ],
      "text/latex": [
       "$\\displaystyle \\left(x + 2\\right) E - 4 x - 2$"
      ],
      "text/plain": [
       "(x + 2)*E - 4*x - 2"
      ]
     },
     "execution_count": 4,
     "metadata": {},
     "output_type": "execute_result"
    }
   ],
   "source": [
    "equ_cat = (x+2)*E - 2*(2*(x+1)-1); equ_cat"
   ]
  },
  {
   "cell_type": "markdown",
   "id": "f7119b5b",
   "metadata": {},
   "source": [
    "Using closure properties, we can check that $b_n$ is, indeed, the sequence of Catalan numbers:"
   ]
  },
  {
   "cell_type": "code",
   "execution_count": 5,
   "id": "e20e8517",
   "metadata": {
    "vscode": {
     "languageId": "python"
    }
   },
   "outputs": [
    {
     "name": "stdout",
     "output_type": "stream",
     "text": [
      "We need to check equality up to 4 elements\n"
     ]
    },
    {
     "data": {
      "text/html": [
       "<html>\\(\\displaystyle \\mathrm{True}\\)</html>"
      ],
      "text/latex": [
       "$\\displaystyle \\mathrm{True}$"
      ],
      "text/plain": [
       "True"
      ]
     },
     "execution_count": 5,
     "metadata": {},
     "output_type": "execute_result"
    }
   ],
   "source": [
    "d = required_init(equ_b.lclm(equ_cat))\n",
    "print(f\"We need to check equality up to {d} elements\")\n",
    "all(seq_b(i) == catalan_number(i) for i in range(d+1))"
   ]
  },
  {
   "cell_type": "markdown",
   "id": "79c8f11b",
   "metadata": {},
   "source": [
    "##### Double sum part\n",
    "Let us describe the values of $a_n$ as a double sum of binomials of the form:\n",
    "$$a_n = \\sum_{k=0}^n \\sum_{l=0}^k c_l \\binom{k}{l}\\binom{n}{k}.$$\n",
    "Using the method `recurrence` in the package `pseries_basis` we can get the new equation for $c_k$:"
   ]
  },
  {
   "cell_type": "code",
   "execution_count": 6,
   "id": "076d58cb",
   "metadata": {
    "scrolled": true,
    "vscode": {
     "languageId": "python"
    }
   },
   "outputs": [
    {
     "data": {
      "text/html": [
       "<html>\\(\\displaystyle \\left(-x - 4\\right) E^{3} - 2 E^{2} + \\left(7 x + 10\\right) E + 6 x + 6\\)</html>"
      ],
      "text/latex": [
       "$\\displaystyle \\left(-x - 4\\right) E^{3} - 2 E^{2} + \\left(7 x + 10\\right) E + 6 x + 6$"
      ],
      "text/plain": [
       "(-x - 4)*E^3 - 2*E^2 + (7*x + 10)*E + 6*x + 6"
      ]
     },
     "metadata": {},
     "output_type": "display_data"
    },
    {
     "data": {
      "text/html": [
       "<html>\\(\\displaystyle \\left[1, 0, 1, 1, 3, 6, 15, 36, 91, 232\\right]\\)</html>"
      ],
      "text/latex": [
       "$\\displaystyle \\left[1, 0, 1, 1, 3, 6, 15, 36, 91, 232\\right]$"
      ],
      "text/plain": [
       "[1, 0, 1, 1, 3, 6, 15, 36, 91, 232]"
      ]
     },
     "execution_count": 6,
     "metadata": {},
     "output_type": "execute_result"
    }
   ],
   "source": [
    "equ_c = B.recurrence_orig(equ_b); show(equ_c)\n",
    "seq_c = solution(equ_c,B.evaluation_to_self(seq_b, required_init(equ_c)))\n",
    "[seq_c(i) for i in range(10)]"
   ]
  },
  {
   "cell_type": "markdown",
   "id": "62cbd5b2",
   "metadata": {},
   "source": [
    "We can try to see if this new sequence appear in OEIS. In fact, id does and it provides a formula:"
   ]
  },
  {
   "cell_type": "code",
   "execution_count": 7,
   "id": "44024d8a",
   "metadata": {
    "scrolled": true,
    "vscode": {
     "languageId": "python"
    }
   },
   "outputs": [
    {
     "data": {
      "text/html": [
       "<html>\\(\\displaystyle \\begin{array}{l}\n",
       "\\verb|0:|\\verb| |\\verb|A005043:|\\verb| |\\verb|Riordan|\\verb| |\\verb|numbers:|\\verb| |\\verb|a(n)|\\verb| |\\verb|=|\\verb| |\\verb|(n-1)*(2*a(n-1)|\\verb| |\\verb|+|\\verb| |\\verb|3*a(n-2))/(n+1).|\\\\\n",
       "\\verb|1:|\\verb| |\\verb|A099323:|\\verb| |\\verb|Expansion|\\verb| |\\verb|of|\\verb| |\\verb|(sqrt(1+3*x)|\\verb| |\\verb|+|\\verb| |\\verb|sqrt(1-x))/(2*sqrt(1-x)).|\\\\\n",
       "\\verb|2:|\\verb| |\\verb|A174297:|\\verb| |\\verb|First|\\verb| |\\verb|column|\\verb| |\\verb|of|\\verb| |\\verb|A174295.|\n",
       "\\end{array}\\)</html>"
      ],
      "text/latex": [
       "$\\displaystyle \\begin{array}{l}\n",
       "\\verb|0:|\\verb| |\\verb|A005043:|\\verb| |\\verb|Riordan|\\verb| |\\verb|numbers:|\\verb| |\\verb|a(n)|\\verb| |\\verb|=|\\verb| |\\verb|(n-1)*(2*a(n-1)|\\verb| |\\verb|+|\\verb| |\\verb|3*a(n-2))/(n+1).|\\\\\n",
       "\\verb|1:|\\verb| |\\verb|A099323:|\\verb| |\\verb|Expansion|\\verb| |\\verb|of|\\verb| |\\verb|(sqrt(1+3*x)|\\verb| |\\verb|+|\\verb| |\\verb|sqrt(1-x))/(2*sqrt(1-x)).|\\\\\n",
       "\\verb|2:|\\verb| |\\verb|A174297:|\\verb| |\\verb|First|\\verb| |\\verb|column|\\verb| |\\verb|of|\\verb| |\\verb|A174295.|\n",
       "\\end{array}$"
      ],
      "text/plain": [
       "0: A005043: Riordan numbers: a(n) = (n-1)*(2*a(n-1) + 3*a(n-2))/(n+1).\n",
       "1: A099323: Expansion of (sqrt(1+3*x) + sqrt(1-x))/(2*sqrt(1-x)).\n",
       "2: A174297: First column of A174295."
      ]
     },
     "execution_count": 7,
     "metadata": {},
     "output_type": "execute_result"
    }
   ],
   "source": [
    "oeis([seq_c(i) for i in range(20)])"
   ]
  },
  {
   "cell_type": "markdown",
   "id": "1fbb7aa0",
   "metadata": {},
   "source": [
    "We have three possible candidates for our sequence $(c_n)$. Let us check the first (Riordan numbers) using closure properties again:"
   ]
  },
  {
   "cell_type": "code",
   "execution_count": 8,
   "id": "366f9a47",
   "metadata": {
    "vscode": {
     "languageId": "python"
    }
   },
   "outputs": [
    {
     "name": "stdout",
     "output_type": "stream",
     "text": [
      "We need to check equality up to 5 elements\n"
     ]
    },
    {
     "data": {
      "text/html": [
       "<html>\\(\\displaystyle \\mathrm{True}\\)</html>"
      ],
      "text/latex": [
       "$\\displaystyle \\mathrm{True}$"
      ],
      "text/plain": [
       "True"
      ]
     },
     "execution_count": 8,
     "metadata": {},
     "output_type": "execute_result"
    }
   ],
   "source": [
    "riordan = oeis([seq_c(i) for i in range(20)])[0]\n",
    "equ_riordan = (x+3)*E^2 - (x+1)*2*E - (x+1)*3\n",
    "d = required_init(equ_c.lclm(equ_riordan))\n",
    "print(f\"We need to check equality up to {d} elements\")\n",
    "[seq_c(i) for i in range(d+1)] == list(riordan.first_terms(d+1))"
   ]
  },
  {
   "cell_type": "markdown",
   "id": "3dae5262",
   "metadata": {},
   "source": [
    "Hence, we conclude that the sequence $a_n$ that satisfies the recurrence\n",
    "$$(n+3)a_{n+2} = (6n+10)a_{n+1} - 5(n+1)a_n,$$\n",
    "can be written by:\n",
    "$$a_n = \\sum_{k=0}^n c_k \\binom{n}{k} = \\sum_{k=0}^n \\sum_{l=0}^k R_l \\binom{k}{l} \\binom{n}{k}.$$"
   ]
  },
  {
   "cell_type": "markdown",
   "id": "00b8580f",
   "metadata": {
    "tags": []
   },
   "source": [
    "## The example [A000172](https://oeis.org/A000172) (Example 57)\n",
    "\n",
    "This sequence (also known as Franel numbers) starts with the terms $1, 2, 10, 56, 346, 2252,\\ldots$ and satisfies the following recurrence:\n",
    "$$(n + 1)^2a_{n+1} = (7n^2 + 7n + 2)a_n + 8n^2a_{n-1},\\text{ for $n > 1$}$$\n"
   ]
  },
  {
   "cell_type": "code",
   "execution_count": 9,
   "id": "e34481a8",
   "metadata": {
    "vscode": {
     "languageId": "python"
    }
   },
   "outputs": [
    {
     "data": {
      "text/html": [
       "<html>\\(\\displaystyle \\left(x^{2} + 4 x + 4\\right) E^{2} + \\left(-7 x^{2} - 21 x - 16\\right) E - 8 x^{2} - 16 x - 8\\)</html>"
      ],
      "text/latex": [
       "$\\displaystyle \\left(x^{2} + 4 x + 4\\right) E^{2} + \\left(-7 x^{2} - 21 x - 16\\right) E - 8 x^{2} - 16 x - 8$"
      ],
      "text/plain": [
       "(x^2 + 4*x + 4)*E^2 + (-7*x^2 - 21*x - 16)*E - 8*x^2 - 16*x - 8"
      ]
     },
     "execution_count": 9,
     "metadata": {},
     "output_type": "execute_result"
    }
   ],
   "source": [
    "A000172 = EnhOEISSequence(\"A000172\")\n",
    "L000172 = A000172.dfinite_recurrence()\n",
    "## Removing the offset of the sequence\n",
    "L000172 = L000172.annihilator_of_associate(E**A000172.offsets()[0])\n",
    "A000172_seq = solution(L000172, A000172.first_terms(required_init(L000172)));\n",
    "L000172"
   ]
  },
  {
   "cell_type": "markdown",
   "id": "b5c3d082",
   "metadata": {},
   "source": [
    "First of all, we can check that this sequence $a_n$ satisfies the following formula:\n",
    "$$a_n = \\sum_{k=0}^n \\binom{n}{k}^3,$$\n",
    "by using `ProductBasis` within the package, we can obtain a recurrence for a sequence $b_k$ such that:\n",
    "$$a_n = \\sum_{k=0}^n b_k \\binom{n}{k}^3$$\n",
    "using the following piece of code:"
   ]
  },
  {
   "cell_type": "code",
   "execution_count": 10,
   "id": "2a4b2521",
   "metadata": {
    "vscode": {
     "languageId": "python"
    }
   },
   "outputs": [
    {
     "data": {
      "text/html": [
       "<html>\\(\\displaystyle \\mathit{Sn} - 1\\)</html>"
      ],
      "text/latex": [
       "$\\displaystyle \\mathit{Sn} - 1$"
      ],
      "text/plain": [
       "Sn - 1"
      ]
     },
     "execution_count": 10,
     "metadata": {},
     "output_type": "execute_result"
    }
   ],
   "source": [
    "B3 = ProductBasis([B,B,B]); B3\n",
    "M = B3.recurrence(L000172)\n",
    "fM = [B3.remove_Sni(M.coefficient((i,0))) for i in range(3)]\n",
    "new_eq = fM[0].gcrd(*fM[1:])\n",
    "new_eq"
   ]
  },
  {
   "cell_type": "markdown",
   "id": "c304a857",
   "metadata": {},
   "source": [
    "Hence, the desired formula with the cube of the binomial holds."
   ]
  },
  {
   "cell_type": "markdown",
   "id": "8152fcf0",
   "metadata": {},
   "source": [
    "##### Double sum part\n",
    "Let us describe the values of $a_n$ as a double sum of binomials of the form:\n",
    "$$a_n = \\sum_{k=0}^n \\sum_{l=0}^k c_l \\binom{k}{l}\\binom{n}{k}.$$\n",
    "Using the method `recurrence` in the package `pseries_basis` we can get the new equation for $c_k$:"
   ]
  },
  {
   "cell_type": "code",
   "execution_count": 11,
   "id": "e988e7b5",
   "metadata": {
    "scrolled": true,
    "vscode": {
     "languageId": "python"
    }
   },
   "outputs": [
    {
     "data": {
      "text/html": [
       "<html>\\(\\displaystyle \\left(x^{2} + 12 x + 36\\right) E^{6} + \\left(3 x^{2} + 29 x + 70\\right) E^{5} + \\left(-23 x^{2} - 236 x - 600\\right) E^{4} + \\left(-135 x^{2} - 1115 x - 2298\\right) E^{3} + \\left(-266 x^{2} - 1738 x - 2820\\right) E^{2} + \\left(-228 x^{2} - 1092 x - 1272\\right) E - 72 x^{2} - 216 x - 144\\)</html>"
      ],
      "text/latex": [
       "$\\displaystyle \\left(x^{2} + 12 x + 36\\right) E^{6} + \\left(3 x^{2} + 29 x + 70\\right) E^{5} + \\left(-23 x^{2} - 236 x - 600\\right) E^{4} + \\left(-135 x^{2} - 1115 x - 2298\\right) E^{3} + \\left(-266 x^{2} - 1738 x - 2820\\right) E^{2} + \\left(-228 x^{2} - 1092 x - 1272\\right) E - 72 x^{2} - 216 x - 144$"
      ],
      "text/plain": [
       "(x^2 + 12*x + 36)*E^6 + (3*x^2 + 29*x + 70)*E^5 + (-23*x^2 - 236*x - 600)*E^4 + (-135*x^2 - 1115*x - 2298)*E^3 + (-266*x^2 - 1738*x - 2820)*E^2 + (-228*x^2 - 1092*x - 1272)*E - 72*x^2 - 216*x - 144"
      ]
     },
     "metadata": {},
     "output_type": "display_data"
    },
    {
     "data": {
      "text/html": [
       "<html>\\(\\displaystyle \\left[1, 0, 6, 12, 90, 360, 2040, 10080, 54810, 290640\\right]\\)</html>"
      ],
      "text/latex": [
       "$\\displaystyle \\left[1, 0, 6, 12, 90, 360, 2040, 10080, 54810, 290640\\right]$"
      ],
      "text/plain": [
       "[1, 0, 6, 12, 90, 360, 2040, 10080, 54810, 290640]"
      ]
     },
     "execution_count": 11,
     "metadata": {},
     "output_type": "execute_result"
    }
   ],
   "source": [
    "equ_d = B.recurrence_orig(L000172)\n",
    "seq_d = solution(equ_d,B.evaluation_to_self(A000172_seq, required_init(equ_d))) \n",
    "equ_c = B.recurrence_orig(equ_d); show(equ_c)\n",
    "seq_c = solution(equ_c,B.evaluation_to_self(seq_d, required_init(equ_c)))\n",
    "seq_c[:10]"
   ]
  },
  {
   "cell_type": "markdown",
   "id": "b7cc68e3",
   "metadata": {},
   "source": [
    "We obtain an order 6 recurrence for this sequence. Can we simplify this recurrence?"
   ]
  },
  {
   "cell_type": "code",
   "execution_count": 12,
   "id": "479d720a",
   "metadata": {
    "scrolled": true,
    "vscode": {
     "languageId": "python"
    }
   },
   "outputs": [
    {
     "data": {
      "text/html": [
       "<html>\\(\\displaystyle \\left(-x^{2} - 6 x - 9\\right) E^{3} + \\left(x^{2} + 5 x + 6\\right) E^{2} + \\left(24 x^{2} + 96 x + 96\\right) E + 36 x^{2} + 108 x + 72\\)</html>"
      ],
      "text/latex": [
       "$\\displaystyle \\left(-x^{2} - 6 x - 9\\right) E^{3} + \\left(x^{2} + 5 x + 6\\right) E^{2} + \\left(24 x^{2} + 96 x + 96\\right) E + 36 x^{2} + 108 x + 72$"
      ],
      "text/plain": [
       "(-x^2 - 6*x - 9)*E^3 + (x^2 + 5*x + 6)*E^2 + (24*x^2 + 96*x + 96)*E + 36*x^2 + 108*x + 72"
      ]
     },
     "execution_count": 12,
     "metadata": {},
     "output_type": "execute_result"
    }
   ],
   "source": [
    "guess([seq_c(i) for i in range(50)], OE)"
   ]
  },
  {
   "cell_type": "markdown",
   "id": "4d5cb87f-1ffa-481e-a52b-9b3e71ab2468",
   "metadata": {},
   "source": [
    "And is this sequence back in OEIS?"
   ]
  },
  {
   "cell_type": "code",
   "execution_count": 13,
   "id": "12e597e0-172c-4153-b84f-94539037b6ca",
   "metadata": {
    "vscode": {
     "languageId": "python"
    }
   },
   "outputs": [
    {
     "data": {
      "text/html": [
       "<html>\\(\\displaystyle \\verb|0:|\\verb| |\\verb|A002898:|\\verb| |\\verb|Number|\\verb| |\\verb|of|\\verb| |\\verb|n-step|\\verb| |\\verb|closed|\\verb| |\\verb|paths|\\verb| |\\verb|on|\\verb| |\\verb|hexagonal|\\verb| |\\verb|lattice.|\\)</html>"
      ],
      "text/latex": [
       "$\\displaystyle \\verb|0:|\\verb| |\\verb|A002898:|\\verb| |\\verb|Number|\\verb| |\\verb|of|\\verb| |\\verb|n-step|\\verb| |\\verb|closed|\\verb| |\\verb|paths|\\verb| |\\verb|on|\\verb| |\\verb|hexagonal|\\verb| |\\verb|lattice.|$"
      ],
      "text/plain": [
       "0: A002898: Number of n-step closed paths on hexagonal lattice."
      ]
     },
     "execution_count": 13,
     "metadata": {},
     "output_type": "execute_result"
    }
   ],
   "source": [
    "oeis(seq_c[:10])"
   ]
  },
  {
   "cell_type": "markdown",
   "id": "11c280c7",
   "metadata": {
    "tags": []
   },
   "source": [
    "## The example [A258431](https://oeis.org/A258431) (Example 58)\n",
    "\n",
    "This sequence starts with the terms $0, 1, 5, 23, 102, 443, 1898, 8054,\\ldots$ and counts the **_sum over all peaks of Dyck paths of semilength n of the arithmetic mean of the x and y coordinates_**. It satisfies the following recurrence equation:\n",
    "$$(n-1)a_n = (8n-10)a_{n-1}-(16n-24)a_{n-2}\\text{ for $n > 2$}.$$"
   ]
  },
  {
   "cell_type": "code",
   "execution_count": 14,
   "id": "f316553e",
   "metadata": {
    "vscode": {
     "languageId": "python"
    }
   },
   "outputs": [],
   "source": [
    "A258431 = EnhOEISSequence(\"A258431\")\n",
    "L258431 = E*((x+1)*E^2 - (8*(x+2)-10)*E + (16*(x+2)-24))\n",
    "A258431_seq = solution(L258431, [0,1,5])"
   ]
  },
  {
   "cell_type": "code",
   "execution_count": 15,
   "id": "03892f91",
   "metadata": {
    "vscode": {
     "languageId": "python"
    }
   },
   "outputs": [
    {
     "data": {
      "text/html": [
       "<html>\\(\\displaystyle \\left[0, 1, 5, 23, 102, 443, 1898, 8054, 33932, 142163, 592962, 2464226, 10209620, 42190558, 173962532, 715908428, 2941192472, 12065310083, 49428043442, 202249741418\\right]\\)</html>"
      ],
      "text/latex": [
       "$\\displaystyle \\left[0, 1, 5, 23, 102, 443, 1898, 8054, 33932, 142163, 592962, 2464226, 10209620, 42190558, 173962532, 715908428, 2941192472, 12065310083, 49428043442, 202249741418\\right]$"
      ],
      "text/plain": [
       "[0,\n",
       " 1,\n",
       " 5,\n",
       " 23,\n",
       " 102,\n",
       " 443,\n",
       " 1898,\n",
       " 8054,\n",
       " 33932,\n",
       " 142163,\n",
       " 592962,\n",
       " 2464226,\n",
       " 10209620,\n",
       " 42190558,\n",
       " 173962532,\n",
       " 715908428,\n",
       " 2941192472,\n",
       " 12065310083,\n",
       " 49428043442,\n",
       " 202249741418]"
      ]
     },
     "execution_count": 15,
     "metadata": {},
     "output_type": "execute_result"
    }
   ],
   "source": [
    "A258431_seq[:20]"
   ]
  },
  {
   "cell_type": "markdown",
   "id": "f2110a25",
   "metadata": {},
   "source": [
    "##### Double sum part\n",
    "Let us describe the values of $a_n$ as a double sum of binomials of the form:\n",
    "$$a_n = \\sum_{k=0}^n \\sum_{l=0}^k c_l \\binom{k}{l}\\binom{n}{k}.$$\n",
    "Using the method `recurrence` in the package `pseries_basis` we can get the new equation for $c_k$:"
   ]
  },
  {
   "cell_type": "code",
   "execution_count": 16,
   "id": "555cb8e7",
   "metadata": {
    "scrolled": true,
    "vscode": {
     "languageId": "python"
    }
   },
   "outputs": [
    {
     "data": {
      "text/html": [
       "<html>\\(\\displaystyle \\left(x + 4\\right) E^{5} + \\left(x + 1\\right) E^{4} + \\left(-8 x - 26\\right) E^{3} + \\left(-8 x - 8\\right) E^{2} + \\left(16 x + 40\\right) E + 16 x + 16\\)</html>"
      ],
      "text/latex": [
       "$\\displaystyle \\left(x + 4\\right) E^{5} + \\left(x + 1\\right) E^{4} + \\left(-8 x - 26\\right) E^{3} + \\left(-8 x - 8\\right) E^{2} + \\left(16 x + 40\\right) E + 16 x + 16$"
      ],
      "text/plain": [
       "(x + 4)*E^5 + (x + 1)*E^4 + (-8*x - 26)*E^3 + (-8*x - 8)*E^2 + (16*x + 40)*E + 16*x + 16"
      ]
     },
     "metadata": {},
     "output_type": "display_data"
    },
    {
     "data": {
      "text/html": [
       "<html>\\(\\displaystyle \\left[0, 1, 1, 5, 6, 23, 30, 102, 140, 443\\right]\\)</html>"
      ],
      "text/latex": [
       "$\\displaystyle \\left[0, 1, 1, 5, 6, 23, 30, 102, 140, 443\\right]$"
      ],
      "text/plain": [
       "[0, 1, 1, 5, 6, 23, 30, 102, 140, 443]"
      ]
     },
     "execution_count": 16,
     "metadata": {},
     "output_type": "execute_result"
    }
   ],
   "source": [
    "equ_d = B.recurrence_orig(L258431)\n",
    "seq_d = solution(equ_d,B.evaluation_to_self(A258431_seq, required_init(equ_d))) \n",
    "equ_c = B.recurrence_orig(equ_d); show(equ_c)\n",
    "seq_c = solution(equ_c,B.evaluation_to_self(seq_d, required_init(equ_c)))\n",
    "seq_c[:10]"
   ]
  },
  {
   "cell_type": "markdown",
   "id": "3dd3ba94-d527-44ed-8522-ae10c8d0bb39",
   "metadata": {},
   "source": [
    "We obtain an order 5 recurrence for this sequence. Can we simplify this recurrence?"
   ]
  },
  {
   "cell_type": "code",
   "execution_count": 17,
   "id": "87fd91c8-0e3a-4888-a83a-09089bd5d22d",
   "metadata": {
    "vscode": {
     "languageId": "python"
    }
   },
   "outputs": [
    {
     "data": {
      "text/html": [
       "<html>\\(\\displaystyle \\left(-x - 3\\right) E^{4} + 2 E^{3} + \\left(8 x + 16\\right) E^{2} - 8 E - 16 x - 16\\)</html>"
      ],
      "text/latex": [
       "$\\displaystyle \\left(-x - 3\\right) E^{4} + 2 E^{3} + \\left(8 x + 16\\right) E^{2} - 8 E - 16 x - 16$"
      ],
      "text/plain": [
       "(-x - 3)*E^4 + 2*E^3 + (8*x + 16)*E^2 - 8*E - 16*x - 16"
      ]
     },
     "execution_count": 17,
     "metadata": {},
     "output_type": "execute_result"
    }
   ],
   "source": [
    "guess([seq_c(i) for i in range(50)], OE)"
   ]
  },
  {
   "cell_type": "markdown",
   "id": "8598402d",
   "metadata": {},
   "source": [
    "And is this sequence back in OEIS?"
   ]
  },
  {
   "cell_type": "code",
   "execution_count": 18,
   "id": "0b0460b5",
   "metadata": {
    "scrolled": true,
    "vscode": {
     "languageId": "python"
    }
   },
   "outputs": [
    {
     "data": {
      "text/html": [
       "<html>\\(\\displaystyle 0\\)</html>"
      ],
      "text/latex": [
       "$\\displaystyle 0$"
      ],
      "text/plain": [
       "0"
      ]
     },
     "execution_count": 18,
     "metadata": {},
     "output_type": "execute_result"
    }
   ],
   "source": [
    "len(oeis([seq_c(i) for i in range(1,10)]))"
   ]
  },
  {
   "cell_type": "markdown",
   "id": "09a7f353",
   "metadata": {},
   "source": [
    "This is not very nice. However, something strange happens: the original sequence appears as a subsequence of $c_k$:"
   ]
  },
  {
   "cell_type": "code",
   "execution_count": 19,
   "id": "fc17adba",
   "metadata": {
    "vscode": {
     "languageId": "python"
    }
   },
   "outputs": [
    {
     "data": {
      "text/html": [
       "<html>\\(\\displaystyle \\mathrm{True}\\)</html>"
      ],
      "text/latex": [
       "$\\displaystyle \\mathrm{True}$"
      ],
      "text/plain": [
       "True"
      ]
     },
     "execution_count": 19,
     "metadata": {},
     "output_type": "execute_result"
    }
   ],
   "source": [
    "[seq_c(2*i-1) for i in range(10)] == [A258431(i) for i in range(10)]"
   ]
  },
  {
   "cell_type": "markdown",
   "id": "1c72daae",
   "metadata": {},
   "source": [
    "Which shows that, for the solution to \n",
    "$$(n-1)a_n = (8n-10)a_{n-1}-(16n-24)a_{n-2}\\text{ for $n > 2$}, a(0) = 0, a(1) = 1, a(2) = 5;$$\n",
    "if we write this sequence with\n",
    "$$a_n = \\sum_{k=0}^n \\sum_{l=0}^k c_l \\binom{k}{l}\\binom{n}{k},$$\n",
    "then we conclude that:\n",
    "$$c_{2n-1} = a_n\\text{ for all $n \\in \\mathbb{N}$}.$$\n",
    "This final identity can be proven by closure properties of D-finite sequences."
   ]
  },
  {
   "cell_type": "markdown",
   "id": "fb706e0e",
   "metadata": {
    "tags": []
   },
   "source": [
    "## The example [A032443](https://oeis.org/A032443) (Example 59)\n",
    "\n",
    "This sequence starts with the terms $1, 3, 11, 42, 163, 638, 2510, 9908,\\ldots$ and has the following formula:\n",
    "$$a_n = \\sum_{i=0}^n \\binom{2n}{i},$$\n",
    "satisfying the following recurrence:\n",
    "$$na_n + 2(-4n+3)a_{n-1} + 8(2n-3)a_{n-2} = 0$$"
   ]
  },
  {
   "cell_type": "code",
   "execution_count": 20,
   "id": "5eb7def6",
   "metadata": {
    "vscode": {
     "languageId": "python"
    }
   },
   "outputs": [
    {
     "data": {
      "text/html": [
       "<html>\\(\\displaystyle \\left(x + 2\\right) E^{2} + \\left(-8 x - 10\\right) E + 16 x + 8\\)</html>"
      ],
      "text/latex": [
       "$\\displaystyle \\left(x + 2\\right) E^{2} + \\left(-8 x - 10\\right) E + 16 x + 8$"
      ],
      "text/plain": [
       "(x + 2)*E^2 + (-8*x - 10)*E + 16*x + 8"
      ]
     },
     "metadata": {},
     "output_type": "display_data"
    }
   ],
   "source": [
    "A032443 = EnhOEISSequence(\"A032443\")\n",
    "L032443 = A032443.dfinite_recurrence(); show(L032443)\n",
    "A032443_seq = A032443.sequence"
   ]
  },
  {
   "cell_type": "markdown",
   "id": "842ea445",
   "metadata": {},
   "source": [
    "##### Double sum part\n",
    "Let us describe the values of $a_n$ as a double sum of binomials of the form:\n",
    "$$a_n = \\sum_{k=0}^n \\sum_{l=0}^k c_l \\binom{k}{l}\\binom{n}{k}.$$\n",
    "Using the method `recurrence_orig` in the package `pseries_basis` we can get the new equation for $c_k$:"
   ]
  },
  {
   "cell_type": "code",
   "execution_count": 21,
   "id": "73b7a0d9",
   "metadata": {
    "scrolled": true,
    "vscode": {
     "languageId": "python"
    }
   },
   "outputs": [
    {
     "data": {
      "text/html": [
       "<html>\\(\\displaystyle \\left(x + 4\\right) E^{4} + \\left(-x - 3\\right) E^{3} + \\left(-6 x - 16\\right) E^{2} + \\left(4 x + 8\\right) E + 8 x + 8\\)</html>"
      ],
      "text/latex": [
       "$\\displaystyle \\left(x + 4\\right) E^{4} + \\left(-x - 3\\right) E^{3} + \\left(-6 x - 16\\right) E^{2} + \\left(4 x + 8\\right) E + 8 x + 8$"
      ],
      "text/plain": [
       "(x + 4)*E^4 + (-x - 3)*E^3 + (-6*x - 16)*E^2 + (4*x + 8)*E + 8*x + 8"
      ]
     },
     "metadata": {},
     "output_type": "display_data"
    },
    {
     "data": {
      "text/html": [
       "<html>\\(\\displaystyle \\left[1, 1, 3, 4, 11, 16, 42, 64, 163, 256\\right]\\)</html>"
      ],
      "text/latex": [
       "$\\displaystyle \\left[1, 1, 3, 4, 11, 16, 42, 64, 163, 256\\right]$"
      ],
      "text/plain": [
       "[1, 1, 3, 4, 11, 16, 42, 64, 163, 256]"
      ]
     },
     "execution_count": 21,
     "metadata": {},
     "output_type": "execute_result"
    }
   ],
   "source": [
    "equ_d = B.recurrence_orig(L032443)\n",
    "seq_d = solution(equ_d,B.evaluation_to_self(A032443_seq, required_init(equ_d))) \n",
    "equ_c = B.recurrence_orig(equ_d); show(equ_c)\n",
    "seq_c = solution(equ_c,B.evaluation_to_self(seq_d, required_init(equ_c)))\n",
    "seq_c[:10]"
   ]
  },
  {
   "cell_type": "markdown",
   "id": "f3d28f0c",
   "metadata": {},
   "source": [
    "We can try to see if this new sequence appear in OEIS. In fact, id does and it provides a formula:"
   ]
  },
  {
   "cell_type": "code",
   "execution_count": 22,
   "id": "5c1325ab",
   "metadata": {
    "scrolled": true,
    "vscode": {
     "languageId": "python"
    }
   },
   "outputs": [
    {
     "data": {
      "text/html": [
       "<html>\\(\\displaystyle \\verb|0:|\\verb| |\\verb|A027306:|\\verb| |\\verb|a(n)|\\verb| |\\verb|=|\\verb| |\\verb|2^(n-1)|\\verb| |\\verb|+|\\verb| |\\verb|((1|\\verb| |\\verb|+|\\verb| |\\verb|(-1)^n)/4)*binomial(n,|\\verb| |\\verb|n/2).|\\)</html>"
      ],
      "text/latex": [
       "$\\displaystyle \\verb|0:|\\verb| |\\verb|A027306:|\\verb| |\\verb|a(n)|\\verb| |\\verb|=|\\verb| |\\verb|2^(n-1)|\\verb| |\\verb|+|\\verb| |\\verb|((1|\\verb| |\\verb|+|\\verb| |\\verb|(-1)^n)/4)*binomial(n,|\\verb| |\\verb|n/2).|$"
      ],
      "text/plain": [
       "0: A027306: a(n) = 2^(n-1) + ((1 + (-1)^n)/4)*binomial(n, n/2)."
      ]
     },
     "execution_count": 22,
     "metadata": {},
     "output_type": "execute_result"
    }
   ],
   "source": [
    "oeis([seq_c(i) for i in range(20)])"
   ]
  },
  {
   "cell_type": "markdown",
   "id": "0ad1a269",
   "metadata": {},
   "source": [
    "Hence we can conclude that the following identity holds:\n",
    "$$\\sum_{k=0}^n \\binom{2n}{k} = \\sum_{k=0}^n \\sum_{l=0}^k\\left[ \\left(2^{l-1} + \\frac{1 + (-1)^l}{4}\\binom{l}{l/2}\\right) \\binom{k}{l}\\binom{n}{k}\\right]$$"
   ]
  },
  {
   "cell_type": "code",
   "execution_count": 23,
   "id": "28f80c84",
   "metadata": {
    "vscode": {
     "languageId": "python"
    }
   },
   "outputs": [
    {
     "data": {
      "text/html": [
       "<html>\\(\\displaystyle \\mathrm{True}\\)</html>"
      ],
      "text/latex": [
       "$\\displaystyle \\mathrm{True}$"
      ],
      "text/plain": [
       "True"
      ]
     },
     "execution_count": 23,
     "metadata": {},
     "output_type": "execute_result"
    }
   ],
   "source": [
    "## Checking identity for i = 0,...,30\n",
    "lhs = lambda n : sum(binomial(2*n, k) for k in range(n+1))\n",
    "rhs = lambda n : sum(sum((2**(l-1) + (1/2*binomial(l,l/2) if l%2 == 0 else 0)) * binomial(k,l) * binomial(n,k) for l in range(k+1)) for k in range(n+1))\n",
    "all(lhs(i) == rhs(i) for i in range(30))"
   ]
  },
  {
   "cell_type": "markdown",
   "id": "f87b0a75",
   "metadata": {
    "tags": []
   },
   "source": [
    "## Example from a Convolution\n",
    "\n",
    "We know that the convolution of $n!$ and $1/n!$ is not Liouvillian and satisfies the following recurrence:\n",
    "$$(n+3)y_{n+3} - (n^2 + 6n + 10)y_{n+2} + (2n + 5)y_{n+1} - y_n  = 0.$$\n",
    "\n",
    "Let us see what happen if we apply the binomial basis to this recurrence:"
   ]
  },
  {
   "cell_type": "code",
   "execution_count": 24,
   "id": "0437f55c",
   "metadata": {
    "vscode": {
     "languageId": "python"
    }
   },
   "outputs": [
    {
     "data": {
      "text/html": [
       "<html>\\(\\displaystyle \\left[1, 2, \\frac{7}{2}, \\frac{26}{3}, \\frac{749}{24}, \\frac{8843}{60}, \\frac{614227}{720}, \\frac{3669289}{630}, \\frac{1844279257}{40320}, \\frac{10519507811}{25920}\\right]\\)</html>"
      ],
      "text/latex": [
       "$\\displaystyle \\left[1, 2, \\frac{7}{2}, \\frac{26}{3}, \\frac{749}{24}, \\frac{8843}{60}, \\frac{614227}{720}, \\frac{3669289}{630}, \\frac{1844279257}{40320}, \\frac{10519507811}{25920}\\right]$"
      ],
      "text/plain": [
       "[1,\n",
       " 2,\n",
       " 7/2,\n",
       " 26/3,\n",
       " 749/24,\n",
       " 8843/60,\n",
       " 614227/720,\n",
       " 3669289/630,\n",
       " 1844279257/40320,\n",
       " 10519507811/25920]"
      ]
     },
     "execution_count": 24,
     "metadata": {},
     "output_type": "execute_result"
    }
   ],
   "source": [
    "L_con_facN_ifacN = (x+3)*E^3 - (x^2 + 6*x +10)*E^2 + (2*x+5)*E - 1\n",
    "con_facN_ifacN = solution(L_con_facN_ifacN, [sum(QQ(factorial(k)/factorial(n-k)) for k in range(n+1)) for n in range(4)])\n",
    "con_facN_ifacN[:10]"
   ]
  },
  {
   "cell_type": "markdown",
   "id": "2139a777-0d60-4450-adf4-81444be0ed9b",
   "metadata": {},
   "source": [
    "We check this sequence is, exactly, the desired convolution:"
   ]
  },
  {
   "cell_type": "code",
   "execution_count": 25,
   "id": "8b03eb82-e6e7-443d-b259-158551d80564",
   "metadata": {
    "vscode": {
     "languageId": "python"
    }
   },
   "outputs": [
    {
     "data": {
      "text/html": [
       "<html>\\(\\displaystyle \\mathrm{True}\\)</html>"
      ],
      "text/latex": [
       "$\\displaystyle \\mathrm{True}$"
      ],
      "text/plain": [
       "True"
      ]
     },
     "execution_count": 25,
     "metadata": {},
     "output_type": "execute_result"
    }
   ],
   "source": [
    "real_con_facN_ifacN = LambdaSequence(lambda n : sum(QQ(factorial(k)/factorial(n-k)) for k in range(n+1)), QQ)\n",
    "(real_con_facN_ifacN + (-con_facN_ifacN)).almost_zero(15)"
   ]
  },
  {
   "cell_type": "markdown",
   "id": "5906bf81-a14f-4a69-b6cc-6a5758fa3872",
   "metadata": {},
   "source": [
    "##### Double sum part\n",
    "Let us describe the values of $y_n$ as a double sum of binomials of the form:\n",
    "$$y_n = \\sum_{k=0}^n \\sum_{l=0}^k c_l \\binom{k}{l}\\binom{n}{k}.$$\n",
    "Using the method `recurrence_orig` in the package `pseries_basis` we can get the new equation for $c_k$:"
   ]
  },
  {
   "cell_type": "code",
   "execution_count": 26,
   "id": "a506999e",
   "metadata": {
    "vscode": {
     "languageId": "python"
    }
   },
   "outputs": [
    {
     "data": {
      "text/html": [
       "<html>\\(\\displaystyle \\left(x + 7\\right) E^{7} + \\left(-x^{2} - 4 x + 12\\right) E^{6} + \\left(-10 x^{2} - 79 x - 144\\right) E^{5} + \\left(-41 x^{2} - 326 x - 653\\right) E^{4} + \\left(-88 x^{2} - 624 x - 1125\\right) E^{3} + \\left(-104 x^{2} - 612 x - 911\\right) E^{2} + \\left(-64 x^{2} - 288 x - 320\\right) E - 16 x^{2} - 48 x - 32\\)</html>"
      ],
      "text/latex": [
       "$\\displaystyle \\left(x + 7\\right) E^{7} + \\left(-x^{2} - 4 x + 12\\right) E^{6} + \\left(-10 x^{2} - 79 x - 144\\right) E^{5} + \\left(-41 x^{2} - 326 x - 653\\right) E^{4} + \\left(-88 x^{2} - 624 x - 1125\\right) E^{3} + \\left(-104 x^{2} - 612 x - 911\\right) E^{2} + \\left(-64 x^{2} - 288 x - 320\\right) E - 16 x^{2} - 48 x - 32$"
      ],
      "text/plain": [
       "(x + 7)*E^7 + (-x^2 - 4*x + 12)*E^6 + (-10*x^2 - 79*x - 144)*E^5 + (-41*x^2 - 326*x - 653)*E^4 + (-88*x^2 - 624*x - 1125)*E^3 + (-104*x^2 - 612*x - 911)*E^2 + (-64*x^2 - 288*x - 320)*E - 16*x^2 - 48*x - 32"
      ]
     },
     "metadata": {},
     "output_type": "display_data"
    },
    {
     "data": {
      "text/html": [
       "<html>\\(\\displaystyle \\left[1, 0, -\\frac{1}{2}, \\frac{11}{3}, -\\frac{17}{8}, \\frac{899}{30}, \\frac{13007}{144}, \\frac{665419}{840}, \\frac{34410911}{5760}, \\frac{2439240803}{45360}\\right]\\)</html>"
      ],
      "text/latex": [
       "$\\displaystyle \\left[1, 0, -\\frac{1}{2}, \\frac{11}{3}, -\\frac{17}{8}, \\frac{899}{30}, \\frac{13007}{144}, \\frac{665419}{840}, \\frac{34410911}{5760}, \\frac{2439240803}{45360}\\right]$"
      ],
      "text/plain": [
       "[1,\n",
       " 0,\n",
       " -1/2,\n",
       " 11/3,\n",
       " -17/8,\n",
       " 899/30,\n",
       " 13007/144,\n",
       " 665419/840,\n",
       " 34410911/5760,\n",
       " 2439240803/45360]"
      ]
     },
     "execution_count": 26,
     "metadata": {},
     "output_type": "execute_result"
    }
   ],
   "source": [
    "equ_d = B.recurrence_orig(L_con_facN_ifacN)\n",
    "seq_d = solution(equ_d,B.evaluation_to_self(con_facN_ifacN, required_init(equ_d))) \n",
    "equ_c = B.recurrence_orig(equ_d); show(equ_c)\n",
    "seq_c = solution(equ_c,B.evaluation_to_self(seq_d, required_init(equ_c)))\n",
    "seq_c[:10]"
   ]
  },
  {
   "cell_type": "markdown",
   "id": "78124eba-c322-4b45-91d5-9c1f755d0c59",
   "metadata": {},
   "source": [
    "We obtain an order 7 recurrence for this sequence. Can we simplify this recurrence?"
   ]
  },
  {
   "cell_type": "code",
   "execution_count": 27,
   "id": "d931eac6-1d62-43e0-9c29-98167f23e91e",
   "metadata": {
    "vscode": {
     "languageId": "python"
    }
   },
   "outputs": [
    {
     "data": {
      "text/html": [
       "<html>\\(\\displaystyle \\left(x + 5\\right) E^{5} + \\left(-x^{2} - 2 x + 8\\right) E^{4} + \\left(-8 x^{2} - 40 x - 47\\right) E^{3} + \\left(-24 x^{2} - 116 x - 143\\right) E^{2} + \\left(-32 x^{2} - 128 x - 128\\right) E - 16 x^{2} - 48 x - 32\\)</html>"
      ],
      "text/latex": [
       "$\\displaystyle \\left(x + 5\\right) E^{5} + \\left(-x^{2} - 2 x + 8\\right) E^{4} + \\left(-8 x^{2} - 40 x - 47\\right) E^{3} + \\left(-24 x^{2} - 116 x - 143\\right) E^{2} + \\left(-32 x^{2} - 128 x - 128\\right) E - 16 x^{2} - 48 x - 32$"
      ],
      "text/plain": [
       "(x + 5)*E^5 + (-x^2 - 2*x + 8)*E^4 + (-8*x^2 - 40*x - 47)*E^3 + (-24*x^2 - 116*x - 143)*E^2 + (-32*x^2 - 128*x - 128)*E - 16*x^2 - 48*x - 32"
      ]
     },
     "execution_count": 27,
     "metadata": {},
     "output_type": "execute_result"
    }
   ],
   "source": [
    "guess([seq_c(i) for i in range(50)], OE)"
   ]
  },
  {
   "cell_type": "markdown",
   "id": "528bf5b8",
   "metadata": {
    "tags": []
   },
   "source": [
    "## The example [A001472](https://oeis.org/A001472)\n",
    "\n",
    "This sequence starts with the terms $1, 1, 2, 4, 16, 56, 256, 1072, 6224, 33616, 218656,\\ldots$ and counts the number of degree-$n$ permutations of order dividing 4. It satisfies a recurrence: \n",
    "$$a(0)=1, a(1)=1, a(2)=2, a(3)=4,$$\n",
    "$$a(n) = a(n-1) + (n-1)a(n-2) + (n^3-6n^2+11n-6)a(n-4)$$"
   ]
  },
  {
   "cell_type": "code",
   "execution_count": 28,
   "id": "f7299abb-e41e-44b9-a866-e9953993746d",
   "metadata": {
    "vscode": {
     "languageId": "python"
    }
   },
   "outputs": [
    {
     "data": {
      "text/html": [
       "<html>\\(\\displaystyle E^{4} - E^{3} + \\left(-x - 3\\right) E^{2} - x^{3} - 6 x^{2} - 11 x - 6\\)</html>"
      ],
      "text/latex": [
       "$\\displaystyle E^{4} - E^{3} + \\left(-x - 3\\right) E^{2} - x^{3} - 6 x^{2} - 11 x - 6$"
      ],
      "text/plain": [
       "E^4 - E^3 + (-x - 3)*E^2 - x^3 - 6*x^2 - 11*x - 6"
      ]
     },
     "metadata": {},
     "output_type": "display_data"
    },
    {
     "data": {
      "text/html": [
       "<html>\\(\\displaystyle \\mathrm{True}\\)</html>"
      ],
      "text/latex": [
       "$\\displaystyle \\mathrm{True}$"
      ],
      "text/plain": [
       "True"
      ]
     },
     "execution_count": 28,
     "metadata": {},
     "output_type": "execute_result"
    }
   ],
   "source": [
    "A001472 = EnhOEISSequence(\"A001472\")\n",
    "L001472 = E^4 - E^3 - (x+3)*E^2 - ((x+4)^3 - 6*(x+4)^2 + 11*(x+4) - 6) ; show(L001472)\n",
    "A001472_seq = solution(L001472, A001472.first_terms(required_init(L001472)))\n",
    "(A001472_seq + (-A001472.sequence)).almost_zero(20)"
   ]
  },
  {
   "cell_type": "code",
   "execution_count": 29,
   "id": "f5d7c41f",
   "metadata": {
    "vscode": {
     "languageId": "python"
    }
   },
   "outputs": [
    {
     "data": {
      "text/html": [
       "<html>\\(\\displaystyle \\left[1, 1, 2, 4, 16, 56, 256, 1072, 6224, 33616, 218656, 1326656, 9893632, 70186624, 574017536, 4454046976, 40073925376, 347165733632, 3370414011904, 31426411211776\\right]\\)</html>"
      ],
      "text/latex": [
       "$\\displaystyle \\left[1, 1, 2, 4, 16, 56, 256, 1072, 6224, 33616, 218656, 1326656, 9893632, 70186624, 574017536, 4454046976, 40073925376, 347165733632, 3370414011904, 31426411211776\\right]$"
      ],
      "text/plain": [
       "[1,\n",
       " 1,\n",
       " 2,\n",
       " 4,\n",
       " 16,\n",
       " 56,\n",
       " 256,\n",
       " 1072,\n",
       " 6224,\n",
       " 33616,\n",
       " 218656,\n",
       " 1326656,\n",
       " 9893632,\n",
       " 70186624,\n",
       " 574017536,\n",
       " 4454046976,\n",
       " 40073925376,\n",
       " 347165733632,\n",
       " 3370414011904,\n",
       " 31426411211776]"
      ]
     },
     "execution_count": 29,
     "metadata": {},
     "output_type": "execute_result"
    }
   ],
   "source": [
    "A001472_seq[:20]"
   ]
  },
  {
   "cell_type": "markdown",
   "id": "fd8f6787",
   "metadata": {},
   "source": [
    "This sequence has a formula given as follows:\n",
    "\n",
    "$$a(n) = n!\\sum_{k=1}^n \\frac{1}{k!}\\left(\\sum_{j=\\lfloor(4*k-n)/3\\rfloor}^k\\binom{k}{j} \\binom{j}{n-4k+3j}(1/2)^{n-4k+3j}(1/4)^{k-j}\\right)$$\n",
    "\n",
    "We now build the sequence that has $a_n$ as the inner summand of a doulbe binomial sum:"
   ]
  },
  {
   "cell_type": "code",
   "execution_count": 30,
   "id": "01eda6fd",
   "metadata": {
    "vscode": {
     "languageId": "python"
    }
   },
   "outputs": [],
   "source": [
    "new_sequence = LambdaSequence(lambda n : sum(sum(A001472_seq[l]*B[l](k)*B[k](n) for l in range(k+1)) for k in range(n+1)), ZZ)\n",
    "guessed_recurrence = guess(new_sequence[:100], OE)"
   ]
  },
  {
   "cell_type": "code",
   "execution_count": 31,
   "id": "dcaee34f-1154-458d-9669-25829e3f9267",
   "metadata": {
    "vscode": {
     "languageId": "python"
    }
   },
   "outputs": [
    {
     "data": {
      "text/html": [
       "<html>\\(\\displaystyle -E^{4} + 3 E^{3} + \\left(x + 3\\right) E^{2} + x^{3} + 6 x^{2} + 11 x + 6\\)</html>"
      ],
      "text/latex": [
       "$\\displaystyle -E^{4} + 3 E^{3} + \\left(x + 3\\right) E^{2} + x^{3} + 6 x^{2} + 11 x + 6$"
      ],
      "text/plain": [
       "-E^4 + 3*E^3 + (x + 3)*E^2 + x^3 + 6*x^2 + 11*x + 6"
      ]
     },
     "metadata": {},
     "output_type": "display_data"
    },
    {
     "data": {
      "text/html": [
       "<html>\\(\\displaystyle \\left[1, 3, 10, 36, 144, 648, 3264, 18000, 107088, 682992\\right]\\)</html>"
      ],
      "text/latex": [
       "$\\displaystyle \\left[1, 3, 10, 36, 144, 648, 3264, 18000, 107088, 682992\\right]$"
      ],
      "text/plain": [
       "[1, 3, 10, 36, 144, 648, 3264, 18000, 107088, 682992]"
      ]
     },
     "execution_count": 31,
     "metadata": {},
     "output_type": "execute_result"
    }
   ],
   "source": [
    "show(guessed_recurrence)\n",
    "new_sequence[:10]"
   ]
  },
  {
   "cell_type": "markdown",
   "id": "8a15f506",
   "metadata": {
    "tags": []
   },
   "source": [
    "#### Writing the example\n",
    "\n",
    "Consider the sequence $(1,3,10,36,144,648,3264,18000,107088,682992,\\ldots)$ defined as solution to the recurrence equation:\n",
    "$$y_{n+4} - 3 y_{n+3} + \\left(-n - 3\\right) y_{n+2} - (n^{3} + 6 n^{2} + 11 n + 6)y_n = 0$$\n",
    "\n",
    "This sequence does not show up in OEIS, but if we write it in the following form:\n",
    "$$y_n = \\sum_{k=0}^n c_k \\binom{n}{k},$$\n",
    "then the sequence $(c_n)_n$ also satisfies a recurrence equation given by:"
   ]
  },
  {
   "cell_type": "code",
   "execution_count": 32,
   "id": "728377e3",
   "metadata": {
    "vscode": {
     "languageId": "python"
    }
   },
   "outputs": [
    {
     "data": {
      "text/html": [
       "<html>\\(\\displaystyle E^{7} + E^{6} + \\left(-x - 9\\right) E^{5} + \\left(-3 x - 20\\right) E^{4} + \\left(-x^{3} - 15 x^{2} - 77 x - 134\\right) E^{3} + \\left(-3 x^{3} - 36 x^{2} - 142 x - 183\\right) E^{2} + \\left(-3 x^{3} - 27 x^{2} - 78 x - 72\\right) E - x^{3} - 6 x^{2} - 11 x - 6\\)</html>"
      ],
      "text/latex": [
       "$\\displaystyle E^{7} + E^{6} + \\left(-x - 9\\right) E^{5} + \\left(-3 x - 20\\right) E^{4} + \\left(-x^{3} - 15 x^{2} - 77 x - 134\\right) E^{3} + \\left(-3 x^{3} - 36 x^{2} - 142 x - 183\\right) E^{2} + \\left(-3 x^{3} - 27 x^{2} - 78 x - 72\\right) E - x^{3} - 6 x^{2} - 11 x - 6$"
      ],
      "text/plain": [
       "E^7 + E^6 + (-x - 9)*E^5 + (-3*x - 20)*E^4 + (-x^3 - 15*x^2 - 77*x - 134)*E^3 + (-3*x^3 - 36*x^2 - 142*x - 183)*E^2 + (-3*x^3 - 27*x^2 - 78*x - 72)*E - x^3 - 6*x^2 - 11*x - 6"
      ]
     },
     "metadata": {},
     "output_type": "display_data"
    },
    {
     "data": {
      "text/html": [
       "<html>\\(\\displaystyle \\left[1, 2, 5, 14, 49, 202, 949, 4790, 26513, 159218\\right]\\)</html>"
      ],
      "text/latex": [
       "$\\displaystyle \\left[1, 2, 5, 14, 49, 202, 949, 4790, 26513, 159218\\right]$"
      ],
      "text/plain": [
       "[1, 2, 5, 14, 49, 202, 949, 4790, 26513, 159218]"
      ]
     },
     "execution_count": 32,
     "metadata": {},
     "output_type": "execute_result"
    }
   ],
   "source": [
    "equ_y = -guessed_recurrence\n",
    "seq_y = solution(equ_y, [1,3,10,36, 144])\n",
    "equ_c = B.recurrence_orig(equ_y); show(equ_c)\n",
    "seq_c = solution(equ_c,B.evaluation_to_self(seq_y, required_init(equ_c))) \n",
    "seq_c[:10]"
   ]
  },
  {
   "cell_type": "markdown",
   "id": "8a009fc9",
   "metadata": {},
   "source": [
    "This sequence does not appear in OEIS still. The order has gotten bigger and we still have no information. We can try to apply the transformation once again:\n",
    "$$c_n = \\sum_{k=0}^nd_k\\binom{n}{k}.$$ \n",
    "This sequence $(d_n)_n$ is also D-finite. Let see the recurrence and solution:"
   ]
  },
  {
   "cell_type": "code",
   "execution_count": 33,
   "id": "e67d8af0",
   "metadata": {
    "vscode": {
     "languageId": "python"
    }
   },
   "outputs": [
    {
     "data": {
      "text/html": [
       "<html>\\(\\displaystyle E^{7} + E^{6} + \\left(-x - 9\\right) E^{5} + \\left(-3 x - 20\\right) E^{4} + \\left(-x^{3} - 15 x^{2} - 77 x - 134\\right) E^{3} + \\left(-3 x^{3} - 36 x^{2} - 142 x - 183\\right) E^{2} + \\left(-3 x^{3} - 27 x^{2} - 78 x - 72\\right) E - x^{3} - 6 x^{2} - 11 x - 6\\)</html>"
      ],
      "text/latex": [
       "$\\displaystyle E^{7} + E^{6} + \\left(-x - 9\\right) E^{5} + \\left(-3 x - 20\\right) E^{4} + \\left(-x^{3} - 15 x^{2} - 77 x - 134\\right) E^{3} + \\left(-3 x^{3} - 36 x^{2} - 142 x - 183\\right) E^{2} + \\left(-3 x^{3} - 27 x^{2} - 78 x - 72\\right) E - x^{3} - 6 x^{2} - 11 x - 6$"
      ],
      "text/plain": [
       "E^7 + E^6 + (-x - 9)*E^5 + (-3*x - 20)*E^4 + (-x^3 - 15*x^2 - 77*x - 134)*E^3 + (-3*x^3 - 36*x^2 - 142*x - 183)*E^2 + (-3*x^3 - 27*x^2 - 78*x - 72)*E - x^3 - 6*x^2 - 11*x - 6"
      ]
     },
     "metadata": {},
     "output_type": "display_data"
    },
    {
     "data": {
      "text/html": [
       "<html>\\(\\displaystyle \\left[1, 1, 2, 4, 16, 56, 256, 1072, 6224, 33616\\right]\\)</html>"
      ],
      "text/latex": [
       "$\\displaystyle \\left[1, 1, 2, 4, 16, 56, 256, 1072, 6224, 33616\\right]$"
      ],
      "text/plain": [
       "[1, 1, 2, 4, 16, 56, 256, 1072, 6224, 33616]"
      ]
     },
     "execution_count": 33,
     "metadata": {},
     "output_type": "execute_result"
    }
   ],
   "source": [
    "equ_d = B.recurrence_orig(equ_c); show(equ_c)\n",
    "seq_d = solution(equ_d,B.evaluation_to_self(seq_c, required_init(equ_d))) \n",
    "seq_d[:10]"
   ]
  },
  {
   "cell_type": "markdown",
   "id": "59619a48",
   "metadata": {},
   "source": [
    "This sequence does appear in OEIS as the sequence [A001472](https://oeis.org/A001472). Sequence A001472 is D-finite with recurrence\n",
    "$$a(n) = a(n-1) + (n-1)a(n-2) + (n^3-6n^2+11n-6)a(n-4).$$\n",
    "Using closure properties, we can check if these two sequences are the same:"
   ]
  },
  {
   "cell_type": "code",
   "execution_count": 34,
   "id": "fe9c63c5",
   "metadata": {
    "vscode": {
     "languageId": "python"
    }
   },
   "outputs": [
    {
     "data": {
      "text/html": [
       "<html>\\(\\displaystyle E^{10} + 8 E^{9} + \\left(-x + 15\\right) E^{8} + \\left(-9 x - 42\\right) E^{7} + \\left(-x^{3} - 24 x^{2} - 224 x - 732\\right) E^{6} + \\left(-9 x^{3} - 189 x^{2} - 1377 x - 3432\\right) E^{5} + \\left(-33 x^{3} - 594 x^{2} - 3597 x - 7288\\right) E^{4} + \\left(-63 x^{3} - 945 x^{2} - 4698 x - 7712\\right) E^{3} + \\left(-66 x^{3} - 792 x^{2} - 3110 x - 3984\\right) E^{2} + \\left(-36 x^{3} - 324 x^{2} - 936 x - 864\\right) E - 8 x^{3} - 48 x^{2} - 88 x - 48\\)</html>"
      ],
      "text/latex": [
       "$\\displaystyle E^{10} + 8 E^{9} + \\left(-x + 15\\right) E^{8} + \\left(-9 x - 42\\right) E^{7} + \\left(-x^{3} - 24 x^{2} - 224 x - 732\\right) E^{6} + \\left(-9 x^{3} - 189 x^{2} - 1377 x - 3432\\right) E^{5} + \\left(-33 x^{3} - 594 x^{2} - 3597 x - 7288\\right) E^{4} + \\left(-63 x^{3} - 945 x^{2} - 4698 x - 7712\\right) E^{3} + \\left(-66 x^{3} - 792 x^{2} - 3110 x - 3984\\right) E^{2} + \\left(-36 x^{3} - 324 x^{2} - 936 x - 864\\right) E - 8 x^{3} - 48 x^{2} - 88 x - 48$"
      ],
      "text/plain": [
       "E^10 + 8*E^9 + (-x + 15)*E^8 + (-9*x - 42)*E^7 + (-x^3 - 24*x^2 - 224*x - 732)*E^6 + (-9*x^3 - 189*x^2 - 1377*x - 3432)*E^5 + (-33*x^3 - 594*x^2 - 3597*x - 7288)*E^4 + (-63*x^3 - 945*x^2 - 4698*x - 7712)*E^3 + (-66*x^3 - 792*x^2 - 3110*x - 3984)*E^2 + (-36*x^3 - 324*x^2 - 936*x - 864)*E - 8*x^3 - 48*x^2 - 88*x - 48"
      ]
     },
     "metadata": {},
     "output_type": "display_data"
    },
    {
     "data": {
      "text/html": [
       "<html>\\(\\displaystyle \\left[0, 0, 0, 0, 0, 0, 0, 0, 0, 0, 0, 0, 0, 0, 0\\right]\\)</html>"
      ],
      "text/latex": [
       "$\\displaystyle \\left[0, 0, 0, 0, 0, 0, 0, 0, 0, 0, 0, 0, 0, 0, 0\\right]$"
      ],
      "text/plain": [
       "[0, 0, 0, 0, 0, 0, 0, 0, 0, 0, 0, 0, 0, 0, 0]"
      ]
     },
     "execution_count": 34,
     "metadata": {},
     "output_type": "execute_result"
    }
   ],
   "source": [
    "diff_equ = L001472.lclm(equ_d)\n",
    "diff_seq = solution(diff_equ, (A001472.sequence + (-seq_d))[:required_init(diff_equ)])\n",
    "show(diff_equ)\n",
    "[diff_seq(i) for i in range(required_init(diff_equ)+5)]"
   ]
  },
  {
   "cell_type": "markdown",
   "id": "f119fe7f",
   "metadata": {},
   "source": [
    "Sequnce A001472 has a closed form formula. Hence, we can write the solutions to our original equation\n",
    "$$y_{n+4} - 3 y_{n+3} + \\left(-n - 3\\right) y_{n+2} - (n^{3} + 6 n^{2} + 11 n + 6)y_n = 0$$\n",
    "with the following formula:\n",
    "$$y_n = \\sum_{k=0}^n \n",
    "    \\sum_{l=0}^k \n",
    "        \\left(l!\\sum_{p=1}^l \n",
    "            \\frac{1}{p!}\\left(\n",
    "                \\sum_{j=\\lfloor(4p-l)/3\\rfloor}^p\\binom{p}{j} \\binom{j}{l-4p+3j}(1/2)^{l-4p+3j}(1/4)^{p-j}\n",
    "            \\right)\n",
    "        \\right)\n",
    "\\binom{k}{l}\\binom{n}{k}$$"
   ]
  },
  {
   "cell_type": "markdown",
   "id": "a1bbd6bc-7015-440a-a798-6097a8f29773",
   "metadata": {},
   "source": [
    "## An artificial example of double sum (Example 60)\n",
    "\n",
    "Let us consider now the recurrence equation defined by:\n",
    "\n",
    "$$\\begin{array}{rl}\n",
    "-64 (1 + n) (2 + n) (3 + n) (-151 - 39 n + 8 n^2 + 2 n^3) y_n & \\\\\n",
    "+ 16 (2 + n) (3 + n) (-3867 - 2400 n - 182 n^2 + 108 n^3 + 16 n^4) y_{n+1} & \\\\\n",
    "-4 (3 + n) (-48214 - 42707 n - 10472 n^2 + 530 n^3 + 500 n^4 + 48 n^5) y_{n+2} & \\\\\n",
    "+ 2 (-163088 - 179069 n - 66637 n^2 - 6360 n^3 + 1822 n^4 + 480 n^5 + 32 n^6) y_{n+3} & \\\\\n",
    "- (-61566 - 62939 n - 21344 n^2 - 1644 n^3 + 580 n^4 + 132 n^5 + 8 n^6) y_{n+4} & \\\\\n",
    "+ (5 + n) (-106 - 49 n + 2 n^2 + 2 n^3) y_{n+5} & = 0\n",
    "\\end{array}$$\n",
    "\n",
    "This equation has 5 linearly independent solutions. Can we compute a closed form for any of them? We will be able to do it by applying our method twice and obtaining double definite-sum solutions. All the operators involved in this example can be found in the folder `example60`.\n"
   ]
  },
  {
   "cell_type": "code",
   "execution_count": 35,
   "id": "eab17026-94b3-4a71-a2ed-61c0e8f7ae48",
   "metadata": {
    "vscode": {
     "languageId": "python"
    }
   },
   "outputs": [],
   "source": [
    "from pseries_basis.misc.io import operator2file\n",
    "L = sum([\n",
    "    -64*(1 + x)*(2 + x)*(3 + x)*(-151 - 39*x + 8*x^2 + 2*x^3),\n",
    "    16*(2 + x)*(3 + x)*(-3867 - 2400*x - 182*x^2 + 108*x^3 + 16*x^4)*E,\n",
    "    -4*(3 + x)*(-48214 - 42707*x - 10472*x^2 + 530*x^3 + 500*x^4 + 48*x^5)*E^2,\n",
    "    2*(-163088 - 179069*x - 66637*x^2 - 6360*x^3 + 1822*x^4 + 480*x^5 + 32*x^6)*E^3,\n",
    "    - (-61566 - 62939*x - 21344*x^2 - 1644*x^3 + 580*x^4 + 132*x^5 + 8*x^6)*E^4,\n",
    "    (5 + x)*(-106 - 49*x + 2*x^2 + 2*x^3)*E^5\n",
    "])\n",
    "\n",
    "operator2file(L, \"example60/L.txt\")"
   ]
  },
  {
   "cell_type": "code",
   "execution_count": 36,
   "id": "9a9ed64d-15dd-44a5-a926-efb878edea11",
   "metadata": {
    "vscode": {
     "languageId": "python"
    }
   },
   "outputs": [
    {
     "data": {
      "text/html": [
       "<html>\\(\\displaystyle \\left(-8 n^{6} + 120 n^{5} - 680 n^{4} + 1800 n^{3} - 2192 n^{2} + 960 n\\right) \\mathit{Sni}^{6} + \\left(2 n^{4} + 12 n^{3} - 39 n^{2} - 351 n - 530\\right) \\mathit{Sn}^{5} + \\left(-16 n^{6} + 100 n^{5} + 40 n^{4} - 1300 n^{3} + 2616 n^{2} - 1440 n\\right) \\mathit{Sni}^{5} + \\left(-8 n^{6} - 132 n^{5} - 562 n^{4} + 1728 n^{3} + 21043 n^{2} + 60882 n + 58916\\right) \\mathit{Sn}^{4} + \\left(24 n^{6} - 372 n^{5} + 1666 n^{4} - 2856 n^{3} + 1742 n^{2} - 204 n\\right) \\mathit{Sni}^{4} + \\left(-16 n^{6} - 108 n^{5} + 236 n^{4} + 1308 n^{3} - 12843 n^{2} - 67646 n - 85212\\right) \\mathit{Sn}^{3} + \\left(64 n^{6} - 128 n^{5} - 1050 n^{4} + 3988 n^{3} - 4678 n^{2} + 1804 n\\right) \\mathit{Sni}^{3} + \\left(24 n^{6} + 472 n^{5} + 1596 n^{4} - 6616 n^{3} - 45009 n^{2} - 77301 n - 35864\\right) \\mathit{Sn}^{2} + \\left(-16 n^{6} + 592 n^{5} - 1268 n^{4} - 2112 n^{3} + 3745 n^{2} - 941 n\\right) \\mathit{Sni}^{2} + \\left(64 n^{6} + 288 n^{5} - 1000 n^{4} - 1808 n^{3} + 22205 n^{2} + 66145 n + 50990\\right) \\mathit{Sn} + \\left(-96 n^{6} - 152 n^{5} + 1772 n^{4} - 1816 n^{3} - 8413 n^{2} - 4128 n\\right) \\mathit{Sni} - 16 n^{6} - 680 n^{5} - 752 n^{4} + 8440 n^{3} + 19519 n^{2} + 10988 n + 180\\)</html>"
      ],
      "text/latex": [
       "$\\displaystyle \\left(-8 n^{6} + 120 n^{5} - 680 n^{4} + 1800 n^{3} - 2192 n^{2} + 960 n\\right) \\mathit{Sni}^{6} + \\left(2 n^{4} + 12 n^{3} - 39 n^{2} - 351 n - 530\\right) \\mathit{Sn}^{5} + \\left(-16 n^{6} + 100 n^{5} + 40 n^{4} - 1300 n^{3} + 2616 n^{2} - 1440 n\\right) \\mathit{Sni}^{5} + \\left(-8 n^{6} - 132 n^{5} - 562 n^{4} + 1728 n^{3} + 21043 n^{2} + 60882 n + 58916\\right) \\mathit{Sn}^{4} + \\left(24 n^{6} - 372 n^{5} + 1666 n^{4} - 2856 n^{3} + 1742 n^{2} - 204 n\\right) \\mathit{Sni}^{4} + \\left(-16 n^{6} - 108 n^{5} + 236 n^{4} + 1308 n^{3} - 12843 n^{2} - 67646 n - 85212\\right) \\mathit{Sn}^{3} + \\left(64 n^{6} - 128 n^{5} - 1050 n^{4} + 3988 n^{3} - 4678 n^{2} + 1804 n\\right) \\mathit{Sni}^{3} + \\left(24 n^{6} + 472 n^{5} + 1596 n^{4} - 6616 n^{3} - 45009 n^{2} - 77301 n - 35864\\right) \\mathit{Sn}^{2} + \\left(-16 n^{6} + 592 n^{5} - 1268 n^{4} - 2112 n^{3} + 3745 n^{2} - 941 n\\right) \\mathit{Sni}^{2} + \\left(64 n^{6} + 288 n^{5} - 1000 n^{4} - 1808 n^{3} + 22205 n^{2} + 66145 n + 50990\\right) \\mathit{Sn} + \\left(-96 n^{6} - 152 n^{5} + 1772 n^{4} - 1816 n^{3} - 8413 n^{2} - 4128 n\\right) \\mathit{Sni} - 16 n^{6} - 680 n^{5} - 752 n^{4} + 8440 n^{3} + 19519 n^{2} + 10988 n + 180$"
      ],
      "text/plain": [
       "(-8*n^6 + 120*n^5 - 680*n^4 + 1800*n^3 - 2192*n^2 + 960*n)*Sni^6 + (2*n^4 + 12*n^3 - 39*n^2 - 351*n - 530)*Sn^5 + (-16*n^6 + 100*n^5 + 40*n^4 - 1300*n^3 + 2616*n^2 - 1440*n)*Sni^5 + (-8*n^6 - 132*n^5 - 562*n^4 + 1728*n^3 + 21043*n^2 + 60882*n + 58916)*Sn^4 + (24*n^6 - 372*n^5 + 1666*n^4 - 2856*n^3 + 1742*n^2 - 204*n)*Sni^4 + (-16*n^6 - 108*n^5 + 236*n^4 + 1308*n^3 - 12843*n^2 - 67646*n - 85212)*Sn^3 + (64*n^6 - 128*n^5 - 1050*n^4 + 3988*n^3 - 4678*n^2 + 1804*n)*Sni^3 + (24*n^6 + 472*n^5 + 1596*n^4 - 6616*n^3 - 45009*n^2 - 77301*n - 35864)*Sn^2 + (-16*n^6 + 592*n^5 - 1268*n^4 - 2112*n^3 + 3745*n^2 - 941*n)*Sni^2 + (64*n^6 + 288*n^5 - 1000*n^4 - 1808*n^3 + 22205*n^2 + 66145*n + 50990)*Sn + (-96*n^6 - 152*n^5 + 1772*n^4 - 1816*n^3 - 8413*n^2 - 4128*n)*Sni + (-16*n^6 - 680*n^5 - 752*n^4 + 8440*n^3 + 19519*n^2 + 10988*n + 180)"
      ]
     },
     "execution_count": 36,
     "metadata": {},
     "output_type": "execute_result"
    }
   ],
   "source": [
    "Ltilde = B.recurrence(L)\n",
    "operator2file(Ltilde, \"example60/Ltilde.txt\")\n",
    "Ltilde"
   ]
  },
  {
   "cell_type": "markdown",
   "id": "7c6abdb3-8592-4513-b1ea-4f078c7cec63",
   "metadata": {},
   "source": [
    "At this point, we have that any solution $(y_n)_n$ to the equation $L y = 0$ can be written as\n",
    "$$y_n = \\sum_{k=0}^n w_k \\binom{n}{k},$$\n",
    "where $(w_n)_n$ is a solution to $\\tilde{L} w = 0$. We can clean the inverse shift of $\\tilde{L}$ obtainin a new operator $M$ of order 11. This cleaning process is automatically done when using the method `recurrence_orig`:"
   ]
  },
  {
   "cell_type": "code",
   "execution_count": 37,
   "id": "9a40f3df-62a8-49d6-8735-22f507b6cb20",
   "metadata": {
    "vscode": {
     "languageId": "python"
    }
   },
   "outputs": [
    {
     "data": {
      "text/html": [
       "<html>\\(\\displaystyle \\left(2 x^{4} + 60 x^{3} + 609 x^{2} + 2205 x + 1144\\right) E^{11} + \\left(-8 x^{6} - 420 x^{5} - 8842 x^{4} - 93840 x^{3} - 509885 x^{2} - 1214154 x - 573028\\right) E^{10} + \\left(-16 x^{6} - 684 x^{5} - 11644 x^{4} - 101028 x^{3} - 482643 x^{2} - 1322930 x - 1951356\\right) E^{9} + \\left(24 x^{6} + 1336 x^{5} + 28716 x^{4} + 305288 x^{3} + 1666719 x^{2} + 4225311 x + 3309382\\right) E^{8} + \\left(64 x^{6} + 2592 x^{5} + 42200 x^{4} + 354352 x^{3} + 1639901 x^{2} + 4125565 x + 4786184\\right) E^{7} + \\left(-16 x^{6} - 1256 x^{5} - 29792 x^{4} - 323528 x^{3} - 1770833 x^{2} - 4645888 x - 4416936\\right) E^{6} + \\left(-96 x^{6} - 3608 x^{5} - 54628 x^{4} - 428728 x^{3} - 1852909 x^{2} - 4234140 x - 4084308\\right) E^{5} + \\left(-16 x^{6} + 16 x^{5} + 7852 x^{4} + 111456 x^{3} + 659521 x^{2} + 1810015 x + 1886550\\right) E^{4} + \\left(64 x^{6} + 2176 x^{5} + 29670 x^{4} + 209188 x^{3} + 807986 x^{2} + 1625716 x + 1333680\\right) E^{3} + \\left(24 x^{6} + 492 x^{5} + 3466 x^{4} + 6888 x^{3} - 26770 x^{2} - 139140 x - 169200\\right) E^{2} + \\left(-16 x^{6} - 476 x^{5} - 5600 x^{4} - 33460 x^{3} - 107184 x^{2} - 174384 x - 112320\\right) E - 8 x^{6} - 168 x^{5} - 1400 x^{4} - 5880 x^{3} - 12992 x^{2} - 14112 x - 5760\\)</html>"
      ],
      "text/latex": [
       "$\\displaystyle \\left(2 x^{4} + 60 x^{3} + 609 x^{2} + 2205 x + 1144\\right) E^{11} + \\left(-8 x^{6} - 420 x^{5} - 8842 x^{4} - 93840 x^{3} - 509885 x^{2} - 1214154 x - 573028\\right) E^{10} + \\left(-16 x^{6} - 684 x^{5} - 11644 x^{4} - 101028 x^{3} - 482643 x^{2} - 1322930 x - 1951356\\right) E^{9} + \\left(24 x^{6} + 1336 x^{5} + 28716 x^{4} + 305288 x^{3} + 1666719 x^{2} + 4225311 x + 3309382\\right) E^{8} + \\left(64 x^{6} + 2592 x^{5} + 42200 x^{4} + 354352 x^{3} + 1639901 x^{2} + 4125565 x + 4786184\\right) E^{7} + \\left(-16 x^{6} - 1256 x^{5} - 29792 x^{4} - 323528 x^{3} - 1770833 x^{2} - 4645888 x - 4416936\\right) E^{6} + \\left(-96 x^{6} - 3608 x^{5} - 54628 x^{4} - 428728 x^{3} - 1852909 x^{2} - 4234140 x - 4084308\\right) E^{5} + \\left(-16 x^{6} + 16 x^{5} + 7852 x^{4} + 111456 x^{3} + 659521 x^{2} + 1810015 x + 1886550\\right) E^{4} + \\left(64 x^{6} + 2176 x^{5} + 29670 x^{4} + 209188 x^{3} + 807986 x^{2} + 1625716 x + 1333680\\right) E^{3} + \\left(24 x^{6} + 492 x^{5} + 3466 x^{4} + 6888 x^{3} - 26770 x^{2} - 139140 x - 169200\\right) E^{2} + \\left(-16 x^{6} - 476 x^{5} - 5600 x^{4} - 33460 x^{3} - 107184 x^{2} - 174384 x - 112320\\right) E - 8 x^{6} - 168 x^{5} - 1400 x^{4} - 5880 x^{3} - 12992 x^{2} - 14112 x - 5760$"
      ],
      "text/plain": [
       "(2*x^4 + 60*x^3 + 609*x^2 + 2205*x + 1144)*E^11 + (-8*x^6 - 420*x^5 - 8842*x^4 - 93840*x^3 - 509885*x^2 - 1214154*x - 573028)*E^10 + (-16*x^6 - 684*x^5 - 11644*x^4 - 101028*x^3 - 482643*x^2 - 1322930*x - 1951356)*E^9 + (24*x^6 + 1336*x^5 + 28716*x^4 + 305288*x^3 + 1666719*x^2 + 4225311*x + 3309382)*E^8 + (64*x^6 + 2592*x^5 + 42200*x^4 + 354352*x^3 + 1639901*x^2 + 4125565*x + 4786184)*E^7 + (-16*x^6 - 1256*x^5 - 29792*x^4 - 323528*x^3 - 1770833*x^2 - 4645888*x - 4416936)*E^6 + (-96*x^6 - 3608*x^5 - 54628*x^4 - 428728*x^3 - 1852909*x^2 - 4234140*x - 4084308)*E^5 + (-16*x^6 + 16*x^5 + 7852*x^4 + 111456*x^3 + 659521*x^2 + 1810015*x + 1886550)*E^4 + (64*x^6 + 2176*x^5 + 29670*x^4 + 209188*x^3 + 807986*x^2 + 1625716*x + 1333680)*E^3 + (24*x^6 + 492*x^5 + 3466*x^4 + 6888*x^3 - 26770*x^2 - 139140*x - 169200)*E^2 + (-16*x^6 - 476*x^5 - 5600*x^4 - 33460*x^3 - 107184*x^2 - 174384*x - 112320)*E - 8*x^6 - 168*x^5 - 1400*x^4 - 5880*x^3 - 12992*x^2 - 14112*x - 5760"
      ]
     },
     "execution_count": 37,
     "metadata": {},
     "output_type": "execute_result"
    }
   ],
   "source": [
    "M = B.recurrence_orig(L)\n",
    "operator2file(M, \"example60/M.txt\")\n",
    "M"
   ]
  },
  {
   "cell_type": "markdown",
   "id": "4c35ed66-aefa-4338-b1ed-67f97735ff5e",
   "metadata": {},
   "source": [
    "Now that we have a new recurrence operator in terms of $x$ and $E$, we can apply the same method for getting a new recurrence:"
   ]
  },
  {
   "cell_type": "code",
   "execution_count": 38,
   "id": "4905c32f-a2ad-4e55-b41e-37dbe095f30d",
   "metadata": {
    "vscode": {
     "languageId": "python"
    }
   },
   "outputs": [
    {
     "data": {
      "text/html": [
       "<html>\\(\\displaystyle \\left(2 n^{4} + 60 n^{3} + 609 n^{2} + 2205 n + 1144\\right) \\mathit{Sn}^{11} + \\left(-8 n^{6} - 420 n^{5} - 8812 n^{4} - 93012 n^{3} - 502140 n^{2} - 1188245 n - 560444\\right) \\mathit{Sn}^{10} + \\left(-144 n^{6} - 6864 n^{5} - 131182 n^{4} - 1266684 n^{3} - 6307771 n^{2} - 14115123 n - 7618716\\right) \\mathit{Sn}^{9} + \\left(-1176 n^{6} - 50300 n^{5} - 863968 n^{4} - 7519420 n^{3} - 33976774 n^{2} - 70410893 n - 39850322\\right) \\mathit{Sn}^{8} + \\left(-5760 n^{6} - 217784 n^{5} - 3308558 n^{4} - 25513428 n^{3} - 102653179 n^{2} - 192498561 n - 107373416\\right) \\mathit{Sn}^{7} + \\left(-18840 n^{6} - 617420 n^{5} - 8122956 n^{4} - 54243220 n^{3} - 189442880 n^{2} - 311777199 n - 161972208\\right) \\mathit{Sn}^{6} + \\left(-43344 n^{6} - 1198400 n^{5} - 13254962 n^{4} - 74139652 n^{3} - 216230077 n^{2} - 297858761 n - 134496052\\right) \\mathit{Sn}^{5} + \\left(-71912 n^{6} - 1612772 n^{5} - 14331384 n^{4} - 63562068 n^{3} - 144253438 n^{2} - 150787607 n - 51445066\\right) \\mathit{Sn}^{4} + \\left(-86688 n^{6} - 1481240 n^{5} - 9761668 n^{4} - 30609592 n^{3} - 44346942 n^{2} - 22037616 n + 51408\\right) \\mathit{Sn}^{3} + \\left(512 n^{5} - 3328 n^{4} + 7936 n^{3} - 8192 n^{2} + 3072 n\\right) \\mathit{Sni}^{3} + \\left(-75360 n^{6} - 873712 n^{5} - 3532976 n^{4} - 4885832 n^{3} + 2947744 n^{2} + 11577176 n + 5254424\\right) \\mathit{Sn}^{2} + \\left(-512 n^{6} + 8960 n^{5} - 24320 n^{4} + 25728 n^{3} - 11648 n^{2} + 1792 n\\right) \\mathit{Sni}^{2} + \\left(-46080 n^{6} - 270880 n^{5} - 159568 n^{4} + 1926480 n^{3} + 4914256 n^{2} + 4118736 n + 871808\\right) \\mathit{Sn} + \\left(-4608 n^{6} + 33152 n^{5} + 30528 n^{4} - 1664 n^{3} - 32 n^{2} - 1024 n\\right) \\mathit{Sni} - 18816 n^{6} + 4160 n^{5} + 295680 n^{4} + 681280 n^{3} + 607808 n^{2} + 197904 n + 4032\\)</html>"
      ],
      "text/latex": [
       "$\\displaystyle \\left(2 n^{4} + 60 n^{3} + 609 n^{2} + 2205 n + 1144\\right) \\mathit{Sn}^{11} + \\left(-8 n^{6} - 420 n^{5} - 8812 n^{4} - 93012 n^{3} - 502140 n^{2} - 1188245 n - 560444\\right) \\mathit{Sn}^{10} + \\left(-144 n^{6} - 6864 n^{5} - 131182 n^{4} - 1266684 n^{3} - 6307771 n^{2} - 14115123 n - 7618716\\right) \\mathit{Sn}^{9} + \\left(-1176 n^{6} - 50300 n^{5} - 863968 n^{4} - 7519420 n^{3} - 33976774 n^{2} - 70410893 n - 39850322\\right) \\mathit{Sn}^{8} + \\left(-5760 n^{6} - 217784 n^{5} - 3308558 n^{4} - 25513428 n^{3} - 102653179 n^{2} - 192498561 n - 107373416\\right) \\mathit{Sn}^{7} + \\left(-18840 n^{6} - 617420 n^{5} - 8122956 n^{4} - 54243220 n^{3} - 189442880 n^{2} - 311777199 n - 161972208\\right) \\mathit{Sn}^{6} + \\left(-43344 n^{6} - 1198400 n^{5} - 13254962 n^{4} - 74139652 n^{3} - 216230077 n^{2} - 297858761 n - 134496052\\right) \\mathit{Sn}^{5} + \\left(-71912 n^{6} - 1612772 n^{5} - 14331384 n^{4} - 63562068 n^{3} - 144253438 n^{2} - 150787607 n - 51445066\\right) \\mathit{Sn}^{4} + \\left(-86688 n^{6} - 1481240 n^{5} - 9761668 n^{4} - 30609592 n^{3} - 44346942 n^{2} - 22037616 n + 51408\\right) \\mathit{Sn}^{3} + \\left(512 n^{5} - 3328 n^{4} + 7936 n^{3} - 8192 n^{2} + 3072 n\\right) \\mathit{Sni}^{3} + \\left(-75360 n^{6} - 873712 n^{5} - 3532976 n^{4} - 4885832 n^{3} + 2947744 n^{2} + 11577176 n + 5254424\\right) \\mathit{Sn}^{2} + \\left(-512 n^{6} + 8960 n^{5} - 24320 n^{4} + 25728 n^{3} - 11648 n^{2} + 1792 n\\right) \\mathit{Sni}^{2} + \\left(-46080 n^{6} - 270880 n^{5} - 159568 n^{4} + 1926480 n^{3} + 4914256 n^{2} + 4118736 n + 871808\\right) \\mathit{Sn} + \\left(-4608 n^{6} + 33152 n^{5} + 30528 n^{4} - 1664 n^{3} - 32 n^{2} - 1024 n\\right) \\mathit{Sni} - 18816 n^{6} + 4160 n^{5} + 295680 n^{4} + 681280 n^{3} + 607808 n^{2} + 197904 n + 4032$"
      ],
      "text/plain": [
       "(2*n^4 + 60*n^3 + 609*n^2 + 2205*n + 1144)*Sn^11 + (-8*n^6 - 420*n^5 - 8812*n^4 - 93012*n^3 - 502140*n^2 - 1188245*n - 560444)*Sn^10 + (-144*n^6 - 6864*n^5 - 131182*n^4 - 1266684*n^3 - 6307771*n^2 - 14115123*n - 7618716)*Sn^9 + (-1176*n^6 - 50300*n^5 - 863968*n^4 - 7519420*n^3 - 33976774*n^2 - 70410893*n - 39850322)*Sn^8 + (-5760*n^6 - 217784*n^5 - 3308558*n^4 - 25513428*n^3 - 102653179*n^2 - 192498561*n - 107373416)*Sn^7 + (-18840*n^6 - 617420*n^5 - 8122956*n^4 - 54243220*n^3 - 189442880*n^2 - 311777199*n - 161972208)*Sn^6 + (-43344*n^6 - 1198400*n^5 - 13254962*n^4 - 74139652*n^3 - 216230077*n^2 - 297858761*n - 134496052)*Sn^5 + (-71912*n^6 - 1612772*n^5 - 14331384*n^4 - 63562068*n^3 - 144253438*n^2 - 150787607*n - 51445066)*Sn^4 + (-86688*n^6 - 1481240*n^5 - 9761668*n^4 - 30609592*n^3 - 44346942*n^2 - 22037616*n + 51408)*Sn^3 + (512*n^5 - 3328*n^4 + 7936*n^3 - 8192*n^2 + 3072*n)*Sni^3 + (-75360*n^6 - 873712*n^5 - 3532976*n^4 - 4885832*n^3 + 2947744*n^2 + 11577176*n + 5254424)*Sn^2 + (-512*n^6 + 8960*n^5 - 24320*n^4 + 25728*n^3 - 11648*n^2 + 1792*n)*Sni^2 + (-46080*n^6 - 270880*n^5 - 159568*n^4 + 1926480*n^3 + 4914256*n^2 + 4118736*n + 871808)*Sn + (-4608*n^6 + 33152*n^5 + 30528*n^4 - 1664*n^3 - 32*n^2 - 1024*n)*Sni + (-18816*n^6 + 4160*n^5 + 295680*n^4 + 681280*n^3 + 607808*n^2 + 197904*n + 4032)"
      ]
     },
     "execution_count": 38,
     "metadata": {},
     "output_type": "execute_result"
    }
   ],
   "source": [
    "Mtilde = B.recurrence(M)\n",
    "operator2file(Mtilde, \"example60/Mtilde.txt\")\n",
    "Mtilde"
   ]
  },
  {
   "cell_type": "markdown",
   "id": "9b21140a-e186-4e3b-b340-0a0bee58d479",
   "metadata": {},
   "source": [
    "Similar to what we had before, any solution $(w_n)_n$ to $M w = 0$ can be written in the following form:\n",
    "$$w_n = \\sum_{k=0}^n v_k\\binom{n}{k},$$\n",
    "where the sequence $(v_n)_n$ is a solution to $\\tilde{M} v = 0$. To have a simpler representation, we can clean the inverse shifts from $\\tilde{M}$ obtaining a new operator $N$ that can be written in terms of $x$ and $E$. This can be automatically achieved by using the method `recurrence_orig`:"
   ]
  },
  {
   "cell_type": "code",
   "execution_count": 39,
   "id": "acc47306-957e-42e9-8f15-8695ba589733",
   "metadata": {
    "vscode": {
     "languageId": "python"
    }
   },
   "outputs": [
    {
     "data": {
      "text/html": [
       "<html>\\(\\displaystyle \\left(2 x^{4} + 84 x^{3} + 1257 x^{2} + 7695 x + 15022\\right) E^{14} + \\left(-8 x^{6} - 564 x^{5} - 16192 x^{4} - 240876 x^{3} - 1938216 x^{2} - 7845869 x - 11977427\\right) E^{13} + \\left(-144 x^{6} - 9456 x^{5} - 253582 x^{4} - 3536388 x^{3} - 26819995 x^{2} - 103319745 x - 153333162\\right) E^{12} + \\left(-1176 x^{6} - 71468 x^{5} - 1777228 x^{4} - 23049076 x^{3} - 163315666 x^{2} - 592690529 x - 842959919\\right) E^{11} + \\left(-5760 x^{6} - 321464 x^{5} - 7352918 x^{4} - 87927084 x^{3} - 576736243 x^{2} - 1951205055 x - 2622724016\\right) E^{10} + \\left(-18840 x^{6} - 956540 x^{5} - 19927656 x^{4} - 217460092 x^{3} - 1305865484 x^{2} - 4067804487 x - 5088583521\\right) E^{9} + \\left(-43344 x^{6} - 1978592 x^{5} - 37082402 x^{4} - 364460956 x^{3} - 1975485853 x^{2} - 5577093275 x - 6372374530\\right) E^{8} + \\left(-71912 x^{6} - 2907188 x^{5} - 48231084 x^{4} - 419520636 x^{3} - 2013028306 x^{2} - 5038293899 x - 5123434213\\right) E^{7} + \\left(-86688 x^{6} - 3041624 x^{5} - 43683148 x^{4} - 327872728 x^{3} - 1352224062 x^{2} - 2895131700 x - 2505474882\\right) E^{6} + \\left(-75360 x^{6} - 2230192 x^{5} - 26812256 x^{4} - 166610024 x^{3} - 559270088 x^{2} - 947943472 x - 618822328\\right) E^{5} + \\left(-46080 x^{6} - 1100320 x^{5} - 10443568 x^{4} - 49250736 x^{3} - 115488896 x^{2} - 108505152 x - 2869888\\right) E^{4} + \\left(-18816 x^{6} - 334528 x^{5} - 2182080 x^{4} - 5556800 x^{3} + 967808 x^{2} + 28423824 x + 35706672\\right) E^{3} + \\left(-4608 x^{6} - 49792 x^{5} - 94272 x^{4} + 860032 x^{3} + 4985824 x^{2} + 9958976 x + 7121184\\right) E^{2} + \\left(-512 x^{6} - 256 x^{5} + 40960 x^{4} + 263808 x^{3} + 703744 x^{2} + 882304 x + 429312\\right) E + 512 x^{5} + 4352 x^{4} + 14080 x^{3} + 21760 x^{2} + 16128 x + 4608\\)</html>"
      ],
      "text/latex": [
       "$\\displaystyle \\left(2 x^{4} + 84 x^{3} + 1257 x^{2} + 7695 x + 15022\\right) E^{14} + \\left(-8 x^{6} - 564 x^{5} - 16192 x^{4} - 240876 x^{3} - 1938216 x^{2} - 7845869 x - 11977427\\right) E^{13} + \\left(-144 x^{6} - 9456 x^{5} - 253582 x^{4} - 3536388 x^{3} - 26819995 x^{2} - 103319745 x - 153333162\\right) E^{12} + \\left(-1176 x^{6} - 71468 x^{5} - 1777228 x^{4} - 23049076 x^{3} - 163315666 x^{2} - 592690529 x - 842959919\\right) E^{11} + \\left(-5760 x^{6} - 321464 x^{5} - 7352918 x^{4} - 87927084 x^{3} - 576736243 x^{2} - 1951205055 x - 2622724016\\right) E^{10} + \\left(-18840 x^{6} - 956540 x^{5} - 19927656 x^{4} - 217460092 x^{3} - 1305865484 x^{2} - 4067804487 x - 5088583521\\right) E^{9} + \\left(-43344 x^{6} - 1978592 x^{5} - 37082402 x^{4} - 364460956 x^{3} - 1975485853 x^{2} - 5577093275 x - 6372374530\\right) E^{8} + \\left(-71912 x^{6} - 2907188 x^{5} - 48231084 x^{4} - 419520636 x^{3} - 2013028306 x^{2} - 5038293899 x - 5123434213\\right) E^{7} + \\left(-86688 x^{6} - 3041624 x^{5} - 43683148 x^{4} - 327872728 x^{3} - 1352224062 x^{2} - 2895131700 x - 2505474882\\right) E^{6} + \\left(-75360 x^{6} - 2230192 x^{5} - 26812256 x^{4} - 166610024 x^{3} - 559270088 x^{2} - 947943472 x - 618822328\\right) E^{5} + \\left(-46080 x^{6} - 1100320 x^{5} - 10443568 x^{4} - 49250736 x^{3} - 115488896 x^{2} - 108505152 x - 2869888\\right) E^{4} + \\left(-18816 x^{6} - 334528 x^{5} - 2182080 x^{4} - 5556800 x^{3} + 967808 x^{2} + 28423824 x + 35706672\\right) E^{3} + \\left(-4608 x^{6} - 49792 x^{5} - 94272 x^{4} + 860032 x^{3} + 4985824 x^{2} + 9958976 x + 7121184\\right) E^{2} + \\left(-512 x^{6} - 256 x^{5} + 40960 x^{4} + 263808 x^{3} + 703744 x^{2} + 882304 x + 429312\\right) E + 512 x^{5} + 4352 x^{4} + 14080 x^{3} + 21760 x^{2} + 16128 x + 4608$"
      ],
      "text/plain": [
       "(2*x^4 + 84*x^3 + 1257*x^2 + 7695*x + 15022)*E^14 + (-8*x^6 - 564*x^5 - 16192*x^4 - 240876*x^3 - 1938216*x^2 - 7845869*x - 11977427)*E^13 + (-144*x^6 - 9456*x^5 - 253582*x^4 - 3536388*x^3 - 26819995*x^2 - 103319745*x - 153333162)*E^12 + (-1176*x^6 - 71468*x^5 - 1777228*x^4 - 23049076*x^3 - 163315666*x^2 - 592690529*x - 842959919)*E^11 + (-5760*x^6 - 321464*x^5 - 7352918*x^4 - 87927084*x^3 - 576736243*x^2 - 1951205055*x - 2622724016)*E^10 + (-18840*x^6 - 956540*x^5 - 19927656*x^4 - 217460092*x^3 - 1305865484*x^2 - 4067804487*x - 5088583521)*E^9 + (-43344*x^6 - 1978592*x^5 - 37082402*x^4 - 364460956*x^3 - 1975485853*x^2 - 5577093275*x - 6372374530)*E^8 + (-71912*x^6 - 2907188*x^5 - 48231084*x^4 - 419520636*x^3 - 2013028306*x^2 - 5038293899*x - 5123434213)*E^7 + (-86688*x^6 - 3041624*x^5 - 43683148*x^4 - 327872728*x^3 - 1352224062*x^2 - 2895131700*x - 2505474882)*E^6 + (-75360*x^6 - 2230192*x^5 - 26812256*x^4 - 166610024*x^3 - 559270088*x^2 - 947943472*x - 618822328)*E^5 + (-46080*x^6 - 1100320*x^5 - 10443568*x^4 - 49250736*x^3 - 115488896*x^2 - 108505152*x - 2869888)*E^4 + (-18816*x^6 - 334528*x^5 - 2182080*x^4 - 5556800*x^3 + 967808*x^2 + 28423824*x + 35706672)*E^3 + (-4608*x^6 - 49792*x^5 - 94272*x^4 + 860032*x^3 + 4985824*x^2 + 9958976*x + 7121184)*E^2 + (-512*x^6 - 256*x^5 + 40960*x^4 + 263808*x^3 + 703744*x^2 + 882304*x + 429312)*E + 512*x^5 + 4352*x^4 + 14080*x^3 + 21760*x^2 + 16128*x + 4608"
      ]
     },
     "execution_count": 39,
     "metadata": {},
     "output_type": "execute_result"
    }
   ],
   "source": [
    "N = B.recurrence_orig(M)\n",
    "operator2file(N, \"example60/N.txt\")\n",
    "N"
   ]
  },
  {
   "cell_type": "markdown",
   "id": "a0eed930-abde-424f-be1c-03d62ba5bb55",
   "metadata": {},
   "source": [
    "If we look now for hypergeometric solutions to this operator, we can find 2 linearly independent solutions:\n",
    "$$v_n^{(1)} = (2n+1)!,$$\n",
    "$$v_n^{(2)} = \\frac{1}{n!}.$$\n",
    "\n",
    "We can check that this is the case using closure properties and the simpler recurrences for these two sequences:\n",
    "$$v_{n+1}^{(1)} = (2n+3)(2n+2) v_n^{(1)},$$\n",
    "$$(n+1) v_{n+1}^{(2)} = v_n^{(2)}.$$\n",
    "\n",
    "The following cell checks that $(v_n^{(1)})_n$ is a solution to $N v = 0$:"
   ]
  },
  {
   "cell_type": "code",
   "execution_count": 40,
   "id": "73af0f3c-60c6-4539-b334-b5b1b97af398",
   "metadata": {
    "vscode": {
     "languageId": "python"
    }
   },
   "outputs": [
    {
     "data": {
      "text/html": [
       "<html>\\(\\displaystyle \\mathrm{True}\\)</html>"
      ],
      "text/latex": [
       "$\\displaystyle \\mathrm{True}$"
      ],
      "text/plain": [
       "True"
      ]
     },
     "execution_count": 40,
     "metadata": {},
     "output_type": "execute_result"
    }
   ],
   "source": [
    "v1 = LambdaSequence(lambda n : factorial(2*n+1), ZZ) # definition of the sequence v_n^{(2)} with a function\n",
    "Lv1 = E - (2*x+3)*(2*x+2) # operator annihilating the sequence v_n^{(2)}\n",
    "need_to_check = required_init(Lv1.lclm(N)) # computing the values of the recurrence that need to be checked\n",
    "poss_v1 = solution(N, v1[:required_init(N)]) # computing the sequence induced by v_n^{(2)} if solution of N\n",
    "(v1 - poss_v1).almost_zero(need_to_check+2) # checking the two sequences coincide up to the desired bound"
   ]
  },
  {
   "cell_type": "markdown",
   "id": "f688c2ea-5a02-4d13-8dd0-03b118dfbb36",
   "metadata": {},
   "source": [
    "The following cell checks that $(v_n^{(2)})_n$ is a solution to $N v = 0$:"
   ]
  },
  {
   "cell_type": "code",
   "execution_count": 41,
   "id": "8325f7ba-965d-41d5-9477-5aa0894f1f93",
   "metadata": {
    "vscode": {
     "languageId": "python"
    }
   },
   "outputs": [
    {
     "data": {
      "text/html": [
       "<html>\\(\\displaystyle \\mathrm{True}\\)</html>"
      ],
      "text/latex": [
       "$\\displaystyle \\mathrm{True}$"
      ],
      "text/plain": [
       "True"
      ]
     },
     "execution_count": 41,
     "metadata": {},
     "output_type": "execute_result"
    }
   ],
   "source": [
    "v2 = LambdaSequence(lambda n : 1/factorial(n), QQ) # definition of the sequence v_n^{(2)} with a function\n",
    "Lv2 = (x+1)*E - 1 # operator annihilating the sequence v_n^{(2)}\n",
    "need_to_check = required_init(Lv2.lclm(N)) # computing the values of the recurrence that need to be checked\n",
    "poss_v2 = solution(N, v2[:required_init(N)]) # computing the sequence induced by v_n^{(2)} if solution of N\n",
    "(v2 - poss_v2).almost_zero(need_to_check+2) # checking the two sequences coincide up to the desired bound"
   ]
  },
  {
   "cell_type": "markdown",
   "id": "46b7dd09-64d9-45a3-985c-395d2f0957aa",
   "metadata": {},
   "source": [
    "Unrolling all the results back to the original operator $L$, we get two solutions for the equation $L y = 0$ with the solutions:\n",
    "$$y_n^{(1)} = \\sum_{k=0}^n \\sum_{l=0}^k (2l+1)!\\binom{k}{l}\\binom{n}{k},$$\n",
    "$$y_n^{(2)} = \\sum_{k=0}^n \\sum_{l=0}^k \\frac{1}{l!}\\binom{k}{l}\\binom{n}{k}.$$\n",
    "\n",
    "The following cell checks this fact for the first terms of the sequence $y_n^{(1)}$:"
   ]
  },
  {
   "cell_type": "code",
   "execution_count": 42,
   "id": "61296bad-16d4-4faa-926b-460cbba87f85",
   "metadata": {
    "vscode": {
     "languageId": "python"
    }
   },
   "outputs": [
    {
     "data": {
      "text/html": [
       "<html>\\(\\displaystyle \\mathrm{True}\\)</html>"
      ],
      "text/latex": [
       "$\\displaystyle \\mathrm{True}$"
      ],
      "text/plain": [
       "True"
      ]
     },
     "execution_count": 42,
     "metadata": {},
     "output_type": "execute_result"
    }
   ],
   "source": [
    "y1 = LambdaSequence(lambda n : sum(sum(factorial(2*l+1)*binomial(k,l)*binomial(n,k) for l in range(k+1)) for k in range(n+1)), QQ)\n",
    "L_y1 = apply_operator_to_seq(L, y1)\n",
    "L_y1.almost_zero(20)"
   ]
  },
  {
   "cell_type": "markdown",
   "id": "3e24def1-928c-4474-bd4b-7416536b9bf4",
   "metadata": {},
   "source": [
    "The following cell checks this fact for the first terms of the sequence $y_n^{(2)}$:"
   ]
  },
  {
   "cell_type": "code",
   "execution_count": 43,
   "id": "780b4a69-c846-4f02-888d-ea3e78a94d35",
   "metadata": {
    "vscode": {
     "languageId": "python"
    }
   },
   "outputs": [
    {
     "data": {
      "text/html": [
       "<html>\\(\\displaystyle \\mathrm{True}\\)</html>"
      ],
      "text/latex": [
       "$\\displaystyle \\mathrm{True}$"
      ],
      "text/plain": [
       "True"
      ]
     },
     "execution_count": 43,
     "metadata": {},
     "output_type": "execute_result"
    }
   ],
   "source": [
    "y2 = LambdaSequence(lambda n : sum(sum((1/factorial(l))*binomial(k,l)*binomial(n,k) for l in range(k+1)) for k in range(n+1)), QQ)\n",
    "L_y2 = apply_operator_to_seq(L, y2)\n",
    "L_y2.almost_zero(20)"
   ]
  },
  {
   "cell_type": "code",
   "execution_count": null,
   "id": "32a021a9-8ea2-4529-b74c-6453b35b2270",
   "metadata": {
    "vscode": {
     "languageId": "python"
    }
   },
   "outputs": [],
   "source": []
  }
 ],
 "metadata": {
  "kernelspec": {
   "display_name": "SageMath 9.7",
   "language": "sage",
   "name": "sagemath"
  },
  "language_info": {
   "codemirror_mode": {
    "name": "ipython",
    "version": 3
   },
   "file_extension": ".py",
   "mimetype": "text/x-python",
   "name": "sage",
   "nbconvert_exporter": "python",
   "pygments_lexer": "ipython3",
   "version": "3.10.5"
  },
  "vscode": {
   "interpreter": {
    "hash": "6ac2281d5d3bc9c8602ecc880f52072697a1724cb71e545962e9e2106a72a94b"
   }
  }
 },
 "nbformat": 4,
 "nbformat_minor": 5
}
