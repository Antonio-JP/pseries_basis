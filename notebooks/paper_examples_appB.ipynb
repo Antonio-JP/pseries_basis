{
 "cells": [
  {
   "cell_type": "markdown",
   "id": "8a4c8229-16d1-4276-8c27-e2bc87d1dab9",
   "metadata": {
    "tags": []
   },
   "source": [
    "# Examples from (arxiv) Appendix B\n",
    "\n",
    "In this notebook we are going to show the automated computations to produce the results on Appendix B on the arXiv version of [this paper](https://arxiv.org/abs/2202.05550). These examples explored other sequences obtained from OEIS and have several identities we could prove. \n",
    "\n",
    "These examples were taken through exploration from [OEIS](https://oeis.org/). We encourage the reader to see the script `oeis_information_getter.py` in this folder to see the exploration technique and the sequences (which include those shown in this notebook) obtained from this database."
   ]
  },
  {
   "cell_type": "code",
   "execution_count": 1,
   "id": "a19cc201",
   "metadata": {},
   "outputs": [],
   "source": [
    "%display latex\n",
    "from alive_progress import alive_bar\n",
    "from pseries_basis import *\n",
    "from pseries_basis.ore import *\n",
    "from pseries_basis.io import *\n",
    "from ore_algebra import *\n",
    "# Creating the objects used in the notebook\n",
    "OE, (x, E) = get_recurrence_algebra(\"x\", \"E\")\n",
    "B = BinomialBasis()"
   ]
  },
  {
   "cell_type": "markdown",
   "id": "c83791e2",
   "metadata": {
    "jp-MarkdownHeadingCollapsed": true,
    "tags": []
   },
   "source": [
    "## The example [A007317](https://oeis.org/A007317) (Example 56)\n",
    "\n",
    "This sequence (the direct binomial transform of the Catalan numbers) starts with the terms $0, 1, 2, 5, 15, 51, 188,\\ldots$ and has the following recurrence:\n",
    "$$(n+2)a_{n+2} = (6n+4)a_{n+1} - 5na_n.$$"
   ]
  },
  {
   "cell_type": "code",
   "execution_count": 2,
   "id": "ebedd238-8e35-4044-b4fb-162fbd6d5c11",
   "metadata": {},
   "outputs": [],
   "source": [
    "A007317 = EnhOEISSequence(\"A007317\")\n",
    "L007317 = A007317.dfinite_recurrence()\n",
    "## Removing the offset of the sequence\n",
    "L007317 = L007317.annihilator_of_associate(E**A007317.offsets()[0])\n",
    "A007317_seq = solution(L007317, A007317.first_terms(required_init(L007317)))"
   ]
  },
  {
   "cell_type": "markdown",
   "id": "042705e6",
   "metadata": {},
   "source": [
    "First, we can check that this, indeed the binomial transform of the Catalan numbers. For doing so, we compute a sequence $b_k$ such that:\n",
    "$$a_n = \\sum_{k=0}^n b_k \\binom{n}{k},$$\n",
    "obtaining the following recurrence for $b_n$:"
   ]
  },
  {
   "cell_type": "code",
   "execution_count": 3,
   "id": "cedbba81",
   "metadata": {},
   "outputs": [
    {
     "data": {
      "text/html": [
       "<html>\\(\\displaystyle \\left(-x - 3\\right) E^{2} + \\left(3 x + 4\\right) E + 4 x + 2\\)</html>"
      ],
      "text/latex": [
       "$\\displaystyle \\left(-x - 3\\right) E^{2} + \\left(3 x + 4\\right) E + 4 x + 2$"
      ],
      "text/plain": [
       "(-x - 3)*E^2 + (3*x + 4)*E + 4*x + 2"
      ]
     },
     "metadata": {},
     "output_type": "display_data"
    },
    {
     "data": {
      "text/html": [
       "<html>\\(\\displaystyle \\left[1, 1, 2, 5, 14, 42, 132, 429, 1430, 4862\\right]\\)</html>"
      ],
      "text/latex": [
       "$\\displaystyle \\left[1, 1, 2, 5, 14, 42, 132, 429, 1430, 4862\\right]$"
      ],
      "text/plain": [
       "[1, 1, 2, 5, 14, 42, 132, 429, 1430, 4862]"
      ]
     },
     "execution_count": 3,
     "metadata": {},
     "output_type": "execute_result"
    }
   ],
   "source": [
    "equ_b = B.recurrence_orig(L007317); show(equ_b)\n",
    "seq_b = solution(equ_b,B.evaluation_to_self(A007317_seq, required_init(equ_b)))\n",
    "seq_b[:10]"
   ]
  },
  {
   "cell_type": "markdown",
   "id": "9fee9849",
   "metadata": {},
   "source": [
    "On the other hand, the Catalan numbers satisfies the following recurrence:\n"
   ]
  },
  {
   "cell_type": "code",
   "execution_count": 4,
   "id": "3f1a370b",
   "metadata": {},
   "outputs": [
    {
     "data": {
      "text/html": [
       "<html>\\(\\displaystyle \\left(x + 2\\right) E - 4 x - 2\\)</html>"
      ],
      "text/latex": [
       "$\\displaystyle \\left(x + 2\\right) E - 4 x - 2$"
      ],
      "text/plain": [
       "(x + 2)*E - 4*x - 2"
      ]
     },
     "execution_count": 4,
     "metadata": {},
     "output_type": "execute_result"
    }
   ],
   "source": [
    "equ_cat = (x+2)*E - 2*(2*(x+1)-1); equ_cat"
   ]
  },
  {
   "cell_type": "markdown",
   "id": "f7119b5b",
   "metadata": {},
   "source": [
    "Using closure properties, we can check that $b_n$ is, indeed, the sequence of Catalan numbers:"
   ]
  },
  {
   "cell_type": "code",
   "execution_count": 5,
   "id": "e20e8517",
   "metadata": {},
   "outputs": [
    {
     "name": "stdout",
     "output_type": "stream",
     "text": [
      "We need to check equality up to 4 elements\n"
     ]
    },
    {
     "data": {
      "text/html": [
       "<html>\\(\\displaystyle \\mathrm{True}\\)</html>"
      ],
      "text/latex": [
       "$\\displaystyle \\mathrm{True}$"
      ],
      "text/plain": [
       "True"
      ]
     },
     "execution_count": 5,
     "metadata": {},
     "output_type": "execute_result"
    }
   ],
   "source": [
    "d = required_init(equ_b.lclm(equ_cat))\n",
    "print(f\"We need to check equality up to {d} elements\")\n",
    "all(seq_b(i) == catalan_number(i) for i in range(d+1))"
   ]
  },
  {
   "cell_type": "markdown",
   "id": "79c8f11b",
   "metadata": {},
   "source": [
    "##### Double sum part\n",
    "Let us describe the values of $a_n$ as a double sum of binomials of the form:\n",
    "$$a_n = \\sum_{k=0}^n \\sum_{l=0}^k c_l \\binom{k}{l}\\binom{n}{k}.$$\n",
    "Using the method `recurrence` in the package `pseries_basis` we can get the new equation for $c_k$:"
   ]
  },
  {
   "cell_type": "code",
   "execution_count": 6,
   "id": "076d58cb",
   "metadata": {
    "scrolled": true
   },
   "outputs": [
    {
     "data": {
      "text/html": [
       "<html>\\(\\displaystyle \\left(-x - 4\\right) E^{3} - 2 E^{2} + \\left(7 x + 10\\right) E + 6 x + 6\\)</html>"
      ],
      "text/latex": [
       "$\\displaystyle \\left(-x - 4\\right) E^{3} - 2 E^{2} + \\left(7 x + 10\\right) E + 6 x + 6$"
      ],
      "text/plain": [
       "(-x - 4)*E^3 - 2*E^2 + (7*x + 10)*E + 6*x + 6"
      ]
     },
     "metadata": {},
     "output_type": "display_data"
    },
    {
     "data": {
      "text/html": [
       "<html>\\(\\displaystyle \\left[1, 0, 1, 1, 3, 6, 15, 36, 91, 232\\right]\\)</html>"
      ],
      "text/latex": [
       "$\\displaystyle \\left[1, 0, 1, 1, 3, 6, 15, 36, 91, 232\\right]$"
      ],
      "text/plain": [
       "[1, 0, 1, 1, 3, 6, 15, 36, 91, 232]"
      ]
     },
     "execution_count": 6,
     "metadata": {},
     "output_type": "execute_result"
    }
   ],
   "source": [
    "equ_c = B.recurrence_orig(equ_b); show(equ_c)\n",
    "seq_c = solution(equ_c,B.evaluation_to_self(seq_b, required_init(equ_c)))\n",
    "[seq_c(i) for i in range(10)]"
   ]
  },
  {
   "cell_type": "markdown",
   "id": "62cbd5b2",
   "metadata": {},
   "source": [
    "We can try to see if this new sequence appear in OEIS. In fact, id does and it provides a formula:"
   ]
  },
  {
   "cell_type": "code",
   "execution_count": 7,
   "id": "44024d8a",
   "metadata": {
    "scrolled": true
   },
   "outputs": [
    {
     "data": {
      "text/html": [
       "<html>\\(\\displaystyle \\begin{array}{l}\n",
       "\\verb|0:|\\verb| |\\verb|A005043:|\\verb| |\\verb|Riordan|\\verb| |\\verb|numbers:|\\verb| |\\verb|a(n)|\\verb| |\\verb|=|\\verb| |\\verb|(n-1)*(2*a(n-1)|\\verb| |\\verb|+|\\verb| |\\verb|3*a(n-2))/(n+1).|\\\\\n",
       "\\verb|1:|\\verb| |\\verb|A099323:|\\verb| |\\verb|Expansion|\\verb| |\\verb|of|\\verb| |\\verb|(sqrt(1+3*x)|\\verb| |\\verb|+|\\verb| |\\verb|sqrt(1-x))/(2*sqrt(1-x)).|\\\\\n",
       "\\verb|2:|\\verb| |\\verb|A174297:|\\verb| |\\verb|First|\\verb| |\\verb|column|\\verb| |\\verb|of|\\verb| |\\verb|A174295.|\n",
       "\\end{array}\\)</html>"
      ],
      "text/latex": [
       "$\\displaystyle \\begin{array}{l}\n",
       "\\verb|0:|\\verb| |\\verb|A005043:|\\verb| |\\verb|Riordan|\\verb| |\\verb|numbers:|\\verb| |\\verb|a(n)|\\verb| |\\verb|=|\\verb| |\\verb|(n-1)*(2*a(n-1)|\\verb| |\\verb|+|\\verb| |\\verb|3*a(n-2))/(n+1).|\\\\\n",
       "\\verb|1:|\\verb| |\\verb|A099323:|\\verb| |\\verb|Expansion|\\verb| |\\verb|of|\\verb| |\\verb|(sqrt(1+3*x)|\\verb| |\\verb|+|\\verb| |\\verb|sqrt(1-x))/(2*sqrt(1-x)).|\\\\\n",
       "\\verb|2:|\\verb| |\\verb|A174297:|\\verb| |\\verb|First|\\verb| |\\verb|column|\\verb| |\\verb|of|\\verb| |\\verb|A174295.|\n",
       "\\end{array}$"
      ],
      "text/plain": [
       "0: A005043: Riordan numbers: a(n) = (n-1)*(2*a(n-1) + 3*a(n-2))/(n+1).\n",
       "1: A099323: Expansion of (sqrt(1+3*x) + sqrt(1-x))/(2*sqrt(1-x)).\n",
       "2: A174297: First column of A174295."
      ]
     },
     "execution_count": 7,
     "metadata": {},
     "output_type": "execute_result"
    }
   ],
   "source": [
    "oeis([seq_c(i) for i in range(20)])"
   ]
  },
  {
   "cell_type": "markdown",
   "id": "1fbb7aa0",
   "metadata": {},
   "source": [
    "We have three possible candidates for our sequence $(c_n)$. Let us check the first (Riordan numbers) using closure properties again:"
   ]
  },
  {
   "cell_type": "code",
   "execution_count": 8,
   "id": "366f9a47",
   "metadata": {},
   "outputs": [
    {
     "name": "stdout",
     "output_type": "stream",
     "text": [
      "We need to check equality up to 5 elements\n"
     ]
    },
    {
     "data": {
      "text/html": [
       "<html>\\(\\displaystyle \\mathrm{True}\\)</html>"
      ],
      "text/latex": [
       "$\\displaystyle \\mathrm{True}$"
      ],
      "text/plain": [
       "True"
      ]
     },
     "execution_count": 8,
     "metadata": {},
     "output_type": "execute_result"
    }
   ],
   "source": [
    "riordan = oeis([seq_c(i) for i in range(20)])[0]\n",
    "equ_riordan = (x+3)*E^2 - (x+1)*2*E - (x+1)*3\n",
    "d = required_init(equ_c.lclm(equ_riordan))\n",
    "print(f\"We need to check equality up to {d} elements\")\n",
    "[seq_c(i) for i in range(d+1)] == list(riordan.first_terms(d+1))"
   ]
  },
  {
   "cell_type": "markdown",
   "id": "3dae5262",
   "metadata": {},
   "source": [
    "Hence, we conclude that the sequence $a_n$ that satisfies the recurrence\n",
    "$$(n+3)a_{n+2} = (6n+10)a_{n+1} - 5(n+1)a_n,$$\n",
    "can be written by:\n",
    "$$a_n = \\sum_{k=0}^n c_k \\binom{n}{k} = \\sum_{k=0}^n \\sum_{l=0}^k R_l \\binom{k}{l} \\binom{n}{k}.$$"
   ]
  },
  {
   "cell_type": "markdown",
   "id": "00b8580f",
   "metadata": {
    "jp-MarkdownHeadingCollapsed": true,
    "tags": []
   },
   "source": [
    "## The example [A000172](https://oeis.org/A000172) (Example 57)\n",
    "\n",
    "This sequence (also known as Franel numbers) starts with the terms $1, 2, 10, 56, 346, 2252,\\ldots$ and satisfies the following recurrence:\n",
    "$$(n + 1)^2a_{n+1} = (7n^2 + 7n + 2)a_n + 8n^2a_{n-1},\\text{ for $n > 1$}$$\n"
   ]
  },
  {
   "cell_type": "code",
   "execution_count": 9,
   "id": "e34481a8",
   "metadata": {},
   "outputs": [
    {
     "data": {
      "text/html": [
       "<html>\\(\\displaystyle \\left(x^{2} + 4 x + 4\\right) E^{2} + \\left(-7 x^{2} - 21 x - 16\\right) E - 8 x^{2} - 16 x - 8\\)</html>"
      ],
      "text/latex": [
       "$\\displaystyle \\left(x^{2} + 4 x + 4\\right) E^{2} + \\left(-7 x^{2} - 21 x - 16\\right) E - 8 x^{2} - 16 x - 8$"
      ],
      "text/plain": [
       "(x^2 + 4*x + 4)*E^2 + (-7*x^2 - 21*x - 16)*E - 8*x^2 - 16*x - 8"
      ]
     },
     "execution_count": 9,
     "metadata": {},
     "output_type": "execute_result"
    }
   ],
   "source": [
    "A000172 = EnhOEISSequence(\"A000172\")\n",
    "L000172 = A000172.dfinite_recurrence()\n",
    "## Removing the offset of the sequence\n",
    "L000172 = L000172.annihilator_of_associate(E**A000172.offsets()[0])\n",
    "A000172_seq = solution(L000172, A000172.first_terms(required_init(L000172)));\n",
    "L000172"
   ]
  },
  {
   "cell_type": "markdown",
   "id": "b5c3d082",
   "metadata": {},
   "source": [
    "First of all, we can check that this sequence $a_n$ satisfies the following formula:\n",
    "$$a_n = \\sum_{k=0}^n \\binom{n}{k}^3,$$\n",
    "by using `ProductBasis` within the package, we can obtain a recurrence for a sequence $b_k$ such that:\n",
    "$$a_n = \\sum_{k=0}^n b_k \\binom{n}{k}^3$$\n",
    "using the following piece of code:"
   ]
  },
  {
   "cell_type": "code",
   "execution_count": 15,
   "id": "2a4b2521",
   "metadata": {},
   "outputs": [
    {
     "data": {
      "text/html": [
       "<html>\\(\\displaystyle \\mathit{Sn} - 1\\)</html>"
      ],
      "text/latex": [
       "$\\displaystyle \\mathit{Sn} - 1$"
      ],
      "text/plain": [
       "Sn - 1"
      ]
     },
     "execution_count": 15,
     "metadata": {},
     "output_type": "execute_result"
    }
   ],
   "source": [
    "B3 = ProductBasis([B,B,B], ends=[\"E\"]); B3\n",
    "M = B3.recurrence(L000172)\n",
    "fM = [B3.remove_Sni(M.coefficient((i,0))) for i in range(3)]\n",
    "new_eq = fM[0].gcrd(*fM[1:])\n",
    "new_eq"
   ]
  },
  {
   "cell_type": "markdown",
   "id": "c304a857",
   "metadata": {},
   "source": [
    "Hence, the desired formula with the cube of the binomial holds."
   ]
  },
  {
   "cell_type": "markdown",
   "id": "8152fcf0",
   "metadata": {},
   "source": [
    "##### Double sum part\n",
    "Let us describe the values of $a_n$ as a double sum of binomials of the form:\n",
    "$$a_n = \\sum_{k=0}^n \\sum_{l=0}^k c_l \\binom{k}{l}\\binom{n}{k}.$$\n",
    "Using the method `recurrence` in the package `pseries_basis` we can get the new equation for $c_k$:"
   ]
  },
  {
   "cell_type": "code",
   "execution_count": 23,
   "id": "e988e7b5",
   "metadata": {
    "scrolled": true
   },
   "outputs": [
    {
     "data": {
      "text/html": [
       "<html>\\(\\displaystyle \\left(x^{2} + 12 x + 36\\right) E^{6} + \\left(3 x^{2} + 29 x + 70\\right) E^{5} + \\left(-23 x^{2} - 236 x - 600\\right) E^{4} + \\left(-135 x^{2} - 1115 x - 2298\\right) E^{3} + \\left(-266 x^{2} - 1738 x - 2820\\right) E^{2} + \\left(-228 x^{2} - 1092 x - 1272\\right) E - 72 x^{2} - 216 x - 144\\)</html>"
      ],
      "text/latex": [
       "$\\displaystyle \\left(x^{2} + 12 x + 36\\right) E^{6} + \\left(3 x^{2} + 29 x + 70\\right) E^{5} + \\left(-23 x^{2} - 236 x - 600\\right) E^{4} + \\left(-135 x^{2} - 1115 x - 2298\\right) E^{3} + \\left(-266 x^{2} - 1738 x - 2820\\right) E^{2} + \\left(-228 x^{2} - 1092 x - 1272\\right) E - 72 x^{2} - 216 x - 144$"
      ],
      "text/plain": [
       "(x^2 + 12*x + 36)*E^6 + (3*x^2 + 29*x + 70)*E^5 + (-23*x^2 - 236*x - 600)*E^4 + (-135*x^2 - 1115*x - 2298)*E^3 + (-266*x^2 - 1738*x - 2820)*E^2 + (-228*x^2 - 1092*x - 1272)*E - 72*x^2 - 216*x - 144"
      ]
     },
     "metadata": {},
     "output_type": "display_data"
    },
    {
     "data": {
      "text/html": [
       "<html>\\(\\displaystyle \\left[1, 0, 6, 12, 90, 360, 2040, 10080, 54810, 290640\\right]\\)</html>"
      ],
      "text/latex": [
       "$\\displaystyle \\left[1, 0, 6, 12, 90, 360, 2040, 10080, 54810, 290640\\right]$"
      ],
      "text/plain": [
       "[1, 0, 6, 12, 90, 360, 2040, 10080, 54810, 290640]"
      ]
     },
     "execution_count": 23,
     "metadata": {},
     "output_type": "execute_result"
    }
   ],
   "source": [
    "equ_d = B.recurrence_orig(L000172)\n",
    "seq_d = solution(equ_d,B.evaluation_to_self(A000172_seq, required_init(equ_d))) \n",
    "equ_c = B.recurrence_orig(equ_d); show(equ_c)\n",
    "seq_c = solution(equ_c,B.evaluation_to_self(seq_d, required_init(equ_c)))\n",
    "seq_c[:10]"
   ]
  },
  {
   "cell_type": "markdown",
   "id": "b7cc68e3",
   "metadata": {},
   "source": [
    "We obtain an order 6 recurrence for this sequence. Can we simplify this recurrence?"
   ]
  },
  {
   "cell_type": "code",
   "execution_count": 21,
   "id": "479d720a",
   "metadata": {
    "scrolled": true
   },
   "outputs": [
    {
     "data": {
      "text/html": [
       "<html>\\(\\displaystyle \\left(-x^{2} - 6 x - 9\\right) E^{3} + \\left(x^{2} + 5 x + 6\\right) E^{2} + \\left(24 x^{2} + 96 x + 96\\right) E + 36 x^{2} + 108 x + 72\\)</html>"
      ],
      "text/latex": [
       "$\\displaystyle \\left(-x^{2} - 6 x - 9\\right) E^{3} + \\left(x^{2} + 5 x + 6\\right) E^{2} + \\left(24 x^{2} + 96 x + 96\\right) E + 36 x^{2} + 108 x + 72$"
      ],
      "text/plain": [
       "(-x^2 - 6*x - 9)*E^3 + (x^2 + 5*x + 6)*E^2 + (24*x^2 + 96*x + 96)*E + 36*x^2 + 108*x + 72"
      ]
     },
     "execution_count": 21,
     "metadata": {},
     "output_type": "execute_result"
    }
   ],
   "source": [
    "guess([seq_c(i) for i in range(50)], OE)"
   ]
  },
  {
   "cell_type": "markdown",
   "id": "4d5cb87f-1ffa-481e-a52b-9b3e71ab2468",
   "metadata": {},
   "source": [
    "And is this sequence back in OEIS?"
   ]
  },
  {
   "cell_type": "code",
   "execution_count": 27,
   "id": "12e597e0-172c-4153-b84f-94539037b6ca",
   "metadata": {},
   "outputs": [
    {
     "data": {
      "text/html": [
       "<html>\\(\\displaystyle \\verb|0:|\\verb| |\\verb|A002898:|\\verb| |\\verb|Number|\\verb| |\\verb|of|\\verb| |\\verb|n-step|\\verb| |\\verb|closed|\\verb| |\\verb|paths|\\verb| |\\verb|on|\\verb| |\\verb|hexagonal|\\verb| |\\verb|lattice.|\\)</html>"
      ],
      "text/latex": [
       "$\\displaystyle \\verb|0:|\\verb| |\\verb|A002898:|\\verb| |\\verb|Number|\\verb| |\\verb|of|\\verb| |\\verb|n-step|\\verb| |\\verb|closed|\\verb| |\\verb|paths|\\verb| |\\verb|on|\\verb| |\\verb|hexagonal|\\verb| |\\verb|lattice.|$"
      ],
      "text/plain": [
       "0: A002898: Number of n-step closed paths on hexagonal lattice."
      ]
     },
     "execution_count": 27,
     "metadata": {},
     "output_type": "execute_result"
    }
   ],
   "source": [
    "oeis(seq_c[:10])"
   ]
  },
  {
   "cell_type": "markdown",
   "id": "11c280c7",
   "metadata": {
    "jp-MarkdownHeadingCollapsed": true,
    "tags": []
   },
   "source": [
    "## The example [A258431](https://oeis.org/A258431) (Example 58)\n",
    "\n",
    "This sequence starts with the terms $0, 1, 5, 23, 102, 443, 1898, 8054,\\ldots$ and counts the **_sum over all peaks of Dyck paths of semilength n of the arithmetic mean of the x and y coordinates_**. It satisfies the following recurrence equation:\n",
    "$$(n-1)a_n = (8n-10)a_{n-1}-(16n-24)a_{n-2}\\text{ for $n > 2$}.$$"
   ]
  },
  {
   "cell_type": "code",
   "execution_count": 30,
   "id": "f316553e",
   "metadata": {},
   "outputs": [],
   "source": [
    "A258431 = EnhOEISSequence(\"A258431\")\n",
    "L258431 = E*((x+1)*E^2 - (8*(x+2)-10)*E + (16*(x+2)-24))\n",
    "A258431_seq = solution(L258431, [0,1,5])"
   ]
  },
  {
   "cell_type": "code",
   "execution_count": 31,
   "id": "03892f91",
   "metadata": {},
   "outputs": [
    {
     "data": {
      "text/html": [
       "<html>\\(\\displaystyle \\left[0, 1, 5, 23, 102, 443, 1898, 8054, 33932, 142163, 592962, 2464226, 10209620, 42190558, 173962532, 715908428, 2941192472, 12065310083, 49428043442, 202249741418\\right]\\)</html>"
      ],
      "text/latex": [
       "$\\displaystyle \\left[0, 1, 5, 23, 102, 443, 1898, 8054, 33932, 142163, 592962, 2464226, 10209620, 42190558, 173962532, 715908428, 2941192472, 12065310083, 49428043442, 202249741418\\right]$"
      ],
      "text/plain": [
       "[0,\n",
       " 1,\n",
       " 5,\n",
       " 23,\n",
       " 102,\n",
       " 443,\n",
       " 1898,\n",
       " 8054,\n",
       " 33932,\n",
       " 142163,\n",
       " 592962,\n",
       " 2464226,\n",
       " 10209620,\n",
       " 42190558,\n",
       " 173962532,\n",
       " 715908428,\n",
       " 2941192472,\n",
       " 12065310083,\n",
       " 49428043442,\n",
       " 202249741418]"
      ]
     },
     "execution_count": 31,
     "metadata": {},
     "output_type": "execute_result"
    }
   ],
   "source": [
    "A258431_seq[:20]"
   ]
  },
  {
   "cell_type": "markdown",
   "id": "f2110a25",
   "metadata": {},
   "source": [
    "##### Double sum part\n",
    "Let us describe the values of $a_n$ as a double sum of binomials of the form:\n",
    "$$a_n = \\sum_{k=0}^n \\sum_{l=0}^k c_l \\binom{k}{l}\\binom{n}{k}.$$\n",
    "Using the method `recurrence` in the package `pseries_basis` we can get the new equation for $c_k$:"
   ]
  },
  {
   "cell_type": "code",
   "execution_count": 45,
   "id": "555cb8e7",
   "metadata": {
    "scrolled": true
   },
   "outputs": [
    {
     "data": {
      "text/html": [
       "<html>\\(\\displaystyle \\left(x + 4\\right) E^{5} + \\left(x + 1\\right) E^{4} + \\left(-8 x - 26\\right) E^{3} + \\left(-8 x - 8\\right) E^{2} + \\left(16 x + 40\\right) E + 16 x + 16\\)</html>"
      ],
      "text/latex": [
       "$\\displaystyle \\left(x + 4\\right) E^{5} + \\left(x + 1\\right) E^{4} + \\left(-8 x - 26\\right) E^{3} + \\left(-8 x - 8\\right) E^{2} + \\left(16 x + 40\\right) E + 16 x + 16$"
      ],
      "text/plain": [
       "(x + 4)*E^5 + (x + 1)*E^4 + (-8*x - 26)*E^3 + (-8*x - 8)*E^2 + (16*x + 40)*E + 16*x + 16"
      ]
     },
     "metadata": {},
     "output_type": "display_data"
    },
    {
     "data": {
      "text/html": [
       "<html>\\(\\displaystyle \\left[0, 1, 1, 5, 6, 23, 30, 102, 140, 443\\right]\\)</html>"
      ],
      "text/latex": [
       "$\\displaystyle \\left[0, 1, 1, 5, 6, 23, 30, 102, 140, 443\\right]$"
      ],
      "text/plain": [
       "[0, 1, 1, 5, 6, 23, 30, 102, 140, 443]"
      ]
     },
     "execution_count": 45,
     "metadata": {},
     "output_type": "execute_result"
    }
   ],
   "source": [
    "equ_d = B.recurrence_orig(L258431)\n",
    "seq_d = solution(equ_d,B.evaluation_to_self(A258431_seq, required_init(equ_d))) \n",
    "equ_c = B.recurrence_orig(equ_d); show(equ_c)\n",
    "seq_c = solution(equ_c,B.evaluation_to_self(seq_d, required_init(equ_c)))\n",
    "seq_c[:10]"
   ]
  },
  {
   "cell_type": "markdown",
   "id": "3dd3ba94-d527-44ed-8522-ae10c8d0bb39",
   "metadata": {},
   "source": [
    "We obtain an order 5 recurrence for this sequence. Can we simplify this recurrence?"
   ]
  },
  {
   "cell_type": "code",
   "execution_count": 46,
   "id": "87fd91c8-0e3a-4888-a83a-09089bd5d22d",
   "metadata": {},
   "outputs": [
    {
     "data": {
      "text/html": [
       "<html>\\(\\displaystyle \\left(-x - 3\\right) E^{4} + 2 E^{3} + \\left(8 x + 16\\right) E^{2} - 8 E - 16 x - 16\\)</html>"
      ],
      "text/latex": [
       "$\\displaystyle \\left(-x - 3\\right) E^{4} + 2 E^{3} + \\left(8 x + 16\\right) E^{2} - 8 E - 16 x - 16$"
      ],
      "text/plain": [
       "(-x - 3)*E^4 + 2*E^3 + (8*x + 16)*E^2 - 8*E - 16*x - 16"
      ]
     },
     "execution_count": 46,
     "metadata": {},
     "output_type": "execute_result"
    }
   ],
   "source": [
    "guess([seq_c(i) for i in range(50)], OE)"
   ]
  },
  {
   "cell_type": "markdown",
   "id": "8598402d",
   "metadata": {},
   "source": [
    "And is this sequence back in OEIS?"
   ]
  },
  {
   "cell_type": "code",
   "execution_count": 47,
   "id": "0b0460b5",
   "metadata": {
    "scrolled": true
   },
   "outputs": [
    {
     "data": {
      "text/html": [
       "<html>\\(\\displaystyle 0\\)</html>"
      ],
      "text/latex": [
       "$\\displaystyle 0$"
      ],
      "text/plain": [
       "0"
      ]
     },
     "execution_count": 47,
     "metadata": {},
     "output_type": "execute_result"
    }
   ],
   "source": [
    "len(oeis([seq_c(i) for i in range(1,10)]))"
   ]
  },
  {
   "cell_type": "markdown",
   "id": "09a7f353",
   "metadata": {},
   "source": [
    "This is not very nice. However, something strange happens: the original sequence appears as a subsequence of $c_k$:"
   ]
  },
  {
   "cell_type": "code",
   "execution_count": 38,
   "id": "fc17adba",
   "metadata": {},
   "outputs": [
    {
     "data": {
      "text/html": [
       "<html>\\(\\displaystyle \\mathrm{True}\\)</html>"
      ],
      "text/latex": [
       "$\\displaystyle \\mathrm{True}$"
      ],
      "text/plain": [
       "True"
      ]
     },
     "execution_count": 38,
     "metadata": {},
     "output_type": "execute_result"
    }
   ],
   "source": [
    "[seq_c(2*i-1) for i in range(10)] == [A258431(i) for i in range(10)]"
   ]
  },
  {
   "cell_type": "markdown",
   "id": "1c72daae",
   "metadata": {},
   "source": [
    "Which shows that, for the solution to \n",
    "$$(n-1)a_n = (8n-10)a_{n-1}-(16n-24)a_{n-2}\\text{ for $n > 2$}, a(0) = 0, a(1) = 1, a(2) = 5;$$\n",
    "if we write this sequence with\n",
    "$$a_n = \\sum_{k=0}^n \\sum_{l=0}^k c_l \\binom{k}{l}\\binom{n}{k},$$\n",
    "then we conclude that:\n",
    "$$c_{2n-1} = a_n\\text{ for all $n \\in \\mathbb{N}$}.$$\n",
    "This final identity can be proven by closure properties of D-finite sequences."
   ]
  },
  {
   "cell_type": "markdown",
   "id": "fb706e0e",
   "metadata": {
    "jp-MarkdownHeadingCollapsed": true,
    "tags": []
   },
   "source": [
    "## The example [A032443](https://oeis.org/A032443) (Example 59)\n",
    "\n",
    "This sequence starts with the terms $1, 3, 11, 42, 163, 638, 2510, 9908,\\ldots$ and has the following formula:\n",
    "$$a_n = \\sum_{i=0}^n \\binom{2n}{i},$$\n",
    "satisfying the following recurrence:\n",
    "$$na_n + 2(-4n+3)a_{n-1} + 8(2n-3)a_{n-2} = 0$$"
   ]
  },
  {
   "cell_type": "code",
   "execution_count": 44,
   "id": "5eb7def6",
   "metadata": {},
   "outputs": [
    {
     "data": {
      "text/html": [
       "<html>\\(\\displaystyle \\left(x + 2\\right) E^{2} + \\left(-8 x - 10\\right) E + 16 x + 8\\)</html>"
      ],
      "text/latex": [
       "$\\displaystyle \\left(x + 2\\right) E^{2} + \\left(-8 x - 10\\right) E + 16 x + 8$"
      ],
      "text/plain": [
       "(x + 2)*E^2 + (-8*x - 10)*E + 16*x + 8"
      ]
     },
     "metadata": {},
     "output_type": "display_data"
    }
   ],
   "source": [
    "A032443 = EnhOEISSequence(\"A032443\")\n",
    "L032443 = A032443.dfinite_recurrence(); show(L032443)\n",
    "A032443_seq = A032443.sequence"
   ]
  },
  {
   "cell_type": "markdown",
   "id": "842ea445",
   "metadata": {},
   "source": [
    "##### Double sum part\n",
    "Let us describe the values of $a_n$ as a double sum of binomials of the form:\n",
    "$$a_n = \\sum_{k=0}^n \\sum_{l=0}^k c_l \\binom{k}{l}\\binom{n}{k}.$$\n",
    "Using the method `recurrence_orig` in the package `pseries_basis` we can get the new equation for $c_k$:"
   ]
  },
  {
   "cell_type": "code",
   "execution_count": 48,
   "id": "73b7a0d9",
   "metadata": {
    "scrolled": true
   },
   "outputs": [
    {
     "data": {
      "text/html": [
       "<html>\\(\\displaystyle \\left(x + 4\\right) E^{4} + \\left(-x - 3\\right) E^{3} + \\left(-6 x - 16\\right) E^{2} + \\left(4 x + 8\\right) E + 8 x + 8\\)</html>"
      ],
      "text/latex": [
       "$\\displaystyle \\left(x + 4\\right) E^{4} + \\left(-x - 3\\right) E^{3} + \\left(-6 x - 16\\right) E^{2} + \\left(4 x + 8\\right) E + 8 x + 8$"
      ],
      "text/plain": [
       "(x + 4)*E^4 + (-x - 3)*E^3 + (-6*x - 16)*E^2 + (4*x + 8)*E + 8*x + 8"
      ]
     },
     "metadata": {},
     "output_type": "display_data"
    },
    {
     "data": {
      "text/html": [
       "<html>\\(\\displaystyle \\left[1, 1, 3, 4, 11, 16, 42, 64, 163, 256\\right]\\)</html>"
      ],
      "text/latex": [
       "$\\displaystyle \\left[1, 1, 3, 4, 11, 16, 42, 64, 163, 256\\right]$"
      ],
      "text/plain": [
       "[1, 1, 3, 4, 11, 16, 42, 64, 163, 256]"
      ]
     },
     "execution_count": 48,
     "metadata": {},
     "output_type": "execute_result"
    }
   ],
   "source": [
    "equ_d = B.recurrence_orig(L032443)\n",
    "seq_d = solution(equ_d,B.evaluation_to_self(A032443_seq, required_init(equ_d))) \n",
    "equ_c = B.recurrence_orig(equ_d); show(equ_c)\n",
    "seq_c = solution(equ_c,B.evaluation_to_self(seq_d, required_init(equ_c)))\n",
    "seq_c[:10]"
   ]
  },
  {
   "cell_type": "markdown",
   "id": "f3d28f0c",
   "metadata": {},
   "source": [
    "We can try to see if this new sequence appear in OEIS. In fact, id does and it provides a formula:"
   ]
  },
  {
   "cell_type": "code",
   "execution_count": 49,
   "id": "5c1325ab",
   "metadata": {
    "scrolled": true
   },
   "outputs": [
    {
     "data": {
      "text/html": [
       "<html>\\(\\displaystyle \\verb|0:|\\verb| |\\verb|A027306:|\\verb| |\\verb|a(n)|\\verb| |\\verb|=|\\verb| |\\verb|2^(n-1)|\\verb| |\\verb|+|\\verb| |\\verb|((1|\\verb| |\\verb|+|\\verb| |\\verb|(-1)^n)/4)*binomial(n,|\\verb| |\\verb|n/2).|\\)</html>"
      ],
      "text/latex": [
       "$\\displaystyle \\verb|0:|\\verb| |\\verb|A027306:|\\verb| |\\verb|a(n)|\\verb| |\\verb|=|\\verb| |\\verb|2^(n-1)|\\verb| |\\verb|+|\\verb| |\\verb|((1|\\verb| |\\verb|+|\\verb| |\\verb|(-1)^n)/4)*binomial(n,|\\verb| |\\verb|n/2).|$"
      ],
      "text/plain": [
       "0: A027306: a(n) = 2^(n-1) + ((1 + (-1)^n)/4)*binomial(n, n/2)."
      ]
     },
     "execution_count": 49,
     "metadata": {},
     "output_type": "execute_result"
    }
   ],
   "source": [
    "oeis([seq_c(i) for i in range(20)])"
   ]
  },
  {
   "cell_type": "markdown",
   "id": "0ad1a269",
   "metadata": {},
   "source": [
    "Hence we can conclude that the following identity holds:\n",
    "$$\\sum_{k=0}^n \\binom{2n}{k} = \\sum_{k=0}^n \\sum_{l=0}^k\\left[ \\left(2^{l-1} + \\frac{1 + (-1)^l}{4}\\binom{l}{l/2}\\right) \\binom{k}{l}\\binom{n}{k}\\right]$$"
   ]
  },
  {
   "cell_type": "code",
   "execution_count": 50,
   "id": "28f80c84",
   "metadata": {},
   "outputs": [
    {
     "data": {
      "text/html": [
       "<html>\\(\\displaystyle \\mathrm{True}\\)</html>"
      ],
      "text/latex": [
       "$\\displaystyle \\mathrm{True}$"
      ],
      "text/plain": [
       "True"
      ]
     },
     "execution_count": 50,
     "metadata": {},
     "output_type": "execute_result"
    }
   ],
   "source": [
    "## Checking identity for i = 0,...,30\n",
    "lhs = lambda n : sum(binomial(2*n, k) for k in range(n+1))\n",
    "rhs = lambda n : sum(sum((2**(l-1) + (1/2*binomial(l,l/2) if l%2 == 0 else 0)) * binomial(k,l) * binomial(n,k) for l in range(k+1)) for k in range(n+1))\n",
    "all(lhs(i) == rhs(i) for i in range(30))"
   ]
  },
  {
   "cell_type": "markdown",
   "id": "f87b0a75",
   "metadata": {
    "jp-MarkdownHeadingCollapsed": true,
    "tags": []
   },
   "source": [
    "## Example from a Convolution\n",
    "\n",
    "We know that the convolution of $n!$ and $1/n!$ is not Liouvillian and satisfies the following recurrence:\n",
    "$$(n+3)y_{n+3} - (n^2 + 6n + 10)y_{n+2} + (2n + 5)y_{n+1} - y_n  = 0.$$\n",
    "\n",
    "Let us see what happen if we apply the binomial basis to this recurrence:"
   ]
  },
  {
   "cell_type": "code",
   "execution_count": 73,
   "id": "0437f55c",
   "metadata": {},
   "outputs": [
    {
     "data": {
      "text/html": [
       "<html>\\(\\displaystyle \\left[1, 2, \\frac{7}{2}, \\frac{26}{3}, \\frac{749}{24}, \\frac{8843}{60}, \\frac{614227}{720}, \\frac{3669289}{630}, \\frac{1844279257}{40320}, \\frac{10519507811}{25920}\\right]\\)</html>"
      ],
      "text/latex": [
       "$\\displaystyle \\left[1, 2, \\frac{7}{2}, \\frac{26}{3}, \\frac{749}{24}, \\frac{8843}{60}, \\frac{614227}{720}, \\frac{3669289}{630}, \\frac{1844279257}{40320}, \\frac{10519507811}{25920}\\right]$"
      ],
      "text/plain": [
       "[1,\n",
       " 2,\n",
       " 7/2,\n",
       " 26/3,\n",
       " 749/24,\n",
       " 8843/60,\n",
       " 614227/720,\n",
       " 3669289/630,\n",
       " 1844279257/40320,\n",
       " 10519507811/25920]"
      ]
     },
     "execution_count": 73,
     "metadata": {},
     "output_type": "execute_result"
    }
   ],
   "source": [
    "L_con_facN_ifacN = (x+3)*E^3 - (x^2 + 6*x +10)*E^2 + (2*x+5)*E - 1\n",
    "con_facN_ifacN = solution(L_con_facN_ifacN, [sum(QQ(factorial(k)/factorial(n-k)) for k in range(n+1)) for n in range(4)])\n",
    "con_facN_ifacN[:10]"
   ]
  },
  {
   "cell_type": "markdown",
   "id": "2139a777-0d60-4450-adf4-81444be0ed9b",
   "metadata": {},
   "source": [
    "We check this sequence is, exactly, the desired convolution:"
   ]
  },
  {
   "cell_type": "code",
   "execution_count": 101,
   "id": "8b03eb82-e6e7-443d-b259-158551d80564",
   "metadata": {},
   "outputs": [
    {
     "data": {
      "text/html": [
       "<html>\\(\\displaystyle \\mathrm{True}\\)</html>"
      ],
      "text/latex": [
       "$\\displaystyle \\mathrm{True}$"
      ],
      "text/plain": [
       "True"
      ]
     },
     "execution_count": 101,
     "metadata": {},
     "output_type": "execute_result"
    }
   ],
   "source": [
    "real_con_facN_ifacN = LambdaSequence(lambda n : sum(QQ(factorial(k)/factorial(n-k)) for k in range(n+1)), QQ)\n",
    "(real_con_facN_ifacN + (-con_facN_ifacN)).almost_zero(15)"
   ]
  },
  {
   "cell_type": "markdown",
   "id": "5906bf81-a14f-4a69-b6cc-6a5758fa3872",
   "metadata": {},
   "source": [
    "##### Double sum part\n",
    "Let us describe the values of $y_n$ as a double sum of binomials of the form:\n",
    "$$y_n = \\sum_{k=0}^n \\sum_{l=0}^k c_l \\binom{k}{l}\\binom{n}{k}.$$\n",
    "Using the method `recurrence_orig` in the package `pseries_basis` we can get the new equation for $c_k$:"
   ]
  },
  {
   "cell_type": "code",
   "execution_count": 102,
   "id": "a506999e",
   "metadata": {},
   "outputs": [
    {
     "data": {
      "text/html": [
       "<html>\\(\\displaystyle \\left(x + 7\\right) E^{7} + \\left(-x^{2} - 4 x + 12\\right) E^{6} + \\left(-10 x^{2} - 79 x - 144\\right) E^{5} + \\left(-41 x^{2} - 326 x - 653\\right) E^{4} + \\left(-88 x^{2} - 624 x - 1125\\right) E^{3} + \\left(-104 x^{2} - 612 x - 911\\right) E^{2} + \\left(-64 x^{2} - 288 x - 320\\right) E - 16 x^{2} - 48 x - 32\\)</html>"
      ],
      "text/latex": [
       "$\\displaystyle \\left(x + 7\\right) E^{7} + \\left(-x^{2} - 4 x + 12\\right) E^{6} + \\left(-10 x^{2} - 79 x - 144\\right) E^{5} + \\left(-41 x^{2} - 326 x - 653\\right) E^{4} + \\left(-88 x^{2} - 624 x - 1125\\right) E^{3} + \\left(-104 x^{2} - 612 x - 911\\right) E^{2} + \\left(-64 x^{2} - 288 x - 320\\right) E - 16 x^{2} - 48 x - 32$"
      ],
      "text/plain": [
       "(x + 7)*E^7 + (-x^2 - 4*x + 12)*E^6 + (-10*x^2 - 79*x - 144)*E^5 + (-41*x^2 - 326*x - 653)*E^4 + (-88*x^2 - 624*x - 1125)*E^3 + (-104*x^2 - 612*x - 911)*E^2 + (-64*x^2 - 288*x - 320)*E - 16*x^2 - 48*x - 32"
      ]
     },
     "metadata": {},
     "output_type": "display_data"
    },
    {
     "data": {
      "text/html": [
       "<html>\\(\\displaystyle \\left[1, 0, -\\frac{1}{2}, \\frac{11}{3}, -\\frac{17}{8}, \\frac{899}{30}, \\frac{13007}{144}, \\frac{665419}{840}, \\frac{34410911}{5760}, \\frac{2439240803}{45360}\\right]\\)</html>"
      ],
      "text/latex": [
       "$\\displaystyle \\left[1, 0, -\\frac{1}{2}, \\frac{11}{3}, -\\frac{17}{8}, \\frac{899}{30}, \\frac{13007}{144}, \\frac{665419}{840}, \\frac{34410911}{5760}, \\frac{2439240803}{45360}\\right]$"
      ],
      "text/plain": [
       "[1,\n",
       " 0,\n",
       " -1/2,\n",
       " 11/3,\n",
       " -17/8,\n",
       " 899/30,\n",
       " 13007/144,\n",
       " 665419/840,\n",
       " 34410911/5760,\n",
       " 2439240803/45360]"
      ]
     },
     "execution_count": 102,
     "metadata": {},
     "output_type": "execute_result"
    }
   ],
   "source": [
    "equ_d = B.recurrence_orig(L_con_facN_ifacN)\n",
    "seq_d = solution(equ_d,B.evaluation_to_self(con_facN_ifacN, required_init(equ_d))) \n",
    "equ_c = B.recurrence_orig(equ_d); show(equ_c)\n",
    "seq_c = solution(equ_c,B.evaluation_to_self(seq_d, required_init(equ_c)))\n",
    "seq_c[:10]"
   ]
  },
  {
   "cell_type": "markdown",
   "id": "78124eba-c322-4b45-91d5-9c1f755d0c59",
   "metadata": {},
   "source": [
    "We obtain an order 7 recurrence for this sequence. Can we simplify this recurrence?"
   ]
  },
  {
   "cell_type": "code",
   "execution_count": 103,
   "id": "d931eac6-1d62-43e0-9c29-98167f23e91e",
   "metadata": {},
   "outputs": [
    {
     "data": {
      "text/html": [
       "<html>\\(\\displaystyle \\left(x + 5\\right) E^{5} + \\left(-x^{2} - 2 x + 8\\right) E^{4} + \\left(-8 x^{2} - 40 x - 47\\right) E^{3} + \\left(-24 x^{2} - 116 x - 143\\right) E^{2} + \\left(-32 x^{2} - 128 x - 128\\right) E - 16 x^{2} - 48 x - 32\\)</html>"
      ],
      "text/latex": [
       "$\\displaystyle \\left(x + 5\\right) E^{5} + \\left(-x^{2} - 2 x + 8\\right) E^{4} + \\left(-8 x^{2} - 40 x - 47\\right) E^{3} + \\left(-24 x^{2} - 116 x - 143\\right) E^{2} + \\left(-32 x^{2} - 128 x - 128\\right) E - 16 x^{2} - 48 x - 32$"
      ],
      "text/plain": [
       "(x + 5)*E^5 + (-x^2 - 2*x + 8)*E^4 + (-8*x^2 - 40*x - 47)*E^3 + (-24*x^2 - 116*x - 143)*E^2 + (-32*x^2 - 128*x - 128)*E - 16*x^2 - 48*x - 32"
      ]
     },
     "execution_count": 103,
     "metadata": {},
     "output_type": "execute_result"
    }
   ],
   "source": [
    "guess([seq_c(i) for i in range(50)], OE)"
   ]
  },
  {
   "cell_type": "markdown",
   "id": "528bf5b8",
   "metadata": {
    "jp-MarkdownHeadingCollapsed": true,
    "tags": []
   },
   "source": [
    "## The example [A001472](https://oeis.org/A001472)\n",
    "\n",
    "This sequence starts with the terms $1, 1, 2, 4, 16, 56, 256, 1072, 6224, 33616, 218656,\\ldots$ and counts the number of degree-$n$ permutations of order dividing 4. It satisfies a recurrence: \n",
    "$$a(0)=1, a(1)=1, a(2)=2, a(3)=4,$$\n",
    "$$a(n) = a(n-1) + (n-1)a(n-2) + (n^3-6n^2+11n-6)a(n-4)$$"
   ]
  },
  {
   "cell_type": "code",
   "execution_count": 113,
   "id": "f7299abb-e41e-44b9-a866-e9953993746d",
   "metadata": {},
   "outputs": [
    {
     "data": {
      "text/html": [
       "<html>\\(\\displaystyle E^{4} - E^{3} + \\left(-x - 3\\right) E^{2} - x^{3} - 6 x^{2} - 11 x - 6\\)</html>"
      ],
      "text/latex": [
       "$\\displaystyle E^{4} - E^{3} + \\left(-x - 3\\right) E^{2} - x^{3} - 6 x^{2} - 11 x - 6$"
      ],
      "text/plain": [
       "E^4 - E^3 + (-x - 3)*E^2 - x^3 - 6*x^2 - 11*x - 6"
      ]
     },
     "metadata": {},
     "output_type": "display_data"
    },
    {
     "data": {
      "text/html": [
       "<html>\\(\\displaystyle \\mathrm{True}\\)</html>"
      ],
      "text/latex": [
       "$\\displaystyle \\mathrm{True}$"
      ],
      "text/plain": [
       "True"
      ]
     },
     "execution_count": 113,
     "metadata": {},
     "output_type": "execute_result"
    }
   ],
   "source": [
    "A001472 = EnhOEISSequence(\"A001472\")\n",
    "L001472 = E^4 - E^3 - (x+3)*E^2 - ((x+4)^3 - 6*(x+4)^2 + 11*(x+4) - 6) ; show(L001472)\n",
    "A001472_seq = solution(L001472, A001472.first_terms(required_init(L001472)))\n",
    "(A001472_seq + (-A001472.sequence)).almost_zero(20)"
   ]
  },
  {
   "cell_type": "code",
   "execution_count": 114,
   "id": "f5d7c41f",
   "metadata": {},
   "outputs": [
    {
     "data": {
      "text/html": [
       "<html>\\(\\displaystyle \\left[1, 1, 2, 4, 16, 56, 256, 1072, 6224, 33616, 218656, 1326656, 9893632, 70186624, 574017536, 4454046976, 40073925376, 347165733632, 3370414011904, 31426411211776\\right]\\)</html>"
      ],
      "text/latex": [
       "$\\displaystyle \\left[1, 1, 2, 4, 16, 56, 256, 1072, 6224, 33616, 218656, 1326656, 9893632, 70186624, 574017536, 4454046976, 40073925376, 347165733632, 3370414011904, 31426411211776\\right]$"
      ],
      "text/plain": [
       "[1,\n",
       " 1,\n",
       " 2,\n",
       " 4,\n",
       " 16,\n",
       " 56,\n",
       " 256,\n",
       " 1072,\n",
       " 6224,\n",
       " 33616,\n",
       " 218656,\n",
       " 1326656,\n",
       " 9893632,\n",
       " 70186624,\n",
       " 574017536,\n",
       " 4454046976,\n",
       " 40073925376,\n",
       " 347165733632,\n",
       " 3370414011904,\n",
       " 31426411211776]"
      ]
     },
     "execution_count": 114,
     "metadata": {},
     "output_type": "execute_result"
    }
   ],
   "source": [
    "A001472_seq[:20]"
   ]
  },
  {
   "cell_type": "markdown",
   "id": "fd8f6787",
   "metadata": {},
   "source": [
    "This sequence has a formula given as follows:\n",
    "\n",
    "$$a(n) = n!\\sum_{k=1}^n \\frac{1}{k!}\\left(\\sum_{j=\\lfloor(4*k-n)/3\\rfloor}^k\\binom{k}{j} \\binom{j}{n-4k+3j}(1/2)^{n-4k+3j}(1/4)^{k-j}\\right)$$\n",
    "\n",
    "We now build the sequence that has $a_n$ as the inner summand of a doulbe binomial sum:"
   ]
  },
  {
   "cell_type": "code",
   "execution_count": 115,
   "id": "01eda6fd",
   "metadata": {},
   "outputs": [],
   "source": [
    "new_sequence = LambdaSequence(lambda n : sum(sum(A001472_seq[l]*B[l](k)*B[k](n) for l in range(k+1)) for k in range(n+1)), ZZ)\n",
    "guessed_recurrence = guess(new_sequence[:100], OE)"
   ]
  },
  {
   "cell_type": "code",
   "execution_count": 117,
   "id": "dcaee34f-1154-458d-9669-25829e3f9267",
   "metadata": {},
   "outputs": [
    {
     "data": {
      "text/html": [
       "<html>\\(\\displaystyle -E^{4} + 3 E^{3} + \\left(x + 3\\right) E^{2} + x^{3} + 6 x^{2} + 11 x + 6\\)</html>"
      ],
      "text/latex": [
       "$\\displaystyle -E^{4} + 3 E^{3} + \\left(x + 3\\right) E^{2} + x^{3} + 6 x^{2} + 11 x + 6$"
      ],
      "text/plain": [
       "-E^4 + 3*E^3 + (x + 3)*E^2 + x^3 + 6*x^2 + 11*x + 6"
      ]
     },
     "metadata": {},
     "output_type": "display_data"
    },
    {
     "data": {
      "text/html": [
       "<html>\\(\\displaystyle \\left[1, 3, 10, 36, 144, 648, 3264, 18000, 107088, 682992\\right]\\)</html>"
      ],
      "text/latex": [
       "$\\displaystyle \\left[1, 3, 10, 36, 144, 648, 3264, 18000, 107088, 682992\\right]$"
      ],
      "text/plain": [
       "[1, 3, 10, 36, 144, 648, 3264, 18000, 107088, 682992]"
      ]
     },
     "execution_count": 117,
     "metadata": {},
     "output_type": "execute_result"
    }
   ],
   "source": [
    "show(guessed_recurrence)\n",
    "new_sequence[:10]"
   ]
  },
  {
   "cell_type": "markdown",
   "id": "8a15f506",
   "metadata": {
    "tags": []
   },
   "source": [
    "#### Writing the example\n",
    "\n",
    "Consider the sequence $(1,3,10,36,144,648,3264,18000,107088,682992,\\ldots)$ defined as solution to the recurrence equation:\n",
    "$$y_{n+4} - 3 y_{n+3} + \\left(-n - 3\\right) y_{n+2} - (n^{3} + 6 n^{2} + 11 n + 6)y_n = 0$$\n",
    "\n",
    "This sequence does not show up in OEIS, but if we write it in the following form:\n",
    "$$y_n = \\sum_{k=0}^n c_k \\binom{n}{k},$$\n",
    "then the sequence $(c_n)_n$ also satisfies a recurrence equation given by:"
   ]
  },
  {
   "cell_type": "code",
   "execution_count": 120,
   "id": "728377e3",
   "metadata": {},
   "outputs": [
    {
     "data": {
      "text/html": [
       "<html>\\(\\displaystyle E^{7} + E^{6} + \\left(-x - 9\\right) E^{5} + \\left(-3 x - 20\\right) E^{4} + \\left(-x^{3} - 15 x^{2} - 77 x - 134\\right) E^{3} + \\left(-3 x^{3} - 36 x^{2} - 142 x - 183\\right) E^{2} + \\left(-3 x^{3} - 27 x^{2} - 78 x - 72\\right) E - x^{3} - 6 x^{2} - 11 x - 6\\)</html>"
      ],
      "text/latex": [
       "$\\displaystyle E^{7} + E^{6} + \\left(-x - 9\\right) E^{5} + \\left(-3 x - 20\\right) E^{4} + \\left(-x^{3} - 15 x^{2} - 77 x - 134\\right) E^{3} + \\left(-3 x^{3} - 36 x^{2} - 142 x - 183\\right) E^{2} + \\left(-3 x^{3} - 27 x^{2} - 78 x - 72\\right) E - x^{3} - 6 x^{2} - 11 x - 6$"
      ],
      "text/plain": [
       "E^7 + E^6 + (-x - 9)*E^5 + (-3*x - 20)*E^4 + (-x^3 - 15*x^2 - 77*x - 134)*E^3 + (-3*x^3 - 36*x^2 - 142*x - 183)*E^2 + (-3*x^3 - 27*x^2 - 78*x - 72)*E - x^3 - 6*x^2 - 11*x - 6"
      ]
     },
     "metadata": {},
     "output_type": "display_data"
    },
    {
     "data": {
      "text/html": [
       "<html>\\(\\displaystyle \\left[1, 2, 5, 14, 49, 202, 949, 4790, 26513, 159218\\right]\\)</html>"
      ],
      "text/latex": [
       "$\\displaystyle \\left[1, 2, 5, 14, 49, 202, 949, 4790, 26513, 159218\\right]$"
      ],
      "text/plain": [
       "[1, 2, 5, 14, 49, 202, 949, 4790, 26513, 159218]"
      ]
     },
     "execution_count": 120,
     "metadata": {},
     "output_type": "execute_result"
    }
   ],
   "source": [
    "equ_y = -guessed_recurrence\n",
    "seq_y = solution(equ_y, [1,3,10,36, 144])\n",
    "equ_c = B.recurrence_orig(equ_y); show(equ_c)\n",
    "seq_c = solution(equ_c,B.evaluation_to_self(seq_y, required_init(equ_c))) \n",
    "seq_c[:10]"
   ]
  },
  {
   "cell_type": "markdown",
   "id": "8a009fc9",
   "metadata": {},
   "source": [
    "This sequence does not appear in OEIS still. The order has gotten bigger and we still have no information. We can try to apply the transformation once again:\n",
    "$$c_n = \\sum_{k=0}^nd_k\\binom{n}{k}.$$ \n",
    "This sequence $(d_n)_n$ is also D-finite. Let see the recurrence and solution:"
   ]
  },
  {
   "cell_type": "code",
   "execution_count": 121,
   "id": "e67d8af0",
   "metadata": {},
   "outputs": [
    {
     "data": {
      "text/html": [
       "<html>\\(\\displaystyle E^{7} + E^{6} + \\left(-x - 9\\right) E^{5} + \\left(-3 x - 20\\right) E^{4} + \\left(-x^{3} - 15 x^{2} - 77 x - 134\\right) E^{3} + \\left(-3 x^{3} - 36 x^{2} - 142 x - 183\\right) E^{2} + \\left(-3 x^{3} - 27 x^{2} - 78 x - 72\\right) E - x^{3} - 6 x^{2} - 11 x - 6\\)</html>"
      ],
      "text/latex": [
       "$\\displaystyle E^{7} + E^{6} + \\left(-x - 9\\right) E^{5} + \\left(-3 x - 20\\right) E^{4} + \\left(-x^{3} - 15 x^{2} - 77 x - 134\\right) E^{3} + \\left(-3 x^{3} - 36 x^{2} - 142 x - 183\\right) E^{2} + \\left(-3 x^{3} - 27 x^{2} - 78 x - 72\\right) E - x^{3} - 6 x^{2} - 11 x - 6$"
      ],
      "text/plain": [
       "E^7 + E^6 + (-x - 9)*E^5 + (-3*x - 20)*E^4 + (-x^3 - 15*x^2 - 77*x - 134)*E^3 + (-3*x^3 - 36*x^2 - 142*x - 183)*E^2 + (-3*x^3 - 27*x^2 - 78*x - 72)*E - x^3 - 6*x^2 - 11*x - 6"
      ]
     },
     "metadata": {},
     "output_type": "display_data"
    },
    {
     "data": {
      "text/html": [
       "<html>\\(\\displaystyle \\left[1, 1, 2, 4, 16, 56, 256, 1072, 6224, 33616\\right]\\)</html>"
      ],
      "text/latex": [
       "$\\displaystyle \\left[1, 1, 2, 4, 16, 56, 256, 1072, 6224, 33616\\right]$"
      ],
      "text/plain": [
       "[1, 1, 2, 4, 16, 56, 256, 1072, 6224, 33616]"
      ]
     },
     "execution_count": 121,
     "metadata": {},
     "output_type": "execute_result"
    }
   ],
   "source": [
    "equ_d = B.recurrence_orig(equ_c); show(equ_c)\n",
    "seq_d = solution(equ_d,B.evaluation_to_self(seq_c, required_init(equ_d))) \n",
    "seq_d[:10]"
   ]
  },
  {
   "cell_type": "markdown",
   "id": "59619a48",
   "metadata": {},
   "source": [
    "This sequence does appear in OEIS as the sequence [A001472](https://oeis.org/A001472). Sequence A001472 is D-finite with recurrence\n",
    "$$a(n) = a(n-1) + (n-1)a(n-2) + (n^3-6n^2+11n-6)a(n-4).$$\n",
    "Using closure properties, we can check if these two sequences are the same:"
   ]
  },
  {
   "cell_type": "code",
   "execution_count": 126,
   "id": "fe9c63c5",
   "metadata": {},
   "outputs": [
    {
     "data": {
      "text/html": [
       "<html>\\(\\displaystyle E^{10} + 8 E^{9} + \\left(-x + 15\\right) E^{8} + \\left(-9 x - 42\\right) E^{7} + \\left(-x^{3} - 24 x^{2} - 224 x - 732\\right) E^{6} + \\left(-9 x^{3} - 189 x^{2} - 1377 x - 3432\\right) E^{5} + \\left(-33 x^{3} - 594 x^{2} - 3597 x - 7288\\right) E^{4} + \\left(-63 x^{3} - 945 x^{2} - 4698 x - 7712\\right) E^{3} + \\left(-66 x^{3} - 792 x^{2} - 3110 x - 3984\\right) E^{2} + \\left(-36 x^{3} - 324 x^{2} - 936 x - 864\\right) E - 8 x^{3} - 48 x^{2} - 88 x - 48\\)</html>"
      ],
      "text/latex": [
       "$\\displaystyle E^{10} + 8 E^{9} + \\left(-x + 15\\right) E^{8} + \\left(-9 x - 42\\right) E^{7} + \\left(-x^{3} - 24 x^{2} - 224 x - 732\\right) E^{6} + \\left(-9 x^{3} - 189 x^{2} - 1377 x - 3432\\right) E^{5} + \\left(-33 x^{3} - 594 x^{2} - 3597 x - 7288\\right) E^{4} + \\left(-63 x^{3} - 945 x^{2} - 4698 x - 7712\\right) E^{3} + \\left(-66 x^{3} - 792 x^{2} - 3110 x - 3984\\right) E^{2} + \\left(-36 x^{3} - 324 x^{2} - 936 x - 864\\right) E - 8 x^{3} - 48 x^{2} - 88 x - 48$"
      ],
      "text/plain": [
       "E^10 + 8*E^9 + (-x + 15)*E^8 + (-9*x - 42)*E^7 + (-x^3 - 24*x^2 - 224*x - 732)*E^6 + (-9*x^3 - 189*x^2 - 1377*x - 3432)*E^5 + (-33*x^3 - 594*x^2 - 3597*x - 7288)*E^4 + (-63*x^3 - 945*x^2 - 4698*x - 7712)*E^3 + (-66*x^3 - 792*x^2 - 3110*x - 3984)*E^2 + (-36*x^3 - 324*x^2 - 936*x - 864)*E - 8*x^3 - 48*x^2 - 88*x - 48"
      ]
     },
     "metadata": {},
     "output_type": "display_data"
    },
    {
     "data": {
      "text/html": [
       "<html>\\(\\displaystyle \\left[0, 0, 0, 0, 0, 0, 0, 0, 0, 0, 0, 0, 0, 0, 0\\right]\\)</html>"
      ],
      "text/latex": [
       "$\\displaystyle \\left[0, 0, 0, 0, 0, 0, 0, 0, 0, 0, 0, 0, 0, 0, 0\\right]$"
      ],
      "text/plain": [
       "[0, 0, 0, 0, 0, 0, 0, 0, 0, 0, 0, 0, 0, 0, 0]"
      ]
     },
     "execution_count": 126,
     "metadata": {},
     "output_type": "execute_result"
    }
   ],
   "source": [
    "diff_equ = L001472.lclm(equ_d)\n",
    "diff_seq = solution(diff_equ, (A001472.sequence + (-seq_d))[:required_init(diff_equ)])\n",
    "show(diff_equ)\n",
    "[diff_seq(i) for i in range(required_init(diff_equ)+5)]"
   ]
  },
  {
   "cell_type": "markdown",
   "id": "f119fe7f",
   "metadata": {},
   "source": [
    "Sequnce A001472 has a closed form formula. Hence, we can write the solutions to our original equation\n",
    "$$y_{n+4} - 3 y_{n+3} + \\left(-n - 3\\right) y_{n+2} - (n^{3} + 6 n^{2} + 11 n + 6)y_n = 0$$\n",
    "with the following formula:\n",
    "$$y_n = \\sum_{k=0}^n \n",
    "    \\sum_{l=0}^k \n",
    "        \\left(l!\\sum_{p=1}^l \n",
    "            \\frac{1}{p!}\\left(\n",
    "                \\sum_{j=\\lfloor(4p-l)/3\\rfloor}^p\\binom{p}{j} \\binom{j}{l-4p+3j}(1/2)^{l-4p+3j}(1/4)^{p-j}\n",
    "            \\right)\n",
    "        \\right)\n",
    "\\binom{k}{l}\\binom{n}{k}$$"
   ]
  }
 ],
 "metadata": {
  "kernelspec": {
   "display_name": "SageMath 9.6",
   "language": "sage",
   "name": "sagemath"
  },
  "language_info": {
   "codemirror_mode": {
    "name": "ipython",
    "version": 3
   },
   "file_extension": ".py",
   "mimetype": "text/x-python",
   "name": "python",
   "nbconvert_exporter": "python",
   "pygments_lexer": "ipython3",
   "version": "3.8.10"
  }
 },
 "nbformat": 4,
 "nbformat_minor": 5
}
