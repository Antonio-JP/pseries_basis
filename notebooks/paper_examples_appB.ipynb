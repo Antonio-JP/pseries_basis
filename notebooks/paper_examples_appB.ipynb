{
 "cells": [
  {
   "cell_type": "markdown",
   "id": "8a4c8229-16d1-4276-8c27-e2bc87d1dab9",
   "metadata": {},
   "source": [
    "# Examples from (arxiv) Appendix B\n",
    "\n",
    "In this notebook we are going to show the automated computations to produce the results on Appendix B on the arXiv version of [this paper](https://arxiv.org/abs/2202.05550). These examples explored other sequences obtained from OEIS and have several identities we could prove. \n",
    "\n",
    "These examples were taken through exploration from [OEIS](https://oeis.org/). We encourage the reader to see the script `oeis_information_getter.py` in this folder to see the exploration technique and the sequences (which include those shown in this notebook) obtained from this database."
   ]
  },
  {
   "cell_type": "code",
   "execution_count": 1,
   "id": "a19cc201",
   "metadata": {},
   "outputs": [],
   "source": [
    "%display latex\n",
    "from alive_progress import alive_bar\n",
    "from pseries_basis import *\n",
    "from pseries_basis.ore import *\n",
    "from pseries_basis.io import *\n",
    "from ore_algebra import *\n",
    "# Creating the objects used in the notebook\n",
    "OE, (x, E) = get_recurrence_algebra(\"x\", \"E\")\n",
    "B = BinomialBasis()"
   ]
  },
  {
   "cell_type": "code",
   "execution_count": 2,
   "id": "45e8c720",
   "metadata": {},
   "outputs": [
    {
     "data": {
      "text/html": [
       "<html>\\(\\displaystyle \\left\\{\\binom{x}{n}\\right\\}_{n\\geq 0}\\)</html>"
      ],
      "text/latex": [
       "$\\displaystyle \\left\\{\\binom{x}{n}\\right\\}_{n\\geq 0}$"
      ],
      "text/plain": [
       "Binomial basis (x) choose n"
      ]
     },
     "execution_count": 2,
     "metadata": {},
     "output_type": "execute_result"
    }
   ],
   "source": [
    "; B"
   ]
  },
  {
   "cell_type": "markdown",
   "id": "c83791e2",
   "metadata": {},
   "source": [
    "## The example [A007317](https://oeis.org/A007317)\n",
    "\n",
    "This sequence (the direct binomial transform of the Catalan numbers) starts with the terms $1, 2, 5, 15, 51, 188,\\ldots$ and has the following recurrence:\n",
    "$$(n+3)a_{n+2} = (6n+10)a_{n+1} - 5(n+1)a_n.$$"
   ]
  },
  {
   "cell_type": "code",
   "execution_count": 25,
   "id": "336e9b44",
   "metadata": {},
   "outputs": [],
   "source": [
    "L007317 = (x+3)*E^2 - (6*x+10)*E + 5*(x+1) ## The first formula in OEIS is wrong TODO: Start fixing from here\n",
    "A007317 = solution(L007317, [1,2,5,15])"
   ]
  },
  {
   "cell_type": "markdown",
   "id": "042705e6",
   "metadata": {},
   "source": [
    "First, we can check that this, indeed the binomial transform of the Catalan numbers. For doing so, we compute a sequence $b_k$ such that:\n",
    "$$a_n = \\sum_{k=0}^n b_k \\binom{n}{k},$$\n",
    "obtaining the following recurrence for $b_n$:"
   ]
  },
  {
   "cell_type": "code",
   "execution_count": 26,
   "id": "cedbba81",
   "metadata": {},
   "outputs": [
    {
     "data": {
      "text/html": [
       "<html>\\(\\displaystyle \\left(x + 3\\right) E^{2} + \\left(-3 x - 4\\right) E - 4 x - 2\\)</html>"
      ],
      "text/latex": [
       "$\\displaystyle \\left(x + 3\\right) E^{2} + \\left(-3 x - 4\\right) E - 4 x - 2$"
      ],
      "text/plain": [
       "(x + 3)*E^2 + (-3*x - 4)*E - 4*x - 2"
      ]
     },
     "metadata": {},
     "output_type": "display_data"
    }
   ],
   "source": [
    "equ_b = ass_recurrence(L007317, B, OE); show(equ_b)\n",
    "seq_b = solution(equ_b,get_converted_init(A007317, B, required_init(equ_b))) "
   ]
  },
  {
   "cell_type": "markdown",
   "id": "9fee9849",
   "metadata": {},
   "source": [
    "On the other hand, the Catalan numbers satisfies the following recurrence:\n"
   ]
  },
  {
   "cell_type": "code",
   "execution_count": 27,
   "id": "3f1a370b",
   "metadata": {},
   "outputs": [
    {
     "data": {
      "text/html": [
       "<html>\\(\\displaystyle \\left(x + 2\\right) E - 4 x - 2\\)</html>"
      ],
      "text/latex": [
       "$\\displaystyle \\left(x + 2\\right) E - 4 x - 2$"
      ],
      "text/plain": [
       "(x + 2)*E - 4*x - 2"
      ]
     },
     "execution_count": 27,
     "metadata": {},
     "output_type": "execute_result"
    }
   ],
   "source": [
    "equ_cat = (x+2)*E - 2*(2*(x+1)-1); equ_cat"
   ]
  },
  {
   "cell_type": "markdown",
   "id": "f7119b5b",
   "metadata": {},
   "source": [
    "Using closure properties, we can check that $b_n$ is, indeed, the sequence of Catalan numbers:"
   ]
  },
  {
   "cell_type": "code",
   "execution_count": 28,
   "id": "e20e8517",
   "metadata": {},
   "outputs": [
    {
     "name": "stdout",
     "output_type": "stream",
     "text": [
      "We need to check equality up to 4 elements\n"
     ]
    },
    {
     "data": {
      "text/html": [
       "<html>\\(\\displaystyle \\mathrm{True}\\)</html>"
      ],
      "text/latex": [
       "$\\displaystyle \\mathrm{True}$"
      ],
      "text/plain": [
       "True"
      ]
     },
     "execution_count": 28,
     "metadata": {},
     "output_type": "execute_result"
    }
   ],
   "source": [
    "d = required_init(equ_b.lclm(equ_cat))\n",
    "print(f\"We need to check equality up to {d} elements\")\n",
    "all(seq_b(i) == catalan_number(i) for i in range(d+1))"
   ]
  },
  {
   "cell_type": "markdown",
   "id": "79c8f11b",
   "metadata": {},
   "source": [
    "##### Double sum part\n",
    "Let us describe the values of $a_n$ as a double sum of binomials of the form:\n",
    "$$a_n = \\sum_{k=0}^n \\sum_{l=0}^k c_l \\binom{k}{l}\\binom{n}{k}.$$\n",
    "Using the method `recurrence` in the package `pseries_basis` we can get the new equation for $c_k$:"
   ]
  },
  {
   "cell_type": "code",
   "execution_count": 29,
   "id": "076d58cb",
   "metadata": {
    "scrolled": true
   },
   "outputs": [
    {
     "data": {
      "text/html": [
       "<html>\\(\\displaystyle \\left(x + 4\\right) E^{3} + 2 E^{2} + \\left(-7 x - 10\\right) E - 6 x - 6\\)</html>"
      ],
      "text/latex": [
       "$\\displaystyle \\left(x + 4\\right) E^{3} + 2 E^{2} + \\left(-7 x - 10\\right) E - 6 x - 6$"
      ],
      "text/plain": [
       "(x + 4)*E^3 + 2*E^2 + (-7*x - 10)*E - 6*x - 6"
      ]
     },
     "metadata": {},
     "output_type": "display_data"
    },
    {
     "data": {
      "text/html": [
       "<html>\\(\\displaystyle \\left[1, 0, 1, 1, 3, 6, 15, 36, 91, 232\\right]\\)</html>"
      ],
      "text/latex": [
       "$\\displaystyle \\left[1, 0, 1, 1, 3, 6, 15, 36, 91, 232\\right]$"
      ],
      "text/plain": [
       "[1, 0, 1, 1, 3, 6, 15, 36, 91, 232]"
      ]
     },
     "execution_count": 29,
     "metadata": {},
     "output_type": "execute_result"
    }
   ],
   "source": [
    "equ_d = ass_recurrence(L007317, B, OE)\n",
    "seq_d = solution(equ_d,get_converted_init(A007317, B, required_init(equ_d))) \n",
    "equ_c = ass_recurrence(equ_d, B, OE); show(equ_c)\n",
    "seq_c = solution(equ_c,get_converted_init(seq_d, B, required_init(equ_c))) \n",
    "[seq_c(i) for i in range(10)]"
   ]
  },
  {
   "cell_type": "markdown",
   "id": "62cbd5b2",
   "metadata": {},
   "source": [
    "We can try to see if this new sequence appear in OEIS. In fact, id does and it provides a formula:"
   ]
  },
  {
   "cell_type": "code",
   "execution_count": 30,
   "id": "44024d8a",
   "metadata": {
    "scrolled": true
   },
   "outputs": [
    {
     "data": {
      "text/html": [
       "<html>\\(\\displaystyle \\begin{array}{l}\n",
       "\\verb|0:|\\verb| |\\verb|A005043:|\\verb| |\\verb|Riordan|\\verb| |\\verb|numbers:|\\verb| |\\verb|a(n)|\\verb| |\\verb|=|\\verb| |\\verb|(n-1)*(2*a(n-1)|\\verb| |\\verb|+|\\verb| |\\verb|3*a(n-2))/(n+1).|\\\\\n",
       "\\verb|1:|\\verb| |\\verb|A099323:|\\verb| |\\verb|Expansion|\\verb| |\\verb|of|\\verb| |\\verb|(sqrt(1+3*x)|\\verb| |\\verb|+|\\verb| |\\verb|sqrt(1-x))/(2*sqrt(1-x)).|\\\\\n",
       "\\verb|2:|\\verb| |\\verb|A174297:|\\verb| |\\verb|First|\\verb| |\\verb|column|\\verb| |\\verb|of|\\verb| |\\verb|A174295.|\n",
       "\\end{array}\\)</html>"
      ],
      "text/latex": [
       "$\\displaystyle \\begin{array}{l}\n",
       "\\verb|0:|\\verb| |\\verb|A005043:|\\verb| |\\verb|Riordan|\\verb| |\\verb|numbers:|\\verb| |\\verb|a(n)|\\verb| |\\verb|=|\\verb| |\\verb|(n-1)*(2*a(n-1)|\\verb| |\\verb|+|\\verb| |\\verb|3*a(n-2))/(n+1).|\\\\\n",
       "\\verb|1:|\\verb| |\\verb|A099323:|\\verb| |\\verb|Expansion|\\verb| |\\verb|of|\\verb| |\\verb|(sqrt(1+3*x)|\\verb| |\\verb|+|\\verb| |\\verb|sqrt(1-x))/(2*sqrt(1-x)).|\\\\\n",
       "\\verb|2:|\\verb| |\\verb|A174297:|\\verb| |\\verb|First|\\verb| |\\verb|column|\\verb| |\\verb|of|\\verb| |\\verb|A174295.|\n",
       "\\end{array}$"
      ],
      "text/plain": [
       "0: A005043: Riordan numbers: a(n) = (n-1)*(2*a(n-1) + 3*a(n-2))/(n+1).\n",
       "1: A099323: Expansion of (sqrt(1+3*x) + sqrt(1-x))/(2*sqrt(1-x)).\n",
       "2: A174297: First column of A174295."
      ]
     },
     "execution_count": 30,
     "metadata": {},
     "output_type": "execute_result"
    }
   ],
   "source": [
    "oeis([seq_c(i) for i in range(20)])"
   ]
  },
  {
   "cell_type": "markdown",
   "id": "1fbb7aa0",
   "metadata": {},
   "source": [
    "We have three possible candidates for our sequence $(c_n)$. Let us check the first (Riordan numbers) using closure properties again:"
   ]
  },
  {
   "cell_type": "code",
   "execution_count": 31,
   "id": "366f9a47",
   "metadata": {},
   "outputs": [
    {
     "name": "stdout",
     "output_type": "stream",
     "text": [
      "We need to check equality up to 5 elements\n"
     ]
    },
    {
     "data": {
      "text/html": [
       "<html>\\(\\displaystyle \\mathrm{True}\\)</html>"
      ],
      "text/latex": [
       "$\\displaystyle \\mathrm{True}$"
      ],
      "text/plain": [
       "True"
      ]
     },
     "execution_count": 31,
     "metadata": {},
     "output_type": "execute_result"
    }
   ],
   "source": [
    "riordan = oeis([seq_c(i) for i in range(20)])[0]\n",
    "equ_riordan = (x+3)*E^2 - (x+1)*2*E - (x+1)*3\n",
    "d = required_init(equ_c.lclm(equ_riordan))\n",
    "print(f\"We need to check equality up to {d} elements\")\n",
    "[seq_c(i) for i in range(d+1)] == list(riordan.first_terms(d+1))"
   ]
  },
  {
   "cell_type": "markdown",
   "id": "3dae5262",
   "metadata": {},
   "source": [
    "Hence, we conclude that the sequence $a_n$ that satisfies the recurrence\n",
    "$$(n+3)a_{n+2} = (6n+10)a_{n+1} - 5(n+1)a_n,$$\n",
    "can be written by:\n",
    "$$a_n = \\sum_{k=0}^n c_k \\binom{n}{k} = \\sum_{k=0}^n \\sum_{l=0}^k R_l \\binom{k}{l} \\binom{n}{k}.$$"
   ]
  },
  {
   "cell_type": "markdown",
   "id": "00b8580f",
   "metadata": {},
   "source": [
    "## The example [A000172](https://oeis.org/A000172)\n",
    "\n",
    "This sequence (also known as Franel numbers) starts with the terms $1, 2, 10, 56, 346, 2252,\\ldots$ and satisfies the following recurrence:\n",
    "$$(n + 1)^2a_{n+1} = (7n^2 + 7n + 2)a_n + 8n^2a_{n-1},\\text{ for $n > 1$}$$\n"
   ]
  },
  {
   "cell_type": "code",
   "execution_count": 32,
   "id": "e34481a8",
   "metadata": {},
   "outputs": [],
   "source": [
    "L000172 = E*((x+2)^2*E^2 - (7*(x+1)^2 + 7*(x+1) + 2)*E - 8*(x+1)^2)\n",
    "A000172 = solution(L000172, [1,3,10,56])"
   ]
  },
  {
   "cell_type": "code",
   "execution_count": 33,
   "id": "63294052",
   "metadata": {},
   "outputs": [
    {
     "data": {
      "text/html": [
       "<html>\\(\\displaystyle \\left[1, 3, 10, 56, 346, 2252, 15184, 104960, 739162, 5280932\\right]\\)</html>"
      ],
      "text/latex": [
       "$\\displaystyle \\left[1, 3, 10, 56, 346, 2252, 15184, 104960, 739162, 5280932\\right]$"
      ],
      "text/plain": [
       "[1, 3, 10, 56, 346, 2252, 15184, 104960, 739162, 5280932]"
      ]
     },
     "execution_count": 33,
     "metadata": {},
     "output_type": "execute_result"
    }
   ],
   "source": [
    "[A000172(i) for i in range(10)]"
   ]
  },
  {
   "cell_type": "markdown",
   "id": "b5c3d082",
   "metadata": {},
   "source": [
    "First of all, we can check that this sequence $a_n$ satisfies the following formula:\n",
    "$$a_n = \\sum_{k=0}^n \\binom{n}{k}^3,$$\n",
    "by using `ProductBasis` within the package, we can obtain a recurrence for a sequence $b_k$ such that:\n",
    "$$a_n = \\sum_{k=0}^n b_k \\binom{n}{k}^3$$\n",
    "using the following piece of code:"
   ]
  },
  {
   "cell_type": "code",
   "execution_count": 34,
   "id": "2a4b2521",
   "metadata": {},
   "outputs": [
    {
     "data": {
      "text/html": [
       "<html>\\(\\displaystyle \\mathit{Sn} - 1\\)</html>"
      ],
      "text/latex": [
       "$\\displaystyle \\mathit{Sn} - 1$"
      ],
      "text/plain": [
       "Sn - 1"
      ]
     },
     "execution_count": 34,
     "metadata": {},
     "output_type": "execute_result"
    }
   ],
   "source": [
    "B3 = ProductBasis([B,B,B], ends=[\"E\"]); B3\n",
    "M = B3.recurrence(L000172)\n",
    "fM = [B3.remove_Sni(M.coefficient((i,0))) for i in range(3)]\n",
    "new_eq = fM[0].gcrd(*fM[1:])\n",
    "new_eq"
   ]
  },
  {
   "cell_type": "markdown",
   "id": "c304a857",
   "metadata": {},
   "source": [
    "Hence, the desired formula with the cube of the binomial holds."
   ]
  },
  {
   "cell_type": "markdown",
   "id": "8152fcf0",
   "metadata": {},
   "source": [
    "##### Double sum part\n",
    "Let us describe the values of $a_n$ as a double sum of binomials of the form:\n",
    "$$a_n = \\sum_{k=0}^n \\sum_{l=0}^k c_l \\binom{k}{l}\\binom{n}{k}.$$\n",
    "Using the method `recurrence` in the package `pseries_basis` we can get the new equation for $c_k$:"
   ]
  },
  {
   "cell_type": "code",
   "execution_count": 35,
   "id": "e988e7b5",
   "metadata": {
    "scrolled": true
   },
   "outputs": [
    {
     "data": {
      "text/html": [
       "<html>\\(\\displaystyle \\left(x^{2} + 14 x + 49\\right) E^{7} + \\left(5 x^{2} + 59 x + 174\\right) E^{6} + \\left(-17 x^{2} - 224 x - 719\\right) E^{5} + \\left(-181 x^{2} - 1857 x - 4748\\right) E^{4} + \\left(-536 x^{2} - 4500 x - 9420\\right) E^{3} + \\left(-760 x^{2} - 5024 x - 8232\\right) E^{2} + \\left(-528 x^{2} - 2544 x - 2976\\right) E - 144 x^{2} - 432 x - 288\\)</html>"
      ],
      "text/latex": [
       "$\\displaystyle \\left(x^{2} + 14 x + 49\\right) E^{7} + \\left(5 x^{2} + 59 x + 174\\right) E^{6} + \\left(-17 x^{2} - 224 x - 719\\right) E^{5} + \\left(-181 x^{2} - 1857 x - 4748\\right) E^{4} + \\left(-536 x^{2} - 4500 x - 9420\\right) E^{3} + \\left(-760 x^{2} - 5024 x - 8232\\right) E^{2} + \\left(-528 x^{2} - 2544 x - 2976\\right) E - 144 x^{2} - 432 x - 288$"
      ],
      "text/plain": [
       "(x^2 + 14*x + 49)*E^7 + (5*x^2 + 59*x + 174)*E^6 + (-17*x^2 - 224*x - 719)*E^5 + (-181*x^2 - 1857*x - 4748)*E^4 + (-536*x^2 - 4500*x - 9420)*E^3 + (-760*x^2 - 5024*x - 8232)*E^2 + (-528*x^2 - 2544*x - 2976)*E - 144*x^2 - 432*x - 288"
      ]
     },
     "metadata": {},
     "output_type": "display_data"
    },
    {
     "data": {
      "text/html": [
       "<html>\\(\\displaystyle \\left[1, 1, 2, 24, 58, 440, \\frac{16624}{9}, \\frac{1548368}{147}, \\frac{752495}{14}, \\frac{1163185124}{3969}\\right]\\)</html>"
      ],
      "text/latex": [
       "$\\displaystyle \\left[1, 1, 2, 24, 58, 440, \\frac{16624}{9}, \\frac{1548368}{147}, \\frac{752495}{14}, \\frac{1163185124}{3969}\\right]$"
      ],
      "text/plain": [
       "[1, 1, 2, 24, 58, 440, 16624/9, 1548368/147, 752495/14, 1163185124/3969]"
      ]
     },
     "execution_count": 35,
     "metadata": {},
     "output_type": "execute_result"
    }
   ],
   "source": [
    "equ_d = ass_recurrence(L000172, B, OE)\n",
    "seq_d = solution(equ_d,get_converted_init(A000172, B, required_init(equ_d))) \n",
    "equ_c = ass_recurrence(equ_d, B, OE); show(equ_c)\n",
    "seq_c = solution(equ_c,get_converted_init(seq_d, B, required_init(equ_c))) \n",
    "[seq_c(i) for i in range(10)]"
   ]
  },
  {
   "cell_type": "markdown",
   "id": "b7cc68e3",
   "metadata": {},
   "source": [
    "This, unfortunately, is not an integer sequence anymore. et us see if we can guess a smaller recurrence:"
   ]
  },
  {
   "cell_type": "code",
   "execution_count": 144,
   "id": "479d720a",
   "metadata": {
    "scrolled": true
   },
   "outputs": [
    {
     "data": {
      "text/html": [
       "<html><script type=\"math/tex; mode=display\">\\newcommand{\\Bold}[1]{\\mathbf{#1}}\\left(152 x^{4} + 1694 x^{3} + 5683 x^{2} + 5780 x + 3575\\right) E^{5} + \\left(304 x^{4} + 3084 x^{3} + 11240 x^{2} + 17833 x + 11044\\right) E^{4} + \\left(-3800 x^{4} - 34750 x^{3} - 98985 x^{2} - 97859 x - 56898\\right) E^{3} + \\left(-16720 x^{4} - 136180 x^{3} - 382386 x^{2} - 458014 x - 255108\\right) E^{2} + \\left(-23712 x^{4} - 169416 x^{3} - 449292 x^{2} - 549492 x - 277752\\right) E - 10944 x^{4} - 67248 x^{3} - 158904 x^{2} - 170136 x - 67536</script></html>"
      ],
      "text/latex": [
       "$$\\newcommand{\\Bold}[1]{\\mathbf{#1}}\\left(152 x^{4} + 1694 x^{3} + 5683 x^{2} + 5780 x + 3575\\right) E^{5} + \\left(304 x^{4} + 3084 x^{3} + 11240 x^{2} + 17833 x + 11044\\right) E^{4} + \\left(-3800 x^{4} - 34750 x^{3} - 98985 x^{2} - 97859 x - 56898\\right) E^{3} + \\left(-16720 x^{4} - 136180 x^{3} - 382386 x^{2} - 458014 x - 255108\\right) E^{2} + \\left(-23712 x^{4} - 169416 x^{3} - 449292 x^{2} - 549492 x - 277752\\right) E - 10944 x^{4} - 67248 x^{3} - 158904 x^{2} - 170136 x - 67536$$"
      ],
      "text/plain": [
       "(152*x^4 + 1694*x^3 + 5683*x^2 + 5780*x + 3575)*E^5 + (304*x^4 + 3084*x^3 + 11240*x^2 + 17833*x + 11044)*E^4 + (-3800*x^4 - 34750*x^3 - 98985*x^2 - 97859*x - 56898)*E^3 + (-16720*x^4 - 136180*x^3 - 382386*x^2 - 458014*x - 255108)*E^2 + (-23712*x^4 - 169416*x^3 - 449292*x^2 - 549492*x - 277752)*E - 10944*x^4 - 67248*x^3 - 158904*x^2 - 170136*x - 67536"
      ]
     },
     "execution_count": 144,
     "metadata": {},
     "output_type": "execute_result"
    }
   ],
   "source": [
    "guess([seq_c(i) for i in range(50)], OE)"
   ]
  },
  {
   "cell_type": "markdown",
   "id": "11c280c7",
   "metadata": {},
   "source": [
    "## The example [A258431](https://oeis.org/A258431)\n",
    "\n",
    "This sequence starts with the terms $0, 1, 5, 23, 102, 443, 1898, 8054,\\ldots$ and counts the **_sum over all peaks of Dyck paths of semilength n of the arithmetic mean of the x and y coordinates_**. It satisfies the following recurrence equation:\n",
    "$$(n-1)a_n = (8n-10)a_{n-1}-(16n-24)a_{n-2}\\text{ for $n > 2$}.$$"
   ]
  },
  {
   "cell_type": "code",
   "execution_count": 36,
   "id": "f316553e",
   "metadata": {},
   "outputs": [],
   "source": [
    "L258431 = E*((x+1)*E^2 - (8*(x+2)-10)*E + (16*(x+2)-24))\n",
    "A258431 = solution(L258431, [0,1,5])"
   ]
  },
  {
   "cell_type": "code",
   "execution_count": 37,
   "id": "03892f91",
   "metadata": {},
   "outputs": [
    {
     "data": {
      "text/html": [
       "<html>\\(\\displaystyle \\left[0, 1, 5, 23, 102, 443, 1898, 8054, 33932, 142163, 592962, 2464226, 10209620, 42190558, 173962532, 715908428, 2941192472, 12065310083, 49428043442, 202249741418\\right]\\)</html>"
      ],
      "text/latex": [
       "$\\displaystyle \\left[0, 1, 5, 23, 102, 443, 1898, 8054, 33932, 142163, 592962, 2464226, 10209620, 42190558, 173962532, 715908428, 2941192472, 12065310083, 49428043442, 202249741418\\right]$"
      ],
      "text/plain": [
       "[0,\n",
       " 1,\n",
       " 5,\n",
       " 23,\n",
       " 102,\n",
       " 443,\n",
       " 1898,\n",
       " 8054,\n",
       " 33932,\n",
       " 142163,\n",
       " 592962,\n",
       " 2464226,\n",
       " 10209620,\n",
       " 42190558,\n",
       " 173962532,\n",
       " 715908428,\n",
       " 2941192472,\n",
       " 12065310083,\n",
       " 49428043442,\n",
       " 202249741418]"
      ]
     },
     "execution_count": 37,
     "metadata": {},
     "output_type": "execute_result"
    }
   ],
   "source": [
    "[A258431(i) for i in range(20)]"
   ]
  },
  {
   "cell_type": "markdown",
   "id": "f2110a25",
   "metadata": {},
   "source": [
    "##### Double sum part\n",
    "Let us describe the values of $a_n$ as a double sum of binomials of the form:\n",
    "$$a_n = \\sum_{k=0}^n \\sum_{l=0}^k c_l \\binom{k}{l}\\binom{n}{k}.$$\n",
    "Using the method `recurrence` in the package `pseries_basis` we can get the new equation for $c_k$:"
   ]
  },
  {
   "cell_type": "code",
   "execution_count": 38,
   "id": "555cb8e7",
   "metadata": {
    "scrolled": true
   },
   "outputs": [
    {
     "data": {
      "text/html": [
       "<html>\\(\\displaystyle \\left(x + 4\\right) E^{5} + \\left(x + 1\\right) E^{4} + \\left(-8 x - 26\\right) E^{3} + \\left(-8 x - 8\\right) E^{2} + \\left(16 x + 40\\right) E + 16 x + 16\\)</html>"
      ],
      "text/latex": [
       "$\\displaystyle \\left(x + 4\\right) E^{5} + \\left(x + 1\\right) E^{4} + \\left(-8 x - 26\\right) E^{3} + \\left(-8 x - 8\\right) E^{2} + \\left(16 x + 40\\right) E + 16 x + 16$"
      ],
      "text/plain": [
       "(x + 4)*E^5 + (x + 1)*E^4 + (-8*x - 26)*E^3 + (-8*x - 8)*E^2 + (16*x + 40)*E + 16*x + 16"
      ]
     },
     "metadata": {},
     "output_type": "display_data"
    },
    {
     "data": {
      "text/html": [
       "<html>\\(\\displaystyle \\left[0, 1, 1, 5, 6, 23, 30, 102, 140, 443\\right]\\)</html>"
      ],
      "text/latex": [
       "$\\displaystyle \\left[0, 1, 1, 5, 6, 23, 30, 102, 140, 443\\right]$"
      ],
      "text/plain": [
       "[0, 1, 1, 5, 6, 23, 30, 102, 140, 443]"
      ]
     },
     "execution_count": 38,
     "metadata": {},
     "output_type": "execute_result"
    }
   ],
   "source": [
    "equ_d = ass_recurrence(L258431, B, OE)\n",
    "seq_d = solution(equ_d,get_converted_init(A258431, B, required_init(equ_d))) \n",
    "equ_c = ass_recurrence(equ_d, B, OE); show(equ_c)\n",
    "seq_c = solution(equ_c,get_converted_init(seq_d, B, required_init(equ_c))) \n",
    "[seq_c(i) for i in range(10)]"
   ]
  },
  {
   "cell_type": "markdown",
   "id": "8598402d",
   "metadata": {},
   "source": [
    "We can try to see if this new sequence appear in OEIS:"
   ]
  },
  {
   "cell_type": "code",
   "execution_count": 39,
   "id": "0b0460b5",
   "metadata": {
    "scrolled": true
   },
   "outputs": [
    {
     "data": {
      "text/html": [
       "<html>\\(\\displaystyle 0\\)</html>"
      ],
      "text/latex": [
       "$\\displaystyle 0$"
      ],
      "text/plain": [
       "0"
      ]
     },
     "execution_count": 39,
     "metadata": {},
     "output_type": "execute_result"
    }
   ],
   "source": [
    "len(oeis([seq_c(i) for i in range(1,10)]))"
   ]
  },
  {
   "cell_type": "markdown",
   "id": "451b26dc",
   "metadata": {},
   "source": [
    "We have no sequence from OEIS. But we can try to use `guess`to see if we have another recurrence for this sequence:"
   ]
  },
  {
   "cell_type": "code",
   "execution_count": 40,
   "id": "a5e9ff16",
   "metadata": {},
   "outputs": [
    {
     "data": {
      "text/html": [
       "<html>\\(\\displaystyle \\left(-x - 3\\right) E^{4} + 2 E^{3} + \\left(8 x + 16\\right) E^{2} - 8 E - 16 x - 16\\)</html>"
      ],
      "text/latex": [
       "$\\displaystyle \\left(-x - 3\\right) E^{4} + 2 E^{3} + \\left(8 x + 16\\right) E^{2} - 8 E - 16 x - 16$"
      ],
      "text/plain": [
       "(-x - 3)*E^4 + 2*E^3 + (8*x + 16)*E^2 - 8*E - 16*x - 16"
      ]
     },
     "execution_count": 40,
     "metadata": {},
     "output_type": "execute_result"
    }
   ],
   "source": [
    "guess([seq_c(i) for i in range(50)], OE)"
   ]
  },
  {
   "cell_type": "markdown",
   "id": "09a7f353",
   "metadata": {},
   "source": [
    "This is not very nice. However, something strange happens: the original sequence appears as a subsequence of $c_k$:"
   ]
  },
  {
   "cell_type": "code",
   "execution_count": 41,
   "id": "fc17adba",
   "metadata": {},
   "outputs": [
    {
     "data": {
      "text/html": [
       "<html>\\(\\displaystyle \\mathrm{True}\\)</html>"
      ],
      "text/latex": [
       "$\\displaystyle \\mathrm{True}$"
      ],
      "text/plain": [
       "True"
      ]
     },
     "execution_count": 41,
     "metadata": {},
     "output_type": "execute_result"
    }
   ],
   "source": [
    "[seq_c(2*i-1) for i in range(10)] == [A258431(i) for i in range(10)]"
   ]
  },
  {
   "cell_type": "markdown",
   "id": "1c72daae",
   "metadata": {},
   "source": [
    "Which shows that, for the solution to \n",
    "$$(n-1)a_n = (8n-10)a_{n-1}-(16n-24)a_{n-2}\\text{ for $n > 2$}, a(0) = 0, a(1) = 1, a(2) = 5;$$\n",
    "if we write this sequence with\n",
    "$$a_n = \\sum_{k=0}^n \\sum_{l=0}^k c_l \\binom{k}{l}\\binom{n}{k},$$\n",
    "then we conclude that:\n",
    "$$c_{2n-1} = a_n\\text{ for all $n \\in \\mathbb{N}$}.$$\n",
    "This final identity can be proven by closure properties of D-finite sequences."
   ]
  },
  {
   "cell_type": "markdown",
   "id": "fb706e0e",
   "metadata": {},
   "source": [
    "## The example [A032443](https://oeis.org/A032443)\n",
    "\n",
    "This sequence starts with the terms $1, 3, 11, 42, 163, 638, 2510, 9908,\\ldots$ and has the following formula:\n",
    "$$a_n = \\sum_{i=0}^n \\binom{2n}{i},$$\n",
    "satisfying the following recurrence:\n",
    "$$na_n + 2(-4n+3)a_{n-1} + 8(2n-3)a_{n-2} = 0$$"
   ]
  },
  {
   "cell_type": "code",
   "execution_count": 42,
   "id": "5eb7def6",
   "metadata": {},
   "outputs": [],
   "source": [
    "L032443 = (x+2)*E^2 + 2*(-4*(x+2)+3)*E + 8*(2*(x+2) - 3)\n",
    "A032443 = solution(L032443, [1,3,11,42])"
   ]
  },
  {
   "cell_type": "markdown",
   "id": "842ea445",
   "metadata": {},
   "source": [
    "##### Double sum part\n",
    "Let us describe the values of $a_n$ as a double sum of binomials of the form:\n",
    "$$a_n = \\sum_{k=0}^n \\sum_{l=0}^k c_l \\binom{k}{l}\\binom{n}{k}.$$\n",
    "Using the method `recurrence` in the package `pseries_basis` we can get the new equation for $c_k$:"
   ]
  },
  {
   "cell_type": "code",
   "execution_count": 43,
   "id": "73b7a0d9",
   "metadata": {
    "scrolled": true
   },
   "outputs": [
    {
     "data": {
      "text/html": [
       "<html>\\(\\displaystyle \\left(x + 4\\right) E^{4} + \\left(-x - 3\\right) E^{3} + \\left(-6 x - 16\\right) E^{2} + \\left(4 x + 8\\right) E + 8 x + 8\\)</html>"
      ],
      "text/latex": [
       "$\\displaystyle \\left(x + 4\\right) E^{4} + \\left(-x - 3\\right) E^{3} + \\left(-6 x - 16\\right) E^{2} + \\left(4 x + 8\\right) E + 8 x + 8$"
      ],
      "text/plain": [
       "(x + 4)*E^4 + (-x - 3)*E^3 + (-6*x - 16)*E^2 + (4*x + 8)*E + 8*x + 8"
      ]
     },
     "metadata": {},
     "output_type": "display_data"
    },
    {
     "data": {
      "text/html": [
       "<html>\\(\\displaystyle \\left[1, 1, 3, 4, 11, 16, 42, 64, 163, 256\\right]\\)</html>"
      ],
      "text/latex": [
       "$\\displaystyle \\left[1, 1, 3, 4, 11, 16, 42, 64, 163, 256\\right]$"
      ],
      "text/plain": [
       "[1, 1, 3, 4, 11, 16, 42, 64, 163, 256]"
      ]
     },
     "execution_count": 43,
     "metadata": {},
     "output_type": "execute_result"
    }
   ],
   "source": [
    "equ_d = ass_recurrence(L032443, B, OE)\n",
    "seq_d = solution(equ_d,get_converted_init(A032443, B, required_init(equ_d))) \n",
    "equ_c = ass_recurrence(equ_d, B, OE); show(equ_c)\n",
    "seq_c = solution(equ_c,get_converted_init(seq_d, B, required_init(equ_c))) \n",
    "[seq_c(i) for i in range(10)]"
   ]
  },
  {
   "cell_type": "markdown",
   "id": "f3d28f0c",
   "metadata": {},
   "source": [
    "We can try to see if this new sequence appear in OEIS. In fact, id does and it provides a formula:"
   ]
  },
  {
   "cell_type": "code",
   "execution_count": 44,
   "id": "5c1325ab",
   "metadata": {
    "scrolled": true
   },
   "outputs": [
    {
     "data": {
      "text/html": [
       "<html>\\(\\displaystyle \\verb|0:|\\verb| |\\verb|A027306:|\\verb| |\\verb|a(n)|\\verb| |\\verb|=|\\verb| |\\verb|2^(n-1)|\\verb| |\\verb|+|\\verb| |\\verb|((1|\\verb| |\\verb|+|\\verb| |\\verb|(-1)^n)/4)*binomial(n,|\\verb| |\\verb|n/2).|\\)</html>"
      ],
      "text/latex": [
       "$\\displaystyle \\verb|0:|\\verb| |\\verb|A027306:|\\verb| |\\verb|a(n)|\\verb| |\\verb|=|\\verb| |\\verb|2^(n-1)|\\verb| |\\verb|+|\\verb| |\\verb|((1|\\verb| |\\verb|+|\\verb| |\\verb|(-1)^n)/4)*binomial(n,|\\verb| |\\verb|n/2).|$"
      ],
      "text/plain": [
       "0: A027306: a(n) = 2^(n-1) + ((1 + (-1)^n)/4)*binomial(n, n/2)."
      ]
     },
     "execution_count": 44,
     "metadata": {},
     "output_type": "execute_result"
    }
   ],
   "source": [
    "oeis([seq_c(i) for i in range(20)])"
   ]
  },
  {
   "cell_type": "markdown",
   "id": "0ad1a269",
   "metadata": {},
   "source": [
    "Hence we can conclude that the following identity holds:\n",
    "$$\\sum_{k=0}^n \\binom{2n}{k} = \\sum_{k=0}^n \\sum_{l=0}^k\\left[ \\left(2^{l-1} + \\frac{1 + (-1)^l}{4}\\binom{l}{l/2}\\right) \\binom{k}{l}\\binom{n}{k}\\right]$$"
   ]
  },
  {
   "cell_type": "code",
   "execution_count": 45,
   "id": "28f80c84",
   "metadata": {},
   "outputs": [
    {
     "data": {
      "text/html": [
       "<html>\\(\\displaystyle \\mathrm{True}\\)</html>"
      ],
      "text/latex": [
       "$\\displaystyle \\mathrm{True}$"
      ],
      "text/plain": [
       "True"
      ]
     },
     "execution_count": 45,
     "metadata": {},
     "output_type": "execute_result"
    }
   ],
   "source": [
    "## Checking identity for i = 0,...,30\n",
    "lhs = lambda n : sum(binomial(2*n, k) for k in range(n+1))\n",
    "rhs = lambda n : sum(sum((2**(l-1) + (1/2*binomial(l,l/2) if l%2 == 0 else 0)) * binomial(k,l) * binomial(n,k) for l in range(k+1)) for k in range(n+1))\n",
    "all(lhs(i) == rhs(i) for i in range(30))"
   ]
  },
  {
   "cell_type": "markdown",
   "id": "f87b0a75",
   "metadata": {},
   "source": [
    "### Trying some examples with no-Liouvillian solutions\n",
    "\n",
    "We know that the convolution of $n!$ and $1/n!$ is not Liouvillian and satisfies the following recurrence:\n",
    "$$(n+3)y_{n+3} - (n^2 + 6n + 10)y_{n+2} + (2n + 5)y_{n+1} - y_n  = 0.$$\n",
    "\n",
    "Let us see what happen if we apply the binomial basis to this recurrence:"
   ]
  },
  {
   "cell_type": "code",
   "execution_count": 67,
   "id": "0437f55c",
   "metadata": {},
   "outputs": [
    {
     "data": {
      "text/html": [
       "<html>\\(\\displaystyle \\left[1, 2, \\frac{7}{2}, \\frac{26}{3}, \\frac{749}{24}, \\frac{8843}{60}, \\frac{614227}{720}, \\frac{3669289}{630}, \\frac{1844279257}{40320}, \\frac{10519507811}{25920}\\right]\\)</html>"
      ],
      "text/latex": [
       "$\\displaystyle \\left[1, 2, \\frac{7}{2}, \\frac{26}{3}, \\frac{749}{24}, \\frac{8843}{60}, \\frac{614227}{720}, \\frac{3669289}{630}, \\frac{1844279257}{40320}, \\frac{10519507811}{25920}\\right]$"
      ],
      "text/plain": [
       "[1,\n",
       " 2,\n",
       " 7/2,\n",
       " 26/3,\n",
       " 749/24,\n",
       " 8843/60,\n",
       " 614227/720,\n",
       " 3669289/630,\n",
       " 1844279257/40320,\n",
       " 10519507811/25920]"
      ]
     },
     "metadata": {},
     "output_type": "display_data"
    },
    {
     "data": {
      "text/html": [
       "<html>\\(\\displaystyle \\left[0, 0, 0, 0, 0, 0, 0, 0, 0, 0\\right]\\)</html>"
      ],
      "text/latex": [
       "$\\displaystyle \\left[0, 0, 0, 0, 0, 0, 0, 0, 0, 0\\right]$"
      ],
      "text/plain": [
       "[0, 0, 0, 0, 0, 0, 0, 0, 0, 0]"
      ]
     },
     "execution_count": 67,
     "metadata": {},
     "output_type": "execute_result"
    }
   ],
   "source": [
    "non_liouv = lambda n : sum(QQ(factorial(k)/factorial(n-k)) for k in range(n+1));\n",
    "show([non_liouv(i) for i in range(10)])\n",
    "# Recurrence for the sequence\n",
    "L = (x+3)*E^3 - (x^2 + 6*x + 10)*E^2 + (2*x + 5)*E - 1\n",
    "[apply_operator_to_seq(L, non_liouv)(i) for i in range(10)]"
   ]
  },
  {
   "cell_type": "code",
   "execution_count": 68,
   "id": "a506999e",
   "metadata": {},
   "outputs": [
    {
     "data": {
      "text/html": [
       "<html>\\(\\displaystyle \\left(x + 5\\right) E^{5} + \\left(-x^{2} - 6 x - 9\\right) E^{4} + \\left(-4 x^{2} - 25 x - 40\\right) E^{3} + \\left(-6 x^{2} - 31 x - 41\\right) E^{2} + \\left(-4 x^{2} - 16 x - 16\\right) E - x^{2} - 3 x - 2\\)</html>"
      ],
      "text/latex": [
       "$\\displaystyle \\left(x + 5\\right) E^{5} + \\left(-x^{2} - 6 x - 9\\right) E^{4} + \\left(-4 x^{2} - 25 x - 40\\right) E^{3} + \\left(-6 x^{2} - 31 x - 41\\right) E^{2} + \\left(-4 x^{2} - 16 x - 16\\right) E - x^{2} - 3 x - 2$"
      ],
      "text/plain": [
       "(x + 5)*E^5 + (-x^2 - 6*x - 9)*E^4 + (-4*x^2 - 25*x - 40)*E^3 + (-6*x^2 - 31*x - 41)*E^2 + (-4*x^2 - 16*x - 16)*E - x^2 - 3*x - 2"
      ]
     },
     "metadata": {},
     "output_type": "display_data"
    },
    {
     "data": {
      "text/html": [
       "<html>\\(\\displaystyle \\left[1, 1, \\frac{1}{2}, \\frac{19}{6}, \\frac{253}{24}, \\frac{6241}{120}, \\frac{219661}{720}, \\frac{10574971}{5040}, \\frac{667791769}{40320}, \\frac{53505430273}{362880}\\right]\\)</html>"
      ],
      "text/latex": [
       "$\\displaystyle \\left[1, 1, \\frac{1}{2}, \\frac{19}{6}, \\frac{253}{24}, \\frac{6241}{120}, \\frac{219661}{720}, \\frac{10574971}{5040}, \\frac{667791769}{40320}, \\frac{53505430273}{362880}\\right]$"
      ],
      "text/plain": [
       "[1,\n",
       " 1,\n",
       " 1/2,\n",
       " 19/6,\n",
       " 253/24,\n",
       " 6241/120,\n",
       " 219661/720,\n",
       " 10574971/5040,\n",
       " 667791769/40320,\n",
       " 53505430273/362880]"
      ]
     },
     "execution_count": 68,
     "metadata": {},
     "output_type": "execute_result"
    }
   ],
   "source": [
    "# Getting recurrence by adding a binomial factor\n",
    "L2 = ass_recurrence(L, B, OE); show(L2)\n",
    "# Getting the solution of the sequence\n",
    "non_liouv_bin = solution(L2,get_converted_init(non_liouv, B, 6)) \n",
    "[non_liouv_bin(i) for i in range(10)]"
   ]
  },
  {
   "cell_type": "code",
   "execution_count": 69,
   "id": "37481df6",
   "metadata": {},
   "outputs": [
    {
     "data": {
      "text/html": [
       "<html>\\(\\displaystyle \\left(x + 5\\right) E^{5} + \\left(-x^{2} - 6 x - 9\\right) E^{4} + \\left(-4 x^{2} - 25 x - 40\\right) E^{3} + \\left(-6 x^{2} - 31 x - 41\\right) E^{2} + \\left(-4 x^{2} - 16 x - 16\\right) E - x^{2} - 3 x - 2\\)</html>"
      ],
      "text/latex": [
       "$\\displaystyle \\left(x + 5\\right) E^{5} + \\left(-x^{2} - 6 x - 9\\right) E^{4} + \\left(-4 x^{2} - 25 x - 40\\right) E^{3} + \\left(-6 x^{2} - 31 x - 41\\right) E^{2} + \\left(-4 x^{2} - 16 x - 16\\right) E - x^{2} - 3 x - 2$"
      ],
      "text/plain": [
       "(x + 5)*E^5 + (-x^2 - 6*x - 9)*E^4 + (-4*x^2 - 25*x - 40)*E^3 + (-6*x^2 - 31*x - 41)*E^2 + (-4*x^2 - 16*x - 16)*E - x^2 - 3*x - 2"
      ]
     },
     "metadata": {},
     "output_type": "display_data"
    },
    {
     "data": {
      "text/html": [
       "<html>\\(\\displaystyle \\left[1, 0, -\\frac{1}{2}, \\frac{11}{3}, -\\frac{17}{8}, \\frac{2617}{120}, \\frac{56437}{720}, \\frac{3045667}{5040}, \\frac{189260353}{40320}, \\frac{15193219561}{362880}\\right]\\)</html>"
      ],
      "text/latex": [
       "$\\displaystyle \\left[1, 0, -\\frac{1}{2}, \\frac{11}{3}, -\\frac{17}{8}, \\frac{2617}{120}, \\frac{56437}{720}, \\frac{3045667}{5040}, \\frac{189260353}{40320}, \\frac{15193219561}{362880}\\right]$"
      ],
      "text/plain": [
       "[1,\n",
       " 0,\n",
       " -1/2,\n",
       " 11/3,\n",
       " -17/8,\n",
       " 2617/120,\n",
       " 56437/720,\n",
       " 3045667/5040,\n",
       " 189260353/40320,\n",
       " 15193219561/362880]"
      ]
     },
     "execution_count": 69,
     "metadata": {},
     "output_type": "execute_result"
    }
   ],
   "source": [
    "# Getting recurrence by adding a second binomial factor\n",
    "L3 = ass_recurrence(L, B, OE); show(L3)\n",
    "# Getting the solution of the sequence\n",
    "non_liouv_bin_bin = solution(L2,get_converted_init(non_liouv_bin, B, 6)) \n",
    "[non_liouv_bin_bin(i) for i in range(10)]"
   ]
  },
  {
   "cell_type": "code",
   "execution_count": 74,
   "id": "f4e90fec",
   "metadata": {},
   "outputs": [
    {
     "data": {
      "text/html": [
       "<html>\\(\\displaystyle \\left(-x - 5\\right) E^{5} + \\left(x^{2} + 6 x + 9\\right) E^{4} + \\left(4 x^{2} + 25 x + 40\\right) E^{3} + \\left(6 x^{2} + 31 x + 41\\right) E^{2} + \\left(4 x^{2} + 16 x + 16\\right) E + x^{2} + 3 x + 2\\)</html>"
      ],
      "text/latex": [
       "$\\displaystyle \\left(-x - 5\\right) E^{5} + \\left(x^{2} + 6 x + 9\\right) E^{4} + \\left(4 x^{2} + 25 x + 40\\right) E^{3} + \\left(6 x^{2} + 31 x + 41\\right) E^{2} + \\left(4 x^{2} + 16 x + 16\\right) E + x^{2} + 3 x + 2$"
      ],
      "text/plain": [
       "(-x - 5)*E^5 + (x^2 + 6*x + 9)*E^4 + (4*x^2 + 25*x + 40)*E^3 + (6*x^2 + 31*x + 41)*E^2 + (4*x^2 + 16*x + 16)*E + x^2 + 3*x + 2"
      ]
     },
     "execution_count": 74,
     "metadata": {},
     "output_type": "execute_result"
    }
   ],
   "source": [
    "guess([non_liouv_bin_bin(i) for i in range(50)], OE)"
   ]
  },
  {
   "cell_type": "markdown",
   "id": "ae45088d",
   "metadata": {},
   "source": [
    "### Trying to use guess to obtain an example"
   ]
  },
  {
   "cell_type": "code",
   "execution_count": 203,
   "id": "1848ce33",
   "metadata": {},
   "outputs": [],
   "source": [
    "a = -1; b = -2; c = -3\n",
    "seq = lambda n : solution(E^2 - (x-a)*(x-b)*E - (x-a)*(x-b)*(x-c), [1,1])(n)\n",
    "bin_seq = lambda n : sum(binomial(n,k)*seq(k) for k in range(n+1))\n",
    "bin_bin_seq = lambda n : sum(binomial(n,k)*bin_seq(k) for k in range(n+1))"
   ]
  },
  {
   "cell_type": "code",
   "execution_count": 204,
   "id": "62dfc7c5",
   "metadata": {},
   "outputs": [
    {
     "data": {
      "text/html": [
       "<html>\\(\\displaystyle \\left[1, 1, 8, 72, 1344, 35520, 1347840, 68544000, 4517775360, 374631505920\\right]\\)</html>"
      ],
      "text/latex": [
       "$\\displaystyle \\left[1, 1, 8, 72, 1344, 35520, 1347840, 68544000, 4517775360, 374631505920\\right]$"
      ],
      "text/plain": [
       "[1, 1, 8, 72, 1344, 35520, 1347840, 68544000, 4517775360, 374631505920]"
      ]
     },
     "execution_count": 204,
     "metadata": {},
     "output_type": "execute_result"
    }
   ],
   "source": [
    "[seq(i) for i in range(10)]"
   ]
  },
  {
   "cell_type": "code",
   "execution_count": 205,
   "id": "d06cb00d",
   "metadata": {},
   "outputs": [
    {
     "data": {
      "text/html": [
       "<html>\\(\\displaystyle \\left[1, 3, 16, 140, 2160, 52592, 1868416, 90820032, 5783000320, 466805000960, 46565899505664, 5624284106058752, 808786822879473664, 136539590048636497920, 26739228138809412812800, 6012248327840046068645888, 1538283273936198105335660544, 444360163131793080333495369728, 143917487573718575394901511372800, 51937374756541740876020471330242560\\right]\\)</html>"
      ],
      "text/latex": [
       "$\\displaystyle \\left[1, 3, 16, 140, 2160, 52592, 1868416, 90820032, 5783000320, 466805000960, 46565899505664, 5624284106058752, 808786822879473664, 136539590048636497920, 26739228138809412812800, 6012248327840046068645888, 1538283273936198105335660544, 444360163131793080333495369728, 143917487573718575394901511372800, 51937374756541740876020471330242560\\right]$"
      ],
      "text/plain": [
       "[1,\n",
       " 3,\n",
       " 16,\n",
       " 140,\n",
       " 2160,\n",
       " 52592,\n",
       " 1868416,\n",
       " 90820032,\n",
       " 5783000320,\n",
       " 466805000960,\n",
       " 46565899505664,\n",
       " 5624284106058752,\n",
       " 808786822879473664,\n",
       " 136539590048636497920,\n",
       " 26739228138809412812800,\n",
       " 6012248327840046068645888,\n",
       " 1538283273936198105335660544,\n",
       " 444360163131793080333495369728,\n",
       " 143917487573718575394901511372800,\n",
       " 51937374756541740876020471330242560]"
      ]
     },
     "execution_count": 205,
     "metadata": {},
     "output_type": "execute_result"
    }
   ],
   "source": [
    "[bin_bin_seq(i) for i in range(20)]"
   ]
  },
  {
   "cell_type": "markdown",
   "id": "528bf5b8",
   "metadata": {},
   "source": [
    "## The example [A001472](https://oeis.org/A001472)\n",
    "\n",
    "This sequence starts with the terms $1, 1, 2, 4, 16, 56, 256, 1072, 6224, 33616, 218656,\\ldots$ and counts the number of degree-$n$ permutations of order dividing 4. It satisfies a recurrence: \n",
    "$$a(0)=1, a(1)=1, a(2)=2, a(3)=4,$$\n",
    "$$a(n) = a(n-1) + (n-1)a(n-2) + (n^3-6n^2+11n-6)a(n-4)$$"
   ]
  },
  {
   "cell_type": "code",
   "execution_count": 34,
   "id": "f34bd708",
   "metadata": {},
   "outputs": [
    {
     "data": {
      "text/html": [
       "<html>\\(\\displaystyle \\left[1, 1, 2, 4, 16, 56, 256, 1072, 6224, 33616, 218656\\right]\\)</html>"
      ],
      "text/latex": [
       "$\\displaystyle \\left[1, 1, 2, 4, 16, 56, 256, 1072, 6224, 33616, 218656\\right]$"
      ],
      "text/plain": [
       "[1, 1, 2, 4, 16, 56, 256, 1072, 6224, 33616, 218656]"
      ]
     },
     "execution_count": 34,
     "metadata": {},
     "output_type": "execute_result"
    }
   ],
   "source": [
    "L001472 = E^4 - E^3 - (x+3)*E^2 - ((x+4)^3 - 6*(x+4)^2 + 11*(x+4) - 6)\n",
    "A001472 = solution(L001472, [1,1,2,4])\n",
    "[A001472(i) for i in range(11)]"
   ]
  },
  {
   "cell_type": "code",
   "execution_count": 35,
   "id": "d082fc89",
   "metadata": {},
   "outputs": [],
   "source": [
    "seq, op = explore_example(L001472, [1,1,2,4], OE, B, B)"
   ]
  },
  {
   "cell_type": "code",
   "execution_count": 36,
   "id": "f5d7c41f",
   "metadata": {},
   "outputs": [
    {
     "data": {
      "text/html": [
       "<html>\\(\\displaystyle \\left[1, 3, 10, 36, 144, 648, 3264, 18000, 107088, 682992, 4657824, 33763392, 258543360, 2082340224, 17600910336, 155694742272, 1436921254656, 13798542792960, 137635003878912, 1423560240073728\\right]\\)</html>"
      ],
      "text/latex": [
       "$\\displaystyle \\left[1, 3, 10, 36, 144, 648, 3264, 18000, 107088, 682992, 4657824, 33763392, 258543360, 2082340224, 17600910336, 155694742272, 1436921254656, 13798542792960, 137635003878912, 1423560240073728\\right]$"
      ],
      "text/plain": [
       "[1,\n",
       " 3,\n",
       " 10,\n",
       " 36,\n",
       " 144,\n",
       " 648,\n",
       " 3264,\n",
       " 18000,\n",
       " 107088,\n",
       " 682992,\n",
       " 4657824,\n",
       " 33763392,\n",
       " 258543360,\n",
       " 2082340224,\n",
       " 17600910336,\n",
       " 155694742272,\n",
       " 1436921254656,\n",
       " 13798542792960,\n",
       " 137635003878912,\n",
       " 1423560240073728]"
      ]
     },
     "execution_count": 36,
     "metadata": {},
     "output_type": "execute_result"
    }
   ],
   "source": [
    "[seq(i) for i in range(20)]"
   ]
  },
  {
   "cell_type": "markdown",
   "id": "fd8f6787",
   "metadata": {},
   "source": [
    "This sequence has a formula given as follows:\n",
    "\n",
    "$$a(n) = n!\\sum_{k=1}^n \\frac{1}{k!}\\left(\\sum_{j=\\lfloor(4*k-n)/3\\rfloor}^k\\binom{k}{j} \\binom{j}{n-4k+3j}(1/2)^{n-4k+3j}(1/4)^{k-j}\\right)$$"
   ]
  },
  {
   "cell_type": "code",
   "execution_count": 219,
   "id": "01eda6fd",
   "metadata": {},
   "outputs": [
    {
     "data": {
      "text/html": [
       "<html>\\(\\displaystyle E^{4} - E^{3} + \\left(-x - 3\\right) E^{2} - x^{3} - 6 x^{2} - 11 x - 6\\)</html>"
      ],
      "text/latex": [
       "$\\displaystyle E^{4} - E^{3} + \\left(-x - 3\\right) E^{2} - x^{3} - 6 x^{2} - 11 x - 6$"
      ],
      "text/plain": [
       "E^4 - E^3 + (-x - 3)*E^2 - x^3 - 6*x^2 - 11*x - 6"
      ]
     },
     "metadata": {},
     "output_type": "display_data"
    },
    {
     "data": {
      "text/html": [
       "<html>\\(\\displaystyle -E^{4} + 2 E^{3} + \\left(x + 3\\right) E^{2} + x^{3} + 6 x^{2} + 11 x + 6\\)</html>"
      ],
      "text/latex": [
       "$\\displaystyle -E^{4} + 2 E^{3} + \\left(x + 3\\right) E^{2} + x^{3} + 6 x^{2} + 11 x + 6$"
      ],
      "text/plain": [
       "-E^4 + 2*E^3 + (x + 3)*E^2 + x^3 + 6*x^2 + 11*x + 6"
      ]
     },
     "metadata": {},
     "output_type": "display_data"
    },
    {
     "name": "stdout",
     "output_type": "stream",
     "text": [
      "E^{4} - 3 E^{3} + \\left(-n - 3\\right) E^{2} - n^{3} - 6 n^{2} - 11 n - 6\n"
     ]
    },
    {
     "data": {
      "text/html": [
       "<html>\\(\\displaystyle \\left[1, 3, 10, 36, 144, 648, 3264, 18000, 107088, 682992\\right]\\)</html>"
      ],
      "text/latex": [
       "$\\displaystyle \\left[1, 3, 10, 36, 144, 648, 3264, 18000, 107088, 682992\\right]$"
      ],
      "text/plain": [
       "[1, 3, 10, 36, 144, 648, 3264, 18000, 107088, 682992]"
      ]
     },
     "execution_count": 219,
     "metadata": {},
     "output_type": "execute_result"
    }
   ],
   "source": [
    "bin_A001472 = lambda n : sum(binomial(n,k)*A001472(k) for k in range(n+1))\n",
    "Lbin_001472 = guess([bin_A001472(i) for i in range(50)], OE)\n",
    "bin_bin_A001472 = lambda n : sum(binomial(n,k)*bin_A001472(k) for k in range(n+1))\n",
    "Lbin_bin_001472 = guess([bin_bin_A001472(i) for i in range(50)], OE)\n",
    "show(L001472)\n",
    "show(Lbin_001472)\n",
    "print(latex(-Lbin_bin_001472).replace(\"x\", \"n\"))\n",
    "[bin_bin_A001472(i) for i in range(10)]"
   ]
  },
  {
   "cell_type": "markdown",
   "id": "8a15f506",
   "metadata": {},
   "source": [
    "#### Writing the example\n",
    "\n",
    "Consider the sequence $(1,3,10,36,144,648,3264,18000,107088,682992,\\ldots)$ defined as solution to the recurrence equation:\n",
    "$$y_{n+4} - 3 y_{n+3} + \\left(-n - 3\\right) y_{n+2} - (n^{3} + 6 n^{2} + 11 n + 6)y_n = 0$$\n",
    "\n",
    "This sequence does not show up in OEIS, but if we write it in the following form:\n",
    "$$y_n = \\sum_{k=0}^n c_k \\binom{n}{k},$$\n",
    "then the sequence $(c_n)_n$ also satisfies a recurrence equation given by:"
   ]
  },
  {
   "cell_type": "code",
   "execution_count": 229,
   "id": "728377e3",
   "metadata": {},
   "outputs": [
    {
     "data": {
      "text/html": [
       "<html>\\(\\displaystyle E^{7} + E^{6} + \\left(-x - 9\\right) E^{5} + \\left(-3 x - 20\\right) E^{4} + \\left(-x^{3} - 15 x^{2} - 77 x - 134\\right) E^{3} + \\left(-3 x^{3} - 36 x^{2} - 142 x - 183\\right) E^{2} + \\left(-3 x^{3} - 27 x^{2} - 78 x - 72\\right) E - x^{3} - 6 x^{2} - 11 x - 6\\)</html>"
      ],
      "text/latex": [
       "$\\displaystyle E^{7} + E^{6} + \\left(-x - 9\\right) E^{5} + \\left(-3 x - 20\\right) E^{4} + \\left(-x^{3} - 15 x^{2} - 77 x - 134\\right) E^{3} + \\left(-3 x^{3} - 36 x^{2} - 142 x - 183\\right) E^{2} + \\left(-3 x^{3} - 27 x^{2} - 78 x - 72\\right) E - x^{3} - 6 x^{2} - 11 x - 6$"
      ],
      "text/plain": [
       "E^7 + E^6 + (-x - 9)*E^5 + (-3*x - 20)*E^4 + (-x^3 - 15*x^2 - 77*x - 134)*E^3 + (-3*x^3 - 36*x^2 - 142*x - 183)*E^2 + (-3*x^3 - 27*x^2 - 78*x - 72)*E - x^3 - 6*x^2 - 11*x - 6"
      ]
     },
     "metadata": {},
     "output_type": "display_data"
    },
    {
     "data": {
      "text/html": [
       "<html>\\(\\displaystyle \\left[1, 2, 5, 14, 49, 202, 949, 4790, 26513, 159218\\right]\\)</html>"
      ],
      "text/latex": [
       "$\\displaystyle \\left[1, 2, 5, 14, 49, 202, 949, 4790, 26513, 159218\\right]$"
      ],
      "text/plain": [
       "[1, 2, 5, 14, 49, 202, 949, 4790, 26513, 159218]"
      ]
     },
     "execution_count": 229,
     "metadata": {},
     "output_type": "execute_result"
    }
   ],
   "source": [
    "equ_y = -Lbin_bin_001472\n",
    "seq_y = solution(equ_y, [1,3,10,36, 144])\n",
    "equ_c = ass_recurrence(equ_y, B, OE); show(equ_c)\n",
    "seq_c = solution(equ_c,get_converted_init(seq_y, B, 7)) \n",
    "[seq_c(i) for i in range(10)]"
   ]
  },
  {
   "cell_type": "markdown",
   "id": "8a009fc9",
   "metadata": {},
   "source": [
    "This sequence does not appear in OEIS still. The order has gotten bigger and we still have no information. We can try to apply the transformation once again:\n",
    "$$c_n = \\sum_{k=0}^nd_k\\binom{n}{k}.$$ \n",
    "This sequence $(d_n)_n$ is also D-finite. Let see the recurrence and solution:"
   ]
  },
  {
   "cell_type": "code",
   "execution_count": 232,
   "id": "e67d8af0",
   "metadata": {},
   "outputs": [
    {
     "data": {
      "text/html": [
       "<html>\\(\\displaystyle E^{10} + 8 E^{9} + \\left(-x + 15\\right) E^{8} + \\left(-9 x - 42\\right) E^{7} + \\left(-x^{3} - 24 x^{2} - 224 x - 732\\right) E^{6} + \\left(-9 x^{3} - 189 x^{2} - 1377 x - 3432\\right) E^{5} + \\left(-33 x^{3} - 594 x^{2} - 3597 x - 7288\\right) E^{4} + \\left(-63 x^{3} - 945 x^{2} - 4698 x - 7712\\right) E^{3} + \\left(-66 x^{3} - 792 x^{2} - 3110 x - 3984\\right) E^{2} + \\left(-36 x^{3} - 324 x^{2} - 936 x - 864\\right) E - 8 x^{3} - 48 x^{2} - 88 x - 48\\)</html>"
      ],
      "text/latex": [
       "$\\displaystyle E^{10} + 8 E^{9} + \\left(-x + 15\\right) E^{8} + \\left(-9 x - 42\\right) E^{7} + \\left(-x^{3} - 24 x^{2} - 224 x - 732\\right) E^{6} + \\left(-9 x^{3} - 189 x^{2} - 1377 x - 3432\\right) E^{5} + \\left(-33 x^{3} - 594 x^{2} - 3597 x - 7288\\right) E^{4} + \\left(-63 x^{3} - 945 x^{2} - 4698 x - 7712\\right) E^{3} + \\left(-66 x^{3} - 792 x^{2} - 3110 x - 3984\\right) E^{2} + \\left(-36 x^{3} - 324 x^{2} - 936 x - 864\\right) E - 8 x^{3} - 48 x^{2} - 88 x - 48$"
      ],
      "text/plain": [
       "E^10 + 8*E^9 + (-x + 15)*E^8 + (-9*x - 42)*E^7 + (-x^3 - 24*x^2 - 224*x - 732)*E^6 + (-9*x^3 - 189*x^2 - 1377*x - 3432)*E^5 + (-33*x^3 - 594*x^2 - 3597*x - 7288)*E^4 + (-63*x^3 - 945*x^2 - 4698*x - 7712)*E^3 + (-66*x^3 - 792*x^2 - 3110*x - 3984)*E^2 + (-36*x^3 - 324*x^2 - 936*x - 864)*E - 8*x^3 - 48*x^2 - 88*x - 48"
      ]
     },
     "metadata": {},
     "output_type": "display_data"
    },
    {
     "data": {
      "text/html": [
       "<html>\\(\\displaystyle \\left[1, 1, 2, 4, 16, 56, 256, 1072, 6224, 33616\\right]\\)</html>"
      ],
      "text/latex": [
       "$\\displaystyle \\left[1, 1, 2, 4, 16, 56, 256, 1072, 6224, 33616\\right]$"
      ],
      "text/plain": [
       "[1, 1, 2, 4, 16, 56, 256, 1072, 6224, 33616]"
      ]
     },
     "execution_count": 232,
     "metadata": {},
     "output_type": "execute_result"
    }
   ],
   "source": [
    "equ_d = ass_recurrence(equ_c, B, OE); show(equ_d)\n",
    "seq_d = solution(equ_d,get_converted_init(seq_c, B, 10)) \n",
    "[seq_d(i) for i in range(10)]"
   ]
  },
  {
   "cell_type": "markdown",
   "id": "59619a48",
   "metadata": {},
   "source": [
    "This sequence does appear in OEIS as the sequence [A001472](https://oeis.org/A001472). Sequence A001472 is D-finite with recurrence\n",
    "$$a(n) = a(n-1) + (n-1)a(n-2) + (n^3-6n^2+11n-6)a(n-4).$$\n",
    "Using closure properties, we can check if these two sequences are the same:"
   ]
  },
  {
   "cell_type": "code",
   "execution_count": 240,
   "id": "fe9c63c5",
   "metadata": {},
   "outputs": [
    {
     "data": {
      "text/html": [
       "<html>\\(\\displaystyle E^{10} + 8 E^{9} + \\left(-x + 15\\right) E^{8} + \\left(-9 x - 42\\right) E^{7} + \\left(-x^{3} - 24 x^{2} - 224 x - 732\\right) E^{6} + \\left(-9 x^{3} - 189 x^{2} - 1377 x - 3432\\right) E^{5} + \\left(-33 x^{3} - 594 x^{2} - 3597 x - 7288\\right) E^{4} + \\left(-63 x^{3} - 945 x^{2} - 4698 x - 7712\\right) E^{3} + \\left(-66 x^{3} - 792 x^{2} - 3110 x - 3984\\right) E^{2} + \\left(-36 x^{3} - 324 x^{2} - 936 x - 864\\right) E - 8 x^{3} - 48 x^{2} - 88 x - 48\\)</html>"
      ],
      "text/latex": [
       "$\\displaystyle E^{10} + 8 E^{9} + \\left(-x + 15\\right) E^{8} + \\left(-9 x - 42\\right) E^{7} + \\left(-x^{3} - 24 x^{2} - 224 x - 732\\right) E^{6} + \\left(-9 x^{3} - 189 x^{2} - 1377 x - 3432\\right) E^{5} + \\left(-33 x^{3} - 594 x^{2} - 3597 x - 7288\\right) E^{4} + \\left(-63 x^{3} - 945 x^{2} - 4698 x - 7712\\right) E^{3} + \\left(-66 x^{3} - 792 x^{2} - 3110 x - 3984\\right) E^{2} + \\left(-36 x^{3} - 324 x^{2} - 936 x - 864\\right) E - 8 x^{3} - 48 x^{2} - 88 x - 48$"
      ],
      "text/plain": [
       "E^10 + 8*E^9 + (-x + 15)*E^8 + (-9*x - 42)*E^7 + (-x^3 - 24*x^2 - 224*x - 732)*E^6 + (-9*x^3 - 189*x^2 - 1377*x - 3432)*E^5 + (-33*x^3 - 594*x^2 - 3597*x - 7288)*E^4 + (-63*x^3 - 945*x^2 - 4698*x - 7712)*E^3 + (-66*x^3 - 792*x^2 - 3110*x - 3984)*E^2 + (-36*x^3 - 324*x^2 - 936*x - 864)*E - 8*x^3 - 48*x^2 - 88*x - 48"
      ]
     },
     "metadata": {},
     "output_type": "display_data"
    },
    {
     "data": {
      "text/html": [
       "<html>\\(\\displaystyle \\left[0, 0, 0, 0, 0, 0, 0, 0, 0, 0, 0\\right]\\)</html>"
      ],
      "text/latex": [
       "$\\displaystyle \\left[0, 0, 0, 0, 0, 0, 0, 0, 0, 0, 0\\right]$"
      ],
      "text/plain": [
       "[0, 0, 0, 0, 0, 0, 0, 0, 0, 0, 0]"
      ]
     },
     "execution_count": 240,
     "metadata": {},
     "output_type": "execute_result"
    }
   ],
   "source": [
    "L001472 = E^4 - E^3 - (x+3)*E^2 - ((x+4)^3 - 6*(x+4)^2 + 11*(x+4) - 6)\n",
    "A001472 = solution(L001472, [1,1,2,4])\n",
    "diff_equ = L001472.lclm(equ_d)\n",
    "diff_seq = solution(diff_equ, [A001472(i) - seq_d(i) for i in range(diff_equ.order()+5)])\n",
    "show(diff_equ)\n",
    "[diff_seq(i) for i in range(diff_equ.order()+1)]"
   ]
  },
  {
   "cell_type": "markdown",
   "id": "f119fe7f",
   "metadata": {},
   "source": [
    "Sequnce A001472 has a closed form formula. Hence, we can write the solutions to our original equation\n",
    "$$y_{n+4} - 3 y_{n+3} + \\left(-n - 3\\right) y_{n+2} - (n^{3} + 6 n^{2} + 11 n + 6)y_n = 0$$\n",
    "with the following formula:\n",
    "$$y_n = \\sum_{k=0}^n \n",
    "    \\sum_{l=0}^k \n",
    "        \\left(l!\\sum_{p=1}^l \n",
    "            \\frac{1}{p!}\\left(\n",
    "                \\sum_{j=\\lfloor(4p-l)/3\\rfloor}^p\\binom{p}{j} \\binom{j}{l-4p+3j}(1/2)^{l-4p+3j}(1/4)^{p-j}\n",
    "            \\right)\n",
    "        \\right)\n",
    "\\binom{k}{l}\\binom{n}{k}$$"
   ]
  },
  {
   "cell_type": "code",
   "execution_count": 9,
   "id": "3e20bf34",
   "metadata": {},
   "outputs": [
    {
     "data": {
      "text/plain": [
       "True"
      ]
     },
     "execution_count": 9,
     "metadata": {},
     "output_type": "execute_result"
    }
   ],
   "source": [
    "sum(primes_first_n(8)).divides(prod(primes_first_n(8)))"
   ]
  },
  {
   "cell_type": "code",
   "execution_count": null,
   "id": "51089e32",
   "metadata": {},
   "outputs": [],
   "source": []
  }
 ],
 "metadata": {
  "kernelspec": {
   "display_name": "SageMath 9.6",
   "language": "sage",
   "name": "sagemath"
  },
  "language_info": {
   "codemirror_mode": {
    "name": "ipython",
    "version": 3
   },
   "file_extension": ".py",
   "mimetype": "text/x-python",
   "name": "python",
   "nbconvert_exporter": "python",
   "pygments_lexer": "ipython3",
   "version": "3.8.10"
  }
 },
 "nbformat": 4,
 "nbformat_minor": 5
}
