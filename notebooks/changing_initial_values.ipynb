{
 "cells": [
  {
   "cell_type": "code",
   "execution_count": 1,
   "metadata": {},
   "outputs": [],
   "source": [
    "from ajpastor.dd_functions import *\n",
    "from pseries_basis import *\n",
    "from pseries_basis.misc.ore import get_differential_algebra, solution, required_init\n",
    "%display latex"
   ]
  },
  {
   "cell_type": "markdown",
   "metadata": {},
   "source": [
    "# Changing initial values after compatibility\n",
    "$\\def\\kk{\\mathbb{K}} \\def\\nn{\\mathbb{N}} \\def\\cB{\\mathcal{B}} \\def\\cR{\\mathcal{R}}$\n",
    "In `pseries_basis` we work with formal power series $\\kk[[x]]$ and compatible bases. A basis $\\cB = \\{P_k(x)\\}_k$ of the formal power series is said to be compatible with a linear operator $L$ if it satisfies:\n",
    "$$L P_k(x) = \\sum_{i=-A}^B \\alpha_{i,k} P_{k+i}(x).$$\n",
    "\n",
    "When we have a solution $y(x)$ for the equation $L y(x) = 0$, and $L$ is compatible with $\\cB$, then we can write $y(x) = \\sum_k c_k P_k(x)$ and the sequence $c_k$ satisfies a D-finite equation: $$\\cR_\\cB(L) \\cdot c_k = 0.$$\n",
    "\n",
    "When working with a D-finite sequence or function, we provide a difference/differential operator $L$ such that $L y(x) = 0$ and some initial conditions (the values $y(0), y'(0), y''(0),\\ldots$ in the differential case and $y(0), y(1), y(2), \\ldots$ in the difference case). Then, it is natural to ask, given a basis $\\cB$ and a D-finite sequence, *can we provide a full description of the associated sequence $(c_k)_k$?* Or, equivalently, **can we compute the initial terms of the sequence $(c_k)_k$ to define this sequence together with the operator $\\cR_\\cB(L)$?**\n",
    "\n",
    "This file contains an explanation on how we can do this and the results is implemented in the method `evaluation_to_self` of the class `PolyBasis`."
   ]
  },
  {
   "cell_type": "markdown",
   "metadata": {},
   "source": [
    "## **1. Relations among cannonical basis**\n",
    "\n",
    "The main structure for the package `pseries_basis` is the ring of formal power series $\\kk[[x]]$. This is equivalent to analyze the ring of sequences $\\kk^\\nn$. The main basis in $\\kk[[x]]$ as a $\\kk$-vector space is the power basis $\\{1, x, x^2, \\ldots\\}$. However, considering the main isomorphism between the sequences and formal power series:\n",
    "$$\\begin{array}{rrcl}\\phi: & \\kk^\\nn & \\longleftrightarrow & \\kk[[x]]\\\\ & (a_n)_n & \\mapsto & \\sum_n \\left(a_n x^n\\right)\\end{array}.$$\n",
    "In this relation among the two rings, both cannonical bases coincide. But there is another map between these two rings (or at least part of $\\kk[[x]]$) which is useful for some interpretations of solutions for lienar recurrences:\n",
    "$$\\begin{array}{rrcl}\\psi: & \\kk[[x]] & \\longleftrightarrow & \\kk^\\nn\\\\ & f(x) & \\mapsto & (f(n))_n\\end{array}.$$\n",
    "For this relation, we have that the power basis is not map to the cannonical basis anymore:\n",
    "* $1 \\mapsto (1,1,1,1,\\ldots)$.\n",
    "* $x \\mapsto (1,2,3,4,\\ldots)$.\n",
    "* $x^2 \\mapsto (1,4,9,16,\\ldots)$.\n",
    "* $x^3 \\mapsto (1,8,27,64,\\ldots)$.\n",
    "\n",
    "We can see that the relation between both basis is now **not finite**. This means that the change of coordinate may not be possible without extra conditions.\n",
    "\n",
    "In both cases the relations between the main basis of both rings are different and understanding this relation between the sequence and the formal power series is critical to relate with the initial values of the associated recurrence $(c_k)_k$."
   ]
  },
  {
   "cell_type": "markdown",
   "metadata": {},
   "source": [
    "## **2. The associated system**\n",
    "\n",
    "In the main theorem of [the paper](add_link), where the isomorphism between the compatible operators $L$ with a basis $\\cB$ and the recurrence operators $\\mathcal{E}$ was proven, we applied the compatible formula (see above) with a power series expansion w.r.t. $\\cB$ and recombine everything to botain the recurrence $\\cR_\\cB(L)$. To study the first terms of the new sequence (the expansion w.r.t. $\\cB$), we need to study a system of equations. These equations depends highly on how the sequence is defined in $\\kk[[x]]$:\n",
    "\n",
    "### *2.1 Derivation case*\n",
    "\n",
    "When we have a linear differential operator $L$ and consider solutions $y(x) \\in \\kk[[x]]$, we usually provide the following iniital conditions:\n",
    "$$y(0), y'(0), y''(0), \\ldots$$\n",
    "\n",
    "This is related with the fact that we are considering the first isomorphim (see $\\phi$). Let us consider an infinite matrix $M$ where the $i$-th row is the expansion of $\\phi^{-1}(P_k(x))$ (i.e., their sequence associates). If $P_k(x) = \\sum_{n} P_{k,n} x^n$, then:\n",
    "$$M = \\begin{pmatrix}P_{0,0} & P_{0,1} & P_{0,2} & \\ldots\\\\ P_{1,0} & P_{1,1} & P_{1,2} & \\ldots \\\\ P_{2,0} & P_{2,1} & P_{2,2} & \\ldots\\\\ P_{3,0} & P_{3,1} & P_{3,2} & \\ldots\\\\ \\vdots & \\vdots & \\vdots & \\ddots\\end{pmatrix}.$$\n",
    "\n",
    "Hence, if we write $\\mathbf{y} = (y_0, y_1,\\ldots) = \\phi^{-1}(y(x))$ and $\\mathbf{c} = (c_0,c_1,\\ldots)$ where $y(x) = \\sum_k c_k P_k(x)$, we have the following identity:\n",
    "$$\\mathbf{y} = \\mathbf{c}M.$$\n",
    "\n",
    "**Definitions** Let $\\cB = \\{P_k(x)\\}_k$ be a basis of $\\kk[[x]]$. We say:\n",
    " * $\\cB$ is a **polynomial basis** if $P_k(x) \\in \\kk[x]$ with degree $k$.\n",
    " * $\\cB$ is an **order basis** if the order (as a formal power series) of $P_k(x)$ is exactly $k$.\n",
    "    \n",
    "**Remark:** If $\\cB$ is a polynomial (resp. an order basis), then $M$ has a lower (resp. upper) triangular shape.\n",
    "\n",
    "**Key feature:** In order to completely compute the values $(c_0,\\ldots,c_k)$ with finitely many data we need that the matrix $M$ is *quasi*-upper triangular. This mean that, for all $k \\in \\nn$ there is a value $f(n)$ such that $P_{k,n} = 0$ for all $k > f(n)$. We will also require a monoticity condition on $f(n)$ for simplicity.\n",
    "\n",
    "This feature (or requirement) to change effectively the initial conditions means (in terms of the basis) that for all $n\\in \\nn$ there is a $f(n)$ such that $P_k(x) = x^nQ_{k,n}(x)$ with $Q_{*,*}(x) \\in \\kk[x]$.\n",
    "\n",
    "**Conclusion:** only **power basis** and **factorial basis** with the property that *0* appears as root infinetly many often have a $M$ quasi-upper triangular. In particular, orthogonal bases have *never* this property.\n",
    "\n",
    "*Implementation:* the method `functional_matrix` of any `PSBasis` allows to obtain the matrix $M$ for any number of rows and columns. Hence computing the initial values for $(c_k)_k$ for *polynomial* or *order* basis is a straightforward computation. See method `functional_to_self` of the class `PSBasis` for further information."
   ]
  },
  {
   "cell_type": "markdown",
   "metadata": {
    "jp-MarkdownHeadingCollapsed": true,
    "tags": []
   },
   "source": [
    "#### *2.1.1 Example with Power Basis*\n",
    "\n",
    "The Power Basis $\\mathcal{P} = \\{x^k\\}_k$ is very simple in this regard since it is the cannonical basis. Hence the matrix $M$ is an infinite identity matrix. We can see here by taking a differential equation, and comparing the sequence generated by the differential equation and the sequence generated by the associated recurrence equation:"
   ]
  },
  {
   "cell_type": "code",
   "execution_count": 2,
   "metadata": {},
   "outputs": [],
   "source": [
    "P = PowerBasis(); OD, (x, D) = get_differential_algebra()\n",
    "L = (x-1)*D^3 - (x+1)*D^2 + D - (x-2)^2 # differential operator\n",
    "f = DFinite.element(L, [0,1,2]) # D-finite representation of the sequence --> method \"sequence\" allows to obtain the sequence"
   ]
  },
  {
   "cell_type": "markdown",
   "metadata": {},
   "source": [
    "We now transform the differential equation to a recurrence equation for the sequence $(c_k)_k$ when we express the solution `f` as the sum \n",
    "$$f(x) = \\sum_k c_k x^k.$$"
   ]
  },
  {
   "cell_type": "code",
   "execution_count": 3,
   "metadata": {},
   "outputs": [],
   "source": [
    "rec_op = P.recurrence(L, cleaned=True); req = required_init(rec_op)\n",
    "seq = solution(rec_op, f.sequence(req, True))"
   ]
  },
  {
   "cell_type": "markdown",
   "metadata": {},
   "source": [
    "We can comapre that these two sequences are the same:"
   ]
  },
  {
   "cell_type": "code",
   "execution_count": 4,
   "metadata": {},
   "outputs": [
    {
     "data": {
      "text/html": [
       "<html><script type=\"math/tex; mode=display\">\\newcommand{\\Bold}[1]{\\mathbf{#1}}\\mathrm{True}</script></html>"
      ],
      "text/latex": [
       "$$\\newcommand{\\Bold}[1]{\\mathbf{#1}}\\mathrm{True}$$"
      ],
      "text/plain": [
       "True"
      ]
     },
     "execution_count": 4,
     "metadata": {},
     "output_type": "execute_result"
    }
   ],
   "source": [
    "[seq(i) for i in range(10)] == f.sequence(10, True)"
   ]
  },
  {
   "cell_type": "markdown",
   "metadata": {},
   "source": [
    "On the other hand, the matrix $M$ can be obtained from the basis $\\mathcal{P}$:"
   ]
  },
  {
   "cell_type": "code",
   "execution_count": 5,
   "metadata": {},
   "outputs": [
    {
     "data": {
      "text/html": [
       "<html><script type=\"math/tex; mode=display\">\\newcommand{\\Bold}[1]{\\mathbf{#1}}\\left(\\begin{array}{rrrrr}\n",
       "1 & 0 & 0 & 0 & 0 \\\\\n",
       "0 & 1 & 0 & 0 & 0 \\\\\n",
       "0 & 0 & 1 & 0 & 0 \\\\\n",
       "0 & 0 & 0 & 1 & 0 \\\\\n",
       "0 & 0 & 0 & 0 & 1\n",
       "\\end{array}\\right)</script></html>"
      ],
      "text/latex": [
       "$$\\newcommand{\\Bold}[1]{\\mathbf{#1}}\\left(\\begin{array}{rrrrr}\n",
       "1 & 0 & 0 & 0 & 0 \\\\\n",
       "0 & 1 & 0 & 0 & 0 \\\\\n",
       "0 & 0 & 1 & 0 & 0 \\\\\n",
       "0 & 0 & 0 & 1 & 0 \\\\\n",
       "0 & 0 & 0 & 0 & 1\n",
       "\\end{array}\\right)$$"
      ],
      "text/plain": [
       "[1 0 0 0 0]\n",
       "[0 1 0 0 0]\n",
       "[0 0 1 0 0]\n",
       "[0 0 0 1 0]\n",
       "[0 0 0 0 1]"
      ]
     },
     "execution_count": 5,
     "metadata": {},
     "output_type": "execute_result"
    }
   ],
   "source": [
    "P.functional_matrix(5)"
   ]
  },
  {
   "cell_type": "code",
   "execution_count": 6,
   "metadata": {},
   "outputs": [
    {
     "data": {
      "text/html": [
       "<html><script type=\"math/tex; mode=display\">\\newcommand{\\Bold}[1]{\\mathbf{#1}}\\left(0,\\,1,\\,1,\\,-\\frac{1}{6},\\,-\\frac{1}{6},\\,-\\frac{1}{40}\\right)</script></html>"
      ],
      "text/latex": [
       "$$\\newcommand{\\Bold}[1]{\\mathbf{#1}}\\left(0,\\,1,\\,1,\\,-\\frac{1}{6},\\,-\\frac{1}{6},\\,-\\frac{1}{40}\\right)$$"
      ],
      "text/plain": [
       "(0, 1, 1, -1/6, -1/6, -1/40)"
      ]
     },
     "execution_count": 6,
     "metadata": {},
     "output_type": "execute_result"
    }
   ],
   "source": [
    "P.functional_to_self(f.sequence(req, True), req)"
   ]
  },
  {
   "cell_type": "markdown",
   "metadata": {},
   "source": [
    "#### *2.1.2 Example with Hermite basis*\n",
    "\n",
    "Another type of basis that are compatible with the derivation are Orthogonal polynomial bases. We said before that in this case we cannot do the transformation since the initial values are described as infinite sums. We can see this reflected here:"
   ]
  },
  {
   "cell_type": "code",
   "execution_count": 7,
   "metadata": {},
   "outputs": [
    {
     "data": {
      "text/html": [
       "<html><script type=\"math/tex; mode=display\">\\newcommand{\\Bold}[1]{\\mathbf{#1}}\\left\\{H_n(x)\\right\\}_{n \\geq 0}</script></html>"
      ],
      "text/latex": [
       "$$\\newcommand{\\Bold}[1]{\\mathbf{#1}}\\left\\{H_n(x)\\right\\}_{n \\geq 0}$$"
      ],
      "text/plain": [
       "Hermite Basis (1, 2*x, 4*x^2 - 2,...)"
      ]
     },
     "execution_count": 7,
     "metadata": {},
     "output_type": "execute_result"
    }
   ],
   "source": [
    "H = HermiteBasis(); H"
   ]
  },
  {
   "cell_type": "markdown",
   "metadata": {},
   "source": [
    "Let us first compute the recurrence equation for the sequence $c_k$ that can be defined by writing the solution $f(x) = \\sum_k c_k H_k(x)$:"
   ]
  },
  {
   "cell_type": "code",
   "execution_count": 8,
   "metadata": {},
   "outputs": [
    {
     "name": "stdout",
     "output_type": "stream",
     "text": [
      "7\n"
     ]
    },
    {
     "data": {
      "text/html": [
       "<html><script type=\"math/tex; mode=display\">\\newcommand{\\Bold}[1]{\\mathbf{#1}}\\left(8 n^{4} + 144 n^{3} + 952 n^{2} + 2736 n + 2880\\right) \\mathit{Sn}^{6} + \\left(-12 n^{3} - 144 n^{2} - 564 n - 720\\right) \\mathit{Sn}^{5} + \\left(4 n^{3} + 31 n^{2} + 69 n + 36\\right) \\mathit{Sn}^{4} + \\left(-2 n^{2} - 4 n + 6\\right) \\mathit{Sn}^{3} + \\left(-n - \\frac{13}{2}\\right) \\mathit{Sn}^{2} + 2 \\mathit{Sn} - \\frac{1}{4}</script></html>"
      ],
      "text/latex": [
       "$$\\newcommand{\\Bold}[1]{\\mathbf{#1}}\\left(8 n^{4} + 144 n^{3} + 952 n^{2} + 2736 n + 2880\\right) \\mathit{Sn}^{6} + \\left(-12 n^{3} - 144 n^{2} - 564 n - 720\\right) \\mathit{Sn}^{5} + \\left(4 n^{3} + 31 n^{2} + 69 n + 36\\right) \\mathit{Sn}^{4} + \\left(-2 n^{2} - 4 n + 6\\right) \\mathit{Sn}^{3} + \\left(-n - \\frac{13}{2}\\right) \\mathit{Sn}^{2} + 2 \\mathit{Sn} - \\frac{1}{4}$$"
      ],
      "text/plain": [
       "(8*n^4 + 144*n^3 + 952*n^2 + 2736*n + 2880)*Sn^6 + (-12*n^3 - 144*n^2 - 564*n - 720)*Sn^5 + (4*n^3 + 31*n^2 + 69*n + 36)*Sn^4 + (-2*n^2 - 4*n + 6)*Sn^3 + (-n - 13/2)*Sn^2 + 2*Sn - 1/4"
      ]
     },
     "execution_count": 8,
     "metadata": {},
     "output_type": "execute_result"
    }
   ],
   "source": [
    "rec_op = H.recurrence(L, cleaned=True); req = required_init(rec_op); print(req)\n",
    "rec_op"
   ]
  },
  {
   "cell_type": "markdown",
   "metadata": {},
   "source": [
    "The infinite matrix $M$ now changes for this type of basis, but it is not an upper-triangular matrix:"
   ]
  },
  {
   "cell_type": "code",
   "execution_count": 9,
   "metadata": {},
   "outputs": [
    {
     "data": {
      "text/html": [
       "<html><script type=\"math/tex; mode=display\">\\newcommand{\\Bold}[1]{\\mathbf{#1}}\\left(\\begin{array}{rrrrr}\n",
       "1 & 0 & 0 & 0 & 0 \\\\\n",
       "0 & 2 & 0 & 0 & 0 \\\\\n",
       "-2 & 0 & 4 & 0 & 0 \\\\\n",
       "0 & -12 & 0 & 8 & 0 \\\\\n",
       "12 & 0 & -48 & 0 & 16\n",
       "\\end{array}\\right)</script></html>"
      ],
      "text/latex": [
       "$$\\newcommand{\\Bold}[1]{\\mathbf{#1}}\\left(\\begin{array}{rrrrr}\n",
       "1 & 0 & 0 & 0 & 0 \\\\\n",
       "0 & 2 & 0 & 0 & 0 \\\\\n",
       "-2 & 0 & 4 & 0 & 0 \\\\\n",
       "0 & -12 & 0 & 8 & 0 \\\\\n",
       "12 & 0 & -48 & 0 & 16\n",
       "\\end{array}\\right)$$"
      ],
      "text/plain": [
       "[  1   0   0   0   0]\n",
       "[  0   2   0   0   0]\n",
       "[ -2   0   4   0   0]\n",
       "[  0 -12   0   8   0]\n",
       "[ 12   0 -48   0  16]"
      ]
     },
     "execution_count": 9,
     "metadata": {},
     "output_type": "execute_result"
    }
   ],
   "source": [
    "H.functional_matrix(5,5)"
   ]
  },
  {
   "cell_type": "markdown",
   "metadata": {},
   "source": [
    "Let us try to compute the initial values using the first square parts of the matrix $M$ and we will see how the values do not stabilize at any point and they keep changing:"
   ]
  },
  {
   "cell_type": "code",
   "execution_count": 10,
   "metadata": {},
   "outputs": [
    {
     "data": {
      "text/html": [
       "<html><script type=\"math/tex; mode=display\">\\newcommand{\\Bold}[1]{\\mathbf{#1}}\\left[\\left(0\\right), \\left(0,\\,\\frac{1}{2}\\right), \\left(\\frac{1}{2},\\,\\frac{1}{2},\\,\\frac{1}{4}\\right), \\left(\\frac{1}{2},\\,\\frac{3}{8},\\,\\frac{1}{4},\\,-\\frac{1}{48}\\right), \\left(\\frac{3}{8},\\,\\frac{3}{8},\\,\\frac{1}{8},\\,-\\frac{1}{48},\\,-\\frac{1}{96}\\right), \\left(\\frac{3}{8},\\,\\frac{21}{64},\\,\\frac{1}{8},\\,-\\frac{7}{192},\\,-\\frac{1}{96},\\,-\\frac{1}{1280}\\right), \\left(\\frac{7}{16},\\,\\frac{21}{64},\\,\\frac{7}{32},\\,-\\frac{7}{192},\\,\\frac{1}{192},\\,-\\frac{1}{1280},\\,\\frac{1}{1920}\\right), \\left(\\frac{7}{16},\\,\\frac{103}{256},\\,\\frac{7}{32},\\,\\frac{1}{1536},\\,\\frac{1}{192},\\,\\frac{3}{1024},\\,\\frac{1}{1920},\\,\\frac{19}{215040}\\right), \\left(\\frac{231}{512},\\,\\frac{103}{256},\\,\\frac{63}{256},\\,\\frac{1}{1536},\\,\\frac{37}{3072},\\,\\frac{3}{1024},\\,\\frac{1}{1024},\\,\\frac{19}{215040},\\,\\frac{1}{122880}\\right)\\right]</script></html>"
      ],
      "text/latex": [
       "$$\\newcommand{\\Bold}[1]{\\mathbf{#1}}\\left[\\left(0\\right), \\left(0,\\,\\frac{1}{2}\\right), \\left(\\frac{1}{2},\\,\\frac{1}{2},\\,\\frac{1}{4}\\right), \\left(\\frac{1}{2},\\,\\frac{3}{8},\\,\\frac{1}{4},\\,-\\frac{1}{48}\\right), \\left(\\frac{3}{8},\\,\\frac{3}{8},\\,\\frac{1}{8},\\,-\\frac{1}{48},\\,-\\frac{1}{96}\\right), \\left(\\frac{3}{8},\\,\\frac{21}{64},\\,\\frac{1}{8},\\,-\\frac{7}{192},\\,-\\frac{1}{96},\\,-\\frac{1}{1280}\\right), \\left(\\frac{7}{16},\\,\\frac{21}{64},\\,\\frac{7}{32},\\,-\\frac{7}{192},\\,\\frac{1}{192},\\,-\\frac{1}{1280},\\,\\frac{1}{1920}\\right), \\left(\\frac{7}{16},\\,\\frac{103}{256},\\,\\frac{7}{32},\\,\\frac{1}{1536},\\,\\frac{1}{192},\\,\\frac{3}{1024},\\,\\frac{1}{1920},\\,\\frac{19}{215040}\\right), \\left(\\frac{231}{512},\\,\\frac{103}{256},\\,\\frac{63}{256},\\,\\frac{1}{1536},\\,\\frac{37}{3072},\\,\\frac{3}{1024},\\,\\frac{1}{1024},\\,\\frac{19}{215040},\\,\\frac{1}{122880}\\right)\\right]$$"
      ],
      "text/plain": [
       "[(0),\n",
       " (0, 1/2),\n",
       " (1/2, 1/2, 1/4),\n",
       " (1/2, 3/8, 1/4, -1/48),\n",
       " (3/8, 3/8, 1/8, -1/48, -1/96),\n",
       " (3/8, 21/64, 1/8, -7/192, -1/96, -1/1280),\n",
       " (7/16, 21/64, 7/32, -7/192, 1/192, -1/1280, 1/1920),\n",
       " (7/16, 103/256, 7/32, 1/1536, 1/192, 3/1024, 1/1920, 19/215040),\n",
       " (231/512, 103/256, 63/256, 1/1536, 37/3072, 3/1024, 1/1024, 19/215040, 1/122880)]"
      ]
     },
     "execution_count": 10,
     "metadata": {},
     "output_type": "execute_result"
    }
   ],
   "source": [
    "many_vals = f.sequence(50, True)\n",
    "[H.functional_matrix(i).solve_left(vector(many_vals[:i])) for i in range(1,10)]"
   ]
  },
  {
   "cell_type": "markdown",
   "metadata": {},
   "source": [
    "#### *2.1.3 Example with Bessel basis*\n",
    "\n",
    "We have observed that order basis have a quasi-upper triangular functional basis. One example (which is also compatible with the derivation) is the set of Bessel functions:"
   ]
  },
  {
   "cell_type": "code",
   "execution_count": 12,
   "metadata": {},
   "outputs": [
    {
     "data": {
      "text/html": [
       "<html><script type=\"math/tex; mode=display\">\\newcommand{\\Bold}[1]{\\mathbf{#1}}\\left\\{J_n(x)\\right\\}_{n \\geq 0}</script></html>"
      ],
      "text/latex": [
       "$$\\newcommand{\\Bold}[1]{\\mathbf{#1}}\\left\\{J_n(x)\\right\\}_{n \\geq 0}$$"
      ],
      "text/plain": [
       "Bessel Basis (J_n)"
      ]
     },
     "execution_count": 12,
     "metadata": {},
     "output_type": "execute_result"
    }
   ],
   "source": [
    "Bes = BesselBasis(); Bes"
   ]
  },
  {
   "cell_type": "code",
   "execution_count": 13,
   "metadata": {},
   "outputs": [
    {
     "data": {
      "text/html": [
       "<html><script type=\"math/tex; mode=display\">\\newcommand{\\Bold}[1]{\\mathbf{#1}}\\verb|dict_keys(['Xi',|\\phantom{\\verb!x!}\\verb|'Dx'])|</script></html>"
      ],
      "text/latex": [
       "$$\\newcommand{\\Bold}[1]{\\mathbf{#1}}\\verb|dict_keys(['Xi',|\\phantom{\\verb!x!}\\verb|'Dx'])|$$"
      ],
      "text/plain": [
       "dict_keys(['Xi', 'Dx'])"
      ]
     },
     "execution_count": 13,
     "metadata": {},
     "output_type": "execute_result"
    }
   ],
   "source": [
    "Bes.compatible_operators()"
   ]
  },
  {
   "cell_type": "code",
   "execution_count": null,
   "metadata": {},
   "outputs": [],
   "source": []
  },
  {
   "cell_type": "code",
   "execution_count": null,
   "metadata": {},
   "outputs": [],
   "source": []
  }
 ],
 "metadata": {
  "kernelspec": {
   "display_name": "SageMath 9.3",
   "language": "sage",
   "name": "sagemath"
  },
  "language_info": {
   "codemirror_mode": {
    "name": "ipython",
    "version": 3
   },
   "file_extension": ".py",
   "mimetype": "text/x-python",
   "name": "python",
   "nbconvert_exporter": "python",
   "pygments_lexer": "ipython3",
   "version": "3.9.2"
  }
 },
 "nbformat": 4,
 "nbformat_minor": 5
}
