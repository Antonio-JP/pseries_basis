{
 "cells": [
  {
   "cell_type": "markdown",
   "id": "03ffa498-4e97-438a-a8eb-71287c590984",
   "metadata": {},
   "source": [
    "# **Product of q-basis (experimental)**$\\def\\NN{\\mathbb{N}}\\def\\KK{\\mathbb{K}}\\def\\qbinom#1#2{\\left[\\begin{array}{c}#1\\\\#2\\end{array}\\right]_{q}}\\def\\cR{\\mathcal{R}}\\def\\cB{\\mathcal{B}}$"
   ]
  },
  {
   "cell_type": "code",
   "execution_count": 1,
   "id": "aba4c64f-b179-458f-9111-d5823cd56c83",
   "metadata": {},
   "outputs": [],
   "source": [
    "%display latex"
   ]
  },
  {
   "cell_type": "markdown",
   "id": "1b53111b-909f-4758-a70c-9326bd54df8b",
   "metadata": {},
   "source": [
    "## Is the $q$-binomial hypergeometric?\n",
    "\n",
    "In the case of factorial basis, we had a 1st order recurrence between the element of the basis that allowed us to define all elements by knowing the first:\n",
    "$$P_{m+1}(x) = (a_mx + b_m)P_m(x).$$\n",
    "\n",
    "This is the key property that was exploited for the construction of Sieved and Product Bases and is the main reason because we can not make such a construction with Orthogonal bases. Hence, in order to do something similar in the $q$-setting, we would need to have a similar property for the $q$-basis that we are considering.\n",
    "\n",
    "These bases are not polynomial basis anymore, and we have represented its elements as sequences themselves. It is interesting to remark that for the Factorial basis, this recurrence was built by shifting the $m$ and, in the right-hand side, we have an expression involving $x$ in a very specific way, $m$ appearing as new sequences $a_m$ and $b_m$ and then the element $P_m(x)$. What is the equivalent of this $x$ appearing in the recurrence?"
   ]
  },
  {
   "cell_type": "code",
   "execution_count": 2,
   "id": "2c92901a-50b6-42fc-b5f2-45bad0eea51b",
   "metadata": {},
   "outputs": [
    {
     "data": {
      "text/html": [
       "<html>\\(\\displaystyle \\left[\\begin{array}{c} n\\\\ m \\end{array}\\right]_q\\)</html>"
      ],
      "text/latex": [
       "$\\displaystyle \\left[\\begin{array}{c} n\\\\ m \\end{array}\\right]_q$"
      ],
      "text/plain": [
       "Q-Binomial Basis [n; m]_q"
      ]
     },
     "execution_count": 2,
     "metadata": {},
     "output_type": "execute_result"
    }
   ],
   "source": [
    "from pseries_basis import *\n",
    "B = QBinomialBasis(); B"
   ]
  },
  {
   "cell_type": "markdown",
   "id": "0ddabe25-c214-4eb6-bc4f-381f6ff517bd",
   "metadata": {},
   "source": [
    "### Using basic $q$-theory\n",
    "\n",
    "Using the definition of the $q$-binomial, we obtain the following:\n",
    "$$\\qbinom{n}{m+1} = \\frac{1-q^{n-m}}{1-q^{m+1}}\\qbinom{n}{m}.$$\n",
    "\n",
    "There is only one place where $n$ appears and we can, indeed, write this previous identity as\n",
    "$$\\qbinom{n}{m+1} = (a_m q^n + b_m)\\qbinom{n}{m},$$\n",
    "where the two sequences $a_m$ and $b_m$ are the following:\n",
    "$$a_m = -\\frac{1}{q^m(1-q^{m+1})},\\qquad b_m = \\frac{1}{1-q^{m+1}}.$$\n",
    "\n",
    "These things makes sense to appear in our definition since we are only having for $a_m$ and $b_m$ some rational function in $\\KK(q,q^m)$, and the $n$ only appears as the natural sequence $q^n$. This leads us to the following definition:\n",
    "\n",
    "**Definition 1 ($q$-factorial basis)** Let $\\cB$ be a sequence of $q$-sequences (i.e., $\\cB = (B_m(n))_m$ where for all $m,n \\in \\NN^2$ the value $B_m(n) \\in \\KK(q)$). We say that $\\cB$ is $q$-factorial if there are sequences $a_m,b_m \\in \\KK(q,q^m)$ such that for all $n \\in \\NN$\n",
    "$$B_{m+1}(n) = (a_k q^n + b_k)B_m(n).$$\n",
    "\n",
    "**Lemma 2** Let $\\cB$ be a $q$-factorial basis and assume $B_0(n) \\in \\KK(q,q^n)$ (resp. $B_0(n) \\in \\KK(q)[q^n]$). Then $B_m(n) \\in \\KK(q, q^n)$ for all $m \\in \\NN$ (resp. $B_m(n) \\in \\KK(q)[q^n]$).\n",
    "\n",
    "**Proof** This result can be proving by induction. Assume that for some $m \\in \\NN$ we have $B_m(n) \\in \\KK(q)[q^n]$. Then, since we have a fixed value of $m$, both $a_m$ and $b_m$ are particular elements in $\\KK(q)$. Hence, the factor $(a_m q^n + b_m) \\in \\KK(q)[q^n]$ concluding the proof.\n",
    "\n",
    "**Remark** All $q$-factorial bases are (1,0)-compatible with the multiplication by $q^n$."
   ]
  },
  {
   "cell_type": "code",
   "execution_count": 7,
   "id": "ff3034dc-541e-4d41-894f-a793b999db8e",
   "metadata": {},
   "outputs": [
    {
     "data": {
      "text/html": [
       "<html>\\(\\displaystyle \\left(\\begin{array}{rrrrr}\n",
       "1 & 1 & 1 & 1 & 1 \\\\\n",
       "0 & 1 & q + 1 & q^{2} + q + 1 & q^{3} + q^{2} + q + 1 \\\\\n",
       "0 & 0 & 1 & q^{2} + q + 1 & q^{4} + q^{3} + 2 q^{2} + q + 1 \\\\\n",
       "0 & 0 & 0 & 1 & q^{3} + q^{2} + q + 1 \\\\\n",
       "0 & 0 & 0 & 0 & 1\n",
       "\\end{array}\\right)\\)</html>"
      ],
      "text/latex": [
       "$\\displaystyle \\left(\\begin{array}{rrrrr}\n",
       "1 & 1 & 1 & 1 & 1 \\\\\n",
       "0 & 1 & q + 1 & q^{2} + q + 1 & q^{3} + q^{2} + q + 1 \\\\\n",
       "0 & 0 & 1 & q^{2} + q + 1 & q^{4} + q^{3} + 2 q^{2} + q + 1 \\\\\n",
       "0 & 0 & 0 & 1 & q^{3} + q^{2} + q + 1 \\\\\n",
       "0 & 0 & 0 & 0 & 1\n",
       "\\end{array}\\right)$"
      ],
      "text/plain": [
       "[                        1                         1                         1                         1                         1]\n",
       "[                        0                         1                     q + 1               q^2 + q + 1         q^3 + q^2 + q + 1]\n",
       "[                        0                         0                         1               q^2 + q + 1 q^4 + q^3 + 2*q^2 + q + 1]\n",
       "[                        0                         0                         0                         1         q^3 + q^2 + q + 1]\n",
       "[                        0                         0                         0                         0                         1]"
      ]
     },
     "execution_count": 7,
     "metadata": {},
     "output_type": "execute_result"
    }
   ],
   "source": [
    "B.functional_matrix(5)"
   ]
  },
  {
   "cell_type": "code",
   "execution_count": 6,
   "id": "d24540dd-1758-4418-98a9-563f816255e2",
   "metadata": {},
   "outputs": [
    {
     "data": {
      "text/html": [
       "<html>\\(\\displaystyle \\left(\\begin{array}{rrrrr}\n",
       "0 & 1 & q + 1 & q^{2} + q + 1 & q^{3} + q^{2} + q + 1 \\\\\n",
       "0 & 0 & 1 & q^{2} + q + 1 & q^{4} + q^{3} + 2 q^{2} + q + 1 \\\\\n",
       "0 & 0 & 0 & 1 & q^{3} + q^{2} + q + 1 \\\\\n",
       "0 & 0 & 0 & 0 & 1 \\\\\n",
       "0 & 0 & 0 & 0 & 0\n",
       "\\end{array}\\right)\\)</html>"
      ],
      "text/latex": [
       "$\\displaystyle \\left(\\begin{array}{rrrrr}\n",
       "0 & 1 & q + 1 & q^{2} + q + 1 & q^{3} + q^{2} + q + 1 \\\\\n",
       "0 & 0 & 1 & q^{2} + q + 1 & q^{4} + q^{3} + 2 q^{2} + q + 1 \\\\\n",
       "0 & 0 & 0 & 1 & q^{3} + q^{2} + q + 1 \\\\\n",
       "0 & 0 & 0 & 0 & 1 \\\\\n",
       "0 & 0 & 0 & 0 & 0\n",
       "\\end{array}\\right)$"
      ],
      "text/plain": [
       "[                        0                         1                     q + 1               q^2 + q + 1         q^3 + q^2 + q + 1]\n",
       "[                        0                         0                         1               q^2 + q + 1 q^4 + q^3 + 2*q^2 + q + 1]\n",
       "[                        0                         0                         0                         1         q^3 + q^2 + q + 1]\n",
       "[                        0                         0                         0                         0                         1]\n",
       "[                        0                         0                         0                         0                         0]"
      ]
     },
     "execution_count": 6,
     "metadata": {},
     "output_type": "execute_result"
    }
   ],
   "source": [
    "Matrix([[B.shift(1)[i][j] for j in range(5)] for i in range(5)])"
   ]
  },
  {
   "cell_type": "code",
   "execution_count": null,
   "id": "1fab02b5-e890-49f9-b051-21867cd2f270",
   "metadata": {},
   "outputs": [],
   "source": [
    "class QPolyBasis(QBasis):\n",
    "    "
   ]
  },
  {
   "cell_type": "code",
   "execution_count": null,
   "id": "eb8b6383-7513-4464-9685-189983743e54",
   "metadata": {},
   "outputs": [],
   "source": []
  }
 ],
 "metadata": {
  "kernelspec": {
   "display_name": "SageMath 9.7",
   "language": "sage",
   "name": "sagemath"
  },
  "language_info": {
   "codemirror_mode": {
    "name": "ipython",
    "version": 3
   },
   "file_extension": ".py",
   "mimetype": "text/x-python",
   "name": "python",
   "nbconvert_exporter": "python",
   "pygments_lexer": "ipython3",
   "version": "3.8.10"
  }
 },
 "nbformat": 4,
 "nbformat_minor": 5
}
