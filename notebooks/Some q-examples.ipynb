{
 "cells": [
  {
   "cell_type": "markdown",
   "id": "5ebd36c9-39cc-4ac7-96c9-154c7ebfbcef",
   "metadata": {},
   "source": [
    "# **About some q-stuff**$\\def\\NN{\\mathbb{N}}\\def\\KK{\\mathbb{K}}\\def\\qbinom#1#2{\\left[\\begin{array}{c}#1\\\\#2\\end{array}\\right]_{q}}\\def\\cR{\\mathcal{R}}$\n",
    "\n",
    "Let set up some machinery to manipulate the operators and check some $q$-stuff"
   ]
  },
  {
   "cell_type": "code",
   "execution_count": 1,
   "id": "d152f24d-0504-46cb-9407-3687857e000a",
   "metadata": {},
   "outputs": [],
   "source": [
    "%display latex\n",
    "from pseries_basis import *"
   ]
  },
  {
   "cell_type": "markdown",
   "id": "0f516d60-9a9d-466f-a60d-eca2be0892df",
   "metadata": {},
   "source": [
    "The sequences that we are interested in work on the polynomials on $q$. This means we have to consider the sequences \n",
    "$$\\left(\\KK(q)\\right)^{\\NN}.$$\n",
    "\n",
    "In this ring of sequences, the basis are sequences themselves $((a_{n,k})_k)_n$:"
   ]
  },
  {
   "cell_type": "markdown",
   "id": "c09b337a",
   "metadata": {
    "tags": []
   },
   "source": [
    "## **The $q$-binomial**\n",
    "Can we try to have a real $q$-basis? Using the $q$-binomial, we obtain the following:"
   ]
  },
  {
   "cell_type": "code",
   "execution_count": 2,
   "id": "2ffb6b67-bbd0-4136-aa1a-239787d68fa4",
   "metadata": {},
   "outputs": [],
   "source": [
    "B = QBinomialBasis()\n",
    "QPower = B.QPower(); q = B.q()"
   ]
  },
  {
   "cell_type": "markdown",
   "id": "5082e35e",
   "metadata": {},
   "source": [
    "The variable `B` contains the basis of $q$-binomials, i.e., `B` is a sequence $B_k(n)$ for $k\\in \\NN$ where:\n",
    "$$B_k(n) = \\qbinom{n}{k}.$$\n",
    "\n",
    "We have a basis that looks pretty similar to the original binomial basis we were considering before. But it is not a polynomial nor a factorial basis: we can see it is a order basis, i.e., the zeros appear at the beginning of the sequence, i.e., the zeros are at the set $\\{0,\\ldots,i-1\\}$ for $B_i(n)$. Hence for $B_1(n)$ we would have soemhitng like $B_1(n) = a(q)n$. However, the value of $a(q)$ is not independent of $n$.\n",
    "\n",
    "However, we have a sequence in a ring, we have a basis of the ring. We can still study the compatibility with operators."
   ]
  },
  {
   "cell_type": "code",
   "execution_count": 3,
   "id": "c303ceb2-0fd8-4709-9759-d1c4e4095478",
   "metadata": {},
   "outputs": [
    {
     "data": {
      "text/html": [
       "<html>\\(\\displaystyle \\left(\\begin{array}{rrrrr}\n",
       "1 & 1 & 1 & 1 & 1 \\\\\n",
       "0 & 1 & q + 1 & q^{2} + q + 1 & q^{3} + q^{2} + q + 1 \\\\\n",
       "0 & 0 & 1 & q^{2} + q + 1 & q^{4} + q^{3} + 2 q^{2} + q + 1 \\\\\n",
       "0 & 0 & 0 & 1 & q^{3} + q^{2} + q + 1 \\\\\n",
       "0 & 0 & 0 & 0 & 1\n",
       "\\end{array}\\right)\\)</html>"
      ],
      "text/latex": [
       "$\\displaystyle \\left(\\begin{array}{rrrrr}\n",
       "1 & 1 & 1 & 1 & 1 \\\\\n",
       "0 & 1 & q + 1 & q^{2} + q + 1 & q^{3} + q^{2} + q + 1 \\\\\n",
       "0 & 0 & 1 & q^{2} + q + 1 & q^{4} + q^{3} + 2 q^{2} + q + 1 \\\\\n",
       "0 & 0 & 0 & 1 & q^{3} + q^{2} + q + 1 \\\\\n",
       "0 & 0 & 0 & 0 & 1\n",
       "\\end{array}\\right)$"
      ],
      "text/plain": [
       "[                        1                         1                         1                         1                         1]\n",
       "[                        0                         1                     q + 1               q^2 + q + 1         q^3 + q^2 + q + 1]\n",
       "[                        0                         0                         1               q^2 + q + 1 q^4 + q^3 + 2*q^2 + q + 1]\n",
       "[                        0                         0                         0                         1         q^3 + q^2 + q + 1]\n",
       "[                        0                         0                         0                         0                         1]"
      ]
     },
     "execution_count": 3,
     "metadata": {},
     "output_type": "execute_result"
    }
   ],
   "source": [
    "B.functional_matrix(5)"
   ]
  },
  {
   "cell_type": "markdown",
   "id": "d625dc14-dede-4689-9ed4-fa6f505f3cbf",
   "metadata": {},
   "source": [
    "TODO: 1/(q;q)_n and (-q;q)_n"
   ]
  },
  {
   "cell_type": "markdown",
   "id": "2120fed0",
   "metadata": {
    "tags": []
   },
   "source": [
    "### **Compatibility with the shift operator $n \\rightarrow n+1$**\n",
    "\n",
    "We can find in the literature that the $q$-binomial satisfies the following recurrence equation:\n",
    "$$\\qbinom{n+1}{k} = q^k\\qbinom{n}{k} + \\qbinom{n}{k-1}.$$\n",
    "We can check this identity for the first terms of our $q$-binomial basis `B` with the following code:"
   ]
  },
  {
   "cell_type": "code",
   "execution_count": 4,
   "id": "354e0dbe",
   "metadata": {},
   "outputs": [
    {
     "data": {
      "text/html": [
       "<html>\\(\\displaystyle \\mathrm{True}\\)</html>"
      ],
      "text/latex": [
       "$\\displaystyle \\mathrm{True}$"
      ],
      "text/plain": [
       "True"
      ]
     },
     "execution_count": 4,
     "metadata": {},
     "output_type": "execute_result"
    }
   ],
   "source": [
    "A = (QPower*B + B.shift(-1) - B.shift_in(1))\n",
    "A.almost_zero(10)"
   ]
  },
  {
   "cell_type": "markdown",
   "id": "fbbd7309-840e-4e26-9918-a893dd9bf10f",
   "metadata": {},
   "source": [
    "Here we need to explain the product `QPower * B`. If we have two sequences, the product is defined as the Hadamard product. Hence, since the sequence `QPower` is the sequence $(1, q, q^2, q^3, \\ldots)$; the product `QPower * B` returns $q^k \\qbinom{n}{k}$. We will see later how to get with this code the sequence $\\left(q^n \\qbinom{n}{k}\\right)_k$.\n",
    "\n",
    "In the terms of compatibility, we have then that the $q$-binomial basis is compatible with $E_n: n \\mapsto n+1$ with the compatiblity equation:\n",
    "$$E_n \\cdot B_k(n) = B_k(n+1) = q^k P_k(n) + P_{k-1}(n)$$\n",
    "And if we write this in the recurrence form, we get:\n",
    "\n",
    "$$\\cR(E_n) = q^k + S_k$$"
   ]
  },
  {
   "cell_type": "markdown",
   "id": "5d7c19cd",
   "metadata": {
    "tags": []
   },
   "source": [
    "### **Compatibility with the multiplication by $n$**\n",
    "\n",
    "We build (using the class `SequentialBasis`) the sequence $\\left(\\left(nB_k(n)\\right)_n\\right)_k$"
   ]
  },
  {
   "cell_type": "code",
   "execution_count": 5,
   "id": "84a818d0",
   "metadata": {},
   "outputs": [
    {
     "data": {
      "text/html": [
       "<html>\\(\\displaystyle \\left(\\begin{array}{rrrrr}\n",
       "0 & 1 & 2 & 3 & 4 \\\\\n",
       "0 & 1 & 2 q + 2 & 3 q^{2} + 3 q + 3 & 4 q^{3} + 4 q^{2} + 4 q + 4 \\\\\n",
       "0 & 0 & 2 & 3 q^{2} + 3 q + 3 & 4 q^{4} + 4 q^{3} + 8 q^{2} + 4 q + 4 \\\\\n",
       "0 & 0 & 0 & 3 & 4 q^{3} + 4 q^{2} + 4 q + 4 \\\\\n",
       "0 & 0 & 0 & 0 & 4\n",
       "\\end{array}\\right)\\)</html>"
      ],
      "text/latex": [
       "$\\displaystyle \\left(\\begin{array}{rrrrr}\n",
       "0 & 1 & 2 & 3 & 4 \\\\\n",
       "0 & 1 & 2 q + 2 & 3 q^{2} + 3 q + 3 & 4 q^{3} + 4 q^{2} + 4 q + 4 \\\\\n",
       "0 & 0 & 2 & 3 q^{2} + 3 q + 3 & 4 q^{4} + 4 q^{3} + 8 q^{2} + 4 q + 4 \\\\\n",
       "0 & 0 & 0 & 3 & 4 q^{3} + 4 q^{2} + 4 q + 4 \\\\\n",
       "0 & 0 & 0 & 0 & 4\n",
       "\\end{array}\\right)$"
      ],
      "text/plain": [
       "[                              0                               1                               2                               3                               4]\n",
       "[                              0                               1                         2*q + 2                 3*q^2 + 3*q + 3         4*q^3 + 4*q^2 + 4*q + 4]\n",
       "[                              0                               0                               2                 3*q^2 + 3*q + 3 4*q^4 + 4*q^3 + 8*q^2 + 4*q + 4]\n",
       "[                              0                               0                               0                               3         4*q^3 + 4*q^2 + 4*q + 4]\n",
       "[                              0                               0                               0                               0                               4]"
      ]
     },
     "execution_count": 5,
     "metadata": {},
     "output_type": "execute_result"
    }
   ],
   "source": [
    "nB = B.mult_in(LambdaSequence(lambda n : n, universe = B.base))\n",
    "nB.functional_matrix(5)"
   ]
  },
  {
   "cell_type": "markdown",
   "id": "303564dd",
   "metadata": {},
   "source": [
    "This operation is not compatible with the $q$-binomial basis since the sequence $(n)_n$ is the first element and it can not be finitely represented in terms of $q$-binomials with a fixed down coefficient."
   ]
  },
  {
   "cell_type": "markdown",
   "id": "e5915b03-1052-4dc8-96c1-f0f74c1f8b7f",
   "metadata": {
    "jp-MarkdownHeadingCollapsed": true,
    "tags": []
   },
   "source": [
    "### **Compatibility with the multiplication by $q$**\n",
    "\n",
    "This is trivial since $q$ is part of the field we are taking the sequences from. Hence the compatibility is trivial:\n",
    "$$q B_k(n)$$"
   ]
  },
  {
   "cell_type": "markdown",
   "id": "14979eda-f5df-4dbf-8072-4d93a2e83dd7",
   "metadata": {
    "tags": []
   },
   "source": [
    "### **Compatibility with the multiplication by $q^n$**\n",
    "\n",
    "This is the key operator to consider the equalities from Ali. What would be the compatibility rule (if it exists) for the multiplication by this number. We can build the sequence $\\left(\\left(q^n\\qbinom{n}{k}\\right)_n\\right)_k$ using again the class `SequenctialBasis`:"
   ]
  },
  {
   "cell_type": "code",
   "execution_count": 6,
   "id": "b850e023-210f-4c52-8a04-1f82d042ca44",
   "metadata": {},
   "outputs": [
    {
     "data": {
      "text/html": [
       "<html>\\(\\displaystyle \\left(\\begin{array}{rrrrr}\n",
       "1 & q & q^{2} & q^{3} & q^{4} \\\\\n",
       "0 & q & q^{3} + q^{2} & q^{5} + q^{4} + q^{3} & q^{7} + q^{6} + q^{5} + q^{4} \\\\\n",
       "0 & 0 & q^{2} & q^{5} + q^{4} + q^{3} & q^{8} + q^{7} + 2 q^{6} + q^{5} + q^{4} \\\\\n",
       "0 & 0 & 0 & q^{3} & q^{7} + q^{6} + q^{5} + q^{4} \\\\\n",
       "0 & 0 & 0 & 0 & q^{4}\n",
       "\\end{array}\\right)\\)</html>"
      ],
      "text/latex": [
       "$\\displaystyle \\left(\\begin{array}{rrrrr}\n",
       "1 & q & q^{2} & q^{3} & q^{4} \\\\\n",
       "0 & q & q^{3} + q^{2} & q^{5} + q^{4} + q^{3} & q^{7} + q^{6} + q^{5} + q^{4} \\\\\n",
       "0 & 0 & q^{2} & q^{5} + q^{4} + q^{3} & q^{8} + q^{7} + 2 q^{6} + q^{5} + q^{4} \\\\\n",
       "0 & 0 & 0 & q^{3} & q^{7} + q^{6} + q^{5} + q^{4} \\\\\n",
       "0 & 0 & 0 & 0 & q^{4}\n",
       "\\end{array}\\right)$"
      ],
      "text/plain": [
       "[                            1                             q                           q^2                           q^3                           q^4]\n",
       "[                            0                             q                     q^3 + q^2               q^5 + q^4 + q^3         q^7 + q^6 + q^5 + q^4]\n",
       "[                            0                             0                           q^2               q^5 + q^4 + q^3 q^8 + q^7 + 2*q^6 + q^5 + q^4]\n",
       "[                            0                             0                             0                           q^3         q^7 + q^6 + q^5 + q^4]\n",
       "[                            0                             0                             0                             0                           q^4]"
      ]
     },
     "execution_count": 6,
     "metadata": {},
     "output_type": "execute_result"
    }
   ],
   "source": [
    "QB = B.mult_in(QPower)\n",
    "QB.functional_matrix(5)"
   ]
  },
  {
   "cell_type": "markdown",
   "id": "56e5ab8c-029e-4562-a6f5-a7870590b0ab",
   "metadata": {},
   "source": [
    "In this case I did not find a better identity for this but the following:\n",
    "$$q^n \\qbinom{n}{k} = q^k\\qbinom{n}{k} + q^k(q^{k+1} - 1)\\qbinom{n}{k+1}.$$\n",
    "\n",
    "This can be built again using the basis `B` and the sequence `QPower` as we did before:"
   ]
  },
  {
   "cell_type": "code",
   "execution_count": 7,
   "id": "613956b7",
   "metadata": {},
   "outputs": [
    {
     "data": {
      "text/html": [
       "<html>\\(\\displaystyle \\mathrm{True}\\)</html>"
      ],
      "text/latex": [
       "$\\displaystyle \\mathrm{True}$"
      ],
      "text/plain": [
       "True"
      ]
     },
     "execution_count": 7,
     "metadata": {},
     "output_type": "execute_result"
    }
   ],
   "source": [
    "A = QB - QPower*B - QPower*(q*QPower - 1)*B.shift(1)\n",
    "A.almost_zero(10)"
   ]
  },
  {
   "cell_type": "markdown",
   "id": "692cdb84",
   "metadata": {},
   "source": [
    "Writing this in a different fashion, we get:\n",
    "\n",
    "$$ Q \\cdot B_k(n) = (q^n)B_k(n) = q^k B_k(n) + q^k(q^{k+1}-1)B_{k+1}(n)$$\n",
    "\n",
    "Or in a recurrence way, we can write:\n",
    "\n",
    "$$ \\cR(Q) = q^k + q^{k-1}(q^k - 1)S_k^{-1} = q^k + q^{-1}(q^{2k} - q^k)S_k^{-1} = q^k + \\frac{q^k(q^k - 1)}{q}S_k^{-1}$$"
   ]
  },
  {
   "cell_type": "markdown",
   "id": "f2ff01d7",
   "metadata": {
    "tags": []
   },
   "source": [
    "## **Adapting this context to the ``ore_algebra`` package**\n",
    "\n",
    "We have so far compatibility with 3 types of operators:\n",
    "* Multiplication by the constant sequence $(q)_n$: $q: (a_n)_n \\mapsto (qa_n)_n$.\n",
    "* Multiplication by the power sequence $(q^n)_n$: $Q: (a_n)_n \\mapsto (q^na_n)_n$.\n",
    "* Shift operator w.r.t. the $n$: $E_n: (a_n)_n \\mapsto (a_{n+1})_n$. We will also need the inverse of this operator $E_n^{-1}$.\n",
    "\n",
    "We can see from these definitions that the operators $Q$ and $E_n$ do not commute:\n",
    "$$E_n Q (a_n)_n = E_n (q^na_n)_n = (q^{n+1}a_{n+1})_n = q(q^n a_{n+1})_n = q Q (a_{n+1})_n = qQE_n (a_n)_n.$$\n",
    "\n",
    "Hence we can not use the `OreAlgebra` implementation for this operators. We need something new: we have the class `OperatorAlgebra`. \n",
    "\n",
    "The corresponding operators can be easily obtained from the basis `B`, using diverse methods:"
   ]
  },
  {
   "cell_type": "code",
   "execution_count": 8,
   "id": "00ce8f50",
   "metadata": {},
   "outputs": [],
   "source": [
    "(A, (q,Q,S,Si)) = (B.OS(), (B.q(), B.Q(), B.Sn(), B.Sni()))\n",
    "actions = {'Q' : lambda an : QPower * an, 'Sn' : lambda an : an.shift(1), 'Sni' : lambda an : an.shift(-1)}"
   ]
  },
  {
   "cell_type": "markdown",
   "id": "42dc7b09",
   "metadata": {},
   "source": [
    "At this point, we can construct the original operator $L$ as an element of the ring `A`. When we start, the operator $Q$ is the multiplication by `q^n`, while once we obtain the compatible operator, it means the multiplication by `q^k`. Something similar happens to `S`. Berfore the compatibility it is the shift w.r.t. `n` but after the compatibility transformation, it is the shift w.r.t. `k`.\n",
    "\n",
    "* To obtain the compatible operator: ``B.recurrence(L)``\n",
    "* To apply an operator to a sequence: ``L.apply(sequence, actions)``\n",
    "* To obtain the solution for an operator: ``solution(L, init)`` where init is a list (with enough elements - see method `pseries_basis.misc.ore.required_init`)."
   ]
  },
  {
   "cell_type": "code",
   "execution_count": 9,
   "id": "835f9c4d",
   "metadata": {},
   "outputs": [],
   "source": [
    "from pseries_basis.misc.ore import solution, required_init"
   ]
  },
  {
   "cell_type": "code",
   "execution_count": 10,
   "id": "6f4a90d9",
   "metadata": {},
   "outputs": [],
   "source": [
    "L = Q*S^2 - Q/q*S - 1"
   ]
  },
  {
   "cell_type": "code",
   "execution_count": 11,
   "id": "e2d6aeb2-9863-4332-8699-d0564bd75bcf",
   "metadata": {},
   "outputs": [
    {
     "name": "stderr",
     "output_type": "stream",
     "text": [
      "The coefficients of -1 - 1/q*Q*Sn + Q*Sn^2 are not been converted using compatibilities -- Not yet implemented\n"
     ]
    },
    {
     "data": {
      "text/html": [
       "<html>\\(\\displaystyle -1 + \\frac{1}{q^{2}} Q + \\left(\\frac{-2 q - 2}{q^{2}}\\right) Q^{2} - \\frac{2}{q} Q \\mathit{Sn} + \\left(\\frac{q^{2} + q + 1}{q^{2}}\\right) Q^{3} + \\left(\\frac{q^{2} + q + 1}{q}\\right) Q^{2}\\mathit{Sn} + \\frac{1}{q^{3}} Q^{2}\\mathit{Sni} + Q \\mathit{Sn}^{2} - \\frac{2}{q^{3}} Q^{3}\\mathit{Sni} + \\frac{1}{q^{3}} Q^{4}\\mathit{Sni}\\)</html>"
      ],
      "text/latex": [
       "$\\displaystyle -1 + \\frac{1}{q^{2}} Q + \\left(\\frac{-2 q - 2}{q^{2}}\\right) Q^{2} - \\frac{2}{q} Q \\mathit{Sn} + \\left(\\frac{q^{2} + q + 1}{q^{2}}\\right) Q^{3} + \\left(\\frac{q^{2} + q + 1}{q}\\right) Q^{2}\\mathit{Sn} + \\frac{1}{q^{3}} Q^{2}\\mathit{Sni} + Q \\mathit{Sn}^{2} - \\frac{2}{q^{3}} Q^{3}\\mathit{Sni} + \\frac{1}{q^{3}} Q^{4}\\mathit{Sni}$"
      ],
      "text/plain": [
       "-1 + 1/q^2*Q + ((-2*q-2)/q^2)*Q^2 - 2/q*Q*Sn + ((q^2+q+1)/q^2)*Q^3 + ((q^2+q+1)/q)*Q^2*Sn + 1/q^3*Q^2*Sni + Q*Sn^2 - 2/q^3*Q^3*Sni + 1/q^3*Q^4*Sni"
      ]
     },
     "execution_count": 11,
     "metadata": {},
     "output_type": "execute_result"
    }
   ],
   "source": [
    "B.recurrence(L)"
   ]
  },
  {
   "cell_type": "code",
   "execution_count": 12,
   "id": "0ea87b0a-22ac-48db-975b-22f23fffd666",
   "metadata": {},
   "outputs": [
    {
     "data": {
      "text/html": [
       "<html>\\(\\displaystyle \\mathrm{True}\\)</html>"
      ],
      "text/latex": [
       "$\\displaystyle \\mathrm{True}$"
      ],
      "text/plain": [
       "True"
      ]
     },
     "execution_count": 12,
     "metadata": {},
     "output_type": "execute_result"
    }
   ],
   "source": [
    "L = S - q\n",
    "solution(L, [1]).almost_equals(QPower, 100)"
   ]
  },
  {
   "cell_type": "markdown",
   "id": "916c2467-048a-4eb3-8682-704622980c8b",
   "metadata": {},
   "source": [
    "## **Basic examples**"
   ]
  },
  {
   "cell_type": "markdown",
   "id": "12b13fc4-4d41-477e-9fa0-6dc75bb35935",
   "metadata": {
    "tags": []
   },
   "source": [
    "### The $q$-Pochhammer symbol (Theorem 3.3 - first identity)\n",
    "    \n",
    "Let us consider the $q$-polynomials that appear from the $q$-Pochhammer symbol (i.e., the correposnding to the falling factorial):"
   ]
  },
  {
   "cell_type": "code",
   "execution_count": 13,
   "id": "9630974b-5f2d-447c-ad21-6fc06cb77355",
   "metadata": {},
   "outputs": [
    {
     "data": {
      "text/html": [
       "<html>\\(\\displaystyle \\left[1, -z + 1, q z^{2} + \\left(-q - 1\\right) z + 1, -q^{3} z^{3} + \\left(q^{3} + q^{2} + q\\right) z^{2} + \\left(-q^{2} - q - 1\\right) z + 1\\right]\\)</html>"
      ],
      "text/latex": [
       "$\\displaystyle \\left[1, -z + 1, q z^{2} + \\left(-q - 1\\right) z + 1, -q^{3} z^{3} + \\left(q^{3} + q^{2} + q\\right) z^{2} + \\left(-q^{2} - q - 1\\right) z + 1\\right]$"
      ],
      "text/plain": [
       "[1,\n",
       " -z + 1,\n",
       " q*z^2 + (-q - 1)*z + 1,\n",
       " -q^3*z^3 + (q^3 + q^2 + q)*z^2 + (-q^2 - q - 1)*z + 1]"
      ]
     },
     "execution_count": 13,
     "metadata": {},
     "output_type": "execute_result"
    }
   ],
   "source": [
    "from pseries_basis.qbasis.qbasis import qpochhammer\n",
    "C.<z> = B.base[]\n",
    "BwZ = B.change_base(C)\n",
    "q = BwZ.base('q'); z = BwZ.base('z')\n",
    "zn = LambdaSequence(lambda n : qpochhammer(z, n, q), BwZ.base)\n",
    "zn[:4]"
   ]
  },
  {
   "cell_type": "markdown",
   "id": "d15179eb-c71e-4cb9-82a1-46f1b1179be8",
   "metadata": {},
   "source": [
    "The variable `zn` contains the sequence $(z)_n = (z;q)_n$. By its simple definition, this sequence satisfies a very simple $q$-recurrence equation:\n",
    "$$(z;q)_{n+1} = (1-zq^{n})(z;q)_n,$$\n",
    "which, in terms of our operators mean:\n",
    "$$L \\cdot (z;q)_n = (E_n - 1 + zQ)\\cdot (z;q)_n = 0$$"
   ]
  },
  {
   "cell_type": "code",
   "execution_count": 14,
   "id": "d7af6727-394f-4250-a0e3-6b279687648c",
   "metadata": {},
   "outputs": [
    {
     "data": {
      "text/html": [
       "<html>\\(\\displaystyle \\mathrm{True}\\)</html>"
      ],
      "text/latex": [
       "$\\displaystyle \\mathrm{True}$"
      ],
      "text/plain": [
       "True"
      ]
     },
     "execution_count": 14,
     "metadata": {},
     "output_type": "execute_result"
    }
   ],
   "source": [
    "Az = A.change_ring(C)\n",
    "Q,S,Si = Az.gens()\n",
    "L = S - 1 + z*Q\n",
    "solution(L, zn[:required_init(L)]).almost_equals(zn, 50)"
   ]
  },
  {
   "cell_type": "markdown",
   "id": "9a73596f-c001-4a5c-a29a-949e40c7a5ca",
   "metadata": {},
   "source": [
    "Since the operators $Q$, $S$ and $Si$ are compatible with the $q$-binomial basis, we can compute a $q$-recurrence equation when we write:\n",
    "$$(z;q)_n = \\sum_{k=0}^n c_k \\qbinom{n}{k},$$\n",
    "for the sequence $(c_k)_k$. This recurrence equation is obtained by substituing each operator in $L$ with its compatibility condition:"
   ]
  },
  {
   "cell_type": "code",
   "execution_count": 15,
   "id": "7a203d3d-b35a-45c4-9f88-67883dd7f8b3",
   "metadata": {},
   "outputs": [
    {
     "name": "stderr",
     "output_type": "stream",
     "text": [
      "The coefficients of -1 + z*Q + Sn are not been converted using compatibilities -- Not yet implemented\n"
     ]
    },
    {
     "data": {
      "text/html": [
       "<html>\\(\\displaystyle -1 + \\left(z + 1\\right) Q + \\mathit{Sn} - \\frac{1}{q} z Q \\mathit{Sni} + \\frac{1}{q} z Q^{2}\\mathit{Sni}\\)</html>"
      ],
      "text/latex": [
       "$\\displaystyle -1 + \\left(z + 1\\right) Q + \\mathit{Sn} - \\frac{1}{q} z Q \\mathit{Sni} + \\frac{1}{q} z Q^{2}\\mathit{Sni}$"
      ],
      "text/plain": [
       "-1 + (z+1)*Q + Sn - 1/q*z*Q*Sni + 1/q*z*Q^2*Sni"
      ]
     },
     "metadata": {},
     "output_type": "display_data"
    },
    {
     "data": {
      "text/html": [
       "<html>\\(\\displaystyle \\left[1, -z, q z^{2}, -q^{3} z^{3}, q^{6} z^{4}\\right]\\)</html>"
      ],
      "text/latex": [
       "$\\displaystyle \\left[1, -z, q z^{2}, -q^{3} z^{3}, q^{6} z^{4}\\right]$"
      ],
      "text/plain": [
       "[1, -z, q*z^2, -q^3*z^3, q^6*z^4]"
      ]
     },
     "execution_count": 15,
     "metadata": {},
     "output_type": "execute_result"
    }
   ],
   "source": [
    "L_comp = BwZ.recurrence(L)\n",
    "show(L_comp)\n",
    "cn = solution(L_comp, BwZ.functional_to_self(zn, required_init(L_comp)))\n",
    "cn[:5]"
   ]
  },
  {
   "cell_type": "markdown",
   "id": "ade11a51-39d4-4bca-ba42-4c660f823e3d",
   "metadata": {},
   "source": [
    "We can check that this recurrence is satisfied by the sequence \n",
    "$$c_n = (-1)^n z^n q^{(n^2-n)/2}$$\n",
    "\n",
    "(Note: we would need to implement closure properties to these operators in order to check symbolically and not only check the first terms)"
   ]
  },
  {
   "cell_type": "code",
   "execution_count": 16,
   "id": "f42af41b-3e35-4abe-b3c9-97ab1c12e683",
   "metadata": {},
   "outputs": [
    {
     "data": {
      "text/html": [
       "<html>\\(\\displaystyle \\mathrm{True}\\)</html>"
      ],
      "text/latex": [
       "$\\displaystyle \\mathrm{True}$"
      ],
      "text/plain": [
       "True"
      ]
     },
     "execution_count": 16,
     "metadata": {},
     "output_type": "execute_result"
    }
   ],
   "source": [
    "cn_real = LambdaSequence(lambda n : (-1)**n * z**n * q**((n**2-n)/2), BwZ.base)\n",
    "cn.almost_equals(cn, 50)"
   ]
  },
  {
   "cell_type": "markdown",
   "id": "76bc2abd-ed5f-4725-9a41-fc0474bbd8eb",
   "metadata": {},
   "source": [
    "### Same sequence, different basis (Theorem 3.3 - second identity)"
   ]
  },
  {
   "cell_type": "markdown",
   "id": "a78e1d3f-d1d1-4b7c-b649-afa9519ca2b8",
   "metadata": {},
   "source": [
    "The second part of Theorem 3.3 is the following identity:\n",
    "$$(z;q)_n = \\sum_{j=0}^n z^j \\qbinom{n+j+1}{j}.$$\n",
    "\n",
    "Using the class `QBinomialBasis` we can still prove this identity:"
   ]
  },
  {
   "cell_type": "code",
   "execution_count": 25,
   "id": "fc7bdb29-1da1-4abe-bed7-42af07f3a34d",
   "metadata": {},
   "outputs": [
    {
     "ename": "ValueError",
     "evalue": "The value for the parameter 'c' must be an non-negative integer.",
     "output_type": "error",
     "traceback": [
      "\u001b[0;31m---------------------------------------------------------------------------\u001b[0m",
      "\u001b[0;31mValueError\u001b[0m                                Traceback (most recent call last)",
      "Input \u001b[0;32mIn [25]\u001b[0m, in \u001b[0;36m<cell line: 1>\u001b[0;34m()\u001b[0m\n\u001b[0;32m----> 1\u001b[0m B \u001b[38;5;241m=\u001b[39m \u001b[43mQBinomialBasis\u001b[49m\u001b[43m(\u001b[49m\u001b[43mC\u001b[49m\u001b[43m,\u001b[49m\u001b[43m \u001b[49m\u001b[43ma\u001b[49m\u001b[43m \u001b[49m\u001b[38;5;241;43m=\u001b[39;49m\u001b[43m \u001b[49m\u001b[43mInteger\u001b[49m\u001b[43m(\u001b[49m\u001b[38;5;241;43m1\u001b[39;49m\u001b[43m)\u001b[49m\u001b[43m,\u001b[49m\u001b[43m \u001b[49m\u001b[43mb\u001b[49m\u001b[43m \u001b[49m\u001b[38;5;241;43m=\u001b[39;49m\u001b[43m \u001b[49m\u001b[43mInteger\u001b[49m\u001b[43m(\u001b[49m\u001b[38;5;241;43m1\u001b[39;49m\u001b[43m)\u001b[49m\u001b[43m,\u001b[49m\u001b[43m \u001b[49m\u001b[43mc\u001b[49m\u001b[43m \u001b[49m\u001b[38;5;241;43m=\u001b[39;49m\u001b[43m \u001b[49m\u001b[38;5;241;43m-\u001b[39;49m\u001b[43mInteger\u001b[49m\u001b[43m(\u001b[49m\u001b[38;5;241;43m1\u001b[39;49m\u001b[43m)\u001b[49m\u001b[43m)\u001b[49m; show(B)\n\u001b[1;32m      2\u001b[0m B\u001b[38;5;241m.\u001b[39mqrecurrences\n",
      "File \u001b[0;32m~/sage/local/var/lib/sage/venv-python3.8/lib/python3.8/site-packages/pseries_basis/qbasis/qbasis.py:212\u001b[0m, in \u001b[0;36mQBinomialBasis.__init__\u001b[0;34m(self, base, a, b, c, q_name, E_name, Q_name)\u001b[0m\n\u001b[1;32m    210\u001b[0m     \u001b[38;5;28;01mraise\u001b[39;00m \u001b[38;5;167;01mValueError\u001b[39;00m(\u001b[38;5;124m\"\u001b[39m\u001b[38;5;124mThe value for the parameter \u001b[39m\u001b[38;5;124m'\u001b[39m\u001b[38;5;124mb\u001b[39m\u001b[38;5;124m'\u001b[39m\u001b[38;5;124m must be an integer.\u001b[39m\u001b[38;5;124m\"\u001b[39m)\n\u001b[1;32m    211\u001b[0m \u001b[38;5;28;01mif\u001b[39;00m \u001b[38;5;129;01mnot\u001b[39;00m c \u001b[38;5;129;01min\u001b[39;00m ZZ \u001b[38;5;129;01mor\u001b[39;00m c \u001b[38;5;241m<\u001b[39m \u001b[38;5;241m0\u001b[39m:\n\u001b[0;32m--> 212\u001b[0m     \u001b[38;5;28;01mraise\u001b[39;00m \u001b[38;5;167;01mValueError\u001b[39;00m(\u001b[38;5;124m\"\u001b[39m\u001b[38;5;124mThe value for the parameter \u001b[39m\u001b[38;5;124m'\u001b[39m\u001b[38;5;124mc\u001b[39m\u001b[38;5;124m'\u001b[39m\u001b[38;5;124m must be an non-negative integer.\u001b[39m\u001b[38;5;124m\"\u001b[39m)\n\u001b[1;32m    214\u001b[0m \u001b[38;5;28mself\u001b[39m\u001b[38;5;241m.\u001b[39m__a \u001b[38;5;241m=\u001b[39m ZZ(a)\n\u001b[1;32m    215\u001b[0m \u001b[38;5;28mself\u001b[39m\u001b[38;5;241m.\u001b[39m__b \u001b[38;5;241m=\u001b[39m ZZ(b)\n",
      "\u001b[0;31mValueError\u001b[0m: The value for the parameter 'c' must be an non-negative integer."
     ]
    }
   ],
   "source": [
    "B = QBinomialBasis(C, a = 1, b = 1, c = -1); show(B)\n",
    "B.qrecurrences"
   ]
  },
  {
   "cell_type": "code",
   "execution_count": 24,
   "id": "f4bbf47c-50af-4b4e-9f7b-271fc0d462e3",
   "metadata": {},
   "outputs": [
    {
     "data": {
      "text/html": [
       "<html>\\(\\displaystyle \\verb|Sequence|\\verb| |\\verb|over|\\verb| |\\verb|[Set|\\verb| |\\verb|of|\\verb| |\\verb|Sequences|\\verb| |\\verb|from|\\verb| |\\verb|NN|\\verb| |\\verb|to|\\verb| |\\verb|Univariate|\\verb| |\\verb|Polynomial|\\verb| |\\verb|Ring|\\verb| |\\verb|in|\\verb| |\\verb|z|\\verb| |\\verb|over|\\verb| |\\verb|Fraction|\\verb| |\\verb|Field|\\verb| |\\verb|of|\\verb| |\\verb|Univariate|\\verb| |\\verb|Polynomial|\\verb| |\\verb|Ring|\\verb| |\\verb|in|\\verb| |\\verb|q|\\verb| |\\verb|over|\\verb| |\\verb|Rational|\\verb| |\\verb|Field]:|\\verb| |\\verb|(Sequence|\\verb| |\\verb|over|\\verb| |\\verb|[Univariate|\\verb| |\\verb|Polynomial|\\verb| |\\verb|Ring|\\verb| |\\verb|in|\\verb| |\\verb|z|\\verb| |\\verb|over|\\verb| |\\verb|Fraction|\\verb| |\\verb|Field|\\verb| |\\verb|of|\\verb| |\\verb|Univariate|\\verb| |\\verb|Polynomial|\\verb| |\\verb|Ring|\\verb| |\\verb|in|\\verb| |\\verb|q|\\verb| |\\verb|over|\\verb| |\\verb|Rational|\\verb| |\\verb|Field]:|\\verb| |\\verb|(q|\\verb| |\\verb|+|\\verb| |\\verb|1,|\\verb| |\\verb|q^2|\\verb| |\\verb|+|\\verb| |\\verb|q|\\verb| |\\verb|+|\\verb| |\\verb|1,|\\verb| |\\verb|q^3|\\verb| |\\verb|+|\\verb| |\\verb|q^2|\\verb| |\\verb|+|\\verb| |\\verb|q|\\verb| |\\verb|+|\\verb| |\\verb|1,...),|\\verb| |\\verb|Sequence|\\verb| |\\verb|over|\\verb| |\\verb|[Univariate|\\verb| |\\verb|Polynomial|\\verb| |\\verb|Ring|\\verb| |\\verb|in|\\verb| |\\verb|z|\\verb| |\\verb|over|\\verb| |\\verb|Fraction|\\verb| |\\verb|Field|\\verb| |\\verb|of|\\verb| |\\verb|Univariate|\\verb| |\\verb|Polynomial|\\verb| |\\verb|Ring|\\verb| |\\verb|in|\\verb| |\\verb|q|\\verb| |\\verb|over|\\verb| |\\verb|Rational|\\verb| |\\verb|Field]:|\\verb| |\\verb|(q^2|\\verb| |\\verb|+|\\verb| |\\verb|q|\\verb| |\\verb|+|\\verb| |\\verb|2,|\\verb| |\\verb|q^4|\\verb| |\\verb|+|\\verb| |\\verb|q^3|\\verb| |\\verb|+|\\verb| |\\verb|2*q^2|\\verb| |\\verb|+|\\verb| |\\verb|q|\\verb| |\\verb|+|\\verb| |\\verb|2,|\\verb| |\\verb|q^6|\\verb| |\\verb|+|\\verb| |\\verb|q^5|\\verb| |\\verb|+|\\verb| |\\verb|2*q^4|\\verb| |\\verb|+|\\verb| |\\verb|2*q^3|\\verb| |\\verb|+|\\verb| |\\verb|2*q^2|\\verb| |\\verb|+|\\verb| |\\verb|q|\\verb| |\\verb|+|\\verb| |\\verb|2,...),|\\verb| |\\verb|Sequence|\\verb| |\\verb|over|\\verb| |\\verb|[Univariate|\\verb| |\\verb|Polynomial|\\verb| |\\verb|Ring|\\verb| |\\verb|in|\\verb| |\\verb|z|\\verb| |\\verb|over|\\verb| |\\verb|Fraction|\\verb| |\\verb|Field|\\verb| |\\verb|of|\\verb| |\\verb|Univariate|\\verb| |\\verb|Polynomial|\\verb| |\\verb|Ring|\\verb| |\\verb|in|\\verb| |\\verb|q|\\verb| |\\verb|over|\\verb| |\\verb|Rational|\\verb| |\\verb|Field]:|\\verb| |\\verb|(q^3|\\verb| |\\verb|+|\\verb| |\\verb|2*q^2|\\verb| |\\verb|+|\\verb| |\\verb|2*q|\\verb| |\\verb|+|\\verb| |\\verb|2,|\\verb| |\\verb|q^6|\\verb| |\\verb|+|\\verb| |\\verb|q^5|\\verb| |\\verb|+|\\verb| |\\verb|2*q^4|\\verb| |\\verb|+|\\verb| |\\verb|3*q^3|\\verb| |\\verb|+|\\verb| |\\verb|3*q^2|\\verb| |\\verb|+|\\verb| |\\verb|2*q|\\verb| |\\verb|+|\\verb| |\\verb|2,|\\verb| |\\verb|q^9|\\verb| |\\verb|+|\\verb| |\\verb|q^8|\\verb| |\\verb|+|\\verb| |\\verb|2*q^7|\\verb| |\\verb|+|\\verb| |\\verb|3*q^6|\\verb| |\\verb|+|\\verb| |\\verb|3*q^5|\\verb| |\\verb|+|\\verb| |\\verb|4*q^4|\\verb| |\\verb|+|\\verb| |\\verb|4*q^3|\\verb| |\\verb|+|\\verb| |\\verb|3*q^2|\\verb| |\\verb|+|\\verb| |\\verb|2*q|\\verb| |\\verb|+|\\verb| |\\verb|2,...),...)|\\)</html>"
      ],
      "text/latex": [
       "$\\displaystyle \\verb|Sequence|\\verb| |\\verb|over|\\verb| |\\verb|[Set|\\verb| |\\verb|of|\\verb| |\\verb|Sequences|\\verb| |\\verb|from|\\verb| |\\verb|NN|\\verb| |\\verb|to|\\verb| |\\verb|Univariate|\\verb| |\\verb|Polynomial|\\verb| |\\verb|Ring|\\verb| |\\verb|in|\\verb| |\\verb|z|\\verb| |\\verb|over|\\verb| |\\verb|Fraction|\\verb| |\\verb|Field|\\verb| |\\verb|of|\\verb| |\\verb|Univariate|\\verb| |\\verb|Polynomial|\\verb| |\\verb|Ring|\\verb| |\\verb|in|\\verb| |\\verb|q|\\verb| |\\verb|over|\\verb| |\\verb|Rational|\\verb| |\\verb|Field]:|\\verb| |\\verb|(Sequence|\\verb| |\\verb|over|\\verb| |\\verb|[Univariate|\\verb| |\\verb|Polynomial|\\verb| |\\verb|Ring|\\verb| |\\verb|in|\\verb| |\\verb|z|\\verb| |\\verb|over|\\verb| |\\verb|Fraction|\\verb| |\\verb|Field|\\verb| |\\verb|of|\\verb| |\\verb|Univariate|\\verb| |\\verb|Polynomial|\\verb| |\\verb|Ring|\\verb| |\\verb|in|\\verb| |\\verb|q|\\verb| |\\verb|over|\\verb| |\\verb|Rational|\\verb| |\\verb|Field]:|\\verb| |\\verb|(q|\\verb| |\\verb|+|\\verb| |\\verb|1,|\\verb| |\\verb|q^2|\\verb| |\\verb|+|\\verb| |\\verb|q|\\verb| |\\verb|+|\\verb| |\\verb|1,|\\verb| |\\verb|q^3|\\verb| |\\verb|+|\\verb| |\\verb|q^2|\\verb| |\\verb|+|\\verb| |\\verb|q|\\verb| |\\verb|+|\\verb| |\\verb|1,...),|\\verb| |\\verb|Sequence|\\verb| |\\verb|over|\\verb| |\\verb|[Univariate|\\verb| |\\verb|Polynomial|\\verb| |\\verb|Ring|\\verb| |\\verb|in|\\verb| |\\verb|z|\\verb| |\\verb|over|\\verb| |\\verb|Fraction|\\verb| |\\verb|Field|\\verb| |\\verb|of|\\verb| |\\verb|Univariate|\\verb| |\\verb|Polynomial|\\verb| |\\verb|Ring|\\verb| |\\verb|in|\\verb| |\\verb|q|\\verb| |\\verb|over|\\verb| |\\verb|Rational|\\verb| |\\verb|Field]:|\\verb| |\\verb|(q^2|\\verb| |\\verb|+|\\verb| |\\verb|q|\\verb| |\\verb|+|\\verb| |\\verb|2,|\\verb| |\\verb|q^4|\\verb| |\\verb|+|\\verb| |\\verb|q^3|\\verb| |\\verb|+|\\verb| |\\verb|2*q^2|\\verb| |\\verb|+|\\verb| |\\verb|q|\\verb| |\\verb|+|\\verb| |\\verb|2,|\\verb| |\\verb|q^6|\\verb| |\\verb|+|\\verb| |\\verb|q^5|\\verb| |\\verb|+|\\verb| |\\verb|2*q^4|\\verb| |\\verb|+|\\verb| |\\verb|2*q^3|\\verb| |\\verb|+|\\verb| |\\verb|2*q^2|\\verb| |\\verb|+|\\verb| |\\verb|q|\\verb| |\\verb|+|\\verb| |\\verb|2,...),|\\verb| |\\verb|Sequence|\\verb| |\\verb|over|\\verb| |\\verb|[Univariate|\\verb| |\\verb|Polynomial|\\verb| |\\verb|Ring|\\verb| |\\verb|in|\\verb| |\\verb|z|\\verb| |\\verb|over|\\verb| |\\verb|Fraction|\\verb| |\\verb|Field|\\verb| |\\verb|of|\\verb| |\\verb|Univariate|\\verb| |\\verb|Polynomial|\\verb| |\\verb|Ring|\\verb| |\\verb|in|\\verb| |\\verb|q|\\verb| |\\verb|over|\\verb| |\\verb|Rational|\\verb| |\\verb|Field]:|\\verb| |\\verb|(q^3|\\verb| |\\verb|+|\\verb| |\\verb|2*q^2|\\verb| |\\verb|+|\\verb| |\\verb|2*q|\\verb| |\\verb|+|\\verb| |\\verb|2,|\\verb| |\\verb|q^6|\\verb| |\\verb|+|\\verb| |\\verb|q^5|\\verb| |\\verb|+|\\verb| |\\verb|2*q^4|\\verb| |\\verb|+|\\verb| |\\verb|3*q^3|\\verb| |\\verb|+|\\verb| |\\verb|3*q^2|\\verb| |\\verb|+|\\verb| |\\verb|2*q|\\verb| |\\verb|+|\\verb| |\\verb|2,|\\verb| |\\verb|q^9|\\verb| |\\verb|+|\\verb| |\\verb|q^8|\\verb| |\\verb|+|\\verb| |\\verb|2*q^7|\\verb| |\\verb|+|\\verb| |\\verb|3*q^6|\\verb| |\\verb|+|\\verb| |\\verb|3*q^5|\\verb| |\\verb|+|\\verb| |\\verb|4*q^4|\\verb| |\\verb|+|\\verb| |\\verb|4*q^3|\\verb| |\\verb|+|\\verb| |\\verb|3*q^2|\\verb| |\\verb|+|\\verb| |\\verb|2*q|\\verb| |\\verb|+|\\verb| |\\verb|2,...),...)|$"
      ],
      "text/plain": [
       "Sequence over [Set of Sequences from NN to Univariate Polynomial Ring in z over Fraction Field of Univariate Polynomial Ring in q over Rational Field]: (Sequence over [Univariate Polynomial Ring in z over Fraction Field of Univariate Polynomial Ring in q over Rational Field]: (q + 1, q^2 + q + 1, q^3 + q^2 + q + 1,...), Sequence over [Univariate Polynomial Ring in z over Fraction Field of Univariate Polynomial Ring in q over Rational Field]: (q^2 + q + 2, q^4 + q^3 + 2*q^2 + q + 2, q^6 + q^5 + 2*q^4 + 2*q^3 + 2*q^2 + q + 2,...), Sequence over [Univariate Polynomial Ring in z over Fraction Field of Univariate Polynomial Ring in q over Rational Field]: (q^3 + 2*q^2 + 2*q + 2, q^6 + q^5 + 2*q^4 + 3*q^3 + 3*q^2 + 2*q + 2, q^9 + q^8 + 2*q^7 + 3*q^6 + 3*q^5 + 4*q^4 + 4*q^3 + 3*q^2 + 2*q + 2,...),...)"
      ]
     },
     "execution_count": 24,
     "metadata": {},
     "output_type": "execute_result"
    }
   ],
   "source": [
    "B.shift_in(1) - B.QPower()*B + B.shift(1)"
   ]
  },
  {
   "cell_type": "code",
   "execution_count": 27,
   "id": "65b1a2e8-5847-49eb-9420-a7eafd318e9b",
   "metadata": {},
   "outputs": [
    {
     "ename": "TypeError",
     "evalue": "unsupported operand parent(s) for /: 'Set of Sequences from NN to Fraction Field of Univariate Polynomial Ring in q over Rational Field' and 'Set of Sequences from NN to Fraction Field of Univariate Polynomial Ring in q over Rational Field'",
     "output_type": "error",
     "traceback": [
      "\u001b[0;31m---------------------------------------------------------------------------\u001b[0m",
      "\u001b[0;31mAttributeError\u001b[0m                            Traceback (most recent call last)",
      "File \u001b[0;32m~/sage/src/sage/structure/element.pyx:1771\u001b[0m, in \u001b[0;36msage.structure.element.Element._div_\u001b[0;34m()\u001b[0m\n\u001b[1;32m   1770\u001b[0m try:\n\u001b[0;32m-> 1771\u001b[0m     python_op = (<object>self)._div_\n\u001b[1;32m   1772\u001b[0m except AttributeError:\n",
      "File \u001b[0;32m~/sage/src/sage/structure/element.pyx:494\u001b[0m, in \u001b[0;36msage.structure.element.Element.__getattr__\u001b[0;34m()\u001b[0m\n\u001b[1;32m    493\u001b[0m \"\"\"\n\u001b[0;32m--> 494\u001b[0m return self.getattr_from_category(name)\n\u001b[1;32m    495\u001b[0m \n",
      "File \u001b[0;32m~/sage/src/sage/structure/element.pyx:507\u001b[0m, in \u001b[0;36msage.structure.element.Element.getattr_from_category\u001b[0;34m()\u001b[0m\n\u001b[1;32m    506\u001b[0m     cls = P._abstract_element_class\n\u001b[0;32m--> 507\u001b[0m return getattr_from_other_class(self, cls, name)\n\u001b[1;32m    508\u001b[0m \n",
      "File \u001b[0;32m~/sage/src/sage/cpython/getattr.pyx:361\u001b[0m, in \u001b[0;36msage.cpython.getattr.getattr_from_other_class\u001b[0;34m()\u001b[0m\n\u001b[1;32m    360\u001b[0m     dummy_error_message.name = name\n\u001b[0;32m--> 361\u001b[0m     raise AttributeError(dummy_error_message)\n\u001b[1;32m    362\u001b[0m attribute = <object>attr\n",
      "\u001b[0;31mAttributeError\u001b[0m: 'PolynomialRing_field_with_category' object has no attribute '__custom_name'",
      "\nDuring handling of the above exception, another exception occurred:\n",
      "\u001b[0;31mTypeError\u001b[0m                                 Traceback (most recent call last)",
      "Input \u001b[0;32mIn [27]\u001b[0m, in \u001b[0;36m<cell line: 1>\u001b[0;34m()\u001b[0m\n\u001b[0;32m----> 1\u001b[0m \u001b[43mInteger\u001b[49m\u001b[43m(\u001b[49m\u001b[38;5;241;43m1\u001b[39;49m\u001b[43m)\u001b[49m\u001b[38;5;241;43m/\u001b[39;49m\u001b[43mQPower\u001b[49m\n",
      "File \u001b[0;32m~/sage/src/sage/rings/integer.pyx:2037\u001b[0m, in \u001b[0;36msage.rings.integer.Integer.__truediv__\u001b[0;34m()\u001b[0m\n\u001b[1;32m   2035\u001b[0m         return y\n\u001b[1;32m   2036\u001b[0m \n\u001b[0;32m-> 2037\u001b[0m     return coercion_model.bin_op(left, right, operator.truediv)\n\u001b[1;32m   2038\u001b[0m \n\u001b[1;32m   2039\u001b[0m cpdef _div_(self, right):\n",
      "File \u001b[0;32m~/sage/src/sage/structure/coerce.pyx:1204\u001b[0m, in \u001b[0;36msage.structure.coerce.CoercionModel.bin_op\u001b[0;34m()\u001b[0m\n\u001b[1;32m   1202\u001b[0m     self._record_exception()\n\u001b[1;32m   1203\u001b[0m else:\n\u001b[0;32m-> 1204\u001b[0m     return PyObject_CallObject(op, xy)\n\u001b[1;32m   1205\u001b[0m \n\u001b[1;32m   1206\u001b[0m if op is mul:\n",
      "File \u001b[0;32m~/sage/src/sage/structure/element.pyx:1737\u001b[0m, in \u001b[0;36msage.structure.element.Element.__truediv__\u001b[0;34m()\u001b[0m\n\u001b[1;32m   1735\u001b[0m cdef int cl = classify_elements(left, right)\n\u001b[1;32m   1736\u001b[0m if HAVE_SAME_PARENT(cl):\n\u001b[0;32m-> 1737\u001b[0m     return (<Element>left)._div_(right)\n\u001b[1;32m   1738\u001b[0m if BOTH_ARE_ELEMENT(cl):\n\u001b[1;32m   1739\u001b[0m     return coercion_model.bin_op(left, right, truediv)\n",
      "File \u001b[0;32m~/sage/src/sage/structure/element.pyx:1773\u001b[0m, in \u001b[0;36msage.structure.element.Element._div_\u001b[0;34m()\u001b[0m\n\u001b[1;32m   1771\u001b[0m     python_op = (<object>self)._div_\n\u001b[1;32m   1772\u001b[0m except AttributeError:\n\u001b[0;32m-> 1773\u001b[0m     raise bin_op_exception('/', self, other)\n\u001b[1;32m   1774\u001b[0m else:\n\u001b[1;32m   1775\u001b[0m     return python_op(other)\n",
      "\u001b[0;31mTypeError\u001b[0m: unsupported operand parent(s) for /: 'Set of Sequences from NN to Fraction Field of Univariate Polynomial Ring in q over Rational Field' and 'Set of Sequences from NN to Fraction Field of Univariate Polynomial Ring in q over Rational Field'"
     ]
    }
   ],
   "source": [
    "1/QPower"
   ]
  },
  {
   "cell_type": "code",
   "execution_count": null,
   "id": "d03149b5-e683-448b-8383-207416d2d11b",
   "metadata": {},
   "outputs": [],
   "source": []
  },
  {
   "cell_type": "code",
   "execution_count": null,
   "id": "7b63e718-644e-4568-bd4d-0f77548eb9d5",
   "metadata": {},
   "outputs": [],
   "source": []
  },
  {
   "cell_type": "markdown",
   "id": "c7a61eef-1f46-4cf0-a6a5-bd23d22257a1",
   "metadata": {
    "jp-MarkdownHeadingCollapsed": true,
    "tags": []
   },
   "source": [
    "### A more ellaborate identity (Theorem 3.4 - identity 3.3.8)\n",
    "\n",
    "Consider now the following sequence:\n",
    "$$a_m = \\left\\{\\begin{array}{ll}\n",
    "    (q;q^2)_n & \\text{if }m = 2n\\\\\n",
    "    0 & \\text{otherwise}\n",
    "\\end{array}\\right.$$"
   ]
  },
  {
   "cell_type": "code",
   "execution_count": 20,
   "id": "4c21f504-0f13-45cb-8eb8-21deef7450fa",
   "metadata": {},
   "outputs": [
    {
     "data": {
      "text/html": [
       "<html>\\(\\displaystyle \\left[1, 0, -q + 1, 0, q^{4} - q^{3} - q + 1\\right]\\)</html>"
      ],
      "text/latex": [
       "$\\displaystyle \\left[1, 0, -q + 1, 0, q^{4} - q^{3} - q + 1\\right]$"
      ],
      "text/plain": [
       "[1, 0, -q + 1, 0, q^4 - q^3 - q + 1]"
      ]
     },
     "execution_count": 20,
     "metadata": {},
     "output_type": "execute_result"
    }
   ],
   "source": [
    "q = B.base('q')\n",
    "def am_func(m):\n",
    "    if m % 2 == 0:\n",
    "        return qpochhammer(q,m//2, q^2)\n",
    "    return 0\n",
    "am = LambdaSequence(am_func, B.base)\n",
    "am[:5]"
   ]
  },
  {
   "cell_type": "markdown",
   "id": "c692d72a-7f1c-43a4-8618-08d673cf76c0",
   "metadata": {},
   "source": [
    "Now, we want to write this sequence using the $q$-binomial basis, in the following way:\n",
    "$$a_m = \\sum_{k = 0}^m c_k \\qbinom{m}{k}.$$\n",
    "\n",
    "If we manage to obtain an operator $L$ that annihilates $a_m$, then we can compute an operator that annihilates $(c_k)_k$.\n",
    "\n",
    "This operator $L$ can be computed easily from the definition of $a_m$, obtaining:\n",
    "$$L = E_m^2 - 1 + qQ.$$\n",
    "We check this using the following code:"
   ]
  },
  {
   "cell_type": "code",
   "execution_count": 21,
   "id": "9a7e311e-ac24-4090-adc6-8b71afcb90f8",
   "metadata": {},
   "outputs": [
    {
     "data": {
      "text/html": [
       "<html>\\(\\displaystyle \\mathrm{True}\\)</html>"
      ],
      "text/latex": [
       "$\\displaystyle \\mathrm{True}$"
      ],
      "text/plain": [
       "True"
      ]
     },
     "execution_count": 21,
     "metadata": {},
     "output_type": "execute_result"
    }
   ],
   "source": [
    "Q, S, Si = A.gens()\n",
    "L = S^2 - 1 + q*Q\n",
    "L.apply(am, actions).almost_zero(50)"
   ]
  },
  {
   "cell_type": "markdown",
   "id": "cbdb02e3-f955-4fe5-b052-b68c62440dfb",
   "metadata": {},
   "source": [
    "Hence we can compute the recursion for $(c_k)_k$ by substituing the compatibility operators into $L$:"
   ]
  },
  {
   "cell_type": "code",
   "execution_count": 22,
   "id": "834e7cad-1486-4ec2-bff6-293a8a6693fe",
   "metadata": {},
   "outputs": [
    {
     "name": "stderr",
     "output_type": "stream",
     "text": [
      "The coefficients of -1 + q*Q + Sn^2 are not been converted using compatibilities -- Not yet implemented\n"
     ]
    },
    {
     "data": {
      "text/html": [
       "<html>\\(\\displaystyle -1 + q Q + Q^{2} + \\left(q + 1\\right) Q \\mathit{Sn} - Q \\mathit{Sni} + \\mathit{Sn}^{2} + Q^{2}\\mathit{Sni}\\)</html>"
      ],
      "text/latex": [
       "$\\displaystyle -1 + q Q + Q^{2} + \\left(q + 1\\right) Q \\mathit{Sn} - Q \\mathit{Sni} + \\mathit{Sn}^{2} + Q^{2}\\mathit{Sni}$"
      ],
      "text/plain": [
       "-1 + q*Q + Q^2 + (q+1)*Q*Sn - Q*Sni + Sn^2 + Q^2*Sni"
      ]
     },
     "metadata": {},
     "output_type": "display_data"
    },
    {
     "data": {
      "text/html": [
       "<html>\\(\\displaystyle \\left[1, -1, 1, -1, 1, -1, 1, -1, 1, -1\\right]\\)</html>"
      ],
      "text/latex": [
       "$\\displaystyle \\left[1, -1, 1, -1, 1, -1, 1, -1, 1, -1\\right]$"
      ],
      "text/plain": [
       "[1, -1, 1, -1, 1, -1, 1, -1, 1, -1]"
      ]
     },
     "execution_count": 22,
     "metadata": {},
     "output_type": "execute_result"
    }
   ],
   "source": [
    "L_comp = B.recurrence(L)\n",
    "show(L_comp)\n",
    "ck = solution(L_comp, B.functional_to_self(am, required_init(L_comp)))\n",
    "ck[:10]"
   ]
  },
  {
   "cell_type": "markdown",
   "id": "163fc205-a8d1-489a-a974-1d45c6179cc5",
   "metadata": {},
   "source": [
    "In the theorem 3.4, indentity 3.3.8, they claim the sequence $c_k = (-1)^k$. Using closure properties over $L_{comp}$ and the annihilator of $(-1)^k$ (which would be $S + 1$) we could prove symbolically that these two sequence are the same. However, we will simply check that $(-1)^k$ isannihilated by our $L_{comp}$: "
   ]
  },
  {
   "cell_type": "code",
   "execution_count": 23,
   "id": "6342b8a3-2082-4869-8e38-c30f1021f6d6",
   "metadata": {},
   "outputs": [
    {
     "data": {
      "text/html": [
       "<html>\\(\\displaystyle \\mathrm{True}\\)</html>"
      ],
      "text/latex": [
       "$\\displaystyle \\mathrm{True}$"
      ],
      "text/plain": [
       "True"
      ]
     },
     "execution_count": 23,
     "metadata": {},
     "output_type": "execute_result"
    }
   ],
   "source": [
    "ck_real = LambdaSequence(lambda k : (-1)**k, B.base)\n",
    "ck.almost_equals(ck_real, 100)"
   ]
  },
  {
   "cell_type": "markdown",
   "id": "5a2e63aa-cabb-4eba-a124-758dce80f759",
   "metadata": {
    "tags": []
   },
   "source": [
    "### A weird binomial identity (Theorem 3.4 - identity 3.3.9)"
   ]
  },
  {
   "cell_type": "markdown",
   "id": "fe8c3496-d00c-403e-8abe-a0fe72f94095",
   "metadata": {},
   "source": [
    "In this example, we have the following identity:\n",
    "$$\\qbinom{n+m+1}{m+1} = \\sum_{j=0}^n q^j\\qbinom{m+j}{m}.$$\n",
    "\n",
    "This identity looks like something we can prove using our code. However, we have a couple of issues with this:\n",
    "\n",
    "* The $q$-binomial used in this identity do not have the summing parameter in the bottom: we need to adapt the compatibilities for this type of basis.\n",
    "* $n$ is a parameter. Hence we are going to add two parameters to the base field: $n$ and $q^n$.\n",
    "\n",
    "Let us start by obtaining a valid field for this identity and then, we will compute a recurrence that annihilates the left-hand side of the identity:"
   ]
  },
  {
   "cell_type": "code",
   "execution_count": 37,
   "id": "17bcfe20-b72c-4aa9-9081-4ecd024bdfea",
   "metadata": {},
   "outputs": [],
   "source": [
    "from pseries_basis.qbasis.qbasis import qbinomial\n",
    "D = QQ['n','q_n'].fraction_field(); n,qn = D.gens()\n",
    "aux_B = QBasis(D, LambdaSequence(lambda *n : 1, universe = QQ, dim=2)); q = aux_B.q(); F = aux_B.base\n",
    "lhs = LambdaSequence(lambda m : prod([(1-qn*q**(m+1-i))/(1-q**(i+1)) for i in range(m+1)]), universe = F)"
   ]
  },
  {
   "cell_type": "code",
   "execution_count": 48,
   "id": "f992df83-e530-45e3-9ce4-e964f38b705d",
   "metadata": {},
   "outputs": [
    {
     "data": {
      "text/html": [
       "<html>\\(\\displaystyle -1 + q_{n} q^{2} Q + \\mathit{Sn} + \\left(-q^{2}\\right) Q \\mathit{Sn}\\)</html>"
      ],
      "text/latex": [
       "$\\displaystyle -1 + q_{n} q^{2} Q + \\mathit{Sn} + \\left(-q^{2}\\right) Q \\mathit{Sn}$"
      ],
      "text/plain": [
       "-1 + q_n*q^2*Q + Sn + (-q^2)*Q*Sn"
      ]
     },
     "metadata": {},
     "output_type": "display_data"
    },
    {
     "data": {
      "text/html": [
       "<html>\\(\\displaystyle \\mathrm{True}\\)</html>"
      ],
      "text/latex": [
       "$\\displaystyle \\mathrm{True}$"
      ],
      "text/plain": [
       "True"
      ]
     },
     "execution_count": 48,
     "metadata": {},
     "output_type": "execute_result"
    }
   ],
   "source": [
    "Q, Sn, Sni = aux_B.Q(), aux_B.Sn(), aux_B.Sni()\n",
    "L_lhs = (1-q**2*Q)*Sn - (q**2*(1-qn)*Q+1-q**2*Q); show(L_lhs)\n",
    "sol_lhs = solution(L_lhs, [lhs[0]])\n",
    "sol_lhs.almost_equals(lhs, 20)"
   ]
  },
  {
   "cell_type": "markdown",
   "id": "7cc138b0-4f2e-4b61-8120-4bbd706e21f1",
   "metadata": {},
   "source": [
    "The operator we got is pretty simple, although it involves the constant $q^n$. Now we need to define the basis of the right-hand side of the identity. This basis should involve everything that involves the variabl $m$. In this case, it is simply the $q$-binomial coefficient $\\qbinom{m+j}{m}$. Unfortunately, this is not yet included in the class `QBinomialBasis`. Let us build this basis from scratch:"
   ]
  },
  {
   "cell_type": "code",
   "execution_count": 51,
   "id": "d4f5bc78-2974-41c6-908f-18714505ca16",
   "metadata": {},
   "outputs": [
    {
     "data": {
      "text/html": [
       "<html>\\(\\displaystyle \\left(\\begin{array}{rrrrr}\n",
       "1 & 1 & 1 & 1 & 1 \\\\\n",
       "1 & q + 1 & q^{2} + q + 1 & q^{3} + q^{2} + q + 1 & q^{4} + q^{3} + q^{2} + q + 1 \\\\\n",
       "1 & q^{2} + q + 1 & q^{4} + q^{3} + 2 q^{2} + q + 1 & q^{6} + q^{5} + 2 q^{4} + 2 q^{3} + 2 q^{2} + q + 1 & q^{8} + q^{7} + 2 q^{6} + 2 q^{5} + 3 q^{4} + 2 q^{3} + 2 q^{2} + q + 1 \\\\\n",
       "1 & q^{3} + q^{2} + q + 1 & q^{6} + q^{5} + 2 q^{4} + 2 q^{3} + 2 q^{2} + q + 1 & q^{9} + q^{8} + 2 q^{7} + 3 q^{6} + 3 q^{5} + 3 q^{4} + 3 q^{3} + 2 q^{2} + q + 1 & q^{12} + q^{11} + 2 q^{10} + 3 q^{9} + 4 q^{8} + 4 q^{7} + 5 q^{6} + 4 q^{5} + 4 q^{4} + 3 q^{3} + 2 q^{2} + q + 1 \\\\\n",
       "1 & q^{4} + q^{3} + q^{2} + q + 1 & q^{8} + q^{7} + 2 q^{6} + 2 q^{5} + 3 q^{4} + 2 q^{3} + 2 q^{2} + q + 1 & q^{12} + q^{11} + 2 q^{10} + 3 q^{9} + 4 q^{8} + 4 q^{7} + 5 q^{6} + 4 q^{5} + 4 q^{4} + 3 q^{3} + 2 q^{2} + q + 1 & q^{16} + q^{15} + 2 q^{14} + 3 q^{13} + 5 q^{12} + 5 q^{11} + 7 q^{10} + 7 q^{9} + 8 q^{8} + 7 q^{7} + 7 q^{6} + 5 q^{5} + 5 q^{4} + 3 q^{3} + 2 q^{2} + q + 1\n",
       "\\end{array}\\right)\\)</html>"
      ],
      "text/latex": [
       "$\\displaystyle \\left(\\begin{array}{rrrrr}\n",
       "1 & 1 & 1 & 1 & 1 \\\\\n",
       "1 & q + 1 & q^{2} + q + 1 & q^{3} + q^{2} + q + 1 & q^{4} + q^{3} + q^{2} + q + 1 \\\\\n",
       "1 & q^{2} + q + 1 & q^{4} + q^{3} + 2 q^{2} + q + 1 & q^{6} + q^{5} + 2 q^{4} + 2 q^{3} + 2 q^{2} + q + 1 & q^{8} + q^{7} + 2 q^{6} + 2 q^{5} + 3 q^{4} + 2 q^{3} + 2 q^{2} + q + 1 \\\\\n",
       "1 & q^{3} + q^{2} + q + 1 & q^{6} + q^{5} + 2 q^{4} + 2 q^{3} + 2 q^{2} + q + 1 & q^{9} + q^{8} + 2 q^{7} + 3 q^{6} + 3 q^{5} + 3 q^{4} + 3 q^{3} + 2 q^{2} + q + 1 & q^{12} + q^{11} + 2 q^{10} + 3 q^{9} + 4 q^{8} + 4 q^{7} + 5 q^{6} + 4 q^{5} + 4 q^{4} + 3 q^{3} + 2 q^{2} + q + 1 \\\\\n",
       "1 & q^{4} + q^{3} + q^{2} + q + 1 & q^{8} + q^{7} + 2 q^{6} + 2 q^{5} + 3 q^{4} + 2 q^{3} + 2 q^{2} + q + 1 & q^{12} + q^{11} + 2 q^{10} + 3 q^{9} + 4 q^{8} + 4 q^{7} + 5 q^{6} + 4 q^{5} + 4 q^{4} + 3 q^{3} + 2 q^{2} + q + 1 & q^{16} + q^{15} + 2 q^{14} + 3 q^{13} + 5 q^{12} + 5 q^{11} + 7 q^{10} + 7 q^{9} + 8 q^{8} + 7 q^{7} + 7 q^{6} + 5 q^{5} + 5 q^{4} + 3 q^{3} + 2 q^{2} + q + 1\n",
       "\\end{array}\\right)$"
      ],
      "text/plain": [
       "[                                                                                                                               1                                                                                                                                1                                                                                                                                1                                                                                                                                1                                                                                                                                1]\n",
       "[                                                                                                                               1                                                                                                                            q + 1                                                                                                                      q^2 + q + 1                                                                                                                q^3 + q^2 + q + 1                                                                                                          q^4 + q^3 + q^2 + q + 1]\n",
       "[                                                                                                                               1                                                                                                                      q^2 + q + 1                                                                                                        q^4 + q^3 + 2*q^2 + q + 1                                                                                        q^6 + q^5 + 2*q^4 + 2*q^3 + 2*q^2 + q + 1                                                                        q^8 + q^7 + 2*q^6 + 2*q^5 + 3*q^4 + 2*q^3 + 2*q^2 + q + 1]\n",
       "[                                                                                                                               1                                                                                                                q^3 + q^2 + q + 1                                                                                        q^6 + q^5 + 2*q^4 + 2*q^3 + 2*q^2 + q + 1                                                                q^9 + q^8 + 2*q^7 + 3*q^6 + 3*q^5 + 3*q^4 + 3*q^3 + 2*q^2 + q + 1                                     q^12 + q^11 + 2*q^10 + 3*q^9 + 4*q^8 + 4*q^7 + 5*q^6 + 4*q^5 + 4*q^4 + 3*q^3 + 2*q^2 + q + 1]\n",
       "[                                                                                                                               1                                                                                                          q^4 + q^3 + q^2 + q + 1                                                                        q^8 + q^7 + 2*q^6 + 2*q^5 + 3*q^4 + 2*q^3 + 2*q^2 + q + 1                                     q^12 + q^11 + 2*q^10 + 3*q^9 + 4*q^8 + 4*q^7 + 5*q^6 + 4*q^5 + 4*q^4 + 3*q^3 + 2*q^2 + q + 1 q^16 + q^15 + 2*q^14 + 3*q^13 + 5*q^12 + 5*q^11 + 7*q^10 + 7*q^9 + 8*q^8 + 7*q^7 + 7*q^6 + 5*q^5 + 5*q^4 + 3*q^3 + 2*q^2 + q + 1]"
      ]
     },
     "execution_count": 51,
     "metadata": {},
     "output_type": "execute_result"
    }
   ],
   "source": [
    "B = QBasis(F, LambdaSequence(lambda j, m : qbinomial(m+j,m,q), F, 2), False)\n",
    "B.functional_matrix(5)"
   ]
  },
  {
   "cell_type": "markdown",
   "id": "a27bd5f0-521b-4bce-8587-4327bbde289a",
   "metadata": {},
   "source": [
    "Now we need to discover the compatibilities with the usual operators: $S_n$ and multiplication by the sequence $q^m$:"
   ]
  },
  {
   "cell_type": "code",
   "execution_count": 54,
   "id": "0594763e-5751-41b5-ab4c-470cfc0f49af",
   "metadata": {},
   "outputs": [
    {
     "data": {
      "text/html": [
       "<html>\\(\\displaystyle \\left(\\begin{array}{rrrrr}\n",
       "1 & q & q^{2} & q^{3} & q^{4} \\\\\n",
       "1 & q^{2} + q & q^{4} + q^{3} + q^{2} & q^{6} + q^{5} + q^{4} + q^{3} & q^{8} + q^{7} + q^{6} + q^{5} + q^{4} \\\\\n",
       "1 & q^{3} + q^{2} + q & q^{6} + q^{5} + 2 q^{4} + q^{3} + q^{2} & q^{9} + q^{8} + 2 q^{7} + 2 q^{6} + 2 q^{5} + q^{4} + q^{3} & q^{12} + q^{11} + 2 q^{10} + 2 q^{9} + 3 q^{8} + 2 q^{7} + 2 q^{6} + q^{5} + q^{4} \\\\\n",
       "1 & q^{4} + q^{3} + q^{2} + q & q^{8} + q^{7} + 2 q^{6} + 2 q^{5} + 2 q^{4} + q^{3} + q^{2} & q^{12} + q^{11} + 2 q^{10} + 3 q^{9} + 3 q^{8} + 3 q^{7} + 3 q^{6} + 2 q^{5} + q^{4} + q^{3} & q^{16} + q^{15} + 2 q^{14} + 3 q^{13} + 4 q^{12} + 4 q^{11} + 5 q^{10} + 4 q^{9} + 4 q^{8} + 3 q^{7} + 2 q^{6} + q^{5} + q^{4} \\\\\n",
       "1 & q^{5} + q^{4} + q^{3} + q^{2} + q & q^{10} + q^{9} + 2 q^{8} + 2 q^{7} + 3 q^{6} + 2 q^{5} + 2 q^{4} + q^{3} + q^{2} & q^{15} + q^{14} + 2 q^{13} + 3 q^{12} + 4 q^{11} + 4 q^{10} + 5 q^{9} + 4 q^{8} + 4 q^{7} + 3 q^{6} + 2 q^{5} + q^{4} + q^{3} & q^{20} + q^{19} + 2 q^{18} + 3 q^{17} + 5 q^{16} + 5 q^{15} + 7 q^{14} + 7 q^{13} + 8 q^{12} + 7 q^{11} + 7 q^{10} + 5 q^{9} + 5 q^{8} + 3 q^{7} + 2 q^{6} + q^{5} + q^{4}\n",
       "\\end{array}\\right)\\)</html>"
      ],
      "text/latex": [
       "$\\displaystyle \\left(\\begin{array}{rrrrr}\n",
       "1 & q & q^{2} & q^{3} & q^{4} \\\\\n",
       "1 & q^{2} + q & q^{4} + q^{3} + q^{2} & q^{6} + q^{5} + q^{4} + q^{3} & q^{8} + q^{7} + q^{6} + q^{5} + q^{4} \\\\\n",
       "1 & q^{3} + q^{2} + q & q^{6} + q^{5} + 2 q^{4} + q^{3} + q^{2} & q^{9} + q^{8} + 2 q^{7} + 2 q^{6} + 2 q^{5} + q^{4} + q^{3} & q^{12} + q^{11} + 2 q^{10} + 2 q^{9} + 3 q^{8} + 2 q^{7} + 2 q^{6} + q^{5} + q^{4} \\\\\n",
       "1 & q^{4} + q^{3} + q^{2} + q & q^{8} + q^{7} + 2 q^{6} + 2 q^{5} + 2 q^{4} + q^{3} + q^{2} & q^{12} + q^{11} + 2 q^{10} + 3 q^{9} + 3 q^{8} + 3 q^{7} + 3 q^{6} + 2 q^{5} + q^{4} + q^{3} & q^{16} + q^{15} + 2 q^{14} + 3 q^{13} + 4 q^{12} + 4 q^{11} + 5 q^{10} + 4 q^{9} + 4 q^{8} + 3 q^{7} + 2 q^{6} + q^{5} + q^{4} \\\\\n",
       "1 & q^{5} + q^{4} + q^{3} + q^{2} + q & q^{10} + q^{9} + 2 q^{8} + 2 q^{7} + 3 q^{6} + 2 q^{5} + 2 q^{4} + q^{3} + q^{2} & q^{15} + q^{14} + 2 q^{13} + 3 q^{12} + 4 q^{11} + 4 q^{10} + 5 q^{9} + 4 q^{8} + 4 q^{7} + 3 q^{6} + 2 q^{5} + q^{4} + q^{3} & q^{20} + q^{19} + 2 q^{18} + 3 q^{17} + 5 q^{16} + 5 q^{15} + 7 q^{14} + 7 q^{13} + 8 q^{12} + 7 q^{11} + 7 q^{10} + 5 q^{9} + 5 q^{8} + 3 q^{7} + 2 q^{6} + q^{5} + q^{4}\n",
       "\\end{array}\\right)$"
      ],
      "text/plain": [
       "[                                                                                                                                       1                                                                                                                                        q                                                                                                                                      q^2                                                                                                                                      q^3                                                                                                                                      q^4]\n",
       "[                                                                                                                                       1                                                                                                                                  q^2 + q                                                                                                                          q^4 + q^3 + q^2                                                                                                                    q^6 + q^5 + q^4 + q^3                                                                                                              q^8 + q^7 + q^6 + q^5 + q^4]\n",
       "[                                                                                                                                       1                                                                                                                            q^3 + q^2 + q                                                                                                            q^6 + q^5 + 2*q^4 + q^3 + q^2                                                                                            q^9 + q^8 + 2*q^7 + 2*q^6 + 2*q^5 + q^4 + q^3                                                                         q^12 + q^11 + 2*q^10 + 2*q^9 + 3*q^8 + 2*q^7 + 2*q^6 + q^5 + q^4]\n",
       "[                                                                                                                                       1                                                                                                                      q^4 + q^3 + q^2 + q                                                                                            q^8 + q^7 + 2*q^6 + 2*q^5 + 2*q^4 + q^3 + q^2                                                                 q^12 + q^11 + 2*q^10 + 3*q^9 + 3*q^8 + 3*q^7 + 3*q^6 + 2*q^5 + q^4 + q^3                                     q^16 + q^15 + 2*q^14 + 3*q^13 + 4*q^12 + 4*q^11 + 5*q^10 + 4*q^9 + 4*q^8 + 3*q^7 + 2*q^6 + q^5 + q^4]\n",
       "[                                                                                                                                       1                                                                                                                q^5 + q^4 + q^3 + q^2 + q                                                                           q^10 + q^9 + 2*q^8 + 2*q^7 + 3*q^6 + 2*q^5 + 2*q^4 + q^3 + q^2                                      q^15 + q^14 + 2*q^13 + 3*q^12 + 4*q^11 + 4*q^10 + 5*q^9 + 4*q^8 + 4*q^7 + 3*q^6 + 2*q^5 + q^4 + q^3 q^20 + q^19 + 2*q^18 + 3*q^17 + 5*q^16 + 5*q^15 + 7*q^14 + 7*q^13 + 8*q^12 + 7*q^11 + 7*q^10 + 5*q^9 + 5*q^8 + 3*q^7 + 2*q^6 + q^5 + q^4]"
      ]
     },
     "execution_count": 54,
     "metadata": {},
     "output_type": "execute_result"
    }
   ],
   "source": [
    "B.mult_in(B.QPower()).functional_matrix(5)"
   ]
  },
  {
   "cell_type": "code",
   "execution_count": 81,
   "id": "ccd36fc8-091b-47d2-9776-8cd31ecdc7da",
   "metadata": {},
   "outputs": [
    {
     "data": {
      "text/html": [
       "<html>\\(\\displaystyle \\left(\\begin{array}{rrrrr}\n",
       "1 & 1 & 1 & 1 & 1 \\\\\n",
       "1 & q + 1 & q^{2} + q + 1 & q^{3} + q^{2} + q + 1 & q^{4} + q^{3} + q^{2} + q + 1 \\\\\n",
       "1 & q^{2} + q + 1 & q^{4} + q^{3} + 2 q^{2} + q + 1 & q^{6} + q^{5} + 2 q^{4} + 2 q^{3} + 2 q^{2} + q + 1 & q^{8} + q^{7} + 2 q^{6} + 2 q^{5} + 3 q^{4} + 2 q^{3} + 2 q^{2} + q + 1 \\\\\n",
       "1 & q^{3} + q^{2} + q + 1 & q^{6} + q^{5} + 2 q^{4} + 2 q^{3} + 2 q^{2} + q + 1 & q^{9} + q^{8} + 2 q^{7} + 3 q^{6} + 3 q^{5} + 3 q^{4} + 3 q^{3} + 2 q^{2} + q + 1 & q^{12} + q^{11} + 2 q^{10} + 3 q^{9} + 4 q^{8} + 4 q^{7} + 5 q^{6} + 4 q^{5} + 4 q^{4} + 3 q^{3} + 2 q^{2} + q + 1 \\\\\n",
       "1 & q^{4} + q^{3} + q^{2} + q + 1 & q^{8} + q^{7} + 2 q^{6} + 2 q^{5} + 3 q^{4} + 2 q^{3} + 2 q^{2} + q + 1 & q^{12} + q^{11} + 2 q^{10} + 3 q^{9} + 4 q^{8} + 4 q^{7} + 5 q^{6} + 4 q^{5} + 4 q^{4} + 3 q^{3} + 2 q^{2} + q + 1 & q^{16} + q^{15} + 2 q^{14} + 3 q^{13} + 5 q^{12} + 5 q^{11} + 7 q^{10} + 7 q^{9} + 8 q^{8} + 7 q^{7} + 7 q^{6} + 5 q^{5} + 5 q^{4} + 3 q^{3} + 2 q^{2} + q + 1\n",
       "\\end{array}\\right)\\)</html>"
      ],
      "text/latex": [
       "$\\displaystyle \\left(\\begin{array}{rrrrr}\n",
       "1 & 1 & 1 & 1 & 1 \\\\\n",
       "1 & q + 1 & q^{2} + q + 1 & q^{3} + q^{2} + q + 1 & q^{4} + q^{3} + q^{2} + q + 1 \\\\\n",
       "1 & q^{2} + q + 1 & q^{4} + q^{3} + 2 q^{2} + q + 1 & q^{6} + q^{5} + 2 q^{4} + 2 q^{3} + 2 q^{2} + q + 1 & q^{8} + q^{7} + 2 q^{6} + 2 q^{5} + 3 q^{4} + 2 q^{3} + 2 q^{2} + q + 1 \\\\\n",
       "1 & q^{3} + q^{2} + q + 1 & q^{6} + q^{5} + 2 q^{4} + 2 q^{3} + 2 q^{2} + q + 1 & q^{9} + q^{8} + 2 q^{7} + 3 q^{6} + 3 q^{5} + 3 q^{4} + 3 q^{3} + 2 q^{2} + q + 1 & q^{12} + q^{11} + 2 q^{10} + 3 q^{9} + 4 q^{8} + 4 q^{7} + 5 q^{6} + 4 q^{5} + 4 q^{4} + 3 q^{3} + 2 q^{2} + q + 1 \\\\\n",
       "1 & q^{4} + q^{3} + q^{2} + q + 1 & q^{8} + q^{7} + 2 q^{6} + 2 q^{5} + 3 q^{4} + 2 q^{3} + 2 q^{2} + q + 1 & q^{12} + q^{11} + 2 q^{10} + 3 q^{9} + 4 q^{8} + 4 q^{7} + 5 q^{6} + 4 q^{5} + 4 q^{4} + 3 q^{3} + 2 q^{2} + q + 1 & q^{16} + q^{15} + 2 q^{14} + 3 q^{13} + 5 q^{12} + 5 q^{11} + 7 q^{10} + 7 q^{9} + 8 q^{8} + 7 q^{7} + 7 q^{6} + 5 q^{5} + 5 q^{4} + 3 q^{3} + 2 q^{2} + q + 1\n",
       "\\end{array}\\right)$"
      ],
      "text/plain": [
       "[                                                                                                                               1                                                                                                                                1                                                                                                                                1                                                                                                                                1                                                                                                                                1]\n",
       "[                                                                                                                               1                                                                                                                            q + 1                                                                                                                      q^2 + q + 1                                                                                                                q^3 + q^2 + q + 1                                                                                                          q^4 + q^3 + q^2 + q + 1]\n",
       "[                                                                                                                               1                                                                                                                      q^2 + q + 1                                                                                                        q^4 + q^3 + 2*q^2 + q + 1                                                                                        q^6 + q^5 + 2*q^4 + 2*q^3 + 2*q^2 + q + 1                                                                        q^8 + q^7 + 2*q^6 + 2*q^5 + 3*q^4 + 2*q^3 + 2*q^2 + q + 1]\n",
       "[                                                                                                                               1                                                                                                                q^3 + q^2 + q + 1                                                                                        q^6 + q^5 + 2*q^4 + 2*q^3 + 2*q^2 + q + 1                                                                q^9 + q^8 + 2*q^7 + 3*q^6 + 3*q^5 + 3*q^4 + 3*q^3 + 2*q^2 + q + 1                                     q^12 + q^11 + 2*q^10 + 3*q^9 + 4*q^8 + 4*q^7 + 5*q^6 + 4*q^5 + 4*q^4 + 3*q^3 + 2*q^2 + q + 1]\n",
       "[                                                                                                                               1                                                                                                          q^4 + q^3 + q^2 + q + 1                                                                        q^8 + q^7 + 2*q^6 + 2*q^5 + 3*q^4 + 2*q^3 + 2*q^2 + q + 1                                     q^12 + q^11 + 2*q^10 + 3*q^9 + 4*q^8 + 4*q^7 + 5*q^6 + 4*q^5 + 4*q^4 + 3*q^3 + 2*q^2 + q + 1 q^16 + q^15 + 2*q^14 + 3*q^13 + 5*q^12 + 5*q^11 + 7*q^10 + 7*q^9 + 8*q^8 + 7*q^7 + 7*q^6 + 5*q^5 + 5*q^4 + 3*q^3 + 2*q^2 + q + 1]"
      ]
     },
     "execution_count": 81,
     "metadata": {},
     "output_type": "execute_result"
    }
   ],
   "source": [
    "Matrix([[(B)[i][j] for j in range(5)] for i in range(5)])"
   ]
  },
  {
   "cell_type": "code",
   "execution_count": 72,
   "id": "2ed845e5-52c4-4095-9171-33482c092247",
   "metadata": {},
   "outputs": [
    {
     "data": {
      "text/html": [
       "<html>\\(\\displaystyle \\left(\\begin{array}{rrrrr}\n",
       "1 & 1 & 1 & 1 & 1 \\\\\n",
       "q + 1 & q^{2} + q + 1 & q^{3} + q^{2} + q + 1 & q^{4} + q^{3} + q^{2} + q + 1 & q^{5} + q^{4} + q^{3} + q^{2} + q + 1 \\\\\n",
       "q^{2} + q + 1 & q^{4} + q^{3} + 2 q^{2} + q + 1 & q^{6} + q^{5} + 2 q^{4} + 2 q^{3} + 2 q^{2} + q + 1 & q^{8} + q^{7} + 2 q^{6} + 2 q^{5} + 3 q^{4} + 2 q^{3} + 2 q^{2} + q + 1 & q^{10} + q^{9} + 2 q^{8} + 2 q^{7} + 3 q^{6} + 3 q^{5} + 3 q^{4} + 2 q^{3} + 2 q^{2} + q + 1 \\\\\n",
       "q^{3} + q^{2} + q + 1 & q^{6} + q^{5} + 2 q^{4} + 2 q^{3} + 2 q^{2} + q + 1 & q^{9} + q^{8} + 2 q^{7} + 3 q^{6} + 3 q^{5} + 3 q^{4} + 3 q^{3} + 2 q^{2} + q + 1 & q^{12} + q^{11} + 2 q^{10} + 3 q^{9} + 4 q^{8} + 4 q^{7} + 5 q^{6} + 4 q^{5} + 4 q^{4} + 3 q^{3} + 2 q^{2} + q + 1 & q^{15} + q^{14} + 2 q^{13} + 3 q^{12} + 4 q^{11} + 5 q^{10} + 6 q^{9} + 6 q^{8} + 6 q^{7} + 6 q^{6} + 5 q^{5} + 4 q^{4} + 3 q^{3} + 2 q^{2} + q + 1 \\\\\n",
       "q^{4} + q^{3} + q^{2} + q + 1 & q^{8} + q^{7} + 2 q^{6} + 2 q^{5} + 3 q^{4} + 2 q^{3} + 2 q^{2} + q + 1 & q^{12} + q^{11} + 2 q^{10} + 3 q^{9} + 4 q^{8} + 4 q^{7} + 5 q^{6} + 4 q^{5} + 4 q^{4} + 3 q^{3} + 2 q^{2} + q + 1 & q^{16} + q^{15} + 2 q^{14} + 3 q^{13} + 5 q^{12} + 5 q^{11} + 7 q^{10} + 7 q^{9} + 8 q^{8} + 7 q^{7} + 7 q^{6} + 5 q^{5} + 5 q^{4} + 3 q^{3} + 2 q^{2} + q + 1 & q^{20} + q^{19} + 2 q^{18} + 3 q^{17} + 5 q^{16} + 6 q^{15} + 8 q^{14} + 9 q^{13} + 11 q^{12} + 11 q^{11} + 12 q^{10} + 11 q^{9} + 11 q^{8} + 9 q^{7} + 8 q^{6} + 6 q^{5} + 5 q^{4} + 3 q^{3} + 2 q^{2} + q + 1\n",
       "\\end{array}\\right)\\)</html>"
      ],
      "text/latex": [
       "$\\displaystyle \\left(\\begin{array}{rrrrr}\n",
       "1 & 1 & 1 & 1 & 1 \\\\\n",
       "q + 1 & q^{2} + q + 1 & q^{3} + q^{2} + q + 1 & q^{4} + q^{3} + q^{2} + q + 1 & q^{5} + q^{4} + q^{3} + q^{2} + q + 1 \\\\\n",
       "q^{2} + q + 1 & q^{4} + q^{3} + 2 q^{2} + q + 1 & q^{6} + q^{5} + 2 q^{4} + 2 q^{3} + 2 q^{2} + q + 1 & q^{8} + q^{7} + 2 q^{6} + 2 q^{5} + 3 q^{4} + 2 q^{3} + 2 q^{2} + q + 1 & q^{10} + q^{9} + 2 q^{8} + 2 q^{7} + 3 q^{6} + 3 q^{5} + 3 q^{4} + 2 q^{3} + 2 q^{2} + q + 1 \\\\\n",
       "q^{3} + q^{2} + q + 1 & q^{6} + q^{5} + 2 q^{4} + 2 q^{3} + 2 q^{2} + q + 1 & q^{9} + q^{8} + 2 q^{7} + 3 q^{6} + 3 q^{5} + 3 q^{4} + 3 q^{3} + 2 q^{2} + q + 1 & q^{12} + q^{11} + 2 q^{10} + 3 q^{9} + 4 q^{8} + 4 q^{7} + 5 q^{6} + 4 q^{5} + 4 q^{4} + 3 q^{3} + 2 q^{2} + q + 1 & q^{15} + q^{14} + 2 q^{13} + 3 q^{12} + 4 q^{11} + 5 q^{10} + 6 q^{9} + 6 q^{8} + 6 q^{7} + 6 q^{6} + 5 q^{5} + 4 q^{4} + 3 q^{3} + 2 q^{2} + q + 1 \\\\\n",
       "q^{4} + q^{3} + q^{2} + q + 1 & q^{8} + q^{7} + 2 q^{6} + 2 q^{5} + 3 q^{4} + 2 q^{3} + 2 q^{2} + q + 1 & q^{12} + q^{11} + 2 q^{10} + 3 q^{9} + 4 q^{8} + 4 q^{7} + 5 q^{6} + 4 q^{5} + 4 q^{4} + 3 q^{3} + 2 q^{2} + q + 1 & q^{16} + q^{15} + 2 q^{14} + 3 q^{13} + 5 q^{12} + 5 q^{11} + 7 q^{10} + 7 q^{9} + 8 q^{8} + 7 q^{7} + 7 q^{6} + 5 q^{5} + 5 q^{4} + 3 q^{3} + 2 q^{2} + q + 1 & q^{20} + q^{19} + 2 q^{18} + 3 q^{17} + 5 q^{16} + 6 q^{15} + 8 q^{14} + 9 q^{13} + 11 q^{12} + 11 q^{11} + 12 q^{10} + 11 q^{9} + 11 q^{8} + 9 q^{7} + 8 q^{6} + 6 q^{5} + 5 q^{4} + 3 q^{3} + 2 q^{2} + q + 1\n",
       "\\end{array}\\right)$"
      ],
      "text/plain": [
       "[                                                                                                                                                                        1                                                                                                                                                                         1                                                                                                                                                                         1                                                                                                                                                                         1                                                                                                                                                                         1]\n",
       "[                                                                                                                                                                    q + 1                                                                                                                                                               q^2 + q + 1                                                                                                                                                         q^3 + q^2 + q + 1                                                                                                                                                   q^4 + q^3 + q^2 + q + 1                                                                                                                                             q^5 + q^4 + q^3 + q^2 + q + 1]\n",
       "[                                                                                                                                                              q^2 + q + 1                                                                                                                                                 q^4 + q^3 + 2*q^2 + q + 1                                                                                                                                 q^6 + q^5 + 2*q^4 + 2*q^3 + 2*q^2 + q + 1                                                                                                                 q^8 + q^7 + 2*q^6 + 2*q^5 + 3*q^4 + 2*q^3 + 2*q^2 + q + 1                                                                                                q^10 + q^9 + 2*q^8 + 2*q^7 + 3*q^6 + 3*q^5 + 3*q^4 + 2*q^3 + 2*q^2 + q + 1]\n",
       "[                                                                                                                                                        q^3 + q^2 + q + 1                                                                                                                                 q^6 + q^5 + 2*q^4 + 2*q^3 + 2*q^2 + q + 1                                                                                                         q^9 + q^8 + 2*q^7 + 3*q^6 + 3*q^5 + 3*q^4 + 3*q^3 + 2*q^2 + q + 1                                                                              q^12 + q^11 + 2*q^10 + 3*q^9 + 4*q^8 + 4*q^7 + 5*q^6 + 4*q^5 + 4*q^4 + 3*q^3 + 2*q^2 + q + 1                                                   q^15 + q^14 + 2*q^13 + 3*q^12 + 4*q^11 + 5*q^10 + 6*q^9 + 6*q^8 + 6*q^7 + 6*q^6 + 5*q^5 + 4*q^4 + 3*q^3 + 2*q^2 + q + 1]\n",
       "[                                                                                                                                                  q^4 + q^3 + q^2 + q + 1                                                                                                                 q^8 + q^7 + 2*q^6 + 2*q^5 + 3*q^4 + 2*q^3 + 2*q^2 + q + 1                                                                              q^12 + q^11 + 2*q^10 + 3*q^9 + 4*q^8 + 4*q^7 + 5*q^6 + 4*q^5 + 4*q^4 + 3*q^3 + 2*q^2 + q + 1                                          q^16 + q^15 + 2*q^14 + 3*q^13 + 5*q^12 + 5*q^11 + 7*q^10 + 7*q^9 + 8*q^8 + 7*q^7 + 7*q^6 + 5*q^5 + 5*q^4 + 3*q^3 + 2*q^2 + q + 1 q^20 + q^19 + 2*q^18 + 3*q^17 + 5*q^16 + 6*q^15 + 8*q^14 + 9*q^13 + 11*q^12 + 11*q^11 + 12*q^10 + 11*q^9 + 11*q^8 + 9*q^7 + 8*q^6 + 6*q^5 + 5*q^4 + 3*q^3 + 2*q^2 + q + 1]"
      ]
     },
     "execution_count": 72,
     "metadata": {},
     "output_type": "execute_result"
    }
   ],
   "source": [
    "Matrix([[(B.shift_in(1))[i][j] for j in range(5)] for i in range(5)])"
   ]
  },
  {
   "cell_type": "code",
   "execution_count": 77,
   "id": "caab8bb9-51ce-4d5e-b105-c18edf4949ff",
   "metadata": {},
   "outputs": [
    {
     "data": {
      "text/html": [
       "<html>\\(\\displaystyle \\left(\\begin{array}{rrrrr}\n",
       "1 & 1 & 1 & 1 & 1 \\\\\n",
       "1 & q + 1 & q^{2} + q + 1 & q^{3} + q^{2} + q + 1 & q^{4} + q^{3} + q^{2} + q + 1 \\\\\n",
       "1 & q^{2} + q + 1 & q^{4} + q^{3} + 2 q^{2} + q + 1 & q^{6} + q^{5} + 2 q^{4} + 2 q^{3} + 2 q^{2} + q + 1 & q^{8} + q^{7} + 2 q^{6} + 2 q^{5} + 3 q^{4} + 2 q^{3} + 2 q^{2} + q + 1 \\\\\n",
       "1 & q^{3} + q^{2} + q + 1 & q^{6} + q^{5} + 2 q^{4} + 2 q^{3} + 2 q^{2} + q + 1 & q^{9} + q^{8} + 2 q^{7} + 3 q^{6} + 3 q^{5} + 3 q^{4} + 3 q^{3} + 2 q^{2} + q + 1 & q^{12} + q^{11} + 2 q^{10} + 3 q^{9} + 4 q^{8} + 4 q^{7} + 5 q^{6} + 4 q^{5} + 4 q^{4} + 3 q^{3} + 2 q^{2} + q + 1 \\\\\n",
       "1 & q^{4} + q^{3} + q^{2} + q + 1 & q^{8} + q^{7} + 2 q^{6} + 2 q^{5} + 3 q^{4} + 2 q^{3} + 2 q^{2} + q + 1 & q^{12} + q^{11} + 2 q^{10} + 3 q^{9} + 4 q^{8} + 4 q^{7} + 5 q^{6} + 4 q^{5} + 4 q^{4} + 3 q^{3} + 2 q^{2} + q + 1 & q^{16} + q^{15} + 2 q^{14} + 3 q^{13} + 5 q^{12} + 5 q^{11} + 7 q^{10} + 7 q^{9} + 8 q^{8} + 7 q^{7} + 7 q^{6} + 5 q^{5} + 5 q^{4} + 3 q^{3} + 2 q^{2} + q + 1\n",
       "\\end{array}\\right)\\)</html>"
      ],
      "text/latex": [
       "$\\displaystyle \\left(\\begin{array}{rrrrr}\n",
       "1 & 1 & 1 & 1 & 1 \\\\\n",
       "1 & q + 1 & q^{2} + q + 1 & q^{3} + q^{2} + q + 1 & q^{4} + q^{3} + q^{2} + q + 1 \\\\\n",
       "1 & q^{2} + q + 1 & q^{4} + q^{3} + 2 q^{2} + q + 1 & q^{6} + q^{5} + 2 q^{4} + 2 q^{3} + 2 q^{2} + q + 1 & q^{8} + q^{7} + 2 q^{6} + 2 q^{5} + 3 q^{4} + 2 q^{3} + 2 q^{2} + q + 1 \\\\\n",
       "1 & q^{3} + q^{2} + q + 1 & q^{6} + q^{5} + 2 q^{4} + 2 q^{3} + 2 q^{2} + q + 1 & q^{9} + q^{8} + 2 q^{7} + 3 q^{6} + 3 q^{5} + 3 q^{4} + 3 q^{3} + 2 q^{2} + q + 1 & q^{12} + q^{11} + 2 q^{10} + 3 q^{9} + 4 q^{8} + 4 q^{7} + 5 q^{6} + 4 q^{5} + 4 q^{4} + 3 q^{3} + 2 q^{2} + q + 1 \\\\\n",
       "1 & q^{4} + q^{3} + q^{2} + q + 1 & q^{8} + q^{7} + 2 q^{6} + 2 q^{5} + 3 q^{4} + 2 q^{3} + 2 q^{2} + q + 1 & q^{12} + q^{11} + 2 q^{10} + 3 q^{9} + 4 q^{8} + 4 q^{7} + 5 q^{6} + 4 q^{5} + 4 q^{4} + 3 q^{3} + 2 q^{2} + q + 1 & q^{16} + q^{15} + 2 q^{14} + 3 q^{13} + 5 q^{12} + 5 q^{11} + 7 q^{10} + 7 q^{9} + 8 q^{8} + 7 q^{7} + 7 q^{6} + 5 q^{5} + 5 q^{4} + 3 q^{3} + 2 q^{2} + q + 1\n",
       "\\end{array}\\right)$"
      ],
      "text/plain": [
       "[                                                                                                                               1                                                                                                                                1                                                                                                                                1                                                                                                                                1                                                                                                                                1]\n",
       "[                                                                                                                               1                                                                                                                            q + 1                                                                                                                      q^2 + q + 1                                                                                                                q^3 + q^2 + q + 1                                                                                                          q^4 + q^3 + q^2 + q + 1]\n",
       "[                                                                                                                               1                                                                                                                      q^2 + q + 1                                                                                                        q^4 + q^3 + 2*q^2 + q + 1                                                                                        q^6 + q^5 + 2*q^4 + 2*q^3 + 2*q^2 + q + 1                                                                        q^8 + q^7 + 2*q^6 + 2*q^5 + 3*q^4 + 2*q^3 + 2*q^2 + q + 1]\n",
       "[                                                                                                                               1                                                                                                                q^3 + q^2 + q + 1                                                                                        q^6 + q^5 + 2*q^4 + 2*q^3 + 2*q^2 + q + 1                                                                q^9 + q^8 + 2*q^7 + 3*q^6 + 3*q^5 + 3*q^4 + 3*q^3 + 2*q^2 + q + 1                                     q^12 + q^11 + 2*q^10 + 3*q^9 + 4*q^8 + 4*q^7 + 5*q^6 + 4*q^5 + 4*q^4 + 3*q^3 + 2*q^2 + q + 1]\n",
       "[                                                                                                                               1                                                                                                          q^4 + q^3 + q^2 + q + 1                                                                        q^8 + q^7 + 2*q^6 + 2*q^5 + 3*q^4 + 2*q^3 + 2*q^2 + q + 1                                     q^12 + q^11 + 2*q^10 + 3*q^9 + 4*q^8 + 4*q^7 + 5*q^6 + 4*q^5 + 4*q^4 + 3*q^3 + 2*q^2 + q + 1 q^16 + q^15 + 2*q^14 + 3*q^13 + 5*q^12 + 5*q^11 + 7*q^10 + 7*q^9 + 8*q^8 + 7*q^7 + 7*q^6 + 5*q^5 + 5*q^4 + 3*q^3 + 2*q^2 + q + 1]"
      ]
     },
     "execution_count": 77,
     "metadata": {},
     "output_type": "execute_result"
    }
   ],
   "source": [
    "Matrix([[(B)[i][j] for j in range(5)] for i in range(5)])"
   ]
  },
  {
   "cell_type": "markdown",
   "id": "fd503148-973c-402c-be6f-915d47ec8d01",
   "metadata": {
    "tags": []
   },
   "source": [
    "## **Examples from Ali**"
   ]
  },
  {
   "cell_type": "markdown",
   "id": "23aa5bff-3298-4133-b7d1-b7520d0218a3",
   "metadata": {
    "tags": []
   },
   "source": [
    "### Smaller example"
   ]
  },
  {
   "cell_type": "markdown",
   "id": "65be98d2",
   "metadata": {},
   "source": [
    "Let us consider the solution of the $q$-recurrence equation:\n",
    "$$qy_n = q^{2n+1}(1+q) y_{n-1} - q^{3n+1}(q^{n-1} - 1)y_{n-2}$$\n",
    "We create now the corresponding operator and its solution $(y_n)_n$:"
   ]
  },
  {
   "cell_type": "code",
   "execution_count": 61,
   "id": "66673837-1464-4e5c-b733-db211da3eda3",
   "metadata": {},
   "outputs": [],
   "source": [
    "L = Q^3*(-q+Q)*Si^2 - q*Q^2*(1+q)*Si + q\n",
    "L = (S^2*L).canonical()\n",
    "yn = solution(L, [1, q^2*(1+q)])"
   ]
  },
  {
   "cell_type": "code",
   "execution_count": 62,
   "id": "45b03a84",
   "metadata": {},
   "outputs": [
    {
     "data": {
      "text/html": [
       "<html>\\(\\displaystyle \\left[1, q^{3} + q^{2}, q^{8} + q^{7} + 2 q^{6}, q^{15} + q^{14} + 2 q^{13} + 3 q^{12} + q^{11}, q^{24} + q^{23} + 2 q^{22} + 3 q^{21} + 5 q^{20} + 2 q^{19} + 2 q^{18}\\right]\\)</html>"
      ],
      "text/latex": [
       "$\\displaystyle \\left[1, q^{3} + q^{2}, q^{8} + q^{7} + 2 q^{6}, q^{15} + q^{14} + 2 q^{13} + 3 q^{12} + q^{11}, q^{24} + q^{23} + 2 q^{22} + 3 q^{21} + 5 q^{20} + 2 q^{19} + 2 q^{18}\\right]$"
      ],
      "text/plain": [
       "[1,\n",
       " q^3 + q^2,\n",
       " q^8 + q^7 + 2*q^6,\n",
       " q^15 + q^14 + 2*q^13 + 3*q^12 + q^11,\n",
       " q^24 + q^23 + 2*q^22 + 3*q^21 + 5*q^20 + 2*q^19 + 2*q^18]"
      ]
     },
     "execution_count": 62,
     "metadata": {},
     "output_type": "execute_result"
    }
   ],
   "source": [
    "yn[:5]"
   ]
  },
  {
   "cell_type": "markdown",
   "id": "c49b1e72",
   "metadata": {},
   "source": [
    "If we want to write now the solution:\n",
    "$$y_n = \\sum_{k=0}^n c_k \\qbinom{n}{k},$$\n",
    "then we can use the method `B.recurrence` to obtain a recurrence for $c_k$ and also obtain the first terms by using the method `B.funcitonal_to_self`.\n",
    "\n",
    "In the following cell we compute the recurrence for $c_k$ and we display the degrees of this new recurrence with respect to $Q \\equiv q^n$, $Sn$ and $Sn^{-1}$:"
   ]
  },
  {
   "cell_type": "code",
   "execution_count": 63,
   "id": "0c8a9def-67db-4bd9-aca1-4ff3a40c14d1",
   "metadata": {},
   "outputs": [
    {
     "name": "stderr",
     "output_type": "stream",
     "text": [
      "The coefficients of q*Sn^2 - q^7*Q^3 + (-q^6-q^5)*Q^2*Sn + q^8*Q^4 are not been converted using compatibilities -- Not yet implemented\n"
     ]
    },
    {
     "data": {
      "text/html": [
       "<html>\\(\\displaystyle \\left(q^{5} + 2 q^{4} + q^{3} + q\\right) Q^{2} + \\left(q^{2} + q\\right) Q \\mathit{Sn} + q \\mathit{Sn}^{2} + \\left(-q^{7} - q^{6} - 2 q^{5} - 2 q^{4} - q^{3}\\right) Q^{3} + \\left(-q^{6} - q^{5}\\right) Q^{2}\\mathit{Sn} + \\left(-q^{3} - q^{2}\\right) Q^{2}\\mathit{Sni} + q^{8} Q^{4} + \\left(q^{6} + q^{5} + 2 q^{4} + 3 q^{3} + 3 q^{2} + q\\right) Q^{3}\\mathit{Sni} + \\left(-q^{7} - 2 q^{6} - 2 q^{5} - 3 q^{4} - 2 q^{3} - 2 q^{2} - q\\right) Q^{4}\\mathit{Sni} + \\left(-q^{4} - q^{3} - q^{2} - q - 1\\right) Q^{3}\\mathit{Sni}^{2} + \\left(q^{7} + q^{6} + q^{5} + q^{4}\\right) Q^{5}\\mathit{Sni} + \\left(\\frac{q^{6} + 2 q^{5} + 4 q^{4} + 3 q^{3} + 3 q^{2} + 2 q + 1}{q}\\right) Q^{4}\\mathit{Sni}^{2} + q Q^{3}\\mathit{Sni}^{3} + \\left(\\frac{-q^{6} - 2 q^{5} - 4 q^{4} - 4 q^{3} - 3 q^{2} - 2 q - 1}{q}\\right) Q^{5}\\mathit{Sni}^{2} + \\left(\\frac{-q^{3} - 2 q^{2} - 2 q - 2}{q}\\right) Q^{4}\\mathit{Sni}^{3} + \\left(q^{4} + q^{3} + 2 q^{2} + q + 1\\right) Q^{6}\\mathit{Sni}^{2} + \\left(\\frac{q^{5} + 2 q^{4} + 4 q^{3} + 4 q^{2} + 3 q + 1}{q^{3}}\\right) Q^{5}\\mathit{Sni}^{3} + \\frac{1}{q^{2}} Q^{4}\\mathit{Sni}^{4} + \\left(\\frac{-q^{5} - 2 q^{4} - 3 q^{3} - 4 q^{2} - 2 q - 1}{q^{4}}\\right) Q^{6}\\mathit{Sni}^{3} + \\left(\\frac{-q^{3} - q^{2} - q - 1}{q^{5}}\\right) Q^{5}\\mathit{Sni}^{4} + \\left(\\frac{q^{3} + q^{2} + q + 1}{q^{4}}\\right) Q^{7}\\mathit{Sni}^{3} + \\left(\\frac{q^{4} + q^{3} + 2 q^{2} + q + 1}{q^{7}}\\right) Q^{6}\\mathit{Sni}^{4} + \\left(\\frac{-q^{3} - q^{2} - q - 1}{q^{8}}\\right) Q^{7}\\mathit{Sni}^{4} + \\frac{1}{q^{8}} Q^{8}\\mathit{Sni}^{4}\\)</html>"
      ],
      "text/latex": [
       "$\\displaystyle \\left(q^{5} + 2 q^{4} + q^{3} + q\\right) Q^{2} + \\left(q^{2} + q\\right) Q \\mathit{Sn} + q \\mathit{Sn}^{2} + \\left(-q^{7} - q^{6} - 2 q^{5} - 2 q^{4} - q^{3}\\right) Q^{3} + \\left(-q^{6} - q^{5}\\right) Q^{2}\\mathit{Sn} + \\left(-q^{3} - q^{2}\\right) Q^{2}\\mathit{Sni} + q^{8} Q^{4} + \\left(q^{6} + q^{5} + 2 q^{4} + 3 q^{3} + 3 q^{2} + q\\right) Q^{3}\\mathit{Sni} + \\left(-q^{7} - 2 q^{6} - 2 q^{5} - 3 q^{4} - 2 q^{3} - 2 q^{2} - q\\right) Q^{4}\\mathit{Sni} + \\left(-q^{4} - q^{3} - q^{2} - q - 1\\right) Q^{3}\\mathit{Sni}^{2} + \\left(q^{7} + q^{6} + q^{5} + q^{4}\\right) Q^{5}\\mathit{Sni} + \\left(\\frac{q^{6} + 2 q^{5} + 4 q^{4} + 3 q^{3} + 3 q^{2} + 2 q + 1}{q}\\right) Q^{4}\\mathit{Sni}^{2} + q Q^{3}\\mathit{Sni}^{3} + \\left(\\frac{-q^{6} - 2 q^{5} - 4 q^{4} - 4 q^{3} - 3 q^{2} - 2 q - 1}{q}\\right) Q^{5}\\mathit{Sni}^{2} + \\left(\\frac{-q^{3} - 2 q^{2} - 2 q - 2}{q}\\right) Q^{4}\\mathit{Sni}^{3} + \\left(q^{4} + q^{3} + 2 q^{2} + q + 1\\right) Q^{6}\\mathit{Sni}^{2} + \\left(\\frac{q^{5} + 2 q^{4} + 4 q^{3} + 4 q^{2} + 3 q + 1}{q^{3}}\\right) Q^{5}\\mathit{Sni}^{3} + \\frac{1}{q^{2}} Q^{4}\\mathit{Sni}^{4} + \\left(\\frac{-q^{5} - 2 q^{4} - 3 q^{3} - 4 q^{2} - 2 q - 1}{q^{4}}\\right) Q^{6}\\mathit{Sni}^{3} + \\left(\\frac{-q^{3} - q^{2} - q - 1}{q^{5}}\\right) Q^{5}\\mathit{Sni}^{4} + \\left(\\frac{q^{3} + q^{2} + q + 1}{q^{4}}\\right) Q^{7}\\mathit{Sni}^{3} + \\left(\\frac{q^{4} + q^{3} + 2 q^{2} + q + 1}{q^{7}}\\right) Q^{6}\\mathit{Sni}^{4} + \\left(\\frac{-q^{3} - q^{2} - q - 1}{q^{8}}\\right) Q^{7}\\mathit{Sni}^{4} + \\frac{1}{q^{8}} Q^{8}\\mathit{Sni}^{4}$"
      ],
      "text/plain": [
       "(q^5+2*q^4+q^3+q)*Q^2 + (q^2+q)*Q*Sn + q*Sn^2 + (-q^7-q^6-2*q^5-2*q^4-q^3)*Q^3 + (-q^6-q^5)*Q^2*Sn + (-q^3-q^2)*Q^2*Sni + q^8*Q^4 + (q^6+q^5+2*q^4+3*q^3+3*q^2+q)*Q^3*Sni + (-q^7-2*q^6-2*q^5-3*q^4-2*q^3-2*q^2-q)*Q^4*Sni + (-q^4-q^3-q^2-q-1)*Q^3*Sni^2 + (q^7+q^6+q^5+q^4)*Q^5*Sni + ((q^6+2*q^5+4*q^4+3*q^3+3*q^2+2*q+1)/q)*Q^4*Sni^2 + q*Q^3*Sni^3 + ((-q^6-2*q^5-4*q^4-4*q^3-3*q^2-2*q-1)/q)*Q^5*Sni^2 + ((-q^3-2*q^2-2*q-2)/q)*Q^4*Sni^3 + (q^4+q^3+2*q^2+q+1)*Q^6*Sni^2 + ((q^5+2*q^4+4*q^3+4*q^2+3*q+1)/q^3)*Q^5*Sni^3 + 1/q^2*Q^4*Sni^4 + ((-q^5-2*q^4-3*q^3-4*q^2-2*q-1)/q^4)*Q^6*Sni^3 + ((-q^3-q^2-q-1)/q^5)*Q^5*Sni^4 + ((q^3+q^2+q+1)/q^4)*Q^7*Sni^3 + ((q^4+q^3+2*q^2+q+1)/q^7)*Q^6*Sni^4 + ((-q^3-q^2-q-1)/q^8)*Q^7*Sni^4 + 1/q^8*Q^8*Sni^4"
      ]
     },
     "metadata": {},
     "output_type": "display_data"
    },
    {
     "data": {
      "text/html": [
       "<html>\\(\\displaystyle \\left(8, 2, 4\\right)\\)</html>"
      ],
      "text/latex": [
       "$\\displaystyle \\left(8, 2, 4\\right)$"
      ],
      "text/plain": [
       "(8, 2, 4)"
      ]
     },
     "execution_count": 63,
     "metadata": {},
     "output_type": "execute_result"
    }
   ],
   "source": [
    "L2 = B.recurrence(L); \n",
    "show(L2)\n",
    "L2.degrees()"
   ]
  },
  {
   "cell_type": "markdown",
   "id": "18491080",
   "metadata": {},
   "source": [
    "We can then compute the solution $c_k$ using again the method `solution`:"
   ]
  },
  {
   "cell_type": "code",
   "execution_count": 64,
   "id": "a3348eab-d7cf-4f00-ab0c-31852b0e6020",
   "metadata": {},
   "outputs": [
    {
     "name": "stdout",
     "output_type": "stream",
     "text": [
      "0 -- 1\n",
      "1 -- q^3 + q^2 - 1\n",
      "2 -- q^8 + q^7 + 2*q^6 - q^4 - 2*q^3 - q^2 + q\n",
      "3 -- q^15 + q^14 + 2*q^13 + 3*q^12 + q^11 - q^10 - 2*q^9 - 4*q^8 - 3*q^7 - q^6 + 2*q^5 + 2*q^4\n",
      "4 -- q^24 + q^23 + 2*q^22 + 3*q^21 + 5*q^20 + 2*q^19 + q^18 - 2*q^17 - 4*q^16 - 7*q^15 - 7*q^14 - 5*q^13 - 2*q^12 + 4*q^11 + 5*q^10 + 5*q^9 + q^8 - q^6 - q^5\n",
      "5 -- q^35 + q^34 + 2*q^33 + 3*q^32 + 5*q^31 + 7*q^30 + 5*q^29 + 3*q^28 + q^27 - 3*q^26 - 7*q^25 - 12*q^24 - 13*q^23 - 13*q^22 - 10*q^21 - 4*q^20 + 5*q^19 + 10*q^18 + 13*q^17 + 12*q^16 + 6*q^15 + q^14 - 3*q^13 - 4*q^12 - 4*q^11 - 2*q^10 + q^8\n"
     ]
    }
   ],
   "source": [
    "ck = solution(L2, B.functional_to_self(sol, required_init(L2)))\n",
    "for i in range(6):\n",
    "    print(f\"{i} -- {ck[i]}\")"
   ]
  },
  {
   "cell_type": "markdown",
   "id": "2359d111-b718-45dd-90f5-dc1552bc445e",
   "metadata": {
    "jp-MarkdownHeadingCollapsed": true,
    "tags": []
   },
   "source": [
    "### Old example"
   ]
  },
  {
   "cell_type": "markdown",
   "id": "621f62d0-3bc6-4fbf-8866-0bdfe62afd8e",
   "metadata": {},
   "source": [
    "The example by Ali is a recurrence with plenty of components:\n",
    "\n",
    "$$\\begin{array}{rll}\n",
    "q^{19 + 6n}\\left({\\left(q^{24} + q^{23} + q^{22}\\right)} q^{6 \\, n} - {\\left(q^{20} + q^{19} + q^{18}\\right)} q^{5 \\, n} + {\\left(q^{17} + q^{16} + q^{15}\\right)} q^{4 \\, n} + {\\left(q^{12} + q^{11} + q^{10}\\right)} q^{3 \\, n} - {\\left(q^{9} + q^{8} + q^{7}\\right)} q^{2 \\, n} + {\\left(q^{5} + 2 \\, q^{4} + q^{3}\\right)} q^{n} - 1\\right) & f(n) + &  \\\\\n",
    "q^{5 \\, n + 19}\\left({\\left(q^{28} + q^{27} + q^{26} + q^{25} + q^{24} + q^{23}\\right)} q^{8 \\, n} - {\\left(q^{21} + q^{20} + q^{19}\\right)} q^{7 \\, n} + {\\left(q^{21} + q^{20} + q^{19} + q^{18} + q^{17} + q^{16}\\right)} q^{6 \\, n} + {\\left(q^{16} + q^{15} + q^{14} + q^{13} + q^{12} + q^{11}\\right)} q^{5 \\, n} + {\\left(q^{15} + q^{14} + q^{13} - q^{10} - q^{9} - q^{8}\\right)} q^{4 \\, n} - {\\left(q^{12} + q^{11} - q^{9} - 2 \\, q^{8} - 2 \\, q^{7} - 2 \\, q^{6} - 2 \\, q^{5} - q^{4}\\right)} q^{3 \\, n} + {\\left(q^{8} - q^{5} - q\\right)} q^{2 \\, n} + {\\left(q^{3} + q^{2} + q\\right)} q^{n} - 1\\right) & f(1 + n) + & \\\\\n",
    "q^{3 \\, n + 12} \\left( {\\left(q^{37} + q^{36} + q^{35}\\right)} q^{11 \\, n} - {\\left(q^{33} + q^{32} + q^{31}\\right)} q^{10 \\, n} + {\\left(q^{32} + 2 \\, q^{31} + 3 \\, q^{30} + 3 \\, q^{29} + 2 \\, q^{28} + q^{27}\\right)} q^{9 \\, n} - {\\left(q^{30} + 2 \\, q^{29} + 3 \\, q^{28} + 2 \\, q^{27} + 2 \\, q^{26} - q^{23}\\right)} q^{8 \\, n} + {\\left(q^{27} + 2 \\, q^{26} + 3 \\, q^{25} + 3 \\, q^{24} + 2 \\, q^{23} + q^{22} - q^{21} - q^{20} - q^{19}\\right)} q^{7 \\, n} - {\\left(q^{25} + 2 \\, q^{24} + 4 \\, q^{23} + 2 \\, q^{22} + 2 \\, q^{21} - q^{20} - 2 \\, q^{19} - 4 \\, q^{18} - 4 \\, q^{17} - 3 \\, q^{16} - q^{15}\\right)} q^{6 \\, n} + {\\left(q^{21} + 2 \\, q^{20} + 2 \\, q^{19} - q^{17} - 3 \\, q^{16} - 2 \\, q^{15} - 3 \\, q^{14} - 2 \\, q^{13} - q^{12}\\right)} q^{5 \\, n} - {\\left(q^{18} + q^{17} + 2 \\, q^{16} - q^{14} - 3 \\, q^{13} - 3 \\, q^{12} - 3 \\, q^{11} - 2 \\, q^{10} - q^{9}\\right)} q^{4 \\, n} - {\\left(q^{13} + q^{12} + 3 \\, q^{11} + 3 \\, q^{10} + 3 \\, q^{9} + q^{8} + q^{7}\\right)} q^{3 \\, n} + {\\left(q^{10} + q^{9} + 2 \\, q^{8} + 2 \\, q^{7} + q^{6}\\right)} q^{2 \\, n} - {\\left(q^{6} + 2 \\, q^{5} + 3 \\, q^{4} + 2 \\, q^{3}\\right)} q^{n} + q + 1 \\right) & f(2 + n) + & \\\\\n",
    "q^{2 \\, n + 10} \\left( {\\left(q^{40} + q^{39} + q^{38}\\right)} q^{12 \\, n} - {\\left(q^{37} + 2 \\, q^{36} + 2 \\, q^{35} + q^{34}\\right)} q^{11 \\, n} + {\\left(q^{35} + q^{34} + 2 \\, q^{33} + q^{32} + q^{31}\\right)} q^{10 \\, n} + {\\left(q^{30} + 2 \\, q^{29} + 3 \\, q^{28} + 2 \\, q^{27} + q^{26}\\right)} q^{9 \\, n} - {\\left(q^{29} + q^{28} + 3 \\, q^{27} + 4 \\, q^{26} + 6 \\, q^{25} + 5 \\, q^{24} + 3 \\, q^{23} + q^{22}\\right)} q^{8 \\, n} + {\\left(q^{26} + 4 \\, q^{25} + 5 \\, q^{24} + 7 \\, q^{23} + 7 \\, q^{22} + 7 \\, q^{21} + 5 \\, q^{20} + 3 \\, q^{19} + q^{18}\\right)} q^{7 \\, n} - {\\left(2 \\, q^{22} + 3 \\, q^{21} + 3 \\, q^{20} + 3 \\, q^{19} + 2 \\, q^{18} + 2 \\, q^{17} + q^{16} + q^{15}\\right)} q^{6 \\, n} + {\\left(q^{18} - q^{15} - 2 \\, q^{14} - 2 \\, q^{13} - q^{12}\\right)} q^{5 \\, n} + {\\left(2 \\, q^{15} + 4 \\, q^{14} + 7 \\, q^{13} + 7 \\, q^{12} + 8 \\, q^{11} + 6 \\, q^{10} + 4 \\, q^{9} + q^{8}\\right)} q^{4 \\, n} - {\\left(q^{12} + 3 \\, q^{11} + 5 \\, q^{10} + 6 \\, q^{9} + 5 \\, q^{8} + 4 \\, q^{7} + 2 \\, q^{6} + q^{5}\\right)} q^{3 \\, n} + {\\left(q^{8} + 2 \\, q^{7} + 5 \\, q^{6} + 5 \\, q^{5} + 4 \\, q^{4} + 2 \\, q^{3} + q^{2}\\right)} q^{2 \\, n} - q^{n + 2} - 1 \\right) & f(3 + n) + & \\\\\n",
    "q^{n + 4} - 1 \\left( {\\left(q^{18} + q^{17} + q^{16}\\right)} q^{6 \\, n} - {\\left(q^{15} + q^{14} + q^{13}\\right)} q^{5 \\, n} + {\\left(q^{13} + q^{12} + q^{11}\\right)} q^{4 \\, n} + {\\left(q^{9} + q^{8} + q^{7}\\right)} q^{3 \\, n} - {\\left(q^{7} + q^{6} + q^{5}\\right)} q^{2 \\, n} + {\\left(q^{4} + 2 \\, q^{3} + q^{2}\\right)} q^{n} - 1 \\right) & f[4 + n] & = 0\n",
    "\\end{array}$$"
   ]
  },
  {
   "cell_type": "code",
   "execution_count": 16,
   "id": "d46bb870-2da3-454e-8610-e8f8c4c59e27",
   "metadata": {
    "scrolled": true
   },
   "outputs": [],
   "source": [
    "L = (-Q^3*(q+Q)*(-q+Q)*(-q^3+Q^2)*(1-Q+Q^2)*Si^2) + (-q^2*Q^2*(q^2 + Q^3 - Q^5 + Q^6 + q^2*Q + q^3*Q - q*Q^2 - q^2*Q^2 + q*Q^3 + q*Q^4 +  q^2*Q^4 - q*Q^5)) + (q^2*(q^2 + Q^2 - q*Q))\n",
    "L = (S^2*L).canonical()"
   ]
  },
  {
   "cell_type": "code",
   "execution_count": 17,
   "id": "b1340aa9-97d7-45f1-b7c4-acde25669649",
   "metadata": {},
   "outputs": [
    {
     "data": {
      "text/html": [
       "<html>\\(\\displaystyle \\left(-q^{5} + 2 q^{4} + 2 q^{3}\\right) Q^{2} + \\left(q^{5} + 2 q^{4}\\right) Q S + q^{4} S^{2} + \\left(-q^{11} - q^{8} - q^{7} - q^{5} - 2 q^{4} - 3 q^{3} - q^{2}\\right) Q^{3} + \\left(q^{7} - 2 q^{5} - 2 q^{4}\\right) Q^{2}S - q^{5} Q S^{2} + \\left(q^{13} + q^{10} + 4 q^{9} + 6 q^{8} + 8 q^{7} + 7 q^{6} + 5 q^{5} + 3 q^{4} + q^{3} + q^{2}\\right) Q^{4} + \\left(q^{10} + q^{9} + q^{8} + q^{7} + q^{5} + q^{4}\\right) Q^{3}S + \\left(q^{10} + q^{9} + q^{8} + q^{5} - q^{3} + 2 q^{2} + q\\right) Q^{3}\\mathit{Si} + \\left(-q^{8} + q^{6}\\right) Q^{2}S^{2} + \\left(-q^{15} + q^{13} + q^{12} - 2 q^{11} - 6 q^{10} - 10 q^{9} - 14 q^{8} - 16 q^{7} - 14 q^{6} - 10 q^{5} - 6 q^{4} - 2 q^{3}\\right) Q^{5} + \\left(-q^{12} - 3 q^{11} - 4 q^{10} - 4 q^{9} - 4 q^{8} - 2 q^{7}\\right) Q^{4}S + \\left(-q^{12} - q^{11} - 2 q^{10} - 2 q^{9} - q^{8} - q^{7} - 4 q^{6} - 6 q^{5} - 5 q^{4} - 4 q^{3} - 4 q^{2} - 2 q - 1\\right) Q^{4}\\mathit{Si} + \\left(-q^{11} - q^{10}\\right) Q^{3}S^{2} + \\left(-q^{8} - q^{7} - q^{6}\\right) Q^{3}\\mathit{Si}^{2} + \\left(-q^{15} - q^{14} - q^{13} + 2 q^{11} + 4 q^{10} + 6 q^{9} + 9 q^{8} + 11 q^{7} + 10 q^{6} + 8 q^{5} + 6 q^{4} + 4 q^{3} + q^{2}\\right) Q^{6} + \\left(q^{13} + 3 q^{12} + 4 q^{11} + 4 q^{10} + 4 q^{9} + 4 q^{8} + 2 q^{7}\\right) Q^{5}S + \\left(q^{14} + q^{13} + q^{12} - q^{9} + 6 q^{7} + 14 q^{6} + 19 q^{5} + 21 q^{4} + 19 q^{3} + 12 q^{2} + 7 q + 3\\right) Q^{5}\\mathit{Si} + \\left(q^{12} + q^{11}\\right) Q^{4}S^{2} + \\left(\\frac{q^{11} + q^{10} + 3 q^{9} + 3 q^{8} + 3 q^{7} + q^{6} + q^{4} + 3 q^{3} + q^{2} + 1}{q}\\right) Q^{4}\\mathit{Si}^{2} + q^{5} Q^{3}\\mathit{Si}^{3} + \\left(q^{17} + q^{16} + q^{15} + 3 q^{14} + 6 q^{13} + 8 q^{12} + 10 q^{11} + 12 q^{10} + 13 q^{9} + 11 q^{8} + 8 q^{7} + 6 q^{6} + 4 q^{5} + 2 q^{4} - q^{2}\\right) Q^{7} + \\left(q^{15} + q^{14} - q^{9} - 2 q^{8} - q^{7}\\right) Q^{6}S + \\left(\\frac{q^{15} + 2 q^{14} + 3 q^{13} + 4 q^{12} + 4 q^{11} - q^{10} - 8 q^{9} - 17 q^{8} - 25 q^{7} - 28 q^{6} - 27 q^{5} - 23 q^{4} - 15 q^{3} - 8 q^{2} - 4 q - 1}{q^{2}}\\right) Q^{6}\\mathit{Si} + \\left(-q^{13} - q^{12}\\right) Q^{5}S^{2} + \\left(\\frac{-q^{14} - q^{13} - 2 q^{12} - 2 q^{11} - 2 q^{10} - q^{9} + q^{7} - 6 q^{5} - 12 q^{4} - 12 q^{3} - 9 q^{2} - 7 q - 3}{q^{2}}\\right) Q^{5}\\mathit{Si}^{2} + \\left(-q^{7} - q^{6} - 2 q^{5} - 2 q^{4} - q^{3}\\right) Q^{4}\\mathit{Si}^{3} + \\left(-q^{16} - 6 q^{15} - 9 q^{14} - 13 q^{13} - 16 q^{12} - 20 q^{11} - 23 q^{10} - 25 q^{9} - 22 q^{8} - 19 q^{7} - 15 q^{6} - 12 q^{5} - 8 q^{4} - 5 q^{3} - q^{2}\\right) Q^{8} + \\left(-q^{17} - 3 q^{16} - 4 q^{15} - 4 q^{14} - 4 q^{13} - 4 q^{12} - 4 q^{11} - 4 q^{10} - 2 q^{9}\\right) Q^{7}S + \\left(\\frac{-q^{19} - 2 q^{18} - 3 q^{17} - 3 q^{16} - 4 q^{15} - 7 q^{14} - 10 q^{13} - 11 q^{12} - 12 q^{11} - 13 q^{10} - 11 q^{9} - 8 q^{8} - 5 q^{7} - q^{6} + 2 q^{5} + 3 q^{4} + 3 q^{3} + 2 q^{2} + q + 1}{q^{3}}\\right) Q^{7}\\mathit{Si} + \\left(-q^{16} - q^{15}\\right) Q^{6}S^{2} + \\left(\\frac{-q^{15} - 2 q^{14} - 5 q^{13} - 7 q^{12} - 10 q^{11} - 8 q^{10} - 3 q^{9} + 8 q^{8} + 20 q^{7} + 28 q^{6} + 28 q^{5} + 24 q^{4} + 17 q^{3} + 8 q^{2} + 4 q + 1}{q^{5}}\\right) Q^{6}\\mathit{Si}^{2} + \\left(\\frac{q^{12} + q^{11} + 2 q^{10} + 2 q^{9} + 2 q^{8} + q^{7} - q^{5} - 2 q^{4} - q^{3} + 2 q^{2} + 4 q + 2}{q^{3}}\\right) Q^{5}\\mathit{Si}^{3} + q^{3} Q^{4}\\mathit{Si}^{4} + \\left(-q^{18} + 2 q^{17} + 4 q^{16} + 6 q^{15} + 8 q^{14} + 10 q^{13} + 12 q^{12} + 14 q^{11} + 16 q^{10} + 16 q^{9} + 14 q^{8} + 12 q^{7} + 10 q^{6} + 8 q^{5} + 6 q^{4} + 4 q^{3} + 2 q^{2}\\right) Q^{9} + \\left(q^{18} + 3 q^{17} + 3 q^{16} + 3 q^{15} + 3 q^{14} + 3 q^{13} + 3 q^{12} + 3 q^{11} + 3 q^{10} + q^{9}\\right) Q^{8}S + \\left(\\frac{q^{20} + q^{19} + q^{18} + 2 q^{17} + 7 q^{16} + 13 q^{15} + 21 q^{14} + 30 q^{13} + 41 q^{12} + 52 q^{11} + 59 q^{10} + 61 q^{9} + 59 q^{8} + 54 q^{7} + 45 q^{6} + 33 q^{5} + 23 q^{4} + 15 q^{3} + 8 q^{2} + 4 q + 1}{q^{4}}\\right) Q^{8}\\mathit{Si} + \\left(q^{17} + q^{16}\\right) Q^{7}S^{2} + \\left(\\frac{q^{21} + 2 q^{20} + 4 q^{19} + 5 q^{18} + 8 q^{17} + 10 q^{16} + 14 q^{15} + 17 q^{14} + 20 q^{13} + 20 q^{12} + 20 q^{11} + 13 q^{10} + 3 q^{9} - 5 q^{8} - 11 q^{7} - 15 q^{6} - 13 q^{5} - 10 q^{4} - 7 q^{3} - 3 q^{2} - q - 1}{q^{7}}\\right) Q^{7}\\mathit{Si}^{2} + \\left(\\frac{2 q^{13} + 4 q^{12} + 7 q^{11} + 10 q^{10} + 11 q^{9} + 11 q^{8} + 8 q^{7} - q^{6} - 9 q^{5} - 12 q^{4} - 10 q^{3} - 7 q^{2} - 4 q - 1}{q^{7}}\\right) Q^{6}\\mathit{Si}^{3} + \\left(\\frac{-q^{7} - q^{6} - q^{5} + q^{2} + 2 q + 1}{q^{2}}\\right) Q^{5}\\mathit{Si}^{4} + \\left(-q^{18} - q^{17} - 2 q^{16} - 2 q^{15} - 3 q^{14} - 3 q^{13} - 4 q^{12} - 4 q^{11} - 5 q^{10} - 4 q^{9} - 4 q^{8} - 3 q^{7} - 3 q^{6} - 2 q^{5} - 2 q^{4} - q^{3} - q^{2}\\right) Q^{10} + \\left(-q^{19} - q^{18} - q^{17} - q^{16} - q^{15} - q^{14} - q^{13} - q^{12} - q^{11} - q^{10}\\right) Q^{9}S + \\left(\\frac{q^{22} + q^{21} + 2 q^{20} - 4 q^{18} - 10 q^{17} - 17 q^{16} - 27 q^{15} - 38 q^{14} - 52 q^{13} - 64 q^{12} - 71 q^{11} - 74 q^{10} - 74 q^{9} - 70 q^{8} - 62 q^{7} - 51 q^{6} - 38 q^{5} - 27 q^{4} - 18 q^{3} - 11 q^{2} - 5 q - 2}{q^{5}}\\right) Q^{9}\\mathit{Si} - q^{18} Q^{8}S^{2} + \\left(\\frac{-q^{23} - 2 q^{22} - 4 q^{21} - 5 q^{20} - 7 q^{19} - 10 q^{18} - 16 q^{17} - 21 q^{16} - 30 q^{15} - 42 q^{14} - 57 q^{13} - 67 q^{12} - 76 q^{11} - 79 q^{10} - 79 q^{9} - 70 q^{8} - 60 q^{7} - 46 q^{6} - 34 q^{5} - 22 q^{4} - 14 q^{3} - 7 q^{2} - 4 q - 1}{q^{9}}\\right) Q^{8}\\mathit{Si}^{2} + \\left(\\frac{-q^{21} - 2 q^{20} - 4 q^{19} - 6 q^{18} - 10 q^{17} - 13 q^{16} - 18 q^{15} - 21 q^{14} - 26 q^{13} - 29 q^{12} - 30 q^{11} - 26 q^{10} - 19 q^{9} - 8 q^{8} + 3 q^{7} + 10 q^{6} + 11 q^{5} + 9 q^{4} + 6 q^{3} + 3 q^{2} + q + 1}{q^{10}}\\right) Q^{7}\\mathit{Si}^{3} + \\left(\\frac{-q^{11} - 2 q^{10} - 5 q^{9} - 7 q^{8} - 9 q^{7} - 8 q^{6} - 7 q^{5} - 4 q^{4} - 2 q^{3} + q^{2} + 3 q + 1}{q^{8}}\\right) Q^{6}\\mathit{Si}^{4} + \\left(\\frac{q^{3} - q - 1}{q^{3}}\\right) Q^{5}\\mathit{Si}^{5} + \\left(\\frac{-q^{23} - q^{22} + 2 q^{20} + 5 q^{19} + 8 q^{18} + 13 q^{17} + 18 q^{16} + 24 q^{15} + 32 q^{14} + 37 q^{13} + 40 q^{12} + 42 q^{11} + 42 q^{10} + 40 q^{9} + 37 q^{8} + 32 q^{7} + 25 q^{6} + 19 q^{5} + 14 q^{4} + 9 q^{3} + 6 q^{2} + 3 q + 1}{q^{6}}\\right) Q^{10}\\mathit{Si} + \\left(\\frac{-q^{26} - q^{25} - 2 q^{24} - 2 q^{23} - 3 q^{22} - 2 q^{21} + q^{20} + 8 q^{19} + 19 q^{18} + 36 q^{17} + 59 q^{16} + 87 q^{15} + 114 q^{14} + 138 q^{13} + 156 q^{12} + 167 q^{11} + 166 q^{10} + 153 q^{9} + 133 q^{8} + 108 q^{7} + 83 q^{6} + 58 q^{5} + 37 q^{4} + 22 q^{3} + 12 q^{2} + 5 q + 2}{q^{11}}\\right) Q^{9}\\mathit{Si}^{2} + \\left(\\frac{q^{24} + 2 q^{23} + 5 q^{22} + 8 q^{21} + 13 q^{20} + 17 q^{19} + 22 q^{18} + 26 q^{17} + 33 q^{16} + 38 q^{15} + 47 q^{14} + 55 q^{13} + 62 q^{12} + 66 q^{11} + 68 q^{10} + 62 q^{9} + 55 q^{8} + 49 q^{7} + 39 q^{6} + 29 q^{5} + 21 q^{4} + 13 q^{3} + 7 q^{2} + 4 q + 1}{q^{13}}\\right) Q^{8}\\mathit{Si}^{3} + \\left(\\frac{q^{19} + 2 q^{18} + 4 q^{17} + 6 q^{16} + 10 q^{15} + 13 q^{14} + 18 q^{13} + 21 q^{12} + 25 q^{11} + 25 q^{10} + 24 q^{9} + 21 q^{8} + 17 q^{7} + 9 q^{6} + 2 q^{5} - q^{4} - q^{3} - q^{2} - q - 1}{q^{12}}\\right) Q^{7}\\mathit{Si}^{4} + \\left(\\frac{q^{6} + 2 q^{5} + 3 q^{4} + 3 q^{3} + 4 q^{2} + 3 q + 1}{q^{7}}\\right) Q^{6}\\mathit{Si}^{5} + \\left(\\frac{-q^{21} - q^{20} - 2 q^{19} - 3 q^{18} - 4 q^{17} - 5 q^{16} - 7 q^{15} - 8 q^{14} - 9 q^{13} - 10 q^{12} - 10 q^{11} - 10 q^{10} - 10 q^{9} - 9 q^{8} - 8 q^{7} - 7 q^{6} - 5 q^{5} - 4 q^{4} - 3 q^{3} - 2 q^{2} - q - 1}{q^{6}}\\right) Q^{11}\\mathit{Si} + \\left(\\frac{q^{28} + 2 q^{27} + 3 q^{26} + 5 q^{25} + 5 q^{24} + 5 q^{23} + q^{22} - 4 q^{21} - 16 q^{20} - 30 q^{19} - 53 q^{18} - 76 q^{17} - 102 q^{16} - 122 q^{15} - 144 q^{14} - 155 q^{13} - 163 q^{12} - 156 q^{11} - 145 q^{10} - 125 q^{9} - 106 q^{8} - 81 q^{7} - 60 q^{6} - 40 q^{5} - 26 q^{4} - 14 q^{3} - 8 q^{2} - 3 q - 1}{q^{13}}\\right) Q^{10}\\mathit{Si}^{2} + \\left(\\frac{q^{28} + q^{27} + 2 q^{26} + 2 q^{25} + 2 q^{24} + 2 q^{23} + 2 q^{22} - q^{21} - 4 q^{20} - 11 q^{19} - 23 q^{18} - 43 q^{17} - 68 q^{16} - 99 q^{15} - 132 q^{14} - 163 q^{13} - 185 q^{12} - 195 q^{11} - 193 q^{10} - 179 q^{9} - 154 q^{8} - 123 q^{7} - 93 q^{6} - 64 q^{5} - 41 q^{4} - 23 q^{3} - 12 q^{2} - 5 q - 2}{q^{16}}\\right) Q^{9}\\mathit{Si}^{3} + \\left(\\frac{-q^{23} - 2 q^{22} - 5 q^{21} - 9 q^{20} - 15 q^{19} - 20 q^{18} - 27 q^{17} - 32 q^{16} - 36 q^{15} - 38 q^{14} - 41 q^{13} - 42 q^{12} - 43 q^{11} - 41 q^{10} - 40 q^{9} - 36 q^{8} - 33 q^{7} - 27 q^{6} - 23 q^{5} - 17 q^{4} - 13 q^{3} - 7 q^{2} - 4 q - 1}{q^{16}}\\right) Q^{8}\\mathit{Si}^{4} + \\left(\\frac{-q^{15} - 2 q^{14} - 4 q^{13} - 5 q^{12} - 8 q^{11} - 10 q^{10} - 13 q^{9} - 13 q^{8} - 13 q^{7} - 10 q^{6} - 8 q^{5} - 4 q^{4} - 2 q^{3} - 2 q^{2} - q + 1}{q^{13}}\\right) Q^{7}\\mathit{Si}^{5} + \\left(\\frac{-q - 1}{q^{7}}\\right) Q^{6}\\mathit{Si}^{6} + \\left(\\frac{-q^{28} - q^{27} - 2 q^{26} - q^{25} - q^{24} + 2 q^{23} + 5 q^{22} + 10 q^{21} + 17 q^{20} + 28 q^{19} + 38 q^{18} + 49 q^{17} + 59 q^{16} + 69 q^{15} + 75 q^{14} + 80 q^{13} + 80 q^{12} + 76 q^{11} + 70 q^{10} + 61 q^{9} + 51 q^{8} + 41 q^{7} + 31 q^{6} + 21 q^{5} + 14 q^{4} + 9 q^{3} + 5 q^{2} + 2 q + 1}{q^{14}}\\right) Q^{11}\\mathit{Si}^{2} + \\left(\\frac{-q^{31} - 2 q^{30} - 4 q^{29} - 7 q^{28} - 10 q^{27} - 14 q^{26} - 18 q^{25} - 21 q^{24} - 20 q^{23} - 15 q^{22} - 2 q^{21} + 20 q^{20} + 52 q^{19} + 93 q^{18} + 140 q^{17} + 188 q^{16} + 233 q^{15} + 267 q^{14} + 285 q^{13} + 286 q^{12} + 271 q^{11} + 243 q^{10} + 203 q^{9} + 160 q^{8} + 118 q^{7} + 82 q^{6} + 53 q^{5} + 31 q^{4} + 16 q^{3} + 8 q^{2} + 3 q + 1}{q^{19}}\\right) Q^{10}\\mathit{Si}^{3} + \\left(\\frac{-q^{28} - q^{27} - 2 q^{26} - 2 q^{25} - 2 q^{24} - q^{23} + q^{22} + 4 q^{21} + 6 q^{20} + 9 q^{19} + 13 q^{18} + 19 q^{17} + 29 q^{16} + 44 q^{15} + 63 q^{14} + 85 q^{13} + 107 q^{12} + 122 q^{11} + 131 q^{10} + 131 q^{9} + 120 q^{8} + 103 q^{7} + 83 q^{6} + 59 q^{5} + 39 q^{4} + 23 q^{3} + 12 q^{2} + 5 q + 2}{q^{20}}\\right) Q^{9}\\mathit{Si}^{4} + \\left(\\frac{q^{20} + 2 q^{19} + 5 q^{18} + 8 q^{17} + 13 q^{16} + 17 q^{15} + 22 q^{14} + 24 q^{13} + 26 q^{12} + 24 q^{11} + 21 q^{10} + 16 q^{9} + 15 q^{8} + 13 q^{7} + 11 q^{6} + 8 q^{5} + 8 q^{4} + 9 q^{3} + 7 q^{2} + 4 q + 1}{q^{18}}\\right) Q^{8}\\mathit{Si}^{5} + \\left(\\frac{q^{9} + 2 q^{8} + 3 q^{7} + 3 q^{6} + 3 q^{5} + 3 q^{4} + 3 q^{3} + 2 q^{2} - 1}{q^{13}}\\right) Q^{7}\\mathit{Si}^{6} + \\left(\\frac{-q^{24} - q^{23} - 2 q^{22} - 3 q^{21} - 5 q^{20} - 6 q^{19} - 9 q^{18} - 10 q^{17} - 13 q^{16} - 14 q^{15} - 16 q^{14} - 16 q^{13} - 18 q^{12} - 16 q^{11} - 16 q^{10} - 14 q^{9} - 13 q^{8} - 10 q^{7} - 9 q^{6} - 6 q^{5} - 5 q^{4} - 3 q^{3} - 2 q^{2} - q - 1}{q^{14}}\\right) Q^{12}\\mathit{Si}^{2} + \\left(\\frac{q^{32} + 2 q^{31} + 4 q^{30} + 6 q^{29} + 10 q^{28} + 12 q^{27} + 16 q^{26} + 16 q^{25} + 14 q^{24} + 6 q^{23} - 7 q^{22} - 30 q^{21} - 56 q^{20} - 90 q^{19} - 126 q^{18} - 163 q^{17} - 195 q^{16} - 220 q^{15} - 232 q^{14} - 234 q^{13} - 226 q^{12} - 205 q^{11} - 177 q^{10} - 145 q^{9} - 113 q^{8} - 83 q^{7} - 58 q^{6} - 36 q^{5} - 22 q^{4} - 12 q^{3} - 6 q^{2} - 2 q - 1}{q^{21}}\\right) Q^{11}\\mathit{Si}^{3} + \\left(\\frac{q^{32} + 2 q^{31} + 4 q^{30} + 8 q^{29} + 12 q^{28} + 18 q^{27} + 24 q^{26} + 32 q^{25} + 37 q^{24} + 43 q^{23} + 43 q^{22} + 41 q^{21} + 26 q^{20} + 6 q^{19} - 31 q^{18} - 73 q^{17} - 128 q^{16} - 176 q^{15} - 226 q^{14} - 256 q^{13} - 273 q^{12} - 265 q^{11} - 247 q^{10} - 209 q^{9} - 170 q^{8} - 124 q^{7} - 87 q^{6} - 55 q^{5} - 33 q^{4} - 16 q^{3} - 8 q^{2} - 3 q - 1}{q^{24}}\\right) Q^{10}\\mathit{Si}^{4} + \\left(\\frac{q^{26} + q^{25} + 2 q^{24} + 2 q^{23} + 2 q^{22} + q^{21} - q^{20} - 4 q^{19} - 6 q^{18} - 7 q^{17} - 7 q^{16} - 7 q^{15} - 7 q^{14} - 9 q^{13} - 14 q^{12} - 21 q^{11} - 30 q^{10} - 39 q^{9} - 47 q^{8} - 49 q^{7} - 46 q^{6} - 39 q^{5} - 30 q^{4} - 20 q^{3} - 12 q^{2} - 5 q - 2}{q^{23}}\\right) Q^{9}\\mathit{Si}^{5} + \\left(\\frac{-q^{15} - 2 q^{14} - 4 q^{13} - 5 q^{12} - 7 q^{11} - 8 q^{10} - 9 q^{9} - 7 q^{8} - 5 q^{7} - 2 q^{6} - q^{5} + q^{4} + 2 q^{3} + q^{2} - 3 q - 1}{q^{19}}\\right) Q^{8}\\mathit{Si}^{6} + \\left(\\frac{-q^{3} - q^{2} + 1}{q^{14}}\\right) Q^{7}\\mathit{Si}^{7} + \\left(\\frac{-q^{31} - q^{30} - 2 q^{29} - 3 q^{28} - 3 q^{27} - 3 q^{26} - 3 q^{25} + q^{24} + 6 q^{23} + 13 q^{22} + 23 q^{21} + 36 q^{20} + 49 q^{19} + 64 q^{18} + 78 q^{17} + 90 q^{16} + 99 q^{15} + 104 q^{14} + 104 q^{13} + 101 q^{12} + 93 q^{11} + 82 q^{10} + 69 q^{9} + 56 q^{8} + 43 q^{7} + 31 q^{6} + 21 q^{5} + 14 q^{4} + 8 q^{3} + 4 q^{2} + 2 q + 1}{q^{22}}\\right) Q^{12}\\mathit{Si}^{3} + \\left(\\frac{-q^{34} - 2 q^{33} - 5 q^{32} - 8 q^{31} - 15 q^{30} - 22 q^{29} - 32 q^{28} - 41 q^{27} - 53 q^{26} - 59 q^{25} - 63 q^{24} - 58 q^{23} - 45 q^{22} - 16 q^{21} + 22 q^{20} + 75 q^{19} + 133 q^{18} + 195 q^{17} + 251 q^{16} + 296 q^{15} + 322 q^{14} + 330 q^{13} + 318 q^{12} + 287 q^{11} + 244 q^{10} + 197 q^{9} + 150 q^{8} + 106 q^{7} + 71 q^{6} + 43 q^{5} + 25 q^{4} + 13 q^{3} + 6 q^{2} + 2 q + 1}{q^{27}}\\right) Q^{11}\\mathit{Si}^{4} + \\left(\\frac{-q^{31} - 2 q^{30} - 4 q^{29} - 8 q^{28} - 13 q^{27} - 19 q^{26} - 26 q^{25} - 34 q^{24} - 42 q^{23} - 50 q^{22} - 55 q^{21} - 60 q^{20} - 61 q^{19} - 57 q^{18} - 43 q^{17} - 23 q^{16} + 6 q^{15} + 40 q^{14} + 75 q^{13} + 106 q^{12} + 128 q^{11} + 137 q^{10} + 133 q^{9} + 119 q^{8} + 96 q^{7} + 72 q^{6} + 49 q^{5} + 30 q^{4} + 16 q^{3} + 8 q^{2} + 3 q + 1}{q^{28}}\\right) Q^{10}\\mathit{Si}^{5} + \\left(\\frac{-q^{22} - q^{21} - 2 q^{20} - 2 q^{19} - 2 q^{18} - 2 q^{17} - 2 q^{16} - q^{15} - 2 q^{14} - 3 q^{13} - 5 q^{12} - 8 q^{11} - 11 q^{10} - 11 q^{9} - 8 q^{8} - 3 q^{7} + q^{6} + 3 q^{5} + 6 q^{4} + 9 q^{3} + 9 q^{2} + 5 q + 2}{q^{25}}\\right) Q^{9}\\mathit{Si}^{6} + \\left(\\frac{q^{9} + q^{8} + q^{7} - q^{2} - 2 q - 1}{q^{20}}\\right) Q^{8}\\mathit{Si}^{7} + \\left(\\frac{-q^{25} - q^{24} - 2 q^{23} - 3 q^{22} - 5 q^{21} - 7 q^{20} - 9 q^{19} - 11 q^{18} - 14 q^{17} - 16 q^{16} - 18 q^{15} - 19 q^{14} - 20 q^{13} - 20 q^{12} - 19 q^{11} - 18 q^{10} - 16 q^{9} - 14 q^{8} - 11 q^{7} - 9 q^{6} - 7 q^{5} - 5 q^{4} - 3 q^{3} - 2 q^{2} - q - 1}{q^{22}}\\right) Q^{13}\\mathit{Si}^{3} + \\left(\\frac{q^{34} + 2 q^{33} + 4 q^{32} + 7 q^{31} + 11 q^{30} + 17 q^{29} + 22 q^{28} + 28 q^{27} + 32 q^{26} + 34 q^{25} + 28 q^{24} + 20 q^{23} - 24 q^{21} - 60 q^{20} - 96 q^{19} - 139 q^{18} - 172 q^{17} - 208 q^{16} - 228 q^{15} - 241 q^{14} - 235 q^{13} - 224 q^{12} - 197 q^{11} - 171 q^{10} - 136 q^{9} - 105 q^{8} - 74 q^{7} - 52 q^{6} - 32 q^{5} - 20 q^{4} - 10 q^{3} - 5 q^{2} - 2 q - 1}{q^{29}}\\right) Q^{12}\\mathit{Si}^{4} + \\left(\\frac{q^{34} + 2 q^{33} + 5 q^{32} + 9 q^{31} + 17 q^{30} + 26 q^{29} + 40 q^{28} + 54 q^{27} + 72 q^{26} + 88 q^{25} + 106 q^{24} + 116 q^{23} + 122 q^{22} + 117 q^{21} + 103 q^{20} + 71 q^{19} + 30 q^{18} - 24 q^{17} - 82 q^{16} - 140 q^{15} - 187 q^{14} - 220 q^{13} - 234 q^{12} - 229 q^{11} - 208 q^{10} - 175 q^{9} - 138 q^{8} - 101 q^{7} - 69 q^{6} - 42 q^{5} - 25 q^{4} - 13 q^{3} - 6 q^{2} - 2 q - 1}{q^{32}}\\right) Q^{11}\\mathit{Si}^{5} + \\left(\\frac{q^{28} + 2 q^{27} + 4 q^{26} + 8 q^{25} + 12 q^{24} + 18 q^{23} + 24 q^{22} + 32 q^{21} + 38 q^{20} + 46 q^{19} + 51 q^{18} + 58 q^{17} + 60 q^{16} + 62 q^{15} + 55 q^{14} + 49 q^{13} + 33 q^{12} + 19 q^{11} - q^{10} - 15 q^{9} - 29 q^{8} - 32 q^{7} - 33 q^{6} - 27 q^{5} - 22 q^{4} - 13 q^{3} - 8 q^{2} - 3 q - 1}{q^{31}}\\right) Q^{10}\\mathit{Si}^{6} + \\left(\\frac{q^{16} + q^{15} + 2 q^{14} + 2 q^{13} + 3 q^{12} + 4 q^{11} + 5 q^{10} + 6 q^{9} + 7 q^{8} + 8 q^{7} + 8 q^{6} + 7 q^{5} + 6 q^{4} + 5 q^{3} + 4 q^{2} - 2}{q^{26}}\\right) Q^{9}\\mathit{Si}^{7} + \\frac{1}{q^{20}} Q^{8}\\mathit{Si}^{8} + \\left(\\frac{-q^{32} - q^{31} - 2 q^{30} - 3 q^{29} - 5 q^{28} - 5 q^{27} - 6 q^{26} - 5 q^{25} - 4 q^{24} + 2 q^{23} + 8 q^{22} + 18 q^{21} + 29 q^{20} + 43 q^{19} + 56 q^{18} + 71 q^{17} + 82 q^{16} + 91 q^{15} + 96 q^{14} + 97 q^{13} + 93 q^{12} + 87 q^{11} + 77 q^{10} + 64 q^{9} + 52 q^{8} + 40 q^{7} + 29 q^{6} + 20 q^{5} + 13 q^{4} + 7 q^{3} + 4 q^{2} + 2 q + 1}{q^{30}}\\right) Q^{13}\\mathit{Si}^{4} + \\left(\\frac{-q^{35} - 2 q^{34} - 5 q^{33} - 9 q^{32} - 16 q^{31} - 25 q^{30} - 38 q^{29} - 52 q^{28} - 68 q^{27} - 83 q^{26} - 97 q^{25} - 105 q^{24} - 106 q^{23} - 95 q^{22} - 74 q^{21} - 40 q^{20} + 6 q^{19} + 61 q^{18} + 116 q^{17} + 169 q^{16} + 212 q^{15} + 242 q^{14} + 252 q^{13} + 246 q^{12} + 225 q^{11} + 195 q^{10} + 158 q^{9} + 120 q^{8} + 85 q^{7} + 58 q^{6} + 36 q^{5} + 21 q^{4} + 11 q^{3} + 5 q^{2} + 2 q + 1}{q^{35}}\\right) Q^{12}\\mathit{Si}^{5} + \\left(\\frac{-q^{32} - 2 q^{31} - 5 q^{30} - 9 q^{29} - 17 q^{28} - 26 q^{27} - 40 q^{26} - 54 q^{25} - 72 q^{24} - 89 q^{23} - 108 q^{22} - 121 q^{21} - 133 q^{20} - 136 q^{19} - 134 q^{18} - 121 q^{17} - 100 q^{16} - 68 q^{15} - 35 q^{14} + 2 q^{13} + 36 q^{12} + 61 q^{11} + 76 q^{10} + 81 q^{9} + 75 q^{8} + 63 q^{7} + 49 q^{6} + 33 q^{5} + 21 q^{4} + 12 q^{3} + 6 q^{2} + 2 q + 1}{q^{36}}\\right) Q^{11}\\mathit{Si}^{6} + \\left(\\frac{-q^{23} - 2 q^{22} - 4 q^{21} - 7 q^{20} - 10 q^{19} - 14 q^{18} - 19 q^{17} - 24 q^{16} - 28 q^{15} - 32 q^{14} - 35 q^{13} - 36 q^{12} - 36 q^{11} - 34 q^{10} - 29 q^{9} - 22 q^{8} - 14 q^{7} - 8 q^{6} - 4 q^{5} + 3 q^{3} + 5 q^{2} + 3 q + 1}{q^{33}}\\right) Q^{10}\\mathit{Si}^{7} + \\left(\\frac{-q^{9} - q^{8} - 2 q^{7} - 2 q^{6} - 2 q^{5} - 2 q^{4} - 2 q^{3} - 2 q^{2} - 2 q - 1}{q^{27}}\\right) Q^{9}\\mathit{Si}^{8} + \\left(\\frac{-q^{24} - q^{23} - 2 q^{22} - 3 q^{21} - 5 q^{20} - 6 q^{19} - 9 q^{18} - 10 q^{17} - 13 q^{16} - 14 q^{15} - 16 q^{14} - 16 q^{13} - 18 q^{12} - 16 q^{11} - 16 q^{10} - 14 q^{9} - 13 q^{8} - 10 q^{7} - 9 q^{6} - 6 q^{5} - 5 q^{4} - 3 q^{3} - 2 q^{2} - q - 1}{q^{30}}\\right) Q^{14}\\mathit{Si}^{4} + \\left(\\frac{q^{34} + 2 q^{33} + 4 q^{32} + 7 q^{31} + 12 q^{30} + 17 q^{29} + 25 q^{28} + 31 q^{27} + 39 q^{26} + 43 q^{25} + 46 q^{24} + 42 q^{23} + 34 q^{22} + 16 q^{21} - 5 q^{20} - 33 q^{19} - 64 q^{18} - 98 q^{17} - 126 q^{16} - 149 q^{15} - 162 q^{14} - 167 q^{13} - 164 q^{12} - 151 q^{11} - 131 q^{10} - 107 q^{9} - 84 q^{8} - 62 q^{7} - 44 q^{6} - 28 q^{5} - 17 q^{4} - 9 q^{3} - 5 q^{2} - 2 q - 1}{q^{37}}\\right) Q^{13}\\mathit{Si}^{5} + \\left(\\frac{q^{34} + 2 q^{33} + 5 q^{32} + 10 q^{31} + 17 q^{30} + 28 q^{29} + 43 q^{28} + 61 q^{27} + 81 q^{26} + 104 q^{25} + 123 q^{24} + 144 q^{23} + 157 q^{22} + 163 q^{21} + 155 q^{20} + 143 q^{19} + 113 q^{18} + 79 q^{17} + 31 q^{16} - 12 q^{15} - 58 q^{14} - 89 q^{13} - 117 q^{12} - 123 q^{11} - 122 q^{10} - 107 q^{9} - 91 q^{8} - 67 q^{7} - 49 q^{6} - 31 q^{5} - 20 q^{4} - 10 q^{3} - 5 q^{2} - 2 q - 1}{q^{40}}\\right) Q^{12}\\mathit{Si}^{6} + \\left(\\frac{q^{28} + 2 q^{27} + 5 q^{26} + 8 q^{25} + 15 q^{24} + 22 q^{23} + 32 q^{22} + 42 q^{21} + 55 q^{20} + 65 q^{19} + 76 q^{18} + 83 q^{17} + 89 q^{16} + 88 q^{15} + 85 q^{14} + 74 q^{13} + 62 q^{12} + 47 q^{11} + 31 q^{10} + 15 q^{9} + 3 q^{8} - 6 q^{7} - 10 q^{6} - 11 q^{5} - 10 q^{4} - 8 q^{3} - 5 q^{2} - 2 q - 1}{q^{39}}\\right) Q^{11}\\mathit{Si}^{7} + \\left(\\frac{q^{16} + 2 q^{15} + 3 q^{14} + 5 q^{13} + 6 q^{12} + 8 q^{11} + 9 q^{10} + 11 q^{9} + 11 q^{8} + 11 q^{7} + 9 q^{6} + 8 q^{5} + 6 q^{4} + 5 q^{3} + 3 q^{2} + 2 q - 1}{q^{34}}\\right) Q^{10}\\mathit{Si}^{8} + \\frac{1}{q^{27}} Q^{9}\\mathit{Si}^{9} + \\left(\\frac{-q^{31} - q^{30} - 2 q^{29} - 3 q^{28} - 5 q^{27} - 6 q^{26} - 7 q^{25} - 7 q^{24} - 7 q^{23} - 4 q^{22} - q^{21} + 6 q^{20} + 14 q^{19} + 24 q^{18} + 33 q^{17} + 43 q^{16} + 51 q^{15} + 58 q^{14} + 63 q^{13} + 64 q^{12} + 60 q^{11} + 56 q^{10} + 49 q^{9} + 41 q^{8} + 33 q^{7} + 25 q^{6} + 17 q^{5} + 11 q^{4} + 7 q^{3} + 4 q^{2} + 2 q + 1}{q^{38}}\\right) Q^{14}\\mathit{Si}^{5} + \\left(\\frac{-q^{34} - 2 q^{33} - 5 q^{32} - 9 q^{31} - 16 q^{30} - 24 q^{29} - 37 q^{28} - 50 q^{27} - 67 q^{26} - 81 q^{25} - 96 q^{24} - 104 q^{23} - 111 q^{22} - 107 q^{21} - 96 q^{20} - 73 q^{19} - 46 q^{18} - 11 q^{17} + 25 q^{16} + 63 q^{15} + 92 q^{14} + 113 q^{13} + 123 q^{12} + 124 q^{11} + 115 q^{10} + 98 q^{9} + 79 q^{8} + 60 q^{7} + 43 q^{6} + 28 q^{5} + 17 q^{4} + 9 q^{3} + 5 q^{2} + 2 q + 1}{q^{43}}\\right) Q^{13}\\mathit{Si}^{6} + \\left(\\frac{-q^{31} - 2 q^{30} - 5 q^{29} - 9 q^{28} - 16 q^{27} - 25 q^{26} - 38 q^{25} - 52 q^{24} - 69 q^{23} - 85 q^{22} - 102 q^{21} - 116 q^{20} - 126 q^{19} - 129 q^{18} - 128 q^{17} - 118 q^{16} - 103 q^{15} - 82 q^{14} - 58 q^{13} - 33 q^{12} - 13 q^{11} + 6 q^{10} + 18 q^{9} + 24 q^{8} + 25 q^{7} + 23 q^{6} + 17 q^{5} + 13 q^{4} + 8 q^{3} + 4 q^{2} + 2 q + 1}{q^{44}}\\right) Q^{12}\\mathit{Si}^{7} + \\left(\\frac{-q^{22} - 2 q^{21} - 4 q^{20} - 6 q^{19} - 10 q^{18} - 13 q^{17} - 18 q^{16} - 22 q^{15} - 26 q^{14} - 28 q^{13} - 30 q^{12} - 29 q^{11} - 28 q^{10} - 25 q^{9} - 21 q^{8} - 15 q^{7} - 11 q^{6} - 7 q^{5} - 4 q^{4} - 2 q^{3} + q + 1}{q^{41}}\\right) Q^{11}\\mathit{Si}^{8} + \\left(\\frac{-q^{8} - q^{7} - q^{6} - q^{5} - q^{4} - q^{3} - q^{2} - q - 1}{q^{35}}\\right) Q^{10}\\mathit{Si}^{9} + \\left(\\frac{-q^{21} - q^{20} - 2 q^{19} - 3 q^{18} - 4 q^{17} - 5 q^{16} - 7 q^{15} - 8 q^{14} - 9 q^{13} - 10 q^{12} - 10 q^{11} - 10 q^{10} - 10 q^{9} - 9 q^{8} - 8 q^{7} - 7 q^{6} - 5 q^{5} - 4 q^{4} - 3 q^{3} - 2 q^{2} - q - 1}{q^{38}}\\right) Q^{15}\\mathit{Si}^{5} + \\left(\\frac{q^{32} + 2 q^{31} + 4 q^{30} + 7 q^{29} + 11 q^{28} + 16 q^{27} + 22 q^{26} + 29 q^{25} + 34 q^{24} + 39 q^{23} + 40 q^{22} + 40 q^{21} + 34 q^{20} + 26 q^{19} + 9 q^{18} - 6 q^{17} - 26 q^{16} - 41 q^{15} - 59 q^{14} - 70 q^{13} - 80 q^{12} - 77 q^{11} - 74 q^{10} - 64 q^{9} - 56 q^{8} - 43 q^{7} - 33 q^{6} - 21 q^{5} - 14 q^{4} - 8 q^{3} - 5 q^{2} - 2 q - 1}{q^{45}}\\right) Q^{14}\\mathit{Si}^{6} + \\left(\\frac{q^{32} + 2 q^{31} + 5 q^{30} + 9 q^{29} + 16 q^{28} + 24 q^{27} + 37 q^{26} + 50 q^{25} + 67 q^{24} + 82 q^{23} + 98 q^{22} + 108 q^{21} + 118 q^{20} + 120 q^{19} + 117 q^{18} + 103 q^{17} + 87 q^{16} + 65 q^{15} + 42 q^{14} + 16 q^{13} - 5 q^{12} - 22 q^{11} - 32 q^{10} - 37 q^{9} - 37 q^{8} - 32 q^{7} - 25 q^{6} - 19 q^{5} - 13 q^{4} - 7 q^{3} - 4 q^{2} - 2 q - 1}{q^{48}}\\right) Q^{13}\\mathit{Si}^{7} + \\left(\\frac{q^{26} + 2 q^{25} + 4 q^{24} + 7 q^{23} + 11 q^{22} + 17 q^{21} + 23 q^{20} + 30 q^{19} + 37 q^{18} + 44 q^{17} + 48 q^{16} + 52 q^{15} + 52 q^{14} + 51 q^{13} + 45 q^{12} + 40 q^{11} + 31 q^{10} + 25 q^{9} + 16 q^{8} + 10 q^{7} + 4 q^{6} + 2 q^{5} - q^{4} - q^{3} - 2 q^{2} - q - 1}{q^{47}}\\right) Q^{12}\\mathit{Si}^{8} + \\left(\\frac{q^{14} + q^{13} + 2 q^{12} + 2 q^{11} + 3 q^{10} + 3 q^{9} + 4 q^{8} + 4 q^{7} + 4 q^{6} + 3 q^{5} + 3 q^{4} + 2 q^{3} + 2 q^{2} + q + 1}{q^{42}}\\right) Q^{11}\\mathit{Si}^{9} + \\left(\\frac{-q^{28} - q^{27} - 2 q^{26} - 3 q^{25} - 4 q^{24} - 5 q^{23} - 7 q^{22} - 6 q^{21} - 6 q^{20} - 4 q^{19} - 2 q^{18} + 2 q^{17} + 5 q^{16} + 12 q^{15} + 18 q^{14} + 22 q^{13} + 25 q^{12} + 27 q^{11} + 27 q^{10} + 27 q^{9} + 25 q^{8} + 22 q^{7} + 17 q^{6} + 12 q^{5} + 9 q^{4} + 6 q^{3} + 4 q^{2} + 2 q + 1}{q^{46}}\\right) Q^{15}\\mathit{Si}^{6} + \\left(\\frac{-q^{31} - 2 q^{30} - 5 q^{29} - 8 q^{28} - 14 q^{27} - 20 q^{26} - 29 q^{25} - 38 q^{24} - 49 q^{23} - 57 q^{22} - 65 q^{21} - 68 q^{20} - 69 q^{19} - 64 q^{18} - 58 q^{17} - 44 q^{16} - 28 q^{15} - 11 q^{14} + 4 q^{13} + 19 q^{12} + 29 q^{11} + 36 q^{10} + 36 q^{9} + 34 q^{8} + 29 q^{7} + 24 q^{6} + 17 q^{5} + 11 q^{4} + 7 q^{3} + 4 q^{2} + 2 q + 1}{q^{51}}\\right) Q^{14}\\mathit{Si}^{7} + \\left(\\frac{-q^{28} - 2 q^{27} - 4 q^{26} - 7 q^{25} - 12 q^{24} - 17 q^{23} - 25 q^{22} - 32 q^{21} - 41 q^{20} - 48 q^{19} - 55 q^{18} - 59 q^{17} - 62 q^{16} - 59 q^{15} - 56 q^{14} - 49 q^{13} - 41 q^{12} - 31 q^{11} - 22 q^{10} - 13 q^{9} - 7 q^{8} - 2 q^{7} + 2 q^{6} + 3 q^{5} + 3 q^{4} + 3 q^{3} + 2 q^{2} + q + 1}{q^{52}}\\right) Q^{13}\\mathit{Si}^{8} + \\left(\\frac{-q^{18} - q^{17} - 2 q^{16} - 3 q^{15} - 4 q^{14} - 5 q^{13} - 7 q^{12} - 7 q^{11} - 8 q^{10} - 8 q^{9} - 8 q^{8} - 7 q^{7} - 7 q^{6} - 5 q^{5} - 4 q^{4} - 3 q^{3} - 2 q^{2} - q - 1}{q^{48}}\\right) Q^{12}\\mathit{Si}^{9} + \\left(\\frac{-q^{16} - q^{15} - 2 q^{14} - 2 q^{13} - 3 q^{12} - 3 q^{11} - 4 q^{10} - 4 q^{9} - 5 q^{8} - 4 q^{7} - 4 q^{6} - 3 q^{5} - 3 q^{4} - 2 q^{3} - 2 q^{2} - q - 1}{q^{46}}\\right) Q^{16}\\mathit{Si}^{6} + \\left(\\frac{q^{28} + 2 q^{27} + 4 q^{26} + 6 q^{25} + 9 q^{24} + 12 q^{23} + 16 q^{22} + 19 q^{21} + 23 q^{20} + 23 q^{19} + 23 q^{18} + 20 q^{17} + 17 q^{16} + 11 q^{15} + 5 q^{14} - 4 q^{13} - 12 q^{12} - 17 q^{11} - 20 q^{10} - 22 q^{9} - 22 q^{8} - 21 q^{7} - 17 q^{6} - 12 q^{5} - 9 q^{4} - 6 q^{3} - 4 q^{2} - 2 q - 1}{q^{53}}\\right) Q^{15}\\mathit{Si}^{7} + \\left(\\frac{q^{28} + 2 q^{27} + 4 q^{26} + 7 q^{25} + 11 q^{24} + 16 q^{23} + 22 q^{22} + 29 q^{21} + 35 q^{20} + 41 q^{19} + 45 q^{18} + 48 q^{17} + 47 q^{16} + 46 q^{15} + 40 q^{14} + 34 q^{13} + 25 q^{12} + 19 q^{11} + 10 q^{10} + 5 q^{9} - q^{8} - 3 q^{7} - 5 q^{6} - 4 q^{5} - 5 q^{4} - 3 q^{3} - 2 q^{2} - q - 1}{q^{56}}\\right) Q^{14}\\mathit{Si}^{8} + \\left(\\frac{q^{20} + q^{19} + 2 q^{18} + 3 q^{17} + 5 q^{16} + 6 q^{15} + 8 q^{14} + 9 q^{13} + 11 q^{12} + 11 q^{11} + 12 q^{10} + 11 q^{9} + 11 q^{8} + 9 q^{7} + 8 q^{6} + 6 q^{5} + 5 q^{4} + 3 q^{3} + 2 q^{2} + q + 1}{q^{53}}\\right) Q^{13}\\mathit{Si}^{9} + \\left(\\frac{-q^{23} - q^{22} - 2 q^{21} - 2 q^{20} - 3 q^{19} - 3 q^{18} - 4 q^{17} - 4 q^{16} - 3 q^{15} - q^{14} + 2 q^{12} + 3 q^{11} + 5 q^{10} + 6 q^{9} + 9 q^{8} + 9 q^{7} + 7 q^{6} + 6 q^{5} + 5 q^{4} + 4 q^{3} + 3 q^{2} + 2 q + 1}{q^{54}}\\right) Q^{16}\\mathit{Si}^{7} + \\left(\\frac{-q^{26} - 2 q^{25} - 4 q^{24} - 6 q^{23} - 9 q^{22} - 12 q^{21} - 16 q^{20} - 19 q^{19} - 23 q^{18} - 24 q^{17} - 25 q^{16} - 23 q^{15} - 22 q^{14} - 18 q^{13} - 14 q^{12} - 9 q^{11} - 4 q^{10} + 2 q^{8} + 4 q^{7} + 5 q^{6} + 5 q^{5} + 4 q^{4} + 3 q^{3} + 2 q^{2} + q + 1}{q^{59}}\\right) Q^{15}\\mathit{Si}^{8} + \\left(\\frac{-q^{20} - q^{19} - 2 q^{18} - 3 q^{17} - 5 q^{16} - 6 q^{15} - 8 q^{14} - 9 q^{13} - 11 q^{12} - 11 q^{11} - 12 q^{10} - 11 q^{9} - 11 q^{8} - 9 q^{7} - 8 q^{6} - 6 q^{5} - 5 q^{4} - 3 q^{3} - 2 q^{2} - q - 1}{q^{57}}\\right) Q^{14}\\mathit{Si}^{9} + \\left(\\frac{-q^{9} - q^{8} - q^{7} - q^{6} - q^{5} - q^{4} - q^{3} - q^{2} - q - 1}{q^{54}}\\right) Q^{17}\\mathit{Si}^{7} + \\left(\\frac{q^{22} + 2 q^{21} + 3 q^{20} + 4 q^{19} + 5 q^{18} + 6 q^{17} + 7 q^{16} + 8 q^{15} + 8 q^{14} + 8 q^{13} + 5 q^{12} + 4 q^{11} + 2 q^{10} + q^{9} - q^{8} - 2 q^{7} - 4 q^{6} - 3 q^{5} - 3 q^{4} - 2 q^{3} - 2 q^{2} - q - 1}{q^{61}}\\right) Q^{16}\\mathit{Si}^{8} + \\left(\\frac{q^{18} + q^{17} + 2 q^{16} + 3 q^{15} + 4 q^{14} + 5 q^{13} + 7 q^{12} + 7 q^{11} + 8 q^{10} + 8 q^{9} + 8 q^{8} + 7 q^{7} + 7 q^{6} + 5 q^{5} + 4 q^{4} + 3 q^{3} + 2 q^{2} + q + 1}{q^{60}}\\right) Q^{15}\\mathit{Si}^{9} + \\left(\\frac{-q^{16} - q^{15} - q^{14} - q^{13} - q^{12} - q^{11} - q^{10} - q^{9} - q^{8} + q^{7} + q^{6} + q^{5} + q^{4} + q^{3} + q^{2} + q + 1}{q^{62}}\\right) Q^{17}\\mathit{Si}^{8} + \\left(\\frac{-q^{14} - q^{13} - 2 q^{12} - 2 q^{11} - 3 q^{10} - 3 q^{9} - 4 q^{8} - 4 q^{7} - 4 q^{6} - 3 q^{5} - 3 q^{4} - 2 q^{3} - 2 q^{2} - q - 1}{q^{62}}\\right) Q^{16}\\mathit{Si}^{9} - \\frac{1}{q^{62}} Q^{18}\\mathit{Si}^{8} + \\left(\\frac{q^{8} + q^{7} + q^{6} + q^{5} + q^{4} + q^{3} + q^{2} + q + 1}{q^{63}}\\right) Q^{17}\\mathit{Si}^{9} - \\frac{1}{q^{63}} Q^{18}\\mathit{Si}^{9}\\)</html>"
      ],
      "text/latex": [
       "$\\displaystyle \\left(-q^{5} + 2 q^{4} + 2 q^{3}\\right) Q^{2} + \\left(q^{5} + 2 q^{4}\\right) Q S + q^{4} S^{2} + \\left(-q^{11} - q^{8} - q^{7} - q^{5} - 2 q^{4} - 3 q^{3} - q^{2}\\right) Q^{3} + \\left(q^{7} - 2 q^{5} - 2 q^{4}\\right) Q^{2}S - q^{5} Q S^{2} + \\left(q^{13} + q^{10} + 4 q^{9} + 6 q^{8} + 8 q^{7} + 7 q^{6} + 5 q^{5} + 3 q^{4} + q^{3} + q^{2}\\right) Q^{4} + \\left(q^{10} + q^{9} + q^{8} + q^{7} + q^{5} + q^{4}\\right) Q^{3}S + \\left(q^{10} + q^{9} + q^{8} + q^{5} - q^{3} + 2 q^{2} + q\\right) Q^{3}\\mathit{Si} + \\left(-q^{8} + q^{6}\\right) Q^{2}S^{2} + \\left(-q^{15} + q^{13} + q^{12} - 2 q^{11} - 6 q^{10} - 10 q^{9} - 14 q^{8} - 16 q^{7} - 14 q^{6} - 10 q^{5} - 6 q^{4} - 2 q^{3}\\right) Q^{5} + \\left(-q^{12} - 3 q^{11} - 4 q^{10} - 4 q^{9} - 4 q^{8} - 2 q^{7}\\right) Q^{4}S + \\left(-q^{12} - q^{11} - 2 q^{10} - 2 q^{9} - q^{8} - q^{7} - 4 q^{6} - 6 q^{5} - 5 q^{4} - 4 q^{3} - 4 q^{2} - 2 q - 1\\right) Q^{4}\\mathit{Si} + \\left(-q^{11} - q^{10}\\right) Q^{3}S^{2} + \\left(-q^{8} - q^{7} - q^{6}\\right) Q^{3}\\mathit{Si}^{2} + \\left(-q^{15} - q^{14} - q^{13} + 2 q^{11} + 4 q^{10} + 6 q^{9} + 9 q^{8} + 11 q^{7} + 10 q^{6} + 8 q^{5} + 6 q^{4} + 4 q^{3} + q^{2}\\right) Q^{6} + \\left(q^{13} + 3 q^{12} + 4 q^{11} + 4 q^{10} + 4 q^{9} + 4 q^{8} + 2 q^{7}\\right) Q^{5}S + \\left(q^{14} + q^{13} + q^{12} - q^{9} + 6 q^{7} + 14 q^{6} + 19 q^{5} + 21 q^{4} + 19 q^{3} + 12 q^{2} + 7 q + 3\\right) Q^{5}\\mathit{Si} + \\left(q^{12} + q^{11}\\right) Q^{4}S^{2} + \\left(\\frac{q^{11} + q^{10} + 3 q^{9} + 3 q^{8} + 3 q^{7} + q^{6} + q^{4} + 3 q^{3} + q^{2} + 1}{q}\\right) Q^{4}\\mathit{Si}^{2} + q^{5} Q^{3}\\mathit{Si}^{3} + \\left(q^{17} + q^{16} + q^{15} + 3 q^{14} + 6 q^{13} + 8 q^{12} + 10 q^{11} + 12 q^{10} + 13 q^{9} + 11 q^{8} + 8 q^{7} + 6 q^{6} + 4 q^{5} + 2 q^{4} - q^{2}\\right) Q^{7} + \\left(q^{15} + q^{14} - q^{9} - 2 q^{8} - q^{7}\\right) Q^{6}S + \\left(\\frac{q^{15} + 2 q^{14} + 3 q^{13} + 4 q^{12} + 4 q^{11} - q^{10} - 8 q^{9} - 17 q^{8} - 25 q^{7} - 28 q^{6} - 27 q^{5} - 23 q^{4} - 15 q^{3} - 8 q^{2} - 4 q - 1}{q^{2}}\\right) Q^{6}\\mathit{Si} + \\left(-q^{13} - q^{12}\\right) Q^{5}S^{2} + \\left(\\frac{-q^{14} - q^{13} - 2 q^{12} - 2 q^{11} - 2 q^{10} - q^{9} + q^{7} - 6 q^{5} - 12 q^{4} - 12 q^{3} - 9 q^{2} - 7 q - 3}{q^{2}}\\right) Q^{5}\\mathit{Si}^{2} + \\left(-q^{7} - q^{6} - 2 q^{5} - 2 q^{4} - q^{3}\\right) Q^{4}\\mathit{Si}^{3} + \\left(-q^{16} - 6 q^{15} - 9 q^{14} - 13 q^{13} - 16 q^{12} - 20 q^{11} - 23 q^{10} - 25 q^{9} - 22 q^{8} - 19 q^{7} - 15 q^{6} - 12 q^{5} - 8 q^{4} - 5 q^{3} - q^{2}\\right) Q^{8} + \\left(-q^{17} - 3 q^{16} - 4 q^{15} - 4 q^{14} - 4 q^{13} - 4 q^{12} - 4 q^{11} - 4 q^{10} - 2 q^{9}\\right) Q^{7}S + \\left(\\frac{-q^{19} - 2 q^{18} - 3 q^{17} - 3 q^{16} - 4 q^{15} - 7 q^{14} - 10 q^{13} - 11 q^{12} - 12 q^{11} - 13 q^{10} - 11 q^{9} - 8 q^{8} - 5 q^{7} - q^{6} + 2 q^{5} + 3 q^{4} + 3 q^{3} + 2 q^{2} + q + 1}{q^{3}}\\right) Q^{7}\\mathit{Si} + \\left(-q^{16} - q^{15}\\right) Q^{6}S^{2} + \\left(\\frac{-q^{15} - 2 q^{14} - 5 q^{13} - 7 q^{12} - 10 q^{11} - 8 q^{10} - 3 q^{9} + 8 q^{8} + 20 q^{7} + 28 q^{6} + 28 q^{5} + 24 q^{4} + 17 q^{3} + 8 q^{2} + 4 q + 1}{q^{5}}\\right) Q^{6}\\mathit{Si}^{2} + \\left(\\frac{q^{12} + q^{11} + 2 q^{10} + 2 q^{9} + 2 q^{8} + q^{7} - q^{5} - 2 q^{4} - q^{3} + 2 q^{2} + 4 q + 2}{q^{3}}\\right) Q^{5}\\mathit{Si}^{3} + q^{3} Q^{4}\\mathit{Si}^{4} + \\left(-q^{18} + 2 q^{17} + 4 q^{16} + 6 q^{15} + 8 q^{14} + 10 q^{13} + 12 q^{12} + 14 q^{11} + 16 q^{10} + 16 q^{9} + 14 q^{8} + 12 q^{7} + 10 q^{6} + 8 q^{5} + 6 q^{4} + 4 q^{3} + 2 q^{2}\\right) Q^{9} + \\left(q^{18} + 3 q^{17} + 3 q^{16} + 3 q^{15} + 3 q^{14} + 3 q^{13} + 3 q^{12} + 3 q^{11} + 3 q^{10} + q^{9}\\right) Q^{8}S + \\left(\\frac{q^{20} + q^{19} + q^{18} + 2 q^{17} + 7 q^{16} + 13 q^{15} + 21 q^{14} + 30 q^{13} + 41 q^{12} + 52 q^{11} + 59 q^{10} + 61 q^{9} + 59 q^{8} + 54 q^{7} + 45 q^{6} + 33 q^{5} + 23 q^{4} + 15 q^{3} + 8 q^{2} + 4 q + 1}{q^{4}}\\right) Q^{8}\\mathit{Si} + \\left(q^{17} + q^{16}\\right) Q^{7}S^{2} + \\left(\\frac{q^{21} + 2 q^{20} + 4 q^{19} + 5 q^{18} + 8 q^{17} + 10 q^{16} + 14 q^{15} + 17 q^{14} + 20 q^{13} + 20 q^{12} + 20 q^{11} + 13 q^{10} + 3 q^{9} - 5 q^{8} - 11 q^{7} - 15 q^{6} - 13 q^{5} - 10 q^{4} - 7 q^{3} - 3 q^{2} - q - 1}{q^{7}}\\right) Q^{7}\\mathit{Si}^{2} + \\left(\\frac{2 q^{13} + 4 q^{12} + 7 q^{11} + 10 q^{10} + 11 q^{9} + 11 q^{8} + 8 q^{7} - q^{6} - 9 q^{5} - 12 q^{4} - 10 q^{3} - 7 q^{2} - 4 q - 1}{q^{7}}\\right) Q^{6}\\mathit{Si}^{3} + \\left(\\frac{-q^{7} - q^{6} - q^{5} + q^{2} + 2 q + 1}{q^{2}}\\right) Q^{5}\\mathit{Si}^{4} + \\left(-q^{18} - q^{17} - 2 q^{16} - 2 q^{15} - 3 q^{14} - 3 q^{13} - 4 q^{12} - 4 q^{11} - 5 q^{10} - 4 q^{9} - 4 q^{8} - 3 q^{7} - 3 q^{6} - 2 q^{5} - 2 q^{4} - q^{3} - q^{2}\\right) Q^{10} + \\left(-q^{19} - q^{18} - q^{17} - q^{16} - q^{15} - q^{14} - q^{13} - q^{12} - q^{11} - q^{10}\\right) Q^{9}S + \\left(\\frac{q^{22} + q^{21} + 2 q^{20} - 4 q^{18} - 10 q^{17} - 17 q^{16} - 27 q^{15} - 38 q^{14} - 52 q^{13} - 64 q^{12} - 71 q^{11} - 74 q^{10} - 74 q^{9} - 70 q^{8} - 62 q^{7} - 51 q^{6} - 38 q^{5} - 27 q^{4} - 18 q^{3} - 11 q^{2} - 5 q - 2}{q^{5}}\\right) Q^{9}\\mathit{Si} - q^{18} Q^{8}S^{2} + \\left(\\frac{-q^{23} - 2 q^{22} - 4 q^{21} - 5 q^{20} - 7 q^{19} - 10 q^{18} - 16 q^{17} - 21 q^{16} - 30 q^{15} - 42 q^{14} - 57 q^{13} - 67 q^{12} - 76 q^{11} - 79 q^{10} - 79 q^{9} - 70 q^{8} - 60 q^{7} - 46 q^{6} - 34 q^{5} - 22 q^{4} - 14 q^{3} - 7 q^{2} - 4 q - 1}{q^{9}}\\right) Q^{8}\\mathit{Si}^{2} + \\left(\\frac{-q^{21} - 2 q^{20} - 4 q^{19} - 6 q^{18} - 10 q^{17} - 13 q^{16} - 18 q^{15} - 21 q^{14} - 26 q^{13} - 29 q^{12} - 30 q^{11} - 26 q^{10} - 19 q^{9} - 8 q^{8} + 3 q^{7} + 10 q^{6} + 11 q^{5} + 9 q^{4} + 6 q^{3} + 3 q^{2} + q + 1}{q^{10}}\\right) Q^{7}\\mathit{Si}^{3} + \\left(\\frac{-q^{11} - 2 q^{10} - 5 q^{9} - 7 q^{8} - 9 q^{7} - 8 q^{6} - 7 q^{5} - 4 q^{4} - 2 q^{3} + q^{2} + 3 q + 1}{q^{8}}\\right) Q^{6}\\mathit{Si}^{4} + \\left(\\frac{q^{3} - q - 1}{q^{3}}\\right) Q^{5}\\mathit{Si}^{5} + \\left(\\frac{-q^{23} - q^{22} + 2 q^{20} + 5 q^{19} + 8 q^{18} + 13 q^{17} + 18 q^{16} + 24 q^{15} + 32 q^{14} + 37 q^{13} + 40 q^{12} + 42 q^{11} + 42 q^{10} + 40 q^{9} + 37 q^{8} + 32 q^{7} + 25 q^{6} + 19 q^{5} + 14 q^{4} + 9 q^{3} + 6 q^{2} + 3 q + 1}{q^{6}}\\right) Q^{10}\\mathit{Si} + \\left(\\frac{-q^{26} - q^{25} - 2 q^{24} - 2 q^{23} - 3 q^{22} - 2 q^{21} + q^{20} + 8 q^{19} + 19 q^{18} + 36 q^{17} + 59 q^{16} + 87 q^{15} + 114 q^{14} + 138 q^{13} + 156 q^{12} + 167 q^{11} + 166 q^{10} + 153 q^{9} + 133 q^{8} + 108 q^{7} + 83 q^{6} + 58 q^{5} + 37 q^{4} + 22 q^{3} + 12 q^{2} + 5 q + 2}{q^{11}}\\right) Q^{9}\\mathit{Si}^{2} + \\left(\\frac{q^{24} + 2 q^{23} + 5 q^{22} + 8 q^{21} + 13 q^{20} + 17 q^{19} + 22 q^{18} + 26 q^{17} + 33 q^{16} + 38 q^{15} + 47 q^{14} + 55 q^{13} + 62 q^{12} + 66 q^{11} + 68 q^{10} + 62 q^{9} + 55 q^{8} + 49 q^{7} + 39 q^{6} + 29 q^{5} + 21 q^{4} + 13 q^{3} + 7 q^{2} + 4 q + 1}{q^{13}}\\right) Q^{8}\\mathit{Si}^{3} + \\left(\\frac{q^{19} + 2 q^{18} + 4 q^{17} + 6 q^{16} + 10 q^{15} + 13 q^{14} + 18 q^{13} + 21 q^{12} + 25 q^{11} + 25 q^{10} + 24 q^{9} + 21 q^{8} + 17 q^{7} + 9 q^{6} + 2 q^{5} - q^{4} - q^{3} - q^{2} - q - 1}{q^{12}}\\right) Q^{7}\\mathit{Si}^{4} + \\left(\\frac{q^{6} + 2 q^{5} + 3 q^{4} + 3 q^{3} + 4 q^{2} + 3 q + 1}{q^{7}}\\right) Q^{6}\\mathit{Si}^{5} + \\left(\\frac{-q^{21} - q^{20} - 2 q^{19} - 3 q^{18} - 4 q^{17} - 5 q^{16} - 7 q^{15} - 8 q^{14} - 9 q^{13} - 10 q^{12} - 10 q^{11} - 10 q^{10} - 10 q^{9} - 9 q^{8} - 8 q^{7} - 7 q^{6} - 5 q^{5} - 4 q^{4} - 3 q^{3} - 2 q^{2} - q - 1}{q^{6}}\\right) Q^{11}\\mathit{Si} + \\left(\\frac{q^{28} + 2 q^{27} + 3 q^{26} + 5 q^{25} + 5 q^{24} + 5 q^{23} + q^{22} - 4 q^{21} - 16 q^{20} - 30 q^{19} - 53 q^{18} - 76 q^{17} - 102 q^{16} - 122 q^{15} - 144 q^{14} - 155 q^{13} - 163 q^{12} - 156 q^{11} - 145 q^{10} - 125 q^{9} - 106 q^{8} - 81 q^{7} - 60 q^{6} - 40 q^{5} - 26 q^{4} - 14 q^{3} - 8 q^{2} - 3 q - 1}{q^{13}}\\right) Q^{10}\\mathit{Si}^{2} + \\left(\\frac{q^{28} + q^{27} + 2 q^{26} + 2 q^{25} + 2 q^{24} + 2 q^{23} + 2 q^{22} - q^{21} - 4 q^{20} - 11 q^{19} - 23 q^{18} - 43 q^{17} - 68 q^{16} - 99 q^{15} - 132 q^{14} - 163 q^{13} - 185 q^{12} - 195 q^{11} - 193 q^{10} - 179 q^{9} - 154 q^{8} - 123 q^{7} - 93 q^{6} - 64 q^{5} - 41 q^{4} - 23 q^{3} - 12 q^{2} - 5 q - 2}{q^{16}}\\right) Q^{9}\\mathit{Si}^{3} + \\left(\\frac{-q^{23} - 2 q^{22} - 5 q^{21} - 9 q^{20} - 15 q^{19} - 20 q^{18} - 27 q^{17} - 32 q^{16} - 36 q^{15} - 38 q^{14} - 41 q^{13} - 42 q^{12} - 43 q^{11} - 41 q^{10} - 40 q^{9} - 36 q^{8} - 33 q^{7} - 27 q^{6} - 23 q^{5} - 17 q^{4} - 13 q^{3} - 7 q^{2} - 4 q - 1}{q^{16}}\\right) Q^{8}\\mathit{Si}^{4} + \\left(\\frac{-q^{15} - 2 q^{14} - 4 q^{13} - 5 q^{12} - 8 q^{11} - 10 q^{10} - 13 q^{9} - 13 q^{8} - 13 q^{7} - 10 q^{6} - 8 q^{5} - 4 q^{4} - 2 q^{3} - 2 q^{2} - q + 1}{q^{13}}\\right) Q^{7}\\mathit{Si}^{5} + \\left(\\frac{-q - 1}{q^{7}}\\right) Q^{6}\\mathit{Si}^{6} + \\left(\\frac{-q^{28} - q^{27} - 2 q^{26} - q^{25} - q^{24} + 2 q^{23} + 5 q^{22} + 10 q^{21} + 17 q^{20} + 28 q^{19} + 38 q^{18} + 49 q^{17} + 59 q^{16} + 69 q^{15} + 75 q^{14} + 80 q^{13} + 80 q^{12} + 76 q^{11} + 70 q^{10} + 61 q^{9} + 51 q^{8} + 41 q^{7} + 31 q^{6} + 21 q^{5} + 14 q^{4} + 9 q^{3} + 5 q^{2} + 2 q + 1}{q^{14}}\\right) Q^{11}\\mathit{Si}^{2} + \\left(\\frac{-q^{31} - 2 q^{30} - 4 q^{29} - 7 q^{28} - 10 q^{27} - 14 q^{26} - 18 q^{25} - 21 q^{24} - 20 q^{23} - 15 q^{22} - 2 q^{21} + 20 q^{20} + 52 q^{19} + 93 q^{18} + 140 q^{17} + 188 q^{16} + 233 q^{15} + 267 q^{14} + 285 q^{13} + 286 q^{12} + 271 q^{11} + 243 q^{10} + 203 q^{9} + 160 q^{8} + 118 q^{7} + 82 q^{6} + 53 q^{5} + 31 q^{4} + 16 q^{3} + 8 q^{2} + 3 q + 1}{q^{19}}\\right) Q^{10}\\mathit{Si}^{3} + \\left(\\frac{-q^{28} - q^{27} - 2 q^{26} - 2 q^{25} - 2 q^{24} - q^{23} + q^{22} + 4 q^{21} + 6 q^{20} + 9 q^{19} + 13 q^{18} + 19 q^{17} + 29 q^{16} + 44 q^{15} + 63 q^{14} + 85 q^{13} + 107 q^{12} + 122 q^{11} + 131 q^{10} + 131 q^{9} + 120 q^{8} + 103 q^{7} + 83 q^{6} + 59 q^{5} + 39 q^{4} + 23 q^{3} + 12 q^{2} + 5 q + 2}{q^{20}}\\right) Q^{9}\\mathit{Si}^{4} + \\left(\\frac{q^{20} + 2 q^{19} + 5 q^{18} + 8 q^{17} + 13 q^{16} + 17 q^{15} + 22 q^{14} + 24 q^{13} + 26 q^{12} + 24 q^{11} + 21 q^{10} + 16 q^{9} + 15 q^{8} + 13 q^{7} + 11 q^{6} + 8 q^{5} + 8 q^{4} + 9 q^{3} + 7 q^{2} + 4 q + 1}{q^{18}}\\right) Q^{8}\\mathit{Si}^{5} + \\left(\\frac{q^{9} + 2 q^{8} + 3 q^{7} + 3 q^{6} + 3 q^{5} + 3 q^{4} + 3 q^{3} + 2 q^{2} - 1}{q^{13}}\\right) Q^{7}\\mathit{Si}^{6} + \\left(\\frac{-q^{24} - q^{23} - 2 q^{22} - 3 q^{21} - 5 q^{20} - 6 q^{19} - 9 q^{18} - 10 q^{17} - 13 q^{16} - 14 q^{15} - 16 q^{14} - 16 q^{13} - 18 q^{12} - 16 q^{11} - 16 q^{10} - 14 q^{9} - 13 q^{8} - 10 q^{7} - 9 q^{6} - 6 q^{5} - 5 q^{4} - 3 q^{3} - 2 q^{2} - q - 1}{q^{14}}\\right) Q^{12}\\mathit{Si}^{2} + \\left(\\frac{q^{32} + 2 q^{31} + 4 q^{30} + 6 q^{29} + 10 q^{28} + 12 q^{27} + 16 q^{26} + 16 q^{25} + 14 q^{24} + 6 q^{23} - 7 q^{22} - 30 q^{21} - 56 q^{20} - 90 q^{19} - 126 q^{18} - 163 q^{17} - 195 q^{16} - 220 q^{15} - 232 q^{14} - 234 q^{13} - 226 q^{12} - 205 q^{11} - 177 q^{10} - 145 q^{9} - 113 q^{8} - 83 q^{7} - 58 q^{6} - 36 q^{5} - 22 q^{4} - 12 q^{3} - 6 q^{2} - 2 q - 1}{q^{21}}\\right) Q^{11}\\mathit{Si}^{3} + \\left(\\frac{q^{32} + 2 q^{31} + 4 q^{30} + 8 q^{29} + 12 q^{28} + 18 q^{27} + 24 q^{26} + 32 q^{25} + 37 q^{24} + 43 q^{23} + 43 q^{22} + 41 q^{21} + 26 q^{20} + 6 q^{19} - 31 q^{18} - 73 q^{17} - 128 q^{16} - 176 q^{15} - 226 q^{14} - 256 q^{13} - 273 q^{12} - 265 q^{11} - 247 q^{10} - 209 q^{9} - 170 q^{8} - 124 q^{7} - 87 q^{6} - 55 q^{5} - 33 q^{4} - 16 q^{3} - 8 q^{2} - 3 q - 1}{q^{24}}\\right) Q^{10}\\mathit{Si}^{4} + \\left(\\frac{q^{26} + q^{25} + 2 q^{24} + 2 q^{23} + 2 q^{22} + q^{21} - q^{20} - 4 q^{19} - 6 q^{18} - 7 q^{17} - 7 q^{16} - 7 q^{15} - 7 q^{14} - 9 q^{13} - 14 q^{12} - 21 q^{11} - 30 q^{10} - 39 q^{9} - 47 q^{8} - 49 q^{7} - 46 q^{6} - 39 q^{5} - 30 q^{4} - 20 q^{3} - 12 q^{2} - 5 q - 2}{q^{23}}\\right) Q^{9}\\mathit{Si}^{5} + \\left(\\frac{-q^{15} - 2 q^{14} - 4 q^{13} - 5 q^{12} - 7 q^{11} - 8 q^{10} - 9 q^{9} - 7 q^{8} - 5 q^{7} - 2 q^{6} - q^{5} + q^{4} + 2 q^{3} + q^{2} - 3 q - 1}{q^{19}}\\right) Q^{8}\\mathit{Si}^{6} + \\left(\\frac{-q^{3} - q^{2} + 1}{q^{14}}\\right) Q^{7}\\mathit{Si}^{7} + \\left(\\frac{-q^{31} - q^{30} - 2 q^{29} - 3 q^{28} - 3 q^{27} - 3 q^{26} - 3 q^{25} + q^{24} + 6 q^{23} + 13 q^{22} + 23 q^{21} + 36 q^{20} + 49 q^{19} + 64 q^{18} + 78 q^{17} + 90 q^{16} + 99 q^{15} + 104 q^{14} + 104 q^{13} + 101 q^{12} + 93 q^{11} + 82 q^{10} + 69 q^{9} + 56 q^{8} + 43 q^{7} + 31 q^{6} + 21 q^{5} + 14 q^{4} + 8 q^{3} + 4 q^{2} + 2 q + 1}{q^{22}}\\right) Q^{12}\\mathit{Si}^{3} + \\left(\\frac{-q^{34} - 2 q^{33} - 5 q^{32} - 8 q^{31} - 15 q^{30} - 22 q^{29} - 32 q^{28} - 41 q^{27} - 53 q^{26} - 59 q^{25} - 63 q^{24} - 58 q^{23} - 45 q^{22} - 16 q^{21} + 22 q^{20} + 75 q^{19} + 133 q^{18} + 195 q^{17} + 251 q^{16} + 296 q^{15} + 322 q^{14} + 330 q^{13} + 318 q^{12} + 287 q^{11} + 244 q^{10} + 197 q^{9} + 150 q^{8} + 106 q^{7} + 71 q^{6} + 43 q^{5} + 25 q^{4} + 13 q^{3} + 6 q^{2} + 2 q + 1}{q^{27}}\\right) Q^{11}\\mathit{Si}^{4} + \\left(\\frac{-q^{31} - 2 q^{30} - 4 q^{29} - 8 q^{28} - 13 q^{27} - 19 q^{26} - 26 q^{25} - 34 q^{24} - 42 q^{23} - 50 q^{22} - 55 q^{21} - 60 q^{20} - 61 q^{19} - 57 q^{18} - 43 q^{17} - 23 q^{16} + 6 q^{15} + 40 q^{14} + 75 q^{13} + 106 q^{12} + 128 q^{11} + 137 q^{10} + 133 q^{9} + 119 q^{8} + 96 q^{7} + 72 q^{6} + 49 q^{5} + 30 q^{4} + 16 q^{3} + 8 q^{2} + 3 q + 1}{q^{28}}\\right) Q^{10}\\mathit{Si}^{5} + \\left(\\frac{-q^{22} - q^{21} - 2 q^{20} - 2 q^{19} - 2 q^{18} - 2 q^{17} - 2 q^{16} - q^{15} - 2 q^{14} - 3 q^{13} - 5 q^{12} - 8 q^{11} - 11 q^{10} - 11 q^{9} - 8 q^{8} - 3 q^{7} + q^{6} + 3 q^{5} + 6 q^{4} + 9 q^{3} + 9 q^{2} + 5 q + 2}{q^{25}}\\right) Q^{9}\\mathit{Si}^{6} + \\left(\\frac{q^{9} + q^{8} + q^{7} - q^{2} - 2 q - 1}{q^{20}}\\right) Q^{8}\\mathit{Si}^{7} + \\left(\\frac{-q^{25} - q^{24} - 2 q^{23} - 3 q^{22} - 5 q^{21} - 7 q^{20} - 9 q^{19} - 11 q^{18} - 14 q^{17} - 16 q^{16} - 18 q^{15} - 19 q^{14} - 20 q^{13} - 20 q^{12} - 19 q^{11} - 18 q^{10} - 16 q^{9} - 14 q^{8} - 11 q^{7} - 9 q^{6} - 7 q^{5} - 5 q^{4} - 3 q^{3} - 2 q^{2} - q - 1}{q^{22}}\\right) Q^{13}\\mathit{Si}^{3} + \\left(\\frac{q^{34} + 2 q^{33} + 4 q^{32} + 7 q^{31} + 11 q^{30} + 17 q^{29} + 22 q^{28} + 28 q^{27} + 32 q^{26} + 34 q^{25} + 28 q^{24} + 20 q^{23} - 24 q^{21} - 60 q^{20} - 96 q^{19} - 139 q^{18} - 172 q^{17} - 208 q^{16} - 228 q^{15} - 241 q^{14} - 235 q^{13} - 224 q^{12} - 197 q^{11} - 171 q^{10} - 136 q^{9} - 105 q^{8} - 74 q^{7} - 52 q^{6} - 32 q^{5} - 20 q^{4} - 10 q^{3} - 5 q^{2} - 2 q - 1}{q^{29}}\\right) Q^{12}\\mathit{Si}^{4} + \\left(\\frac{q^{34} + 2 q^{33} + 5 q^{32} + 9 q^{31} + 17 q^{30} + 26 q^{29} + 40 q^{28} + 54 q^{27} + 72 q^{26} + 88 q^{25} + 106 q^{24} + 116 q^{23} + 122 q^{22} + 117 q^{21} + 103 q^{20} + 71 q^{19} + 30 q^{18} - 24 q^{17} - 82 q^{16} - 140 q^{15} - 187 q^{14} - 220 q^{13} - 234 q^{12} - 229 q^{11} - 208 q^{10} - 175 q^{9} - 138 q^{8} - 101 q^{7} - 69 q^{6} - 42 q^{5} - 25 q^{4} - 13 q^{3} - 6 q^{2} - 2 q - 1}{q^{32}}\\right) Q^{11}\\mathit{Si}^{5} + \\left(\\frac{q^{28} + 2 q^{27} + 4 q^{26} + 8 q^{25} + 12 q^{24} + 18 q^{23} + 24 q^{22} + 32 q^{21} + 38 q^{20} + 46 q^{19} + 51 q^{18} + 58 q^{17} + 60 q^{16} + 62 q^{15} + 55 q^{14} + 49 q^{13} + 33 q^{12} + 19 q^{11} - q^{10} - 15 q^{9} - 29 q^{8} - 32 q^{7} - 33 q^{6} - 27 q^{5} - 22 q^{4} - 13 q^{3} - 8 q^{2} - 3 q - 1}{q^{31}}\\right) Q^{10}\\mathit{Si}^{6} + \\left(\\frac{q^{16} + q^{15} + 2 q^{14} + 2 q^{13} + 3 q^{12} + 4 q^{11} + 5 q^{10} + 6 q^{9} + 7 q^{8} + 8 q^{7} + 8 q^{6} + 7 q^{5} + 6 q^{4} + 5 q^{3} + 4 q^{2} - 2}{q^{26}}\\right) Q^{9}\\mathit{Si}^{7} + \\frac{1}{q^{20}} Q^{8}\\mathit{Si}^{8} + \\left(\\frac{-q^{32} - q^{31} - 2 q^{30} - 3 q^{29} - 5 q^{28} - 5 q^{27} - 6 q^{26} - 5 q^{25} - 4 q^{24} + 2 q^{23} + 8 q^{22} + 18 q^{21} + 29 q^{20} + 43 q^{19} + 56 q^{18} + 71 q^{17} + 82 q^{16} + 91 q^{15} + 96 q^{14} + 97 q^{13} + 93 q^{12} + 87 q^{11} + 77 q^{10} + 64 q^{9} + 52 q^{8} + 40 q^{7} + 29 q^{6} + 20 q^{5} + 13 q^{4} + 7 q^{3} + 4 q^{2} + 2 q + 1}{q^{30}}\\right) Q^{13}\\mathit{Si}^{4} + \\left(\\frac{-q^{35} - 2 q^{34} - 5 q^{33} - 9 q^{32} - 16 q^{31} - 25 q^{30} - 38 q^{29} - 52 q^{28} - 68 q^{27} - 83 q^{26} - 97 q^{25} - 105 q^{24} - 106 q^{23} - 95 q^{22} - 74 q^{21} - 40 q^{20} + 6 q^{19} + 61 q^{18} + 116 q^{17} + 169 q^{16} + 212 q^{15} + 242 q^{14} + 252 q^{13} + 246 q^{12} + 225 q^{11} + 195 q^{10} + 158 q^{9} + 120 q^{8} + 85 q^{7} + 58 q^{6} + 36 q^{5} + 21 q^{4} + 11 q^{3} + 5 q^{2} + 2 q + 1}{q^{35}}\\right) Q^{12}\\mathit{Si}^{5} + \\left(\\frac{-q^{32} - 2 q^{31} - 5 q^{30} - 9 q^{29} - 17 q^{28} - 26 q^{27} - 40 q^{26} - 54 q^{25} - 72 q^{24} - 89 q^{23} - 108 q^{22} - 121 q^{21} - 133 q^{20} - 136 q^{19} - 134 q^{18} - 121 q^{17} - 100 q^{16} - 68 q^{15} - 35 q^{14} + 2 q^{13} + 36 q^{12} + 61 q^{11} + 76 q^{10} + 81 q^{9} + 75 q^{8} + 63 q^{7} + 49 q^{6} + 33 q^{5} + 21 q^{4} + 12 q^{3} + 6 q^{2} + 2 q + 1}{q^{36}}\\right) Q^{11}\\mathit{Si}^{6} + \\left(\\frac{-q^{23} - 2 q^{22} - 4 q^{21} - 7 q^{20} - 10 q^{19} - 14 q^{18} - 19 q^{17} - 24 q^{16} - 28 q^{15} - 32 q^{14} - 35 q^{13} - 36 q^{12} - 36 q^{11} - 34 q^{10} - 29 q^{9} - 22 q^{8} - 14 q^{7} - 8 q^{6} - 4 q^{5} + 3 q^{3} + 5 q^{2} + 3 q + 1}{q^{33}}\\right) Q^{10}\\mathit{Si}^{7} + \\left(\\frac{-q^{9} - q^{8} - 2 q^{7} - 2 q^{6} - 2 q^{5} - 2 q^{4} - 2 q^{3} - 2 q^{2} - 2 q - 1}{q^{27}}\\right) Q^{9}\\mathit{Si}^{8} + \\left(\\frac{-q^{24} - q^{23} - 2 q^{22} - 3 q^{21} - 5 q^{20} - 6 q^{19} - 9 q^{18} - 10 q^{17} - 13 q^{16} - 14 q^{15} - 16 q^{14} - 16 q^{13} - 18 q^{12} - 16 q^{11} - 16 q^{10} - 14 q^{9} - 13 q^{8} - 10 q^{7} - 9 q^{6} - 6 q^{5} - 5 q^{4} - 3 q^{3} - 2 q^{2} - q - 1}{q^{30}}\\right) Q^{14}\\mathit{Si}^{4} + \\left(\\frac{q^{34} + 2 q^{33} + 4 q^{32} + 7 q^{31} + 12 q^{30} + 17 q^{29} + 25 q^{28} + 31 q^{27} + 39 q^{26} + 43 q^{25} + 46 q^{24} + 42 q^{23} + 34 q^{22} + 16 q^{21} - 5 q^{20} - 33 q^{19} - 64 q^{18} - 98 q^{17} - 126 q^{16} - 149 q^{15} - 162 q^{14} - 167 q^{13} - 164 q^{12} - 151 q^{11} - 131 q^{10} - 107 q^{9} - 84 q^{8} - 62 q^{7} - 44 q^{6} - 28 q^{5} - 17 q^{4} - 9 q^{3} - 5 q^{2} - 2 q - 1}{q^{37}}\\right) Q^{13}\\mathit{Si}^{5} + \\left(\\frac{q^{34} + 2 q^{33} + 5 q^{32} + 10 q^{31} + 17 q^{30} + 28 q^{29} + 43 q^{28} + 61 q^{27} + 81 q^{26} + 104 q^{25} + 123 q^{24} + 144 q^{23} + 157 q^{22} + 163 q^{21} + 155 q^{20} + 143 q^{19} + 113 q^{18} + 79 q^{17} + 31 q^{16} - 12 q^{15} - 58 q^{14} - 89 q^{13} - 117 q^{12} - 123 q^{11} - 122 q^{10} - 107 q^{9} - 91 q^{8} - 67 q^{7} - 49 q^{6} - 31 q^{5} - 20 q^{4} - 10 q^{3} - 5 q^{2} - 2 q - 1}{q^{40}}\\right) Q^{12}\\mathit{Si}^{6} + \\left(\\frac{q^{28} + 2 q^{27} + 5 q^{26} + 8 q^{25} + 15 q^{24} + 22 q^{23} + 32 q^{22} + 42 q^{21} + 55 q^{20} + 65 q^{19} + 76 q^{18} + 83 q^{17} + 89 q^{16} + 88 q^{15} + 85 q^{14} + 74 q^{13} + 62 q^{12} + 47 q^{11} + 31 q^{10} + 15 q^{9} + 3 q^{8} - 6 q^{7} - 10 q^{6} - 11 q^{5} - 10 q^{4} - 8 q^{3} - 5 q^{2} - 2 q - 1}{q^{39}}\\right) Q^{11}\\mathit{Si}^{7} + \\left(\\frac{q^{16} + 2 q^{15} + 3 q^{14} + 5 q^{13} + 6 q^{12} + 8 q^{11} + 9 q^{10} + 11 q^{9} + 11 q^{8} + 11 q^{7} + 9 q^{6} + 8 q^{5} + 6 q^{4} + 5 q^{3} + 3 q^{2} + 2 q - 1}{q^{34}}\\right) Q^{10}\\mathit{Si}^{8} + \\frac{1}{q^{27}} Q^{9}\\mathit{Si}^{9} + \\left(\\frac{-q^{31} - q^{30} - 2 q^{29} - 3 q^{28} - 5 q^{27} - 6 q^{26} - 7 q^{25} - 7 q^{24} - 7 q^{23} - 4 q^{22} - q^{21} + 6 q^{20} + 14 q^{19} + 24 q^{18} + 33 q^{17} + 43 q^{16} + 51 q^{15} + 58 q^{14} + 63 q^{13} + 64 q^{12} + 60 q^{11} + 56 q^{10} + 49 q^{9} + 41 q^{8} + 33 q^{7} + 25 q^{6} + 17 q^{5} + 11 q^{4} + 7 q^{3} + 4 q^{2} + 2 q + 1}{q^{38}}\\right) Q^{14}\\mathit{Si}^{5} + \\left(\\frac{-q^{34} - 2 q^{33} - 5 q^{32} - 9 q^{31} - 16 q^{30} - 24 q^{29} - 37 q^{28} - 50 q^{27} - 67 q^{26} - 81 q^{25} - 96 q^{24} - 104 q^{23} - 111 q^{22} - 107 q^{21} - 96 q^{20} - 73 q^{19} - 46 q^{18} - 11 q^{17} + 25 q^{16} + 63 q^{15} + 92 q^{14} + 113 q^{13} + 123 q^{12} + 124 q^{11} + 115 q^{10} + 98 q^{9} + 79 q^{8} + 60 q^{7} + 43 q^{6} + 28 q^{5} + 17 q^{4} + 9 q^{3} + 5 q^{2} + 2 q + 1}{q^{43}}\\right) Q^{13}\\mathit{Si}^{6} + \\left(\\frac{-q^{31} - 2 q^{30} - 5 q^{29} - 9 q^{28} - 16 q^{27} - 25 q^{26} - 38 q^{25} - 52 q^{24} - 69 q^{23} - 85 q^{22} - 102 q^{21} - 116 q^{20} - 126 q^{19} - 129 q^{18} - 128 q^{17} - 118 q^{16} - 103 q^{15} - 82 q^{14} - 58 q^{13} - 33 q^{12} - 13 q^{11} + 6 q^{10} + 18 q^{9} + 24 q^{8} + 25 q^{7} + 23 q^{6} + 17 q^{5} + 13 q^{4} + 8 q^{3} + 4 q^{2} + 2 q + 1}{q^{44}}\\right) Q^{12}\\mathit{Si}^{7} + \\left(\\frac{-q^{22} - 2 q^{21} - 4 q^{20} - 6 q^{19} - 10 q^{18} - 13 q^{17} - 18 q^{16} - 22 q^{15} - 26 q^{14} - 28 q^{13} - 30 q^{12} - 29 q^{11} - 28 q^{10} - 25 q^{9} - 21 q^{8} - 15 q^{7} - 11 q^{6} - 7 q^{5} - 4 q^{4} - 2 q^{3} + q + 1}{q^{41}}\\right) Q^{11}\\mathit{Si}^{8} + \\left(\\frac{-q^{8} - q^{7} - q^{6} - q^{5} - q^{4} - q^{3} - q^{2} - q - 1}{q^{35}}\\right) Q^{10}\\mathit{Si}^{9} + \\left(\\frac{-q^{21} - q^{20} - 2 q^{19} - 3 q^{18} - 4 q^{17} - 5 q^{16} - 7 q^{15} - 8 q^{14} - 9 q^{13} - 10 q^{12} - 10 q^{11} - 10 q^{10} - 10 q^{9} - 9 q^{8} - 8 q^{7} - 7 q^{6} - 5 q^{5} - 4 q^{4} - 3 q^{3} - 2 q^{2} - q - 1}{q^{38}}\\right) Q^{15}\\mathit{Si}^{5} + \\left(\\frac{q^{32} + 2 q^{31} + 4 q^{30} + 7 q^{29} + 11 q^{28} + 16 q^{27} + 22 q^{26} + 29 q^{25} + 34 q^{24} + 39 q^{23} + 40 q^{22} + 40 q^{21} + 34 q^{20} + 26 q^{19} + 9 q^{18} - 6 q^{17} - 26 q^{16} - 41 q^{15} - 59 q^{14} - 70 q^{13} - 80 q^{12} - 77 q^{11} - 74 q^{10} - 64 q^{9} - 56 q^{8} - 43 q^{7} - 33 q^{6} - 21 q^{5} - 14 q^{4} - 8 q^{3} - 5 q^{2} - 2 q - 1}{q^{45}}\\right) Q^{14}\\mathit{Si}^{6} + \\left(\\frac{q^{32} + 2 q^{31} + 5 q^{30} + 9 q^{29} + 16 q^{28} + 24 q^{27} + 37 q^{26} + 50 q^{25} + 67 q^{24} + 82 q^{23} + 98 q^{22} + 108 q^{21} + 118 q^{20} + 120 q^{19} + 117 q^{18} + 103 q^{17} + 87 q^{16} + 65 q^{15} + 42 q^{14} + 16 q^{13} - 5 q^{12} - 22 q^{11} - 32 q^{10} - 37 q^{9} - 37 q^{8} - 32 q^{7} - 25 q^{6} - 19 q^{5} - 13 q^{4} - 7 q^{3} - 4 q^{2} - 2 q - 1}{q^{48}}\\right) Q^{13}\\mathit{Si}^{7} + \\left(\\frac{q^{26} + 2 q^{25} + 4 q^{24} + 7 q^{23} + 11 q^{22} + 17 q^{21} + 23 q^{20} + 30 q^{19} + 37 q^{18} + 44 q^{17} + 48 q^{16} + 52 q^{15} + 52 q^{14} + 51 q^{13} + 45 q^{12} + 40 q^{11} + 31 q^{10} + 25 q^{9} + 16 q^{8} + 10 q^{7} + 4 q^{6} + 2 q^{5} - q^{4} - q^{3} - 2 q^{2} - q - 1}{q^{47}}\\right) Q^{12}\\mathit{Si}^{8} + \\left(\\frac{q^{14} + q^{13} + 2 q^{12} + 2 q^{11} + 3 q^{10} + 3 q^{9} + 4 q^{8} + 4 q^{7} + 4 q^{6} + 3 q^{5} + 3 q^{4} + 2 q^{3} + 2 q^{2} + q + 1}{q^{42}}\\right) Q^{11}\\mathit{Si}^{9} + \\left(\\frac{-q^{28} - q^{27} - 2 q^{26} - 3 q^{25} - 4 q^{24} - 5 q^{23} - 7 q^{22} - 6 q^{21} - 6 q^{20} - 4 q^{19} - 2 q^{18} + 2 q^{17} + 5 q^{16} + 12 q^{15} + 18 q^{14} + 22 q^{13} + 25 q^{12} + 27 q^{11} + 27 q^{10} + 27 q^{9} + 25 q^{8} + 22 q^{7} + 17 q^{6} + 12 q^{5} + 9 q^{4} + 6 q^{3} + 4 q^{2} + 2 q + 1}{q^{46}}\\right) Q^{15}\\mathit{Si}^{6} + \\left(\\frac{-q^{31} - 2 q^{30} - 5 q^{29} - 8 q^{28} - 14 q^{27} - 20 q^{26} - 29 q^{25} - 38 q^{24} - 49 q^{23} - 57 q^{22} - 65 q^{21} - 68 q^{20} - 69 q^{19} - 64 q^{18} - 58 q^{17} - 44 q^{16} - 28 q^{15} - 11 q^{14} + 4 q^{13} + 19 q^{12} + 29 q^{11} + 36 q^{10} + 36 q^{9} + 34 q^{8} + 29 q^{7} + 24 q^{6} + 17 q^{5} + 11 q^{4} + 7 q^{3} + 4 q^{2} + 2 q + 1}{q^{51}}\\right) Q^{14}\\mathit{Si}^{7} + \\left(\\frac{-q^{28} - 2 q^{27} - 4 q^{26} - 7 q^{25} - 12 q^{24} - 17 q^{23} - 25 q^{22} - 32 q^{21} - 41 q^{20} - 48 q^{19} - 55 q^{18} - 59 q^{17} - 62 q^{16} - 59 q^{15} - 56 q^{14} - 49 q^{13} - 41 q^{12} - 31 q^{11} - 22 q^{10} - 13 q^{9} - 7 q^{8} - 2 q^{7} + 2 q^{6} + 3 q^{5} + 3 q^{4} + 3 q^{3} + 2 q^{2} + q + 1}{q^{52}}\\right) Q^{13}\\mathit{Si}^{8} + \\left(\\frac{-q^{18} - q^{17} - 2 q^{16} - 3 q^{15} - 4 q^{14} - 5 q^{13} - 7 q^{12} - 7 q^{11} - 8 q^{10} - 8 q^{9} - 8 q^{8} - 7 q^{7} - 7 q^{6} - 5 q^{5} - 4 q^{4} - 3 q^{3} - 2 q^{2} - q - 1}{q^{48}}\\right) Q^{12}\\mathit{Si}^{9} + \\left(\\frac{-q^{16} - q^{15} - 2 q^{14} - 2 q^{13} - 3 q^{12} - 3 q^{11} - 4 q^{10} - 4 q^{9} - 5 q^{8} - 4 q^{7} - 4 q^{6} - 3 q^{5} - 3 q^{4} - 2 q^{3} - 2 q^{2} - q - 1}{q^{46}}\\right) Q^{16}\\mathit{Si}^{6} + \\left(\\frac{q^{28} + 2 q^{27} + 4 q^{26} + 6 q^{25} + 9 q^{24} + 12 q^{23} + 16 q^{22} + 19 q^{21} + 23 q^{20} + 23 q^{19} + 23 q^{18} + 20 q^{17} + 17 q^{16} + 11 q^{15} + 5 q^{14} - 4 q^{13} - 12 q^{12} - 17 q^{11} - 20 q^{10} - 22 q^{9} - 22 q^{8} - 21 q^{7} - 17 q^{6} - 12 q^{5} - 9 q^{4} - 6 q^{3} - 4 q^{2} - 2 q - 1}{q^{53}}\\right) Q^{15}\\mathit{Si}^{7} + \\left(\\frac{q^{28} + 2 q^{27} + 4 q^{26} + 7 q^{25} + 11 q^{24} + 16 q^{23} + 22 q^{22} + 29 q^{21} + 35 q^{20} + 41 q^{19} + 45 q^{18} + 48 q^{17} + 47 q^{16} + 46 q^{15} + 40 q^{14} + 34 q^{13} + 25 q^{12} + 19 q^{11} + 10 q^{10} + 5 q^{9} - q^{8} - 3 q^{7} - 5 q^{6} - 4 q^{5} - 5 q^{4} - 3 q^{3} - 2 q^{2} - q - 1}{q^{56}}\\right) Q^{14}\\mathit{Si}^{8} + \\left(\\frac{q^{20} + q^{19} + 2 q^{18} + 3 q^{17} + 5 q^{16} + 6 q^{15} + 8 q^{14} + 9 q^{13} + 11 q^{12} + 11 q^{11} + 12 q^{10} + 11 q^{9} + 11 q^{8} + 9 q^{7} + 8 q^{6} + 6 q^{5} + 5 q^{4} + 3 q^{3} + 2 q^{2} + q + 1}{q^{53}}\\right) Q^{13}\\mathit{Si}^{9} + \\left(\\frac{-q^{23} - q^{22} - 2 q^{21} - 2 q^{20} - 3 q^{19} - 3 q^{18} - 4 q^{17} - 4 q^{16} - 3 q^{15} - q^{14} + 2 q^{12} + 3 q^{11} + 5 q^{10} + 6 q^{9} + 9 q^{8} + 9 q^{7} + 7 q^{6} + 6 q^{5} + 5 q^{4} + 4 q^{3} + 3 q^{2} + 2 q + 1}{q^{54}}\\right) Q^{16}\\mathit{Si}^{7} + \\left(\\frac{-q^{26} - 2 q^{25} - 4 q^{24} - 6 q^{23} - 9 q^{22} - 12 q^{21} - 16 q^{20} - 19 q^{19} - 23 q^{18} - 24 q^{17} - 25 q^{16} - 23 q^{15} - 22 q^{14} - 18 q^{13} - 14 q^{12} - 9 q^{11} - 4 q^{10} + 2 q^{8} + 4 q^{7} + 5 q^{6} + 5 q^{5} + 4 q^{4} + 3 q^{3} + 2 q^{2} + q + 1}{q^{59}}\\right) Q^{15}\\mathit{Si}^{8} + \\left(\\frac{-q^{20} - q^{19} - 2 q^{18} - 3 q^{17} - 5 q^{16} - 6 q^{15} - 8 q^{14} - 9 q^{13} - 11 q^{12} - 11 q^{11} - 12 q^{10} - 11 q^{9} - 11 q^{8} - 9 q^{7} - 8 q^{6} - 6 q^{5} - 5 q^{4} - 3 q^{3} - 2 q^{2} - q - 1}{q^{57}}\\right) Q^{14}\\mathit{Si}^{9} + \\left(\\frac{-q^{9} - q^{8} - q^{7} - q^{6} - q^{5} - q^{4} - q^{3} - q^{2} - q - 1}{q^{54}}\\right) Q^{17}\\mathit{Si}^{7} + \\left(\\frac{q^{22} + 2 q^{21} + 3 q^{20} + 4 q^{19} + 5 q^{18} + 6 q^{17} + 7 q^{16} + 8 q^{15} + 8 q^{14} + 8 q^{13} + 5 q^{12} + 4 q^{11} + 2 q^{10} + q^{9} - q^{8} - 2 q^{7} - 4 q^{6} - 3 q^{5} - 3 q^{4} - 2 q^{3} - 2 q^{2} - q - 1}{q^{61}}\\right) Q^{16}\\mathit{Si}^{8} + \\left(\\frac{q^{18} + q^{17} + 2 q^{16} + 3 q^{15} + 4 q^{14} + 5 q^{13} + 7 q^{12} + 7 q^{11} + 8 q^{10} + 8 q^{9} + 8 q^{8} + 7 q^{7} + 7 q^{6} + 5 q^{5} + 4 q^{4} + 3 q^{3} + 2 q^{2} + q + 1}{q^{60}}\\right) Q^{15}\\mathit{Si}^{9} + \\left(\\frac{-q^{16} - q^{15} - q^{14} - q^{13} - q^{12} - q^{11} - q^{10} - q^{9} - q^{8} + q^{7} + q^{6} + q^{5} + q^{4} + q^{3} + q^{2} + q + 1}{q^{62}}\\right) Q^{17}\\mathit{Si}^{8} + \\left(\\frac{-q^{14} - q^{13} - 2 q^{12} - 2 q^{11} - 3 q^{10} - 3 q^{9} - 4 q^{8} - 4 q^{7} - 4 q^{6} - 3 q^{5} - 3 q^{4} - 2 q^{3} - 2 q^{2} - q - 1}{q^{62}}\\right) Q^{16}\\mathit{Si}^{9} - \\frac{1}{q^{62}} Q^{18}\\mathit{Si}^{8} + \\left(\\frac{q^{8} + q^{7} + q^{6} + q^{5} + q^{4} + q^{3} + q^{2} + q + 1}{q^{63}}\\right) Q^{17}\\mathit{Si}^{9} - \\frac{1}{q^{63}} Q^{18}\\mathit{Si}^{9}$"
      ],
      "text/plain": [
       "(-q^5+2*q^4+2*q^3)*Q^2 + (q^5+2*q^4)*Q*S + q^4*S^2 + (-q^11-q^8-q^7-q^5-2*q^4-3*q^3-q^2)*Q^3 + (q^7-2*q^5-2*q^4)*Q^2*S - q^5*Q*S^2 + (q^13+q^10+4*q^9+6*q^8+8*q^7+7*q^6+5*q^5+3*q^4+q^3+q^2)*Q^4 + (q^10+q^9+q^8+q^7+q^5+q^4)*Q^3*S + (q^10+q^9+q^8+q^5-q^3+2*q^2+q)*Q^3*Si + (-q^8+q^6)*Q^2*S^2 + (-q^15+q^13+q^12-2*q^11-6*q^10-10*q^9-14*q^8-16*q^7-14*q^6-10*q^5-6*q^4-2*q^3)*Q^5 + (-q^12-3*q^11-4*q^10-4*q^9-4*q^8-2*q^7)*Q^4*S + (-q^12-q^11-2*q^10-2*q^9-q^8-q^7-4*q^6-6*q^5-5*q^4-4*q^3-4*q^2-2*q-1)*Q^4*Si + (-q^11-q^10)*Q^3*S^2 + (-q^8-q^7-q^6)*Q^3*Si^2 + (-q^15-q^14-q^13+2*q^11+4*q^10+6*q^9+9*q^8+11*q^7+10*q^6+8*q^5+6*q^4+4*q^3+q^2)*Q^6 + (q^13+3*q^12+4*q^11+4*q^10+4*q^9+4*q^8+2*q^7)*Q^5*S + (q^14+q^13+q^12-q^9+6*q^7+14*q^6+19*q^5+21*q^4+19*q^3+12*q^2+7*q+3)*Q^5*Si + (q^12+q^11)*Q^4*S^2 + ((q^11+q^10+3*q^9+3*q^8+3*q^7+q^6+q^4+3*q^3+q^2+1)/q)*Q^4*Si^2 + q^5*Q^3*Si^3 + (q^17+q^16+q^15+3*q^14+6*q^13+8*q^12+10*q^11+12*q^10+13*q^9+11*q^8+8*q^7+6*q^6+4*q^5+2*q^4-q^2)*Q^7 + (q^15+q^14-q^9-2*q^8-q^7)*Q^6*S + ((q^15+2*q^14+3*q^13+4*q^12+4*q^11-q^10-8*q^9-17*q^8-25*q^7-28*q^6-27*q^5-23*q^4-15*q^3-8*q^2-4*q-1)/q^2)*Q^6*Si + (-q^13-q^12)*Q^5*S^2 + ((-q^14-q^13-2*q^12-2*q^11-2*q^10-q^9+q^7-6*q^5-12*q^4-12*q^3-9*q^2-7*q-3)/q^2)*Q^5*Si^2 + (-q^7-q^6-2*q^5-2*q^4-q^3)*Q^4*Si^3 + (-q^16-6*q^15-9*q^14-13*q^13-16*q^12-20*q^11-23*q^10-25*q^9-22*q^8-19*q^7-15*q^6-12*q^5-8*q^4-5*q^3-q^2)*Q^8 + (-q^17-3*q^16-4*q^15-4*q^14-4*q^13-4*q^12-4*q^11-4*q^10-2*q^9)*Q^7*S + ((-q^19-2*q^18-3*q^17-3*q^16-4*q^15-7*q^14-10*q^13-11*q^12-12*q^11-13*q^10-11*q^9-8*q^8-5*q^7-q^6+2*q^5+3*q^4+3*q^3+2*q^2+q+1)/q^3)*Q^7*Si + (-q^16-q^15)*Q^6*S^2 + ((-q^15-2*q^14-5*q^13-7*q^12-10*q^11-8*q^10-3*q^9+8*q^8+20*q^7+28*q^6+28*q^5+24*q^4+17*q^3+8*q^2+4*q+1)/q^5)*Q^6*Si^2 + ((q^12+q^11+2*q^10+2*q^9+2*q^8+q^7-q^5-2*q^4-q^3+2*q^2+4*q+2)/q^3)*Q^5*Si^3 + q^3*Q^4*Si^4 + (-q^18+2*q^17+4*q^16+6*q^15+8*q^14+10*q^13+12*q^12+14*q^11+16*q^10+16*q^9+14*q^8+12*q^7+10*q^6+8*q^5+6*q^4+4*q^3+2*q^2)*Q^9 + (q^18+3*q^17+3*q^16+3*q^15+3*q^14+3*q^13+3*q^12+3*q^11+3*q^10+q^9)*Q^8*S + ((q^20+q^19+q^18+2*q^17+7*q^16+13*q^15+21*q^14+30*q^13+41*q^12+52*q^11+59*q^10+61*q^9+59*q^8+54*q^7+45*q^6+33*q^5+23*q^4+15*q^3+8*q^2+4*q+1)/q^4)*Q^8*Si + (q^17+q^16)*Q^7*S^2 + ((q^21+2*q^20+4*q^19+5*q^18+8*q^17+10*q^16+14*q^15+17*q^14+20*q^13+20*q^12+20*q^11+13*q^10+3*q^9-5*q^8-11*q^7-15*q^6-13*q^5-10*q^4-7*q^3-3*q^2-q-1)/q^7)*Q^7*Si^2 + ((2*q^13+4*q^12+7*q^11+10*q^10+11*q^9+11*q^8+8*q^7-q^6-9*q^5-12*q^4-10*q^3-7*q^2-4*q-1)/q^7)*Q^6*Si^3 + ((-q^7-q^6-q^5+q^2+2*q+1)/q^2)*Q^5*Si^4 + (-q^18-q^17-2*q^16-2*q^15-3*q^14-3*q^13-4*q^12-4*q^11-5*q^10-4*q^9-4*q^8-3*q^7-3*q^6-2*q^5-2*q^4-q^3-q^2)*Q^10 + (-q^19-q^18-q^17-q^16-q^15-q^14-q^13-q^12-q^11-q^10)*Q^9*S + ((q^22+q^21+2*q^20-4*q^18-10*q^17-17*q^16-27*q^15-38*q^14-52*q^13-64*q^12-71*q^11-74*q^10-74*q^9-70*q^8-62*q^7-51*q^6-38*q^5-27*q^4-18*q^3-11*q^2-5*q-2)/q^5)*Q^9*Si - q^18*Q^8*S^2 + ((-q^23-2*q^22-4*q^21-5*q^20-7*q^19-10*q^18-16*q^17-21*q^16-30*q^15-42*q^14-57*q^13-67*q^12-76*q^11-79*q^10-79*q^9-70*q^8-60*q^7-46*q^6-34*q^5-22*q^4-14*q^3-7*q^2-4*q-1)/q^9)*Q^8*Si^2 + ((-q^21-2*q^20-4*q^19-6*q^18-10*q^17-13*q^16-18*q^15-21*q^14-26*q^13-29*q^12-30*q^11-26*q^10-19*q^9-8*q^8+3*q^7+10*q^6+11*q^5+9*q^4+6*q^3+3*q^2+q+1)/q^10)*Q^7*Si^3 + ((-q^11-2*q^10-5*q^9-7*q^8-9*q^7-8*q^6-7*q^5-4*q^4-2*q^3+q^2+3*q+1)/q^8)*Q^6*Si^4 + ((q^3-q-1)/q^3)*Q^5*Si^5 + ((-q^23-q^22+2*q^20+5*q^19+8*q^18+13*q^17+18*q^16+24*q^15+32*q^14+37*q^13+40*q^12+42*q^11+42*q^10+40*q^9+37*q^8+32*q^7+25*q^6+19*q^5+14*q^4+9*q^3+6*q^2+3*q+1)/q^6)*Q^10*Si + ((-q^26-q^25-2*q^24-2*q^23-3*q^22-2*q^21+q^20+8*q^19+19*q^18+36*q^17+59*q^16+87*q^15+114*q^14+138*q^13+156*q^12+167*q^11+166*q^10+153*q^9+133*q^8+108*q^7+83*q^6+58*q^5+37*q^4+22*q^3+12*q^2+5*q+2)/q^11)*Q^9*Si^2 + ((q^24+2*q^23+5*q^22+8*q^21+13*q^20+17*q^19+22*q^18+26*q^17+33*q^16+38*q^15+47*q^14+55*q^13+62*q^12+66*q^11+68*q^10+62*q^9+55*q^8+49*q^7+39*q^6+29*q^5+21*q^4+13*q^3+7*q^2+4*q+1)/q^13)*Q^8*Si^3 + ((q^19+2*q^18+4*q^17+6*q^16+10*q^15+13*q^14+18*q^13+21*q^12+25*q^11+25*q^10+24*q^9+21*q^8+17*q^7+9*q^6+2*q^5-q^4-q^3-q^2-q-1)/q^12)*Q^7*Si^4 + ((q^6+2*q^5+3*q^4+3*q^3+4*q^2+3*q+1)/q^7)*Q^6*Si^5 + ((-q^21-q^20-2*q^19-3*q^18-4*q^17-5*q^16-7*q^15-8*q^14-9*q^13-10*q^12-10*q^11-10*q^10-10*q^9-9*q^8-8*q^7-7*q^6-5*q^5-4*q^4-3*q^3-2*q^2-q-1)/q^6)*Q^11*Si + ((q^28+2*q^27+3*q^26+5*q^25+5*q^24+5*q^23+q^22-4*q^21-16*q^20-30*q^19-53*q^18-76*q^17-102*q^16-122*q^15-144*q^14-155*q^13-163*q^12-156*q^11-145*q^10-125*q^9-106*q^8-81*q^7-60*q^6-40*q^5-26*q^4-14*q^3-8*q^2-3*q-1)/q^13)*Q^10*Si^2 + ((q^28+q^27+2*q^26+2*q^25+2*q^24+2*q^23+2*q^22-q^21-4*q^20-11*q^19-23*q^18-43*q^17-68*q^16-99*q^15-132*q^14-163*q^13-185*q^12-195*q^11-193*q^10-179*q^9-154*q^8-123*q^7-93*q^6-64*q^5-41*q^4-23*q^3-12*q^2-5*q-2)/q^16)*Q^9*Si^3 + ((-q^23-2*q^22-5*q^21-9*q^20-15*q^19-20*q^18-27*q^17-32*q^16-36*q^15-38*q^14-41*q^13-42*q^12-43*q^11-41*q^10-40*q^9-36*q^8-33*q^7-27*q^6-23*q^5-17*q^4-13*q^3-7*q^2-4*q-1)/q^16)*Q^8*Si^4 + ((-q^15-2*q^14-4*q^13-5*q^12-8*q^11-10*q^10-13*q^9-13*q^8-13*q^7-10*q^6-8*q^5-4*q^4-2*q^3-2*q^2-q+1)/q^13)*Q^7*Si^5 + ((-q-1)/q^7)*Q^6*Si^6 + ((-q^28-q^27-2*q^26-q^25-q^24+2*q^23+5*q^22+10*q^21+17*q^20+28*q^19+38*q^18+49*q^17+59*q^16+69*q^15+75*q^14+80*q^13+80*q^12+76*q^11+70*q^10+61*q^9+51*q^8+41*q^7+31*q^6+21*q^5+14*q^4+9*q^3+5*q^2+2*q+1)/q^14)*Q^11*Si^2 + ((-q^31-2*q^30-4*q^29-7*q^28-10*q^27-14*q^26-18*q^25-21*q^24-20*q^23-15*q^22-2*q^21+20*q^20+52*q^19+93*q^18+140*q^17+188*q^16+233*q^15+267*q^14+285*q^13+286*q^12+271*q^11+243*q^10+203*q^9+160*q^8+118*q^7+82*q^6+53*q^5+31*q^4+16*q^3+8*q^2+3*q+1)/q^19)*Q^10*Si^3 + ((-q^28-q^27-2*q^26-2*q^25-2*q^24-q^23+q^22+4*q^21+6*q^20+9*q^19+13*q^18+19*q^17+29*q^16+44*q^15+63*q^14+85*q^13+107*q^12+122*q^11+131*q^10+131*q^9+120*q^8+103*q^7+83*q^6+59*q^5+39*q^4+23*q^3+12*q^2+5*q+2)/q^20)*Q^9*Si^4 + ((q^20+2*q^19+5*q^18+8*q^17+13*q^16+17*q^15+22*q^14+24*q^13+26*q^12+24*q^11+21*q^10+16*q^9+15*q^8+13*q^7+11*q^6+8*q^5+8*q^4+9*q^3+7*q^2+4*q+1)/q^18)*Q^8*Si^5 + ((q^9+2*q^8+3*q^7+3*q^6+3*q^5+3*q^4+3*q^3+2*q^2-1)/q^13)*Q^7*Si^6 + ((-q^24-q^23-2*q^22-3*q^21-5*q^20-6*q^19-9*q^18-10*q^17-13*q^16-14*q^15-16*q^14-16*q^13-18*q^12-16*q^11-16*q^10-14*q^9-13*q^8-10*q^7-9*q^6-6*q^5-5*q^4-3*q^3-2*q^2-q-1)/q^14)*Q^12*Si^2 + ((q^32+2*q^31+4*q^30+6*q^29+10*q^28+12*q^27+16*q^26+16*q^25+14*q^24+6*q^23-7*q^22-30*q^21-56*q^20-90*q^19-126*q^18-163*q^17-195*q^16-220*q^15-232*q^14-234*q^13-226*q^12-205*q^11-177*q^10-145*q^9-113*q^8-83*q^7-58*q^6-36*q^5-22*q^4-12*q^3-6*q^2-2*q-1)/q^21)*Q^11*Si^3 + ((q^32+2*q^31+4*q^30+8*q^29+12*q^28+18*q^27+24*q^26+32*q^25+37*q^24+43*q^23+43*q^22+41*q^21+26*q^20+6*q^19-31*q^18-73*q^17-128*q^16-176*q^15-226*q^14-256*q^13-273*q^12-265*q^11-247*q^10-209*q^9-170*q^8-124*q^7-87*q^6-55*q^5-33*q^4-16*q^3-8*q^2-3*q-1)/q^24)*Q^10*Si^4 + ((q^26+q^25+2*q^24+2*q^23+2*q^22+q^21-q^20-4*q^19-6*q^18-7*q^17-7*q^16-7*q^15-7*q^14-9*q^13-14*q^12-21*q^11-30*q^10-39*q^9-47*q^8-49*q^7-46*q^6-39*q^5-30*q^4-20*q^3-12*q^2-5*q-2)/q^23)*Q^9*Si^5 + ((-q^15-2*q^14-4*q^13-5*q^12-7*q^11-8*q^10-9*q^9-7*q^8-5*q^7-2*q^6-q^5+q^4+2*q^3+q^2-3*q-1)/q^19)*Q^8*Si^6 + ((-q^3-q^2+1)/q^14)*Q^7*Si^7 + ((-q^31-q^30-2*q^29-3*q^28-3*q^27-3*q^26-3*q^25+q^24+6*q^23+13*q^22+23*q^21+36*q^20+49*q^19+64*q^18+78*q^17+90*q^16+99*q^15+104*q^14+104*q^13+101*q^12+93*q^11+82*q^10+69*q^9+56*q^8+43*q^7+31*q^6+21*q^5+14*q^4+8*q^3+4*q^2+2*q+1)/q^22)*Q^12*Si^3 + ((-q^34-2*q^33-5*q^32-8*q^31-15*q^30-22*q^29-32*q^28-41*q^27-53*q^26-59*q^25-63*q^24-58*q^23-45*q^22-16*q^21+22*q^20+75*q^19+133*q^18+195*q^17+251*q^16+296*q^15+322*q^14+330*q^13+318*q^12+287*q^11+244*q^10+197*q^9+150*q^8+106*q^7+71*q^6+43*q^5+25*q^4+13*q^3+6*q^2+2*q+1)/q^27)*Q^11*Si^4 + ((-q^31-2*q^30-4*q^29-8*q^28-13*q^27-19*q^26-26*q^25-34*q^24-42*q^23-50*q^22-55*q^21-60*q^20-61*q^19-57*q^18-43*q^17-23*q^16+6*q^15+40*q^14+75*q^13+106*q^12+128*q^11+137*q^10+133*q^9+119*q^8+96*q^7+72*q^6+49*q^5+30*q^4+16*q^3+8*q^2+3*q+1)/q^28)*Q^10*Si^5 + ((-q^22-q^21-2*q^20-2*q^19-2*q^18-2*q^17-2*q^16-q^15-2*q^14-3*q^13-5*q^12-8*q^11-11*q^10-11*q^9-8*q^8-3*q^7+q^6+3*q^5+6*q^4+9*q^3+9*q^2+5*q+2)/q^25)*Q^9*Si^6 + ((q^9+q^8+q^7-q^2-2*q-1)/q^20)*Q^8*Si^7 + ((-q^25-q^24-2*q^23-3*q^22-5*q^21-7*q^20-9*q^19-11*q^18-14*q^17-16*q^16-18*q^15-19*q^14-20*q^13-20*q^12-19*q^11-18*q^10-16*q^9-14*q^8-11*q^7-9*q^6-7*q^5-5*q^4-3*q^3-2*q^2-q-1)/q^22)*Q^13*Si^3 + ((q^34+2*q^33+4*q^32+7*q^31+11*q^30+17*q^29+22*q^28+28*q^27+32*q^26+34*q^25+28*q^24+20*q^23-24*q^21-60*q^20-96*q^19-139*q^18-172*q^17-208*q^16-228*q^15-241*q^14-235*q^13-224*q^12-197*q^11-171*q^10-136*q^9-105*q^8-74*q^7-52*q^6-32*q^5-20*q^4-10*q^3-5*q^2-2*q-1)/q^29)*Q^12*Si^4 + ((q^34+2*q^33+5*q^32+9*q^31+17*q^30+26*q^29+40*q^28+54*q^27+72*q^26+88*q^25+106*q^24+116*q^23+122*q^22+117*q^21+103*q^20+71*q^19+30*q^18-24*q^17-82*q^16-140*q^15-187*q^14-220*q^13-234*q^12-229*q^11-208*q^10-175*q^9-138*q^8-101*q^7-69*q^6-42*q^5-25*q^4-13*q^3-6*q^2-2*q-1)/q^32)*Q^11*Si^5 + ((q^28+2*q^27+4*q^26+8*q^25+12*q^24+18*q^23+24*q^22+32*q^21+38*q^20+46*q^19+51*q^18+58*q^17+60*q^16+62*q^15+55*q^14+49*q^13+33*q^12+19*q^11-q^10-15*q^9-29*q^8-32*q^7-33*q^6-27*q^5-22*q^4-13*q^3-8*q^2-3*q-1)/q^31)*Q^10*Si^6 + ((q^16+q^15+2*q^14+2*q^13+3*q^12+4*q^11+5*q^10+6*q^9+7*q^8+8*q^7+8*q^6+7*q^5+6*q^4+5*q^3+4*q^2-2)/q^26)*Q^9*Si^7 + 1/q^20*Q^8*Si^8 + ((-q^32-q^31-2*q^30-3*q^29-5*q^28-5*q^27-6*q^26-5*q^25-4*q^24+2*q^23+8*q^22+18*q^21+29*q^20+43*q^19+56*q^18+71*q^17+82*q^16+91*q^15+96*q^14+97*q^13+93*q^12+87*q^11+77*q^10+64*q^9+52*q^8+40*q^7+29*q^6+20*q^5+13*q^4+7*q^3+4*q^2+2*q+1)/q^30)*Q^13*Si^4 + ((-q^35-2*q^34-5*q^33-9*q^32-16*q^31-25*q^30-38*q^29-52*q^28-68*q^27-83*q^26-97*q^25-105*q^24-106*q^23-95*q^22-74*q^21-40*q^20+6*q^19+61*q^18+116*q^17+169*q^16+212*q^15+242*q^14+252*q^13+246*q^12+225*q^11+195*q^10+158*q^9+120*q^8+85*q^7+58*q^6+36*q^5+21*q^4+11*q^3+5*q^2+2*q+1)/q^35)*Q^12*Si^5 + ((-q^32-2*q^31-5*q^30-9*q^29-17*q^28-26*q^27-40*q^26-54*q^25-72*q^24-89*q^23-108*q^22-121*q^21-133*q^20-136*q^19-134*q^18-121*q^17-100*q^16-68*q^15-35*q^14+2*q^13+36*q^12+61*q^11+76*q^10+81*q^9+75*q^8+63*q^7+49*q^6+33*q^5+21*q^4+12*q^3+6*q^2+2*q+1)/q^36)*Q^11*Si^6 + ((-q^23-2*q^22-4*q^21-7*q^20-10*q^19-14*q^18-19*q^17-24*q^16-28*q^15-32*q^14-35*q^13-36*q^12-36*q^11-34*q^10-29*q^9-22*q^8-14*q^7-8*q^6-4*q^5+3*q^3+5*q^2+3*q+1)/q^33)*Q^10*Si^7 + ((-q^9-q^8-2*q^7-2*q^6-2*q^5-2*q^4-2*q^3-2*q^2-2*q-1)/q^27)*Q^9*Si^8 + ((-q^24-q^23-2*q^22-3*q^21-5*q^20-6*q^19-9*q^18-10*q^17-13*q^16-14*q^15-16*q^14-16*q^13-18*q^12-16*q^11-16*q^10-14*q^9-13*q^8-10*q^7-9*q^6-6*q^5-5*q^4-3*q^3-2*q^2-q-1)/q^30)*Q^14*Si^4 + ((q^34+2*q^33+4*q^32+7*q^31+12*q^30+17*q^29+25*q^28+31*q^27+39*q^26+43*q^25+46*q^24+42*q^23+34*q^22+16*q^21-5*q^20-33*q^19-64*q^18-98*q^17-126*q^16-149*q^15-162*q^14-167*q^13-164*q^12-151*q^11-131*q^10-107*q^9-84*q^8-62*q^7-44*q^6-28*q^5-17*q^4-9*q^3-5*q^2-2*q-1)/q^37)*Q^13*Si^5 + ((q^34+2*q^33+5*q^32+10*q^31+17*q^30+28*q^29+43*q^28+61*q^27+81*q^26+104*q^25+123*q^24+144*q^23+157*q^22+163*q^21+155*q^20+143*q^19+113*q^18+79*q^17+31*q^16-12*q^15-58*q^14-89*q^13-117*q^12-123*q^11-122*q^10-107*q^9-91*q^8-67*q^7-49*q^6-31*q^5-20*q^4-10*q^3-5*q^2-2*q-1)/q^40)*Q^12*Si^6 + ((q^28+2*q^27+5*q^26+8*q^25+15*q^24+22*q^23+32*q^22+42*q^21+55*q^20+65*q^19+76*q^18+83*q^17+89*q^16+88*q^15+85*q^14+74*q^13+62*q^12+47*q^11+31*q^10+15*q^9+3*q^8-6*q^7-10*q^6-11*q^5-10*q^4-8*q^3-5*q^2-2*q-1)/q^39)*Q^11*Si^7 + ((q^16+2*q^15+3*q^14+5*q^13+6*q^12+8*q^11+9*q^10+11*q^9+11*q^8+11*q^7+9*q^6+8*q^5+6*q^4+5*q^3+3*q^2+2*q-1)/q^34)*Q^10*Si^8 + 1/q^27*Q^9*Si^9 + ((-q^31-q^30-2*q^29-3*q^28-5*q^27-6*q^26-7*q^25-7*q^24-7*q^23-4*q^22-q^21+6*q^20+14*q^19+24*q^18+33*q^17+43*q^16+51*q^15+58*q^14+63*q^13+64*q^12+60*q^11+56*q^10+49*q^9+41*q^8+33*q^7+25*q^6+17*q^5+11*q^4+7*q^3+4*q^2+2*q+1)/q^38)*Q^14*Si^5 + ((-q^34-2*q^33-5*q^32-9*q^31-16*q^30-24*q^29-37*q^28-50*q^27-67*q^26-81*q^25-96*q^24-104*q^23-111*q^22-107*q^21-96*q^20-73*q^19-46*q^18-11*q^17+25*q^16+63*q^15+92*q^14+113*q^13+123*q^12+124*q^11+115*q^10+98*q^9+79*q^8+60*q^7+43*q^6+28*q^5+17*q^4+9*q^3+5*q^2+2*q+1)/q^43)*Q^13*Si^6 + ((-q^31-2*q^30-5*q^29-9*q^28-16*q^27-25*q^26-38*q^25-52*q^24-69*q^23-85*q^22-102*q^21-116*q^20-126*q^19-129*q^18-128*q^17-118*q^16-103*q^15-82*q^14-58*q^13-33*q^12-13*q^11+6*q^10+18*q^9+24*q^8+25*q^7+23*q^6+17*q^5+13*q^4+8*q^3+4*q^2+2*q+1)/q^44)*Q^12*Si^7 + ((-q^22-2*q^21-4*q^20-6*q^19-10*q^18-13*q^17-18*q^16-22*q^15-26*q^14-28*q^13-30*q^12-29*q^11-28*q^10-25*q^9-21*q^8-15*q^7-11*q^6-7*q^5-4*q^4-2*q^3+q+1)/q^41)*Q^11*Si^8 + ((-q^8-q^7-q^6-q^5-q^4-q^3-q^2-q-1)/q^35)*Q^10*Si^9 + ((-q^21-q^20-2*q^19-3*q^18-4*q^17-5*q^16-7*q^15-8*q^14-9*q^13-10*q^12-10*q^11-10*q^10-10*q^9-9*q^8-8*q^7-7*q^6-5*q^5-4*q^4-3*q^3-2*q^2-q-1)/q^38)*Q^15*Si^5 + ((q^32+2*q^31+4*q^30+7*q^29+11*q^28+16*q^27+22*q^26+29*q^25+34*q^24+39*q^23+40*q^22+40*q^21+34*q^20+26*q^19+9*q^18-6*q^17-26*q^16-41*q^15-59*q^14-70*q^13-80*q^12-77*q^11-74*q^10-64*q^9-56*q^8-43*q^7-33*q^6-21*q^5-14*q^4-8*q^3-5*q^2-2*q-1)/q^45)*Q^14*Si^6 + ((q^32+2*q^31+5*q^30+9*q^29+16*q^28+24*q^27+37*q^26+50*q^25+67*q^24+82*q^23+98*q^22+108*q^21+118*q^20+120*q^19+117*q^18+103*q^17+87*q^16+65*q^15+42*q^14+16*q^13-5*q^12-22*q^11-32*q^10-37*q^9-37*q^8-32*q^7-25*q^6-19*q^5-13*q^4-7*q^3-4*q^2-2*q-1)/q^48)*Q^13*Si^7 + ((q^26+2*q^25+4*q^24+7*q^23+11*q^22+17*q^21+23*q^20+30*q^19+37*q^18+44*q^17+48*q^16+52*q^15+52*q^14+51*q^13+45*q^12+40*q^11+31*q^10+25*q^9+16*q^8+10*q^7+4*q^6+2*q^5-q^4-q^3-2*q^2-q-1)/q^47)*Q^12*Si^8 + ((q^14+q^13+2*q^12+2*q^11+3*q^10+3*q^9+4*q^8+4*q^7+4*q^6+3*q^5+3*q^4+2*q^3+2*q^2+q+1)/q^42)*Q^11*Si^9 + ((-q^28-q^27-2*q^26-3*q^25-4*q^24-5*q^23-7*q^22-6*q^21-6*q^20-4*q^19-2*q^18+2*q^17+5*q^16+12*q^15+18*q^14+22*q^13+25*q^12+27*q^11+27*q^10+27*q^9+25*q^8+22*q^7+17*q^6+12*q^5+9*q^4+6*q^3+4*q^2+2*q+1)/q^46)*Q^15*Si^6 + ((-q^31-2*q^30-5*q^29-8*q^28-14*q^27-20*q^26-29*q^25-38*q^24-49*q^23-57*q^22-65*q^21-68*q^20-69*q^19-64*q^18-58*q^17-44*q^16-28*q^15-11*q^14+4*q^13+19*q^12+29*q^11+36*q^10+36*q^9+34*q^8+29*q^7+24*q^6+17*q^5+11*q^4+7*q^3+4*q^2+2*q+1)/q^51)*Q^14*Si^7 + ((-q^28-2*q^27-4*q^26-7*q^25-12*q^24-17*q^23-25*q^22-32*q^21-41*q^20-48*q^19-55*q^18-59*q^17-62*q^16-59*q^15-56*q^14-49*q^13-41*q^12-31*q^11-22*q^10-13*q^9-7*q^8-2*q^7+2*q^6+3*q^5+3*q^4+3*q^3+2*q^2+q+1)/q^52)*Q^13*Si^8 + ((-q^18-q^17-2*q^16-3*q^15-4*q^14-5*q^13-7*q^12-7*q^11-8*q^10-8*q^9-8*q^8-7*q^7-7*q^6-5*q^5-4*q^4-3*q^3-2*q^2-q-1)/q^48)*Q^12*Si^9 + ((-q^16-q^15-2*q^14-2*q^13-3*q^12-3*q^11-4*q^10-4*q^9-5*q^8-4*q^7-4*q^6-3*q^5-3*q^4-2*q^3-2*q^2-q-1)/q^46)*Q^16*Si^6 + ((q^28+2*q^27+4*q^26+6*q^25+9*q^24+12*q^23+16*q^22+19*q^21+23*q^20+23*q^19+23*q^18+20*q^17+17*q^16+11*q^15+5*q^14-4*q^13-12*q^12-17*q^11-20*q^10-22*q^9-22*q^8-21*q^7-17*q^6-12*q^5-9*q^4-6*q^3-4*q^2-2*q-1)/q^53)*Q^15*Si^7 + ((q^28+2*q^27+4*q^26+7*q^25+11*q^24+16*q^23+22*q^22+29*q^21+35*q^20+41*q^19+45*q^18+48*q^17+47*q^16+46*q^15+40*q^14+34*q^13+25*q^12+19*q^11+10*q^10+5*q^9-q^8-3*q^7-5*q^6-4*q^5-5*q^4-3*q^3-2*q^2-q-1)/q^56)*Q^14*Si^8 + ((q^20+q^19+2*q^18+3*q^17+5*q^16+6*q^15+8*q^14+9*q^13+11*q^12+11*q^11+12*q^10+11*q^9+11*q^8+9*q^7+8*q^6+6*q^5+5*q^4+3*q^3+2*q^2+q+1)/q^53)*Q^13*Si^9 + ((-q^23-q^22-2*q^21-2*q^20-3*q^19-3*q^18-4*q^17-4*q^16-3*q^15-q^14+2*q^12+3*q^11+5*q^10+6*q^9+9*q^8+9*q^7+7*q^6+6*q^5+5*q^4+4*q^3+3*q^2+2*q+1)/q^54)*Q^16*Si^7 + ((-q^26-2*q^25-4*q^24-6*q^23-9*q^22-12*q^21-16*q^20-19*q^19-23*q^18-24*q^17-25*q^16-23*q^15-22*q^14-18*q^13-14*q^12-9*q^11-4*q^10+2*q^8+4*q^7+5*q^6+5*q^5+4*q^4+3*q^3+2*q^2+q+1)/q^59)*Q^15*Si^8 + ((-q^20-q^19-2*q^18-3*q^17-5*q^16-6*q^15-8*q^14-9*q^13-11*q^12-11*q^11-12*q^10-11*q^9-11*q^8-9*q^7-8*q^6-6*q^5-5*q^4-3*q^3-2*q^2-q-1)/q^57)*Q^14*Si^9 + ((-q^9-q^8-q^7-q^6-q^5-q^4-q^3-q^2-q-1)/q^54)*Q^17*Si^7 + ((q^22+2*q^21+3*q^20+4*q^19+5*q^18+6*q^17+7*q^16+8*q^15+8*q^14+8*q^13+5*q^12+4*q^11+2*q^10+q^9-q^8-2*q^7-4*q^6-3*q^5-3*q^4-2*q^3-2*q^2-q-1)/q^61)*Q^16*Si^8 + ((q^18+q^17+2*q^16+3*q^15+4*q^14+5*q^13+7*q^12+7*q^11+8*q^10+8*q^9+8*q^8+7*q^7+7*q^6+5*q^5+4*q^4+3*q^3+2*q^2+q+1)/q^60)*Q^15*Si^9 + ((-q^16-q^15-q^14-q^13-q^12-q^11-q^10-q^9-q^8+q^7+q^6+q^5+q^4+q^3+q^2+q+1)/q^62)*Q^17*Si^8 + ((-q^14-q^13-2*q^12-2*q^11-3*q^10-3*q^9-4*q^8-4*q^7-4*q^6-3*q^5-3*q^4-2*q^3-2*q^2-q-1)/q^62)*Q^16*Si^9 - 1/q^62*Q^18*Si^8 + ((q^8+q^7+q^6+q^5+q^4+q^3+q^2+q+1)/q^63)*Q^17*Si^9 - 1/q^63*Q^18*Si^9"
      ]
     },
     "execution_count": 17,
     "metadata": {},
     "output_type": "execute_result"
    }
   ],
   "source": [
    "L(**compatibilities).canonical()"
   ]
  },
  {
   "cell_type": "code",
   "execution_count": 19,
   "id": "693fc773-e7d3-44f1-8f67-3f8477b3dd84",
   "metadata": {},
   "outputs": [],
   "source": [
    "Binomial"
   ]
  },
  {
   "cell_type": "code",
   "execution_count": 26,
   "id": "97bcf741-02d4-4a6f-ba97-6638860662a7",
   "metadata": {},
   "outputs": [],
   "source": [
    "L3 = ((S^9)*L2).canonical()"
   ]
  },
  {
   "cell_type": "code",
   "execution_count": 31,
   "id": "26890cf6-6d54-430f-847f-5a44038e60bc",
   "metadata": {},
   "outputs": [
    {
     "name": "stdout",
     "output_type": "stream",
     "text": [
      "Q^16*S^3 -- -q^114 - q^113 - 2*q^112 - 2*q^111 - 3*q^110 - 3*q^109 - 4*q^108 - 4*q^107 - 5*q^106 - 4*q^105 - 4*q^104 - 3*q^103 - 3*q^102 - 2*q^101 - 2*q^100 - q^99 - q^98\n",
      "Q^17*S^2 -- -q^108 - q^107 - q^106 - q^105 - q^104 - q^103 - q^102 - q^101 - q^100 - q^99\n",
      "Q^18*S -- -q^100\n",
      "Q^15*S^3 -- -q^117 - q^116 - 2*q^115 - 3*q^114 - 4*q^113 - 5*q^112 - 7*q^111 - 6*q^110 - 6*q^109 - 4*q^108 - 2*q^107 + 2*q^106 + 5*q^105 + 12*q^104 + 18*q^103 + 22*q^102 + 25*q^101 + 27*q^100 + 27*q^99 + 27*q^98 + 25*q^97 + 22*q^96 + 17*q^95 + 12*q^94 + 9*q^93 + 6*q^92 + 4*q^91 + 2*q^90 + q^89\n",
      "Q^16*S^2 -- -q^113 - q^112 - 2*q^111 - 2*q^110 - 3*q^109 - 3*q^108 - 4*q^107 - 4*q^106 - 3*q^105 - q^104 + 2*q^102 + 3*q^101 + 5*q^100 + 6*q^99 + 9*q^98 + 9*q^97 + 7*q^96 + 6*q^95 + 5*q^94 + 4*q^93 + 3*q^92 + 2*q^91 + q^90\n",
      "Q^17*S -- -q^107 - q^106 - q^105 - q^104 - q^103 - q^102 - q^101 - q^100 - q^99 + q^98 + q^97 + q^96 + q^95 + q^94 + q^93 + q^92 + q^91\n",
      "Q^15*S^4 -- -q^118 - q^117 - 2*q^116 - 3*q^115 - 4*q^114 - 5*q^113 - 7*q^112 - 8*q^111 - 9*q^110 - 10*q^109 - 10*q^108 - 10*q^107 - 10*q^106 - 9*q^105 - 8*q^104 - 7*q^103 - 5*q^102 - 4*q^101 - 3*q^100 - 2*q^99 - q^98 - q^97\n",
      "Q^14*S^3 -- q^113 + 2*q^112 + 4*q^111 + 7*q^110 + 11*q^109 + 16*q^108 + 22*q^107 + 29*q^106 + 34*q^105 + 39*q^104 + 40*q^103 + 40*q^102 + 34*q^101 + 26*q^100 + 9*q^99 - 6*q^98 - 26*q^97 - 41*q^96 - 59*q^95 - 70*q^94 - 80*q^93 - 77*q^92 - 74*q^91 - 64*q^90 - 56*q^89 - 43*q^88 - 33*q^87 - 21*q^86 - 14*q^85 - 8*q^84 - 5*q^83 - 2*q^82 - q^81\n",
      "Q^15*S^2 -- q^110 + 2*q^109 + 4*q^108 + 6*q^107 + 9*q^106 + 12*q^105 + 16*q^104 + 19*q^103 + 23*q^102 + 23*q^101 + 23*q^100 + 20*q^99 + 17*q^98 + 11*q^97 + 5*q^96 - 4*q^95 - 12*q^94 - 17*q^93 - 20*q^92 - 22*q^91 - 22*q^90 - 21*q^89 - 17*q^88 - 12*q^87 - 9*q^86 - 6*q^85 - 4*q^84 - 2*q^83 - q^82\n",
      "Q^16*S -- q^105 + 2*q^104 + 3*q^103 + 4*q^102 + 5*q^101 + 6*q^100 + 7*q^99 + 8*q^98 + 8*q^97 + 8*q^96 + 5*q^95 + 4*q^94 + 2*q^93 + q^92 - q^91 - 2*q^90 - 4*q^89 - 3*q^88 - 3*q^87 - 2*q^86 - 2*q^85 - q^84 - q^83\n",
      "Q^14*S^4 -- -q^119 - q^118 - 2*q^117 - 3*q^116 - 5*q^115 - 6*q^114 - 7*q^113 - 7*q^112 - 7*q^111 - 4*q^110 - q^109 + 6*q^108 + 14*q^107 + 24*q^106 + 33*q^105 + 43*q^104 + 51*q^103 + 58*q^102 + 63*q^101 + 64*q^100 + 60*q^99 + 56*q^98 + 49*q^97 + 41*q^96 + 33*q^95 + 25*q^94 + 17*q^93 + 11*q^92 + 7*q^91 + 4*q^90 + 2*q^89 + q^88\n",
      "Q^14*S^5 -- -q^120 - q^119 - 2*q^118 - 3*q^117 - 5*q^116 - 6*q^115 - 9*q^114 - 10*q^113 - 13*q^112 - 14*q^111 - 16*q^110 - 16*q^109 - 18*q^108 - 16*q^107 - 16*q^106 - 14*q^105 - 13*q^104 - 10*q^103 - 9*q^102 - 6*q^101 - 5*q^100 - 3*q^99 - 2*q^98 - q^97 - q^96\n",
      "Q^13*S^3 -- -q^108 - 2*q^107 - 5*q^106 - 9*q^105 - 16*q^104 - 24*q^103 - 37*q^102 - 50*q^101 - 67*q^100 - 81*q^99 - 96*q^98 - 104*q^97 - 111*q^96 - 107*q^95 - 96*q^94 - 73*q^93 - 46*q^92 - 11*q^91 + 25*q^90 + 63*q^89 + 92*q^88 + 113*q^87 + 123*q^86 + 124*q^85 + 115*q^84 + 98*q^83 + 79*q^82 + 60*q^81 + 43*q^80 + 28*q^79 + 17*q^78 + 9*q^77 + 5*q^76 + 2*q^75 + q^74\n",
      "Q^14*S^2 -- -q^106 - 2*q^105 - 5*q^104 - 8*q^103 - 14*q^102 - 20*q^101 - 29*q^100 - 38*q^99 - 49*q^98 - 57*q^97 - 65*q^96 - 68*q^95 - 69*q^94 - 64*q^93 - 58*q^92 - 44*q^91 - 28*q^90 - 11*q^89 + 4*q^88 + 19*q^87 + 29*q^86 + 36*q^85 + 36*q^84 + 34*q^83 + 29*q^82 + 24*q^81 + 17*q^80 + 11*q^79 + 7*q^78 + 4*q^77 + 2*q^76 + q^75\n",
      "Q^15*S -- -q^102 - 2*q^101 - 4*q^100 - 6*q^99 - 9*q^98 - 12*q^97 - 16*q^96 - 19*q^95 - 23*q^94 - 24*q^93 - 25*q^92 - 23*q^91 - 22*q^90 - 18*q^89 - 14*q^88 - 9*q^87 - 4*q^86 + 2*q^84 + 4*q^83 + 5*q^82 + 5*q^81 + 4*q^80 + 3*q^79 + 2*q^78 + q^77 + q^76\n",
      "Q^13*S^4 -- q^114 + 2*q^113 + 4*q^112 + 7*q^111 + 12*q^110 + 17*q^109 + 25*q^108 + 31*q^107 + 39*q^106 + 43*q^105 + 46*q^104 + 42*q^103 + 34*q^102 + 16*q^101 - 5*q^100 - 33*q^99 - 64*q^98 - 98*q^97 - 126*q^96 - 149*q^95 - 162*q^94 - 167*q^93 - 164*q^92 - 151*q^91 - 131*q^90 - 107*q^89 - 84*q^88 - 62*q^87 - 44*q^86 - 28*q^85 - 17*q^84 - 9*q^83 - 5*q^82 - 2*q^81 - q^80\n",
      "Q^13*S^5 -- -q^119 - q^118 - 2*q^117 - 3*q^116 - 5*q^115 - 5*q^114 - 6*q^113 - 5*q^112 - 4*q^111 + 2*q^110 + 8*q^109 + 18*q^108 + 29*q^107 + 43*q^106 + 56*q^105 + 71*q^104 + 82*q^103 + 91*q^102 + 96*q^101 + 97*q^100 + 93*q^99 + 87*q^98 + 77*q^97 + 64*q^96 + 52*q^95 + 40*q^94 + 29*q^93 + 20*q^92 + 13*q^91 + 7*q^90 + 4*q^89 + 2*q^88 + q^87\n",
      "Q^13*S^6 -- -q^120 - q^119 - 2*q^118 - 3*q^117 - 5*q^116 - 7*q^115 - 9*q^114 - 11*q^113 - 14*q^112 - 16*q^111 - 18*q^110 - 19*q^109 - 20*q^108 - 20*q^107 - 19*q^106 - 18*q^105 - 16*q^104 - 14*q^103 - 11*q^102 - 9*q^101 - 7*q^100 - 5*q^99 - 3*q^98 - 2*q^97 - q^96 - q^95\n",
      "Q^12*S^3 -- q^102 + 2*q^101 + 5*q^100 + 10*q^99 + 17*q^98 + 28*q^97 + 43*q^96 + 61*q^95 + 81*q^94 + 104*q^93 + 123*q^92 + 144*q^91 + 157*q^90 + 163*q^89 + 155*q^88 + 143*q^87 + 113*q^86 + 79*q^85 + 31*q^84 - 12*q^83 - 58*q^82 - 89*q^81 - 117*q^80 - 123*q^79 - 122*q^78 - 107*q^77 - 91*q^76 - 67*q^75 - 49*q^74 - 31*q^73 - 20*q^72 - 10*q^71 - 5*q^70 - 2*q^69 - q^68\n",
      "Q^13*S^2 -- q^101 + 2*q^100 + 5*q^99 + 9*q^98 + 16*q^97 + 24*q^96 + 37*q^95 + 50*q^94 + 67*q^93 + 82*q^92 + 98*q^91 + 108*q^90 + 118*q^89 + 120*q^88 + 117*q^87 + 103*q^86 + 87*q^85 + 65*q^84 + 42*q^83 + 16*q^82 - 5*q^81 - 22*q^80 - 32*q^79 - 37*q^78 - 37*q^77 - 32*q^76 - 25*q^75 - 19*q^74 - 13*q^73 - 7*q^72 - 4*q^71 - 2*q^70 - q^69\n",
      "Q^14*S -- q^98 + 2*q^97 + 4*q^96 + 7*q^95 + 11*q^94 + 16*q^93 + 22*q^92 + 29*q^91 + 35*q^90 + 41*q^89 + 45*q^88 + 48*q^87 + 47*q^86 + 46*q^85 + 40*q^84 + 34*q^83 + 25*q^82 + 19*q^81 + 10*q^80 + 5*q^79 - q^78 - 3*q^77 - 5*q^76 - 4*q^75 - 5*q^74 - 3*q^73 - 2*q^72 - q^71 - q^70\n",
      "Q^12*S^4 -- -q^108 - 2*q^107 - 5*q^106 - 9*q^105 - 16*q^104 - 25*q^103 - 38*q^102 - 52*q^101 - 68*q^100 - 83*q^99 - 97*q^98 - 105*q^97 - 106*q^96 - 95*q^95 - 74*q^94 - 40*q^93 + 6*q^92 + 61*q^91 + 116*q^90 + 169*q^89 + 212*q^88 + 242*q^87 + 252*q^86 + 246*q^85 + 225*q^84 + 195*q^83 + 158*q^82 + 120*q^81 + 85*q^80 + 58*q^79 + 36*q^78 + 21*q^77 + 11*q^76 + 5*q^75 + 2*q^74 + q^73\n",
      "Q^12*S^5 -- q^113 + 2*q^112 + 4*q^111 + 7*q^110 + 11*q^109 + 17*q^108 + 22*q^107 + 28*q^106 + 32*q^105 + 34*q^104 + 28*q^103 + 20*q^102 - 24*q^100 - 60*q^99 - 96*q^98 - 139*q^97 - 172*q^96 - 208*q^95 - 228*q^94 - 241*q^93 - 235*q^92 - 224*q^91 - 197*q^90 - 171*q^89 - 136*q^88 - 105*q^87 - 74*q^86 - 52*q^85 - 32*q^84 - 20*q^83 - 10*q^82 - 5*q^81 - 2*q^80 - q^79\n",
      "Q^12*S^6 -- -q^117 - q^116 - 2*q^115 - 3*q^114 - 3*q^113 - 3*q^112 - 3*q^111 + q^110 + 6*q^109 + 13*q^108 + 23*q^107 + 36*q^106 + 49*q^105 + 64*q^104 + 78*q^103 + 90*q^102 + 99*q^101 + 104*q^100 + 104*q^99 + 101*q^98 + 93*q^97 + 82*q^96 + 69*q^95 + 56*q^94 + 43*q^93 + 31*q^92 + 21*q^91 + 14*q^90 + 8*q^89 + 4*q^88 + 2*q^87 + q^86\n",
      "Q^12*S^7 -- -q^118 - q^117 - 2*q^116 - 3*q^115 - 5*q^114 - 6*q^113 - 9*q^112 - 10*q^111 - 13*q^110 - 14*q^109 - 16*q^108 - 16*q^107 - 18*q^106 - 16*q^105 - 16*q^104 - 14*q^103 - 13*q^102 - 10*q^101 - 9*q^100 - 6*q^99 - 5*q^98 - 3*q^97 - 2*q^96 - q^95 - q^94\n",
      "Q^11*S^3 -- -q^95 - 2*q^94 - 5*q^93 - 9*q^92 - 17*q^91 - 26*q^90 - 40*q^89 - 54*q^88 - 72*q^87 - 89*q^86 - 108*q^85 - 121*q^84 - 133*q^83 - 136*q^82 - 134*q^81 - 121*q^80 - 100*q^79 - 68*q^78 - 35*q^77 + 2*q^76 + 36*q^75 + 61*q^74 + 76*q^73 + 81*q^72 + 75*q^71 + 63*q^70 + 49*q^69 + 33*q^68 + 21*q^67 + 12*q^66 + 6*q^65 + 2*q^64 + q^63\n",
      "Q^12*S^2 -- -q^95 - 2*q^94 - 5*q^93 - 9*q^92 - 16*q^91 - 25*q^90 - 38*q^89 - 52*q^88 - 69*q^87 - 85*q^86 - 102*q^85 - 116*q^84 - 126*q^83 - 129*q^82 - 128*q^81 - 118*q^80 - 103*q^79 - 82*q^78 - 58*q^77 - 33*q^76 - 13*q^75 + 6*q^74 + 18*q^73 + 24*q^72 + 25*q^71 + 23*q^70 + 17*q^69 + 13*q^68 + 8*q^67 + 4*q^66 + 2*q^65 + q^64\n",
      "Q^13*S -- -q^93 - 2*q^92 - 4*q^91 - 7*q^90 - 12*q^89 - 17*q^88 - 25*q^87 - 32*q^86 - 41*q^85 - 48*q^84 - 55*q^83 - 59*q^82 - 62*q^81 - 59*q^80 - 56*q^79 - 49*q^78 - 41*q^77 - 31*q^76 - 22*q^75 - 13*q^74 - 7*q^73 - 2*q^72 + 2*q^71 + 3*q^70 + 3*q^69 + 3*q^68 + 2*q^67 + q^66 + q^65\n",
      "Q^11*S^4 -- q^101 + 2*q^100 + 5*q^99 + 9*q^98 + 17*q^97 + 26*q^96 + 40*q^95 + 54*q^94 + 72*q^93 + 88*q^92 + 106*q^91 + 116*q^90 + 122*q^89 + 117*q^88 + 103*q^87 + 71*q^86 + 30*q^85 - 24*q^84 - 82*q^83 - 140*q^82 - 187*q^81 - 220*q^80 - 234*q^79 - 229*q^78 - 208*q^77 - 175*q^76 - 138*q^75 - 101*q^74 - 69*q^73 - 42*q^72 - 25*q^71 - 13*q^70 - 6*q^69 - 2*q^68 - q^67\n",
      "Q^11*S^5 -- -q^106 - 2*q^105 - 5*q^104 - 8*q^103 - 15*q^102 - 22*q^101 - 32*q^100 - 41*q^99 - 53*q^98 - 59*q^97 - 63*q^96 - 58*q^95 - 45*q^94 - 16*q^93 + 22*q^92 + 75*q^91 + 133*q^90 + 195*q^89 + 251*q^88 + 296*q^87 + 322*q^86 + 330*q^85 + 318*q^84 + 287*q^83 + 244*q^82 + 197*q^81 + 150*q^80 + 106*q^79 + 71*q^78 + 43*q^77 + 25*q^76 + 13*q^75 + 6*q^74 + 2*q^73 + q^72\n",
      "Q^11*S^6 -- q^110 + 2*q^109 + 4*q^108 + 6*q^107 + 10*q^106 + 12*q^105 + 16*q^104 + 16*q^103 + 14*q^102 + 6*q^101 - 7*q^100 - 30*q^99 - 56*q^98 - 90*q^97 - 126*q^96 - 163*q^95 - 195*q^94 - 220*q^93 - 232*q^92 - 234*q^91 - 226*q^90 - 205*q^89 - 177*q^88 - 145*q^87 - 113*q^86 - 83*q^85 - 58*q^84 - 36*q^83 - 22*q^82 - 12*q^81 - 6*q^80 - 2*q^79 - q^78\n",
      "Q^11*S^7 -- -q^113 - q^112 - 2*q^111 - q^110 - q^109 + 2*q^108 + 5*q^107 + 10*q^106 + 17*q^105 + 28*q^104 + 38*q^103 + 49*q^102 + 59*q^101 + 69*q^100 + 75*q^99 + 80*q^98 + 80*q^97 + 76*q^96 + 70*q^95 + 61*q^94 + 51*q^93 + 41*q^92 + 31*q^91 + 21*q^90 + 14*q^89 + 9*q^88 + 5*q^87 + 2*q^86 + q^85\n",
      "Q^11*S^8 -- -q^114 - q^113 - 2*q^112 - 3*q^111 - 4*q^110 - 5*q^109 - 7*q^108 - 8*q^107 - 9*q^106 - 10*q^105 - 10*q^104 - 10*q^103 - 10*q^102 - 9*q^101 - 8*q^100 - 7*q^99 - 5*q^98 - 4*q^97 - 3*q^96 - 2*q^95 - q^94 - q^93\n",
      "Q^10*S^3 -- q^87 + 2*q^86 + 4*q^85 + 8*q^84 + 12*q^83 + 18*q^82 + 24*q^81 + 32*q^80 + 38*q^79 + 46*q^78 + 51*q^77 + 58*q^76 + 60*q^75 + 62*q^74 + 55*q^73 + 49*q^72 + 33*q^71 + 19*q^70 - q^69 - 15*q^68 - 29*q^67 - 32*q^66 - 33*q^65 - 27*q^64 - 22*q^63 - 13*q^62 - 8*q^61 - 3*q^60 - q^59\n",
      "Q^11*S^2 -- q^88 + 2*q^87 + 5*q^86 + 8*q^85 + 15*q^84 + 22*q^83 + 32*q^82 + 42*q^81 + 55*q^80 + 65*q^79 + 76*q^78 + 83*q^77 + 89*q^76 + 88*q^75 + 85*q^74 + 74*q^73 + 62*q^72 + 47*q^71 + 31*q^70 + 15*q^69 + 3*q^68 - 6*q^67 - 10*q^66 - 11*q^65 - 10*q^64 - 8*q^63 - 5*q^62 - 2*q^61 - q^60\n",
      "Q^12*S -- q^87 + 2*q^86 + 4*q^85 + 7*q^84 + 11*q^83 + 17*q^82 + 23*q^81 + 30*q^80 + 37*q^79 + 44*q^78 + 48*q^77 + 52*q^76 + 52*q^75 + 51*q^74 + 45*q^73 + 40*q^72 + 31*q^71 + 25*q^70 + 16*q^69 + 10*q^68 + 4*q^67 + 2*q^66 - q^65 - q^64 - 2*q^63 - q^62 - q^61\n",
      "Q^10*S^4 -- -q^93 - 2*q^92 - 4*q^91 - 8*q^90 - 13*q^89 - 19*q^88 - 26*q^87 - 34*q^86 - 42*q^85 - 50*q^84 - 55*q^83 - 60*q^82 - 61*q^81 - 57*q^80 - 43*q^79 - 23*q^78 + 6*q^77 + 40*q^76 + 75*q^75 + 106*q^74 + 128*q^73 + 137*q^72 + 133*q^71 + 119*q^70 + 96*q^69 + 72*q^68 + 49*q^67 + 30*q^66 + 16*q^65 + 8*q^64 + 3*q^63 + q^62\n",
      "Q^10*S^5 -- q^98 + 2*q^97 + 4*q^96 + 8*q^95 + 12*q^94 + 18*q^93 + 24*q^92 + 32*q^91 + 37*q^90 + 43*q^89 + 43*q^88 + 41*q^87 + 26*q^86 + 6*q^85 - 31*q^84 - 73*q^83 - 128*q^82 - 176*q^81 - 226*q^80 - 256*q^79 - 273*q^78 - 265*q^77 - 247*q^76 - 209*q^75 - 170*q^74 - 124*q^73 - 87*q^72 - 55*q^71 - 33*q^70 - 16*q^69 - 8*q^68 - 3*q^67 - q^66\n",
      "Q^10*S^6 -- -q^102 - 2*q^101 - 4*q^100 - 7*q^99 - 10*q^98 - 14*q^97 - 18*q^96 - 21*q^95 - 20*q^94 - 15*q^93 - 2*q^92 + 20*q^91 + 52*q^90 + 93*q^89 + 140*q^88 + 188*q^87 + 233*q^86 + 267*q^85 + 285*q^84 + 286*q^83 + 271*q^82 + 243*q^81 + 203*q^80 + 160*q^79 + 118*q^78 + 82*q^77 + 53*q^76 + 31*q^75 + 16*q^74 + 8*q^73 + 3*q^72 + q^71\n",
      "Q^10*S^7 -- q^105 + 2*q^104 + 3*q^103 + 5*q^102 + 5*q^101 + 5*q^100 + q^99 - 4*q^98 - 16*q^97 - 30*q^96 - 53*q^95 - 76*q^94 - 102*q^93 - 122*q^92 - 144*q^91 - 155*q^90 - 163*q^89 - 156*q^88 - 145*q^87 - 125*q^86 - 106*q^85 - 81*q^84 - 60*q^83 - 40*q^82 - 26*q^81 - 14*q^80 - 8*q^79 - 3*q^78 - q^77\n",
      "Q^10*S^8 -- -q^107 - q^106 + 2*q^104 + 5*q^103 + 8*q^102 + 13*q^101 + 18*q^100 + 24*q^99 + 32*q^98 + 37*q^97 + 40*q^96 + 42*q^95 + 42*q^94 + 40*q^93 + 37*q^92 + 32*q^91 + 25*q^90 + 19*q^89 + 14*q^88 + 9*q^87 + 6*q^86 + 3*q^85 + q^84\n",
      "Q^10*S^9 -- -q^108 - q^107 - 2*q^106 - 2*q^105 - 3*q^104 - 3*q^103 - 4*q^102 - 4*q^101 - 5*q^100 - 4*q^99 - 4*q^98 - 3*q^97 - 3*q^96 - 2*q^95 - 2*q^94 - q^93 - q^92\n",
      "Q^9*S^3 -- -q^78 - q^77 - 2*q^76 - 2*q^75 - 2*q^74 - 2*q^73 - 2*q^72 - q^71 - 2*q^70 - 3*q^69 - 5*q^68 - 8*q^67 - 11*q^66 - 11*q^65 - 8*q^64 - 3*q^63 + q^62 + 3*q^61 + 6*q^60 + 9*q^59 + 9*q^58 + 5*q^57 + 2*q^56\n",
      "Q^10*S^2 -- -q^80 - 2*q^79 - 4*q^78 - 7*q^77 - 10*q^76 - 14*q^75 - 19*q^74 - 24*q^73 - 28*q^72 - 32*q^71 - 35*q^70 - 36*q^69 - 36*q^68 - 34*q^67 - 29*q^66 - 22*q^65 - 14*q^64 - 8*q^63 - 4*q^62 + 3*q^60 + 5*q^59 + 3*q^58 + q^57\n",
      "Q^11*S -- -q^80 - 2*q^79 - 4*q^78 - 6*q^77 - 10*q^76 - 13*q^75 - 18*q^74 - 22*q^73 - 26*q^72 - 28*q^71 - 30*q^70 - 29*q^69 - 28*q^68 - 25*q^67 - 21*q^66 - 15*q^65 - 11*q^64 - 7*q^63 - 4*q^62 - 2*q^61 + q^59 + q^58\n",
      "Q^9*S^4 -- q^84 + q^83 + 2*q^82 + 2*q^81 + 2*q^80 + q^79 - q^78 - 4*q^77 - 6*q^76 - 7*q^75 - 7*q^74 - 7*q^73 - 7*q^72 - 9*q^71 - 14*q^70 - 21*q^69 - 30*q^68 - 39*q^67 - 47*q^66 - 49*q^65 - 46*q^64 - 39*q^63 - 30*q^62 - 20*q^61 - 12*q^60 - 5*q^59 - 2*q^58\n",
      "Q^9*S^5 -- -q^89 - q^88 - 2*q^87 - 2*q^86 - 2*q^85 - q^84 + q^83 + 4*q^82 + 6*q^81 + 9*q^80 + 13*q^79 + 19*q^78 + 29*q^77 + 44*q^76 + 63*q^75 + 85*q^74 + 107*q^73 + 122*q^72 + 131*q^71 + 131*q^70 + 120*q^69 + 103*q^68 + 83*q^67 + 59*q^66 + 39*q^65 + 23*q^64 + 12*q^63 + 5*q^62 + 2*q^61\n",
      "Q^9*S^6 -- q^93 + q^92 + 2*q^91 + 2*q^90 + 2*q^89 + 2*q^88 + 2*q^87 - q^86 - 4*q^85 - 11*q^84 - 23*q^83 - 43*q^82 - 68*q^81 - 99*q^80 - 132*q^79 - 163*q^78 - 185*q^77 - 195*q^76 - 193*q^75 - 179*q^74 - 154*q^73 - 123*q^72 - 93*q^71 - 64*q^70 - 41*q^69 - 23*q^68 - 12*q^67 - 5*q^66 - 2*q^65\n",
      "Q^9*S^7 -- -q^96 - q^95 - 2*q^94 - 2*q^93 - 3*q^92 - 2*q^91 + q^90 + 8*q^89 + 19*q^88 + 36*q^87 + 59*q^86 + 87*q^85 + 114*q^84 + 138*q^83 + 156*q^82 + 167*q^81 + 166*q^80 + 153*q^79 + 133*q^78 + 108*q^77 + 83*q^76 + 58*q^75 + 37*q^74 + 22*q^73 + 12*q^72 + 5*q^71 + 2*q^70\n",
      "Q^9*S^8 -- q^98 + q^97 + 2*q^96 - 4*q^94 - 10*q^93 - 17*q^92 - 27*q^91 - 38*q^90 - 52*q^89 - 64*q^88 - 71*q^87 - 74*q^86 - 74*q^85 - 70*q^84 - 62*q^83 - 51*q^82 - 38*q^81 - 27*q^80 - 18*q^79 - 11*q^78 - 5*q^77 - 2*q^76\n",
      "Q^9*S^9 -- -q^99 + 2*q^98 + 4*q^97 + 6*q^96 + 8*q^95 + 10*q^94 + 12*q^93 + 14*q^92 + 16*q^91 + 16*q^90 + 14*q^89 + 12*q^88 + 10*q^87 + 8*q^86 + 6*q^85 + 4*q^84 + 2*q^83\n",
      "Q^9*S^10 -- -q^100 - q^99 - q^98 - q^97 - q^96 - q^95 - q^94 - q^93 - q^92 - q^91\n",
      "Q^8*S^3 -- -q^68 - 2*q^67 - 4*q^66 - 5*q^65 - 7*q^64 - 8*q^63 - 9*q^62 - 7*q^61 - 5*q^60 - 2*q^59 - q^58 + q^57 + 2*q^56 + q^55 - 3*q^54 - q^53\n",
      "Q^9*S^2 -- q^71 + q^70 + 2*q^69 + 2*q^68 + 3*q^67 + 4*q^66 + 5*q^65 + 6*q^64 + 7*q^63 + 8*q^62 + 8*q^61 + 7*q^60 + 6*q^59 + 5*q^58 + 4*q^57 - 2*q^55\n",
      "Q^10*S -- q^72 + 2*q^71 + 3*q^70 + 5*q^69 + 6*q^68 + 8*q^67 + 9*q^66 + 11*q^65 + 11*q^64 + 11*q^63 + 9*q^62 + 8*q^61 + 6*q^60 + 5*q^59 + 3*q^58 + 2*q^57 - q^56\n",
      "Q^8*S^4 -- q^74 + 2*q^73 + 5*q^72 + 8*q^71 + 13*q^70 + 17*q^69 + 22*q^68 + 24*q^67 + 26*q^66 + 24*q^65 + 21*q^64 + 16*q^63 + 15*q^62 + 13*q^61 + 11*q^60 + 8*q^59 + 8*q^58 + 9*q^57 + 7*q^56 + 4*q^55 + q^54\n",
      "Q^8*S^5 -- -q^79 - 2*q^78 - 5*q^77 - 9*q^76 - 15*q^75 - 20*q^74 - 27*q^73 - 32*q^72 - 36*q^71 - 38*q^70 - 41*q^69 - 42*q^68 - 43*q^67 - 41*q^66 - 40*q^65 - 36*q^64 - 33*q^63 - 27*q^62 - 23*q^61 - 17*q^60 - 13*q^59 - 7*q^58 - 4*q^57 - q^56\n",
      "Q^8*S^6 -- q^83 + 2*q^82 + 5*q^81 + 8*q^80 + 13*q^79 + 17*q^78 + 22*q^77 + 26*q^76 + 33*q^75 + 38*q^74 + 47*q^73 + 55*q^72 + 62*q^71 + 66*q^70 + 68*q^69 + 62*q^68 + 55*q^67 + 49*q^66 + 39*q^65 + 29*q^64 + 21*q^63 + 13*q^62 + 7*q^61 + 4*q^60 + q^59\n",
      "Q^8*S^7 -- -q^86 - 2*q^85 - 4*q^84 - 5*q^83 - 7*q^82 - 10*q^81 - 16*q^80 - 21*q^79 - 30*q^78 - 42*q^77 - 57*q^76 - 67*q^75 - 76*q^74 - 79*q^73 - 79*q^72 - 70*q^71 - 60*q^70 - 46*q^69 - 34*q^68 - 22*q^67 - 14*q^66 - 7*q^65 - 4*q^64 - q^63\n",
      "Q^8*S^8 -- q^88 + q^87 + q^86 + 2*q^85 + 7*q^84 + 13*q^83 + 21*q^82 + 30*q^81 + 41*q^80 + 52*q^79 + 59*q^78 + 61*q^77 + 59*q^76 + 54*q^75 + 45*q^74 + 33*q^73 + 23*q^72 + 15*q^71 + 8*q^70 + 4*q^69 + q^68\n",
      "Q^8*S^9 -- -q^88 - 6*q^87 - 9*q^86 - 13*q^85 - 16*q^84 - 20*q^83 - 23*q^82 - 25*q^81 - 22*q^80 - 19*q^79 - 15*q^78 - 12*q^77 - 8*q^76 - 5*q^75 - q^74\n",
      "Q^8*S^10 -- q^90 + 3*q^89 + 3*q^88 + 3*q^87 + 3*q^86 + 3*q^85 + 3*q^84 + 3*q^83 + 3*q^82 + q^81\n",
      "Q^8*S^11 -- -q^90\n",
      "Q^18 -- -q^99\n",
      "Q^17 -- q^98 + q^97 + q^96 + q^95 + q^94 + q^93 + q^92 + q^91 + q^90\n",
      "Q^16 -- -q^96 - q^95 - 2*q^94 - 2*q^93 - 3*q^92 - 3*q^91 - 4*q^90 - 4*q^89 - 4*q^88 - 3*q^87 - 3*q^86 - 2*q^85 - 2*q^84 - q^83 - q^82\n",
      "Q^15 -- q^93 + q^92 + 2*q^91 + 3*q^90 + 4*q^89 + 5*q^88 + 7*q^87 + 7*q^86 + 8*q^85 + 8*q^84 + 8*q^83 + 7*q^82 + 7*q^81 + 5*q^80 + 4*q^79 + 3*q^78 + 2*q^77 + q^76 + q^75\n",
      "Q^14 -- -q^89 - q^88 - 2*q^87 - 3*q^86 - 5*q^85 - 6*q^84 - 8*q^83 - 9*q^82 - 11*q^81 - 11*q^80 - 12*q^79 - 11*q^78 - 11*q^77 - 9*q^76 - 8*q^75 - 6*q^74 - 5*q^73 - 3*q^72 - 2*q^71 - q^70 - q^69\n",
      "Q^13 -- q^84 + q^83 + 2*q^82 + 3*q^81 + 5*q^80 + 6*q^79 + 8*q^78 + 9*q^77 + 11*q^76 + 11*q^75 + 12*q^74 + 11*q^73 + 11*q^72 + 9*q^71 + 8*q^70 + 6*q^69 + 5*q^68 + 3*q^67 + 2*q^66 + q^65 + q^64\n",
      "Q^12 -- -q^78 - q^77 - 2*q^76 - 3*q^75 - 4*q^74 - 5*q^73 - 7*q^72 - 7*q^71 - 8*q^70 - 8*q^69 - 8*q^68 - 7*q^67 - 7*q^66 - 5*q^65 - 4*q^64 - 3*q^63 - 2*q^62 - q^61 - q^60\n",
      "Q^11 -- q^71 + q^70 + 2*q^69 + 2*q^68 + 3*q^67 + 3*q^66 + 4*q^65 + 4*q^64 + 4*q^63 + 3*q^62 + 3*q^61 + 2*q^60 + 2*q^59 + q^58 + q^57\n",
      "Q^10 -- -q^63 - q^62 - q^61 - q^60 - q^59 - q^58 - q^57 - q^56 - q^55\n",
      "Q^9 -- q^54\n",
      "Q^9*S -- -q^63 - q^62 - 2*q^61 - 2*q^60 - 2*q^59 - 2*q^58 - 2*q^57 - 2*q^56 - 2*q^55 - q^54\n",
      "Q^8*S -- q^52\n",
      "Q^8*S^2 -- q^61 + q^60 + q^59 - q^54 - 2*q^53 - q^52\n",
      "Q^7*S^2 -- -q^52 - q^51 + q^49\n",
      "Q^7*S^3 -- q^59 + 2*q^58 + 3*q^57 + 3*q^56 + 3*q^55 + 3*q^54 + 3*q^53 + 2*q^52 - q^50\n",
      "Q^7*S^4 -- -q^65 - 2*q^64 - 4*q^63 - 5*q^62 - 8*q^61 - 10*q^60 - 13*q^59 - 13*q^58 - 13*q^57 - 10*q^56 - 8*q^55 - 4*q^54 - 2*q^53 - 2*q^52 - q^51 + q^50\n",
      "Q^7*S^5 -- q^70 + 2*q^69 + 4*q^68 + 6*q^67 + 10*q^66 + 13*q^65 + 18*q^64 + 21*q^63 + 25*q^62 + 25*q^61 + 24*q^60 + 21*q^59 + 17*q^58 + 9*q^57 + 2*q^56 - q^55 - q^54 - q^53 - q^52 - q^51\n",
      "Q^7*S^6 -- -q^74 - 2*q^73 - 4*q^72 - 6*q^71 - 10*q^70 - 13*q^69 - 18*q^68 - 21*q^67 - 26*q^66 - 29*q^65 - 30*q^64 - 26*q^63 - 19*q^62 - 8*q^61 + 3*q^60 + 10*q^59 + 11*q^58 + 9*q^57 + 6*q^56 + 3*q^55 + q^54 + q^53\n",
      "Q^7*S^7 -- q^77 + 2*q^76 + 4*q^75 + 5*q^74 + 8*q^73 + 10*q^72 + 14*q^71 + 17*q^70 + 20*q^69 + 20*q^68 + 20*q^67 + 13*q^66 + 3*q^65 - 5*q^64 - 11*q^63 - 15*q^62 - 13*q^61 - 10*q^60 - 7*q^59 - 3*q^58 - q^57 - q^56\n",
      "Q^7*S^8 -- -q^79 - 2*q^78 - 3*q^77 - 3*q^76 - 4*q^75 - 7*q^74 - 10*q^73 - 11*q^72 - 12*q^71 - 13*q^70 - 11*q^69 - 8*q^68 - 5*q^67 - q^66 + 2*q^65 + 3*q^64 + 3*q^63 + 2*q^62 + q^61 + q^60\n",
      "Q^7*S^9 -- q^80 + q^79 + q^78 + 3*q^77 + 6*q^76 + 8*q^75 + 10*q^74 + 12*q^73 + 13*q^72 + 11*q^71 + 8*q^70 + 6*q^69 + 4*q^68 + 2*q^67 - q^65\n",
      "Q^6*S^3 -- -q^48 - q^47\n",
      "Q^6*S^4 -- q^53 + 2*q^52 + 3*q^51 + 3*q^50 + 4*q^49 + 3*q^48 + q^47\n",
      "Q^6*S^5 -- -q^57 - 2*q^56 - 5*q^55 - 7*q^54 - 9*q^53 - 8*q^52 - 7*q^51 - 4*q^50 - 2*q^49 + q^48 + 3*q^47 + q^46\n",
      "Q^6*S^6 -- 2*q^60 + 4*q^59 + 7*q^58 + 10*q^57 + 11*q^56 + 11*q^55 + 8*q^54 - q^53 - 9*q^52 - 12*q^51 - 10*q^50 - 7*q^49 - 4*q^48 - q^47\n",
      "Q^6*S^7 -- -q^64 - 2*q^63 - 5*q^62 - 7*q^61 - 10*q^60 - 8*q^59 - 3*q^58 + 8*q^57 + 20*q^56 + 28*q^55 + 28*q^54 + 24*q^53 + 17*q^52 + 8*q^51 + 4*q^50 + q^49\n",
      "Q^6*S^8 -- q^67 + 2*q^66 + 3*q^65 + 4*q^64 + 4*q^63 - q^62 - 8*q^61 - 17*q^60 - 25*q^59 - 28*q^58 - 27*q^57 - 23*q^56 - 15*q^55 - 8*q^54 - 4*q^53 - q^52\n",
      "Q^6*S^9 -- -q^69 - q^68 - q^67 + 2*q^65 + 4*q^64 + 6*q^63 + 9*q^62 + 11*q^61 + 10*q^60 + 8*q^59 + 6*q^58 + 4*q^57 + q^56\n",
      "Q^5*S^4 -- q^45 - q^43 - q^42\n",
      "Q^5*S^5 -- -q^50 - q^49 - q^48 + q^45 + 2*q^44 + q^43\n",
      "Q^5*S^6 -- q^54 + q^53 + 2*q^52 + 2*q^51 + 2*q^50 + q^49 - q^47 - 2*q^46 - q^45 + 2*q^44 + 4*q^43 + 2*q^42\n",
      "Q^5*S^7 -- -q^57 - q^56 - 2*q^55 - 2*q^54 - 2*q^53 - q^52 + q^50 - 6*q^48 - 12*q^47 - 12*q^46 - 9*q^45 - 7*q^44 - 3*q^43\n",
      "Q^5*S^8 -- q^59 + q^58 + q^57 - q^54 + 6*q^52 + 14*q^51 + 19*q^50 + 21*q^49 + 19*q^48 + 12*q^47 + 7*q^46 + 3*q^45\n",
      "Q^5*S^9 -- -q^60 + q^58 + q^57 - 2*q^56 - 6*q^55 - 10*q^54 - 14*q^53 - 16*q^52 - 14*q^51 - 10*q^50 - 6*q^49 - 2*q^48\n",
      "Q^4*S^5 -- q^39\n",
      "Q^4*S^6 -- -q^43 - q^42 - 2*q^41 - 2*q^40 - q^39\n",
      "Q^4*S^7 -- q^46 + q^45 + 3*q^44 + 3*q^43 + 3*q^42 + q^41 + q^39 + 3*q^38 + q^37 + q^35\n",
      "Q^4*S^8 -- -q^48 - q^47 - 2*q^46 - 2*q^45 - q^44 - q^43 - 4*q^42 - 6*q^41 - 5*q^40 - 4*q^39 - 4*q^38 - 2*q^37 - q^36\n",
      "Q^4*S^9 -- q^49 + q^46 + 4*q^45 + 6*q^44 + 8*q^43 + 7*q^42 + 5*q^41 + 3*q^40 + q^39 + q^38\n",
      "Q^3*S^6 -- q^32\n",
      "Q^3*S^7 -- -q^35 - q^34 - q^33\n",
      "Q^3*S^8 -- q^37 + q^36 + q^35 + q^32 - q^30 + 2*q^29 + q^28\n",
      "Q^3*S^9 -- -q^38 - q^35 - q^34 - q^32 - 2*q^31 - 3*q^30 - q^29\n",
      "Q^3*S^10 -- q^37 + q^36 + q^35 + q^34 + q^32 + q^31\n",
      "Q^2*S^9 -- -q^23 + 2*q^22 + 2*q^21\n",
      "Q^2*S^10 -- q^25 - 2*q^23 - 2*q^22\n",
      "Q^2*S^11 -- -q^26 + q^24\n",
      "Q^6*S^10 -- q^69 + q^68 - q^63 - 2*q^62 - q^61\n",
      "Q^5*S^10 -- q^58 + 3*q^57 + 4*q^56 + 4*q^55 + 4*q^54 + 4*q^53 + 2*q^52\n",
      "Q^5*S^11 -- -q^58 - q^57\n",
      "Q^7*S^10 -- -q^80 - 3*q^79 - 4*q^78 - 4*q^77 - 4*q^76 - 4*q^75 - 4*q^74 - 4*q^73 - 2*q^72\n",
      "Q^7*S^11 -- q^80 + q^79\n",
      "Q^4*S^10 -- -q^48 - 3*q^47 - 4*q^46 - 4*q^45 - 4*q^44 - 2*q^43\n",
      "Q^3*S^11 -- -q^38 - q^37\n",
      "Q^4*S^11 -- q^48 + q^47\n",
      "Q^6*S^11 -- -q^70 - q^69\n",
      "S^11 -- q^4\n",
      "Q*S^10 -- q^14 + 2*q^13\n",
      "Q*S^11 -- -q^14\n"
     ]
    }
   ],
   "source": [
    "for k,v in L3.monomial_coefficients().items():\n",
    "    print(f\"{k} -- {v}\")"
   ]
  },
  {
   "cell_type": "code",
   "execution_count": 24,
   "id": "3dab17ce-1f5d-466b-80ea-a09594c94b3c",
   "metadata": {},
   "outputs": [],
   "source": [
    "q,n = var('q,n')\n",
    "coeffs = [\n",
    "    (-q^(19 + 6*n) + q^(22 + 7*n) + 2*q^(23 + 7*n) + q^(24 + 7*n) - q^(26 + 8*n) - q^(27 + 8*n) - q^(28 + 8*n) + q^(29 + 9*n) + # f(n)\n",
    "     q^(30 + 9*n) + q^(31 + 9*n) + q^(34 + 10*n) + q^(35 + 10*n) + q^(36 + 10*n) - q^(37 + 11*n) - q^(38 + 11*n) - q^(39 + 11*n) + \n",
    "     q^(41 + 12*n) + q^(42 + 12*n) + q^(43 + 12*n)), \n",
    "   (-q^(19 + 5*n) + q^(20 + 6*n) + q^(21 + 6*n) + q^(22 + 6*n) - q^(20 + 7*n) - q^(24 + 7*n) + q^(27 + 7*n) + q^(23 + 8*n) + # f(n+1)\n",
    "     2*q^(24 + 8*n) + 2*q^(25 + 8*n) + 2*q^(26 + 8*n) + 2*q^(27 + 8*n) + q^(28 + 8*n) - q^(30 + 8*n) - q^(31 + 8*n) - q^(27 + 9*n) - \n",
    "     q^(28 + 9*n) - q^(29 + 9*n) + q^(32 + 9*n) + q^(33 + 9*n) + q^(34 + 9*n) + q^(30 + 10*n) + q^(31 + 10*n) + q^(32 + 10*n) + \n",
    "     q^(33 + 10*n) + q^(34 + 10*n) + q^(35 + 10*n) + q^(35 + 11*n) + q^(36 + 11*n) + q^(37 + 11*n) + q^(38 + 11*n) + q^(39 + 11*n) + \n",
    "     q^(40 + 11*n) - q^(38 + 12*n) - q^(39 + 12*n) - q^(40 + 12*n) + q^(42 + 13*n) + q^(43 + 13*n) + q^(44 + 13*n) + q^(45 + 13*n) + \n",
    "     q^(46 + 13*n) + q^(47 + 13*n)), \n",
    "   (q^(12 + 3*n) + q^(13 + 3*n) - 2*q^(15 + 4*n) - 3*q^(16 + 4*n) - 2*q^(17 + 4*n) - q^(18 + 4*n) + q^(18 + 5*n) + 2*q^(19 + 5*n) + # f(n+2)\n",
    "     2*q^(20 + 5*n) + q^(21 + 5*n) + q^(22 + 5*n) - q^(19 + 6*n) - q^(20 + 6*n) - 3*q^(21 + 6*n) - 3*q^(22 + 6*n) - 3*q^(23 + 6*n) - \n",
    "     q^(24 + 6*n) - q^(25 + 6*n) + q^(21 + 7*n) + 2*q^(22 + 7*n) + 3*q^(23 + 7*n) + 3*q^(24 + 7*n) + 3*q^(25 + 7*n) + q^(26 + 7*n) - \n",
    "     2*q^(28 + 7*n) - q^(29 + 7*n) - q^(30 + 7*n) - q^(24 + 8*n) - 2*q^(25 + 8*n) - 3*q^(26 + 8*n) - 2*q^(27 + 8*n) - 3*q^(28 + 8*n) - \n",
    "     q^(29 + 8*n) + 2*q^(31 + 8*n) + 2*q^(32 + 8*n) + q^(33 + 8*n) + q^(27 + 9*n) + 3*q^(28 + 9*n) + 4*q^(29 + 9*n) + 4*q^(30 + 9*n) + \n",
    "     2*q^(31 + 9*n) + q^(32 + 9*n) - 2*q^(33 + 9*n) - 2*q^(34 + 9*n) - 4*q^(35 + 9*n) - 2*q^(36 + 9*n) - q^(37 + 9*n) - q^(31 + 10*n) - \n",
    "     q^(32 + 10*n) - q^(33 + 10*n) + q^(34 + 10*n) + 2*q^(35 + 10*n) + 3*q^(36 + 10*n) + 3*q^(37 + 10*n) + 2*q^(38 + 10*n) + q^(39 + 10*n) + \n",
    "     q^(35 + 11*n) - 2*q^(38 + 11*n) - 2*q^(39 + 11*n) - 3*q^(40 + 11*n) - 2*q^(41 + 11*n) - q^(42 + 11*n) + q^(39 + 12*n) + 2*q^(40 + 12*n) + \n",
    "     3*q^(41 + 12*n) + 3*q^(42 + 12*n) + 2*q^(43 + 12*n) + q^(44 + 12*n) - q^(43 + 13*n) - q^(44 + 13*n) - q^(45 + 13*n) + q^(47 + 14*n) + \n",
    "     q^(48 + 14*n) + q^(49 + 14*n)), \n",
    "   (q^(10 + 2*n) + q^(12 + 3*n) - q^(12 + 4*n) - 2*q^(13 + 4*n) - 4*q^(14 + 4*n) - 5*q^(15 + 4*n) - 5*q^(16 + 4*n) - 2*q^(17 + 4*n) - # f(n+3)\n",
    "     q^(18 + 4*n) + q^(15 + 5*n) + 2*q^(16 + 5*n) + 4*q^(17 + 5*n) + 5*q^(18 + 5*n) + 6*q^(19 + 5*n) + 5*q^(20 + 5*n) + 3*q^(21 + 5*n) + \n",
    "     q^(22 + 5*n) - q^(18 + 6*n) - 4*q^(19 + 6*n) - 6*q^(20 + 6*n) - 8*q^(21 + 6*n) - 7*q^(22 + 6*n) - 7*q^(23 + 6*n) - 4*q^(24 + 6*n) - \n",
    "     2*q^(25 + 6*n) + q^(22 + 7*n) + 2*q^(23 + 7*n) + 2*q^(24 + 7*n) + q^(25 + 7*n) - q^(28 + 7*n) + q^(25 + 8*n) + q^(26 + 8*n) + \n",
    "     2*q^(27 + 8*n) + 2*q^(28 + 8*n) + 3*q^(29 + 8*n) + 3*q^(30 + 8*n) + 3*q^(31 + 8*n) + 2*q^(32 + 8*n) - q^(28 + 9*n) - 3*q^(29 + 9*n) - \n",
    "     5*q^(30 + 9*n) - 7*q^(31 + 9*n) - 7*q^(32 + 9*n) - 7*q^(33 + 9*n) - 5*q^(34 + 9*n) - 4*q^(35 + 9*n) - q^(36 + 9*n) + q^(32 + 10*n) + \n",
    "     3*q^(33 + 10*n) + 5*q^(34 + 10*n) + 6*q^(35 + 10*n) + 4*q^(36 + 10*n) + 3*q^(37 + 10*n) + q^(38 + 10*n) + q^(39 + 10*n) - q^(36 + 11*n) - \n",
    "     2*q^(37 + 11*n) - 3*q^(38 + 11*n) - 2*q^(39 + 11*n) - q^(40 + 11*n) - q^(41 + 12*n) - q^(42 + 12*n) - 2*q^(43 + 12*n) - q^(44 + 12*n) - \n",
    "     q^(45 + 12*n) + q^(44 + 13*n) + 2*q^(45 + 13*n) + 2*q^(46 + 13*n) + q^(47 + 13*n) - q^(48 + 14*n) - q^(49 + 14*n) - q^(50 + 14*n)),\n",
    "    (-1 + q^(2 + n) + 2*q^(3 + n) + 2*q^(4 + n) - q^(5 + 2*n) - 2*q^(6 + 2*n) - 3*q^(7 + 2*n) - q^(8 + 2*n) + q^(7 + 3*n) + q^(8 + 3*n) + # f(n+4)\n",
    "     2*q^(9 + 3*n) + q^(10 + 3*n) + q^(11 + 3*n) - q^(13 + 5*n) - q^(14 + 5*n) - 2*q^(15 + 5*n) - q^(16 + 5*n) - q^(17 + 5*n) + q^(16 + 6*n) + \n",
    "     2*q^(17 + 6*n) + 2*q^(18 + 6*n) + q^(19 + 6*n) - q^(20 + 7*n) - q^(21 + 7*n) - q^(22 + 7*n))\n",
    "]"
   ]
  },
  {
   "cell_type": "code",
   "execution_count": 17,
   "id": "73ccab04-298e-4a9c-bda9-a53775c94bdc",
   "metadata": {},
   "outputs": [],
   "source": [
    "def coeff_to_operator(coeff, dest_q, dest_Q):\n",
    "    import re\n",
    "    opers = coeff.factor().operands()\n",
    "    if len(opers) == 2:\n",
    "        big, small = opers\n",
    "        extra = 1\n",
    "    else:\n",
    "        big, small, extra = opers\n",
    "    string_big = str(big.simplify_full())\n",
    "    string_small = str(small.simplify_full())\n",
    "    regs = [(r\"q\\^\\((\\d*)\\*n\\)\", r\"Q^(\\1)\"),\n",
    "            (r\"q\\^\\((\\d*)\\*n \\+ (\\d*)\\)\", r\"q^(\\2)*Q^(\\1)\"),\n",
    "            (r\"q\\^\\(n \\+ (\\d*)\\)\", r\"q^(\\1)*Q^(1)\"),\n",
    "            (r\"q\\^n\", r\"Q^(1)\"),\n",
    "            (r\"\\^\", r\"**\")]\n",
    "    def apply_regs(regs, string):\n",
    "        for reg in regs:\n",
    "            string = re.sub(*reg, string)\n",
    "        return string\n",
    "    \n",
    "    q = dest_q; Q = dest_Q\n",
    "    return dest_Q.parent()(extra)*eval(apply_regs(regs, string_big)) * eval(apply_regs(regs, string_small))"
   ]
  },
  {
   "cell_type": "code",
   "execution_count": 15,
   "id": "a4dc5241",
   "metadata": {},
   "outputs": [],
   "source": [
    "coeffs = [\n",
    "    -q^(3*n)*(1 + q^n)*(-q + q^n)*(-q^3 + q^(2*n))*(1 - q^n + q^(2*n)), # f(n-2)\n",
    "    -q^(2 + 2*n)*(q^2 + q^(3*n) - q^(5*n) + q^(6*n) + q^(2 + n) + q^(3 + n) - q^(1 + 2*n) - q^(2 + 2*n) + q^(1 + 3*n) + q^(1 + 4*n) +  q^(2 + 4*n) - q^(1 + 5*n)), # f(n-1)\n",
    "    q^2*(q^2 + q^(2*n) - q^(1 + n)) #f(n)\n",
    "]"
   ]
  },
  {
   "cell_type": "code",
   "execution_count": 12,
   "id": "ff36b084-4f83-4278-a7cc-86c2660c306f",
   "metadata": {},
   "outputs": [
    {
     "data": {
      "text/html": [
       "<html>\\(\\displaystyle q^{4} - q^{3} Q + \\left(-q^{4} + q^{2}\\right) Q^{2} + \\left(-q^{5} - q^{4}\\right) Q^{3} + \\left(q^{4} + q^{3}\\right) Q^{4} + \\left(-q^{3} - q^{2}\\right) Q^{5} - q^{5} Q^{3}\\mathit{Si}^{2} + \\left(-q^{4} - q^{3}\\right) Q^{6} + q^{5} Q^{4}\\mathit{Si}^{2} + \\left(q^{3} + q^{2}\\right) Q^{7} + \\left(-q^{5} + q^{3} + q^{2}\\right) Q^{5}\\mathit{Si}^{2} - q^{2} Q^{8} + \\left(-q^{3} - q^{2}\\right) Q^{6}\\mathit{Si}^{2} + \\left(q^{3} + q^{2} - 1\\right) Q^{7}\\mathit{Si}^{2} + Q^{8}\\mathit{Si}^{2} - Q^{9}\\mathit{Si}^{2}\\)</html>"
      ],
      "text/latex": [
       "$\\displaystyle q^{4} - q^{3} Q + \\left(-q^{4} + q^{2}\\right) Q^{2} + \\left(-q^{5} - q^{4}\\right) Q^{3} + \\left(q^{4} + q^{3}\\right) Q^{4} + \\left(-q^{3} - q^{2}\\right) Q^{5} - q^{5} Q^{3}\\mathit{Si}^{2} + \\left(-q^{4} - q^{3}\\right) Q^{6} + q^{5} Q^{4}\\mathit{Si}^{2} + \\left(q^{3} + q^{2}\\right) Q^{7} + \\left(-q^{5} + q^{3} + q^{2}\\right) Q^{5}\\mathit{Si}^{2} - q^{2} Q^{8} + \\left(-q^{3} - q^{2}\\right) Q^{6}\\mathit{Si}^{2} + \\left(q^{3} + q^{2} - 1\\right) Q^{7}\\mathit{Si}^{2} + Q^{8}\\mathit{Si}^{2} - Q^{9}\\mathit{Si}^{2}$"
      ],
      "text/plain": [
       "q^4 - q^3*Q + (-q^4+q^2)*Q^2 + (-q^5-q^4)*Q^3 + (q^4+q^3)*Q^4 + (-q^3-q^2)*Q^5 - q^5*Q^3*Si^2 + (-q^4-q^3)*Q^6 + q^5*Q^4*Si^2 + (q^3+q^2)*Q^7 + (-q^5+q^3+q^2)*Q^5*Si^2 - q^2*Q^8 + (-q^3-q^2)*Q^6*Si^2 + (q^3+q^2-1)*Q^7*Si^2 + Q^8*Si^2 - Q^9*Si^2"
      ]
     },
     "execution_count": 12,
     "metadata": {},
     "output_type": "execute_result"
    }
   ],
   "source": [
    "L"
   ]
  },
  {
   "cell_type": "markdown",
   "id": "2c3fbdbb",
   "metadata": {},
   "source": [
    "Second (and smaller example):"
   ]
  },
  {
   "cell_type": "code",
   "execution_count": 37,
   "id": "dedc1e9a",
   "metadata": {},
   "outputs": [],
   "source": [
    "coeffs2 = [\n",
    "    q^(3*n + 6)*(1 - q^(1 + n))*(q + q^(3*n + 6) - q^(3 + n)),\n",
    "    q^(-3 + n)*(-q^7 + q^(8*n + 16) + q^(8 + n) + q^(9 + n) + q^(8 + 2*n) +\n",
    "        q^(9 + 2*n) - q^(9 + 3*n) - 2*q^(10 + 3*n) - 2*q^(11 + 3*n) - \n",
    "        q^(12 + 3*n) + q^(11 + 4*n) + q^(12 + 4*n) + q^(13 + 4*n) + \n",
    "        q^(11 + 5*n) + q^(12 + 5*n) + q^(13 + 5*n) + q^(14 + 5*n) - \n",
    "        q^(13 + 6*n) - q^(14 + 6*n) - q^(15 + 6*n)),\n",
    "    -(q^4 + q^(3*(n+2)) - q^(5 + n))    \n",
    "]"
   ]
  },
  {
   "cell_type": "code",
   "execution_count": 38,
   "id": "aacfc60a",
   "metadata": {},
   "outputs": [
    {
     "ename": "ValueError",
     "evalue": "too many values to unpack (expected 3)",
     "output_type": "error",
     "traceback": [
      "\u001b[0;31m---------------------------------------------------------------------------\u001b[0m",
      "\u001b[0;31mValueError\u001b[0m                                Traceback (most recent call last)",
      "Input \u001b[0;32mIn [38]\u001b[0m, in \u001b[0;36m<cell line: 1>\u001b[0;34m()\u001b[0m\n\u001b[0;32m----> 1\u001b[0m LL \u001b[38;5;241m=\u001b[39m \u001b[38;5;28msum\u001b[39m([coeff_to_operator(coeffs2[i], A(q), A(Q))\u001b[38;5;241m*\u001b[39mS\u001b[38;5;241m*\u001b[39m\u001b[38;5;241m*\u001b[39mi \u001b[38;5;28;01mfor\u001b[39;00m i \u001b[38;5;129;01min\u001b[39;00m \u001b[38;5;28mrange\u001b[39m(\u001b[38;5;28mlen\u001b[39m(coeffs2))])\n",
      "Input \u001b[0;32mIn [38]\u001b[0m, in \u001b[0;36m<listcomp>\u001b[0;34m(.0)\u001b[0m\n\u001b[0;32m----> 1\u001b[0m LL \u001b[38;5;241m=\u001b[39m \u001b[38;5;28msum\u001b[39m([\u001b[43mcoeff_to_operator\u001b[49m\u001b[43m(\u001b[49m\u001b[43mcoeffs2\u001b[49m\u001b[43m[\u001b[49m\u001b[43mi\u001b[49m\u001b[43m]\u001b[49m\u001b[43m,\u001b[49m\u001b[43m \u001b[49m\u001b[43mA\u001b[49m\u001b[43m(\u001b[49m\u001b[43mq\u001b[49m\u001b[43m)\u001b[49m\u001b[43m,\u001b[49m\u001b[43m \u001b[49m\u001b[43mA\u001b[49m\u001b[43m(\u001b[49m\u001b[43mQ\u001b[49m\u001b[43m)\u001b[49m\u001b[43m)\u001b[49m\u001b[38;5;241m*\u001b[39mS\u001b[38;5;241m*\u001b[39m\u001b[38;5;241m*\u001b[39mi \u001b[38;5;28;01mfor\u001b[39;00m i \u001b[38;5;129;01min\u001b[39;00m \u001b[38;5;28mrange\u001b[39m(\u001b[38;5;28mlen\u001b[39m(coeffs2))])\n",
      "Input \u001b[0;32mIn [31]\u001b[0m, in \u001b[0;36mcoeff_to_operator\u001b[0;34m(coeff, dest_q, dest_Q)\u001b[0m\n\u001b[1;32m      6\u001b[0m     extra \u001b[38;5;241m=\u001b[39m Integer(\u001b[38;5;241m1\u001b[39m)\n\u001b[1;32m      7\u001b[0m \u001b[38;5;28;01melse\u001b[39;00m:\n\u001b[0;32m----> 8\u001b[0m     big, small, extra \u001b[38;5;241m=\u001b[39m opers\n\u001b[1;32m      9\u001b[0m string_big \u001b[38;5;241m=\u001b[39m \u001b[38;5;28mstr\u001b[39m(big\u001b[38;5;241m.\u001b[39msimplify_full())\n\u001b[1;32m     10\u001b[0m string_small \u001b[38;5;241m=\u001b[39m \u001b[38;5;28mstr\u001b[39m(small\u001b[38;5;241m.\u001b[39msimplify_full())\n",
      "\u001b[0;31mValueError\u001b[0m: too many values to unpack (expected 3)"
     ]
    }
   ],
   "source": [
    "LL = sum([coeff_to_operator(coeffs2[i], A(q), A(Q))*S^i for i in range(len(coeffs2))]);"
   ]
  },
  {
   "cell_type": "markdown",
   "id": "e56672ff",
   "metadata": {},
   "source": [
    "## Generic $q$-binomial coefficients"
   ]
  },
  {
   "cell_type": "code",
   "execution_count": 21,
   "id": "a7b95079",
   "metadata": {},
   "outputs": [],
   "source": [
    "B2 = QBinomialBasis(a=2)"
   ]
  },
  {
   "cell_type": "code",
   "execution_count": 22,
   "id": "8d692d95",
   "metadata": {},
   "outputs": [
    {
     "data": {
      "text/html": [
       "<html>\\(\\displaystyle \\left(\\begin{array}{rrrrr}\n",
       "1 & q & q^{2} & q^{3} & q^{4} \\\\\n",
       "0 & q^{2} + q & q^{5} + q^{4} + q^{3} + q^{2} & q^{8} + q^{7} + q^{6} + q^{5} + q^{4} + q^{3} & q^{11} + q^{10} + q^{9} + q^{8} + q^{7} + q^{6} + q^{5} + q^{4} \\\\\n",
       "0 & q & q^{6} + q^{5} + 2 q^{4} + q^{3} + q^{2} & q^{11} + q^{10} + 2 q^{9} + 2 q^{8} + 3 q^{7} + 2 q^{6} + 2 q^{5} + q^{4} + q^{3} & q^{16} + q^{15} + 2 q^{14} + 2 q^{13} + 3 q^{12} + 3 q^{11} + 4 q^{10} + 3 q^{9} + 3 q^{8} + 2 q^{7} + 2 q^{6} + q^{5} + q^{4} \\\\\n",
       "0 & 0 & q^{5} + q^{4} + q^{3} + q^{2} & q^{12} + q^{11} + 2 q^{10} + 3 q^{9} + 3 q^{8} + 3 q^{7} + 3 q^{6} + 2 q^{5} + q^{4} + q^{3} & q^{19} + q^{18} + 2 q^{17} + 3 q^{16} + 4 q^{15} + 5 q^{14} + 6 q^{13} + 6 q^{12} + 6 q^{11} + 6 q^{10} + 5 q^{9} + 4 q^{8} + 3 q^{7} + 2 q^{6} + q^{5} + q^{4} \\\\\n",
       "0 & 0 & q^{2} & q^{11} + q^{10} + 2 q^{9} + 2 q^{8} + 3 q^{7} + 2 q^{6} + 2 q^{5} + q^{4} + q^{3} & q^{20} + q^{19} + 2 q^{18} + 3 q^{17} + 5 q^{16} + 5 q^{15} + 7 q^{14} + 7 q^{13} + 8 q^{12} + 7 q^{11} + 7 q^{10} + 5 q^{9} + 5 q^{8} + 3 q^{7} + 2 q^{6} + q^{5} + q^{4}\n",
       "\\end{array}\\right)\\)</html>"
      ],
      "text/latex": [
       "$\\displaystyle \\left(\\begin{array}{rrrrr}\n",
       "1 & q & q^{2} & q^{3} & q^{4} \\\\\n",
       "0 & q^{2} + q & q^{5} + q^{4} + q^{3} + q^{2} & q^{8} + q^{7} + q^{6} + q^{5} + q^{4} + q^{3} & q^{11} + q^{10} + q^{9} + q^{8} + q^{7} + q^{6} + q^{5} + q^{4} \\\\\n",
       "0 & q & q^{6} + q^{5} + 2 q^{4} + q^{3} + q^{2} & q^{11} + q^{10} + 2 q^{9} + 2 q^{8} + 3 q^{7} + 2 q^{6} + 2 q^{5} + q^{4} + q^{3} & q^{16} + q^{15} + 2 q^{14} + 2 q^{13} + 3 q^{12} + 3 q^{11} + 4 q^{10} + 3 q^{9} + 3 q^{8} + 2 q^{7} + 2 q^{6} + q^{5} + q^{4} \\\\\n",
       "0 & 0 & q^{5} + q^{4} + q^{3} + q^{2} & q^{12} + q^{11} + 2 q^{10} + 3 q^{9} + 3 q^{8} + 3 q^{7} + 3 q^{6} + 2 q^{5} + q^{4} + q^{3} & q^{19} + q^{18} + 2 q^{17} + 3 q^{16} + 4 q^{15} + 5 q^{14} + 6 q^{13} + 6 q^{12} + 6 q^{11} + 6 q^{10} + 5 q^{9} + 4 q^{8} + 3 q^{7} + 2 q^{6} + q^{5} + q^{4} \\\\\n",
       "0 & 0 & q^{2} & q^{11} + q^{10} + 2 q^{9} + 2 q^{8} + 3 q^{7} + 2 q^{6} + 2 q^{5} + q^{4} + q^{3} & q^{20} + q^{19} + 2 q^{18} + 3 q^{17} + 5 q^{16} + 5 q^{15} + 7 q^{14} + 7 q^{13} + 8 q^{12} + 7 q^{11} + 7 q^{10} + 5 q^{9} + 5 q^{8} + 3 q^{7} + 2 q^{6} + q^{5} + q^{4}\n",
       "\\end{array}\\right)$"
      ],
      "text/plain": [
       "[                                                                                                                                       1                                                                                                                                        q                                                                                                                                      q^2                                                                                                                                      q^3                                                                                                                                      q^4]\n",
       "[                                                                                                                                       0                                                                                                                                  q^2 + q                                                                                                                    q^5 + q^4 + q^3 + q^2                                                                                                        q^8 + q^7 + q^6 + q^5 + q^4 + q^3                                                                                          q^11 + q^10 + q^9 + q^8 + q^7 + q^6 + q^5 + q^4]\n",
       "[                                                                                                                                       0                                                                                                                                        q                                                                                                            q^6 + q^5 + 2*q^4 + q^3 + q^2                                                                          q^11 + q^10 + 2*q^9 + 2*q^8 + 3*q^7 + 2*q^6 + 2*q^5 + q^4 + q^3                                     q^16 + q^15 + 2*q^14 + 2*q^13 + 3*q^12 + 3*q^11 + 4*q^10 + 3*q^9 + 3*q^8 + 2*q^7 + 2*q^6 + q^5 + q^4]\n",
       "[                                                                                                                                       0                                                                                                                                        0                                                                                                                    q^5 + q^4 + q^3 + q^2                                                                 q^12 + q^11 + 2*q^10 + 3*q^9 + 3*q^8 + 3*q^7 + 3*q^6 + 2*q^5 + q^4 + q^3          q^19 + q^18 + 2*q^17 + 3*q^16 + 4*q^15 + 5*q^14 + 6*q^13 + 6*q^12 + 6*q^11 + 6*q^10 + 5*q^9 + 4*q^8 + 3*q^7 + 2*q^6 + q^5 + q^4]\n",
       "[                                                                                                                                       0                                                                                                                                        0                                                                                                                                      q^2                                                                          q^11 + q^10 + 2*q^9 + 2*q^8 + 3*q^7 + 2*q^6 + 2*q^5 + q^4 + q^3 q^20 + q^19 + 2*q^18 + 3*q^17 + 5*q^16 + 5*q^15 + 7*q^14 + 7*q^13 + 8*q^12 + 7*q^11 + 7*q^10 + 5*q^9 + 5*q^8 + 3*q^7 + 2*q^6 + q^5 + q^4]"
      ]
     },
     "execution_count": 22,
     "metadata": {},
     "output_type": "execute_result"
    }
   ],
   "source": [
    "B2.mult_in(B2.QPower()).functional_matrix(5)"
   ]
  },
  {
   "cell_type": "code",
   "execution_count": 27,
   "id": "3c00b88c",
   "metadata": {},
   "outputs": [
    {
     "data": {
      "text/html": [
       "<html>\\(\\displaystyle \\left(\\begin{array}{rrrrr}\n",
       "0 & 2 q + 2 & 2 q^{3} + 2 q^{2} + 2 q + 2 & 2 q^{5} + 2 q^{4} + 2 q^{3} + 2 q^{2} + 2 q + 2 & 2 q^{7} + 2 q^{6} + 2 q^{5} + 2 q^{4} + 2 q^{3} + 2 q^{2} + 2 q + 2 \\\\\n",
       "0 & q^{2} + q & q^{6} + 2 q^{5} + 3 q^{4} + 3 q^{3} + 2 q^{2} + q & q^{10} + 2 q^{9} + 3 q^{8} + 4 q^{7} + 5 q^{6} + 5 q^{5} + 4 q^{4} + 3 q^{3} + 2 q^{2} + q & q^{14} + 2 q^{13} + 3 q^{12} + 4 q^{11} + 5 q^{10} + 6 q^{9} + 7 q^{8} + 7 q^{7} + 6 q^{6} + 5 q^{5} + 4 q^{4} + 3 q^{3} + 2 q^{2} + q \\\\\n",
       "0 & 0 & q^{7} + q^{6} + 2 q^{5} + 2 q^{4} + q^{3} + q^{2} & q^{13} + q^{12} + 3 q^{11} + 4 q^{10} + 5 q^{9} + 6 q^{8} + 6 q^{7} + 5 q^{6} + 4 q^{5} + 3 q^{4} + q^{3} + q^{2} & q^{19} + q^{18} + 3 q^{17} + 4 q^{16} + 6 q^{15} + 8 q^{14} + 10 q^{13} + 11 q^{12} + 12 q^{11} + 12 q^{10} + 11 q^{9} + 10 q^{8} + 8 q^{7} + 6 q^{6} + 4 q^{5} + 3 q^{4} + q^{3} + q^{2} \\\\\n",
       "0 & 0 & q^{6} + q^{3} & q^{14} + q^{13} + 2 q^{12} + 3 q^{11} + 4 q^{10} + 4 q^{9} + 4 q^{8} + 4 q^{7} + 3 q^{6} + 2 q^{5} + q^{4} + q^{3} & q^{22} + q^{21} + 2 q^{20} + 4 q^{19} + 6 q^{18} + 7 q^{17} + 10 q^{16} + 12 q^{15} + 13 q^{14} + 14 q^{13} + 14 q^{12} + 13 q^{11} + 12 q^{10} + 10 q^{9} + 7 q^{8} + 6 q^{7} + 4 q^{6} + 2 q^{5} + q^{4} + q^{3} \\\\\n",
       "0 & 0 & 0 & q^{13} + q^{12} + q^{11} + q^{10} + 2 q^{9} + 2 q^{8} + q^{7} + q^{6} + q^{5} + q^{4} & q^{23} + q^{22} + 2 q^{21} + 3 q^{20} + 5 q^{19} + 6 q^{18} + 8 q^{17} + 9 q^{16} + 10 q^{15} + 11 q^{14} + 11 q^{13} + 10 q^{12} + 9 q^{11} + 8 q^{10} + 6 q^{9} + 5 q^{8} + 3 q^{7} + 2 q^{6} + q^{5} + q^{4}\n",
       "\\end{array}\\right)\\)</html>"
      ],
      "text/latex": [
       "$\\displaystyle \\left(\\begin{array}{rrrrr}\n",
       "0 & 2 q + 2 & 2 q^{3} + 2 q^{2} + 2 q + 2 & 2 q^{5} + 2 q^{4} + 2 q^{3} + 2 q^{2} + 2 q + 2 & 2 q^{7} + 2 q^{6} + 2 q^{5} + 2 q^{4} + 2 q^{3} + 2 q^{2} + 2 q + 2 \\\\\n",
       "0 & q^{2} + q & q^{6} + 2 q^{5} + 3 q^{4} + 3 q^{3} + 2 q^{2} + q & q^{10} + 2 q^{9} + 3 q^{8} + 4 q^{7} + 5 q^{6} + 5 q^{5} + 4 q^{4} + 3 q^{3} + 2 q^{2} + q & q^{14} + 2 q^{13} + 3 q^{12} + 4 q^{11} + 5 q^{10} + 6 q^{9} + 7 q^{8} + 7 q^{7} + 6 q^{6} + 5 q^{5} + 4 q^{4} + 3 q^{3} + 2 q^{2} + q \\\\\n",
       "0 & 0 & q^{7} + q^{6} + 2 q^{5} + 2 q^{4} + q^{3} + q^{2} & q^{13} + q^{12} + 3 q^{11} + 4 q^{10} + 5 q^{9} + 6 q^{8} + 6 q^{7} + 5 q^{6} + 4 q^{5} + 3 q^{4} + q^{3} + q^{2} & q^{19} + q^{18} + 3 q^{17} + 4 q^{16} + 6 q^{15} + 8 q^{14} + 10 q^{13} + 11 q^{12} + 12 q^{11} + 12 q^{10} + 11 q^{9} + 10 q^{8} + 8 q^{7} + 6 q^{6} + 4 q^{5} + 3 q^{4} + q^{3} + q^{2} \\\\\n",
       "0 & 0 & q^{6} + q^{3} & q^{14} + q^{13} + 2 q^{12} + 3 q^{11} + 4 q^{10} + 4 q^{9} + 4 q^{8} + 4 q^{7} + 3 q^{6} + 2 q^{5} + q^{4} + q^{3} & q^{22} + q^{21} + 2 q^{20} + 4 q^{19} + 6 q^{18} + 7 q^{17} + 10 q^{16} + 12 q^{15} + 13 q^{14} + 14 q^{13} + 14 q^{12} + 13 q^{11} + 12 q^{10} + 10 q^{9} + 7 q^{8} + 6 q^{7} + 4 q^{6} + 2 q^{5} + q^{4} + q^{3} \\\\\n",
       "0 & 0 & 0 & q^{13} + q^{12} + q^{11} + q^{10} + 2 q^{9} + 2 q^{8} + q^{7} + q^{6} + q^{5} + q^{4} & q^{23} + q^{22} + 2 q^{21} + 3 q^{20} + 5 q^{19} + 6 q^{18} + 8 q^{17} + 9 q^{16} + 10 q^{15} + 11 q^{14} + 11 q^{13} + 10 q^{12} + 9 q^{11} + 8 q^{10} + 6 q^{9} + 5 q^{8} + 3 q^{7} + 2 q^{6} + q^{5} + q^{4}\n",
       "\\end{array}\\right)$"
      ],
      "text/plain": [
       "[                                                                                                                                                                         0                                                                                                                                                                    2*q + 2                                                                                                                                                    2*q^3 + 2*q^2 + 2*q + 2                                                                                                                                    2*q^5 + 2*q^4 + 2*q^3 + 2*q^2 + 2*q + 2                                                                                                                    2*q^7 + 2*q^6 + 2*q^5 + 2*q^4 + 2*q^3 + 2*q^2 + 2*q + 2]\n",
       "[                                                                                                                                                                         0                                                                                                                                                                    q^2 + q                                                                                                                                    q^6 + 2*q^5 + 3*q^4 + 3*q^3 + 2*q^2 + q                                                                                                   q^10 + 2*q^9 + 3*q^8 + 4*q^7 + 5*q^6 + 5*q^5 + 4*q^4 + 3*q^3 + 2*q^2 + q                                                               q^14 + 2*q^13 + 3*q^12 + 4*q^11 + 5*q^10 + 6*q^9 + 7*q^8 + 7*q^7 + 6*q^6 + 5*q^5 + 4*q^4 + 3*q^3 + 2*q^2 + q]\n",
       "[                                                                                                                                                                         0                                                                                                                                                                          0                                                                                                                                      q^7 + q^6 + 2*q^5 + 2*q^4 + q^3 + q^2                                                                                  q^13 + q^12 + 3*q^11 + 4*q^10 + 5*q^9 + 6*q^8 + 6*q^7 + 5*q^6 + 4*q^5 + 3*q^4 + q^3 + q^2                      q^19 + q^18 + 3*q^17 + 4*q^16 + 6*q^15 + 8*q^14 + 10*q^13 + 11*q^12 + 12*q^11 + 12*q^10 + 11*q^9 + 10*q^8 + 8*q^7 + 6*q^6 + 4*q^5 + 3*q^4 + q^3 + q^2]\n",
       "[                                                                                                                                                                         0                                                                                                                                                                          0                                                                                                                                                                  q^6 + q^3                                                                                 q^14 + q^13 + 2*q^12 + 3*q^11 + 4*q^10 + 4*q^9 + 4*q^8 + 4*q^7 + 3*q^6 + 2*q^5 + q^4 + q^3 q^22 + q^21 + 2*q^20 + 4*q^19 + 6*q^18 + 7*q^17 + 10*q^16 + 12*q^15 + 13*q^14 + 14*q^13 + 14*q^12 + 13*q^11 + 12*q^10 + 10*q^9 + 7*q^8 + 6*q^7 + 4*q^6 + 2*q^5 + q^4 + q^3]\n",
       "[                                                                                                                                                                         0                                                                                                                                                                          0                                                                                                                                                                          0                                                                                                          q^13 + q^12 + q^11 + q^10 + 2*q^9 + 2*q^8 + q^7 + q^6 + q^5 + q^4    q^23 + q^22 + 2*q^21 + 3*q^20 + 5*q^19 + 6*q^18 + 8*q^17 + 9*q^16 + 10*q^15 + 11*q^14 + 11*q^13 + 10*q^12 + 9*q^11 + 8*q^10 + 6*q^9 + 5*q^8 + 3*q^7 + 2*q^6 + q^5 + q^4]"
      ]
     },
     "execution_count": 27,
     "metadata": {},
     "output_type": "execute_result"
    }
   ],
   "source": [
    "Matrix([[((B2.QPower(2) + B2.QPower())*B2.shift(1))[i][j] for j in range(5)] for i in range(5)])"
   ]
  },
  {
   "cell_type": "code",
   "execution_count": null,
   "id": "fea81ae0",
   "metadata": {},
   "outputs": [],
   "source": []
  }
 ],
 "metadata": {
  "kernelspec": {
   "display_name": "SageMath 9.7",
   "language": "sage",
   "name": "sagemath"
  },
  "language_info": {
   "codemirror_mode": {
    "name": "ipython",
    "version": 3
   },
   "file_extension": ".py",
   "mimetype": "text/x-python",
   "name": "python",
   "nbconvert_exporter": "python",
   "pygments_lexer": "ipython3",
   "version": "3.8.10"
  }
 },
 "nbformat": 4,
 "nbformat_minor": 5
}
