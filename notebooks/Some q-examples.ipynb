{
 "cells": [
  {
   "cell_type": "markdown",
   "id": "5ebd36c9-39cc-4ac7-96c9-154c7ebfbcef",
   "metadata": {},
   "source": [
    "# About some q-stuff$\\def\\qbinom#1#2{\\left[\\begin{array}{c}#1\\\\#2\\end{array}\\right]_{q}}$"
   ]
  },
  {
   "cell_type": "code",
   "execution_count": 1,
   "id": "2b56fd0d-ead8-416e-90b1-e855e55dd528",
   "metadata": {},
   "outputs": [],
   "source": [
    "%display latex\n",
    "R.<q> = QQ[]"
   ]
  },
  {
   "cell_type": "code",
   "execution_count": 2,
   "id": "4e082f16-b44a-4201-a2f7-b776f7a474b9",
   "metadata": {},
   "outputs": [],
   "source": [
    "def qpochammer(a, n : int, q=q):\n",
    "    '''Method for obtaining (a;q)_n'''\n",
    "    return prod(1-a*q^k for k in range(n))\n",
    "\n",
    "def qfactorial(n:int, q=q):\n",
    "    '''Method for obtaining [n]_q! = (q;q)_n/(1-q)^n'''\n",
    "    return qpochammer(q,n, q=q)/(1-q)^n\n",
    "\n",
    "def qbinomial(n:int, m:int, q=q):\n",
    "    '''Method for obtaining [n,m]_q = [n]_q!/([m]_q![n-m]_q!)'''\n",
    "    if m < 0 or m > n:\n",
    "        return 0\n",
    "    return qfactorial(n,q=q)/(qfactorial(m, q=q)*qfactorial(n-m, q=q))"
   ]
  },
  {
   "cell_type": "markdown",
   "id": "0f516d60-9a9d-466f-a60d-eca2be0892df",
   "metadata": {},
   "source": [
    "The sequences that we are interested in work on the polynomials on $q$. This means we have to consider the sequences \n",
    "$$\\left(\\mathbb{K}(q)\\right)^{\\mathbb{N}}.$$\n",
    "\n",
    "In this ring of sequences, the basis are sequences themselves $((a_{n,k})_k)_n$:"
   ]
  },
  {
   "cell_type": "code",
   "execution_count": 3,
   "id": "12dcbf7e",
   "metadata": {},
   "outputs": [
    {
     "data": {
      "text/html": [
       "<html>\\(\\displaystyle \\left(\\begin{array}{rrrrrrrrrr}\n",
       "1 & 0 & 0 & 0 & 0 & 0 & 0 & 0 & 0 & 0 \\\\\n",
       "0 & 1 & 0 & 0 & 0 & 0 & 0 & 0 & 0 & 0 \\\\\n",
       "0 & 0 & 1 & 0 & 0 & 0 & 0 & 0 & 0 & 0 \\\\\n",
       "0 & 0 & 0 & 1 & 0 & 0 & 0 & 0 & 0 & 0 \\\\\n",
       "0 & 0 & 0 & 0 & 1 & 0 & 0 & 0 & 0 & 0\n",
       "\\end{array}\\right)\\)</html>"
      ],
      "text/latex": [
       "$\\displaystyle \\left(\\begin{array}{rrrrrrrrrr}\n",
       "1 & 0 & 0 & 0 & 0 & 0 & 0 & 0 & 0 & 0 \\\\\n",
       "0 & 1 & 0 & 0 & 0 & 0 & 0 & 0 & 0 & 0 \\\\\n",
       "0 & 0 & 1 & 0 & 0 & 0 & 0 & 0 & 0 & 0 \\\\\n",
       "0 & 0 & 0 & 1 & 0 & 0 & 0 & 0 & 0 & 0 \\\\\n",
       "0 & 0 & 0 & 0 & 1 & 0 & 0 & 0 & 0 & 0\n",
       "\\end{array}\\right)$"
      ],
      "text/plain": [
       "[1 0 0 0 0 0 0 0 0 0]\n",
       "[0 1 0 0 0 0 0 0 0 0]\n",
       "[0 0 1 0 0 0 0 0 0 0]\n",
       "[0 0 0 1 0 0 0 0 0 0]\n",
       "[0 0 0 0 1 0 0 0 0 0]"
      ]
     },
     "execution_count": 3,
     "metadata": {},
     "output_type": "execute_result"
    }
   ],
   "source": [
    "canonical = lambda n : lambda k : kronecker_delta(n,k)\n",
    "Matrix([[canonical(n)(k) for k in range(10)] for n in range(5)])"
   ]
  },
  {
   "cell_type": "markdown",
   "id": "b213a739",
   "metadata": {},
   "source": [
    "Since we are working over an extension of $\\mathbb{K}$ all the usual bases still work on this ring:"
   ]
  },
  {
   "cell_type": "code",
   "execution_count": 4,
   "id": "6731cdce",
   "metadata": {},
   "outputs": [
    {
     "data": {
      "text/html": [
       "<html>\\(\\displaystyle \\left(\\begin{array}{rrrrrrrrrr}\n",
       "1 & 1 & 1 & 1 & 1 & 1 & 1 & 1 & 1 & 1 \\\\\n",
       "0 & 1 & 2 & 3 & 4 & 5 & 6 & 7 & 8 & 9 \\\\\n",
       "0 & 1 & 4 & 9 & 16 & 25 & 36 & 49 & 64 & 81 \\\\\n",
       "0 & 1 & 8 & 27 & 64 & 125 & 216 & 343 & 512 & 729 \\\\\n",
       "0 & 1 & 16 & 81 & 256 & 625 & 1296 & 2401 & 4096 & 6561\n",
       "\\end{array}\\right)\\)</html>"
      ],
      "text/latex": [
       "$\\displaystyle \\left(\\begin{array}{rrrrrrrrrr}\n",
       "1 & 1 & 1 & 1 & 1 & 1 & 1 & 1 & 1 & 1 \\\\\n",
       "0 & 1 & 2 & 3 & 4 & 5 & 6 & 7 & 8 & 9 \\\\\n",
       "0 & 1 & 4 & 9 & 16 & 25 & 36 & 49 & 64 & 81 \\\\\n",
       "0 & 1 & 8 & 27 & 64 & 125 & 216 & 343 & 512 & 729 \\\\\n",
       "0 & 1 & 16 & 81 & 256 & 625 & 1296 & 2401 & 4096 & 6561\n",
       "\\end{array}\\right)$"
      ],
      "text/plain": [
       "[   1    1    1    1    1    1    1    1    1    1]\n",
       "[   0    1    2    3    4    5    6    7    8    9]\n",
       "[   0    1    4    9   16   25   36   49   64   81]\n",
       "[   0    1    8   27   64  125  216  343  512  729]\n",
       "[   0    1   16   81  256  625 1296 2401 4096 6561]"
      ]
     },
     "execution_count": 4,
     "metadata": {},
     "output_type": "execute_result"
    }
   ],
   "source": [
    "power = lambda n : lambda k : k^n # this is a factorial basis\n",
    "Matrix([[power(n)(k) for k in range(10)] for n in range(5)])"
   ]
  },
  {
   "cell_type": "code",
   "execution_count": 5,
   "id": "7e7351c5",
   "metadata": {},
   "outputs": [
    {
     "data": {
      "text/html": [
       "<html>\\(\\displaystyle \\left(\\begin{array}{rrrrrrrrrr}\n",
       "1 & 1 & 1 & 1 & 1 & 1 & 1 & 1 & 1 & 1 \\\\\n",
       "0 & 1 & 2 & 3 & 4 & 5 & 6 & 7 & 8 & 9 \\\\\n",
       "0 & 0 & 1 & 3 & 6 & 10 & 15 & 21 & 28 & 36 \\\\\n",
       "0 & 0 & 0 & 1 & 4 & 10 & 20 & 35 & 56 & 84 \\\\\n",
       "0 & 0 & 0 & 0 & 1 & 5 & 15 & 35 & 70 & 126\n",
       "\\end{array}\\right)\\)</html>"
      ],
      "text/latex": [
       "$\\displaystyle \\left(\\begin{array}{rrrrrrrrrr}\n",
       "1 & 1 & 1 & 1 & 1 & 1 & 1 & 1 & 1 & 1 \\\\\n",
       "0 & 1 & 2 & 3 & 4 & 5 & 6 & 7 & 8 & 9 \\\\\n",
       "0 & 0 & 1 & 3 & 6 & 10 & 15 & 21 & 28 & 36 \\\\\n",
       "0 & 0 & 0 & 1 & 4 & 10 & 20 & 35 & 56 & 84 \\\\\n",
       "0 & 0 & 0 & 0 & 1 & 5 & 15 & 35 & 70 & 126\n",
       "\\end{array}\\right)$"
      ],
      "text/plain": [
       "[  1   1   1   1   1   1   1   1   1   1]\n",
       "[  0   1   2   3   4   5   6   7   8   9]\n",
       "[  0   0   1   3   6  10  15  21  28  36]\n",
       "[  0   0   0   1   4  10  20  35  56  84]\n",
       "[  0   0   0   0   1   5  15  35  70 126]"
      ]
     },
     "execution_count": 5,
     "metadata": {},
     "output_type": "execute_result"
    }
   ],
   "source": [
    "binomial_bas = lambda n : lambda k : binomial(k,n) # this is a factorial basis\n",
    "Matrix([[binomial_bas(n)(k) for k in range(10)] for n in range(5)])"
   ]
  },
  {
   "cell_type": "markdown",
   "id": "c09b337a",
   "metadata": {},
   "source": [
    "## A $q$-analog\n",
    "Can we try to have a real $q$-basis? Using the $q$-binomial, we obtain the following:"
   ]
  },
  {
   "cell_type": "code",
   "execution_count": 24,
   "id": "de856855",
   "metadata": {},
   "outputs": [
    {
     "data": {
      "text/html": [
       "<html>\\(\\displaystyle \\left(\\begin{array}{rrrrrr}\n",
       "1 & 1 & 1 & 1 & 1 & 1 \\\\\n",
       "0 & 1 & q + 1 & q^{2} + q + 1 & q^{3} + q^{2} + q + 1 & q^{4} + q^{3} + q^{2} + q + 1 \\\\\n",
       "0 & 0 & 1 & q^{2} + q + 1 & q^{4} + q^{3} + 2 q^{2} + q + 1 & q^{6} + q^{5} + 2 q^{4} + 2 q^{3} + 2 q^{2} + q + 1 \\\\\n",
       "0 & 0 & 0 & 1 & q^{3} + q^{2} + q + 1 & q^{6} + q^{5} + 2 q^{4} + 2 q^{3} + 2 q^{2} + q + 1\n",
       "\\end{array}\\right)\\)</html>"
      ],
      "text/latex": [
       "$\\displaystyle \\left(\\begin{array}{rrrrrr}\n",
       "1 & 1 & 1 & 1 & 1 & 1 \\\\\n",
       "0 & 1 & q + 1 & q^{2} + q + 1 & q^{3} + q^{2} + q + 1 & q^{4} + q^{3} + q^{2} + q + 1 \\\\\n",
       "0 & 0 & 1 & q^{2} + q + 1 & q^{4} + q^{3} + 2 q^{2} + q + 1 & q^{6} + q^{5} + 2 q^{4} + 2 q^{3} + 2 q^{2} + q + 1 \\\\\n",
       "0 & 0 & 0 & 1 & q^{3} + q^{2} + q + 1 & q^{6} + q^{5} + 2 q^{4} + 2 q^{3} + 2 q^{2} + q + 1\n",
       "\\end{array}\\right)$"
      ],
      "text/plain": [
       "[                                        1                                         1                                         1                                         1                                         1                                         1]\n",
       "[                                        0                                         1                                     q + 1                               q^2 + q + 1                         q^3 + q^2 + q + 1                   q^4 + q^3 + q^2 + q + 1]\n",
       "[                                        0                                         0                                         1                               q^2 + q + 1                 q^4 + q^3 + 2*q^2 + q + 1 q^6 + q^5 + 2*q^4 + 2*q^3 + 2*q^2 + q + 1]\n",
       "[                                        0                                         0                                         0                                         1                         q^3 + q^2 + q + 1 q^6 + q^5 + 2*q^4 + 2*q^3 + 2*q^2 + q + 1]"
      ]
     },
     "execution_count": 24,
     "metadata": {},
     "output_type": "execute_result"
    }
   ],
   "source": [
    "qbinomial_bas = lambda n : lambda k : qbinomial(k,n) # this is a factorial basis\n",
    "Matrix([[qbinomial_bas(n)(k) for k in range(6)] for n in range(4)])"
   ]
  },
  {
   "cell_type": "markdown",
   "id": "5082e35e",
   "metadata": {},
   "source": [
    "We have a basis that looks pretty similar to the binomial basis we were considering before. Is this a polynomial basis? Is this a factorial basis?\n",
    "\n",
    "If we think in similar terms of the binomial, we need to find a sequence of polynomials $P_n(x) \\in \\mathbb{K}(q)[x]$ such that \n",
    "$$P_n(k) = \\qbinom{k}{n}$$\n",
    "\n",
    "By the structure of the basis, these polynomials have as roots $(0,1,...)$, so that would mean that they would be a factorial basis. That simply can not happen:"
   ]
  },
  {
   "cell_type": "code",
   "execution_count": 7,
   "id": "c4b39d3d",
   "metadata": {},
   "outputs": [
    {
     "data": {
      "text/html": [
       "<html>\\(\\displaystyle \\left[0, 1, q + 1, q^{2} + q + 1, q^{3} + q^{2} + q + 1, q^{4} + q^{3} + q^{2} + q + 1, q^{5} + q^{4} + q^{3} + q^{2} + q + 1, q^{6} + q^{5} + q^{4} + q^{3} + q^{2} + q + 1, q^{7} + q^{6} + q^{5} + q^{4} + q^{3} + q^{2} + q + 1, q^{8} + q^{7} + q^{6} + q^{5} + q^{4} + q^{3} + q^{2} + q + 1\\right]\\)</html>"
      ],
      "text/latex": [
       "$\\displaystyle \\left[0, 1, q + 1, q^{2} + q + 1, q^{3} + q^{2} + q + 1, q^{4} + q^{3} + q^{2} + q + 1, q^{5} + q^{4} + q^{3} + q^{2} + q + 1, q^{6} + q^{5} + q^{4} + q^{3} + q^{2} + q + 1, q^{7} + q^{6} + q^{5} + q^{4} + q^{3} + q^{2} + q + 1, q^{8} + q^{7} + q^{6} + q^{5} + q^{4} + q^{3} + q^{2} + q + 1\\right]$"
      ],
      "text/plain": [
       "[0,\n",
       " 1,\n",
       " q + 1,\n",
       " q^2 + q + 1,\n",
       " q^3 + q^2 + q + 1,\n",
       " q^4 + q^3 + q^2 + q + 1,\n",
       " q^5 + q^4 + q^3 + q^2 + q + 1,\n",
       " q^6 + q^5 + q^4 + q^3 + q^2 + q + 1,\n",
       " q^7 + q^6 + q^5 + q^4 + q^3 + q^2 + q + 1,\n",
       " q^8 + q^7 + q^6 + q^5 + q^4 + q^3 + q^2 + q + 1]"
      ]
     },
     "execution_count": 7,
     "metadata": {},
     "output_type": "execute_result"
    }
   ],
   "source": [
    "QB1 = qbinomial_bas(1) # should be a polynomial of degree 1: a(q) + b(q)x\n",
    "[QB1(i) for i in range(10)] # the term 0 means a(q) = 0, and the term 1 means b(q) = 1... which can not be."
   ]
  },
  {
   "cell_type": "markdown",
   "id": "2120fed0",
   "metadata": {},
   "source": [
    "However, we have a sequence in a ring, we have a basis of the ring. We can still study the compatibility with operators:\n",
    "\n",
    "##### Compatibility with the shift operator $k \\rightarrow k+1$\n",
    "\n",
    "We can find in the literature that the $q$-binomial satisfies the following recurrence equation:\n",
    "$$\\qbinom{k+1}{n} = q^n\\qbinom{k}{n} + \\qbinom{k}{n-1}.$$"
   ]
  },
  {
   "cell_type": "code",
   "execution_count": 8,
   "id": "354e0dbe",
   "metadata": {},
   "outputs": [
    {
     "data": {
      "text/html": [
       "<html>\\(\\displaystyle \\left(\\begin{array}{rrrr}\n",
       "1 & 1 & 1 & 1 \\\\\n",
       "1 & q + 1 & q^{2} + q + 1 & q^{3} + q^{2} + q + 1 \\\\\n",
       "0 & 1 & q^{2} + q + 1 & q^{4} + q^{3} + 2 q^{2} + q + 1\n",
       "\\end{array}\\right)\\)</html>"
      ],
      "text/latex": [
       "$\\displaystyle \\left(\\begin{array}{rrrr}\n",
       "1 & 1 & 1 & 1 \\\\\n",
       "1 & q + 1 & q^{2} + q + 1 & q^{3} + q^{2} + q + 1 \\\\\n",
       "0 & 1 & q^{2} + q + 1 & q^{4} + q^{3} + 2 q^{2} + q + 1\n",
       "\\end{array}\\right)$"
      ],
      "text/plain": [
       "[                        1                         1                         1                         1]\n",
       "[                        1                     q + 1               q^2 + q + 1         q^3 + q^2 + q + 1]\n",
       "[                        0                         1               q^2 + q + 1 q^4 + q^3 + 2*q^2 + q + 1]"
      ]
     },
     "execution_count": 8,
     "metadata": {},
     "output_type": "execute_result"
    }
   ],
   "source": [
    "shifted_basis = lambda n : lambda k : qbinomial_bas(n)(k+1)\n",
    "Matrix([[shifted_basis(n)(k) for k in range(4)] for n in range(3)])"
   ]
  },
  {
   "cell_type": "code",
   "execution_count": 9,
   "id": "697ea3e5",
   "metadata": {},
   "outputs": [
    {
     "data": {
      "text/html": [
       "<html>\\(\\displaystyle \\left(\\begin{array}{rrrrrrrrrr}\n",
       "0 & 0 & 0 & 0 & 0 & 0 & 0 & 0 & 0 & 0 \\\\\n",
       "0 & 0 & 0 & 0 & 0 & 0 & 0 & 0 & 0 & 0 \\\\\n",
       "0 & 0 & 0 & 0 & 0 & 0 & 0 & 0 & 0 & 0 \\\\\n",
       "0 & 0 & 0 & 0 & 0 & 0 & 0 & 0 & 0 & 0 \\\\\n",
       "0 & 0 & 0 & 0 & 0 & 0 & 0 & 0 & 0 & 0 \\\\\n",
       "0 & 0 & 0 & 0 & 0 & 0 & 0 & 0 & 0 & 0 \\\\\n",
       "0 & 0 & 0 & 0 & 0 & 0 & 0 & 0 & 0 & 0 \\\\\n",
       "0 & 0 & 0 & 0 & 0 & 0 & 0 & 0 & 0 & 0 \\\\\n",
       "0 & 0 & 0 & 0 & 0 & 0 & 0 & 0 & 0 & 0 \\\\\n",
       "0 & 0 & 0 & 0 & 0 & 0 & 0 & 0 & 0 & 0\n",
       "\\end{array}\\right)\\)</html>"
      ],
      "text/latex": [
       "$\\displaystyle \\left(\\begin{array}{rrrrrrrrrr}\n",
       "0 & 0 & 0 & 0 & 0 & 0 & 0 & 0 & 0 & 0 \\\\\n",
       "0 & 0 & 0 & 0 & 0 & 0 & 0 & 0 & 0 & 0 \\\\\n",
       "0 & 0 & 0 & 0 & 0 & 0 & 0 & 0 & 0 & 0 \\\\\n",
       "0 & 0 & 0 & 0 & 0 & 0 & 0 & 0 & 0 & 0 \\\\\n",
       "0 & 0 & 0 & 0 & 0 & 0 & 0 & 0 & 0 & 0 \\\\\n",
       "0 & 0 & 0 & 0 & 0 & 0 & 0 & 0 & 0 & 0 \\\\\n",
       "0 & 0 & 0 & 0 & 0 & 0 & 0 & 0 & 0 & 0 \\\\\n",
       "0 & 0 & 0 & 0 & 0 & 0 & 0 & 0 & 0 & 0 \\\\\n",
       "0 & 0 & 0 & 0 & 0 & 0 & 0 & 0 & 0 & 0 \\\\\n",
       "0 & 0 & 0 & 0 & 0 & 0 & 0 & 0 & 0 & 0\n",
       "\\end{array}\\right)$"
      ],
      "text/plain": [
       "[0 0 0 0 0 0 0 0 0 0]\n",
       "[0 0 0 0 0 0 0 0 0 0]\n",
       "[0 0 0 0 0 0 0 0 0 0]\n",
       "[0 0 0 0 0 0 0 0 0 0]\n",
       "[0 0 0 0 0 0 0 0 0 0]\n",
       "[0 0 0 0 0 0 0 0 0 0]\n",
       "[0 0 0 0 0 0 0 0 0 0]\n",
       "[0 0 0 0 0 0 0 0 0 0]\n",
       "[0 0 0 0 0 0 0 0 0 0]\n",
       "[0 0 0 0 0 0 0 0 0 0]"
      ]
     },
     "execution_count": 9,
     "metadata": {},
     "output_type": "execute_result"
    }
   ],
   "source": [
    "f = lambda n : lambda k : shifted_basis(n)(k) - qbinomial_bas(n-1)(k) - (q^n)*qbinomial_bas(n)(k)\n",
    "Matrix([[f(n)(k) for k in range(10)] for n in range(10)])"
   ]
  },
  {
   "cell_type": "markdown",
   "id": "5d7c19cd",
   "metadata": {},
   "source": [
    "In the terms of compatibility, we have then that the $q$-binomial basis is compatible with $S: k \\mapsto k+1$ with the compatiblity equation:\n",
    "$$S \\cdot P_n = q^n P_n + P_{n-1}$$\n",
    "\n",
    "##### Compatibility with the multiplication by $k$"
   ]
  },
  {
   "cell_type": "code",
   "execution_count": 10,
   "id": "84a818d0",
   "metadata": {},
   "outputs": [
    {
     "data": {
      "text/html": [
       "<html>\\(\\displaystyle \\left(\\begin{array}{rrrr}\n",
       "0 & 1 & 2 & 3 \\\\\n",
       "0 & 1 & 2 q + 2 & 3 q^{2} + 3 q + 3 \\\\\n",
       "0 & 0 & 2 & 3 q^{2} + 3 q + 3\n",
       "\\end{array}\\right)\\)</html>"
      ],
      "text/latex": [
       "$\\displaystyle \\left(\\begin{array}{rrrr}\n",
       "0 & 1 & 2 & 3 \\\\\n",
       "0 & 1 & 2 q + 2 & 3 q^{2} + 3 q + 3 \\\\\n",
       "0 & 0 & 2 & 3 q^{2} + 3 q + 3\n",
       "\\end{array}\\right)$"
      ],
      "text/plain": [
       "[              0               1               2               3]\n",
       "[              0               1         2*q + 2 3*q^2 + 3*q + 3]\n",
       "[              0               0               2 3*q^2 + 3*q + 3]"
      ]
     },
     "execution_count": 10,
     "metadata": {},
     "output_type": "execute_result"
    }
   ],
   "source": [
    "kmult_basis = lambda n : lambda k : k*qbinomial_bas(n)(k)\n",
    "Matrix([[kmult_basis(n)(k) for k in range(4)] for n in range(3)])"
   ]
  },
  {
   "cell_type": "markdown",
   "id": "303564dd",
   "metadata": {},
   "source": [
    "This operation is not compatible with the $q$-binomial basis since the sequence $(k)_k$ will appear as the first element and it can not be finitely represented in terms of $q$-binomials with a fixed down coefficient.\n",
    "\n",
    "##### Compatibility with the multiplication by $q$\n",
    "\n",
    "This is trivial since $q$ is part of the field we are taking the sequences from. Hence the compatibility is trivial:\n",
    "$$q P_k$$\n",
    "\n",
    "##### Compatibility with the multiplication by $q^k$\n",
    "\n",
    "This is the key operator to consider the equalities from Ali. What would be the compatibility rule (if it exists) for the multiplication by this number. The main problem here is to properly define the operator, since $k$ is a coefficient from the basis we are taking."
   ]
  },
  {
   "cell_type": "code",
   "execution_count": 11,
   "id": "d073d689",
   "metadata": {},
   "outputs": [
    {
     "data": {
      "text/html": [
       "<html>\\(\\displaystyle \\left(\\begin{array}{rrrr}\n",
       "1 & q & q^{2} & q^{3} \\\\\n",
       "0 & q & q^{3} + q^{2} & q^{5} + q^{4} + q^{3} \\\\\n",
       "0 & 0 & q^{2} & q^{5} + q^{4} + q^{3}\n",
       "\\end{array}\\right)\\)</html>"
      ],
      "text/latex": [
       "$\\displaystyle \\left(\\begin{array}{rrrr}\n",
       "1 & q & q^{2} & q^{3} \\\\\n",
       "0 & q & q^{3} + q^{2} & q^{5} + q^{4} + q^{3} \\\\\n",
       "0 & 0 & q^{2} & q^{5} + q^{4} + q^{3}\n",
       "\\end{array}\\right)$"
      ],
      "text/plain": [
       "[              1               q             q^2             q^3]\n",
       "[              0               q       q^3 + q^2 q^5 + q^4 + q^3]\n",
       "[              0               0             q^2 q^5 + q^4 + q^3]"
      ]
     },
     "execution_count": 11,
     "metadata": {},
     "output_type": "execute_result"
    }
   ],
   "source": [
    "qmult_basis = lambda n : lambda k : (q^k)*qbinomial_bas(n)(k)\n",
    "Matrix([[qmult_basis(n)(k) for k in range(4)] for n in range(3)])"
   ]
  },
  {
   "cell_type": "code",
   "execution_count": 12,
   "id": "613956b7",
   "metadata": {},
   "outputs": [
    {
     "data": {
      "text/html": [
       "<html>\\(\\displaystyle \\left(\\begin{array}{rrrrrrrrrr}\n",
       "0 & 0 & 0 & 0 & 0 & 0 & 0 & 0 & 0 & 0 \\\\\n",
       "0 & 0 & 0 & 0 & 0 & 0 & 0 & 0 & 0 & 0 \\\\\n",
       "0 & 0 & 0 & 0 & 0 & 0 & 0 & 0 & 0 & 0 \\\\\n",
       "0 & 0 & 0 & 0 & 0 & 0 & 0 & 0 & 0 & 0 \\\\\n",
       "0 & 0 & 0 & 0 & 0 & 0 & 0 & 0 & 0 & 0 \\\\\n",
       "0 & 0 & 0 & 0 & 0 & 0 & 0 & 0 & 0 & 0 \\\\\n",
       "0 & 0 & 0 & 0 & 0 & 0 & 0 & 0 & 0 & 0 \\\\\n",
       "0 & 0 & 0 & 0 & 0 & 0 & 0 & 0 & 0 & 0 \\\\\n",
       "0 & 0 & 0 & 0 & 0 & 0 & 0 & 0 & 0 & 0 \\\\\n",
       "0 & 0 & 0 & 0 & 0 & 0 & 0 & 0 & 0 & 0\n",
       "\\end{array}\\right)\\)</html>"
      ],
      "text/latex": [
       "$\\displaystyle \\left(\\begin{array}{rrrrrrrrrr}\n",
       "0 & 0 & 0 & 0 & 0 & 0 & 0 & 0 & 0 & 0 \\\\\n",
       "0 & 0 & 0 & 0 & 0 & 0 & 0 & 0 & 0 & 0 \\\\\n",
       "0 & 0 & 0 & 0 & 0 & 0 & 0 & 0 & 0 & 0 \\\\\n",
       "0 & 0 & 0 & 0 & 0 & 0 & 0 & 0 & 0 & 0 \\\\\n",
       "0 & 0 & 0 & 0 & 0 & 0 & 0 & 0 & 0 & 0 \\\\\n",
       "0 & 0 & 0 & 0 & 0 & 0 & 0 & 0 & 0 & 0 \\\\\n",
       "0 & 0 & 0 & 0 & 0 & 0 & 0 & 0 & 0 & 0 \\\\\n",
       "0 & 0 & 0 & 0 & 0 & 0 & 0 & 0 & 0 & 0 \\\\\n",
       "0 & 0 & 0 & 0 & 0 & 0 & 0 & 0 & 0 & 0 \\\\\n",
       "0 & 0 & 0 & 0 & 0 & 0 & 0 & 0 & 0 & 0\n",
       "\\end{array}\\right)$"
      ],
      "text/plain": [
       "[0 0 0 0 0 0 0 0 0 0]\n",
       "[0 0 0 0 0 0 0 0 0 0]\n",
       "[0 0 0 0 0 0 0 0 0 0]\n",
       "[0 0 0 0 0 0 0 0 0 0]\n",
       "[0 0 0 0 0 0 0 0 0 0]\n",
       "[0 0 0 0 0 0 0 0 0 0]\n",
       "[0 0 0 0 0 0 0 0 0 0]\n",
       "[0 0 0 0 0 0 0 0 0 0]\n",
       "[0 0 0 0 0 0 0 0 0 0]\n",
       "[0 0 0 0 0 0 0 0 0 0]"
      ]
     },
     "execution_count": 12,
     "metadata": {},
     "output_type": "execute_result"
    }
   ],
   "source": [
    "f = lambda n : lambda k : qmult_basis(n)(k) - q^n*qbinomial_bas(n)(k) - (q^(2*n+1) - q^n)*qbinomial_bas(n+1)(k)\n",
    "Matrix([[f(n)(k) for k in range(10)] for n in range(10)])"
   ]
  },
  {
   "cell_type": "markdown",
   "id": "692cdb84",
   "metadata": {},
   "source": [
    "By playing with the formulas, we have detected the following compatibility formula:\n",
    "\n",
    "$$ (q^k) \\cdot P_n = q^n P_n + (q^{2n+1}-q^n)P_{n+1}$$\n",
    "\n",
    "##### Compatibility with the inverse shift by $S^{-1}$\n",
    "\n",
    "Can we get a formula for this?"
   ]
  },
  {
   "cell_type": "code",
   "execution_count": 13,
   "id": "f614a761",
   "metadata": {},
   "outputs": [
    {
     "data": {
      "text/html": [
       "<html>\\(\\displaystyle \\left(\\begin{array}{rrrrr}\n",
       "0 & 1 & 1 & 1 & 1 \\\\\n",
       "0 & 0 & 1 & q + 1 & q^{2} + q + 1 \\\\\n",
       "0 & 0 & 0 & 1 & q^{2} + q + 1 \\\\\n",
       "0 & 0 & 0 & 0 & 1\n",
       "\\end{array}\\right)\\)</html>"
      ],
      "text/latex": [
       "$\\displaystyle \\left(\\begin{array}{rrrrr}\n",
       "0 & 1 & 1 & 1 & 1 \\\\\n",
       "0 & 0 & 1 & q + 1 & q^{2} + q + 1 \\\\\n",
       "0 & 0 & 0 & 1 & q^{2} + q + 1 \\\\\n",
       "0 & 0 & 0 & 0 & 1\n",
       "\\end{array}\\right)$"
      ],
      "text/plain": [
       "[          0           1           1           1           1]\n",
       "[          0           0           1       q + 1 q^2 + q + 1]\n",
       "[          0           0           0           1 q^2 + q + 1]\n",
       "[          0           0           0           0           1]"
      ]
     },
     "execution_count": 13,
     "metadata": {},
     "output_type": "execute_result"
    }
   ],
   "source": [
    "ishifted_basis = lambda n : lambda k : qbinomial_bas(n)(k-1)\n",
    "Matrix([[ishifted_basis(n)(k) for k in range(5)] for n in range(4)])"
   ]
  },
  {
   "cell_type": "code",
   "execution_count": 14,
   "id": "40e9b511",
   "metadata": {},
   "outputs": [
    {
     "data": {
      "text/html": [
       "<html>\\(\\displaystyle \\left[-1, 0, 0, 0, 0, 0, 0, 0, 0, 0\\right]\\)</html>"
      ],
      "text/latex": [
       "$\\displaystyle \\left[-1, 0, 0, 0, 0, 0, 0, 0, 0, 0\\right]$"
      ],
      "text/plain": [
       "[-1, 0, 0, 0, 0, 0, 0, 0, 0, 0]"
      ]
     },
     "execution_count": 14,
     "metadata": {},
     "output_type": "execute_result"
    }
   ],
   "source": [
    "f = lambda k : ishifted_basis(0)(k) - shifted_basis(0)(k)\n",
    "[f(k) for k in range(10)]"
   ]
  },
  {
   "cell_type": "markdown",
   "id": "f2ff01d7",
   "metadata": {},
   "source": [
    "## Adapting this context to the ``ore_algebra`` package \n",
    "\n",
    "We have so far compatibility with 3 types of operators:\n",
    "* Multiplication by the constant sequence $(q)_k$: $q: (a_k)_k \\mapsto (qa_k)_k$.\n",
    "* Multiplication by the power sequence $(q^k)_k$: $Q: (a_k)_k \\mapsto (q^ka_k)_k$.\n",
    "* Shift operator w.r.t. the $k$: $S: (a_k)_k \\mapsto (a_{k+1})_k$.\n",
    "\n",
    "We can see from here that $q$ and $Q$ commute, as much as $q$ and $S$. Moreover, since the multiplæication by $(k)_k$ is **not** compatible with the $q$-binomial basis, then we do not need to consider its operator. Hence we can consider the following ore algebra:"
   ]
  },
  {
   "cell_type": "code",
   "execution_count": 15,
   "id": "00ce8f50",
   "metadata": {},
   "outputs": [],
   "source": [
    "from ore_algebra import *\n",
    "B.<q,Q> = QQ['q', 'Q']\n",
    "F = FractionField(B)\n",
    "OA = OreAlgebra(F, ('S', {Q:q*Q},{}), ('Si', {Q:1/q*Q},{})); S,Si = OA.gens()"
   ]
  },
  {
   "cell_type": "code",
   "execution_count": 16,
   "id": "32e0ed4f",
   "metadata": {},
   "outputs": [
    {
     "data": {
      "text/html": [
       "<html>\\(\\displaystyle \\left[q S, q S, q Q, q Q, Q S, q Q S, q \\mathit{Si}, q \\mathit{Si}, \\frac{Q}{q} \\mathit{Si}, Q \\mathit{Si}\\right]\\)</html>"
      ],
      "text/latex": [
       "$\\displaystyle \\left[q S, q S, q Q, q Q, Q S, q Q S, q \\mathit{Si}, q \\mathit{Si}, \\frac{Q}{q} \\mathit{Si}, Q \\mathit{Si}\\right]$"
      ],
      "text/plain": [
       "[q*S, q*S, q*Q, q*Q, Q*S, (q*Q)*S, q*Si, q*Si, Q/q*Si, Q*Si]"
      ]
     },
     "execution_count": 16,
     "metadata": {},
     "output_type": "execute_result"
    }
   ],
   "source": [
    "[q*S, S*q, q*Q, Q*q, Q*S, S*Q, Si*q, q*Si, Si*Q, Q*Si]"
   ]
  },
  {
   "cell_type": "markdown",
   "id": "42dc7b09",
   "metadata": {},
   "source": [
    "`Q` is now the multiplication by $q^k$  and `S` is the shift operator. Both were compatible, so we can create the correspondance for the compatibility. It is important to remark that the type of operators that we get are very similar: a combination of shifts w.r.t. $n$ and the multiplication by $q^n$. These new operators can be then put into the same ring of operators. One need to keep track on how many changes are done to keep track of the variables and summations."
   ]
  },
  {
   "cell_type": "code",
   "execution_count": 17,
   "id": "648d206c",
   "metadata": {},
   "outputs": [],
   "source": [
    "ruleS = S + Q\n",
    "ruleq = q\n",
    "ruleQ = Q + (Q^2-Q)/q*Si\n",
    "def compatibility(operator):\n",
    "    if not operator in OA or operator.degree(Si) > 0:\n",
    "        raise TypeError\n",
    "        \n",
    "    operator = OA(operator)\n",
    "    coefficients = operator.coefficients()\n",
    "    ## we evaluate each of the coefficients\n",
    "    coefficients = [coeff(q=ruleq, Q=ruleQ) for coeff in coefficients]\n",
    "    ## now we compute the powers of the shift\n",
    "    monomials = [ruleS**m.degree(S) for m in operator.polynomial().monomials()]\n",
    "    \n",
    "    ## we multiply everything together\n",
    "    result_wo_simpl = sum(coefficients[i]*monomials[i] for i in range(len(coefficients)))\n",
    "    ## we remove the ivnerse shift\n",
    "    result = result_wo_simpl.degree(Si) * result_wo_sipl\n",
    "    \n",
    "    ## we simplify the products of S and Si\n",
    "    coefficients = result.coefficients()\n",
    "    monomials = result.polynomial().monomials()\n",
    "    monomials = [S^(m.degree(S)-m.degree(Si)) for m in monomials]\n",
    "    return sum(coefficients[i]*monomials[i] for i in range(len(coefficients)))"
   ]
  },
  {
   "cell_type": "code",
   "execution_count": 18,
   "id": "6f4a90d9",
   "metadata": {},
   "outputs": [],
   "source": [
    "L = Q*S^2 - Q/q*S - 1"
   ]
  },
  {
   "cell_type": "code",
   "execution_count": 19,
   "id": "8dbf6f0e",
   "metadata": {},
   "outputs": [
    {
     "ename": "TypeError",
     "evalue": "unsupported operand parent(s) for /: 'Multivariate Ore algebra in S, Si over Fraction Field of Multivariate Polynomial Ring in q, Q over Rational Field' and 'Multivariate Ore algebra in S, Si over Fraction Field of Multivariate Polynomial Ring in q, Q over Rational Field'",
     "output_type": "error",
     "traceback": [
      "\u001b[0;31m---------------------------------------------------------------------------\u001b[0m",
      "\u001b[0;31mKeyError\u001b[0m                                  Traceback (most recent call last)",
      "\u001b[0;32m~/sage/src/sage/structure/category_object.pyx\u001b[0m in \u001b[0;36msage.structure.category_object.CategoryObject.getattr_from_category\u001b[0;34m()\u001b[0m\n\u001b[1;32m    838\u001b[0m         \u001b[0;32mtry\u001b[0m\u001b[0;34m:\u001b[0m\u001b[0;34m\u001b[0m\u001b[0;34m\u001b[0m\u001b[0m\n\u001b[0;32m--> 839\u001b[0;31m             \u001b[0;32mreturn\u001b[0m \u001b[0mself\u001b[0m\u001b[0;34m.\u001b[0m\u001b[0m__cached_methods\u001b[0m\u001b[0;34m[\u001b[0m\u001b[0mname\u001b[0m\u001b[0;34m]\u001b[0m\u001b[0;34m\u001b[0m\u001b[0;34m\u001b[0m\u001b[0m\n\u001b[0m\u001b[1;32m    840\u001b[0m         \u001b[0;32mexcept\u001b[0m \u001b[0mKeyError\u001b[0m\u001b[0;34m:\u001b[0m\u001b[0;34m\u001b[0m\u001b[0;34m\u001b[0m\u001b[0m\n",
      "\u001b[0;31mKeyError\u001b[0m: 'fraction_field'",
      "\nDuring handling of the above exception, another exception occurred:\n",
      "\u001b[0;31mAttributeError\u001b[0m                            Traceback (most recent call last)",
      "\u001b[0;32m~/sage/src/sage/structure/element.pyx\u001b[0m in \u001b[0;36msage.structure.element.RingElement._div_\u001b[0;34m()\u001b[0m\n\u001b[1;32m   2735\u001b[0m         \u001b[0;32mtry\u001b[0m\u001b[0;34m:\u001b[0m\u001b[0;34m\u001b[0m\u001b[0;34m\u001b[0m\u001b[0m\n\u001b[0;32m-> 2736\u001b[0;31m             \u001b[0mfrac\u001b[0m \u001b[0;34m=\u001b[0m \u001b[0mself\u001b[0m\u001b[0;34m.\u001b[0m\u001b[0m_parent\u001b[0m\u001b[0;34m.\u001b[0m\u001b[0mfraction_field\u001b[0m\u001b[0;34m(\u001b[0m\u001b[0;34m)\u001b[0m\u001b[0;34m\u001b[0m\u001b[0;34m\u001b[0m\u001b[0m\n\u001b[0m\u001b[1;32m   2737\u001b[0m         \u001b[0;32mexcept\u001b[0m \u001b[0mAttributeError\u001b[0m\u001b[0;34m:\u001b[0m\u001b[0;34m\u001b[0m\u001b[0;34m\u001b[0m\u001b[0m\n",
      "\u001b[0;32m~/sage/src/sage/structure/category_object.pyx\u001b[0m in \u001b[0;36msage.structure.category_object.CategoryObject.__getattr__\u001b[0;34m()\u001b[0m\n\u001b[1;32m    832\u001b[0m         \"\"\"\n\u001b[0;32m--> 833\u001b[0;31m         \u001b[0;32mreturn\u001b[0m \u001b[0mself\u001b[0m\u001b[0;34m.\u001b[0m\u001b[0mgetattr_from_category\u001b[0m\u001b[0;34m(\u001b[0m\u001b[0mname\u001b[0m\u001b[0;34m)\u001b[0m\u001b[0;34m\u001b[0m\u001b[0;34m\u001b[0m\u001b[0m\n\u001b[0m\u001b[1;32m    834\u001b[0m \u001b[0;34m\u001b[0m\u001b[0m\n",
      "\u001b[0;32m~/sage/src/sage/structure/category_object.pyx\u001b[0m in \u001b[0;36msage.structure.category_object.CategoryObject.getattr_from_category\u001b[0;34m()\u001b[0m\n\u001b[1;32m    847\u001b[0m \u001b[0;34m\u001b[0m\u001b[0m\n\u001b[0;32m--> 848\u001b[0;31m             \u001b[0mattr\u001b[0m \u001b[0;34m=\u001b[0m \u001b[0mgetattr_from_other_class\u001b[0m\u001b[0;34m(\u001b[0m\u001b[0mself\u001b[0m\u001b[0;34m,\u001b[0m \u001b[0mcls\u001b[0m\u001b[0;34m,\u001b[0m \u001b[0mname\u001b[0m\u001b[0;34m)\u001b[0m\u001b[0;34m\u001b[0m\u001b[0;34m\u001b[0m\u001b[0m\n\u001b[0m\u001b[1;32m    849\u001b[0m             \u001b[0mself\u001b[0m\u001b[0;34m.\u001b[0m\u001b[0m__cached_methods\u001b[0m\u001b[0;34m[\u001b[0m\u001b[0mname\u001b[0m\u001b[0;34m]\u001b[0m \u001b[0;34m=\u001b[0m \u001b[0mattr\u001b[0m\u001b[0;34m\u001b[0m\u001b[0;34m\u001b[0m\u001b[0m\n",
      "\u001b[0;32m~/sage/src/sage/cpython/getattr.pyx\u001b[0m in \u001b[0;36msage.cpython.getattr.getattr_from_other_class\u001b[0;34m()\u001b[0m\n\u001b[1;32m    355\u001b[0m         \u001b[0mdummy_error_message\u001b[0m\u001b[0;34m.\u001b[0m\u001b[0mname\u001b[0m \u001b[0;34m=\u001b[0m \u001b[0mname\u001b[0m\u001b[0;34m\u001b[0m\u001b[0;34m\u001b[0m\u001b[0m\n\u001b[0;32m--> 356\u001b[0;31m         \u001b[0;32mraise\u001b[0m \u001b[0mAttributeError\u001b[0m\u001b[0;34m(\u001b[0m\u001b[0mdummy_error_message\u001b[0m\u001b[0;34m)\u001b[0m\u001b[0;34m\u001b[0m\u001b[0;34m\u001b[0m\u001b[0m\n\u001b[0m\u001b[1;32m    357\u001b[0m     \u001b[0mcdef\u001b[0m \u001b[0mPyObject\u001b[0m\u001b[0;34m*\u001b[0m \u001b[0mattr\u001b[0m \u001b[0;34m=\u001b[0m \u001b[0minstance_getattr\u001b[0m\u001b[0;34m(\u001b[0m\u001b[0mcls\u001b[0m\u001b[0;34m,\u001b[0m \u001b[0mname\u001b[0m\u001b[0;34m)\u001b[0m\u001b[0;34m\u001b[0m\u001b[0;34m\u001b[0m\u001b[0m\n",
      "\u001b[0;31mAttributeError\u001b[0m: 'OreAlgebra_generic_with_category' object has no attribute '__custom_name'",
      "\nDuring handling of the above exception, another exception occurred:\n",
      "\u001b[0;31mTypeError\u001b[0m                                 Traceback (most recent call last)",
      "\u001b[0;32m/tmp/ipykernel_1759/3336600234.py\u001b[0m in \u001b[0;36m<module>\u001b[0;34m\u001b[0m\n\u001b[0;32m----> 1\u001b[0;31m \u001b[0mcompatibility\u001b[0m\u001b[0;34m(\u001b[0m\u001b[0mL\u001b[0m\u001b[0;34m)\u001b[0m\u001b[0;34m\u001b[0m\u001b[0;34m\u001b[0m\u001b[0m\n\u001b[0m",
      "\u001b[0;32m/tmp/ipykernel_1759/2719907439.py\u001b[0m in \u001b[0;36mcompatibility\u001b[0;34m(operator)\u001b[0m\n\u001b[1;32m      9\u001b[0m     \u001b[0mcoefficients\u001b[0m \u001b[0;34m=\u001b[0m \u001b[0moperator\u001b[0m\u001b[0;34m.\u001b[0m\u001b[0mcoefficients\u001b[0m\u001b[0;34m(\u001b[0m\u001b[0;34m)\u001b[0m\u001b[0;34m\u001b[0m\u001b[0;34m\u001b[0m\u001b[0m\n\u001b[1;32m     10\u001b[0m     \u001b[0;31m## we evaluate each of the coefficients\u001b[0m\u001b[0;34m\u001b[0m\u001b[0;34m\u001b[0m\u001b[0;34m\u001b[0m\u001b[0m\n\u001b[0;32m---> 11\u001b[0;31m     \u001b[0mcoefficients\u001b[0m \u001b[0;34m=\u001b[0m \u001b[0;34m[\u001b[0m\u001b[0mcoeff\u001b[0m\u001b[0;34m(\u001b[0m\u001b[0mq\u001b[0m\u001b[0;34m=\u001b[0m\u001b[0mruleq\u001b[0m\u001b[0;34m,\u001b[0m \u001b[0mQ\u001b[0m\u001b[0;34m=\u001b[0m\u001b[0mruleQ\u001b[0m\u001b[0;34m)\u001b[0m \u001b[0;32mfor\u001b[0m \u001b[0mcoeff\u001b[0m \u001b[0;32min\u001b[0m \u001b[0mcoefficients\u001b[0m\u001b[0;34m]\u001b[0m\u001b[0;34m\u001b[0m\u001b[0;34m\u001b[0m\u001b[0m\n\u001b[0m\u001b[1;32m     12\u001b[0m     \u001b[0;31m## now we compute the powers of the shift\u001b[0m\u001b[0;34m\u001b[0m\u001b[0;34m\u001b[0m\u001b[0;34m\u001b[0m\u001b[0m\n\u001b[1;32m     13\u001b[0m     \u001b[0mmonomials\u001b[0m \u001b[0;34m=\u001b[0m \u001b[0;34m[\u001b[0m\u001b[0mruleS\u001b[0m\u001b[0;34m**\u001b[0m\u001b[0mm\u001b[0m\u001b[0;34m.\u001b[0m\u001b[0mdegree\u001b[0m\u001b[0;34m(\u001b[0m\u001b[0mS\u001b[0m\u001b[0;34m)\u001b[0m \u001b[0;32mfor\u001b[0m \u001b[0mm\u001b[0m \u001b[0;32min\u001b[0m \u001b[0moperator\u001b[0m\u001b[0;34m.\u001b[0m\u001b[0mpolynomial\u001b[0m\u001b[0;34m(\u001b[0m\u001b[0;34m)\u001b[0m\u001b[0;34m.\u001b[0m\u001b[0mmonomials\u001b[0m\u001b[0;34m(\u001b[0m\u001b[0;34m)\u001b[0m\u001b[0;34m]\u001b[0m\u001b[0;34m\u001b[0m\u001b[0;34m\u001b[0m\u001b[0m\n",
      "\u001b[0;32m/tmp/ipykernel_1759/2719907439.py\u001b[0m in \u001b[0;36m<listcomp>\u001b[0;34m(.0)\u001b[0m\n\u001b[1;32m      9\u001b[0m     \u001b[0mcoefficients\u001b[0m \u001b[0;34m=\u001b[0m \u001b[0moperator\u001b[0m\u001b[0;34m.\u001b[0m\u001b[0mcoefficients\u001b[0m\u001b[0;34m(\u001b[0m\u001b[0;34m)\u001b[0m\u001b[0;34m\u001b[0m\u001b[0;34m\u001b[0m\u001b[0m\n\u001b[1;32m     10\u001b[0m     \u001b[0;31m## we evaluate each of the coefficients\u001b[0m\u001b[0;34m\u001b[0m\u001b[0;34m\u001b[0m\u001b[0;34m\u001b[0m\u001b[0m\n\u001b[0;32m---> 11\u001b[0;31m     \u001b[0mcoefficients\u001b[0m \u001b[0;34m=\u001b[0m \u001b[0;34m[\u001b[0m\u001b[0mcoeff\u001b[0m\u001b[0;34m(\u001b[0m\u001b[0mq\u001b[0m\u001b[0;34m=\u001b[0m\u001b[0mruleq\u001b[0m\u001b[0;34m,\u001b[0m \u001b[0mQ\u001b[0m\u001b[0;34m=\u001b[0m\u001b[0mruleQ\u001b[0m\u001b[0;34m)\u001b[0m \u001b[0;32mfor\u001b[0m \u001b[0mcoeff\u001b[0m \u001b[0;32min\u001b[0m \u001b[0mcoefficients\u001b[0m\u001b[0;34m]\u001b[0m\u001b[0;34m\u001b[0m\u001b[0;34m\u001b[0m\u001b[0m\n\u001b[0m\u001b[1;32m     12\u001b[0m     \u001b[0;31m## now we compute the powers of the shift\u001b[0m\u001b[0;34m\u001b[0m\u001b[0;34m\u001b[0m\u001b[0;34m\u001b[0m\u001b[0m\n\u001b[1;32m     13\u001b[0m     \u001b[0mmonomials\u001b[0m \u001b[0;34m=\u001b[0m \u001b[0;34m[\u001b[0m\u001b[0mruleS\u001b[0m\u001b[0;34m**\u001b[0m\u001b[0mm\u001b[0m\u001b[0;34m.\u001b[0m\u001b[0mdegree\u001b[0m\u001b[0;34m(\u001b[0m\u001b[0mS\u001b[0m\u001b[0;34m)\u001b[0m \u001b[0;32mfor\u001b[0m \u001b[0mm\u001b[0m \u001b[0;32min\u001b[0m \u001b[0moperator\u001b[0m\u001b[0;34m.\u001b[0m\u001b[0mpolynomial\u001b[0m\u001b[0;34m(\u001b[0m\u001b[0;34m)\u001b[0m\u001b[0;34m.\u001b[0m\u001b[0mmonomials\u001b[0m\u001b[0;34m(\u001b[0m\u001b[0;34m)\u001b[0m\u001b[0;34m]\u001b[0m\u001b[0;34m\u001b[0m\u001b[0;34m\u001b[0m\u001b[0m\n",
      "\u001b[0;32m~/sage/src/sage/rings/fraction_field_element.pyx\u001b[0m in \u001b[0;36msage.rings.fraction_field_element.FractionFieldElement.__call__\u001b[0;34m()\u001b[0m\n\u001b[1;32m    447\u001b[0m             \u001b[0;34m(\u001b[0m\u001b[0;34m-\u001b[0m\u001b[0;36m2\u001b[0m\u001b[0;34m*\u001b[0m\u001b[0mx1\u001b[0m\u001b[0;34m*\u001b[0m\u001b[0mx2\u001b[0m \u001b[0;34m+\u001b[0m \u001b[0mx1\u001b[0m \u001b[0;34m+\u001b[0m \u001b[0;36m1\u001b[0m\u001b[0;34m)\u001b[0m\u001b[0;34m/\u001b[0m\u001b[0;34m(\u001b[0m\u001b[0mx1\u001b[0m \u001b[0;34m+\u001b[0m \u001b[0mx2\u001b[0m\u001b[0;34m)\u001b[0m\u001b[0;34m\u001b[0m\u001b[0;34m\u001b[0m\u001b[0m\n\u001b[1;32m    448\u001b[0m         \"\"\"\n\u001b[0;32m--> 449\u001b[0;31m         \u001b[0;32mreturn\u001b[0m \u001b[0mself\u001b[0m\u001b[0;34m.\u001b[0m\u001b[0m__numerator\u001b[0m\u001b[0;34m(\u001b[0m\u001b[0;34m*\u001b[0m\u001b[0mx\u001b[0m\u001b[0;34m,\u001b[0m \u001b[0;34m**\u001b[0m\u001b[0mkwds\u001b[0m\u001b[0;34m)\u001b[0m \u001b[0;34m/\u001b[0m \u001b[0mself\u001b[0m\u001b[0;34m.\u001b[0m\u001b[0m__denominator\u001b[0m\u001b[0;34m(\u001b[0m\u001b[0;34m*\u001b[0m\u001b[0mx\u001b[0m\u001b[0;34m,\u001b[0m \u001b[0;34m**\u001b[0m\u001b[0mkwds\u001b[0m\u001b[0;34m)\u001b[0m\u001b[0;34m\u001b[0m\u001b[0;34m\u001b[0m\u001b[0m\n\u001b[0m\u001b[1;32m    450\u001b[0m \u001b[0;34m\u001b[0m\u001b[0m\n\u001b[1;32m    451\u001b[0m     \u001b[0;32mdef\u001b[0m \u001b[0m_is_atomic\u001b[0m\u001b[0;34m(\u001b[0m\u001b[0mself\u001b[0m\u001b[0;34m)\u001b[0m\u001b[0;34m:\u001b[0m\u001b[0;34m\u001b[0m\u001b[0;34m\u001b[0m\u001b[0m\n",
      "\u001b[0;32m~/sage/src/sage/structure/element.pyx\u001b[0m in \u001b[0;36msage.structure.element.Element.__truediv__\u001b[0;34m()\u001b[0m\n\u001b[1;32m   1737\u001b[0m             \u001b[0;32mreturn\u001b[0m \u001b[0;34m(\u001b[0m\u001b[0;34m<\u001b[0m\u001b[0mElement\u001b[0m\u001b[0;34m>\u001b[0m\u001b[0mleft\u001b[0m\u001b[0;34m)\u001b[0m\u001b[0;34m.\u001b[0m\u001b[0m_div_\u001b[0m\u001b[0;34m(\u001b[0m\u001b[0mright\u001b[0m\u001b[0;34m)\u001b[0m\u001b[0;34m\u001b[0m\u001b[0;34m\u001b[0m\u001b[0m\n\u001b[1;32m   1738\u001b[0m         \u001b[0;32mif\u001b[0m \u001b[0mBOTH_ARE_ELEMENT\u001b[0m\u001b[0;34m(\u001b[0m\u001b[0mcl\u001b[0m\u001b[0;34m)\u001b[0m\u001b[0;34m:\u001b[0m\u001b[0;34m\u001b[0m\u001b[0;34m\u001b[0m\u001b[0m\n\u001b[0;32m-> 1739\u001b[0;31m             \u001b[0;32mreturn\u001b[0m \u001b[0mcoercion_model\u001b[0m\u001b[0;34m.\u001b[0m\u001b[0mbin_op\u001b[0m\u001b[0;34m(\u001b[0m\u001b[0mleft\u001b[0m\u001b[0;34m,\u001b[0m \u001b[0mright\u001b[0m\u001b[0;34m,\u001b[0m \u001b[0mtruediv\u001b[0m\u001b[0;34m)\u001b[0m\u001b[0;34m\u001b[0m\u001b[0;34m\u001b[0m\u001b[0m\n\u001b[0m\u001b[1;32m   1740\u001b[0m \u001b[0;34m\u001b[0m\u001b[0m\n\u001b[1;32m   1741\u001b[0m         \u001b[0;32mtry\u001b[0m\u001b[0;34m:\u001b[0m\u001b[0;34m\u001b[0m\u001b[0;34m\u001b[0m\u001b[0m\n",
      "\u001b[0;32m~/sage/src/sage/structure/coerce.pyx\u001b[0m in \u001b[0;36msage.structure.coerce.CoercionModel.bin_op\u001b[0;34m()\u001b[0m\n\u001b[1;32m   1202\u001b[0m             \u001b[0mself\u001b[0m\u001b[0;34m.\u001b[0m\u001b[0m_record_exception\u001b[0m\u001b[0;34m(\u001b[0m\u001b[0;34m)\u001b[0m\u001b[0;34m\u001b[0m\u001b[0;34m\u001b[0m\u001b[0m\n\u001b[1;32m   1203\u001b[0m         \u001b[0;32melse\u001b[0m\u001b[0;34m:\u001b[0m\u001b[0;34m\u001b[0m\u001b[0;34m\u001b[0m\u001b[0m\n\u001b[0;32m-> 1204\u001b[0;31m             \u001b[0;32mreturn\u001b[0m \u001b[0mPyObject_CallObject\u001b[0m\u001b[0;34m(\u001b[0m\u001b[0mop\u001b[0m\u001b[0;34m,\u001b[0m \u001b[0mxy\u001b[0m\u001b[0;34m)\u001b[0m\u001b[0;34m\u001b[0m\u001b[0;34m\u001b[0m\u001b[0m\n\u001b[0m\u001b[1;32m   1205\u001b[0m \u001b[0;34m\u001b[0m\u001b[0m\n\u001b[1;32m   1206\u001b[0m         \u001b[0;32mif\u001b[0m \u001b[0mop\u001b[0m \u001b[0;32mis\u001b[0m \u001b[0mmul\u001b[0m\u001b[0;34m:\u001b[0m\u001b[0;34m\u001b[0m\u001b[0;34m\u001b[0m\u001b[0m\n",
      "\u001b[0;32m~/sage/src/sage/structure/element.pyx\u001b[0m in \u001b[0;36msage.structure.element.Element.__truediv__\u001b[0;34m()\u001b[0m\n\u001b[1;32m   1735\u001b[0m         \u001b[0mcdef\u001b[0m \u001b[0mint\u001b[0m \u001b[0mcl\u001b[0m \u001b[0;34m=\u001b[0m \u001b[0mclassify_elements\u001b[0m\u001b[0;34m(\u001b[0m\u001b[0mleft\u001b[0m\u001b[0;34m,\u001b[0m \u001b[0mright\u001b[0m\u001b[0;34m)\u001b[0m\u001b[0;34m\u001b[0m\u001b[0;34m\u001b[0m\u001b[0m\n\u001b[1;32m   1736\u001b[0m         \u001b[0;32mif\u001b[0m \u001b[0mHAVE_SAME_PARENT\u001b[0m\u001b[0;34m(\u001b[0m\u001b[0mcl\u001b[0m\u001b[0;34m)\u001b[0m\u001b[0;34m:\u001b[0m\u001b[0;34m\u001b[0m\u001b[0;34m\u001b[0m\u001b[0m\n\u001b[0;32m-> 1737\u001b[0;31m             \u001b[0;32mreturn\u001b[0m \u001b[0;34m(\u001b[0m\u001b[0;34m<\u001b[0m\u001b[0mElement\u001b[0m\u001b[0;34m>\u001b[0m\u001b[0mleft\u001b[0m\u001b[0;34m)\u001b[0m\u001b[0;34m.\u001b[0m\u001b[0m_div_\u001b[0m\u001b[0;34m(\u001b[0m\u001b[0mright\u001b[0m\u001b[0;34m)\u001b[0m\u001b[0;34m\u001b[0m\u001b[0;34m\u001b[0m\u001b[0m\n\u001b[0m\u001b[1;32m   1738\u001b[0m         \u001b[0;32mif\u001b[0m \u001b[0mBOTH_ARE_ELEMENT\u001b[0m\u001b[0;34m(\u001b[0m\u001b[0mcl\u001b[0m\u001b[0;34m)\u001b[0m\u001b[0;34m:\u001b[0m\u001b[0;34m\u001b[0m\u001b[0;34m\u001b[0m\u001b[0m\n\u001b[1;32m   1739\u001b[0m             \u001b[0;32mreturn\u001b[0m \u001b[0mcoercion_model\u001b[0m\u001b[0;34m.\u001b[0m\u001b[0mbin_op\u001b[0m\u001b[0;34m(\u001b[0m\u001b[0mleft\u001b[0m\u001b[0;34m,\u001b[0m \u001b[0mright\u001b[0m\u001b[0;34m,\u001b[0m \u001b[0mtruediv\u001b[0m\u001b[0;34m)\u001b[0m\u001b[0;34m\u001b[0m\u001b[0;34m\u001b[0m\u001b[0m\n",
      "\u001b[0;32m~/sage/src/sage/structure/element.pyx\u001b[0m in \u001b[0;36msage.structure.element.RingElement._div_\u001b[0;34m()\u001b[0m\n\u001b[1;32m   2736\u001b[0m             \u001b[0mfrac\u001b[0m \u001b[0;34m=\u001b[0m \u001b[0mself\u001b[0m\u001b[0;34m.\u001b[0m\u001b[0m_parent\u001b[0m\u001b[0;34m.\u001b[0m\u001b[0mfraction_field\u001b[0m\u001b[0;34m(\u001b[0m\u001b[0;34m)\u001b[0m\u001b[0;34m\u001b[0m\u001b[0;34m\u001b[0m\u001b[0m\n\u001b[1;32m   2737\u001b[0m         \u001b[0;32mexcept\u001b[0m \u001b[0mAttributeError\u001b[0m\u001b[0;34m:\u001b[0m\u001b[0;34m\u001b[0m\u001b[0;34m\u001b[0m\u001b[0m\n\u001b[0;32m-> 2738\u001b[0;31m             \u001b[0;32mraise\u001b[0m \u001b[0mbin_op_exception\u001b[0m\u001b[0;34m(\u001b[0m\u001b[0;34m'/'\u001b[0m\u001b[0;34m,\u001b[0m \u001b[0mself\u001b[0m\u001b[0;34m,\u001b[0m \u001b[0mother\u001b[0m\u001b[0;34m)\u001b[0m\u001b[0;34m\u001b[0m\u001b[0;34m\u001b[0m\u001b[0m\n\u001b[0m\u001b[1;32m   2739\u001b[0m         \u001b[0;32mreturn\u001b[0m \u001b[0mfrac\u001b[0m\u001b[0;34m(\u001b[0m\u001b[0mself\u001b[0m\u001b[0;34m,\u001b[0m \u001b[0mother\u001b[0m\u001b[0;34m)\u001b[0m\u001b[0;34m\u001b[0m\u001b[0;34m\u001b[0m\u001b[0m\n\u001b[1;32m   2740\u001b[0m \u001b[0;34m\u001b[0m\u001b[0m\n",
      "\u001b[0;31mTypeError\u001b[0m: unsupported operand parent(s) for /: 'Multivariate Ore algebra in S, Si over Fraction Field of Multivariate Polynomial Ring in q, Q over Rational Field' and 'Multivariate Ore algebra in S, Si over Fraction Field of Multivariate Polynomial Ring in q, Q over Rational Field'"
     ]
    }
   ],
   "source": [
    "compatibility(L)"
   ]
  },
  {
   "cell_type": "markdown",
   "id": "a7ba2c75",
   "metadata": {},
   "source": [
    "We may need to add also $Q^{-1}$, or restric the type of operators in the input. We also need to see what will happen with the $(q;q)_n$ factor that appeared in the formulas.\n",
    "\n",
    "Otherwise, the compatibility with the $q$-binomial basis seems to be worked out."
   ]
  },
  {
   "cell_type": "markdown",
   "id": "982402b4-0450-4764-82ff-f4c713a542ed",
   "metadata": {},
   "source": [
    "## Using FreeAlgebras?\n",
    "\n",
    "We can use the structure FreeAlgebra to avoid the problems of programming with Ore Algebras, since they require some extra treatment to work properly due to the non-commutativity of some of the operators and also the appearances of the inverses operators.\n",
    "\n",
    "What we are working here is with a non-commutative algebra that can be built as a quotient of a free algebra. We can do this an implement the reduction methods following the commutation rules that appear. This will lead to a \"cannonical\" form of the operator (where the variables appear in a fixed order). The following cell implements precisely the ring of operators that we are interested in, and the method `simplify` computes the canninical form taking into account the simplification of the inverses operators."
   ]
  },
  {
   "cell_type": "code",
   "execution_count": 20,
   "id": "755717b4",
   "metadata": {},
   "outputs": [],
   "source": [
    "FA.<Q, iQ, S, iS> = FreeAlgebra(FractionField(QQ[q]))\n",
    "q = FA.base()('q')\n",
    "comms = {iQ*Q: 1, S*iS: 1, S*Q: q*Q*S, S*iQ : (1/q)*iQ*S, iS*Q : (1/q)*Q*iS, iS*iQ : q*iQ*iS}\n",
    "\n",
    "def is_monomial(element):\n",
    "    r'''\n",
    "        Method to check whether an objet is a monomial or not\n",
    "    '''\n",
    "    return element.coefficients() == [1]\n",
    "\n",
    "def degrees(monomial):\n",
    "    r'''\n",
    "        Method to compute the degrees of a monomial. If not in cannonical form, the result is not reliable.\n",
    "    '''\n",
    "    if not is_monomial(monomial):\n",
    "        raise TypeError\n",
    "    \n",
    "    monoid = monomial.trailing_support() # casting to monoid type\n",
    "    monoid_list = monoid.to_list()\n",
    "    gens = monoid.parent().gens()\n",
    "    return tuple([monoid_list.count(g) for g in gens])\n",
    "\n",
    "def max_degrees(element):\n",
    "    r'''\n",
    "        Method to compute the degrees of a polynoial. It assumes it is in cannonical form\n",
    "    '''\n",
    "    all_degs = [degrees(m) for m in element.monomials()]\n",
    "    all_degs = [[r[i] for r in all_degs] for i in range(len(element.parent().gens()))]\n",
    "    return tuple([max(r) for r in all_degs])\n",
    "\n",
    "def monomial_from_degrees(degrees, parent):\n",
    "    r'''\n",
    "        Method to compute a monomial from the degrees (in cannonical form)\n",
    "    '''\n",
    "    gens = parent.gens()\n",
    "    if len(gens) != len(degrees):\n",
    "        raise ValueError(\"Incorrect size\")\n",
    "        \n",
    "    return prod(gens[i]**degrees[i] for i in range(len(gens)))\n",
    "\n",
    "def cannonical(element, commutations):\n",
    "    r'''\n",
    "        Method to compute a cannonical form of a element of a free algebra where \n",
    "        the commutations rules are povided with a dictionary. If a relation\n",
    "        does not appear in the dictionary, we assume they commute.\n",
    "    '''\n",
    "    if is_monomial(element):\n",
    "        # We apply the commutation rules\n",
    "        monoid = element.trailing_support() # casting to monoid type\n",
    "        monoid_list = monoid.to_list()\n",
    "        gens = monoid.parent().gens()\n",
    "        leq = lambda p, q : gens.index(p) <= gens.index(q)\n",
    "        for i in range(len(monoid_list)-1):\n",
    "            if not leq(monoid_list[i], monoid_list[i+1]):\n",
    "                v1, v2 = monoid_list[i], monoid_list[i+1]\n",
    "                ori = element.parent()(v1*v2); com = element.parent()(v2*v1)\n",
    "                monoid_list.pop(i)\n",
    "                monoid_list[i] = commutations.get(ori, com)\n",
    "                return cannonical(prod([element.parent()(el) for el in monoid_list]), commutations)\n",
    "        # If we reach this point, the variables in the monomial are sorted, hence the monomial is cannonical\n",
    "        return element\n",
    "    # Otherwise, we compute the new element for each term\n",
    "    coeffs = element.coefficients(False)\n",
    "    monomials = [cannonical(m, commutations) for m in element.monomials()]\n",
    "    \n",
    "    return sum(coeffs[i]*monomials[i] for i in range(len(monomials)))\n",
    "\n",
    "def simplify(element, commutations, inv = None):\n",
    "    r'''\n",
    "        Method to simplify a expression following some commutations and inverses.\n",
    "    '''\n",
    "    # First, we compute the cannonical form\n",
    "    element = cannonical(element, commutations)\n",
    "    \n",
    "    # Now we compute the inverses if they are not provided\n",
    "    inverses = [] if inv is None else inv.copy()\n",
    "    for rule in commutations:\n",
    "        if commutations[rule] == 1: # this is an inverse\n",
    "            inverses.append(rule.variables())\n",
    "    \n",
    "    return _simplify(element, inverses)\n",
    "\n",
    "def _simplify(element, inverses):\n",
    "    r'''\n",
    "        Method to simplify a expression following some commutations and inverses.\n",
    "    \n",
    "        This method assumes that element is in cannonical form.\n",
    "    '''\n",
    "    coefficients = element.coefficients(False)\n",
    "    monomials = element.monomials()\n",
    "    red_monomials = []\n",
    "    for m in monomials:\n",
    "        deg = list(degrees(m))\n",
    "        gens = m.parent().gens()\n",
    "        for (v1,v2) in inverses:\n",
    "            i1, i2 = gens.index(v1), gens.index(v2)\n",
    "            m = min(deg[i1],deg[i2])\n",
    "            deg[i1] -= m; deg[i2] -= m\n",
    "        red_monomials.append(monomial_from_degrees(deg, element.parent()))\n",
    "    return sum(coefficients[i]*red_monomials[i] for i in range(len(coefficients)))"
   ]
  },
  {
   "cell_type": "markdown",
   "id": "58e2a478-50fd-4004-b4cc-3de56b4c234c",
   "metadata": {},
   "source": [
    "Now, what remains is to implement the substitution (or compatibility) rules for all the generators that appear in the Free Algebra. Once we have this, we can always substitue purely in the operator and apply the method `simplify`to obtain the new recurrence equation:"
   ]
  },
  {
   "cell_type": "code",
   "execution_count": 21,
   "id": "073597ab-c269-438a-a9e7-67138142796d",
   "metadata": {},
   "outputs": [],
   "source": [
    "ruleS = S + Q\n",
    "ruleQ = Q + (Q^2-Q)/q*iS\n",
    "rules = {'S': ruleS, 'Q': ruleQ}\n",
    "\n",
    "def evaluate(element, rules):\n",
    "    r'''\n",
    "        Method that evaluate a cannonical element with some rules.\n",
    "        \n",
    "        This assumes that:\n",
    "        * ``rules`` cover all the variables appearing in ``element``\n",
    "        * ``element`` is in cannonical form.\n",
    "        * The output is **not** simplified.\n",
    "    '''\n",
    "    coefficients = element.coefficients(False)\n",
    "    monomials = [evaluate_monomial(m, rules) for m in element.monomials()]\n",
    "    \n",
    "    return sum(coefficients[i]*monomials[i] for i in range(len(coefficients)))\n",
    "\n",
    "def evaluate_monomial(monomial, rules):\n",
    "    r'''\n",
    "        Method that evaluate a cannonical monomial with some rules.\n",
    "        \n",
    "        This assumes that:\n",
    "        * ``rules`` cover all the variables appearing in ``monomial``\n",
    "        * ``monomial`` is in cannonical form.\n",
    "    '''\n",
    "    gens = [str(el) for el in monomial.parent().gens()]; n = len(gens)\n",
    "    degs = degrees(monomial)\n",
    "    if any([(not gens[i] in rules) for i in range(n) if degs[i] > 0]):\n",
    "        raise ValueError(\"An element is not given by the rules: impossible to substitute\")\n",
    "    \n",
    "    return prod(rules[gens[i]]**degs[i] for i in range(n) if degs[i] > 0)    \n",
    "\n",
    "def compatibility(element, rules, commutations, inverses= None):\n",
    "    return simplify(evaluate(element, rules), commutations, inverses)\n",
    "\n",
    "def remove_iS(element, commutations, inverses = None):\n",
    "    i = list(element.parent().gens()).index(iS)\n",
    "    m = max(degrees(mon)[i] for mon in element.monomials())\n",
    "    return simplify(S**m * element, commutations, inverses)"
   ]
  },
  {
   "cell_type": "code",
   "execution_count": 22,
   "id": "e2d6aeb2-9863-4332-8699-d0564bd75bcf",
   "metadata": {},
   "outputs": [
    {
     "data": {
      "text/html": [
       "<html>\\(\\displaystyle -1 - \\frac{1}{q} Q S + Q S^{2}\\)</html>"
      ],
      "text/latex": [
       "$\\displaystyle -1 - \\frac{1}{q} Q S + Q S^{2}$"
      ],
      "text/plain": [
       "-1 - 1/q*Q*S + Q*S^2"
      ]
     },
     "execution_count": 22,
     "metadata": {},
     "output_type": "execute_result"
    }
   ],
   "source": [
    "L = Q*S^2 - Q/q*S - 1; L"
   ]
  },
  {
   "cell_type": "code",
   "execution_count": 23,
   "id": "d0ed0d06-6bd3-482e-93fd-f9878f832a2d",
   "metadata": {},
   "outputs": [
    {
     "data": {
      "text/html": [
       "<html>\\(\\displaystyle -1 + \\frac{1}{q^{2}} Q + \\left(\\frac{-2 q - 2}{q^{2}}\\right) Q^{2} - \\frac{2}{q} Q S + \\left(\\frac{q^{2} + q + 1}{q^{2}}\\right) Q^{3} + \\left(\\frac{q^{2} + q + 1}{q}\\right) Q^{2}S + \\frac{1}{q^{3}} Q^{2}\\mathit{iS} + Q S^{2} - \\frac{2}{q^{3}} Q^{3}\\mathit{iS} + \\frac{1}{q^{3}} Q^{4}\\mathit{iS}\\)</html>"
      ],
      "text/latex": [
       "$\\displaystyle -1 + \\frac{1}{q^{2}} Q + \\left(\\frac{-2 q - 2}{q^{2}}\\right) Q^{2} - \\frac{2}{q} Q S + \\left(\\frac{q^{2} + q + 1}{q^{2}}\\right) Q^{3} + \\left(\\frac{q^{2} + q + 1}{q}\\right) Q^{2}S + \\frac{1}{q^{3}} Q^{2}\\mathit{iS} + Q S^{2} - \\frac{2}{q^{3}} Q^{3}\\mathit{iS} + \\frac{1}{q^{3}} Q^{4}\\mathit{iS}$"
      ],
      "text/plain": [
       "-1 + 1/q^2*Q + ((-2*q-2)/q^2)*Q^2 - 2/q*Q*S + ((q^2+q+1)/q^2)*Q^3 + ((q^2+q+1)/q)*Q^2*S + 1/q^3*Q^2*iS + Q*S^2 - 2/q^3*Q^3*iS + 1/q^3*Q^4*iS"
      ]
     },
     "execution_count": 23,
     "metadata": {},
     "output_type": "execute_result"
    }
   ],
   "source": [
    "L1 = compatibility(L, rules, comms); L1"
   ]
  },
  {
   "cell_type": "markdown",
   "id": "fd503148-973c-402c-be6f-915d47ec8d01",
   "metadata": {},
   "source": [
    "### The example by Ali\n",
    "\n",
    "The example by Ali is a recurrence with plenty of components:\n",
    "\n",
    "$$\\begin{array}{rll}\n",
    "q^{19 + 6n}\\left({\\left(q^{24} + q^{23} + q^{22}\\right)} q^{6 \\, n} - {\\left(q^{20} + q^{19} + q^{18}\\right)} q^{5 \\, n} + {\\left(q^{17} + q^{16} + q^{15}\\right)} q^{4 \\, n} + {\\left(q^{12} + q^{11} + q^{10}\\right)} q^{3 \\, n} - {\\left(q^{9} + q^{8} + q^{7}\\right)} q^{2 \\, n} + {\\left(q^{5} + 2 \\, q^{4} + q^{3}\\right)} q^{n} - 1\\right) & f(n) + &  \\\\\n",
    "q^{5 \\, n + 19}\\left({\\left(q^{28} + q^{27} + q^{26} + q^{25} + q^{24} + q^{23}\\right)} q^{8 \\, n} - {\\left(q^{21} + q^{20} + q^{19}\\right)} q^{7 \\, n} + {\\left(q^{21} + q^{20} + q^{19} + q^{18} + q^{17} + q^{16}\\right)} q^{6 \\, n} + {\\left(q^{16} + q^{15} + q^{14} + q^{13} + q^{12} + q^{11}\\right)} q^{5 \\, n} + {\\left(q^{15} + q^{14} + q^{13} - q^{10} - q^{9} - q^{8}\\right)} q^{4 \\, n} - {\\left(q^{12} + q^{11} - q^{9} - 2 \\, q^{8} - 2 \\, q^{7} - 2 \\, q^{6} - 2 \\, q^{5} - q^{4}\\right)} q^{3 \\, n} + {\\left(q^{8} - q^{5} - q\\right)} q^{2 \\, n} + {\\left(q^{3} + q^{2} + q\\right)} q^{n} - 1\\right) & f(1 + n) + & \\\\\n",
    "q^{3 \\, n + 12} \\left( {\\left(q^{37} + q^{36} + q^{35}\\right)} q^{11 \\, n} - {\\left(q^{33} + q^{32} + q^{31}\\right)} q^{10 \\, n} + {\\left(q^{32} + 2 \\, q^{31} + 3 \\, q^{30} + 3 \\, q^{29} + 2 \\, q^{28} + q^{27}\\right)} q^{9 \\, n} - {\\left(q^{30} + 2 \\, q^{29} + 3 \\, q^{28} + 2 \\, q^{27} + 2 \\, q^{26} - q^{23}\\right)} q^{8 \\, n} + {\\left(q^{27} + 2 \\, q^{26} + 3 \\, q^{25} + 3 \\, q^{24} + 2 \\, q^{23} + q^{22} - q^{21} - q^{20} - q^{19}\\right)} q^{7 \\, n} - {\\left(q^{25} + 2 \\, q^{24} + 4 \\, q^{23} + 2 \\, q^{22} + 2 \\, q^{21} - q^{20} - 2 \\, q^{19} - 4 \\, q^{18} - 4 \\, q^{17} - 3 \\, q^{16} - q^{15}\\right)} q^{6 \\, n} + {\\left(q^{21} + 2 \\, q^{20} + 2 \\, q^{19} - q^{17} - 3 \\, q^{16} - 2 \\, q^{15} - 3 \\, q^{14} - 2 \\, q^{13} - q^{12}\\right)} q^{5 \\, n} - {\\left(q^{18} + q^{17} + 2 \\, q^{16} - q^{14} - 3 \\, q^{13} - 3 \\, q^{12} - 3 \\, q^{11} - 2 \\, q^{10} - q^{9}\\right)} q^{4 \\, n} - {\\left(q^{13} + q^{12} + 3 \\, q^{11} + 3 \\, q^{10} + 3 \\, q^{9} + q^{8} + q^{7}\\right)} q^{3 \\, n} + {\\left(q^{10} + q^{9} + 2 \\, q^{8} + 2 \\, q^{7} + q^{6}\\right)} q^{2 \\, n} - {\\left(q^{6} + 2 \\, q^{5} + 3 \\, q^{4} + 2 \\, q^{3}\\right)} q^{n} + q + 1 \\right) & f(2 + n) + & \\\\\n",
    "q^{2 \\, n + 10} \\left( {\\left(q^{40} + q^{39} + q^{38}\\right)} q^{12 \\, n} - {\\left(q^{37} + 2 \\, q^{36} + 2 \\, q^{35} + q^{34}\\right)} q^{11 \\, n} + {\\left(q^{35} + q^{34} + 2 \\, q^{33} + q^{32} + q^{31}\\right)} q^{10 \\, n} + {\\left(q^{30} + 2 \\, q^{29} + 3 \\, q^{28} + 2 \\, q^{27} + q^{26}\\right)} q^{9 \\, n} - {\\left(q^{29} + q^{28} + 3 \\, q^{27} + 4 \\, q^{26} + 6 \\, q^{25} + 5 \\, q^{24} + 3 \\, q^{23} + q^{22}\\right)} q^{8 \\, n} + {\\left(q^{26} + 4 \\, q^{25} + 5 \\, q^{24} + 7 \\, q^{23} + 7 \\, q^{22} + 7 \\, q^{21} + 5 \\, q^{20} + 3 \\, q^{19} + q^{18}\\right)} q^{7 \\, n} - {\\left(2 \\, q^{22} + 3 \\, q^{21} + 3 \\, q^{20} + 3 \\, q^{19} + 2 \\, q^{18} + 2 \\, q^{17} + q^{16} + q^{15}\\right)} q^{6 \\, n} + {\\left(q^{18} - q^{15} - 2 \\, q^{14} - 2 \\, q^{13} - q^{12}\\right)} q^{5 \\, n} + {\\left(2 \\, q^{15} + 4 \\, q^{14} + 7 \\, q^{13} + 7 \\, q^{12} + 8 \\, q^{11} + 6 \\, q^{10} + 4 \\, q^{9} + q^{8}\\right)} q^{4 \\, n} - {\\left(q^{12} + 3 \\, q^{11} + 5 \\, q^{10} + 6 \\, q^{9} + 5 \\, q^{8} + 4 \\, q^{7} + 2 \\, q^{6} + q^{5}\\right)} q^{3 \\, n} + {\\left(q^{8} + 2 \\, q^{7} + 5 \\, q^{6} + 5 \\, q^{5} + 4 \\, q^{4} + 2 \\, q^{3} + q^{2}\\right)} q^{2 \\, n} - q^{n + 2} - 1 \\right) & f(3 + n) + & \\\\\n",
    "q^{n + 4} - 1 \\left( {\\left(q^{18} + q^{17} + q^{16}\\right)} q^{6 \\, n} - {\\left(q^{15} + q^{14} + q^{13}\\right)} q^{5 \\, n} + {\\left(q^{13} + q^{12} + q^{11}\\right)} q^{4 \\, n} + {\\left(q^{9} + q^{8} + q^{7}\\right)} q^{3 \\, n} - {\\left(q^{7} + q^{6} + q^{5}\\right)} q^{2 \\, n} + {\\left(q^{4} + 2 \\, q^{3} + q^{2}\\right)} q^{n} - 1 \\right) & f[4 + n] & = 0\n",
    "\\end{array}$$"
   ]
  },
  {
   "cell_type": "code",
   "execution_count": 54,
   "id": "3dab17ce-1f5d-466b-80ea-a09594c94b3c",
   "metadata": {},
   "outputs": [],
   "source": [
    "q,n = var('q,n')\n",
    "coeffs = [\n",
    "    (-q^(19 + 6*n) + q^(22 + 7*n) + 2*q^(23 + 7*n) + q^(24 + 7*n) - q^(26 + 8*n) - q^(27 + 8*n) - q^(28 + 8*n) + q^(29 + 9*n) + # f(n)\n",
    "     q^(30 + 9*n) + q^(31 + 9*n) + q^(34 + 10*n) + q^(35 + 10*n) + q^(36 + 10*n) - q^(37 + 11*n) - q^(38 + 11*n) - q^(39 + 11*n) + \n",
    "     q^(41 + 12*n) + q^(42 + 12*n) + q^(43 + 12*n)), \n",
    "   (-q^(19 + 5*n) + q^(20 + 6*n) + q^(21 + 6*n) + q^(22 + 6*n) - q^(20 + 7*n) - q^(24 + 7*n) + q^(27 + 7*n) + q^(23 + 8*n) + # f(n+1)\n",
    "     2*q^(24 + 8*n) + 2*q^(25 + 8*n) + 2*q^(26 + 8*n) + 2*q^(27 + 8*n) + q^(28 + 8*n) - q^(30 + 8*n) - q^(31 + 8*n) - q^(27 + 9*n) - \n",
    "     q^(28 + 9*n) - q^(29 + 9*n) + q^(32 + 9*n) + q^(33 + 9*n) + q^(34 + 9*n) + q^(30 + 10*n) + q^(31 + 10*n) + q^(32 + 10*n) + \n",
    "     q^(33 + 10*n) + q^(34 + 10*n) + q^(35 + 10*n) + q^(35 + 11*n) + q^(36 + 11*n) + q^(37 + 11*n) + q^(38 + 11*n) + q^(39 + 11*n) + \n",
    "     q^(40 + 11*n) - q^(38 + 12*n) - q^(39 + 12*n) - q^(40 + 12*n) + q^(42 + 13*n) + q^(43 + 13*n) + q^(44 + 13*n) + q^(45 + 13*n) + \n",
    "     q^(46 + 13*n) + q^(47 + 13*n)), \n",
    "   (q^(12 + 3*n) + q^(13 + 3*n) - 2*q^(15 + 4*n) - 3*q^(16 + 4*n) - 2*q^(17 + 4*n) - q^(18 + 4*n) + q^(18 + 5*n) + 2*q^(19 + 5*n) + # f(n+2)\n",
    "     2*q^(20 + 5*n) + q^(21 + 5*n) + q^(22 + 5*n) - q^(19 + 6*n) - q^(20 + 6*n) - 3*q^(21 + 6*n) - 3*q^(22 + 6*n) - 3*q^(23 + 6*n) - \n",
    "     q^(24 + 6*n) - q^(25 + 6*n) + q^(21 + 7*n) + 2*q^(22 + 7*n) + 3*q^(23 + 7*n) + 3*q^(24 + 7*n) + 3*q^(25 + 7*n) + q^(26 + 7*n) - \n",
    "     2*q^(28 + 7*n) - q^(29 + 7*n) - q^(30 + 7*n) - q^(24 + 8*n) - 2*q^(25 + 8*n) - 3*q^(26 + 8*n) - 2*q^(27 + 8*n) - 3*q^(28 + 8*n) - \n",
    "     q^(29 + 8*n) + 2*q^(31 + 8*n) + 2*q^(32 + 8*n) + q^(33 + 8*n) + q^(27 + 9*n) + 3*q^(28 + 9*n) + 4*q^(29 + 9*n) + 4*q^(30 + 9*n) + \n",
    "     2*q^(31 + 9*n) + q^(32 + 9*n) - 2*q^(33 + 9*n) - 2*q^(34 + 9*n) - 4*q^(35 + 9*n) - 2*q^(36 + 9*n) - q^(37 + 9*n) - q^(31 + 10*n) - \n",
    "     q^(32 + 10*n) - q^(33 + 10*n) + q^(34 + 10*n) + 2*q^(35 + 10*n) + 3*q^(36 + 10*n) + 3*q^(37 + 10*n) + 2*q^(38 + 10*n) + q^(39 + 10*n) + \n",
    "     q^(35 + 11*n) - 2*q^(38 + 11*n) - 2*q^(39 + 11*n) - 3*q^(40 + 11*n) - 2*q^(41 + 11*n) - q^(42 + 11*n) + q^(39 + 12*n) + 2*q^(40 + 12*n) + \n",
    "     3*q^(41 + 12*n) + 3*q^(42 + 12*n) + 2*q^(43 + 12*n) + q^(44 + 12*n) - q^(43 + 13*n) - q^(44 + 13*n) - q^(45 + 13*n) + q^(47 + 14*n) + \n",
    "     q^(48 + 14*n) + q^(49 + 14*n)), \n",
    "   (q^(10 + 2*n) + q^(12 + 3*n) - q^(12 + 4*n) - 2*q^(13 + 4*n) - 4*q^(14 + 4*n) - 5*q^(15 + 4*n) - 5*q^(16 + 4*n) - 2*q^(17 + 4*n) - # f(n+3)\n",
    "     q^(18 + 4*n) + q^(15 + 5*n) + 2*q^(16 + 5*n) + 4*q^(17 + 5*n) + 5*q^(18 + 5*n) + 6*q^(19 + 5*n) + 5*q^(20 + 5*n) + 3*q^(21 + 5*n) + \n",
    "     q^(22 + 5*n) - q^(18 + 6*n) - 4*q^(19 + 6*n) - 6*q^(20 + 6*n) - 8*q^(21 + 6*n) - 7*q^(22 + 6*n) - 7*q^(23 + 6*n) - 4*q^(24 + 6*n) - \n",
    "     2*q^(25 + 6*n) + q^(22 + 7*n) + 2*q^(23 + 7*n) + 2*q^(24 + 7*n) + q^(25 + 7*n) - q^(28 + 7*n) + q^(25 + 8*n) + q^(26 + 8*n) + \n",
    "     2*q^(27 + 8*n) + 2*q^(28 + 8*n) + 3*q^(29 + 8*n) + 3*q^(30 + 8*n) + 3*q^(31 + 8*n) + 2*q^(32 + 8*n) - q^(28 + 9*n) - 3*q^(29 + 9*n) - \n",
    "     5*q^(30 + 9*n) - 7*q^(31 + 9*n) - 7*q^(32 + 9*n) - 7*q^(33 + 9*n) - 5*q^(34 + 9*n) - 4*q^(35 + 9*n) - q^(36 + 9*n) + q^(32 + 10*n) + \n",
    "     3*q^(33 + 10*n) + 5*q^(34 + 10*n) + 6*q^(35 + 10*n) + 4*q^(36 + 10*n) + 3*q^(37 + 10*n) + q^(38 + 10*n) + q^(39 + 10*n) - q^(36 + 11*n) - \n",
    "     2*q^(37 + 11*n) - 3*q^(38 + 11*n) - 2*q^(39 + 11*n) - q^(40 + 11*n) - q^(41 + 12*n) - q^(42 + 12*n) - 2*q^(43 + 12*n) - q^(44 + 12*n) - \n",
    "     q^(45 + 12*n) + q^(44 + 13*n) + 2*q^(45 + 13*n) + 2*q^(46 + 13*n) + q^(47 + 13*n) - q^(48 + 14*n) - q^(49 + 14*n) - q^(50 + 14*n)),\n",
    "    (-1 + q^(2 + n) + 2*q^(3 + n) + 2*q^(4 + n) - q^(5 + 2*n) - 2*q^(6 + 2*n) - 3*q^(7 + 2*n) - q^(8 + 2*n) + q^(7 + 3*n) + q^(8 + 3*n) + # f(n+4)\n",
    "     2*q^(9 + 3*n) + q^(10 + 3*n) + q^(11 + 3*n) - q^(13 + 5*n) - q^(14 + 5*n) - 2*q^(15 + 5*n) - q^(16 + 5*n) - q^(17 + 5*n) + q^(16 + 6*n) + \n",
    "     2*q^(17 + 6*n) + 2*q^(18 + 6*n) + q^(19 + 6*n) - q^(20 + 7*n) - q^(21 + 7*n) - q^(22 + 7*n))\n",
    "]"
   ]
  },
  {
   "cell_type": "code",
   "execution_count": 63,
   "id": "73ccab04-298e-4a9c-bda9-a53775c94bdc",
   "metadata": {},
   "outputs": [],
   "source": [
    "def coeff_to_operator(coeff, dest_q, dest_Q):\n",
    "    import re\n",
    "    opers = coeff.factor().operands()\n",
    "    if len(opers) == 2:\n",
    "        big, small = opers\n",
    "        extra = 1\n",
    "    else:\n",
    "        big, small, extra = opers\n",
    "    string_big = str(big.simplify_full())\n",
    "    string_small = str(small.simplify_full())\n",
    "    regs = [(r\"q\\^\\((\\d*)\\*n\\)\", r\"Q^(\\1)\"),\n",
    "            (r\"q\\^\\((\\d*)\\*n \\+ (\\d*)\\)\", r\"q^(\\2)*Q^(\\1)\"),\n",
    "            (r\"q\\^\\(n \\+ (\\d*)\\)\", r\"q^(\\1)*Q^(1)\"),\n",
    "            (r\"q\\^n\", r\"Q^(1)\"),\n",
    "            (r\"\\^\", r\"**\")]\n",
    "    def apply_regs(regs, string):\n",
    "        for reg in regs:\n",
    "            string = re.sub(*reg, string)\n",
    "        return string\n",
    "    \n",
    "    q = dest_q; Q = dest_Q\n",
    "    return dest_Q.parent()(extra)*eval(apply_regs(regs, string_big)) * eval(apply_regs(regs, string_small))"
   ]
  },
  {
   "cell_type": "code",
   "execution_count": 64,
   "id": "97bcf741-02d4-4a6f-ba97-6638860662a7",
   "metadata": {},
   "outputs": [
    {
     "data": {
      "text/html": [
       "<html>\\(\\displaystyle \\left(14, 0, 4, 0\\right)\\)</html>"
      ],
      "text/latex": [
       "$\\displaystyle \\left(14, 0, 4, 0\\right)$"
      ],
      "text/plain": [
       "(14, 0, 4, 0)"
      ]
     },
     "execution_count": 64,
     "metadata": {},
     "output_type": "execute_result"
    }
   ],
   "source": [
    "L = sum([coeff_to_operator(coeffs[i], FA(q), FA(Q))*S^i for i in range(len(coeffs))]);\n",
    "max_degrees(L)"
   ]
  },
  {
   "cell_type": "code",
   "execution_count": 29,
   "id": "a4dc5241",
   "metadata": {},
   "outputs": [
    {
     "data": {
      "text/html": [
       "<html>\\(\\displaystyle -S^{4} + \\left(q^{13} + q^{12}\\right) Q^{3}S^{2} + q^{10} Q^{2}S^{3} + \\left(2 q^{4} + 2 q^{3} + q^{2}\\right) Q S^{4} - q^{19} Q^{6} - q^{19} Q^{5}S + \\left(-q^{18} - 2 q^{17} - 3 q^{16} - 2 q^{15}\\right) Q^{4}S^{2} + q^{12} Q^{3}S^{3} + \\left(-q^{8} - 3 q^{7} - 2 q^{6} - q^{5}\\right) Q^{2}S^{4} + \\left(q^{24} + 2 q^{23} + q^{22}\\right) Q^{7} + \\left(q^{22} + q^{21} + q^{20}\\right) Q^{6}S + \\left(q^{22} + q^{21} + 2 q^{20} + 2 q^{19} + q^{18}\\right) Q^{5}S^{2} + \\left(-q^{18} - 2 q^{17} - 5 q^{16} - 5 q^{15} - 4 q^{14} - 2 q^{13} - q^{12}\\right) Q^{4}S^{3} + \\left(q^{11} + q^{10} + 2 q^{9} + q^{8} + q^{7}\\right) Q^{3}S^{4} + \\left(-q^{28} - q^{27} - q^{26}\\right) Q^{8} + \\left(q^{27} - q^{24} - q^{20}\\right) Q^{7}S + \\left(-q^{25} - q^{24} - 3 q^{23} - 3 q^{22} - 3 q^{21} - q^{20} - q^{19}\\right) Q^{6}S^{2} + \\left(q^{22} + 3 q^{21} + 5 q^{20} + 6 q^{19} + 5 q^{18} + 4 q^{17} + 2 q^{16} + q^{15}\\right) Q^{5}S^{3} + \\left(q^{31} + q^{30} + q^{29}\\right) Q^{9} + \\left(-q^{31} - q^{30} + q^{28} + 2 q^{27} + 2 q^{26} + 2 q^{25} + 2 q^{24} + q^{23}\\right) Q^{8}S + \\left(-q^{30} - q^{29} - 2 q^{28} + q^{26} + 3 q^{25} + 3 q^{24} + 3 q^{23} + 2 q^{22} + q^{21}\\right) Q^{7}S^{2} + \\left(-2 q^{25} - 4 q^{24} - 7 q^{23} - 7 q^{22} - 8 q^{21} - 6 q^{20} - 4 q^{19} - q^{18}\\right) Q^{6}S^{3} + \\left(-q^{17} - q^{16} - 2 q^{15} - q^{14} - q^{13}\\right) Q^{5}S^{4} + \\left(q^{36} + q^{35} + q^{34}\\right) Q^{10} + \\left(q^{34} + q^{33} + q^{32} - q^{29} - q^{28} - q^{27}\\right) Q^{9}S + \\left(q^{33} + 2 q^{32} + 2 q^{31} - q^{29} - 3 q^{28} - 2 q^{27} - 3 q^{26} - 2 q^{25} - q^{24}\\right) Q^{8}S^{2} + \\left(-q^{28} + q^{25} + 2 q^{24} + 2 q^{23} + q^{22}\\right) Q^{7}S^{3} + \\left(q^{19} + 2 q^{18} + 2 q^{17} + q^{16}\\right) Q^{6}S^{4} + \\left(-q^{39} - q^{38} - q^{37}\\right) Q^{11} + \\left(q^{35} + q^{34} + q^{33} + q^{32} + q^{31} + q^{30}\\right) Q^{10}S + \\left(-q^{37} - 2 q^{36} - 4 q^{35} - 2 q^{34} - 2 q^{33} + q^{32} + 2 q^{31} + 4 q^{30} + 4 q^{29} + 3 q^{28} + q^{27}\\right) Q^{9}S^{2} + \\left(2 q^{32} + 3 q^{31} + 3 q^{30} + 3 q^{29} + 2 q^{28} + 2 q^{27} + q^{26} + q^{25}\\right) Q^{8}S^{3} + \\left(-q^{22} - q^{21} - q^{20}\\right) Q^{7}S^{4} + \\left(q^{43} + q^{42} + q^{41}\\right) Q^{12} + \\left(q^{40} + q^{39} + q^{38} + q^{37} + q^{36} + q^{35}\\right) Q^{11}S + \\left(q^{39} + 2 q^{38} + 3 q^{37} + 3 q^{36} + 2 q^{35} + q^{34} - q^{33} - q^{32} - q^{31}\\right) Q^{10}S^{2} + \\left(-q^{36} - 4 q^{35} - 5 q^{34} - 7 q^{33} - 7 q^{32} - 7 q^{31} - 5 q^{30} - 3 q^{29} - q^{28}\\right) Q^{9}S^{3} + \\left(-q^{40} - q^{39} - q^{38}\\right) Q^{12}S + \\left(-q^{42} - 2 q^{41} - 3 q^{40} - 2 q^{39} - 2 q^{38} + q^{35}\\right) Q^{11}S^{2} + \\left(q^{39} + q^{38} + 3 q^{37} + 4 q^{36} + 6 q^{35} + 5 q^{34} + 3 q^{33} + q^{32}\\right) Q^{10}S^{3} + \\left(q^{47} + q^{46} + q^{45} + q^{44} + q^{43} + q^{42}\\right) Q^{13}S + \\left(q^{44} + 2 q^{43} + 3 q^{42} + 3 q^{41} + 2 q^{40} + q^{39}\\right) Q^{12}S^{2} + \\left(-q^{40} - 2 q^{39} - 3 q^{38} - 2 q^{37} - q^{36}\\right) Q^{11}S^{3} + \\left(-q^{45} - q^{44} - q^{43}\\right) Q^{13}S^{2} + \\left(-q^{45} - q^{44} - 2 q^{43} - q^{42} - q^{41}\\right) Q^{12}S^{3} + \\left(q^{49} + q^{48} + q^{47}\\right) Q^{14}S^{2} + \\left(q^{47} + 2 q^{46} + 2 q^{45} + q^{44}\\right) Q^{13}S^{3} + \\left(-q^{50} - q^{49} - q^{48}\\right) Q^{14}S^{3}\\)</html>"
      ],
      "text/latex": [
       "$\\displaystyle -S^{4} + \\left(q^{13} + q^{12}\\right) Q^{3}S^{2} + q^{10} Q^{2}S^{3} + \\left(2 q^{4} + 2 q^{3} + q^{2}\\right) Q S^{4} - q^{19} Q^{6} - q^{19} Q^{5}S + \\left(-q^{18} - 2 q^{17} - 3 q^{16} - 2 q^{15}\\right) Q^{4}S^{2} + q^{12} Q^{3}S^{3} + \\left(-q^{8} - 3 q^{7} - 2 q^{6} - q^{5}\\right) Q^{2}S^{4} + \\left(q^{24} + 2 q^{23} + q^{22}\\right) Q^{7} + \\left(q^{22} + q^{21} + q^{20}\\right) Q^{6}S + \\left(q^{22} + q^{21} + 2 q^{20} + 2 q^{19} + q^{18}\\right) Q^{5}S^{2} + \\left(-q^{18} - 2 q^{17} - 5 q^{16} - 5 q^{15} - 4 q^{14} - 2 q^{13} - q^{12}\\right) Q^{4}S^{3} + \\left(q^{11} + q^{10} + 2 q^{9} + q^{8} + q^{7}\\right) Q^{3}S^{4} + \\left(-q^{28} - q^{27} - q^{26}\\right) Q^{8} + \\left(q^{27} - q^{24} - q^{20}\\right) Q^{7}S + \\left(-q^{25} - q^{24} - 3 q^{23} - 3 q^{22} - 3 q^{21} - q^{20} - q^{19}\\right) Q^{6}S^{2} + \\left(q^{22} + 3 q^{21} + 5 q^{20} + 6 q^{19} + 5 q^{18} + 4 q^{17} + 2 q^{16} + q^{15}\\right) Q^{5}S^{3} + \\left(q^{31} + q^{30} + q^{29}\\right) Q^{9} + \\left(-q^{31} - q^{30} + q^{28} + 2 q^{27} + 2 q^{26} + 2 q^{25} + 2 q^{24} + q^{23}\\right) Q^{8}S + \\left(-q^{30} - q^{29} - 2 q^{28} + q^{26} + 3 q^{25} + 3 q^{24} + 3 q^{23} + 2 q^{22} + q^{21}\\right) Q^{7}S^{2} + \\left(-2 q^{25} - 4 q^{24} - 7 q^{23} - 7 q^{22} - 8 q^{21} - 6 q^{20} - 4 q^{19} - q^{18}\\right) Q^{6}S^{3} + \\left(-q^{17} - q^{16} - 2 q^{15} - q^{14} - q^{13}\\right) Q^{5}S^{4} + \\left(q^{36} + q^{35} + q^{34}\\right) Q^{10} + \\left(q^{34} + q^{33} + q^{32} - q^{29} - q^{28} - q^{27}\\right) Q^{9}S + \\left(q^{33} + 2 q^{32} + 2 q^{31} - q^{29} - 3 q^{28} - 2 q^{27} - 3 q^{26} - 2 q^{25} - q^{24}\\right) Q^{8}S^{2} + \\left(-q^{28} + q^{25} + 2 q^{24} + 2 q^{23} + q^{22}\\right) Q^{7}S^{3} + \\left(q^{19} + 2 q^{18} + 2 q^{17} + q^{16}\\right) Q^{6}S^{4} + \\left(-q^{39} - q^{38} - q^{37}\\right) Q^{11} + \\left(q^{35} + q^{34} + q^{33} + q^{32} + q^{31} + q^{30}\\right) Q^{10}S + \\left(-q^{37} - 2 q^{36} - 4 q^{35} - 2 q^{34} - 2 q^{33} + q^{32} + 2 q^{31} + 4 q^{30} + 4 q^{29} + 3 q^{28} + q^{27}\\right) Q^{9}S^{2} + \\left(2 q^{32} + 3 q^{31} + 3 q^{30} + 3 q^{29} + 2 q^{28} + 2 q^{27} + q^{26} + q^{25}\\right) Q^{8}S^{3} + \\left(-q^{22} - q^{21} - q^{20}\\right) Q^{7}S^{4} + \\left(q^{43} + q^{42} + q^{41}\\right) Q^{12} + \\left(q^{40} + q^{39} + q^{38} + q^{37} + q^{36} + q^{35}\\right) Q^{11}S + \\left(q^{39} + 2 q^{38} + 3 q^{37} + 3 q^{36} + 2 q^{35} + q^{34} - q^{33} - q^{32} - q^{31}\\right) Q^{10}S^{2} + \\left(-q^{36} - 4 q^{35} - 5 q^{34} - 7 q^{33} - 7 q^{32} - 7 q^{31} - 5 q^{30} - 3 q^{29} - q^{28}\\right) Q^{9}S^{3} + \\left(-q^{40} - q^{39} - q^{38}\\right) Q^{12}S + \\left(-q^{42} - 2 q^{41} - 3 q^{40} - 2 q^{39} - 2 q^{38} + q^{35}\\right) Q^{11}S^{2} + \\left(q^{39} + q^{38} + 3 q^{37} + 4 q^{36} + 6 q^{35} + 5 q^{34} + 3 q^{33} + q^{32}\\right) Q^{10}S^{3} + \\left(q^{47} + q^{46} + q^{45} + q^{44} + q^{43} + q^{42}\\right) Q^{13}S + \\left(q^{44} + 2 q^{43} + 3 q^{42} + 3 q^{41} + 2 q^{40} + q^{39}\\right) Q^{12}S^{2} + \\left(-q^{40} - 2 q^{39} - 3 q^{38} - 2 q^{37} - q^{36}\\right) Q^{11}S^{3} + \\left(-q^{45} - q^{44} - q^{43}\\right) Q^{13}S^{2} + \\left(-q^{45} - q^{44} - 2 q^{43} - q^{42} - q^{41}\\right) Q^{12}S^{3} + \\left(q^{49} + q^{48} + q^{47}\\right) Q^{14}S^{2} + \\left(q^{47} + 2 q^{46} + 2 q^{45} + q^{44}\\right) Q^{13}S^{3} + \\left(-q^{50} - q^{49} - q^{48}\\right) Q^{14}S^{3}$"
      ],
      "text/plain": [
       "-S^4 + (q^13+q^12)*Q^3*S^2 + q^10*Q^2*S^3 + (2*q^4+2*q^3+q^2)*Q*S^4 - q^19*Q^6 - q^19*Q^5*S + (-q^18-2*q^17-3*q^16-2*q^15)*Q^4*S^2 + q^12*Q^3*S^3 + (-q^8-3*q^7-2*q^6-q^5)*Q^2*S^4 + (q^24+2*q^23+q^22)*Q^7 + (q^22+q^21+q^20)*Q^6*S + (q^22+q^21+2*q^20+2*q^19+q^18)*Q^5*S^2 + (-q^18-2*q^17-5*q^16-5*q^15-4*q^14-2*q^13-q^12)*Q^4*S^3 + (q^11+q^10+2*q^9+q^8+q^7)*Q^3*S^4 + (-q^28-q^27-q^26)*Q^8 + (q^27-q^24-q^20)*Q^7*S + (-q^25-q^24-3*q^23-3*q^22-3*q^21-q^20-q^19)*Q^6*S^2 + (q^22+3*q^21+5*q^20+6*q^19+5*q^18+4*q^17+2*q^16+q^15)*Q^5*S^3 + (q^31+q^30+q^29)*Q^9 + (-q^31-q^30+q^28+2*q^27+2*q^26+2*q^25+2*q^24+q^23)*Q^8*S + (-q^30-q^29-2*q^28+q^26+3*q^25+3*q^24+3*q^23+2*q^22+q^21)*Q^7*S^2 + (-2*q^25-4*q^24-7*q^23-7*q^22-8*q^21-6*q^20-4*q^19-q^18)*Q^6*S^3 + (-q^17-q^16-2*q^15-q^14-q^13)*Q^5*S^4 + (q^36+q^35+q^34)*Q^10 + (q^34+q^33+q^32-q^29-q^28-q^27)*Q^9*S + (q^33+2*q^32+2*q^31-q^29-3*q^28-2*q^27-3*q^26-2*q^25-q^24)*Q^8*S^2 + (-q^28+q^25+2*q^24+2*q^23+q^22)*Q^7*S^3 + (q^19+2*q^18+2*q^17+q^16)*Q^6*S^4 + (-q^39-q^38-q^37)*Q^11 + (q^35+q^34+q^33+q^32+q^31+q^30)*Q^10*S + (-q^37-2*q^36-4*q^35-2*q^34-2*q^33+q^32+2*q^31+4*q^30+4*q^29+3*q^28+q^27)*Q^9*S^2 + (2*q^32+3*q^31+3*q^30+3*q^29+2*q^28+2*q^27+q^26+q^25)*Q^8*S^3 + (-q^22-q^21-q^20)*Q^7*S^4 + (q^43+q^42+q^41)*Q^12 + (q^40+q^39+q^38+q^37+q^36+q^35)*Q^11*S + (q^39+2*q^38+3*q^37+3*q^36+2*q^35+q^34-q^33-q^32-q^31)*Q^10*S^2 + (-q^36-4*q^35-5*q^34-7*q^33-7*q^32-7*q^31-5*q^30-3*q^29-q^28)*Q^9*S^3 + (-q^40-q^39-q^38)*Q^12*S + (-q^42-2*q^41-3*q^40-2*q^39-2*q^38+q^35)*Q^11*S^2 + (q^39+q^38+3*q^37+4*q^36+6*q^35+5*q^34+3*q^33+q^32)*Q^10*S^3 + (q^47+q^46+q^45+q^44+q^43+q^42)*Q^13*S + (q^44+2*q^43+3*q^42+3*q^41+2*q^40+q^39)*Q^12*S^2 + (-q^40-2*q^39-3*q^38-2*q^37-q^36)*Q^11*S^3 + (-q^45-q^44-q^43)*Q^13*S^2 + (-q^45-q^44-2*q^43-q^42-q^41)*Q^12*S^3 + (q^49+q^48+q^47)*Q^14*S^2 + (q^47+2*q^46+2*q^45+q^44)*Q^13*S^3 + (-q^50-q^49-q^48)*Q^14*S^3"
      ]
     },
     "execution_count": 29,
     "metadata": {},
     "output_type": "execute_result"
    }
   ],
   "source": [
    "L"
   ]
  },
  {
   "cell_type": "code",
   "execution_count": 354,
   "id": "d46bb870-2da3-454e-8610-e8f8c4c59e27",
   "metadata": {
    "scrolled": true
   },
   "outputs": [
    {
     "ename": "KeyboardInterrupt",
     "evalue": "",
     "output_type": "error",
     "traceback": [
      "\u001b[0;31m---------------------------------------------------------------------------\u001b[0m",
      "\u001b[0;31mKeyboardInterrupt\u001b[0m                         Traceback (most recent call last)",
      "\u001b[0;32m/tmp/ipykernel_1732/3019942943.py\u001b[0m in \u001b[0;36m<module>\u001b[0;34m\u001b[0m\n\u001b[0;32m----> 1\u001b[0;31m \u001b[0mL1\u001b[0m \u001b[0;34m=\u001b[0m \u001b[0mcompatibility\u001b[0m\u001b[0;34m(\u001b[0m\u001b[0mL\u001b[0m\u001b[0;34m,\u001b[0m \u001b[0mrules\u001b[0m\u001b[0;34m,\u001b[0m \u001b[0mcomms\u001b[0m\u001b[0;34m)\u001b[0m\u001b[0;34m;\u001b[0m \u001b[0mL1\u001b[0m\u001b[0;34m\u001b[0m\u001b[0;34m\u001b[0m\u001b[0m\n\u001b[0m",
      "\u001b[0;32m/tmp/ipykernel_1732/1485940849.py\u001b[0m in \u001b[0;36mcompatibility\u001b[0;34m(element, rules, commutations, inverses)\u001b[0m\n\u001b[1;32m     33\u001b[0m \u001b[0;34m\u001b[0m\u001b[0m\n\u001b[1;32m     34\u001b[0m \u001b[0;32mdef\u001b[0m \u001b[0mcompatibility\u001b[0m\u001b[0;34m(\u001b[0m\u001b[0melement\u001b[0m\u001b[0;34m,\u001b[0m \u001b[0mrules\u001b[0m\u001b[0;34m,\u001b[0m \u001b[0mcommutations\u001b[0m\u001b[0;34m,\u001b[0m \u001b[0minverses\u001b[0m\u001b[0;34m=\u001b[0m \u001b[0;32mNone\u001b[0m\u001b[0;34m)\u001b[0m\u001b[0;34m:\u001b[0m\u001b[0;34m\u001b[0m\u001b[0;34m\u001b[0m\u001b[0m\n\u001b[0;32m---> 35\u001b[0;31m     \u001b[0;32mreturn\u001b[0m \u001b[0msimplify\u001b[0m\u001b[0;34m(\u001b[0m\u001b[0mevaluate\u001b[0m\u001b[0;34m(\u001b[0m\u001b[0melement\u001b[0m\u001b[0;34m,\u001b[0m \u001b[0mrules\u001b[0m\u001b[0;34m)\u001b[0m\u001b[0;34m,\u001b[0m \u001b[0mcommutations\u001b[0m\u001b[0;34m,\u001b[0m \u001b[0minverses\u001b[0m\u001b[0;34m)\u001b[0m\u001b[0;34m\u001b[0m\u001b[0;34m\u001b[0m\u001b[0m\n\u001b[0m\u001b[1;32m     36\u001b[0m \u001b[0;34m\u001b[0m\u001b[0m\n\u001b[1;32m     37\u001b[0m \u001b[0;32mdef\u001b[0m \u001b[0mremove_iS\u001b[0m\u001b[0;34m(\u001b[0m\u001b[0melement\u001b[0m\u001b[0;34m,\u001b[0m \u001b[0mcommutations\u001b[0m\u001b[0;34m,\u001b[0m \u001b[0minverses\u001b[0m \u001b[0;34m=\u001b[0m \u001b[0;32mNone\u001b[0m\u001b[0;34m)\u001b[0m\u001b[0;34m:\u001b[0m\u001b[0;34m\u001b[0m\u001b[0;34m\u001b[0m\u001b[0m\n",
      "\u001b[0;32m/tmp/ipykernel_1732/1485940849.py\u001b[0m in \u001b[0;36mevaluate\u001b[0;34m(element, rules)\u001b[0m\n\u001b[1;32m     15\u001b[0m     \u001b[0mmonomials\u001b[0m \u001b[0;34m=\u001b[0m \u001b[0;34m[\u001b[0m\u001b[0mevaluate_monomial\u001b[0m\u001b[0;34m(\u001b[0m\u001b[0mm\u001b[0m\u001b[0;34m,\u001b[0m \u001b[0mrules\u001b[0m\u001b[0;34m)\u001b[0m \u001b[0;32mfor\u001b[0m \u001b[0mm\u001b[0m \u001b[0;32min\u001b[0m \u001b[0melement\u001b[0m\u001b[0;34m.\u001b[0m\u001b[0mmonomials\u001b[0m\u001b[0;34m(\u001b[0m\u001b[0;34m)\u001b[0m\u001b[0;34m]\u001b[0m\u001b[0;34m\u001b[0m\u001b[0;34m\u001b[0m\u001b[0m\n\u001b[1;32m     16\u001b[0m \u001b[0;34m\u001b[0m\u001b[0m\n\u001b[0;32m---> 17\u001b[0;31m     \u001b[0;32mreturn\u001b[0m \u001b[0msum\u001b[0m\u001b[0;34m(\u001b[0m\u001b[0mcoefficients\u001b[0m\u001b[0;34m[\u001b[0m\u001b[0mi\u001b[0m\u001b[0;34m]\u001b[0m\u001b[0;34m*\u001b[0m\u001b[0mmonomials\u001b[0m\u001b[0;34m[\u001b[0m\u001b[0mi\u001b[0m\u001b[0;34m]\u001b[0m \u001b[0;32mfor\u001b[0m \u001b[0mi\u001b[0m \u001b[0;32min\u001b[0m \u001b[0mrange\u001b[0m\u001b[0;34m(\u001b[0m\u001b[0mlen\u001b[0m\u001b[0;34m(\u001b[0m\u001b[0mcoefficients\u001b[0m\u001b[0;34m)\u001b[0m\u001b[0;34m)\u001b[0m\u001b[0;34m)\u001b[0m\u001b[0;34m\u001b[0m\u001b[0;34m\u001b[0m\u001b[0m\n\u001b[0m\u001b[1;32m     18\u001b[0m \u001b[0;34m\u001b[0m\u001b[0m\n\u001b[1;32m     19\u001b[0m \u001b[0;32mdef\u001b[0m \u001b[0mevaluate_monomial\u001b[0m\u001b[0;34m(\u001b[0m\u001b[0mmonomial\u001b[0m\u001b[0;34m,\u001b[0m \u001b[0mrules\u001b[0m\u001b[0;34m)\u001b[0m\u001b[0;34m:\u001b[0m\u001b[0;34m\u001b[0m\u001b[0;34m\u001b[0m\u001b[0m\n",
      "\u001b[0;32m~/sage/src/sage/misc/functional.py\u001b[0m in \u001b[0;36msymbolic_sum\u001b[0;34m(expression, *args, **kwds)\u001b[0m\n\u001b[1;32m    574\u001b[0m         \u001b[0;32mreturn\u001b[0m \u001b[0mexpression\u001b[0m\u001b[0;34m.\u001b[0m\u001b[0msum\u001b[0m\u001b[0;34m(\u001b[0m\u001b[0;34m*\u001b[0m\u001b[0margs\u001b[0m\u001b[0;34m,\u001b[0m \u001b[0;34m**\u001b[0m\u001b[0mkwds\u001b[0m\u001b[0;34m)\u001b[0m\u001b[0;34m\u001b[0m\u001b[0;34m\u001b[0m\u001b[0m\n\u001b[1;32m    575\u001b[0m     \u001b[0;32melif\u001b[0m \u001b[0mlen\u001b[0m\u001b[0;34m(\u001b[0m\u001b[0margs\u001b[0m\u001b[0;34m)\u001b[0m \u001b[0;34m<=\u001b[0m \u001b[0;36m1\u001b[0m\u001b[0;34m:\u001b[0m\u001b[0;34m\u001b[0m\u001b[0;34m\u001b[0m\u001b[0m\n\u001b[0;32m--> 576\u001b[0;31m         \u001b[0;32mreturn\u001b[0m \u001b[0msum\u001b[0m\u001b[0;34m(\u001b[0m\u001b[0mexpression\u001b[0m\u001b[0;34m,\u001b[0m \u001b[0;34m*\u001b[0m\u001b[0margs\u001b[0m\u001b[0;34m)\u001b[0m\u001b[0;34m\u001b[0m\u001b[0;34m\u001b[0m\u001b[0m\n\u001b[0m\u001b[1;32m    577\u001b[0m     \u001b[0;32melse\u001b[0m\u001b[0;34m:\u001b[0m\u001b[0;34m\u001b[0m\u001b[0;34m\u001b[0m\u001b[0m\n\u001b[1;32m    578\u001b[0m         \u001b[0;32mfrom\u001b[0m \u001b[0msage\u001b[0m\u001b[0;34m.\u001b[0m\u001b[0msymbolic\u001b[0m\u001b[0;34m.\u001b[0m\u001b[0mring\u001b[0m \u001b[0;32mimport\u001b[0m \u001b[0mSR\u001b[0m\u001b[0;34m\u001b[0m\u001b[0;34m\u001b[0m\u001b[0m\n",
      "\u001b[0;32m~/sage/src/sage/structure/element.pyx\u001b[0m in \u001b[0;36msage.structure.element.Element.__add__\u001b[0;34m()\u001b[0m\n\u001b[1;32m   1228\u001b[0m         \u001b[0mcdef\u001b[0m \u001b[0mint\u001b[0m \u001b[0mcl\u001b[0m \u001b[0;34m=\u001b[0m \u001b[0mclassify_elements\u001b[0m\u001b[0;34m(\u001b[0m\u001b[0mleft\u001b[0m\u001b[0;34m,\u001b[0m \u001b[0mright\u001b[0m\u001b[0;34m)\u001b[0m\u001b[0;34m\u001b[0m\u001b[0;34m\u001b[0m\u001b[0m\n\u001b[1;32m   1229\u001b[0m         \u001b[0;32mif\u001b[0m \u001b[0mHAVE_SAME_PARENT\u001b[0m\u001b[0;34m(\u001b[0m\u001b[0mcl\u001b[0m\u001b[0;34m)\u001b[0m\u001b[0;34m:\u001b[0m\u001b[0;34m\u001b[0m\u001b[0;34m\u001b[0m\u001b[0m\n\u001b[0;32m-> 1230\u001b[0;31m             \u001b[0;32mreturn\u001b[0m \u001b[0;34m(\u001b[0m\u001b[0;34m<\u001b[0m\u001b[0mElement\u001b[0m\u001b[0;34m>\u001b[0m\u001b[0mleft\u001b[0m\u001b[0;34m)\u001b[0m\u001b[0;34m.\u001b[0m\u001b[0m_add_\u001b[0m\u001b[0;34m(\u001b[0m\u001b[0mright\u001b[0m\u001b[0;34m)\u001b[0m\u001b[0;34m\u001b[0m\u001b[0;34m\u001b[0m\u001b[0m\n\u001b[0m\u001b[1;32m   1231\u001b[0m         \u001b[0;31m# Left and right are Sage elements => use coercion model\u001b[0m\u001b[0;34m\u001b[0m\u001b[0;34m\u001b[0m\u001b[0;34m\u001b[0m\u001b[0m\n\u001b[1;32m   1232\u001b[0m         \u001b[0;32mif\u001b[0m \u001b[0mBOTH_ARE_ELEMENT\u001b[0m\u001b[0;34m(\u001b[0m\u001b[0mcl\u001b[0m\u001b[0;34m)\u001b[0m\u001b[0;34m:\u001b[0m\u001b[0;34m\u001b[0m\u001b[0;34m\u001b[0m\u001b[0m\n",
      "\u001b[0;32m~/sage/src/sage/modules/with_basis/indexed_element.pyx\u001b[0m in \u001b[0;36msage.modules.with_basis.indexed_element.IndexedFreeModuleElement._add_\u001b[0;34m()\u001b[0m\n\u001b[1;32m    599\u001b[0m             \u001b[0;36m1\u001b[0m\u001b[0;34m\u001b[0m\u001b[0;34m\u001b[0m\u001b[0m\n\u001b[1;32m    600\u001b[0m         \"\"\"\n\u001b[0;32m--> 601\u001b[0;31m         return type(self)(self._parent,\n\u001b[0m\u001b[1;32m    602\u001b[0m                           add(self._monomial_coefficients,\n\u001b[1;32m    603\u001b[0m                               (<IndexedFreeModuleElement>other)._monomial_coefficients))\n",
      "\u001b[0;32m~/sage/src/sage/algebras/free_algebra_element.py\u001b[0m in \u001b[0;36m__init__\u001b[0;34m(self, A, x)\u001b[0m\n\u001b[1;32m     77\u001b[0m             \u001b[0mx\u001b[0m \u001b[0;34m=\u001b[0m \u001b[0;34m{\u001b[0m\u001b[0mx\u001b[0m\u001b[0;34m:\u001b[0m \u001b[0mR\u001b[0m\u001b[0;34m(\u001b[0m\u001b[0;36m1\u001b[0m\u001b[0;34m)\u001b[0m\u001b[0;34m}\u001b[0m\u001b[0;34m\u001b[0m\u001b[0;34m\u001b[0m\u001b[0m\n\u001b[1;32m     78\u001b[0m         \u001b[0;32melif\u001b[0m \u001b[0;32mTrue\u001b[0m\u001b[0;34m:\u001b[0m\u001b[0;34m\u001b[0m\u001b[0;34m\u001b[0m\u001b[0m\n\u001b[0;32m---> 79\u001b[0;31m             \u001b[0mx\u001b[0m \u001b[0;34m=\u001b[0m \u001b[0;34m{\u001b[0m\u001b[0mA\u001b[0m\u001b[0;34m.\u001b[0m\u001b[0mmonoid\u001b[0m\u001b[0;34m(\u001b[0m\u001b[0;34m)\u001b[0m\u001b[0;34m(\u001b[0m\u001b[0me1\u001b[0m\u001b[0;34m)\u001b[0m\u001b[0;34m:\u001b[0m \u001b[0mR\u001b[0m\u001b[0;34m(\u001b[0m\u001b[0me2\u001b[0m\u001b[0;34m)\u001b[0m \u001b[0;32mfor\u001b[0m \u001b[0me1\u001b[0m\u001b[0;34m,\u001b[0m \u001b[0me2\u001b[0m \u001b[0;32min\u001b[0m \u001b[0mx\u001b[0m\u001b[0;34m.\u001b[0m\u001b[0mitems\u001b[0m\u001b[0;34m(\u001b[0m\u001b[0;34m)\u001b[0m\u001b[0;34m}\u001b[0m\u001b[0;34m\u001b[0m\u001b[0;34m\u001b[0m\u001b[0m\n\u001b[0m\u001b[1;32m     80\u001b[0m         \u001b[0;32melse\u001b[0m\u001b[0;34m:\u001b[0m\u001b[0;34m\u001b[0m\u001b[0;34m\u001b[0m\u001b[0m\n\u001b[1;32m     81\u001b[0m             \u001b[0;32mraise\u001b[0m \u001b[0mTypeError\u001b[0m\u001b[0;34m(\u001b[0m\u001b[0;34m\"argument x (= {}) is of the wrong type\"\u001b[0m\u001b[0;34m.\u001b[0m\u001b[0mformat\u001b[0m\u001b[0;34m(\u001b[0m\u001b[0mx\u001b[0m\u001b[0;34m)\u001b[0m\u001b[0;34m)\u001b[0m\u001b[0;34m\u001b[0m\u001b[0;34m\u001b[0m\u001b[0m\n",
      "\u001b[0;32m~/sage/src/sage/algebras/free_algebra_element.py\u001b[0m in \u001b[0;36m<dictcomp>\u001b[0;34m(.0)\u001b[0m\n\u001b[1;32m     77\u001b[0m             \u001b[0mx\u001b[0m \u001b[0;34m=\u001b[0m \u001b[0;34m{\u001b[0m\u001b[0mx\u001b[0m\u001b[0;34m:\u001b[0m \u001b[0mR\u001b[0m\u001b[0;34m(\u001b[0m\u001b[0;36m1\u001b[0m\u001b[0;34m)\u001b[0m\u001b[0;34m}\u001b[0m\u001b[0;34m\u001b[0m\u001b[0;34m\u001b[0m\u001b[0m\n\u001b[1;32m     78\u001b[0m         \u001b[0;32melif\u001b[0m \u001b[0;32mTrue\u001b[0m\u001b[0;34m:\u001b[0m\u001b[0;34m\u001b[0m\u001b[0;34m\u001b[0m\u001b[0m\n\u001b[0;32m---> 79\u001b[0;31m             \u001b[0mx\u001b[0m \u001b[0;34m=\u001b[0m \u001b[0;34m{\u001b[0m\u001b[0mA\u001b[0m\u001b[0;34m.\u001b[0m\u001b[0mmonoid\u001b[0m\u001b[0;34m(\u001b[0m\u001b[0;34m)\u001b[0m\u001b[0;34m(\u001b[0m\u001b[0me1\u001b[0m\u001b[0;34m)\u001b[0m\u001b[0;34m:\u001b[0m \u001b[0mR\u001b[0m\u001b[0;34m(\u001b[0m\u001b[0me2\u001b[0m\u001b[0;34m)\u001b[0m \u001b[0;32mfor\u001b[0m \u001b[0me1\u001b[0m\u001b[0;34m,\u001b[0m \u001b[0me2\u001b[0m \u001b[0;32min\u001b[0m \u001b[0mx\u001b[0m\u001b[0;34m.\u001b[0m\u001b[0mitems\u001b[0m\u001b[0;34m(\u001b[0m\u001b[0;34m)\u001b[0m\u001b[0;34m}\u001b[0m\u001b[0;34m\u001b[0m\u001b[0;34m\u001b[0m\u001b[0m\n\u001b[0m\u001b[1;32m     80\u001b[0m         \u001b[0;32melse\u001b[0m\u001b[0;34m:\u001b[0m\u001b[0;34m\u001b[0m\u001b[0;34m\u001b[0m\u001b[0m\n\u001b[1;32m     81\u001b[0m             \u001b[0;32mraise\u001b[0m \u001b[0mTypeError\u001b[0m\u001b[0;34m(\u001b[0m\u001b[0;34m\"argument x (= {}) is of the wrong type\"\u001b[0m\u001b[0;34m.\u001b[0m\u001b[0mformat\u001b[0m\u001b[0;34m(\u001b[0m\u001b[0mx\u001b[0m\u001b[0;34m)\u001b[0m\u001b[0;34m)\u001b[0m\u001b[0;34m\u001b[0m\u001b[0;34m\u001b[0m\u001b[0m\n",
      "\u001b[0;32m~/sage/src/sage/monoids/free_monoid_element.py\u001b[0m in \u001b[0;36m__hash__\u001b[0;34m(self)\u001b[0m\n\u001b[1;32m     96\u001b[0m             \u001b[0;32mTrue\u001b[0m\u001b[0;34m\u001b[0m\u001b[0;34m\u001b[0m\u001b[0m\n\u001b[1;32m     97\u001b[0m         \"\"\"\n\u001b[0;32m---> 98\u001b[0;31m         \u001b[0;32mreturn\u001b[0m \u001b[0mhash\u001b[0m\u001b[0;34m(\u001b[0m\u001b[0mtuple\u001b[0m\u001b[0;34m(\u001b[0m\u001b[0mself\u001b[0m\u001b[0;34m.\u001b[0m\u001b[0m_element_list\u001b[0m\u001b[0;34m)\u001b[0m\u001b[0;34m)\u001b[0m\u001b[0;34m\u001b[0m\u001b[0;34m\u001b[0m\u001b[0m\n\u001b[0m\u001b[1;32m     99\u001b[0m \u001b[0;34m\u001b[0m\u001b[0m\n\u001b[1;32m    100\u001b[0m     \u001b[0;32mdef\u001b[0m \u001b[0m__iter__\u001b[0m\u001b[0;34m(\u001b[0m\u001b[0mself\u001b[0m\u001b[0;34m)\u001b[0m\u001b[0;34m:\u001b[0m\u001b[0;34m\u001b[0m\u001b[0;34m\u001b[0m\u001b[0m\n",
      "\u001b[0;32msrc/cysignals/signals.pyx\u001b[0m in \u001b[0;36mcysignals.signals.python_check_interrupt\u001b[0;34m()\u001b[0m\n",
      "\u001b[0;31mKeyboardInterrupt\u001b[0m: "
     ]
    }
   ],
   "source": [
    "L1 = compatibility(L, rules, comms); L1"
   ]
  },
  {
   "cell_type": "markdown",
   "id": "2c3fbdbb",
   "metadata": {},
   "source": [
    "Second (and smaller example):"
   ]
  },
  {
   "cell_type": "code",
   "execution_count": 65,
   "id": "dedc1e9a",
   "metadata": {},
   "outputs": [],
   "source": [
    "coeffs2 = [\n",
    "    q^(3*n + 6)*(1 - q^(1 + n))*(q + q^(3*n + 6) - q^(3 + n)),\n",
    "    q^(-3 + n)*(-q^7 + q^(8*n + 16) + q^(8 + n) + q^(9 + n) + q^(8 + 2*n) +\n",
    "        q^(9 + 2*n) - q^(9 + 3*n) - 2*q^(10 + 3*n) - 2*q^(11 + 3*n) - \n",
    "        q^(12 + 3*n) + q^(11 + 4*n) + q^(12 + 4*n) + q^(13 + 4*n) + \n",
    "        q^(11 + 5*n) + q^(12 + 5*n) + q^(13 + 5*n) + q^(14 + 5*n) - \n",
    "        q^(13 + 6*n) - q^(14 + 6*n) - q^(15 + 6*n)),\n",
    "    -(q^4 + q^(3*(n+2)) - q^(5 + n))    \n",
    "]"
   ]
  },
  {
   "cell_type": "code",
   "execution_count": 67,
   "id": "aacfc60a",
   "metadata": {},
   "outputs": [
    {
     "ename": "ValueError",
     "evalue": "too many values to unpack (expected 3)",
     "output_type": "error",
     "traceback": [
      "\u001b[0;31m---------------------------------------------------------------------------\u001b[0m",
      "\u001b[0;31mValueError\u001b[0m                                Traceback (most recent call last)",
      "\u001b[0;32m/tmp/ipykernel_1176/3597338939.py\u001b[0m in \u001b[0;36m<module>\u001b[0;34m\u001b[0m\n\u001b[0;32m----> 1\u001b[0;31m \u001b[0mLL\u001b[0m \u001b[0;34m=\u001b[0m \u001b[0msum\u001b[0m\u001b[0;34m(\u001b[0m\u001b[0;34m[\u001b[0m\u001b[0mcoeff_to_operator\u001b[0m\u001b[0;34m(\u001b[0m\u001b[0mcoeffs2\u001b[0m\u001b[0;34m[\u001b[0m\u001b[0mi\u001b[0m\u001b[0;34m]\u001b[0m\u001b[0;34m,\u001b[0m \u001b[0mFA\u001b[0m\u001b[0;34m(\u001b[0m\u001b[0mq\u001b[0m\u001b[0;34m)\u001b[0m\u001b[0;34m,\u001b[0m \u001b[0mFA\u001b[0m\u001b[0;34m(\u001b[0m\u001b[0mQ\u001b[0m\u001b[0;34m)\u001b[0m\u001b[0;34m)\u001b[0m\u001b[0;34m*\u001b[0m\u001b[0mS\u001b[0m\u001b[0;34m**\u001b[0m\u001b[0mi\u001b[0m \u001b[0;32mfor\u001b[0m \u001b[0mi\u001b[0m \u001b[0;32min\u001b[0m \u001b[0mrange\u001b[0m\u001b[0;34m(\u001b[0m\u001b[0mlen\u001b[0m\u001b[0;34m(\u001b[0m\u001b[0mcoeffs2\u001b[0m\u001b[0;34m)\u001b[0m\u001b[0;34m)\u001b[0m\u001b[0;34m]\u001b[0m\u001b[0;34m)\u001b[0m\u001b[0;34m;\u001b[0m\u001b[0;34m\u001b[0m\u001b[0;34m\u001b[0m\u001b[0m\n\u001b[0m\u001b[1;32m      2\u001b[0m \u001b[0mmax_degrees\u001b[0m\u001b[0;34m(\u001b[0m\u001b[0mL\u001b[0m\u001b[0;34m)\u001b[0m\u001b[0;34m\u001b[0m\u001b[0;34m\u001b[0m\u001b[0m\n",
      "\u001b[0;32m/tmp/ipykernel_1176/3597338939.py\u001b[0m in \u001b[0;36m<listcomp>\u001b[0;34m(.0)\u001b[0m\n\u001b[0;32m----> 1\u001b[0;31m \u001b[0mLL\u001b[0m \u001b[0;34m=\u001b[0m \u001b[0msum\u001b[0m\u001b[0;34m(\u001b[0m\u001b[0;34m[\u001b[0m\u001b[0mcoeff_to_operator\u001b[0m\u001b[0;34m(\u001b[0m\u001b[0mcoeffs2\u001b[0m\u001b[0;34m[\u001b[0m\u001b[0mi\u001b[0m\u001b[0;34m]\u001b[0m\u001b[0;34m,\u001b[0m \u001b[0mFA\u001b[0m\u001b[0;34m(\u001b[0m\u001b[0mq\u001b[0m\u001b[0;34m)\u001b[0m\u001b[0;34m,\u001b[0m \u001b[0mFA\u001b[0m\u001b[0;34m(\u001b[0m\u001b[0mQ\u001b[0m\u001b[0;34m)\u001b[0m\u001b[0;34m)\u001b[0m\u001b[0;34m*\u001b[0m\u001b[0mS\u001b[0m\u001b[0;34m**\u001b[0m\u001b[0mi\u001b[0m \u001b[0;32mfor\u001b[0m \u001b[0mi\u001b[0m \u001b[0;32min\u001b[0m \u001b[0mrange\u001b[0m\u001b[0;34m(\u001b[0m\u001b[0mlen\u001b[0m\u001b[0;34m(\u001b[0m\u001b[0mcoeffs2\u001b[0m\u001b[0;34m)\u001b[0m\u001b[0;34m)\u001b[0m\u001b[0;34m]\u001b[0m\u001b[0;34m)\u001b[0m\u001b[0;34m;\u001b[0m\u001b[0;34m\u001b[0m\u001b[0;34m\u001b[0m\u001b[0m\n\u001b[0m\u001b[1;32m      2\u001b[0m \u001b[0mmax_degrees\u001b[0m\u001b[0;34m(\u001b[0m\u001b[0mL\u001b[0m\u001b[0;34m)\u001b[0m\u001b[0;34m\u001b[0m\u001b[0;34m\u001b[0m\u001b[0m\n",
      "\u001b[0;32m/tmp/ipykernel_1176/3784230210.py\u001b[0m in \u001b[0;36mcoeff_to_operator\u001b[0;34m(coeff, dest_q, dest_Q)\u001b[0m\n\u001b[1;32m      6\u001b[0m         \u001b[0mextra\u001b[0m \u001b[0;34m=\u001b[0m \u001b[0mInteger\u001b[0m\u001b[0;34m(\u001b[0m\u001b[0;36m1\u001b[0m\u001b[0;34m)\u001b[0m\u001b[0;34m\u001b[0m\u001b[0;34m\u001b[0m\u001b[0m\n\u001b[1;32m      7\u001b[0m     \u001b[0;32melse\u001b[0m\u001b[0;34m:\u001b[0m\u001b[0;34m\u001b[0m\u001b[0;34m\u001b[0m\u001b[0m\n\u001b[0;32m----> 8\u001b[0;31m         \u001b[0mbig\u001b[0m\u001b[0;34m,\u001b[0m \u001b[0msmall\u001b[0m\u001b[0;34m,\u001b[0m \u001b[0mextra\u001b[0m \u001b[0;34m=\u001b[0m \u001b[0mopers\u001b[0m\u001b[0;34m\u001b[0m\u001b[0;34m\u001b[0m\u001b[0m\n\u001b[0m\u001b[1;32m      9\u001b[0m     \u001b[0mstring_big\u001b[0m \u001b[0;34m=\u001b[0m \u001b[0mstr\u001b[0m\u001b[0;34m(\u001b[0m\u001b[0mbig\u001b[0m\u001b[0;34m.\u001b[0m\u001b[0msimplify_full\u001b[0m\u001b[0;34m(\u001b[0m\u001b[0;34m)\u001b[0m\u001b[0;34m)\u001b[0m\u001b[0;34m\u001b[0m\u001b[0;34m\u001b[0m\u001b[0m\n\u001b[1;32m     10\u001b[0m     \u001b[0mstring_small\u001b[0m \u001b[0;34m=\u001b[0m \u001b[0mstr\u001b[0m\u001b[0;34m(\u001b[0m\u001b[0msmall\u001b[0m\u001b[0;34m.\u001b[0m\u001b[0msimplify_full\u001b[0m\u001b[0;34m(\u001b[0m\u001b[0;34m)\u001b[0m\u001b[0;34m)\u001b[0m\u001b[0;34m\u001b[0m\u001b[0;34m\u001b[0m\u001b[0m\n",
      "\u001b[0;31mValueError\u001b[0m: too many values to unpack (expected 3)"
     ]
    }
   ],
   "source": [
    "LL = sum([coeff_to_operator(coeffs2[i], FA(q), FA(Q))*S^i for i in range(len(coeffs2))]);\n",
    "max_degrees(L)"
   ]
  },
  {
   "cell_type": "code",
   "execution_count": 42,
   "id": "6c08d9d0",
   "metadata": {},
   "outputs": [
    {
     "name": "stdout",
     "output_type": "stream",
     "text": [
      "> \u001b[0;32m/home/qh82kz/git/pseries_basis/notebooks/sage/structure/coerce.pyx\u001b[0m(1248)\u001b[0;36msage.structure.coerce.CoercionModel.bin_op\u001b[0;34m()\u001b[0m\n",
      "\n",
      "ipdb> up\n",
      "> \u001b[0;32m/home/qh82kz/git/pseries_basis/notebooks/sage/structure/element.pyx\u001b[0m(1516)\u001b[0;36msage.structure.element.Element.__mul__\u001b[0;34m()\u001b[0m\n",
      "\n",
      "ipdb> \n",
      "> \u001b[0;32m<string>\u001b[0m(1)\u001b[0;36m<module>\u001b[0;34m()\u001b[0m\n",
      "\n",
      "ipdb> \n",
      "> \u001b[0;32m/tmp/ipykernel_1176/2062720291.py\u001b[0m(18)\u001b[0;36m<listcomp>\u001b[0;34m()\u001b[0m\n",
      "\u001b[0;32m     15 \u001b[0;31m\u001b[0;34m\u001b[0m\u001b[0m\n",
      "\u001b[0m\u001b[0;32m     16 \u001b[0;31m    \u001b[0mq\u001b[0m \u001b[0;34m=\u001b[0m \u001b[0mdest_q\u001b[0m\u001b[0;34m;\u001b[0m \u001b[0mQ\u001b[0m \u001b[0;34m=\u001b[0m \u001b[0mdest_Q\u001b[0m\u001b[0;34m\u001b[0m\u001b[0;34m\u001b[0m\u001b[0m\n",
      "\u001b[0m\u001b[0;32m     17 \u001b[0;31m\u001b[0;34m\u001b[0m\u001b[0m\n",
      "\u001b[0m\u001b[0;32m---> 18 \u001b[0;31m    \u001b[0mtransformed\u001b[0m \u001b[0;34m=\u001b[0m \u001b[0;34m[\u001b[0m\u001b[0meval\u001b[0m\u001b[0;34m(\u001b[0m\u001b[0mapply_regs\u001b[0m\u001b[0;34m(\u001b[0m\u001b[0mregs\u001b[0m\u001b[0;34m,\u001b[0m \u001b[0mpart\u001b[0m\u001b[0;34m)\u001b[0m\u001b[0;34m)\u001b[0m \u001b[0;32mfor\u001b[0m \u001b[0mpart\u001b[0m \u001b[0;32min\u001b[0m \u001b[0mstrings\u001b[0m\u001b[0;34m]\u001b[0m\u001b[0;34m\u001b[0m\u001b[0;34m\u001b[0m\u001b[0m\n",
      "\u001b[0m\u001b[0;32m     19 \u001b[0;31m    \u001b[0;32mreturn\u001b[0m \u001b[0mprod\u001b[0m\u001b[0;34m(\u001b[0m\u001b[0mtransformed\u001b[0m\u001b[0;34m)\u001b[0m\u001b[0;34m\u001b[0m\u001b[0;34m\u001b[0m\u001b[0m\n",
      "\u001b[0m\n",
      "ipdb> print(q)\n",
      "q\n",
      "ipdb> type(q)\n",
      "<class 'sage.symbolic.expression.Expression'>\n",
      "ipdb> print(dest_q)\n",
      "*** NameError: name 'dest_q' is not defined\n",
      "ipdb> up\n",
      "> \u001b[0;32m/tmp/ipykernel_1176/2062720291.py\u001b[0m(18)\u001b[0;36mcoeff_to_operator\u001b[0;34m()\u001b[0m\n",
      "\u001b[0;32m     15 \u001b[0;31m\u001b[0;34m\u001b[0m\u001b[0m\n",
      "\u001b[0m\u001b[0;32m     16 \u001b[0;31m    \u001b[0mq\u001b[0m \u001b[0;34m=\u001b[0m \u001b[0mdest_q\u001b[0m\u001b[0;34m;\u001b[0m \u001b[0mQ\u001b[0m \u001b[0;34m=\u001b[0m \u001b[0mdest_Q\u001b[0m\u001b[0;34m\u001b[0m\u001b[0;34m\u001b[0m\u001b[0m\n",
      "\u001b[0m\u001b[0;32m     17 \u001b[0;31m\u001b[0;34m\u001b[0m\u001b[0m\n",
      "\u001b[0m\u001b[0;32m---> 18 \u001b[0;31m    \u001b[0mtransformed\u001b[0m \u001b[0;34m=\u001b[0m \u001b[0;34m[\u001b[0m\u001b[0meval\u001b[0m\u001b[0;34m(\u001b[0m\u001b[0mapply_regs\u001b[0m\u001b[0;34m(\u001b[0m\u001b[0mregs\u001b[0m\u001b[0;34m,\u001b[0m \u001b[0mpart\u001b[0m\u001b[0;34m)\u001b[0m\u001b[0;34m)\u001b[0m \u001b[0;32mfor\u001b[0m \u001b[0mpart\u001b[0m \u001b[0;32min\u001b[0m \u001b[0mstrings\u001b[0m\u001b[0;34m]\u001b[0m\u001b[0;34m\u001b[0m\u001b[0;34m\u001b[0m\u001b[0m\n",
      "\u001b[0m\u001b[0;32m     19 \u001b[0;31m    \u001b[0;32mreturn\u001b[0m \u001b[0mprod\u001b[0m\u001b[0;34m(\u001b[0m\u001b[0mtransformed\u001b[0m\u001b[0;34m)\u001b[0m\u001b[0;34m\u001b[0m\u001b[0;34m\u001b[0m\u001b[0m\n",
      "\u001b[0m\n",
      "ipdb> print(q)\n",
      "q\n",
      "ipdb> type(q)\n",
      "<class 'sage.algebras.free_algebra.FreeAlgebra_generic_with_category.element_class'>\n",
      "ipdb> exit\n"
     ]
    }
   ],
   "source": [
    "%debug"
   ]
  },
  {
   "cell_type": "code",
   "execution_count": 49,
   "id": "dfbe1a9e",
   "metadata": {},
   "outputs": [],
   "source": [
    "eval?"
   ]
  },
  {
   "cell_type": "code",
   "execution_count": null,
   "id": "968e5826",
   "metadata": {},
   "outputs": [],
   "source": []
  }
 ],
 "metadata": {
  "kernelspec": {
   "display_name": "SageMath 9.6",
   "language": "sage",
   "name": "sagemath"
  },
  "language_info": {
   "codemirror_mode": {
    "name": "ipython",
    "version": 3
   },
   "file_extension": ".py",
   "mimetype": "text/x-python",
   "name": "python",
   "nbconvert_exporter": "python",
   "pygments_lexer": "ipython3",
   "version": "3.8.10"
  }
 },
 "nbformat": 4,
 "nbformat_minor": 5
}
