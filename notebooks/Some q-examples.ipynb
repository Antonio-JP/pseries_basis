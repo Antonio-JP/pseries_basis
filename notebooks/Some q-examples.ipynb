{
 "cells": [
  {
   "cell_type": "markdown",
   "id": "5ebd36c9-39cc-4ac7-96c9-154c7ebfbcef",
   "metadata": {},
   "source": [
    "# **About some q-stuff** $\\def\\NN{\\mathbb{N}}\\def\\KK{\\mathbb{K}}\\def\\cR{\\mathcal{R}}\\def\\cB{\\mathcal{B}}\\def\\qbinomb#1#2#3{\\left[\\begin{array}{c}#1\\\\#2\\end{array}\\right]_{#3}}\\def\\qbinom#1#2{\\qbinomb{#1}{#2}{q}}$\n",
    "\n",
    "Let set up some machinery to manipulate the operators and check some $q$-stuff"
   ]
  },
  {
   "cell_type": "code",
   "execution_count": 1,
   "id": "d152f24d-0504-46cb-9407-3687857e000a",
   "metadata": {
    "vscode": {
     "languageId": "python"
    }
   },
   "outputs": [],
   "source": [
    "%display latex\n",
    "import sys\n",
    "sys.path.insert(0, \"..\") # pseries_basis is here\n",
    "from pseries_basis import *\n",
    "\n",
    "B = QBinomialBasis()\n",
    "q = B.q\n",
    "\n",
    "def get_matrix(el, rows=5, cols=None):\n",
    "    if isinstance(el, PSBasis):\n",
    "        el = el.as_2dim()\n",
    "    if not isinstance(el, Sequence):\n",
    "        el = Sequence(el, universe=el(0,0).parent(), dim=2)\n",
    "    if cols is None: cols = rows\n",
    "    if rows is None or rows <= 0 or (not rows in ZZ): raise ValueError(\"rows must be a positive integer\")\n",
    "    if cols is None or cols <= 0 or (not cols in ZZ): raise ValueError(\"cols must be a positive integer\")\n",
    "    return Matrix([[el((k,n)) for n in range(cols)] for k in range(rows)])"
   ]
  },
  {
   "cell_type": "markdown",
   "id": "0f516d60-9a9d-466f-a60d-eca2be0892df",
   "metadata": {},
   "source": [
    "The sequences that we are interested in work on the polynomials on $q$. This means we have to consider the sequences \n",
    "$$\\left(\\KK(q)\\right)^{\\NN}.$$\n",
    "\n",
    "In this ring of sequences, the basis are sequences themselves $((a_{n,k})_k)_n$:"
   ]
  },
  {
   "cell_type": "markdown",
   "id": "c09b337a",
   "metadata": {
    "tags": []
   },
   "source": [
    "## **The $q$-binomial**\n",
    "Can we try to have a real $q$-basis? Using the $q$-binomial, we obtain the following:"
   ]
  },
  {
   "cell_type": "code",
   "execution_count": 2,
   "id": "2648aefd-a187-49fb-a49b-6d5a03695e99",
   "metadata": {},
   "outputs": [
    {
     "data": {
      "text/html": [
       "<html>\\(\\displaystyle \\left\\{B_k(n)\\right\\}\\)</html>"
      ],
      "text/latex": [
       "$\\displaystyle \\left\\{B_k(n)\\right\\}$"
      ],
      "text/plain": [
       "Basis of Sequences over Fraction Field of Univariate Polynomial Ring in q over Rational Field"
      ]
     },
     "metadata": {},
     "output_type": "display_data"
    },
    {
     "data": {
      "text/html": [
       "<html>\\(\\displaystyle \\left(\\begin{array}{rrrrr}\n",
       "1 & 1 & 1 & 1 & 1 \\\\\n",
       "0 & 1 & q + 1 & q^{2} + q + 1 & q^{3} + q^{2} + q + 1 \\\\\n",
       "0 & 0 & 1 & q^{2} + q + 1 & q^{4} + q^{3} + 2 q^{2} + q + 1 \\\\\n",
       "0 & 0 & 0 & 1 & q^{3} + q^{2} + q + 1 \\\\\n",
       "0 & 0 & 0 & 0 & 1\n",
       "\\end{array}\\right)\\)</html>"
      ],
      "text/latex": [
       "$\\displaystyle \\left(\\begin{array}{rrrrr}\n",
       "1 & 1 & 1 & 1 & 1 \\\\\n",
       "0 & 1 & q + 1 & q^{2} + q + 1 & q^{3} + q^{2} + q + 1 \\\\\n",
       "0 & 0 & 1 & q^{2} + q + 1 & q^{4} + q^{3} + 2 q^{2} + q + 1 \\\\\n",
       "0 & 0 & 0 & 1 & q^{3} + q^{2} + q + 1 \\\\\n",
       "0 & 0 & 0 & 0 & 1\n",
       "\\end{array}\\right)$"
      ],
      "text/plain": [
       "[                        1                         1                         1                         1                         1]\n",
       "[                        0                         1                     q + 1               q^2 + q + 1         q^3 + q^2 + q + 1]\n",
       "[                        0                         0                         1               q^2 + q + 1 q^4 + q^3 + 2*q^2 + q + 1]\n",
       "[                        0                         0                         0                         1         q^3 + q^2 + q + 1]\n",
       "[                        0                         0                         0                         0                         1]"
      ]
     },
     "execution_count": 2,
     "metadata": {},
     "output_type": "execute_result"
    }
   ],
   "source": [
    "show(B);\n",
    "get_matrix(B)"
   ]
  },
  {
   "cell_type": "markdown",
   "id": "5082e35e",
   "metadata": {},
   "source": [
    "The variable `B` contains the basis of $q$-binomials, i.e., `B` is a sequence $B_k(n)$ for $k\\in \\NN$ where:\n",
    "$$B_k(n) = \\qbinom{n}{k}.$$\n",
    "\n",
    "We have a basis that looks pretty similar to the original binomial basis we were considering before. In fact, in the same way the original binomial basis was a *factorial basis*, we have that the $q$-binomial basis is $q$-factorial, meaning that there are rational sequences $(a_k)_k, (b_k)_k \\in \\KK(q)$ such that\n",
    "$$\\qbinom{n}{k+1} = (a_{k+1}q^n + b_{k+1})\\qbinom{n}{k}.$$\n",
    "\n",
    "In this case, we have that \n",
    "$$a_k = \\frac{q}{q^k(q^{k} - 1)},\\qquad b_k = \\frac{1}{1-q^{k}}.$$"
   ]
  },
  {
   "cell_type": "code",
   "execution_count": 3,
   "id": "a947b870-5f2f-4eef-b22e-bcecbaa20c68",
   "metadata": {},
   "outputs": [
    {
     "data": {
      "text/html": [
       "<html>\\(\\displaystyle \\mathrm{True}\\)</html>"
      ],
      "text/latex": [
       "$\\displaystyle \\mathrm{True}$"
      ],
      "text/plain": [
       "True"
      ]
     },
     "execution_count": 3,
     "metadata": {},
     "output_type": "execute_result"
    }
   ],
   "source": [
    "all(\n",
    "    B[k+1](n) == \n",
    "    ((q/q^(k+1)/(q^(k+1)-1))*q^n + (1/(1-q^(k+1))))*B[k](n) \n",
    "    for n in range(10) \n",
    "    for k in range(10)\n",
    ")"
   ]
  },
  {
   "cell_type": "markdown",
   "id": "2120fed0",
   "metadata": {
    "tags": []
   },
   "source": [
    "### **Compatibility with the shift operator $n \\rightarrow n+1$**"
   ]
  },
  {
   "cell_type": "markdown",
   "id": "f774599d-03b4-48a8-addc-cbe99893bc96",
   "metadata": {},
   "source": [
    "We can find in the literature that the $q$-binomial satisfies the following recurrence equation:\n",
    "$$\\qbinom{n+1}{k} = q^k\\qbinom{n}{k} + \\qbinom{n}{k-1}.$$\n",
    "We can check this identity for the first terms of our $q$-binomial basis `B` with the following code:"
   ]
  },
  {
   "cell_type": "code",
   "execution_count": 4,
   "id": "354e0dbe",
   "metadata": {
    "vscode": {
     "languageId": "python"
    }
   },
   "outputs": [
    {
     "data": {
      "text/html": [
       "<html>\\(\\displaystyle \\mathrm{True}\\)</html>"
      ],
      "text/latex": [
       "$\\displaystyle \\mathrm{True}$"
      ],
      "text/plain": [
       "True"
      ]
     },
     "execution_count": 4,
     "metadata": {},
     "output_type": "execute_result"
    }
   ],
   "source": [
    "all(\n",
    "    B[k](n+1) == \n",
    "    q^k*B[k](n) + B[k-1](n)\n",
    "    for n in range(10)\n",
    "    for k in range(1,10)\n",
    ")"
   ]
  },
  {
   "cell_type": "markdown",
   "id": "fbbd7309-840e-4e26-9918-a893dd9bf10f",
   "metadata": {},
   "source": [
    "In the terms of compatibility, we have then that the $q$-binomial basis is compatible with $E_n: n \\mapsto n+1$ with the compatiblity equation:\n",
    "$$E_n \\cdot B_k(n) = B_k(n+1) = q^k P_k(n) + P_{k-1}(n)$$\n",
    "And if we write this in the recurrence form, we get:\n",
    "\n",
    "$$\\cR(E_n) = q^k + S_k$$"
   ]
  },
  {
   "cell_type": "code",
   "execution_count": 5,
   "id": "bfa869c8-d97a-48be-ba3b-b108144453b2",
   "metadata": {},
   "outputs": [
    {
     "data": {
      "text/html": [
       "<html>\\(\\displaystyle \\text{Compatibility condition with shape (A=1, B=0, t=1):}\\\\L \\cdot P_{k} = \\left( 1 \\right) P_{k- 1} + \\left( q^{k} \\right) P_{k}\\)</html>"
      ],
      "text/latex": [
       "$\\displaystyle \\text{Compatibility condition with shape (A=1, B=0, t=1):}\\\\L \\cdot P_{k} = \\left( 1 \\right) P_{k- 1} + \\left( q^{k} \\right) P_{k}$"
      ],
      "text/plain": [
       "Compatibility condition (1, 0, 1) with following coefficient matrix:\n",
       "[  1 q_k]"
      ]
     },
     "execution_count": 5,
     "metadata": {},
     "output_type": "execute_result"
    }
   ],
   "source": [
    "B.compatibility(\"E\")"
   ]
  },
  {
   "cell_type": "code",
   "execution_count": 6,
   "id": "3623c00b-425c-4605-9c11-6d28796e5ec5",
   "metadata": {},
   "outputs": [
    {
     "data": {
      "text/html": [
       "<html>\\(\\displaystyle \\mathit{Sk} + q_{k}\\)</html>"
      ],
      "text/latex": [
       "$\\displaystyle \\mathit{Sk} + q_{k}$"
      ],
      "text/plain": [
       "Sk + q_k"
      ]
     },
     "execution_count": 6,
     "metadata": {},
     "output_type": "execute_result"
    }
   ],
   "source": [
    "B.recurrence(\"E\", output=\"ore_double\")"
   ]
  },
  {
   "cell_type": "markdown",
   "id": "e5915b03-1052-4dc8-96c1-f0f74c1f8b7f",
   "metadata": {
    "jp-MarkdownHeadingCollapsed": true,
    "tags": []
   },
   "source": [
    "### **Compatibility with the multiplication by $q$**\n",
    "\n",
    "This is trivial since $q$ is part of the field we are taking the sequences from. Hence the compatibility is trivial:\n",
    "$$q B_k(n)$$"
   ]
  },
  {
   "cell_type": "markdown",
   "id": "14979eda-f5df-4dbf-8072-4d93a2e83dd7",
   "metadata": {
    "tags": []
   },
   "source": [
    "### **Compatibility with the multiplication by $q^n$**"
   ]
  },
  {
   "cell_type": "markdown",
   "id": "4fc4c414-af46-4202-9ebd-e71a2654b5d2",
   "metadata": {},
   "source": [
    "By the definition of a $q$-factorial basis, all of these are (0,1)-compatible with the multiplication by $q^n$:\n",
    "$$\\qbinom{n}{k+1} = (a_kq^n + b_k)\\qbinom{n}{k} \\Longrightarrow q^n \\qbinom{n}{k} = \\frac{1}{a_k}\\qbinom{n}{k+1} - \\frac{b_k}{a_k}\\qbinom{n}{k}$$"
   ]
  },
  {
   "cell_type": "markdown",
   "id": "56e5ab8c-029e-4562-a6f5-a7870590b0ab",
   "metadata": {},
   "source": [
    "In this case, we have the following compatibility identity:\n",
    "$$q^n \\qbinom{n}{k} = q^k\\qbinom{n}{k} + q^k(q^{k+1} - 1)\\qbinom{n}{k+1}.$$"
   ]
  },
  {
   "cell_type": "code",
   "execution_count": 7,
   "id": "b850e023-210f-4c52-8a04-1f82d042ca44",
   "metadata": {
    "vscode": {
     "languageId": "python"
    }
   },
   "outputs": [
    {
     "data": {
      "text/html": [
       "<html>\\(\\displaystyle \\mathrm{True}\\)</html>"
      ],
      "text/latex": [
       "$\\displaystyle \\mathrm{True}$"
      ],
      "text/plain": [
       "True"
      ]
     },
     "execution_count": 7,
     "metadata": {},
     "output_type": "execute_result"
    }
   ],
   "source": [
    "all(\n",
    "    q^n * B[k](n)\n",
    "    ==\n",
    "    q^k * B[k](n) + q**(k)*(q**(k+1) - 1)*B[k+1](n)\n",
    "    for n in range(10)\n",
    "    for k in range(10)\n",
    ")"
   ]
  },
  {
   "cell_type": "markdown",
   "id": "692cdb84",
   "metadata": {},
   "source": [
    "Writing this in a different fashion, we get:\n",
    "\n",
    "$$ Q \\cdot B_k(n) = (q^n)B_k(n) = q^k B_k(n) + q^k(q^{k+1}-1)B_{k+1}(n)$$\n",
    "\n",
    "Or in a recurrence way, we can write:\n",
    "\n",
    "$$ \\cR(Q) = q^k + q^{k-1}(q^k - 1)S_k^{-1} = q^k + q^{-1}(q^{2k} - q^k)S_k^{-1} = q^k + \\frac{q^k(q^k - 1)}{q}S_k^{-1}$$"
   ]
  },
  {
   "cell_type": "code",
   "execution_count": 8,
   "id": "a803b22f-7d6b-4c6c-a739-d3cef1eae705",
   "metadata": {},
   "outputs": [
    {
     "data": {
      "text/html": [
       "<html>\\(\\displaystyle \\text{Compatibility condition with shape (A=0, B=1, t=1):}\\\\L \\cdot P_{k} = \\left( q^{k} \\right) P_{k} + \\left( q q^{2 \\, k} - q^{k} \\right) P_{k+ 1}\\)</html>"
      ],
      "text/latex": [
       "$\\displaystyle \\text{Compatibility condition with shape (A=0, B=1, t=1):}\\\\L \\cdot P_{k} = \\left( q^{k} \\right) P_{k} + \\left( q q^{2 \\, k} - q^{k} \\right) P_{k+ 1}$"
      ],
      "text/plain": [
       "Compatibility condition (0, 1, 1) with following coefficient matrix:\n",
       "[          q_k q*q_k^2 - q_k]"
      ]
     },
     "execution_count": 8,
     "metadata": {},
     "output_type": "execute_result"
    }
   ],
   "source": [
    "B.compatibility(\"q_n\")"
   ]
  },
  {
   "cell_type": "code",
   "execution_count": 9,
   "id": "b4942d9a-9e16-44fc-9a88-92c26fc66292",
   "metadata": {},
   "outputs": [
    {
     "data": {
      "text/html": [
       "<html>\\(\\displaystyle \\left(\\frac{1}{q} q_{k}^{2} + \\left(\\frac{-1}{q}\\right) q_{k}\\right) \\mathit{Ski} + q_{k}\\)</html>"
      ],
      "text/latex": [
       "$\\displaystyle \\left(\\frac{1}{q} q_{k}^{2} + \\left(\\frac{-1}{q}\\right) q_{k}\\right) \\mathit{Ski} + q_{k}$"
      ],
      "text/plain": [
       "(1/q*q_k^2 - 1/q*q_k)*Ski + q_k"
      ]
     },
     "execution_count": 9,
     "metadata": {},
     "output_type": "execute_result"
    }
   ],
   "source": [
    "B.recurrence(\"q_n\")"
   ]
  },
  {
   "cell_type": "markdown",
   "id": "f2ff01d7",
   "metadata": {
    "tags": []
   },
   "source": [
    "## **Adapting this context to the `ore_algebra` package**\n",
    "\n",
    "We can use the package `ore_algebra` to represent the operators $E$, $q_n$ and then compute the associated recurrences from any linear operator composed by $E$ and $q_n$. \n",
    "\n",
    "For these operators, we have the following relation among them:\n",
    "* Multiplication by the constant sequence $(q)_n$: $q: (a_n)_n \\mapsto (qa_n)_n$.\n",
    "* Multiplication by the power sequence $(q^n)_n$: $q_n: (a_n)_n \\mapsto (q^na_n)_n$.\n",
    "* Shift operator w.r.t. the $n$: $E_n: (a_n)_n \\mapsto (a_{n+1})_n$. We will also need the inverse of this operator $E_n^{-1}$.\n",
    "\n",
    "We can use the implementation of the $q$-shift in `ore_algebra` to represent these operators. The method `get_qshift_algebra` will create these recurrences rings when given the names for the generators:"
   ]
  },
  {
   "cell_type": "code",
   "execution_count": 10,
   "id": "9d697fa8-b878-409c-97de-b7ec438b2d9b",
   "metadata": {
    "vscode": {
     "languageId": "python"
    }
   },
   "outputs": [
    {
     "data": {
      "text/html": [
       "<html>\\(\\displaystyle \\newcommand{\\Bold}[1]{\\mathbf{#1}}\\left(\\mathrm{Frac}(\\Bold{Q}[q])[q_{n}]\\langle E\\rangle , q_{n}, E\\right)\\)</html>"
      ],
      "text/latex": [
       "$\\displaystyle \\newcommand{\\Bold}[1]{\\mathbf{#1}}\\left(\\mathrm{Frac}(\\Bold{Q}[q])[q_{n}]\\langle E\\rangle , q_{n}, E\\right)$"
      ],
      "text/plain": [
       "(Univariate Ore algebra in E over Univariate Polynomial Ring in q_n over Fraction Field of Univariate Polynomial Ring in q over Rational Field,\n",
       " q_n,\n",
       " E)"
      ]
     },
     "metadata": {},
     "output_type": "display_data"
    }
   ],
   "source": [
    "from pseries_basis.misc.ore import get_qshift_algebra\n",
    "OE, (q_n, E) = get_qshift_algebra(\"q_n\", \"q\", \"E\", rational=False, base=B.base)\n",
    "show(tuple([OE, q_n, E]))"
   ]
  },
  {
   "cell_type": "markdown",
   "id": "42dc7b09",
   "metadata": {},
   "source": [
    "At this point, we can construct the original operator $L$ as an element of the ring `OE`. When we start, the operator $q_n$ is the multiplication by `q^n`, while once we obtain the compatible operator, it means the multiplication by `q^k`. Something similar happens to `E`. Berfore the compatibility it is the shift w.r.t. `n` but after the compatibility transformation, it is the shift w.r.t. `k`.\n",
    "\n",
    "* To obtain the compatible operator: ``B.recurrence(L)``\n",
    "* To apply an operator to a sequence: ``L.apply(sequence, actions)``\n",
    "* To obtain the solution for an operator: ``solution(L, init)`` where init is a list (with enough elements - see method `pseries_basis.misc.ore.required_init`)."
   ]
  },
  {
   "cell_type": "code",
   "execution_count": 11,
   "id": "835f9c4d",
   "metadata": {
    "vscode": {
     "languageId": "python"
    }
   },
   "outputs": [],
   "source": [
    "from pseries_basis.misc.ore import *"
   ]
  },
  {
   "cell_type": "code",
   "execution_count": 12,
   "id": "6f4a90d9",
   "metadata": {
    "vscode": {
     "languageId": "python"
    }
   },
   "outputs": [],
   "source": [
    "L = q_n*E^2 - q_n/q*E - 1"
   ]
  },
  {
   "cell_type": "code",
   "execution_count": 13,
   "id": "e2d6aeb2-9863-4332-8699-d0564bd75bcf",
   "metadata": {
    "vscode": {
     "languageId": "python"
    }
   },
   "outputs": [
    {
     "data": {
      "text/html": [
       "<html>\\(\\displaystyle q_{k} \\mathit{Sk}^{2} + \\left(\\left(\\frac{q^{2} + q + 1}{q}\\right) q_{k}^{2} + \\left(\\frac{-2}{q}\\right) q_{k}\\right) \\mathit{Sk} + \\left(\\frac{1}{q^{3}} q_{k}^{4} + \\left(\\frac{-2}{q^{3}}\\right) q_{k}^{3} + \\frac{1}{q^{3}} q_{k}^{2}\\right) \\mathit{Ski} + \\left(\\frac{q^{2} + q + 1}{q^{2}}\\right) q_{k}^{3} + \\left(\\frac{-2 q - 2}{q^{2}}\\right) q_{k}^{2} + \\frac{1}{q^{2}} q_{k} - 1\\)</html>"
      ],
      "text/latex": [
       "$\\displaystyle q_{k} \\mathit{Sk}^{2} + \\left(\\left(\\frac{q^{2} + q + 1}{q}\\right) q_{k}^{2} + \\left(\\frac{-2}{q}\\right) q_{k}\\right) \\mathit{Sk} + \\left(\\frac{1}{q^{3}} q_{k}^{4} + \\left(\\frac{-2}{q^{3}}\\right) q_{k}^{3} + \\frac{1}{q^{3}} q_{k}^{2}\\right) \\mathit{Ski} + \\left(\\frac{q^{2} + q + 1}{q^{2}}\\right) q_{k}^{3} + \\left(\\frac{-2 q - 2}{q^{2}}\\right) q_{k}^{2} + \\frac{1}{q^{2}} q_{k} - 1$"
      ],
      "text/plain": [
       "q_k*Sk^2 + (((q^2 + q + 1)/q)*q_k^2 - 2/q*q_k)*Sk + (1/q^3*q_k^4 - 2/q^3*q_k^3 + 1/q^3*q_k^2)*Ski + ((q^2 + q + 1)/q^2)*q_k^3 + ((-2*q - 2)/q^2)*q_k^2 + 1/q^2*q_k - 1"
      ]
     },
     "execution_count": 13,
     "metadata": {},
     "output_type": "execute_result"
    }
   ],
   "source": [
    "B.recurrence(L,output=\"ore_double\")"
   ]
  },
  {
   "cell_type": "markdown",
   "id": "916c2467-048a-4eb3-8682-704622980c8b",
   "metadata": {
    "tags": []
   },
   "source": [
    "## **Basic examples** (TODO: review this section)"
   ]
  },
  {
   "cell_type": "markdown",
   "id": "12b13fc4-4d41-477e-9fa0-6dc75bb35935",
   "metadata": {
    "jp-MarkdownHeadingCollapsed": true,
    "tags": []
   },
   "source": [
    "### The $q$-Pochhammer symbol (Theorem 3.3 - first identity)\n",
    "    \n",
    "Let us consider the $q$-polynomials that appear from the $q$-Pochhammer symbol (i.e., the correposnding to the falling factorial):"
   ]
  },
  {
   "cell_type": "code",
   "execution_count": 17,
   "id": "9630974b-5f2d-447c-ad21-6fc06cb77355",
   "metadata": {
    "vscode": {
     "languageId": "python"
    }
   },
   "outputs": [
    {
     "data": {
      "text/html": [
       "<html>\\(\\displaystyle \\left[1, -z + 1, q z^{2} + \\left(-q - 1\\right) z + 1, -q^{3} z^{3} + \\left(q^{3} + q^{2} + q\\right) z^{2} + \\left(-q^{2} - q - 1\\right) z + 1\\right]\\)</html>"
      ],
      "text/latex": [
       "$\\displaystyle \\left[1, -z + 1, q z^{2} + \\left(-q - 1\\right) z + 1, -q^{3} z^{3} + \\left(q^{3} + q^{2} + q\\right) z^{2} + \\left(-q^{2} - q - 1\\right) z + 1\\right]$"
      ],
      "text/plain": [
       "[1,\n",
       " -z + 1,\n",
       " q*z^2 + (-q - 1)*z + 1,\n",
       " -q^3*z^3 + (q^3 + q^2 + q)*z^2 + (-q^2 - q - 1)*z + 1]"
      ]
     },
     "execution_count": 17,
     "metadata": {},
     "output_type": "execute_result"
    }
   ],
   "source": [
    "from pseries_basis.qbasis.qbasis import qpochhammer\n",
    "C.<z> = B.base[]\n",
    "BwZ = B.change_base(C)\n",
    "q = BwZ.base('q'); z = BwZ.base('z')\n",
    "zn = BwZ.QPochhammer(z)\n",
    "zn[:4]"
   ]
  },
  {
   "cell_type": "markdown",
   "id": "d15179eb-c71e-4cb9-82a1-46f1b1179be8",
   "metadata": {},
   "source": [
    "The variable `zn` contains the sequence $(z)_n = (z;q)_n$. By its simple definition, this sequence satisfies a very simple $q$-recurrence equation:\n",
    "$$(z;q)_{n+1} = (1-zq^{n})(z;q)_n,$$\n",
    "which, in terms of our operators mean:\n",
    "$$L \\cdot (z;q)_n = (E_n - 1 + zQ)\\cdot (z;q)_n = 0$$"
   ]
  },
  {
   "cell_type": "code",
   "execution_count": 18,
   "id": "d7af6727-394f-4250-a0e3-6b279687648c",
   "metadata": {
    "vscode": {
     "languageId": "python"
    }
   },
   "outputs": [
    {
     "data": {
      "text/html": [
       "<html>\\(\\displaystyle E + z q_{n} - 1\\)</html>"
      ],
      "text/latex": [
       "$\\displaystyle E + z q_{n} - 1$"
      ],
      "text/plain": [
       "E + z*q_n - 1"
      ]
     },
     "execution_count": 18,
     "metadata": {},
     "output_type": "execute_result"
    }
   ],
   "source": [
    "OEz, (q_n, E) = get_qshift_algebra(\"q_n\", \"q\", \"E\", rational=False, base=BwZ.base)\n",
    "L = E - 1 + z*q_n; L\n"
   ]
  },
  {
   "cell_type": "markdown",
   "id": "9a73596f-c001-4a5c-a29a-949e40c7a5ca",
   "metadata": {},
   "source": [
    "Since the $q$-shift $E_n$ and the multiplication by $q^n$ are compatible with the $q$-binomial basis, we can compute a $q$-recurrence equation when we write:\n",
    "$$(z;q)_n = \\sum_{k=0}^n c_k \\qbinom{n}{k},$$\n",
    "for the sequence $(c_k)_k$. This recurrence equation is obtained by substituing each operator in $L$ with its compatibility conditions:"
   ]
  },
  {
   "cell_type": "code",
   "execution_count": 19,
   "id": "7a203d3d-b35a-45c4-9f88-67883dd7f8b3",
   "metadata": {
    "vscode": {
     "languageId": "python"
    }
   },
   "outputs": [
    {
     "data": {
      "text/html": [
       "<html>\\(\\displaystyle \\mathit{Sn} + \\left(\\frac{1}{q} z q_{n}^{2} + \\left(\\left(\\frac{-1}{q}\\right) z\\right) q_{n}\\right) \\mathit{Sni} + \\left(z + 1\\right) q_{n} - 1\\)</html>"
      ],
      "text/latex": [
       "$\\displaystyle \\mathit{Sn} + \\left(\\frac{1}{q} z q_{n}^{2} + \\left(\\left(\\frac{-1}{q}\\right) z\\right) q_{n}\\right) \\mathit{Sni} + \\left(z + 1\\right) q_{n} - 1$"
      ],
      "text/plain": [
       "Sn + (1/q*z*q_n^2 - 1/q*z*q_n)*Sni + (z + 1)*q_n - 1"
      ]
     },
     "metadata": {},
     "output_type": "display_data"
    },
    {
     "data": {
      "text/html": [
       "<html>\\(\\displaystyle \\left[1, -z, q z^{2}, -q^{3} z^{3}, q^{6} z^{4}\\right]\\)</html>"
      ],
      "text/latex": [
       "$\\displaystyle \\left[1, -z, q z^{2}, -q^{3} z^{3}, q^{6} z^{4}\\right]$"
      ],
      "text/plain": [
       "[1, -z, q*z^2, -q^3*z^3, q^6*z^4]"
      ]
     },
     "execution_count": 19,
     "metadata": {},
     "output_type": "execute_result"
    }
   ],
   "source": [
    "L_comp = BwZ.recurrence(L)\n",
    "show(L_comp)\n",
    "cn = solution(L_comp, BwZ.functional_to_self(zn, required_init(L_comp)))\n",
    "cn[:5]"
   ]
  },
  {
   "cell_type": "markdown",
   "id": "ade11a51-39d4-4bca-ba42-4c660f823e3d",
   "metadata": {},
   "source": [
    "We can check that this recurrence is satisfied by the sequence \n",
    "$$c_n = (-1)^n z^n q^{(n^2-n)/2}$$\n",
    "\n",
    "(Note: we would need to implement closure properties to these operators in order to check symbolically and not only check the first terms)"
   ]
  },
  {
   "cell_type": "code",
   "execution_count": 20,
   "id": "f42af41b-3e35-4abe-b3c9-97ab1c12e683",
   "metadata": {
    "vscode": {
     "languageId": "python"
    }
   },
   "outputs": [
    {
     "data": {
      "text/html": [
       "<html>\\(\\displaystyle \\mathrm{True}\\)</html>"
      ],
      "text/latex": [
       "$\\displaystyle \\mathrm{True}$"
      ],
      "text/plain": [
       "True"
      ]
     },
     "execution_count": 20,
     "metadata": {},
     "output_type": "execute_result"
    }
   ],
   "source": [
    "cn_real = LambdaSequence(lambda n : (-1)**n * z**n * q**((n**2-n)/2), BwZ.base)\n",
    "cn.almost_equals(cn_real, 50)"
   ]
  },
  {
   "cell_type": "markdown",
   "id": "76bc2abd-ed5f-4725-9a41-fc0474bbd8eb",
   "metadata": {
    "jp-MarkdownHeadingCollapsed": true,
    "tags": []
   },
   "source": [
    "### Same sequence, different basis (Theorem 3.3 - second identity) (<span style=\"color:red\">Not yet working</span>)"
   ]
  },
  {
   "cell_type": "markdown",
   "id": "a78e1d3f-d1d1-4b7c-b649-afa9519ca2b8",
   "metadata": {},
   "source": [
    "The second part of Theorem 3.3 is the following identity:\n",
    "$$(z;q)_n = \\sum_{j=0}^n z^j \\qbinom{n+j+1}{j}.$$\n",
    "\n",
    "Using the class `QBinomialBasis` we can still prove this identity:"
   ]
  },
  {
   "cell_type": "markdown",
   "id": "c7a61eef-1f46-4cf0-a6a5-bd23d22257a1",
   "metadata": {
    "jp-MarkdownHeadingCollapsed": true,
    "tags": []
   },
   "source": [
    "### A more ellaborate identity (Theorem 3.4 - identity 3.3.8)\n",
    "\n",
    "Consider now the following sequence:\n",
    "$$a_m = \\left\\{\\begin{array}{ll}\n",
    "    (q;q^2)_n & \\text{if }m = 2n\\\\\n",
    "    0 & \\text{otherwise}\n",
    "\\end{array}\\right.$$"
   ]
  },
  {
   "cell_type": "code",
   "execution_count": 22,
   "id": "4c21f504-0f13-45cb-8eb8-21deef7450fa",
   "metadata": {
    "vscode": {
     "languageId": "python"
    }
   },
   "outputs": [
    {
     "data": {
      "text/html": [
       "<html>\\(\\displaystyle \\left[1, 0, -q + 1, 0, q^{4} - q^{3} - q + 1\\right]\\)</html>"
      ],
      "text/latex": [
       "$\\displaystyle \\left[1, 0, -q + 1, 0, q^{4} - q^{3} - q + 1\\right]$"
      ],
      "text/plain": [
       "[1, 0, -q + 1, 0, q^4 - q^3 - q + 1]"
      ]
     },
     "execution_count": 22,
     "metadata": {},
     "output_type": "execute_result"
    }
   ],
   "source": [
    "q = B.q()\n",
    "am = InterlacingSequence(QPochhammerSequence(q, q^2), LambdaSequence(lambda n : 0, ZZ, 1))\n",
    "am[:5]"
   ]
  },
  {
   "cell_type": "markdown",
   "id": "c692d72a-7f1c-43a4-8618-08d673cf76c0",
   "metadata": {},
   "source": [
    "Now, we want to write this sequence using the $q$-binomial basis, in the following way:\n",
    "$$a_m = \\sum_{k = 0}^m c_k \\qbinom{m}{k}.$$\n",
    "\n",
    "If we manage to obtain an operator $L$ that annihilates $a_m$, then we can compute an operator that annihilates $(c_k)_k$.\n",
    "\n",
    "This operator $L$ can be computed easily from the definition of $a_m$, obtaining:\n",
    "$$L = E_m^2 - 1 + qQ.$$\n",
    "We check this using the following code:"
   ]
  },
  {
   "cell_type": "code",
   "execution_count": 23,
   "id": "9a7e311e-ac24-4090-adc6-8b71afcb90f8",
   "metadata": {
    "vscode": {
     "languageId": "python"
    }
   },
   "outputs": [
    {
     "data": {
      "text/html": [
       "<html>\\(\\displaystyle \\mathrm{True}\\)</html>"
      ],
      "text/latex": [
       "$\\displaystyle \\mathrm{True}$"
      ],
      "text/plain": [
       "True"
      ]
     },
     "execution_count": 23,
     "metadata": {},
     "output_type": "execute_result"
    }
   ],
   "source": [
    "OE, (q_n, E) = get_qshift_algebra(\"q_n\", \"q\", \"E\", rational=False, base=B.base)\n",
    "L = E^2 - 1 + q*q_n\n",
    "apply_operator_to_seq(L, am).almost_zero(50)"
   ]
  },
  {
   "cell_type": "markdown",
   "id": "cbdb02e3-f955-4fe5-b052-b68c62440dfb",
   "metadata": {},
   "source": [
    "Hence we can compute the recursion for $(c_k)_k$ by substituing the compatibility operators into $L$:"
   ]
  },
  {
   "cell_type": "markdown",
   "id": "0cad04ed-0b65-44f6-81bd-a982fc9044f1",
   "metadata": {},
   "source": [
    "$$-1 + q Q + Q^{2} + \\left(q + 1\\right) Q \\mathit{Sn} - Q \\mathit{Sni} + \\mathit{Sn}^{2} + Q^{2}\\mathit{Sni}$$"
   ]
  },
  {
   "cell_type": "code",
   "execution_count": 24,
   "id": "834e7cad-1486-4ec2-bff6-293a8a6693fe",
   "metadata": {
    "vscode": {
     "languageId": "python"
    }
   },
   "outputs": [
    {
     "data": {
      "text/html": [
       "<html>\\(\\displaystyle \\mathit{Sn}^{2} + \\left(\\left(q + 1\\right) q_{n}\\right) \\mathit{Sn} + \\left(q_{n}^{2} - q_{n}\\right) \\mathit{Sni} + q_{n}^{2} + q q_{n} - 1\\)</html>"
      ],
      "text/latex": [
       "$\\displaystyle \\mathit{Sn}^{2} + \\left(\\left(q + 1\\right) q_{n}\\right) \\mathit{Sn} + \\left(q_{n}^{2} - q_{n}\\right) \\mathit{Sni} + q_{n}^{2} + q q_{n} - 1$"
      ],
      "text/plain": [
       "Sn^2 + ((q + 1)*q_n)*Sn + (q_n^2 - q_n)*Sni + q_n^2 + q*q_n - 1"
      ]
     },
     "metadata": {},
     "output_type": "display_data"
    },
    {
     "data": {
      "text/html": [
       "<html>\\(\\displaystyle \\left[1, -1, 1, -1, 1, -1, 1, -1, 1, -1\\right]\\)</html>"
      ],
      "text/latex": [
       "$\\displaystyle \\left[1, -1, 1, -1, 1, -1, 1, -1, 1, -1\\right]$"
      ],
      "text/plain": [
       "[1, -1, 1, -1, 1, -1, 1, -1, 1, -1]"
      ]
     },
     "execution_count": 24,
     "metadata": {},
     "output_type": "execute_result"
    }
   ],
   "source": [
    "L_comp = B.recurrence(L)\n",
    "show(L_comp)\n",
    "ck = solution(L_comp, B.functional_to_self(am, required_init(L_comp)))\n",
    "ck[:10]"
   ]
  },
  {
   "cell_type": "markdown",
   "id": "163fc205-a8d1-489a-a974-1d45c6179cc5",
   "metadata": {},
   "source": [
    "In the theorem 3.4, indentity 3.3.8, they claim the sequence $c_k = (-1)^k$. Using closure properties over $L_{comp}$ and the annihilator of $(-1)^k$ (which would be $S + 1$) we could prove symbolically that these two sequence are the same. However, we will simply check that $(-1)^k$ isannihilated by our $L_{comp}$: "
   ]
  },
  {
   "cell_type": "code",
   "execution_count": 25,
   "id": "6342b8a3-2082-4869-8e38-c30f1021f6d6",
   "metadata": {
    "vscode": {
     "languageId": "python"
    }
   },
   "outputs": [
    {
     "data": {
      "text/html": [
       "<html>\\(\\displaystyle \\mathrm{True}\\)</html>"
      ],
      "text/latex": [
       "$\\displaystyle \\mathrm{True}$"
      ],
      "text/plain": [
       "True"
      ]
     },
     "execution_count": 25,
     "metadata": {},
     "output_type": "execute_result"
    }
   ],
   "source": [
    "ck_real = LambdaSequence(lambda k : (-1)**k, B.base)\n",
    "ck.almost_equals(ck_real, 100)"
   ]
  },
  {
   "cell_type": "markdown",
   "id": "5a2e63aa-cabb-4eba-a124-758dce80f759",
   "metadata": {
    "jp-MarkdownHeadingCollapsed": true,
    "tags": []
   },
   "source": [
    "### A weird binomial identity (Theorem 3.4 - identity 3.3.9) (<span style=\"color:red\">Not yet working</span>)"
   ]
  },
  {
   "cell_type": "markdown",
   "id": "fe8c3496-d00c-403e-8abe-a0fe72f94095",
   "metadata": {},
   "source": [
    "In this example, we have the following identity:\n",
    "$$\\qbinom{n+m+1}{m+1} = \\sum_{j=0}^n q^j\\qbinom{m+j}{m}.$$\n",
    "\n",
    "This identity looks like something we can prove using our code. However, we have a couple of issues with this:\n",
    "\n",
    "* The $q$-binomial used in this identity do not have the summing parameter in the bottom: we need to adapt the compatibilities for this type of basis.\n",
    "* $n$ is a parameter. Hence we are going to add two parameters to the base field: $n$ and $q^n$.\n",
    "\n",
    "Let us start by obtaining a valid field for this identity and then, we will compute a recurrence that annihilates the left-hand side of the identity:"
   ]
  },
  {
   "cell_type": "markdown",
   "id": "fd503148-973c-402c-be6f-915d47ec8d01",
   "metadata": {
    "jp-MarkdownHeadingCollapsed": true,
    "tags": []
   },
   "source": [
    "## **Examples from Ali**"
   ]
  },
  {
   "cell_type": "markdown",
   "id": "b57a7c0c-c89a-406c-9c6c-431c4c720075",
   "metadata": {},
   "source": [
    "### Example 25/05/2023"
   ]
  },
  {
   "cell_type": "markdown",
   "id": "686800c0-3f4d-4256-8a84-ee1500a096b9",
   "metadata": {},
   "source": [
    "On May 25th, Ali came back to me with a new example for which he have a solution but want to try if the software is able to solve it. The recurrence is the follosing:\n",
    "$$a_n = -q^{n-1}a_{n-1} + q^n a_{n-2},\\quad a_0 = 2,\\quad a_1 = q,$$\n",
    "or equivalently:\n",
    "$$a_{n+2} + q^{n+1}a_{n+1} - q^{n+2}a_n = 0.$$\n",
    "First of all, let us compute the first elements of this sequence using the the basic software:"
   ]
  },
  {
   "cell_type": "code",
   "execution_count": 2,
   "id": "a002e32e-4cf0-42ca-bd6e-ff6b1d4646eb",
   "metadata": {},
   "outputs": [],
   "source": [
    "OQ, (qn, E) = get_qshift_algebra(\"qn\", base=QQ[\"q\"])\n",
    "q = OQ.base().base()(\"q\")"
   ]
  },
  {
   "cell_type": "code",
   "execution_count": 3,
   "id": "23621303-0503-46c8-9007-bda85af49d3f",
   "metadata": {},
   "outputs": [
    {
     "data": {
      "text/html": [
       "<html>\\(\\displaystyle \\left[2, q, q^{2}, 0, q^{6}, -q^{10}\\right]\\)</html>"
      ],
      "text/latex": [
       "$\\displaystyle \\left[2, q, q^{2}, 0, q^{6}, -q^{10}\\right]$"
      ],
      "text/plain": [
       "[2, q, q^2, 0, q^6, -q^10]"
      ]
     },
     "execution_count": 3,
     "metadata": {},
     "output_type": "execute_result"
    }
   ],
   "source": [
    "op = E^2 + q*qn*E - q^2*qn\n",
    "sol = solution(op, [2, q], name_q = \"q\"); sol[:6]"
   ]
  },
  {
   "cell_type": "markdown",
   "id": "0f9e402b-4ca7-4956-8ab3-f90eb9fac76a",
   "metadata": {},
   "source": [
    "In the email is proposed to look into solutions of the folloswing shape:\n",
    "$$a_n = \\sum_{k=-\\infty}^\\infty \\sum_{i=0}^4 \\alpha_{k,i} \\qbinom{2n}{n+5k+i}$$"
   ]
  },
  {
   "cell_type": "code",
   "execution_count": 4,
   "id": "3ca1368a-29cf-4c23-b63a-f8f029229e9a",
   "metadata": {},
   "outputs": [],
   "source": [
    "def get_matrix(seq, k,n):\n",
    "    return Matrix([[seq(j,i) for i in range(n)] for j in range(k)])\n",
    "\n",
    "uni = QQ[\"q\"]; q = uni.gens()[0]\n",
    "QBinomial_2N_NK = LambdaSequence(lambda k,n : gaussian_binomial(2*n, n+k, q=q), universe = QQ[\"q\"].fraction_field(), dim=2)\n",
    "B = QBinomial_2N_NK"
   ]
  },
  {
   "cell_type": "markdown",
   "id": "e8169fc9-4319-49a2-af9e-8d0fc5a7e586",
   "metadata": {},
   "source": [
    "**Multiplication by specific rational function is compatible**"
   ]
  },
  {
   "cell_type": "code",
   "execution_count": 5,
   "id": "a1b40644-ff52-4844-b66e-fea3b7f0ff02",
   "metadata": {},
   "outputs": [],
   "source": [
    "ks = var(\"k\"); ns = var(\"n\"); qs = SR(q)"
   ]
  },
  {
   "cell_type": "code",
   "execution_count": 6,
   "id": "d7bd6387-e8d9-4ad4-a628-d9c1edbca657",
   "metadata": {},
   "outputs": [
    {
     "data": {
      "text/html": [
       "<html>\\(\\displaystyle \\mathrm{True}\\)</html>"
      ],
      "text/latex": [
       "$\\displaystyle \\mathrm{True}$"
      ],
      "text/plain": [
       "True"
      ]
     },
     "execution_count": 6,
     "metadata": {},
     "output_type": "execute_result"
    }
   ],
   "source": [
    "## [1-q**(n+k+1)] * B(k+1,n) == [1-q**(n-k)] * B(k,n)\n",
    "lhs_factor = ExpressionSequence(1-qs**(ns+ks+1), universe = QQ[\"q\"].fraction_field(), variables=[ks,ns])\n",
    "rhs_factor = ExpressionSequence(1-qs**(ns-ks), universe = QQ[\"q\"].fraction_field(), variables=[ks,ns])\n",
    "zero_seq = lhs_factor*B.shift(1,0) - rhs_factor*B\n",
    "zero_seq.almost_zero(5)"
   ]
  },
  {
   "cell_type": "markdown",
   "id": "82666b45-93fa-4ade-8dd9-0070aded19c1",
   "metadata": {},
   "source": [
    "**Compatibility with shift in $n$**"
   ]
  },
  {
   "cell_type": "code",
   "execution_count": 7,
   "id": "edd771fb-db9d-44a3-a4c3-f421e50cc73f",
   "metadata": {},
   "outputs": [
    {
     "data": {
      "text/html": [
       "<html>\\(\\displaystyle \\mathrm{True}\\)</html>"
      ],
      "text/latex": [
       "$\\displaystyle \\mathrm{True}$"
      ],
      "text/plain": [
       "True"
      ]
     },
     "execution_count": 7,
     "metadata": {},
     "output_type": "execute_result"
    }
   ],
   "source": [
    "## B(k,n+1) = [q**(2*(n+k+1))]*B(k+1,n) + [q**(n+k)*(q+1)]*B(k,n) + B(k-1,n)\n",
    "k1_factor = ExpressionSequence(qs**(2*(ns+ks+1)), universe = QQ[\"q\"].fraction_field(), variables=[ks,ns])\n",
    "k_factor = ExpressionSequence(qs**(ns+ks)*(qs+1), universe = QQ[\"q\"].fraction_field(), variables=[ks,ns])\n",
    "k_1_factor = ExpressionSequence(1, universe = QQ[\"q\"].fraction_field(), variables=[ks,ns])\n",
    "zero_seq = B.shift(0,1) - k1_factor*B.shift(1,0) - k_factor*B - k_1_factor*B.shift(-1,0)\n",
    "zero_seq.almost_zero(5)"
   ]
  },
  {
   "cell_type": "code",
   "execution_count": 8,
   "id": "69c072a8-7b06-4ea3-9fbc-c3b57b4ec9f5",
   "metadata": {},
   "outputs": [],
   "source": [
    "CSn = Compatibility(1,1,1, {(-1,0): k_1_factor, (0,0): k_factor, (1,0): k1_factor}, action=lambda S: S.shift(0,1), action_type=\"homomorphism\", _dependency=True)\n",
    "Id = Compatibility(0,0,1, [ConstantSequence(1, universe=QQ[\"q\"], dim=2)], action=lambda S: S, action_type = \"homomorphism\", _dependency=True)"
   ]
  },
  {
   "cell_type": "markdown",
   "id": "55a26cfd-c1eb-4eed-91df-9ecb412c168a",
   "metadata": {},
   "source": [
    "**Double shift in $n$**"
   ]
  },
  {
   "cell_type": "code",
   "execution_count": 17,
   "id": "f4ec54df-f39e-4363-ab56-20fffc4d48d9",
   "metadata": {},
   "outputs": [],
   "source": [
    "CSn2 = CSn.mul(CSn)"
   ]
  },
  {
   "cell_type": "code",
   "execution_count": 10,
   "id": "cecfcf04-965f-41eb-bed5-bf5df76535c9",
   "metadata": {},
   "outputs": [],
   "source": [
    "C = CSn.mul(CSn).add(CSn.scale(LambdaSequence(lambda k,n : q**(n+1), dim=2, universe=QQ[\"q\"])).add(Id.scale(LambdaSequence(lambda k,n : -q**(n+2), dim=2, universe=QQ[\"q\"]))))"
   ]
  },
  {
   "cell_type": "code",
   "execution_count": 11,
   "id": "6958af37-b660-4069-b518-fe39031f3ca6",
   "metadata": {},
   "outputs": [
    {
     "data": {
      "text/html": [
       "<html>\\(\\displaystyle \\left(2, 2, 1\\right)\\)</html>"
      ],
      "text/latex": [
       "$\\displaystyle \\left(2, 2, 1\\right)$"
      ],
      "text/plain": [
       "(2, 2, 1)"
      ]
     },
     "execution_count": 11,
     "metadata": {},
     "output_type": "execute_result"
    }
   ],
   "source": [
    "C.A, C.B, C.m"
   ]
  },
  {
   "cell_type": "code",
   "execution_count": 30,
   "id": "3ed11e2c-99f0-4707-b7cd-caf5d39cca54",
   "metadata": {},
   "outputs": [],
   "source": [
    "seq = B.shift(0,2) - sum([CSn2[i]*B.shift(i,0) for i in range(-CSn2.A, CSn2.B+1)], 0)"
   ]
  },
  {
   "cell_type": "code",
   "execution_count": 39,
   "id": "63bb67a4-f027-49fb-bdf0-bf65d30aa32b",
   "metadata": {},
   "outputs": [
    {
     "data": {
      "text/html": [
       "<html>\\(\\displaystyle \\left[\\left( 1 \\right)_{ k,n \\in \\mathbb{N}}, \\left( {\\left(q + 1\\right)} q^{k + n} + {\\left(q + 1\\right)} q^{k + n - 2} \\right)_{ k,n \\in \\mathbb{N}}, \\left( {\\left(q + 1\\right)}^{2} q^{k + n + 1} q^{k + n} + q^{2 \\, k + 2 \\, n + 4} + q^{2 \\, k + 2 \\, n} \\right)_{ k,n \\in \\mathbb{N}}, \\left( {\\left(q + 1\\right)} q^{2 \\, k + 2 \\, n + 6} q^{k + n + 2} + {\\left(q + 1\\right)} q^{2 \\, k + 2 \\, n + 4} q^{k + n + 2} \\right)_{ k,n \\in \\mathbb{N}}, \\left( q^{4 \\, k + 4 \\, n + 16} \\right)_{ k,n \\in \\mathbb{N}}\\right]\\)</html>"
      ],
      "text/latex": [
       "$\\displaystyle \\left[\\left( 1 \\right)_{ k,n \\in \\mathbb{N}}, \\left( {\\left(q + 1\\right)} q^{k + n} + {\\left(q + 1\\right)} q^{k + n - 2} \\right)_{ k,n \\in \\mathbb{N}}, \\left( {\\left(q + 1\\right)}^{2} q^{k + n + 1} q^{k + n} + q^{2 \\, k + 2 \\, n + 4} + q^{2 \\, k + 2 \\, n} \\right)_{ k,n \\in \\mathbb{N}}, \\left( {\\left(q + 1\\right)} q^{2 \\, k + 2 \\, n + 6} q^{k + n + 2} + {\\left(q + 1\\right)} q^{2 \\, k + 2 \\, n + 4} q^{k + n + 2} \\right)_{ k,n \\in \\mathbb{N}}, \\left( q^{4 \\, k + 4 \\, n + 16} \\right)_{ k,n \\in \\mathbb{N}}\\right]$"
      ],
      "text/plain": [
       "[Sequence in (k, n) over [Fraction Field of Univariate Polynomial Ring in q over Rational Field]: 1,\n",
       " Sequence in (k, n) over [Fraction Field of Univariate Polynomial Ring in q over Rational Field]: (q + 1)*q^(k + n) + (q + 1)*q^(k + n - 2),\n",
       " Sequence in (k, n) over [Fraction Field of Univariate Polynomial Ring in q over Rational Field]: (q + 1)^2*q^(k + n + 1)*q^(k + n) + q^(2*k + 2*n + 4) + q^(2*k + 2*n),\n",
       " Sequence in (k, n) over [Fraction Field of Univariate Polynomial Ring in q over Rational Field]: (q + 1)*q^(2*k + 2*n + 6)*q^(k + n + 2) + (q + 1)*q^(2*k + 2*n + 4)*q^(k + n + 2),\n",
       " Sequence in (k, n) over [Fraction Field of Univariate Polynomial Ring in q over Rational Field]: q^(4*k + 4*n + 16)]"
      ]
     },
     "execution_count": 39,
     "metadata": {},
     "output_type": "execute_result"
    }
   ],
   "source": [
    "[CSn2[i].shift(i,0) for i in range(-2,3)]"
   ]
  },
  {
   "cell_type": "code",
   "execution_count": 42,
   "id": "f9e9ac7d-fb10-4a98-8892-d7a39f3f92a0",
   "metadata": {},
   "outputs": [
    {
     "data": {
      "text/html": [
       "<html>\\(\\displaystyle \\left(\\begin{array}{rrrrr}\n",
       "0 & -q + 1 & -q^{2} + 1 & -q^{3} + 1 & -q^{4} + 1 \\\\\n",
       "\\frac{q - 1}{q} & 0 & -q + 1 & -q^{2} + 1 & -q^{3} + 1 \\\\\n",
       "\\frac{q^{2} - 1}{q^{2}} & \\frac{q - 1}{q} & 0 & -q + 1 & -q^{2} + 1 \\\\\n",
       "\\frac{q^{3} - 1}{q^{3}} & \\frac{q^{2} - 1}{q^{2}} & \\frac{q - 1}{q} & 0 & -q + 1 \\\\\n",
       "\\frac{q^{4} - 1}{q^{4}} & \\frac{q^{3} - 1}{q^{3}} & \\frac{q^{2} - 1}{q^{2}} & \\frac{q - 1}{q} & 0\n",
       "\\end{array}\\right)\\)</html>"
      ],
      "text/latex": [
       "$\\displaystyle \\left(\\begin{array}{rrrrr}\n",
       "0 & -q + 1 & -q^{2} + 1 & -q^{3} + 1 & -q^{4} + 1 \\\\\n",
       "\\frac{q - 1}{q} & 0 & -q + 1 & -q^{2} + 1 & -q^{3} + 1 \\\\\n",
       "\\frac{q^{2} - 1}{q^{2}} & \\frac{q - 1}{q} & 0 & -q + 1 & -q^{2} + 1 \\\\\n",
       "\\frac{q^{3} - 1}{q^{3}} & \\frac{q^{2} - 1}{q^{2}} & \\frac{q - 1}{q} & 0 & -q + 1 \\\\\n",
       "\\frac{q^{4} - 1}{q^{4}} & \\frac{q^{3} - 1}{q^{3}} & \\frac{q^{2} - 1}{q^{2}} & \\frac{q - 1}{q} & 0\n",
       "\\end{array}\\right)$"
      ],
      "text/plain": [
       "[            0        -q + 1      -q^2 + 1      -q^3 + 1      -q^4 + 1]\n",
       "[    (q - 1)/q             0        -q + 1      -q^2 + 1      -q^3 + 1]\n",
       "[(q^2 - 1)/q^2     (q - 1)/q             0        -q + 1      -q^2 + 1]\n",
       "[(q^3 - 1)/q^3 (q^2 - 1)/q^2     (q - 1)/q             0        -q + 1]\n",
       "[(q^4 - 1)/q^4 (q^3 - 1)/q^3 (q^2 - 1)/q^2     (q - 1)/q             0]"
      ]
     },
     "execution_count": 42,
     "metadata": {},
     "output_type": "execute_result"
    }
   ],
   "source": [
    "get_matrix(rhs_factor, 5, 5)"
   ]
  },
  {
   "cell_type": "code",
   "execution_count": 30,
   "id": "5fc83cd8-4cda-4961-b530-4de3581c3f90",
   "metadata": {},
   "outputs": [
    {
     "data": {
      "text/html": [
       "<html>\\(\\displaystyle \\left(\\begin{array}{rrrrr}\n",
       "0 & -q^{2} + 1 & -q^{6} - q^{5} - q^{4} + q^{2} + q + 1 & -q^{12} - q^{11} - 2 q^{10} - 2 q^{9} - 2 q^{8} - q^{7} + q^{5} + 2 q^{4} + 2 q^{3} + 2 q^{2} + q + 1 & -q^{20} - q^{19} - 2 q^{18} - 3 q^{17} - 4 q^{16} - 4 q^{15} - 5 q^{14} - 4 q^{13} - 3 q^{12} - 2 q^{11} + 2 q^{9} + 3 q^{8} + 4 q^{7} + 5 q^{6} + 4 q^{5} + 4 q^{4} + 3 q^{3} + 2 q^{2} + q + 1 \\\\\n",
       "0 & 0 & -q^{4} + 1 & -q^{10} - q^{9} - q^{8} - q^{7} - q^{6} + q^{4} + q^{3} + q^{2} + q + 1 & -q^{18} - q^{17} - 2 q^{16} - 2 q^{15} - 3 q^{14} - 3 q^{13} - 3 q^{12} - 2 q^{11} - q^{10} + q^{8} + 2 q^{7} + 3 q^{6} + 3 q^{5} + 3 q^{4} + 2 q^{3} + 2 q^{2} + q + 1 \\\\\n",
       "0 & 0 & 0 & -q^{6} + 1 & -q^{14} - q^{13} - q^{12} - q^{11} - q^{10} - q^{9} - q^{8} + q^{6} + q^{5} + q^{4} + q^{3} + q^{2} + q + 1 \\\\\n",
       "0 & 0 & 0 & 0 & -q^{8} + 1 \\\\\n",
       "0 & 0 & 0 & 0 & 0\n",
       "\\end{array}\\right)\\)</html>"
      ],
      "text/latex": [
       "$\\displaystyle \\left(\\begin{array}{rrrrr}\n",
       "0 & -q^{2} + 1 & -q^{6} - q^{5} - q^{4} + q^{2} + q + 1 & -q^{12} - q^{11} - 2 q^{10} - 2 q^{9} - 2 q^{8} - q^{7} + q^{5} + 2 q^{4} + 2 q^{3} + 2 q^{2} + q + 1 & -q^{20} - q^{19} - 2 q^{18} - 3 q^{17} - 4 q^{16} - 4 q^{15} - 5 q^{14} - 4 q^{13} - 3 q^{12} - 2 q^{11} + 2 q^{9} + 3 q^{8} + 4 q^{7} + 5 q^{6} + 4 q^{5} + 4 q^{4} + 3 q^{3} + 2 q^{2} + q + 1 \\\\\n",
       "0 & 0 & -q^{4} + 1 & -q^{10} - q^{9} - q^{8} - q^{7} - q^{6} + q^{4} + q^{3} + q^{2} + q + 1 & -q^{18} - q^{17} - 2 q^{16} - 2 q^{15} - 3 q^{14} - 3 q^{13} - 3 q^{12} - 2 q^{11} - q^{10} + q^{8} + 2 q^{7} + 3 q^{6} + 3 q^{5} + 3 q^{4} + 2 q^{3} + 2 q^{2} + q + 1 \\\\\n",
       "0 & 0 & 0 & -q^{6} + 1 & -q^{14} - q^{13} - q^{12} - q^{11} - q^{10} - q^{9} - q^{8} + q^{6} + q^{5} + q^{4} + q^{3} + q^{2} + q + 1 \\\\\n",
       "0 & 0 & 0 & 0 & -q^{8} + 1 \\\\\n",
       "0 & 0 & 0 & 0 & 0\n",
       "\\end{array}\\right)$"
      ],
      "text/plain": [
       "[                                                                                                                                                           0                                                                                                                                                     -q^2 + 1                                                                                                                               -q^6 - q^5 - q^4 + q^2 + q + 1                                                                            -q^12 - q^11 - 2*q^10 - 2*q^9 - 2*q^8 - q^7 + q^5 + 2*q^4 + 2*q^3 + 2*q^2 + q + 1 -q^20 - q^19 - 2*q^18 - 3*q^17 - 4*q^16 - 4*q^15 - 5*q^14 - 4*q^13 - 3*q^12 - 2*q^11 + 2*q^9 + 3*q^8 + 4*q^7 + 5*q^6 + 4*q^5 + 4*q^4 + 3*q^3 + 2*q^2 + q + 1]\n",
       "[                                                                                                                                                           0                                                                                                                                                            0                                                                                                                                                     -q^4 + 1                                                                                                      -q^10 - q^9 - q^8 - q^7 - q^6 + q^4 + q^3 + q^2 + q + 1                      -q^18 - q^17 - 2*q^16 - 2*q^15 - 3*q^14 - 3*q^13 - 3*q^12 - 2*q^11 - q^10 + q^8 + 2*q^7 + 3*q^6 + 3*q^5 + 3*q^4 + 2*q^3 + 2*q^2 + q + 1]\n",
       "[                                                                                                                                                           0                                                                                                                                                            0                                                                                                                                                            0                                                                                                                                                     -q^6 + 1                                                                          -q^14 - q^13 - q^12 - q^11 - q^10 - q^9 - q^8 + q^6 + q^5 + q^4 + q^3 + q^2 + q + 1]\n",
       "[                                                                                                                                                           0                                                                                                                                                            0                                                                                                                                                            0                                                                                                                                                            0                                                                                                                                                     -q^8 + 1]\n",
       "[                                                                                                                                                           0                                                                                                                                                            0                                                                                                                                                            0                                                                                                                                                            0                                                                                                                                                            0]"
      ]
     },
     "execution_count": 30,
     "metadata": {},
     "output_type": "execute_result"
    }
   ],
   "source": [
    "Matrix([[(rhs_factor*QBinomial_2N_NK)(k,n) for n in range(5)] for k in range(5)])\n",
    "#Matrix([[(lhs_factor*QBinomial_2N_NK.shift(1,0))(k,n) for n in range(10)] for k in range(10)])"
   ]
  },
  {
   "cell_type": "markdown",
   "id": "0d9b3862-ecc2-4be2-b189-b83f1c674ef7",
   "metadata": {
    "jp-MarkdownHeadingCollapsed": true,
    "tags": []
   },
   "source": [
    "### A new example"
   ]
  },
  {
   "cell_type": "markdown",
   "id": "643f8c82-1145-4c8b-9d97-1ef15dd8a1c3",
   "metadata": {},
   "source": [
    "On 13/03/2023, Ali sent me the following recurrence equation:\n",
    "\n",
    "$$\\begin{array}{lrl}\n",
    "    q^{12 + 15 n} (1 + q^{4 + 3 n} + q^{7 + 3 n}) & f(n) & +\\\\\n",
    "    q^{10 + 9 n} \\left(1 + q + q^{2 + 3 n} + q^{3 + 3 n} + q^{4 + 3 n} + q^{5 + 3 n} + q^{7 + 3 n} + q^{8 + 3 n} - q^{9 + 3 n} + q^{6 + 6 n} +\n",
    "     q^{9 + 6 n}\\right) & f(n+1) & + \\\\\n",
    "     \\left(-1 - q^{1 + 3 n} - q^{4 + 3 n} - q^{5 + 3 n} - q^{6 + 3 n} - q^{7 + 3 n} - q^{6 + 6 n} - q^{7 + 6 n} - q^{8 + 6 n} -\n",
    "     q^{9 + 6 n} - q^{10 + 6 n} - q^{11 + 6 n} - 2 q^{12 + 6 n} - q^{10 + 9 n} - 2 q^{13 + 9 n} - q^{16 + 9 n}\\right) & f(n+2) & + \\\\\n",
    "     \\left(1 + q^{1 + 3 n} + q^{4 + 3 n}\\right) & f(n+3) & =0\n",
    "\\end{array}$$\n",
    "\n",
    "$$f(0) = 0,\\quad f(1) = 1+q,\\quad f(2) = 1+q+q^2+2q^3 + 2q^4 + q^5 + 2q^6 + q^7$$"
   ]
  },
  {
   "cell_type": "code",
   "execution_count": 9,
   "id": "0a42ac2b-71fd-46b3-88f0-9f5672236a09",
   "metadata": {},
   "outputs": [
    {
     "data": {
      "text/html": [
       "<html>\\(\\displaystyle \\newcommand{\\Bold}[1]{\\mathbf{#1}}\\left(\\mathrm{Frac}(\\Bold{Q}[q])[q_{\\mathit{3n}}]\\langle E, \\mathit{Ei}\\rangle , q_{\\mathit{3n}}, E, \\mathit{Ei}\\right)\\)</html>"
      ],
      "text/latex": [
       "$\\displaystyle \\newcommand{\\Bold}[1]{\\mathbf{#1}}\\left(\\mathrm{Frac}(\\Bold{Q}[q])[q_{\\mathit{3n}}]\\langle E, \\mathit{Ei}\\rangle , q_{\\mathit{3n}}, E, \\mathit{Ei}\\right)$"
      ],
      "text/plain": [
       "(Multivariate Ore algebra in E, Ei over Univariate Polynomial Ring in q_3n over Fraction Field of Univariate Polynomial Ring in q over Rational Field,\n",
       " q_3n,\n",
       " E,\n",
       " Ei)"
      ]
     },
     "metadata": {},
     "output_type": "display_data"
    }
   ],
   "source": [
    "from pseries_basis.misc.ore import get_qshift_algebra\n",
    "OE, (q_n, E, Ei) = get_double_qshift_algebra(\"q_3n\", \"q\", \"E\", power=3, rational=False, base=B.base)\n",
    "show(tuple([OE, q_n, E, Ei]))"
   ]
  },
  {
   "cell_type": "code",
   "execution_count": 10,
   "id": "fe3f4c3b-d677-4a7b-98d9-ab98a577c461",
   "metadata": {},
   "outputs": [
    {
     "data": {
      "text/html": [
       "<html>\\(\\displaystyle \\left(\\left(q^{3} + q\\right) q_{\\mathit{3n}} + 1\\right) E^{3} + \\left(\\left(-q^{16} - 2 q^{13} - q^{10}\\right) q_{\\mathit{3n}}^{3} + \\left(-2 q^{12} - q^{11} - q^{10} - q^{9} - q^{8} - q^{7} - q^{6}\\right) q_{\\mathit{3n}}^{2} + \\left(-q^{7} - q^{6} - q^{5} - q^{4} - q\\right) q_{\\mathit{3n}} - 1\\right) E^{2} + \\left(\\left(q^{19} + q^{16}\\right) q_{\\mathit{3n}}^{5} + \\left(-q^{19} + q^{18} + q^{17} + q^{15} + q^{14} + q^{13} + q^{12}\\right) q_{\\mathit{3n}}^{4} + \\left(q^{11} + q^{10}\\right) q_{\\mathit{3n}}^{3}\\right) E + \\left(q^{19} + q^{16}\\right) q_{\\mathit{3n}}^{6} + q^{12} q_{\\mathit{3n}}^{5}\\)</html>"
      ],
      "text/latex": [
       "$\\displaystyle \\left(\\left(q^{3} + q\\right) q_{\\mathit{3n}} + 1\\right) E^{3} + \\left(\\left(-q^{16} - 2 q^{13} - q^{10}\\right) q_{\\mathit{3n}}^{3} + \\left(-2 q^{12} - q^{11} - q^{10} - q^{9} - q^{8} - q^{7} - q^{6}\\right) q_{\\mathit{3n}}^{2} + \\left(-q^{7} - q^{6} - q^{5} - q^{4} - q\\right) q_{\\mathit{3n}} - 1\\right) E^{2} + \\left(\\left(q^{19} + q^{16}\\right) q_{\\mathit{3n}}^{5} + \\left(-q^{19} + q^{18} + q^{17} + q^{15} + q^{14} + q^{13} + q^{12}\\right) q_{\\mathit{3n}}^{4} + \\left(q^{11} + q^{10}\\right) q_{\\mathit{3n}}^{3}\\right) E + \\left(q^{19} + q^{16}\\right) q_{\\mathit{3n}}^{6} + q^{12} q_{\\mathit{3n}}^{5}$"
      ],
      "text/plain": [
       "((q^3 + q)*q_3n + 1)*E^3 + ((-q^16 - 2*q^13 - q^10)*q_3n^3 + (-2*q^12 - q^11 - q^10 - q^9 - q^8 - q^7 - q^6)*q_3n^2 + (-q^7 - q^6 - q^5 - q^4 - q)*q_3n - 1)*E^2 + ((q^19 + q^16)*q_3n^5 + (-q^19 + q^18 + q^17 + q^15 + q^14 + q^13 + q^12)*q_3n^4 + (q^11 + q^10)*q_3n^3)*E + (q^19 + q^16)*q_3n^6 + q^12*q_3n^5"
      ]
     },
     "execution_count": 10,
     "metadata": {},
     "output_type": "execute_result"
    }
   ],
   "source": [
    "L = sum([\n",
    "    q**12*q_n**5*(1+(q**4 + q**7)*q_n),\n",
    "    q**10*q_n**3*(1+q+(q**2 + q**3 + q**4 + q**5 + q**7 + q**8 - q**9)*q_n + (q**6+q**9)*q_n**2)*E,\n",
    "    (-1 - (q + q**4 + q**5 + q**6 + q**7)*q_n - (q**6 + q**7 + q**8 + q**9 + q**10 + q**11 + 2*q**12)*q_n**2 - (q**10 + 2*q**13 + q**16)*q_n**3)*E^2,\n",
    "    (1 + q*q_n + q**3 * q_n)*E^3\n",
    "]);L"
   ]
  },
  {
   "cell_type": "code",
   "execution_count": 12,
   "id": "bb30f6de-6fdf-4923-a635-ea5352a16ca3",
   "metadata": {},
   "outputs": [
    {
     "data": {
      "text/html": [
       "<html>\\(\\displaystyle \\verb|Sequence|\\verb| |\\verb|over|\\verb| |\\verb|[Fraction|\\verb| |\\verb|Field|\\verb| |\\verb|of|\\verb| |\\verb|Univariate|\\verb| |\\verb|Polynomial|\\verb| |\\verb|Ring|\\verb| |\\verb|in|\\verb| |\\verb|q|\\verb| |\\verb|over|\\verb| |\\verb|Rational|\\verb| |\\verb|Field]:|\\verb| |\\verb|(0,|\\verb| |\\verb|q|\\verb| |\\verb|+|\\verb| |\\verb|1,|\\verb| |\\verb|q^7|\\verb| |\\verb|+|\\verb| |\\verb|2*q^6|\\verb| |\\verb|+|\\verb| |\\verb|q^5|\\verb| |\\verb|+|\\verb| |\\verb|2*q^4|\\verb| |\\verb|+|\\verb| |\\verb|2*q^3|\\verb| |\\verb|+|\\verb| |\\verb|q^2|\\verb| |\\verb|+|\\verb| |\\verb|q|\\verb| |\\verb|+|\\verb| |\\verb|1,...)|\\)</html>"
      ],
      "text/latex": [
       "$\\displaystyle \\verb|Sequence|\\verb| |\\verb|over|\\verb| |\\verb|[Fraction|\\verb| |\\verb|Field|\\verb| |\\verb|of|\\verb| |\\verb|Univariate|\\verb| |\\verb|Polynomial|\\verb| |\\verb|Ring|\\verb| |\\verb|in|\\verb| |\\verb|q|\\verb| |\\verb|over|\\verb| |\\verb|Rational|\\verb| |\\verb|Field]:|\\verb| |\\verb|(0,|\\verb| |\\verb|q|\\verb| |\\verb|+|\\verb| |\\verb|1,|\\verb| |\\verb|q^7|\\verb| |\\verb|+|\\verb| |\\verb|2*q^6|\\verb| |\\verb|+|\\verb| |\\verb|q^5|\\verb| |\\verb|+|\\verb| |\\verb|2*q^4|\\verb| |\\verb|+|\\verb| |\\verb|2*q^3|\\verb| |\\verb|+|\\verb| |\\verb|q^2|\\verb| |\\verb|+|\\verb| |\\verb|q|\\verb| |\\verb|+|\\verb| |\\verb|1,...)|$"
      ],
      "text/plain": [
       "Sequence over [Fraction Field of Univariate Polynomial Ring in q over Rational Field]: (0, q + 1, q^7 + 2*q^6 + q^5 + 2*q^4 + 2*q^3 + q^2 + q + 1,...)"
      ]
     },
     "execution_count": 12,
     "metadata": {},
     "output_type": "execute_result"
    }
   ],
   "source": [
    "sol = solution(L, [0, 1+q, 1+q+q^2+2*q^3 + 2*q^4 + q^5 + 2*q^6 + q^7]); sol"
   ]
  },
  {
   "cell_type": "markdown",
   "id": "4ef3fd62-da10-4b7b-9d96-597dc4f577e4",
   "metadata": {},
   "source": [
    "He wanted to try the following basis: \n",
    "$$\\mathcal{B} = \\left\\{\\left[\\begin{array}{c}2n\\\\n+j\\end{array}\\right]_{q^3}\\right\\}_{j\\in \\mathbb{N}}.$$\n",
    "\n",
    "Can we apply this software to get this? It seems this will leave to some problems:\n",
    "\n",
    "* The fact that the base is $q^3$ and the coefficient on the top is $2n$ guarantees compatibility with $q^{6n}$. However, we have only $q^{3n}$.\n",
    "* The lower coefficient involves $n$ and I do not know how to translate this into a compatibility.\n",
    "\n",
    "Let me use the following two bases:\n",
    "1. $P^{(1)}_j(n) = \\left[\\begin{array}{c}n\\\\j\\end{array}\\right]_{q^3}$.\n",
    "2. $P^{(2)}_j(n) = \\left[\\begin{array}{c}3n\\\\j\\end{array}\\right]_{q}$."
   ]
  },
  {
   "cell_type": "markdown",
   "id": "c34f6efb-e0d0-491b-94ec-e7f6349704bf",
   "metadata": {
    "tags": []
   },
   "source": [
    "#### **First basis: with the $q^3$**"
   ]
  },
  {
   "cell_type": "markdown",
   "id": "4c1995cb-c770-459e-9c06-e5fdc82935fe",
   "metadata": {},
   "source": [
    "We can write the compatibility conditions for this basis:\n",
    "\n",
    "**Compatibility with $q^{3n}$:**\n",
    "\n",
    "For this compatibility we simply use the formula for the $q$-binomial:\n",
    "$$P^{(1)}_j(n) = \\left[\\begin{array}{c}n\\\\j\\end{array}\\right]_{q^3} = \\prod_{i=0}^{j-1} \\frac{1 - q^{3(n+i)}}{1 - q^{3(i+1)}},$$\n",
    "hence we can write an easy formula when $j \\mapsto j+1$:\n",
    "$$P^{(1)}_{j+1}(n) = P^{(1)}_j(n)\\frac{1-q^{3n}q^{3j}}{1 - q^{3j}q^3}.$$\n",
    "\n",
    "Let us rewrite now this to see the compatibility with $q^{3n}$:\n",
    "$$q^{3n}P^{(1)}_j(n) = \\frac{1}{q^{3j}}P^{(1)}_j(n)-\\frac{1 - q^{3j}q^3}{q^{3j}}P^{(1)}_{j+1}(n).$$\n",
    "\n",
    "**Compatibility with the shift operator $n\\mapsto n+1$**\n",
    "\n",
    "For this compatibility we simply use the $q$-binomial coefficient identity:\n",
    "$$P^{(1)}_j(n+1) = q^{3j}P^{(1)}_j(n) + P^{(1)}_{j-1}(n)$$"
   ]
  },
  {
   "cell_type": "code",
   "execution_count": 19,
   "id": "77e0d302-8c69-429a-a33d-3418dec5ca33",
   "metadata": {},
   "outputs": [],
   "source": [
    "q_n, E = 1/q_n - q^3*(1-q_n)/q_n*Ei, q_n + E\n",
    "L_1 = sum([\n",
    "    q**12*q_n**5*(1+(q**4 + q**7)*q_n),\n",
    "    q**10*q_n**3*(1+q+(q**2 + q**3 + q**4 + q**5 + q**7 + q**8 - q**9)*q_n + (q**6+q**9)*q_n**2)*E,\n",
    "    (-1 - (q + q**4 + q**5 + q**6 + q**7)*q_n - (q**6 + q**7 + q**8 + q**9 + q**10 + q**11 + 2*q**12)*q_n**2 - (q**10 + 2*q**13 + q**16)*q_n**3)*E^2,\n",
    "    (1 + q*q_n + q**3 * q_n)*E^3\n",
    "])\n",
    "q_n, E, Ei = gens_double_qshift_algebra(OE)[:3]"
   ]
  },
  {
   "cell_type": "code",
   "execution_count": 37,
   "id": "395bd1cc-c297-4a13-884c-17c668ce0a84",
   "metadata": {},
   "outputs": [],
   "source": [
    "monomials, coefficients = L_1.polynomial().monomials(), L_1.polynomial().coefficients()\n",
    "mon_degs = [m.degree(E.polynomial()) - m.degree(Ei.polynomial()) for m in monomials]"
   ]
  },
  {
   "cell_type": "code",
   "execution_count": 44,
   "id": "7c04ea33-e2f7-4efa-ac5f-661e3928eeb9",
   "metadata": {},
   "outputs": [],
   "source": [
    "new_L = lcm([el.denominator() for el in coefficients])*sum(coeff*(E**deg if deg >=0 else Ei**(-deg)) for deg,coeff in zip(mon_degs, coefficients))"
   ]
  },
  {
   "cell_type": "code",
   "execution_count": 46,
   "id": "6f691efb-a524-4773-b2ab-f3cd1dc6b41a",
   "metadata": {},
   "outputs": [
    {
     "data": {
      "text/html": [
       "<html>\\(\\displaystyle \\left(q^{37} + q^{34}\\right) q_{\\mathit{3n}}^{6} + \\left(-q^{52} - 2 q^{49} - 2 q^{46} - 2 q^{43} - 2 q^{40} - 2 q^{37} - q^{34}\\right) q_{\\mathit{3n}}^{5} + \\left(q^{64} + 2 q^{61} + 3 q^{58} + 4 q^{55} + 5 q^{52} + 5 q^{49} + 4 q^{46} + 3 q^{43} + 2 q^{40} + q^{37}\\right) q_{\\mathit{3n}}^{4} + \\left(-q^{73} - 2 q^{70} - 3 q^{67} - 5 q^{64} - 6 q^{61} - 6 q^{58} - 6 q^{55} - 5 q^{52} - 3 q^{49} - 2 q^{46} - q^{43}\\right) q_{\\mathit{3n}}^{3} + \\left(q^{79} + 2 q^{76} + 3 q^{73} + 4 q^{70} + 5 q^{67} + 5 q^{64} + 4 q^{61} + 3 q^{58} + 2 q^{55} + q^{52}\\right) q_{\\mathit{3n}}^{2} + \\left(-q^{82} - 2 q^{79} - 2 q^{76} - 2 q^{73} - 2 q^{70} - 2 q^{67} - q^{64}\\right) q_{\\mathit{3n}} + q^{82} + q^{79}\\)</html>"
      ],
      "text/latex": [
       "$\\displaystyle \\left(q^{37} + q^{34}\\right) q_{\\mathit{3n}}^{6} + \\left(-q^{52} - 2 q^{49} - 2 q^{46} - 2 q^{43} - 2 q^{40} - 2 q^{37} - q^{34}\\right) q_{\\mathit{3n}}^{5} + \\left(q^{64} + 2 q^{61} + 3 q^{58} + 4 q^{55} + 5 q^{52} + 5 q^{49} + 4 q^{46} + 3 q^{43} + 2 q^{40} + q^{37}\\right) q_{\\mathit{3n}}^{4} + \\left(-q^{73} - 2 q^{70} - 3 q^{67} - 5 q^{64} - 6 q^{61} - 6 q^{58} - 6 q^{55} - 5 q^{52} - 3 q^{49} - 2 q^{46} - q^{43}\\right) q_{\\mathit{3n}}^{3} + \\left(q^{79} + 2 q^{76} + 3 q^{73} + 4 q^{70} + 5 q^{67} + 5 q^{64} + 4 q^{61} + 3 q^{58} + 2 q^{55} + q^{52}\\right) q_{\\mathit{3n}}^{2} + \\left(-q^{82} - 2 q^{79} - 2 q^{76} - 2 q^{73} - 2 q^{70} - 2 q^{67} - q^{64}\\right) q_{\\mathit{3n}} + q^{82} + q^{79}$"
      ],
      "text/plain": [
       "(q^37 + q^34)*q_3n^6 + (-q^52 - 2*q^49 - 2*q^46 - 2*q^43 - 2*q^40 - 2*q^37 - q^34)*q_3n^5 + (q^64 + 2*q^61 + 3*q^58 + 4*q^55 + 5*q^52 + 5*q^49 + 4*q^46 + 3*q^43 + 2*q^40 + q^37)*q_3n^4 + (-q^73 - 2*q^70 - 3*q^67 - 5*q^64 - 6*q^61 - 6*q^58 - 6*q^55 - 5*q^52 - 3*q^49 - 2*q^46 - q^43)*q_3n^3 + (q^79 + 2*q^76 + 3*q^73 + 4*q^70 + 5*q^67 + 5*q^64 + 4*q^61 + 3*q^58 + 2*q^55 + q^52)*q_3n^2 + (-q^82 - 2*q^79 - 2*q^76 - 2*q^73 - 2*q^70 - 2*q^67 - q^64)*q_3n + q^82 + q^79"
      ]
     },
     "execution_count": 46,
     "metadata": {},
     "output_type": "execute_result"
    }
   ],
   "source": [
    "new_L.coefficients()[0]"
   ]
  },
  {
   "cell_type": "code",
   "execution_count": 48,
   "id": "0af527e2-73d7-41e3-83b6-0df22cc63d63",
   "metadata": {},
   "outputs": [
    {
     "data": {
      "text/html": [
       "<html>\\(\\displaystyle \\left[\\mathit{Ei}^{6}, \\mathit{Ei}^{5}, \\mathit{Ei}^{4}, E^{3}, \\mathit{Ei}^{3}, E^{2}, \\mathit{Ei}^{2}, E, \\mathit{Ei}, 1\\right]\\)</html>"
      ],
      "text/latex": [
       "$\\displaystyle \\left[\\mathit{Ei}^{6}, \\mathit{Ei}^{5}, \\mathit{Ei}^{4}, E^{3}, \\mathit{Ei}^{3}, E^{2}, \\mathit{Ei}^{2}, E, \\mathit{Ei}, 1\\right]$"
      ],
      "text/plain": [
       "[Ei^6, Ei^5, Ei^4, E^3, Ei^3, E^2, Ei^2, E, Ei, 1]"
      ]
     },
     "execution_count": 48,
     "metadata": {},
     "output_type": "execute_result"
    }
   ],
   "source": [
    "new_L.polynomial().monomials()"
   ]
  },
  {
   "cell_type": "markdown",
   "id": "12be71aa-9cb6-40f0-b043-ba69d7f88c61",
   "metadata": {
    "tags": []
   },
   "source": [
    "#### **Second basis: with the $3n$**"
   ]
  },
  {
   "cell_type": "markdown",
   "id": "543483cc-9129-4d56-b731-7228ffe3d7f0",
   "metadata": {},
   "source": [
    "We can write the compatibility conditions for this basis:\n",
    "\n",
    "**Compatibility with $q^{3n}$:**\n",
    "\n",
    "For this compatibility we simply use the formula for the $q$-binomial:\n",
    "$$P^{(2)}_j(n) = \\qbinom{3n}{j} = \\prod_{i=0}^{j-1} \\frac{1 - q^{3n+i}}{1 - q^{i+1}},$$\n",
    "hence we can write an easy formula when $j \\mapsto j+1$:\n",
    "$$P^{(2)}_{j+1}(n) = P^{(2)}_j(n)\\frac{1-q^{3n}q^{j}}{1 - q^{j}q} = P^{(2)}_j(n)\\left(\\frac{1}{1-qq^j} + q^{3n}\\frac{q^j}{qq^j - 1}\\right).$$\n",
    "\n",
    "Let us rewrite now this to see the compatibility with $q^{3n}$:\n",
    "$$q^{3n}P^{(2)}_j(n) = \\frac{1}{q^{j}}P^{(2)}_j(n)-\\frac{1 - q^{j}q}{q^{j}}P^{(2)}_{j+1}(n).$$\n",
    "\n",
    "**Compatibility with the shift operator $n\\mapsto n+1$**\n",
    "\n",
    "For this compatibility we use the $q$-binomial coefficient identity, but we need to use three times:\n",
    "$$\\begin{array}{rl}\n",
    "    P^{(2)}_j(n+1) = & \\qbinom{3n+3}{j} \\\\\n",
    "                   = & q^j\\qbinom{3n+2}{j} + \\qbinom{3n+2}{j-1} \\\\\n",
    "                   = & q^{2j}\\qbinom{3n+1}{j} + q^{j-1}(q + 1)\\qbinom{3n+1}{j-1} + \\qbinom{3n+1}{j-2}\\\\\n",
    "                   = & q^{3j}\\qbinom{3n}{j} + q^{2(j-1)}(q^2 + 1)(q+1)\\qbinom{3n}{j-1} + q^{j-2}(q^2 + q + 1)\\qbinom{3n}{j-2} + \\qbinom{3n}{j-3}\\\\\n",
    "                   = & q^{3j}P^{(2)}_j(n) + q^{2(j-1)}(q^2 + 1)(q+1)P^{(2)}_{j-1}(n) + q^{j-2}(q^2 + q + 1)P^{(2)}_{j-2}(n) + P^{(2)}_{j-3}(n)\n",
    "\\end{array}$$"
   ]
  },
  {
   "cell_type": "code",
   "execution_count": 59,
   "id": "8d7025cf-071f-45de-9f51-60d771e5e9f0",
   "metadata": {},
   "outputs": [],
   "source": [
    "## Trying to build the basis\n",
    "from pseries_basis.qbasis.qbasis import QSFactorialBasis\n",
    "q = QBinomialBasis().q()\n",
    "an = q_n/(q*q_n-1)\n",
    "bn = 1/(1-q*q_n)\n",
    "def alpha(_,j,k):\n",
    "    if j == 0: return q**k\n",
    "    elif j == -1: return q**(2*(k-1))*(q**2 + 1)*(q + 1)\n",
    "    elif j == -2: return q**(j-2)*(q**2+q+1)\n",
    "    elif j == -3: return 1\n",
    "B2 = QSFactorialBasis(an,bn,var_name=\"q_n\")\n",
    "B2.set_endomorphism(\"E\", (3, 0, 1, alpha), False)"
   ]
  },
  {
   "cell_type": "code",
   "execution_count": 62,
   "id": "c73e2a9d-842b-4fed-9241-5ec774f7d79b",
   "metadata": {},
   "outputs": [
    {
     "data": {
      "text/html": [
       "<html>\\(\\displaystyle \\newcommand{\\Bold}[1]{\\mathbf{#1}}\\mathrm{Frac}(\\Bold{Q}[q])[q_{n}]\\langle E\\rangle \\)</html>"
      ],
      "text/latex": [
       "$\\displaystyle \\newcommand{\\Bold}[1]{\\mathbf{#1}}\\mathrm{Frac}(\\Bold{Q}[q])[q_{n}]\\langle E\\rangle $"
      ],
      "text/plain": [
       "Univariate Ore algebra in E over Univariate Polynomial Ring in q_n over Fraction Field of Univariate Polynomial Ring in q over Rational Field"
      ]
     },
     "execution_count": 62,
     "metadata": {},
     "output_type": "execute_result"
    }
   ],
   "source": [
    "E.parent()"
   ]
  },
  {
   "cell_type": "markdown",
   "id": "23aa5bff-3298-4133-b7d1-b7520d0218a3",
   "metadata": {
    "jp-MarkdownHeadingCollapsed": true,
    "tags": []
   },
   "source": [
    "### Smaller example"
   ]
  },
  {
   "cell_type": "markdown",
   "id": "65be98d2",
   "metadata": {},
   "source": [
    "Let us consider the solution of the $q$-recurrence equation:\n",
    "$$qy_n = q^{2n+1}(1+q) y_{n-1} - q^{3n+1}(q^{n-1} - 1)y_{n-2}$$\n",
    "We create now the corresponding operator and its solution $(y_n)_n$:"
   ]
  },
  {
   "cell_type": "code",
   "execution_count": 49,
   "id": "66673837-1464-4e5c-b733-db211da3eda3",
   "metadata": {
    "vscode": {
     "languageId": "python"
    }
   },
   "outputs": [],
   "source": [
    "L = Q^3*(-q+Q)*Si^2 - q*Q^2*(1+q)*Si + q\n",
    "yn = solution(L, [1, q^2*(1+q)])"
   ]
  },
  {
   "cell_type": "code",
   "execution_count": 27,
   "id": "45b03a84",
   "metadata": {
    "vscode": {
     "languageId": "python"
    }
   },
   "outputs": [
    {
     "data": {
      "text/html": [
       "<html>\\(\\displaystyle \\left[1, q^{3} + q^{2}, q^{8} + q^{7} + 2 q^{6}, q^{15} + q^{14} + 2 q^{13} + 3 q^{12} + q^{11}, q^{24} + q^{23} + 2 q^{22} + 3 q^{21} + 5 q^{20} + 2 q^{19} + 2 q^{18}\\right]\\)</html>"
      ],
      "text/latex": [
       "$\\displaystyle \\left[1, q^{3} + q^{2}, q^{8} + q^{7} + 2 q^{6}, q^{15} + q^{14} + 2 q^{13} + 3 q^{12} + q^{11}, q^{24} + q^{23} + 2 q^{22} + 3 q^{21} + 5 q^{20} + 2 q^{19} + 2 q^{18}\\right]$"
      ],
      "text/plain": [
       "[1,\n",
       " q^3 + q^2,\n",
       " q^8 + q^7 + 2*q^6,\n",
       " q^15 + q^14 + 2*q^13 + 3*q^12 + q^11,\n",
       " q^24 + q^23 + 2*q^22 + 3*q^21 + 5*q^20 + 2*q^19 + 2*q^18]"
      ]
     },
     "execution_count": 27,
     "metadata": {},
     "output_type": "execute_result"
    }
   ],
   "source": [
    "yn[:5]"
   ]
  },
  {
   "cell_type": "code",
   "execution_count": 28,
   "id": "819e16f8-f666-471b-b7f0-5cc555a06b8c",
   "metadata": {
    "vscode": {
     "languageId": "python"
    }
   },
   "outputs": [
    {
     "data": {
      "text/html": [
       "<html>\\(\\displaystyle q_{n}\\)</html>"
      ],
      "text/latex": [
       "$\\displaystyle q_{n}$"
      ],
      "text/plain": [
       "q_n"
      ]
     },
     "execution_count": 28,
     "metadata": {},
     "output_type": "execute_result"
    }
   ],
   "source": [
    "Q"
   ]
  },
  {
   "cell_type": "markdown",
   "id": "c49b1e72",
   "metadata": {},
   "source": [
    "If we want to write now the solution:\n",
    "$$y_n = \\sum_{k=0}^n c_k \\qbinom{n}{k},$$\n",
    "then we can use the method `B.recurrence` to obtain a recurrence for $c_k$ and also obtain the first terms by using the method `B.funcitonal_to_self`.\n",
    "\n",
    "In the following cell we compute the recurrence for $c_k$ and we display the degrees of this new recurrence with respect to $Q \\equiv q^n$, $Sn$ and $Sn^{-1}$:"
   ]
  },
  {
   "cell_type": "code",
   "execution_count": 29,
   "id": "0c8a9def-67db-4bd9-aca1-4ff3a40c14d1",
   "metadata": {
    "vscode": {
     "languageId": "python"
    }
   },
   "outputs": [
    {
     "data": {
      "text/html": [
       "<html>\\(\\displaystyle \\left(\\frac{1}{q^{8}} q_{n}^{8} + \\left(\\frac{-q^{3} - q^{2} - q - 1}{q^{8}}\\right) q_{n}^{7} + \\left(\\frac{q^{4} + q^{3} + 2 q^{2} + q + 1}{q^{7}}\\right) q_{n}^{6} + \\left(\\frac{-q^{3} - q^{2} - q - 1}{q^{5}}\\right) q_{n}^{5} + \\frac{1}{q^{2}} q_{n}^{4}\\right) \\mathit{Sni}^{4} + \\left(\\left(\\frac{q^{3} + q^{2} + q + 1}{q^{4}}\\right) q_{n}^{7} + \\left(\\frac{-q^{5} - 2 q^{4} - 3 q^{3} - 4 q^{2} - 2 q - 1}{q^{4}}\\right) q_{n}^{6} + \\left(\\frac{q^{5} + 2 q^{4} + 4 q^{3} + 4 q^{2} + 3 q + 1}{q^{3}}\\right) q_{n}^{5} + \\left(\\frac{-q^{3} - 2 q^{2} - 2 q - 2}{q}\\right) q_{n}^{4} + q q_{n}^{3}\\right) \\mathit{Sni}^{3} + q \\mathit{Sn}^{2} + \\left(\\left(q^{4} + q^{3} + 2 q^{2} + q + 1\\right) q_{n}^{6} + \\left(\\frac{-q^{6} - 2 q^{5} - 4 q^{4} - 4 q^{3} - 3 q^{2} - 2 q - 1}{q}\\right) q_{n}^{5} + \\left(\\frac{q^{6} + 2 q^{5} + 4 q^{4} + 3 q^{3} + 3 q^{2} + 2 q + 1}{q}\\right) q_{n}^{4} + \\left(-q^{4} - q^{3} - q^{2} - q - 1\\right) q_{n}^{3}\\right) \\mathit{Sni}^{2} + \\left(\\left(-q^{6} - q^{5}\\right) q_{n}^{2} + \\left(q^{2} + q\\right) q_{n}\\right) \\mathit{Sn} + \\left(\\left(q^{7} + q^{6} + q^{5} + q^{4}\\right) q_{n}^{5} + \\left(-q^{7} - 2 q^{6} - 2 q^{5} - 3 q^{4} - 2 q^{3} - 2 q^{2} - q\\right) q_{n}^{4} + \\left(q^{6} + q^{5} + 2 q^{4} + 3 q^{3} + 3 q^{2} + q\\right) q_{n}^{3} + \\left(-q^{3} - q^{2}\\right) q_{n}^{2}\\right) \\mathit{Sni} + q^{8} q_{n}^{4} + \\left(-q^{7} - q^{6} - 2 q^{5} - 2 q^{4} - q^{3}\\right) q_{n}^{3} + \\left(q^{5} + 2 q^{4} + q^{3} + q\\right) q_{n}^{2}\\)</html>"
      ],
      "text/latex": [
       "$\\displaystyle \\left(\\frac{1}{q^{8}} q_{n}^{8} + \\left(\\frac{-q^{3} - q^{2} - q - 1}{q^{8}}\\right) q_{n}^{7} + \\left(\\frac{q^{4} + q^{3} + 2 q^{2} + q + 1}{q^{7}}\\right) q_{n}^{6} + \\left(\\frac{-q^{3} - q^{2} - q - 1}{q^{5}}\\right) q_{n}^{5} + \\frac{1}{q^{2}} q_{n}^{4}\\right) \\mathit{Sni}^{4} + \\left(\\left(\\frac{q^{3} + q^{2} + q + 1}{q^{4}}\\right) q_{n}^{7} + \\left(\\frac{-q^{5} - 2 q^{4} - 3 q^{3} - 4 q^{2} - 2 q - 1}{q^{4}}\\right) q_{n}^{6} + \\left(\\frac{q^{5} + 2 q^{4} + 4 q^{3} + 4 q^{2} + 3 q + 1}{q^{3}}\\right) q_{n}^{5} + \\left(\\frac{-q^{3} - 2 q^{2} - 2 q - 2}{q}\\right) q_{n}^{4} + q q_{n}^{3}\\right) \\mathit{Sni}^{3} + q \\mathit{Sn}^{2} + \\left(\\left(q^{4} + q^{3} + 2 q^{2} + q + 1\\right) q_{n}^{6} + \\left(\\frac{-q^{6} - 2 q^{5} - 4 q^{4} - 4 q^{3} - 3 q^{2} - 2 q - 1}{q}\\right) q_{n}^{5} + \\left(\\frac{q^{6} + 2 q^{5} + 4 q^{4} + 3 q^{3} + 3 q^{2} + 2 q + 1}{q}\\right) q_{n}^{4} + \\left(-q^{4} - q^{3} - q^{2} - q - 1\\right) q_{n}^{3}\\right) \\mathit{Sni}^{2} + \\left(\\left(-q^{6} - q^{5}\\right) q_{n}^{2} + \\left(q^{2} + q\\right) q_{n}\\right) \\mathit{Sn} + \\left(\\left(q^{7} + q^{6} + q^{5} + q^{4}\\right) q_{n}^{5} + \\left(-q^{7} - 2 q^{6} - 2 q^{5} - 3 q^{4} - 2 q^{3} - 2 q^{2} - q\\right) q_{n}^{4} + \\left(q^{6} + q^{5} + 2 q^{4} + 3 q^{3} + 3 q^{2} + q\\right) q_{n}^{3} + \\left(-q^{3} - q^{2}\\right) q_{n}^{2}\\right) \\mathit{Sni} + q^{8} q_{n}^{4} + \\left(-q^{7} - q^{6} - 2 q^{5} - 2 q^{4} - q^{3}\\right) q_{n}^{3} + \\left(q^{5} + 2 q^{4} + q^{3} + q\\right) q_{n}^{2}$"
      ],
      "text/plain": [
       "(1/q^8*q_n^8 + ((-q^3 - q^2 - q - 1)/q^8)*q_n^7 + ((q^4 + q^3 + 2*q^2 + q + 1)/q^7)*q_n^6 + ((-q^3 - q^2 - q - 1)/q^5)*q_n^5 + 1/q^2*q_n^4)*Sni^4 + (((q^3 + q^2 + q + 1)/q^4)*q_n^7 + ((-q^5 - 2*q^4 - 3*q^3 - 4*q^2 - 2*q - 1)/q^4)*q_n^6 + ((q^5 + 2*q^4 + 4*q^3 + 4*q^2 + 3*q + 1)/q^3)*q_n^5 + ((-q^3 - 2*q^2 - 2*q - 2)/q)*q_n^4 + q*q_n^3)*Sni^3 + q*Sn^2 + ((q^4 + q^3 + 2*q^2 + q + 1)*q_n^6 + ((-q^6 - 2*q^5 - 4*q^4 - 4*q^3 - 3*q^2 - 2*q - 1)/q)*q_n^5 + ((q^6 + 2*q^5 + 4*q^4 + 3*q^3 + 3*q^2 + 2*q + 1)/q)*q_n^4 + (-q^4 - q^3 - q^2 - q - 1)*q_n^3)*Sni^2 + ((-q^6 - q^5)*q_n^2 + (q^2 + q)*q_n)*Sn + ((q^7 + q^6 + q^5 + q^4)*q_n^5 + (-q^7 - 2*q^6 - 2*q^5 - 3*q^4 - 2*q^3 - 2*q^2 - q)*q_n^4 + (q^6 + q^5 + 2*q^4 + 3*q^3 + 3*q^2 + q)*q_n^3 + (-q^3 - q^2)*q_n^2)*Sni + q^8*q_n^4 + (-q^7 - q^6 - 2*q^5 - 2*q^4 - q^3)*q_n^3 + (q^5 + 2*q^4 + q^3 + q)*q_n^2"
      ]
     },
     "metadata": {},
     "output_type": "display_data"
    },
    {
     "data": {
      "text/html": [
       "<html>\\(\\displaystyle \\verb|(2,|\\verb| |\\verb|4)|\\)</html>"
      ],
      "text/latex": [
       "$\\displaystyle \\verb|(2,|\\verb| |\\verb|4)|$"
      ],
      "text/plain": [
       "(2, 4)"
      ]
     },
     "execution_count": 29,
     "metadata": {},
     "output_type": "execute_result"
    }
   ],
   "source": [
    "from pseries_basis.misc.ore import eval_ore_operator\n",
    "L2 = B.recurrence(eval_ore_operator(B.remove_Sni(L), OE, Sn = E, q_n = q_n, Sni = 1))\n",
    "show(L2)\n",
    "L2.polynomial().degrees()"
   ]
  },
  {
   "cell_type": "markdown",
   "id": "18491080",
   "metadata": {},
   "source": [
    "We can then compute the solution $c_k$ using again the method `solution`:"
   ]
  },
  {
   "cell_type": "code",
   "execution_count": 30,
   "id": "c8abe76e-bdd4-448d-9f95-7c1c089e8f8e",
   "metadata": {
    "vscode": {
     "languageId": "python"
    }
   },
   "outputs": [
    {
     "name": "stdout",
     "output_type": "stream",
     "text": [
      "0 -- 1\n",
      "1 -- q^3 + q^2 - 1\n",
      "2 -- q^8 + q^7 + 2*q^6 - q^4 - 2*q^3 - q^2 + q\n",
      "3 -- q^15 + q^14 + 2*q^13 + 3*q^12 + q^11 - q^10 - 2*q^9 - 4*q^8 - 3*q^7 - q^6 + 2*q^5 + 2*q^4\n",
      "4 -- q^24 + q^23 + 2*q^22 + 3*q^21 + 5*q^20 + 2*q^19 + q^18 - 2*q^17 - 4*q^16 - 7*q^15 - 7*q^14 - 5*q^13 - 2*q^12 + 4*q^11 + 5*q^10 + 5*q^9 + q^8 - q^6 - q^5\n",
      "5 -- q^35 + q^34 + 2*q^33 + 3*q^32 + 5*q^31 + 7*q^30 + 5*q^29 + 3*q^28 + q^27 - 3*q^26 - 7*q^25 - 12*q^24 - 13*q^23 - 13*q^22 - 10*q^21 - 4*q^20 + 5*q^19 + 10*q^18 + 13*q^17 + 12*q^16 + 6*q^15 + q^14 - 3*q^13 - 4*q^12 - 4*q^11 - 2*q^10 + q^8\n"
     ]
    }
   ],
   "source": [
    "ck = solution(L2, B.functional_to_self(yn, required_init(L2)))\n",
    "for i in range(6):\n",
    "    print(f\"{i} -- {ck[i]}\")"
   ]
  },
  {
   "cell_type": "markdown",
   "id": "2359d111-b718-45dd-90f5-dc1552bc445e",
   "metadata": {
    "tags": []
   },
   "source": [
    "### Old example (<span style=\"color:red\">Not yet working</span>)"
   ]
  },
  {
   "cell_type": "markdown",
   "id": "621f62d0-3bc6-4fbf-8866-0bdfe62afd8e",
   "metadata": {},
   "source": [
    "The example by Ali is a recurrence with plenty of components:\n",
    "\n",
    "$$\\begin{array}{rll}\n",
    "q^{19 + 6n}\\left({\\left(q^{24} + q^{23} + q^{22}\\right)} q^{6 \\, n} - {\\left(q^{20} + q^{19} + q^{18}\\right)} q^{5 \\, n} + {\\left(q^{17} + q^{16} + q^{15}\\right)} q^{4 \\, n} + {\\left(q^{12} + q^{11} + q^{10}\\right)} q^{3 \\, n} - {\\left(q^{9} + q^{8} + q^{7}\\right)} q^{2 \\, n} + {\\left(q^{5} + 2 \\, q^{4} + q^{3}\\right)} q^{n} - 1\\right) & f(n) + &  \\\\\n",
    "q^{5 \\, n + 19}\\left({\\left(q^{28} + q^{27} + q^{26} + q^{25} + q^{24} + q^{23}\\right)} q^{8 \\, n} - {\\left(q^{21} + q^{20} + q^{19}\\right)} q^{7 \\, n} + {\\left(q^{21} + q^{20} + q^{19} + q^{18} + q^{17} + q^{16}\\right)} q^{6 \\, n} + {\\left(q^{16} + q^{15} + q^{14} + q^{13} + q^{12} + q^{11}\\right)} q^{5 \\, n} + {\\left(q^{15} + q^{14} + q^{13} - q^{10} - q^{9} - q^{8}\\right)} q^{4 \\, n} - {\\left(q^{12} + q^{11} - q^{9} - 2 \\, q^{8} - 2 \\, q^{7} - 2 \\, q^{6} - 2 \\, q^{5} - q^{4}\\right)} q^{3 \\, n} + {\\left(q^{8} - q^{5} - q\\right)} q^{2 \\, n} + {\\left(q^{3} + q^{2} + q\\right)} q^{n} - 1\\right) & f(1 + n) + & \\\\\n",
    "q^{3 \\, n + 12} \\left( {\\left(q^{37} + q^{36} + q^{35}\\right)} q^{11 \\, n} - {\\left(q^{33} + q^{32} + q^{31}\\right)} q^{10 \\, n} + {\\left(q^{32} + 2 \\, q^{31} + 3 \\, q^{30} + 3 \\, q^{29} + 2 \\, q^{28} + q^{27}\\right)} q^{9 \\, n} - {\\left(q^{30} + 2 \\, q^{29} + 3 \\, q^{28} + 2 \\, q^{27} + 2 \\, q^{26} - q^{23}\\right)} q^{8 \\, n} + {\\left(q^{27} + 2 \\, q^{26} + 3 \\, q^{25} + 3 \\, q^{24} + 2 \\, q^{23} + q^{22} - q^{21} - q^{20} - q^{19}\\right)} q^{7 \\, n} - {\\left(q^{25} + 2 \\, q^{24} + 4 \\, q^{23} + 2 \\, q^{22} + 2 \\, q^{21} - q^{20} - 2 \\, q^{19} - 4 \\, q^{18} - 4 \\, q^{17} - 3 \\, q^{16} - q^{15}\\right)} q^{6 \\, n} + {\\left(q^{21} + 2 \\, q^{20} + 2 \\, q^{19} - q^{17} - 3 \\, q^{16} - 2 \\, q^{15} - 3 \\, q^{14} - 2 \\, q^{13} - q^{12}\\right)} q^{5 \\, n} - {\\left(q^{18} + q^{17} + 2 \\, q^{16} - q^{14} - 3 \\, q^{13} - 3 \\, q^{12} - 3 \\, q^{11} - 2 \\, q^{10} - q^{9}\\right)} q^{4 \\, n} - {\\left(q^{13} + q^{12} + 3 \\, q^{11} + 3 \\, q^{10} + 3 \\, q^{9} + q^{8} + q^{7}\\right)} q^{3 \\, n} + {\\left(q^{10} + q^{9} + 2 \\, q^{8} + 2 \\, q^{7} + q^{6}\\right)} q^{2 \\, n} - {\\left(q^{6} + 2 \\, q^{5} + 3 \\, q^{4} + 2 \\, q^{3}\\right)} q^{n} + q + 1 \\right) & f(2 + n) + & \\\\\n",
    "q^{2 \\, n + 10} \\left( {\\left(q^{40} + q^{39} + q^{38}\\right)} q^{12 \\, n} - {\\left(q^{37} + 2 \\, q^{36} + 2 \\, q^{35} + q^{34}\\right)} q^{11 \\, n} + {\\left(q^{35} + q^{34} + 2 \\, q^{33} + q^{32} + q^{31}\\right)} q^{10 \\, n} + {\\left(q^{30} + 2 \\, q^{29} + 3 \\, q^{28} + 2 \\, q^{27} + q^{26}\\right)} q^{9 \\, n} - {\\left(q^{29} + q^{28} + 3 \\, q^{27} + 4 \\, q^{26} + 6 \\, q^{25} + 5 \\, q^{24} + 3 \\, q^{23} + q^{22}\\right)} q^{8 \\, n} + {\\left(q^{26} + 4 \\, q^{25} + 5 \\, q^{24} + 7 \\, q^{23} + 7 \\, q^{22} + 7 \\, q^{21} + 5 \\, q^{20} + 3 \\, q^{19} + q^{18}\\right)} q^{7 \\, n} - {\\left(2 \\, q^{22} + 3 \\, q^{21} + 3 \\, q^{20} + 3 \\, q^{19} + 2 \\, q^{18} + 2 \\, q^{17} + q^{16} + q^{15}\\right)} q^{6 \\, n} + {\\left(q^{18} - q^{15} - 2 \\, q^{14} - 2 \\, q^{13} - q^{12}\\right)} q^{5 \\, n} + {\\left(2 \\, q^{15} + 4 \\, q^{14} + 7 \\, q^{13} + 7 \\, q^{12} + 8 \\, q^{11} + 6 \\, q^{10} + 4 \\, q^{9} + q^{8}\\right)} q^{4 \\, n} - {\\left(q^{12} + 3 \\, q^{11} + 5 \\, q^{10} + 6 \\, q^{9} + 5 \\, q^{8} + 4 \\, q^{7} + 2 \\, q^{6} + q^{5}\\right)} q^{3 \\, n} + {\\left(q^{8} + 2 \\, q^{7} + 5 \\, q^{6} + 5 \\, q^{5} + 4 \\, q^{4} + 2 \\, q^{3} + q^{2}\\right)} q^{2 \\, n} - q^{n + 2} - 1 \\right) & f(3 + n) + & \\\\\n",
    "q^{n + 4} - 1 \\left( {\\left(q^{18} + q^{17} + q^{16}\\right)} q^{6 \\, n} - {\\left(q^{15} + q^{14} + q^{13}\\right)} q^{5 \\, n} + {\\left(q^{13} + q^{12} + q^{11}\\right)} q^{4 \\, n} + {\\left(q^{9} + q^{8} + q^{7}\\right)} q^{3 \\, n} - {\\left(q^{7} + q^{6} + q^{5}\\right)} q^{2 \\, n} + {\\left(q^{4} + 2 \\, q^{3} + q^{2}\\right)} q^{n} - 1 \\right) & f[4 + n] & = 0\n",
    "\\end{array}$$"
   ]
  },
  {
   "cell_type": "code",
   "execution_count": 51,
   "id": "d46bb870-2da3-454e-8610-e8f8c4c59e27",
   "metadata": {
    "scrolled": true,
    "vscode": {
     "languageId": "python"
    }
   },
   "outputs": [
    {
     "data": {
      "text/html": [
       "<html>\\(\\displaystyle \\left(-q^{18} q_{n}^{8} + \\left(q^{17} + q^{16}\\right) q_{n}^{7} + \\left(-q^{16} - q^{15}\\right) q_{n}^{6} + \\left(-q^{13} - q^{12}\\right) q_{n}^{5} + \\left(q^{12} + q^{11}\\right) q_{n}^{4} + \\left(-q^{11} - q^{10}\\right) q_{n}^{3} + \\left(-q^{8} + q^{6}\\right) q_{n}^{2} - q^{5} q_{n} + q^{4}\\right) \\mathit{Sn}^{2} - q^{18} q_{n}^{9} + q^{16} q_{n}^{8} + \\left(q^{17} + q^{16} - q^{14}\\right) q_{n}^{7} + \\left(-q^{15} - q^{14}\\right) q_{n}^{6} + \\left(-q^{15} + q^{13} + q^{12}\\right) q_{n}^{5} + q^{13} q_{n}^{4} - q^{11} q_{n}^{3}\\)</html>"
      ],
      "text/latex": [
       "$\\displaystyle \\left(-q^{18} q_{n}^{8} + \\left(q^{17} + q^{16}\\right) q_{n}^{7} + \\left(-q^{16} - q^{15}\\right) q_{n}^{6} + \\left(-q^{13} - q^{12}\\right) q_{n}^{5} + \\left(q^{12} + q^{11}\\right) q_{n}^{4} + \\left(-q^{11} - q^{10}\\right) q_{n}^{3} + \\left(-q^{8} + q^{6}\\right) q_{n}^{2} - q^{5} q_{n} + q^{4}\\right) \\mathit{Sn}^{2} - q^{18} q_{n}^{9} + q^{16} q_{n}^{8} + \\left(q^{17} + q^{16} - q^{14}\\right) q_{n}^{7} + \\left(-q^{15} - q^{14}\\right) q_{n}^{6} + \\left(-q^{15} + q^{13} + q^{12}\\right) q_{n}^{5} + q^{13} q_{n}^{4} - q^{11} q_{n}^{3}$"
      ],
      "text/plain": [
       "(-q^18*q_n^8 + (q^17 + q^16)*q_n^7 + (-q^16 - q^15)*q_n^6 + (-q^13 - q^12)*q_n^5 + (q^12 + q^11)*q_n^4 + (-q^11 - q^10)*q_n^3 + (-q^8 + q^6)*q_n^2 - q^5*q_n + q^4)*Sn^2 - q^18*q_n^9 + q^16*q_n^8 + (q^17 + q^16 - q^14)*q_n^7 + (-q^15 - q^14)*q_n^6 + (-q^15 + q^13 + q^12)*q_n^5 + q^13*q_n^4 - q^11*q_n^3"
      ]
     },
     "execution_count": 51,
     "metadata": {},
     "output_type": "execute_result"
    }
   ],
   "source": [
    "L = (-Q^3*(q+Q)*(-q+Q)*(-q^3+Q^2)*(1-Q+Q^2)*Si^2) + (-q^2*Q^2*(q^2 + Q^3 - Q^5 + Q^6 + q^2*Q + q^3*Q - q*Q^2 - q^2*Q^2 + q*Q^3 + q*Q^4 +  q^2*Q^4 - q*Q^5)) + (q^2*(q^2 + Q^2 - q*Q))\n",
    "B.remove_Sni(L)"
   ]
  },
  {
   "cell_type": "code",
   "execution_count": 53,
   "id": "b1340aa9-97d7-45f1-b7c4-acde25669649",
   "metadata": {
    "vscode": {
     "languageId": "python"
    }
   },
   "outputs": [],
   "source": [
    "L2 = B.remove_Sni(B.recurrence(eval_ore_operator(B.remove_Sni(L), OE, Sn = E, q_n = q_n, Sni = 1)))"
   ]
  },
  {
   "cell_type": "code",
   "execution_count": 57,
   "id": "693fc773-e7d3-44f1-8f67-3f8477b3dd84",
   "metadata": {
    "vscode": {
     "languageId": "python"
    }
   },
   "outputs": [
    {
     "name": "stdout",
     "output_type": "stream",
     "text": [
      "-q^99*q_n^18 + (q^98 + q^97 + q^96 + q^95 + q^94 + q^93 + q^92 + q^91 + q^90)*q_n^17 + (-q^96 - q^95 - 2*q^94 - 2*q^93 - 3*q^92 - 3*q^91 - 4*q^90 - 4*q^89 - 4*q^88 - 3*q^87 - 3*q^86 - 2*q^85 - 2*q^84 - q^83 - q^82)*q_n^16 + (q^93 + q^92 + 2*q^91 + 3*q^90 + 4*q^89 + 5*q^88 + 7*q^87 + 7*q^86 + 8*q^85 + 8*q^84 + 8*q^83 + 7*q^82 + 7*q^81 + 5*q^80 + 4*q^79 + 3*q^78 + 2*q^77 + q^76 + q^75)*q_n^15 + (-q^89 - q^88 - 2*q^87 - 3*q^86 - 5*q^85 - 6*q^84 - 8*q^83 - 9*q^82 - 11*q^81 - 11*q^80 - 12*q^79 - 11*q^78 - 11*q^77 - 9*q^76 - 8*q^75 - 6*q^74 - 5*q^73 - 3*q^72 - 2*q^71 - q^70 - q^69)*q_n^14 + (q^84 + q^83 + 2*q^82 + 3*q^81 + 5*q^80 + 6*q^79 + 8*q^78 + 9*q^77 + 11*q^76 + 11*q^75 + 12*q^74 + 11*q^73 + 11*q^72 + 9*q^71 + 8*q^70 + 6*q^69 + 5*q^68 + 3*q^67 + 2*q^66 + q^65 + q^64)*q_n^13 + (-q^78 - q^77 - 2*q^76 - 3*q^75 - 4*q^74 - 5*q^73 - 7*q^72 - 7*q^71 - 8*q^70 - 8*q^69 - 8*q^68 - 7*q^67 - 7*q^66 - 5*q^65 - 4*q^64 - 3*q^63 - 2*q^62 - q^61 - q^60)*q_n^12 + (q^71 + q^70 + 2*q^69 + 2*q^68 + 3*q^67 + 3*q^66 + 4*q^65 + 4*q^64 + 4*q^63 + 3*q^62 + 3*q^61 + 2*q^60 + 2*q^59 + q^58 + q^57)*q_n^11 + (-q^63 - q^62 - q^61 - q^60 - q^59 - q^58 - q^57 - q^56 - q^55)*q_n^10 + q^54*q_n^9\n"
     ]
    }
   ],
   "source": [
    "print(L2.polynomial().coefficients()[0])"
   ]
  },
  {
   "cell_type": "code",
   "execution_count": 26,
   "id": "97bcf741-02d4-4a6f-ba97-6638860662a7",
   "metadata": {
    "vscode": {
     "languageId": "python"
    }
   },
   "outputs": [],
   "source": [
    "L3 = ((S^9)*L2).canonical()"
   ]
  },
  {
   "cell_type": "code",
   "execution_count": 31,
   "id": "26890cf6-6d54-430f-847f-5a44038e60bc",
   "metadata": {
    "vscode": {
     "languageId": "python"
    }
   },
   "outputs": [
    {
     "name": "stdout",
     "output_type": "stream",
     "text": [
      "Q^16*S^3 -- -q^114 - q^113 - 2*q^112 - 2*q^111 - 3*q^110 - 3*q^109 - 4*q^108 - 4*q^107 - 5*q^106 - 4*q^105 - 4*q^104 - 3*q^103 - 3*q^102 - 2*q^101 - 2*q^100 - q^99 - q^98\n",
      "Q^17*S^2 -- -q^108 - q^107 - q^106 - q^105 - q^104 - q^103 - q^102 - q^101 - q^100 - q^99\n",
      "Q^18*S -- -q^100\n",
      "Q^15*S^3 -- -q^117 - q^116 - 2*q^115 - 3*q^114 - 4*q^113 - 5*q^112 - 7*q^111 - 6*q^110 - 6*q^109 - 4*q^108 - 2*q^107 + 2*q^106 + 5*q^105 + 12*q^104 + 18*q^103 + 22*q^102 + 25*q^101 + 27*q^100 + 27*q^99 + 27*q^98 + 25*q^97 + 22*q^96 + 17*q^95 + 12*q^94 + 9*q^93 + 6*q^92 + 4*q^91 + 2*q^90 + q^89\n",
      "Q^16*S^2 -- -q^113 - q^112 - 2*q^111 - 2*q^110 - 3*q^109 - 3*q^108 - 4*q^107 - 4*q^106 - 3*q^105 - q^104 + 2*q^102 + 3*q^101 + 5*q^100 + 6*q^99 + 9*q^98 + 9*q^97 + 7*q^96 + 6*q^95 + 5*q^94 + 4*q^93 + 3*q^92 + 2*q^91 + q^90\n",
      "Q^17*S -- -q^107 - q^106 - q^105 - q^104 - q^103 - q^102 - q^101 - q^100 - q^99 + q^98 + q^97 + q^96 + q^95 + q^94 + q^93 + q^92 + q^91\n",
      "Q^15*S^4 -- -q^118 - q^117 - 2*q^116 - 3*q^115 - 4*q^114 - 5*q^113 - 7*q^112 - 8*q^111 - 9*q^110 - 10*q^109 - 10*q^108 - 10*q^107 - 10*q^106 - 9*q^105 - 8*q^104 - 7*q^103 - 5*q^102 - 4*q^101 - 3*q^100 - 2*q^99 - q^98 - q^97\n",
      "Q^14*S^3 -- q^113 + 2*q^112 + 4*q^111 + 7*q^110 + 11*q^109 + 16*q^108 + 22*q^107 + 29*q^106 + 34*q^105 + 39*q^104 + 40*q^103 + 40*q^102 + 34*q^101 + 26*q^100 + 9*q^99 - 6*q^98 - 26*q^97 - 41*q^96 - 59*q^95 - 70*q^94 - 80*q^93 - 77*q^92 - 74*q^91 - 64*q^90 - 56*q^89 - 43*q^88 - 33*q^87 - 21*q^86 - 14*q^85 - 8*q^84 - 5*q^83 - 2*q^82 - q^81\n",
      "Q^15*S^2 -- q^110 + 2*q^109 + 4*q^108 + 6*q^107 + 9*q^106 + 12*q^105 + 16*q^104 + 19*q^103 + 23*q^102 + 23*q^101 + 23*q^100 + 20*q^99 + 17*q^98 + 11*q^97 + 5*q^96 - 4*q^95 - 12*q^94 - 17*q^93 - 20*q^92 - 22*q^91 - 22*q^90 - 21*q^89 - 17*q^88 - 12*q^87 - 9*q^86 - 6*q^85 - 4*q^84 - 2*q^83 - q^82\n",
      "Q^16*S -- q^105 + 2*q^104 + 3*q^103 + 4*q^102 + 5*q^101 + 6*q^100 + 7*q^99 + 8*q^98 + 8*q^97 + 8*q^96 + 5*q^95 + 4*q^94 + 2*q^93 + q^92 - q^91 - 2*q^90 - 4*q^89 - 3*q^88 - 3*q^87 - 2*q^86 - 2*q^85 - q^84 - q^83\n",
      "Q^14*S^4 -- -q^119 - q^118 - 2*q^117 - 3*q^116 - 5*q^115 - 6*q^114 - 7*q^113 - 7*q^112 - 7*q^111 - 4*q^110 - q^109 + 6*q^108 + 14*q^107 + 24*q^106 + 33*q^105 + 43*q^104 + 51*q^103 + 58*q^102 + 63*q^101 + 64*q^100 + 60*q^99 + 56*q^98 + 49*q^97 + 41*q^96 + 33*q^95 + 25*q^94 + 17*q^93 + 11*q^92 + 7*q^91 + 4*q^90 + 2*q^89 + q^88\n",
      "Q^14*S^5 -- -q^120 - q^119 - 2*q^118 - 3*q^117 - 5*q^116 - 6*q^115 - 9*q^114 - 10*q^113 - 13*q^112 - 14*q^111 - 16*q^110 - 16*q^109 - 18*q^108 - 16*q^107 - 16*q^106 - 14*q^105 - 13*q^104 - 10*q^103 - 9*q^102 - 6*q^101 - 5*q^100 - 3*q^99 - 2*q^98 - q^97 - q^96\n",
      "Q^13*S^3 -- -q^108 - 2*q^107 - 5*q^106 - 9*q^105 - 16*q^104 - 24*q^103 - 37*q^102 - 50*q^101 - 67*q^100 - 81*q^99 - 96*q^98 - 104*q^97 - 111*q^96 - 107*q^95 - 96*q^94 - 73*q^93 - 46*q^92 - 11*q^91 + 25*q^90 + 63*q^89 + 92*q^88 + 113*q^87 + 123*q^86 + 124*q^85 + 115*q^84 + 98*q^83 + 79*q^82 + 60*q^81 + 43*q^80 + 28*q^79 + 17*q^78 + 9*q^77 + 5*q^76 + 2*q^75 + q^74\n",
      "Q^14*S^2 -- -q^106 - 2*q^105 - 5*q^104 - 8*q^103 - 14*q^102 - 20*q^101 - 29*q^100 - 38*q^99 - 49*q^98 - 57*q^97 - 65*q^96 - 68*q^95 - 69*q^94 - 64*q^93 - 58*q^92 - 44*q^91 - 28*q^90 - 11*q^89 + 4*q^88 + 19*q^87 + 29*q^86 + 36*q^85 + 36*q^84 + 34*q^83 + 29*q^82 + 24*q^81 + 17*q^80 + 11*q^79 + 7*q^78 + 4*q^77 + 2*q^76 + q^75\n",
      "Q^15*S -- -q^102 - 2*q^101 - 4*q^100 - 6*q^99 - 9*q^98 - 12*q^97 - 16*q^96 - 19*q^95 - 23*q^94 - 24*q^93 - 25*q^92 - 23*q^91 - 22*q^90 - 18*q^89 - 14*q^88 - 9*q^87 - 4*q^86 + 2*q^84 + 4*q^83 + 5*q^82 + 5*q^81 + 4*q^80 + 3*q^79 + 2*q^78 + q^77 + q^76\n",
      "Q^13*S^4 -- q^114 + 2*q^113 + 4*q^112 + 7*q^111 + 12*q^110 + 17*q^109 + 25*q^108 + 31*q^107 + 39*q^106 + 43*q^105 + 46*q^104 + 42*q^103 + 34*q^102 + 16*q^101 - 5*q^100 - 33*q^99 - 64*q^98 - 98*q^97 - 126*q^96 - 149*q^95 - 162*q^94 - 167*q^93 - 164*q^92 - 151*q^91 - 131*q^90 - 107*q^89 - 84*q^88 - 62*q^87 - 44*q^86 - 28*q^85 - 17*q^84 - 9*q^83 - 5*q^82 - 2*q^81 - q^80\n",
      "Q^13*S^5 -- -q^119 - q^118 - 2*q^117 - 3*q^116 - 5*q^115 - 5*q^114 - 6*q^113 - 5*q^112 - 4*q^111 + 2*q^110 + 8*q^109 + 18*q^108 + 29*q^107 + 43*q^106 + 56*q^105 + 71*q^104 + 82*q^103 + 91*q^102 + 96*q^101 + 97*q^100 + 93*q^99 + 87*q^98 + 77*q^97 + 64*q^96 + 52*q^95 + 40*q^94 + 29*q^93 + 20*q^92 + 13*q^91 + 7*q^90 + 4*q^89 + 2*q^88 + q^87\n",
      "Q^13*S^6 -- -q^120 - q^119 - 2*q^118 - 3*q^117 - 5*q^116 - 7*q^115 - 9*q^114 - 11*q^113 - 14*q^112 - 16*q^111 - 18*q^110 - 19*q^109 - 20*q^108 - 20*q^107 - 19*q^106 - 18*q^105 - 16*q^104 - 14*q^103 - 11*q^102 - 9*q^101 - 7*q^100 - 5*q^99 - 3*q^98 - 2*q^97 - q^96 - q^95\n",
      "Q^12*S^3 -- q^102 + 2*q^101 + 5*q^100 + 10*q^99 + 17*q^98 + 28*q^97 + 43*q^96 + 61*q^95 + 81*q^94 + 104*q^93 + 123*q^92 + 144*q^91 + 157*q^90 + 163*q^89 + 155*q^88 + 143*q^87 + 113*q^86 + 79*q^85 + 31*q^84 - 12*q^83 - 58*q^82 - 89*q^81 - 117*q^80 - 123*q^79 - 122*q^78 - 107*q^77 - 91*q^76 - 67*q^75 - 49*q^74 - 31*q^73 - 20*q^72 - 10*q^71 - 5*q^70 - 2*q^69 - q^68\n",
      "Q^13*S^2 -- q^101 + 2*q^100 + 5*q^99 + 9*q^98 + 16*q^97 + 24*q^96 + 37*q^95 + 50*q^94 + 67*q^93 + 82*q^92 + 98*q^91 + 108*q^90 + 118*q^89 + 120*q^88 + 117*q^87 + 103*q^86 + 87*q^85 + 65*q^84 + 42*q^83 + 16*q^82 - 5*q^81 - 22*q^80 - 32*q^79 - 37*q^78 - 37*q^77 - 32*q^76 - 25*q^75 - 19*q^74 - 13*q^73 - 7*q^72 - 4*q^71 - 2*q^70 - q^69\n",
      "Q^14*S -- q^98 + 2*q^97 + 4*q^96 + 7*q^95 + 11*q^94 + 16*q^93 + 22*q^92 + 29*q^91 + 35*q^90 + 41*q^89 + 45*q^88 + 48*q^87 + 47*q^86 + 46*q^85 + 40*q^84 + 34*q^83 + 25*q^82 + 19*q^81 + 10*q^80 + 5*q^79 - q^78 - 3*q^77 - 5*q^76 - 4*q^75 - 5*q^74 - 3*q^73 - 2*q^72 - q^71 - q^70\n",
      "Q^12*S^4 -- -q^108 - 2*q^107 - 5*q^106 - 9*q^105 - 16*q^104 - 25*q^103 - 38*q^102 - 52*q^101 - 68*q^100 - 83*q^99 - 97*q^98 - 105*q^97 - 106*q^96 - 95*q^95 - 74*q^94 - 40*q^93 + 6*q^92 + 61*q^91 + 116*q^90 + 169*q^89 + 212*q^88 + 242*q^87 + 252*q^86 + 246*q^85 + 225*q^84 + 195*q^83 + 158*q^82 + 120*q^81 + 85*q^80 + 58*q^79 + 36*q^78 + 21*q^77 + 11*q^76 + 5*q^75 + 2*q^74 + q^73\n",
      "Q^12*S^5 -- q^113 + 2*q^112 + 4*q^111 + 7*q^110 + 11*q^109 + 17*q^108 + 22*q^107 + 28*q^106 + 32*q^105 + 34*q^104 + 28*q^103 + 20*q^102 - 24*q^100 - 60*q^99 - 96*q^98 - 139*q^97 - 172*q^96 - 208*q^95 - 228*q^94 - 241*q^93 - 235*q^92 - 224*q^91 - 197*q^90 - 171*q^89 - 136*q^88 - 105*q^87 - 74*q^86 - 52*q^85 - 32*q^84 - 20*q^83 - 10*q^82 - 5*q^81 - 2*q^80 - q^79\n",
      "Q^12*S^6 -- -q^117 - q^116 - 2*q^115 - 3*q^114 - 3*q^113 - 3*q^112 - 3*q^111 + q^110 + 6*q^109 + 13*q^108 + 23*q^107 + 36*q^106 + 49*q^105 + 64*q^104 + 78*q^103 + 90*q^102 + 99*q^101 + 104*q^100 + 104*q^99 + 101*q^98 + 93*q^97 + 82*q^96 + 69*q^95 + 56*q^94 + 43*q^93 + 31*q^92 + 21*q^91 + 14*q^90 + 8*q^89 + 4*q^88 + 2*q^87 + q^86\n",
      "Q^12*S^7 -- -q^118 - q^117 - 2*q^116 - 3*q^115 - 5*q^114 - 6*q^113 - 9*q^112 - 10*q^111 - 13*q^110 - 14*q^109 - 16*q^108 - 16*q^107 - 18*q^106 - 16*q^105 - 16*q^104 - 14*q^103 - 13*q^102 - 10*q^101 - 9*q^100 - 6*q^99 - 5*q^98 - 3*q^97 - 2*q^96 - q^95 - q^94\n",
      "Q^11*S^3 -- -q^95 - 2*q^94 - 5*q^93 - 9*q^92 - 17*q^91 - 26*q^90 - 40*q^89 - 54*q^88 - 72*q^87 - 89*q^86 - 108*q^85 - 121*q^84 - 133*q^83 - 136*q^82 - 134*q^81 - 121*q^80 - 100*q^79 - 68*q^78 - 35*q^77 + 2*q^76 + 36*q^75 + 61*q^74 + 76*q^73 + 81*q^72 + 75*q^71 + 63*q^70 + 49*q^69 + 33*q^68 + 21*q^67 + 12*q^66 + 6*q^65 + 2*q^64 + q^63\n",
      "Q^12*S^2 -- -q^95 - 2*q^94 - 5*q^93 - 9*q^92 - 16*q^91 - 25*q^90 - 38*q^89 - 52*q^88 - 69*q^87 - 85*q^86 - 102*q^85 - 116*q^84 - 126*q^83 - 129*q^82 - 128*q^81 - 118*q^80 - 103*q^79 - 82*q^78 - 58*q^77 - 33*q^76 - 13*q^75 + 6*q^74 + 18*q^73 + 24*q^72 + 25*q^71 + 23*q^70 + 17*q^69 + 13*q^68 + 8*q^67 + 4*q^66 + 2*q^65 + q^64\n",
      "Q^13*S -- -q^93 - 2*q^92 - 4*q^91 - 7*q^90 - 12*q^89 - 17*q^88 - 25*q^87 - 32*q^86 - 41*q^85 - 48*q^84 - 55*q^83 - 59*q^82 - 62*q^81 - 59*q^80 - 56*q^79 - 49*q^78 - 41*q^77 - 31*q^76 - 22*q^75 - 13*q^74 - 7*q^73 - 2*q^72 + 2*q^71 + 3*q^70 + 3*q^69 + 3*q^68 + 2*q^67 + q^66 + q^65\n",
      "Q^11*S^4 -- q^101 + 2*q^100 + 5*q^99 + 9*q^98 + 17*q^97 + 26*q^96 + 40*q^95 + 54*q^94 + 72*q^93 + 88*q^92 + 106*q^91 + 116*q^90 + 122*q^89 + 117*q^88 + 103*q^87 + 71*q^86 + 30*q^85 - 24*q^84 - 82*q^83 - 140*q^82 - 187*q^81 - 220*q^80 - 234*q^79 - 229*q^78 - 208*q^77 - 175*q^76 - 138*q^75 - 101*q^74 - 69*q^73 - 42*q^72 - 25*q^71 - 13*q^70 - 6*q^69 - 2*q^68 - q^67\n",
      "Q^11*S^5 -- -q^106 - 2*q^105 - 5*q^104 - 8*q^103 - 15*q^102 - 22*q^101 - 32*q^100 - 41*q^99 - 53*q^98 - 59*q^97 - 63*q^96 - 58*q^95 - 45*q^94 - 16*q^93 + 22*q^92 + 75*q^91 + 133*q^90 + 195*q^89 + 251*q^88 + 296*q^87 + 322*q^86 + 330*q^85 + 318*q^84 + 287*q^83 + 244*q^82 + 197*q^81 + 150*q^80 + 106*q^79 + 71*q^78 + 43*q^77 + 25*q^76 + 13*q^75 + 6*q^74 + 2*q^73 + q^72\n",
      "Q^11*S^6 -- q^110 + 2*q^109 + 4*q^108 + 6*q^107 + 10*q^106 + 12*q^105 + 16*q^104 + 16*q^103 + 14*q^102 + 6*q^101 - 7*q^100 - 30*q^99 - 56*q^98 - 90*q^97 - 126*q^96 - 163*q^95 - 195*q^94 - 220*q^93 - 232*q^92 - 234*q^91 - 226*q^90 - 205*q^89 - 177*q^88 - 145*q^87 - 113*q^86 - 83*q^85 - 58*q^84 - 36*q^83 - 22*q^82 - 12*q^81 - 6*q^80 - 2*q^79 - q^78\n",
      "Q^11*S^7 -- -q^113 - q^112 - 2*q^111 - q^110 - q^109 + 2*q^108 + 5*q^107 + 10*q^106 + 17*q^105 + 28*q^104 + 38*q^103 + 49*q^102 + 59*q^101 + 69*q^100 + 75*q^99 + 80*q^98 + 80*q^97 + 76*q^96 + 70*q^95 + 61*q^94 + 51*q^93 + 41*q^92 + 31*q^91 + 21*q^90 + 14*q^89 + 9*q^88 + 5*q^87 + 2*q^86 + q^85\n",
      "Q^11*S^8 -- -q^114 - q^113 - 2*q^112 - 3*q^111 - 4*q^110 - 5*q^109 - 7*q^108 - 8*q^107 - 9*q^106 - 10*q^105 - 10*q^104 - 10*q^103 - 10*q^102 - 9*q^101 - 8*q^100 - 7*q^99 - 5*q^98 - 4*q^97 - 3*q^96 - 2*q^95 - q^94 - q^93\n",
      "Q^10*S^3 -- q^87 + 2*q^86 + 4*q^85 + 8*q^84 + 12*q^83 + 18*q^82 + 24*q^81 + 32*q^80 + 38*q^79 + 46*q^78 + 51*q^77 + 58*q^76 + 60*q^75 + 62*q^74 + 55*q^73 + 49*q^72 + 33*q^71 + 19*q^70 - q^69 - 15*q^68 - 29*q^67 - 32*q^66 - 33*q^65 - 27*q^64 - 22*q^63 - 13*q^62 - 8*q^61 - 3*q^60 - q^59\n",
      "Q^11*S^2 -- q^88 + 2*q^87 + 5*q^86 + 8*q^85 + 15*q^84 + 22*q^83 + 32*q^82 + 42*q^81 + 55*q^80 + 65*q^79 + 76*q^78 + 83*q^77 + 89*q^76 + 88*q^75 + 85*q^74 + 74*q^73 + 62*q^72 + 47*q^71 + 31*q^70 + 15*q^69 + 3*q^68 - 6*q^67 - 10*q^66 - 11*q^65 - 10*q^64 - 8*q^63 - 5*q^62 - 2*q^61 - q^60\n",
      "Q^12*S -- q^87 + 2*q^86 + 4*q^85 + 7*q^84 + 11*q^83 + 17*q^82 + 23*q^81 + 30*q^80 + 37*q^79 + 44*q^78 + 48*q^77 + 52*q^76 + 52*q^75 + 51*q^74 + 45*q^73 + 40*q^72 + 31*q^71 + 25*q^70 + 16*q^69 + 10*q^68 + 4*q^67 + 2*q^66 - q^65 - q^64 - 2*q^63 - q^62 - q^61\n",
      "Q^10*S^4 -- -q^93 - 2*q^92 - 4*q^91 - 8*q^90 - 13*q^89 - 19*q^88 - 26*q^87 - 34*q^86 - 42*q^85 - 50*q^84 - 55*q^83 - 60*q^82 - 61*q^81 - 57*q^80 - 43*q^79 - 23*q^78 + 6*q^77 + 40*q^76 + 75*q^75 + 106*q^74 + 128*q^73 + 137*q^72 + 133*q^71 + 119*q^70 + 96*q^69 + 72*q^68 + 49*q^67 + 30*q^66 + 16*q^65 + 8*q^64 + 3*q^63 + q^62\n",
      "Q^10*S^5 -- q^98 + 2*q^97 + 4*q^96 + 8*q^95 + 12*q^94 + 18*q^93 + 24*q^92 + 32*q^91 + 37*q^90 + 43*q^89 + 43*q^88 + 41*q^87 + 26*q^86 + 6*q^85 - 31*q^84 - 73*q^83 - 128*q^82 - 176*q^81 - 226*q^80 - 256*q^79 - 273*q^78 - 265*q^77 - 247*q^76 - 209*q^75 - 170*q^74 - 124*q^73 - 87*q^72 - 55*q^71 - 33*q^70 - 16*q^69 - 8*q^68 - 3*q^67 - q^66\n",
      "Q^10*S^6 -- -q^102 - 2*q^101 - 4*q^100 - 7*q^99 - 10*q^98 - 14*q^97 - 18*q^96 - 21*q^95 - 20*q^94 - 15*q^93 - 2*q^92 + 20*q^91 + 52*q^90 + 93*q^89 + 140*q^88 + 188*q^87 + 233*q^86 + 267*q^85 + 285*q^84 + 286*q^83 + 271*q^82 + 243*q^81 + 203*q^80 + 160*q^79 + 118*q^78 + 82*q^77 + 53*q^76 + 31*q^75 + 16*q^74 + 8*q^73 + 3*q^72 + q^71\n",
      "Q^10*S^7 -- q^105 + 2*q^104 + 3*q^103 + 5*q^102 + 5*q^101 + 5*q^100 + q^99 - 4*q^98 - 16*q^97 - 30*q^96 - 53*q^95 - 76*q^94 - 102*q^93 - 122*q^92 - 144*q^91 - 155*q^90 - 163*q^89 - 156*q^88 - 145*q^87 - 125*q^86 - 106*q^85 - 81*q^84 - 60*q^83 - 40*q^82 - 26*q^81 - 14*q^80 - 8*q^79 - 3*q^78 - q^77\n",
      "Q^10*S^8 -- -q^107 - q^106 + 2*q^104 + 5*q^103 + 8*q^102 + 13*q^101 + 18*q^100 + 24*q^99 + 32*q^98 + 37*q^97 + 40*q^96 + 42*q^95 + 42*q^94 + 40*q^93 + 37*q^92 + 32*q^91 + 25*q^90 + 19*q^89 + 14*q^88 + 9*q^87 + 6*q^86 + 3*q^85 + q^84\n",
      "Q^10*S^9 -- -q^108 - q^107 - 2*q^106 - 2*q^105 - 3*q^104 - 3*q^103 - 4*q^102 - 4*q^101 - 5*q^100 - 4*q^99 - 4*q^98 - 3*q^97 - 3*q^96 - 2*q^95 - 2*q^94 - q^93 - q^92\n",
      "Q^9*S^3 -- -q^78 - q^77 - 2*q^76 - 2*q^75 - 2*q^74 - 2*q^73 - 2*q^72 - q^71 - 2*q^70 - 3*q^69 - 5*q^68 - 8*q^67 - 11*q^66 - 11*q^65 - 8*q^64 - 3*q^63 + q^62 + 3*q^61 + 6*q^60 + 9*q^59 + 9*q^58 + 5*q^57 + 2*q^56\n",
      "Q^10*S^2 -- -q^80 - 2*q^79 - 4*q^78 - 7*q^77 - 10*q^76 - 14*q^75 - 19*q^74 - 24*q^73 - 28*q^72 - 32*q^71 - 35*q^70 - 36*q^69 - 36*q^68 - 34*q^67 - 29*q^66 - 22*q^65 - 14*q^64 - 8*q^63 - 4*q^62 + 3*q^60 + 5*q^59 + 3*q^58 + q^57\n",
      "Q^11*S -- -q^80 - 2*q^79 - 4*q^78 - 6*q^77 - 10*q^76 - 13*q^75 - 18*q^74 - 22*q^73 - 26*q^72 - 28*q^71 - 30*q^70 - 29*q^69 - 28*q^68 - 25*q^67 - 21*q^66 - 15*q^65 - 11*q^64 - 7*q^63 - 4*q^62 - 2*q^61 + q^59 + q^58\n",
      "Q^9*S^4 -- q^84 + q^83 + 2*q^82 + 2*q^81 + 2*q^80 + q^79 - q^78 - 4*q^77 - 6*q^76 - 7*q^75 - 7*q^74 - 7*q^73 - 7*q^72 - 9*q^71 - 14*q^70 - 21*q^69 - 30*q^68 - 39*q^67 - 47*q^66 - 49*q^65 - 46*q^64 - 39*q^63 - 30*q^62 - 20*q^61 - 12*q^60 - 5*q^59 - 2*q^58\n",
      "Q^9*S^5 -- -q^89 - q^88 - 2*q^87 - 2*q^86 - 2*q^85 - q^84 + q^83 + 4*q^82 + 6*q^81 + 9*q^80 + 13*q^79 + 19*q^78 + 29*q^77 + 44*q^76 + 63*q^75 + 85*q^74 + 107*q^73 + 122*q^72 + 131*q^71 + 131*q^70 + 120*q^69 + 103*q^68 + 83*q^67 + 59*q^66 + 39*q^65 + 23*q^64 + 12*q^63 + 5*q^62 + 2*q^61\n",
      "Q^9*S^6 -- q^93 + q^92 + 2*q^91 + 2*q^90 + 2*q^89 + 2*q^88 + 2*q^87 - q^86 - 4*q^85 - 11*q^84 - 23*q^83 - 43*q^82 - 68*q^81 - 99*q^80 - 132*q^79 - 163*q^78 - 185*q^77 - 195*q^76 - 193*q^75 - 179*q^74 - 154*q^73 - 123*q^72 - 93*q^71 - 64*q^70 - 41*q^69 - 23*q^68 - 12*q^67 - 5*q^66 - 2*q^65\n",
      "Q^9*S^7 -- -q^96 - q^95 - 2*q^94 - 2*q^93 - 3*q^92 - 2*q^91 + q^90 + 8*q^89 + 19*q^88 + 36*q^87 + 59*q^86 + 87*q^85 + 114*q^84 + 138*q^83 + 156*q^82 + 167*q^81 + 166*q^80 + 153*q^79 + 133*q^78 + 108*q^77 + 83*q^76 + 58*q^75 + 37*q^74 + 22*q^73 + 12*q^72 + 5*q^71 + 2*q^70\n",
      "Q^9*S^8 -- q^98 + q^97 + 2*q^96 - 4*q^94 - 10*q^93 - 17*q^92 - 27*q^91 - 38*q^90 - 52*q^89 - 64*q^88 - 71*q^87 - 74*q^86 - 74*q^85 - 70*q^84 - 62*q^83 - 51*q^82 - 38*q^81 - 27*q^80 - 18*q^79 - 11*q^78 - 5*q^77 - 2*q^76\n",
      "Q^9*S^9 -- -q^99 + 2*q^98 + 4*q^97 + 6*q^96 + 8*q^95 + 10*q^94 + 12*q^93 + 14*q^92 + 16*q^91 + 16*q^90 + 14*q^89 + 12*q^88 + 10*q^87 + 8*q^86 + 6*q^85 + 4*q^84 + 2*q^83\n",
      "Q^9*S^10 -- -q^100 - q^99 - q^98 - q^97 - q^96 - q^95 - q^94 - q^93 - q^92 - q^91\n",
      "Q^8*S^3 -- -q^68 - 2*q^67 - 4*q^66 - 5*q^65 - 7*q^64 - 8*q^63 - 9*q^62 - 7*q^61 - 5*q^60 - 2*q^59 - q^58 + q^57 + 2*q^56 + q^55 - 3*q^54 - q^53\n",
      "Q^9*S^2 -- q^71 + q^70 + 2*q^69 + 2*q^68 + 3*q^67 + 4*q^66 + 5*q^65 + 6*q^64 + 7*q^63 + 8*q^62 + 8*q^61 + 7*q^60 + 6*q^59 + 5*q^58 + 4*q^57 - 2*q^55\n",
      "Q^10*S -- q^72 + 2*q^71 + 3*q^70 + 5*q^69 + 6*q^68 + 8*q^67 + 9*q^66 + 11*q^65 + 11*q^64 + 11*q^63 + 9*q^62 + 8*q^61 + 6*q^60 + 5*q^59 + 3*q^58 + 2*q^57 - q^56\n",
      "Q^8*S^4 -- q^74 + 2*q^73 + 5*q^72 + 8*q^71 + 13*q^70 + 17*q^69 + 22*q^68 + 24*q^67 + 26*q^66 + 24*q^65 + 21*q^64 + 16*q^63 + 15*q^62 + 13*q^61 + 11*q^60 + 8*q^59 + 8*q^58 + 9*q^57 + 7*q^56 + 4*q^55 + q^54\n",
      "Q^8*S^5 -- -q^79 - 2*q^78 - 5*q^77 - 9*q^76 - 15*q^75 - 20*q^74 - 27*q^73 - 32*q^72 - 36*q^71 - 38*q^70 - 41*q^69 - 42*q^68 - 43*q^67 - 41*q^66 - 40*q^65 - 36*q^64 - 33*q^63 - 27*q^62 - 23*q^61 - 17*q^60 - 13*q^59 - 7*q^58 - 4*q^57 - q^56\n",
      "Q^8*S^6 -- q^83 + 2*q^82 + 5*q^81 + 8*q^80 + 13*q^79 + 17*q^78 + 22*q^77 + 26*q^76 + 33*q^75 + 38*q^74 + 47*q^73 + 55*q^72 + 62*q^71 + 66*q^70 + 68*q^69 + 62*q^68 + 55*q^67 + 49*q^66 + 39*q^65 + 29*q^64 + 21*q^63 + 13*q^62 + 7*q^61 + 4*q^60 + q^59\n",
      "Q^8*S^7 -- -q^86 - 2*q^85 - 4*q^84 - 5*q^83 - 7*q^82 - 10*q^81 - 16*q^80 - 21*q^79 - 30*q^78 - 42*q^77 - 57*q^76 - 67*q^75 - 76*q^74 - 79*q^73 - 79*q^72 - 70*q^71 - 60*q^70 - 46*q^69 - 34*q^68 - 22*q^67 - 14*q^66 - 7*q^65 - 4*q^64 - q^63\n",
      "Q^8*S^8 -- q^88 + q^87 + q^86 + 2*q^85 + 7*q^84 + 13*q^83 + 21*q^82 + 30*q^81 + 41*q^80 + 52*q^79 + 59*q^78 + 61*q^77 + 59*q^76 + 54*q^75 + 45*q^74 + 33*q^73 + 23*q^72 + 15*q^71 + 8*q^70 + 4*q^69 + q^68\n",
      "Q^8*S^9 -- -q^88 - 6*q^87 - 9*q^86 - 13*q^85 - 16*q^84 - 20*q^83 - 23*q^82 - 25*q^81 - 22*q^80 - 19*q^79 - 15*q^78 - 12*q^77 - 8*q^76 - 5*q^75 - q^74\n",
      "Q^8*S^10 -- q^90 + 3*q^89 + 3*q^88 + 3*q^87 + 3*q^86 + 3*q^85 + 3*q^84 + 3*q^83 + 3*q^82 + q^81\n",
      "Q^8*S^11 -- -q^90\n",
      "Q^18 -- -q^99\n",
      "Q^17 -- q^98 + q^97 + q^96 + q^95 + q^94 + q^93 + q^92 + q^91 + q^90\n",
      "Q^16 -- -q^96 - q^95 - 2*q^94 - 2*q^93 - 3*q^92 - 3*q^91 - 4*q^90 - 4*q^89 - 4*q^88 - 3*q^87 - 3*q^86 - 2*q^85 - 2*q^84 - q^83 - q^82\n",
      "Q^15 -- q^93 + q^92 + 2*q^91 + 3*q^90 + 4*q^89 + 5*q^88 + 7*q^87 + 7*q^86 + 8*q^85 + 8*q^84 + 8*q^83 + 7*q^82 + 7*q^81 + 5*q^80 + 4*q^79 + 3*q^78 + 2*q^77 + q^76 + q^75\n",
      "Q^14 -- -q^89 - q^88 - 2*q^87 - 3*q^86 - 5*q^85 - 6*q^84 - 8*q^83 - 9*q^82 - 11*q^81 - 11*q^80 - 12*q^79 - 11*q^78 - 11*q^77 - 9*q^76 - 8*q^75 - 6*q^74 - 5*q^73 - 3*q^72 - 2*q^71 - q^70 - q^69\n",
      "Q^13 -- q^84 + q^83 + 2*q^82 + 3*q^81 + 5*q^80 + 6*q^79 + 8*q^78 + 9*q^77 + 11*q^76 + 11*q^75 + 12*q^74 + 11*q^73 + 11*q^72 + 9*q^71 + 8*q^70 + 6*q^69 + 5*q^68 + 3*q^67 + 2*q^66 + q^65 + q^64\n",
      "Q^12 -- -q^78 - q^77 - 2*q^76 - 3*q^75 - 4*q^74 - 5*q^73 - 7*q^72 - 7*q^71 - 8*q^70 - 8*q^69 - 8*q^68 - 7*q^67 - 7*q^66 - 5*q^65 - 4*q^64 - 3*q^63 - 2*q^62 - q^61 - q^60\n",
      "Q^11 -- q^71 + q^70 + 2*q^69 + 2*q^68 + 3*q^67 + 3*q^66 + 4*q^65 + 4*q^64 + 4*q^63 + 3*q^62 + 3*q^61 + 2*q^60 + 2*q^59 + q^58 + q^57\n",
      "Q^10 -- -q^63 - q^62 - q^61 - q^60 - q^59 - q^58 - q^57 - q^56 - q^55\n",
      "Q^9 -- q^54\n",
      "Q^9*S -- -q^63 - q^62 - 2*q^61 - 2*q^60 - 2*q^59 - 2*q^58 - 2*q^57 - 2*q^56 - 2*q^55 - q^54\n",
      "Q^8*S -- q^52\n",
      "Q^8*S^2 -- q^61 + q^60 + q^59 - q^54 - 2*q^53 - q^52\n",
      "Q^7*S^2 -- -q^52 - q^51 + q^49\n",
      "Q^7*S^3 -- q^59 + 2*q^58 + 3*q^57 + 3*q^56 + 3*q^55 + 3*q^54 + 3*q^53 + 2*q^52 - q^50\n",
      "Q^7*S^4 -- -q^65 - 2*q^64 - 4*q^63 - 5*q^62 - 8*q^61 - 10*q^60 - 13*q^59 - 13*q^58 - 13*q^57 - 10*q^56 - 8*q^55 - 4*q^54 - 2*q^53 - 2*q^52 - q^51 + q^50\n",
      "Q^7*S^5 -- q^70 + 2*q^69 + 4*q^68 + 6*q^67 + 10*q^66 + 13*q^65 + 18*q^64 + 21*q^63 + 25*q^62 + 25*q^61 + 24*q^60 + 21*q^59 + 17*q^58 + 9*q^57 + 2*q^56 - q^55 - q^54 - q^53 - q^52 - q^51\n",
      "Q^7*S^6 -- -q^74 - 2*q^73 - 4*q^72 - 6*q^71 - 10*q^70 - 13*q^69 - 18*q^68 - 21*q^67 - 26*q^66 - 29*q^65 - 30*q^64 - 26*q^63 - 19*q^62 - 8*q^61 + 3*q^60 + 10*q^59 + 11*q^58 + 9*q^57 + 6*q^56 + 3*q^55 + q^54 + q^53\n",
      "Q^7*S^7 -- q^77 + 2*q^76 + 4*q^75 + 5*q^74 + 8*q^73 + 10*q^72 + 14*q^71 + 17*q^70 + 20*q^69 + 20*q^68 + 20*q^67 + 13*q^66 + 3*q^65 - 5*q^64 - 11*q^63 - 15*q^62 - 13*q^61 - 10*q^60 - 7*q^59 - 3*q^58 - q^57 - q^56\n",
      "Q^7*S^8 -- -q^79 - 2*q^78 - 3*q^77 - 3*q^76 - 4*q^75 - 7*q^74 - 10*q^73 - 11*q^72 - 12*q^71 - 13*q^70 - 11*q^69 - 8*q^68 - 5*q^67 - q^66 + 2*q^65 + 3*q^64 + 3*q^63 + 2*q^62 + q^61 + q^60\n",
      "Q^7*S^9 -- q^80 + q^79 + q^78 + 3*q^77 + 6*q^76 + 8*q^75 + 10*q^74 + 12*q^73 + 13*q^72 + 11*q^71 + 8*q^70 + 6*q^69 + 4*q^68 + 2*q^67 - q^65\n",
      "Q^6*S^3 -- -q^48 - q^47\n",
      "Q^6*S^4 -- q^53 + 2*q^52 + 3*q^51 + 3*q^50 + 4*q^49 + 3*q^48 + q^47\n",
      "Q^6*S^5 -- -q^57 - 2*q^56 - 5*q^55 - 7*q^54 - 9*q^53 - 8*q^52 - 7*q^51 - 4*q^50 - 2*q^49 + q^48 + 3*q^47 + q^46\n",
      "Q^6*S^6 -- 2*q^60 + 4*q^59 + 7*q^58 + 10*q^57 + 11*q^56 + 11*q^55 + 8*q^54 - q^53 - 9*q^52 - 12*q^51 - 10*q^50 - 7*q^49 - 4*q^48 - q^47\n",
      "Q^6*S^7 -- -q^64 - 2*q^63 - 5*q^62 - 7*q^61 - 10*q^60 - 8*q^59 - 3*q^58 + 8*q^57 + 20*q^56 + 28*q^55 + 28*q^54 + 24*q^53 + 17*q^52 + 8*q^51 + 4*q^50 + q^49\n",
      "Q^6*S^8 -- q^67 + 2*q^66 + 3*q^65 + 4*q^64 + 4*q^63 - q^62 - 8*q^61 - 17*q^60 - 25*q^59 - 28*q^58 - 27*q^57 - 23*q^56 - 15*q^55 - 8*q^54 - 4*q^53 - q^52\n",
      "Q^6*S^9 -- -q^69 - q^68 - q^67 + 2*q^65 + 4*q^64 + 6*q^63 + 9*q^62 + 11*q^61 + 10*q^60 + 8*q^59 + 6*q^58 + 4*q^57 + q^56\n",
      "Q^5*S^4 -- q^45 - q^43 - q^42\n",
      "Q^5*S^5 -- -q^50 - q^49 - q^48 + q^45 + 2*q^44 + q^43\n",
      "Q^5*S^6 -- q^54 + q^53 + 2*q^52 + 2*q^51 + 2*q^50 + q^49 - q^47 - 2*q^46 - q^45 + 2*q^44 + 4*q^43 + 2*q^42\n",
      "Q^5*S^7 -- -q^57 - q^56 - 2*q^55 - 2*q^54 - 2*q^53 - q^52 + q^50 - 6*q^48 - 12*q^47 - 12*q^46 - 9*q^45 - 7*q^44 - 3*q^43\n",
      "Q^5*S^8 -- q^59 + q^58 + q^57 - q^54 + 6*q^52 + 14*q^51 + 19*q^50 + 21*q^49 + 19*q^48 + 12*q^47 + 7*q^46 + 3*q^45\n",
      "Q^5*S^9 -- -q^60 + q^58 + q^57 - 2*q^56 - 6*q^55 - 10*q^54 - 14*q^53 - 16*q^52 - 14*q^51 - 10*q^50 - 6*q^49 - 2*q^48\n",
      "Q^4*S^5 -- q^39\n",
      "Q^4*S^6 -- -q^43 - q^42 - 2*q^41 - 2*q^40 - q^39\n",
      "Q^4*S^7 -- q^46 + q^45 + 3*q^44 + 3*q^43 + 3*q^42 + q^41 + q^39 + 3*q^38 + q^37 + q^35\n",
      "Q^4*S^8 -- -q^48 - q^47 - 2*q^46 - 2*q^45 - q^44 - q^43 - 4*q^42 - 6*q^41 - 5*q^40 - 4*q^39 - 4*q^38 - 2*q^37 - q^36\n",
      "Q^4*S^9 -- q^49 + q^46 + 4*q^45 + 6*q^44 + 8*q^43 + 7*q^42 + 5*q^41 + 3*q^40 + q^39 + q^38\n",
      "Q^3*S^6 -- q^32\n",
      "Q^3*S^7 -- -q^35 - q^34 - q^33\n",
      "Q^3*S^8 -- q^37 + q^36 + q^35 + q^32 - q^30 + 2*q^29 + q^28\n",
      "Q^3*S^9 -- -q^38 - q^35 - q^34 - q^32 - 2*q^31 - 3*q^30 - q^29\n",
      "Q^3*S^10 -- q^37 + q^36 + q^35 + q^34 + q^32 + q^31\n",
      "Q^2*S^9 -- -q^23 + 2*q^22 + 2*q^21\n",
      "Q^2*S^10 -- q^25 - 2*q^23 - 2*q^22\n",
      "Q^2*S^11 -- -q^26 + q^24\n",
      "Q^6*S^10 -- q^69 + q^68 - q^63 - 2*q^62 - q^61\n",
      "Q^5*S^10 -- q^58 + 3*q^57 + 4*q^56 + 4*q^55 + 4*q^54 + 4*q^53 + 2*q^52\n",
      "Q^5*S^11 -- -q^58 - q^57\n",
      "Q^7*S^10 -- -q^80 - 3*q^79 - 4*q^78 - 4*q^77 - 4*q^76 - 4*q^75 - 4*q^74 - 4*q^73 - 2*q^72\n",
      "Q^7*S^11 -- q^80 + q^79\n",
      "Q^4*S^10 -- -q^48 - 3*q^47 - 4*q^46 - 4*q^45 - 4*q^44 - 2*q^43\n",
      "Q^3*S^11 -- -q^38 - q^37\n",
      "Q^4*S^11 -- q^48 + q^47\n",
      "Q^6*S^11 -- -q^70 - q^69\n",
      "S^11 -- q^4\n",
      "Q*S^10 -- q^14 + 2*q^13\n",
      "Q*S^11 -- -q^14\n"
     ]
    }
   ],
   "source": [
    "for k,v in L3.monomial_coefficients().items():\n",
    "    print(f\"{k} -- {v}\")"
   ]
  },
  {
   "cell_type": "code",
   "execution_count": 24,
   "id": "3dab17ce-1f5d-466b-80ea-a09594c94b3c",
   "metadata": {
    "vscode": {
     "languageId": "python"
    }
   },
   "outputs": [],
   "source": [
    "q,n = var('q,n')\n",
    "coeffs = [\n",
    "    (-q^(19 + 6*n) + q^(22 + 7*n) + 2*q^(23 + 7*n) + q^(24 + 7*n) - q^(26 + 8*n) - q^(27 + 8*n) - q^(28 + 8*n) + q^(29 + 9*n) + # f(n)\n",
    "     q^(30 + 9*n) + q^(31 + 9*n) + q^(34 + 10*n) + q^(35 + 10*n) + q^(36 + 10*n) - q^(37 + 11*n) - q^(38 + 11*n) - q^(39 + 11*n) + \n",
    "     q^(41 + 12*n) + q^(42 + 12*n) + q^(43 + 12*n)), \n",
    "   (-q^(19 + 5*n) + q^(20 + 6*n) + q^(21 + 6*n) + q^(22 + 6*n) - q^(20 + 7*n) - q^(24 + 7*n) + q^(27 + 7*n) + q^(23 + 8*n) + # f(n+1)\n",
    "     2*q^(24 + 8*n) + 2*q^(25 + 8*n) + 2*q^(26 + 8*n) + 2*q^(27 + 8*n) + q^(28 + 8*n) - q^(30 + 8*n) - q^(31 + 8*n) - q^(27 + 9*n) - \n",
    "     q^(28 + 9*n) - q^(29 + 9*n) + q^(32 + 9*n) + q^(33 + 9*n) + q^(34 + 9*n) + q^(30 + 10*n) + q^(31 + 10*n) + q^(32 + 10*n) + \n",
    "     q^(33 + 10*n) + q^(34 + 10*n) + q^(35 + 10*n) + q^(35 + 11*n) + q^(36 + 11*n) + q^(37 + 11*n) + q^(38 + 11*n) + q^(39 + 11*n) + \n",
    "     q^(40 + 11*n) - q^(38 + 12*n) - q^(39 + 12*n) - q^(40 + 12*n) + q^(42 + 13*n) + q^(43 + 13*n) + q^(44 + 13*n) + q^(45 + 13*n) + \n",
    "     q^(46 + 13*n) + q^(47 + 13*n)), \n",
    "   (q^(12 + 3*n) + q^(13 + 3*n) - 2*q^(15 + 4*n) - 3*q^(16 + 4*n) - 2*q^(17 + 4*n) - q^(18 + 4*n) + q^(18 + 5*n) + 2*q^(19 + 5*n) + # f(n+2)\n",
    "     2*q^(20 + 5*n) + q^(21 + 5*n) + q^(22 + 5*n) - q^(19 + 6*n) - q^(20 + 6*n) - 3*q^(21 + 6*n) - 3*q^(22 + 6*n) - 3*q^(23 + 6*n) - \n",
    "     q^(24 + 6*n) - q^(25 + 6*n) + q^(21 + 7*n) + 2*q^(22 + 7*n) + 3*q^(23 + 7*n) + 3*q^(24 + 7*n) + 3*q^(25 + 7*n) + q^(26 + 7*n) - \n",
    "     2*q^(28 + 7*n) - q^(29 + 7*n) - q^(30 + 7*n) - q^(24 + 8*n) - 2*q^(25 + 8*n) - 3*q^(26 + 8*n) - 2*q^(27 + 8*n) - 3*q^(28 + 8*n) - \n",
    "     q^(29 + 8*n) + 2*q^(31 + 8*n) + 2*q^(32 + 8*n) + q^(33 + 8*n) + q^(27 + 9*n) + 3*q^(28 + 9*n) + 4*q^(29 + 9*n) + 4*q^(30 + 9*n) + \n",
    "     2*q^(31 + 9*n) + q^(32 + 9*n) - 2*q^(33 + 9*n) - 2*q^(34 + 9*n) - 4*q^(35 + 9*n) - 2*q^(36 + 9*n) - q^(37 + 9*n) - q^(31 + 10*n) - \n",
    "     q^(32 + 10*n) - q^(33 + 10*n) + q^(34 + 10*n) + 2*q^(35 + 10*n) + 3*q^(36 + 10*n) + 3*q^(37 + 10*n) + 2*q^(38 + 10*n) + q^(39 + 10*n) + \n",
    "     q^(35 + 11*n) - 2*q^(38 + 11*n) - 2*q^(39 + 11*n) - 3*q^(40 + 11*n) - 2*q^(41 + 11*n) - q^(42 + 11*n) + q^(39 + 12*n) + 2*q^(40 + 12*n) + \n",
    "     3*q^(41 + 12*n) + 3*q^(42 + 12*n) + 2*q^(43 + 12*n) + q^(44 + 12*n) - q^(43 + 13*n) - q^(44 + 13*n) - q^(45 + 13*n) + q^(47 + 14*n) + \n",
    "     q^(48 + 14*n) + q^(49 + 14*n)), \n",
    "   (q^(10 + 2*n) + q^(12 + 3*n) - q^(12 + 4*n) - 2*q^(13 + 4*n) - 4*q^(14 + 4*n) - 5*q^(15 + 4*n) - 5*q^(16 + 4*n) - 2*q^(17 + 4*n) - # f(n+3)\n",
    "     q^(18 + 4*n) + q^(15 + 5*n) + 2*q^(16 + 5*n) + 4*q^(17 + 5*n) + 5*q^(18 + 5*n) + 6*q^(19 + 5*n) + 5*q^(20 + 5*n) + 3*q^(21 + 5*n) + \n",
    "     q^(22 + 5*n) - q^(18 + 6*n) - 4*q^(19 + 6*n) - 6*q^(20 + 6*n) - 8*q^(21 + 6*n) - 7*q^(22 + 6*n) - 7*q^(23 + 6*n) - 4*q^(24 + 6*n) - \n",
    "     2*q^(25 + 6*n) + q^(22 + 7*n) + 2*q^(23 + 7*n) + 2*q^(24 + 7*n) + q^(25 + 7*n) - q^(28 + 7*n) + q^(25 + 8*n) + q^(26 + 8*n) + \n",
    "     2*q^(27 + 8*n) + 2*q^(28 + 8*n) + 3*q^(29 + 8*n) + 3*q^(30 + 8*n) + 3*q^(31 + 8*n) + 2*q^(32 + 8*n) - q^(28 + 9*n) - 3*q^(29 + 9*n) - \n",
    "     5*q^(30 + 9*n) - 7*q^(31 + 9*n) - 7*q^(32 + 9*n) - 7*q^(33 + 9*n) - 5*q^(34 + 9*n) - 4*q^(35 + 9*n) - q^(36 + 9*n) + q^(32 + 10*n) + \n",
    "     3*q^(33 + 10*n) + 5*q^(34 + 10*n) + 6*q^(35 + 10*n) + 4*q^(36 + 10*n) + 3*q^(37 + 10*n) + q^(38 + 10*n) + q^(39 + 10*n) - q^(36 + 11*n) - \n",
    "     2*q^(37 + 11*n) - 3*q^(38 + 11*n) - 2*q^(39 + 11*n) - q^(40 + 11*n) - q^(41 + 12*n) - q^(42 + 12*n) - 2*q^(43 + 12*n) - q^(44 + 12*n) - \n",
    "     q^(45 + 12*n) + q^(44 + 13*n) + 2*q^(45 + 13*n) + 2*q^(46 + 13*n) + q^(47 + 13*n) - q^(48 + 14*n) - q^(49 + 14*n) - q^(50 + 14*n)),\n",
    "    (-1 + q^(2 + n) + 2*q^(3 + n) + 2*q^(4 + n) - q^(5 + 2*n) - 2*q^(6 + 2*n) - 3*q^(7 + 2*n) - q^(8 + 2*n) + q^(7 + 3*n) + q^(8 + 3*n) + # f(n+4)\n",
    "     2*q^(9 + 3*n) + q^(10 + 3*n) + q^(11 + 3*n) - q^(13 + 5*n) - q^(14 + 5*n) - 2*q^(15 + 5*n) - q^(16 + 5*n) - q^(17 + 5*n) + q^(16 + 6*n) + \n",
    "     2*q^(17 + 6*n) + 2*q^(18 + 6*n) + q^(19 + 6*n) - q^(20 + 7*n) - q^(21 + 7*n) - q^(22 + 7*n))\n",
    "]"
   ]
  },
  {
   "cell_type": "code",
   "execution_count": 17,
   "id": "73ccab04-298e-4a9c-bda9-a53775c94bdc",
   "metadata": {
    "vscode": {
     "languageId": "python"
    }
   },
   "outputs": [],
   "source": [
    "def coeff_to_operator(coeff, dest_q, dest_Q):\n",
    "    import re\n",
    "    opers = coeff.factor().operands()\n",
    "    if len(opers) == 2:\n",
    "        big, small = opers\n",
    "        extra = 1\n",
    "    else:\n",
    "        big, small, extra = opers\n",
    "    string_big = str(big.simplify_full())\n",
    "    string_small = str(small.simplify_full())\n",
    "    regs = [(r\"q\\^\\((\\d*)\\*n\\)\", r\"Q^(\\1)\"),\n",
    "            (r\"q\\^\\((\\d*)\\*n \\+ (\\d*)\\)\", r\"q^(\\2)*Q^(\\1)\"),\n",
    "            (r\"q\\^\\(n \\+ (\\d*)\\)\", r\"q^(\\1)*Q^(1)\"),\n",
    "            (r\"q\\^n\", r\"Q^(1)\"),\n",
    "            (r\"\\^\", r\"**\")]\n",
    "    def apply_regs(regs, string):\n",
    "        for reg in regs:\n",
    "            string = re.sub(*reg, string)\n",
    "        return string\n",
    "    \n",
    "    q = dest_q; Q = dest_Q\n",
    "    return dest_Q.parent()(extra)*eval(apply_regs(regs, string_big)) * eval(apply_regs(regs, string_small))"
   ]
  },
  {
   "cell_type": "code",
   "execution_count": 15,
   "id": "a4dc5241",
   "metadata": {
    "vscode": {
     "languageId": "python"
    }
   },
   "outputs": [],
   "source": [
    "coeffs = [\n",
    "    -q^(3*n)*(1 + q^n)*(-q + q^n)*(-q^3 + q^(2*n))*(1 - q^n + q^(2*n)), # f(n-2)\n",
    "    -q^(2 + 2*n)*(q^2 + q^(3*n) - q^(5*n) + q^(6*n) + q^(2 + n) + q^(3 + n) - q^(1 + 2*n) - q^(2 + 2*n) + q^(1 + 3*n) + q^(1 + 4*n) +  q^(2 + 4*n) - q^(1 + 5*n)), # f(n-1)\n",
    "    q^2*(q^2 + q^(2*n) - q^(1 + n)) #f(n)\n",
    "]"
   ]
  },
  {
   "cell_type": "code",
   "execution_count": 12,
   "id": "ff36b084-4f83-4278-a7cc-86c2660c306f",
   "metadata": {
    "vscode": {
     "languageId": "python"
    }
   },
   "outputs": [
    {
     "data": {
      "text/html": [
       "<html>\\(\\displaystyle q^{4} - q^{3} Q + \\left(-q^{4} + q^{2}\\right) Q^{2} + \\left(-q^{5} - q^{4}\\right) Q^{3} + \\left(q^{4} + q^{3}\\right) Q^{4} + \\left(-q^{3} - q^{2}\\right) Q^{5} - q^{5} Q^{3}\\mathit{Si}^{2} + \\left(-q^{4} - q^{3}\\right) Q^{6} + q^{5} Q^{4}\\mathit{Si}^{2} + \\left(q^{3} + q^{2}\\right) Q^{7} + \\left(-q^{5} + q^{3} + q^{2}\\right) Q^{5}\\mathit{Si}^{2} - q^{2} Q^{8} + \\left(-q^{3} - q^{2}\\right) Q^{6}\\mathit{Si}^{2} + \\left(q^{3} + q^{2} - 1\\right) Q^{7}\\mathit{Si}^{2} + Q^{8}\\mathit{Si}^{2} - Q^{9}\\mathit{Si}^{2}\\)</html>"
      ],
      "text/latex": [
       "$\\displaystyle q^{4} - q^{3} Q + \\left(-q^{4} + q^{2}\\right) Q^{2} + \\left(-q^{5} - q^{4}\\right) Q^{3} + \\left(q^{4} + q^{3}\\right) Q^{4} + \\left(-q^{3} - q^{2}\\right) Q^{5} - q^{5} Q^{3}\\mathit{Si}^{2} + \\left(-q^{4} - q^{3}\\right) Q^{6} + q^{5} Q^{4}\\mathit{Si}^{2} + \\left(q^{3} + q^{2}\\right) Q^{7} + \\left(-q^{5} + q^{3} + q^{2}\\right) Q^{5}\\mathit{Si}^{2} - q^{2} Q^{8} + \\left(-q^{3} - q^{2}\\right) Q^{6}\\mathit{Si}^{2} + \\left(q^{3} + q^{2} - 1\\right) Q^{7}\\mathit{Si}^{2} + Q^{8}\\mathit{Si}^{2} - Q^{9}\\mathit{Si}^{2}$"
      ],
      "text/plain": [
       "q^4 - q^3*Q + (-q^4+q^2)*Q^2 + (-q^5-q^4)*Q^3 + (q^4+q^3)*Q^4 + (-q^3-q^2)*Q^5 - q^5*Q^3*Si^2 + (-q^4-q^3)*Q^6 + q^5*Q^4*Si^2 + (q^3+q^2)*Q^7 + (-q^5+q^3+q^2)*Q^5*Si^2 - q^2*Q^8 + (-q^3-q^2)*Q^6*Si^2 + (q^3+q^2-1)*Q^7*Si^2 + Q^8*Si^2 - Q^9*Si^2"
      ]
     },
     "execution_count": 12,
     "metadata": {},
     "output_type": "execute_result"
    }
   ],
   "source": [
    "L"
   ]
  },
  {
   "cell_type": "markdown",
   "id": "2c3fbdbb",
   "metadata": {},
   "source": [
    "Second (and smaller example):"
   ]
  },
  {
   "cell_type": "code",
   "execution_count": 37,
   "id": "dedc1e9a",
   "metadata": {
    "vscode": {
     "languageId": "python"
    }
   },
   "outputs": [],
   "source": [
    "coeffs2 = [\n",
    "    q^(3*n + 6)*(1 - q^(1 + n))*(q + q^(3*n + 6) - q^(3 + n)),\n",
    "    q^(-3 + n)*(-q^7 + q^(8*n + 16) + q^(8 + n) + q^(9 + n) + q^(8 + 2*n) +\n",
    "        q^(9 + 2*n) - q^(9 + 3*n) - 2*q^(10 + 3*n) - 2*q^(11 + 3*n) - \n",
    "        q^(12 + 3*n) + q^(11 + 4*n) + q^(12 + 4*n) + q^(13 + 4*n) + \n",
    "        q^(11 + 5*n) + q^(12 + 5*n) + q^(13 + 5*n) + q^(14 + 5*n) - \n",
    "        q^(13 + 6*n) - q^(14 + 6*n) - q^(15 + 6*n)),\n",
    "    -(q^4 + q^(3*(n+2)) - q^(5 + n))    \n",
    "]"
   ]
  },
  {
   "cell_type": "code",
   "execution_count": 38,
   "id": "aacfc60a",
   "metadata": {
    "vscode": {
     "languageId": "python"
    }
   },
   "outputs": [
    {
     "ename": "ValueError",
     "evalue": "too many values to unpack (expected 3)",
     "output_type": "error",
     "traceback": [
      "\u001b[0;31m---------------------------------------------------------------------------\u001b[0m",
      "\u001b[0;31mValueError\u001b[0m                                Traceback (most recent call last)",
      "Input \u001b[0;32mIn [38]\u001b[0m, in \u001b[0;36m<cell line: 1>\u001b[0;34m()\u001b[0m\n\u001b[0;32m----> 1\u001b[0m LL \u001b[38;5;241m=\u001b[39m \u001b[38;5;28msum\u001b[39m([coeff_to_operator(coeffs2[i], A(q), A(Q))\u001b[38;5;241m*\u001b[39mS\u001b[38;5;241m*\u001b[39m\u001b[38;5;241m*\u001b[39mi \u001b[38;5;28;01mfor\u001b[39;00m i \u001b[38;5;129;01min\u001b[39;00m \u001b[38;5;28mrange\u001b[39m(\u001b[38;5;28mlen\u001b[39m(coeffs2))])\n",
      "Input \u001b[0;32mIn [38]\u001b[0m, in \u001b[0;36m<listcomp>\u001b[0;34m(.0)\u001b[0m\n\u001b[0;32m----> 1\u001b[0m LL \u001b[38;5;241m=\u001b[39m \u001b[38;5;28msum\u001b[39m([\u001b[43mcoeff_to_operator\u001b[49m\u001b[43m(\u001b[49m\u001b[43mcoeffs2\u001b[49m\u001b[43m[\u001b[49m\u001b[43mi\u001b[49m\u001b[43m]\u001b[49m\u001b[43m,\u001b[49m\u001b[43m \u001b[49m\u001b[43mA\u001b[49m\u001b[43m(\u001b[49m\u001b[43mq\u001b[49m\u001b[43m)\u001b[49m\u001b[43m,\u001b[49m\u001b[43m \u001b[49m\u001b[43mA\u001b[49m\u001b[43m(\u001b[49m\u001b[43mQ\u001b[49m\u001b[43m)\u001b[49m\u001b[43m)\u001b[49m\u001b[38;5;241m*\u001b[39mS\u001b[38;5;241m*\u001b[39m\u001b[38;5;241m*\u001b[39mi \u001b[38;5;28;01mfor\u001b[39;00m i \u001b[38;5;129;01min\u001b[39;00m \u001b[38;5;28mrange\u001b[39m(\u001b[38;5;28mlen\u001b[39m(coeffs2))])\n",
      "Input \u001b[0;32mIn [31]\u001b[0m, in \u001b[0;36mcoeff_to_operator\u001b[0;34m(coeff, dest_q, dest_Q)\u001b[0m\n\u001b[1;32m      6\u001b[0m     extra \u001b[38;5;241m=\u001b[39m Integer(\u001b[38;5;241m1\u001b[39m)\n\u001b[1;32m      7\u001b[0m \u001b[38;5;28;01melse\u001b[39;00m:\n\u001b[0;32m----> 8\u001b[0m     big, small, extra \u001b[38;5;241m=\u001b[39m opers\n\u001b[1;32m      9\u001b[0m string_big \u001b[38;5;241m=\u001b[39m \u001b[38;5;28mstr\u001b[39m(big\u001b[38;5;241m.\u001b[39msimplify_full())\n\u001b[1;32m     10\u001b[0m string_small \u001b[38;5;241m=\u001b[39m \u001b[38;5;28mstr\u001b[39m(small\u001b[38;5;241m.\u001b[39msimplify_full())\n",
      "\u001b[0;31mValueError\u001b[0m: too many values to unpack (expected 3)"
     ]
    }
   ],
   "source": [
    "LL = sum([coeff_to_operator(coeffs2[i], A(q), A(Q))*S^i for i in range(len(coeffs2))]);"
   ]
  },
  {
   "cell_type": "markdown",
   "id": "1d0e7405-bc9f-4211-8ef2-d8a184de8d11",
   "metadata": {
    "jp-MarkdownHeadingCollapsed": true,
    "tags": []
   },
   "source": [
    "## **Symmetric Q-Binomials**"
   ]
  },
  {
   "cell_type": "markdown",
   "id": "5cb2695a-803d-4bd6-bfb8-22017baa5ac1",
   "metadata": {},
   "source": [
    "We want to study the different type of $q$-binomial basis like:\n",
    "$$\\qbinom{2n}{n+k}$$"
   ]
  },
  {
   "cell_type": "code",
   "execution_count": 3,
   "id": "600c20b3-e246-499d-8bd0-183da0b1c8e8",
   "metadata": {},
   "outputs": [],
   "source": [
    "B = LambdaSequence(lambda k,n : gaussian_binomial(n, k, q), q.parent(), 2)\n",
    "B2 = LambdaSequence(lambda k,n : gaussian_binomial(2*n, k, q), q.parent(), 2)\n",
    "SB = LambdaSequence(lambda k,n : gaussian_binomial(2*n, n+k, q), q.parent(), 2)\n",
    "Qn = LambdaSequence(lambda k,n : q**n, q.parent(), 2)\n",
    "Qk = LambdaSequence(lambda k,n : q**k, q.parent(), 2)\n",
    "Qnk = LambdaSequence(lambda k,n : q**(n+k), q.parent(), 2)"
   ]
  },
  {
   "cell_type": "markdown",
   "id": "9a0618c6-f07e-40fb-ad48-8ffbfe5c9c64",
   "metadata": {},
   "source": [
    "Getting the recurrence (not full comaptibility) of the symmetric $q$-binomial with the **multiplication by $q^{2n}$**. This is obtained by applying a substitution $K = n+k$, applying knowledge on $\\binom{2n}{K}$ and rolling back the changes:\n",
    "$$q^{2n}\\qbinom{2n}{n+k} = q^{n+k}(q^{n+k+1} - 1) \\qbinom{2n}{n+k+1} + q^{n+k}\\qbinom{2n}{n+k}$$\n",
    "$$q^{2n}\\qbinom{2n}{K} = q^{K}(q^{K+1} - 1) \\qbinom{2n}{K+1} + q^{K}\\qbinom{2n}{K}$$"
   ]
  },
  {
   "cell_type": "markdown",
   "id": "5c2f6566-5203-426a-9c97-1c728d43c3b6",
   "metadata": {},
   "source": [
    "$$a_n = \\sum_k c_{n-K}\\qbinom{2n}{K}$$"
   ]
  },
  {
   "cell_type": "markdown",
   "id": "f4f9fb05-997f-45c3-beeb-42d0c379e768",
   "metadata": {},
   "source": [
    "$$S(n) = n, S(K) = k+1$$"
   ]
  },
  {
   "cell_type": "code",
   "execution_count": 4,
   "id": "9cbe2924-2cfc-40b3-9a80-e30718179752",
   "metadata": {},
   "outputs": [
    {
     "data": {
      "text/html": [
       "<html>\\(\\displaystyle \\left(\\begin{array}{rrrrr}\n",
       "0 & 0 & 0 & 0 & 0 \\\\\n",
       "0 & 0 & 0 & 0 & 0 \\\\\n",
       "0 & 0 & 0 & 0 & 0 \\\\\n",
       "0 & 0 & 0 & 0 & 0 \\\\\n",
       "0 & 0 & 0 & 0 & 0\n",
       "\\end{array}\\right)\\)</html>"
      ],
      "text/latex": [
       "$\\displaystyle \\left(\\begin{array}{rrrrr}\n",
       "0 & 0 & 0 & 0 & 0 \\\\\n",
       "0 & 0 & 0 & 0 & 0 \\\\\n",
       "0 & 0 & 0 & 0 & 0 \\\\\n",
       "0 & 0 & 0 & 0 & 0 \\\\\n",
       "0 & 0 & 0 & 0 & 0\n",
       "\\end{array}\\right)$"
      ],
      "text/plain": [
       "[0 0 0 0 0]\n",
       "[0 0 0 0 0]\n",
       "[0 0 0 0 0]\n",
       "[0 0 0 0 0]\n",
       "[0 0 0 0 0]"
      ]
     },
     "execution_count": 4,
     "metadata": {},
     "output_type": "execute_result"
    }
   ],
   "source": [
    "get_matrix(Qn*Qn*SB - Qn*Qk*(q*Qn*Qk - 1)*SB.shift(1,0) - Qn*Qk*SB)"
   ]
  },
  {
   "cell_type": "markdown",
   "id": "4a9a2cf1-8c9f-4aec-9abd-b0961fecd950",
   "metadata": {},
   "source": [
    "From this formula we can also obtain an identity for the multiplication by $q^n$:\n",
    "$$q^{n}\\qbinom{2n}{n+k} = q^{k}(q^{n+k+1} - 1) \\qbinom{2n}{n+k+1} + q^{k}\\qbinom{2n}{n+k}$$"
   ]
  },
  {
   "cell_type": "code",
   "execution_count": 5,
   "id": "0a5d6cc5-e094-45a5-a0cc-918087e15e4f",
   "metadata": {},
   "outputs": [
    {
     "data": {
      "text/html": [
       "<html>\\(\\displaystyle \\left(\\begin{array}{rrrrr}\n",
       "0 & 0 & 0 & 0 & 0 \\\\\n",
       "0 & 0 & 0 & 0 & 0 \\\\\n",
       "0 & 0 & 0 & 0 & 0 \\\\\n",
       "0 & 0 & 0 & 0 & 0 \\\\\n",
       "0 & 0 & 0 & 0 & 0\n",
       "\\end{array}\\right)\\)</html>"
      ],
      "text/latex": [
       "$\\displaystyle \\left(\\begin{array}{rrrrr}\n",
       "0 & 0 & 0 & 0 & 0 \\\\\n",
       "0 & 0 & 0 & 0 & 0 \\\\\n",
       "0 & 0 & 0 & 0 & 0 \\\\\n",
       "0 & 0 & 0 & 0 & 0 \\\\\n",
       "0 & 0 & 0 & 0 & 0\n",
       "\\end{array}\\right)$"
      ],
      "text/plain": [
       "[0 0 0 0 0]\n",
       "[0 0 0 0 0]\n",
       "[0 0 0 0 0]\n",
       "[0 0 0 0 0]\n",
       "[0 0 0 0 0]"
      ]
     },
     "execution_count": 5,
     "metadata": {},
     "output_type": "execute_result"
    }
   ],
   "source": [
    "get_matrix(Qn*SB - Qk*(q*Qn*Qk - 1)*SB.shift(1,0) - Qk*SB)"
   ]
  },
  {
   "cell_type": "markdown",
   "id": "0a432207-d4de-407a-b540-9bb9b5cd074d",
   "metadata": {},
   "source": [
    "Finally, we can obtain the same type of identity for the **shift w.r.t. $n$**:\n",
    "$$\\qbinom{2n+2}{n+k+1} = q^{2(n+k+1)}\\qbinom{2n}{n+k+1} + q^{n+k}(1+q)\\qbinom{2n}{n+k} +\\qbinom{2n}{n+k-1}$$"
   ]
  },
  {
   "cell_type": "code",
   "execution_count": 6,
   "id": "a918ad1b-6be2-47de-a972-f84df5e8fd7e",
   "metadata": {},
   "outputs": [
    {
     "data": {
      "text/html": [
       "<html>\\(\\displaystyle \\left(\\begin{array}{rrrrr}\n",
       "0 & 0 & 0 & 0 & 0 \\\\\n",
       "0 & 0 & 0 & 0 & 0 \\\\\n",
       "0 & 0 & 0 & 0 & 0 \\\\\n",
       "0 & 0 & 0 & 0 & 0 \\\\\n",
       "0 & 0 & 0 & 0 & 0\n",
       "\\end{array}\\right)\\)</html>"
      ],
      "text/latex": [
       "$\\displaystyle \\left(\\begin{array}{rrrrr}\n",
       "0 & 0 & 0 & 0 & 0 \\\\\n",
       "0 & 0 & 0 & 0 & 0 \\\\\n",
       "0 & 0 & 0 & 0 & 0 \\\\\n",
       "0 & 0 & 0 & 0 & 0 \\\\\n",
       "0 & 0 & 0 & 0 & 0\n",
       "\\end{array}\\right)$"
      ],
      "text/plain": [
       "[0 0 0 0 0]\n",
       "[0 0 0 0 0]\n",
       "[0 0 0 0 0]\n",
       "[0 0 0 0 0]\n",
       "[0 0 0 0 0]"
      ]
     },
     "execution_count": 6,
     "metadata": {},
     "output_type": "execute_result"
    }
   ],
   "source": [
    "get_matrix(SB.shift(0,1) - Qn*Qn*Qk*Qk*q^2*SB.shift(1,0) - Qn*Qk*(1+q)*SB - SB.shift(-1,0))"
   ]
  },
  {
   "cell_type": "markdown",
   "id": "f4085689-70e4-4631-b843-3d46ceb53ec6",
   "metadata": {},
   "source": [
    "All these identities have the same flaw: they make use of $q^n$. In particular, the first and the third can be written in terms of $q^{n+k}$. Maybe there is something to graps there."
   ]
  },
  {
   "cell_type": "markdown",
   "id": "5e4b9e09-e8f8-423f-99a1-ff1045b4e8f9",
   "metadata": {},
   "source": [
    "### Trying to exploit the recursion on the shift in $n$"
   ]
  },
  {
   "cell_type": "markdown",
   "id": "e0c62c61-f662-4c0e-ab22-742b3f97a942",
   "metadata": {},
   "source": [
    "When we consider the shift w.r.t. $n$, we used the usual recurrence to reduce the top argument of the $q$-binomial. However, there is a symmetric identity in place here:\n",
    "$$\\qbinom{m}{r} = q^m\\qbinom{m-1}{r} + \\qbinom{m-1}{r-1} = \\qbinom{m-1}{r} + q^{m-r}\\qbinom{m-1}{r-1}.$$"
   ]
  },
  {
   "cell_type": "code",
   "execution_count": 17,
   "id": "6e2c2dfe-2b20-4ee5-8c27-3ca2aeaae78a",
   "metadata": {},
   "outputs": [
    {
     "data": {
      "text/html": [
       "<html>\\(\\displaystyle \\left(\\begin{array}{rrrrr}\n",
       "0 & 0 & 0 & 0 & 0 \\\\\n",
       "0 & 0 & 0 & 0 & 0 \\\\\n",
       "0 & 0 & 0 & 0 & 0 \\\\\n",
       "0 & 0 & 0 & 0 & 0 \\\\\n",
       "0 & 0 & 0 & 0 & 0\n",
       "\\end{array}\\right)\\)</html>"
      ],
      "text/latex": [
       "$\\displaystyle \\left(\\begin{array}{rrrrr}\n",
       "0 & 0 & 0 & 0 & 0 \\\\\n",
       "0 & 0 & 0 & 0 & 0 \\\\\n",
       "0 & 0 & 0 & 0 & 0 \\\\\n",
       "0 & 0 & 0 & 0 & 0 \\\\\n",
       "0 & 0 & 0 & 0 & 0\n",
       "\\end{array}\\right)$"
      ],
      "text/plain": [
       "[0 0 0 0 0]\n",
       "[0 0 0 0 0]\n",
       "[0 0 0 0 0]\n",
       "[0 0 0 0 0]\n",
       "[0 0 0 0 0]"
      ]
     },
     "execution_count": 17,
     "metadata": {},
     "output_type": "execute_result"
    }
   ],
   "source": [
    "# Second identity\n",
    "get_matrix(B.shift(0,1) - B - q*Qn/Qk*B.shift(-1,0))"
   ]
  },
  {
   "cell_type": "markdown",
   "id": "71d3468b-ea85-476f-84bf-2d0e33c231a5",
   "metadata": {},
   "source": [
    "In general, we were not using the secon identity because it mixed up the upper and lower arguments of the $q$-binomial. But now we already have them mixed up anyway. Hence, it is worth to see how we can use both identities. This will lead up to a total of 8 options:\n",
    "\n",
    "* [1] -> (1,1), (1,2), (2,1), (2,2)\n",
    "* [2] -> (1,1), (1,2), (2,1), (2,2)\n",
    "\n",
    "Let us check how the final compatibility equation remains and if we can extract some information from them:"
   ]
  },
  {
   "cell_type": "markdown",
   "id": "10364352-5bd0-4d32-a3d3-b71babacc26f",
   "metadata": {
    "tags": []
   },
   "source": [
    "#### Starting with first identity"
   ]
  },
  {
   "cell_type": "markdown",
   "id": "51e9f9ed-8e9d-49a2-a9e8-f6a3bdb26926",
   "metadata": {},
   "source": [
    "$$\\binom{2n+2}{n+k+1} = q^{n+k+1}\\qbinom{2n+1}{n+k+1} + \\qbinom{2n+1}{n+k}.$$\n",
    "\n",
    "Now for each of the involved binomials, we have two options to reduce the upper argumetn one more time, to fall again into our basis:\n",
    "\n",
    "* (1,1):\n",
    "$$\\qbinom{2n+2}{n+k+1} = q^{2(n+k+1)}\\qbinom{2n}{n+k+1} + q^{n+k}(q + 1)\\qbinom{2n}{n+k} + \\qbinom{2n}{n+k-1}.$$"
   ]
  },
  {
   "cell_type": "code",
   "execution_count": 9,
   "id": "8898d68e-dfa3-42c9-9337-17b8e551acc7",
   "metadata": {},
   "outputs": [
    {
     "data": {
      "text/html": [
       "<html>\\(\\displaystyle \\left(\\begin{array}{rrrrr}\n",
       "0 & 0 & 0 & 0 & 0 \\\\\n",
       "0 & 0 & 0 & 0 & 0 \\\\\n",
       "0 & 0 & 0 & 0 & 0 \\\\\n",
       "0 & 0 & 0 & 0 & 0 \\\\\n",
       "0 & 0 & 0 & 0 & 0\n",
       "\\end{array}\\right)\\)</html>"
      ],
      "text/latex": [
       "$\\displaystyle \\left(\\begin{array}{rrrrr}\n",
       "0 & 0 & 0 & 0 & 0 \\\\\n",
       "0 & 0 & 0 & 0 & 0 \\\\\n",
       "0 & 0 & 0 & 0 & 0 \\\\\n",
       "0 & 0 & 0 & 0 & 0 \\\\\n",
       "0 & 0 & 0 & 0 & 0\n",
       "\\end{array}\\right)$"
      ],
      "text/plain": [
       "[0 0 0 0 0]\n",
       "[0 0 0 0 0]\n",
       "[0 0 0 0 0]\n",
       "[0 0 0 0 0]\n",
       "[0 0 0 0 0]"
      ]
     },
     "execution_count": 9,
     "metadata": {},
     "output_type": "execute_result"
    }
   ],
   "source": [
    "get_matrix(SB.shift(0,1) - q^2*Qn*Qn*Qk*Qk*SB.shift(1,0) - Qn*Qk*(1+q)*SB - SB.shift(-1,0))"
   ]
  },
  {
   "cell_type": "markdown",
   "id": "2ca9ad83-fa84-4af3-8079-619d6d0a865c",
   "metadata": {},
   "source": [
    "* (1,2):\n",
    "$$\\binom{2n+2}{n+k+1} = q^{2(n+k+1)}\\qbinom{2n}{n+k+1} + (q^{n+k+1} + 1)\\qbinom{2n}{n+k} + q^{n-k+1}\\qbinom{2n}{n+k-1}.$$"
   ]
  },
  {
   "cell_type": "code",
   "execution_count": 18,
   "id": "23d1c2f7-8060-48b9-bccc-2bf7c06953d4",
   "metadata": {},
   "outputs": [
    {
     "data": {
      "text/html": [
       "<html>\\(\\displaystyle \\left(\\begin{array}{rrrrr}\n",
       "0 & 0 & 0 & 0 & 0 \\\\\n",
       "0 & 0 & 0 & 0 & 0 \\\\\n",
       "0 & 0 & 0 & 0 & 0 \\\\\n",
       "0 & 0 & 0 & 0 & 0 \\\\\n",
       "0 & 0 & 0 & 0 & 0\n",
       "\\end{array}\\right)\\)</html>"
      ],
      "text/latex": [
       "$\\displaystyle \\left(\\begin{array}{rrrrr}\n",
       "0 & 0 & 0 & 0 & 0 \\\\\n",
       "0 & 0 & 0 & 0 & 0 \\\\\n",
       "0 & 0 & 0 & 0 & 0 \\\\\n",
       "0 & 0 & 0 & 0 & 0 \\\\\n",
       "0 & 0 & 0 & 0 & 0\n",
       "\\end{array}\\right)$"
      ],
      "text/plain": [
       "[0 0 0 0 0]\n",
       "[0 0 0 0 0]\n",
       "[0 0 0 0 0]\n",
       "[0 0 0 0 0]\n",
       "[0 0 0 0 0]"
      ]
     },
     "execution_count": 18,
     "metadata": {},
     "output_type": "execute_result"
    }
   ],
   "source": [
    "get_matrix(SB.shift(0,1) - q^2*Qn*Qn*Qk*Qk*SB.shift(1,0) - (Qn*Qk*q + 1)*SB - Qn/Qk*q*SB.shift(-1,0))"
   ]
  },
  {
   "cell_type": "markdown",
   "id": "d8306b9c-cd94-44f2-b8e1-7ad118c7ada4",
   "metadata": {},
   "source": [
    "* (2,1):\n",
    "$$\\binom{2n+2}{n+k+1} = q^{n+k+1}\\qbinom{2n}{n+k+1} + q^n(q^{n+1} + q^k)\\qbinom{2n}{n+k} + \\qbinom{2n}{n+k-1}.$$"
   ]
  },
  {
   "cell_type": "code",
   "execution_count": 21,
   "id": "2427164c-cc1f-4626-9f9e-93fcc756d976",
   "metadata": {},
   "outputs": [
    {
     "data": {
      "text/html": [
       "<html>\\(\\displaystyle \\left(\\begin{array}{rrrrr}\n",
       "0 & 0 & 0 & 0 & 0 \\\\\n",
       "0 & 0 & 0 & 0 & 0 \\\\\n",
       "0 & 0 & 0 & 0 & 0 \\\\\n",
       "0 & 0 & 0 & 0 & 0 \\\\\n",
       "0 & 0 & 0 & 0 & 0\n",
       "\\end{array}\\right)\\)</html>"
      ],
      "text/latex": [
       "$\\displaystyle \\left(\\begin{array}{rrrrr}\n",
       "0 & 0 & 0 & 0 & 0 \\\\\n",
       "0 & 0 & 0 & 0 & 0 \\\\\n",
       "0 & 0 & 0 & 0 & 0 \\\\\n",
       "0 & 0 & 0 & 0 & 0 \\\\\n",
       "0 & 0 & 0 & 0 & 0\n",
       "\\end{array}\\right)$"
      ],
      "text/plain": [
       "[0 0 0 0 0]\n",
       "[0 0 0 0 0]\n",
       "[0 0 0 0 0]\n",
       "[0 0 0 0 0]\n",
       "[0 0 0 0 0]"
      ]
     },
     "execution_count": 21,
     "metadata": {},
     "output_type": "execute_result"
    }
   ],
   "source": [
    "get_matrix(SB.shift(0,1) - Qn*Qk*q*SB.shift(1,0) - Qn*(Qn*q + Qk)*SB - SB.shift(-1,0))"
   ]
  },
  {
   "cell_type": "markdown",
   "id": "75090624-6e5f-4b3b-9ab7-50538d0cb194",
   "metadata": {},
   "source": [
    "* (2,2):\n",
    "$$\\binom{2n+2}{n+k+1} = q^{n+k+1}\\qbinom{2n}{n+k+1} + (q^{2n+1}+1)\\qbinom{2n}{n+k} + q^{n-k+1}\\qbinom{2n}{n+k-1}.$$"
   ]
  },
  {
   "cell_type": "code",
   "execution_count": 22,
   "id": "5524f25e-524d-4010-8654-5cde9f36ee35",
   "metadata": {},
   "outputs": [
    {
     "data": {
      "text/html": [
       "<html>\\(\\displaystyle \\left(\\begin{array}{rrrrr}\n",
       "0 & 0 & 0 & 0 & 0 \\\\\n",
       "0 & 0 & 0 & 0 & 0 \\\\\n",
       "0 & 0 & 0 & 0 & 0 \\\\\n",
       "0 & 0 & 0 & 0 & 0 \\\\\n",
       "0 & 0 & 0 & 0 & 0\n",
       "\\end{array}\\right)\\)</html>"
      ],
      "text/latex": [
       "$\\displaystyle \\left(\\begin{array}{rrrrr}\n",
       "0 & 0 & 0 & 0 & 0 \\\\\n",
       "0 & 0 & 0 & 0 & 0 \\\\\n",
       "0 & 0 & 0 & 0 & 0 \\\\\n",
       "0 & 0 & 0 & 0 & 0 \\\\\n",
       "0 & 0 & 0 & 0 & 0\n",
       "\\end{array}\\right)$"
      ],
      "text/plain": [
       "[0 0 0 0 0]\n",
       "[0 0 0 0 0]\n",
       "[0 0 0 0 0]\n",
       "[0 0 0 0 0]\n",
       "[0 0 0 0 0]"
      ]
     },
     "execution_count": 22,
     "metadata": {},
     "output_type": "execute_result"
    }
   ],
   "source": [
    "get_matrix(SB.shift(0,1) - Qn*Qk*q*SB.shift(1,0) - (Qn*Qn*q + 1)*SB - Qn/Qk*q*SB.shift(-1,0))"
   ]
  },
  {
   "cell_type": "markdown",
   "id": "d47e29e7-2f4e-4bfe-b33e-8e5f8844cf09",
   "metadata": {
    "tags": []
   },
   "source": [
    "#### Starting with second identity"
   ]
  },
  {
   "cell_type": "markdown",
   "id": "7cbcf1dc-85f3-4024-bd43-50326b6c8b46",
   "metadata": {},
   "source": [
    "$$\\binom{2n+2}{n+k+1} = \\qbinom{2n+1}{n+k+1} + q^{n-k+1}\\qbinom{2n+1}{n+k}.$$\n",
    "\n",
    "Now for each of the involved binomials, we have two options to reduce the upper argumetn one more time, to fall again into our basis:\n",
    "\n",
    "* (1,1) --> [1] (2,2):\n",
    "$$\\binom{2n+2}{n+k+1} = q^{n+k+1}\\qbinom{2n}{n+k+1} + (q^{2n+1} + 1)\\qbinom{2n}{n+k} + q^{n-k+1}\\qbinom{2n}{n+k-1}.$$\n",
    "* (1,2):\n",
    "$$\\binom{2n+2}{n+k+1} = q^{n+k+1}\\qbinom{2n}{n+k+1} + (q^{n-k+1} + 1)\\qbinom{2n}{n+k} + q^{2n-2k+2}\\qbinom{2n}{n+k-1}).$$"
   ]
  },
  {
   "cell_type": "code",
   "execution_count": 24,
   "id": "edbe0274-a7c1-4d2f-8f4d-e51c508d7424",
   "metadata": {},
   "outputs": [
    {
     "data": {
      "text/html": [
       "<html>\\(\\displaystyle \\left(\\begin{array}{rrrrr}\n",
       "0 & 0 & 0 & 0 & 0 \\\\\n",
       "0 & 0 & 0 & 0 & 0 \\\\\n",
       "0 & 0 & 0 & 0 & 0 \\\\\n",
       "0 & 0 & 0 & 0 & 0 \\\\\n",
       "0 & 0 & 0 & 0 & 0\n",
       "\\end{array}\\right)\\)</html>"
      ],
      "text/latex": [
       "$\\displaystyle \\left(\\begin{array}{rrrrr}\n",
       "0 & 0 & 0 & 0 & 0 \\\\\n",
       "0 & 0 & 0 & 0 & 0 \\\\\n",
       "0 & 0 & 0 & 0 & 0 \\\\\n",
       "0 & 0 & 0 & 0 & 0 \\\\\n",
       "0 & 0 & 0 & 0 & 0\n",
       "\\end{array}\\right)$"
      ],
      "text/plain": [
       "[0 0 0 0 0]\n",
       "[0 0 0 0 0]\n",
       "[0 0 0 0 0]\n",
       "[0 0 0 0 0]\n",
       "[0 0 0 0 0]"
      ]
     },
     "execution_count": 24,
     "metadata": {},
     "output_type": "execute_result"
    }
   ],
   "source": [
    "get_matrix(SB.shift(0,1) - Qn*Qk*q*SB.shift(1,0) - (Qn/Qk*q +1)*SB - Qn*Qn/Qk/Qk*q^2 * SB.shift(-1,0))"
   ]
  },
  {
   "cell_type": "markdown",
   "id": "2b9876ca-8222-4852-8fdc-ac3837ec5e78",
   "metadata": {},
   "source": [
    "* (2,1):\n",
    "$$\\binom{2n+2}{n+k+1} = \\qbinom{2n}{n+k+1} + q^n(q^{n+1} + q^{-k})\\qbinom{2n}{n+k} + q^{n-k+1}\\qbinom{2n}{n+k-1}.$$"
   ]
  },
  {
   "cell_type": "code",
   "execution_count": 25,
   "id": "5ef30073-7cf3-4564-883f-200cf25f7297",
   "metadata": {},
   "outputs": [
    {
     "data": {
      "text/html": [
       "<html>\\(\\displaystyle \\left(\\begin{array}{rrrrr}\n",
       "0 & 0 & 0 & 0 & 0 \\\\\n",
       "0 & 0 & 0 & 0 & 0 \\\\\n",
       "0 & 0 & 0 & 0 & 0 \\\\\n",
       "0 & 0 & 0 & 0 & 0 \\\\\n",
       "0 & 0 & 0 & 0 & 0\n",
       "\\end{array}\\right)\\)</html>"
      ],
      "text/latex": [
       "$\\displaystyle \\left(\\begin{array}{rrrrr}\n",
       "0 & 0 & 0 & 0 & 0 \\\\\n",
       "0 & 0 & 0 & 0 & 0 \\\\\n",
       "0 & 0 & 0 & 0 & 0 \\\\\n",
       "0 & 0 & 0 & 0 & 0 \\\\\n",
       "0 & 0 & 0 & 0 & 0\n",
       "\\end{array}\\right)$"
      ],
      "text/plain": [
       "[0 0 0 0 0]\n",
       "[0 0 0 0 0]\n",
       "[0 0 0 0 0]\n",
       "[0 0 0 0 0]\n",
       "[0 0 0 0 0]"
      ]
     },
     "execution_count": 25,
     "metadata": {},
     "output_type": "execute_result"
    }
   ],
   "source": [
    "get_matrix(SB.shift(0,1) - SB.shift(1,0) - Qn*(Qn*q + 1/Qk)*SB - Qn/Qk*q * SB.shift(-1,0))"
   ]
  },
  {
   "cell_type": "markdown",
   "id": "faff7a40-2a66-40c1-bded-c80ded03ee90",
   "metadata": {},
   "source": [
    "* (2,2):\n",
    "$$\\binom{2n+2}{n+k+1} = \\qbinom{2n}{n+k+1} + q^{n-k}(1 + q)\\qbinom{2n}{n+k} + q^{2n-2k+2}\\qbinom{2n}{n+k-1}.$$"
   ]
  },
  {
   "cell_type": "code",
   "execution_count": 27,
   "id": "e1821f27-33fc-4011-9f10-6571428a9ce9",
   "metadata": {},
   "outputs": [
    {
     "data": {
      "text/html": [
       "<html>\\(\\displaystyle \\left(\\begin{array}{rrrrr}\n",
       "0 & 0 & 0 & 0 & 0 \\\\\n",
       "0 & 0 & 0 & 0 & 0 \\\\\n",
       "0 & 0 & 0 & 0 & 0 \\\\\n",
       "0 & 0 & 0 & 0 & 0 \\\\\n",
       "0 & 0 & 0 & 0 & 0\n",
       "\\end{array}\\right)\\)</html>"
      ],
      "text/latex": [
       "$\\displaystyle \\left(\\begin{array}{rrrrr}\n",
       "0 & 0 & 0 & 0 & 0 \\\\\n",
       "0 & 0 & 0 & 0 & 0 \\\\\n",
       "0 & 0 & 0 & 0 & 0 \\\\\n",
       "0 & 0 & 0 & 0 & 0 \\\\\n",
       "0 & 0 & 0 & 0 & 0\n",
       "\\end{array}\\right)$"
      ],
      "text/plain": [
       "[0 0 0 0 0]\n",
       "[0 0 0 0 0]\n",
       "[0 0 0 0 0]\n",
       "[0 0 0 0 0]\n",
       "[0 0 0 0 0]"
      ]
     },
     "execution_count": 27,
     "metadata": {},
     "output_type": "execute_result"
    }
   ],
   "source": [
    "get_matrix(SB.shift(0,1) - SB.shift(1,0) - Qn/Qk*(1+q)*SB - Qn*Qn/Qk/Qk*q^2*SB.shift(-1,0))"
   ]
  },
  {
   "cell_type": "markdown",
   "id": "4019e7e9-7cd6-4630-80a3-b623a06eb133",
   "metadata": {},
   "source": [
    "#### Conclusion"
   ]
  },
  {
   "cell_type": "markdown",
   "id": "98dd6b08-53ee-4fcf-8f14-2e2a497bfcef",
   "metadata": {},
   "source": [
    "We obtained a total of 7 different mixed compatibilities (involving both $q^n$ and $q^k$) for the shift in $n$. Hence, every difference is zero and this may provide, if manipulated, a compatibility for the multiplication by $q^n$?"
   ]
  },
  {
   "cell_type": "markdown",
   "id": "0444a730-f6a8-464c-9b1e-3e72e37e6f19",
   "metadata": {
    "tags": []
   },
   "source": [
    "## **New example (30/06/2023)**"
   ]
  },
  {
   "cell_type": "markdown",
   "id": "3d15baa5-0543-4040-a2fb-6d33dd248258",
   "metadata": {},
   "source": [
    "We are going to try and prove the following identity:\n",
    "$$a_n(x) = \\left(\\frac{q}{x};q^2\\right)_n \\left(-xq;q^2\\right) = \\sum_j q^{2j}x^j\\qbinomb{2n}{n+j}{q^2},$$\n",
    "after a small run on the HolonomicFunctions softare in Mathematica, we arrived that the left-hand side satisfies the following recurrence:\n",
    "\n",
    "$$a_{n+1}(x) = \\frac{q^{2n+1}(1+q^{-2n-1}x)(1+q^{2n+1}x)}{x}a_{n}(x)\\text{, with } a_0(x) = 1$$"
   ]
  },
  {
   "cell_type": "code",
   "execution_count": 154,
   "id": "a45d1364-3d85-4533-b528-b7ead4ae76b6",
   "metadata": {},
   "outputs": [],
   "source": [
    "from sage.combinat.q_analogues import q_pochhammer # q_pochhammer(n,a,q) = (a,q)_n\n",
    "\n",
    "base.<x,q> = QQ[]; F = base.fraction_field()\n",
    "an = LambdaSequence(lambda n : q_pochhammer(n, q/x, q^2)*q_pochhammer(n,-x*q,q^2), F, 1)"
   ]
  },
  {
   "cell_type": "markdown",
   "id": "a21960fd-28e5-4d8e-94c4-852a64f59d05",
   "metadata": {
    "tags": []
   },
   "source": [
    "### Trying the direct basis"
   ]
  },
  {
   "cell_type": "markdown",
   "id": "355409e4-cba2-4fc4-8345-9d57ee07a1d6",
   "metadata": {},
   "source": [
    "Let us consider the sequence $B_k(n) = q^{n^2-2nk}\\qbinomb{2n}{k}{q^2}$, and write $a_n = \\sum_k c_k B_k(n)$. Can we find a $k$-recurrence for $c_k$?"
   ]
  },
  {
   "cell_type": "code",
   "execution_count": 3,
   "id": "9b6489c3-923f-4815-9b74-02a2204a5dc0",
   "metadata": {},
   "outputs": [
    {
     "data": {
      "text/html": [
       "<html>\\(\\displaystyle \\left(\\begin{array}{rrrrr}\n",
       "1 & q & q^{4} & q^{9} & q^{16} \\\\\n",
       "0 & \\frac{q^{2} + 1}{q} & q^{6} + q^{4} + q^{2} + 1 & q^{13} + q^{11} + q^{9} + q^{7} + q^{5} + q^{3} & q^{22} + q^{20} + q^{18} + q^{16} + q^{14} + q^{12} + q^{10} + q^{8} \\\\\n",
       "0 & \\frac{1}{q^{3}} & \\frac{q^{8} + q^{6} + 2 q^{4} + q^{2} + 1}{q^{4}} & \\frac{q^{16} + q^{14} + 2 q^{12} + 2 q^{10} + 3 q^{8} + 2 q^{6} + 2 q^{4} + q^{2} + 1}{q^{3}} & q^{24} + q^{22} + 2 q^{20} + 2 q^{18} + 3 q^{16} + 3 q^{14} + 4 q^{12} + 3 q^{10} + 3 q^{8} + 2 q^{6} + 2 q^{4} + q^{2} + 1 \\\\\n",
       "0 & 0 & \\frac{q^{6} + q^{4} + q^{2} + 1}{q^{8}} & \\frac{q^{18} + q^{16} + 2 q^{14} + 3 q^{12} + 3 q^{10} + 3 q^{8} + 3 q^{6} + 2 q^{4} + q^{2} + 1}{q^{9}} & \\frac{q^{30} + q^{28} + 2 q^{26} + 3 q^{24} + 4 q^{22} + 5 q^{20} + 6 q^{18} + 6 q^{16} + 6 q^{14} + 6 q^{12} + 5 q^{10} + 4 q^{8} + 3 q^{6} + 2 q^{4} + q^{2} + 1}{q^{8}} \\\\\n",
       "0 & 0 & \\frac{1}{q^{12}} & \\frac{q^{16} + q^{14} + 2 q^{12} + 2 q^{10} + 3 q^{8} + 2 q^{6} + 2 q^{4} + q^{2} + 1}{q^{15}} & \\frac{q^{32} + q^{30} + 2 q^{28} + 3 q^{26} + 5 q^{24} + 5 q^{22} + 7 q^{20} + 7 q^{18} + 8 q^{16} + 7 q^{14} + 7 q^{12} + 5 q^{10} + 5 q^{8} + 3 q^{6} + 2 q^{4} + q^{2} + 1}{q^{16}}\n",
       "\\end{array}\\right)\\)</html>"
      ],
      "text/latex": [
       "$\\displaystyle \\left(\\begin{array}{rrrrr}\n",
       "1 & q & q^{4} & q^{9} & q^{16} \\\\\n",
       "0 & \\frac{q^{2} + 1}{q} & q^{6} + q^{4} + q^{2} + 1 & q^{13} + q^{11} + q^{9} + q^{7} + q^{5} + q^{3} & q^{22} + q^{20} + q^{18} + q^{16} + q^{14} + q^{12} + q^{10} + q^{8} \\\\\n",
       "0 & \\frac{1}{q^{3}} & \\frac{q^{8} + q^{6} + 2 q^{4} + q^{2} + 1}{q^{4}} & \\frac{q^{16} + q^{14} + 2 q^{12} + 2 q^{10} + 3 q^{8} + 2 q^{6} + 2 q^{4} + q^{2} + 1}{q^{3}} & q^{24} + q^{22} + 2 q^{20} + 2 q^{18} + 3 q^{16} + 3 q^{14} + 4 q^{12} + 3 q^{10} + 3 q^{8} + 2 q^{6} + 2 q^{4} + q^{2} + 1 \\\\\n",
       "0 & 0 & \\frac{q^{6} + q^{4} + q^{2} + 1}{q^{8}} & \\frac{q^{18} + q^{16} + 2 q^{14} + 3 q^{12} + 3 q^{10} + 3 q^{8} + 3 q^{6} + 2 q^{4} + q^{2} + 1}{q^{9}} & \\frac{q^{30} + q^{28} + 2 q^{26} + 3 q^{24} + 4 q^{22} + 5 q^{20} + 6 q^{18} + 6 q^{16} + 6 q^{14} + 6 q^{12} + 5 q^{10} + 4 q^{8} + 3 q^{6} + 2 q^{4} + q^{2} + 1}{q^{8}} \\\\\n",
       "0 & 0 & \\frac{1}{q^{12}} & \\frac{q^{16} + q^{14} + 2 q^{12} + 2 q^{10} + 3 q^{8} + 2 q^{6} + 2 q^{4} + q^{2} + 1}{q^{15}} & \\frac{q^{32} + q^{30} + 2 q^{28} + 3 q^{26} + 5 q^{24} + 5 q^{22} + 7 q^{20} + 7 q^{18} + 8 q^{16} + 7 q^{14} + 7 q^{12} + 5 q^{10} + 5 q^{8} + 3 q^{6} + 2 q^{4} + q^{2} + 1}{q^{16}}\n",
       "\\end{array}\\right)$"
      ],
      "text/plain": [
       "[                                                                                                                                             1                                                                                                                                              q                                                                                                                                            q^4                                                                                                                                            q^9                                                                                                                                           q^16]\n",
       "[                                                                                                                                             0                                                                                                                                    (q^2 + 1)/q                                                                                                                            q^6 + q^4 + q^2 + 1                                                                                                            q^13 + q^11 + q^9 + q^7 + q^5 + q^3                                                                                           q^22 + q^20 + q^18 + q^16 + q^14 + q^12 + q^10 + q^8]\n",
       "[                                                                                                                                             0                                                                                                                                          1/q^3                                                                                                              (q^8 + q^6 + 2*q^4 + q^2 + 1)/q^4                                                                          (q^16 + q^14 + 2*q^12 + 2*q^10 + 3*q^8 + 2*q^6 + 2*q^4 + q^2 + 1)/q^3                                            q^24 + q^22 + 2*q^20 + 2*q^18 + 3*q^16 + 3*q^14 + 4*q^12 + 3*q^10 + 3*q^8 + 2*q^6 + 2*q^4 + q^2 + 1]\n",
       "[                                                                                                                                             0                                                                                                                                              0                                                                                                                      (q^6 + q^4 + q^2 + 1)/q^8                                                                 (q^18 + q^16 + 2*q^14 + 3*q^12 + 3*q^10 + 3*q^8 + 3*q^6 + 2*q^4 + q^2 + 1)/q^9           (q^30 + q^28 + 2*q^26 + 3*q^24 + 4*q^22 + 5*q^20 + 6*q^18 + 6*q^16 + 6*q^14 + 6*q^12 + 5*q^10 + 4*q^8 + 3*q^6 + 2*q^4 + q^2 + 1)/q^8]\n",
       "[                                                                                                                                             0                                                                                                                                              0                                                                                                                                         1/q^12                                                                         (q^16 + q^14 + 2*q^12 + 2*q^10 + 3*q^8 + 2*q^6 + 2*q^4 + q^2 + 1)/q^15 (q^32 + q^30 + 2*q^28 + 3*q^26 + 5*q^24 + 5*q^22 + 7*q^20 + 7*q^18 + 8*q^16 + 7*q^14 + 7*q^12 + 5*q^10 + 5*q^8 + 3*q^6 + 2*q^4 + q^2 + 1)/q^16]"
      ]
     },
     "execution_count": 3,
     "metadata": {},
     "output_type": "execute_result"
    }
   ],
   "source": [
    "\n",
    "B = LambdaSequence(lambda k,n : q**(n**2-2*n*k)*gaussian_binomial(2*n,k,q^2), F, 2)\n",
    "get_matrix(B)"
   ]
  },
  {
   "cell_type": "markdown",
   "id": "4c20bb5e-2f36-41c4-9957-9142089b4d47",
   "metadata": {},
   "source": [
    "In order to compute the recurrence for the $c_k$, we are going to need the compatiblity of $B_k(n)$ with respect to the shift in $n$ and the multiplication by $q^{2n}$ (maybe we need to the compatibility with $q^{-2n}$). "
   ]
  },
  {
   "cell_type": "markdown",
   "id": "abff9485-8962-41af-bc8f-6cbe9331b878",
   "metadata": {},
   "source": [
    "#### Compatibility with $n\\mapsto n+1$"
   ]
  },
  {
   "cell_type": "markdown",
   "id": "49c6173b-3428-4b42-a19d-873444da4068",
   "metadata": {},
   "source": [
    "$$\\begin{array}{rl}\n",
    "    B_k(n+1) & = q^{(n+1)^2-2(n+1)k}\\qbinomb{2n+2}{k}{q^2} = q^{n^2+2n+1-2nk-k}\\qbinomb{2n+2}{k}{q^2} = q^{n^2+2n+1-2nk-k}\\left(q^{4n+4}\\qbinomb{2n+1}{k}{q^2} + \\qbinomb{2n+1}{k-1}{q^2}\\right)\\\\\n",
    "             & = q^{n^2+2n+1-2nk-k}\\left(q^{8n+6}\\qbinomb{2n}{k}{q^2} + q^{4n+2}(1+q^2)\\qbinomb{2n}{k-1}{q^2} + \\qbinomb{2n}{k-2}{q^2}\\right) \\\\\n",
    "             & = q^{10n - k +7}q^{n^2 - 2nk}\\qbinomb{2n}{k}{q^2} + q^{8n+3-k}(1+q^2)q^{n^2-2nk-2n}\\qbinomb{2n}{k-1}{q^2} + q^{6n+1-k}q^{n^2 - 2nk -4n}\\qbinomb{2n}{k-2}{q^2}\\\\\n",
    "             & = q^{6n+1}\\left(q^{4n - k + 6}B_k(n) + q^{2n - k + 2}B_{k-1}(n) + q^{-k} B_{k-2}(n)\\right)\n",
    "\\end{array}$$\n",
    "\n",
    "We need that $q^{2n}$ is compatible with $B_k(n)$."
   ]
  },
  {
   "cell_type": "code",
   "execution_count": null,
   "id": "86bad6a2-ccac-481f-8e09-8b900d0f69d9",
   "metadata": {},
   "outputs": [],
   "source": []
  },
  {
   "cell_type": "markdown",
   "id": "980a8a3e-cd78-47b6-ad73-5cf1b2b703b6",
   "metadata": {},
   "source": [
    "#### Compatibility with $q^{2n}$"
   ]
  },
  {
   "cell_type": "markdown",
   "id": "05616507-fd88-44ad-915b-b7f6d0fc58f2",
   "metadata": {},
   "source": [
    "For this we can use the classical compatibility with the $q$-binomial of the multiplication by $q^n$.\n",
    "$$\\begin{array}{rl}\n",
    "    q^{2n}B_k(n) & = q^{n^2-2nk}q^{2n}\\qbinomb{2n}{k}{q^2} = q^{n^2-2nk-2n}\\left(\\frac{1}{a_{k+1}}\\qbinomb{2n}{k+1}{q^2} - \\frac{b_{k+1}}{a_{k+1}}\\qbinomb{2n}{k}{q^2}\\right)\\\\\n",
    "                 & = \\frac{q^{n^2-2n(k+1)}}{a_{k+1}}\\qbinomb{2n}{k+1}{q^2} - q^{-2n}\\frac{b_{k+1}}{a_{k+1}}q^{n^2-2nk}\\qbinomb{2n}{k}{q^2} \\\\\n",
    "                 & = \\frac{1}{a_{k+1}}B_{k+1}(n) - q^{-2n}\\frac{b_{k+1}}{a_{k+1}}B_k(n),\n",
    "\\end{array}$$\n",
    "\n",
    "where the $a_k$ and $b_k$ are like in the binomial case:\n",
    "$$a_k = \\frac{q}{q^k(q^{k} - 1)},\\qquad b_k = \\frac{1}{1-q^{k}}.$$\n",
    "\n",
    "Funny enough... It seems we need the compatibility with $q^{-2n}$."
   ]
  },
  {
   "cell_type": "code",
   "execution_count": null,
   "id": "43f9d893-bce4-4a1a-b3c3-763d7c9bcbc2",
   "metadata": {},
   "outputs": [],
   "source": []
  },
  {
   "cell_type": "markdown",
   "id": "66858f93-b81e-48eb-9632-5aae752839cc",
   "metadata": {},
   "source": [
    "#### Compatibility with $q^{-2n}$"
   ]
  },
  {
   "cell_type": "markdown",
   "id": "492e9fc9-813c-4e11-af15-8dbce308f22b",
   "metadata": {},
   "source": [
    "$$q^{-2n}B_k(n) = q^{n^2 - 2n(k+1)}\\qbinomb{2n}{k}{q^2}$$"
   ]
  },
  {
   "cell_type": "code",
   "execution_count": null,
   "id": "3b178e87-b790-4fa0-b0f4-3cd7dd1af885",
   "metadata": {},
   "outputs": [],
   "source": []
  },
  {
   "cell_type": "markdown",
   "id": "3cf2ef2d-787b-403a-a2df-6a324b059ebe",
   "metadata": {
    "tags": []
   },
   "source": [
    "### Changing the base of the $q$-Binomial"
   ]
  },
  {
   "cell_type": "markdown",
   "id": "c1016988-d39a-4d92-bc78-21e1f3ea5c6d",
   "metadata": {},
   "source": [
    "Let us now consider the basis $B_k(n) = \\qbinom{2n}{k}$. Let us check the corresponding compatibilities of this basis:"
   ]
  },
  {
   "cell_type": "code",
   "execution_count": 162,
   "id": "188a2f9e-902c-462a-96e6-7624d9b80806",
   "metadata": {},
   "outputs": [
    {
     "data": {
      "text/html": [
       "<html>\\(\\displaystyle \\left(\\begin{array}{rrrrr}\n",
       "1 & 1 & 1 & 1 & 1 \\\\\n",
       "0 & q + 1 & q^{3} + q^{2} + q + 1 & q^{5} + q^{4} + q^{3} + q^{2} + q + 1 & q^{7} + q^{6} + q^{5} + q^{4} + q^{3} + q^{2} + q + 1 \\\\\n",
       "0 & 1 & q^{4} + q^{3} + 2 q^{2} + q + 1 & q^{8} + q^{7} + 2 q^{6} + 2 q^{5} + 3 q^{4} + 2 q^{3} + 2 q^{2} + q + 1 & q^{12} + q^{11} + 2 q^{10} + 2 q^{9} + 3 q^{8} + 3 q^{7} + 4 q^{6} + 3 q^{5} + 3 q^{4} + 2 q^{3} + 2 q^{2} + q + 1 \\\\\n",
       "0 & 0 & q^{3} + q^{2} + q + 1 & q^{9} + q^{8} + 2 q^{7} + 3 q^{6} + 3 q^{5} + 3 q^{4} + 3 q^{3} + 2 q^{2} + q + 1 & q^{15} + q^{14} + 2 q^{13} + 3 q^{12} + 4 q^{11} + 5 q^{10} + 6 q^{9} + 6 q^{8} + 6 q^{7} + 6 q^{6} + 5 q^{5} + 4 q^{4} + 3 q^{3} + 2 q^{2} + q + 1 \\\\\n",
       "0 & 0 & 1 & q^{8} + q^{7} + 2 q^{6} + 2 q^{5} + 3 q^{4} + 2 q^{3} + 2 q^{2} + q + 1 & q^{16} + q^{15} + 2 q^{14} + 3 q^{13} + 5 q^{12} + 5 q^{11} + 7 q^{10} + 7 q^{9} + 8 q^{8} + 7 q^{7} + 7 q^{6} + 5 q^{5} + 5 q^{4} + 3 q^{3} + 2 q^{2} + q + 1\n",
       "\\end{array}\\right)\\)</html>"
      ],
      "text/latex": [
       "$\\displaystyle \\left(\\begin{array}{rrrrr}\n",
       "1 & 1 & 1 & 1 & 1 \\\\\n",
       "0 & q + 1 & q^{3} + q^{2} + q + 1 & q^{5} + q^{4} + q^{3} + q^{2} + q + 1 & q^{7} + q^{6} + q^{5} + q^{4} + q^{3} + q^{2} + q + 1 \\\\\n",
       "0 & 1 & q^{4} + q^{3} + 2 q^{2} + q + 1 & q^{8} + q^{7} + 2 q^{6} + 2 q^{5} + 3 q^{4} + 2 q^{3} + 2 q^{2} + q + 1 & q^{12} + q^{11} + 2 q^{10} + 2 q^{9} + 3 q^{8} + 3 q^{7} + 4 q^{6} + 3 q^{5} + 3 q^{4} + 2 q^{3} + 2 q^{2} + q + 1 \\\\\n",
       "0 & 0 & q^{3} + q^{2} + q + 1 & q^{9} + q^{8} + 2 q^{7} + 3 q^{6} + 3 q^{5} + 3 q^{4} + 3 q^{3} + 2 q^{2} + q + 1 & q^{15} + q^{14} + 2 q^{13} + 3 q^{12} + 4 q^{11} + 5 q^{10} + 6 q^{9} + 6 q^{8} + 6 q^{7} + 6 q^{6} + 5 q^{5} + 4 q^{4} + 3 q^{3} + 2 q^{2} + q + 1 \\\\\n",
       "0 & 0 & 1 & q^{8} + q^{7} + 2 q^{6} + 2 q^{5} + 3 q^{4} + 2 q^{3} + 2 q^{2} + q + 1 & q^{16} + q^{15} + 2 q^{14} + 3 q^{13} + 5 q^{12} + 5 q^{11} + 7 q^{10} + 7 q^{9} + 8 q^{8} + 7 q^{7} + 7 q^{6} + 5 q^{5} + 5 q^{4} + 3 q^{3} + 2 q^{2} + q + 1\n",
       "\\end{array}\\right)$"
      ],
      "text/plain": [
       "[                                                                                                                               1                                                                                                                                1                                                                                                                                1                                                                                                                                1                                                                                                                                1]\n",
       "[                                                                                                                               0                                                                                                                            q + 1                                                                                                                q^3 + q^2 + q + 1                                                                                                    q^5 + q^4 + q^3 + q^2 + q + 1                                                                                        q^7 + q^6 + q^5 + q^4 + q^3 + q^2 + q + 1]\n",
       "[                                                                                                                               0                                                                                                                                1                                                                                                        q^4 + q^3 + 2*q^2 + q + 1                                                                        q^8 + q^7 + 2*q^6 + 2*q^5 + 3*q^4 + 2*q^3 + 2*q^2 + q + 1                                     q^12 + q^11 + 2*q^10 + 2*q^9 + 3*q^8 + 3*q^7 + 4*q^6 + 3*q^5 + 3*q^4 + 2*q^3 + 2*q^2 + q + 1]\n",
       "[                                                                                                                               0                                                                                                                                0                                                                                                                q^3 + q^2 + q + 1                                                                q^9 + q^8 + 2*q^7 + 3*q^6 + 3*q^5 + 3*q^4 + 3*q^3 + 2*q^2 + q + 1          q^15 + q^14 + 2*q^13 + 3*q^12 + 4*q^11 + 5*q^10 + 6*q^9 + 6*q^8 + 6*q^7 + 6*q^6 + 5*q^5 + 4*q^4 + 3*q^3 + 2*q^2 + q + 1]\n",
       "[                                                                                                                               0                                                                                                                                0                                                                                                                                1                                                                        q^8 + q^7 + 2*q^6 + 2*q^5 + 3*q^4 + 2*q^3 + 2*q^2 + q + 1 q^16 + q^15 + 2*q^14 + 3*q^13 + 5*q^12 + 5*q^11 + 7*q^10 + 7*q^9 + 8*q^8 + 7*q^7 + 7*q^6 + 5*q^5 + 5*q^4 + 3*q^3 + 2*q^2 + q + 1]"
      ]
     },
     "execution_count": 162,
     "metadata": {},
     "output_type": "execute_result"
    }
   ],
   "source": [
    "B = LambdaSequence(lambda k,n : gaussian_binomial(2*n,k,q), F, 2)\n",
    "Qn = LambdaSequence(lambda k,n : q**n, F, 2)\n",
    "Qk = LambdaSequence(lambda k,n : q**k, F, 2)\n",
    "get_matrix(B)"
   ]
  },
  {
   "cell_type": "markdown",
   "id": "4bcf3858-04e8-4bc4-99e0-7cbd615432f5",
   "metadata": {
    "tags": []
   },
   "source": [
    "#### Compatibility with $n\\mapsto n+1$"
   ]
  },
  {
   "cell_type": "markdown",
   "id": "f34fa8ea-f577-4edd-aba8-a4baf60fb0de",
   "metadata": {},
   "source": [
    "$$\\begin{array}{rl}\n",
    "    B_k(n+1) & = \\qbinom{2n+2}{k} = q^k\\qbinom{2n+1}{k} + \\qbinom{2n+1}{k-1} \\\\\n",
    "             & = q^{2k}\\qbinom{2n}{k} + q^{k-1}(1+q)\\qbinom{2n}{k-1} + \\qbinom{2n}{k-2}\n",
    "\\end{array}$$"
   ]
  },
  {
   "cell_type": "code",
   "execution_count": 163,
   "id": "d53ec305-a5f8-48ab-b4e9-6f79a04725a4",
   "metadata": {},
   "outputs": [
    {
     "data": {
      "text/html": [
       "<html>\\(\\displaystyle \\left(\\begin{array}{rrrrr}\n",
       "0 & 0 & 0 & 0 & 0 \\\\\n",
       "0 & 0 & 0 & 0 & 0 \\\\\n",
       "0 & 0 & 0 & 0 & 0 \\\\\n",
       "0 & 0 & 0 & 0 & 0 \\\\\n",
       "0 & 0 & 0 & 0 & 0\n",
       "\\end{array}\\right)\\)</html>"
      ],
      "text/latex": [
       "$\\displaystyle \\left(\\begin{array}{rrrrr}\n",
       "0 & 0 & 0 & 0 & 0 \\\\\n",
       "0 & 0 & 0 & 0 & 0 \\\\\n",
       "0 & 0 & 0 & 0 & 0 \\\\\n",
       "0 & 0 & 0 & 0 & 0 \\\\\n",
       "0 & 0 & 0 & 0 & 0\n",
       "\\end{array}\\right)$"
      ],
      "text/plain": [
       "[0 0 0 0 0]\n",
       "[0 0 0 0 0]\n",
       "[0 0 0 0 0]\n",
       "[0 0 0 0 0]\n",
       "[0 0 0 0 0]"
      ]
     },
     "execution_count": 163,
     "metadata": {},
     "output_type": "execute_result"
    }
   ],
   "source": [
    "get_matrix(B.shift(0,1) - Qk*Qk*B - Qk/q*(1+q)*B.shift(-1,0) - B.shift(-2,0))"
   ]
  },
  {
   "cell_type": "markdown",
   "id": "6e7305ba-7b6c-44e7-acbe-c3a6a2083aa7",
   "metadata": {},
   "source": [
    "Which translates into the recurrence:\n",
    "$$\\mathcal{R}(E_n) = S_k^2 + q^{k}(1+q)S_k + q^{2k}$$"
   ]
  },
  {
   "cell_type": "markdown",
   "id": "bd99cd81-dd73-47ab-b952-9bcd16d51e0d",
   "metadata": {
    "tags": []
   },
   "source": [
    "#### Compatibility with $q^{2n}$"
   ]
  },
  {
   "cell_type": "markdown",
   "id": "3240e092-ca17-4987-857c-081a8d731895",
   "metadata": {},
   "source": [
    "Using the compatibility with $q^n$ of $\\qbinom{n}{k}$, we know that, for the sequences\n",
    "$$a_k = \\frac{q}{q^k(q^{k} - 1)},\\qquad b_k = \\frac{1}{1-q^{k}},$$\n",
    "the following recurrence holds:\n",
    "$$q^{2n}\\qbinom{2n}{q} = \\frac{1}{a_{k+1}}\\qbinom{2n}{k+1} - \\frac{b_{k+1}}{a_{k+1}}\\qbinom{2n}{k}.$$"
   ]
  },
  {
   "cell_type": "code",
   "execution_count": 164,
   "id": "a446f5bc-f435-43a4-86e0-3ffbf11a0cb9",
   "metadata": {},
   "outputs": [],
   "source": [
    "ak2 = LambdaSequence(lambda k,n : q/q^k/(q^k-1), F, 2)\n",
    "bk2 = LambdaSequence(lambda k,n : 1/(1-q^k), F, 2)\n",
    "ak = LambdaSequence(lambda k : q/q^k/(q^k-1), F, 1)\n",
    "bk = LambdaSequence(lambda k : 1/(1-q^k), F, 1)"
   ]
  },
  {
   "cell_type": "code",
   "execution_count": 165,
   "id": "9c10dcdb-5db6-4fde-891e-a24c30923356",
   "metadata": {},
   "outputs": [
    {
     "data": {
      "text/html": [
       "<html>\\(\\displaystyle \\left(\\begin{array}{rrrrr}\n",
       "0 & 0 & 0 & 0 & 0 \\\\\n",
       "0 & 0 & 0 & 0 & 0 \\\\\n",
       "0 & 0 & 0 & 0 & 0 \\\\\n",
       "0 & 0 & 0 & 0 & 0 \\\\\n",
       "0 & 0 & 0 & 0 & 0\n",
       "\\end{array}\\right)\\)</html>"
      ],
      "text/latex": [
       "$\\displaystyle \\left(\\begin{array}{rrrrr}\n",
       "0 & 0 & 0 & 0 & 0 \\\\\n",
       "0 & 0 & 0 & 0 & 0 \\\\\n",
       "0 & 0 & 0 & 0 & 0 \\\\\n",
       "0 & 0 & 0 & 0 & 0 \\\\\n",
       "0 & 0 & 0 & 0 & 0\n",
       "\\end{array}\\right)$"
      ],
      "text/plain": [
       "[0 0 0 0 0]\n",
       "[0 0 0 0 0]\n",
       "[0 0 0 0 0]\n",
       "[0 0 0 0 0]\n",
       "[0 0 0 0 0]"
      ]
     },
     "execution_count": 165,
     "metadata": {},
     "output_type": "execute_result"
    }
   ],
   "source": [
    "get_matrix(Qn*Qn*B - B.shift(1,0)/ak2.shift(1,0) + bk2.shift(1,0)/ak2.shift(1,0)*B)"
   ]
  },
  {
   "cell_type": "markdown",
   "id": "5caf0999-8878-4ec6-b8a5-9ff5e3cbd962",
   "metadata": {},
   "source": [
    "This translates into the following recurrence:\n",
    "$$\\mathcal{R}(q^{2n}) = \\frac{1}{a_k}S_k^{-1} - \\frac{b_{k+1}}{a_{k+1}}$$"
   ]
  },
  {
   "cell_type": "markdown",
   "id": "53e9cd96-235d-4799-9bae-fbbd752a0478",
   "metadata": {
    "tags": []
   },
   "source": [
    "#### Computing the final recurrence"
   ]
  },
  {
   "cell_type": "markdown",
   "id": "52ec3401-c501-425b-930a-332aed994d1a",
   "metadata": {},
   "source": [
    "We were starting from the following recurrence:\n",
    "$$A_n(x) \\cdot a_n(x) = xa_{n+1}(x) - q^{2n+1}(1+q^{-2n-1}x)(1+q^{2n+1}x)a_{n}(x) = 0$$\n",
    "\n",
    "If we now write $a_n(x) = \\sum_{k\\geq 0} c_k(x)B_k(n)$, we could get a recurrence for the $c_k(x)$ as follows:\n",
    "$$\\cR(A_n(x)) = x\\cR(E_n) - (q\\cR(q^{2n})+x)(q\\cR(q^{2n})+xq^2\\cR(q^{2n})^2))$$"
   ]
  },
  {
   "cell_type": "code",
   "execution_count": 166,
   "id": "2eb28edc-8789-47ee-be99-fa1ff4b36eb0",
   "metadata": {},
   "outputs": [],
   "source": [
    "from ore_algebra import *\n",
    "R = F['q_k'].fraction_field(); q_k = R('q_k') # q_k represents q^k\n",
    "ak = R(q/(q_k*(q_k-1))); bk = R(1/(1-q_k))\n",
    "OA = OreAlgebra(R, ('S_k', {q_k: q*q_k}, {q_k:0}), ('S_ki', {q_k: q_k/q}, {q_k:0}))\n",
    "S_k, S_ki = OA.gens()"
   ]
  },
  {
   "cell_type": "code",
   "execution_count": 167,
   "id": "18eb1925-5b21-4891-b076-72e2f897e4f3",
   "metadata": {},
   "outputs": [
    {
     "data": {
      "text/html": [
       "<html>\\(\\displaystyle \\left(\\mathrm{True}, \\mathrm{True}\\right)\\)</html>"
      ],
      "text/latex": [
       "$\\displaystyle \\left(\\mathrm{True}, \\mathrm{True}\\right)$"
      ],
      "text/plain": [
       "(True, True)"
      ]
     },
     "execution_count": 167,
     "metadata": {},
     "output_type": "execute_result"
    }
   ],
   "source": [
    "Sak = 1/(q*q_k^2 - q_k); Sbk = -1/(q*q_k - 1)\n",
    "Sak == (S_k*ak).coefficients()[0], Sbk == (S_k*bk).coefficients()[0]"
   ]
  },
  {
   "cell_type": "code",
   "execution_count": 168,
   "id": "4f0c6a47-acb9-4429-8b21-5f48ef6393e0",
   "metadata": {},
   "outputs": [],
   "source": [
    "# Defining the main pieces to build the final recurrence\n",
    "R_En = S_k^2 + q_k*(1+q)*S_k + q_k^2\n",
    "R_q2n = (1/ak)*S_ki - (Sbk/Sak)"
   ]
  },
  {
   "cell_type": "code",
   "execution_count": 169,
   "id": "e75f593d-4b92-4459-b1ea-a3dec4d25857",
   "metadata": {},
   "outputs": [
    {
     "data": {
      "text/html": [
       "<html>\\(\\displaystyle \\left(\\left(\\frac{-x}{q^{6}}\\right) q_{k}^{6} + \\left(\\frac{x q^{2} + x q + x}{q^{6}}\\right) q_{k}^{5} + \\left(\\frac{-x q^{2} - x q - x}{q^{5}}\\right) q_{k}^{4} + \\frac{x}{q^{3}} q_{k}^{3}\\right) S_{\\mathit{ki}}^{3} + x S_{k}^{2} + \\left(\\left(\\frac{-x q^{2} - x q - x}{q^{3}}\\right) q_{k}^{5} + \\left(\\frac{x q^{3} - x^{2} q + 2 x q^{2} + 2 x q + x - q}{q^{3}}\\right) q_{k}^{4} + \\left(\\frac{x^{2} q - x q^{2} + x^{2} - x q - x + q + 1}{q^{2}}\\right) q_{k}^{3} + \\left(\\frac{-x^{2} - 1}{q}\\right) q_{k}^{2}\\right) S_{\\mathit{ki}}^{2} + \\left(\\left(x q + x\\right) q_{k}\\right) S_{k} + \\left(\\left(-x q^{2} - x q - x\\right) q_{k}^{4} + \\left(-x^{2} q + x q^{2} - x^{2} + x q + x - q - 1\\right) q_{k}^{3} + \\left(x^{2} q + x^{2} - x + q + 1\\right) q_{k}^{2} + x q_{k}\\right) S_{\\mathit{ki}} - x q^{3} q_{k}^{3} + \\left(-x^{2} q^{2} - q^{2} + x\\right) q_{k}^{2} - x q q_{k}\\)</html>"
      ],
      "text/latex": [
       "$\\displaystyle \\left(\\left(\\frac{-x}{q^{6}}\\right) q_{k}^{6} + \\left(\\frac{x q^{2} + x q + x}{q^{6}}\\right) q_{k}^{5} + \\left(\\frac{-x q^{2} - x q - x}{q^{5}}\\right) q_{k}^{4} + \\frac{x}{q^{3}} q_{k}^{3}\\right) S_{\\mathit{ki}}^{3} + x S_{k}^{2} + \\left(\\left(\\frac{-x q^{2} - x q - x}{q^{3}}\\right) q_{k}^{5} + \\left(\\frac{x q^{3} - x^{2} q + 2 x q^{2} + 2 x q + x - q}{q^{3}}\\right) q_{k}^{4} + \\left(\\frac{x^{2} q - x q^{2} + x^{2} - x q - x + q + 1}{q^{2}}\\right) q_{k}^{3} + \\left(\\frac{-x^{2} - 1}{q}\\right) q_{k}^{2}\\right) S_{\\mathit{ki}}^{2} + \\left(\\left(x q + x\\right) q_{k}\\right) S_{k} + \\left(\\left(-x q^{2} - x q - x\\right) q_{k}^{4} + \\left(-x^{2} q + x q^{2} - x^{2} + x q + x - q - 1\\right) q_{k}^{3} + \\left(x^{2} q + x^{2} - x + q + 1\\right) q_{k}^{2} + x q_{k}\\right) S_{\\mathit{ki}} - x q^{3} q_{k}^{3} + \\left(-x^{2} q^{2} - q^{2} + x\\right) q_{k}^{2} - x q q_{k}$"
      ],
      "text/plain": [
       "(((-x)/q^6)*q_k^6 + ((x*q^2 + x*q + x)/q^6)*q_k^5 + ((-x*q^2 - x*q - x)/q^5)*q_k^4 + x/q^3*q_k^3)*S_ki^3 + x*S_k^2 + (((-x*q^2 - x*q - x)/q^3)*q_k^5 + ((x*q^3 - x^2*q + 2*x*q^2 + 2*x*q + x - q)/q^3)*q_k^4 + ((x^2*q - x*q^2 + x^2 - x*q - x + q + 1)/q^2)*q_k^3 + ((-x^2 - 1)/q)*q_k^2)*S_ki^2 + ((x*q + x)*q_k)*S_k + ((-x*q^2 - x*q - x)*q_k^4 + (-x^2*q + x*q^2 - x^2 + x*q + x - q - 1)*q_k^3 + (x^2*q + x^2 - x + q + 1)*q_k^2 + x*q_k)*S_ki - x*q^3*q_k^3 + (-x^2*q^2 - q^2 + x)*q_k^2 - x*q*q_k"
      ]
     },
     "metadata": {},
     "output_type": "display_data"
    },
    {
     "data": {
      "text/html": [
       "<html>\\(\\displaystyle \\left[S_{\\mathit{ki}}^{3}, S_{k}^{2}, S_{\\mathit{ki}}^{2}, S_{k}, S_{\\mathit{ki}}, 1\\right]\\)</html>"
      ],
      "text/latex": [
       "$\\displaystyle \\left[S_{\\mathit{ki}}^{3}, S_{k}^{2}, S_{\\mathit{ki}}^{2}, S_{k}, S_{\\mathit{ki}}, 1\\right]$"
      ],
      "text/plain": [
       "[S_ki^3, S_k^2, S_ki^2, S_k, S_ki, 1]"
      ]
     },
     "execution_count": 169,
     "metadata": {},
     "output_type": "execute_result"
    }
   ],
   "source": [
    "# Evaluating the recurrence\n",
    "R_A = x*R_En - (q*R_q2n + x)*(q*R_q2n + x*q^2*R_q2n^2)\n",
    "show(R_A)\n",
    "R_A.polynomial().monomials()"
   ]
  },
  {
   "cell_type": "code",
   "execution_count": 170,
   "id": "5a73d648-4b6d-4f90-ad1f-8955952db3fc",
   "metadata": {},
   "outputs": [
    {
     "data": {
      "text/html": [
       "<html>\\(\\displaystyle x S_{k}^{5} + \\left(\\left(x q^{4} + x q^{3}\\right) q_{k}\\right) S_{k}^{4} + \\left(-x q^{12} q_{k}^{3} + \\left(-x^{2} q^{8} - q^{8} + x q^{6}\\right) q_{k}^{2} - x q^{4} q_{k}\\right) S_{k}^{3} + \\left(\\left(-x q^{14} - x q^{13} - x q^{12}\\right) q_{k}^{4} + \\left(-x^{2} q^{10} + x q^{11} - x^{2} q^{9} + x q^{10} + x q^{9} - q^{10} - q^{9}\\right) q_{k}^{3} + \\left(x^{2} q^{7} + x^{2} q^{6} - x q^{6} + q^{7} + q^{6}\\right) q_{k}^{2} + x q^{3} q_{k}\\right) S_{k}^{2} + \\left(\\left(-x q^{14} - x q^{13} - x q^{12}\\right) q_{k}^{5} + \\left(x q^{12} - x^{2} q^{10} + 2 x q^{11} + 2 x q^{10} + x q^{9} - q^{10}\\right) q_{k}^{4} + \\left(x^{2} q^{8} - x q^{9} + x^{2} q^{7} - x q^{8} - x q^{7} + q^{8} + q^{7}\\right) q_{k}^{3} + \\left(-x^{2} q^{5} - q^{5}\\right) q_{k}^{2}\\right) S_{k} - x q^{12} q_{k}^{6} + \\left(x q^{11} + x q^{10} + x q^{9}\\right) q_{k}^{5} + \\left(-x q^{9} - x q^{8} - x q^{7}\\right) q_{k}^{4} + x q^{6} q_{k}^{3}\\)</html>"
      ],
      "text/latex": [
       "$\\displaystyle x S_{k}^{5} + \\left(\\left(x q^{4} + x q^{3}\\right) q_{k}\\right) S_{k}^{4} + \\left(-x q^{12} q_{k}^{3} + \\left(-x^{2} q^{8} - q^{8} + x q^{6}\\right) q_{k}^{2} - x q^{4} q_{k}\\right) S_{k}^{3} + \\left(\\left(-x q^{14} - x q^{13} - x q^{12}\\right) q_{k}^{4} + \\left(-x^{2} q^{10} + x q^{11} - x^{2} q^{9} + x q^{10} + x q^{9} - q^{10} - q^{9}\\right) q_{k}^{3} + \\left(x^{2} q^{7} + x^{2} q^{6} - x q^{6} + q^{7} + q^{6}\\right) q_{k}^{2} + x q^{3} q_{k}\\right) S_{k}^{2} + \\left(\\left(-x q^{14} - x q^{13} - x q^{12}\\right) q_{k}^{5} + \\left(x q^{12} - x^{2} q^{10} + 2 x q^{11} + 2 x q^{10} + x q^{9} - q^{10}\\right) q_{k}^{4} + \\left(x^{2} q^{8} - x q^{9} + x^{2} q^{7} - x q^{8} - x q^{7} + q^{8} + q^{7}\\right) q_{k}^{3} + \\left(-x^{2} q^{5} - q^{5}\\right) q_{k}^{2}\\right) S_{k} - x q^{12} q_{k}^{6} + \\left(x q^{11} + x q^{10} + x q^{9}\\right) q_{k}^{5} + \\left(-x q^{9} - x q^{8} - x q^{7}\\right) q_{k}^{4} + x q^{6} q_{k}^{3}$"
      ],
      "text/plain": [
       "x*S_k^5 + ((x*q^4 + x*q^3)*q_k)*S_k^4 + (-x*q^12*q_k^3 + (-x^2*q^8 - q^8 + x*q^6)*q_k^2 - x*q^4*q_k)*S_k^3 + ((-x*q^14 - x*q^13 - x*q^12)*q_k^4 + (-x^2*q^10 + x*q^11 - x^2*q^9 + x*q^10 + x*q^9 - q^10 - q^9)*q_k^3 + (x^2*q^7 + x^2*q^6 - x*q^6 + q^7 + q^6)*q_k^2 + x*q^3*q_k)*S_k^2 + ((-x*q^14 - x*q^13 - x*q^12)*q_k^5 + (x*q^12 - x^2*q^10 + 2*x*q^11 + 2*x*q^10 + x*q^9 - q^10)*q_k^4 + (x^2*q^8 - x*q^9 + x^2*q^7 - x*q^8 - x*q^7 + q^8 + q^7)*q_k^3 + (-x^2*q^5 - q^5)*q_k^2)*S_k - x*q^12*q_k^6 + (x*q^11 + x*q^10 + x*q^9)*q_k^5 + (-x*q^9 - x*q^8 - x*q^7)*q_k^4 + x*q^6*q_k^3"
      ]
     },
     "execution_count": 170,
     "metadata": {},
     "output_type": "execute_result"
    }
   ],
   "source": [
    "# Cleaning the inverses shifts\n",
    "aux = ((S_k^3)*R_A)\n",
    "FR_A = sum(\n",
    "    c*S_k**(m.degree(S_k.polynomial())-m.degree(S_ki.polynomial())) \n",
    "    for c,m in zip(aux.coefficients(), aux.polynomial().monomials())\n",
    ")\n",
    "FR_A"
   ]
  },
  {
   "cell_type": "markdown",
   "id": "2d4abe8a-6476-457e-92af-4665a74ba66e",
   "metadata": {},
   "source": [
    "#### Computing the solution"
   ]
  },
  {
   "cell_type": "markdown",
   "id": "658278b3-1beb-4501-97b4-a26c4301b7f6",
   "metadata": {},
   "source": [
    "In order to obtain the solution, we would need now some initial conditions of the new sequence $c_k(x)$ that is defined in with the previous recurrence. We need the values for $c_0,c_1,c_2,c_3$ and $c_4$:\n",
    "\n",
    "$$a_0(x) = \\sum_{k \\geq 0} c_k \\qbinom{0}{k} = c_0(x),$$\n",
    "$$a_1(x) = \\sum_{k \\geq 0} c_k \\qbinom{2}{k} = c_0(x) + (q+1)c_1(x) + c_2(x)$$\n",
    "$$a_2(x) = \\sum_{k \\geq 0} c_k \\qbinom{4}{k} = c_0(x) + (q^3+q^2+q+1)c_1(x) + (q^4+q^3+2q^2+q+1)c_2(x) + (q^3+q^2+q+1)c_3(x) + c_4(x)$$\n",
    "\n",
    "We can appreciate that there are many options for the initial values of $c_k(x)$. The only completely fixed is $c_0(x) = a_0(x)$. The others have some freedom.\n",
    "\n",
    "* Any solution satisfying the constrains is a good solution for us? It looks like so.\n",
    "\n",
    "Let us consider the solution with $c_0(x) = a_0(x)$, $c_1(x) = 1$ and $c_3(x) = 1$. Then, we must have:\n",
    "$$c_2(x) = a_1(x) - a_0(x) - (q+1),$$\n",
    "$$c_4(x) = a_2(x) - a_0(x) - (q^3+q^2+q+1) - (q^4+q^3+2q^2+q+1)(a_1(x) - a_0(x) - (q+1)) - (q^3+q^2+q+1).$$\n",
    "\n",
    "In our case, we have:"
   ]
  },
  {
   "cell_type": "code",
   "execution_count": 180,
   "id": "3d7b6dd1-1749-457d-b4d2-30d1136cb1d4",
   "metadata": {},
   "outputs": [],
   "source": [
    "c = []\n",
    "c.append(an[0]) # adding c_0(x)\n",
    "c.append(1) # adding a fixed value for c_1(x)\n",
    "c.append(an[1] - B(0,1)*c[0] - B(1,1)*c[1]) # adding value for c_2(x)\n",
    "c.append(1) # adding a fixed value for c_3(x)\n",
    "c.append(an[2] - B(0,2)*c[0] - B(1,2)*c[1] - B(2,2)*c[2] - B(3,2)+c[3])"
   ]
  },
  {
   "cell_type": "code",
   "execution_count": 185,
   "id": "8adce13b-6c3e-4dc1-8cab-c1a3725479be",
   "metadata": {},
   "outputs": [],
   "source": [
    "full_c = solution(FR_A, c)"
   ]
  },
  {
   "cell_type": "markdown",
   "id": "432ea17a-49c4-43d9-9e19-81f330820b7b",
   "metadata": {},
   "source": [
    "## Building generic $q$-binomial basis"
   ]
  },
  {
   "cell_type": "markdown",
   "id": "267707c0-b660-4b14-a9ff-41f6d09a33a8",
   "metadata": {},
   "source": [
    "Let us build the following type of $q$-binomial basis:\n",
    "$$\\left\\{\\qbinomb{an}{k}{q^b}\\right\\}_{k\\in\\mathbb{N}},\\ \\text{where}\\ a,b\\in \\mathbb{N}.$$\n",
    "\n",
    "The thing is, as we have checked in other ocasion, that these basss will be compatible with the shift in $n$ ($E: n \\mapsto (n+1)$) and the multiplication by $q^{abn}$. In this section we are going to build the code and the compatibilities generically so they can be used later for particular examples."
   ]
  },
  {
   "cell_type": "markdown",
   "id": "2da3c934-f090-44ab-9eb2-a347c1d47ca5",
   "metadata": {},
   "source": [
    "### * Compatibility with the shift $E$"
   ]
  },
  {
   "cell_type": "markdown",
   "id": "c9ae1b48-8c91-4cc9-8b8d-c6bfd648c870",
   "metadata": {},
   "source": [
    "If we simply compute the shift w.r.t. $n$, we see that the top argument is shifted by $a$, hence, using the usual $q$-binomial identity $a$ times, we will bring back the top argument to $an$ but changing the lower argument with shifts in $k$. Namely:\n",
    "$$\\qbinomb{a(n+1)}{k}{q^b} = q^{bk}\\qbinomb{an + a - 1}{k}{q^b} + \\qbinomb{an+a-1}{k-1}{q^b}.$$\n",
    "\n",
    "If we repeat one more time, we will get:\n",
    "$$\\qbinomb{a(n+1)}{k}{q^b} = q^{2bk}\\qbinomb{an + a - 2}{k}{q^b} + q^{b(k-1)}(q^b + 1)\\qbinomb{an + a - 1}{k-1}{q^b} + \\qbinomb{an+a-2}{k-2}{q^b}.$$\n",
    "\n",
    "Iterating this formula $a$ times, we get something of the form:\n",
    "$$\\qbinomb{a(n+1)}{k}{q^b} = \\sum_{i=0}^a c_{i}(k)\\qbinomb{an}{k-i}{q^b}.$$\n",
    "\n",
    "These $c_i(k)$ will be polynomials in $q^{bk}$. They can be restated as polynomials in $q^k$, so the usual recurrences will be created in the end. However, we would need to have a fixed $b$, so no parametric computation can be done w.r.t. $b$."
   ]
  },
  {
   "cell_type": "markdown",
   "id": "b818ddec-c45c-4027-b81d-35e3f9d5f143",
   "metadata": {},
   "source": [
    "### * Compatibility with the multiplication by $q^{abn}$"
   ]
  },
  {
   "cell_type": "markdown",
   "id": "6890d880-e5cf-4c1f-9c41-3e153f6280a6",
   "metadata": {},
   "source": [
    "For the compatibility with $q^{ab}$ we just need to look to the usual $q$-factorial formula for the $q$-binomial:\n",
    "$$\\qbinom{n}{k+1} = (\\alpha(q^k)q^n + \\beta(q^k))\\qbinom{n}{k}.$$\n",
    "\n",
    "If we simply perform two substitutions of $n\\mapsto an$ and $q \\mapsto q^b$, then we get:\n",
    "$$\\qbinomb{an}{k+1}{q^b} = (\\alpha(q^{bk}) q^{abn} + \\beta(q^{bk}))\\qbinomb{an}{k}{q^b}.$$\n",
    "\n",
    "This will lead to a compatibility condition where the coefficients are rational functions in $q^{bk}$. Meaning that we can express the recurrences it in terms of the usual operator $q^k$."
   ]
  },
  {
   "cell_type": "markdown",
   "id": "ddd88721-f2de-4e68-828f-0b40c8d4ffff",
   "metadata": {},
   "source": [
    "### * **Quick note**"
   ]
  },
  {
   "cell_type": "markdown",
   "id": "2107b257-18a2-4f96-869c-5d8d41525350",
   "metadata": {},
   "source": [
    "Since both compatibilities can be expressed as rational sequences in $q^{bk}$ we can either use this operator as an output or use $(q^k)^b$. The first case may allow us to have $b$ generic in some cases but may not fit properly in the usual setting, while the second case will have bigger coefficients."
   ]
  },
  {
   "cell_type": "code",
   "execution_count": 2,
   "id": "a8cf9f02-85e3-4d6a-ad33-7878f21c029d",
   "metadata": {},
   "outputs": [],
   "source": [
    "B = QBinomialBasis(2,2)\n",
    "B = B.change_base(B.base.base().extend_variables('x').fraction_field())"
   ]
  },
  {
   "cell_type": "code",
   "execution_count": 3,
   "id": "4cddd212-66bc-4223-9a7b-9b4b3fc8a71c",
   "metadata": {},
   "outputs": [
    {
     "data": {
      "text/html": [
       "<html>\\(\\displaystyle \\left(\\begin{array}{rrrrr}\n",
       "1 & 1 & 1 & 1 & 1 \\\\\n",
       "0 & q^{2} + 1 & q^{6} + q^{4} + q^{2} + 1 & q^{10} + q^{8} + q^{6} + q^{4} + q^{2} + 1 & q^{14} + q^{12} + q^{10} + q^{8} + q^{6} + q^{4} + q^{2} + 1 \\\\\n",
       "0 & 1 & q^{8} + q^{6} + 2 q^{4} + q^{2} + 1 & q^{16} + q^{14} + 2 q^{12} + 2 q^{10} + 3 q^{8} + 2 q^{6} + 2 q^{4} + q^{2} + 1 & q^{24} + q^{22} + 2 q^{20} + 2 q^{18} + 3 q^{16} + 3 q^{14} + 4 q^{12} + 3 q^{10} + 3 q^{8} + 2 q^{6} + 2 q^{4} + q^{2} + 1 \\\\\n",
       "0 & 0 & q^{6} + q^{4} + q^{2} + 1 & q^{18} + q^{16} + 2 q^{14} + 3 q^{12} + 3 q^{10} + 3 q^{8} + 3 q^{6} + 2 q^{4} + q^{2} + 1 & q^{30} + q^{28} + 2 q^{26} + 3 q^{24} + 4 q^{22} + 5 q^{20} + 6 q^{18} + 6 q^{16} + 6 q^{14} + 6 q^{12} + 5 q^{10} + 4 q^{8} + 3 q^{6} + 2 q^{4} + q^{2} + 1 \\\\\n",
       "0 & 0 & 1 & q^{16} + q^{14} + 2 q^{12} + 2 q^{10} + 3 q^{8} + 2 q^{6} + 2 q^{4} + q^{2} + 1 & q^{32} + q^{30} + 2 q^{28} + 3 q^{26} + 5 q^{24} + 5 q^{22} + 7 q^{20} + 7 q^{18} + 8 q^{16} + 7 q^{14} + 7 q^{12} + 5 q^{10} + 5 q^{8} + 3 q^{6} + 2 q^{4} + q^{2} + 1\n",
       "\\end{array}\\right)\\)</html>"
      ],
      "text/latex": [
       "$\\displaystyle \\left(\\begin{array}{rrrrr}\n",
       "1 & 1 & 1 & 1 & 1 \\\\\n",
       "0 & q^{2} + 1 & q^{6} + q^{4} + q^{2} + 1 & q^{10} + q^{8} + q^{6} + q^{4} + q^{2} + 1 & q^{14} + q^{12} + q^{10} + q^{8} + q^{6} + q^{4} + q^{2} + 1 \\\\\n",
       "0 & 1 & q^{8} + q^{6} + 2 q^{4} + q^{2} + 1 & q^{16} + q^{14} + 2 q^{12} + 2 q^{10} + 3 q^{8} + 2 q^{6} + 2 q^{4} + q^{2} + 1 & q^{24} + q^{22} + 2 q^{20} + 2 q^{18} + 3 q^{16} + 3 q^{14} + 4 q^{12} + 3 q^{10} + 3 q^{8} + 2 q^{6} + 2 q^{4} + q^{2} + 1 \\\\\n",
       "0 & 0 & q^{6} + q^{4} + q^{2} + 1 & q^{18} + q^{16} + 2 q^{14} + 3 q^{12} + 3 q^{10} + 3 q^{8} + 3 q^{6} + 2 q^{4} + q^{2} + 1 & q^{30} + q^{28} + 2 q^{26} + 3 q^{24} + 4 q^{22} + 5 q^{20} + 6 q^{18} + 6 q^{16} + 6 q^{14} + 6 q^{12} + 5 q^{10} + 4 q^{8} + 3 q^{6} + 2 q^{4} + q^{2} + 1 \\\\\n",
       "0 & 0 & 1 & q^{16} + q^{14} + 2 q^{12} + 2 q^{10} + 3 q^{8} + 2 q^{6} + 2 q^{4} + q^{2} + 1 & q^{32} + q^{30} + 2 q^{28} + 3 q^{26} + 5 q^{24} + 5 q^{22} + 7 q^{20} + 7 q^{18} + 8 q^{16} + 7 q^{14} + 7 q^{12} + 5 q^{10} + 5 q^{8} + 3 q^{6} + 2 q^{4} + q^{2} + 1\n",
       "\\end{array}\\right)$"
      ],
      "text/plain": [
       "[                                                                                                                                      1                                                                                                                                       1                                                                                                                                       1                                                                                                                                       1                                                                                                                                       1]\n",
       "[                                                                                                                                      0                                                                                                                                 q^2 + 1                                                                                                                     q^6 + q^4 + q^2 + 1                                                                                                        q^10 + q^8 + q^6 + q^4 + q^2 + 1                                                                                          q^14 + q^12 + q^10 + q^8 + q^6 + q^4 + q^2 + 1]\n",
       "[                                                                                                                                      0                                                                                                                                       1                                                                                                             q^8 + q^6 + 2*q^4 + q^2 + 1                                                                         q^16 + q^14 + 2*q^12 + 2*q^10 + 3*q^8 + 2*q^6 + 2*q^4 + q^2 + 1                                     q^24 + q^22 + 2*q^20 + 2*q^18 + 3*q^16 + 3*q^14 + 4*q^12 + 3*q^10 + 3*q^8 + 2*q^6 + 2*q^4 + q^2 + 1]\n",
       "[                                                                                                                                      0                                                                                                                                       0                                                                                                                     q^6 + q^4 + q^2 + 1                                                                q^18 + q^16 + 2*q^14 + 3*q^12 + 3*q^10 + 3*q^8 + 3*q^6 + 2*q^4 + q^2 + 1          q^30 + q^28 + 2*q^26 + 3*q^24 + 4*q^22 + 5*q^20 + 6*q^18 + 6*q^16 + 6*q^14 + 6*q^12 + 5*q^10 + 4*q^8 + 3*q^6 + 2*q^4 + q^2 + 1]\n",
       "[                                                                                                                                      0                                                                                                                                       0                                                                                                                                       1                                                                         q^16 + q^14 + 2*q^12 + 2*q^10 + 3*q^8 + 2*q^6 + 2*q^4 + q^2 + 1 q^32 + q^30 + 2*q^28 + 3*q^26 + 5*q^24 + 5*q^22 + 7*q^20 + 7*q^18 + 8*q^16 + 7*q^14 + 7*q^12 + 5*q^10 + 5*q^8 + 3*q^6 + 2*q^4 + q^2 + 1]"
      ]
     },
     "execution_count": 3,
     "metadata": {},
     "output_type": "execute_result"
    }
   ],
   "source": [
    "get_matrix(B.as_2dim())"
   ]
  },
  {
   "cell_type": "code",
   "execution_count": 4,
   "id": "f631e05d-8aa6-48a0-b141-c2c5ede878af",
   "metadata": {},
   "outputs": [
    {
     "data": {
      "text/html": [
       "<html>\\(\\displaystyle \\mathrm{True}\\)</html>"
      ],
      "text/latex": [
       "$\\displaystyle \\mathrm{True}$"
      ],
      "text/plain": [
       "True"
      ]
     },
     "execution_count": 4,
     "metadata": {},
     "output_type": "execute_result"
    }
   ],
   "source": [
    "all(\n",
    "    q_binomial(2*n,k,q^2)\n",
    "    ==\n",
    "    B[k](n)\n",
    "    for n in range(10)\n",
    "    for k in range(10)\n",
    ")"
   ]
  },
  {
   "cell_type": "code",
   "execution_count": 5,
   "id": "f816f6d0-ab39-4cad-86f1-fffc353715f6",
   "metadata": {},
   "outputs": [
    {
     "data": {
      "text/html": [
       "<html>\\(\\displaystyle \\text{Compatibility condition with shape (A=0, B=1, t=1):}\\\\L \\cdot P_{k} = \\left( q^{2 \\, k} \\right) P_{k} + \\left( q^{2} q^{4 \\, k} - q^{2 \\, k} \\right) P_{k+ 1}\\)</html>"
      ],
      "text/latex": [
       "$\\displaystyle \\text{Compatibility condition with shape (A=0, B=1, t=1):}\\\\L \\cdot P_{k} = \\left( q^{2 \\, k} \\right) P_{k} + \\left( q^{2} q^{4 \\, k} - q^{2 \\, k} \\right) P_{k+ 1}$"
      ],
      "text/plain": [
       "Compatibility condition (0, 1, 1) with following coefficient matrix:\n",
       "[            q_k^2 q^2*q_k^4 - q_k^2]"
      ]
     },
     "execution_count": 5,
     "metadata": {},
     "output_type": "execute_result"
    }
   ],
   "source": [
    "B.compatibility(\"q_4n\")"
   ]
  },
  {
   "cell_type": "code",
   "execution_count": 6,
   "id": "67f6751a-a8c0-44dd-9604-ce2ef4d31cf8",
   "metadata": {},
   "outputs": [
    {
     "data": {
      "text/html": [
       "<html>\\(\\displaystyle \\mathrm{True}\\)</html>"
      ],
      "text/latex": [
       "$\\displaystyle \\mathrm{True}$"
      ],
      "text/plain": [
       "True"
      ]
     },
     "execution_count": 6,
     "metadata": {},
     "output_type": "execute_result"
    }
   ],
   "source": [
    "all(\n",
    "    q**(4*n) * B[k](n)\n",
    "    ==\n",
    "    q**(2*k) * B[k](n) + (q**(4*k+2) - q**(2*k))*B[k+1](n)\n",
    "    for n in range(10)\n",
    "    for k in range(10)\n",
    ")"
   ]
  },
  {
   "cell_type": "code",
   "execution_count": 7,
   "id": "64d5a096-e376-4b5e-83c1-0be5725bdf08",
   "metadata": {},
   "outputs": [
    {
     "data": {
      "text/html": [
       "<html>\\(\\displaystyle \\newcommand{\\Bold}[1]{\\mathbf{#1}}\\mathrm{Frac}(\\Bold{Q}[q, x])\\)</html>"
      ],
      "text/latex": [
       "$\\displaystyle \\newcommand{\\Bold}[1]{\\mathbf{#1}}\\mathrm{Frac}(\\Bold{Q}[q, x])$"
      ],
      "text/plain": [
       "Fraction Field of Multivariate Polynomial Ring in q, x over Rational Field"
      ]
     },
     "execution_count": 7,
     "metadata": {},
     "output_type": "execute_result"
    }
   ],
   "source": [
    "B.compatibility(\"q_4n\")[0,1].universe"
   ]
  },
  {
   "cell_type": "code",
   "execution_count": 10,
   "id": "936f4338-42c5-4a82-8576-5bf9b7e84763",
   "metadata": {},
   "outputs": [
    {
     "data": {
      "text/html": [
       "<html>\\(\\displaystyle \\text{Compatibility condition with shape (A=2, B=0, t=1):}\\\\L \\cdot P_{k} = \\left( 1 \\right) P_{k- 2} + \\left( \\frac{{\\left(q^{2} + 1\\right)} q^{2 \\, k}}{q^{2}} \\right) P_{k- 1} + \\left( q^{4 \\, k} \\right) P_{k}\\)</html>"
      ],
      "text/latex": [
       "$\\displaystyle \\text{Compatibility condition with shape (A=2, B=0, t=1):}\\\\L \\cdot P_{k} = \\left( 1 \\right) P_{k- 2} + \\left( \\frac{{\\left(q^{2} + 1\\right)} q^{2 \\, k}}{q^{2}} \\right) P_{k- 1} + \\left( q^{4 \\, k} \\right) P_{k}$"
      ],
      "text/plain": [
       "Compatibility condition (2, 0, 1) with following coefficient matrix:\n",
       "[                    1 ((q^2 + 1)/q^2)*q_k^2                 q_k^4]"
      ]
     },
     "execution_count": 10,
     "metadata": {},
     "output_type": "execute_result"
    }
   ],
   "source": [
    "B.compatibility(\"E\")"
   ]
  },
  {
   "cell_type": "code",
   "execution_count": 11,
   "id": "a1ea3609-dfbf-4348-9643-c27cf3e352c3",
   "metadata": {},
   "outputs": [
    {
     "data": {
      "text/html": [
       "<html>\\(\\displaystyle \\mathrm{True}\\)</html>"
      ],
      "text/latex": [
       "$\\displaystyle \\mathrm{True}$"
      ],
      "text/plain": [
       "True"
      ]
     },
     "execution_count": 11,
     "metadata": {},
     "output_type": "execute_result"
    }
   ],
   "source": [
    "all(\n",
    "    B[k](n+1)\n",
    "    ==\n",
    "    B[k-2](n) + ((q^2+1)*q**(2*k))/q**2 * B[k-1](n) + q**(4*k)*B[k](n)\n",
    "    for n in range(10)\n",
    "    for k in range(2,10)\n",
    ")"
   ]
  },
  {
   "cell_type": "code",
   "execution_count": 12,
   "id": "d2d62ba3-e236-48a1-b2c4-007f1c5c1007",
   "metadata": {},
   "outputs": [
    {
     "data": {
      "text/html": [
       "<html>\\(\\displaystyle \\mathit{Sk}^{2} + \\left(\\left(q^{2} + 1\\right) q_{k}^{2}\\right) \\mathit{Sk} + q_{k}^{4}\\)</html>"
      ],
      "text/latex": [
       "$\\displaystyle \\mathit{Sk}^{2} + \\left(\\left(q^{2} + 1\\right) q_{k}^{2}\\right) \\mathit{Sk} + q_{k}^{4}$"
      ],
      "text/plain": [
       "Sk^2 + ((q^2 + 1)*q_k^2)*Sk + q_k^4"
      ]
     },
     "execution_count": 12,
     "metadata": {},
     "output_type": "execute_result"
    }
   ],
   "source": [
    "B.recurrence(\"E\")"
   ]
  },
  {
   "cell_type": "markdown",
   "id": "7a94f0ff-cae7-4655-be2f-116b020ade05",
   "metadata": {},
   "source": [
    "Now we use the operator with $q^{4n}$ that annihilates the sequence $a(n)$ described above:"
   ]
  },
  {
   "cell_type": "code",
   "execution_count": 20,
   "id": "7080f45c-7cf8-4230-97ee-736e0050074c",
   "metadata": {},
   "outputs": [],
   "source": [
    "S = B.recurrence(\"\\\n",
    "    -q^2*x^2*E^2 + \\\n",
    "    (x^2 + q^2*x^2 + q^4*q_4n*x^2 + q^6*q_4n*x^2)*E + \\\n",
    "    q_4n*q^2 - x^2 - q^4*q_4n^2*x^2 + q^2*q_4n*x^4\\\n",
    "\", output=\"ore\")"
   ]
  },
  {
   "cell_type": "code",
   "execution_count": 41,
   "id": "c2c1b802-93ba-46ff-ba91-5eb1037d0811",
   "metadata": {},
   "outputs": [
    {
     "data": {
      "text/html": [
       "<html>\\(\\displaystyle -q^{2} x^{2} \\mathit{Sk}^{6} + \\left(\\left(\\left(-q^{8} - q^{6} - q^{4} - q^{2}\\right) x^{2}\\right) q_{k}^{2}\\right) \\mathit{Sk}^{5} + \\left(\\left(\\left(-q^{10} - q^{8} - 2 q^{6} - q^{4} - q^{2}\\right) x^{2}\\right) q_{k}^{4} + \\left(\\left(q^{6} + q^{4}\\right) x^{2}\\right) q_{k}^{2} + \\left(q^{2} + 1\\right) x^{2}\\right) \\mathit{Sk}^{4} + \\left(\\left(\\left(-q^{8} - q^{6} - q^{4} - q^{2}\\right) x^{2}\\right) q_{k}^{6} + \\left(\\left(q^{8} + 2 q^{6} + 2 q^{4} + q^{2}\\right) x^{2}\\right) q_{k}^{4} + \\left(\\left(q^{2} + 1\\right) x^{2}\\right) q_{k}^{2}\\right) \\mathit{Sk}^{3} + \\left(-q^{2} x^{2} q_{k}^{8} + \\left(\\left(q^{6} + 2 q^{4} + 2 q^{2} + 1\\right) x^{2}\\right) q_{k}^{6} + \\left(\\left(-2 q^{4} - q^{2}\\right) x^{2}\\right) q_{k}^{4} + \\left(q^{2} x^{4} + q^{2}\\right) q_{k}^{2} - x^{2}\\right) \\mathit{Sk}^{2} + \\left(\\left(\\left(\\frac{q^{2} + 1}{q^{2}}\\right) x^{2}\\right) q_{k}^{8} + \\left(\\left(\\frac{-q^{4} - 2 q^{2} - 1}{q^{2}}\\right) x^{2}\\right) q_{k}^{6} + \\left(x^{4} + \\left(q^{2} + 1\\right) x^{2} + 1\\right) q_{k}^{4} + \\left(-x^{4} - 1\\right) q_{k}^{2}\\right) \\mathit{Sk} + \\left(\\left(\\frac{-1}{q^{4}}\\right) x^{2}\\right) q_{k}^{8} + \\left(\\left(\\frac{q^{2} + 1}{q^{4}}\\right) x^{2}\\right) q_{k}^{6} + \\left(\\left(\\frac{-1}{q^{2}}\\right) x^{2}\\right) q_{k}^{4}\\)</html>"
      ],
      "text/latex": [
       "$\\displaystyle -q^{2} x^{2} \\mathit{Sk}^{6} + \\left(\\left(\\left(-q^{8} - q^{6} - q^{4} - q^{2}\\right) x^{2}\\right) q_{k}^{2}\\right) \\mathit{Sk}^{5} + \\left(\\left(\\left(-q^{10} - q^{8} - 2 q^{6} - q^{4} - q^{2}\\right) x^{2}\\right) q_{k}^{4} + \\left(\\left(q^{6} + q^{4}\\right) x^{2}\\right) q_{k}^{2} + \\left(q^{2} + 1\\right) x^{2}\\right) \\mathit{Sk}^{4} + \\left(\\left(\\left(-q^{8} - q^{6} - q^{4} - q^{2}\\right) x^{2}\\right) q_{k}^{6} + \\left(\\left(q^{8} + 2 q^{6} + 2 q^{4} + q^{2}\\right) x^{2}\\right) q_{k}^{4} + \\left(\\left(q^{2} + 1\\right) x^{2}\\right) q_{k}^{2}\\right) \\mathit{Sk}^{3} + \\left(-q^{2} x^{2} q_{k}^{8} + \\left(\\left(q^{6} + 2 q^{4} + 2 q^{2} + 1\\right) x^{2}\\right) q_{k}^{6} + \\left(\\left(-2 q^{4} - q^{2}\\right) x^{2}\\right) q_{k}^{4} + \\left(q^{2} x^{4} + q^{2}\\right) q_{k}^{2} - x^{2}\\right) \\mathit{Sk}^{2} + \\left(\\left(\\left(\\frac{q^{2} + 1}{q^{2}}\\right) x^{2}\\right) q_{k}^{8} + \\left(\\left(\\frac{-q^{4} - 2 q^{2} - 1}{q^{2}}\\right) x^{2}\\right) q_{k}^{6} + \\left(x^{4} + \\left(q^{2} + 1\\right) x^{2} + 1\\right) q_{k}^{4} + \\left(-x^{4} - 1\\right) q_{k}^{2}\\right) \\mathit{Sk} + \\left(\\left(\\frac{-1}{q^{4}}\\right) x^{2}\\right) q_{k}^{8} + \\left(\\left(\\frac{q^{2} + 1}{q^{4}}\\right) x^{2}\\right) q_{k}^{6} + \\left(\\left(\\frac{-1}{q^{2}}\\right) x^{2}\\right) q_{k}^{4}$"
      ],
      "text/plain": [
       "-q^2*x^2*Sk^6 + (((-q^8 - q^6 - q^4 - q^2)*x^2)*q_k^2)*Sk^5 + (((-q^10 - q^8 - 2*q^6 - q^4 - q^2)*x^2)*q_k^4 + ((q^6 + q^4)*x^2)*q_k^2 + (q^2 + 1)*x^2)*Sk^4 + (((-q^8 - q^6 - q^4 - q^2)*x^2)*q_k^6 + ((q^8 + 2*q^6 + 2*q^4 + q^2)*x^2)*q_k^4 + ((q^2 + 1)*x^2)*q_k^2)*Sk^3 + (-q^2*x^2*q_k^8 + ((q^6 + 2*q^4 + 2*q^2 + 1)*x^2)*q_k^6 + ((-2*q^4 - q^2)*x^2)*q_k^4 + (q^2*x^4 + q^2)*q_k^2 - x^2)*Sk^2 + ((((q^2 + 1)/q^2)*x^2)*q_k^8 + (((-q^4 - 2*q^2 - 1)/q^2)*x^2)*q_k^6 + (x^4 + (q^2 + 1)*x^2 + 1)*q_k^4 + (-x^4 - 1)*q_k^2)*Sk - 1/q^4*x^2*q_k^8 + (((q^2 + 1)/q^4)*x^2)*q_k^6 - 1/q^2*x^2*q_k^4"
      ]
     },
     "execution_count": 41,
     "metadata": {},
     "output_type": "execute_result"
    }
   ],
   "source": [
    "S"
   ]
  },
  {
   "cell_type": "code",
   "execution_count": 35,
   "id": "3344940b-4ef5-4dc7-86c3-7564e463d1ea",
   "metadata": {},
   "outputs": [],
   "source": [
    "from ore_algebra import OreAlgebra"
   ]
  },
  {
   "cell_type": "code",
   "execution_count": 91,
   "id": "5742f564-12b5-4af0-904c-683591378a94",
   "metadata": {},
   "outputs": [
    {
     "data": {
      "text/html": [
       "<html>\\(\\displaystyle \\newcommand{\\Bold}[1]{\\mathbf{#1}}\\mathrm{Frac}(\\mathrm{Frac}(\\mathrm{Frac}(\\Bold{Q}[q])[x])[q_{k}])\\langle \\mathit{Sk}\\rangle \\)</html>"
      ],
      "text/latex": [
       "$\\displaystyle \\newcommand{\\Bold}[1]{\\mathbf{#1}}\\mathrm{Frac}(\\mathrm{Frac}(\\mathrm{Frac}(\\Bold{Q}[q])[x])[q_{k}])\\langle \\mathit{Sk}\\rangle $"
      ],
      "text/plain": [
       "Univariate Ore algebra in Sk over Fraction Field of Univariate Polynomial Ring in q_k over Fraction Field of Univariate Polynomial Ring in x over Fraction Field of Univariate Polynomial Ring in q over Rational Field"
      ]
     },
     "execution_count": 91,
     "metadata": {},
     "output_type": "execute_result"
    }
   ],
   "source": [
    "S.parent()"
   ]
  },
  {
   "cell_type": "code",
   "execution_count": 85,
   "id": "3173cd6e-d735-4169-9e9f-8064fe5f9fac",
   "metadata": {},
   "outputs": [],
   "source": [
    "new_base = S.parent().base().base().extend_variables([\"q_kk\", \"x_k\",\"q_n\", \"q_nk\"]).fraction_field()\n",
    "q_kk = new_base(\"q_kk\"); q_k = new_base(\"q_k\")\n",
    "q_n = new_base(\"q_n\"); q_nk = new_base(\"q_nk\"); \n",
    "x_k = new_base(\"x_k\"); x = new_base(\"x\"); q = new_base(\"q\")"
   ]
  },
  {
   "cell_type": "code",
   "execution_count": 87,
   "id": "8f3eaf97-5480-4c50-86ac-8f7b0c26c800",
   "metadata": {},
   "outputs": [],
   "source": [
    "new_OS = OreAlgebra(new_base, (\"Sk\", lambda f : f(q_kk=q_kk*q_k**2*q, q_nk=q_nk*q_n, q_k=q*q_k, x_k=x*x_k), lambda _ : 0))\n",
    "Sk = new_OS.gens()[0]"
   ]
  },
  {
   "cell_type": "code",
   "execution_count": 89,
   "id": "0e429382-8ac3-4c4f-8d6f-9577b40c241a",
   "metadata": {},
   "outputs": [
    {
     "data": {
      "text/html": [
       "<html>\\(\\displaystyle \\frac{q_{\\mathit{kk}} x_{k}}{q_{\\mathit{nk}}^{2}}\\)</html>"
      ],
      "text/latex": [
       "$\\displaystyle \\frac{q_{\\mathit{kk}} x_{k}}{q_{\\mathit{nk}}^{2}}$"
      ],
      "text/plain": [
       "q_kk*x_k/q_nk^2"
      ]
     },
     "execution_count": 89,
     "metadata": {},
     "output_type": "execute_result"
    }
   ],
   "source": [
    "new_S = new_OS(S)\n",
    "el = q_kk/q_nk^2*x_k; el"
   ]
  },
  {
   "cell_type": "code",
   "execution_count": 90,
   "id": "c90edfdd-2ca4-48d6-9655-552a45a3b2b6",
   "metadata": {},
   "outputs": [
    {
     "data": {
      "text/html": [
       "<html>\\(\\displaystyle \\frac{\\left(-q^{6} x^{4}\\right) q_{k}^{12} q_{\\mathit{kk}} x_{k} q_{n}^{38} q_{\\mathit{nk}}^{12} + \\left(\\left(\\frac{q^{2} + 1}{q}\\right) x^{3}\\right) q_{k}^{10} q_{\\mathit{kk}} x_{k} q_{n}^{40} q_{\\mathit{nk}}^{12} + \\left(\\left(\\frac{-1}{q^{4}}\\right) x^{2}\\right) q_{k}^{8} q_{\\mathit{kk}} x_{k} q_{n}^{42} q_{\\mathit{nk}}^{12} + \\left(\\left(-q^{17} - q^{15} - q^{13} - q^{11}\\right) x^{5}\\right) q_{k}^{12} q_{\\mathit{kk}} x_{k} q_{n}^{36} q_{\\mathit{nk}}^{12} + \\left(\\left(q^{10} + 2 q^{8} + 2 q^{6} + q^{4}\\right) x^{4}\\right) q_{k}^{10} q_{\\mathit{kk}} x_{k} q_{n}^{38} q_{\\mathit{nk}}^{12} + \\left(\\left(\\frac{-q^{4} - 2 q^{2} - 1}{q}\\right) x^{3}\\right) q_{k}^{8} q_{\\mathit{kk}} x_{k} q_{n}^{40} q_{\\mathit{nk}}^{12} + \\left(\\left(\\frac{q^{2} + 1}{q^{4}}\\right) x^{2}\\right) q_{k}^{6} q_{\\mathit{kk}} x_{k} q_{n}^{42} q_{\\mathit{nk}}^{12} + \\left(\\left(-q^{26} - q^{24} - 2 q^{22} - q^{20} - q^{18}\\right) x^{6}\\right) q_{k}^{12} q_{\\mathit{kk}} x_{k} q_{n}^{34} q_{\\mathit{nk}}^{12} + \\left(\\left(q^{17} + 2 q^{15} + 2 q^{13} + q^{11}\\right) x^{5}\\right) q_{k}^{10} q_{\\mathit{kk}} x_{k} q_{n}^{36} q_{\\mathit{nk}}^{12} + \\left(\\left(-2 q^{8} - q^{6}\\right) x^{4}\\right) q_{k}^{8} q_{\\mathit{kk}} x_{k} q_{n}^{38} q_{\\mathit{nk}}^{12} + \\left(q x^{5} + \\left(q^{3} + q\\right) x^{3} + q x\\right) q_{k}^{6} q_{\\mathit{kk}} x_{k} q_{n}^{40} q_{\\mathit{nk}}^{12} + \\left(\\left(\\frac{-1}{q^{2}}\\right) x^{2}\\right) q_{k}^{4} q_{\\mathit{kk}} x_{k} q_{n}^{42} q_{\\mathit{nk}}^{12} + \\left(\\left(-q^{33} - q^{31} - q^{29} - q^{27}\\right) x^{7}\\right) q_{k}^{12} q_{\\mathit{kk}} x_{k} q_{n}^{32} q_{\\mathit{nk}}^{12} + \\left(\\left(q^{22} + q^{20}\\right) x^{6}\\right) q_{k}^{10} q_{\\mathit{kk}} x_{k} q_{n}^{34} q_{\\mathit{nk}}^{12} + \\left(\\left(q^{11} + q^{9}\\right) x^{5}\\right) q_{k}^{8} q_{\\mathit{kk}} x_{k} q_{n}^{36} q_{\\mathit{nk}}^{12} + \\left(q^{6} x^{6} + q^{6} x^{2}\\right) q_{k}^{6} q_{\\mathit{kk}} x_{k} q_{n}^{38} q_{\\mathit{nk}}^{12} + \\left(-q x^{5} - q x\\right) q_{k}^{4} q_{\\mathit{kk}} x_{k} q_{n}^{40} q_{\\mathit{nk}}^{12} + \\left(-q^{38} x^{8}\\right) q_{k}^{12} q_{\\mathit{kk}} x_{k} q_{n}^{30} q_{\\mathit{nk}}^{12} + \\left(\\left(q^{18} + q^{16}\\right) x^{6}\\right) q_{k}^{8} q_{\\mathit{kk}} x_{k} q_{n}^{34} q_{\\mathit{nk}}^{12} + \\left(-q^{4} x^{4}\\right) q_{k}^{4} q_{\\mathit{kk}} x_{k} q_{n}^{38} q_{\\mathit{nk}}^{12}}{q_{n}^{42} q_{\\mathit{nk}}^{14}}\\)</html>"
      ],
      "text/latex": [
       "$\\displaystyle \\frac{\\left(-q^{6} x^{4}\\right) q_{k}^{12} q_{\\mathit{kk}} x_{k} q_{n}^{38} q_{\\mathit{nk}}^{12} + \\left(\\left(\\frac{q^{2} + 1}{q}\\right) x^{3}\\right) q_{k}^{10} q_{\\mathit{kk}} x_{k} q_{n}^{40} q_{\\mathit{nk}}^{12} + \\left(\\left(\\frac{-1}{q^{4}}\\right) x^{2}\\right) q_{k}^{8} q_{\\mathit{kk}} x_{k} q_{n}^{42} q_{\\mathit{nk}}^{12} + \\left(\\left(-q^{17} - q^{15} - q^{13} - q^{11}\\right) x^{5}\\right) q_{k}^{12} q_{\\mathit{kk}} x_{k} q_{n}^{36} q_{\\mathit{nk}}^{12} + \\left(\\left(q^{10} + 2 q^{8} + 2 q^{6} + q^{4}\\right) x^{4}\\right) q_{k}^{10} q_{\\mathit{kk}} x_{k} q_{n}^{38} q_{\\mathit{nk}}^{12} + \\left(\\left(\\frac{-q^{4} - 2 q^{2} - 1}{q}\\right) x^{3}\\right) q_{k}^{8} q_{\\mathit{kk}} x_{k} q_{n}^{40} q_{\\mathit{nk}}^{12} + \\left(\\left(\\frac{q^{2} + 1}{q^{4}}\\right) x^{2}\\right) q_{k}^{6} q_{\\mathit{kk}} x_{k} q_{n}^{42} q_{\\mathit{nk}}^{12} + \\left(\\left(-q^{26} - q^{24} - 2 q^{22} - q^{20} - q^{18}\\right) x^{6}\\right) q_{k}^{12} q_{\\mathit{kk}} x_{k} q_{n}^{34} q_{\\mathit{nk}}^{12} + \\left(\\left(q^{17} + 2 q^{15} + 2 q^{13} + q^{11}\\right) x^{5}\\right) q_{k}^{10} q_{\\mathit{kk}} x_{k} q_{n}^{36} q_{\\mathit{nk}}^{12} + \\left(\\left(-2 q^{8} - q^{6}\\right) x^{4}\\right) q_{k}^{8} q_{\\mathit{kk}} x_{k} q_{n}^{38} q_{\\mathit{nk}}^{12} + \\left(q x^{5} + \\left(q^{3} + q\\right) x^{3} + q x\\right) q_{k}^{6} q_{\\mathit{kk}} x_{k} q_{n}^{40} q_{\\mathit{nk}}^{12} + \\left(\\left(\\frac{-1}{q^{2}}\\right) x^{2}\\right) q_{k}^{4} q_{\\mathit{kk}} x_{k} q_{n}^{42} q_{\\mathit{nk}}^{12} + \\left(\\left(-q^{33} - q^{31} - q^{29} - q^{27}\\right) x^{7}\\right) q_{k}^{12} q_{\\mathit{kk}} x_{k} q_{n}^{32} q_{\\mathit{nk}}^{12} + \\left(\\left(q^{22} + q^{20}\\right) x^{6}\\right) q_{k}^{10} q_{\\mathit{kk}} x_{k} q_{n}^{34} q_{\\mathit{nk}}^{12} + \\left(\\left(q^{11} + q^{9}\\right) x^{5}\\right) q_{k}^{8} q_{\\mathit{kk}} x_{k} q_{n}^{36} q_{\\mathit{nk}}^{12} + \\left(q^{6} x^{6} + q^{6} x^{2}\\right) q_{k}^{6} q_{\\mathit{kk}} x_{k} q_{n}^{38} q_{\\mathit{nk}}^{12} + \\left(-q x^{5} - q x\\right) q_{k}^{4} q_{\\mathit{kk}} x_{k} q_{n}^{40} q_{\\mathit{nk}}^{12} + \\left(-q^{38} x^{8}\\right) q_{k}^{12} q_{\\mathit{kk}} x_{k} q_{n}^{30} q_{\\mathit{nk}}^{12} + \\left(\\left(q^{18} + q^{16}\\right) x^{6}\\right) q_{k}^{8} q_{\\mathit{kk}} x_{k} q_{n}^{34} q_{\\mathit{nk}}^{12} + \\left(-q^{4} x^{4}\\right) q_{k}^{4} q_{\\mathit{kk}} x_{k} q_{n}^{38} q_{\\mathit{nk}}^{12}}{q_{n}^{42} q_{\\mathit{nk}}^{14}}$"
      ],
      "text/plain": [
       "((-q^6*x^4)*q_k^12*q_kk*x_k*q_n^38*q_nk^12 + (((q^2 + 1)/q)*x^3)*q_k^10*q_kk*x_k*q_n^40*q_nk^12 + (-1/q^4*x^2)*q_k^8*q_kk*x_k*q_n^42*q_nk^12 + ((-q^17 - q^15 - q^13 - q^11)*x^5)*q_k^12*q_kk*x_k*q_n^36*q_nk^12 + ((q^10 + 2*q^8 + 2*q^6 + q^4)*x^4)*q_k^10*q_kk*x_k*q_n^38*q_nk^12 + (((-q^4 - 2*q^2 - 1)/q)*x^3)*q_k^8*q_kk*x_k*q_n^40*q_nk^12 + (((q^2 + 1)/q^4)*x^2)*q_k^6*q_kk*x_k*q_n^42*q_nk^12 + ((-q^26 - q^24 - 2*q^22 - q^20 - q^18)*x^6)*q_k^12*q_kk*x_k*q_n^34*q_nk^12 + ((q^17 + 2*q^15 + 2*q^13 + q^11)*x^5)*q_k^10*q_kk*x_k*q_n^36*q_nk^12 + ((-2*q^8 - q^6)*x^4)*q_k^8*q_kk*x_k*q_n^38*q_nk^12 + (q*x^5 + (q^3 + q)*x^3 + q*x)*q_k^6*q_kk*x_k*q_n^40*q_nk^12 + (-1/q^2*x^2)*q_k^4*q_kk*x_k*q_n^42*q_nk^12 + ((-q^33 - q^31 - q^29 - q^27)*x^7)*q_k^12*q_kk*x_k*q_n^32*q_nk^12 + ((q^22 + q^20)*x^6)*q_k^10*q_kk*x_k*q_n^34*q_nk^12 + ((q^11 + q^9)*x^5)*q_k^8*q_kk*x_k*q_n^36*q_nk^12 + (q^6*x^6 + q^6*x^2)*q_k^6*q_kk*x_k*q_n^38*q_nk^12 + (-q*x^5 - q*x)*q_k^4*q_kk*x_k*q_n^40*q_nk^12 + (-q^38*x^8)*q_k^12*q_kk*x_k*q_n^30*q_nk^12 + ((q^18 + q^16)*x^6)*q_k^8*q_kk*x_k*q_n^34*q_nk^12 + (-q^4*x^4)*q_k^4*q_kk*x_k*q_n^38*q_nk^12)/(q_n^42*q_nk^14)"
      ]
     },
     "execution_count": 90,
     "metadata": {},
     "output_type": "execute_result"
    }
   ],
   "source": [
    "out = (new_S * el).polynomial()(Sk=1)\n",
    "out"
   ]
  },
  {
   "cell_type": "code",
   "execution_count": 106,
   "id": "b49524c6-acba-4ab5-b84d-29e6f9c2038b",
   "metadata": {},
   "outputs": [
    {
     "data": {
      "text/html": [
       "<html>\\(\\displaystyle \\newcommand{\\Bold}[1]{\\mathbf{#1}}\\mathrm{Frac}(\\mathrm{Frac}(\\mathrm{Frac}(\\Bold{Q}[q])[x])[q_{k}, q_{\\mathit{kk}}, x_{k}, q_{n}, q_{\\mathit{nk}}])\\)</html>"
      ],
      "text/latex": [
       "$\\displaystyle \\newcommand{\\Bold}[1]{\\mathbf{#1}}\\mathrm{Frac}(\\mathrm{Frac}(\\mathrm{Frac}(\\Bold{Q}[q])[x])[q_{k}, q_{\\mathit{kk}}, x_{k}, q_{n}, q_{\\mathit{nk}}])$"
      ],
      "text/plain": [
       "Fraction Field of Multivariate Polynomial Ring in q_k, q_kk, x_k, q_n, q_nk over Fraction Field of Univariate Polynomial Ring in x over Fraction Field of Univariate Polynomial Ring in q over Rational Field"
      ]
     },
     "metadata": {},
     "output_type": "display_data"
    }
   ],
   "source": [
    "sq = SR(\"q\"); sn = SR(\"n\"); sk = SR(\"k\"); sx = SR(\"x\")\n",
    "show(out.parent())\n",
    "sout = SR(out)"
   ]
  },
  {
   "cell_type": "code",
   "execution_count": 113,
   "id": "70d4afb6-beb6-4846-8150-883a8daf7a2d",
   "metadata": {},
   "outputs": [],
   "source": [
    "sout = SR(out)(q_k=sq**sk, q_kk=sq**(sk**2), x_k=sx**sk, q_n=sq**sn, q_nk=sq**(sn*sk))"
   ]
  },
  {
   "cell_type": "code",
   "execution_count": 114,
   "id": "cb58bbb4-93ed-4a4c-bb6b-b4e76db7f756",
   "metadata": {},
   "outputs": [
    {
     "data": {
      "text/html": [
       "<html>\\(\\displaystyle -{\\left({\\left(q^{37} + q^{35} + q^{33} + q^{31}\\right)} q^{k^{2} + 12 \\, k + 2 \\, n} x^{7} + q^{k^{2} + 12 \\, k + 42} x^{8} + {\\left({\\left({\\left(q^{30} + q^{28} + 2 \\, q^{26} + q^{24} + q^{22}\\right)} q^{12 \\, k} - {\\left(q^{26} + q^{24}\\right)} q^{10 \\, k} - {\\left(q^{22} + q^{20}\\right)} q^{8 \\, k}\\right)} q^{k^{2} + 4 \\, n} - q^{k^{2} + 6 \\, k + 8 \\, n + 10}\\right)} x^{6} - {\\left({\\left(q^{14} + 2 \\, q^{12} + 2 \\, q^{10} + q^{8}\\right)} q^{10 \\, k} - {\\left(2 \\, q^{12} + q^{10}\\right)} q^{8 \\, k} - q^{12 \\, k + 10} - q^{4 \\, k + 8}\\right)} q^{k^{2} + 8 \\, n} x^{4} + {\\left({\\left({\\left(q^{21} + q^{19} + q^{17} + q^{15}\\right)} q^{12 \\, k} - {\\left(q^{21} + 2 \\, q^{19} + 2 \\, q^{17} + q^{15}\\right)} q^{10 \\, k} - {\\left(q^{15} + q^{13}\\right)} q^{8 \\, k}\\right)} q^{k^{2} + 6 \\, n} - q^{k^{2} + 10 \\, n} {\\left(q^{6 \\, k + 5} - q^{4 \\, k + 5}\\right)}\\right)} x^{5} - {\\left({\\left(q^{5} + q^{3}\\right)} q^{10 \\, k} - {\\left(q^{7} + 2 \\, q^{5} + q^{3}\\right)} q^{8 \\, k} + {\\left(q^{7} + q^{5}\\right)} q^{6 \\, k}\\right)} q^{k^{2} + 10 \\, n} x^{3} - q^{k^{2} + 10 \\, n} {\\left(q^{6 \\, k + 5} - q^{4 \\, k + 5}\\right)} x - {\\left({\\left({\\left(q^{2} + 1\\right)} q^{6 \\, k} - q^{8 \\, k} - q^{4 \\, k + 2}\\right)} q^{k^{2} + 12 \\, n} + q^{k^{2} + 6 \\, k + 8 \\, n + 10}\\right)} x^{2}\\right)} q^{-2 \\, k n - 12 \\, n - 4} x^{k}\\)</html>"
      ],
      "text/latex": [
       "$\\displaystyle -{\\left({\\left(q^{37} + q^{35} + q^{33} + q^{31}\\right)} q^{k^{2} + 12 \\, k + 2 \\, n} x^{7} + q^{k^{2} + 12 \\, k + 42} x^{8} + {\\left({\\left({\\left(q^{30} + q^{28} + 2 \\, q^{26} + q^{24} + q^{22}\\right)} q^{12 \\, k} - {\\left(q^{26} + q^{24}\\right)} q^{10 \\, k} - {\\left(q^{22} + q^{20}\\right)} q^{8 \\, k}\\right)} q^{k^{2} + 4 \\, n} - q^{k^{2} + 6 \\, k + 8 \\, n + 10}\\right)} x^{6} - {\\left({\\left(q^{14} + 2 \\, q^{12} + 2 \\, q^{10} + q^{8}\\right)} q^{10 \\, k} - {\\left(2 \\, q^{12} + q^{10}\\right)} q^{8 \\, k} - q^{12 \\, k + 10} - q^{4 \\, k + 8}\\right)} q^{k^{2} + 8 \\, n} x^{4} + {\\left({\\left({\\left(q^{21} + q^{19} + q^{17} + q^{15}\\right)} q^{12 \\, k} - {\\left(q^{21} + 2 \\, q^{19} + 2 \\, q^{17} + q^{15}\\right)} q^{10 \\, k} - {\\left(q^{15} + q^{13}\\right)} q^{8 \\, k}\\right)} q^{k^{2} + 6 \\, n} - q^{k^{2} + 10 \\, n} {\\left(q^{6 \\, k + 5} - q^{4 \\, k + 5}\\right)}\\right)} x^{5} - {\\left({\\left(q^{5} + q^{3}\\right)} q^{10 \\, k} - {\\left(q^{7} + 2 \\, q^{5} + q^{3}\\right)} q^{8 \\, k} + {\\left(q^{7} + q^{5}\\right)} q^{6 \\, k}\\right)} q^{k^{2} + 10 \\, n} x^{3} - q^{k^{2} + 10 \\, n} {\\left(q^{6 \\, k + 5} - q^{4 \\, k + 5}\\right)} x - {\\left({\\left({\\left(q^{2} + 1\\right)} q^{6 \\, k} - q^{8 \\, k} - q^{4 \\, k + 2}\\right)} q^{k^{2} + 12 \\, n} + q^{k^{2} + 6 \\, k + 8 \\, n + 10}\\right)} x^{2}\\right)} q^{-2 \\, k n - 12 \\, n - 4} x^{k}$"
      ],
      "text/plain": [
       "-((q^37 + q^35 + q^33 + q^31)*q^(k^2 + 12*k + 2*n)*x^7 + q^(k^2 + 12*k + 42)*x^8 + (((q^30 + q^28 + 2*q^26 + q^24 + q^22)*q^(12*k) - (q^26 + q^24)*q^(10*k) - (q^22 + q^20)*q^(8*k))*q^(k^2 + 4*n) - q^(k^2 + 6*k + 8*n + 10))*x^6 - ((q^14 + 2*q^12 + 2*q^10 + q^8)*q^(10*k) - (2*q^12 + q^10)*q^(8*k) - q^(12*k + 10) - q^(4*k + 8))*q^(k^2 + 8*n)*x^4 + (((q^21 + q^19 + q^17 + q^15)*q^(12*k) - (q^21 + 2*q^19 + 2*q^17 + q^15)*q^(10*k) - (q^15 + q^13)*q^(8*k))*q^(k^2 + 6*n) - q^(k^2 + 10*n)*(q^(6*k + 5) - q^(4*k + 5)))*x^5 - ((q^5 + q^3)*q^(10*k) - (q^7 + 2*q^5 + q^3)*q^(8*k) + (q^7 + q^5)*q^(6*k))*q^(k^2 + 10*n)*x^3 - q^(k^2 + 10*n)*(q^(6*k + 5) - q^(4*k + 5))*x - (((q^2 + 1)*q^(6*k) - q^(8*k) - q^(4*k + 2))*q^(k^2 + 12*n) + q^(k^2 + 6*k + 8*n + 10))*x^2)*q^(-2*k*n - 12*n - 4)*x^k"
      ]
     },
     "execution_count": 114,
     "metadata": {},
     "output_type": "execute_result"
    }
   ],
   "source": [
    "sout.simplify_full()"
   ]
  },
  {
   "cell_type": "markdown",
   "id": "bc997b94-a86c-499d-99a6-2564360634d0",
   "metadata": {
    "tags": []
   },
   "source": [
    "# TODO Things:\n",
    "\n",
    "* Allow the multiplication of a $q$-factorial basis by the $q$-Pochammer symbol $1/(q;q)_k$ -> It can be done now, but need some testing\n",
    "* Allow the multiplication of a $q$-factorial basis by the $q$-Pochammer symbol $(-q;q)_k$ -> It can be done now, but need some testing"
   ]
  },
  {
   "cell_type": "code",
   "execution_count": null,
   "id": "fea81ae0",
   "metadata": {
    "vscode": {
     "languageId": "python"
    }
   },
   "outputs": [
    {
     "data": {
      "text/html": [
       "<html>\\(\\displaystyle \\left(\\mathrm{True}, \\frac{\\frac{-1}{q}}{q_{n} + \\frac{-1}{q}}\\right)\\)</html>"
      ],
      "text/latex": [
       "$\\displaystyle \\left(\\mathrm{True}, \\frac{\\frac{-1}{q}}{q_{n} + \\frac{-1}{q}}\\right)$"
      ],
      "text/plain": [
       "(True, -1/q/(q_n - 1/q))"
      ]
     },
     "execution_count": 34,
     "metadata": {},
     "output_type": "execute_result"
    }
   ],
   "source": [
    "B.is_hypergeometric(1/QPochhammerSequence(q,q))"
   ]
  },
  {
   "cell_type": "code",
   "execution_count": null,
   "id": "9da5db7e-daba-4c6f-8666-7889f2443e1b",
   "metadata": {},
   "outputs": [
    {
     "data": {
      "text/html": [
       "<html>\\(\\displaystyle \\left(\\mathrm{True}, q q_{n} + 1\\right)\\)</html>"
      ],
      "text/latex": [
       "$\\displaystyle \\left(\\mathrm{True}, q q_{n} + 1\\right)$"
      ],
      "text/plain": [
       "(True, q*q_n + 1)"
      ]
     },
     "execution_count": 36,
     "metadata": {},
     "output_type": "execute_result"
    }
   ],
   "source": [
    "B.is_hypergeometric(QPochhammerSequence(-q,q))"
   ]
  },
  {
   "cell_type": "code",
   "execution_count": 59,
   "id": "488cfe15-1fdf-4445-a5e8-9843ef7253e0",
   "metadata": {},
   "outputs": [
    {
     "data": {
      "text/html": [
       "<html>\\(\\displaystyle \\verb|&lt;class|\\verb| |\\verb|'pseries_basis.qbasis.qbasis.QScalarBasis'>|\\)</html>"
      ],
      "text/latex": [
       "$\\displaystyle \\verb|<class|\\verb| |\\verb|'pseries_basis.qbasis.qbasis.QScalarBasis'>|$"
      ],
      "text/plain": [
       "<class 'pseries_basis.qbasis.qbasis.QScalarBasis'>"
      ]
     },
     "execution_count": 59,
     "metadata": {},
     "output_type": "execute_result"
    }
   ],
   "source": [
    "B.scalar(QPochhammerSequence(-q,q)).__class__"
   ]
  },
  {
   "cell_type": "code",
   "execution_count": null,
   "id": "4c3ba4a7-fed2-4e62-805d-1933428cb771",
   "metadata": {},
   "outputs": [],
   "source": []
  }
 ],
 "metadata": {
  "kernelspec": {
   "display_name": "SageMath 9.7",
   "language": "sage",
   "name": "sagemath"
  },
  "language_info": {
   "codemirror_mode": {
    "name": "ipython",
    "version": 3
   },
   "file_extension": ".py",
   "mimetype": "text/x-python",
   "name": "python",
   "nbconvert_exporter": "python",
   "pygments_lexer": "ipython3",
   "version": "3.10.5"
  },
  "vscode": {
   "interpreter": {
    "hash": "6ac2281d5d3bc9c8602ecc880f52072697a1724cb71e545962e9e2106a72a94b"
   }
  }
 },
 "nbformat": 4,
 "nbformat_minor": 5
}
