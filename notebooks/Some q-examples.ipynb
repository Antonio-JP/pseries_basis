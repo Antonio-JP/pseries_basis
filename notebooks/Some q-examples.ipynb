{
 "cells": [
  {
   "cell_type": "markdown",
   "id": "5ebd36c9-39cc-4ac7-96c9-154c7ebfbcef",
   "metadata": {},
   "source": [
    "# About some q-stuff$\\def\\qbinom#1#2{\\left[\\begin{array}{c}#1\\\\#2\\end{array}\\right]_{q}}$"
   ]
  },
  {
   "cell_type": "code",
   "execution_count": 3,
   "id": "2b56fd0d-ead8-416e-90b1-e855e55dd528",
   "metadata": {},
   "outputs": [],
   "source": [
    "R.<q> = QQ[]"
   ]
  },
  {
   "cell_type": "code",
   "execution_count": 4,
   "id": "4e082f16-b44a-4201-a2f7-b776f7a474b9",
   "metadata": {},
   "outputs": [],
   "source": [
    "def qpochammer(a, n : int, q=q):\n",
    "    '''Method for obtaining (a;q)_n'''\n",
    "    return prod(1-a*q^k for k in range(n))\n",
    "\n",
    "def qfactorial(n:int, q=q):\n",
    "    '''Method for obtaining [n]_q! = (q;q)_n/(1-q)^n'''\n",
    "    return qpochammer(q,n, q=q)/(1-q)^n\n",
    "\n",
    "def qbinomial(n:int, m:int, q=q):\n",
    "    '''Method for obtaining [n,m]_q = [n]_q!/([m]_q![n-m]_q!)'''\n",
    "    if m < 0 or m > n:\n",
    "        return 0\n",
    "    return qfactorial(n,q=q)/(qfactorial(m, q=q)*qfactorial(n-m, q=q))"
   ]
  },
  {
   "cell_type": "markdown",
   "id": "0f516d60-9a9d-466f-a60d-eca2be0892df",
   "metadata": {},
   "source": [
    "The sequences that we are interested in work on the polynomials on $q$. This means we have to consider the sequences \n",
    "$$\\left(\\mathbb{K}(q)\\right)^{\\mathbb{N}}.$$\n",
    "\n",
    "In this ring of sequences, the basis are sequences themselves $((a_{n,k})_k)_n$:"
   ]
  },
  {
   "cell_type": "code",
   "execution_count": 7,
   "id": "12dcbf7e",
   "metadata": {},
   "outputs": [
    {
     "data": {
      "text/plain": [
       "[1 0 0 0 0 0 0 0 0 0]\n",
       "[0 1 0 0 0 0 0 0 0 0]\n",
       "[0 0 1 0 0 0 0 0 0 0]\n",
       "[0 0 0 1 0 0 0 0 0 0]\n",
       "[0 0 0 0 1 0 0 0 0 0]"
      ]
     },
     "execution_count": 7,
     "metadata": {},
     "output_type": "execute_result"
    }
   ],
   "source": [
    "canonical = lambda n : lambda k : kronecker_delta(n,k)\n",
    "Matrix([[canonical(n)(k) for k in range(10)] for n in range(5)])"
   ]
  },
  {
   "cell_type": "markdown",
   "id": "b213a739",
   "metadata": {},
   "source": [
    "Since we are working over an extension of $\\mathbb{K}$ all the usual bases still work on this ring:"
   ]
  },
  {
   "cell_type": "code",
   "execution_count": 14,
   "id": "6731cdce",
   "metadata": {},
   "outputs": [
    {
     "data": {
      "text/plain": [
       "[   1    1    1    1    1    1    1    1    1    1]\n",
       "[   0    1    2    3    4    5    6    7    8    9]\n",
       "[   0    1    4    9   16   25   36   49   64   81]\n",
       "[   0    1    8   27   64  125  216  343  512  729]\n",
       "[   0    1   16   81  256  625 1296 2401 4096 6561]"
      ]
     },
     "execution_count": 14,
     "metadata": {},
     "output_type": "execute_result"
    }
   ],
   "source": [
    "power = lambda n : lambda k : k^n # this is a factorial basis\n",
    "Matrix([[power(n)(k) for k in range(10)] for n in range(5)])"
   ]
  },
  {
   "cell_type": "code",
   "execution_count": 15,
   "id": "7e7351c5",
   "metadata": {},
   "outputs": [
    {
     "data": {
      "text/plain": [
       "[  1   1   1   1   1   1   1   1   1   1]\n",
       "[  0   1   2   3   4   5   6   7   8   9]\n",
       "[  0   0   1   3   6  10  15  21  28  36]\n",
       "[  0   0   0   1   4  10  20  35  56  84]\n",
       "[  0   0   0   0   1   5  15  35  70 126]"
      ]
     },
     "execution_count": 15,
     "metadata": {},
     "output_type": "execute_result"
    }
   ],
   "source": [
    "binomial_bas = lambda n : lambda k : binomial(k,n) # this is a factorial basis\n",
    "Matrix([[binomial_bas(n)(k) for k in range(10)] for n in range(5)])"
   ]
  },
  {
   "cell_type": "markdown",
   "id": "c09b337a",
   "metadata": {},
   "source": [
    "## A $q$-analog\n",
    "Can we try to have a real $q$-basis? Using the $q$-binomial, we obtain the following:"
   ]
  },
  {
   "cell_type": "code",
   "execution_count": 18,
   "id": "de856855",
   "metadata": {},
   "outputs": [
    {
     "data": {
      "text/plain": [
       "[          1           1           1           1]\n",
       "[          0           1       q + 1 q^2 + q + 1]\n",
       "[          0           0           1 q^2 + q + 1]"
      ]
     },
     "execution_count": 18,
     "metadata": {},
     "output_type": "execute_result"
    }
   ],
   "source": [
    "qbinomial_bas = lambda n : lambda k : qbinomial(k,n) # this is a factorial basis\n",
    "Matrix([[qbinomial_bas(n)(k) for k in range(4)] for n in range(3)])"
   ]
  },
  {
   "cell_type": "markdown",
   "id": "5082e35e",
   "metadata": {},
   "source": [
    "We have a basis that looks pretty similar to the binomial basis we were considering before. Is this a polynomial basis? Is this a factorial basis?\n",
    "\n",
    "If we think in similar terms of the binomial, we need to find a sequence of polynomials $P_n(x) \\in \\mathbb{K}(q)[x]$ such that \n",
    "$$P_n(k) = \\qbinom{k}{n}$$\n",
    "\n",
    "By the structure of the basis, these polynomials have as roots $(0,1,...)$, so that would mean that they would be a factorial basis. That simply can not happen:"
   ]
  },
  {
   "cell_type": "code",
   "execution_count": 22,
   "id": "c4b39d3d",
   "metadata": {},
   "outputs": [
    {
     "data": {
      "text/plain": [
       "[0,\n",
       " 1,\n",
       " q + 1,\n",
       " q^2 + q + 1,\n",
       " q^3 + q^2 + q + 1,\n",
       " q^4 + q^3 + q^2 + q + 1,\n",
       " q^5 + q^4 + q^3 + q^2 + q + 1,\n",
       " q^6 + q^5 + q^4 + q^3 + q^2 + q + 1,\n",
       " q^7 + q^6 + q^5 + q^4 + q^3 + q^2 + q + 1,\n",
       " q^8 + q^7 + q^6 + q^5 + q^4 + q^3 + q^2 + q + 1]"
      ]
     },
     "execution_count": 22,
     "metadata": {},
     "output_type": "execute_result"
    }
   ],
   "source": [
    "QB1 = qbinomial_bas(1) # should be a polynomial of degree 1: a(q) + b(q)x\n",
    "[QB1(i) for i in range(10)] # the term 0 means a(q) = 0, and the term 1 means b(q) = 1... which can not be."
   ]
  },
  {
   "cell_type": "markdown",
   "id": "2120fed0",
   "metadata": {},
   "source": [
    "However, we have a sequence in a ring, we have a basis of the ring. We can still study the compatibility with operators:\n",
    "\n",
    "##### Compatibility with the shift operator $k \\rightarrow k+1$\n",
    "\n",
    "We can find in the literature that the $q$-binomial satisfies the following recurrence equation:\n",
    "$$\\qbinom{k+1}{n} = q^n\\qbinom{k}{n} + \\qbinom{k}{n-1}.$$"
   ]
  },
  {
   "cell_type": "code",
   "execution_count": 24,
   "id": "354e0dbe",
   "metadata": {},
   "outputs": [
    {
     "data": {
      "text/plain": [
       "[                        1                         1                         1                         1]\n",
       "[                        1                     q + 1               q^2 + q + 1         q^3 + q^2 + q + 1]\n",
       "[                        0                         1               q^2 + q + 1 q^4 + q^3 + 2*q^2 + q + 1]"
      ]
     },
     "execution_count": 24,
     "metadata": {},
     "output_type": "execute_result"
    }
   ],
   "source": [
    "shifted_basis = lambda n : lambda k : qbinomial_bas(n)(k+1)\n",
    "Matrix([[shifted_basis(n)(k) for k in range(4)] for n in range(3)])"
   ]
  },
  {
   "cell_type": "code",
   "execution_count": 32,
   "id": "697ea3e5",
   "metadata": {},
   "outputs": [
    {
     "data": {
      "text/plain": [
       "[[0, 0, 0, 0, 0, 0, 0, 0, 0, 0],\n",
       " [0, 0, 0, 0, 0, 0, 0, 0, 0, 0],\n",
       " [0, 0, 0, 0, 0, 0, 0, 0, 0, 0],\n",
       " [0, 0, 0, 0, 0, 0, 0, 0, 0, 0],\n",
       " [0, 0, 0, 0, 0, 0, 0, 0, 0, 0],\n",
       " [0, 0, 0, 0, 0, 0, 0, 0, 0, 0],\n",
       " [0, 0, 0, 0, 0, 0, 0, 0, 0, 0],\n",
       " [0, 0, 0, 0, 0, 0, 0, 0, 0, 0],\n",
       " [0, 0, 0, 0, 0, 0, 0, 0, 0, 0],\n",
       " [0, 0, 0, 0, 0, 0, 0, 0, 0, 0]]"
      ]
     },
     "execution_count": 32,
     "metadata": {},
     "output_type": "execute_result"
    }
   ],
   "source": [
    "f = lambda n : lambda k : shifted_basis(n)(k) - qbinomial_bas(n-1)(k) - (q^n)*qbinomial_bas(n)(k)\n",
    "[[f(n)(k) for k in range(10)] for n in range(10)]"
   ]
  },
  {
   "cell_type": "markdown",
   "id": "5d7c19cd",
   "metadata": {},
   "source": [
    "In the terms of compatibility, we have then that the $q$-binomial basis is compatible with $S: k \\mapsto k+1$ with the compatiblity equation:\n",
    "$$S \\cdot P_n = q^n P_n + P_{n-1}$$\n",
    "\n",
    "##### Compatibility with the multiplication by $k$"
   ]
  },
  {
   "cell_type": "code",
   "execution_count": 34,
   "id": "84a818d0",
   "metadata": {},
   "outputs": [
    {
     "data": {
      "text/plain": [
       "[              0               1               2               3]\n",
       "[              0               1         2*q + 2 3*q^2 + 3*q + 3]\n",
       "[              0               0               2 3*q^2 + 3*q + 3]"
      ]
     },
     "execution_count": 34,
     "metadata": {},
     "output_type": "execute_result"
    }
   ],
   "source": [
    "kmult_basis = lambda n : lambda k : k*qbinomial_bas(n)(k)\n",
    "Matrix([[kmult_basis(n)(k) for k in range(4)] for n in range(3)])"
   ]
  },
  {
   "cell_type": "markdown",
   "id": "303564dd",
   "metadata": {},
   "source": [
    "This operation is not compatible with the $q$-binomial basis since the sequence $(k)_k$ will appear as the first element and it can not be finitely represented in terms of $q$-binomials with a fixed down coefficient.\n",
    "\n",
    "##### Compatibility with the multiplication by $q$\n",
    "\n",
    "This is trivial since $q$ is part of the field we are taking the sequences from. Hence the compatibility is trivial:\n",
    "$$q P_k$$\n",
    "\n",
    "##### Compatibility with the multiplication by $q^k$\n",
    "\n",
    "This is the key operator to consider the equalities from Ali. What would be the compatibility rule (if it exists) for the multiplication by this number. The main problem here is to properly define the operator, since $k$ is a coefficient from the basis we are taking."
   ]
  },
  {
   "cell_type": "code",
   "execution_count": 51,
   "id": "d073d689",
   "metadata": {},
   "outputs": [
    {
     "data": {
      "text/plain": [
       "[              1               q             q^2             q^3]\n",
       "[              0               q       q^3 + q^2 q^5 + q^4 + q^3]\n",
       "[              0               0             q^2 q^5 + q^4 + q^3]"
      ]
     },
     "execution_count": 51,
     "metadata": {},
     "output_type": "execute_result"
    }
   ],
   "source": [
    "qmult_basis = lambda n : lambda k : (q^k)*qbinomial_bas(n)(k)\n",
    "Matrix([[qmult_basis(n)(k) for k in range(4)] for n in range(3)])"
   ]
  },
  {
   "cell_type": "code",
   "execution_count": 59,
   "id": "613956b7",
   "metadata": {},
   "outputs": [
    {
     "data": {
      "text/plain": [
       "[[0, 0, 0, 0, 0, 0, 0, 0, 0, 0],\n",
       " [0, 0, 0, 0, 0, 0, 0, 0, 0, 0],\n",
       " [0, 0, 0, 0, 0, 0, 0, 0, 0, 0],\n",
       " [0, 0, 0, 0, 0, 0, 0, 0, 0, 0],\n",
       " [0, 0, 0, 0, 0, 0, 0, 0, 0, 0],\n",
       " [0, 0, 0, 0, 0, 0, 0, 0, 0, 0],\n",
       " [0, 0, 0, 0, 0, 0, 0, 0, 0, 0],\n",
       " [0, 0, 0, 0, 0, 0, 0, 0, 0, 0],\n",
       " [0, 0, 0, 0, 0, 0, 0, 0, 0, 0],\n",
       " [0, 0, 0, 0, 0, 0, 0, 0, 0, 0]]"
      ]
     },
     "execution_count": 59,
     "metadata": {},
     "output_type": "execute_result"
    }
   ],
   "source": [
    "f = lambda n : lambda k : qmult_basis(n)(k) - q^n*qbinomial_bas(n)(k) - (q^(2*n+1) - q^n)*qbinomial_bas(n+1)(k)\n",
    "[[f(n)(k) for k in range(10)] for n in range(10)]"
   ]
  },
  {
   "cell_type": "markdown",
   "id": "692cdb84",
   "metadata": {},
   "source": [
    "By playing with the formulas, we have detected the following compatibility formula:\n",
    "\n",
    "$$ (q^k) \\cdot P_n = q^n P_n + (q^{2n+1}-q^n)P_{n+1}$$\n",
    "\n",
    "##### Compatibility with the inverse shift by $S^{-1}$\n",
    "\n",
    "Can we get a formula for this?"
   ]
  },
  {
   "cell_type": "code",
   "execution_count": 87,
   "id": "f614a761",
   "metadata": {},
   "outputs": [
    {
     "data": {
      "text/plain": [
       "[          0           1           1           1           1]\n",
       "[          0           0           1       q + 1 q^2 + q + 1]\n",
       "[          0           0           0           1 q^2 + q + 1]\n",
       "[          0           0           0           0           1]"
      ]
     },
     "execution_count": 87,
     "metadata": {},
     "output_type": "execute_result"
    }
   ],
   "source": [
    "ishifted_basis = lambda n : lambda k : qbinomial_bas(n)(k-1)\n",
    "Matrix([[ishifted_basis(n)(k) for k in range(5)] for n in range(4)])"
   ]
  },
  {
   "cell_type": "code",
   "execution_count": 88,
   "id": "40e9b511",
   "metadata": {},
   "outputs": [
    {
     "data": {
      "text/plain": [
       "[-1, 0, 0, 0, 0, 0, 0, 0, 0, 0]"
      ]
     },
     "execution_count": 88,
     "metadata": {},
     "output_type": "execute_result"
    }
   ],
   "source": [
    "f = lambda k : ishifted_basis(0)(k) - shifted_basis(0)(k)\n",
    "[f(k) for k in range(10)]"
   ]
  },
  {
   "cell_type": "markdown",
   "id": "f2ff01d7",
   "metadata": {},
   "source": [
    "## Adapting this context to the ``ore_algebra`` package \n",
    "\n",
    "We have so far compatibility with 3 types of operators:\n",
    "* Multiplication by the constant sequence $(q)_k$: $q: (a_k)_k \\mapsto (qa_k)_k$.\n",
    "* Multiplication by the power sequence $(q^k)_k$: $Q: (a_k)_k \\mapsto (q^ka_k)_k$.\n",
    "* Shift operator w.r.t. the $k$: $S: (a_k)_k \\mapsto (a_{k+1})_k$.\n",
    "\n",
    "We can see from here that $q$ and $Q$ commute, as much as $q$ and $S$. Moreover, since the multiplæication by $(k)_k$ is **not** compatible with the $q$-binomial basis, then we do not need to consider its operator. Hence we can consider the following ore algebra:"
   ]
  },
  {
   "cell_type": "code",
   "execution_count": 84,
   "id": "00ce8f50",
   "metadata": {},
   "outputs": [],
   "source": [
    "from ore_algebra import *\n",
    "B.<q,Q> = QQ['q', 'Q']\n",
    "F = FractionField(B)\n",
    "OA = OreAlgebra(F, ('S', {Q:q*Q},{}), ('Si', {Q:1/q*Q},{})); S,Si = OA.gens()"
   ]
  },
  {
   "cell_type": "code",
   "execution_count": 85,
   "id": "32e0ed4f",
   "metadata": {},
   "outputs": [
    {
     "data": {
      "text/plain": [
       "[q*S, q*S, q*Q, q*Q, Q*S, (q*Q)*S, q*Si, q*Si, Q/q*Si, Q*Si]"
      ]
     },
     "execution_count": 85,
     "metadata": {},
     "output_type": "execute_result"
    }
   ],
   "source": [
    "[q*S, S*q, q*Q, Q*q, Q*S, S*Q, Si*q, q*Si, Si*Q, Q*Si]"
   ]
  },
  {
   "cell_type": "markdown",
   "id": "42dc7b09",
   "metadata": {},
   "source": [
    "`Q` is now the multiplication by $q^k$  and `S` is the shift operator. Both were compatible, so we can create the correspondance for the compatibility. It is important to remark that the type of operators that we get are very similar: a combination of shifts w.r.t. $n$ and the multiplication by $q^n$. These new operators can be then put into the same ring of operators. One need to keep track on how many changes are done to keep track of the variables and summations."
   ]
  },
  {
   "cell_type": "code",
   "execution_count": 101,
   "id": "648d206c",
   "metadata": {},
   "outputs": [],
   "source": [
    "ruleS = S + Q\n",
    "ruleq = q\n",
    "ruleQ = Q + (Q^2-Q)/q*Si\n",
    "def compatibility(operator):\n",
    "    if not operator in OA or operator.degree(Si) > 0:\n",
    "        raise TypeError\n",
    "        \n",
    "    operator = OA(operator)\n",
    "    coefficients = operator.coefficients()\n",
    "    ## we evaluate each of the coefficients\n",
    "    coefficients = [coeff(q=ruleq, Q=ruleQ) for coeff in coefficients]\n",
    "    ## now we compute the powers of the shift\n",
    "    monomials = [ruleS**m.degree(S) for m in operator.polynomial().monomials()]\n",
    "    \n",
    "    ## we multiply everything together\n",
    "    result_wo_simpl = sum(coefficients[i]*monomials[i] for i in range(len(coefficients)))\n",
    "    ## we remove the ivnerse shift\n",
    "    result = result_wo_simpl.degree(Si) * result_wo_sipl\n",
    "    \n",
    "    ## we simplify the products of S and Si\n",
    "    coefficients = result.coefficients()\n",
    "    monomials = result.polynomial().monomials()\n",
    "    monomials = [S^(m.degree(S)-m.degree(Si)) for m in monomials]\n",
    "    return sum(coefficients[i]*monomials[i] for i in range(len(coefficients)))"
   ]
  },
  {
   "cell_type": "code",
   "execution_count": 104,
   "id": "6f4a90d9",
   "metadata": {},
   "outputs": [],
   "source": [
    "L = Q*S^2 - Q/q*S - 1"
   ]
  },
  {
   "cell_type": "code",
   "execution_count": 105,
   "id": "8dbf6f0e",
   "metadata": {},
   "outputs": [
    {
     "ename": "TypeError",
     "evalue": "unsupported operand parent(s) for /: 'Multivariate Ore algebra in S, Si over Fraction Field of Multivariate Polynomial Ring in q, Q over Rational Field' and 'Multivariate Ore algebra in S, Si over Fraction Field of Multivariate Polynomial Ring in q, Q over Rational Field'",
     "output_type": "error",
     "traceback": [
      "\u001b[0;31m---------------------------------------------------------------------------\u001b[0m",
      "\u001b[0;31mKeyError\u001b[0m                                  Traceback (most recent call last)",
      "\u001b[0;32m~/sage/src/sage/structure/category_object.pyx\u001b[0m in \u001b[0;36msage.structure.category_object.CategoryObject.getattr_from_category\u001b[0;34m()\u001b[0m\n\u001b[1;32m    838\u001b[0m         \u001b[0;32mtry\u001b[0m\u001b[0;34m:\u001b[0m\u001b[0;34m\u001b[0m\u001b[0;34m\u001b[0m\u001b[0m\n\u001b[0;32m--> 839\u001b[0;31m             \u001b[0;32mreturn\u001b[0m \u001b[0mself\u001b[0m\u001b[0;34m.\u001b[0m\u001b[0m__cached_methods\u001b[0m\u001b[0;34m[\u001b[0m\u001b[0mname\u001b[0m\u001b[0;34m]\u001b[0m\u001b[0;34m\u001b[0m\u001b[0;34m\u001b[0m\u001b[0m\n\u001b[0m\u001b[1;32m    840\u001b[0m         \u001b[0;32mexcept\u001b[0m \u001b[0mKeyError\u001b[0m\u001b[0;34m:\u001b[0m\u001b[0;34m\u001b[0m\u001b[0;34m\u001b[0m\u001b[0m\n",
      "\u001b[0;31mKeyError\u001b[0m: 'fraction_field'",
      "\nDuring handling of the above exception, another exception occurred:\n",
      "\u001b[0;31mAttributeError\u001b[0m                            Traceback (most recent call last)",
      "\u001b[0;32m~/sage/src/sage/structure/element.pyx\u001b[0m in \u001b[0;36msage.structure.element.RingElement._div_\u001b[0;34m()\u001b[0m\n\u001b[1;32m   2735\u001b[0m         \u001b[0;32mtry\u001b[0m\u001b[0;34m:\u001b[0m\u001b[0;34m\u001b[0m\u001b[0;34m\u001b[0m\u001b[0m\n\u001b[0;32m-> 2736\u001b[0;31m             \u001b[0mfrac\u001b[0m \u001b[0;34m=\u001b[0m \u001b[0mself\u001b[0m\u001b[0;34m.\u001b[0m\u001b[0m_parent\u001b[0m\u001b[0;34m.\u001b[0m\u001b[0mfraction_field\u001b[0m\u001b[0;34m(\u001b[0m\u001b[0;34m)\u001b[0m\u001b[0;34m\u001b[0m\u001b[0;34m\u001b[0m\u001b[0m\n\u001b[0m\u001b[1;32m   2737\u001b[0m         \u001b[0;32mexcept\u001b[0m \u001b[0mAttributeError\u001b[0m\u001b[0;34m:\u001b[0m\u001b[0;34m\u001b[0m\u001b[0;34m\u001b[0m\u001b[0m\n",
      "\u001b[0;32m~/sage/src/sage/structure/category_object.pyx\u001b[0m in \u001b[0;36msage.structure.category_object.CategoryObject.__getattr__\u001b[0;34m()\u001b[0m\n\u001b[1;32m    832\u001b[0m         \"\"\"\n\u001b[0;32m--> 833\u001b[0;31m         \u001b[0;32mreturn\u001b[0m \u001b[0mself\u001b[0m\u001b[0;34m.\u001b[0m\u001b[0mgetattr_from_category\u001b[0m\u001b[0;34m(\u001b[0m\u001b[0mname\u001b[0m\u001b[0;34m)\u001b[0m\u001b[0;34m\u001b[0m\u001b[0;34m\u001b[0m\u001b[0m\n\u001b[0m\u001b[1;32m    834\u001b[0m \u001b[0;34m\u001b[0m\u001b[0m\n",
      "\u001b[0;32m~/sage/src/sage/structure/category_object.pyx\u001b[0m in \u001b[0;36msage.structure.category_object.CategoryObject.getattr_from_category\u001b[0;34m()\u001b[0m\n\u001b[1;32m    847\u001b[0m \u001b[0;34m\u001b[0m\u001b[0m\n\u001b[0;32m--> 848\u001b[0;31m             \u001b[0mattr\u001b[0m \u001b[0;34m=\u001b[0m \u001b[0mgetattr_from_other_class\u001b[0m\u001b[0;34m(\u001b[0m\u001b[0mself\u001b[0m\u001b[0;34m,\u001b[0m \u001b[0mcls\u001b[0m\u001b[0;34m,\u001b[0m \u001b[0mname\u001b[0m\u001b[0;34m)\u001b[0m\u001b[0;34m\u001b[0m\u001b[0;34m\u001b[0m\u001b[0m\n\u001b[0m\u001b[1;32m    849\u001b[0m             \u001b[0mself\u001b[0m\u001b[0;34m.\u001b[0m\u001b[0m__cached_methods\u001b[0m\u001b[0;34m[\u001b[0m\u001b[0mname\u001b[0m\u001b[0;34m]\u001b[0m \u001b[0;34m=\u001b[0m \u001b[0mattr\u001b[0m\u001b[0;34m\u001b[0m\u001b[0;34m\u001b[0m\u001b[0m\n",
      "\u001b[0;32m~/sage/src/sage/cpython/getattr.pyx\u001b[0m in \u001b[0;36msage.cpython.getattr.getattr_from_other_class\u001b[0;34m()\u001b[0m\n\u001b[1;32m    355\u001b[0m         \u001b[0mdummy_error_message\u001b[0m\u001b[0;34m.\u001b[0m\u001b[0mname\u001b[0m \u001b[0;34m=\u001b[0m \u001b[0mname\u001b[0m\u001b[0;34m\u001b[0m\u001b[0;34m\u001b[0m\u001b[0m\n\u001b[0;32m--> 356\u001b[0;31m         \u001b[0;32mraise\u001b[0m \u001b[0mAttributeError\u001b[0m\u001b[0;34m(\u001b[0m\u001b[0mdummy_error_message\u001b[0m\u001b[0;34m)\u001b[0m\u001b[0;34m\u001b[0m\u001b[0;34m\u001b[0m\u001b[0m\n\u001b[0m\u001b[1;32m    357\u001b[0m     \u001b[0mcdef\u001b[0m \u001b[0mPyObject\u001b[0m\u001b[0;34m*\u001b[0m \u001b[0mattr\u001b[0m \u001b[0;34m=\u001b[0m \u001b[0minstance_getattr\u001b[0m\u001b[0;34m(\u001b[0m\u001b[0mcls\u001b[0m\u001b[0;34m,\u001b[0m \u001b[0mname\u001b[0m\u001b[0;34m)\u001b[0m\u001b[0;34m\u001b[0m\u001b[0;34m\u001b[0m\u001b[0m\n",
      "\u001b[0;31mAttributeError\u001b[0m: 'OreAlgebra_generic_with_category' object has no attribute '__custom_name'",
      "\nDuring handling of the above exception, another exception occurred:\n",
      "\u001b[0;31mTypeError\u001b[0m                                 Traceback (most recent call last)",
      "\u001b[0;32m/tmp/ipykernel_7595/3336600234.py\u001b[0m in \u001b[0;36m<module>\u001b[0;34m\u001b[0m\n\u001b[0;32m----> 1\u001b[0;31m \u001b[0mcompatibility\u001b[0m\u001b[0;34m(\u001b[0m\u001b[0mL\u001b[0m\u001b[0;34m)\u001b[0m\u001b[0;34m\u001b[0m\u001b[0;34m\u001b[0m\u001b[0m\n\u001b[0m",
      "\u001b[0;32m/tmp/ipykernel_7595/2719907439.py\u001b[0m in \u001b[0;36mcompatibility\u001b[0;34m(operator)\u001b[0m\n\u001b[1;32m      9\u001b[0m     \u001b[0mcoefficients\u001b[0m \u001b[0;34m=\u001b[0m \u001b[0moperator\u001b[0m\u001b[0;34m.\u001b[0m\u001b[0mcoefficients\u001b[0m\u001b[0;34m(\u001b[0m\u001b[0;34m)\u001b[0m\u001b[0;34m\u001b[0m\u001b[0;34m\u001b[0m\u001b[0m\n\u001b[1;32m     10\u001b[0m     \u001b[0;31m## we evaluate each of the coefficients\u001b[0m\u001b[0;34m\u001b[0m\u001b[0;34m\u001b[0m\u001b[0;34m\u001b[0m\u001b[0m\n\u001b[0;32m---> 11\u001b[0;31m     \u001b[0mcoefficients\u001b[0m \u001b[0;34m=\u001b[0m \u001b[0;34m[\u001b[0m\u001b[0mcoeff\u001b[0m\u001b[0;34m(\u001b[0m\u001b[0mq\u001b[0m\u001b[0;34m=\u001b[0m\u001b[0mruleq\u001b[0m\u001b[0;34m,\u001b[0m \u001b[0mQ\u001b[0m\u001b[0;34m=\u001b[0m\u001b[0mruleQ\u001b[0m\u001b[0;34m)\u001b[0m \u001b[0;32mfor\u001b[0m \u001b[0mcoeff\u001b[0m \u001b[0;32min\u001b[0m \u001b[0mcoefficients\u001b[0m\u001b[0;34m]\u001b[0m\u001b[0;34m\u001b[0m\u001b[0;34m\u001b[0m\u001b[0m\n\u001b[0m\u001b[1;32m     12\u001b[0m     \u001b[0;31m## now we compute the powers of the shift\u001b[0m\u001b[0;34m\u001b[0m\u001b[0;34m\u001b[0m\u001b[0;34m\u001b[0m\u001b[0m\n\u001b[1;32m     13\u001b[0m     \u001b[0mmonomials\u001b[0m \u001b[0;34m=\u001b[0m \u001b[0;34m[\u001b[0m\u001b[0mruleS\u001b[0m\u001b[0;34m**\u001b[0m\u001b[0mm\u001b[0m\u001b[0;34m.\u001b[0m\u001b[0mdegree\u001b[0m\u001b[0;34m(\u001b[0m\u001b[0mS\u001b[0m\u001b[0;34m)\u001b[0m \u001b[0;32mfor\u001b[0m \u001b[0mm\u001b[0m \u001b[0;32min\u001b[0m \u001b[0moperator\u001b[0m\u001b[0;34m.\u001b[0m\u001b[0mpolynomial\u001b[0m\u001b[0;34m(\u001b[0m\u001b[0;34m)\u001b[0m\u001b[0;34m.\u001b[0m\u001b[0mmonomials\u001b[0m\u001b[0;34m(\u001b[0m\u001b[0;34m)\u001b[0m\u001b[0;34m]\u001b[0m\u001b[0;34m\u001b[0m\u001b[0;34m\u001b[0m\u001b[0m\n",
      "\u001b[0;32m/tmp/ipykernel_7595/2719907439.py\u001b[0m in \u001b[0;36m<listcomp>\u001b[0;34m(.0)\u001b[0m\n\u001b[1;32m      9\u001b[0m     \u001b[0mcoefficients\u001b[0m \u001b[0;34m=\u001b[0m \u001b[0moperator\u001b[0m\u001b[0;34m.\u001b[0m\u001b[0mcoefficients\u001b[0m\u001b[0;34m(\u001b[0m\u001b[0;34m)\u001b[0m\u001b[0;34m\u001b[0m\u001b[0;34m\u001b[0m\u001b[0m\n\u001b[1;32m     10\u001b[0m     \u001b[0;31m## we evaluate each of the coefficients\u001b[0m\u001b[0;34m\u001b[0m\u001b[0;34m\u001b[0m\u001b[0;34m\u001b[0m\u001b[0m\n\u001b[0;32m---> 11\u001b[0;31m     \u001b[0mcoefficients\u001b[0m \u001b[0;34m=\u001b[0m \u001b[0;34m[\u001b[0m\u001b[0mcoeff\u001b[0m\u001b[0;34m(\u001b[0m\u001b[0mq\u001b[0m\u001b[0;34m=\u001b[0m\u001b[0mruleq\u001b[0m\u001b[0;34m,\u001b[0m \u001b[0mQ\u001b[0m\u001b[0;34m=\u001b[0m\u001b[0mruleQ\u001b[0m\u001b[0;34m)\u001b[0m \u001b[0;32mfor\u001b[0m \u001b[0mcoeff\u001b[0m \u001b[0;32min\u001b[0m \u001b[0mcoefficients\u001b[0m\u001b[0;34m]\u001b[0m\u001b[0;34m\u001b[0m\u001b[0;34m\u001b[0m\u001b[0m\n\u001b[0m\u001b[1;32m     12\u001b[0m     \u001b[0;31m## now we compute the powers of the shift\u001b[0m\u001b[0;34m\u001b[0m\u001b[0;34m\u001b[0m\u001b[0;34m\u001b[0m\u001b[0m\n\u001b[1;32m     13\u001b[0m     \u001b[0mmonomials\u001b[0m \u001b[0;34m=\u001b[0m \u001b[0;34m[\u001b[0m\u001b[0mruleS\u001b[0m\u001b[0;34m**\u001b[0m\u001b[0mm\u001b[0m\u001b[0;34m.\u001b[0m\u001b[0mdegree\u001b[0m\u001b[0;34m(\u001b[0m\u001b[0mS\u001b[0m\u001b[0;34m)\u001b[0m \u001b[0;32mfor\u001b[0m \u001b[0mm\u001b[0m \u001b[0;32min\u001b[0m \u001b[0moperator\u001b[0m\u001b[0;34m.\u001b[0m\u001b[0mpolynomial\u001b[0m\u001b[0;34m(\u001b[0m\u001b[0;34m)\u001b[0m\u001b[0;34m.\u001b[0m\u001b[0mmonomials\u001b[0m\u001b[0;34m(\u001b[0m\u001b[0;34m)\u001b[0m\u001b[0;34m]\u001b[0m\u001b[0;34m\u001b[0m\u001b[0;34m\u001b[0m\u001b[0m\n",
      "\u001b[0;32m~/sage/src/sage/rings/fraction_field_element.pyx\u001b[0m in \u001b[0;36msage.rings.fraction_field_element.FractionFieldElement.__call__\u001b[0;34m()\u001b[0m\n\u001b[1;32m    447\u001b[0m             \u001b[0;34m(\u001b[0m\u001b[0;34m-\u001b[0m\u001b[0;36m2\u001b[0m\u001b[0;34m*\u001b[0m\u001b[0mx1\u001b[0m\u001b[0;34m*\u001b[0m\u001b[0mx2\u001b[0m \u001b[0;34m+\u001b[0m \u001b[0mx1\u001b[0m \u001b[0;34m+\u001b[0m \u001b[0;36m1\u001b[0m\u001b[0;34m)\u001b[0m\u001b[0;34m/\u001b[0m\u001b[0;34m(\u001b[0m\u001b[0mx1\u001b[0m \u001b[0;34m+\u001b[0m \u001b[0mx2\u001b[0m\u001b[0;34m)\u001b[0m\u001b[0;34m\u001b[0m\u001b[0;34m\u001b[0m\u001b[0m\n\u001b[1;32m    448\u001b[0m         \"\"\"\n\u001b[0;32m--> 449\u001b[0;31m         \u001b[0;32mreturn\u001b[0m \u001b[0mself\u001b[0m\u001b[0;34m.\u001b[0m\u001b[0m__numerator\u001b[0m\u001b[0;34m(\u001b[0m\u001b[0;34m*\u001b[0m\u001b[0mx\u001b[0m\u001b[0;34m,\u001b[0m \u001b[0;34m**\u001b[0m\u001b[0mkwds\u001b[0m\u001b[0;34m)\u001b[0m \u001b[0;34m/\u001b[0m \u001b[0mself\u001b[0m\u001b[0;34m.\u001b[0m\u001b[0m__denominator\u001b[0m\u001b[0;34m(\u001b[0m\u001b[0;34m*\u001b[0m\u001b[0mx\u001b[0m\u001b[0;34m,\u001b[0m \u001b[0;34m**\u001b[0m\u001b[0mkwds\u001b[0m\u001b[0;34m)\u001b[0m\u001b[0;34m\u001b[0m\u001b[0;34m\u001b[0m\u001b[0m\n\u001b[0m\u001b[1;32m    450\u001b[0m \u001b[0;34m\u001b[0m\u001b[0m\n\u001b[1;32m    451\u001b[0m     \u001b[0;32mdef\u001b[0m \u001b[0m_is_atomic\u001b[0m\u001b[0;34m(\u001b[0m\u001b[0mself\u001b[0m\u001b[0;34m)\u001b[0m\u001b[0;34m:\u001b[0m\u001b[0;34m\u001b[0m\u001b[0;34m\u001b[0m\u001b[0m\n",
      "\u001b[0;32m~/sage/src/sage/structure/element.pyx\u001b[0m in \u001b[0;36msage.structure.element.Element.__truediv__\u001b[0;34m()\u001b[0m\n\u001b[1;32m   1737\u001b[0m             \u001b[0;32mreturn\u001b[0m \u001b[0;34m(\u001b[0m\u001b[0;34m<\u001b[0m\u001b[0mElement\u001b[0m\u001b[0;34m>\u001b[0m\u001b[0mleft\u001b[0m\u001b[0;34m)\u001b[0m\u001b[0;34m.\u001b[0m\u001b[0m_div_\u001b[0m\u001b[0;34m(\u001b[0m\u001b[0mright\u001b[0m\u001b[0;34m)\u001b[0m\u001b[0;34m\u001b[0m\u001b[0;34m\u001b[0m\u001b[0m\n\u001b[1;32m   1738\u001b[0m         \u001b[0;32mif\u001b[0m \u001b[0mBOTH_ARE_ELEMENT\u001b[0m\u001b[0;34m(\u001b[0m\u001b[0mcl\u001b[0m\u001b[0;34m)\u001b[0m\u001b[0;34m:\u001b[0m\u001b[0;34m\u001b[0m\u001b[0;34m\u001b[0m\u001b[0m\n\u001b[0;32m-> 1739\u001b[0;31m             \u001b[0;32mreturn\u001b[0m \u001b[0mcoercion_model\u001b[0m\u001b[0;34m.\u001b[0m\u001b[0mbin_op\u001b[0m\u001b[0;34m(\u001b[0m\u001b[0mleft\u001b[0m\u001b[0;34m,\u001b[0m \u001b[0mright\u001b[0m\u001b[0;34m,\u001b[0m \u001b[0mtruediv\u001b[0m\u001b[0;34m)\u001b[0m\u001b[0;34m\u001b[0m\u001b[0;34m\u001b[0m\u001b[0m\n\u001b[0m\u001b[1;32m   1740\u001b[0m \u001b[0;34m\u001b[0m\u001b[0m\n\u001b[1;32m   1741\u001b[0m         \u001b[0;32mtry\u001b[0m\u001b[0;34m:\u001b[0m\u001b[0;34m\u001b[0m\u001b[0;34m\u001b[0m\u001b[0m\n",
      "\u001b[0;32m~/sage/src/sage/structure/coerce.pyx\u001b[0m in \u001b[0;36msage.structure.coerce.CoercionModel.bin_op\u001b[0;34m()\u001b[0m\n\u001b[1;32m   1202\u001b[0m             \u001b[0mself\u001b[0m\u001b[0;34m.\u001b[0m\u001b[0m_record_exception\u001b[0m\u001b[0;34m(\u001b[0m\u001b[0;34m)\u001b[0m\u001b[0;34m\u001b[0m\u001b[0;34m\u001b[0m\u001b[0m\n\u001b[1;32m   1203\u001b[0m         \u001b[0;32melse\u001b[0m\u001b[0;34m:\u001b[0m\u001b[0;34m\u001b[0m\u001b[0;34m\u001b[0m\u001b[0m\n\u001b[0;32m-> 1204\u001b[0;31m             \u001b[0;32mreturn\u001b[0m \u001b[0mPyObject_CallObject\u001b[0m\u001b[0;34m(\u001b[0m\u001b[0mop\u001b[0m\u001b[0;34m,\u001b[0m \u001b[0mxy\u001b[0m\u001b[0;34m)\u001b[0m\u001b[0;34m\u001b[0m\u001b[0;34m\u001b[0m\u001b[0m\n\u001b[0m\u001b[1;32m   1205\u001b[0m \u001b[0;34m\u001b[0m\u001b[0m\n\u001b[1;32m   1206\u001b[0m         \u001b[0;32mif\u001b[0m \u001b[0mop\u001b[0m \u001b[0;32mis\u001b[0m \u001b[0mmul\u001b[0m\u001b[0;34m:\u001b[0m\u001b[0;34m\u001b[0m\u001b[0;34m\u001b[0m\u001b[0m\n",
      "\u001b[0;32m~/sage/src/sage/structure/element.pyx\u001b[0m in \u001b[0;36msage.structure.element.Element.__truediv__\u001b[0;34m()\u001b[0m\n\u001b[1;32m   1735\u001b[0m         \u001b[0mcdef\u001b[0m \u001b[0mint\u001b[0m \u001b[0mcl\u001b[0m \u001b[0;34m=\u001b[0m \u001b[0mclassify_elements\u001b[0m\u001b[0;34m(\u001b[0m\u001b[0mleft\u001b[0m\u001b[0;34m,\u001b[0m \u001b[0mright\u001b[0m\u001b[0;34m)\u001b[0m\u001b[0;34m\u001b[0m\u001b[0;34m\u001b[0m\u001b[0m\n\u001b[1;32m   1736\u001b[0m         \u001b[0;32mif\u001b[0m \u001b[0mHAVE_SAME_PARENT\u001b[0m\u001b[0;34m(\u001b[0m\u001b[0mcl\u001b[0m\u001b[0;34m)\u001b[0m\u001b[0;34m:\u001b[0m\u001b[0;34m\u001b[0m\u001b[0;34m\u001b[0m\u001b[0m\n\u001b[0;32m-> 1737\u001b[0;31m             \u001b[0;32mreturn\u001b[0m \u001b[0;34m(\u001b[0m\u001b[0;34m<\u001b[0m\u001b[0mElement\u001b[0m\u001b[0;34m>\u001b[0m\u001b[0mleft\u001b[0m\u001b[0;34m)\u001b[0m\u001b[0;34m.\u001b[0m\u001b[0m_div_\u001b[0m\u001b[0;34m(\u001b[0m\u001b[0mright\u001b[0m\u001b[0;34m)\u001b[0m\u001b[0;34m\u001b[0m\u001b[0;34m\u001b[0m\u001b[0m\n\u001b[0m\u001b[1;32m   1738\u001b[0m         \u001b[0;32mif\u001b[0m \u001b[0mBOTH_ARE_ELEMENT\u001b[0m\u001b[0;34m(\u001b[0m\u001b[0mcl\u001b[0m\u001b[0;34m)\u001b[0m\u001b[0;34m:\u001b[0m\u001b[0;34m\u001b[0m\u001b[0;34m\u001b[0m\u001b[0m\n\u001b[1;32m   1739\u001b[0m             \u001b[0;32mreturn\u001b[0m \u001b[0mcoercion_model\u001b[0m\u001b[0;34m.\u001b[0m\u001b[0mbin_op\u001b[0m\u001b[0;34m(\u001b[0m\u001b[0mleft\u001b[0m\u001b[0;34m,\u001b[0m \u001b[0mright\u001b[0m\u001b[0;34m,\u001b[0m \u001b[0mtruediv\u001b[0m\u001b[0;34m)\u001b[0m\u001b[0;34m\u001b[0m\u001b[0;34m\u001b[0m\u001b[0m\n",
      "\u001b[0;32m~/sage/src/sage/structure/element.pyx\u001b[0m in \u001b[0;36msage.structure.element.RingElement._div_\u001b[0;34m()\u001b[0m\n\u001b[1;32m   2736\u001b[0m             \u001b[0mfrac\u001b[0m \u001b[0;34m=\u001b[0m \u001b[0mself\u001b[0m\u001b[0;34m.\u001b[0m\u001b[0m_parent\u001b[0m\u001b[0;34m.\u001b[0m\u001b[0mfraction_field\u001b[0m\u001b[0;34m(\u001b[0m\u001b[0;34m)\u001b[0m\u001b[0;34m\u001b[0m\u001b[0;34m\u001b[0m\u001b[0m\n\u001b[1;32m   2737\u001b[0m         \u001b[0;32mexcept\u001b[0m \u001b[0mAttributeError\u001b[0m\u001b[0;34m:\u001b[0m\u001b[0;34m\u001b[0m\u001b[0;34m\u001b[0m\u001b[0m\n\u001b[0;32m-> 2738\u001b[0;31m             \u001b[0;32mraise\u001b[0m \u001b[0mbin_op_exception\u001b[0m\u001b[0;34m(\u001b[0m\u001b[0;34m'/'\u001b[0m\u001b[0;34m,\u001b[0m \u001b[0mself\u001b[0m\u001b[0;34m,\u001b[0m \u001b[0mother\u001b[0m\u001b[0;34m)\u001b[0m\u001b[0;34m\u001b[0m\u001b[0;34m\u001b[0m\u001b[0m\n\u001b[0m\u001b[1;32m   2739\u001b[0m         \u001b[0;32mreturn\u001b[0m \u001b[0mfrac\u001b[0m\u001b[0;34m(\u001b[0m\u001b[0mself\u001b[0m\u001b[0;34m,\u001b[0m \u001b[0mother\u001b[0m\u001b[0;34m)\u001b[0m\u001b[0;34m\u001b[0m\u001b[0;34m\u001b[0m\u001b[0m\n\u001b[1;32m   2740\u001b[0m \u001b[0;34m\u001b[0m\u001b[0m\n",
      "\u001b[0;31mTypeError\u001b[0m: unsupported operand parent(s) for /: 'Multivariate Ore algebra in S, Si over Fraction Field of Multivariate Polynomial Ring in q, Q over Rational Field' and 'Multivariate Ore algebra in S, Si over Fraction Field of Multivariate Polynomial Ring in q, Q over Rational Field'"
     ]
    }
   ],
   "source": [
    "compatibility(L)"
   ]
  },
  {
   "cell_type": "markdown",
   "id": "a7ba2c75",
   "metadata": {},
   "source": [
    "We may need to add also $Q^{-1}$, or restric the type of operators in the input. We also need to see what will happen with the $(q;q)_n$ factor that appeared in the formulas.\n",
    "\n",
    "Otherwise, the compatibility with the $q$-binomial basis seems to be worked out."
   ]
  },
  {
   "cell_type": "code",
   "execution_count": null,
   "id": "755717b4",
   "metadata": {},
   "outputs": [],
   "source": []
  }
 ],
 "metadata": {
  "kernelspec": {
   "display_name": "SageMath 9.6",
   "language": "sage",
   "name": "sagemath"
  },
  "language_info": {
   "codemirror_mode": {
    "name": "ipython",
    "version": 3
   },
   "file_extension": ".py",
   "mimetype": "text/x-python",
   "name": "python",
   "nbconvert_exporter": "python",
   "pygments_lexer": "ipython3",
   "version": "3.8.10"
  }
 },
 "nbformat": 4,
 "nbformat_minor": 5
}
