{
 "cells": [
  {
   "cell_type": "code",
   "execution_count": 26,
   "id": "5d99a256",
   "metadata": {},
   "outputs": [],
   "source": [
    "%display latex\n",
    "from alive_progress import alive_bar\n",
    "from pseries_basis import *\n",
    "from ore_algebra import *\n",
    "n = PSBasis.n(PSBasis)"
   ]
  },
  {
   "cell_type": "code",
   "execution_count": 2,
   "id": "f06671a1",
   "metadata": {},
   "outputs": [
    {
     "data": {
      "text/html": [
       "<html>\\(\\displaystyle \\left\\{\\binom{x}{n}\\right\\}_{n\\geq 0}\\)</html>"
      ],
      "text/latex": [
       "$\\displaystyle \\left\\{\\binom{x}{n}\\right\\}_{n\\geq 0}$"
      ],
      "text/plain": [
       "Binomial basis (x) choose n"
      ]
     },
     "execution_count": 2,
     "metadata": {},
     "output_type": "execute_result"
    }
   ],
   "source": [
    "B = BinomialBasis(); B"
   ]
  },
  {
   "cell_type": "code",
   "execution_count": 3,
   "id": "af6f11e8",
   "metadata": {},
   "outputs": [],
   "source": [
    "OE.<E> = OreAlgebra(QQ[x], ('E', lambda p : p(x=x+1), lambda p : 0))\n",
    "x = OE.base().gens()[0]"
   ]
  },
  {
   "cell_type": "code",
   "execution_count": 4,
   "id": "5fd229d2",
   "metadata": {},
   "outputs": [],
   "source": [
    "def poly_decomp(polynomial):\n",
    "    r'''\n",
    "        Method that splits a polynomial into a lists of monomials and a list of coefficients indexed in \n",
    "        such a way that summing thorugh both lists gives the original polynomial.\n",
    "        \n",
    "        This method unifies the behavior or Univariate and Multivariate polynomials.\n",
    "    '''\n",
    "    from sage.rings.polynomial.polynomial_element import is_MPolynomialRing, is_PolynomialRing\n",
    "    if is_PolynomialRing(polynomial.parent()):\n",
    "        g = polynomial.parent().gens()[0]\n",
    "        d = polynomial.degree()\n",
    "        monomials = [g**i for i in range(d+1)]\n",
    "        coefficients = polynomial.coefficients(False)\n",
    "        # we clean the zeros to have a sparse representation\n",
    "        monomials = [monomials[i] for i in range(d+1) if coefficients[i] != 0]\n",
    "        coefficients = [c for c in coefficients if c != 0]\n",
    "    elif is_MPolynomialRing(polynomial.parent()):\n",
    "        monomials = polynomial.monomials()\n",
    "        coefficients = polynomial.coefficients()\n",
    "    else:\n",
    "        raise TypeError(\"The input must be a polynomial\")\n",
    "    return monomials, coefficients\n",
    "\n",
    "def apply_operator_to_seq(operator, seq):\n",
    "    r'''\n",
    "        Method to apply an operator to a sequence.\n",
    "        \n",
    "        This method will be similar to the usual __call__ method from ``ore_algebra``, but with sequences that\n",
    "        are given as functions.\n",
    "        \n",
    "        INPUT:\n",
    "        \n",
    "        * ``operator``: and operator with 1 generator (the shift) over the polynomial ring `\\mathbb{R}[x]`.\n",
    "        * ``seq``: a sequence in functional format. This means that we can call it with integer values and we \n",
    "          obtain the values of the sequence at each point.\n",
    "          \n",
    "        OUTPUT:\n",
    "        \n",
    "        A sequence in function format.\n",
    "    '''\n",
    "    if len(operator.parent().gens()) > 1:\n",
    "        raise TypeError()\n",
    "    E = operator.parent().gens()[0]\n",
    "    v = operator.parent().base().gens()[0]\n",
    "    coefficients = operator.coefficients(sparse=False)\n",
    "    return lambda i : sum(coefficients[j](**{str(v):i})*seq(i+j) for j in range(len(coefficients)))\n",
    "\n",
    "def get_converted_init(seq, bas, size):\n",
    "    r'''\n",
    "        Method that computes new initial values after a conversion.\n",
    "        \n",
    "        Let `((P_{n,k})_n)_k` be a basis of the sequence space and ``seq`` the\n",
    "        functional representation of a sequence `(a_n)_n`. If we express this\n",
    "        sequence in the form:\n",
    "        \n",
    "        .. MATH::\n",
    "            \n",
    "            a_n = \\sum_{k=0}^n P_{n,k} c_k,\n",
    "            \n",
    "        then the sequence `(c_k)_k` can be explicitly computed by solving a linear system.\n",
    "        \n",
    "        This method solves such system for a fixed amount of elements (gibven by ``size``)\n",
    "    '''\n",
    "    inhom = vector([seq(i) for i in range(size)])\n",
    "    M = Matrix([[bas[i](j) for i in range(size)] for j in range(size)])\n",
    "    return list(M.solve_right(inhom))\n",
    "\n",
    "def required_init(operator):\n",
    "    return max(-min([0]+[el[0] for el in operator.polynomial().lc().roots() if el[0] in ZZ]), operator.order())\n",
    "    \n",
    "def solution(operator, init):\n",
    "    d = operator.order()\n",
    "    required = required_init(operator)\n",
    "    if len(init) < required:\n",
    "        raise ValueError(f\"More data ({required}) is needed\")\n",
    "    @lru_cache\n",
    "    def __aux_sol(n):\n",
    "        if n < 0:\n",
    "            return 0\n",
    "        elif n < operator.order():\n",
    "            return init[n]\n",
    "        else:\n",
    "            coeffs = operator.polynomial().coefficients(False)\n",
    "            lc = coeffs.pop()\n",
    "            return -sum(__aux_sol(n-d+i)*coeffs[i](n-d) for i in range(operator.order()))/lc(n-d)\n",
    "    return __aux_sol\n",
    "\n",
    "def eval_ore_operator(operator, ring=None,**values):\n",
    "    r'''\n",
    "        Method to evaluate ore operators\n",
    "        \n",
    "        This method evaluate operators from ``ore_algebra`` as they are polynomials. This allows to change the name \n",
    "        of the generators to try a iterative approach.\n",
    "    '''\n",
    "    gens = [str(el) for el in operator.parent().gens()]\n",
    "    outer_vals = {el : values.get(el, 0) for el in gens}\n",
    "    inner_vals = {el : values[el] for el in values if (not el in outer_vals)}\n",
    "    monomials,coefficients = poly_decomp(operator.polynomial())\n",
    "    coefficients = [el(**inner_vals) for el in coefficients]\n",
    "    monomials = [prod(\n",
    "        outer_vals[str(g)]**(m.degree(g)) for g in operator.polynomial().parent().gens()\n",
    "    ) for m in monomials]\n",
    "    result = sum(coefficients[i]*monomials[i] for i in range(len(monomials)))\n",
    "    if ring != None:\n",
    "        return ring(result)\n",
    "    return result\n",
    "\n",
    "def ass_recurrence(operator, basis, ring):\n",
    "    return eval_ore_operator(basis.remove_Sni(basis.recurrence(operator)), ring, Sn=E, n=x,Sni=1)\n",
    "\n",
    "class latex_str:\n",
    "    def __init__(self, data):\n",
    "        self.__data = data\n",
    "        self.__latex = None\n",
    "        \n",
    "    def __repr__(self):\n",
    "        return self.__data\n",
    "    def __str__(self):\n",
    "        return self.__data\n",
    "    def _latex_(self):\n",
    "        if self.__latex is None:\n",
    "            self.__latex = self.__data.replace(\"*\", \"\").replace(\"+0\", \"\")\n",
    "            \n",
    "        return self.__latex\n",
    "\n",
    "def print_recurrence(operator):\n",
    "    r'''\n",
    "        Method to print nicely the recurrence equation induced by an operator.\n",
    "    '''\n",
    "    if len(operator.parent().gens()) > 1:\n",
    "        raise TypeError()\n",
    "    E = operator.parent().gens()[0]\n",
    "    v = operator.parent().base().gens()[0]\n",
    "    coefficients = operator.coefficients(sparse=False)\n",
    "    \n",
    "    return latex_str(\" + \".join(\n",
    "        \"(\" + \n",
    "        str(coefficients[j]).replace(str(v),'n') + \n",
    "        \")*\"\n",
    "        \"a_{n+\" + str(j) + \"}\" for j in range(len(coefficients))) + \" = 0\")"
   ]
  },
  {
   "cell_type": "code",
   "execution_count": 5,
   "id": "0613e16b",
   "metadata": {},
   "outputs": [],
   "source": [
    "# Catalan sequence\n",
    "cat = lambda n : catalan_number(n)\n",
    "cat_op = (x+2)*E - (4*x + 2)"
   ]
  },
  {
   "cell_type": "code",
   "execution_count": 6,
   "id": "12d72165",
   "metadata": {},
   "outputs": [
    {
     "data": {
      "text/html": [
       "<html>\\(\\displaystyle \\left(x + 3\\right) E^{2} + \\left(-2 x - 2\\right) E - 3 x - 3\\)</html>"
      ],
      "text/latex": [
       "$\\displaystyle \\left(x + 3\\right) E^{2} + \\left(-2 x - 2\\right) E - 3 x - 3$"
      ],
      "text/plain": [
       "(x + 3)*E^2 + (-2*x - 2)*E - 3*x - 3"
      ]
     },
     "metadata": {},
     "output_type": "display_data"
    },
    {
     "data": {
      "text/html": [
       "<html>\\(\\displaystyle \\left(x + 4\\right) E^{3} + \\left(x + 5\\right) E^{2} + \\left(-4 x - 6\\right) E - 4 x - 4\\)</html>"
      ],
      "text/latex": [
       "$\\displaystyle \\left(x + 4\\right) E^{3} + \\left(x + 5\\right) E^{2} + \\left(-4 x - 6\\right) E - 4 x - 4$"
      ],
      "text/plain": [
       "(x + 4)*E^3 + (x + 5)*E^2 + (-4*x - 6)*E - 4*x - 4"
      ]
     },
     "execution_count": 6,
     "metadata": {},
     "output_type": "execute_result"
    }
   ],
   "source": [
    "cat_bin = ass_recurrence(cat_op, B, OE); show(cat_bin)\n",
    "cat_bin_bin = ass_recurrence(cat_bin, B, OE); cat_bin_bin"
   ]
  },
  {
   "cell_type": "code",
   "execution_count": 7,
   "id": "f772ffd9",
   "metadata": {},
   "outputs": [],
   "source": [
    "in_cat = solution(cat_bin, get_converted_init(cat, B, 3))\n",
    "in_in_cat = solution(cat_bin_bin, get_converted_init(in_cat, B, 4))"
   ]
  },
  {
   "cell_type": "code",
   "execution_count": 8,
   "id": "7e8f7764",
   "metadata": {},
   "outputs": [
    {
     "data": {
      "text/html": [
       "<html>\\(\\displaystyle \\left[1, -1, 2, -3, 6, -10, 20, -35, 70, -126\\right]\\)</html>"
      ],
      "text/latex": [
       "$\\displaystyle \\left[1, -1, 2, -3, 6, -10, 20, -35, 70, -126\\right]$"
      ],
      "text/plain": [
       "[1, -1, 2, -3, 6, -10, 20, -35, 70, -126]"
      ]
     },
     "execution_count": 8,
     "metadata": {},
     "output_type": "execute_result"
    }
   ],
   "source": [
    "[in_in_cat(i) for i in range(10)]"
   ]
  },
  {
   "cell_type": "code",
   "execution_count": 9,
   "id": "be44952f",
   "metadata": {},
   "outputs": [
    {
     "data": {
      "text/html": [
       "<html>\\(\\displaystyle \\left[\\mathrm{True}, \\mathrm{True}, \\mathrm{True}, \\mathrm{True}, \\mathrm{True}, \\mathrm{True}, \\mathrm{True}, \\mathrm{True}, \\mathrm{True}, \\mathrm{True}\\right]\\)</html>"
      ],
      "text/latex": [
       "$\\displaystyle \\left[\\mathrm{True}, \\mathrm{True}, \\mathrm{True}, \\mathrm{True}, \\mathrm{True}, \\mathrm{True}, \\mathrm{True}, \\mathrm{True}, \\mathrm{True}, \\mathrm{True}\\right]$"
      ],
      "text/plain": [
       "[True, True, True, True, True, True, True, True, True, True]"
      ]
     },
     "execution_count": 9,
     "metadata": {},
     "output_type": "execute_result"
    }
   ],
   "source": [
    "[cat(i) == sum(sum(in_in_cat(k2)*binomial(k,k2) for k2 in range(k+1))*binomial(i,k) for k in range(i+1)) for i in range(10)]"
   ]
  },
  {
   "cell_type": "markdown",
   "id": "12b47c24",
   "metadata": {},
   "source": [
    "$$a_0 = \\binom{0}{0} c_0 = c_0$$\n",
    "$$a_1 = \\sum_{k=0}^1 \\binom{1}{k} c_k = \\binom{1}{0} c_0 + \\binom{1}{1} c_1 = c_0 + c_1$$"
   ]
  },
  {
   "cell_type": "code",
   "execution_count": 10,
   "id": "78d1e8ad",
   "metadata": {},
   "outputs": [
    {
     "data": {
      "text/html": [
       "<html>\\(\\displaystyle \\left[1, 1, 2, 5, 14, 42, 132, 429, 1430, 4862\\right]\\)</html>"
      ],
      "text/latex": [
       "$\\displaystyle \\left[1, 1, 2, 5, 14, 42, 132, 429, 1430, 4862\\right]$"
      ],
      "text/plain": [
       "[1, 1, 2, 5, 14, 42, 132, 429, 1430, 4862]"
      ]
     },
     "execution_count": 10,
     "metadata": {},
     "output_type": "execute_result"
    }
   ],
   "source": [
    "[cat(i) for i in range(10)]"
   ]
  },
  {
   "cell_type": "code",
   "execution_count": 11,
   "id": "41d900d3",
   "metadata": {},
   "outputs": [
    {
     "data": {
      "text/html": [
       "<html>\\(\\displaystyle \\left(n + 3\\right) \\mathit{Sn}^{2} + \\left(-2 n - 2\\right) \\mathit{Sn} - 3 n - 3\\)</html>"
      ],
      "text/latex": [
       "$\\displaystyle \\left(n + 3\\right) \\mathit{Sn}^{2} + \\left(-2 n - 2\\right) \\mathit{Sn} - 3 n - 3$"
      ],
      "text/plain": [
       "(n + 3)*Sn^2 + (-2*n - 2)*Sn - 3*n - 3"
      ]
     },
     "execution_count": 11,
     "metadata": {},
     "output_type": "execute_result"
    }
   ],
   "source": [
    "B.remove_Sni((B.recurrence(cat_op)))"
   ]
  },
  {
   "cell_type": "code",
   "execution_count": 12,
   "id": "ea706327",
   "metadata": {},
   "outputs": [
    {
     "data": {
      "text/html": [
       "<html>\\(\\displaystyle \\left(x + 3\\right) E^{2} + \\left(-2 x - 2\\right) E - 3 x - 3\\)</html>"
      ],
      "text/latex": [
       "$\\displaystyle \\left(x + 3\\right) E^{2} + \\left(-2 x - 2\\right) E - 3 x - 3$"
      ],
      "text/plain": [
       "(x + 3)*E^2 + (-2*x - 2)*E - 3*x - 3"
      ]
     },
     "execution_count": 12,
     "metadata": {},
     "output_type": "execute_result"
    }
   ],
   "source": [
    "cat_bin"
   ]
  },
  {
   "cell_type": "code",
   "execution_count": 13,
   "id": "1c21388c",
   "metadata": {},
   "outputs": [],
   "source": [
    "v = vector([1,2,3])\n",
    "M = Matrix([[1,2,3],[4,5,6],[7,8,9]])"
   ]
  },
  {
   "cell_type": "code",
   "execution_count": 14,
   "id": "d1c8c3e1",
   "metadata": {},
   "outputs": [
    {
     "data": {
      "text/html": [
       "<html>\\(\\displaystyle \\mathrm{True}\\)</html>"
      ],
      "text/latex": [
       "$\\displaystyle \\mathrm{True}$"
      ],
      "text/plain": [
       "True"
      ]
     },
     "execution_count": 14,
     "metadata": {},
     "output_type": "execute_result"
    }
   ],
   "source": [
    "M*M.solve_right(v) == v"
   ]
  },
  {
   "cell_type": "markdown",
   "id": "f045c1f7",
   "metadata": {},
   "source": [
    "$$f(x) \\in \\mathbb{K}[[x]],\\qquad f(x) = \\sum_n c_n P_n(x)$$\n",
    "\n",
    "$$(f_n)_n \\in \\mathbb{K}^\\mathbb{N}$$"
   ]
  },
  {
   "cell_type": "code",
   "execution_count": 15,
   "id": "21b59ba0",
   "metadata": {},
   "outputs": [
    {
     "data": {
      "text/html": [
       "<html>\\(\\displaystyle \\left\\{\\binom{x}{n}\\right\\}_{n\\geq 0}\\)</html>"
      ],
      "text/latex": [
       "$\\displaystyle \\left\\{\\binom{x}{n}\\right\\}_{n\\geq 0}$"
      ],
      "text/plain": [
       "Binomial basis (x) choose n"
      ]
     },
     "execution_count": 15,
     "metadata": {},
     "output_type": "execute_result"
    }
   ],
   "source": [
    "B"
   ]
  },
  {
   "cell_type": "code",
   "execution_count": 16,
   "id": "b23dc2ed",
   "metadata": {},
   "outputs": [
    {
     "data": {
      "text/html": [
       "<html>\\(\\displaystyle \\left[0, 0, 0, 0, 0, 0, 0, 0\\right]\\)</html>"
      ],
      "text/latex": [
       "$\\displaystyle \\left[0, 0, 0, 0, 0, 0, 0, 0\\right]$"
      ],
      "text/plain": [
       "[0, 0, 0, 0, 0, 0, 0, 0]"
      ]
     },
     "execution_count": 16,
     "metadata": {},
     "output_type": "execute_result"
    }
   ],
   "source": [
    "[x*B[i] - (i+1)*B[i+1] - i*B[i] for i in range(2,10)]"
   ]
  },
  {
   "cell_type": "code",
   "execution_count": 17,
   "id": "78eba88f",
   "metadata": {},
   "outputs": [
    {
     "data": {
      "text/html": [
       "<html>\\(\\displaystyle \\frac{1}{24} x^{5} - \\frac{5}{12} x^{4} + \\frac{35}{24} x^{3} - \\frac{25}{12} x^{2} + x\\)</html>"
      ],
      "text/latex": [
       "$\\displaystyle \\frac{1}{24} x^{5} - \\frac{5}{12} x^{4} + \\frac{35}{24} x^{3} - \\frac{25}{12} x^{2} + x$"
      ],
      "text/plain": [
       "1/24*x^5 - 5/12*x^4 + 35/24*x^3 - 25/12*x^2 + x"
      ]
     },
     "execution_count": 17,
     "metadata": {},
     "output_type": "execute_result"
    }
   ],
   "source": [
    "B[5]*5"
   ]
  },
  {
   "cell_type": "code",
   "execution_count": 18,
   "id": "c57c2f03",
   "metadata": {},
   "outputs": [],
   "source": [
    "AUX = PolynomialRing(QQ, 'p')"
   ]
  },
  {
   "cell_type": "code",
   "execution_count": 19,
   "id": "229dd255",
   "metadata": {},
   "outputs": [],
   "source": [
    "poly = AUX([1,2,3])\n",
    "monomials = poly.monomials(); monomials.reverse()\n",
    "coefficients = poly.coefficients(sparse=False)"
   ]
  },
  {
   "cell_type": "code",
   "execution_count": 20,
   "id": "2dc82c31",
   "metadata": {},
   "outputs": [
    {
     "data": {
      "text/html": [
       "<html>\\(\\displaystyle \\mathrm{True}\\)</html>"
      ],
      "text/latex": [
       "$\\displaystyle \\mathrm{True}$"
      ],
      "text/plain": [
       "True"
      ]
     },
     "execution_count": 20,
     "metadata": {},
     "output_type": "execute_result"
    }
   ],
   "source": [
    "sum(monomials[i]*coefficients[i] for i in range(len(monomials))) == poly"
   ]
  },
  {
   "cell_type": "code",
   "execution_count": 21,
   "id": "453acfa5",
   "metadata": {},
   "outputs": [],
   "source": [
    "AUX = PolynomialRing(QQ, 'a,b')"
   ]
  },
  {
   "cell_type": "code",
   "execution_count": 22,
   "id": "84596dd2",
   "metadata": {},
   "outputs": [],
   "source": [
    "poly = AUX.random_element(3)"
   ]
  },
  {
   "cell_type": "markdown",
   "id": "16944b72-e8fc-46e8-97d9-601745a10e81",
   "metadata": {},
   "source": [
    "### Trying to find examples in OEIS of double sum"
   ]
  },
  {
   "cell_type": "code",
   "execution_count": 23,
   "id": "2a07a051-b16c-4b0e-b3b9-953dce4f4db3",
   "metadata": {},
   "outputs": [],
   "source": [
    "def explore_example(operator, init, ring, first_bases, second_bases, bound_guess=100):\n",
    "    r'''\n",
    "        Method to explore how to write a solution for a recurrence equation in a double sum\n",
    "        \n",
    "        This method takes the solution `(a_n)_n` or the recurrence equation defined by ``operator``\n",
    "        and ``init`` (see method :func:`solution`) and computes a new sequence `(y_n)_n` such that\n",
    "        \n",
    "        .. MATH::\n",
    "        \n",
    "            y_n = \\sum_{k} \\sum_{l} a_l B_{2,l}(k) B_{1,k}(n)\n",
    "            \n",
    "        Then it would be easy to check whether this sequence is useful for us or not.\n",
    "        \n",
    "        The arguments ``first_bases`` and ``second_bases`` provide lists for `B_{1,k}(n)` and `B_{2,l}(k)`. One output for each \n",
    "        pair of basis will be computed. If these entries are just one element instead of a list or tuple, then we consider the \n",
    "        input as a one element list.\n",
    "        \n",
    "        INPUT:\n",
    "        \n",
    "        * ``operator``: a difference operator valid for the use of :func:`solution`\n",
    "        * ``init``: initial values for the sequence (see :func:`solution`)\n",
    "        * ``first_bases``: list of :class:`PSBasis` compatible with the recurrence operator.\n",
    "        * ``second_bases``: list of :class:`PSBasis` compatible with the recurrence operator.\n",
    "    '''\n",
    "    ## Checking the input\n",
    "    if not isinstance(first_bases, (list, tuple)):\n",
    "        first_bases = [first_bases]\n",
    "    if not isinstance(second_bases, (list, tuple)):\n",
    "        second_bases = [second_bases]\n",
    "        \n",
    "    if any(not isinstance(B, PSBasis) for B in first_bases+second_bases):\n",
    "        raise TypeError(\"All basis must be of class PSBasis\")\n",
    "    if any(not B.has_compatibility('E') for B in first_bases+second_bases):\n",
    "        raise TypeError(\"All basis must be compatible with 'E'\")\n",
    "    \n",
    "    sequence = solution(operator, init)\n",
    "    \n",
    "    result = {}\n",
    "    for B1 in first_bases:\n",
    "        for B2 in second_bases:\n",
    "            b1_sequence = lambda n : sum(B1[k](n)*sequence(k) for k in range(n+1))\n",
    "            b2_b1_sequence = lambda n : sum(B2[k](n)*b1_sequence(k) for k in range(n+1))\n",
    "            try:\n",
    "                L = guess([b2_b1_sequence(i) for i in range(bound_guess)], ring)\n",
    "                result[(B1,B2)] = (b2_b1_sequence, L)\n",
    "            except ValueError:\n",
    "                result[(B1,B2)] = f\"No D-finite recurrence found with {bound_guess} data\"\n",
    "    # case where only 1 pair is required\n",
    "    if len(result) == 1:\n",
    "        return result[(first_bases[0], second_bases[0])]\n",
    "    return result"
   ]
  },
  {
   "cell_type": "code",
   "execution_count": 64,
   "id": "386599ff",
   "metadata": {},
   "outputs": [],
   "source": [
    "## METHODS RELATED WITH OEIS\n",
    "def extract_recurrence(formula, neg_order, verbose=False):\n",
    "    import re\n",
    "    parts = [el.strip() for el in formula.split(\".\")[0].split(\",\")]\n",
    "    ## extracting initial values\n",
    "    #init_reg = r\"a\\((-?(?:\\d+))\\) ?= ?(-?(?:\\d+))\"\n",
    "    #inits = {int(el[0]) : int(el[1]) for el in sum([re.findall(init_reg, el) for el in parts], [])}\n",
    "    \n",
    "    # substitution reg\n",
    "    regs = [(r\"a\\(n\\+(\\d+)\\)\", r\"E**(\\1 + \"+str(neg_order)+\")\"),\n",
    "        (r\"a\\(n-(\\d+)\\)\", r\"E**(-\\1 + \"+str(neg_order)+\")\"),\n",
    "        (r\"a\\(n\\)\", r\"E**(\"+str(neg_order)+\")\"),\n",
    "        (r\"(\\d+)n\", r\"\\1*n\")]\n",
    "    def __apply_iterative(regs, string):\n",
    "        for reg in regs:\n",
    "            string = re.sub(*reg, string)\n",
    "        return string\n",
    "    for part in parts:\n",
    "        part = part.replace(\":\", \"\")\n",
    "        if part.find(\" = \") > -1:\n",
    "            try:\n",
    "                lhs, rhs = part.split(\" = \")\n",
    "                lhs = __apply_iterative(regs, lhs)\n",
    "                lhs = lhs.replace(\"n\", f\"(x+{neg_order})\")\n",
    "                rhs = __apply_iterative(regs, rhs)\n",
    "                rhs = rhs.replace(\"n\", f\"(x+{neg_order})\")\n",
    "            \n",
    "                return OE(lhs) - OE(rhs)#, inits\n",
    "            except:\n",
    "                if verbose: print(f\"Can not convert this: {part} (({lhs} ||| {rhs}))\")\n",
    "                pass\n",
    "    return None\n",
    "\n",
    "def search_dfinite_order(min_order, min_results = 5, i = 0, verbose=False):\n",
    "    import re\n",
    "    shift = i+1\n",
    "    results = []\n",
    "    with alive_bar(int(min_results), title=\"Searching examples...\", force_tty=True) as bar:\n",
    "        while(len(results) < min_results):\n",
    "            if verbose: print(f\"Cathcing {i*100} first sequences\")\n",
    "            sequences = oeis(\"D-finite\", max_results = 100, first_result = (i-1)*100)\n",
    "            if len(sequences) == 0:\n",
    "                raise KeyboardInterrupt(\"No more D-finite sequences\")\n",
    "            if verbose: print(f\"Analyzing...\")\n",
    "            if verbose: print(\"Found orders \", end = \"\")\n",
    "            for sequence in sequences:\n",
    "                formulas = [el for el in sequence.formulas() if el.find(\"D-finite\") >= 0]\n",
    "                for formula in formulas:\n",
    "                    try:\n",
    "                        start_pos = formula.find(\"D-finite with recurrence: \") + len(\"D-finite with recurrence: \")\n",
    "                        end_pos = max(formula.find(\".\", start_pos), len(formula))\n",
    "                        formula = formula[start_pos:end_pos+1]\n",
    "\n",
    "                        n = var('n')\n",
    "                        arguments = [eval(el)-n for el in re.findall(r\"a\\(([^\\)]*)\\)\", formula)]\n",
    "                        arguments = [ZZ(el) for el in arguments if el in ZZ]\n",
    "\n",
    "                        if(len(arguments) > 0):\n",
    "                            order = max(arguments)-min(arguments)\n",
    "                            neg_order = -min(0, min(arguments))\n",
    "                            if(order >= min_order):\n",
    "                                operator = extract_recurrence(formula, neg_order, verbose=verbose)\n",
    "                                if operator != None:\n",
    "                                    results.append((sequence, operator, solution(operator, sequence.first_terms(required_init(operator)+1))))\n",
    "                                    bar()\n",
    "                        else:\n",
    "                            if verbose: print(\"no args\", end=\", \")\n",
    "                    except:\n",
    "                        pass\n",
    "            i += 1\n",
    "    return results, shift"
   ]
  },
  {
   "cell_type": "code",
   "execution_count": 65,
   "id": "62ec4dca",
   "metadata": {},
   "outputs": [
    {
     "name": "stdout",
     "output_type": "stream",
     "text": [
      "Searching examples... |████████████████████████████████████████✗︎ (!) 57/50 [114%] in 5.4s (10.62/s)                     \n"
     ]
    }
   ],
   "source": [
    "dfinite, shift = search_dfinite_order(3,min_results=50)"
   ]
  },
  {
   "cell_type": "code",
   "execution_count": 28,
   "id": "f181f743-17be-48d2-a32d-fb3f25218ca1",
   "metadata": {},
   "outputs": [
    {
     "name": "stdout",
     "output_type": "stream",
     "text": [
      "Exploring examples... |████████████████████████████████████████| 65/65 [100%] in 10:12.0 (0.11/s)                       \n"
     ]
    }
   ],
   "source": [
    "explored = []\n",
    "with alive_bar(len(dfinite), title=\"Exploring examples...\", force_tty=True) as bar:\n",
    "    for el in dfinite:\n",
    "        explored.append(explore_example(el[1], el[0].first_terms(required_init(el[1])+1), OE, B, B))\n",
    "        bar()"
   ]
  },
  {
   "cell_type": "code",
   "execution_count": 52,
   "id": "497fa221-c375-4c8b-8ea7-9f9e9ab7cf6a",
   "metadata": {},
   "outputs": [
    {
     "name": "stdout",
     "output_type": "stream",
     "text": [
      "Checking if new is in OEIS... |████████████████████████████████████████| 65/65 [100%] in 16.2s (4.02/s)                 \n"
     ]
    }
   ],
   "source": [
    "with_oeis = []\n",
    "with alive_bar(len(explored), title=\"Checking if new is in OEIS...\", force_tty=True) as bar:\n",
    "    for el in explored:\n",
    "        if (not isinstance(el, str)) and len(oeis([el[0](i) for i in range(10)])) > 0:\n",
    "            with_oeis.append(el)\n",
    "        bar()"
   ]
  },
  {
   "cell_type": "code",
   "execution_count": 69,
   "id": "4f9357bc-c4e3-488d-9a6f-1e35660f2825",
   "metadata": {},
   "outputs": [
    {
     "name": "stdout",
     "output_type": "stream",
     "text": [
      "Searching examples... |████████████████████████████████████████✗︎ (!) 57/50 [114%] in 9.4s (6.08/s)                      \n",
      "Exploring examples... |████████████████████████████████████████| 57/57 [100%] in 8:21.1 (0.11/s)                        \n",
      "Checking if new is in OEIS... |████████████████████████████████████████| 57/57 [100%] in 5.7s (10.03/s)                 \n",
      "Found 6/57 cases with a sequence in OEIS\n",
      "Searching examples... |████████████████████████████████████████✗︎ (!) 65/50 [130%] in 9.9s (6.56/s)                      \n",
      "Exploring examples... |████████████████████████████████████████| 65/65 [100%] in 9:20.5 (0.12/s)                        \n",
      "Checking if new is in OEIS... |████████████████████████████████████████| 65/65 [100%] in 5.0s (12.97/s)                 \n",
      "Found 11/122 cases with a sequence in OEIS\n",
      "Searching examples... |████████████████████████████████████████✗︎ (!) 52/50 [104%] in 7.7s (6.74/s)                      \n",
      "Exploring examples... |████████████████████████████████████████| 52/52 [100%] in 7:46.9 (0.11/s)                        \n",
      "Checking if new is in OEIS... |████████████████████████████████████████| 52/52 [100%] in 5.7s (9.11/s)                  \n",
      "Found 14/174 cases with a sequence in OEIS\n",
      "Searching examples... |████████████████████████████████████████✗︎ (!) 56/50 [112%] in 5.9s (9.42/s)                      \n",
      "Exploring examples... |████████████████████████████████████████| 56/56 [100%] in 8:45.2 (0.11/s)                        \n",
      "Checking if new is in OEIS... |████████████████████████████████████████| 56/56 [100%] in 4.1s (13.74/s)                 \n",
      "Found 16/230 cases with a sequence in OEIS\n",
      "Searching examples... |████████████████████████████████████████✗︎ (!) 60/50 [120%] in 15.0s (3.99/s)                     \n",
      "Exploring examples... |███████████████████████████████████▍⚠︎   | (!) 53/60 [88%] in 7:50.1 (0.11/s)                     \n"
     ]
    },
    {
     "ename": "ZeroDivisionError",
     "evalue": "rational division by zero",
     "output_type": "error",
     "traceback": [
      "\u001b[0;31m---------------------------------------------------------------------------\u001b[0m",
      "\u001b[0;31mZeroDivisionError\u001b[0m                         Traceback (most recent call last)",
      "\u001b[0;32m/tmp/ipykernel_4791/399782544.py\u001b[0m in \u001b[0;36m<module>\u001b[0;34m\u001b[0m\n\u001b[1;32m     11\u001b[0m         \u001b[0;32mwith\u001b[0m \u001b[0malive_bar\u001b[0m\u001b[0;34m(\u001b[0m\u001b[0mlen\u001b[0m\u001b[0;34m(\u001b[0m\u001b[0mdfinite\u001b[0m\u001b[0;34m)\u001b[0m\u001b[0;34m,\u001b[0m \u001b[0mtitle\u001b[0m\u001b[0;34m=\u001b[0m\u001b[0;34m\"Exploring examples...\"\u001b[0m\u001b[0;34m,\u001b[0m \u001b[0mforce_tty\u001b[0m\u001b[0;34m=\u001b[0m\u001b[0;32mTrue\u001b[0m\u001b[0;34m)\u001b[0m \u001b[0;32mas\u001b[0m \u001b[0mbar\u001b[0m\u001b[0;34m:\u001b[0m\u001b[0;34m\u001b[0m\u001b[0;34m\u001b[0m\u001b[0m\n\u001b[1;32m     12\u001b[0m             \u001b[0;32mfor\u001b[0m \u001b[0mel\u001b[0m \u001b[0;32min\u001b[0m \u001b[0mdfinite\u001b[0m\u001b[0;34m:\u001b[0m\u001b[0;34m\u001b[0m\u001b[0;34m\u001b[0m\u001b[0m\n\u001b[0;32m---> 13\u001b[0;31m                 \u001b[0mexplored\u001b[0m\u001b[0;34m.\u001b[0m\u001b[0mappend\u001b[0m\u001b[0;34m(\u001b[0m\u001b[0mexplore_example\u001b[0m\u001b[0;34m(\u001b[0m\u001b[0mel\u001b[0m\u001b[0;34m[\u001b[0m\u001b[0mInteger\u001b[0m\u001b[0;34m(\u001b[0m\u001b[0;36m1\u001b[0m\u001b[0;34m)\u001b[0m\u001b[0;34m]\u001b[0m\u001b[0;34m,\u001b[0m \u001b[0mel\u001b[0m\u001b[0;34m[\u001b[0m\u001b[0mInteger\u001b[0m\u001b[0;34m(\u001b[0m\u001b[0;36m0\u001b[0m\u001b[0;34m)\u001b[0m\u001b[0;34m]\u001b[0m\u001b[0;34m.\u001b[0m\u001b[0mfirst_terms\u001b[0m\u001b[0;34m(\u001b[0m\u001b[0mrequired_init\u001b[0m\u001b[0;34m(\u001b[0m\u001b[0mel\u001b[0m\u001b[0;34m[\u001b[0m\u001b[0mInteger\u001b[0m\u001b[0;34m(\u001b[0m\u001b[0;36m1\u001b[0m\u001b[0;34m)\u001b[0m\u001b[0;34m]\u001b[0m\u001b[0;34m)\u001b[0m\u001b[0;34m+\u001b[0m\u001b[0mInteger\u001b[0m\u001b[0;34m(\u001b[0m\u001b[0;36m1\u001b[0m\u001b[0;34m)\u001b[0m\u001b[0;34m)\u001b[0m\u001b[0;34m,\u001b[0m \u001b[0mOE\u001b[0m\u001b[0;34m,\u001b[0m \u001b[0mB\u001b[0m\u001b[0;34m,\u001b[0m \u001b[0mB\u001b[0m\u001b[0;34m)\u001b[0m\u001b[0;34m)\u001b[0m\u001b[0;34m\u001b[0m\u001b[0;34m\u001b[0m\u001b[0m\n\u001b[0m\u001b[1;32m     14\u001b[0m                 \u001b[0mbar\u001b[0m\u001b[0;34m(\u001b[0m\u001b[0;34m)\u001b[0m\u001b[0;34m\u001b[0m\u001b[0;34m\u001b[0m\u001b[0m\n\u001b[1;32m     15\u001b[0m         \u001b[0;32mwith\u001b[0m \u001b[0malive_bar\u001b[0m\u001b[0;34m(\u001b[0m\u001b[0mlen\u001b[0m\u001b[0;34m(\u001b[0m\u001b[0mdfinite\u001b[0m\u001b[0;34m)\u001b[0m\u001b[0;34m,\u001b[0m \u001b[0mtitle\u001b[0m\u001b[0;34m=\u001b[0m\u001b[0;34m\"Checking if new is in OEIS...\"\u001b[0m\u001b[0;34m,\u001b[0m \u001b[0mforce_tty\u001b[0m\u001b[0;34m=\u001b[0m\u001b[0;32mTrue\u001b[0m\u001b[0;34m)\u001b[0m \u001b[0;32mas\u001b[0m \u001b[0mbar\u001b[0m\u001b[0;34m:\u001b[0m\u001b[0;34m\u001b[0m\u001b[0;34m\u001b[0m\u001b[0m\n",
      "\u001b[0;32m/tmp/ipykernel_4791/1850046024.py\u001b[0m in \u001b[0;36mexplore_example\u001b[0;34m(operator, init, ring, first_bases, second_bases, bound_guess)\u001b[0m\n\u001b[1;32m     42\u001b[0m             \u001b[0mb2_b1_sequence\u001b[0m \u001b[0;34m=\u001b[0m \u001b[0;32mlambda\u001b[0m \u001b[0mn\u001b[0m \u001b[0;34m:\u001b[0m \u001b[0msum\u001b[0m\u001b[0;34m(\u001b[0m\u001b[0mB2\u001b[0m\u001b[0;34m[\u001b[0m\u001b[0mk\u001b[0m\u001b[0;34m]\u001b[0m\u001b[0;34m(\u001b[0m\u001b[0mn\u001b[0m\u001b[0;34m)\u001b[0m\u001b[0;34m*\u001b[0m\u001b[0mb1_sequence\u001b[0m\u001b[0;34m(\u001b[0m\u001b[0mk\u001b[0m\u001b[0;34m)\u001b[0m \u001b[0;32mfor\u001b[0m \u001b[0mk\u001b[0m \u001b[0;32min\u001b[0m \u001b[0mrange\u001b[0m\u001b[0;34m(\u001b[0m\u001b[0mn\u001b[0m\u001b[0;34m+\u001b[0m\u001b[0mInteger\u001b[0m\u001b[0;34m(\u001b[0m\u001b[0;36m1\u001b[0m\u001b[0;34m)\u001b[0m\u001b[0;34m)\u001b[0m\u001b[0;34m)\u001b[0m\u001b[0;34m\u001b[0m\u001b[0;34m\u001b[0m\u001b[0m\n\u001b[1;32m     43\u001b[0m             \u001b[0;32mtry\u001b[0m\u001b[0;34m:\u001b[0m\u001b[0;34m\u001b[0m\u001b[0;34m\u001b[0m\u001b[0m\n\u001b[0;32m---> 44\u001b[0;31m                 \u001b[0mL\u001b[0m \u001b[0;34m=\u001b[0m \u001b[0mguess\u001b[0m\u001b[0;34m(\u001b[0m\u001b[0;34m[\u001b[0m\u001b[0mb2_b1_sequence\u001b[0m\u001b[0;34m(\u001b[0m\u001b[0mi\u001b[0m\u001b[0;34m)\u001b[0m \u001b[0;32mfor\u001b[0m \u001b[0mi\u001b[0m \u001b[0;32min\u001b[0m \u001b[0mrange\u001b[0m\u001b[0;34m(\u001b[0m\u001b[0mbound_guess\u001b[0m\u001b[0;34m)\u001b[0m\u001b[0;34m]\u001b[0m\u001b[0;34m,\u001b[0m \u001b[0mring\u001b[0m\u001b[0;34m)\u001b[0m\u001b[0;34m\u001b[0m\u001b[0;34m\u001b[0m\u001b[0m\n\u001b[0m\u001b[1;32m     45\u001b[0m                 \u001b[0mresult\u001b[0m\u001b[0;34m[\u001b[0m\u001b[0;34m(\u001b[0m\u001b[0mB1\u001b[0m\u001b[0;34m,\u001b[0m\u001b[0mB2\u001b[0m\u001b[0;34m)\u001b[0m\u001b[0;34m]\u001b[0m \u001b[0;34m=\u001b[0m \u001b[0;34m(\u001b[0m\u001b[0mb2_b1_sequence\u001b[0m\u001b[0;34m,\u001b[0m \u001b[0mL\u001b[0m\u001b[0;34m)\u001b[0m\u001b[0;34m\u001b[0m\u001b[0;34m\u001b[0m\u001b[0m\n\u001b[1;32m     46\u001b[0m             \u001b[0;32mexcept\u001b[0m \u001b[0mValueError\u001b[0m\u001b[0;34m:\u001b[0m\u001b[0;34m\u001b[0m\u001b[0;34m\u001b[0m\u001b[0m\n",
      "\u001b[0;32m/tmp/ipykernel_4791/1850046024.py\u001b[0m in \u001b[0;36m<listcomp>\u001b[0;34m(.0)\u001b[0m\n\u001b[1;32m     42\u001b[0m             \u001b[0mb2_b1_sequence\u001b[0m \u001b[0;34m=\u001b[0m \u001b[0;32mlambda\u001b[0m \u001b[0mn\u001b[0m \u001b[0;34m:\u001b[0m \u001b[0msum\u001b[0m\u001b[0;34m(\u001b[0m\u001b[0mB2\u001b[0m\u001b[0;34m[\u001b[0m\u001b[0mk\u001b[0m\u001b[0;34m]\u001b[0m\u001b[0;34m(\u001b[0m\u001b[0mn\u001b[0m\u001b[0;34m)\u001b[0m\u001b[0;34m*\u001b[0m\u001b[0mb1_sequence\u001b[0m\u001b[0;34m(\u001b[0m\u001b[0mk\u001b[0m\u001b[0;34m)\u001b[0m \u001b[0;32mfor\u001b[0m \u001b[0mk\u001b[0m \u001b[0;32min\u001b[0m \u001b[0mrange\u001b[0m\u001b[0;34m(\u001b[0m\u001b[0mn\u001b[0m\u001b[0;34m+\u001b[0m\u001b[0mInteger\u001b[0m\u001b[0;34m(\u001b[0m\u001b[0;36m1\u001b[0m\u001b[0;34m)\u001b[0m\u001b[0;34m)\u001b[0m\u001b[0;34m)\u001b[0m\u001b[0;34m\u001b[0m\u001b[0;34m\u001b[0m\u001b[0m\n\u001b[1;32m     43\u001b[0m             \u001b[0;32mtry\u001b[0m\u001b[0;34m:\u001b[0m\u001b[0;34m\u001b[0m\u001b[0;34m\u001b[0m\u001b[0m\n\u001b[0;32m---> 44\u001b[0;31m                 \u001b[0mL\u001b[0m \u001b[0;34m=\u001b[0m \u001b[0mguess\u001b[0m\u001b[0;34m(\u001b[0m\u001b[0;34m[\u001b[0m\u001b[0mb2_b1_sequence\u001b[0m\u001b[0;34m(\u001b[0m\u001b[0mi\u001b[0m\u001b[0;34m)\u001b[0m \u001b[0;32mfor\u001b[0m \u001b[0mi\u001b[0m \u001b[0;32min\u001b[0m \u001b[0mrange\u001b[0m\u001b[0;34m(\u001b[0m\u001b[0mbound_guess\u001b[0m\u001b[0;34m)\u001b[0m\u001b[0;34m]\u001b[0m\u001b[0;34m,\u001b[0m \u001b[0mring\u001b[0m\u001b[0;34m)\u001b[0m\u001b[0;34m\u001b[0m\u001b[0;34m\u001b[0m\u001b[0m\n\u001b[0m\u001b[1;32m     45\u001b[0m                 \u001b[0mresult\u001b[0m\u001b[0;34m[\u001b[0m\u001b[0;34m(\u001b[0m\u001b[0mB1\u001b[0m\u001b[0;34m,\u001b[0m\u001b[0mB2\u001b[0m\u001b[0;34m)\u001b[0m\u001b[0;34m]\u001b[0m \u001b[0;34m=\u001b[0m \u001b[0;34m(\u001b[0m\u001b[0mb2_b1_sequence\u001b[0m\u001b[0;34m,\u001b[0m \u001b[0mL\u001b[0m\u001b[0;34m)\u001b[0m\u001b[0;34m\u001b[0m\u001b[0;34m\u001b[0m\u001b[0m\n\u001b[1;32m     46\u001b[0m             \u001b[0;32mexcept\u001b[0m \u001b[0mValueError\u001b[0m\u001b[0;34m:\u001b[0m\u001b[0;34m\u001b[0m\u001b[0;34m\u001b[0m\u001b[0m\n",
      "\u001b[0;32m/tmp/ipykernel_4791/1850046024.py\u001b[0m in \u001b[0;36m<lambda>\u001b[0;34m(n)\u001b[0m\n\u001b[1;32m     40\u001b[0m         \u001b[0;32mfor\u001b[0m \u001b[0mB2\u001b[0m \u001b[0;32min\u001b[0m \u001b[0msecond_bases\u001b[0m\u001b[0;34m:\u001b[0m\u001b[0;34m\u001b[0m\u001b[0;34m\u001b[0m\u001b[0m\n\u001b[1;32m     41\u001b[0m             \u001b[0mb1_sequence\u001b[0m \u001b[0;34m=\u001b[0m \u001b[0;32mlambda\u001b[0m \u001b[0mn\u001b[0m \u001b[0;34m:\u001b[0m \u001b[0msum\u001b[0m\u001b[0;34m(\u001b[0m\u001b[0mB1\u001b[0m\u001b[0;34m[\u001b[0m\u001b[0mk\u001b[0m\u001b[0;34m]\u001b[0m\u001b[0;34m(\u001b[0m\u001b[0mn\u001b[0m\u001b[0;34m)\u001b[0m\u001b[0;34m*\u001b[0m\u001b[0msequence\u001b[0m\u001b[0;34m(\u001b[0m\u001b[0mk\u001b[0m\u001b[0;34m)\u001b[0m \u001b[0;32mfor\u001b[0m \u001b[0mk\u001b[0m \u001b[0;32min\u001b[0m \u001b[0mrange\u001b[0m\u001b[0;34m(\u001b[0m\u001b[0mn\u001b[0m\u001b[0;34m+\u001b[0m\u001b[0mInteger\u001b[0m\u001b[0;34m(\u001b[0m\u001b[0;36m1\u001b[0m\u001b[0;34m)\u001b[0m\u001b[0;34m)\u001b[0m\u001b[0;34m)\u001b[0m\u001b[0;34m\u001b[0m\u001b[0;34m\u001b[0m\u001b[0m\n\u001b[0;32m---> 42\u001b[0;31m             \u001b[0mb2_b1_sequence\u001b[0m \u001b[0;34m=\u001b[0m \u001b[0;32mlambda\u001b[0m \u001b[0mn\u001b[0m \u001b[0;34m:\u001b[0m \u001b[0msum\u001b[0m\u001b[0;34m(\u001b[0m\u001b[0mB2\u001b[0m\u001b[0;34m[\u001b[0m\u001b[0mk\u001b[0m\u001b[0;34m]\u001b[0m\u001b[0;34m(\u001b[0m\u001b[0mn\u001b[0m\u001b[0;34m)\u001b[0m\u001b[0;34m*\u001b[0m\u001b[0mb1_sequence\u001b[0m\u001b[0;34m(\u001b[0m\u001b[0mk\u001b[0m\u001b[0;34m)\u001b[0m \u001b[0;32mfor\u001b[0m \u001b[0mk\u001b[0m \u001b[0;32min\u001b[0m \u001b[0mrange\u001b[0m\u001b[0;34m(\u001b[0m\u001b[0mn\u001b[0m\u001b[0;34m+\u001b[0m\u001b[0mInteger\u001b[0m\u001b[0;34m(\u001b[0m\u001b[0;36m1\u001b[0m\u001b[0;34m)\u001b[0m\u001b[0;34m)\u001b[0m\u001b[0;34m)\u001b[0m\u001b[0;34m\u001b[0m\u001b[0;34m\u001b[0m\u001b[0m\n\u001b[0m\u001b[1;32m     43\u001b[0m             \u001b[0;32mtry\u001b[0m\u001b[0;34m:\u001b[0m\u001b[0;34m\u001b[0m\u001b[0;34m\u001b[0m\u001b[0m\n\u001b[1;32m     44\u001b[0m                 \u001b[0mL\u001b[0m \u001b[0;34m=\u001b[0m \u001b[0mguess\u001b[0m\u001b[0;34m(\u001b[0m\u001b[0;34m[\u001b[0m\u001b[0mb2_b1_sequence\u001b[0m\u001b[0;34m(\u001b[0m\u001b[0mi\u001b[0m\u001b[0;34m)\u001b[0m \u001b[0;32mfor\u001b[0m \u001b[0mi\u001b[0m \u001b[0;32min\u001b[0m \u001b[0mrange\u001b[0m\u001b[0;34m(\u001b[0m\u001b[0mbound_guess\u001b[0m\u001b[0;34m)\u001b[0m\u001b[0;34m]\u001b[0m\u001b[0;34m,\u001b[0m \u001b[0mring\u001b[0m\u001b[0;34m)\u001b[0m\u001b[0;34m\u001b[0m\u001b[0;34m\u001b[0m\u001b[0m\n",
      "\u001b[0;32m~/sage/src/sage/misc/functional.py\u001b[0m in \u001b[0;36msymbolic_sum\u001b[0;34m(expression, *args, **kwds)\u001b[0m\n\u001b[1;32m    574\u001b[0m         \u001b[0;32mreturn\u001b[0m \u001b[0mexpression\u001b[0m\u001b[0;34m.\u001b[0m\u001b[0msum\u001b[0m\u001b[0;34m(\u001b[0m\u001b[0;34m*\u001b[0m\u001b[0margs\u001b[0m\u001b[0;34m,\u001b[0m \u001b[0;34m**\u001b[0m\u001b[0mkwds\u001b[0m\u001b[0;34m)\u001b[0m\u001b[0;34m\u001b[0m\u001b[0;34m\u001b[0m\u001b[0m\n\u001b[1;32m    575\u001b[0m     \u001b[0;32melif\u001b[0m \u001b[0mlen\u001b[0m\u001b[0;34m(\u001b[0m\u001b[0margs\u001b[0m\u001b[0;34m)\u001b[0m \u001b[0;34m<=\u001b[0m \u001b[0;36m1\u001b[0m\u001b[0;34m:\u001b[0m\u001b[0;34m\u001b[0m\u001b[0;34m\u001b[0m\u001b[0m\n\u001b[0;32m--> 576\u001b[0;31m         \u001b[0;32mreturn\u001b[0m \u001b[0msum\u001b[0m\u001b[0;34m(\u001b[0m\u001b[0mexpression\u001b[0m\u001b[0;34m,\u001b[0m \u001b[0;34m*\u001b[0m\u001b[0margs\u001b[0m\u001b[0;34m)\u001b[0m\u001b[0;34m\u001b[0m\u001b[0;34m\u001b[0m\u001b[0m\n\u001b[0m\u001b[1;32m    577\u001b[0m     \u001b[0;32melse\u001b[0m\u001b[0;34m:\u001b[0m\u001b[0;34m\u001b[0m\u001b[0;34m\u001b[0m\u001b[0m\n\u001b[1;32m    578\u001b[0m         \u001b[0;32mfrom\u001b[0m \u001b[0msage\u001b[0m\u001b[0;34m.\u001b[0m\u001b[0msymbolic\u001b[0m\u001b[0;34m.\u001b[0m\u001b[0mring\u001b[0m \u001b[0;32mimport\u001b[0m \u001b[0mSR\u001b[0m\u001b[0;34m\u001b[0m\u001b[0;34m\u001b[0m\u001b[0m\n",
      "\u001b[0;32m/tmp/ipykernel_4791/1850046024.py\u001b[0m in \u001b[0;36m<genexpr>\u001b[0;34m(.0)\u001b[0m\n\u001b[1;32m     40\u001b[0m         \u001b[0;32mfor\u001b[0m \u001b[0mB2\u001b[0m \u001b[0;32min\u001b[0m \u001b[0msecond_bases\u001b[0m\u001b[0;34m:\u001b[0m\u001b[0;34m\u001b[0m\u001b[0;34m\u001b[0m\u001b[0m\n\u001b[1;32m     41\u001b[0m             \u001b[0mb1_sequence\u001b[0m \u001b[0;34m=\u001b[0m \u001b[0;32mlambda\u001b[0m \u001b[0mn\u001b[0m \u001b[0;34m:\u001b[0m \u001b[0msum\u001b[0m\u001b[0;34m(\u001b[0m\u001b[0mB1\u001b[0m\u001b[0;34m[\u001b[0m\u001b[0mk\u001b[0m\u001b[0;34m]\u001b[0m\u001b[0;34m(\u001b[0m\u001b[0mn\u001b[0m\u001b[0;34m)\u001b[0m\u001b[0;34m*\u001b[0m\u001b[0msequence\u001b[0m\u001b[0;34m(\u001b[0m\u001b[0mk\u001b[0m\u001b[0;34m)\u001b[0m \u001b[0;32mfor\u001b[0m \u001b[0mk\u001b[0m \u001b[0;32min\u001b[0m \u001b[0mrange\u001b[0m\u001b[0;34m(\u001b[0m\u001b[0mn\u001b[0m\u001b[0;34m+\u001b[0m\u001b[0mInteger\u001b[0m\u001b[0;34m(\u001b[0m\u001b[0;36m1\u001b[0m\u001b[0;34m)\u001b[0m\u001b[0;34m)\u001b[0m\u001b[0;34m)\u001b[0m\u001b[0;34m\u001b[0m\u001b[0;34m\u001b[0m\u001b[0m\n\u001b[0;32m---> 42\u001b[0;31m             \u001b[0mb2_b1_sequence\u001b[0m \u001b[0;34m=\u001b[0m \u001b[0;32mlambda\u001b[0m \u001b[0mn\u001b[0m \u001b[0;34m:\u001b[0m \u001b[0msum\u001b[0m\u001b[0;34m(\u001b[0m\u001b[0mB2\u001b[0m\u001b[0;34m[\u001b[0m\u001b[0mk\u001b[0m\u001b[0;34m]\u001b[0m\u001b[0;34m(\u001b[0m\u001b[0mn\u001b[0m\u001b[0;34m)\u001b[0m\u001b[0;34m*\u001b[0m\u001b[0mb1_sequence\u001b[0m\u001b[0;34m(\u001b[0m\u001b[0mk\u001b[0m\u001b[0;34m)\u001b[0m \u001b[0;32mfor\u001b[0m \u001b[0mk\u001b[0m \u001b[0;32min\u001b[0m \u001b[0mrange\u001b[0m\u001b[0;34m(\u001b[0m\u001b[0mn\u001b[0m\u001b[0;34m+\u001b[0m\u001b[0mInteger\u001b[0m\u001b[0;34m(\u001b[0m\u001b[0;36m1\u001b[0m\u001b[0;34m)\u001b[0m\u001b[0;34m)\u001b[0m\u001b[0;34m)\u001b[0m\u001b[0;34m\u001b[0m\u001b[0;34m\u001b[0m\u001b[0m\n\u001b[0m\u001b[1;32m     43\u001b[0m             \u001b[0;32mtry\u001b[0m\u001b[0;34m:\u001b[0m\u001b[0;34m\u001b[0m\u001b[0;34m\u001b[0m\u001b[0m\n\u001b[1;32m     44\u001b[0m                 \u001b[0mL\u001b[0m \u001b[0;34m=\u001b[0m \u001b[0mguess\u001b[0m\u001b[0;34m(\u001b[0m\u001b[0;34m[\u001b[0m\u001b[0mb2_b1_sequence\u001b[0m\u001b[0;34m(\u001b[0m\u001b[0mi\u001b[0m\u001b[0;34m)\u001b[0m \u001b[0;32mfor\u001b[0m \u001b[0mi\u001b[0m \u001b[0;32min\u001b[0m \u001b[0mrange\u001b[0m\u001b[0;34m(\u001b[0m\u001b[0mbound_guess\u001b[0m\u001b[0;34m)\u001b[0m\u001b[0;34m]\u001b[0m\u001b[0;34m,\u001b[0m \u001b[0mring\u001b[0m\u001b[0;34m)\u001b[0m\u001b[0;34m\u001b[0m\u001b[0;34m\u001b[0m\u001b[0m\n",
      "\u001b[0;32m/tmp/ipykernel_4791/1850046024.py\u001b[0m in \u001b[0;36m<lambda>\u001b[0;34m(n)\u001b[0m\n\u001b[1;32m     39\u001b[0m     \u001b[0;32mfor\u001b[0m \u001b[0mB1\u001b[0m \u001b[0;32min\u001b[0m \u001b[0mfirst_bases\u001b[0m\u001b[0;34m:\u001b[0m\u001b[0;34m\u001b[0m\u001b[0;34m\u001b[0m\u001b[0m\n\u001b[1;32m     40\u001b[0m         \u001b[0;32mfor\u001b[0m \u001b[0mB2\u001b[0m \u001b[0;32min\u001b[0m \u001b[0msecond_bases\u001b[0m\u001b[0;34m:\u001b[0m\u001b[0;34m\u001b[0m\u001b[0;34m\u001b[0m\u001b[0m\n\u001b[0;32m---> 41\u001b[0;31m             \u001b[0mb1_sequence\u001b[0m \u001b[0;34m=\u001b[0m \u001b[0;32mlambda\u001b[0m \u001b[0mn\u001b[0m \u001b[0;34m:\u001b[0m \u001b[0msum\u001b[0m\u001b[0;34m(\u001b[0m\u001b[0mB1\u001b[0m\u001b[0;34m[\u001b[0m\u001b[0mk\u001b[0m\u001b[0;34m]\u001b[0m\u001b[0;34m(\u001b[0m\u001b[0mn\u001b[0m\u001b[0;34m)\u001b[0m\u001b[0;34m*\u001b[0m\u001b[0msequence\u001b[0m\u001b[0;34m(\u001b[0m\u001b[0mk\u001b[0m\u001b[0;34m)\u001b[0m \u001b[0;32mfor\u001b[0m \u001b[0mk\u001b[0m \u001b[0;32min\u001b[0m \u001b[0mrange\u001b[0m\u001b[0;34m(\u001b[0m\u001b[0mn\u001b[0m\u001b[0;34m+\u001b[0m\u001b[0mInteger\u001b[0m\u001b[0;34m(\u001b[0m\u001b[0;36m1\u001b[0m\u001b[0;34m)\u001b[0m\u001b[0;34m)\u001b[0m\u001b[0;34m)\u001b[0m\u001b[0;34m\u001b[0m\u001b[0;34m\u001b[0m\u001b[0m\n\u001b[0m\u001b[1;32m     42\u001b[0m             \u001b[0mb2_b1_sequence\u001b[0m \u001b[0;34m=\u001b[0m \u001b[0;32mlambda\u001b[0m \u001b[0mn\u001b[0m \u001b[0;34m:\u001b[0m \u001b[0msum\u001b[0m\u001b[0;34m(\u001b[0m\u001b[0mB2\u001b[0m\u001b[0;34m[\u001b[0m\u001b[0mk\u001b[0m\u001b[0;34m]\u001b[0m\u001b[0;34m(\u001b[0m\u001b[0mn\u001b[0m\u001b[0;34m)\u001b[0m\u001b[0;34m*\u001b[0m\u001b[0mb1_sequence\u001b[0m\u001b[0;34m(\u001b[0m\u001b[0mk\u001b[0m\u001b[0;34m)\u001b[0m \u001b[0;32mfor\u001b[0m \u001b[0mk\u001b[0m \u001b[0;32min\u001b[0m \u001b[0mrange\u001b[0m\u001b[0;34m(\u001b[0m\u001b[0mn\u001b[0m\u001b[0;34m+\u001b[0m\u001b[0mInteger\u001b[0m\u001b[0;34m(\u001b[0m\u001b[0;36m1\u001b[0m\u001b[0;34m)\u001b[0m\u001b[0;34m)\u001b[0m\u001b[0;34m)\u001b[0m\u001b[0;34m\u001b[0m\u001b[0;34m\u001b[0m\u001b[0m\n\u001b[1;32m     43\u001b[0m             \u001b[0;32mtry\u001b[0m\u001b[0;34m:\u001b[0m\u001b[0;34m\u001b[0m\u001b[0;34m\u001b[0m\u001b[0m\n",
      "\u001b[0;32m~/sage/src/sage/misc/functional.py\u001b[0m in \u001b[0;36msymbolic_sum\u001b[0;34m(expression, *args, **kwds)\u001b[0m\n\u001b[1;32m    574\u001b[0m         \u001b[0;32mreturn\u001b[0m \u001b[0mexpression\u001b[0m\u001b[0;34m.\u001b[0m\u001b[0msum\u001b[0m\u001b[0;34m(\u001b[0m\u001b[0;34m*\u001b[0m\u001b[0margs\u001b[0m\u001b[0;34m,\u001b[0m \u001b[0;34m**\u001b[0m\u001b[0mkwds\u001b[0m\u001b[0;34m)\u001b[0m\u001b[0;34m\u001b[0m\u001b[0;34m\u001b[0m\u001b[0m\n\u001b[1;32m    575\u001b[0m     \u001b[0;32melif\u001b[0m \u001b[0mlen\u001b[0m\u001b[0;34m(\u001b[0m\u001b[0margs\u001b[0m\u001b[0;34m)\u001b[0m \u001b[0;34m<=\u001b[0m \u001b[0;36m1\u001b[0m\u001b[0;34m:\u001b[0m\u001b[0;34m\u001b[0m\u001b[0;34m\u001b[0m\u001b[0m\n\u001b[0;32m--> 576\u001b[0;31m         \u001b[0;32mreturn\u001b[0m \u001b[0msum\u001b[0m\u001b[0;34m(\u001b[0m\u001b[0mexpression\u001b[0m\u001b[0;34m,\u001b[0m \u001b[0;34m*\u001b[0m\u001b[0margs\u001b[0m\u001b[0;34m)\u001b[0m\u001b[0;34m\u001b[0m\u001b[0;34m\u001b[0m\u001b[0m\n\u001b[0m\u001b[1;32m    577\u001b[0m     \u001b[0;32melse\u001b[0m\u001b[0;34m:\u001b[0m\u001b[0;34m\u001b[0m\u001b[0;34m\u001b[0m\u001b[0m\n\u001b[1;32m    578\u001b[0m         \u001b[0;32mfrom\u001b[0m \u001b[0msage\u001b[0m\u001b[0;34m.\u001b[0m\u001b[0msymbolic\u001b[0m\u001b[0;34m.\u001b[0m\u001b[0mring\u001b[0m \u001b[0;32mimport\u001b[0m \u001b[0mSR\u001b[0m\u001b[0;34m\u001b[0m\u001b[0;34m\u001b[0m\u001b[0m\n",
      "\u001b[0;32m/tmp/ipykernel_4791/1850046024.py\u001b[0m in \u001b[0;36m<genexpr>\u001b[0;34m(.0)\u001b[0m\n\u001b[1;32m     39\u001b[0m     \u001b[0;32mfor\u001b[0m \u001b[0mB1\u001b[0m \u001b[0;32min\u001b[0m \u001b[0mfirst_bases\u001b[0m\u001b[0;34m:\u001b[0m\u001b[0;34m\u001b[0m\u001b[0;34m\u001b[0m\u001b[0m\n\u001b[1;32m     40\u001b[0m         \u001b[0;32mfor\u001b[0m \u001b[0mB2\u001b[0m \u001b[0;32min\u001b[0m \u001b[0msecond_bases\u001b[0m\u001b[0;34m:\u001b[0m\u001b[0;34m\u001b[0m\u001b[0;34m\u001b[0m\u001b[0m\n\u001b[0;32m---> 41\u001b[0;31m             \u001b[0mb1_sequence\u001b[0m \u001b[0;34m=\u001b[0m \u001b[0;32mlambda\u001b[0m \u001b[0mn\u001b[0m \u001b[0;34m:\u001b[0m \u001b[0msum\u001b[0m\u001b[0;34m(\u001b[0m\u001b[0mB1\u001b[0m\u001b[0;34m[\u001b[0m\u001b[0mk\u001b[0m\u001b[0;34m]\u001b[0m\u001b[0;34m(\u001b[0m\u001b[0mn\u001b[0m\u001b[0;34m)\u001b[0m\u001b[0;34m*\u001b[0m\u001b[0msequence\u001b[0m\u001b[0;34m(\u001b[0m\u001b[0mk\u001b[0m\u001b[0;34m)\u001b[0m \u001b[0;32mfor\u001b[0m \u001b[0mk\u001b[0m \u001b[0;32min\u001b[0m \u001b[0mrange\u001b[0m\u001b[0;34m(\u001b[0m\u001b[0mn\u001b[0m\u001b[0;34m+\u001b[0m\u001b[0mInteger\u001b[0m\u001b[0;34m(\u001b[0m\u001b[0;36m1\u001b[0m\u001b[0;34m)\u001b[0m\u001b[0;34m)\u001b[0m\u001b[0;34m)\u001b[0m\u001b[0;34m\u001b[0m\u001b[0;34m\u001b[0m\u001b[0m\n\u001b[0m\u001b[1;32m     42\u001b[0m             \u001b[0mb2_b1_sequence\u001b[0m \u001b[0;34m=\u001b[0m \u001b[0;32mlambda\u001b[0m \u001b[0mn\u001b[0m \u001b[0;34m:\u001b[0m \u001b[0msum\u001b[0m\u001b[0;34m(\u001b[0m\u001b[0mB2\u001b[0m\u001b[0;34m[\u001b[0m\u001b[0mk\u001b[0m\u001b[0;34m]\u001b[0m\u001b[0;34m(\u001b[0m\u001b[0mn\u001b[0m\u001b[0;34m)\u001b[0m\u001b[0;34m*\u001b[0m\u001b[0mb1_sequence\u001b[0m\u001b[0;34m(\u001b[0m\u001b[0mk\u001b[0m\u001b[0;34m)\u001b[0m \u001b[0;32mfor\u001b[0m \u001b[0mk\u001b[0m \u001b[0;32min\u001b[0m \u001b[0mrange\u001b[0m\u001b[0;34m(\u001b[0m\u001b[0mn\u001b[0m\u001b[0;34m+\u001b[0m\u001b[0mInteger\u001b[0m\u001b[0;34m(\u001b[0m\u001b[0;36m1\u001b[0m\u001b[0;34m)\u001b[0m\u001b[0;34m)\u001b[0m\u001b[0;34m)\u001b[0m\u001b[0;34m\u001b[0m\u001b[0;34m\u001b[0m\u001b[0m\n\u001b[1;32m     43\u001b[0m             \u001b[0;32mtry\u001b[0m\u001b[0;34m:\u001b[0m\u001b[0;34m\u001b[0m\u001b[0;34m\u001b[0m\u001b[0m\n",
      "\u001b[0;32m/tmp/ipykernel_4791/3139120966.py\u001b[0m in \u001b[0;36m__aux_sol\u001b[0;34m(n)\u001b[0m\n\u001b[1;32m     83\u001b[0m             \u001b[0mcoeffs\u001b[0m \u001b[0;34m=\u001b[0m \u001b[0moperator\u001b[0m\u001b[0;34m.\u001b[0m\u001b[0mpolynomial\u001b[0m\u001b[0;34m(\u001b[0m\u001b[0;34m)\u001b[0m\u001b[0;34m.\u001b[0m\u001b[0mcoefficients\u001b[0m\u001b[0;34m(\u001b[0m\u001b[0;32mFalse\u001b[0m\u001b[0;34m)\u001b[0m\u001b[0;34m\u001b[0m\u001b[0;34m\u001b[0m\u001b[0m\n\u001b[1;32m     84\u001b[0m             \u001b[0mlc\u001b[0m \u001b[0;34m=\u001b[0m \u001b[0mcoeffs\u001b[0m\u001b[0;34m.\u001b[0m\u001b[0mpop\u001b[0m\u001b[0;34m(\u001b[0m\u001b[0;34m)\u001b[0m\u001b[0;34m\u001b[0m\u001b[0;34m\u001b[0m\u001b[0m\n\u001b[0;32m---> 85\u001b[0;31m             \u001b[0;32mreturn\u001b[0m \u001b[0;34m-\u001b[0m\u001b[0msum\u001b[0m\u001b[0;34m(\u001b[0m\u001b[0m__aux_sol\u001b[0m\u001b[0;34m(\u001b[0m\u001b[0mn\u001b[0m\u001b[0;34m-\u001b[0m\u001b[0md\u001b[0m\u001b[0;34m+\u001b[0m\u001b[0mi\u001b[0m\u001b[0;34m)\u001b[0m\u001b[0;34m*\u001b[0m\u001b[0mcoeffs\u001b[0m\u001b[0;34m[\u001b[0m\u001b[0mi\u001b[0m\u001b[0;34m]\u001b[0m\u001b[0;34m(\u001b[0m\u001b[0mn\u001b[0m\u001b[0;34m-\u001b[0m\u001b[0md\u001b[0m\u001b[0;34m)\u001b[0m \u001b[0;32mfor\u001b[0m \u001b[0mi\u001b[0m \u001b[0;32min\u001b[0m \u001b[0mrange\u001b[0m\u001b[0;34m(\u001b[0m\u001b[0moperator\u001b[0m\u001b[0;34m.\u001b[0m\u001b[0morder\u001b[0m\u001b[0;34m(\u001b[0m\u001b[0;34m)\u001b[0m\u001b[0;34m)\u001b[0m\u001b[0;34m)\u001b[0m\u001b[0;34m/\u001b[0m\u001b[0mlc\u001b[0m\u001b[0;34m(\u001b[0m\u001b[0mn\u001b[0m\u001b[0;34m-\u001b[0m\u001b[0md\u001b[0m\u001b[0;34m)\u001b[0m\u001b[0;34m\u001b[0m\u001b[0;34m\u001b[0m\u001b[0m\n\u001b[0m\u001b[1;32m     86\u001b[0m     \u001b[0;32mreturn\u001b[0m \u001b[0m__aux_sol\u001b[0m\u001b[0;34m\u001b[0m\u001b[0;34m\u001b[0m\u001b[0m\n\u001b[1;32m     87\u001b[0m \u001b[0;34m\u001b[0m\u001b[0m\n",
      "\u001b[0;32m~/sage/src/sage/rings/rational.pyx\u001b[0m in \u001b[0;36msage.rings.rational.Rational.__truediv__\u001b[0;34m()\u001b[0m\n\u001b[1;32m   2456\u001b[0m         \u001b[0;32mif\u001b[0m \u001b[0mtype\u001b[0m\u001b[0;34m(\u001b[0m\u001b[0mleft\u001b[0m\u001b[0;34m)\u001b[0m \u001b[0;32mis\u001b[0m \u001b[0mtype\u001b[0m\u001b[0;34m(\u001b[0m\u001b[0mright\u001b[0m\u001b[0;34m)\u001b[0m\u001b[0;34m:\u001b[0m\u001b[0;34m\u001b[0m\u001b[0;34m\u001b[0m\u001b[0m\n\u001b[1;32m   2457\u001b[0m             \u001b[0;32mif\u001b[0m \u001b[0mmpq_cmp_si\u001b[0m\u001b[0;34m(\u001b[0m\u001b[0;34m(\u001b[0m\u001b[0;34m<\u001b[0m\u001b[0mRational\u001b[0m\u001b[0;34m>\u001b[0m \u001b[0mright\u001b[0m\u001b[0;34m)\u001b[0m\u001b[0;34m.\u001b[0m\u001b[0mvalue\u001b[0m\u001b[0;34m,\u001b[0m \u001b[0;36m0\u001b[0m\u001b[0;34m,\u001b[0m \u001b[0;36m1\u001b[0m\u001b[0;34m)\u001b[0m \u001b[0;34m==\u001b[0m \u001b[0;36m0\u001b[0m\u001b[0;34m:\u001b[0m\u001b[0;34m\u001b[0m\u001b[0;34m\u001b[0m\u001b[0m\n\u001b[0;32m-> 2458\u001b[0;31m                 \u001b[0;32mraise\u001b[0m \u001b[0mZeroDivisionError\u001b[0m\u001b[0;34m(\u001b[0m\u001b[0;34m'rational division by zero'\u001b[0m\u001b[0;34m)\u001b[0m\u001b[0;34m\u001b[0m\u001b[0;34m\u001b[0m\u001b[0m\n\u001b[0m\u001b[1;32m   2459\u001b[0m             \u001b[0mx\u001b[0m \u001b[0;34m=\u001b[0m \u001b[0;34m<\u001b[0m\u001b[0mRational\u001b[0m\u001b[0;34m>\u001b[0m \u001b[0mRational\u001b[0m\u001b[0;34m.\u001b[0m\u001b[0m__new__\u001b[0m\u001b[0;34m(\u001b[0m\u001b[0mRational\u001b[0m\u001b[0;34m)\u001b[0m\u001b[0;34m\u001b[0m\u001b[0;34m\u001b[0m\u001b[0m\n\u001b[1;32m   2460\u001b[0m             \u001b[0mmpq_div\u001b[0m\u001b[0;34m(\u001b[0m\u001b[0mx\u001b[0m\u001b[0;34m.\u001b[0m\u001b[0mvalue\u001b[0m\u001b[0;34m,\u001b[0m \u001b[0;34m(\u001b[0m\u001b[0;34m<\u001b[0m\u001b[0mRational\u001b[0m\u001b[0;34m>\u001b[0m\u001b[0mleft\u001b[0m\u001b[0;34m)\u001b[0m\u001b[0;34m.\u001b[0m\u001b[0mvalue\u001b[0m\u001b[0;34m,\u001b[0m \u001b[0;34m(\u001b[0m\u001b[0;34m<\u001b[0m\u001b[0mRational\u001b[0m\u001b[0;34m>\u001b[0m\u001b[0mright\u001b[0m\u001b[0;34m)\u001b[0m\u001b[0;34m.\u001b[0m\u001b[0mvalue\u001b[0m\u001b[0;34m)\u001b[0m\u001b[0;34m\u001b[0m\u001b[0;34m\u001b[0m\u001b[0m\n",
      "\u001b[0;31mZeroDivisionError\u001b[0m: rational division by zero"
     ]
    }
   ],
   "source": [
    "## Infinite search\n",
    "found_dfinite = []\n",
    "shift = 0\n",
    "explored = []\n",
    "with_oeis = []\n",
    "analyzed = 0\n",
    "while(True):\n",
    "    try:\n",
    "        dfinite, shift = search_dfinite_order(3,min_results=50,i=shift)\n",
    "        found_dfinite.extend(dfinite)\n",
    "        with alive_bar(len(dfinite), title=\"Exploring examples...\", force_tty=True) as bar:\n",
    "            for el in dfinite:\n",
    "                explored.append(explore_example(el[1], el[0].first_terms(required_init(el[1])+1), OE, B, B))\n",
    "                bar()\n",
    "        with alive_bar(len(dfinite), title=\"Checking if new is in OEIS...\", force_tty=True) as bar:\n",
    "            for i in range(len(dfinite)):\n",
    "                if(not isinstance(explored[-i-1], str)) and len(oeis([explored[-i-1][0](j) for j in range(10)])) > 0:\n",
    "                    with_oeis.append(explored[-i-1])\n",
    "                bar()\n",
    "                \n",
    "        print(f\"Found {len(with_oeis)}/{len(explored)} cases with a sequence in OEIS\")\n",
    "    except KeyboardInterrupt:\n",
    "        break"
   ]
  },
  {
   "cell_type": "code",
   "execution_count": 90,
   "id": "f5007717-a6d9-423d-82d3-8197ffc6cfc2",
   "metadata": {},
   "outputs": [
    {
     "name": "stdout",
     "output_type": "stream",
     "text": [
      "Possible examples:\n"
     ]
    },
    {
     "data": {
      "text/html": [
       "<html>\\(\\displaystyle \\left[\\verb|A007317|, \\verb|A000172|, \\verb|A258431|, \\verb|A032443|\\right]\\)</html>"
      ],
      "text/latex": [
       "$\\displaystyle \\left[\\verb|A007317|, \\verb|A000172|, \\verb|A258431|, \\verb|A032443|\\right]$"
      ],
      "text/plain": [
       "['A007317', 'A000172', 'A258431', 'A032443']"
      ]
     },
     "execution_count": 90,
     "metadata": {},
     "output_type": "execute_result"
    }
   ],
   "source": [
    "print(\"Possible examples:\")\n",
    "interesting_cases = list(set([str(oeis([[el for el in with_oeis if el[1].order() > 1][j][0](i) for i in range(10)])).split(\":\")[1].strip() for j in range(10)]))\n",
    "interesting_cases"
   ]
  },
  {
   "cell_type": "markdown",
   "id": "aba74dee-24cf-4ada-b25e-7d1d155e05e3",
   "metadata": {},
   "source": [
    "### Trying some examples with no-Liouvillian solutions\n",
    "\n",
    "We know that the convolution of $n!$ and $1/n!$ is not Liouvillian and satisfies the following recurrence:\n",
    "$$(n+3)y_{n+3} - (n^2 + 6n + 10)y_{n+2} + (2n + 5)y_{n+1} - y_n  = 0.$$\n",
    "\n",
    "Let us see what happen if we apply the binomial basis to this recurrence:"
   ]
  },
  {
   "cell_type": "code",
   "execution_count": 67,
   "id": "696ebfe6-65b5-41c1-8b30-f0e0a3a92cc7",
   "metadata": {},
   "outputs": [
    {
     "data": {
      "text/html": [
       "<html>\\(\\displaystyle \\left[1, 2, \\frac{7}{2}, \\frac{26}{3}, \\frac{749}{24}, \\frac{8843}{60}, \\frac{614227}{720}, \\frac{3669289}{630}, \\frac{1844279257}{40320}, \\frac{10519507811}{25920}\\right]\\)</html>"
      ],
      "text/latex": [
       "$\\displaystyle \\left[1, 2, \\frac{7}{2}, \\frac{26}{3}, \\frac{749}{24}, \\frac{8843}{60}, \\frac{614227}{720}, \\frac{3669289}{630}, \\frac{1844279257}{40320}, \\frac{10519507811}{25920}\\right]$"
      ],
      "text/plain": [
       "[1,\n",
       " 2,\n",
       " 7/2,\n",
       " 26/3,\n",
       " 749/24,\n",
       " 8843/60,\n",
       " 614227/720,\n",
       " 3669289/630,\n",
       " 1844279257/40320,\n",
       " 10519507811/25920]"
      ]
     },
     "metadata": {},
     "output_type": "display_data"
    },
    {
     "data": {
      "text/html": [
       "<html>\\(\\displaystyle \\left[0, 0, 0, 0, 0, 0, 0, 0, 0, 0\\right]\\)</html>"
      ],
      "text/latex": [
       "$\\displaystyle \\left[0, 0, 0, 0, 0, 0, 0, 0, 0, 0\\right]$"
      ],
      "text/plain": [
       "[0, 0, 0, 0, 0, 0, 0, 0, 0, 0]"
      ]
     },
     "execution_count": 67,
     "metadata": {},
     "output_type": "execute_result"
    }
   ],
   "source": [
    "non_liouv = lambda n : sum(QQ(factorial(k)/factorial(n-k)) for k in range(n+1));\n",
    "show([non_liouv(i) for i in range(10)])\n",
    "# Recurrence for the sequence\n",
    "L = (x+3)*E^3 - (x^2 + 6*x + 10)*E^2 + (2*x + 5)*E - 1\n",
    "[apply_operator_to_seq(L, non_liouv)(i) for i in range(10)]"
   ]
  },
  {
   "cell_type": "code",
   "execution_count": 68,
   "id": "85c98afb-2fa5-4f2d-a7a2-0e2a378cc10c",
   "metadata": {},
   "outputs": [
    {
     "data": {
      "text/html": [
       "<html>\\(\\displaystyle \\left(x + 5\\right) E^{5} + \\left(-x^{2} - 6 x - 9\\right) E^{4} + \\left(-4 x^{2} - 25 x - 40\\right) E^{3} + \\left(-6 x^{2} - 31 x - 41\\right) E^{2} + \\left(-4 x^{2} - 16 x - 16\\right) E - x^{2} - 3 x - 2\\)</html>"
      ],
      "text/latex": [
       "$\\displaystyle \\left(x + 5\\right) E^{5} + \\left(-x^{2} - 6 x - 9\\right) E^{4} + \\left(-4 x^{2} - 25 x - 40\\right) E^{3} + \\left(-6 x^{2} - 31 x - 41\\right) E^{2} + \\left(-4 x^{2} - 16 x - 16\\right) E - x^{2} - 3 x - 2$"
      ],
      "text/plain": [
       "(x + 5)*E^5 + (-x^2 - 6*x - 9)*E^4 + (-4*x^2 - 25*x - 40)*E^3 + (-6*x^2 - 31*x - 41)*E^2 + (-4*x^2 - 16*x - 16)*E - x^2 - 3*x - 2"
      ]
     },
     "metadata": {},
     "output_type": "display_data"
    },
    {
     "data": {
      "text/html": [
       "<html>\\(\\displaystyle \\left[1, 1, \\frac{1}{2}, \\frac{19}{6}, \\frac{253}{24}, \\frac{6241}{120}, \\frac{219661}{720}, \\frac{10574971}{5040}, \\frac{667791769}{40320}, \\frac{53505430273}{362880}\\right]\\)</html>"
      ],
      "text/latex": [
       "$\\displaystyle \\left[1, 1, \\frac{1}{2}, \\frac{19}{6}, \\frac{253}{24}, \\frac{6241}{120}, \\frac{219661}{720}, \\frac{10574971}{5040}, \\frac{667791769}{40320}, \\frac{53505430273}{362880}\\right]$"
      ],
      "text/plain": [
       "[1,\n",
       " 1,\n",
       " 1/2,\n",
       " 19/6,\n",
       " 253/24,\n",
       " 6241/120,\n",
       " 219661/720,\n",
       " 10574971/5040,\n",
       " 667791769/40320,\n",
       " 53505430273/362880]"
      ]
     },
     "execution_count": 68,
     "metadata": {},
     "output_type": "execute_result"
    }
   ],
   "source": [
    "# Getting recurrence by adding a binomial factor\n",
    "L2 = ass_recurrence(L, B, OE); show(L2)\n",
    "# Getting the solution of the sequence\n",
    "non_liouv_bin = solution(L2,get_converted_init(non_liouv, B, 6)) \n",
    "[non_liouv_bin(i) for i in range(10)]"
   ]
  },
  {
   "cell_type": "code",
   "execution_count": 69,
   "id": "2bd403f3-1b23-493b-8d78-2e737fd71c2f",
   "metadata": {},
   "outputs": [
    {
     "data": {
      "text/html": [
       "<html>\\(\\displaystyle \\left(x + 5\\right) E^{5} + \\left(-x^{2} - 6 x - 9\\right) E^{4} + \\left(-4 x^{2} - 25 x - 40\\right) E^{3} + \\left(-6 x^{2} - 31 x - 41\\right) E^{2} + \\left(-4 x^{2} - 16 x - 16\\right) E - x^{2} - 3 x - 2\\)</html>"
      ],
      "text/latex": [
       "$\\displaystyle \\left(x + 5\\right) E^{5} + \\left(-x^{2} - 6 x - 9\\right) E^{4} + \\left(-4 x^{2} - 25 x - 40\\right) E^{3} + \\left(-6 x^{2} - 31 x - 41\\right) E^{2} + \\left(-4 x^{2} - 16 x - 16\\right) E - x^{2} - 3 x - 2$"
      ],
      "text/plain": [
       "(x + 5)*E^5 + (-x^2 - 6*x - 9)*E^4 + (-4*x^2 - 25*x - 40)*E^3 + (-6*x^2 - 31*x - 41)*E^2 + (-4*x^2 - 16*x - 16)*E - x^2 - 3*x - 2"
      ]
     },
     "metadata": {},
     "output_type": "display_data"
    },
    {
     "data": {
      "text/html": [
       "<html>\\(\\displaystyle \\left[1, 0, -\\frac{1}{2}, \\frac{11}{3}, -\\frac{17}{8}, \\frac{2617}{120}, \\frac{56437}{720}, \\frac{3045667}{5040}, \\frac{189260353}{40320}, \\frac{15193219561}{362880}\\right]\\)</html>"
      ],
      "text/latex": [
       "$\\displaystyle \\left[1, 0, -\\frac{1}{2}, \\frac{11}{3}, -\\frac{17}{8}, \\frac{2617}{120}, \\frac{56437}{720}, \\frac{3045667}{5040}, \\frac{189260353}{40320}, \\frac{15193219561}{362880}\\right]$"
      ],
      "text/plain": [
       "[1,\n",
       " 0,\n",
       " -1/2,\n",
       " 11/3,\n",
       " -17/8,\n",
       " 2617/120,\n",
       " 56437/720,\n",
       " 3045667/5040,\n",
       " 189260353/40320,\n",
       " 15193219561/362880]"
      ]
     },
     "execution_count": 69,
     "metadata": {},
     "output_type": "execute_result"
    }
   ],
   "source": [
    "# Getting recurrence by adding a second binomial factor\n",
    "L3 = ass_recurrence(L, B, OE); show(L3)\n",
    "# Getting the solution of the sequence\n",
    "non_liouv_bin_bin = solution(L2,get_converted_init(non_liouv_bin, B, 6)) \n",
    "[non_liouv_bin_bin(i) for i in range(10)]"
   ]
  },
  {
   "cell_type": "code",
   "execution_count": 74,
   "id": "d4efe226-21ea-4025-b3e1-9c2ec680845e",
   "metadata": {},
   "outputs": [
    {
     "data": {
      "text/html": [
       "<html>\\(\\displaystyle \\left(-x - 5\\right) E^{5} + \\left(x^{2} + 6 x + 9\\right) E^{4} + \\left(4 x^{2} + 25 x + 40\\right) E^{3} + \\left(6 x^{2} + 31 x + 41\\right) E^{2} + \\left(4 x^{2} + 16 x + 16\\right) E + x^{2} + 3 x + 2\\)</html>"
      ],
      "text/latex": [
       "$\\displaystyle \\left(-x - 5\\right) E^{5} + \\left(x^{2} + 6 x + 9\\right) E^{4} + \\left(4 x^{2} + 25 x + 40\\right) E^{3} + \\left(6 x^{2} + 31 x + 41\\right) E^{2} + \\left(4 x^{2} + 16 x + 16\\right) E + x^{2} + 3 x + 2$"
      ],
      "text/plain": [
       "(-x - 5)*E^5 + (x^2 + 6*x + 9)*E^4 + (4*x^2 + 25*x + 40)*E^3 + (6*x^2 + 31*x + 41)*E^2 + (4*x^2 + 16*x + 16)*E + x^2 + 3*x + 2"
      ]
     },
     "execution_count": 74,
     "metadata": {},
     "output_type": "execute_result"
    }
   ],
   "source": [
    "guess([non_liouv_bin_bin(i) for i in range(50)], OE)"
   ]
  },
  {
   "cell_type": "markdown",
   "id": "9348f4b9-0b7a-4021-b8cf-5be17d405541",
   "metadata": {},
   "source": [
    "### Trying to use guess to obtain an example"
   ]
  },
  {
   "cell_type": "code",
   "execution_count": 203,
   "id": "10b3a478-cf7c-471b-8fef-6fdb618376c1",
   "metadata": {},
   "outputs": [],
   "source": [
    "a = -1; b = -2; c = -3\n",
    "seq = lambda n : solution(E^2 - (x-a)*(x-b)*E - (x-a)*(x-b)*(x-c), [1,1])(n)\n",
    "bin_seq = lambda n : sum(binomial(n,k)*seq(k) for k in range(n+1))\n",
    "bin_bin_seq = lambda n : sum(binomial(n,k)*bin_seq(k) for k in range(n+1))"
   ]
  },
  {
   "cell_type": "code",
   "execution_count": 204,
   "id": "bd6c9286-ac2a-4f52-a435-a59a45644545",
   "metadata": {},
   "outputs": [
    {
     "data": {
      "text/html": [
       "<html>\\(\\displaystyle \\left[1, 1, 8, 72, 1344, 35520, 1347840, 68544000, 4517775360, 374631505920\\right]\\)</html>"
      ],
      "text/latex": [
       "$\\displaystyle \\left[1, 1, 8, 72, 1344, 35520, 1347840, 68544000, 4517775360, 374631505920\\right]$"
      ],
      "text/plain": [
       "[1, 1, 8, 72, 1344, 35520, 1347840, 68544000, 4517775360, 374631505920]"
      ]
     },
     "execution_count": 204,
     "metadata": {},
     "output_type": "execute_result"
    }
   ],
   "source": [
    "[seq(i) for i in range(10)]"
   ]
  },
  {
   "cell_type": "code",
   "execution_count": 205,
   "id": "0a4a9911-e9b7-449e-83a4-a82b35516e0a",
   "metadata": {},
   "outputs": [
    {
     "data": {
      "text/html": [
       "<html>\\(\\displaystyle \\left[1, 3, 16, 140, 2160, 52592, 1868416, 90820032, 5783000320, 466805000960, 46565899505664, 5624284106058752, 808786822879473664, 136539590048636497920, 26739228138809412812800, 6012248327840046068645888, 1538283273936198105335660544, 444360163131793080333495369728, 143917487573718575394901511372800, 51937374756541740876020471330242560\\right]\\)</html>"
      ],
      "text/latex": [
       "$\\displaystyle \\left[1, 3, 16, 140, 2160, 52592, 1868416, 90820032, 5783000320, 466805000960, 46565899505664, 5624284106058752, 808786822879473664, 136539590048636497920, 26739228138809412812800, 6012248327840046068645888, 1538283273936198105335660544, 444360163131793080333495369728, 143917487573718575394901511372800, 51937374756541740876020471330242560\\right]$"
      ],
      "text/plain": [
       "[1,\n",
       " 3,\n",
       " 16,\n",
       " 140,\n",
       " 2160,\n",
       " 52592,\n",
       " 1868416,\n",
       " 90820032,\n",
       " 5783000320,\n",
       " 466805000960,\n",
       " 46565899505664,\n",
       " 5624284106058752,\n",
       " 808786822879473664,\n",
       " 136539590048636497920,\n",
       " 26739228138809412812800,\n",
       " 6012248327840046068645888,\n",
       " 1538283273936198105335660544,\n",
       " 444360163131793080333495369728,\n",
       " 143917487573718575394901511372800,\n",
       " 51937374756541740876020471330242560]"
      ]
     },
     "execution_count": 205,
     "metadata": {},
     "output_type": "execute_result"
    }
   ],
   "source": [
    "[bin_bin_seq(i) for i in range(20)]"
   ]
  },
  {
   "cell_type": "markdown",
   "id": "61ad7416-68b4-49e0-b35b-6984ce98814d",
   "metadata": {},
   "source": [
    "### The example [A001472](https://oeis.org/A001472)\n",
    "\n",
    "This sequence starts with the terms $1, 1, 2, 4, 16, 56, 256, 1072, 6224, 33616, 218656,\\ldots$ and counts the number of degree-$n$ permutations of order dividing 4. It satisfies a recurrence: \n",
    "$$a(0)=1, a(1)=1, a(2)=2, a(3)=4,$$\n",
    "$$a(n) = a(n-1) + (n-1)a(n-2) + (n^3-6n^2+11n-6)a(n-4)$$"
   ]
  },
  {
   "cell_type": "code",
   "execution_count": 34,
   "id": "ff6936c2-75d0-45f4-981a-bae1db716e4e",
   "metadata": {},
   "outputs": [
    {
     "data": {
      "text/html": [
       "<html>\\(\\displaystyle \\left[1, 1, 2, 4, 16, 56, 256, 1072, 6224, 33616, 218656\\right]\\)</html>"
      ],
      "text/latex": [
       "$\\displaystyle \\left[1, 1, 2, 4, 16, 56, 256, 1072, 6224, 33616, 218656\\right]$"
      ],
      "text/plain": [
       "[1, 1, 2, 4, 16, 56, 256, 1072, 6224, 33616, 218656]"
      ]
     },
     "execution_count": 34,
     "metadata": {},
     "output_type": "execute_result"
    }
   ],
   "source": [
    "L001472 = E^4 - E^3 - (x+3)*E^2 - ((x+4)^3 - 6*(x+4)^2 + 11*(x+4) - 6)\n",
    "A001472 = solution(L001472, [1,1,2,4])\n",
    "[A001472(i) for i in range(11)]"
   ]
  },
  {
   "cell_type": "code",
   "execution_count": 35,
   "id": "5e7c1838-24c9-4645-aaa3-327ccfbe6924",
   "metadata": {},
   "outputs": [],
   "source": [
    "seq, op = explore_example(L001472, [1,1,2,4], OE, B, B)"
   ]
  },
  {
   "cell_type": "code",
   "execution_count": 36,
   "id": "2831959c-cea2-4dc4-a5af-071c7bce25d0",
   "metadata": {},
   "outputs": [
    {
     "data": {
      "text/html": [
       "<html>\\(\\displaystyle \\left[1, 3, 10, 36, 144, 648, 3264, 18000, 107088, 682992, 4657824, 33763392, 258543360, 2082340224, 17600910336, 155694742272, 1436921254656, 13798542792960, 137635003878912, 1423560240073728\\right]\\)</html>"
      ],
      "text/latex": [
       "$\\displaystyle \\left[1, 3, 10, 36, 144, 648, 3264, 18000, 107088, 682992, 4657824, 33763392, 258543360, 2082340224, 17600910336, 155694742272, 1436921254656, 13798542792960, 137635003878912, 1423560240073728\\right]$"
      ],
      "text/plain": [
       "[1,\n",
       " 3,\n",
       " 10,\n",
       " 36,\n",
       " 144,\n",
       " 648,\n",
       " 3264,\n",
       " 18000,\n",
       " 107088,\n",
       " 682992,\n",
       " 4657824,\n",
       " 33763392,\n",
       " 258543360,\n",
       " 2082340224,\n",
       " 17600910336,\n",
       " 155694742272,\n",
       " 1436921254656,\n",
       " 13798542792960,\n",
       " 137635003878912,\n",
       " 1423560240073728]"
      ]
     },
     "execution_count": 36,
     "metadata": {},
     "output_type": "execute_result"
    }
   ],
   "source": [
    "[seq(i) for i in range(20)]"
   ]
  },
  {
   "cell_type": "markdown",
   "id": "365ed523-e71b-4cb0-ad25-33a5bce87c21",
   "metadata": {},
   "source": [
    "This sequence has a formula given as follows:\n",
    "\n",
    "$$a(n) = n!\\sum_{k=1}^n \\frac{1}{k!}\\left(\\sum_{j=\\lfloor(4*k-n)/3\\rfloor}^k\\binom{k}{j} \\binom{j}{n-4k+3j}(1/2)^{n-4k+3j}(1/4)^{k-j}\\right)$$"
   ]
  },
  {
   "cell_type": "code",
   "execution_count": 219,
   "id": "5f68313d-62e1-46d6-aef1-b3bd01d76d72",
   "metadata": {},
   "outputs": [
    {
     "data": {
      "text/html": [
       "<html>\\(\\displaystyle E^{4} - E^{3} + \\left(-x - 3\\right) E^{2} - x^{3} - 6 x^{2} - 11 x - 6\\)</html>"
      ],
      "text/latex": [
       "$\\displaystyle E^{4} - E^{3} + \\left(-x - 3\\right) E^{2} - x^{3} - 6 x^{2} - 11 x - 6$"
      ],
      "text/plain": [
       "E^4 - E^3 + (-x - 3)*E^2 - x^3 - 6*x^2 - 11*x - 6"
      ]
     },
     "metadata": {},
     "output_type": "display_data"
    },
    {
     "data": {
      "text/html": [
       "<html>\\(\\displaystyle -E^{4} + 2 E^{3} + \\left(x + 3\\right) E^{2} + x^{3} + 6 x^{2} + 11 x + 6\\)</html>"
      ],
      "text/latex": [
       "$\\displaystyle -E^{4} + 2 E^{3} + \\left(x + 3\\right) E^{2} + x^{3} + 6 x^{2} + 11 x + 6$"
      ],
      "text/plain": [
       "-E^4 + 2*E^3 + (x + 3)*E^2 + x^3 + 6*x^2 + 11*x + 6"
      ]
     },
     "metadata": {},
     "output_type": "display_data"
    },
    {
     "name": "stdout",
     "output_type": "stream",
     "text": [
      "E^{4} - 3 E^{3} + \\left(-n - 3\\right) E^{2} - n^{3} - 6 n^{2} - 11 n - 6\n"
     ]
    },
    {
     "data": {
      "text/html": [
       "<html>\\(\\displaystyle \\left[1, 3, 10, 36, 144, 648, 3264, 18000, 107088, 682992\\right]\\)</html>"
      ],
      "text/latex": [
       "$\\displaystyle \\left[1, 3, 10, 36, 144, 648, 3264, 18000, 107088, 682992\\right]$"
      ],
      "text/plain": [
       "[1, 3, 10, 36, 144, 648, 3264, 18000, 107088, 682992]"
      ]
     },
     "execution_count": 219,
     "metadata": {},
     "output_type": "execute_result"
    }
   ],
   "source": [
    "bin_A001472 = lambda n : sum(binomial(n,k)*A001472(k) for k in range(n+1))\n",
    "Lbin_001472 = guess([bin_A001472(i) for i in range(50)], OE)\n",
    "bin_bin_A001472 = lambda n : sum(binomial(n,k)*bin_A001472(k) for k in range(n+1))\n",
    "Lbin_bin_001472 = guess([bin_bin_A001472(i) for i in range(50)], OE)\n",
    "show(L001472)\n",
    "show(Lbin_001472)\n",
    "print(latex(-Lbin_bin_001472).replace(\"x\", \"n\"))\n",
    "[bin_bin_A001472(i) for i in range(10)]"
   ]
  },
  {
   "cell_type": "markdown",
   "id": "b3092838-cad8-4603-8f77-2abcef97fe5f",
   "metadata": {},
   "source": [
    "#### Writing the example\n",
    "\n",
    "Consider the sequence $(1,3,10,36,144,648,3264,18000,107088,682992,\\ldots)$ defined as solution to the recurrence equation:\n",
    "$$y_{n+4} - 3 y_{n+3} + \\left(-n - 3\\right) y_{n+2} - (n^{3} + 6 n^{2} + 11 n + 6)y_n = 0$$\n",
    "\n",
    "This sequence does not show up in OEIS, but if we write it in the following form:\n",
    "$$y_n = \\sum_{k=0}^n c_k \\binom{n}{k},$$\n",
    "then the sequence $(c_n)_n$ also satisfies a recurrence equation given by:"
   ]
  },
  {
   "cell_type": "code",
   "execution_count": 229,
   "id": "17c71f01-6050-4bcd-925a-b4a637b4e2cc",
   "metadata": {},
   "outputs": [
    {
     "data": {
      "text/html": [
       "<html>\\(\\displaystyle E^{7} + E^{6} + \\left(-x - 9\\right) E^{5} + \\left(-3 x - 20\\right) E^{4} + \\left(-x^{3} - 15 x^{2} - 77 x - 134\\right) E^{3} + \\left(-3 x^{3} - 36 x^{2} - 142 x - 183\\right) E^{2} + \\left(-3 x^{3} - 27 x^{2} - 78 x - 72\\right) E - x^{3} - 6 x^{2} - 11 x - 6\\)</html>"
      ],
      "text/latex": [
       "$\\displaystyle E^{7} + E^{6} + \\left(-x - 9\\right) E^{5} + \\left(-3 x - 20\\right) E^{4} + \\left(-x^{3} - 15 x^{2} - 77 x - 134\\right) E^{3} + \\left(-3 x^{3} - 36 x^{2} - 142 x - 183\\right) E^{2} + \\left(-3 x^{3} - 27 x^{2} - 78 x - 72\\right) E - x^{3} - 6 x^{2} - 11 x - 6$"
      ],
      "text/plain": [
       "E^7 + E^6 + (-x - 9)*E^5 + (-3*x - 20)*E^4 + (-x^3 - 15*x^2 - 77*x - 134)*E^3 + (-3*x^3 - 36*x^2 - 142*x - 183)*E^2 + (-3*x^3 - 27*x^2 - 78*x - 72)*E - x^3 - 6*x^2 - 11*x - 6"
      ]
     },
     "metadata": {},
     "output_type": "display_data"
    },
    {
     "data": {
      "text/html": [
       "<html>\\(\\displaystyle \\left[1, 2, 5, 14, 49, 202, 949, 4790, 26513, 159218\\right]\\)</html>"
      ],
      "text/latex": [
       "$\\displaystyle \\left[1, 2, 5, 14, 49, 202, 949, 4790, 26513, 159218\\right]$"
      ],
      "text/plain": [
       "[1, 2, 5, 14, 49, 202, 949, 4790, 26513, 159218]"
      ]
     },
     "execution_count": 229,
     "metadata": {},
     "output_type": "execute_result"
    }
   ],
   "source": [
    "equ_y = -Lbin_bin_001472\n",
    "seq_y = solution(equ_y, [1,3,10,36, 144])\n",
    "equ_c = ass_recurrence(equ_y, B, OE); show(equ_c)\n",
    "seq_c = solution(equ_c,get_converted_init(seq_y, B, 7)) \n",
    "[seq_c(i) for i in range(10)]"
   ]
  },
  {
   "cell_type": "markdown",
   "id": "a6a1bc3d-1f89-4dd2-9081-4020b2ba5258",
   "metadata": {},
   "source": [
    "This sequence does not appear in OEIS still. The order has gotten bigger and we still have no information. We can try to apply the transformation once again:\n",
    "$$c_n = \\sum_{k=0}^nd_k\\binom{n}{k}.$$ \n",
    "This sequence $(d_n)_n$ is also D-finite. Let see the recurrence and solution:"
   ]
  },
  {
   "cell_type": "code",
   "execution_count": 232,
   "id": "58a2400e-9c7e-487c-a584-e2754c41afb0",
   "metadata": {},
   "outputs": [
    {
     "data": {
      "text/html": [
       "<html>\\(\\displaystyle E^{10} + 8 E^{9} + \\left(-x + 15\\right) E^{8} + \\left(-9 x - 42\\right) E^{7} + \\left(-x^{3} - 24 x^{2} - 224 x - 732\\right) E^{6} + \\left(-9 x^{3} - 189 x^{2} - 1377 x - 3432\\right) E^{5} + \\left(-33 x^{3} - 594 x^{2} - 3597 x - 7288\\right) E^{4} + \\left(-63 x^{3} - 945 x^{2} - 4698 x - 7712\\right) E^{3} + \\left(-66 x^{3} - 792 x^{2} - 3110 x - 3984\\right) E^{2} + \\left(-36 x^{3} - 324 x^{2} - 936 x - 864\\right) E - 8 x^{3} - 48 x^{2} - 88 x - 48\\)</html>"
      ],
      "text/latex": [
       "$\\displaystyle E^{10} + 8 E^{9} + \\left(-x + 15\\right) E^{8} + \\left(-9 x - 42\\right) E^{7} + \\left(-x^{3} - 24 x^{2} - 224 x - 732\\right) E^{6} + \\left(-9 x^{3} - 189 x^{2} - 1377 x - 3432\\right) E^{5} + \\left(-33 x^{3} - 594 x^{2} - 3597 x - 7288\\right) E^{4} + \\left(-63 x^{3} - 945 x^{2} - 4698 x - 7712\\right) E^{3} + \\left(-66 x^{3} - 792 x^{2} - 3110 x - 3984\\right) E^{2} + \\left(-36 x^{3} - 324 x^{2} - 936 x - 864\\right) E - 8 x^{3} - 48 x^{2} - 88 x - 48$"
      ],
      "text/plain": [
       "E^10 + 8*E^9 + (-x + 15)*E^8 + (-9*x - 42)*E^7 + (-x^3 - 24*x^2 - 224*x - 732)*E^6 + (-9*x^3 - 189*x^2 - 1377*x - 3432)*E^5 + (-33*x^3 - 594*x^2 - 3597*x - 7288)*E^4 + (-63*x^3 - 945*x^2 - 4698*x - 7712)*E^3 + (-66*x^3 - 792*x^2 - 3110*x - 3984)*E^2 + (-36*x^3 - 324*x^2 - 936*x - 864)*E - 8*x^3 - 48*x^2 - 88*x - 48"
      ]
     },
     "metadata": {},
     "output_type": "display_data"
    },
    {
     "data": {
      "text/html": [
       "<html>\\(\\displaystyle \\left[1, 1, 2, 4, 16, 56, 256, 1072, 6224, 33616\\right]\\)</html>"
      ],
      "text/latex": [
       "$\\displaystyle \\left[1, 1, 2, 4, 16, 56, 256, 1072, 6224, 33616\\right]$"
      ],
      "text/plain": [
       "[1, 1, 2, 4, 16, 56, 256, 1072, 6224, 33616]"
      ]
     },
     "execution_count": 232,
     "metadata": {},
     "output_type": "execute_result"
    }
   ],
   "source": [
    "equ_d = ass_recurrence(equ_c, B, OE); show(equ_d)\n",
    "seq_d = solution(equ_d,get_converted_init(seq_c, B, 10)) \n",
    "[seq_d(i) for i in range(10)]"
   ]
  },
  {
   "cell_type": "markdown",
   "id": "9d232e94-89c9-4b7f-8f75-cf0b99a984de",
   "metadata": {},
   "source": [
    "This sequence does appear in OEIS as the sequence [A001472](https://oeis.org/A001472). Sequence A001472 is D-finite with recurrence\n",
    "$$a(n) = a(n-1) + (n-1)a(n-2) + (n^3-6n^2+11n-6)a(n-4).$$\n",
    "Using closure properties, we can check if these two sequences are the same:"
   ]
  },
  {
   "cell_type": "code",
   "execution_count": 240,
   "id": "ea81e67e-46bc-492f-999b-fd61b3e6f436",
   "metadata": {},
   "outputs": [
    {
     "data": {
      "text/html": [
       "<html>\\(\\displaystyle E^{10} + 8 E^{9} + \\left(-x + 15\\right) E^{8} + \\left(-9 x - 42\\right) E^{7} + \\left(-x^{3} - 24 x^{2} - 224 x - 732\\right) E^{6} + \\left(-9 x^{3} - 189 x^{2} - 1377 x - 3432\\right) E^{5} + \\left(-33 x^{3} - 594 x^{2} - 3597 x - 7288\\right) E^{4} + \\left(-63 x^{3} - 945 x^{2} - 4698 x - 7712\\right) E^{3} + \\left(-66 x^{3} - 792 x^{2} - 3110 x - 3984\\right) E^{2} + \\left(-36 x^{3} - 324 x^{2} - 936 x - 864\\right) E - 8 x^{3} - 48 x^{2} - 88 x - 48\\)</html>"
      ],
      "text/latex": [
       "$\\displaystyle E^{10} + 8 E^{9} + \\left(-x + 15\\right) E^{8} + \\left(-9 x - 42\\right) E^{7} + \\left(-x^{3} - 24 x^{2} - 224 x - 732\\right) E^{6} + \\left(-9 x^{3} - 189 x^{2} - 1377 x - 3432\\right) E^{5} + \\left(-33 x^{3} - 594 x^{2} - 3597 x - 7288\\right) E^{4} + \\left(-63 x^{3} - 945 x^{2} - 4698 x - 7712\\right) E^{3} + \\left(-66 x^{3} - 792 x^{2} - 3110 x - 3984\\right) E^{2} + \\left(-36 x^{3} - 324 x^{2} - 936 x - 864\\right) E - 8 x^{3} - 48 x^{2} - 88 x - 48$"
      ],
      "text/plain": [
       "E^10 + 8*E^9 + (-x + 15)*E^8 + (-9*x - 42)*E^7 + (-x^3 - 24*x^2 - 224*x - 732)*E^6 + (-9*x^3 - 189*x^2 - 1377*x - 3432)*E^5 + (-33*x^3 - 594*x^2 - 3597*x - 7288)*E^4 + (-63*x^3 - 945*x^2 - 4698*x - 7712)*E^3 + (-66*x^3 - 792*x^2 - 3110*x - 3984)*E^2 + (-36*x^3 - 324*x^2 - 936*x - 864)*E - 8*x^3 - 48*x^2 - 88*x - 48"
      ]
     },
     "metadata": {},
     "output_type": "display_data"
    },
    {
     "data": {
      "text/html": [
       "<html>\\(\\displaystyle \\left[0, 0, 0, 0, 0, 0, 0, 0, 0, 0, 0\\right]\\)</html>"
      ],
      "text/latex": [
       "$\\displaystyle \\left[0, 0, 0, 0, 0, 0, 0, 0, 0, 0, 0\\right]$"
      ],
      "text/plain": [
       "[0, 0, 0, 0, 0, 0, 0, 0, 0, 0, 0]"
      ]
     },
     "execution_count": 240,
     "metadata": {},
     "output_type": "execute_result"
    }
   ],
   "source": [
    "L001472 = E^4 - E^3 - (x+3)*E^2 - ((x+4)^3 - 6*(x+4)^2 + 11*(x+4) - 6)\n",
    "A001472 = solution(L001472, [1,1,2,4])\n",
    "diff_equ = L001472.lclm(equ_d)\n",
    "diff_seq = solution(diff_equ, [A001472(i) - seq_d(i) for i in range(diff_equ.order()+5)])\n",
    "show(diff_equ)\n",
    "[diff_seq(i) for i in range(diff_equ.order()+1)]"
   ]
  },
  {
   "cell_type": "markdown",
   "id": "ab207a66-610a-4e85-a8ce-472f7553f1d1",
   "metadata": {},
   "source": [
    "Sequnce A001472 has a closed form formula. Hence, we can write the solutions to our original equation\n",
    "$$y_{n+4} - 3 y_{n+3} + \\left(-n - 3\\right) y_{n+2} - (n^{3} + 6 n^{2} + 11 n + 6)y_n = 0$$\n",
    "with the following formula:\n",
    "$$y_n = \\sum_{k=0}^n \n",
    "    \\sum_{l=0}^k \n",
    "        \\left(l!\\sum_{p=1}^l \n",
    "            \\frac{1}{p!}\\left(\n",
    "                \\sum_{j=\\lfloor(4p-l)/3\\rfloor}^p\\binom{p}{j} \\binom{j}{l-4p+3j}(1/2)^{l-4p+3j}(1/4)^{p-j}\n",
    "            \\right)\n",
    "        \\right)\n",
    "\\binom{k}{l}\\binom{n}{k}$$"
   ]
  },
  {
   "cell_type": "code",
   "execution_count": null,
   "id": "770f6ad3-4166-413e-b842-62c1c4af92f4",
   "metadata": {},
   "outputs": [],
   "source": []
  }
 ],
 "metadata": {
  "kernelspec": {
   "display_name": "SageMath 9.6",
   "language": "sage",
   "name": "sagemath"
  },
  "language_info": {
   "codemirror_mode": {
    "name": "ipython",
    "version": 3
   },
   "file_extension": ".py",
   "mimetype": "text/x-python",
   "name": "python",
   "nbconvert_exporter": "python",
   "pygments_lexer": "ipython3",
   "version": "3.8.10"
  }
 },
 "nbformat": 4,
 "nbformat_minor": 5
}
