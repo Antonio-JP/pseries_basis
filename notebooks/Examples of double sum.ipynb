{
 "cells": [
  {
   "cell_type": "code",
   "execution_count": 1,
   "id": "e478b4c3",
   "metadata": {},
   "outputs": [],
   "source": [
    "%display latex\n",
    "from pseries_basis import *\n",
    "from ore_algebra import *\n",
    "n = PSBasis.n(PSBasis)"
   ]
  },
  {
   "cell_type": "code",
   "execution_count": 2,
   "id": "dfb6e9b5",
   "metadata": {},
   "outputs": [
    {
     "data": {
      "text/html": [
       "<html>\\(\\displaystyle \\left\\{\\binom{x}{n}\\right\\}_{n\\geq 0}\\)</html>"
      ],
      "text/latex": [
       "$\\displaystyle \\left\\{\\binom{x}{n}\\right\\}_{n\\geq 0}$"
      ],
      "text/plain": [
       "Binomial basis (x) choose n"
      ]
     },
     "execution_count": 2,
     "metadata": {},
     "output_type": "execute_result"
    }
   ],
   "source": [
    "B = BinomialBasis(); B"
   ]
  },
  {
   "cell_type": "code",
   "execution_count": 3,
   "id": "ba7b9f35",
   "metadata": {},
   "outputs": [],
   "source": [
    "OE.<E> = OreAlgebra(QQ[x], ('E', lambda p : p(x=x+1), lambda p : 0))\n",
    "x = OE.base().gens()[0]"
   ]
  },
  {
   "cell_type": "code",
   "execution_count": 170,
   "id": "3ce94b7c",
   "metadata": {},
   "outputs": [],
   "source": [
    "def apply_operator_to_seq(operator, seq):\n",
    "    r'''\n",
    "        Method to apply an operator to a sequence.\n",
    "        \n",
    "        This method will be similar to the usual __call__ method from ``ore_algebra``, but with sequences that\n",
    "        are given as functions.\n",
    "        \n",
    "        INPUT:\n",
    "        \n",
    "        * ``operator``: and operator with 1 generator (the shift) over the polynomial ring `\\mathbb{R}[x]`.\n",
    "        * ``seq``: a sequence in functional format. This means that we can call it with integer values and we \n",
    "          obtain the values of the sequence at each point.\n",
    "          \n",
    "        OUTPUT:\n",
    "        \n",
    "        A sequence in function format.\n",
    "    '''\n",
    "    if len(operator.parent().gens()) > 1:\n",
    "        raise TypeError()\n",
    "    E = operator.parent().gens()[0]\n",
    "    v = operator.parent().base().gens()[0]\n",
    "    coefficients = operator.coefficients(sparse=False)\n",
    "    return lambda i : sum(coefficients[j](**{str(v):i})*seq(i+j) for j in range(len(coefficients)))\n",
    "\n",
    "def get_converted_init(seq, bas, size):\n",
    "    r'''\n",
    "        Method that computes new initial values after a conversion.\n",
    "        \n",
    "        Let `((P_{n,k})_n)_k` be a basis of the sequence space and ``seq`` the\n",
    "        functional representation of a sequence `(a_n)_n`. If we express this\n",
    "        sequence in the form:\n",
    "        \n",
    "        .. MATH::\n",
    "            \n",
    "            a_n = \\sum_{k=0}^n P_{n,k} c_k,\n",
    "            \n",
    "        then the sequence `(c_k)_k` can be explicitly computed by solving a linear system.\n",
    "        \n",
    "        This method solves such system for a fixed amount of elements (gibven by ``size``)\n",
    "    '''\n",
    "    inhom = vector([seq(i) for i in range(size)])\n",
    "    M = Matrix([[bas[i](j) for i in range(size)] for j in range(size)])\n",
    "    return list(M.solve_right(inhom))\n",
    "    \n",
    "def solution(operator, init):\n",
    "    d = operator.order()\n",
    "    required = max(\n",
    "                    -min([el[0] for el in cat_bin.polynomial().lc().roots() if el[0] in ZZ]),\n",
    "                    -min([el[0] for el in cat_bin.polynomial().lc().roots() if el[0] in ZZ]), \n",
    "                    d)\n",
    "    if len(init) < required:\n",
    "        raise ValueError(f\"More data ({required}) is needed\")\n",
    "    @lru_cache\n",
    "    def __aux_sol(n):\n",
    "        if n < 0:\n",
    "            return 0\n",
    "        elif n < operator.order():\n",
    "            return init[n]\n",
    "        else:\n",
    "            coeffs = operator.polynomial().coefficients()\n",
    "            lc = coeffs.pop()\n",
    "            return -sum(__aux_sol(n-d+i)*coeffs[i](n-d) for i in range(operator.order()))/lc(n-d)\n",
    "    return __aux_sol\n",
    "\n",
    "def eval_ore_operator(operator, ring=None,**values):\n",
    "    r'''\n",
    "        Method to evaluate ore operators\n",
    "        \n",
    "        This method evaluate operators from ``ore_algebra`` as they are polynomials. This allows to change the name \n",
    "        of the generators to try a iterative approach.\n",
    "    '''\n",
    "    gens = [str(el) for el in operator.parent().gens()]\n",
    "    outer_vals = {el : values.get(el, 0) for el in gens}\n",
    "    inner_vals = {el : values[el] for el in values if (not el in outer_vals)}\n",
    "    coefficients = [el(**inner_vals) for el in operator.polynomial().coefficients()]\n",
    "    monomials = [prod(\n",
    "        outer_vals[str(g)]**(m.degree(g)) for g in operator.polynomial().parent().gens()\n",
    "    ) for m in operator.polynomial().monomials()]\n",
    "    result = sum(coefficients[i]*monomials[i] for i in range(len(monomials)))\n",
    "    if ring != None:\n",
    "        return ring(result)\n",
    "    return result\n",
    "\n",
    "class latex_str:\n",
    "    def __init__(self, data):\n",
    "        self.__data = data\n",
    "        self.__latex = None\n",
    "        \n",
    "    def __repr__(self):\n",
    "        return self.__data\n",
    "    def __str__(self):\n",
    "        return self.__data\n",
    "    def _latex_(self):\n",
    "        if self.__latex is None:\n",
    "            self.__latex = self.__data.replace(\"*\", \"\").replace(\"+0\", \"\")\n",
    "            \n",
    "        return self.__latex\n",
    "\n",
    "def print_recurrence(operator):\n",
    "    r'''\n",
    "        Method to print nicely the recurrence equation induced by an operator.\n",
    "    '''\n",
    "    if len(operator.parent().gens()) > 1:\n",
    "        raise TypeError()\n",
    "    E = operator.parent().gens()[0]\n",
    "    v = operator.parent().base().gens()[0]\n",
    "    coefficients = operator.coefficients(sparse=False)\n",
    "    \n",
    "    return latex_str(\" + \".join(\n",
    "        \"(\" + \n",
    "        str(coefficients[j]).replace(str(v),'n') + \n",
    "        \")*\"\n",
    "        \"a_{n+\" + str(j) + \"}\" for j in range(len(coefficients))) + \" = 0\")"
   ]
  },
  {
   "cell_type": "code",
   "execution_count": 171,
   "id": "e045db9d-b61b-4c47-b898-7d517f2854e0",
   "metadata": {},
   "outputs": [],
   "source": [
    "# Catalan sequence\n",
    "cat = lambda n : catalan_number(n)\n",
    "cat_op = (x+2)*E - (4*x + 2)"
   ]
  },
  {
   "cell_type": "code",
   "execution_count": 172,
   "id": "3204afe8-b1c9-4b85-a47f-868bc7427325",
   "metadata": {},
   "outputs": [],
   "source": [
    "cat_bin = eval_ore_operator(B.remove_Sni((B.recurrence(cat_op))), OE, Sn = E, n = x, Sni = 1);\n",
    "cat_bin_bin = eval_ore_operator(B.remove_Sni((B.recurrence(cat_op))), OE, Sn = E, n = x, Sni = 1);"
   ]
  },
  {
   "cell_type": "code",
   "execution_count": 173,
   "id": "6da1a765-ea52-4b15-9de1-8c12cb42322e",
   "metadata": {},
   "outputs": [
    {
     "data": {
      "text/html": [
       "<html>\\(\\displaystyle (n + 3)a_{n} + (-2n - 2)a_{n+1} + (-3n - 3)a_{n+2} = 0\\)</html>"
      ],
      "text/latex": [
       "$\\displaystyle (n + 3)a_{n} + (-2n - 2)a_{n+1} + (-3n - 3)a_{n+2} = 0$"
      ],
      "text/plain": [
       "(n + 3)*a_{n+0} + (-2*n - 2)*a_{n+1} + (-3*n - 3)*a_{n+2} = 0"
      ]
     },
     "execution_count": 173,
     "metadata": {},
     "output_type": "execute_result"
    }
   ],
   "source": [
    "print_recurrence(cat_bin_bin)"
   ]
  },
  {
   "cell_type": "code",
   "execution_count": 174,
   "id": "77829ddf-e297-4299-b1de-eda779ec5608",
   "metadata": {},
   "outputs": [],
   "source": [
    "in_in_cat = solution(cat_bin_bin, [1,1])"
   ]
  },
  {
   "cell_type": "code",
   "execution_count": 175,
   "id": "c8ee1c4b-0df6-4d1b-9755-375cf094dbc1",
   "metadata": {},
   "outputs": [],
   "source": [
    "cat2 = lambda n : sum(sum(in_in_cat(k2)*binomial(k1,k2) for k2 in range(k1+1))* binomial(n,k1) for k1 in range(n+1))"
   ]
  },
  {
   "cell_type": "code",
   "execution_count": 176,
   "id": "9a61786e-d3c3-494d-b278-c14618c58d32",
   "metadata": {},
   "outputs": [
    {
     "data": {
      "text/html": [
       "<html>\\(\\displaystyle \\left[1, 3, \\frac{25}{3}, \\frac{202}{9}, \\frac{535}{9}, \\frac{4202}{27}, \\frac{163519}{405}, \\frac{252592}{243}, \\frac{67834301}{25515}, \\frac{1035012997}{153090}\\right]\\)</html>"
      ],
      "text/latex": [
       "$\\displaystyle \\left[1, 3, \\frac{25}{3}, \\frac{202}{9}, \\frac{535}{9}, \\frac{4202}{27}, \\frac{163519}{405}, \\frac{252592}{243}, \\frac{67834301}{25515}, \\frac{1035012997}{153090}\\right]$"
      ],
      "text/plain": [
       "[1,\n",
       " 3,\n",
       " 25/3,\n",
       " 202/9,\n",
       " 535/9,\n",
       " 4202/27,\n",
       " 163519/405,\n",
       " 252592/243,\n",
       " 67834301/25515,\n",
       " 1035012997/153090]"
      ]
     },
     "execution_count": 176,
     "metadata": {},
     "output_type": "execute_result"
    }
   ],
   "source": [
    "[cat2(i) for i in range(10)]"
   ]
  },
  {
   "cell_type": "code",
   "execution_count": 177,
   "id": "d8ff86e6-b193-4628-ae75-b2b0a57a9ec1",
   "metadata": {},
   "outputs": [],
   "source": [
    "in_cat = solution(cat_bin,[1,0])"
   ]
  },
  {
   "cell_type": "code",
   "execution_count": 178,
   "id": "69f3907a-1173-463e-bc23-690049c61498",
   "metadata": {},
   "outputs": [
    {
     "data": {
      "text/html": [
       "<html>\\(\\displaystyle \\left[1, 0, 1, -\\frac{2}{3}, 1, -1, \\frac{17}{15}, -\\frac{6}{5}, \\frac{9}{7}, -\\frac{19}{14}\\right]\\)</html>"
      ],
      "text/latex": [
       "$\\displaystyle \\left[1, 0, 1, -\\frac{2}{3}, 1, -1, \\frac{17}{15}, -\\frac{6}{5}, \\frac{9}{7}, -\\frac{19}{14}\\right]$"
      ],
      "text/plain": [
       "[1, 0, 1, -2/3, 1, -1, 17/15, -6/5, 9/7, -19/14]"
      ]
     },
     "execution_count": 178,
     "metadata": {},
     "output_type": "execute_result"
    }
   ],
   "source": [
    "[in_cat(i) for i in range(10)]"
   ]
  },
  {
   "cell_type": "code",
   "execution_count": 180,
   "id": "e72684b2-1518-4837-9cfc-3ef6687a711b",
   "metadata": {},
   "outputs": [
    {
     "data": {
      "text/html": [
       "<html>\\(\\displaystyle \\left[\\mathrm{True}, \\mathrm{True}, \\mathrm{True}, \\mathrm{False}, \\mathrm{False}, \\mathrm{False}, \\mathrm{False}, \\mathrm{False}, \\mathrm{False}, \\mathrm{False}\\right]\\)</html>"
      ],
      "text/latex": [
       "$\\displaystyle \\left[\\mathrm{True}, \\mathrm{True}, \\mathrm{True}, \\mathrm{False}, \\mathrm{False}, \\mathrm{False}, \\mathrm{False}, \\mathrm{False}, \\mathrm{False}, \\mathrm{False}\\right]$"
      ],
      "text/plain": [
       "[True, True, True, False, False, False, False, False, False, False]"
      ]
     },
     "execution_count": 180,
     "metadata": {},
     "output_type": "execute_result"
    }
   ],
   "source": [
    "[cat(i) == sum(in_cat(k)*binomial(i,k) for k in range(i+1)) for i in range(10)]"
   ]
  },
  {
   "cell_type": "markdown",
   "id": "0b4a4b12-b056-47a4-9129-0c74e09ee3c2",
   "metadata": {},
   "source": [
    "$$a_0 = \\binom{0}{0} c_0 = c_0$$\n",
    "$$a_1 = \\sum_{k=0}^1 \\binom{1}{k} c_k = \\binom{1}{0} c_0 + \\binom{1}{1} c_1 = c_0 + c_1$$"
   ]
  },
  {
   "cell_type": "code",
   "execution_count": 157,
   "id": "4387bf14-ccf6-465a-86b2-ac8f3a3beed3",
   "metadata": {},
   "outputs": [
    {
     "data": {
      "text/html": [
       "<html>\\(\\displaystyle 1\\)</html>"
      ],
      "text/latex": [
       "$\\displaystyle 1$"
      ],
      "text/plain": [
       "1"
      ]
     },
     "execution_count": 157,
     "metadata": {},
     "output_type": "execute_result"
    }
   ],
   "source": [
    "catalan_number(1)"
   ]
  },
  {
   "cell_type": "code",
   "execution_count": 169,
   "id": "7359d260-0638-43be-9c8d-02d6f9db769d",
   "metadata": {},
   "outputs": [
    {
     "data": {
      "text/html": [
       "<html>\\(\\displaystyle \\left(n + 3\\right) \\mathit{Sn}^{2} + \\left(-2 n - 2\\right) \\mathit{Sn} - 3 n - 3\\)</html>"
      ],
      "text/latex": [
       "$\\displaystyle \\left(n + 3\\right) \\mathit{Sn}^{2} + \\left(-2 n - 2\\right) \\mathit{Sn} - 3 n - 3$"
      ],
      "text/plain": [
       "(n + 3)*Sn^2 + (-2*n - 2)*Sn - 3*n - 3"
      ]
     },
     "execution_count": 169,
     "metadata": {},
     "output_type": "execute_result"
    }
   ],
   "source": [
    "B.remove_Sni((B.recurrence(cat_op)))"
   ]
  },
  {
   "cell_type": "code",
   "execution_count": 181,
   "id": "a2eda9d2-fcaf-4953-af9d-dc409e85faef",
   "metadata": {},
   "outputs": [
    {
     "data": {
      "text/html": [
       "<html>\\(\\displaystyle \\left(-3 x - 3\\right) E^{2} + \\left(-2 x - 2\\right) E + x + 3\\)</html>"
      ],
      "text/latex": [
       "$\\displaystyle \\left(-3 x - 3\\right) E^{2} + \\left(-2 x - 2\\right) E + x + 3$"
      ],
      "text/plain": [
       "(-3*x - 3)*E^2 + (-2*x - 2)*E + x + 3"
      ]
     },
     "execution_count": 181,
     "metadata": {},
     "output_type": "execute_result"
    }
   ],
   "source": [
    "cat_bin"
   ]
  },
  {
   "cell_type": "code",
   "execution_count": 182,
   "id": "ab71bbf5-4cc3-4cb6-a054-d0015782db98",
   "metadata": {},
   "outputs": [],
   "source": [
    "v = vector([1,2,3])\n",
    "M = Matrix([[1,2,3],[4,5,6],[7,8,9]])"
   ]
  },
  {
   "cell_type": "code",
   "execution_count": 185,
   "id": "faaf8bca-2e26-4249-9556-119eff724136",
   "metadata": {},
   "outputs": [
    {
     "data": {
      "text/html": [
       "<html>\\(\\displaystyle \\mathrm{True}\\)</html>"
      ],
      "text/latex": [
       "$\\displaystyle \\mathrm{True}$"
      ],
      "text/plain": [
       "True"
      ]
     },
     "execution_count": 185,
     "metadata": {},
     "output_type": "execute_result"
    }
   ],
   "source": [
    "M*M.solve_right(v) == v"
   ]
  },
  {
   "cell_type": "markdown",
   "id": "097c461b-ac9b-4562-9ac0-592399f673b5",
   "metadata": {},
   "source": [
    "$$f(x) \\in \\mathbb{K}[[x]],\\qquad f(x) = \\sum_n c_n P_n(x)$$\n",
    "\n",
    "$$(f_n)_n \\in \\mathbb{K}^\\mathbb{N}$$"
   ]
  },
  {
   "cell_type": "code",
   "execution_count": null,
   "id": "d3cc8337-394b-4690-aa94-4a27ddcaac95",
   "metadata": {},
   "outputs": [],
   "source": []
  }
 ],
 "metadata": {
  "kernelspec": {
   "display_name": "SageMath 9.6",
   "language": "sage",
   "name": "sagemath"
  },
  "language_info": {
   "codemirror_mode": {
    "name": "ipython",
    "version": 3
   },
   "file_extension": ".py",
   "mimetype": "text/x-python",
   "name": "python",
   "nbconvert_exporter": "python",
   "pygments_lexer": "ipython3",
   "version": "3.8.10"
  }
 },
 "nbformat": 4,
 "nbformat_minor": 5
}
