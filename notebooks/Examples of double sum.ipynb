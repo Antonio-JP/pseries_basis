{
 "cells": [
  {
   "cell_type": "code",
   "execution_count": 101,
   "id": "e478b4c3",
   "metadata": {},
   "outputs": [],
   "source": [
    "%display latex\n",
    "from pseries_basis import *\n",
    "from ore_algebra import *\n",
    "n = PSBasis.n(PSBasis)"
   ]
  },
  {
   "cell_type": "code",
   "execution_count": 102,
   "id": "dfb6e9b5",
   "metadata": {},
   "outputs": [
    {
     "data": {
      "text/html": [
       "<html>\\(\\displaystyle \\left\\{\\binom{x}{n}\\right\\}_{n\\geq 0}\\)</html>"
      ],
      "text/latex": [
       "$\\displaystyle \\left\\{\\binom{x}{n}\\right\\}_{n\\geq 0}$"
      ],
      "text/plain": [
       "Binomial basis (x) choose n"
      ]
     },
     "execution_count": 102,
     "metadata": {},
     "output_type": "execute_result"
    }
   ],
   "source": [
    "B = BinomialBasis(); B"
   ]
  },
  {
   "cell_type": "code",
   "execution_count": 103,
   "id": "ba7b9f35",
   "metadata": {},
   "outputs": [],
   "source": [
    "OE.<E> = OreAlgebra(QQ[x], ('E', lambda p : p(x=x+1), lambda p : 0))\n",
    "x = OE.base().gens()[0]"
   ]
  },
  {
   "cell_type": "code",
   "execution_count": 161,
   "id": "3ce94b7c",
   "metadata": {},
   "outputs": [],
   "source": [
    "def seq_from_operator(operator, seq):\n",
    "    if len(operator.parent().gens()) > 1:\n",
    "        raise TypeError()\n",
    "    E = operator.parent().gens()[0]\n",
    "    v = operator.parent().base().gens()[0]\n",
    "    coefficients = operator.coefficients(sparse=False)\n",
    "    print(coefficient)\n",
    "    return lambda i : sum(coefficients[j](v=i)*seq(i+j) for j in range(len(coefficients)))\n",
    "\n",
    "def eval_ore_operator(operator, ring=None,**values):\n",
    "    gens = [str(el) for el in operator.parent().gens()]\n",
    "    outer_vals = {el : values.get(el, 0) for el in gens}\n",
    "    inner_vals = {el : values[el] for el in values if (not el in outer_vals)}\n",
    "    coefficients = [el(**inner_vals) for el in operator.polynomial().coefficients()]\n",
    "    monomials = [prod(\n",
    "        outer_vals[str(g)]**(m.degree(g)) for g in operator.polynomial().parent().gens()\n",
    "    ) for m in operator.polynomial().monomials()]\n",
    "    result = sum(coefficients[i]*monomials[i] for i in range(len(monomials)))\n",
    "    if ring != None:\n",
    "        return ring(result)\n",
    "    return result\n",
    "\n",
    "def print_recurrence(operator):\n",
    "    if len(operator.parent().gens()) > 1:\n",
    "        raise TypeError()\n",
    "    E = operator.parent().gens()[0]\n",
    "    v = operator.parent().base().gens()[0]\n",
    "    coefficients = operator.coefficients(sparse=False)\n",
    "    \n",
    "    return \" + \".join(\n",
    "        \"(\" + \n",
    "        str(coefficients[j]).replace(str(v),'n') + \n",
    "        \")*\"\n",
    "        \"a_{n+\" + str(j) + \"}\" for j in range(len(coefficients))) + \" = 0\" "
   ]
  },
  {
   "cell_type": "code",
   "execution_count": 162,
   "id": "84ea0964",
   "metadata": {},
   "outputs": [
    {
     "data": {
      "text/html": [
       "<html>\\(\\displaystyle \\left(x + 1\\right) E - 7 x + 8\\)</html>"
      ],
      "text/latex": [
       "$\\displaystyle \\left(x + 1\\right) E - 7 x + 8$"
      ],
      "text/plain": [
       "(x + 1)*E - 7*x + 8"
      ]
     },
     "execution_count": 162,
     "metadata": {},
     "output_type": "execute_result"
    }
   ],
   "source": [
    "L = (x+1)*E + 2*(3 - 2*x)\n",
    "L1=eval_ore_operator(B.recurrence(L), L.parent(),Sn=E, n=x, Sni=1)\n",
    "L2=eval_ore_operator(B.recurrence(L1), L1.parent(),Sn=E, n=x, Sni=1)\n",
    "L2"
   ]
  },
  {
   "cell_type": "code",
   "execution_count": 165,
   "id": "628ac964",
   "metadata": {},
   "outputs": [],
   "source": [
    "X = lambda x : 1\n",
    "f = seq_from_operator(L, X)"
   ]
  },
  {
   "cell_type": "code",
   "execution_count": 166,
   "id": "f80dec78",
   "metadata": {},
   "outputs": [
    {
     "data": {
      "text/html": [
       "<html>\\(\\displaystyle \\left[-3 x + 7, -3 x + 7, -3 x + 7, -3 x + 7, -3 x + 7, -3 x + 7, -3 x + 7, -3 x + 7, -3 x + 7, -3 x + 7\\right]\\)</html>"
      ],
      "text/latex": [
       "$\\displaystyle \\left[-3 x + 7, -3 x + 7, -3 x + 7, -3 x + 7, -3 x + 7, -3 x + 7, -3 x + 7, -3 x + 7, -3 x + 7, -3 x + 7\\right]$"
      ],
      "text/plain": [
       "[-3*x + 7,\n",
       " -3*x + 7,\n",
       " -3*x + 7,\n",
       " -3*x + 7,\n",
       " -3*x + 7,\n",
       " -3*x + 7,\n",
       " -3*x + 7,\n",
       " -3*x + 7,\n",
       " -3*x + 7,\n",
       " -3*x + 7]"
      ]
     },
     "execution_count": 166,
     "metadata": {},
     "output_type": "execute_result"
    }
   ],
   "source": [
    "[f(i) for i in range(10)]"
   ]
  },
  {
   "cell_type": "code",
   "execution_count": 151,
   "id": "2860d60d",
   "metadata": {},
   "outputs": [
    {
     "data": {
      "text/html": [
       "<html>\\(\\displaystyle \\verb|(n|\\verb| |\\verb|+|\\verb| |\\verb|1)*E^2|\\verb| |\\verb|-|\\verb| |\\verb|4*n|\\verb| |\\verb|+|\\verb| |\\verb|6|\\)</html>"
      ],
      "text/latex": [
       "$\\displaystyle \\verb|(n|\\verb| |\\verb|+|\\verb| |\\verb|1)*E^2|\\verb| |\\verb|-|\\verb| |\\verb|4*n|\\verb| |\\verb|+|\\verb| |\\verb|6|$"
      ],
      "text/plain": [
       "'(n + 1)*E^2 - 4*n + 6'"
      ]
     },
     "execution_count": 151,
     "metadata": {},
     "output_type": "execute_result"
    }
   ],
   "source": [
    "str(L).replace('x', 'n')"
   ]
  },
  {
   "cell_type": "code",
   "execution_count": 134,
   "id": "8848d9a7",
   "metadata": {},
   "outputs": [],
   "source": [
    "sol = lambda x : (7^(x-1) * rising_factorial(-1/7, x-1))/factorial(x)"
   ]
  },
  {
   "cell_type": "code",
   "execution_count": 135,
   "id": "641496fb",
   "metadata": {},
   "outputs": [],
   "source": [
    "f = lambda x : catalan_number(x)\n",
    "g = lambda x : sum(sum(binomial(x,k)*binomial(k,m)*sol(m) for m in range(k+1)) for k in range(x+1))"
   ]
  },
  {
   "cell_type": "code",
   "execution_count": 136,
   "id": "67266de2",
   "metadata": {},
   "outputs": [
    {
     "data": {
      "text/html": [
       "<html>\\(\\displaystyle \\left[1, 1, 2, 5, 14, 42, 132, 429, 1430, 4862\\right]\\)</html>"
      ],
      "text/latex": [
       "$\\displaystyle \\left[1, 1, 2, 5, 14, 42, 132, 429, 1430, 4862\\right]$"
      ],
      "text/plain": [
       "[1, 1, 2, 5, 14, 42, 132, 429, 1430, 4862]"
      ]
     },
     "execution_count": 136,
     "metadata": {},
     "output_type": "execute_result"
    }
   ],
   "source": [
    "[f(i) for i in range(10)]"
   ]
  },
  {
   "cell_type": "code",
   "execution_count": 137,
   "id": "d7af838a",
   "metadata": {},
   "outputs": [
    {
     "data": {
      "text/html": [
       "<html>\\(\\displaystyle \\left[-\\frac{1}{8}, \\frac{3}{4}, 3, 7, \\frac{27}{4}, -\\frac{99}{2}, -\\frac{1011}{2}, -\\frac{24984}{7}, -\\frac{1328013}{56}, -\\frac{4450861}{28}\\right]\\)</html>"
      ],
      "text/latex": [
       "$\\displaystyle \\left[-\\frac{1}{8}, \\frac{3}{4}, 3, 7, \\frac{27}{4}, -\\frac{99}{2}, -\\frac{1011}{2}, -\\frac{24984}{7}, -\\frac{1328013}{56}, -\\frac{4450861}{28}\\right]$"
      ],
      "text/plain": [
       "[-1/8, 3/4, 3, 7, 27/4, -99/2, -1011/2, -24984/7, -1328013/56, -4450861/28]"
      ]
     },
     "execution_count": 137,
     "metadata": {},
     "output_type": "execute_result"
    }
   ],
   "source": [
    "[g(i).simplify_full() for i in range(10)]"
   ]
  },
  {
   "cell_type": "code",
   "execution_count": 139,
   "id": "627a01b1",
   "metadata": {},
   "outputs": [
    {
     "data": {
      "text/html": [
       "<html>\\(\\displaystyle \\left[0, \\frac{15}{2}, 15, -15, -315, -2340, -15885, -111195, -\\frac{5698395}{7}, -\\frac{86417595}{14}\\right]\\)</html>"
      ],
      "text/latex": [
       "$\\displaystyle \\left[0, \\frac{15}{2}, 15, -15, -315, -2340, -15885, -111195, -\\frac{5698395}{7}, -\\frac{86417595}{14}\\right]$"
      ],
      "text/plain": [
       "[0, 15/2, 15, -15, -315, -2340, -15885, -111195, -5698395/7, -86417595/14]"
      ]
     },
     "execution_count": 139,
     "metadata": {},
     "output_type": "execute_result"
    }
   ],
   "source": [
    "[((i+1)*g(i+1) + 2*(3-2*i)*g(i)).simplify_full() for i in range(10)]"
   ]
  },
  {
   "cell_type": "code",
   "execution_count": null,
   "id": "3d69d6ba",
   "metadata": {},
   "outputs": [],
   "source": []
  }
 ],
 "metadata": {
  "kernelspec": {
   "display_name": "SageMath 9.6",
   "language": "sage",
   "name": "sagemath"
  },
  "language_info": {
   "codemirror_mode": {
    "name": "ipython",
    "version": 3
   },
   "file_extension": ".py",
   "mimetype": "text/x-python",
   "name": "python",
   "nbconvert_exporter": "python",
   "pygments_lexer": "ipython3",
   "version": "3.8.10"
  }
 },
 "nbformat": 4,
 "nbformat_minor": 5
}
