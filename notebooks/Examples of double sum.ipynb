{
 "cells": [
  {
   "cell_type": "code",
   "execution_count": 1,
   "metadata": {},
   "outputs": [],
   "source": [
    "%display latex\n",
    "from pseries_basis import *\n",
    "from ore_algebra import *\n",
    "n = PSBasis.n(PSBasis)"
   ]
  },
  {
   "cell_type": "code",
   "execution_count": 2,
   "metadata": {},
   "outputs": [
    {
     "data": {
      "text/html": [
       "<html><script type=\"math/tex; mode=display\">\\newcommand{\\Bold}[1]{\\mathbf{#1}}\\left\\{\\binom{x}{n}\\right\\}_{n\\geq 0}</script></html>"
      ],
      "text/latex": [
       "$$\\newcommand{\\Bold}[1]{\\mathbf{#1}}\\left\\{\\binom{x}{n}\\right\\}_{n\\geq 0}$$"
      ],
      "text/plain": [
       "Binomial basis (x) choose n"
      ]
     },
     "execution_count": 2,
     "metadata": {},
     "output_type": "execute_result"
    }
   ],
   "source": [
    "B = BinomialBasis(); B"
   ]
  },
  {
   "cell_type": "code",
   "execution_count": 3,
   "metadata": {},
   "outputs": [],
   "source": [
    "OE.<E> = OreAlgebra(QQ[x], ('E', lambda p : p(x=x+1), lambda p : 0))\n",
    "x = OE.base().gens()[0]"
   ]
  },
  {
   "cell_type": "code",
   "execution_count": 95,
   "metadata": {},
   "outputs": [],
   "source": [
    "def poly_decomp(polynomial):\n",
    "    r'''\n",
    "        Method that splits a polynomial into a lists of monomials and a list of coefficients indexed in \n",
    "        such a way that summing thorugh both lists gives the original polynomial.\n",
    "        \n",
    "        This method unifies the behavior or Univariate and Multivariate polynomials.\n",
    "    '''\n",
    "    from sage.rings.polynomial.polynomial_element import is_MPolynomialRing, is_PolynomialRing\n",
    "    if is_PolynomialRing(polynomial.parent()):\n",
    "        g = polynomial.parent().gens()[0]\n",
    "        d = polynomial.degree()\n",
    "        monomials = [g**i for i in range(d+1)]\n",
    "        coefficients = polynomial.coefficients(False)\n",
    "        # we clean the zeros to have a sparse representation\n",
    "        monomials = [monomials[i] for i in range(d+1) if coefficients[i] != 0]\n",
    "        coefficients = [c for c in coefficients if c != 0]\n",
    "    elif is_MPolynomialRing(polynomial.parent()):\n",
    "        monomials = polynomial.monomials()\n",
    "        coefficients = polynomial.coefficients()\n",
    "    else:\n",
    "        raise TypeError(\"The input must be a polynomial\")\n",
    "    return monomials, coefficients\n",
    "\n",
    "def apply_operator_to_seq(operator, seq):\n",
    "    r'''\n",
    "        Method to apply an operator to a sequence.\n",
    "        \n",
    "        This method will be similar to the usual __call__ method from ``ore_algebra``, but with sequences that\n",
    "        are given as functions.\n",
    "        \n",
    "        INPUT:\n",
    "        \n",
    "        * ``operator``: and operator with 1 generator (the shift) over the polynomial ring `\\mathbb{R}[x]`.\n",
    "        * ``seq``: a sequence in functional format. This means that we can call it with integer values and we \n",
    "          obtain the values of the sequence at each point.\n",
    "          \n",
    "        OUTPUT:\n",
    "        \n",
    "        A sequence in function format.\n",
    "    '''\n",
    "    if len(operator.parent().gens()) > 1:\n",
    "        raise TypeError()\n",
    "    E = operator.parent().gens()[0]\n",
    "    v = operator.parent().base().gens()[0]\n",
    "    coefficients = operator.coefficients(sparse=False)\n",
    "    return lambda i : sum(coefficients[j](**{str(v):i})*seq(i+j) for j in range(len(coefficients)))\n",
    "\n",
    "def get_converted_init(seq, bas, size):\n",
    "    r'''\n",
    "        Method that computes new initial values after a conversion.\n",
    "        \n",
    "        Let `((P_{n,k})_n)_k` be a basis of the sequence space and ``seq`` the\n",
    "        functional representation of a sequence `(a_n)_n`. If we express this\n",
    "        sequence in the form:\n",
    "        \n",
    "        .. MATH::\n",
    "            \n",
    "            a_n = \\sum_{k=0}^n P_{n,k} c_k,\n",
    "            \n",
    "        then the sequence `(c_k)_k` can be explicitly computed by solving a linear system.\n",
    "        \n",
    "        This method solves such system for a fixed amount of elements (gibven by ``size``)\n",
    "    '''\n",
    "    inhom = vector([seq(i) for i in range(size)])\n",
    "    M = Matrix([[bas[i](j) for i in range(size)] for j in range(size)])\n",
    "    return list(M.solve_right(inhom))\n",
    "    \n",
    "def solution(operator, init):\n",
    "    d = operator.order()\n",
    "    required = max(\n",
    "                    -min([el[0] for el in cat_bin.polynomial().lc().roots() if el[0] in ZZ]),\n",
    "                    -min([el[0] for el in cat_bin.polynomial().lc().roots() if el[0] in ZZ]), \n",
    "                    d)\n",
    "    if len(init) < required:\n",
    "        raise ValueError(f\"More data ({required}) is needed\")\n",
    "    @lru_cache\n",
    "    def __aux_sol(n):\n",
    "        if n < 0:\n",
    "            return 0\n",
    "        elif n < operator.order():\n",
    "            return init[n]\n",
    "        else:\n",
    "            coeffs = operator.polynomial().coefficients()\n",
    "            lc = coeffs.pop()\n",
    "            return -sum(__aux_sol(n-d+i)*coeffs[i](n-d) for i in range(operator.order()))/lc(n-d)\n",
    "    return __aux_sol\n",
    "\n",
    "def eval_ore_operator(operator, ring=None,**values):\n",
    "    r'''\n",
    "        Method to evaluate ore operators\n",
    "        \n",
    "        This method evaluate operators from ``ore_algebra`` as they are polynomials. This allows to change the name \n",
    "        of the generators to try a iterative approach.\n",
    "    '''\n",
    "    gens = [str(el) for el in operator.parent().gens()]\n",
    "    outer_vals = {el : values.get(el, 0) for el in gens}\n",
    "    inner_vals = {el : values[el] for el in values if (not el in outer_vals)}\n",
    "    monomials,coefficients = poly_decomp(operator.polynomial())\n",
    "    coefficients = [el(**inner_vals) for el in coefficients]\n",
    "    monomials = [prod(\n",
    "        outer_vals[str(g)]**(m.degree(g)) for g in operator.polynomial().parent().gens()\n",
    "    ) for m in monomials]\n",
    "    result = sum(coefficients[i]*monomials[i] for i in range(len(monomials)))\n",
    "    if ring != None:\n",
    "        return ring(result)\n",
    "    return result\n",
    "\n",
    "class latex_str:\n",
    "    def __init__(self, data):\n",
    "        self.__data = data\n",
    "        self.__latex = None\n",
    "        \n",
    "    def __repr__(self):\n",
    "        return self.__data\n",
    "    def __str__(self):\n",
    "        return self.__data\n",
    "    def _latex_(self):\n",
    "        if self.__latex is None:\n",
    "            self.__latex = self.__data.replace(\"*\", \"\").replace(\"+0\", \"\")\n",
    "            \n",
    "        return self.__latex\n",
    "\n",
    "def print_recurrence(operator):\n",
    "    r'''\n",
    "        Method to print nicely the recurrence equation induced by an operator.\n",
    "    '''\n",
    "    if len(operator.parent().gens()) > 1:\n",
    "        raise TypeError()\n",
    "    E = operator.parent().gens()[0]\n",
    "    v = operator.parent().base().gens()[0]\n",
    "    coefficients = operator.coefficients(sparse=False)\n",
    "    \n",
    "    return latex_str(\" + \".join(\n",
    "        \"(\" + \n",
    "        str(coefficients[j]).replace(str(v),'n') + \n",
    "        \")*\"\n",
    "        \"a_{n+\" + str(j) + \"}\" for j in range(len(coefficients))) + \" = 0\")"
   ]
  },
  {
   "cell_type": "code",
   "execution_count": 96,
   "metadata": {},
   "outputs": [],
   "source": [
    "# Catalan sequence\n",
    "cat = lambda n : catalan_number(n)\n",
    "cat_op = (x+2)*E - (4*x + 2)"
   ]
  },
  {
   "cell_type": "code",
   "execution_count": 99,
   "metadata": {},
   "outputs": [
    {
     "data": {
      "text/html": [
       "<html><script type=\"math/tex; mode=display\">\\newcommand{\\Bold}[1]{\\mathbf{#1}}\\left(x + 3\\right) E^{2} + \\left(-2 x - 2\\right) E - 3 x - 3</script></html>"
      ],
      "text/latex": [
       "$$\\newcommand{\\Bold}[1]{\\mathbf{#1}}\\left(x + 3\\right) E^{2} + \\left(-2 x - 2\\right) E - 3 x - 3$$"
      ],
      "text/plain": [
       "(x + 3)*E^2 + (-2*x - 2)*E - 3*x - 3"
      ]
     },
     "metadata": {},
     "output_type": "display_data"
    },
    {
     "data": {
      "text/html": [
       "<html><script type=\"math/tex; mode=display\">\\newcommand{\\Bold}[1]{\\mathbf{#1}}\\left(x + 4\\right) E^{3} + \\left(x + 5\\right) E^{2} + \\left(-4 x - 6\\right) E - 4 x - 4</script></html>"
      ],
      "text/latex": [
       "$$\\newcommand{\\Bold}[1]{\\mathbf{#1}}\\left(x + 4\\right) E^{3} + \\left(x + 5\\right) E^{2} + \\left(-4 x - 6\\right) E - 4 x - 4$$"
      ],
      "text/plain": [
       "(x + 4)*E^3 + (x + 5)*E^2 + (-4*x - 6)*E - 4*x - 4"
      ]
     },
     "execution_count": 99,
     "metadata": {},
     "output_type": "execute_result"
    }
   ],
   "source": [
    "cat_bin = eval_ore_operator(B.remove_Sni(B.recurrence(cat_op)), OE, Sn=E, n=x,Sni=1); show(cat_bin)\n",
    "cat_bin_bin = eval_ore_operator(B.remove_Sni(B.recurrence(cat_bin)), OE, Sn=E, n=x,Sni=1); cat_bin_bin"
   ]
  },
  {
   "cell_type": "code",
   "execution_count": 107,
   "metadata": {},
   "outputs": [],
   "source": [
    "in_cat = solution(cat_bin, get_converted_init(cat, B, 3))\n",
    "in_in_cat = solution(cat_bin_bin, get_converted_init(in_cat, B, 4))"
   ]
  },
  {
   "cell_type": "code",
   "execution_count": 109,
   "metadata": {},
   "outputs": [
    {
     "data": {
      "text/html": [
       "<html><script type=\"math/tex; mode=display\">\\newcommand{\\Bold}[1]{\\mathbf{#1}}\\left[1, -1, 2, -3, 6, -10, 20, -35, 70, -126\\right]</script></html>"
      ],
      "text/latex": [
       "$$\\newcommand{\\Bold}[1]{\\mathbf{#1}}\\left[1, -1, 2, -3, 6, -10, 20, -35, 70, -126\\right]$$"
      ],
      "text/plain": [
       "[1, -1, 2, -3, 6, -10, 20, -35, 70, -126]"
      ]
     },
     "execution_count": 109,
     "metadata": {},
     "output_type": "execute_result"
    }
   ],
   "source": [
    "[in_in_cat(i) for i in range(10)]"
   ]
  },
  {
   "cell_type": "code",
   "execution_count": 110,
   "metadata": {},
   "outputs": [
    {
     "data": {
      "text/html": [
       "<html><script type=\"math/tex; mode=display\">\\newcommand{\\Bold}[1]{\\mathbf{#1}}\\left[\\mathrm{True}, \\mathrm{True}, \\mathrm{True}, \\mathrm{True}, \\mathrm{True}, \\mathrm{True}, \\mathrm{True}, \\mathrm{True}, \\mathrm{True}, \\mathrm{True}\\right]</script></html>"
      ],
      "text/latex": [
       "$$\\newcommand{\\Bold}[1]{\\mathbf{#1}}\\left[\\mathrm{True}, \\mathrm{True}, \\mathrm{True}, \\mathrm{True}, \\mathrm{True}, \\mathrm{True}, \\mathrm{True}, \\mathrm{True}, \\mathrm{True}, \\mathrm{True}\\right]$$"
      ],
      "text/plain": [
       "[True, True, True, True, True, True, True, True, True, True]"
      ]
     },
     "execution_count": 110,
     "metadata": {},
     "output_type": "execute_result"
    }
   ],
   "source": [
    "[cat(i) == sum(sum(in_in_cat(k2)*binomial(k,k2) for k2 in range(k+1))*binomial(i,k) for k in range(i+1)) for i in range(10)]"
   ]
  },
  {
   "cell_type": "markdown",
   "metadata": {},
   "source": [
    "$$a_0 = \\binom{0}{0} c_0 = c_0$$\n",
    "$$a_1 = \\sum_{k=0}^1 \\binom{1}{k} c_k = \\binom{1}{0} c_0 + \\binom{1}{1} c_1 = c_0 + c_1$$"
   ]
  },
  {
   "cell_type": "code",
   "execution_count": 112,
   "metadata": {},
   "outputs": [
    {
     "data": {
      "text/html": [
       "<html><script type=\"math/tex; mode=display\">\\newcommand{\\Bold}[1]{\\mathbf{#1}}\\left[1, 1, 2, 5, 14, 42, 132, 429, 1430, 4862\\right]</script></html>"
      ],
      "text/latex": [
       "$$\\newcommand{\\Bold}[1]{\\mathbf{#1}}\\left[1, 1, 2, 5, 14, 42, 132, 429, 1430, 4862\\right]$$"
      ],
      "text/plain": [
       "[1, 1, 2, 5, 14, 42, 132, 429, 1430, 4862]"
      ]
     },
     "execution_count": 112,
     "metadata": {},
     "output_type": "execute_result"
    }
   ],
   "source": [
    "[cat(i) for i in range(10)]"
   ]
  },
  {
   "cell_type": "code",
   "execution_count": 169,
   "metadata": {},
   "outputs": [
    {
     "data": {
      "text/html": [
       "<html>\\(\\displaystyle \\left(n + 3\\right) \\mathit{Sn}^{2} + \\left(-2 n - 2\\right) \\mathit{Sn} - 3 n - 3\\)</html>"
      ],
      "text/latex": [
       "$\\displaystyle \\left(n + 3\\right) \\mathit{Sn}^{2} + \\left(-2 n - 2\\right) \\mathit{Sn} - 3 n - 3$"
      ],
      "text/plain": [
       "(n + 3)*Sn^2 + (-2*n - 2)*Sn - 3*n - 3"
      ]
     },
     "execution_count": 169,
     "metadata": {},
     "output_type": "execute_result"
    }
   ],
   "source": [
    "B.remove_Sni((B.recurrence(cat_op)))"
   ]
  },
  {
   "cell_type": "code",
   "execution_count": 181,
   "metadata": {},
   "outputs": [
    {
     "data": {
      "text/html": [
       "<html>\\(\\displaystyle \\left(-3 x - 3\\right) E^{2} + \\left(-2 x - 2\\right) E + x + 3\\)</html>"
      ],
      "text/latex": [
       "$\\displaystyle \\left(-3 x - 3\\right) E^{2} + \\left(-2 x - 2\\right) E + x + 3$"
      ],
      "text/plain": [
       "(-3*x - 3)*E^2 + (-2*x - 2)*E + x + 3"
      ]
     },
     "execution_count": 181,
     "metadata": {},
     "output_type": "execute_result"
    }
   ],
   "source": [
    "cat_bin"
   ]
  },
  {
   "cell_type": "code",
   "execution_count": 182,
   "metadata": {},
   "outputs": [],
   "source": [
    "v = vector([1,2,3])\n",
    "M = Matrix([[1,2,3],[4,5,6],[7,8,9]])"
   ]
  },
  {
   "cell_type": "code",
   "execution_count": 185,
   "metadata": {},
   "outputs": [
    {
     "data": {
      "text/html": [
       "<html>\\(\\displaystyle \\mathrm{True}\\)</html>"
      ],
      "text/latex": [
       "$\\displaystyle \\mathrm{True}$"
      ],
      "text/plain": [
       "True"
      ]
     },
     "execution_count": 185,
     "metadata": {},
     "output_type": "execute_result"
    }
   ],
   "source": [
    "M*M.solve_right(v) == v"
   ]
  },
  {
   "cell_type": "markdown",
   "metadata": {},
   "source": [
    "$$f(x) \\in \\mathbb{K}[[x]],\\qquad f(x) = \\sum_n c_n P_n(x)$$\n",
    "\n",
    "$$(f_n)_n \\in \\mathbb{K}^\\mathbb{N}$$"
   ]
  },
  {
   "cell_type": "code",
   "execution_count": 8,
   "metadata": {},
   "outputs": [
    {
     "data": {
      "text/html": [
       "<html><script type=\"math/tex; mode=display\">\\newcommand{\\Bold}[1]{\\mathbf{#1}}\\left\\{\\binom{x}{n}\\right\\}_{n\\geq 0}</script></html>"
      ],
      "text/latex": [
       "$$\\newcommand{\\Bold}[1]{\\mathbf{#1}}\\left\\{\\binom{x}{n}\\right\\}_{n\\geq 0}$$"
      ],
      "text/plain": [
       "Binomial basis (x) choose n"
      ]
     },
     "execution_count": 8,
     "metadata": {},
     "output_type": "execute_result"
    }
   ],
   "source": [
    "B"
   ]
  },
  {
   "cell_type": "code",
   "execution_count": 22,
   "metadata": {},
   "outputs": [
    {
     "data": {
      "text/html": [
       "<html><script type=\"math/tex; mode=display\">\\newcommand{\\Bold}[1]{\\mathbf{#1}}\\left[0, 0, 0, 0, 0, 0, 0, 0\\right]</script></html>"
      ],
      "text/latex": [
       "$$\\newcommand{\\Bold}[1]{\\mathbf{#1}}\\left[0, 0, 0, 0, 0, 0, 0, 0\\right]$$"
      ],
      "text/plain": [
       "[0, 0, 0, 0, 0, 0, 0, 0]"
      ]
     },
     "execution_count": 22,
     "metadata": {},
     "output_type": "execute_result"
    }
   ],
   "source": [
    "[x*B[i] - (i+1)*B[i+1] - i*B[i] for i in range(2,10)]"
   ]
  },
  {
   "cell_type": "code",
   "execution_count": 20,
   "metadata": {},
   "outputs": [
    {
     "data": {
      "text/html": [
       "<html><script type=\"math/tex; mode=display\">\\newcommand{\\Bold}[1]{\\mathbf{#1}}\\frac{1}{24} x^{5} - \\frac{5}{12} x^{4} + \\frac{35}{24} x^{3} - \\frac{25}{12} x^{2} + x</script></html>"
      ],
      "text/latex": [
       "$$\\newcommand{\\Bold}[1]{\\mathbf{#1}}\\frac{1}{24} x^{5} - \\frac{5}{12} x^{4} + \\frac{35}{24} x^{3} - \\frac{25}{12} x^{2} + x$$"
      ],
      "text/plain": [
       "1/24*x^5 - 5/12*x^4 + 35/24*x^3 - 25/12*x^2 + x"
      ]
     },
     "execution_count": 20,
     "metadata": {},
     "output_type": "execute_result"
    }
   ],
   "source": [
    "B[5]*5"
   ]
  },
  {
   "cell_type": "code",
   "execution_count": 19,
   "metadata": {},
   "outputs": [
    {
     "data": {
      "text/html": [
       "<html><script type=\"math/tex; mode=display\">\\newcommand{\\Bold}[1]{\\mathbf{#1}}\\frac{1}{5}</script></html>"
      ],
      "text/latex": [
       "$$\\newcommand{\\Bold}[1]{\\mathbf{#1}}\\frac{1}{5}$$"
      ],
      "text/plain": [
       "1/5"
      ]
     },
     "execution_count": 19,
     "metadata": {},
     "output_type": "execute_result"
    }
   ],
   "source": [
    "24/120"
   ]
  },
  {
   "cell_type": "code",
   "execution_count": 87,
   "metadata": {},
   "outputs": [],
   "source": [
    "AUX = PolynomialRing(QQ, 'p')"
   ]
  },
  {
   "cell_type": "code",
   "execution_count": 92,
   "metadata": {},
   "outputs": [],
   "source": [
    "poly = AUX([1,2,3])\n",
    "monomials = poly.monomials(); monomials.reverse()\n",
    "coefficients = poly.coefficients(sparse=False)"
   ]
  },
  {
   "cell_type": "code",
   "execution_count": 94,
   "metadata": {},
   "outputs": [
    {
     "data": {
      "text/html": [
       "<html><script type=\"math/tex; mode=display\">\\newcommand{\\Bold}[1]{\\mathbf{#1}}\\mathrm{True}</script></html>"
      ],
      "text/latex": [
       "$$\\newcommand{\\Bold}[1]{\\mathbf{#1}}\\mathrm{True}$$"
      ],
      "text/plain": [
       "True"
      ]
     },
     "execution_count": 94,
     "metadata": {},
     "output_type": "execute_result"
    }
   ],
   "source": [
    "sum(monomials[i]*coefficients[i] for i in range(len(monomials))) == poly"
   ]
  },
  {
   "cell_type": "code",
   "execution_count": 79,
   "metadata": {},
   "outputs": [],
   "source": [
    "AUX = PolynomialRing(QQ, 'a,b')"
   ]
  },
  {
   "cell_type": "code",
   "execution_count": 83,
   "metadata": {},
   "outputs": [],
   "source": [
    "poly = AUX.random_element(3)"
   ]
  },
  {
   "cell_type": "code",
   "execution_count": 189,
   "metadata": {},
   "outputs": [],
   "source": [
    "def search_dfinite_order(min_order, min_results = 5):\n",
    "    import re\n",
    "    \n",
    "    i = 1\n",
    "    results = []\n",
    "    \n",
    "    while(len(results) < min_results):\n",
    "        print(f\"Cathcing {i*100} first sequences\")\n",
    "        sequences = oeis(\"D-finite\", max_results = 100, first_result = (i-1)*100)\n",
    "        print(f\"Analyzing...\")\n",
    "        print(\"Found orders \", end = \"\")\n",
    "        for sequence in sequences:\n",
    "            formulas = [el for el in sequence.formulas() if el.find(\"D-finite\") >= 0]\n",
    "            for formula in formulas:\n",
    "                start_pos = formula.find(\"D-finite with recurrence: \") + len(\"D-finite with recurrence: \")\n",
    "                end_pos = max(formula.find(\".\", start_pos), len(formula))\n",
    "                formula = formula[start_pos:end_pos+1]\n",
    "                \n",
    "                n = var('n')\n",
    "                arguments = [eval(el)-n for el in re.findall(r\"a\\(([^\\)]*)\\)\", formula)]\n",
    "                arguments = [ZZ(el) for el in arguments if el in ZZ]\n",
    "                \n",
    "                if(len(arguments) > 0):\n",
    "                    order = max(arguments)-min(arguments)\n",
    "                    print(order, end = \", \")\n",
    "                    if(order >= min_order):\n",
    "                        results.append(tuple([sequence, formula]))\n",
    "                else:\n",
    "                    print(\"no args\", end=\", \")\n",
    "        print(f\"\\nFound {len(results)}/{min_results} so far...\")\n",
    "        i += 1\n",
    "    return results"
   ]
  },
  {
   "cell_type": "code",
   "execution_count": 190,
   "metadata": {},
   "outputs": [
    {
     "name": "stdout",
     "output_type": "stream",
     "text": [
      "Cathcing 100 first sequences\n",
      "Analyzing...\n",
      "Found orders 1, 1, 1, 2, 2, 2, 1, 2, 1, 2, 2, 2, 2, 2, 2, 2, 1, 1, 4, 2, 2, 1, 1, 2, 3, 4, 2, 1, 2, 2, 1, 2, 1, 1, 1, 2, 1, 2, 1, 2, 1, 1, 2, 1, 2, 1, 1, 2, 1, 2, 2, 1, 2, 1, 2, 3, 2, 1, 3, 2, 2, 2, 2, 3, 4, 2, 4, 1, 2, 2, 2, 2, 2, 1, 3, 1, 7, 2, 2, 1, 3, 1, 1, 3, 1, 2, 1, 2, 1, 1, 2, 2, 2, 1, 3, 4, 1, 4, 1, 1, 1, 1, 1, \n",
      "Found 1/5 so far...\n",
      "Cathcing 200 first sequences\n",
      "Analyzing...\n",
      "Found orders 6, 2, 1, 1, 4, 2, 3, 1, 1, 1, 1, 4, 2, 2, 1, 1, 3, 2, 1, 2, 1, 3, 3, 3, 2, 2, 1, 2, 2, 1, 2, 4, 2, 1, 1, 2, 3, 1, 1, 2, 2, 2, 2, 1, 2, 2, 2, 6, 3, 4, 1, 1, 3, 1, 1, 2, 4, 1, 3, 1, 2, 1, 3, 1, 1, 2, 2, 1, 1, 2, 3, 3, 1, 1, 1, 2, 3, 3, 2, no args, 1, 2, 2, 1, 3, 5, 2, 6, 3, 2, 1, 3, 1, 1, 1, 2, 1, 2, 1, 1, 2, 3, 2, 1, \n",
      "Found 5/5 so far...\n"
     ]
    }
   ],
   "source": [
    "results = search_dfinite_order(5)"
   ]
  },
  {
   "cell_type": "code",
   "execution_count": 123,
   "metadata": {},
   "outputs": [
    {
     "name": "stderr",
     "output_type": "stream",
     "text": [
      "/home/anton/sage/local/lib/python3.9/site-packages/docutils/io.py:245: DeprecationWarning: 'U' mode is deprecated\n",
      "  self.source = open(source_path, mode, **kwargs)\n"
     ]
    }
   ],
   "source": [
    "[el for el in res.formulas() if el.con"
   ]
  },
  {
   "cell_type": "code",
   "execution_count": 179,
   "metadata": {},
   "outputs": [],
   "source": [
    "a = \"hola\""
   ]
  },
  {
   "cell_type": "code",
   "execution_count": 141,
   "metadata": {},
   "outputs": [],
   "source": [
    "a.find?"
   ]
  },
  {
   "cell_type": "code",
   "execution_count": 149,
   "metadata": {},
   "outputs": [],
   "source": [
    "import re"
   ]
  },
  {
   "cell_type": "code",
   "execution_count": 158,
   "metadata": {},
   "outputs": [
    {
     "data": {
      "text/html": [
       "<html><script type=\"math/tex; mode=display\">\\newcommand{\\Bold}[1]{\\mathbf{#1}}\\left[\\verb|n|, \\verb|n-1|\\right]</script></html>"
      ],
      "text/latex": [
       "$$\\newcommand{\\Bold}[1]{\\mathbf{#1}}\\left[\\verb|n|, \\verb|n-1|\\right]$$"
      ],
      "text/plain": [
       "['n', 'n-1']"
      ]
     },
     "execution_count": 158,
     "metadata": {},
     "output_type": "execute_result"
    }
   ],
   "source": [
    "re.findall(r\"a\\(([^\\)]*)\\)\", a)"
   ]
  },
  {
   "cell_type": "code",
   "execution_count": 155,
   "metadata": {},
   "outputs": [
    {
     "data": {
      "text/html": [
       "a(n) = n*a(n-1), n >= 1."
      ],
      "text/plain": [
       "'a(n) = n*a(n-1), n >= 1.'"
      ]
     },
     "execution_count": 155,
     "metadata": {},
     "output_type": "execute_result"
    }
   ],
   "source": [
    "a"
   ]
  },
  {
   "cell_type": "code",
   "execution_count": 180,
   "metadata": {},
   "outputs": [
    {
     "data": {
      "text/html": [],
      "text/plain": [
       "''"
      ]
     },
     "execution_count": 180,
     "metadata": {},
     "output_type": "execute_result"
    }
   ],
   "source": [
    "a[2:0]"
   ]
  },
  {
   "cell_type": "code",
   "execution_count": null,
   "metadata": {},
   "outputs": [],
   "source": []
  }
 ],
 "metadata": {
  "kernelspec": {
   "display_name": "SageMath 9.3",
   "language": "sage",
   "name": "sagemath"
  },
  "language_info": {
   "codemirror_mode": {
    "name": "ipython",
    "version": 3
   },
   "file_extension": ".py",
   "mimetype": "text/x-python",
   "name": "python",
   "nbconvert_exporter": "python",
   "pygments_lexer": "ipython3",
   "version": "3.9.2"
  }
 },
 "nbformat": 4,
 "nbformat_minor": 5
}
