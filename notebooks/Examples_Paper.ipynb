{
 "cells": [
  {
   "cell_type": "markdown",
   "metadata": {},
   "source": [
    "# Examples from article (*add link*)\n",
    "\n",
    "In this notebook we reproduce all the computations done throughout the article in all the different examples. This showcase how to use the package `pseries_basis` in practice."
   ]
  },
  {
   "cell_type": "code",
   "execution_count": 73,
   "metadata": {},
   "outputs": [],
   "source": [
    "# Loading the package\n",
    "from pseries_basis import *\n",
    "from ore_algebra import *\n",
    "n = PSBasis.n(PSBasis)"
   ]
  },
  {
   "cell_type": "markdown",
   "metadata": {},
   "source": [
    "### Examples 1 and 2\n",
    "\n",
    "In this examples we explored the basic properties of the power basis $\\{x^n\\ :\\ n \\in \\mathbb{N}\\}$ and the binomial basis $\\left\\{\\binom{x}{n}\\right\\}$.\n",
    "\n",
    "These to basis are easy to get in our package by the classes `PowerBasis` and `BinomialBasis`:"
   ]
  },
  {
   "cell_type": "code",
   "execution_count": 50,
   "metadata": {},
   "outputs": [
    {
     "data": {
      "text/plain": [
       "[1, x, x^2, x^3, x^4, x^5, x^6, x^7, x^8, x^9]"
      ]
     },
     "execution_count": 50,
     "metadata": {},
     "output_type": "execute_result"
    }
   ],
   "source": [
    "P = PowerBasis()\n",
    "P[:10]"
   ]
  },
  {
   "cell_type": "code",
   "execution_count": 51,
   "metadata": {},
   "outputs": [
    {
     "data": {
      "text/plain": [
       "[1, x, 1/2*x^2 - 1/2*x, 1/6*x^3 - 1/2*x^2 + 1/3*x]"
      ]
     },
     "execution_count": 51,
     "metadata": {},
     "output_type": "execute_result"
    }
   ],
   "source": [
    "C = BinomialBasis()\n",
    "C[:4]"
   ]
  },
  {
   "cell_type": "markdown",
   "metadata": {},
   "source": [
    "In example 2, we showed the nature of the root sequences for these two bases. In out package, a basis object have a property `root_sequence` (also denoted by `rho` that allows to get the root sequences as a function $\\mathbb{N} \\mapsto \\mathbb{Q}$.\n",
    "\n",
    "Also, the leading coefficient can be obtained in a similar way by the property `leading_coefficient` or `cn`.\n",
    "\n",
    "Fist, we can see how the roots of the power basis are all zeros and the leading coefficients are all ones:"
   ]
  },
  {
   "cell_type": "code",
   "execution_count": 52,
   "metadata": {},
   "outputs": [
    {
     "data": {
      "text/plain": [
       "[0, 0, 0, 0, 0, 0, 0, 0, 0, 0]"
      ]
     },
     "execution_count": 52,
     "metadata": {},
     "output_type": "execute_result"
    }
   ],
   "source": [
    "rho_P = P.rho\n",
    "[rho_P(i) for i in range(10)]"
   ]
  },
  {
   "cell_type": "code",
   "execution_count": 53,
   "metadata": {},
   "outputs": [
    {
     "data": {
      "text/plain": [
       "[1, 1, 1, 1, 1, 1, 1, 1, 1, 1]"
      ]
     },
     "execution_count": 53,
     "metadata": {},
     "output_type": "execute_result"
    }
   ],
   "source": [
    "cn_P = P.cn\n",
    "[cn_P(i) for i in range(10)]"
   ]
  },
  {
   "cell_type": "markdown",
   "metadata": {},
   "source": [
    "And now we see how the roots of the binomial basis are the natural numbers and its leading coefficient are $1/n!$:"
   ]
  },
  {
   "cell_type": "code",
   "execution_count": 54,
   "metadata": {},
   "outputs": [
    {
     "data": {
      "text/plain": [
       "[0, 1, 2, 3, 4, 5, 6, 7, 8, 9]"
      ]
     },
     "execution_count": 54,
     "metadata": {},
     "output_type": "execute_result"
    }
   ],
   "source": [
    "rho_C = C.rho\n",
    "[rho_B(i) for i in range(10)]"
   ]
  },
  {
   "cell_type": "code",
   "execution_count": 55,
   "metadata": {},
   "outputs": [
    {
     "data": {
      "text/plain": [
       "[1, 1, 1/2, 1/6, 1/24, 1/120, 1/720, 1/5040, 1/40320, 1/362880]"
      ]
     },
     "execution_count": 55,
     "metadata": {},
     "output_type": "execute_result"
    }
   ],
   "source": [
    "cn_C = C.cn\n",
    "[cn_B(i) for i in range(10)]"
   ]
  },
  {
   "cell_type": "code",
   "execution_count": 56,
   "metadata": {},
   "outputs": [
    {
     "data": {
      "text/plain": [
       "True"
      ]
     },
     "execution_count": 56,
     "metadata": {},
     "output_type": "execute_result"
    }
   ],
   "source": [
    "all(cn_C(i) == 1/factorial(i) for i in range(100))"
   ]
  },
  {
   "cell_type": "markdown",
   "metadata": {},
   "source": [
    "### Example 3\n",
    "\n",
    "Example 3 provides the basic compatibilities for the power and binomial bases of the basic operators $E$ and $D$. In this package, when creating a basis (such we did for the power and binomial basis) all compatibilites are already created ready to be used:"
   ]
  },
  {
   "cell_type": "code",
   "execution_count": 57,
   "metadata": {},
   "outputs": [
    {
     "data": {
      "text/plain": [
       "dict_keys(['x', 'Id', 'Dx'])"
      ]
     },
     "execution_count": 57,
     "metadata": {},
     "output_type": "execute_result"
    }
   ],
   "source": [
    "P.compatible_operators()"
   ]
  },
  {
   "cell_type": "markdown",
   "metadata": {},
   "source": [
    "Here we see how the power basis has compatibility with 3 different operators:\n",
    "* Multiplication by $x$\n",
    "* The identity operator $Id$\n",
    "* The standard derivation $D_x$ or $D$.\n",
    "\n",
    "Now, we can use the method `compatibility` to get the exact compatibility:"
   ]
  },
  {
   "cell_type": "code",
   "execution_count": 58,
   "metadata": {},
   "outputs": [],
   "source": [
    "A,B,m,alpha = P.compatibility('Dx')"
   ]
  },
  {
   "cell_type": "markdown",
   "metadata": {},
   "source": [
    "where $A$, $B$ are the comaptibility bounds given in the definition 3 of the paper, $m$ is the number of sections in the compatibility (see definition 10 (**review the number**)) and $\\alpha(j, i, k)$ is the coefficient $\\alpha_{k,j,i}$ of definition 10 (**review again**)."
   ]
  },
  {
   "cell_type": "code",
   "execution_count": 59,
   "metadata": {},
   "outputs": [
    {
     "data": {
      "text/plain": [
       "True"
      ]
     },
     "execution_count": 59,
     "metadata": {},
     "output_type": "execute_result"
    }
   ],
   "source": [
    "m == 1"
   ]
  },
  {
   "cell_type": "code",
   "execution_count": 60,
   "metadata": {},
   "outputs": [
    {
     "data": {
      "text/plain": [
       "True"
      ]
     },
     "execution_count": 60,
     "metadata": {},
     "output_type": "execute_result"
    }
   ],
   "source": [
    "all(sum(alpha(0, i, k)*P[k+i] for i in range(-A, B+1)) == P[k].derivative() for k in range(A,100))"
   ]
  },
  {
   "cell_type": "markdown",
   "metadata": {},
   "source": [
    "As shown in Example 2, we have for the derivative that $\\alpha_{n,-1} = n$ and that $\\alpha_{n, 0} = 0$:"
   ]
  },
  {
   "cell_type": "code",
   "execution_count": 61,
   "metadata": {},
   "outputs": [
    {
     "data": {
      "text/plain": [
       "(n, 0)"
      ]
     },
     "execution_count": 61,
     "metadata": {},
     "output_type": "execute_result"
    }
   ],
   "source": [
    "alpha(0, -1, n), alpha(0, 0, n)"
   ]
  },
  {
   "cell_type": "markdown",
   "metadata": {},
   "source": [
    "On the other hand, the binomial basis has the following compatibilities:"
   ]
  },
  {
   "cell_type": "code",
   "execution_count": 62,
   "metadata": {},
   "outputs": [
    {
     "data": {
      "text/plain": [
       "dict_keys(['x', 'Et', 'E'])"
      ]
     },
     "execution_count": 62,
     "metadata": {},
     "output_type": "execute_result"
    }
   ],
   "source": [
    "C.compatible_operators()"
   ]
  },
  {
   "cell_type": "markdown",
   "metadata": {},
   "source": [
    "Obtaining again three different operators:\n",
    "\n",
    "* Multiplication by $x$.\n",
    "* A special shift operator $E_t$ (in this case equivalent to $E$)\n",
    "* The usual shift operator $E: x \\mapsto x+1$.\n",
    "\n",
    "We recommend seeing the [official documentation for the Binomial Basis](https://antonio-jp.github.io/pseries_basis/pseries_basis/factorial_basis.html#pseries_basis.factorial_basis.BinomialBasis) to see how this operator $E_t$ is considered.\n",
    "\n",
    "Again, we can obtain nw the compatibility using the method `compatibility`:"
   ]
  },
  {
   "cell_type": "code",
   "execution_count": 63,
   "metadata": {},
   "outputs": [],
   "source": [
    "A,B,m,alpha = C.compatibility('E')"
   ]
  },
  {
   "cell_type": "code",
   "execution_count": 64,
   "metadata": {},
   "outputs": [
    {
     "data": {
      "text/plain": [
       "(1, 0, 1)"
      ]
     },
     "execution_count": 64,
     "metadata": {},
     "output_type": "execute_result"
    }
   ],
   "source": [
    "A,B,m"
   ]
  },
  {
   "cell_type": "markdown",
   "metadata": {},
   "source": [
    "And we can check that the compatibility coefficients are $\\alpha_{k, -1} = 1$ and $\\alpha_{k, 0} = 1$:"
   ]
  },
  {
   "cell_type": "code",
   "execution_count": 65,
   "metadata": {},
   "outputs": [
    {
     "data": {
      "text/plain": [
       "(1, 1)"
      ]
     },
     "execution_count": 65,
     "metadata": {},
     "output_type": "execute_result"
    }
   ],
   "source": [
    "alpha(0, -1, n), alpha(0, 0, n)"
   ]
  },
  {
   "cell_type": "markdown",
   "metadata": {},
   "source": [
    "### Example 5\n",
    "\n",
    "In Example 5 we show the related recurrence operators associated with the previous compatibilities for the power and binomial basis. This recurrence can be obtain via the method `recurrence` in this package.\n",
    "\n",
    "The recurrence operator is build over the generators $S_n$ and $S_n^{-1}$ (`Sn` and `Sni` in the code) that cancel each other:"
   ]
  },
  {
   "cell_type": "code",
   "execution_count": 67,
   "metadata": {},
   "outputs": [
    {
     "data": {
      "text/plain": [
       "(n + 1)*Sn"
      ]
     },
     "execution_count": 67,
     "metadata": {},
     "output_type": "execute_result"
    }
   ],
   "source": [
    "P.recurrence('Dx')"
   ]
  },
  {
   "cell_type": "code",
   "execution_count": 69,
   "metadata": {},
   "outputs": [
    {
     "data": {
      "text/plain": [
       "Sn + 1"
      ]
     },
     "execution_count": 69,
     "metadata": {},
     "output_type": "execute_result"
    }
   ],
   "source": [
    "C.recurrence('E')"
   ]
  },
  {
   "cell_type": "code",
   "execution_count": 70,
   "metadata": {},
   "outputs": [
    {
     "data": {
      "text/plain": [
       "Sni"
      ]
     },
     "execution_count": 70,
     "metadata": {},
     "output_type": "execute_result"
    }
   ],
   "source": [
    "P.recurrence('x')"
   ]
  },
  {
   "cell_type": "code",
   "execution_count": 71,
   "metadata": {},
   "outputs": [
    {
     "data": {
      "text/plain": [
       "n*Sni + n"
      ]
     },
     "execution_count": 71,
     "metadata": {},
     "output_type": "execute_result"
    }
   ],
   "source": [
    "C.recurrence('x')"
   ]
  },
  {
   "cell_type": "markdown",
   "metadata": {},
   "source": [
    "### Example 6\n",
    "\n",
    "In Example 6 we showed several examples of recurrences associated with several difference operators in terms of the binomial basis. Here we show how to reproduce those computations by simply calling the method `recurrence`.\n",
    "\n",
    "In order to do so, first we need to create the algebra for the diference operator themselves (using the `OreAlgebra` package):"
   ]
  },
  {
   "cell_type": "code",
   "execution_count": 74,
   "metadata": {},
   "outputs": [],
   "source": [
    "OE.<E> = OreAlgebra(QQ[x], ('E', lambda p : p(x=x+1), lambda p : 0));\n",
    "x = OE('x')"
   ]
  },
  {
   "cell_type": "markdown",
   "metadata": {},
   "source": [
    "###### Example 6.1\n",
    "Here we took the operator $L = E - c$ for a fixed constant. We can see we get for different values of $c$ the associated operator $\\tilde{L} = S_n - (c-1)$:"
   ]
  },
  {
   "cell_type": "code",
   "execution_count": 75,
   "metadata": {},
   "outputs": [
    {
     "data": {
      "text/plain": [
       "Sn - 2"
      ]
     },
     "execution_count": 75,
     "metadata": {},
     "output_type": "execute_result"
    }
   ],
   "source": [
    "C.recurrence(E - 3)"
   ]
  },
  {
   "cell_type": "code",
   "execution_count": 76,
   "metadata": {},
   "outputs": [
    {
     "data": {
      "text/plain": [
       "Sn - 9"
      ]
     },
     "execution_count": 76,
     "metadata": {},
     "output_type": "execute_result"
    }
   ],
   "source": [
    "C.recurrence(E - 10)"
   ]
  },
  {
   "cell_type": "code",
   "execution_count": 77,
   "metadata": {},
   "outputs": [
    {
     "data": {
      "text/plain": [
       "Sn + 2"
      ]
     },
     "execution_count": 77,
     "metadata": {},
     "output_type": "execute_result"
    }
   ],
   "source": [
    "C.recurrence(E + 1)"
   ]
  },
  {
   "cell_type": "markdown",
   "metadata": {},
   "source": [
    "###### Example 6.2\n",
    "\n",
    "In this example we took the operator $L = E^2 - 2E +1$. We can compute easily its associated recurrence operator:"
   ]
  },
  {
   "cell_type": "code",
   "execution_count": 78,
   "metadata": {},
   "outputs": [
    {
     "data": {
      "text/plain": [
       "Sn^2"
      ]
     },
     "execution_count": 78,
     "metadata": {},
     "output_type": "execute_result"
    }
   ],
   "source": [
    "C.recurrence(E^2 - 2*E + 1)"
   ]
  },
  {
   "cell_type": "markdown",
   "metadata": {},
   "source": [
    "###### Example 6.3\n",
    "\n",
    "In this example we considered the operator $L = E^ 2 - E - 1$. We can obtain again its associated recurrence operator by a simple call of the method `recurrence`:"
   ]
  },
  {
   "cell_type": "code",
   "execution_count": 79,
   "metadata": {},
   "outputs": [
    {
     "data": {
      "text/plain": [
       "Sn^2 + Sn - 1"
      ]
     },
     "execution_count": 79,
     "metadata": {},
     "output_type": "execute_result"
    }
   ],
   "source": [
    "C.recurrence(E^2 - E - 1)"
   ]
  },
  {
   "cell_type": "markdown",
   "metadata": {},
   "source": [
    "###### Example 6.4\n",
    "\n",
    "Here we considered the first example where the coefficients are not constants, so the compatibility with $x$ comes into play. The operator for this example is $L = E - (x+1)$:"
   ]
  },
  {
   "cell_type": "code",
   "execution_count": 80,
   "metadata": {},
   "outputs": [
    {
     "data": {
      "text/plain": [
       "Sn + (-n)*Sni - n"
      ]
     },
     "execution_count": 80,
     "metadata": {},
     "output_type": "execute_result"
    }
   ],
   "source": [
    "C.recurrence(E - (x+1))"
   ]
  },
  {
   "cell_type": "markdown",
   "metadata": {},
   "source": [
    "###### Example 6.5\n",
    "\n",
    "In this example we considered an example where there is no Liouvillian solution to the operator \n",
    "$$L = E^3 - (x^2 + 6x +10)E^2 + (x+2)(2x+5)E - (x+1)(x+2).$$\n",
    "\n",
    "Again, by using the method `recurrence` we can get easily the recurrence operator associated with this $L$:"
   ]
  },
  {
   "cell_type": "code",
   "execution_count": 81,
   "metadata": {},
   "outputs": [
    {
     "data": {
      "text/plain": [
       "Sn^3 + (-n^2 - 6*n - 7)*Sn^2 + (-2*n^2 - 8*n - 7)*Sn - n^2 - 2*n - 1"
      ]
     },
     "execution_count": 81,
     "metadata": {},
     "output_type": "execute_result"
    }
   ],
   "source": [
    "C.recurrence(E^3 - (x^2 + 6*x +10)*E^2 + (x+2)*(2*x+5)*E - (x+1)*(x+2))"
   ]
  },
  {
   "cell_type": "markdown",
   "metadata": {},
   "source": [
    "### Example 7\n",
    "\n",
    "In Example 7, we study the first product basis by extending the kernel $\\binom{x}{n}^2$ to a polynomial basis.\n",
    "Product bases can be build in the system by using the class `ProductBasis`. This class will extend the comaptibility of all given operators automatically from the original compatibility in the basic bases.\n",
    "\n",
    "To build the basis $C_{(1,1),(0,0)}$ the following line suffices:"
   ]
  },
  {
   "cell_type": "code",
   "execution_count": 84,
   "metadata": {},
   "outputs": [
    {
     "data": {
      "text/plain": [
       "ProductBasis\n",
       "\t- Binomial basis (x) choose n\n",
       "\t- Binomial basis (x) choose n"
      ]
     },
     "execution_count": 84,
     "metadata": {},
     "output_type": "execute_result"
    }
   ],
   "source": [
    "C_11_00 = ProductBasis([C, C], ends={'E'})\n",
    "C_11_00"
   ]
  },
  {
   "cell_type": "markdown",
   "metadata": {},
   "source": [
    "We can check the compatibility equation for the shift operator:"
   ]
  },
  {
   "cell_type": "code",
   "execution_count": 85,
   "metadata": {},
   "outputs": [],
   "source": [
    "A,B,m,alpha = C_11_00.compatibility('E')"
   ]
  },
  {
   "cell_type": "code",
   "execution_count": 86,
   "metadata": {},
   "outputs": [
    {
     "data": {
      "text/plain": [
       "(2, 0, 2)"
      ]
     },
     "execution_count": 86,
     "metadata": {},
     "output_type": "execute_result"
    }
   ],
   "source": [
    "(A,B,m)"
   ]
  },
  {
   "cell_type": "markdown",
   "metadata": {},
   "source": [
    "We can see now that the value of $m$ is 2, meaning that the compatibility is defined in two sections: for the elements $2n$ and for the elements $2n+1$.\n",
    "\n",
    "Let us check equation (13) (**to check**) in the paper. the first argument in the function $\\alpha$ is the section, hence to check the comaptibility for the term $2n$, we need to plug in a zero:"
   ]
  },
  {
   "cell_type": "code",
   "execution_count": 91,
   "metadata": {},
   "outputs": [
    {
     "data": {
      "text/plain": [
       "(1, 2, 1)"
      ]
     },
     "execution_count": 91,
     "metadata": {},
     "output_type": "execute_result"
    }
   ],
   "source": [
    "alpha(0,0,n), alpha(0,-1,n), alpha(0,-2,n)"
   ]
  },
  {
   "cell_type": "markdown",
   "metadata": {},
   "source": [
    "We can also check the coefficients from equation (15) (**to_check**). Now we are looking for the compatibility for the term $2n+1$, so we need to look to the section 1:"
   ]
  },
  {
   "cell_type": "code",
   "execution_count": 92,
   "metadata": {},
   "outputs": [
    {
     "data": {
      "text/plain": [
       "(1, (2*n + 1)/(n + 1), n/(n + 1))"
      ]
     },
     "execution_count": 92,
     "metadata": {},
     "output_type": "execute_result"
    }
   ],
   "source": [
    "alpha(1,0,n), alpha(1,-1,n), alpha(1,-2,n)"
   ]
  },
  {
   "cell_type": "markdown",
   "metadata": {},
   "source": [
    "We can also obtain the compatibility for the multiplication by $x$ in this product basis. This compatibility is also splitted into two sections:"
   ]
  },
  {
   "cell_type": "code",
   "execution_count": 94,
   "metadata": {},
   "outputs": [],
   "source": [
    "A,B,m,alpha = C_11_00.compatibility('x')"
   ]
  },
  {
   "cell_type": "code",
   "execution_count": 95,
   "metadata": {},
   "outputs": [
    {
     "data": {
      "text/plain": [
       "(0, 1, 2)"
      ]
     },
     "execution_count": 95,
     "metadata": {},
     "output_type": "execute_result"
    }
   ],
   "source": [
    "(A,B,m)"
   ]
  },
  {
   "cell_type": "markdown",
   "metadata": {},
   "source": [
    "Section for terms $2n$:"
   ]
  },
  {
   "cell_type": "code",
   "execution_count": 96,
   "metadata": {},
   "outputs": [
    {
     "data": {
      "text/plain": [
       "(n, n + 1)"
      ]
     },
     "execution_count": 96,
     "metadata": {},
     "output_type": "execute_result"
    }
   ],
   "source": [
    "alpha(0,0,n), alpha(0,1,n)"
   ]
  },
  {
   "cell_type": "markdown",
   "metadata": {},
   "source": [
    "Section for terms $2n+1$:"
   ]
  },
  {
   "cell_type": "code",
   "execution_count": 97,
   "metadata": {},
   "outputs": [
    {
     "data": {
      "text/plain": [
       "(n, n + 1)"
      ]
     },
     "execution_count": 97,
     "metadata": {},
     "output_type": "execute_result"
    }
   ],
   "source": [
    "alpha(1,0,n), alpha(1,1,n)"
   ]
  },
  {
   "cell_type": "markdown",
   "metadata": {},
   "source": [
    "### Example 8\n",
    "\n",
    "In this example we work with an operator $L$ of order $7$:\n",
    "$$\\begin{array}{rl}\n",
    "L\\ &=\\ (x+8) (27034107689\\, x+247037440535)\\, E^7\\\\\n",
    "&-2 (x+7) (27034107689\\, x^2+707256640479\\, x+3519513987204)\\, E^6\\\\\n",
    "&+(27034107689\\, x^4+1763504948043\\, x^3+29534526868562\\, x^2\\\\\n",
    "&\\qquad\\qquad\\qquad +187161930754966\\, x+404930820118700)\\, E^5\\\\\n",
    "&-4 (121973169216\\, x^4+3928755304511\\, x^3+43197821249228\\, x^2\\\\\n",
    "&\\qquad\\qquad\\qquad +198945697078905\\, x+329021406797184)\\, E^4\\\\\n",
    "&+(2167208392754\\, x^4+45326791213914\\, x^3+347739537911929\\, x^2\\\\\n",
    "&\\qquad\\qquad\\qquad +1165212776491303\\, x+1439937061155596)\\, E^3\\\\\n",
    "&-2 (613023852648\\, x^4+8954947813901\\, x^3+52565810509778\\, x^2\\\\\n",
    "&\\qquad\\qquad\\qquad +141274453841469\\, x+142893654078876)\\, E^2\\\\\n",
    "&-(x+2)^2 (1109455476579\\, x^2+3624719391913\\, x-357803625948)\\, E\\\\\n",
    "&+24 (x+1)^2 (x+2) (8996538731\\, x+29816968829),\n",
    "\\end{array}$$"
   ]
  },
  {
   "cell_type": "code",
   "execution_count": 104,
   "metadata": {},
   "outputs": [],
   "source": [
    "L = sum([\n",
    "    E^7*(x+8)*(27034107689*x+247037440535),\n",
    "    -E^6*2*(x+7)*(27034107689*x^2+707256640479*x+3519513987204),\n",
    "    E^5*(27034107689*x^4+1763504948043*x^3+29534526868562*x^2+187161930754966*x+404930820118700),\n",
    "    -E^4*4*(121973169216*x^4+3928755304511*x^3+43197821249228*x^2+198945697078905*x+329021406797184),\n",
    "    E^3*(2167208392754*x^4+45326791213914*x^3+347739537911929*x^2+1165212776491303*x+1439937061155596),\n",
    "    -E^2*2*(613023852648*x^4+8954947813901*x^3+52565810509778*x^2+141274453841469*x+142893654078876),\n",
    "    -E*(x+2)*2*(1109455476579*x^2 + 3624719391913*x-357803625948),\n",
    "    24*(x+1)*2*(x+2)*(8996538731*x+29816968829),\n",
    "])"
   ]
  },
  {
   "cell_type": "markdown",
   "metadata": {},
   "source": [
    "Now, obtaining the matrix of recurrence opeators is simple by the method `recurrence`. First, lets see how the matrices for the basis $C_{(1,1),(0,0)}$ and the operators $E$ and $X$ are those depicted in equations (32) and (33) (**to check**):"
   ]
  },
  {
   "cell_type": "code",
   "execution_count": 106,
   "metadata": {},
   "outputs": [
    {
     "data": {
      "text/plain": [
       "[                  Sn + 1        (2*n + 1)/(n + 1)]\n",
       "[                    2*Sn ((n + 1)/(n + 2))*Sn + 1]"
      ]
     },
     "execution_count": 106,
     "metadata": {},
     "output_type": "execute_result"
    }
   ],
   "source": [
    "## Equation 32 (to check)\n",
    "C_11_00.recurrence('E')"
   ]
  },
  {
   "cell_type": "code",
   "execution_count": 107,
   "metadata": {},
   "outputs": [
    {
     "data": {
      "text/plain": [
       "[    n n*Sni]\n",
       "[n + 1     n]"
      ]
     },
     "execution_count": 107,
     "metadata": {},
     "output_type": "execute_result"
    }
   ],
   "source": [
    "## Equation 33 (to check)\n",
    "C_11_00.recurrence('x')"
   ]
  },
  {
   "cell_type": "markdown",
   "metadata": {},
   "source": [
    "And for the operator $L$ we only need to feed the method `recurrence` with $L$:"
   ]
  },
  {
   "cell_type": "code",
   "execution_count": 112,
   "metadata": {},
   "outputs": [],
   "source": [
    "M = C_11_00.recurrence(L)\n",
    "L_00 = M[0,0]; L_01 = M[0,1]; L_10 = M[1,0]; L_11 = M[1,1]"
   ]
  },
  {
   "cell_type": "markdown",
   "metadata": {},
   "source": [
    "Now the variables $L_{ij}$ contains the operators described in equation (34) (**to check**) and written down in Appendix A:"
   ]
  },
  {
   "cell_type": "code",
   "execution_count": 122,
   "metadata": {},
   "outputs": [
    {
     "data": {
      "text/plain": [
       "(27034107689*n^2 + 841787809693*n + 6544142915370)*Sn^7 + ((-54068215378*n^9 - 657558265666*n^8 + 37095713911221*n^7 + 1025489135164547*n^6 + 10691142574920339*n^5 + 57323567313337619*n^4 + 169677116361660226*n^3 + 274018839251402700*n^2 + 220488594955202952*n + 67334168501422560)/(n^6 + 21*n^5 + 175*n^4 + 735*n^3 + 1624*n^2 + 1764*n + 720))*Sn^6 + ((27034107689*n^9 - 2967463897532*n^8 - 177910103595067*n^7 - 3564893119708019*n^6 - 35529302717905762*n^5 - 196601860342462371*n^4 - 622714432849619000*n^3 - 1105255334070853214*n^2 - 1004763207156854068*n - 356970548465376240)/(n^5 + 15*n^4 + 85*n^3 + 225*n^2 + 274*n + 120))*Sn^5 + ((1972211122835*n^8 + 96501192732394*n^7 + 1682092157093846*n^6 + 14210500613504874*n^5 + 66129117751682725*n^4 + 185086594141542412*n^3 + 326192458089200486*n^2 + 340475299799632436*n + 154217757549581808)/(n^4 + 10*n^3 + 35*n^2 + 50*n + 24))*Sn^4 + ((-2972566483581*n^7 + 131524570383853*n^6 + 4516790093123463*n^5 + 46822106744903251*n^4 + 217975963180888146*n^3 + 476905180515170004*n^2 + 456225985899587232*n + 143730146147388840)/(n^3 + 6*n^2 + 11*n + 6))*Sn^3 + ((-64025119688979*n^6 - 1638153412759939*n^5 - 15942441014967807*n^4 - 74889750883180693*n^3 - 175540286563968134*n^2 - 187636222252902936*n - 70067612269238120)/(n^2 + 3*n + 2))*Sn^2 + (480302118283*n^4 - 960604236566*n^3 + 480302118283*n^2)*Sni^2 + ((51155018697783*n^5 + 361796734446434*n^4 - 657200041893940*n^3 - 8430989579224290*n^2 - 14717175360973787*n - 4840274318725568)/(n + 1))*Sn + (33454229052317*n^4 + 138357323220577*n^3 + 113395793202981*n^2)*Sni + 154844689856629*n^4 + 1445150964718242*n^3 + 4331804856959795*n^2 + 4879573700918617*n + 1708194816390144"
      ]
     },
     "execution_count": 122,
     "metadata": {},
     "output_type": "execute_result"
    }
   ],
   "source": [
    "L_00"
   ]
  },
  {
   "cell_type": "code",
   "execution_count": 114,
   "metadata": {},
   "outputs": [
    {
     "data": {
      "text/plain": [
       "((432545723024*n^3 + 13924454314467*n^2 + 132865603490137*n + 320663002853130)/(n + 7))*Sn^6 + ((-811023230670*n^9 - 37537560577396*n^8 - 701377083344301*n^7 - 7013116159894573*n^6 - 42349048498079901*n^5 - 165298056655884679*n^4 - 430032837083767440*n^3 - 727181990061874632*n^2 - 709111257431946408*n - 288627075154225440)/(n^6 + 21*n^5 + 175*n^4 + 735*n^3 + 1624*n^2 + 1764*n + 720))*Sn^5 + ((378477507646*n^9 + 9651817449260*n^8 - 84956276540988*n^7 - 4864102611835212*n^6 - 60612906473043864*n^5 - 359826098431415694*n^4 - 1142268348180551510*n^3 - 1935887247995744282*n^2 - 1598775392345052140*n - 486091649305683600)/(n^5 + 15*n^4 + 85*n^3 + 225*n^2 + 274*n + 120))*Sn^4 + ((3985703076428*n^8 + 262554701903936*n^7 + 5600637162681716*n^6 + 57297215815442444*n^5 + 319287470855608696*n^4 + 1004783352889525384*n^3 + 1752288927398484324*n^2 + 1549175301973953672*n + 530815798417018032)/(n^4 + 10*n^3 + 35*n^2 + 50*n + 24))*Sn^3 + ((-31542021389162*n^7 - 721177777654596*n^6 - 6018693139602036*n^5 - 22486064555748584*n^4 - 37418257622690546*n^3 - 28680798945992204*n^2 - 28795988890156048*n - 28586340437755128)/(n^3 + 6*n^2 + 11*n + 6))*Sn^2 + (6387467670450*n^4 + 5548687461740*n^3 - 11936155132190*n^2)*Sni^2 + ((-43373316999528*n^6 - 1353232357105652*n^5 - 14171397923671520*n^4 - 66467776667670572*n^3 - 147160341914862856*n^2 - 142572019113612368*n - 45630352567628656)/(n^2 + 3*n + 2))*Sn + (93910361922620*n^4 + 618761828669950*n^3 + 1120591029666738*n^2 + 535497921358039*n)*Sni + (145189126994522*n^5 + 1632410816973520*n^4 + 6282481224669842*n^3 + 10377973565952071*n^2 + 7651623153396461*n + 2185904690695248)/(n + 1)"
      ]
     },
     "execution_count": 114,
     "metadata": {},
     "output_type": "execute_result"
    }
   ],
   "source": [
    "L_01"
   ]
  },
  {
   "cell_type": "code",
   "execution_count": 115,
   "metadata": {},
   "outputs": [
    {
     "data": {
      "text/plain": [
       "((432545723024*n^8 + 23224187359483*n^7 + 502488555653728*n^6 + 5710312952201326*n^5 + 37385228150050648*n^4 + 144628664112716707*n^3 + 322468734826398968*n^2 + 377024692155264852*n + 175280329796963040)/(n^6 + 27*n^5 + 295*n^4 + 1665*n^3 + 5104*n^2 + 8028*n + 5040))*Sn^7 + ((-811023230670*n^8 - 38348583808066*n^7 - 721497569017449*n^6 - 7055433052082829*n^5 - 39388260638957573*n^4 - 128282198883459653*n^3 - 234900429440449300*n^2 - 213842222388469980*n - 68047095857571936)/(n^5 + 20*n^4 + 155*n^3 + 580*n^2 + 1044*n + 720))*Sn^6 + ((378477507646*n^8 + 10219533710729*n^7 - 75115220337905*n^6 - 4953889797557169*n^5 - 62793464992380923*n^4 - 366656549667963608*n^3 - 1094530120869549178*n^2 - 1598526058285630416*n - 890711902164913736)/(n^4 + 14*n^3 + 71*n^2 + 154*n + 120))*Sn^5 + ((3985703076428*n^7 + 268533256518578*n^6 + 5881896909629516*n^5 + 60941102732435774*n^4 + 333823647653768120*n^3 + 975936924004828404*n^2 + 1412686020604608428*n + 778778703650949592)/(n^3 + 9*n^2 + 26*n + 24))*Sn^4 + ((-31542021389162*n^6 - 768490809738339*n^5 - 6775893526360080*n^4 - 25871325478307721*n^3 - 37467687420736498*n^2 + 141708371008704*n + 27882571850914632)/(n^2 + 5*n + 6))*Sn^3 + ((-43373316999528*n^5 - 1418292332604944*n^4 - 15620751208675368*n^3 - 75263429520032880*n^2 - 159024495098275336*n - 115038763030742784)/(n + 2))*Sn^2 + (145189126994522*n^4 + 1850194507465303*n^3 + 7994397618949897*n^2 + 13842634241087293*n + 8121291375670477)*Sn + (6387467670450*n^4 + 21517356637865*n^3 + 15129888967415*n^2)*Sni + 93910361922620*n^4 + 853537733476500*n^3 + 2561847877528260*n^2 + 3043365922438753*n + 1241145416464373"
      ]
     },
     "execution_count": 115,
     "metadata": {},
     "output_type": "execute_result"
    }
   ],
   "source": [
    "L_10"
   ]
  },
  {
   "cell_type": "code",
   "execution_count": 116,
   "metadata": {},
   "outputs": [
    {
     "data": {
      "text/plain": [
       "((27034107689*n^3 + 868821917382*n^2 + 7385930725063*n + 6544142915370)/(n + 8))*Sn^7 + ((-54068215378*n^9 - 657558265666*n^8 + 52234814217061*n^7 + 1681006394079982*n^6 + 21792321065232130*n^5 + 152281425341639860*n^4 + 614728778531456855*n^3 + 1420138223211689168*n^2 + 1720566547214627076*n + 832541752971656640)/(n^6 + 27*n^5 + 295*n^4 + 1665*n^3 + 5104*n^2 + 8028*n + 5040))*Sn^6 + ((27034107689*n^9 - 2967463897532*n^8 - 202511141592057*n^7 - 4645599827907501*n^6 - 54208096924525218*n^5 - 360843085732658375*n^4 - 1414637831335674934*n^3 - 3195312180012654656*n^2 - 3789790796103994360*n - 1790989640550298416)/(n^5 + 20*n^4 + 155*n^3 + 580*n^2 + 1044*n + 720))*Sn^5 + ((1972211122835*n^8 + 106341607931190*n^7 + 2095782175045238*n^6 + 20209653012424702*n^5 + 104165543301301409*n^4 + 286259251251577612*n^3 + 373705459341213910*n^2 + 127075697605422184*n - 89841864856316632)/(n^4 + 14*n^3 + 71*n^2 + 154*n + 120))*Sn^4 + ((-2972566483581*n^7 + 132432748660529*n^6 + 5503857165293235*n^5 + 69842247465825895*n^4 + 419946627592382902*n^3 + 1291165981961987260*n^2 + 1932507654211318632*n + 1097858050884380064)/(n^3 + 9*n^2 + 26*n + 24))*Sn^3 + ((-64025119688979*n^6 - 1872567233016091*n^5 - 21281018299239919*n^4 - 120212444240346341*n^3 - 354375298416589790*n^2 - 512551279078975784*n - 282031993001867096)/(n^2 + 5*n + 6))*Sn^2 + (480302118283*n^4 - 480302118283*n^2)*Sni^2 + ((51155018697783*n^5 + 442667227042522*n^4 - 602294853114288*n^3 - 13910744650681046*n^2 - 37991533393591443*n - 29599090586711280)/(n + 2))*Sn + (33454229052317*n^4 + 202072047489986*n^3 + 351192452571504*n^2 + 182574634133835*n)*Sni + 154844689856629*n^4 + 1707885163470190*n^3 + 6316768267324179*n^2 + 9265930118560325*n + 4530735002055517"
      ]
     },
     "execution_count": 116,
     "metadata": {},
     "output_type": "execute_result"
    }
   ],
   "source": [
    "L_11"
   ]
  },
  {
   "cell_type": "markdown",
   "metadata": {},
   "source": [
    "### Example 9\n",
    "\n",
    "In the Example 9, we look to the Apery's $\\zeta(2)$-recurence, by looking into the operator $$L = (x+2)^2E^2 - (11x^2 + 33x+25)E - (x-1)^2.$$\n",
    "\n",
    "Here we are interested in the kernel \n",
    "$$K(x,n) = \\binom{x}{n}\\binom{x+n}{2n}.$$\n",
    "\n",
    "This kernel is not a product basis. However, as writen in Section $8.4$, we can obtain a basis for that kernel as a `SievedBasis`:"
   ]
  },
  {
   "cell_type": "code",
   "execution_count": 123,
   "metadata": {},
   "outputs": [],
   "source": [
    "B_9 = SievedBasis([C, GeneralizedBinomial(1,1,0,2,0)], [1,0,1], ends={'E'})"
   ]
  },
  {
   "cell_type": "markdown",
   "metadata": {},
   "source": [
    "Using this basis we can check that every 3 terms we get an element of the kernel:"
   ]
  },
  {
   "cell_type": "code",
   "execution_count": 133,
   "metadata": {},
   "outputs": [
    {
     "data": {
      "text/plain": [
       "True"
      ]
     },
     "execution_count": 133,
     "metadata": {},
     "output_type": "execute_result"
    }
   ],
   "source": [
    "x = B_9[1].parent().gens()[0]\n",
    "all(B_9[3*i] == binomial(x, i)*binomial(x+i,2*i) for i in range(10))"
   ]
  },
  {
   "cell_type": "markdown",
   "metadata": {},
   "source": [
    "And then, we can use the method `recurrence` to obtain the matrix of recurrence operators associated with the operator $L$:"
   ]
  },
  {
   "cell_type": "code",
   "execution_count": 144,
   "metadata": {},
   "outputs": [],
   "source": [
    "L = (x+2)^2*E^2 - (11*x^2 + 33*x + 25)*E - (x+1)^2"
   ]
  },
  {
   "cell_type": "code",
   "execution_count": 145,
   "metadata": {},
   "outputs": [],
   "source": [
    "M = B_9.recurrence(L)\n",
    "first_column = [B_9.remove_Sni(M[j,0]) for j in range(M.nrows())]"
   ]
  },
  {
   "cell_type": "markdown",
   "metadata": {},
   "source": [
    "And we can get the derisred gcd of the first columns with the following command:"
   ]
  },
  {
   "cell_type": "code",
   "execution_count": 146,
   "metadata": {},
   "outputs": [
    {
     "data": {
      "text/plain": [
       "(n + 1)*Sn - 4*n - 2"
      ]
     },
     "execution_count": 146,
     "metadata": {},
     "output_type": "execute_result"
    }
   ],
   "source": [
    "gcrd = first_column[0].gcrd(*first_column[1:])\n",
    "gcrd"
   ]
  },
  {
   "cell_type": "markdown",
   "metadata": {},
   "source": [
    "Which is exactly the operator we got in order to obtain the final result in Example 9.\n",
    "\n",
    "### Example 10\n",
    "\n",
    "In example 10 we study now the Apery's $\\zeta(3)$-recurrence by using the operator:\n",
    "$$L = (x + 2)^3E^2 −(2x + 3)(17x^2 + 51x + 39)E + (x + 1)^3,$$\n",
    "and using the kernel:\n",
    "$$K(x,n) = \\binom{x+n}{2n}^2.$$\n",
    "\n",
    "Now, this kernel can be built using a `ProductBasis` using as building blosk the basis created for $\\binom{x+n}{2n}$:"
   ]
  },
  {
   "cell_type": "code",
   "execution_count": 148,
   "metadata": {},
   "outputs": [],
   "source": [
    "B2 = GeneralizedBinomial(1,1,0,2,0)\n",
    "B_10 = ProductBasis([B2, B2], ends={'E'})"
   ]
  },
  {
   "cell_type": "markdown",
   "metadata": {},
   "source": [
    "We can then easily build the matrices for the compatibility with $X$ and $E$:"
   ]
  },
  {
   "cell_type": "code",
   "execution_count": 151,
   "metadata": {},
   "outputs": [
    {
     "data": {
      "text/html": [
       "<html>\\[\\newcommand{\\Bold}[1]{\\mathbf{#1}}\\left(\\begin{array}{rrrr}\n",
       "n & 0 & 0 & \\left(2 n\\right) \\mathit{Sni} \\\\\n",
       "2 n + 1 & n & 0 & 0 \\\\\n",
       "0 & 2 n + 1 & -n - 1 & 0 \\\\\n",
       "0 & 0 & 2 n + 2 & -n - 1\n",
       "\\end{array}\\right)\\]</html>"
      ],
      "text/latex": [
       "$$\\newcommand{\\Bold}[1]{\\mathbf{#1}}\\left(\\begin{array}{rrrr}\n",
       "n & 0 & 0 & \\left(2 n\\right) \\mathit{Sni} \\\\\n",
       "2 n + 1 & n & 0 & 0 \\\\\n",
       "0 & 2 n + 1 & -n - 1 & 0 \\\\\n",
       "0 & 0 & 2 n + 2 & -n - 1\n",
       "\\end{array}\\right)$$"
      ],
      "text/plain": [
       "[      n       0       0 2*n*Sni]\n",
       "[2*n + 1       n       0       0]\n",
       "[      0 2*n + 1  -n - 1       0]\n",
       "[      0       0 2*n + 2  -n - 1]"
      ]
     },
     "metadata": {},
     "output_type": "display_data"
    }
   ],
   "source": [
    "show(B_10.recurrence('x'))"
   ]
  },
  {
   "cell_type": "code",
   "execution_count": 150,
   "metadata": {},
   "outputs": [
    {
     "data": {
      "text/html": [
       "<html>\\[\\newcommand{\\Bold}[1]{\\mathbf{#1}}\\left(\\begin{array}{rrrr}\n",
       "\\mathit{Sn} + 1 & \\frac{2 n + \\frac{1}{2}}{n + \\frac{1}{2}} & 1 & 1 \\\\\n",
       "\\left(\\frac{4 n + 3}{n + 1}\\right) \\mathit{Sn} & \\left(\\frac{n + \\frac{1}{2}}{n + \\frac{3}{2}}\\right) \\mathit{Sn} + 1 & 2 & \\frac{3 n + \\frac{5}{2}}{n + 1} \\\\\n",
       "\\left(\\frac{3 n + 2}{n + 1}\\right) \\mathit{Sn} & \\left(\\frac{n + \\frac{1}{2}}{n + \\frac{3}{2}}\\right) \\mathit{Sn} & 1 & \\frac{2 n + \\frac{3}{2}}{n + 1} \\\\\n",
       "2 \\mathit{Sn} & \\left(\\frac{n + 1}{n + \\frac{3}{2}}\\right) \\mathit{Sn} & 0 & 1\n",
       "\\end{array}\\right)\\]</html>"
      ],
      "text/latex": [
       "$$\\newcommand{\\Bold}[1]{\\mathbf{#1}}\\left(\\begin{array}{rrrr}\n",
       "\\mathit{Sn} + 1 & \\frac{2 n + \\frac{1}{2}}{n + \\frac{1}{2}} & 1 & 1 \\\\\n",
       "\\left(\\frac{4 n + 3}{n + 1}\\right) \\mathit{Sn} & \\left(\\frac{n + \\frac{1}{2}}{n + \\frac{3}{2}}\\right) \\mathit{Sn} + 1 & 2 & \\frac{3 n + \\frac{5}{2}}{n + 1} \\\\\n",
       "\\left(\\frac{3 n + 2}{n + 1}\\right) \\mathit{Sn} & \\left(\\frac{n + \\frac{1}{2}}{n + \\frac{3}{2}}\\right) \\mathit{Sn} & 1 & \\frac{2 n + \\frac{3}{2}}{n + 1} \\\\\n",
       "2 \\mathit{Sn} & \\left(\\frac{n + 1}{n + \\frac{3}{2}}\\right) \\mathit{Sn} & 0 & 1\n",
       "\\end{array}\\right)$$"
      ],
      "text/plain": [
       "[                      Sn + 1        (2*n + 1/2)/(n + 1/2)                            1                            1]\n",
       "[      ((4*n + 3)/(n + 1))*Sn ((n + 1/2)/(n + 3/2))*Sn + 1                            2          (3*n + 5/2)/(n + 1)]\n",
       "[      ((3*n + 2)/(n + 1))*Sn     ((n + 1/2)/(n + 3/2))*Sn                            1          (2*n + 3/2)/(n + 1)]\n",
       "[                        2*Sn       ((n + 1)/(n + 3/2))*Sn                            0                            1]"
      ]
     },
     "metadata": {},
     "output_type": "display_data"
    }
   ],
   "source": [
    "show(B_10.recurrence('E'))"
   ]
  },
  {
   "cell_type": "markdown",
   "metadata": {},
   "source": [
    "And also get th matrix for the operator $L$:"
   ]
  },
  {
   "cell_type": "code",
   "execution_count": 152,
   "metadata": {},
   "outputs": [],
   "source": [
    "L = (x+2)^3*E^2 - (2*x+3)*(17*x^2+51*x+39)*E + (x+1)^3\n",
    "M = B_10.recurrence(L)"
   ]
  },
  {
   "cell_type": "markdown",
   "metadata": {},
   "source": [
    "And then compute the gcd of the first column:"
   ]
  },
  {
   "cell_type": "code",
   "execution_count": 153,
   "metadata": {},
   "outputs": [
    {
     "data": {
      "text/plain": [
       "(n^2 + 2*n + 1)*Sn - 16*n^2 - 16*n - 4"
      ]
     },
     "execution_count": 153,
     "metadata": {},
     "output_type": "execute_result"
    }
   ],
   "source": [
    "first_column = [B_10.remove_Sni(M[j,0]) for j in range(M.nrows())]\n",
    "gcrd = first_column[0].gcrd(*first_column[1:])\n",
    "gcrd"
   ]
  },
  {
   "cell_type": "markdown",
   "metadata": {},
   "source": [
    "Which allows us to get the result in Example 10."
   ]
  }
 ],
 "metadata": {
  "kernelspec": {
   "display_name": "SageMath 9.5.beta0",
   "language": "sage",
   "name": "sagemath"
  },
  "language_info": {
   "codemirror_mode": {
    "name": "ipython",
    "version": 3
   },
   "file_extension": ".py",
   "mimetype": "text/x-python",
   "name": "python",
   "nbconvert_exporter": "python",
   "pygments_lexer": "ipython3",
   "version": "3.8.10"
  }
 },
 "nbformat": 4,
 "nbformat_minor": 4
}
