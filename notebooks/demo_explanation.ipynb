{
 "cells": [
  {
   "cell_type": "code",
   "execution_count": 1,
   "metadata": {
    "vscode": {
     "languageId": "python"
    }
   },
   "outputs": [],
   "source": [
    "import sys\n",
    "sys.path.insert(0, \"..\") # pseries_basis is here\n",
    "from pseries_basis import * # Loading our package\n",
    "\n",
    "%display latex\n",
    "# n = PSBasis(QQ).n()"
   ]
  },
  {
   "cell_type": "markdown",
   "metadata": {
    "tags": []
   },
   "source": [
    "# Inverse Zeibelger Problem $\\def\\cc{\\mathbb{C}}\\def\\nn{\\mathbb{N}}\\def\\kk{\\mathbb{K}}\\def\\qq{\\mathbb{Q}}\\def\\zz{\\mathbb{Z}}\\def\\basis{\\mathfrak{B}}\\def\\ibasis{\\mathfrak{I}}\\def\\pbasis{\\mathfrak{P}}\\def\\bbasis{\\mathfrak{C}}\\def\\hbasis{\\mathfrak{H}}$\n",
    "\n",
    "In this notebook we implement Petkovšek's algorithm `DefiniteSumsSolutions` in Sage using the package ``ore_algebra`` by M. Kauers and M. Mezzaroba to manipulate the differential and difference linear operators.\n",
    "\n",
    "The main idea of this algorithm is translating recurrence equations that has no simple solution to a new difference equation which we may can compute a solution after assuming some hypergeometric terms in the original solution."
   ]
  },
  {
   "cell_type": "markdown",
   "metadata": {
    "tags": []
   },
   "source": [
    "### Input and output"
   ]
  },
  {
   "cell_type": "markdown",
   "metadata": {},
   "source": [
    "The algorithm receives a P-finite equation $L$ and some numbers $a_1,...,a_m \\in \\nn$ and some elements $b_1,...,b_m \\in \\kk$.\n",
    "\n",
    "The algorithm returns another P-finite equation $L'$, such that $(h_k)_{k\\geq 0}$ is a solution of $L'\\cdot h = 0$ if and only if\n",
    "$$L\\cdot\\left(\\sum_{k\\geq0}\\prod_{i=1}^m\\binom{a_in+b_i}{k}h_k\\right) = 0$$"
   ]
  },
  {
   "cell_type": "markdown",
   "metadata": {
    "jp-MarkdownHeadingCollapsed": true,
    "tags": []
   },
   "source": [
    "## 1. Compatible basis"
   ]
  },
  {
   "cell_type": "markdown",
   "metadata": {},
   "source": [
    "The idea of this algorithm is to change the usual representation of a sequence stablishing a different basis. In this work we have two main perspectives: working with sequences or working with formal power series. They are easily related with a natural bijection:\n",
    "\n",
    "$$(a_n)_n \\leftrightarrow \\sum_{n} a_n x^n.$$\n",
    "\n",
    "In both cases, the \"canonical\" basis is the trivial $x^k = e_k(x) \\equiv (e_{k,n})_n = (\\delta_{n,k})_n$. However, there are other basis that, sometimes, help to write and solve a prolem from a new angle.\n",
    "\n",
    "Let $\\basis = \\{P_k(n)\\ :\\ k\\in\\nn\\}$ be a basis over $\\kk$ of the ring of sequences $\\kk^\\nn$. Although Petkovšek is mainly interested in basis formed by polynomials, we are going to include here also other type of power series basis.\n",
    "\n",
    "* $\\basis$ is said to be a **polynomial basis** if $\\deg(P_k) = k$.\n",
    "* $\\basis$ is said to be an **order basis** if (as power series) $ord_x(P_k) = k$.\n",
    "* $\\basis$ is **$(A,B)$-compatible** for a $\\kk$-linear operator $L$ if for any $k \\in \\nn$\n",
    "  $$L\\cdot P_k(n) = \\sum_{i = -A}^{B} \\alpha_{i}(k)P_{k+i}(n),$$\n",
    "  i.e., applying the linear operator $L$ to $P_k(n)$ expands the basis with a finite bound around $P_k(n)$.\n",
    "  \n",
    "Petkovšek is also interested in a particular type of polynomial basis that will prove to be useful for the following results. Here we take the chance to add the definition for orthogonal polynomials.\n",
    "\n",
    "* $\\basis$ is a **factorial basis** if for all $k \\in \\nn$, $P_k(n) | P_{k+1}(n)$. This means, there are $(a_k)\\in (\\kk^*)^\\nn$ and $(b_k) \\in \\kk^\\nn$ such that $P_{k+1}(n) = (a_kn + b_k)P_k(n)$.\n",
    "* $\\basis$ is a **orthogonal basis** if it is a *polynomial basis* such that for all $k \\in \\nn$ there are $(a_k)_k$, $(b_k)_k$ and $(c_k)_k$ in $\\kk^\\nn$ such that\n",
    "  $$P_{k+1}(n) = (a_kn + b_k)P_k(n) - c_kP_{k-1}(n).$$ "
   ]
  },
  {
   "cell_type": "markdown",
   "metadata": {
    "tags": []
   },
   "source": [
    "### Example of compatible operators"
   ]
  },
  {
   "cell_type": "markdown",
   "metadata": {
    "tags": []
   },
   "source": [
    "In this section we will see how the usual polynomial basis are compatible with some basic linear operators. We will follow the notation:\n",
    "\n",
    "* $\\pbasis$ will denote the _power basis_ where $P_k(n) = n^k$.\n",
    "* $\\pbasis_{a,b}$ will denote the _general power basis_ where $P_k(n) = (an + b)^k$.\n",
    "* $\\bbasis$ will denote the _binomial basis_ where $P_k(n) = \\binom{n}{k}$.\n",
    "* $\\bbasis_{a,b}$ will denote the _general binomial basis_ where $P_k(n) = \\binom{an+b}{k}$.\n",
    "* $\\hbasis$ will denote the basis of orthogonal _Hermite polynomial_ $P_k(n) = H_k(n)$\n",
    "\n",
    "And for the operators we will use:\n",
    "\n",
    "1. $D_x$ for standard derivation in $\\kk[[x]]$ and $D_n$ the derivation $\\partial_n(P_k(n))$.\n",
    "2. $E$ for the _shift_ operator $n \\rightarrow (n+1)$.\n",
    "3. $Q$ for the _q-shift_ operator $n \\rightarrow (qn)$.\n",
    "4. $X$ for the _multiplication by $n$_ operator.\n",
    "\n",
    "Then it is clear by definition that:\n",
    "* Every polynomial factorial basis is $(0,1)$-compatible with $X$, since $P_k(n)(a_kn + b_k) = P_{k+1}(n)$, so:\n",
    "  $$nP_k(n) = \\frac{1}{a_k}\\left(P_{k+1}(n) - b_kP_k(n)\\right).$$\n",
    "* Every orthogonal basis is $(-1,1)$-compatible with $X$ using the three terms recurrence:\n",
    "  $$nP_k(n) = \\frac{1}{a_k}\\left(c_kP_{k-1}(n) - b_kP_k(n) + P_{k+1}(n)\\right)$$\n",
    "* $\\pbasis_{a,b}$ is $(1,0)$-compatible with $D_n$:\n",
    "  $$((an+b)^k)' = ak(an+b)^{k-1}.$$\n",
    "* $\\pbasis$ is $(0,0)$-compatible with $Q$:\n",
    "  $$Q(n^k) = q^k(n^k).$$\n",
    "* $\\pbasis$ is not compatible with $E$: since $(n+1)^k = \\sum_{i=0}^n\\binom{n}{i}n^i$.\n",
    "* $\\bbasis$ is $(1,0)$-compatible with $E$:\n",
    "  $$\\binom{n+1}{k} = \\binom{n}{k} + \\binom{n}{k-1}.$$\n",
    "* $\\bbasis_{a,b}$ is $(a,0)$-compatible with $E$ (as it is shown in Proposition 6 of Petkovšek's paper):\n",
    "  $$\\binom{a(n+1)+b}{k} = \\sum_{i=-a}^0\\binom{a}{-i} \\binom{an+b}{k+i}.$$\n",
    "* $\\hbasis$ is $(1,0)$-compatible with $D_n$ since:\n",
    "  $$H_k'(n) = 2kH_{k-1}(n).$$"
   ]
  },
  {
   "cell_type": "markdown",
   "metadata": {},
   "source": [
    "##### What is it implemented?"
   ]
  },
  {
   "cell_type": "markdown",
   "metadata": {},
   "source": [
    "In the package `pseries_basis`, we have implemented this system of basis and compatibility. The following classes are available:\n",
    "* `PSBasis`: a class that represent a \"sequence of sequences\". This class allows to add the compatibilities and compute the corresponding recurrences.\n",
    "* `FactorialBasis`: a class specializing `PSBasis` that represents the factorial bases described in the paper. \n",
    "* `OrthogonalBasis`: a class specializing `PSBasis` that represents any _orthogonal basis_. It works similarly to `FactorialBasis`.\n",
    "\n",
    "Moreover, several of the examples are implemented in different classes to simplify the input:\n",
    "* `PowerTypeBasis`: allows to create $\\pbasis_{a,b}$ by giving $a$ and $b$. The object `PowerBasis` is the instance for $a=1$ and $b=0$. It includes the compatibility with $D_n$.\n",
    "* `BinomialTypeBasis`: allows to create $\\bbasis_{a,b}$ by giving $a$ and $b$. The object `BinomialBasis` is the instance for $a=1$ and $b=0$. It includes automatically the compatibility with $E$.\n",
    "* `FallingBasis`: represents basis $\\basis = \\{P_k(n)\\}_n$ where the polynomial $P_k(n)$ can be written as:\n",
    "$$P_k(n) = \\prod_{i=0}^{k-1}(an+b-ic).$$\n",
    "  These bases include the falling factorial ($a=1,b=0,c=1$) and raising factorial basis ($a=1,b=1,c=-1$). These basis are compatible with the shift $\\tilde{E}: n \\mapsto n + c/a$. This class includes automatically the compatibilities by $X$ and $\\tilde{E}$. The objects `FallingFactorial` and `RaisingFactorial` are included in the code.\n",
    "* `HermiteBasis`: represents $\\hbasis$. It includes the compatibility with $D_n$."
   ]
  },
  {
   "cell_type": "code",
   "execution_count": 2,
   "metadata": {
    "vscode": {
     "languageId": "python"
    }
   },
   "outputs": [
    {
     "data": {
      "text/html": [
       "<html>\\(\\displaystyle \\left\\{ n^{k} \\right\\}_{k \\in \\mathbb{N}}\\)</html>"
      ],
      "text/latex": [
       "$\\displaystyle \\left\\{ n^{k} \\right\\}_{k \\in \\mathbb{N}}$"
      ],
      "text/plain": [
       "Basis of Sequences over Rational Field: (n^k)"
      ]
     },
     "metadata": {},
     "output_type": "display_data"
    },
    {
     "data": {
      "text/html": [
       "<html>\\(\\displaystyle \\left[\\verb|n|, \\verb|Id|, \\verb|Dn|\\right]\\)</html>"
      ],
      "text/latex": [
       "$\\displaystyle \\left[\\verb|n|, \\verb|Id|, \\verb|Dn|\\right]$"
      ],
      "text/plain": [
       "['n', 'Id', 'Dn']"
      ]
     },
     "execution_count": 2,
     "metadata": {},
     "output_type": "execute_result"
    }
   ],
   "source": [
    "show(PowerBasis)\n",
    "PowerBasis.basic_compatibilities()"
   ]
  },
  {
   "cell_type": "markdown",
   "metadata": {},
   "source": [
    "The method `compatibility(L)` receives the operator $L$ (either its name or the object in an `OreAlgebra` and returns the  compatibility description of the basis with such operator. A compatibility is built from the data $(A,B,t,\\alpha_{i,j}(n))$, where:\n",
    "\n",
    "* $A$ is the lower bound of the compatibility condition. See also the method `lower_bound` or simply `A`.\n",
    "* $B$ is the upper bound of the compatibility condition. See also the method `upper_bound` or simply `B`.\n",
    "* $t$ is the number of sections in which the compatibility is divided.\n",
    "* $\\alpha_{b,i}(m)$ are the coefficients of the compatibility such that, for all $k = mt + b$:\n",
    "\n",
    "  $$L \\cdot P_k(n) = \\sum_{i=-A}^B \\alpha_{b,i}(m)P_{k+i}(n).$$\n",
    "  \n",
    "The format for the $\\alpha_{b,i}(m)$ is list of lists of sequences where $b$ and $i$ are the two indices of the lists and $m$ can be seen as the argument that defines a full sequence. The more structure on the sequence, the better information we can get from these methods."
   ]
  },
  {
   "cell_type": "code",
   "execution_count": 3,
   "metadata": {
    "vscode": {
     "languageId": "python"
    }
   },
   "outputs": [
    {
     "data": {
      "text/html": [
       "<html>\\(\\displaystyle \\text{Compatibility condition with shape (A=1, B=0, t=1):}\\\\L \\cdot P_{k} = \\left( k \\right) P_{k- 1}\\)</html>"
      ],
      "text/latex": [
       "$\\displaystyle \\text{Compatibility condition with shape (A=1, B=0, t=1):}\\\\L \\cdot P_{k} = \\left( k \\right) P_{k- 1}$"
      ],
      "text/plain": [
       "Compatibility condition (1, 0, 1) with following coefficient matrix:\n",
       "[k 0]"
      ]
     },
     "execution_count": 3,
     "metadata": {},
     "output_type": "execute_result"
    }
   ],
   "source": [
    "PowerBasis.compatibility('Dn')"
   ]
  },
  {
   "cell_type": "code",
   "execution_count": 4,
   "metadata": {
    "vscode": {
     "languageId": "python"
    }
   },
   "outputs": [
    {
     "data": {
      "text/html": [
       "<html>\\(\\displaystyle \\left\\{ {\\left(n + 1\\right)}^{k} \\right\\}_{k \\in \\mathbb{N}}\\)</html>"
      ],
      "text/latex": [
       "$\\displaystyle \\left\\{ {\\left(n + 1\\right)}^{k} \\right\\}_{k \\in \\mathbb{N}}$"
      ],
      "text/plain": [
       "Basis of Sequences over Rational Field: ((n + 1)^k)"
      ]
     },
     "metadata": {},
     "output_type": "display_data"
    },
    {
     "data": {
      "text/html": [
       "<html>\\(\\displaystyle \\left[\\verb|n|, \\verb|Id|, \\verb|Dn|\\right]\\)</html>"
      ],
      "text/latex": [
       "$\\displaystyle \\left[\\verb|n|, \\verb|Id|, \\verb|Dn|\\right]$"
      ],
      "text/plain": [
       "['n', 'Id', 'Dn']"
      ]
     },
     "execution_count": 4,
     "metadata": {},
     "output_type": "execute_result"
    }
   ],
   "source": [
    "P11 = PowerTypeBasis(1,1)\n",
    "show(P11)\n",
    "P11.basic_compatibilities()"
   ]
  },
  {
   "cell_type": "code",
   "execution_count": 5,
   "metadata": {
    "vscode": {
     "languageId": "python"
    }
   },
   "outputs": [
    {
     "data": {
      "text/html": [
       "<html>\\(\\displaystyle \\left\\{ \\binom{n}{k} \\right\\}_{k \\in \\mathbb{N}}\\)</html>"
      ],
      "text/latex": [
       "$\\displaystyle \\left\\{ \\binom{n}{k} \\right\\}_{k \\in \\mathbb{N}}$"
      ],
      "text/plain": [
       "Basis of Sequences over Rational Field: (binomial(n, k))"
      ]
     },
     "metadata": {},
     "output_type": "display_data"
    },
    {
     "name": "stdout",
     "output_type": "stream",
     "text": [
      "True\n"
     ]
    },
    {
     "data": {
      "text/html": [
       "<html>\\(\\displaystyle \\left[\\verb|n|, \\verb|E|\\right]\\)</html>"
      ],
      "text/latex": [
       "$\\displaystyle \\left[\\verb|n|, \\verb|E|\\right]$"
      ],
      "text/plain": [
       "['n', 'E']"
      ]
     },
     "execution_count": 5,
     "metadata": {},
     "output_type": "execute_result"
    }
   ],
   "source": [
    "show(BinomialBasis)\n",
    "print(all(BinomialBasis(i).generic() == binomial(var('n'),i) for i in range(20)))\n",
    "BinomialBasis.basic_compatibilities()"
   ]
  },
  {
   "cell_type": "code",
   "execution_count": 6,
   "metadata": {
    "vscode": {
     "languageId": "python"
    }
   },
   "outputs": [
    {
     "data": {
      "text/html": [
       "<html>\\(\\displaystyle \\left\\{ H\\left(k, n\\right) \\right\\}_{k \\in \\mathbb{N}}\\)</html>"
      ],
      "text/latex": [
       "$\\displaystyle \\left\\{ H\\left(k, n\\right) \\right\\}_{k \\in \\mathbb{N}}$"
      ],
      "text/plain": [
       "Basis of Sequences over Rational Field: (hermite(k, n))"
      ]
     },
     "metadata": {},
     "output_type": "display_data"
    },
    {
     "name": "stdout",
     "output_type": "stream",
     "text": [
      "True\n"
     ]
    },
    {
     "data": {
      "text/html": [
       "<html>\\(\\displaystyle \\left[\\verb|n|, \\verb|Dn|\\right]\\)</html>"
      ],
      "text/latex": [
       "$\\displaystyle \\left[\\verb|n|, \\verb|Dn|\\right]$"
      ],
      "text/plain": [
       "['n', 'Dn']"
      ]
     },
     "execution_count": 6,
     "metadata": {},
     "output_type": "execute_result"
    }
   ],
   "source": [
    "H = HermiteBasis();\n",
    "show(H)\n",
    "print(all(H.element(i).generic() == hermite(i,SR('n')) for i in range(20)))\n",
    "H.basic_compatibilities()"
   ]
  },
  {
   "cell_type": "markdown",
   "metadata": {
    "tags": []
   },
   "source": [
    "### Scalar equivalence"
   ]
  },
  {
   "cell_type": "markdown",
   "metadata": {},
   "source": [
    "One basic operation for series of the power series is the scalar multiplication. Let $\\basis$ be a basis of $\\kk[[x]]$ with general term $P_n(x)$ and $(c_n)_{n\\in \\kk}$ be a sequence of constants such that $c_n \\neq 0$. Then the sequence $(c_nP_n(x))_{n\\in \\kk}$ is also a basis of $\\kk[[x]]$. Moreover:\n",
    "\n",
    "**Lemma:** let $\\basis = (P_n(x))_n$ be a basis of $\\kk[[x]]$, $(c_n)_n \\in \\kk^\\nn$ and $L$ a $(A,B)$-compabitle operator with $\\basis$. Let $Q_n(x) = c_nP_n(x)$ and $\\basis' = (Q_n(x))_n$. Then:\n",
    "* If $\\basis$ is factorial, then $\\basis'$ is factorial.\n",
    "* If $\\basis$ is an order basis, then $\\basis'$ is an order basis.\n",
    "* $L$ is $(A,B)$-compatible with $\\basis'$.\n",
    "\n",
    "The first two points need no proof, since $c_n \\in \\kk \\setminus \\{0\\}$, the order and degree are preserved. Moreover, if $P_n(x)$ are polynomials, multiplying by $c_n$ does not change the roots, hence if $\\basis$ is factorial, so is $\\basis'$.\n",
    "\n",
    "Now, assume that the compatibility condition of $L$ with $\\basis$ can be written as:\n",
    "$$L(P_n(x)) = \\sum_{i=-A}^B \\alpha_{n,i}P_{n+i}(x),$$\n",
    "then, using the fact that $L$ is $\\kk$-linear:\n",
    "$$L(c_nP_n(x)) = \\sum_{i=-A}^B (\\alpha_{n,i}\\frac{c_n}{c_{n+i}} (c_{n+i}P_{n+i}(x)).$$\n",
    "\n",
    "##### How is it implemented?\n",
    "\n",
    "In order to obtain a suitable quotient $c_{n}/c_{n+i}$ for all $n$, we require that the sequence $(c_n)_n$ is hypergeometric. This means that these quotients are always rational functions in $i$ and $n$, and allows us to naively represent them into the system.\n",
    "\n",
    "The class ``PSBasis`` defines a generic method ``scalar`` for scalar multiplication that first checks that the input is, indeed, hypergeometric. Depending if the sequence is a rational function or hypergeometric, this method will call either the method\n",
    "``_scalar_basis`` or ``_scalar_hypergeometric``. These functions are specific for each class of the series implemented and return the structure for the new basis.\n",
    "\n",
    "After that, the method ``scalar`` adds all the compatibilities that were computed already for the original basis.\n",
    "\n",
    "We also allow the use of magic python syntax ``*`` with elements that can be casted into rational functions in $n$.\n",
    "\n",
    "**_Remark_**: there a new standard class called `ScalarBasis` that uses as iput a normal Factorial basis and the sequence $(c_n)_n$ as structure to the whole basis. Sometimes we avoid the use of this extra layer (when we know the exact type for the scalar product). Otherwise, we use this class.\n",
    "\n",
    "**_Remark 2_**: for non-Factorial basis, the class use to represent generic scalar products is the class `BruteBasis`. This class simply has a method `element` that receives the value of $n$ and returns the $n$-th element of the basis. This class **does not** guarantee that the method returns a basis, so its use is strongly discouraged."
   ]
  },
  {
   "cell_type": "code",
   "execution_count": 7,
   "metadata": {
    "vscode": {
     "languageId": "python"
    }
   },
   "outputs": [
    {
     "data": {
      "text/html": [
       "<html>\\(\\displaystyle \\left\\{ \\binom{n}{k} k! \\right\\}_{k \\in \\mathbb{N}}\\)</html>"
      ],
      "text/latex": [
       "$\\displaystyle \\left\\{ \\binom{n}{k} k! \\right\\}_{k \\in \\mathbb{N}}$"
      ],
      "text/plain": [
       "Basis of Sequences over Rational Field: (binomial(n, k)*factorial(k))"
      ]
     },
     "metadata": {},
     "output_type": "display_data"
    },
    {
     "data": {
      "text/html": [
       "<html>\\(\\displaystyle \\left[\\verb|n|, \\verb|E|\\right]\\)</html>"
      ],
      "text/latex": [
       "$\\displaystyle \\left[\\verb|n|, \\verb|E|\\right]$"
      ],
      "text/plain": [
       "['n', 'E']"
      ]
     },
     "execution_count": 7,
     "metadata": {},
     "output_type": "execute_result"
    }
   ],
   "source": [
    "monic_Binomial = BinomialBasis.scalar(factorial(var('k'))); show(monic_Binomial)\n",
    "monic_Binomial.basic_compatibilities()"
   ]
  },
  {
   "cell_type": "markdown",
   "metadata": {},
   "source": [
    "We can see how the Binomial basis and the Falling factorial basis are very related:"
   ]
  },
  {
   "cell_type": "code",
   "execution_count": 8,
   "metadata": {
    "vscode": {
     "languageId": "python"
    }
   },
   "outputs": [
    {
     "data": {
      "text/html": [
       "<html>\\(\\displaystyle \\mathrm{True}\\)</html>"
      ],
      "text/latex": [
       "$\\displaystyle \\mathrm{True}$"
      ],
      "text/plain": [
       "True"
      ]
     },
     "execution_count": 8,
     "metadata": {},
     "output_type": "execute_result"
    }
   ],
   "source": [
    "monic_Binomial == FallingFactorial"
   ]
  },
  {
   "cell_type": "markdown",
   "metadata": {},
   "source": [
    "And we can see also that the compatibilities are equivalent for both:"
   ]
  },
  {
   "cell_type": "code",
   "execution_count": 9,
   "metadata": {},
   "outputs": [
    {
     "data": {
      "text/html": [
       "<html>\\(\\displaystyle \\mathrm{True}\\)</html>"
      ],
      "text/latex": [
       "$\\displaystyle \\mathrm{True}$"
      ],
      "text/plain": [
       "True"
      ]
     },
     "execution_count": 9,
     "metadata": {},
     "output_type": "execute_result"
    }
   ],
   "source": [
    "all(monic_Binomial.compatibility(op).equiv(FallingFactorial.compatibility(op)) for op in monic_Binomial.basic_compatibilities())"
   ]
  },
  {
   "cell_type": "markdown",
   "metadata": {
    "jp-MarkdownHeadingCollapsed": true,
    "tags": []
   },
   "source": [
    "## 2. From compatible operators to recurrence equations"
   ]
  },
  {
   "cell_type": "markdown",
   "metadata": {},
   "source": [
    "In Proposition 4, Petkovšek proved that, givel a basis $\\basis = \\{P_k(n)\\ :\\ k \\in \\nn\\}$ and a linear operator $L$ which is $(A,B)$-compatible, then it is equivalent, for $y(n) = \\sum_{k\\geq0}c_kP_k(n)$:\n",
    "* $L\\cdot y(n) = 0$.\n",
    "* For all $k \\geq 0$:\n",
    "  $$\\sum_{i=-B}^A \\alpha_{-i}(k+i)c_{k+i} = 0,$$\n",
    "  where $c_k = 0$ whenever $k < 0$.\n",
    "  \n",
    "This leads to a recurrence equation for the $c_k$:\n",
    "$$(R_{\\basis}L)\\cdot (c_k) = \\left(\\sum_{i=-B}^A \\alpha_{-i}(k+i)S_k^i\\right)(c_n) = 0.$$\n",
    "Hence, whenever the $\\alpha_{i}(k)$ are rational functions in $k$, we arrive to a new P-finite recurrence equation.\n",
    "\n",
    "Moreover, in Theorem 1, Petkovšek proved that the map from $L$ to $R_{\\basis}L$ is a ring isomorphism, which alow to simple computations of the recurrence operators. Given $L_1, L_2$ compatible with $\\basis$ and $c \\in \\kk$, then we have:\n",
    "* $R_{\\basis}(cL_1) = cR_{\\basis}(L_1)$.\n",
    "* $R_{\\basis}(L_1+L_2) = R_{\\basis}(L_1) + R_{\\basis}(L_2)$.\n",
    "* $R_{\\basis}(L_1L_2) = R_{\\basis}(L_1)R_{\\basis}(L_2)$.\n",
    "\n",
    "This means that, if we have $L \\in \\kk[O_1,\\dots,O_t]$ where $O_i$ are compatible operators with $\\basis$, then to compute $R_{\\basis}(L)$ we only need to evaluate the polynomial that represents $L$:\n",
    "    $$L = Q(O_1,\\dots,O_t) \\Rightarrow R_{\\basis}(L) = Q(R_{\\basis}(O_1),\\dots,R_{\\basis}(O_t).$$"
   ]
  },
  {
   "cell_type": "markdown",
   "metadata": {},
   "source": [
    "#### What is it implemented?"
   ]
  },
  {
   "cell_type": "markdown",
   "metadata": {},
   "source": [
    "In our package `pseries_basis` we have implemented this isomorphism with several methods:\n",
    "* `recurrence(L)`: this method computes $R_{\\basis}(L)$. This method requires that $L$ is expressed as a polynomial of operators that have been already set. \n",
    "\n",
    "The user can specified further compatibilities by giving the appropriate name for it and the corresponding value of $R_{\\basis}(\\cdot)$ or the values for $(A,B,t,\\alpha_{b,i}(m))$ described previously.\n",
    "* `set_compatibilty(L, R)`: set the compatibility of $L$ to $R$.\n",
    "\n",
    "***REMARK***: the method ``set_compatibility`` only transforms recurrence to compatibilities assuming the value of $m$ is 1 (i.e., only 1 section is allowed). This is because, when we have multiple sections, the map from compatibilities to recurrence is not a isomorphism."
   ]
  },
  {
   "cell_type": "code",
   "execution_count": 10,
   "metadata": {},
   "outputs": [
    {
     "data": {
      "text/html": [
       "<html>\\(\\displaystyle \\text{Compatibility condition with shape (A=0, B=1, t=1):}\\\\L \\cdot P_{k} = \\left( k \\right) P_{k} + \\left( k + 1 \\right) P_{k+ 1}\\)</html>"
      ],
      "text/latex": [
       "$\\displaystyle \\text{Compatibility condition with shape (A=0, B=1, t=1):}\\\\L \\cdot P_{k} = \\left( k \\right) P_{k} + \\left( k + 1 \\right) P_{k+ 1}$"
      ],
      "text/plain": [
       "Compatibility condition (0, 1, 1) with following coefficient matrix:\n",
       "[    k k + 1]"
      ]
     },
     "execution_count": 10,
     "metadata": {},
     "output_type": "execute_result"
    }
   ],
   "source": [
    "BinomialBasis.compatibility(\"n\")"
   ]
  },
  {
   "cell_type": "code",
   "execution_count": 11,
   "metadata": {},
   "outputs": [
    {
     "data": {
      "text/html": [
       "<html>\\(\\displaystyle \\text{Compatibility condition with shape (A=1, B=0, t=1):}\\\\L \\cdot P_{k} = \\left( 1 \\right) P_{k- 1} + \\left( 1 \\right) P_{k}\\)</html>"
      ],
      "text/latex": [
       "$\\displaystyle \\text{Compatibility condition with shape (A=1, B=0, t=1):}\\\\L \\cdot P_{k} = \\left( 1 \\right) P_{k- 1} + \\left( 1 \\right) P_{k}$"
      ],
      "text/plain": [
       "Compatibility condition (1, 0, 1) with following coefficient matrix:\n",
       "[1 1]"
      ]
     },
     "execution_count": 11,
     "metadata": {},
     "output_type": "execute_result"
    }
   ],
   "source": [
    "BinomialBasis.compatibility(\"E\")"
   ]
  },
  {
   "cell_type": "markdown",
   "metadata": {},
   "source": [
    "##### Example 4 from Petkovšek's paper"
   ]
  },
  {
   "cell_type": "markdown",
   "metadata": {},
   "source": [
    "* At example 4.1, Petkovšek considers the operator $L = E - c$, so $y(n) = \\sum_{k \\geq 0} y_k \\binom{n}{k}$ satisfies $y(n+1) - c = 0$ if and only if $L' \\cdot (y_k) = 0$ where $L'$ is the changed operator to the binomial basis:"
   ]
  },
  {
   "cell_type": "code",
   "execution_count": 12,
   "metadata": {},
   "outputs": [],
   "source": [
    "## Creating the Binomial Basis with the parameter \"c\"\n",
    "B2 = BinomialBasis.change_base(QQ['c'])\n",
    "c = B2.base.0"
   ]
  },
  {
   "cell_type": "code",
   "execution_count": 13,
   "metadata": {
    "vscode": {
     "languageId": "python"
    }
   },
   "outputs": [
    {
     "data": {
      "text/html": [
       "<html>\\(\\displaystyle \\mathit{Sk} - c + 1\\)</html>"
      ],
      "text/latex": [
       "$\\displaystyle \\mathit{Sk} - c + 1$"
      ],
      "text/plain": [
       "Sk - c + 1"
      ]
     },
     "execution_count": 13,
     "metadata": {},
     "output_type": "execute_result"
    }
   ],
   "source": [
    "B2.recurrence(\"E - c\", output=\"ore_double\") # has to get Sk - c + 1"
   ]
  },
  {
   "cell_type": "markdown",
   "metadata": {},
   "source": [
    "  In general, $L' = S_k - (c-1)$, which in the sequence level has the solution $y_n = y_0(c-1)^n$, obtaining:\n",
    "  $$y(n) = \\sum_{k \\geq 0} \\binom{n}{k}y_k(c-1)^k = y_0c^n$$\n",
    "  \n",
    "* At example 4.2, Petkovšek considers the operator $L = E^2 - 2E + 1$. Then, applying the substitution for a binomial basis we get:"
   ]
  },
  {
   "cell_type": "code",
   "execution_count": 14,
   "metadata": {
    "vscode": {
     "languageId": "python"
    }
   },
   "outputs": [
    {
     "data": {
      "text/html": [
       "<html>\\(\\displaystyle \\mathit{Sk}^{2}\\)</html>"
      ],
      "text/latex": [
       "$\\displaystyle \\mathit{Sk}^{2}$"
      ],
      "text/plain": [
       "Sk^2"
      ]
     },
     "execution_count": 14,
     "metadata": {},
     "output_type": "execute_result"
    }
   ],
   "source": [
    "BinomialBasis.recurrence(\"E^2 - 2*E + 1\", output=\"ore_double\") # has to get Sk^2 (currently wrong)"
   ]
  },
  {
   "cell_type": "markdown",
   "metadata": {},
   "source": [
    "What does this result mean? Let $y(n) = \\sum_{k\\geq 0} y_k\\binom{n}{k}$. Then we have that $y_{k+2} = 0$ for all $k$, so $y(n) = y_0 + y_1\\binom{n}{1} = y_0 + y_1n$ and, then, all the power series solutions to the difference equation\n",
    "$$y(n+2) - 2y(n+1) + y(n) = 0,$$\n",
    "are the polynomials of degree 1.\n",
    "\n",
    "* At example 4.3, Petkovšek now consider the operator $L = E^2 - E - 1$. Applying the algorithm we get:"
   ]
  },
  {
   "cell_type": "code",
   "execution_count": 15,
   "metadata": {
    "vscode": {
     "languageId": "python"
    }
   },
   "outputs": [
    {
     "data": {
      "text/html": [
       "<html>\\(\\displaystyle \\mathit{Sk}^{2} + \\mathit{Sk} - 1\\)</html>"
      ],
      "text/latex": [
       "$\\displaystyle \\mathit{Sk}^{2} + \\mathit{Sk} - 1$"
      ],
      "text/plain": [
       "Sk^2 + Sk - 1"
      ]
     },
     "execution_count": 15,
     "metadata": {},
     "output_type": "execute_result"
    }
   ],
   "source": [
    "BinomialBasis.recurrence(\"E^2 - E - 1\", output=\"ore_double\") # has to get Sk^2 + Sk - 1"
   ]
  },
  {
   "cell_type": "markdown",
   "metadata": {},
   "source": [
    "In this case we are considering a Fibonacci type of function, some $y(n)$ such that $y(n+2) = y(n+1) + y(n)$. If we expand it using the binomial basis, we end up that the sequence of coefficients satisfies the recurrence\n",
    "$$y_{k+2} = y_k - y_{k+1},$$\n",
    "which is a variance of the Fibonacci sequence. In fact, we have:\n",
    "$$y_k = (-1)^k(C_1F_k + C_2F_{k+1}),$$\n",
    "where $F_k$ **is** the Fibonacci sequence $(0,1,1,2,\\dots)$. Let choose $C_1$ and $C_2$ such that $y(0) = 0$ and $y(1) = 1$. Then we have that $0 = y_0 = C_2$ and $1 = y_0 + y_1 = -(C_1 + C_2)$, so $C_1 = -1$ and $C_2 = 0$. Then $y_k = (-1)^kF_k$ and we have:\n",
    "$$y(n) = \\sum_{k \\geq 0} (-1)^kF_k,$$\n",
    "so evaluating the function on an integer $m$ we obtain:\n",
    "$$F_m = \\sum_{k = 0}^m (-1)^kF_k.$$\n",
    "\n",
    "* At example 4.4, Petkovšek takes the P-finite first order recurrence $L = E - (n+1)$. After applying the substitution we get:"
   ]
  },
  {
   "cell_type": "code",
   "execution_count": 16,
   "metadata": {
    "vscode": {
     "languageId": "python"
    }
   },
   "outputs": [
    {
     "data": {
      "text/html": [
       "<html>\\(\\displaystyle \\mathit{Sk} - k \\mathit{Ski} - k\\)</html>"
      ],
      "text/latex": [
       "$\\displaystyle \\mathit{Sk} - k \\mathit{Ski} - k$"
      ],
      "text/plain": [
       "Sk + (-k)*Ski + (-k)"
      ]
     },
     "execution_count": 16,
     "metadata": {},
     "output_type": "execute_result"
    }
   ],
   "source": [
    "BinomialBasis.recurrence(\"E - (n+1)\", output=\"ore_double\") # has to get Sk - kSki - k"
   ]
  },
  {
   "cell_type": "markdown",
   "metadata": {},
   "source": [
    "In this case we have a recurrence with the inverse shift, which is equivalent to the recurrence $S_k^2 - k S_k - k$. This recurrence equation has as solution $y_k = k!\\left(C_1 + C_2\\sum_{l=1}^k(-1)^l/l!\\right)$.\n",
    "\n",
    "However in this case for $k = 0$, the original equation (with the right shift operator) provides the equality $y_1 = 0$, so we obtain $C_1 = C_2 = C$ obtaining finally\n",
    "$$y(n) = C\\sum_{k \\geq 0} \\binom{n}{k}k!\\left(1 + \\sum_{l=1}^k \\frac{(-1)^l}{l!}\\right).$$\n",
    "\n",
    "Now, in this case, the original recurrence gives that $y(n+1) = (n+1)y(n)$ (which is the functional equation for the factorial: $y(n) = n!y(0)$). Hence, we find the following identity setting $C=1$:\n",
    "$$m! = \\sum_{k = 0}^m \\binom{m}{k}k!\\left(1 \\sum_{l=1}^k\\frac{(-1)^l}{l!}\\right).$$\n",
    "\n",
    "* Finally in example 4.5, Petkovšek studies the recurrence $L = E^3 - (n^2+6n+10)E^2 + (n+2)(2n+5)E-(n+1)(n+2)$. This recurrence is not so simple anymore."
   ]
  },
  {
   "cell_type": "code",
   "execution_count": 17,
   "metadata": {
    "vscode": {
     "languageId": "python"
    }
   },
   "outputs": [
    {
     "data": {
      "text/html": [
       "<html>\\(\\displaystyle \\mathit{Sk}^{3} + \\left(-k^{2} - 6 k - 7\\right) \\mathit{Sk}^{2} + \\left(-2 k^{2} - 8 k - 7\\right) \\mathit{Sk} - k^{2} - 2 k - 1\\)</html>"
      ],
      "text/latex": [
       "$\\displaystyle \\mathit{Sk}^{3} + \\left(-k^{2} - 6 k - 7\\right) \\mathit{Sk}^{2} + \\left(-2 k^{2} - 8 k - 7\\right) \\mathit{Sk} - k^{2} - 2 k - 1$"
      ],
      "text/plain": [
       "Sk^3 + (-k^2 - 6*k - 7)*Sk^2 + (-2*k^2 - 8*k - 7)*Sk + (-k^2 - 2*k - 1)"
      ]
     },
     "execution_count": 17,
     "metadata": {},
     "output_type": "execute_result"
    }
   ],
   "source": [
    "BinomialBasis.recurrence(\"E^3 - (n^2+6*n+10)*E^2 + (n+2)*(2*n+5)*E-(n+1)*(n+2)\", output=\"ore_double\") \n",
    "# has to get Sk^3 + (-k^2 - 6k - 7)Sk^2 + (-2k^2 -8k -7)Sk - (k^2 + 2k +1)"
   ]
  },
  {
   "cell_type": "markdown",
   "metadata": {
    "jp-MarkdownHeadingCollapsed": true,
    "tags": []
   },
   "source": [
    "## 3. The equivalence of Proposition 2 **TODO**: review this when increase polynomials are updated"
   ]
  },
  {
   "cell_type": "markdown",
   "metadata": {},
   "source": [
    "In Proposition 2, Petkovšek provides an equivalent condition, in the case of *polynomial factorial basis*, for an operator $L$ to be $(A,B)$-compatible. Namely, $L$ is $(A,B)$ compatible if and only if:\n",
    "* **C.1.** For all $n \\geq 0$, $\\deg(L\\cdot P_n) \\leq n + B$.\n",
    "* **C.2.** For all $n \\geq A$, $P_{n-A} | L\\cdot P_n$.\n",
    "\n",
    "This proposition will be heavily used to proved compatibility for some operators in the _product basis_ defined below. Hence, a constructive proof is heavily desired. "
   ]
  },
  {
   "cell_type": "markdown",
   "metadata": {
    "tags": []
   },
   "source": [
    "### 3.1 Defining the goals for equivalence"
   ]
  },
  {
   "cell_type": "markdown",
   "metadata": {},
   "source": [
    "A first step to make the result constructive is define exactly what we need to compute. For the compatibility condition is pretty clear: we need to compute the values $A$, $B$, $m$ and $\\alpha_{i,j}(n)$ for arbitrary (symbolic) $n$, $0 \\leq i \\leq m-1$ and $-A \\leq j \\leq B$. \n",
    "\n",
    "For the conditions **C.1** and **C.2**, we need to compute the sections $m$, the bound $B$, the bound $A$ and coefficients $c_{i,j}(n)$ for arbitrary $n$, $0 \\leq i \\leq m-1$ and $0 \\leq j \\leq A+B$ such that, for all $n = km + r$:\n",
    "\n",
    "$$\\frac{L\\cdot P_{n}}{P_{n-A}} = \\sum_{j=0}^{A+B}c_{i,j}(k)x^j.$$"
   ]
  },
  {
   "cell_type": "markdown",
   "metadata": {
    "tags": []
   },
   "source": [
    "### 3.2 Increasing basis"
   ]
  },
  {
   "cell_type": "markdown",
   "metadata": {},
   "source": [
    "The main tool for performing this computation is what we will call the _increasing basis_. Using the fact that we are working with *polynomial factorial basis*, we have that for any $m > n$, $\\deg(P_m/P_n) = m-n$. \n",
    "* We define the $k$*-increasing basis* for $\\basis$ as $\\ibasis_k(\\basis) = \\left\\{I_{k,n}\\right\\}_{n\\geq 0}$ where\n",
    "  $$I_{k,n} = \\frac{P_{k+n}}{P_k}.$$\n",
    "* $\\ibasis_k$ **is a polynomial factorial basis for any** $k \\in \\nn$.\n",
    "\n",
    "  It is clear, as we have already mention, that $\\deg(I_{k,n}) = n$. And, as $\\basis$ is factorial, we also have that:\n",
    "  $$\\frac{I_{k,n+1}}{I_{k,n}} = \\frac{P_{k+n+1}P_k}{P_{k+n}P_k} = \\frac{P_{k+n+1}}{P_{k+n}} = a_{n+k+1}x + b_{n+k+1},$$\n",
    "  finishing the proof. $\\square$"
   ]
  },
  {
   "cell_type": "markdown",
   "metadata": {
    "tags": []
   },
   "source": [
    "### 3.3 Looking to the equivalence"
   ]
  },
  {
   "cell_type": "markdown",
   "metadata": {},
   "source": [
    "The compatibility condition provides the following identity:\n",
    "$$L(P_n) = \\sum_{i=-A}^B \\alpha_{n,i} P_{n+i},$$\n",
    "so if we divide this identity by $P_{n-A}$, we obtain:\n",
    "$$\\sum_{j=0}^{A+B} c_{n,j}x^j = \\frac{L(P_n)}{P_{n-A}} = \\sum_{i=-A}^B \\alpha_{n,i}I_{n-A,i+A} = \\sum_{j=0}^{A+B} \\alpha_{n,j-A}I_{n-A, j}.$$\n",
    "\n",
    "This implies that the computations for changing from teh compatibility to the conditions **C.1** and **C.2** are simply a change of coordinates between the canonical basis $1,x,x^2,\\ldots$ and the increasing basis at an arbitrary point $n$. The computations needs to be done carefully to carry over the details of the sections, but otherwise, these computations are straightforward."
   ]
  },
  {
   "cell_type": "markdown",
   "metadata": {},
   "source": [
    "#### What is it implemented?"
   ]
  },
  {
   "cell_type": "markdown",
   "metadata": {},
   "source": [
    "The class `FactorialBasis` provides several methods to compute the equivalence of Proposition 2.\n",
    "\n",
    "* `increasing_polynomial(k,n)`: returns the polynomial $I_{k,n}$ for the current basis. The value for $n$ must be a fixed positive integer and $k$ may take a symbolic value. This method will take care of getting the increasing basis splitted into sections in case the basis is splitted as well.\n",
    "* `increasing_basis(k)`: if possible, returns the object representing the $k$-increasing basis.\n",
    "* `matrix_ItP(k,m)`: returns the matrix $M_{I\\rightarrow P}$ of size $m$ for the $k$-increasing basis that changes coordinates from the increasing basis to the canonical basis.\n",
    "* `matrix_PtI(k,m)`: returns the matrix $M_{P\\rightarrow I}$ of size $m$ for the $k$-increasing basis that changes coordinates from the canonical basis to the increasing basis.\n",
    "* `equiv_DtC(compatibility)`: assuming that the input is a tuple with $(A,B,m,\\alpha_{i,j}(n))$ representing the compatibility of an operator $L$ with such that for all $n = km+r$ or the operator itself, we have that\n",
    "  $$L(P_{n}) = \\sum_{i=-A}^{B} \\alpha_{r,i}(k)P_{n+i}.$$\n",
    "  This method computes the coefficients $c_{i,j}(n)$ for the equivalent condition **C.2** (i.e., the coefficients of the polynomials $L(P_{n})/P_{n-A}$):\n",
    "  $$\\frac{L(P_n(x))}{P_{n-A}(x)} = \\sum_{i = 0}^{A+B+1} c_{r,i}(k)x^k.$$\n",
    "* `equiv_CtD(division)`: providing a `DivisionCondition`, we compute the equivalent compatibility condition (splitted in the same number of sections as deteced in the division). The output, then, will be a compatibility condition, where:\n",
    "  $$L(P_{n}(x)) = \\sum_{i=-A}^B \\alpha_{r,i}(k)P_{n+i}(x).$$\n",
    "* `compatible_division(L)`: this method computes generically the division $L\\cdot P_n/P_{n-m}$ for some $m \\geq A$. If any subclass requires further information for computing this division, we implement that particular version explicitly. The output is a tuple $(A, m, D_{i,j}(n))$ where $A$ is, as usual, the lower bound of the compatibility, $m$, the number of sections and $D_{i,j}(n)$ a function such that:\n",
    "  $$\\frac{L\\cdot P_{km+r}}{P_{km+r-s}} = D_{r,s}(k) \\in \\mathbb{K}[x].$$"
   ]
  },
  {
   "cell_type": "code",
   "execution_count": 18,
   "metadata": {
    "vscode": {
     "languageId": "python"
    }
   },
   "outputs": [
    {
     "data": {
      "text/html": [
       "<html>\\(\\displaystyle \\mathrm{True}\\)</html>"
      ],
      "text/latex": [
       "$\\displaystyle \\mathrm{True}$"
      ],
      "text/plain": [
       "True"
      ]
     },
     "execution_count": 18,
     "metadata": {},
     "output_type": "execute_result"
    }
   ],
   "source": [
    "## Checking how the increasing polynomials are the divisions between elements of the basis\n",
    "all(\n",
    "    all(\n",
    "        all(\n",
    "            basis[i+j]\n",
    "            == \n",
    "            basis[i]*basis.increasing_basis(i)[j] \n",
    "            for j in range(20)) \n",
    "        for i in range(4,20))\n",
    "    for basis in [PowerBasis, P11, BinomialBasis]\n",
    ")"
   ]
  },
  {
   "cell_type": "code",
   "execution_count": 19,
   "metadata": {
    "vscode": {
     "languageId": "python"
    }
   },
   "outputs": [
    {
     "data": {
      "text/html": [
       "<html>\\(\\displaystyle \\text{Divisibility condition with shape (A=1, t=1):}\\\\ \\frac{L \\cdot P_k}{P_{k- 1 }} = \\left( 1 \\right) X^ 0 + \\left( \\frac{k - 1}{k} \\right) X^ 1 + \\left( -\\frac{1}{k} \\right) X^ 2\\)</html>"
      ],
      "text/latex": [
       "$\\displaystyle \\text{Divisibility condition with shape (A=1, t=1):}\\\\ \\frac{L \\cdot P_k}{P_{k- 1 }} = \\left( 1 \\right) X^ 0 + \\left( \\frac{k - 1}{k} \\right) X^ 1 + \\left( -\\frac{1}{k} \\right) X^ 2$"
      ],
      "text/plain": [
       "Divisibility condition (A=1, t=1) with following coefficient matrix:\n",
       "[        1 (k - 1)/k      -1/k]"
      ]
     },
     "execution_count": 19,
     "metadata": {},
     "output_type": "execute_result"
    }
   ],
   "source": [
    "## Checking how we get the coefficients c_{n,i}\n",
    "BinomialBasis.equiv_CtD(\"E - (n+1)\")"
   ]
  },
  {
   "cell_type": "markdown",
   "metadata": {
    "jp-MarkdownHeadingCollapsed": true,
    "tags": []
   },
   "source": [
    "## 4. Recurrence in sections"
   ]
  },
  {
   "cell_type": "markdown",
   "metadata": {},
   "source": [
    "In Proposition 9, Petkovšek studies how the fact that an operator is compatible with a basis makes that all the sections sequences in that basis satisfies different recurrence relations. The prove of the result is quite technical but the only thing that is important is that, for $m > 0$, if an operator is compatible in the form\n",
    "$$L(P_{km+j}) = \\sum_{i=-A}^B \\alpha_{k,j,i} P_{km+j+i},$$\n",
    "then we can define the recurrence operators for $r,j \\in \\{0,1,\\dots,m-1\\}$:\n",
    "$$L_{r,j} = \\sum_{\\begin{array}{c}-A\\leq i \\leq B\\\\i+j \\equiv r (m)\\end{array}} \\alpha_{k+\\frac{r-i-j}{m},j,i} S_n^{\\frac{r-i-j}{m}}.$$\n",
    "\n",
    "Then with this operators we have that, for $y(x) = \\sum_{k\\geq 0} \\sum_{j=0}^{m-1} c_{km+j}P_{km+j}$, $L(y) = 0$ if and only if for all $r \\in \\{0,\\dots,m-1\\}$ we have:\n",
    "$$\\sum_{j=0}^{m-1} L_{r,j}(c_{km+j})_k = 0.$$"
   ]
  },
  {
   "cell_type": "markdown",
   "metadata": {},
   "source": [
    "### 4.1 Matrix operator"
   ]
  },
  {
   "cell_type": "markdown",
   "metadata": {},
   "source": [
    "If we form now $R_{\\basis}^m(L) = \\left(L_{r,j}\\right)_{r,j=0}^{m-1}$, as an extension of the original map $R$ that we saw in previous sections, then it still have the same properties: it is a ring homomorphism.\n",
    "\n",
    "For any $m > 0$, $L_1, L_2$ compatiblo operators with $\\basis$ and $c \\in \\kk$:\n",
    "* $R_{\\basis}^m(cL_1) = cR_{\\basis}^m(L_1)$.\n",
    "* $R_{\\basis}^m(L_1 + L_2) = R_{\\basis}^m(L_1) + R_{\\basis}^m(L_2)$.\n",
    "* $R_{\\basis}^m(L_1L_2) = R_{\\basis}^m(L_1)R_{\\basis}^m(L_2)$."
   ]
  },
  {
   "cell_type": "markdown",
   "metadata": {},
   "source": [
    "#### What is it implemented?"
   ]
  },
  {
   "cell_type": "markdown",
   "metadata": {},
   "source": [
    "From the compatibility condition that we obtain with method `compatibility`, i.e., a tuple of the form $(A,B,m,\\alpha_{i,j}(n))$, we can always extend this compatibility condition to any number of sections that is divisible by $m$.\n",
    "\n",
    "Let $p = lm$ for some $l \\in \\mathbb{N}$. Consider $r = r_0m + r_1$ with $r \\in \\{0,\\ldots,p-1\\}$ and $r_1\\in \\{0,\\ldots,m-1\\}$. Then we can easily write:\n",
    "\n",
    "$$L\\cdot P_{kp + r} = L\\cdot P_{(kl + r_0)m + r_1}= \\sum_{j=-A}^B \\alpha_{r_1,j}(kl+r_0) P_{kp+r+j}.$$\n",
    "\n",
    "Hence, we have that the new compatibility coefficients are:\n",
    "\n",
    "$$\\tilde{\\alpha}_{r,j}(k) = \\alpha_{r\\%m,j}(kp/m + r//m).$$ \n",
    "\n",
    "This extension is implemented in the method ``compatibility_sections(L, p)`` and returns, if possible, the compatibility tuple $(A,B,p,\\tilde{\\alpha}_{i,j}(n))$.\n",
    "\n",
    "The method ``recurrence`` (described above) accepts an optional parameter ``sections`` that fix the number of sections for getting the recurrence matrix. If given, we extend the compatibility to the given number of sections and then apply the transformation to a matrix of recurrences described before."
   ]
  },
  {
   "cell_type": "code",
   "execution_count": 20,
   "metadata": {
    "vscode": {
     "languageId": "python"
    }
   },
   "outputs": [
    {
     "data": {
      "text/html": [
       "<html>\\(\\displaystyle \\text{Compatibility condition with shape (A=0, B=1, t=3):}\\\\\\left\\{\\begin{array}{rl} L \\cdot P_{ 3 k + 0 } & = \\left( 3 \\, k \\right) P_{ 3 k } + \\left( 3 \\, k + 1 \\right) P_{ 3 k + 1 } \\\\ L \\cdot P_{ 3 k + 1 } & = \\left( 3 \\, k + 1 \\right) P_{ 3 k + 1 } + \\left( 3 \\, k + 2 \\right) P_{ 3 k + 2 } \\\\ L \\cdot P_{ 3 k + 2 } & = \\left( 3 \\, k + 2 \\right) P_{ 3 k + 2 } + \\left( 3 \\, k + 3 \\right) P_{ 3 k + 3 } \\\\ \\end{array}\\right.\\)</html>"
      ],
      "text/latex": [
       "$\\displaystyle \\text{Compatibility condition with shape (A=0, B=1, t=3):}\\\\\\left\\{\\begin{array}{rl} L \\cdot P_{ 3 k + 0 } & = \\left( 3 \\, k \\right) P_{ 3 k } + \\left( 3 \\, k + 1 \\right) P_{ 3 k + 1 } \\\\ L \\cdot P_{ 3 k + 1 } & = \\left( 3 \\, k + 1 \\right) P_{ 3 k + 1 } + \\left( 3 \\, k + 2 \\right) P_{ 3 k + 2 } \\\\ L \\cdot P_{ 3 k + 2 } & = \\left( 3 \\, k + 2 \\right) P_{ 3 k + 2 } + \\left( 3 \\, k + 3 \\right) P_{ 3 k + 3 } \\\\ \\end{array}\\right.$"
      ],
      "text/plain": [
       "Compatibility condition (0, 1, 3) with following coefficient matrix:\n",
       "[    3*k 3*k + 1]\n",
       "[3*k + 1 3*k + 2]\n",
       "[3*k + 2 3*k + 3]"
      ]
     },
     "execution_count": 20,
     "metadata": {},
     "output_type": "execute_result"
    }
   ],
   "source": [
    "BinomialBasis.compatibility(\"n\").in_sections(3)"
   ]
  },
  {
   "cell_type": "code",
   "execution_count": 21,
   "metadata": {
    "vscode": {
     "languageId": "python"
    }
   },
   "outputs": [
    {
     "data": {
      "text/html": [
       "<html>\\(\\displaystyle k \\mathit{Ski} + k\\)</html>"
      ],
      "text/latex": [
       "$\\displaystyle k \\mathit{Ski} + k$"
      ],
      "text/plain": [
       "k*Ski + k"
      ]
     },
     "execution_count": 21,
     "metadata": {},
     "output_type": "execute_result"
    }
   ],
   "source": [
    "BinomialBasis.recurrence('n', output=\"ore_double\")"
   ]
  },
  {
   "cell_type": "code",
   "execution_count": 22,
   "metadata": {
    "vscode": {
     "languageId": "python"
    }
   },
   "outputs": [
    {
     "data": {
      "text/html": [
       "<html>\\(\\displaystyle \\left(\\begin{array}{rrr}\n",
       "3 k & 0 & 3 k \\mathit{Ski} \\\\\n",
       "3 k + 1 & 3 k + 1 & 0 \\\\\n",
       "0 & 3 k + 2 & 3 k + 2\n",
       "\\end{array}\\right)\\)</html>"
      ],
      "text/latex": [
       "$\\displaystyle \\left(\\begin{array}{rrr}\n",
       "3 k & 0 & 3 k \\mathit{Ski} \\\\\n",
       "3 k + 1 & 3 k + 1 & 0 \\\\\n",
       "0 & 3 k + 2 & 3 k + 2\n",
       "\\end{array}\\right)$"
      ],
      "text/plain": [
       "[    (3*k)         0 (3*k)*Ski]\n",
       "[(3*k + 1) (3*k + 1)         0]\n",
       "[        0 (3*k + 2) (3*k + 2)]"
      ]
     },
     "execution_count": 22,
     "metadata": {},
     "output_type": "execute_result"
    }
   ],
   "source": [
    "BinomialBasis.recurrence('n', 3, output=\"ore_double\")"
   ]
  },
  {
   "cell_type": "markdown",
   "metadata": {
    "jp-MarkdownHeadingCollapsed": true,
    "tags": []
   },
   "source": [
    "## 5. Product basis"
   ]
  },
  {
   "cell_type": "markdown",
   "metadata": {},
   "source": [
    "Petkovšek works with a type of basis that is composed with products of simpler basis. Namely with binomial basis. Let $\\basis_1,\\dots,\\basis_m$ be basis of $\\kk[[x]]$, we then define the new set:\n",
    "$$Q_{km+r} = \\prod_{i=1}^r P_{k+1}^{(i)} \\prod_{i=r+1}^mP_k^{(i)}.$$\n",
    "\n",
    "It is shown in Theorem 2 that $\\basis = \\prod \\basis_i$ is a factorial basis when all $\\basis_i$ are factorial. This provides that $X$ is $(0,1)$-compatible with $\\basis$. Moreover, he shown that if $L$ is a ring homomorphism over $\\kk[x]$, then $L$ is compatible with $\\basis$. We can show also that if $L$ is a derivation over $\\kk[[x]]$, then $L$ is also compatible with $\\basis$.\n",
    "\n",
    "This is a clear case where the compatibilities and other operations over the Product basis must be splitted into sections. In fact, this can be done in a more generic case (see below the section describing the Shuffled Basis). We know show a simple case where all the compatibilities of the factors have exactly one section (just as an illutration on how the reasoning works)."
   ]
  },
  {
   "cell_type": "markdown",
   "metadata": {
    "tags": []
   },
   "source": [
    "### 5.1 Extending compatibility of $X$"
   ]
  },
  {
   "cell_type": "markdown",
   "metadata": {},
   "source": [
    "Extending the compatibility of $X$ is pretty simple since the multiplication of polynomials is commutative. Hence, if we pick $k \\in \\nn$ and $r \\in \\{0,\\dots,m-1\\}$, then we have:\n",
    "$$xQ_{km+r} = \\left(\\prod_{i=1}^{r}P_{k+1}^{(i)}\\right)(xP_{k}^{(r+1)})\\left(\\prod_{i=r+2}^mP_{k}^{(i)}\\right),$$\n",
    "then, using the fact that $xP_k^{(r+1)} = \\alpha_{0,0}^{(r+1)}(k)P_k^{(r+1)} + \\alpha_{0,1}^{(r+1)}(k)P_{k+1}^{(r+1)}$, we have that\n",
    "$$xQ_{km+r} = \\alpha_{0,0}^{(r+1)}(k)Q_{km+r} + \\alpha_{0,1}^{(r+1)}(k)Q_{km+r+1},$$\n",
    "so we can conclude that:\n",
    "$$\\tilde{\\alpha}_{r,j}(k) = \\alpha_{0,i}^{(r+1)}(k).$$"
   ]
  },
  {
   "cell_type": "markdown",
   "metadata": {
    "tags": []
   },
   "source": [
    "### 5.2 Extending compatibility of endomorphisms"
   ]
  },
  {
   "cell_type": "markdown",
   "metadata": {},
   "source": [
    "Let $L$ be an endomorphism of $K[x]$, i.e., $L(PQ) = L(P)L(Q)$ for any pair of polynomials. Then we can follow the prove of compatibility on the product basis:\n",
    "\n",
    "* Proving **C.1**: given $Q_n$, we can expand it in terms of the $j$th factor basis:\n",
    "  $$Q_n = \\sum_{i=0}^nq_{n,i}P_n^{(j)},$$\n",
    "  and applying $L$ to this expression we get\n",
    "  $$L(Q_n) = \\sum_{i=0}^n q_{n,i}\\sum_{k=-A_j}^{B_j} \\alpha_{0,k}^{(j)}(i) P_{i+k},$$j\n",
    "  and a simple scan of that last expression shows that $\\deg(L(Q_n)) \\leq n + B_j$. As this hold for all $j = 1,...,m$, then we can conclude $\\deg(L(Q_n)) \\leq n+\\min(B_j)$. So $B=\\min(B_j : 1 \\leq j \\leq m)$.\n",
    "  \n",
    "  ***REMARK:** This proof only uses that $L$ is compatible with all the factors of $\\basis$.*\n",
    "  \n",
    "* Proving **C.2**: if we apply directly $L$ to the product expression of $Q_n$ for $n = km+r$, we obtain:\n",
    "  $$L(Q_n) = \\left(\\prod_{i=1}^r \\sum_{l=-A_i}^{B_i} \\alpha_{0,l}^{(i)}(k+1)P_{k+1+l}^{(i)}\\right) \\left(\\prod_{i=r+1}^{m} \\sum_{l = A_i}^{B_l} \\alpha_{0,l}^{(i)}(k)P_{k+l}^{(i)}\\right).$$\n",
    "  \n",
    "  If we expand this expression and see the summands, we can see they involve some product of elements from the factor basis. In fact, the minimal index we see in each case is $P_{k-A_i}^{(i)}$. Then, using the fact that all the basis are factorial, we have that for $A = \\max(A_j : 1 \\leq j \\leq m)$, we have:\n",
    "  $$Q_{n-mA} = \\prod_{i=1}^r P_{k-A+1}^{(i)} \\prod_{i=r+1}^mP_{k-A}^{(i)} | L(Q_n).$$\n",
    "  \n",
    "This two points prove that $L$ is $(mA, B)$-compatible with the product basis."
   ]
  },
  {
   "cell_type": "markdown",
   "metadata": {},
   "source": [
    "##### How is it implemented?"
   ]
  },
  {
   "cell_type": "markdown",
   "metadata": {},
   "source": [
    "In order to get a constructive approach for this prove, we need to recall what we discussed in Section 3: we need to construct the division $L(Q_n)/Q_{n-mA}$. As usual, and for later use, we will consider $n = km+r$ and each of the $r$ cases will be taken separately.\n",
    "\n",
    "If we analyze the quotient we want to study, we realize that:\n",
    "$$\\frac{L \\cdot Q_{km+r}}{Q_{km+r-mA}} = \\prod_{i=1}^r\\left(\\frac{L \\cdot P_{k+1}^{(i)}}{P_{k+1-A}^{(i)}}\\right)\\prod_{i=r+1}^m\\left(\\frac{L \\cdot P_{k}^{(i)}}{P_{k-A}}\\right).$$\n",
    "Each of these quotients can be coputed explicitly using the method ``compatible_division`` for each of the factorial basis, \n",
    "obtaining then that:\n",
    "$$\\frac{L \\cdot Q_{km+r}}{Q_{km+r-mA}} = \\prod_{i=1}^r D_{0,A}^{(i)}(k+1)\\prod_{i=r+1}^{m} D_{0,A}^{(i)}(k) \\in \\mathbb{K}[x].$$\n",
    "\n",
    "Moreover, we can also compute the corresponding *increasing basis* from a fixed $n = km+r$. Hence we can apply the corresponding change of coordinates to get the coefficients $\\alpha_{r,j}(k)$. This provides directly the compatibility tuple desired.\n",
    "\n",
    "* When creating a Product Basis, the user can specify the names of all the endomorphism he wants to compute the compatibility matrix. See the documentation of `ProductBasis?` for further information."
   ]
  },
  {
   "cell_type": "markdown",
   "metadata": {
    "tags": []
   },
   "source": [
    "### 5.3 Extending compatibility of derivations"
   ]
  },
  {
   "cell_type": "markdown",
   "metadata": {},
   "source": [
    "Let $L$ be a derivation of $K[x]$, i.e., $L(PQ) = L(P)Q + PL(Q)$ for any pair of polynomials. Then we can follow the prove of compatibility on the product basis:\n",
    "\n",
    "* Proving **C.1**: exactly the same proof as for endomorhisms (see the remark above). Then $\\deg(L(Q_n)) \\leq n + B$ where $B = \\min(B_j : 1 \\leq j \\leq m)$.\n",
    "  \n",
    "* Proving **C.2**: if we apply directly $L$ to the product expression of $Q_n$ for $n = km+r$, we obtain a summation of several terms:\n",
    "  $$L(Q_n) = \\sum_{i=1}^r L(P_{k+1}^{(i)})\\frac{Q_n}{P_{k+1}^{(i)}} \\sum_{i=r+1}^m L(P_{k}^{(i)})\\frac{Q_n}{P_{k}^{(i)}}.$$\n",
    "  \n",
    "  Take $A = \\max(A_j : 1 \\leq j \\leq m)$. We will show now that $Q_{n-Am}$ divides $L(Q_n)$ analyzing the divisibility of each of the summands. Let $i \\leq r$:\n",
    "  $$\\frac{L(P_{k+1}^{(i)})Q_n}{Q_{n-mA}P_{k+1}^{(i)}}$$\n",
    "  is a polynomial because the $i$th factor of $Q_{n-mA}$ (which is $P_{k+1-A}$) divides $L(P_{k+1}^{(i)})$ by th compatibility of $L$ with $\\basis_i$. The $i$th factor of $Q_n$ is cancelled by $P_{k+1}^{(i)}$ and all the other factors are cancelled by $Q_{n-mA}$ since all the other basis are factorial.\n",
    "  \n",
    "  We can argue similarly for any $i \\in \\{r+1,\\ldots m\\}$. Hence $Q_{n-mA}$ divides $L(Q_n)$ for all $n \\in \\mathbb{N}$.\n",
    "  \n",
    "This two points prove that $L$ is $(mA, B)$-compatible with the product basis."
   ]
  },
  {
   "cell_type": "markdown",
   "metadata": {},
   "source": [
    "##### How is it implemented?"
   ]
  },
  {
   "cell_type": "markdown",
   "metadata": {},
   "source": [
    "In order to get a constructive approach for this prove, we need to recall what we discussed in Section 3: we need to construct the division $L(Q_n)/Q_{n-mA}$. As usual, and for later use, we will consider $n = km+r$ and each of the $r$ cases will be taken separately.\n",
    "\n",
    "Following the proof we have written above, the quotient of $L(Q_n)/Q_{n-mA}$ has a very special shape. More precisely:\n",
    "\n",
    "$$\\frac{L \\cdot Q_{km+r}}{Q_{(k-A)m + r}} = \n",
    "\\sum_{i=1}^r \\left(D_{0,A}^{(i)}(k+1)\\prod_{j\\neq i, j = 1}^{r} I_{k+1-A,A}^{(j)} \\prod_{j = r+1}^m I_{k-A,A}^{(j)}\\right) + \n",
    "\\sum_{i=r+1}^m \\left(D_{0,A}^{(i)}(k)\\prod_{j = 1}^{r} I_{k+1-A,A}^{(j)} \\prod_{j\\neq i, j = r+1}^m I_{k-A,A}^{(j)}\\right)$$\n",
    "\n",
    "where $D_{i,j}(k)$ can be computed with the method ``compatible_division`` for each basis and the $I_{i,j}$ can be computed with the method ``increasing_polynomial`` for each basis. This yields a polynomial that can be transformed into a compatibility condition using the ideas of method ``equiv_CtD``.\n",
    "\n",
    "* When creating a Product Basis, the user can specify the names of all the derivations he wants to compute the compatibility matrix. See the documentation of `ProductBasis?` for further information."
   ]
  },
  {
   "cell_type": "markdown",
   "metadata": {},
   "source": [
    "##### Example 6"
   ]
  },
  {
   "cell_type": "markdown",
   "metadata": {},
   "source": [
    "In this example, Petkovšek studied several product of binomial basis and their compatibilities. Here we can see we can extract the same information automatically using our package:"
   ]
  },
  {
   "cell_type": "code",
   "execution_count": 25,
   "metadata": {},
   "outputs": [
    {
     "data": {
      "text/html": [
       "<html>\\(\\displaystyle \\text{Compatibility condition with shape (A=6, B=0, t=2):}\\\\\\left\\{\\begin{array}{rl} L \\cdot P_{ 2 k + 0 } & = \\left( \\frac{2 \\, {\\left(2 \\, k - 3\\right)}}{9 \\, {\\left(k - 1\\right)}} \\right) P_{ 2 k - 5 } + \\left( \\frac{211 \\, k^{2} - 374 \\, k + 120}{36 \\, {\\left(k^{2} - k\\right)}} \\right) P_{ 2 k - 4 } + \\left( \\frac{131 \\, k - 64}{12 \\, k} \\right) P_{ 2 k - 3 } + \\left( \\frac{3 \\, {\\left(7 \\, k - 3\\right)}}{2 \\, k} \\right) P_{ 2 k - 2 } + \\left( 6 \\right) P_{ 2 k - 1 } + \\left( 1 \\right) P_{ 2 k } \\\\ L \\cdot P_{ 2 k + 1 } & = \\left( -\\frac{2 \\, {\\left(2 \\, k^{2} - 3 \\, k\\right)}}{27 \\, {\\left(k^{2} - 1\\right)}} \\right) P_{ 2 k - 5 } + \\left( \\frac{4 \\, {\\left(2 \\, k^{2} - 7 \\, k + 6\\right)}}{27 \\, {\\left(k^{2} - 1\\right)}} \\right) P_{ 2 k - 4 } + \\left( \\frac{2 \\, {\\left(10 \\, k^{2} - 6 \\, k - 1\\right)}}{9 \\, {\\left(k^{2} + k\\right)}} \\right) P_{ 2 k - 3 } + \\left( \\frac{131 \\, k^{2} - 6 \\, k - 17}{18 \\, {\\left(k^{2} + k\\right)}} \\right) P_{ 2 k - 2 } + \\left( \\frac{17 \\, k + 7}{2 \\, {\\left(k + 1\\right)}} \\right) P_{ 2 k - 1 } + \\left( \\frac{2 \\, {\\left(2 \\, k + 1\\right)}}{k + 1} \\right) P_{ 2 k } + \\left( 1 \\right) P_{ 2 k + 1 } \\\\ \\end{array}\\right.\\)</html>"
      ],
      "text/latex": [
       "$\\displaystyle \\text{Compatibility condition with shape (A=6, B=0, t=2):}\\\\\\left\\{\\begin{array}{rl} L \\cdot P_{ 2 k + 0 } & = \\left( \\frac{2 \\, {\\left(2 \\, k - 3\\right)}}{9 \\, {\\left(k - 1\\right)}} \\right) P_{ 2 k - 5 } + \\left( \\frac{211 \\, k^{2} - 374 \\, k + 120}{36 \\, {\\left(k^{2} - k\\right)}} \\right) P_{ 2 k - 4 } + \\left( \\frac{131 \\, k - 64}{12 \\, k} \\right) P_{ 2 k - 3 } + \\left( \\frac{3 \\, {\\left(7 \\, k - 3\\right)}}{2 \\, k} \\right) P_{ 2 k - 2 } + \\left( 6 \\right) P_{ 2 k - 1 } + \\left( 1 \\right) P_{ 2 k } \\\\ L \\cdot P_{ 2 k + 1 } & = \\left( -\\frac{2 \\, {\\left(2 \\, k^{2} - 3 \\, k\\right)}}{27 \\, {\\left(k^{2} - 1\\right)}} \\right) P_{ 2 k - 5 } + \\left( \\frac{4 \\, {\\left(2 \\, k^{2} - 7 \\, k + 6\\right)}}{27 \\, {\\left(k^{2} - 1\\right)}} \\right) P_{ 2 k - 4 } + \\left( \\frac{2 \\, {\\left(10 \\, k^{2} - 6 \\, k - 1\\right)}}{9 \\, {\\left(k^{2} + k\\right)}} \\right) P_{ 2 k - 3 } + \\left( \\frac{131 \\, k^{2} - 6 \\, k - 17}{18 \\, {\\left(k^{2} + k\\right)}} \\right) P_{ 2 k - 2 } + \\left( \\frac{17 \\, k + 7}{2 \\, {\\left(k + 1\\right)}} \\right) P_{ 2 k - 1 } + \\left( \\frac{2 \\, {\\left(2 \\, k + 1\\right)}}{k + 1} \\right) P_{ 2 k } + \\left( 1 \\right) P_{ 2 k + 1 } \\\\ \\end{array}\\right.$"
      ],
      "text/plain": [
       "Compatibility condition (6, 0, 2) with following coefficient matrix:\n",
       "[                                       0                    (4/9*k - 2/3)/(k - 1) (211/36*k^2 - 187/18*k + 10/3)/(k^2 - k)                      (131/12*k - 16/3)/k                         (21/2*k - 9/2)/k                                        6                                        1]\n",
       "[           (-4/27*k^2 + 2/9*k)/(k^2 - 1)     (8/27*k^2 - 28/27*k + 8/9)/(k^2 - 1)       (20/9*k^2 - 4/3*k - 2/9)/(k^2 + k)   (131/18*k^2 - 1/3*k - 17/18)/(k^2 + k)                   (17/2*k + 7/2)/(k + 1)                        (4*k + 2)/(k + 1)                                        1]"
      ]
     },
     "execution_count": 25,
     "metadata": {},
     "output_type": "execute_result"
    }
   ],
   "source": [
    "example_6a = ProductBasis([BinomialTypeBasis(2,0,QQ), BinomialTypeBasis(3,0,QQ)])\n",
    "example_6a.compatibility('E')"
   ]
  },
  {
   "cell_type": "code",
   "execution_count": 26,
   "metadata": {},
   "outputs": [
    {
     "data": {
      "text/html": [
       "<html>\\(\\displaystyle \\text{Compatibility condition with shape (A=6, B=0, t=2):}\\\\\\left\\{\\begin{array}{rl} L \\cdot P_{ 2 k + 0 } & = \\left( \\frac{2 \\, {\\left(2 \\, k^{2} - 25 \\, k + 77\\right)}}{9 \\, {\\left(k^{2} - k\\right)}} \\right) P_{ 2 k - 5 } + \\left( \\frac{211 \\, k^{2} + 330 \\, k + 791}{36 \\, {\\left(k^{2} - k\\right)}} \\right) P_{ 2 k - 4 } + \\left( \\frac{131 \\, k - 97}{12 \\, k} \\right) P_{ 2 k - 3 } + \\left( \\frac{21 \\, k + 13}{2 \\, k} \\right) P_{ 2 k - 2 } + \\left( 6 \\right) P_{ 2 k - 1 } + \\left( 1 \\right) P_{ 2 k } \\\\ L \\cdot P_{ 2 k + 1 } & = \\left( -\\frac{2 \\, {\\left(2 \\, k^{3} - 3 \\, k^{2} - 198 \\, k + 847\\right)}}{27 \\, {\\left(k^{3} - k\\right)}} \\right) P_{ 2 k - 5 } + \\left( \\frac{4 \\, {\\left(2 \\, k^{3} - 29 \\, k^{2} + 127 \\, k - 154\\right)}}{27 \\, {\\left(k^{3} - k\\right)}} \\right) P_{ 2 k - 4 } + \\left( \\frac{4 \\, {\\left(5 \\, k^{2} - 47 \\, k + 104\\right)}}{9 \\, {\\left(k^{2} + k\\right)}} \\right) P_{ 2 k - 3 } + \\left( \\frac{131 \\, k^{2} - 39 \\, k + 214}{18 \\, {\\left(k^{2} + k\\right)}} \\right) P_{ 2 k - 2 } + \\left( \\frac{17 \\, k - 15}{2 \\, {\\left(k + 1\\right)}} \\right) P_{ 2 k - 1 } + \\left( \\frac{2 \\, {\\left(2 \\, k + 1\\right)}}{k + 1} \\right) P_{ 2 k } + \\left( 1 \\right) P_{ 2 k + 1 } \\\\ \\end{array}\\right.\\)</html>"
      ],
      "text/latex": [
       "$\\displaystyle \\text{Compatibility condition with shape (A=6, B=0, t=2):}\\\\\\left\\{\\begin{array}{rl} L \\cdot P_{ 2 k + 0 } & = \\left( \\frac{2 \\, {\\left(2 \\, k^{2} - 25 \\, k + 77\\right)}}{9 \\, {\\left(k^{2} - k\\right)}} \\right) P_{ 2 k - 5 } + \\left( \\frac{211 \\, k^{2} + 330 \\, k + 791}{36 \\, {\\left(k^{2} - k\\right)}} \\right) P_{ 2 k - 4 } + \\left( \\frac{131 \\, k - 97}{12 \\, k} \\right) P_{ 2 k - 3 } + \\left( \\frac{21 \\, k + 13}{2 \\, k} \\right) P_{ 2 k - 2 } + \\left( 6 \\right) P_{ 2 k - 1 } + \\left( 1 \\right) P_{ 2 k } \\\\ L \\cdot P_{ 2 k + 1 } & = \\left( -\\frac{2 \\, {\\left(2 \\, k^{3} - 3 \\, k^{2} - 198 \\, k + 847\\right)}}{27 \\, {\\left(k^{3} - k\\right)}} \\right) P_{ 2 k - 5 } + \\left( \\frac{4 \\, {\\left(2 \\, k^{3} - 29 \\, k^{2} + 127 \\, k - 154\\right)}}{27 \\, {\\left(k^{3} - k\\right)}} \\right) P_{ 2 k - 4 } + \\left( \\frac{4 \\, {\\left(5 \\, k^{2} - 47 \\, k + 104\\right)}}{9 \\, {\\left(k^{2} + k\\right)}} \\right) P_{ 2 k - 3 } + \\left( \\frac{131 \\, k^{2} - 39 \\, k + 214}{18 \\, {\\left(k^{2} + k\\right)}} \\right) P_{ 2 k - 2 } + \\left( \\frac{17 \\, k - 15}{2 \\, {\\left(k + 1\\right)}} \\right) P_{ 2 k - 1 } + \\left( \\frac{2 \\, {\\left(2 \\, k + 1\\right)}}{k + 1} \\right) P_{ 2 k } + \\left( 1 \\right) P_{ 2 k + 1 } \\\\ \\end{array}\\right.$"
      ],
      "text/plain": [
       "Compatibility condition (6, 0, 2) with following coefficient matrix:\n",
       "[                                                    0                  (4/9*k^2 - 50/9*k + 154/9)/(k^2 - k)              (211/36*k^2 + 55/6*k + 791/36)/(k^2 - k)                                  (131/12*k - 97/12)/k                                     (21/2*k + 13/2)/k                                                     6                                                     1]\n",
       "[   (-4/27*k^3 + 2/9*k^2 + 44/3*k - 1694/27)/(k^3 - k) (8/27*k^3 - 116/27*k^2 + 508/27*k - 616/27)/(k^3 - k)                (20/9*k^2 - 188/9*k + 416/9)/(k^2 + k)               (131/18*k^2 - 13/6*k + 107/9)/(k^2 + k)                               (17/2*k - 15/2)/(k + 1)                                     (4*k + 2)/(k + 1)                                                     1]"
      ]
     },
     "execution_count": 26,
     "metadata": {},
     "output_type": "execute_result"
    }
   ],
   "source": [
    "example_6b = ProductBasis([BinomialTypeBasis(2,-1,QQ), BinomialTypeBasis(3,4,QQ)])\n",
    "example_6b.compatibility('E')"
   ]
  },
  {
   "cell_type": "code",
   "execution_count": 27,
   "metadata": {
    "vscode": {
     "languageId": "python"
    }
   },
   "outputs": [
    {
     "data": {
      "text/html": [
       "<html>\\(\\displaystyle \\text{Compatibility condition with shape (A=8, B=0, t=2):}\\\\\\left\\{\\begin{array}{rl} L \\cdot P_{ 2 k + 0 } & = \\left( 1 \\right) P_{ 2 k - 8 } + \\left( \\frac{4 \\, {\\left(2 \\, k^{3} - 9 \\, k^{2} + 11 \\, k - 3\\right)}}{k^{3} - 3 \\, k^{2} + 2 \\, k} \\right) P_{ 2 k - 7 } + \\left( \\frac{4 \\, {\\left(7 \\, k^{3} - 28 \\, k^{2} + 32 \\, k - 9\\right)}}{k^{3} - 3 \\, k^{2} + 2 \\, k} \\right) P_{ 2 k - 6 } + \\left( \\frac{8 \\, {\\left(7 \\, k^{2} - 14 \\, k + 5\\right)}}{k^{2} - k} \\right) P_{ 2 k - 5 } + \\left( \\frac{2 \\, {\\left(35 \\, k^{2} - 63 \\, k + 22\\right)}}{k^{2} - k} \\right) P_{ 2 k - 4 } + \\left( \\frac{28 \\, {\\left(2 \\, k - 1\\right)}}{k} \\right) P_{ 2 k - 3 } + \\left( \\frac{4 \\, {\\left(7 \\, k - 3\\right)}}{k} \\right) P_{ 2 k - 2 } + \\left( 8 \\right) P_{ 2 k - 1 } + \\left( 1 \\right) P_{ 2 k } \\\\ L \\cdot P_{ 2 k + 1 } & = \\left( \\frac{k - 3}{k + 1} \\right) P_{ 2 k - 7 } + \\left( \\frac{8 \\, {\\left(k - 1\\right)}}{k + 1} \\right) P_{ 2 k - 6 } + \\left( \\frac{4 \\, {\\left(7 \\, k^{3} - 14 \\, k^{2} + 4 \\, k + 1\\right)}}{k^{3} - k} \\right) P_{ 2 k - 5 } + \\left( \\frac{4 \\, {\\left(14 \\, k^{3} - 21 \\, k^{2} + 3 \\, k + 2\\right)}}{k^{3} - k} \\right) P_{ 2 k - 4 } + \\left( \\frac{2 \\, {\\left(35 \\, k^{2} - 7 \\, k - 6\\right)}}{k^{2} + k} \\right) P_{ 2 k - 3 } + \\left( \\frac{8 \\, {\\left(7 \\, k^{2} - 1\\right)}}{k^{2} + k} \\right) P_{ 2 k - 2 } + \\left( \\frac{4 \\, {\\left(7 \\, k + 3\\right)}}{k + 1} \\right) P_{ 2 k - 1 } + \\left( \\frac{4 \\, {\\left(2 \\, k + 1\\right)}}{k + 1} \\right) P_{ 2 k } + \\left( 1 \\right) P_{ 2 k + 1 } \\\\ \\end{array}\\right.\\)</html>"
      ],
      "text/latex": [
       "$\\displaystyle \\text{Compatibility condition with shape (A=8, B=0, t=2):}\\\\\\left\\{\\begin{array}{rl} L \\cdot P_{ 2 k + 0 } & = \\left( 1 \\right) P_{ 2 k - 8 } + \\left( \\frac{4 \\, {\\left(2 \\, k^{3} - 9 \\, k^{2} + 11 \\, k - 3\\right)}}{k^{3} - 3 \\, k^{2} + 2 \\, k} \\right) P_{ 2 k - 7 } + \\left( \\frac{4 \\, {\\left(7 \\, k^{3} - 28 \\, k^{2} + 32 \\, k - 9\\right)}}{k^{3} - 3 \\, k^{2} + 2 \\, k} \\right) P_{ 2 k - 6 } + \\left( \\frac{8 \\, {\\left(7 \\, k^{2} - 14 \\, k + 5\\right)}}{k^{2} - k} \\right) P_{ 2 k - 5 } + \\left( \\frac{2 \\, {\\left(35 \\, k^{2} - 63 \\, k + 22\\right)}}{k^{2} - k} \\right) P_{ 2 k - 4 } + \\left( \\frac{28 \\, {\\left(2 \\, k - 1\\right)}}{k} \\right) P_{ 2 k - 3 } + \\left( \\frac{4 \\, {\\left(7 \\, k - 3\\right)}}{k} \\right) P_{ 2 k - 2 } + \\left( 8 \\right) P_{ 2 k - 1 } + \\left( 1 \\right) P_{ 2 k } \\\\ L \\cdot P_{ 2 k + 1 } & = \\left( \\frac{k - 3}{k + 1} \\right) P_{ 2 k - 7 } + \\left( \\frac{8 \\, {\\left(k - 1\\right)}}{k + 1} \\right) P_{ 2 k - 6 } + \\left( \\frac{4 \\, {\\left(7 \\, k^{3} - 14 \\, k^{2} + 4 \\, k + 1\\right)}}{k^{3} - k} \\right) P_{ 2 k - 5 } + \\left( \\frac{4 \\, {\\left(14 \\, k^{3} - 21 \\, k^{2} + 3 \\, k + 2\\right)}}{k^{3} - k} \\right) P_{ 2 k - 4 } + \\left( \\frac{2 \\, {\\left(35 \\, k^{2} - 7 \\, k - 6\\right)}}{k^{2} + k} \\right) P_{ 2 k - 3 } + \\left( \\frac{8 \\, {\\left(7 \\, k^{2} - 1\\right)}}{k^{2} + k} \\right) P_{ 2 k - 2 } + \\left( \\frac{4 \\, {\\left(7 \\, k + 3\\right)}}{k + 1} \\right) P_{ 2 k - 1 } + \\left( \\frac{4 \\, {\\left(2 \\, k + 1\\right)}}{k + 1} \\right) P_{ 2 k } + \\left( 1 \\right) P_{ 2 k + 1 } \\\\ \\end{array}\\right.$"
      ],
      "text/plain": [
       "Compatibility condition (8, 0, 2) with following coefficient matrix:\n",
       "[                                                  1    (8*k^3 - 36*k^2 + 44*k - 12)/(k^3 - 3*k^2 + 2*k) (28*k^3 - 112*k^2 + 128*k - 36)/(k^3 - 3*k^2 + 2*k)                     (56*k^2 - 112*k + 40)/(k^2 - k)                     (70*k^2 - 126*k + 44)/(k^2 - k)                                       (56*k - 28)/k                                       (28*k - 12)/k                                                   8                                                   1]\n",
       "[                                    (k - 3)/(k + 1)                                   (8*k - 8)/(k + 1)              (28*k^3 - 56*k^2 + 16*k + 4)/(k^3 - k)              (56*k^3 - 84*k^2 + 12*k + 8)/(k^3 - k)                      (70*k^2 - 14*k - 12)/(k^2 + k)                              (56*k^2 - 8)/(k^2 + k)                                 (28*k + 12)/(k + 1)                                   (8*k + 4)/(k + 1)                                                   1]"
      ]
     },
     "execution_count": 27,
     "metadata": {},
     "output_type": "execute_result"
    }
   ],
   "source": [
    "example_6c = ProductBasis([BinomialTypeBasis(4,0,QQ), BinomialTypeBasis(4,0,QQ)])\n",
    "example_6c.compatibility('E')"
   ]
  },
  {
   "cell_type": "markdown",
   "metadata": {
    "tags": []
   },
   "source": [
    "## 6. The method `DefiniteSumSolutions`"
   ]
  },
  {
   "cell_type": "markdown",
   "metadata": {},
   "source": [
    "The method `DefiniteSumSolutions` presented in Petkovšek's paper can be now easily implemented using all the tools described above. This method i implemented in the subpackage ``pseries_basis.misc.misc``."
   ]
  },
  {
   "cell_type": "code",
   "execution_count": 28,
   "metadata": {
    "scrolled": true,
    "vscode": {
     "languageId": "python"
    }
   },
   "outputs": [
    {
     "name": "stdout",
     "output_type": "stream",
     "text": [
      "\n",
      "        Petkovšek's algorithm for transforming operators into recurrence equations.\n",
      "        \n",
      "        This method is the complete execution for the algorithm **DefiniteSumSolutions** described in\n",
      "        :doi:`10.1016/j.jsc.2022.11.002`. This methods takes an operator `L` and convert the problem\n",
      "        of being solution `L \\cdot y(n) = 0` to a recurrence equation assuming some hypergeometric\n",
      "        terms in the expansion.\n",
      "        \n",
      "        The operator must be a difference operator of `\\mathbb{Q}[x]<E>` where `E: n \\mapsto n+1`.\n",
      "        \n",
      "        This function does not check the nature of the generator, so using this algorithm with different \n",
      "        types of operators may lead to some inconsistent results.\n",
      "        \n",
      "        INPUT:\n",
      "\n",
      "        * ``operator``: difference operator to be transformed.\n",
      "        * ``input``: the coefficients of the binomial coefficients we assume appear in the expansion\n",
      "          of the solutions. This input can be given with the following formats:\n",
      "          - ``a_1,a_2,...,a_m,b_1,b_2,...,b_m``: an unrolled list of `2m` elements.\n",
      "          - ``[a_1,a_2,...,a_m,b_1,b_2,...,b_m]``: a compress list of `2m` elements.\n",
      "          - ``[a_1,...,a_m],[b_1,...,b_m]``: two lists of `m` elements.\n",
      "\n",
      "        OUTPUT:\n",
      "\n",
      "        An operator `\\tilde{L}` such that if a sequence `(c_k)_k` satisfies `L \\cdot (c_k)_k = 0` then \n",
      "        the sequence\n",
      "\n",
      "        .. MATH::\n",
      "\n",
      "            y(n) = \\sum_{k \\geq 0}c_k\\prod{i=1}^m \\binom{a_in+b_i}{k}\n",
      "\n",
      "        satisfies `L \\cdot y(n) = 0`.\n",
      "\n",
      "        EXAMPLES::\n",
      "\n",
      "            sage: from pseries_basis import *\n",
      "            sage: from ore_algebra import OreAlgebra\n",
      "            sage: R.<n> = QQ[]; OE.<E> = OreAlgebra(R, ('E', lambda p : p(n=n+1), lambda p : 0))\n",
      "            sage: #TODO DefiniteSumSolutions((n+1)*E - 2*(2*n+1), 1,1,0,0) ## output: Sk - 1\n",
      "            sage: example_2 = 4*(2*n+3)^2*(4*n+3)*E^2 - 2*(4*n+5)*(20*n^2+50*n+27)*E + 9*(4*n+7)*(n+1)^2\n",
      "            sage: #TODO DefiniteSumSolutions(example_2, 1,1,0,0) ## output: (k + 1/2)*Sk - 1/4*k - 1/4\n",
      "    \n"
     ]
    }
   ],
   "source": [
    "print(DefiniteSumSolutions.__doc__)"
   ]
  },
  {
   "cell_type": "markdown",
   "metadata": {},
   "source": [
    "##### Example 7"
   ]
  },
  {
   "cell_type": "markdown",
   "metadata": {},
   "source": [
    "In this example Petkovšek applies the method ``DefiniteSumSolutions`` to several operators obtaining diverse resutls:"
   ]
  },
  {
   "cell_type": "code",
   "execution_count": 2,
   "metadata": {
    "vscode": {
     "languageId": "python"
    }
   },
   "outputs": [
    {
     "data": {
      "text/html": [
       "<html>\\(\\displaystyle \\prod_{(0, 1)}\\left\\{ \\binom{n}{k} \\right\\}_{k \\in \\mathbb{N}}\\left\\{ \\binom{n}{k} \\right\\}_{k \\in \\mathbb{N}}\\)</html>"
      ],
      "text/latex": [
       "$\\displaystyle \\prod_{(0, 1)}\\left\\{ \\binom{n}{k} \\right\\}_{k \\in \\mathbb{N}}\\left\\{ \\binom{n}{k} \\right\\}_{k \\in \\mathbb{N}}$"
      ],
      "text/plain": [
       "Shuffled Basis (0, 1) of the basis:\n",
       "\t- Basis of Sequences over Rational Field: (binomial(n, k))\n",
       "\t- Basis of Sequences over Rational Field: (binomial(n, k))"
      ]
     },
     "execution_count": 2,
     "metadata": {},
     "output_type": "execute_result"
    }
   ],
   "source": [
    "example_7_basis = ProductBasis([BinomialBasis, BinomialBasis]);\n",
    "example_7_basis"
   ]
  },
  {
   "cell_type": "code",
   "execution_count": 3,
   "metadata": {
    "vscode": {
     "languageId": "python"
    }
   },
   "outputs": [
    {
     "data": {
      "text/html": [
       "<html>\\(\\displaystyle \\left(\\begin{array}{rr}\n",
       "k & k \\mathit{Ski} \\\\\n",
       "k + 1 & k\n",
       "\\end{array}\\right)\\)</html>"
      ],
      "text/latex": [
       "$\\displaystyle \\left(\\begin{array}{rr}\n",
       "k & k \\mathit{Ski} \\\\\n",
       "k + 1 & k\n",
       "\\end{array}\\right)$"
      ],
      "text/plain": [
       "[      k   k*Ski]\n",
       "[(k + 1)       k]"
      ]
     },
     "execution_count": 3,
     "metadata": {},
     "output_type": "execute_result"
    }
   ],
   "source": [
    "example_7_basis.recurrence('n')"
   ]
  },
  {
   "cell_type": "code",
   "execution_count": 4,
   "metadata": {
    "vscode": {
     "languageId": "python"
    }
   },
   "outputs": [
    {
     "data": {
      "text/html": [
       "<html>\\(\\displaystyle \\text{Compatibility condition with shape (A=0, B=1, t=2):}\\\\\\left\\{\\begin{array}{rl} L \\cdot P_{ 2 k + 0 } & = \\left( k \\right) P_{ 2 k } + \\left( k + 1 \\right) P_{ 2 k + 1 } \\\\ L \\cdot P_{ 2 k + 1 } & = \\left( k \\right) P_{ 2 k + 1 } + \\left( k + 1 \\right) P_{ 2 k + 2 } \\\\ \\end{array}\\right.\\)</html>"
      ],
      "text/latex": [
       "$\\displaystyle \\text{Compatibility condition with shape (A=0, B=1, t=2):}\\\\\\left\\{\\begin{array}{rl} L \\cdot P_{ 2 k + 0 } & = \\left( k \\right) P_{ 2 k } + \\left( k + 1 \\right) P_{ 2 k + 1 } \\\\ L \\cdot P_{ 2 k + 1 } & = \\left( k \\right) P_{ 2 k + 1 } + \\left( k + 1 \\right) P_{ 2 k + 2 } \\\\ \\end{array}\\right.$"
      ],
      "text/plain": [
       "Compatibility condition (0, 1, 2) with following coefficient matrix:\n",
       "[    k k + 1]\n",
       "[    k k + 1]"
      ]
     },
     "execution_count": 4,
     "metadata": {},
     "output_type": "execute_result"
    }
   ],
   "source": [
    "example_7_basis.compatibility('n')"
   ]
  },
  {
   "cell_type": "code",
   "execution_count": 5,
   "metadata": {
    "vscode": {
     "languageId": "python"
    }
   },
   "outputs": [
    {
     "data": {
      "text/html": [
       "<html>\\(\\displaystyle \\left(\\begin{array}{rr}\n",
       "\\mathit{Sk} + 1 & \\frac{2 k + 1}{k + 1} \\\\\n",
       "2 \\mathit{Sk} & \\left(\\frac{k + 1}{k + 2}\\right) \\mathit{Sk} + 1\n",
       "\\end{array}\\right)\\)</html>"
      ],
      "text/latex": [
       "$\\displaystyle \\left(\\begin{array}{rr}\n",
       "\\mathit{Sk} + 1 & \\frac{2 k + 1}{k + 1} \\\\\n",
       "2 \\mathit{Sk} & \\left(\\frac{k + 1}{k + 2}\\right) \\mathit{Sk} + 1\n",
       "\\end{array}\\right)$"
      ],
      "text/plain": [
       "[                Sk + 1      (2*k + 1)/(k + 1)]\n",
       "[                  2*Sk (k + 1)/(k + 2)*Sk + 1]"
      ]
     },
     "execution_count": 5,
     "metadata": {},
     "output_type": "execute_result"
    }
   ],
   "source": [
    "example_7_basis.recurrence('E')"
   ]
  },
  {
   "cell_type": "markdown",
   "metadata": {},
   "source": [
    "###### Example 7.1"
   ]
  },
  {
   "cell_type": "markdown",
   "metadata": {},
   "source": [
    "Here, Petkovšek considered the linear operator $L = (n+1)E - 2(2n+1)$ and applies its algorithm to get a recurrence equation $L'$ such that\n",
    "$$L'(c_k) = 0\\quad \\Rightarrow\\quad L\\left(\\sum_{k \\geq 0} c_k\\binom{n}{k}^2\\right) = 0.$$"
   ]
  },
  {
   "cell_type": "code",
   "execution_count": 6,
   "metadata": {},
   "outputs": [],
   "source": [
    "OE, (n, E) = get_recurrence_algebra(\"n\")"
   ]
  },
  {
   "cell_type": "code",
   "execution_count": 7,
   "metadata": {
    "vscode": {
     "languageId": "python"
    }
   },
   "outputs": [
    {
     "data": {
      "text/html": [
       "<html>\\(\\displaystyle \\mathit{Sk}^{2} - \\mathit{Sk}\\)</html>"
      ],
      "text/latex": [
       "$\\displaystyle \\mathit{Sk}^{2} - \\mathit{Sk}$"
      ],
      "text/plain": [
       "Sk^2 - Sk"
      ]
     },
     "execution_count": 7,
     "metadata": {},
     "output_type": "execute_result"
    }
   ],
   "source": [
    "example_7_1 = (n+1)*E - 2*(2*n+1);\n",
    "DefiniteSumSolutions(example_7_1, 1,1,0,0)"
   ]
  },
  {
   "cell_type": "markdown",
   "metadata": {},
   "source": [
    "Then we can conclude that the only solution of that form has $c_k = 1$, showing that\n",
    "$$\\left((n+1)E - 2(2x+1)\\right)\\cdot\\left(\\sum_{k\\geq 0} \\binom{n}{k}^2\\right) = 0,$$\n",
    "which makes complete sense, since\n",
    "$$\\sum_{k \\geq 0} \\binom{n}{k}^2 = \\binom{2n}{n}$$\n",
    "is annihilated by $L$."
   ]
  },
  {
   "cell_type": "markdown",
   "metadata": {},
   "source": [
    "###### Example 7.2"
   ]
  },
  {
   "cell_type": "markdown",
   "metadata": {},
   "source": [
    "In the last example of the paper, Petkovšek studies the following difference operator:\n",
    "    $$L = 4(2n+3)^2(4n+3)E^2 - 2(4n+5)(20n^2+50n+27)E + 9(4n+7)(n+1)^2.$$\n",
    "    \n",
    "Again, we are looking for a new recurrence equation $L'$ such that $L'(c_k) = 0$ implies that $L\\left(\\sum_{k\\geq 0} c_k \\binom{n}{k}^2\\right) = 0$."
   ]
  },
  {
   "cell_type": "code",
   "execution_count": 8,
   "metadata": {},
   "outputs": [
    {
     "data": {
      "text/html": [
       "<html>\\(\\displaystyle \\left(k + \\frac{3}{2}\\right) \\mathit{Sk}^{2} + \\left(-\\frac{1}{4} k - \\frac{1}{2}\\right) \\mathit{Sk}\\)</html>"
      ],
      "text/latex": [
       "$\\displaystyle \\left(k + \\frac{3}{2}\\right) \\mathit{Sk}^{2} + \\left(-\\frac{1}{4} k - \\frac{1}{2}\\right) \\mathit{Sk}$"
      ],
      "text/plain": [
       "(k + 3/2)*Sk^2 + (-1/4*k - 1/2)*Sk"
      ]
     },
     "execution_count": 8,
     "metadata": {},
     "output_type": "execute_result"
    }
   ],
   "source": [
    "example_7_2 = 4*(2*n+3)^2*(4*n+3)*E^2 - 2*(4*n+5)*(20*n^2+50*n+27)*E + 9*(4*n+7)*(n+1)^2;\n",
    "DefiniteSumSolutions(example_7_2, 1,1,0,0)"
   ]
  },
  {
   "cell_type": "markdown",
   "metadata": {},
   "source": [
    "Or, equivalently as a monic operator:\n",
    "$$L' = S_n - \\frac{n+1}{2(2n+1)}.$$\n",
    "\n",
    "Using other tools we can check that $h_k = \\frac{1}{\\binom{2k}{k}}$ is annihilated by $L'$, so we can conclude that the solution $(y_n)_{n\\geq 0} = \\left(\\sum_{k\\geq 0}c_k\\binom{n}{k}\\right)_{n\\geq 0}$ is the sequence\n",
    "$$y_n = \\sum_{k \\geq 0} \\frac{\\binom{x}{n}^2}{\\binom{2k}{k}}.$$"
   ]
  },
  {
   "cell_type": "markdown",
   "metadata": {
    "tags": []
   },
   "source": [
    "## 7. Shuffled basis"
   ]
  },
  {
   "cell_type": "markdown",
   "metadata": {},
   "source": [
    "We are going to condier now another type of generalization of the Product basis. Remember that for a Product basis, we started with a set of basis $\\basis_1,\\ldots,\\basis_m$ and we _interlaced_ them in an appropriate way, namely:\n",
    "    $$P_{qm+r}(x) = \\prod_{i=1}^{r}P_{i,q+1}(x) \\prod_{i=r+1}^{m}P_{i,q}(x).$$\n",
    "    \n",
    "If we consider polynomial basis and we look into the root sequence, we are interlecing the $m$ sequences of roots for each of the factors of our basis. But we could create a new sequence in a very different way. For example, if we have two sequences, we could create the following root sequence:\n",
    "    $$[\\rho_{1,1},\\rho_{1,2},\\rho_{2,1},\\rho_{1,3},\\rho_{1,4},\\rho_{2,2},\\ldots],$$\n",
    "i.e., we take two roots from the first basis and one root from the second basis. We could even mix them even more. In this section we are going to study this type of basis, that will allow us to build more examples automatically.\n",
    "\n",
    "**Definition:** Let $\\basis_0,\\ldots,\\basis_{F-1}$ be factorial basis and $\\mathbf{c} = (\\sigma_0,\\ldots,\\sigma_{m-1}) \\in \\{0,\\ldots, F-1\\}^m$. We define the $\\mathbf{c}$-sieved basis of $(\\basis_0,\\ldots,\\basis_{F-1})$ with the polynomials $Q_n(x)$ defined as follows (taking $n = km + r$):\n",
    "\n",
    "$$Q_n(x) = \\prod_{i=0}^{F-1}P_{e_i(n)}^{(i)}(x),$$\n",
    "\n",
    "where $e_i(n) = kS_i + s_i(r)$ where:\n",
    "* $s_i(r) = \\#\\{j \\in \\{0,\\ldots,r-1\\ :\\ \\sigma_r = i\\}$,\n",
    "* $S_i = s_i(m)$.\n",
    "\n",
    "This sieved basis do precisely the interlacing of root sequences that we were describing before. Namely, at step $n = km+r$ we add the next root of the basis $\\basis_{\\sigma_r}$. This generalizes the concept of **Product basis** since, when $m = F$ and $\\mathbf{c} = (0,1,\\ldots,F-1)$, we have that the $\\mathbf{c}$-sieved basis of $(\\basis_0,\\ldots,\\basis_{F-1})$ is exactly the Product basis of the basis $\\basis_0,\\ldots,\\basis_{F-1}$.\n",
    "\n",
    "**Lemma:** Let $\\basis_0,\\ldots,\\basis_{F-1}$ be factorial basis and $\\mathbf{c} = (\\sigma_0,\\ldots,\\sigma_{m-1}) \\in \\{0,\\ldots, F-1\\}^m$. The $\\mathbf{c}$-sieved basis of $(\\basis_0,\\ldots,\\basis_{F-1})$ is a factorial basis.\n",
    "\n",
    "*Proof:* let $n = km + r \\geq 1$ and $f = \\sigma_r$. Then, by definition, we have:\n",
    "$$\\frac{Q_{n}(x)}{Q_{n-1}(x)} = \\frac{P_{e_f(n)}^{(f)}(x)}{P_{e_f(n)-1}^{(f)}(x)} \\in \\mathbb{K}[x]_{\\leq 1}.$$\n",
    "\n",
    "The last we need to proof that $\\basis$ is a factorial basis is that the degree of the $n$-th element is exaclty $n$. This is equivalent to proof that $\\sum_{i=0}^{F-1} e_i(n) = n$ for all $n$. But this is clear since:\n",
    "* $\\sum_{i = 0}^{F-1} S_i = m$ by definition\n",
    "* $\\sum_{i = 0}^{F-1} s_i(r) = r$ by definition.\n",
    "\n",
    "Hence, putting these two pieces together we obtain for $n = km+r$:\n",
    "$$\\sum_{i=0}^{F-1} e_i(n) = \\sum_{i=0}^{F-1}\\left(kS_i + s_i(r) \\right) = km+r = n.$$\n",
    "\n",
    "**Fixed notation**: for the rest of this section, we will fix the following notation:\n",
    "* $\\basis_i = \\{P_n^{(i)}(x)\\}_n$ for $i = 0,\\ldots,F-1$ are factorial basis.\n",
    "* $\\mathbf{c} = (\\sigma_0,\\ldots,\\sigma_{m-1}) \\in \\{0,\\ldots,F-1\\}^m$\n",
    "* $\\basis$ is the $\\mathbf{c}$-sieved basis of $(\\basis_0,\\ldots,\\basis_{F-1})$."
   ]
  },
  {
   "cell_type": "markdown",
   "metadata": {
    "jp-MarkdownHeadingCollapsed": true,
    "tags": []
   },
   "source": [
    "### Extending the compatibility of multiplication by $X$"
   ]
  },
  {
   "cell_type": "markdown",
   "metadata": {},
   "source": [
    "Since the basis $\\basis$ is again a factorial basis, it is cler that it is $(0,1)$-compatible with the multiplication by $X$. Here we present how to compute this compatibility from the compatibility conditions of each of the factors $\\basis_i$.\n",
    "\n",
    "Let $\\basis_i$ be (0,1)-compatible with $X$ in $t_i$ sections. Then we have rational functions $\\alpha_{r,j}^{(i)}(k) \\in \\mathbb{K}(k)$ such that, for all $n = kt_i + r$:\n",
    "\n",
    "$$xP_{n}^{(i)}(x) = \\alpha_{r,0}^{(i)}(k)P_{n}^{(i)}(x) + \\alpha_{r,1}^{(i)}(k)P_{n+1}^{(i)}(x).$$\n",
    "\n",
    "Let $t = \\text{lcm}(t_0, \\ldots, t_{F-1})$ and $a_i = t/t_i$. Then $X$ is $(0,1)$-compatible with $\\basis$ in $mt$ sections. Let $n = kmt + r$ and write $r = r_0m + r_1$. Then we have that:\n",
    "\n",
    "$$xQ_n(x) = xQ_{(kt+r_0)m+r_1}(x) = x\\prod_{i=0}^{F-1}P_{e_i(n)}^{(i)}(x) = \n",
    "\\left(\\prod_{i=0,\\ i\\neq\\sigma_{r_1}}^{F-1}P_{e_i(n)}^{(i)}(x)\\right)\\left(xP_{e_{\\sigma_{r_1}}(n)}^{(\\sigma_{r_1})}(x)\\right).$$\n",
    "\n",
    "Using the facts that:\n",
    "* $e_{\\sigma_{r_1}}(n) = S_{\\sigma_{r_1}}(kt + r_0) + s_{\\sigma_{r_1}}(r_1)$,\n",
    "* $e_{\\sigma_{r_1}}(n+1) = e_{\\sigma_{r_1}}(n) + 1$ and,\n",
    "* $S_{\\sigma_{r_1}}r_0 + s_{\\sigma_{r_1}}(r_1) = r_2t_{\\sigma_{r-1}}+ r3$,\n",
    "\n",
    "then we can write:\n",
    "$$xQ_n(x) = \\left(\\prod_{i=0,\\ i\\neq\\sigma_{r_1}}^{F-1}P_{e_i(n)}^{(i)}(x)\\right)\\left(xP_{t_{\\sigma_{r_1}}(a_{\\sigma_{r_1}}k+r_2) + r_3}^{(\\sigma_{r_1})}(x)\\right) = \n",
    "\\alpha_{r_3,0}^{(\\sigma_{r_1})}(a_{\\sigma_{r_1}}k+r_2)Q_n(x) + \\alpha_{r_3,1}^{(\\sigma_{r_1})}(a_{\\sigma_{r-1}}k+r_2)Q_{n+1}(x)$$\n",
    "\n",
    "and we have computed the compatibilty conditions for $\\basis$ taking:\n",
    "\n",
    "$$\\alpha_{r,j}(n) = \\alpha_{r_3,j}^{(\\sigma_{r_1})}\\left(a_{\\sigma_{r-1}}n+r_2\\right) \\in \\mathbb{K}(n)$$"
   ]
  },
  {
   "cell_type": "markdown",
   "metadata": {
    "jp-MarkdownHeadingCollapsed": true,
    "tags": []
   },
   "source": [
    "### Extending the compatibility of endomorphisms"
   ]
  },
  {
   "cell_type": "markdown",
   "metadata": {},
   "source": [
    "Let $L$ be an endomorphism, i.e., $L(PQ) = L(P)L(Q)$. Then we can compute the compatibility condition in several sections for $\\basis$ if $L$ is compatible with all the basis $\\basis_i$. Suppose that $L$ is $(A_i,B_i)$-compatible in $t_i$ sections with $\\basis_i$.\n",
    "\n",
    "Consider the following computable values:\n",
    "* $t \\in \\mathbb{N}$ be the minimal number such that $t_i$ divides $tS_i$ for all $i = 0,\\ldots, F-1$,\n",
    "* $a_i = tS_i/t_i$,\n",
    "* $A = \\text{max}(\\lceil\\frac{A_i}{S_i}\\rceil\\ i = 0,\\ldots, F-1)$,\n",
    "* $b_i = AS_i - A_i$,\n",
    "* $B = \\text{min}(B_i\\ i = 0,\\ldots, F-1)$.\n",
    "\n",
    "We are going to show that $L$ is $(mA, B)$-compatible in $mt$ sections with $\\basis$. Let $n = kmt + r$ where\n",
    "* $r = r_0m+r_1$ and\n",
    "* $S_ir_0 + s_i(r_) = r_{2,i}t_i + r_{3,i}$ for $i = 0,\\ldots, F-1$.\n",
    "\n",
    "Then we have that:\n",
    "$$\\frac{L\\cdot Q_n(x)}{Q_{n-Am}(x)} = \\prod_{i=0}^{F-1}\\frac{L\\cdot P_{e_i(n)}^{(i)}(x)}{P_{e_i(n)-AS_i}^{(i)}(x)} = \n",
    "\\prod_{i=0}^{F-1}\\frac{L \\cdot P_{S_i(kt + r_0) + s_i(r_1)}^{(i)}(x)}{P_{S_i(kt + r_0) + s_i(r_1) - AS_i}^{(i)}(x)} = \n",
    "\\prod_{i=0}^{F-1}\\frac{L \\cdot P_{(a_ik + r_{2,i})t_i + r_{3,i}}^{(i)}(x)}{P_{(a_ik + r_{2,i})t_i + r_{3,i} - A_i - b_i}^{(i)}(x)} = \n",
    "\\prod_{i=0}^{F-1}D_{r_{3,i},A_i+b_i}^{(i)}(a_ik+r_{2,i}),$$\n",
    "where $D_{*,*}(*)$ are the division polynomials defined in Section 3 with the method ``compatible_division``. Hence we can\n",
    "apply now the idea of ``equiv_CtD`` to compute the final coefficients $\\alpha_{i,j}(k)$ for $\\basis$ since we have expressed\n",
    "the quotient $\\frac{L\\cdot Q_n}{Q_{n-Am}}$ for each $n = kmt + r$."
   ]
  },
  {
   "cell_type": "markdown",
   "metadata": {
    "tags": []
   },
   "source": [
    "### Extending the compatibility of derivations"
   ]
  },
  {
   "cell_type": "markdown",
   "metadata": {},
   "source": [
    "Let $L$ be a derivation, i.e., $L(PQ) = L(P)Q + PL(Q)$. Then we can compute the compatibility condition in several sections for $\\basis$ if $L$ is compatible with all the basis $\\basis_i$. Suppose that $L$ is $(A_i,B_i)$-compatible in $t_i$ sections with $\\basis_i$.\n",
    "\n",
    "Consider the following computable values:\n",
    "* $t \\in \\mathbb{N}$ be the minimal number such that $t_i$ divides $tS_i$ for all $i = 0,\\ldots, F-1$,\n",
    "* $a_i = tS_i/t_i$,\n",
    "* $A = \\text{max}(\\lceil\\frac{A_i}{S_i}\\rceil\\ i = 0,\\ldots, F-1)$,\n",
    "* $b_i = AS_i - A_i$,\n",
    "* $B = \\text{min}(B_i\\ i = 0,\\ldots, F-1)$.\n",
    "\n",
    "We are going to show that $L$ is $(mA, B)$-compatible in $mt$ sections with $\\basis$. Let $n = kmt + r$ where\n",
    "* $r = r_0m+r_1$ and\n",
    "* $S_ir_0 + s_i(r_) = r_{2,i}t_i + r_{3,i}$ for $i = 0,\\ldots, F-1$.\n",
    "\n",
    "Then we have that:\n",
    "$$\\begin{array}{rl}\n",
    "\\displaystyle\\frac{L\\cdot Q_n(x)}{Q_{n-Am}(x)} = & \\displaystyle\\sum_{i=0}^{F-1}\\left(\\frac{L\\cdot P_{e_{i}(n)}^{(i)}(x)\\displaystyle\\prod_{j=0,j\\neq i}^{F-1} P_{e_{j}(n)}^{(j)}(x)}{Q_{n-mA}(x)}\\right) \\\\\n",
    "= & \\displaystyle\\sum_{i=0}^{F-1} \\left(\\frac{L\\cdot P_{e_i(n)}^{(i)}(x)}{P_{e_i(n)-AS_i}^{(i)}(x)}\\displaystyle\\prod_{j=0,j\\neq i}^{F-1}\\frac{P_{e_j(n)}^{(j)}(x)}{P_{e_j(n)-AS_j}^{(j)}(x)}\\right)\\\\\n",
    "= & \\displaystyle\\sum_{i=0}^{F-1} \\left(\\frac{L\\cdot P_{(a_ik+r_{2,i})t_i + r_{3,i}}^{(i)}(x)}{P_{(a_ik+r_{2,i})t_i + r_{3,i} - A_i - b_i}^{(i)}(x)}\\displaystyle\\prod_{j=0,j\\neq i}^{F-1}\\frac{P_{(a_jk+r_{2,j})t_j + r_{3,j}}^{(j)}(x)}{P_{(a_jk+r_{2,j})t_j + r_{3,j} - A_j - b_j}^{(j)}(x)}\\right)\\\\\n",
    "= & \\displaystyle\\sum_{i=0}^{F-1} \\left(D_{r_{3,i},A_i+b_i}^{(i)}(a_ik+r_{2,i})\\displaystyle\\prod_{j=0,j\\neq i}^{F-1} I_{(a_jk+r_{2,j})t_j + r_{3,j} - A_j - b_j, A_j+b_j}^{(j)}\\right),\n",
    "\\end{array}$$\n",
    "where $D_{*,*}(*)$ are the division polynomials defined in Section 3 with the method ``compatible_division`` and $I_{*,*}$ are the increasing polynomials defined in Section 3 with the method ``increasing_polynomial``. Hence we can apply now the idea of `equiv_CtD` to compute the final coefficients $\\alpha_{i,j}(k)$ for $\\basis$ since we have expressed the quotient $\\frac{L\\cdot Q_n}{Q_{n-Am}}$ for each $n = kmt + r$."
   ]
  },
  {
   "cell_type": "markdown",
   "metadata": {},
   "source": [
    "### Example 8"
   ]
  },
  {
   "cell_type": "markdown",
   "metadata": {},
   "source": [
    "In example 8 of Petkovšek's paper, he looked into a basis built as follows:\n",
    "\n",
    "* $P_{3k}(n) = \\binom{n}{k}\\binom{n+k}{2k}$\n",
    "* $P_{3k+1}(n) = \\binom{n}{k}\\binom{n+k}{2k+1}$\n",
    "* $P_{3k+2}(n) = \\binom{n}{k+1}\\binom{n+k}{2k+1}$\n",
    "\n",
    "Let $\\mathcal{A}_2$ be such basis. This is a clear example of a Shuffled basis. In particular, if we consider $\\basis$ the binomial basis and $\\basis_2$ the basis we built in Section 7 to represent the second factor, we then have that Petkovšek's basis is exactly the $(1,0,1)$-sieved basis of $(\\basis,\\basis_2)$."
   ]
  },
  {
   "cell_type": "code",
   "execution_count": 15,
   "metadata": {
    "vscode": {
     "languageId": "python"
    }
   },
   "outputs": [
    {
     "ename": "NameError",
     "evalue": "name 'B2' is not defined",
     "output_type": "error",
     "traceback": [
      "\u001b[0;31m---------------------------------------------------------------------------\u001b[0m",
      "\u001b[0;31mNameError\u001b[0m                                 Traceback (most recent call last)",
      "Input \u001b[0;32mIn [15]\u001b[0m, in \u001b[0;36m<cell line: 6>\u001b[0;34m()\u001b[0m\n\u001b[1;32m      4\u001b[0m     \u001b[38;5;28;01melif\u001b[39;00m(r \u001b[38;5;241m==\u001b[39m Integer(\u001b[38;5;241m1\u001b[39m)): \u001b[38;5;28;01mreturn\u001b[39;00m binomial(x,k)\u001b[38;5;241m*\u001b[39mbinomial(x\u001b[38;5;241m+\u001b[39mk,Integer(\u001b[38;5;241m2\u001b[39m)\u001b[38;5;241m*\u001b[39mk\u001b[38;5;241m+\u001b[39mInteger(\u001b[38;5;241m1\u001b[39m))\n\u001b[1;32m      5\u001b[0m     \u001b[38;5;28;01melse\u001b[39;00m: \u001b[38;5;28;01mreturn\u001b[39;00m binomial(x,k\u001b[38;5;241m+\u001b[39mInteger(\u001b[38;5;241m1\u001b[39m))\u001b[38;5;241m*\u001b[39mbinomial(x\u001b[38;5;241m+\u001b[39mk,Integer(\u001b[38;5;241m2\u001b[39m)\u001b[38;5;241m*\u001b[39mk\u001b[38;5;241m+\u001b[39mInteger(\u001b[38;5;241m1\u001b[39m))\n\u001b[0;32m----> 6\u001b[0m A2 \u001b[38;5;241m=\u001b[39m ShuffledBasis([BinomialBasis,\u001b[43mB2\u001b[49m], [Integer(\u001b[38;5;241m1\u001b[39m),Integer(\u001b[38;5;241m0\u001b[39m),Integer(\u001b[38;5;241m1\u001b[39m)])\n\u001b[1;32m      7\u001b[0m \u001b[38;5;28mall\u001b[39m(A2[i] \u001b[38;5;241m==\u001b[39m example_8_apery2(i) \u001b[38;5;28;01mfor\u001b[39;00m i \u001b[38;5;129;01min\u001b[39;00m \u001b[38;5;28mrange\u001b[39m(Integer(\u001b[38;5;241m50\u001b[39m)))\n",
      "\u001b[0;31mNameError\u001b[0m: name 'B2' is not defined"
     ]
    }
   ],
   "source": [
    "#def example_8_apery2(n):\n",
    "#    k = n//3; r = n%3\n",
    "#    if(r == 0): return binomial(x,k)*binomial(x+k,2*k)\n",
    "#    elif(r == 1): return binomial(x,k)*binomial(x+k,2*k+1)\n",
    "#    else: return binomial(x,k+1)*binomial(x+k,2*k+1)\n",
    "A2 = ShuffledBasis([BinomialBasis,BinomialTypeBasis], [1,0,1])\n",
    "all(A2[i] == example_8_apery2(i) for i in range(50))"
   ]
  },
  {
   "cell_type": "markdown",
   "metadata": {},
   "source": [
    "Since both $\\basis$ and $\\basis_2$ had compatibilities with $X$ and $E$, the basis $\\mathcal{A}_2$ has already defined (using an automatic extension) the compatibilities for those two operators:"
   ]
  },
  {
   "cell_type": "code",
   "execution_count": 58,
   "metadata": {
    "vscode": {
     "languageId": "python"
    }
   },
   "outputs": [
    {
     "data": {
      "text/html": [
       "<html>\\(\\displaystyle \\left(0, 1, \\left(\\begin{array}{rr}\n",
       "n & 2 n + 1 \\\\\n",
       "n & n + 1 \\\\\n",
       "-n - 1 & 2 n + 2\n",
       "\\end{array}\\right)\\right)\\)</html>"
      ],
      "text/latex": [
       "$\\displaystyle \\left(0, 1, \\left(\\begin{array}{rr}\n",
       "n & 2 n + 1 \\\\\n",
       "n & n + 1 \\\\\n",
       "-n - 1 & 2 n + 2\n",
       "\\end{array}\\right)\\right)$"
      ],
      "text/plain": [
       "(\n",
       "      [      n 2*n + 1]\n",
       "      [      n   n + 1]\n",
       "0, 1, [ -n - 1 2*n + 2]\n",
       ")"
      ]
     },
     "execution_count": 58,
     "metadata": {},
     "output_type": "execute_result"
    }
   ],
   "source": [
    "A2.compatibility_matrix('x')"
   ]
  },
  {
   "cell_type": "code",
   "execution_count": 59,
   "metadata": {
    "vscode": {
     "languageId": "python"
    }
   },
   "outputs": [
    {
     "data": {
      "text/html": [
       "<html>\\(\\displaystyle \\left(3, 0, \\left(\\begin{array}{rrrr}\n",
       "1 & \\frac{4 n - \\frac{3}{2}}{n} & \\frac{3}{2} & 1 \\\\\n",
       "\\frac{n - \\frac{1}{2}}{n + \\frac{1}{2}} & \\frac{\\frac{1}{2} n}{n + \\frac{1}{2}} & \\frac{\\frac{3}{2} n + \\frac{1}{2}}{n + \\frac{1}{2}} & 1 \\\\\n",
       "0 & 1 & \\frac{3 n + 2}{n + 1} & 1\n",
       "\\end{array}\\right)\\right)\\)</html>"
      ],
      "text/latex": [
       "$\\displaystyle \\left(3, 0, \\left(\\begin{array}{rrrr}\n",
       "1 & \\frac{4 n - \\frac{3}{2}}{n} & \\frac{3}{2} & 1 \\\\\n",
       "\\frac{n - \\frac{1}{2}}{n + \\frac{1}{2}} & \\frac{\\frac{1}{2} n}{n + \\frac{1}{2}} & \\frac{\\frac{3}{2} n + \\frac{1}{2}}{n + \\frac{1}{2}} & 1 \\\\\n",
       "0 & 1 & \\frac{3 n + 2}{n + 1} & 1\n",
       "\\end{array}\\right)\\right)$"
      ],
      "text/plain": [
       "(\n",
       "      [                      1           (4*n - 3/2)/n                     3/2                       1]\n",
       "      [    (n - 1/2)/(n + 1/2)         1/2*n/(n + 1/2) (3/2*n + 1/2)/(n + 1/2)                       1]\n",
       "3, 0, [                      0                       1       (3*n + 2)/(n + 1)                       1]\n",
       ")"
      ]
     },
     "execution_count": 59,
     "metadata": {},
     "output_type": "execute_result"
    }
   ],
   "source": [
    "A2.compatibility_matrix('E')"
   ]
  },
  {
   "cell_type": "markdown",
   "metadata": {},
   "source": [
    "And now we can go to the linear difference operator from Example 8:\n",
    "$$L = (x+2)^2E^2 - (11x^2 + 3x + 25)E - (x+1)^2,$$\n",
    "and use a similar approach as in the method `DefiniteSumSolutions` to get a recurrence that the sequence $(c_n)_n$ has to satisfy if we assume that $L\\cdot \\left(\\sum_{n\\geq 0}c_n \\binom{x}{n}\\binom{x+n}{2n}\\right) = 0$:"
   ]
  },
  {
   "cell_type": "code",
   "execution_count": 60,
   "metadata": {
    "vscode": {
     "languageId": "python"
    }
   },
   "outputs": [
    {
     "data": {
      "text/html": [
       "<html>\\(\\displaystyle \\left(n + 1\\right) \\mathit{Sn} - 4 n - 2\\)</html>"
      ],
      "text/latex": [
       "$\\displaystyle \\left(n + 1\\right) \\mathit{Sn} - 4 n - 2$"
      ],
      "text/plain": [
       "(n + 1)*Sn - 4*n - 2"
      ]
     },
     "execution_count": 60,
     "metadata": {},
     "output_type": "execute_result"
    }
   ],
   "source": [
    "L = (x+2)^2*E^2 - (11*x^2 + 33*x + 25)*E - (x+1)^2\n",
    "recurrence_matrix = A2.recurrence(L)\n",
    "first_column = [A2.remove_Sni(recurrence_matrix.coefficient((j,0))) for j in range(recurrence_matrix.nrows())]\n",
    "gcrd = first_column[0].gcrd(*first_column[1:])\n",
    "gcrd"
   ]
  },
  {
   "cell_type": "markdown",
   "metadata": {},
   "source": [
    "Here, the sequence $c_n = \\binom{2n}{n}$ is a solution to that recurrence equation. Using the equality\n",
    "$$\\binom{2n}{n}\\binom{x}{n}\\binom{x+n}{2n} = \\binom{x}{n}^2\\binom{x+n}{n},$$\n",
    "we can conclude that the fucntion\n",
    "$$y(x) = \\sum_{n \\geq 0} c_n \\binom{x}{n}\\binom{x+n}{2n} = \\sum_{n\\geq 0} \\binom{x}{n}^2\\binom{x+n}{n},$$\n",
    "is a solution to $L\\cdot y = 0$ and, in particular, the sequence $y_k = y(k)$ (which is the Apéry's $\\zeta(2)$-sequence) satisfies the recurrence:\n",
    "$$(k+2)^2 y_{k+2} - (11k^2 + 33^k+25)y_{k+1} - (k+1)^2y_k = 0.$$"
   ]
  },
  {
   "cell_type": "markdown",
   "metadata": {},
   "source": [
    "##### Example 9"
   ]
  },
  {
   "cell_type": "markdown",
   "metadata": {},
   "source": [
    "Finally in example 9 of Petkovšek's paper, we consider a new basis with the following format:\n",
    "\n",
    "* $P_{4n}(x) = \\binom{x+n}{2n}^2$\n",
    "* $P_{4n+1}(x) = \\binom{x+n}{2n}\\binom{x+n}{2n+1}$\n",
    "* $P_{4n+2}(x) = \\binom{x+n}{2n+1}^2$\n",
    "* $P_{4n+3}(x) = \\binom{x+n}{2n+1}\\binom{x+n+1}{2n+2}$\n",
    "\n",
    "Let $\\mathcal{A}_3$ be this basis. In this case, we have a Product basis of the basis $\\basis_2$ (`B2`in the code) with itself"
   ]
  },
  {
   "cell_type": "code",
   "execution_count": 61,
   "metadata": {
    "vscode": {
     "languageId": "python"
    }
   },
   "outputs": [
    {
     "data": {
      "text/html": [
       "<html>\\(\\displaystyle \\mathrm{True}\\)</html>"
      ],
      "text/latex": [
       "$\\displaystyle \\mathrm{True}$"
      ],
      "text/plain": [
       "True"
      ]
     },
     "execution_count": 61,
     "metadata": {},
     "output_type": "execute_result"
    }
   ],
   "source": [
    "def example_9_apery3(n):\n",
    "    k = n//4; r = n%4\n",
    "    if(r == 0): return binomial(x+k,2*k)^2\n",
    "    elif(r == 1): return binomial(x+k,2*k)*binomial(x+k,2*k+1)\n",
    "    elif(r == 2): return binomial(x+k,2*k+1)^2\n",
    "    else: return binomial(x+k,2*k+1)*binomial(x+k+1,2*k+2)\n",
    "A3 = ProductBasis([B2,B2])\n",
    "all(A3[i] == example_9_apery3(i) for i in range(50))"
   ]
  },
  {
   "cell_type": "markdown",
   "metadata": {},
   "source": [
    "Since $\\basis_2$ had compatibilities with $X$ and $E$, the basis $\\mathcal{A}_3$ has already defined (using an automatic extension) the compatibilities for those two operators:"
   ]
  },
  {
   "cell_type": "code",
   "execution_count": 62,
   "metadata": {
    "vscode": {
     "languageId": "python"
    }
   },
   "outputs": [
    {
     "data": {
      "text/html": [
       "<html>\\(\\displaystyle \\left(0, 1, \\left(\\begin{array}{rr}\n",
       "n & 2 n + 1 \\\\\n",
       "n & 2 n + 1 \\\\\n",
       "-n - 1 & 2 n + 2 \\\\\n",
       "-n - 1 & 2 n + 2\n",
       "\\end{array}\\right)\\right)\\)</html>"
      ],
      "text/latex": [
       "$\\displaystyle \\left(0, 1, \\left(\\begin{array}{rr}\n",
       "n & 2 n + 1 \\\\\n",
       "n & 2 n + 1 \\\\\n",
       "-n - 1 & 2 n + 2 \\\\\n",
       "-n - 1 & 2 n + 2\n",
       "\\end{array}\\right)\\right)$"
      ],
      "text/plain": [
       "(\n",
       "      [      n 2*n + 1]\n",
       "      [      n 2*n + 1]\n",
       "      [ -n - 1 2*n + 2]\n",
       "0, 1, [ -n - 1 2*n + 2]\n",
       ")"
      ]
     },
     "execution_count": 62,
     "metadata": {},
     "output_type": "execute_result"
    }
   ],
   "source": [
    "A3.compatibility_matrix('x')"
   ]
  },
  {
   "cell_type": "code",
   "execution_count": 63,
   "metadata": {
    "vscode": {
     "languageId": "python"
    }
   },
   "outputs": [
    {
     "data": {
      "text/html": [
       "<html>\\(\\displaystyle \\left(4, 0, \\left(\\begin{array}{rrrrr}\n",
       "1 & \\frac{4 n - 1}{n} & \\frac{3 n - 1}{n} & 2 & 1 \\\\\n",
       "\\frac{n - \\frac{1}{2}}{n + \\frac{1}{2}} & \\frac{n - \\frac{1}{2}}{n + \\frac{1}{2}} & \\frac{n}{n + \\frac{1}{2}} & \\frac{2 n + \\frac{1}{2}}{n + \\frac{1}{2}} & 1 \\\\\n",
       "0 & 0 & 1 & 2 & 1 \\\\\n",
       "0 & 1 & \\frac{3 n + \\frac{5}{2}}{n + 1} & \\frac{2 n + \\frac{3}{2}}{n + 1} & 1\n",
       "\\end{array}\\right)\\right)\\)</html>"
      ],
      "text/latex": [
       "$\\displaystyle \\left(4, 0, \\left(\\begin{array}{rrrrr}\n",
       "1 & \\frac{4 n - 1}{n} & \\frac{3 n - 1}{n} & 2 & 1 \\\\\n",
       "\\frac{n - \\frac{1}{2}}{n + \\frac{1}{2}} & \\frac{n - \\frac{1}{2}}{n + \\frac{1}{2}} & \\frac{n}{n + \\frac{1}{2}} & \\frac{2 n + \\frac{1}{2}}{n + \\frac{1}{2}} & 1 \\\\\n",
       "0 & 0 & 1 & 2 & 1 \\\\\n",
       "0 & 1 & \\frac{3 n + \\frac{5}{2}}{n + 1} & \\frac{2 n + \\frac{3}{2}}{n + 1} & 1\n",
       "\\end{array}\\right)\\right)$"
      ],
      "text/plain": [
       "(\n",
       "      [                    1           (4*n - 1)/n           (3*n - 1)/n                     2                     1]\n",
       "      [  (n - 1/2)/(n + 1/2)   (n - 1/2)/(n + 1/2)           n/(n + 1/2) (2*n + 1/2)/(n + 1/2)                     1]\n",
       "      [                    0                     0                     1                     2                     1]\n",
       "4, 0, [                    0                     1   (3*n + 5/2)/(n + 1)   (2*n + 3/2)/(n + 1)                     1]\n",
       ")"
      ]
     },
     "execution_count": 63,
     "metadata": {},
     "output_type": "execute_result"
    }
   ],
   "source": [
    "A3.compatibility_matrix('E')"
   ]
  },
  {
   "cell_type": "markdown",
   "metadata": {},
   "source": [
    "And now we can go to the linear difference operator from Example 8:\n",
    "$$L = (x+2)^3E^2 - (2x+3)(17x^2+51x+39)E + (x+1)^3,$$\n",
    "and use a similar approach as in the method `DefiniteSumSolutions` to get a recurrence that the sequence $(c_n)_n$ has to satisfy if we assume that $L\\cdot \\left(\\sum_{n\\geq 0}c_n \\binom{x+n}{2n}^2\\right) = 0$:"
   ]
  },
  {
   "cell_type": "code",
   "execution_count": 64,
   "metadata": {
    "vscode": {
     "languageId": "python"
    }
   },
   "outputs": [
    {
     "data": {
      "text/html": [
       "<html>\\(\\displaystyle \\left(n^{2} + 2 n + 1\\right) \\mathit{Sn} - 16 n^{2} - 16 n - 4\\)</html>"
      ],
      "text/latex": [
       "$\\displaystyle \\left(n^{2} + 2 n + 1\\right) \\mathit{Sn} - 16 n^{2} - 16 n - 4$"
      ],
      "text/plain": [
       "(n^2 + 2*n + 1)*Sn - 16*n^2 - 16*n - 4"
      ]
     },
     "execution_count": 64,
     "metadata": {},
     "output_type": "execute_result"
    }
   ],
   "source": [
    "L = (x+2)^3*E^2 - (2*x+3)*(17*x^2+51*x+39)*E + (x+1)^3\n",
    "recurrence_matrix = A3.recurrence(L)\n",
    "first_column = [A3.remove_Sni(recurrence_matrix.coefficient((j,0))) for j in range(recurrence_matrix.nrows())]\n",
    "gcrd = first_column[0].gcrd(*first_column[1:])\n",
    "gcrd"
   ]
  },
  {
   "cell_type": "markdown",
   "metadata": {},
   "source": [
    "In this case the sequence $c_n = \\binom{2n}{n}^2$ satisfies this recurrence equation. Using the same equality as in example 8, we obtain now that :\n",
    "$$y(x) = \\sum_{n\\geq 0} c_n \\binom{x+n}{2n}^2 = \\sum_{n\\geq 0} \\binom{x}{n}^2\\binom{x+n}{n}^2,$$\n",
    "is a solution to $L\\cdot y = 0$ and, in particular, the sequence $y_k = y(k)$ (which is the Apéry's $\\zeta(3)$-sequence) satisfies the recurrence:\n",
    "$$(k+2)^3y_{k+2} - (2k+3)(17k^2+51k+39)y_{k+1} + (k+1)^3y_{k} = 0.$$"
   ]
  },
  {
   "cell_type": "markdown",
   "metadata": {
    "jp-MarkdownHeadingCollapsed": true,
    "tags": []
   },
   "source": [
    "## 8. Some random examples"
   ]
  },
  {
   "cell_type": "markdown",
   "metadata": {},
   "source": [
    "In Proposition 6, Petkovšek studied the relation of the orders between the associated recurrence equation $\\mathcal{R}_{\\bbasis}(L)$ and $L$ itself and concluded that the order is exactly the same (so we have the same dimension of solutions and we can map solutions for the operator $L$ to solutions of the operator $\\mathcal{R}_\\bbasis(L)$.\n",
    "\n",
    "On the other hand, in the method `DefiniteSumSolutions` and in the two Apery's examples on the previous section, we compute the _greatest common right divisor_ of several operators, which usually returns a recurrence operator of lower order thatn $L$.\n",
    "We implement here the general method to get that GCRD and use the package to generate random examples and see if we always have at least one solution in the final operator."
   ]
  },
  {
   "cell_type": "code",
   "execution_count": 65,
   "metadata": {
    "vscode": {
     "languageId": "python"
    }
   },
   "outputs": [],
   "source": [
    "def RecurrenceOfSection(basis, operator, sections=1, slice=0):\n",
    "    recurrence = basis.recurrence(operator, sections=sections)\n",
    "    if(sections == 1): # nothing to do\n",
    "        return recurrence\n",
    "    if(slice < 0 or slice >= sections):\n",
    "        raise ValueError(\"The corresponding slice should be between 0 and %d\" %(sections-1))\n",
    "        \n",
    "    Sni = basis.Sni(); Sn = basis.Sn()\n",
    "    column = [recurrence.coefficient((j,slice)) for j in range(sections)]\n",
    "    deg_Sni = [el.degree(Sni) for el in column]\n",
    "    mdeg = max(deg_Sni)\n",
    "    column = [basis.OSS()(basis.simplify_operator(el*Sn**mdeg)) for el in column]\n",
    "    return column[0].gcrd(*column[1:])"
   ]
  },
  {
   "cell_type": "code",
   "execution_count": 66,
   "metadata": {
    "scrolled": true,
    "vscode": {
     "languageId": "python"
    }
   },
   "outputs": [
    {
     "name": "stdout",
     "output_type": "stream",
     "text": [
      "2 -- 100\n",
      "2 -- 200\n"
     ]
    },
    {
     "ename": "KeyboardInterrupt",
     "evalue": "",
     "output_type": "error",
     "traceback": [
      "\u001b[0;31m---------------------------------------------------------------------------\u001b[0m",
      "\u001b[0;31mKeyboardInterrupt\u001b[0m                         Traceback (most recent call last)",
      "\u001b[0;32m/tmp/ipykernel_24761/3127886617.py\u001b[0m in \u001b[0;36m<module>\u001b[0;34m\u001b[0m\n\u001b[1;32m      4\u001b[0m     \u001b[0mnew_element\u001b[0m \u001b[0;34m=\u001b[0m \u001b[0mOE\u001b[0m\u001b[0;34m.\u001b[0m\u001b[0mrandom_element\u001b[0m\u001b[0;34m(\u001b[0m\u001b[0mdegree\u001b[0m\u001b[0;34m=\u001b[0m\u001b[0mrandint\u001b[0m\u001b[0;34m(\u001b[0m\u001b[0mInteger\u001b[0m\u001b[0;34m(\u001b[0m\u001b[0;36m0\u001b[0m\u001b[0;34m)\u001b[0m\u001b[0;34m,\u001b[0m\u001b[0mInteger\u001b[0m\u001b[0;34m(\u001b[0m\u001b[0;36m5\u001b[0m\u001b[0;34m)\u001b[0m\u001b[0;34m)\u001b[0m\u001b[0;34m)\u001b[0m\u001b[0;34m\u001b[0m\u001b[0;34m\u001b[0m\u001b[0m\n\u001b[1;32m      5\u001b[0m     \u001b[0;32mif\u001b[0m\u001b[0;34m(\u001b[0m\u001b[0;32mnot\u001b[0m \u001b[0mnew_element\u001b[0m \u001b[0;32min\u001b[0m \u001b[0mOE\u001b[0m\u001b[0;34m.\u001b[0m\u001b[0mbase_ring\u001b[0m\u001b[0;34m(\u001b[0m\u001b[0;34m)\u001b[0m\u001b[0;34m)\u001b[0m\u001b[0;34m:\u001b[0m\u001b[0;34m\u001b[0m\u001b[0;34m\u001b[0m\u001b[0m\n\u001b[0;32m----> 6\u001b[0;31m         \u001b[0msects\u001b[0m \u001b[0;34m=\u001b[0m \u001b[0;34m[\u001b[0m\u001b[0mRecurrenceOfSection\u001b[0m\u001b[0;34m(\u001b[0m\u001b[0mB2\u001b[0m\u001b[0;34m,\u001b[0m \u001b[0mnew_element\u001b[0m\u001b[0;34m,\u001b[0m \u001b[0mInteger\u001b[0m\u001b[0;34m(\u001b[0m\u001b[0;36m2\u001b[0m\u001b[0;34m)\u001b[0m\u001b[0;34m,\u001b[0m \u001b[0mi\u001b[0m\u001b[0;34m)\u001b[0m \u001b[0;32mfor\u001b[0m \u001b[0mi\u001b[0m \u001b[0;32min\u001b[0m \u001b[0mrange\u001b[0m\u001b[0;34m(\u001b[0m\u001b[0mInteger\u001b[0m\u001b[0;34m(\u001b[0m\u001b[0;36m2\u001b[0m\u001b[0;34m)\u001b[0m\u001b[0;34m)\u001b[0m\u001b[0;34m]\u001b[0m\u001b[0;34m\u001b[0m\u001b[0;34m\u001b[0m\u001b[0m\n\u001b[0m\u001b[1;32m      7\u001b[0m         \u001b[0;32mif\u001b[0m\u001b[0;34m(\u001b[0m\u001b[0msects\u001b[0m \u001b[0;34m!=\u001b[0m \u001b[0;34m[\u001b[0m\u001b[0mInteger\u001b[0m\u001b[0;34m(\u001b[0m\u001b[0;36m1\u001b[0m\u001b[0;34m)\u001b[0m\u001b[0;34m,\u001b[0m\u001b[0mInteger\u001b[0m\u001b[0;34m(\u001b[0m\u001b[0;36m1\u001b[0m\u001b[0;34m)\u001b[0m\u001b[0;34m]\u001b[0m\u001b[0;34m)\u001b[0m\u001b[0;34m:\u001b[0m\u001b[0;34m\u001b[0m\u001b[0;34m\u001b[0m\u001b[0m\n\u001b[1;32m      8\u001b[0m             \u001b[0mexamples\u001b[0m \u001b[0;34m+=\u001b[0m \u001b[0;34m[\u001b[0m\u001b[0;34m(\u001b[0m\u001b[0mnew_element\u001b[0m\u001b[0;34m,\u001b[0m \u001b[0msects\u001b[0m\u001b[0;34m)\u001b[0m\u001b[0;34m]\u001b[0m\u001b[0;34m\u001b[0m\u001b[0;34m\u001b[0m\u001b[0m\n",
      "\u001b[0;32m/tmp/ipykernel_24761/3127886617.py\u001b[0m in \u001b[0;36m<listcomp>\u001b[0;34m(.0)\u001b[0m\n\u001b[1;32m      4\u001b[0m     \u001b[0mnew_element\u001b[0m \u001b[0;34m=\u001b[0m \u001b[0mOE\u001b[0m\u001b[0;34m.\u001b[0m\u001b[0mrandom_element\u001b[0m\u001b[0;34m(\u001b[0m\u001b[0mdegree\u001b[0m\u001b[0;34m=\u001b[0m\u001b[0mrandint\u001b[0m\u001b[0;34m(\u001b[0m\u001b[0mInteger\u001b[0m\u001b[0;34m(\u001b[0m\u001b[0;36m0\u001b[0m\u001b[0;34m)\u001b[0m\u001b[0;34m,\u001b[0m\u001b[0mInteger\u001b[0m\u001b[0;34m(\u001b[0m\u001b[0;36m5\u001b[0m\u001b[0;34m)\u001b[0m\u001b[0;34m)\u001b[0m\u001b[0;34m)\u001b[0m\u001b[0;34m\u001b[0m\u001b[0;34m\u001b[0m\u001b[0m\n\u001b[1;32m      5\u001b[0m     \u001b[0;32mif\u001b[0m\u001b[0;34m(\u001b[0m\u001b[0;32mnot\u001b[0m \u001b[0mnew_element\u001b[0m \u001b[0;32min\u001b[0m \u001b[0mOE\u001b[0m\u001b[0;34m.\u001b[0m\u001b[0mbase_ring\u001b[0m\u001b[0;34m(\u001b[0m\u001b[0;34m)\u001b[0m\u001b[0;34m)\u001b[0m\u001b[0;34m:\u001b[0m\u001b[0;34m\u001b[0m\u001b[0;34m\u001b[0m\u001b[0m\n\u001b[0;32m----> 6\u001b[0;31m         \u001b[0msects\u001b[0m \u001b[0;34m=\u001b[0m \u001b[0;34m[\u001b[0m\u001b[0mRecurrenceOfSection\u001b[0m\u001b[0;34m(\u001b[0m\u001b[0mB2\u001b[0m\u001b[0;34m,\u001b[0m \u001b[0mnew_element\u001b[0m\u001b[0;34m,\u001b[0m \u001b[0mInteger\u001b[0m\u001b[0;34m(\u001b[0m\u001b[0;36m2\u001b[0m\u001b[0;34m)\u001b[0m\u001b[0;34m,\u001b[0m \u001b[0mi\u001b[0m\u001b[0;34m)\u001b[0m \u001b[0;32mfor\u001b[0m \u001b[0mi\u001b[0m \u001b[0;32min\u001b[0m \u001b[0mrange\u001b[0m\u001b[0;34m(\u001b[0m\u001b[0mInteger\u001b[0m\u001b[0;34m(\u001b[0m\u001b[0;36m2\u001b[0m\u001b[0;34m)\u001b[0m\u001b[0;34m)\u001b[0m\u001b[0;34m]\u001b[0m\u001b[0;34m\u001b[0m\u001b[0;34m\u001b[0m\u001b[0m\n\u001b[0m\u001b[1;32m      7\u001b[0m         \u001b[0;32mif\u001b[0m\u001b[0;34m(\u001b[0m\u001b[0msects\u001b[0m \u001b[0;34m!=\u001b[0m \u001b[0;34m[\u001b[0m\u001b[0mInteger\u001b[0m\u001b[0;34m(\u001b[0m\u001b[0;36m1\u001b[0m\u001b[0;34m)\u001b[0m\u001b[0;34m,\u001b[0m\u001b[0mInteger\u001b[0m\u001b[0;34m(\u001b[0m\u001b[0;36m1\u001b[0m\u001b[0;34m)\u001b[0m\u001b[0;34m]\u001b[0m\u001b[0;34m)\u001b[0m\u001b[0;34m:\u001b[0m\u001b[0;34m\u001b[0m\u001b[0;34m\u001b[0m\u001b[0m\n\u001b[1;32m      8\u001b[0m             \u001b[0mexamples\u001b[0m \u001b[0;34m+=\u001b[0m \u001b[0;34m[\u001b[0m\u001b[0;34m(\u001b[0m\u001b[0mnew_element\u001b[0m\u001b[0;34m,\u001b[0m \u001b[0msects\u001b[0m\u001b[0;34m)\u001b[0m\u001b[0;34m]\u001b[0m\u001b[0;34m\u001b[0m\u001b[0;34m\u001b[0m\u001b[0m\n",
      "\u001b[0;32m/tmp/ipykernel_24761/2027283896.py\u001b[0m in \u001b[0;36mRecurrenceOfSection\u001b[0;34m(basis, operator, sections, slice)\u001b[0m\n\u001b[1;32m      1\u001b[0m \u001b[0;32mdef\u001b[0m \u001b[0mRecurrenceOfSection\u001b[0m\u001b[0;34m(\u001b[0m\u001b[0mbasis\u001b[0m\u001b[0;34m,\u001b[0m \u001b[0moperator\u001b[0m\u001b[0;34m,\u001b[0m \u001b[0msections\u001b[0m\u001b[0;34m=\u001b[0m\u001b[0mInteger\u001b[0m\u001b[0;34m(\u001b[0m\u001b[0;36m1\u001b[0m\u001b[0;34m)\u001b[0m\u001b[0;34m,\u001b[0m \u001b[0mslice\u001b[0m\u001b[0;34m=\u001b[0m\u001b[0mInteger\u001b[0m\u001b[0;34m(\u001b[0m\u001b[0;36m0\u001b[0m\u001b[0;34m)\u001b[0m\u001b[0;34m)\u001b[0m\u001b[0;34m:\u001b[0m\u001b[0;34m\u001b[0m\u001b[0;34m\u001b[0m\u001b[0m\n\u001b[0;32m----> 2\u001b[0;31m     \u001b[0mrecurrence\u001b[0m \u001b[0;34m=\u001b[0m \u001b[0mbasis\u001b[0m\u001b[0;34m.\u001b[0m\u001b[0mrecurrence\u001b[0m\u001b[0;34m(\u001b[0m\u001b[0moperator\u001b[0m\u001b[0;34m,\u001b[0m \u001b[0msections\u001b[0m\u001b[0;34m=\u001b[0m\u001b[0msections\u001b[0m\u001b[0;34m)\u001b[0m\u001b[0;34m\u001b[0m\u001b[0;34m\u001b[0m\u001b[0m\n\u001b[0m\u001b[1;32m      3\u001b[0m     \u001b[0;32mif\u001b[0m\u001b[0;34m(\u001b[0m\u001b[0msections\u001b[0m \u001b[0;34m==\u001b[0m \u001b[0mInteger\u001b[0m\u001b[0;34m(\u001b[0m\u001b[0;36m1\u001b[0m\u001b[0;34m)\u001b[0m\u001b[0;34m)\u001b[0m\u001b[0;34m:\u001b[0m \u001b[0;31m# nothing to do\u001b[0m\u001b[0;34m\u001b[0m\u001b[0;34m\u001b[0m\u001b[0m\n\u001b[1;32m      4\u001b[0m         \u001b[0;32mreturn\u001b[0m \u001b[0mrecurrence\u001b[0m\u001b[0;34m\u001b[0m\u001b[0;34m\u001b[0m\u001b[0m\n\u001b[1;32m      5\u001b[0m     \u001b[0;32mif\u001b[0m\u001b[0;34m(\u001b[0m\u001b[0mslice\u001b[0m \u001b[0;34m<\u001b[0m \u001b[0mInteger\u001b[0m\u001b[0;34m(\u001b[0m\u001b[0;36m0\u001b[0m\u001b[0;34m)\u001b[0m \u001b[0;32mor\u001b[0m \u001b[0mslice\u001b[0m \u001b[0;34m>=\u001b[0m \u001b[0msections\u001b[0m\u001b[0;34m)\u001b[0m\u001b[0;34m:\u001b[0m\u001b[0;34m\u001b[0m\u001b[0;34m\u001b[0m\u001b[0m\n",
      "\u001b[0;32m~/sage/local/var/lib/sage/venv-python3.8/lib/python3.8/site-packages/pseries_basis/psbasis.py\u001b[0m in \u001b[0;36mrecurrence\u001b[0;34m(self, operator, sections, cleaned)\u001b[0m\n\u001b[1;32m   1383\u001b[0m                 \u001b[0mmons\u001b[0m \u001b[0;34m=\u001b[0m \u001b[0;34m[\u001b[0m\u001b[0mm\u001b[0m\u001b[0;34m.\u001b[0m\u001b[0mchange_ring\u001b[0m\u001b[0;34m(\u001b[0m\u001b[0mbase_ring\u001b[0m\u001b[0;34m)\u001b[0m\u001b[0;34m(\u001b[0m\u001b[0;34m**\u001b[0m\u001b[0mrec_mons\u001b[0m\u001b[0;34m)\u001b[0m \u001b[0;32mfor\u001b[0m \u001b[0mm\u001b[0m \u001b[0;32min\u001b[0m \u001b[0mmons\u001b[0m\u001b[0;34m]\u001b[0m\u001b[0;34m\u001b[0m\u001b[0;34m\u001b[0m\u001b[0m\n\u001b[1;32m   1384\u001b[0m                 \u001b[0;31m# computing the final recurrence operator\u001b[0m\u001b[0;34m\u001b[0m\u001b[0;34m\u001b[0m\u001b[0;34m\u001b[0m\u001b[0m\n\u001b[0;32m-> 1385\u001b[0;31m                 \u001b[0moutput\u001b[0m \u001b[0;34m=\u001b[0m \u001b[0mself\u001b[0m\u001b[0;34m.\u001b[0m\u001b[0msimplify_operator\u001b[0m\u001b[0;34m(\u001b[0m\u001b[0msum\u001b[0m\u001b[0;34m(\u001b[0m\u001b[0mcoeffs\u001b[0m\u001b[0;34m[\u001b[0m\u001b[0mi\u001b[0m\u001b[0;34m]\u001b[0m\u001b[0;34m*\u001b[0m\u001b[0mmons\u001b[0m\u001b[0;34m[\u001b[0m\u001b[0mi\u001b[0m\u001b[0;34m]\u001b[0m \u001b[0;32mfor\u001b[0m \u001b[0mi\u001b[0m \u001b[0;32min\u001b[0m \u001b[0mrange\u001b[0m\u001b[0;34m(\u001b[0m\u001b[0mlen\u001b[0m\u001b[0;34m(\u001b[0m\u001b[0mmons\u001b[0m\u001b[0;34m)\u001b[0m\u001b[0;34m)\u001b[0m\u001b[0;34m)\u001b[0m\u001b[0;34m)\u001b[0m\u001b[0;34m\u001b[0m\u001b[0;34m\u001b[0m\u001b[0m\n\u001b[0m\u001b[1;32m   1386\u001b[0m             \u001b[0;32melse\u001b[0m\u001b[0;34m:\u001b[0m\u001b[0;34m\u001b[0m\u001b[0;34m\u001b[0m\u001b[0m\n\u001b[1;32m   1387\u001b[0m                 \u001b[0;32mtry\u001b[0m\u001b[0;34m:\u001b[0m\u001b[0;34m\u001b[0m\u001b[0;34m\u001b[0m\u001b[0m\n",
      "\u001b[0;32m~/sage/local/var/lib/sage/venv-python3.8/lib/python3.8/site-packages/pseries_basis/psbasis.py\u001b[0m in \u001b[0;36msimplify_operator\u001b[0;34m(self, operator)\u001b[0m\n\u001b[1;32m    701\u001b[0m         \u001b[0;32mif\u001b[0m\u001b[0;34m(\u001b[0m\u001b[0mis_Matrix\u001b[0m\u001b[0;34m(\u001b[0m\u001b[0moperator\u001b[0m\u001b[0;34m)\u001b[0m\u001b[0;34m)\u001b[0m\u001b[0;34m:\u001b[0m\u001b[0;34m\u001b[0m\u001b[0;34m\u001b[0m\u001b[0m\n\u001b[1;32m    702\u001b[0m             \u001b[0mbase\u001b[0m \u001b[0;34m=\u001b[0m \u001b[0moperator\u001b[0m\u001b[0;34m.\u001b[0m\u001b[0mparent\u001b[0m\u001b[0;34m(\u001b[0m\u001b[0;34m)\u001b[0m\u001b[0;34m.\u001b[0m\u001b[0mbase\u001b[0m\u001b[0;34m(\u001b[0m\u001b[0;34m)\u001b[0m\u001b[0;34m;\u001b[0m \u001b[0mn\u001b[0m \u001b[0;34m=\u001b[0m \u001b[0moperator\u001b[0m\u001b[0;34m.\u001b[0m\u001b[0mnrows\u001b[0m\u001b[0;34m(\u001b[0m\u001b[0;34m)\u001b[0m\u001b[0;34m\u001b[0m\u001b[0;34m\u001b[0m\u001b[0m\n\u001b[0;32m--> 703\u001b[0;31m             \u001b[0;32mreturn\u001b[0m \u001b[0mMatrix\u001b[0m\u001b[0;34m(\u001b[0m\u001b[0mbase\u001b[0m\u001b[0;34m,\u001b[0m \u001b[0;34m[\u001b[0m\u001b[0;34m[\u001b[0m\u001b[0mself\u001b[0m\u001b[0;34m.\u001b[0m\u001b[0msimplify_operator\u001b[0m\u001b[0;34m(\u001b[0m\u001b[0moperator\u001b[0m\u001b[0;34m.\u001b[0m\u001b[0mcoefficient\u001b[0m\u001b[0;34m(\u001b[0m\u001b[0;34m(\u001b[0m\u001b[0mi\u001b[0m\u001b[0;34m,\u001b[0m\u001b[0mj\u001b[0m\u001b[0;34m)\u001b[0m\u001b[0;34m)\u001b[0m\u001b[0;34m)\u001b[0m \u001b[0;32mfor\u001b[0m \u001b[0mj\u001b[0m \u001b[0;32min\u001b[0m \u001b[0mrange\u001b[0m\u001b[0;34m(\u001b[0m\u001b[0mn\u001b[0m\u001b[0;34m)\u001b[0m\u001b[0;34m]\u001b[0m \u001b[0;32mfor\u001b[0m \u001b[0mi\u001b[0m \u001b[0;32min\u001b[0m \u001b[0mrange\u001b[0m\u001b[0;34m(\u001b[0m\u001b[0mn\u001b[0m\u001b[0;34m)\u001b[0m\u001b[0;34m]\u001b[0m\u001b[0;34m)\u001b[0m\u001b[0;34m\u001b[0m\u001b[0;34m\u001b[0m\u001b[0m\n\u001b[0m\u001b[1;32m    704\u001b[0m         \u001b[0moperator\u001b[0m \u001b[0;34m=\u001b[0m \u001b[0mself\u001b[0m\u001b[0;34m.\u001b[0m\u001b[0mOS\u001b[0m\u001b[0;34m(\u001b[0m\u001b[0;34m)\u001b[0m\u001b[0;34m(\u001b[0m\u001b[0mstr\u001b[0m\u001b[0;34m(\u001b[0m\u001b[0moperator\u001b[0m\u001b[0;34m)\u001b[0m\u001b[0;34m)\u001b[0m\u001b[0;34m\u001b[0m\u001b[0;34m\u001b[0m\u001b[0m\n\u001b[1;32m    705\u001b[0m         \u001b[0mSn\u001b[0m \u001b[0;34m=\u001b[0m \u001b[0mself\u001b[0m\u001b[0;34m.\u001b[0m\u001b[0mSn\u001b[0m\u001b[0;34m(\u001b[0m\u001b[0;34m)\u001b[0m\u001b[0;34m;\u001b[0m \u001b[0mSni\u001b[0m \u001b[0;34m=\u001b[0m \u001b[0mself\u001b[0m\u001b[0;34m.\u001b[0m\u001b[0mSni\u001b[0m\u001b[0;34m(\u001b[0m\u001b[0;34m)\u001b[0m\u001b[0;34m\u001b[0m\u001b[0;34m\u001b[0m\u001b[0m\n",
      "\u001b[0;32m~/sage/local/var/lib/sage/venv-python3.8/lib/python3.8/site-packages/pseries_basis/psbasis.py\u001b[0m in \u001b[0;36m<listcomp>\u001b[0;34m(.0)\u001b[0m\n\u001b[1;32m    701\u001b[0m         \u001b[0;32mif\u001b[0m\u001b[0;34m(\u001b[0m\u001b[0mis_Matrix\u001b[0m\u001b[0;34m(\u001b[0m\u001b[0moperator\u001b[0m\u001b[0;34m)\u001b[0m\u001b[0;34m)\u001b[0m\u001b[0;34m:\u001b[0m\u001b[0;34m\u001b[0m\u001b[0;34m\u001b[0m\u001b[0m\n\u001b[1;32m    702\u001b[0m             \u001b[0mbase\u001b[0m \u001b[0;34m=\u001b[0m \u001b[0moperator\u001b[0m\u001b[0;34m.\u001b[0m\u001b[0mparent\u001b[0m\u001b[0;34m(\u001b[0m\u001b[0;34m)\u001b[0m\u001b[0;34m.\u001b[0m\u001b[0mbase\u001b[0m\u001b[0;34m(\u001b[0m\u001b[0;34m)\u001b[0m\u001b[0;34m;\u001b[0m \u001b[0mn\u001b[0m \u001b[0;34m=\u001b[0m \u001b[0moperator\u001b[0m\u001b[0;34m.\u001b[0m\u001b[0mnrows\u001b[0m\u001b[0;34m(\u001b[0m\u001b[0;34m)\u001b[0m\u001b[0;34m\u001b[0m\u001b[0;34m\u001b[0m\u001b[0m\n\u001b[0;32m--> 703\u001b[0;31m             \u001b[0;32mreturn\u001b[0m \u001b[0mMatrix\u001b[0m\u001b[0;34m(\u001b[0m\u001b[0mbase\u001b[0m\u001b[0;34m,\u001b[0m \u001b[0;34m[\u001b[0m\u001b[0;34m[\u001b[0m\u001b[0mself\u001b[0m\u001b[0;34m.\u001b[0m\u001b[0msimplify_operator\u001b[0m\u001b[0;34m(\u001b[0m\u001b[0moperator\u001b[0m\u001b[0;34m.\u001b[0m\u001b[0mcoefficient\u001b[0m\u001b[0;34m(\u001b[0m\u001b[0;34m(\u001b[0m\u001b[0mi\u001b[0m\u001b[0;34m,\u001b[0m\u001b[0mj\u001b[0m\u001b[0;34m)\u001b[0m\u001b[0;34m)\u001b[0m\u001b[0;34m)\u001b[0m \u001b[0;32mfor\u001b[0m \u001b[0mj\u001b[0m \u001b[0;32min\u001b[0m \u001b[0mrange\u001b[0m\u001b[0;34m(\u001b[0m\u001b[0mn\u001b[0m\u001b[0;34m)\u001b[0m\u001b[0;34m]\u001b[0m \u001b[0;32mfor\u001b[0m \u001b[0mi\u001b[0m \u001b[0;32min\u001b[0m \u001b[0mrange\u001b[0m\u001b[0;34m(\u001b[0m\u001b[0mn\u001b[0m\u001b[0;34m)\u001b[0m\u001b[0;34m]\u001b[0m\u001b[0;34m)\u001b[0m\u001b[0;34m\u001b[0m\u001b[0;34m\u001b[0m\u001b[0m\n\u001b[0m\u001b[1;32m    704\u001b[0m         \u001b[0moperator\u001b[0m \u001b[0;34m=\u001b[0m \u001b[0mself\u001b[0m\u001b[0;34m.\u001b[0m\u001b[0mOS\u001b[0m\u001b[0;34m(\u001b[0m\u001b[0;34m)\u001b[0m\u001b[0;34m(\u001b[0m\u001b[0mstr\u001b[0m\u001b[0;34m(\u001b[0m\u001b[0moperator\u001b[0m\u001b[0;34m)\u001b[0m\u001b[0;34m)\u001b[0m\u001b[0;34m\u001b[0m\u001b[0;34m\u001b[0m\u001b[0m\n\u001b[1;32m    705\u001b[0m         \u001b[0mSn\u001b[0m \u001b[0;34m=\u001b[0m \u001b[0mself\u001b[0m\u001b[0;34m.\u001b[0m\u001b[0mSn\u001b[0m\u001b[0;34m(\u001b[0m\u001b[0;34m)\u001b[0m\u001b[0;34m;\u001b[0m \u001b[0mSni\u001b[0m \u001b[0;34m=\u001b[0m \u001b[0mself\u001b[0m\u001b[0;34m.\u001b[0m\u001b[0mSni\u001b[0m\u001b[0;34m(\u001b[0m\u001b[0;34m)\u001b[0m\u001b[0;34m\u001b[0m\u001b[0;34m\u001b[0m\u001b[0m\n",
      "\u001b[0;32m~/sage/local/var/lib/sage/venv-python3.8/lib/python3.8/site-packages/pseries_basis/psbasis.py\u001b[0m in \u001b[0;36m<listcomp>\u001b[0;34m(.0)\u001b[0m\n\u001b[1;32m    701\u001b[0m         \u001b[0;32mif\u001b[0m\u001b[0;34m(\u001b[0m\u001b[0mis_Matrix\u001b[0m\u001b[0;34m(\u001b[0m\u001b[0moperator\u001b[0m\u001b[0;34m)\u001b[0m\u001b[0;34m)\u001b[0m\u001b[0;34m:\u001b[0m\u001b[0;34m\u001b[0m\u001b[0;34m\u001b[0m\u001b[0m\n\u001b[1;32m    702\u001b[0m             \u001b[0mbase\u001b[0m \u001b[0;34m=\u001b[0m \u001b[0moperator\u001b[0m\u001b[0;34m.\u001b[0m\u001b[0mparent\u001b[0m\u001b[0;34m(\u001b[0m\u001b[0;34m)\u001b[0m\u001b[0;34m.\u001b[0m\u001b[0mbase\u001b[0m\u001b[0;34m(\u001b[0m\u001b[0;34m)\u001b[0m\u001b[0;34m;\u001b[0m \u001b[0mn\u001b[0m \u001b[0;34m=\u001b[0m \u001b[0moperator\u001b[0m\u001b[0;34m.\u001b[0m\u001b[0mnrows\u001b[0m\u001b[0;34m(\u001b[0m\u001b[0;34m)\u001b[0m\u001b[0;34m\u001b[0m\u001b[0;34m\u001b[0m\u001b[0m\n\u001b[0;32m--> 703\u001b[0;31m             \u001b[0;32mreturn\u001b[0m \u001b[0mMatrix\u001b[0m\u001b[0;34m(\u001b[0m\u001b[0mbase\u001b[0m\u001b[0;34m,\u001b[0m \u001b[0;34m[\u001b[0m\u001b[0;34m[\u001b[0m\u001b[0mself\u001b[0m\u001b[0;34m.\u001b[0m\u001b[0msimplify_operator\u001b[0m\u001b[0;34m(\u001b[0m\u001b[0moperator\u001b[0m\u001b[0;34m.\u001b[0m\u001b[0mcoefficient\u001b[0m\u001b[0;34m(\u001b[0m\u001b[0;34m(\u001b[0m\u001b[0mi\u001b[0m\u001b[0;34m,\u001b[0m\u001b[0mj\u001b[0m\u001b[0;34m)\u001b[0m\u001b[0;34m)\u001b[0m\u001b[0;34m)\u001b[0m \u001b[0;32mfor\u001b[0m \u001b[0mj\u001b[0m \u001b[0;32min\u001b[0m \u001b[0mrange\u001b[0m\u001b[0;34m(\u001b[0m\u001b[0mn\u001b[0m\u001b[0;34m)\u001b[0m\u001b[0;34m]\u001b[0m \u001b[0;32mfor\u001b[0m \u001b[0mi\u001b[0m \u001b[0;32min\u001b[0m \u001b[0mrange\u001b[0m\u001b[0;34m(\u001b[0m\u001b[0mn\u001b[0m\u001b[0;34m)\u001b[0m\u001b[0;34m]\u001b[0m\u001b[0;34m)\u001b[0m\u001b[0;34m\u001b[0m\u001b[0;34m\u001b[0m\u001b[0m\n\u001b[0m\u001b[1;32m    704\u001b[0m         \u001b[0moperator\u001b[0m \u001b[0;34m=\u001b[0m \u001b[0mself\u001b[0m\u001b[0;34m.\u001b[0m\u001b[0mOS\u001b[0m\u001b[0;34m(\u001b[0m\u001b[0;34m)\u001b[0m\u001b[0;34m(\u001b[0m\u001b[0mstr\u001b[0m\u001b[0;34m(\u001b[0m\u001b[0moperator\u001b[0m\u001b[0;34m)\u001b[0m\u001b[0;34m)\u001b[0m\u001b[0;34m\u001b[0m\u001b[0;34m\u001b[0m\u001b[0m\n\u001b[1;32m    705\u001b[0m         \u001b[0mSn\u001b[0m \u001b[0;34m=\u001b[0m \u001b[0mself\u001b[0m\u001b[0;34m.\u001b[0m\u001b[0mSn\u001b[0m\u001b[0;34m(\u001b[0m\u001b[0;34m)\u001b[0m\u001b[0;34m;\u001b[0m \u001b[0mSni\u001b[0m \u001b[0;34m=\u001b[0m \u001b[0mself\u001b[0m\u001b[0;34m.\u001b[0m\u001b[0mSni\u001b[0m\u001b[0;34m(\u001b[0m\u001b[0;34m)\u001b[0m\u001b[0;34m\u001b[0m\u001b[0;34m\u001b[0m\u001b[0m\n",
      "\u001b[0;32m~/sage/local/var/lib/sage/venv-python3.8/lib/python3.8/site-packages/pseries_basis/psbasis.py\u001b[0m in \u001b[0;36msimplify_operator\u001b[0;34m(self, operator)\u001b[0m\n\u001b[1;32m    713\u001b[0m             \u001b[0md1\u001b[0m\u001b[0;34m,\u001b[0m\u001b[0md2\u001b[0m \u001b[0;34m=\u001b[0m \u001b[0mmonomials\u001b[0m\u001b[0;34m[\u001b[0m\u001b[0mi\u001b[0m\u001b[0;34m]\u001b[0m\u001b[0;34m.\u001b[0m\u001b[0mdegrees\u001b[0m\u001b[0;34m(\u001b[0m\u001b[0;34m)\u001b[0m\u001b[0;34m\u001b[0m\u001b[0;34m\u001b[0m\u001b[0m\n\u001b[1;32m    714\u001b[0m             \u001b[0;32mif\u001b[0m\u001b[0;34m(\u001b[0m\u001b[0md1\u001b[0m \u001b[0;34m>\u001b[0m \u001b[0md2\u001b[0m\u001b[0;34m)\u001b[0m\u001b[0;34m:\u001b[0m\u001b[0;34m\u001b[0m\u001b[0;34m\u001b[0m\u001b[0m\n\u001b[0;32m--> 715\u001b[0;31m                 \u001b[0mresult\u001b[0m \u001b[0;34m+=\u001b[0m \u001b[0mcoefficients\u001b[0m\u001b[0;34m[\u001b[0m\u001b[0mi\u001b[0m\u001b[0;34m]\u001b[0m\u001b[0;34m*\u001b[0m\u001b[0mSn\u001b[0m\u001b[0;34m**\u001b[0m\u001b[0;34m(\u001b[0m\u001b[0md1\u001b[0m\u001b[0;34m-\u001b[0m\u001b[0md2\u001b[0m\u001b[0;34m)\u001b[0m\u001b[0;34m\u001b[0m\u001b[0;34m\u001b[0m\u001b[0m\n\u001b[0m\u001b[1;32m    716\u001b[0m             \u001b[0;32melif\u001b[0m\u001b[0;34m(\u001b[0m\u001b[0md2\u001b[0m \u001b[0;34m>\u001b[0m \u001b[0md1\u001b[0m\u001b[0;34m)\u001b[0m\u001b[0;34m:\u001b[0m\u001b[0;34m\u001b[0m\u001b[0;34m\u001b[0m\u001b[0m\n\u001b[1;32m    717\u001b[0m                 \u001b[0mresult\u001b[0m \u001b[0;34m+=\u001b[0m \u001b[0mcoefficients\u001b[0m\u001b[0;34m[\u001b[0m\u001b[0mi\u001b[0m\u001b[0;34m]\u001b[0m\u001b[0;34m*\u001b[0m\u001b[0mSni\u001b[0m\u001b[0;34m**\u001b[0m\u001b[0;34m(\u001b[0m\u001b[0md2\u001b[0m\u001b[0;34m-\u001b[0m\u001b[0md1\u001b[0m\u001b[0;34m)\u001b[0m\u001b[0;34m\u001b[0m\u001b[0;34m\u001b[0m\u001b[0m\n",
      "\u001b[0;32m~/sage/src/sage/structure/element.pyx\u001b[0m in \u001b[0;36msage.structure.element.Element.__mul__\u001b[0;34m()\u001b[0m\n\u001b[1;32m   1514\u001b[0m             \u001b[0;32mreturn\u001b[0m \u001b[0;34m(\u001b[0m\u001b[0;34m<\u001b[0m\u001b[0mElement\u001b[0m\u001b[0;34m>\u001b[0m\u001b[0mleft\u001b[0m\u001b[0;34m)\u001b[0m\u001b[0;34m.\u001b[0m\u001b[0m_mul_\u001b[0m\u001b[0;34m(\u001b[0m\u001b[0mright\u001b[0m\u001b[0;34m)\u001b[0m\u001b[0;34m\u001b[0m\u001b[0;34m\u001b[0m\u001b[0m\n\u001b[1;32m   1515\u001b[0m         \u001b[0;32mif\u001b[0m \u001b[0mBOTH_ARE_ELEMENT\u001b[0m\u001b[0;34m(\u001b[0m\u001b[0mcl\u001b[0m\u001b[0;34m)\u001b[0m\u001b[0;34m:\u001b[0m\u001b[0;34m\u001b[0m\u001b[0;34m\u001b[0m\u001b[0m\n\u001b[0;32m-> 1516\u001b[0;31m             \u001b[0;32mreturn\u001b[0m \u001b[0mcoercion_model\u001b[0m\u001b[0;34m.\u001b[0m\u001b[0mbin_op\u001b[0m\u001b[0;34m(\u001b[0m\u001b[0mleft\u001b[0m\u001b[0;34m,\u001b[0m \u001b[0mright\u001b[0m\u001b[0;34m,\u001b[0m \u001b[0mmul\u001b[0m\u001b[0;34m)\u001b[0m\u001b[0;34m\u001b[0m\u001b[0;34m\u001b[0m\u001b[0m\n\u001b[0m\u001b[1;32m   1517\u001b[0m \u001b[0;34m\u001b[0m\u001b[0m\n\u001b[1;32m   1518\u001b[0m         \u001b[0mcdef\u001b[0m \u001b[0mlong\u001b[0m \u001b[0mvalue\u001b[0m\u001b[0;34m\u001b[0m\u001b[0;34m\u001b[0m\u001b[0m\n",
      "\u001b[0;32m~/sage/src/sage/structure/coerce.pyx\u001b[0m in \u001b[0;36msage.structure.coerce.CoercionModel.bin_op\u001b[0;34m()\u001b[0m\n\u001b[1;32m   1202\u001b[0m             \u001b[0mself\u001b[0m\u001b[0;34m.\u001b[0m\u001b[0m_record_exception\u001b[0m\u001b[0;34m(\u001b[0m\u001b[0;34m)\u001b[0m\u001b[0;34m\u001b[0m\u001b[0;34m\u001b[0m\u001b[0m\n\u001b[1;32m   1203\u001b[0m         \u001b[0;32melse\u001b[0m\u001b[0;34m:\u001b[0m\u001b[0;34m\u001b[0m\u001b[0;34m\u001b[0m\u001b[0m\n\u001b[0;32m-> 1204\u001b[0;31m             \u001b[0;32mreturn\u001b[0m \u001b[0mPyObject_CallObject\u001b[0m\u001b[0;34m(\u001b[0m\u001b[0mop\u001b[0m\u001b[0;34m,\u001b[0m \u001b[0mxy\u001b[0m\u001b[0;34m)\u001b[0m\u001b[0;34m\u001b[0m\u001b[0;34m\u001b[0m\u001b[0m\n\u001b[0m\u001b[1;32m   1205\u001b[0m \u001b[0;34m\u001b[0m\u001b[0m\n\u001b[1;32m   1206\u001b[0m         \u001b[0;32mif\u001b[0m \u001b[0mop\u001b[0m \u001b[0;32mis\u001b[0m \u001b[0mmul\u001b[0m\u001b[0;34m:\u001b[0m\u001b[0;34m\u001b[0m\u001b[0;34m\u001b[0m\u001b[0m\n",
      "\u001b[0;32m~/sage/src/sage/structure/element.pyx\u001b[0m in \u001b[0;36msage.structure.element.Element.__mul__\u001b[0;34m()\u001b[0m\n\u001b[1;32m   1512\u001b[0m         \u001b[0mcdef\u001b[0m \u001b[0mint\u001b[0m \u001b[0mcl\u001b[0m \u001b[0;34m=\u001b[0m \u001b[0mclassify_elements\u001b[0m\u001b[0;34m(\u001b[0m\u001b[0mleft\u001b[0m\u001b[0;34m,\u001b[0m \u001b[0mright\u001b[0m\u001b[0;34m)\u001b[0m\u001b[0;34m\u001b[0m\u001b[0;34m\u001b[0m\u001b[0m\n\u001b[1;32m   1513\u001b[0m         \u001b[0;32mif\u001b[0m \u001b[0mHAVE_SAME_PARENT\u001b[0m\u001b[0;34m(\u001b[0m\u001b[0mcl\u001b[0m\u001b[0;34m)\u001b[0m\u001b[0;34m:\u001b[0m\u001b[0;34m\u001b[0m\u001b[0;34m\u001b[0m\u001b[0m\n\u001b[0;32m-> 1514\u001b[0;31m             \u001b[0;32mreturn\u001b[0m \u001b[0;34m(\u001b[0m\u001b[0;34m<\u001b[0m\u001b[0mElement\u001b[0m\u001b[0;34m>\u001b[0m\u001b[0mleft\u001b[0m\u001b[0;34m)\u001b[0m\u001b[0;34m.\u001b[0m\u001b[0m_mul_\u001b[0m\u001b[0;34m(\u001b[0m\u001b[0mright\u001b[0m\u001b[0;34m)\u001b[0m\u001b[0;34m\u001b[0m\u001b[0;34m\u001b[0m\u001b[0m\n\u001b[0m\u001b[1;32m   1515\u001b[0m         \u001b[0;32mif\u001b[0m \u001b[0mBOTH_ARE_ELEMENT\u001b[0m\u001b[0;34m(\u001b[0m\u001b[0mcl\u001b[0m\u001b[0;34m)\u001b[0m\u001b[0;34m:\u001b[0m\u001b[0;34m\u001b[0m\u001b[0;34m\u001b[0m\u001b[0m\n\u001b[1;32m   1516\u001b[0m             \u001b[0;32mreturn\u001b[0m \u001b[0mcoercion_model\u001b[0m\u001b[0;34m.\u001b[0m\u001b[0mbin_op\u001b[0m\u001b[0;34m(\u001b[0m\u001b[0mleft\u001b[0m\u001b[0;34m,\u001b[0m \u001b[0mright\u001b[0m\u001b[0;34m,\u001b[0m \u001b[0mmul\u001b[0m\u001b[0;34m)\u001b[0m\u001b[0;34m\u001b[0m\u001b[0;34m\u001b[0m\u001b[0m\n",
      "\u001b[0;32m~/sage/src/sage/structure/element.pyx\u001b[0m in \u001b[0;36msage.structure.element.RingElement._mul_\u001b[0;34m()\u001b[0m\n\u001b[1;32m   2628\u001b[0m \u001b[0;34m\u001b[0m\u001b[0m\n\u001b[1;32m   2629\u001b[0m \u001b[0mcdef\u001b[0m \u001b[0;32mclass\u001b[0m \u001b[0mRingElement\u001b[0m\u001b[0;34m(\u001b[0m\u001b[0mModuleElement\u001b[0m\u001b[0;34m)\u001b[0m\u001b[0;34m:\u001b[0m\u001b[0;34m\u001b[0m\u001b[0;34m\u001b[0m\u001b[0m\n\u001b[0;32m-> 2630\u001b[0;31m     \u001b[0mcpdef\u001b[0m \u001b[0m_mul_\u001b[0m\u001b[0;34m(\u001b[0m\u001b[0mself\u001b[0m\u001b[0;34m,\u001b[0m \u001b[0mother\u001b[0m\u001b[0;34m)\u001b[0m\u001b[0;34m:\u001b[0m\u001b[0;34m\u001b[0m\u001b[0;34m\u001b[0m\u001b[0m\n\u001b[0m\u001b[1;32m   2631\u001b[0m         \"\"\"\n\u001b[1;32m   2632\u001b[0m         \u001b[0mAbstract\u001b[0m \u001b[0mmultiplication\u001b[0m \u001b[0mmethod\u001b[0m\u001b[0;34m\u001b[0m\u001b[0;34m\u001b[0m\u001b[0m\n",
      "\u001b[0;32m~/sage/local/var/lib/sage/venv-python3.8/lib/python3.8/site-packages/ore_algebra/ore_operator_mult.py\u001b[0m in \u001b[0;36m_mul_\u001b[0;34m(self, other)\u001b[0m\n\u001b[1;32m    162\u001b[0m         \u001b[0mpoly\u001b[0m \u001b[0;34m=\u001b[0m \u001b[0mself\u001b[0m\u001b[0;34m.\u001b[0m\u001b[0m__poly\u001b[0m\u001b[0;34m\u001b[0m\u001b[0;34m\u001b[0m\u001b[0m\n\u001b[1;32m    163\u001b[0m         \u001b[0;32mfor\u001b[0m \u001b[0mexp\u001b[0m \u001b[0;32min\u001b[0m \u001b[0mpoly\u001b[0m\u001b[0;34m.\u001b[0m\u001b[0mdict\u001b[0m\u001b[0;34m(\u001b[0m\u001b[0;34m)\u001b[0m\u001b[0;34m:\u001b[0m\u001b[0;34m\u001b[0m\u001b[0;34m\u001b[0m\u001b[0m\n\u001b[0;32m--> 164\u001b[0;31m             \u001b[0mout\u001b[0m \u001b[0;34m+=\u001b[0m \u001b[0mpoly\u001b[0m\u001b[0;34m[\u001b[0m\u001b[0mexp\u001b[0m\u001b[0;34m]\u001b[0m\u001b[0;34m*\u001b[0m\u001b[0mmultiple\u001b[0m\u001b[0;34m(\u001b[0m\u001b[0mexp\u001b[0m\u001b[0;34m)\u001b[0m\u001b[0;34m\u001b[0m\u001b[0;34m\u001b[0m\u001b[0m\n\u001b[0m\u001b[1;32m    165\u001b[0m \u001b[0;34m\u001b[0m\u001b[0m\n\u001b[1;32m    166\u001b[0m         \u001b[0mmonomial_times_other\u001b[0m\u001b[0;34m.\u001b[0m\u001b[0mclear\u001b[0m\u001b[0;34m(\u001b[0m\u001b[0;34m)\u001b[0m \u001b[0;31m# support garbage collector\u001b[0m\u001b[0;34m\u001b[0m\u001b[0;34m\u001b[0m\u001b[0m\n",
      "\u001b[0;32m~/sage/src/sage/rings/polynomial/multi_polynomial_libsingular.pyx\u001b[0m in \u001b[0;36msage.rings.polynomial.multi_polynomial_libsingular.MPolynomial_libsingular.__getitem__\u001b[0;34m()\u001b[0m\n\u001b[1;32m   3116\u001b[0m             \u001b[0;32mif\u001b[0m \u001b[0mp_ExpVectorEqual\u001b[0m\u001b[0;34m(\u001b[0m\u001b[0mp\u001b[0m\u001b[0;34m,\u001b[0m \u001b[0mm\u001b[0m\u001b[0;34m,\u001b[0m \u001b[0mr\u001b[0m\u001b[0;34m)\u001b[0m \u001b[0;34m==\u001b[0m \u001b[0;36m1\u001b[0m\u001b[0;34m:\u001b[0m\u001b[0;34m\u001b[0m\u001b[0;34m\u001b[0m\u001b[0m\n\u001b[1;32m   3117\u001b[0m                 \u001b[0mp_Delete\u001b[0m\u001b[0;34m(\u001b[0m\u001b[0;34m&\u001b[0m\u001b[0mm\u001b[0m\u001b[0;34m,\u001b[0m\u001b[0mr\u001b[0m\u001b[0;34m)\u001b[0m\u001b[0;34m\u001b[0m\u001b[0;34m\u001b[0m\u001b[0m\n\u001b[0;32m-> 3118\u001b[0;31m                 \u001b[0;32mreturn\u001b[0m \u001b[0msi2sa\u001b[0m\u001b[0;34m(\u001b[0m\u001b[0mp_GetCoeff\u001b[0m\u001b[0;34m(\u001b[0m\u001b[0mp\u001b[0m\u001b[0;34m,\u001b[0m \u001b[0mr\u001b[0m\u001b[0;34m)\u001b[0m\u001b[0;34m,\u001b[0m \u001b[0mr\u001b[0m\u001b[0;34m,\u001b[0m \u001b[0mself\u001b[0m\u001b[0;34m.\u001b[0m\u001b[0m_parent\u001b[0m\u001b[0;34m.\u001b[0m\u001b[0m_base\u001b[0m\u001b[0;34m)\u001b[0m\u001b[0;34m\u001b[0m\u001b[0;34m\u001b[0m\u001b[0m\n\u001b[0m\u001b[1;32m   3119\u001b[0m             \u001b[0mp\u001b[0m \u001b[0;34m=\u001b[0m \u001b[0mpNext\u001b[0m\u001b[0;34m(\u001b[0m\u001b[0mp\u001b[0m\u001b[0;34m)\u001b[0m\u001b[0;34m\u001b[0m\u001b[0;34m\u001b[0m\u001b[0m\n\u001b[1;32m   3120\u001b[0m \u001b[0;34m\u001b[0m\u001b[0m\n",
      "\u001b[0;32m~/sage/src/sage/libs/singular/singular.pyx\u001b[0m in \u001b[0;36msage.libs.singular.singular.si2sa\u001b[0;34m()\u001b[0m\n\u001b[1;32m   1370\u001b[0m \u001b[0;34m\u001b[0m\u001b[0m\n\u001b[1;32m   1371\u001b[0m     \u001b[0;32melif\u001b[0m \u001b[0misinstance\u001b[0m\u001b[0;34m(\u001b[0m\u001b[0mbase\u001b[0m\u001b[0;34m,\u001b[0m \u001b[0mFractionField_generic\u001b[0m\u001b[0;34m)\u001b[0m \u001b[0;32mand\u001b[0m \u001b[0misinstance\u001b[0m\u001b[0;34m(\u001b[0m\u001b[0mbase\u001b[0m\u001b[0;34m.\u001b[0m\u001b[0mbase\u001b[0m\u001b[0;34m(\u001b[0m\u001b[0;34m)\u001b[0m\u001b[0;34m,\u001b[0m \u001b[0;34m(\u001b[0m\u001b[0mMPolynomialRing_libsingular\u001b[0m\u001b[0;34m,\u001b[0m \u001b[0mPolynomialRing_field\u001b[0m\u001b[0;34m)\u001b[0m\u001b[0;34m)\u001b[0m \u001b[0;32mand\u001b[0m \u001b[0misinstance\u001b[0m\u001b[0;34m(\u001b[0m\u001b[0mbase\u001b[0m\u001b[0;34m.\u001b[0m\u001b[0mbase_ring\u001b[0m\u001b[0;34m(\u001b[0m\u001b[0;34m)\u001b[0m\u001b[0;34m,\u001b[0m \u001b[0mRationalField\u001b[0m\u001b[0;34m)\u001b[0m\u001b[0;34m:\u001b[0m\u001b[0;34m\u001b[0m\u001b[0;34m\u001b[0m\u001b[0m\n\u001b[0;32m-> 1372\u001b[0;31m         \u001b[0;32mreturn\u001b[0m \u001b[0msi2sa_transext_QQ\u001b[0m\u001b[0;34m(\u001b[0m\u001b[0mn\u001b[0m\u001b[0;34m,\u001b[0m \u001b[0m_ring\u001b[0m\u001b[0;34m,\u001b[0m \u001b[0mbase\u001b[0m\u001b[0;34m)\u001b[0m\u001b[0;34m\u001b[0m\u001b[0;34m\u001b[0m\u001b[0m\n\u001b[0m\u001b[1;32m   1373\u001b[0m \u001b[0;34m\u001b[0m\u001b[0m\n\u001b[1;32m   1374\u001b[0m     \u001b[0;32melif\u001b[0m \u001b[0misinstance\u001b[0m\u001b[0;34m(\u001b[0m\u001b[0mbase\u001b[0m\u001b[0;34m,\u001b[0m \u001b[0mFractionField_generic\u001b[0m\u001b[0;34m)\u001b[0m \u001b[0;32mand\u001b[0m \u001b[0misinstance\u001b[0m\u001b[0;34m(\u001b[0m\u001b[0mbase\u001b[0m\u001b[0;34m.\u001b[0m\u001b[0mbase\u001b[0m\u001b[0;34m(\u001b[0m\u001b[0;34m)\u001b[0m\u001b[0;34m,\u001b[0m \u001b[0;34m(\u001b[0m\u001b[0mMPolynomialRing_libsingular\u001b[0m\u001b[0;34m,\u001b[0m \u001b[0mPolynomialRing_field\u001b[0m\u001b[0;34m)\u001b[0m\u001b[0;34m)\u001b[0m \u001b[0;32mand\u001b[0m \u001b[0misinstance\u001b[0m\u001b[0;34m(\u001b[0m\u001b[0mbase\u001b[0m\u001b[0;34m.\u001b[0m\u001b[0mbase_ring\u001b[0m\u001b[0;34m(\u001b[0m\u001b[0;34m)\u001b[0m\u001b[0;34m,\u001b[0m \u001b[0mFiniteField_prime_modn\u001b[0m\u001b[0;34m)\u001b[0m\u001b[0;34m:\u001b[0m\u001b[0;34m\u001b[0m\u001b[0;34m\u001b[0m\u001b[0m\n",
      "\u001b[0;32m~/sage/src/sage/libs/singular/singular.pyx\u001b[0m in \u001b[0;36msage.libs.singular.singular.si2sa_transext_QQ\u001b[0;34m()\u001b[0m\n\u001b[1;32m    402\u001b[0m             \u001b[0me\u001b[0m \u001b[0;34m=\u001b[0m \u001b[0mp_GetExp\u001b[0m\u001b[0;34m(\u001b[0m\u001b[0mnumer\u001b[0m\u001b[0;34m,\u001b[0m \u001b[0mi\u001b[0m\u001b[0;34m+\u001b[0m\u001b[0;36m1\u001b[0m\u001b[0;34m,\u001b[0m \u001b[0mcfRing\u001b[0m\u001b[0;34m)\u001b[0m\u001b[0;34m\u001b[0m\u001b[0;34m\u001b[0m\u001b[0m\n\u001b[1;32m    403\u001b[0m             \u001b[0;32mif\u001b[0m \u001b[0me\u001b[0m\u001b[0;34m!=\u001b[0m \u001b[0;36m0\u001b[0m\u001b[0;34m:\u001b[0m\u001b[0;34m\u001b[0m\u001b[0;34m\u001b[0m\u001b[0m\n\u001b[0;32m--> 404\u001b[0;31m                 \u001b[0mcoeff\u001b[0m \u001b[0;34m*=\u001b[0m \u001b[0mbase\u001b[0m\u001b[0;34m.\u001b[0m\u001b[0mgen\u001b[0m\u001b[0;34m(\u001b[0m\u001b[0mi\u001b[0m\u001b[0;34m)\u001b[0m\u001b[0;34m**\u001b[0m\u001b[0me\u001b[0m\u001b[0;34m\u001b[0m\u001b[0;34m\u001b[0m\u001b[0m\n\u001b[0m\u001b[1;32m    405\u001b[0m         \u001b[0msnumer\u001b[0m \u001b[0;34m+=\u001b[0m \u001b[0mcoeff\u001b[0m\u001b[0;34m\u001b[0m\u001b[0;34m\u001b[0m\u001b[0m\n\u001b[1;32m    406\u001b[0m         \u001b[0mnumer\u001b[0m \u001b[0;34m=\u001b[0m \u001b[0;34m<\u001b[0m\u001b[0mpoly\u001b[0m\u001b[0;34m*\u001b[0m\u001b[0;34m>\u001b[0m\u001b[0mpNext\u001b[0m\u001b[0;34m(\u001b[0m\u001b[0;34m<\u001b[0m\u001b[0mpoly\u001b[0m\u001b[0;34m*\u001b[0m\u001b[0;34m>\u001b[0m\u001b[0mnumer\u001b[0m\u001b[0;34m)\u001b[0m\u001b[0;34m\u001b[0m\u001b[0;34m\u001b[0m\u001b[0m\n",
      "\u001b[0;32m~/sage/src/sage/rings/rational.pyx\u001b[0m in \u001b[0;36msage.rings.rational.Rational.__mul__\u001b[0;34m()\u001b[0m\n\u001b[1;32m   2412\u001b[0m             \u001b[0;32mreturn\u001b[0m \u001b[0mx\u001b[0m\u001b[0;34m\u001b[0m\u001b[0;34m\u001b[0m\u001b[0m\n\u001b[1;32m   2413\u001b[0m \u001b[0;34m\u001b[0m\u001b[0m\n\u001b[0;32m-> 2414\u001b[0;31m         \u001b[0;32mreturn\u001b[0m \u001b[0mcoercion_model\u001b[0m\u001b[0;34m.\u001b[0m\u001b[0mbin_op\u001b[0m\u001b[0;34m(\u001b[0m\u001b[0mleft\u001b[0m\u001b[0;34m,\u001b[0m \u001b[0mright\u001b[0m\u001b[0;34m,\u001b[0m \u001b[0moperator\u001b[0m\u001b[0;34m.\u001b[0m\u001b[0mmul\u001b[0m\u001b[0;34m)\u001b[0m\u001b[0;34m\u001b[0m\u001b[0;34m\u001b[0m\u001b[0m\n\u001b[0m\u001b[1;32m   2415\u001b[0m \u001b[0;34m\u001b[0m\u001b[0m\n\u001b[1;32m   2416\u001b[0m     \u001b[0mcpdef\u001b[0m \u001b[0m_mul_\u001b[0m\u001b[0;34m(\u001b[0m\u001b[0mself\u001b[0m\u001b[0;34m,\u001b[0m \u001b[0mright\u001b[0m\u001b[0;34m)\u001b[0m\u001b[0;34m:\u001b[0m\u001b[0;34m\u001b[0m\u001b[0;34m\u001b[0m\u001b[0m\n",
      "\u001b[0;32m~/sage/src/sage/structure/coerce.pyx\u001b[0m in \u001b[0;36msage.structure.coerce.CoercionModel.bin_op\u001b[0;34m()\u001b[0m\n\u001b[1;32m   1198\u001b[0m         \u001b[0;31m# Now coerce to a common parent and do the operation there\u001b[0m\u001b[0;34m\u001b[0m\u001b[0;34m\u001b[0m\u001b[0;34m\u001b[0m\u001b[0m\n\u001b[1;32m   1199\u001b[0m         \u001b[0;32mtry\u001b[0m\u001b[0;34m:\u001b[0m\u001b[0;34m\u001b[0m\u001b[0;34m\u001b[0m\u001b[0m\n\u001b[0;32m-> 1200\u001b[0;31m             \u001b[0mxy\u001b[0m \u001b[0;34m=\u001b[0m \u001b[0mself\u001b[0m\u001b[0;34m.\u001b[0m\u001b[0mcanonical_coercion\u001b[0m\u001b[0;34m(\u001b[0m\u001b[0mx\u001b[0m\u001b[0;34m,\u001b[0m \u001b[0my\u001b[0m\u001b[0;34m)\u001b[0m\u001b[0;34m\u001b[0m\u001b[0;34m\u001b[0m\u001b[0m\n\u001b[0m\u001b[1;32m   1201\u001b[0m         \u001b[0;32mexcept\u001b[0m \u001b[0mTypeError\u001b[0m\u001b[0;34m:\u001b[0m\u001b[0;34m\u001b[0m\u001b[0;34m\u001b[0m\u001b[0m\n\u001b[1;32m   1202\u001b[0m             \u001b[0mself\u001b[0m\u001b[0;34m.\u001b[0m\u001b[0m_record_exception\u001b[0m\u001b[0;34m(\u001b[0m\u001b[0;34m)\u001b[0m\u001b[0;34m\u001b[0m\u001b[0;34m\u001b[0m\u001b[0m\n",
      "\u001b[0;32m~/sage/src/sage/structure/coerce.pyx\u001b[0m in \u001b[0;36msage.structure.coerce.CoercionModel.canonical_coercion\u001b[0;34m()\u001b[0m\n\u001b[1;32m   1309\u001b[0m             \u001b[0mx_map\u001b[0m\u001b[0;34m,\u001b[0m \u001b[0my_map\u001b[0m \u001b[0;34m=\u001b[0m \u001b[0mcoercions\u001b[0m\u001b[0;34m\u001b[0m\u001b[0;34m\u001b[0m\u001b[0m\n\u001b[1;32m   1310\u001b[0m             \u001b[0;32mif\u001b[0m \u001b[0mx_map\u001b[0m \u001b[0;32mis\u001b[0m \u001b[0;32mnot\u001b[0m \u001b[0;32mNone\u001b[0m\u001b[0;34m:\u001b[0m\u001b[0;34m\u001b[0m\u001b[0;34m\u001b[0m\u001b[0m\n\u001b[0;32m-> 1311\u001b[0;31m                 \u001b[0mx_elt\u001b[0m \u001b[0;34m=\u001b[0m \u001b[0;34m(\u001b[0m\u001b[0;34m<\u001b[0m\u001b[0mMap\u001b[0m\u001b[0;34m>\u001b[0m\u001b[0mx_map\u001b[0m\u001b[0;34m)\u001b[0m\u001b[0;34m.\u001b[0m\u001b[0m_call_\u001b[0m\u001b[0;34m(\u001b[0m\u001b[0mx\u001b[0m\u001b[0;34m)\u001b[0m\u001b[0;34m\u001b[0m\u001b[0;34m\u001b[0m\u001b[0m\n\u001b[0m\u001b[1;32m   1312\u001b[0m             \u001b[0;32melse\u001b[0m\u001b[0;34m:\u001b[0m\u001b[0;34m\u001b[0m\u001b[0;34m\u001b[0m\u001b[0m\n\u001b[1;32m   1313\u001b[0m                 \u001b[0mx_elt\u001b[0m \u001b[0;34m=\u001b[0m \u001b[0mx\u001b[0m\u001b[0;34m\u001b[0m\u001b[0;34m\u001b[0m\u001b[0m\n",
      "\u001b[0;32m~/sage/src/sage/structure/coerce_maps.pyx\u001b[0m in \u001b[0;36msage.structure.coerce_maps.CallableConvertMap._call_\u001b[0;34m()\u001b[0m\n\u001b[1;32m    430\u001b[0m                 \u001b[0my\u001b[0m \u001b[0;34m=\u001b[0m \u001b[0mself\u001b[0m\u001b[0;34m.\u001b[0m\u001b[0m_func\u001b[0m\u001b[0;34m(\u001b[0m\u001b[0mC\u001b[0m\u001b[0;34m,\u001b[0m \u001b[0mx\u001b[0m\u001b[0;34m)\u001b[0m\u001b[0;34m\u001b[0m\u001b[0;34m\u001b[0m\u001b[0m\n\u001b[1;32m    431\u001b[0m             \u001b[0;32melse\u001b[0m\u001b[0;34m:\u001b[0m\u001b[0;34m\u001b[0m\u001b[0;34m\u001b[0m\u001b[0m\n\u001b[0;32m--> 432\u001b[0;31m                 \u001b[0my\u001b[0m \u001b[0;34m=\u001b[0m \u001b[0mself\u001b[0m\u001b[0;34m.\u001b[0m\u001b[0m_func\u001b[0m\u001b[0;34m(\u001b[0m\u001b[0mx\u001b[0m\u001b[0;34m)\u001b[0m\u001b[0;34m\u001b[0m\u001b[0;34m\u001b[0m\u001b[0m\n\u001b[0m\u001b[1;32m    433\u001b[0m         \u001b[0;32mexcept\u001b[0m \u001b[0mException\u001b[0m\u001b[0;34m:\u001b[0m\u001b[0;34m\u001b[0m\u001b[0;34m\u001b[0m\u001b[0m\n\u001b[1;32m    434\u001b[0m             \u001b[0;32mif\u001b[0m \u001b[0mprint_warnings\u001b[0m\u001b[0;34m:\u001b[0m\u001b[0;34m\u001b[0m\u001b[0;34m\u001b[0m\u001b[0m\n",
      "\u001b[0;32m~/sage/src/sage/rings/fraction_field.py\u001b[0m in \u001b[0;36mwrapper\u001b[0;34m(x)\u001b[0m\n\u001b[1;32m    321\u001b[0m             \u001b[0;32mreturn\u001b[0m \u001b[0mparent\u001b[0m\u001b[0;34m.\u001b[0m\u001b[0m__make_element_class__\u001b[0m\u001b[0;34m(\u001b[0m\u001b[0mFractionFieldEmbedding\u001b[0m\u001b[0;34m)\u001b[0m\u001b[0;34m(\u001b[0m\u001b[0mself\u001b[0m\u001b[0;34m.\u001b[0m\u001b[0m_R\u001b[0m\u001b[0;34m,\u001b[0m \u001b[0mself\u001b[0m\u001b[0;34m,\u001b[0m \u001b[0mcategory\u001b[0m\u001b[0;34m=\u001b[0m\u001b[0mparent\u001b[0m\u001b[0;34m.\u001b[0m\u001b[0mhomset_category\u001b[0m\u001b[0;34m(\u001b[0m\u001b[0;34m)\u001b[0m\u001b[0;34m)\u001b[0m\u001b[0;34m\u001b[0m\u001b[0;34m\u001b[0m\u001b[0m\n\u001b[1;32m    322\u001b[0m \u001b[0;34m\u001b[0m\u001b[0m\n\u001b[0;32m--> 323\u001b[0;31m         \u001b[0;32mdef\u001b[0m \u001b[0mwrapper\u001b[0m\u001b[0;34m(\u001b[0m\u001b[0mx\u001b[0m\u001b[0;34m)\u001b[0m\u001b[0;34m:\u001b[0m\u001b[0;34m\u001b[0m\u001b[0;34m\u001b[0m\u001b[0m\n\u001b[0m\u001b[1;32m    324\u001b[0m             \u001b[0;32mreturn\u001b[0m \u001b[0mself\u001b[0m\u001b[0;34m.\u001b[0m\u001b[0m_element_class\u001b[0m\u001b[0;34m(\u001b[0m\u001b[0mself\u001b[0m\u001b[0;34m,\u001b[0m \u001b[0mx\u001b[0m\u001b[0;34m.\u001b[0m\u001b[0mnumerator\u001b[0m\u001b[0;34m(\u001b[0m\u001b[0;34m)\u001b[0m\u001b[0;34m,\u001b[0m \u001b[0mx\u001b[0m\u001b[0;34m.\u001b[0m\u001b[0mdenominator\u001b[0m\u001b[0;34m(\u001b[0m\u001b[0;34m)\u001b[0m\u001b[0;34m)\u001b[0m\u001b[0;34m\u001b[0m\u001b[0;34m\u001b[0m\u001b[0m\n\u001b[1;32m    325\u001b[0m \u001b[0;34m\u001b[0m\u001b[0m\n",
      "\u001b[0;32msrc/cysignals/signals.pyx\u001b[0m in \u001b[0;36mcysignals.signals.python_check_interrupt\u001b[0;34m()\u001b[0m\n",
      "\u001b[0;31mKeyboardInterrupt\u001b[0m: "
     ]
    }
   ],
   "source": [
    "examples = []\n",
    "trivial_examples = 0\n",
    "while(len(examples) < 50):\n",
    "    new_element = OE.random_element(degree=randint(0,5))\n",
    "    if(not new_element in OE.base_ring()):\n",
    "        sects = [RecurrenceOfSection(B2, new_element, 2, i) for i in range(2)]\n",
    "        if(sects != [1,1]):\n",
    "            examples += [(new_element, sects)]\n",
    "            if(len(examples)%10 == 0):\n",
    "                print(\"%d -- %d\" %(len(examples), trivial_examples))\n",
    "        else:\n",
    "            trivial_examples += 1\n",
    "            if(trivial_examples%100 == 0):\n",
    "                print(\"%d -- %d\" %(len(examples), trivial_examples))"
   ]
  },
  {
   "cell_type": "code",
   "execution_count": 67,
   "metadata": {
    "vscode": {
     "languageId": "python"
    }
   },
   "outputs": [
    {
     "data": {
      "text/html": [
       "<html>\\(\\displaystyle \\left[\\right]\\)</html>"
      ],
      "text/latex": [
       "$\\displaystyle \\left[\\right]$"
      ],
      "text/plain": [
       "[]"
      ]
     },
     "execution_count": 67,
     "metadata": {},
     "output_type": "execute_result"
    }
   ],
   "source": [
    "[el for el in examples if el[0].order() >= 4]"
   ]
  },
  {
   "cell_type": "code",
   "execution_count": 68,
   "metadata": {
    "vscode": {
     "languageId": "python"
    }
   },
   "outputs": [
    {
     "data": {
      "text/html": [
       "<html>\\(\\displaystyle \\left[\\right]\\)</html>"
      ],
      "text/latex": [
       "$\\displaystyle \\left[\\right]$"
      ],
      "text/plain": [
       "[]"
      ]
     },
     "execution_count": 68,
     "metadata": {},
     "output_type": "execute_result"
    }
   ],
   "source": [
    "[el for el in examples if el[0].order() == 3]"
   ]
  },
  {
   "cell_type": "code",
   "execution_count": 69,
   "metadata": {
    "vscode": {
     "languageId": "python"
    }
   },
   "outputs": [
    {
     "data": {
      "text/html": [
       "<html>\\(\\displaystyle \\left[\\right]\\)</html>"
      ],
      "text/latex": [
       "$\\displaystyle \\left[\\right]$"
      ],
      "text/plain": [
       "[]"
      ]
     },
     "execution_count": 69,
     "metadata": {},
     "output_type": "execute_result"
    }
   ],
   "source": [
    "[el for el in examples if el[0].order() == 2]"
   ]
  },
  {
   "cell_type": "code",
   "execution_count": 70,
   "metadata": {
    "vscode": {
     "languageId": "python"
    }
   },
   "outputs": [
    {
     "data": {
      "text/html": [
       "<html>\\(\\displaystyle \\left[\\left(\\left(-\\frac{1}{2} x^{2} - \\frac{3}{2} x + 3\\right) E, \\left[\\left(n^{2} + n - 8\\right) \\mathit{Sn} + 4 n^{2} - 2 n, 1\\right]\\right)\\right]\\)</html>"
      ],
      "text/latex": [
       "$\\displaystyle \\left[\\left(\\left(-\\frac{1}{2} x^{2} - \\frac{3}{2} x + 3\\right) E, \\left[\\left(n^{2} + n - 8\\right) \\mathit{Sn} + 4 n^{2} - 2 n, 1\\right]\\right)\\right]$"
      ],
      "text/plain": [
       "[((-1/2*x^2 - 3/2*x + 3)*E, [(n^2 + n - 8)*Sn + 4*n^2 - 2*n, 1])]"
      ]
     },
     "execution_count": 70,
     "metadata": {},
     "output_type": "execute_result"
    }
   ],
   "source": [
    "[el for el in examples if el[0].order() == 1]"
   ]
  },
  {
   "cell_type": "markdown",
   "metadata": {},
   "source": [
    "Here we see that we needed almost 3000 random examples to gather 50 non-trivial examples. From those, we have that only 10 have positive order. I think this is quite normal (since there is no guarantee that the solution space would have a sequence that is the interlacing of two others). However, I still think this is a valid result since this guarantees that there are not those solutions.\n",
    "\n",
    "In case we want to have all possible solutions we would need to study the whole recurrence matrix."
   ]
  },
  {
   "cell_type": "markdown",
   "metadata": {
    "jp-MarkdownHeadingCollapsed": true,
    "tags": []
   },
   "source": [
    "## 9. Analyzing the whole recursion matrix"
   ]
  },
  {
   "cell_type": "markdown",
   "metadata": {},
   "source": [
    "After the result from Section 9, we saw that the capability of taking the gcd for the first column not usually provide any result. But that is normal, since we are enforcing that only the first section is not zero. This is very restrictive. however, can we manage to handle other solutions, even if we manage them by sections?\n",
    "\n",
    "Let's start looking to Example 7.1, where we managed to get a recurrence for the first section:"
   ]
  },
  {
   "cell_type": "code",
   "execution_count": 71,
   "metadata": {
    "vscode": {
     "languageId": "python"
    }
   },
   "outputs": [
    {
     "data": {
      "text/html": [
       "<html>\\(\\displaystyle \\left(\\begin{array}{rr}\n",
       "\\left(n + 1\\right) \\mathit{Sn} - n - 1 & -3 n \\mathit{Sni} + \\frac{3 n^{2} + 3 n + 1}{n + 1} \\\\\n",
       "\\left(3 n + 3\\right) \\mathit{Sn} - 3 n - 3 & \\left(\\frac{n^{2} + 2 n + 1}{n + 2}\\right) \\mathit{Sn} - n\n",
       "\\end{array}\\right)\\)</html>"
      ],
      "text/latex": [
       "$\\displaystyle \\left(\\begin{array}{rr}\n",
       "\\left(n + 1\\right) \\mathit{Sn} - n - 1 & -3 n \\mathit{Sni} + \\frac{3 n^{2} + 3 n + 1}{n + 1} \\\\\n",
       "\\left(3 n + 3\\right) \\mathit{Sn} - 3 n - 3 & \\left(\\frac{n^{2} + 2 n + 1}{n + 2}\\right) \\mathit{Sn} - n\n",
       "\\end{array}\\right)$"
      ],
      "text/plain": [
       "[                 (n + 1)*Sn + (-n - 1) (-3*n)*Sni + (3*n^2 + 3*n + 1)/(n + 1)]\n",
       "[             (3*n + 3)*Sn + (-3*n - 3)      (n^2 + 2*n + 1)/(n + 2)*Sn + (-n)]"
      ]
     },
     "execution_count": 71,
     "metadata": {},
     "output_type": "execute_result"
    }
   ],
   "source": [
    "basis_7_1 = ProductBasis([BinomialBasis(), BinomialBasis()])\n",
    "M = basis_7_1.recurrence(example_7_1); M"
   ]
  },
  {
   "cell_type": "markdown",
   "metadata": {},
   "source": [
    "This is a system of linear recurrences. We can write it in such a way that is a first order recurrence system:"
   ]
  },
  {
   "cell_type": "code",
   "execution_count": 72,
   "metadata": {
    "vscode": {
     "languageId": "python"
    }
   },
   "outputs": [
    {
     "ename": "TypeError",
     "evalue": "bad operand type for unary -: 'list'",
     "output_type": "error",
     "traceback": [
      "\u001b[0;31m---------------------------------------------------------------------------\u001b[0m",
      "\u001b[0;31mTypeError\u001b[0m                                 Traceback (most recent call last)",
      "\u001b[0;32m/tmp/ipykernel_24761/985968137.py\u001b[0m in \u001b[0;36m<module>\u001b[0;34m\u001b[0m\n\u001b[0;32m----> 1\u001b[0;31m \u001b[0mbasis_7_1\u001b[0m\u001b[0;34m.\u001b[0m\u001b[0msystem\u001b[0m\u001b[0;34m(\u001b[0m\u001b[0mexample_7_1\u001b[0m\u001b[0;34m)\u001b[0m\u001b[0;34m\u001b[0m\u001b[0;34m\u001b[0m\u001b[0m\n\u001b[0m",
      "\u001b[0;32m~/sage/local/var/lib/sage/venv-python3.8/lib/python3.8/site-packages/pseries_basis/psbasis.py\u001b[0m in \u001b[0;36msystem\u001b[0;34m(self, operator, sections)\u001b[0m\n\u001b[1;32m   1552\u001b[0m         \u001b[0;32mfor\u001b[0m \u001b[0mi\u001b[0m \u001b[0;32min\u001b[0m \u001b[0mrange\u001b[0m\u001b[0;34m(\u001b[0m\u001b[0mlen\u001b[0m\u001b[0;34m(\u001b[0m\u001b[0mmatrices\u001b[0m\u001b[0;34m)\u001b[0m\u001b[0;34m-\u001b[0m\u001b[0;36m2\u001b[0m\u001b[0;34m)\u001b[0m\u001b[0;34m:\u001b[0m\u001b[0;34m\u001b[0m\u001b[0;34m\u001b[0m\u001b[0m\n\u001b[1;32m   1553\u001b[0m             \u001b[0mrows\u001b[0m \u001b[0;34m+=\u001b[0m \u001b[0;34m[\u001b[0m\u001b[0;34m(\u001b[0m\u001b[0mi\u001b[0m\u001b[0;34m+\u001b[0m\u001b[0;36m1\u001b[0m\u001b[0;34m)\u001b[0m\u001b[0;34m*\u001b[0m\u001b[0;34m[\u001b[0m\u001b[0;36m0\u001b[0m\u001b[0;34m]\u001b[0m \u001b[0;34m+\u001b[0m \u001b[0;34m[\u001b[0m\u001b[0;36m1\u001b[0m\u001b[0;34m]\u001b[0m \u001b[0;34m+\u001b[0m \u001b[0;34m(\u001b[0m\u001b[0mlen\u001b[0m\u001b[0;34m(\u001b[0m\u001b[0mmatrices\u001b[0m\u001b[0;34m)\u001b[0m\u001b[0;34m-\u001b[0m\u001b[0mi\u001b[0m\u001b[0;34m-\u001b[0m\u001b[0;36m3\u001b[0m\u001b[0;34m)\u001b[0m\u001b[0;34m*\u001b[0m\u001b[0;34m[\u001b[0m\u001b[0;36m0\u001b[0m\u001b[0;34m]\u001b[0m\u001b[0;34m]\u001b[0m\u001b[0;34m\u001b[0m\u001b[0;34m\u001b[0m\u001b[0m\n\u001b[0;32m-> 1554\u001b[0;31m         \u001b[0mrows\u001b[0m \u001b[0;34m+=\u001b[0m \u001b[0;34m[\u001b[0m\u001b[0;34m-\u001b[0m\u001b[0mmatrices\u001b[0m\u001b[0;34m[\u001b[0m\u001b[0;34m:\u001b[0m\u001b[0;34m-\u001b[0m\u001b[0;36m1\u001b[0m\u001b[0;34m]\u001b[0m\u001b[0;34m]\u001b[0m\u001b[0;34m\u001b[0m\u001b[0;34m\u001b[0m\u001b[0m\n\u001b[0m\u001b[1;32m   1555\u001b[0m         \u001b[0;32mreturn\u001b[0m \u001b[0mblock_matrix\u001b[0m\u001b[0;34m(\u001b[0m\u001b[0mself\u001b[0m\u001b[0;34m.\u001b[0m\u001b[0mOB\u001b[0m\u001b[0;34m(\u001b[0m\u001b[0;34m)\u001b[0m\u001b[0;34m,\u001b[0m \u001b[0mrows\u001b[0m\u001b[0;34m)\u001b[0m\u001b[0;34m\u001b[0m\u001b[0;34m\u001b[0m\u001b[0m\n\u001b[1;32m   1556\u001b[0m \u001b[0;34m\u001b[0m\u001b[0m\n",
      "\u001b[0;31mTypeError\u001b[0m: bad operand type for unary -: 'list'"
     ]
    }
   ],
   "source": [
    "basis_7_1.system(example_7_1)"
   ]
  },
  {
   "cell_type": "code",
   "execution_count": null,
   "metadata": {
    "vscode": {
     "languageId": "python"
    }
   },
   "outputs": [],
   "source": []
  }
 ],
 "metadata": {
  "kernelspec": {
   "display_name": "SageMath 9.7",
   "language": "sage",
   "name": "sagemath"
  },
  "language_info": {
   "codemirror_mode": {
    "name": "ipython",
    "version": 3
   },
   "file_extension": ".py",
   "mimetype": "text/x-python",
   "name": "python",
   "nbconvert_exporter": "python",
   "pygments_lexer": "ipython3",
   "version": "3.10.5"
  },
  "vscode": {
   "interpreter": {
    "hash": "6ac2281d5d3bc9c8602ecc880f52072697a1724cb71e545962e9e2106a72a94b"
   }
  }
 },
 "nbformat": 4,
 "nbformat_minor": 4
}
